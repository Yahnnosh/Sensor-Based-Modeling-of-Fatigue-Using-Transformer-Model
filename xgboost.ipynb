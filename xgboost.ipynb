{
 "cells": [
  {
   "cell_type": "code",
   "execution_count": 16,
   "metadata": {},
   "outputs": [],
   "source": [
    "import numpy as np\n",
    "import json\n",
    "from sklearn.preprocessing import StandardScaler\n",
    "import xgboost as xgb\n",
    "import warnings\n",
    "from evaluator import *"
   ]
  },
  {
   "cell_type": "code",
   "execution_count": 17,
   "outputs": [],
   "source": [
    "VARIABLES = ['ActivityCounts', 'Barometer', 'BloodPerfusion',\n",
    "             'BloodPulseWave', 'EnergyExpenditure', 'GalvanicSkinResponse', 'HR',\n",
    "             'HRV', 'RESP', 'Steps', 'SkinTemperature', 'ActivityClass']"
   ],
   "metadata": {
    "collapsed": false
   }
  },
  {
   "cell_type": "markdown",
   "source": [
    "# Import data"
   ],
   "metadata": {
    "collapsed": false
   }
  },
  {
   "cell_type": "code",
   "execution_count": 18,
   "outputs": [],
   "source": [
    "# file path to data folder\n",
    "path = './Output'"
   ],
   "metadata": {
    "collapsed": false
   }
  },
  {
   "cell_type": "markdown",
   "source": [
    "Metadata (subjectID etc.)"
   ],
   "metadata": {
    "collapsed": false
   }
  },
  {
   "cell_type": "code",
   "execution_count": 19,
   "outputs": [],
   "source": [
    "with open(path + '/metadata_stat.txt') as f:\n",
    "    metadata = f.read()\n",
    "\n",
    "metadata = json.loads(metadata.replace('\\'', '\\\"').replace('False', 'false').replace('True', 'true')) # doesn't accept other chars"
   ],
   "metadata": {
    "collapsed": false
   }
  },
  {
   "cell_type": "code",
   "execution_count": 20,
   "outputs": [],
   "source": [
    "subjects = [meta['subjectID'] for meta in metadata]"
   ],
   "metadata": {
    "collapsed": false
   }
  },
  {
   "cell_type": "markdown",
   "source": [
    "# XGBoost"
   ],
   "metadata": {
    "collapsed": false
   }
  },
  {
   "cell_type": "code",
   "execution_count": 21,
   "outputs": [],
   "source": [
    "class XGBoost:\n",
    "\n",
    "    def __init__(self, path, variable):\n",
    "        self.SEED = 42\n",
    "        self.model = xgb.XGBClassifier(random_state=self.SEED, verbosity=0)\n",
    "        self.path = path\n",
    "        assert variable in (0, 1)\n",
    "        self.variable = variable\n",
    "        self.normalizer = StandardScaler()\n",
    "\n",
    "    def load_data(self, indices):\n",
    "        # load shape\n",
    "        N = len(indices)\n",
    "        N_FEATURES = np.load(self.path + '/feature_vector_stat0.npy').shape[0]\n",
    "\n",
    "        # init\n",
    "        X = np.empty((N, N_FEATURES))\n",
    "        y = np.empty(N)\n",
    "\n",
    "        # load individual datapoints\n",
    "        for i, index in enumerate(indices):\n",
    "            X[i, ] = np.load(path + f'/feature_vector_stat{index}.npy', allow_pickle=True)\n",
    "            y[i, ] = np.load(path + f'/labels_stat{index}.npy', allow_pickle=True)[self.variable]\n",
    "\n",
    "        return X, y\n",
    "\n",
    "    def fit(self, train_indices):\n",
    "        # load data\n",
    "        X_train, y_train = self.load_data(train_indices)\n",
    "\n",
    "        # normalize training set\n",
    "        self.normalizer.fit(X_train) # fit accord. to training set\n",
    "        X_train = self.normalizer.transform(X_train, copy=True)\n",
    "\n",
    "        self.model.fit(X_train, y_train)\n",
    "\n",
    "    def predict(self, test_indices):\n",
    "        # load data\n",
    "        X_test, _ = self.load_data(test_indices)\n",
    "\n",
    "        # normalize test set\n",
    "        X_test = self.normalizer.transform(X_test, copy=True)\n",
    "\n",
    "        return self.model.predict(X_test)"
   ],
   "metadata": {
    "collapsed": false
   }
  },
  {
   "cell_type": "markdown",
   "source": [
    "# CV"
   ],
   "metadata": {
    "collapsed": false
   }
  },
  {
   "cell_type": "code",
   "execution_count": 22,
   "outputs": [
    {
     "name": "stdout",
     "output_type": "stream",
     "text": [
      "Starting stratified group 5-fold for physical fatigue\n"
     ]
    },
    {
     "name": "stderr",
     "output_type": "stream",
     "text": [
      " Fold 5 F1: 0.37543391188250996: 100%|██████████| 5/5 [00:00<00:00,  6.32it/s]\n"
     ]
    },
    {
     "name": "stdout",
     "output_type": "stream",
     "text": [
      "Performance model:\n",
      " accuracy: 0.741 +- 0.145 \n",
      "\n",
      " balanced_accuracy: 0.568 +- 0.08 \n",
      "\n",
      " f1: 0.69 +- 0.198 \n",
      "\n",
      " recall: 0.741 +- 0.145 \n",
      "\n",
      " precision: 0.683 +- 0.219 \n",
      "\n",
      "Starting stratified 5-fold for physical fatigue\n"
     ]
    },
    {
     "name": "stderr",
     "output_type": "stream",
     "text": [
      " Fold 5 F1: 0.7210884353741497: 100%|██████████| 5/5 [00:00<00:00,  5.75it/s]\n"
     ]
    },
    {
     "name": "stdout",
     "output_type": "stream",
     "text": [
      "Performance model:\n",
      " accuracy: 0.789 +- 0.033 \n",
      "\n",
      " balanced_accuracy: 0.64 +- 0.051 \n",
      "\n",
      " f1: 0.765 +- 0.038 \n",
      "\n",
      " recall: 0.789 +- 0.033 \n",
      "\n",
      " precision: 0.771 +- 0.046 \n",
      "\n",
      "Starting leave-one-subject-out for physical fatigue\n"
     ]
    },
    {
     "name": "stderr",
     "output_type": "stream",
     "text": [
      " Fold 21 F1: 0.41666666666666663: 100%|██████████| 21/21 [00:03<00:00,  6.25it/s]\n"
     ]
    },
    {
     "name": "stdout",
     "output_type": "stream",
     "text": [
      "Performance model:\n",
      " accuracy: 0.596 +- 0.295 \n",
      "\n",
      " balanced_accuracy: 0.532 +- 0.278 \n",
      "\n",
      " f1: 0.572 +- 0.32 \n",
      "\n",
      " recall: 0.596 +- 0.295 \n",
      "\n",
      " precision: 0.596 +- 0.345 \n",
      "\n",
      "Starting stratified group 5-fold for mental fatigue\n"
     ]
    },
    {
     "name": "stderr",
     "output_type": "stream",
     "text": [
      " Fold 5 F1: 0.38888888888888884: 100%|██████████| 5/5 [00:00<00:00,  7.26it/s]\n"
     ]
    },
    {
     "name": "stdout",
     "output_type": "stream",
     "text": [
      "Performance model:\n",
      " accuracy: 0.647 +- 0.137 \n",
      "\n",
      " balanced_accuracy: 0.504 +- 0.054 \n",
      "\n",
      " f1: 0.561 +- 0.167 \n",
      "\n",
      " recall: 0.647 +- 0.137 \n",
      "\n",
      " precision: 0.546 +- 0.197 \n",
      "\n",
      "Starting stratified 5-fold for mental fatigue\n"
     ]
    },
    {
     "name": "stderr",
     "output_type": "stream",
     "text": [
      " Fold 5 F1: 0.6656058323317477: 100%|██████████| 5/5 [00:00<00:00,  6.79it/s]\n"
     ]
    },
    {
     "name": "stdout",
     "output_type": "stream",
     "text": [
      "Performance model:\n",
      " accuracy: 0.691 +- 0.02 \n",
      "\n",
      " balanced_accuracy: 0.558 +- 0.025 \n",
      "\n",
      " f1: 0.648 +- 0.022 \n",
      "\n",
      " recall: 0.691 +- 0.02 \n",
      "\n",
      " precision: 0.652 +- 0.031 \n",
      "\n",
      "Starting leave-one-subject-out for mental fatigue\n"
     ]
    },
    {
     "name": "stderr",
     "output_type": "stream",
     "text": [
      " Fold 21 F1: 0.2727272727272727: 100%|██████████| 21/21 [00:03<00:00,  5.69it/s] "
     ]
    },
    {
     "name": "stdout",
     "output_type": "stream",
     "text": [
      "Performance model:\n",
      " accuracy: 0.57 +- 0.263 \n",
      "\n",
      " balanced_accuracy: 0.496 +- 0.234 \n",
      "\n",
      " f1: 0.537 +- 0.273 \n",
      "\n",
      " recall: 0.57 +- 0.263 \n",
      "\n",
      " precision: 0.585 +- 0.323 \n",
      "\n"
     ]
    },
    {
     "name": "stderr",
     "output_type": "stream",
     "text": [
      "\n"
     ]
    }
   ],
   "source": [
    "with warnings.catch_warnings():\n",
    "    warnings.filterwarnings('ignore')\n",
    "\n",
    "    for variable in (0, 1): # phF, MF\n",
    "        model = XGBoost(path, variable=0)\n",
    "\n",
    "        scores_strat_group_k_fold = stratified_group_k_fold(path=path,\n",
    "                                                            groups=subjects,\n",
    "                                                            model=model,\n",
    "                                                            folds=5,\n",
    "                                                            images=False,\n",
    "                                                            verbose=True,\n",
    "                                                            variable=variable)\n",
    "\n",
    "        scores_strat_k_fold = stratified_k_fold(path=path,\n",
    "                                                groups=subjects,\n",
    "                                                model=model,\n",
    "                                                folds=5,\n",
    "                                                images=False,\n",
    "                                                verbose=True,\n",
    "                                                variable=variable)\n",
    "\n",
    "        scores_loso = leave_one_subject_out(path=path,\n",
    "                                                groups=subjects,\n",
    "                                                model=model,\n",
    "                                                images=False,\n",
    "                                                verbose=True,\n",
    "                                                variable=variable)"
   ],
   "metadata": {
    "collapsed": false
   }
  }
 ],
 "metadata": {
  "kernelspec": {
   "display_name": "Python 3 (ipykernel)",
   "language": "python",
   "name": "python3"
  },
  "language_info": {
   "codemirror_mode": {
    "name": "ipython",
    "version": 3
   },
   "file_extension": ".py",
   "mimetype": "text/x-python",
   "name": "python",
   "nbconvert_exporter": "python",
   "pygments_lexer": "ipython3",
   "version": "3.10.6"
  }
 },
 "nbformat": 4,
 "nbformat_minor": 1
}
