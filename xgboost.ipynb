{
 "cells": [
  {
   "cell_type": "code",
   "execution_count": 15,
   "metadata": {},
   "outputs": [],
   "source": [
    "import numpy as np\n",
    "import matplotlib.pyplot as plt\n",
    "from tqdm import tqdm\n",
    "import json\n",
    "from sklearn.preprocessing import StandardScaler\n",
    "from sklearn.model_selection import StratifiedKFold, LeaveOneGroupOut\n",
    "from sklearn.metrics import accuracy_score, balanced_accuracy_score, f1_score, precision_score, recall_score, confusion_matrix, ConfusionMatrixDisplay\n",
    "import xgboost as xgb\n",
    "import warnings\n",
    "import os"
   ]
  },
  {
   "cell_type": "code",
   "execution_count": 16,
   "outputs": [],
   "source": [
    "def evaluator(y_pred, y_test, verbose=False):\n",
    "    \"\"\"Returns evaluation metric scores\"\"\"\n",
    "    accuracy = accuracy_score(y_pred=y_pred, y_true=y_test)\n",
    "    balanced_accuracy = balanced_accuracy_score(y_pred=y_pred, y_true=y_test)\n",
    "    f1 = f1_score(y_pred=y_pred, y_true=y_test, average='weighted')\n",
    "    recall = recall_score(y_pred=y_pred, y_true=y_test, average='weighted')\n",
    "    precision = precision_score(y_pred=y_pred, y_true=y_test, average='weighted')\n",
    "    confusion = confusion_matrix(y_pred=y_pred, y_true=y_test)\n",
    "\n",
    "    # display scores\n",
    "    if verbose:\n",
    "        ConfusionMatrixDisplay(confusion_matrix=confusion, display_labels=[False, True]).plot(cmap=plt.cm.Blues)\n",
    "        plt.title('Physical fatigue')\n",
    "\n",
    "        print(f'accuracy: {accuracy}\\n'\n",
    "              f'balanced accuracy: {balanced_accuracy}\\n'\n",
    "              f'f1 (weighted): {f1}\\n'\n",
    "              f'recall (weighted): {recall}\\n'\n",
    "              f'precision (weighted): {precision}')\n",
    "\n",
    "    return {'accuracy': accuracy,\n",
    "            'balanced_accuracy': balanced_accuracy,\n",
    "            'f1': f1,\n",
    "            'recall': recall,\n",
    "            'precision': precision,\n",
    "            'confusion': confusion}"
   ],
   "metadata": {
    "collapsed": false
   }
  },
  {
   "cell_type": "code",
   "execution_count": 17,
   "outputs": [],
   "source": [
    "VARIABLES = ['ActivityCounts', 'Barometer', 'BloodPerfusion',\n",
    "             'BloodPulseWave', 'EnergyExpenditure', 'GalvanicSkinResponse', 'HR',\n",
    "             'HRV', 'RESP', 'Steps', 'SkinTemperature', 'ActivityClass']"
   ],
   "metadata": {
    "collapsed": false
   }
  },
  {
   "cell_type": "code",
   "execution_count": 18,
   "outputs": [],
   "source": [
    "NORMALIZE_TRAIN = True # whether to normalize data acc. to training data\n",
    "SHUFFLE = True # whether to shuffle data before applying CV"
   ],
   "metadata": {
    "collapsed": false
   }
  },
  {
   "cell_type": "code",
   "execution_count": 19,
   "outputs": [],
   "source": [
    "# for reproducability\n",
    "SEED = 42"
   ],
   "metadata": {
    "collapsed": false
   }
  },
  {
   "cell_type": "markdown",
   "source": [
    "# Import data"
   ],
   "metadata": {
    "collapsed": false
   }
  },
  {
   "cell_type": "code",
   "execution_count": 20,
   "outputs": [],
   "source": [
    "# file path to data folder\n",
    "path = './Output'"
   ],
   "metadata": {
    "collapsed": false
   }
  },
  {
   "cell_type": "code",
   "execution_count": 21,
   "outputs": [
    {
     "name": "stdout",
     "output_type": "stream",
     "text": [
      "datapoints: 317, features: 284\n"
     ]
    }
   ],
   "source": [
    "N, FEATURES = sum([1 for p in os.listdir(path) if p[:19] == 'feature_vector_stat']), \\\n",
    "              *np.load(path + '/feature_vector_stat0.npy').shape\n",
    "print(f'datapoints: {N}, features: {FEATURES}')"
   ],
   "metadata": {
    "collapsed": false
   }
  },
  {
   "cell_type": "markdown",
   "source": [
    "Feature vector, labels"
   ],
   "metadata": {
    "collapsed": false
   }
  },
  {
   "cell_type": "code",
   "execution_count": 22,
   "outputs": [],
   "source": [
    "# init\n",
    "X = np.empty((N, FEATURES))\n",
    "y = np.empty((N, 2))\n",
    "\n",
    "# load individual datapoints\n",
    "for i in range(N):\n",
    "    X[i, ] = np.load(path + f'/feature_vector_stat{i}.npy', allow_pickle=True)\n",
    "    y[i, ] = np.load(path + f'/labels_stat{i}.npy', allow_pickle=True)"
   ],
   "metadata": {
    "collapsed": false
   }
  },
  {
   "cell_type": "markdown",
   "source": [
    "Metadata (subjectID etc.)"
   ],
   "metadata": {
    "collapsed": false
   }
  },
  {
   "cell_type": "code",
   "execution_count": 23,
   "outputs": [],
   "source": [
    "with open(path + '/metadata_stat.txt') as f:\n",
    "    metadata = f.read()\n",
    "\n",
    "metadata = json.loads(metadata.replace('\\'', '\\\"').replace('False', 'false').replace('True', 'true')) # doesn't accept other chars"
   ],
   "metadata": {
    "collapsed": false
   }
  },
  {
   "cell_type": "markdown",
   "source": [
    "# XGBoost"
   ],
   "metadata": {
    "collapsed": false
   }
  },
  {
   "cell_type": "markdown",
   "source": [
    "### 5-fold stratified CV"
   ],
   "metadata": {
    "collapsed": false
   }
  },
  {
   "cell_type": "code",
   "execution_count": 24,
   "outputs": [],
   "source": [
    "# separate label prediction\n",
    "y_phf, y_mf = y[:, 0], y[:, 1]"
   ],
   "metadata": {
    "collapsed": false
   }
  },
  {
   "cell_type": "code",
   "execution_count": 27,
   "outputs": [
    {
     "name": "stdout",
     "output_type": "stream",
     "text": [
      "Starting cross-validation for Physical fatigue\n"
     ]
    },
    {
     "name": "stderr",
     "output_type": "stream",
     "text": [
      " Fold 5 F1: 0.7142857142857143: 100%|██████████| 5/5 [00:00<00:00,  7.55it/s]\n"
     ]
    },
    {
     "name": "stdout",
     "output_type": "stream",
     "text": [
      "Performance model:\n",
      " accuracy: 0.785 +- 0.053 \n",
      "\n",
      " balanced_accuracy: 0.65 +- 0.058 \n",
      "\n",
      " f1: 0.768 +- 0.05 \n",
      "\n",
      " recall: 0.785 +- 0.053 \n",
      "\n",
      " precision: 0.778 +- 0.054 \n",
      "\n",
      "Starting cross-validation for Mental fatigue\n"
     ]
    },
    {
     "name": "stderr",
     "output_type": "stream",
     "text": [
      " Fold 5 F1: 0.6880952380952382: 100%|██████████| 5/5 [00:00<00:00,  6.07it/s]"
     ]
    },
    {
     "name": "stdout",
     "output_type": "stream",
     "text": [
      "Performance model:\n",
      " accuracy: 0.726 +- 0.046 \n",
      "\n",
      " balanced_accuracy: 0.619 +- 0.072 \n",
      "\n",
      " f1: 0.697 +- 0.061 \n",
      "\n",
      " recall: 0.726 +- 0.046 \n",
      "\n",
      " precision: 0.7 +- 0.059 \n",
      "\n",
      "CPU times: total: 10.2 s\n",
      "Wall time: 1.49 s\n"
     ]
    },
    {
     "name": "stderr",
     "output_type": "stream",
     "text": [
      "\n"
     ]
    }
   ],
   "source": [
    "%%time\n",
    "# nested CV\n",
    "folds = 5\n",
    "\n",
    "with warnings.catch_warnings():\n",
    "    # ignore sklearn warning\n",
    "    warnings.filterwarnings('ignore')\n",
    "\n",
    "    for fatigue in ('Physical fatigue', 'Mental fatigue'):\n",
    "        # load labels\n",
    "        print(f'Starting cross-validation for {fatigue}')\n",
    "        y_ = {'Physical fatigue': y_phf, 'Mental fatigue': y_mf}[fatigue] # pick phF or MF\n",
    "\n",
    "        # CV: performance evaluation\n",
    "        cv = StratifiedKFold(n_splits=folds, shuffle=True, random_state=SEED) if SHUFFLE \\\n",
    "            else StratifiedKFold(n_splits=folds)\n",
    "        scores_cv = []\n",
    "        with tqdm(total=folds) as pbar:\n",
    "            for i, (train_outer_index, test_outer_index) in enumerate(cv.split(X, y_)):\n",
    "                # train/test split\n",
    "                X_train, X_test = X[train_outer_index], X[test_outer_index]\n",
    "                y_train, y_test = y_[train_outer_index], y_[test_outer_index]\n",
    "\n",
    "                # normalize features (acc.to train set)\n",
    "                if NORMALIZE_TRAIN:\n",
    "                    scaler = StandardScaler()\n",
    "                    scaler.fit(X_train)\n",
    "                    X_train = scaler.transform(X_train, copy=True)\n",
    "                    X_test = scaler.transform(X_test, copy=True)\n",
    "\n",
    "                # model\n",
    "                model = xgb.XGBClassifier(random_state=SEED, verbosity=0)\n",
    "\n",
    "                # training\n",
    "                model.fit(X_train, y_train)\n",
    "\n",
    "                # evaluate\n",
    "                y_pred = model.predict(X_test)\n",
    "                scores = evaluator(y_pred, y_test, verbose=False)\n",
    "                scores_cv.append(scores)\n",
    "\n",
    "                # for progress bar\n",
    "                pbar.update(1)\n",
    "                pbar.set_description(f' Fold {i+1} F1: {scores[\"f1\"]}')\n",
    "\n",
    "        # final evaluation\n",
    "        print('Performance model:')\n",
    "        metrics = scores_cv[0].keys()\n",
    "        for metric in metrics:\n",
    "            # ignore confusion_matrix\n",
    "            if metric == 'confusion':\n",
    "                continue\n",
    "            mean = np.mean([scores_cv_i[metric] for scores_cv_i in scores_cv])\n",
    "            std = np.std([scores_cv_i[metric] for scores_cv_i in scores_cv])\n",
    "            print(f' {metric}: {round(mean, 3)} +- {round(std, 3)} \\n')"
   ],
   "metadata": {
    "collapsed": false
   }
  },
  {
   "cell_type": "markdown",
   "source": [
    "### Leave-one-subject-out (LOSO)"
   ],
   "metadata": {
    "collapsed": false
   }
  },
  {
   "cell_type": "code",
   "execution_count": 28,
   "outputs": [
    {
     "name": "stdout",
     "output_type": "stream",
     "text": [
      "Subjects: [ 3  4  5  7  9 10 12 13 14 15 16 17 19 20 21 22 23 24 25 26 27]\n",
      "Total subjects: 21\n"
     ]
    }
   ],
   "source": [
    "subjects = [meta['subjectID'] for meta in metadata]\n",
    "print(f'Subjects: {np.unique(subjects)}')\n",
    "print(f'Total subjects: {len(np.unique(subjects))}')"
   ],
   "metadata": {
    "collapsed": false
   }
  },
  {
   "cell_type": "code",
   "execution_count": 29,
   "outputs": [
    {
     "name": "stdout",
     "output_type": "stream",
     "text": [
      "Starting cross-validation for Physical fatigue\n"
     ]
    },
    {
     "name": "stderr",
     "output_type": "stream",
     "text": [
      " Fold 21 F1: 0.3409090909090909: 100%|██████████| 21/21 [00:03<00:00,  6.91it/s] \n"
     ]
    },
    {
     "name": "stdout",
     "output_type": "stream",
     "text": [
      "Performance model:\n",
      " accuracy: 0.617 +- 0.313 \n",
      "\n",
      " balanced_accuracy: 0.557 +- 0.298 \n",
      "\n",
      " f1: 0.598 +- 0.327 \n",
      "\n",
      " recall: 0.617 +- 0.313 \n",
      "\n",
      " precision: 0.625 +- 0.352 \n",
      "\n",
      "Starting cross-validation for Mental fatigue\n"
     ]
    },
    {
     "name": "stderr",
     "output_type": "stream",
     "text": [
      " Fold 21 F1: 0.7333333333333334: 100%|██████████| 21/21 [00:03<00:00,  6.32it/s]"
     ]
    },
    {
     "name": "stdout",
     "output_type": "stream",
     "text": [
      "Performance model:\n",
      " accuracy: 0.617 +- 0.26 \n",
      "\n",
      " balanced_accuracy: 0.544 +- 0.271 \n",
      "\n",
      " f1: 0.616 +- 0.262 \n",
      "\n",
      " recall: 0.617 +- 0.26 \n",
      "\n",
      " precision: 0.663 +- 0.291 \n",
      "\n",
      "CPU times: total: 50.3 s\n",
      "Wall time: 6.37 s\n"
     ]
    },
    {
     "name": "stderr",
     "output_type": "stream",
     "text": [
      "\n"
     ]
    }
   ],
   "source": [
    "%%time\n",
    "# nested CV\n",
    "groups = subjects\n",
    "folds = len(np.unique(subjects))\n",
    "\n",
    "with warnings.catch_warnings():\n",
    "    # ignore sklearn warning\n",
    "    warnings.filterwarnings('ignore')\n",
    "\n",
    "    for fatigue in ('Physical fatigue', 'Mental fatigue'):\n",
    "        # load labels\n",
    "        print(f'Starting cross-validation for {fatigue}')\n",
    "        y_ = {'Physical fatigue': y_phf, 'Mental fatigue': y_mf}[fatigue] # pick phF or MF\n",
    "\n",
    "        # CV: performance evaluation\n",
    "        cv = LeaveOneGroupOut()\n",
    "        scores_cv = []\n",
    "        with tqdm(total=folds) as pbar:\n",
    "            for i, (train_outer_index, test_outer_index) in enumerate(cv.split(X, y_, groups)):\n",
    "                # train/test split\n",
    "                X_train, X_test = X[train_outer_index], X[test_outer_index]\n",
    "                y_train, y_test = y_[train_outer_index], y_[test_outer_index]\n",
    "\n",
    "                # normalize features (acc.to train set)\n",
    "                if NORMALIZE_TRAIN:\n",
    "                    scaler = StandardScaler()\n",
    "                    scaler.fit(X_train)\n",
    "                    X_train = scaler.transform(X_train, copy=True)\n",
    "                    X_test = scaler.transform(X_test, copy=True)\n",
    "\n",
    "                # model\n",
    "                model = xgb.XGBClassifier(random_state=SEED, verbosity=0)\n",
    "\n",
    "                # training\n",
    "                model.fit(X_train, y_train)\n",
    "\n",
    "                # evaluate\n",
    "                y_pred = model.predict(X_test)\n",
    "                scores = evaluator(y_pred, y_test, verbose=False)\n",
    "                scores_cv.append(scores)\n",
    "\n",
    "                # for progress bar\n",
    "                pbar.update(1)\n",
    "                pbar.set_description(f' Fold {i+1} F1: {scores[\"f1\"]}')\n",
    "\n",
    "        # final evaluation\n",
    "        print('Performance model:')\n",
    "        metrics = scores_cv[0].keys()\n",
    "        for metric in metrics:\n",
    "            # ignore confusion_matrix\n",
    "            if metric == 'confusion':\n",
    "                continue\n",
    "            mean = np.mean([scores_cv_i[metric] for scores_cv_i in scores_cv])\n",
    "            std = np.std([scores_cv_i[metric] for scores_cv_i in scores_cv])\n",
    "            print(f' {metric}: {round(mean, 3)} +- {round(std, 3)} \\n')"
   ],
   "metadata": {
    "collapsed": false
   }
  },
  {
   "cell_type": "code",
   "execution_count": null,
   "outputs": [],
   "source": [],
   "metadata": {
    "collapsed": false,
    "pycharm": {
     "name": "#%%\n"
    }
   }
  }
 ],
 "metadata": {
  "kernelspec": {
   "display_name": "Python 3 (ipykernel)",
   "language": "python",
   "name": "python3"
  },
  "language_info": {
   "codemirror_mode": {
    "name": "ipython",
    "version": 3
   },
   "file_extension": ".py",
   "mimetype": "text/x-python",
   "name": "python",
   "nbconvert_exporter": "python",
   "pygments_lexer": "ipython3",
   "version": "3.10.6"
  }
 },
 "nbformat": 4,
 "nbformat_minor": 1
}