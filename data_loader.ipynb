{
 "cells": [
  {
   "cell_type": "code",
   "execution_count": 1,
   "metadata": {
    "collapsed": true
   },
   "outputs": [],
   "source": [
    "import pandas as pd\n",
    "from pandasql import sqldf\n",
    "import math"
   ]
  },
  {
   "cell_type": "markdown",
   "source": [
    "# Import data"
   ],
   "metadata": {
    "collapsed": false
   }
  },
  {
   "cell_type": "code",
   "execution_count": 10,
   "outputs": [],
   "source": [
    "paths = {'windows': 'C:/Users/jjung/iCloudDrive/ETH/MSc 3rd semester/Semester project/Data',\n",
    "         'macOS': '/Users/janoschjungo/Library/Mobile Documents/com~apple~CloudDocs/ETH/MSc 3rd semester/Semester project/Data'}\n",
    "path = paths['windows']\n",
    "\n",
    "# import physiological data\n",
    "physio = pd.DataFrame()\n",
    "for subjectID in range(1, 28):\n",
    "    # load physiological data for subject\n",
    "    try:\n",
    "        file = path + f'/subjectID_{subjectID}.csv'\n",
    "        physio_subject = pd.read_csv(file)\n",
    "    except FileNotFoundError:\n",
    "        path = paths['macOS']\n",
    "        file = path + f'/subjectID_{subjectID}.csv'\n",
    "        physio_subject = pd.read_csv(file)\n",
    "    n_entries = physio_subject.shape[0]\n",
    "    physio_subject['SubjectID'] = [subjectID for i in range(n_entries)]\n",
    "\n",
    "    # clean column names (dataset contains different column names per subject)\n",
    "    if 'SkinTemperature.Value' in physio_subject.columns:\n",
    "        physio_subject = physio_subject.rename(columns={'SkinTemperature.Value': 'SkinTemperature'}, errors='raise')\n",
    "\n",
    "    # combine all subject data\n",
    "    physio = pd.concat([physio, physio_subject])\n",
    "\n",
    "# import fatigue (PROs) data\n",
    "fatigue = pd.read_csv(path + '/fatiguePROs.csv')"
   ],
   "metadata": {
    "collapsed": false,
    "pycharm": {
     "name": "#%%\n"
    }
   }
  },
  {
   "cell_type": "markdown",
   "source": [
    "# Convert data"
   ],
   "metadata": {
    "collapsed": false
   }
  },
  {
   "cell_type": "markdown",
   "source": [
    "# a) Fatigue (PROs) data"
   ],
   "metadata": {
    "collapsed": false
   }
  },
  {
   "cell_type": "code",
   "execution_count": 151,
   "outputs": [
    {
     "data": {
      "text/plain": "      subjectID       timestamp timezone   VAS    phF         MF    ReIP sport\n0             1  14.03.19 20:01      UTC   2.0   <NA>       <NA>    <NA>  <NA>\n1             1  14.03.19 20:01      UTC  <NA>   <NA>       <NA>   Worse  <NA>\n2             1  14.03.19 20:01      UTC  <NA>  Never       <NA>    <NA>  <NA>\n3             1  14.03.19 20:01      UTC  <NA>   <NA>  Sometimes    <NA>  <NA>\n4             1  14.03.19 20:01      UTC  <NA>   <NA>       <NA>    <NA>    No\n...         ...             ...      ...   ...    ...        ...     ...   ...\n2266         28  16.08.18 00:51     CEST  <NA>   <NA>  Sometimes    <NA>  <NA>\n2267         28  16.08.18 00:52     CEST   4.0   <NA>       <NA>    <NA>  <NA>\n2268         28  16.08.18 00:52     CEST  <NA>   <NA>       <NA>  Better  <NA>\n2269         28  16.08.18 00:52     CEST  <NA>  Never       <NA>    <NA>  <NA>\n2270         28  16.08.18 00:52     CEST  <NA>   <NA>  Sometimes    <NA>  <NA>\n\n[2271 rows x 8 columns]",
      "text/html": "<div>\n<style scoped>\n    .dataframe tbody tr th:only-of-type {\n        vertical-align: middle;\n    }\n\n    .dataframe tbody tr th {\n        vertical-align: top;\n    }\n\n    .dataframe thead th {\n        text-align: right;\n    }\n</style>\n<table border=\"1\" class=\"dataframe\">\n  <thead>\n    <tr style=\"text-align: right;\">\n      <th></th>\n      <th>subjectID</th>\n      <th>timestamp</th>\n      <th>timezone</th>\n      <th>VAS</th>\n      <th>phF</th>\n      <th>MF</th>\n      <th>ReIP</th>\n      <th>sport</th>\n    </tr>\n  </thead>\n  <tbody>\n    <tr>\n      <th>0</th>\n      <td>1</td>\n      <td>14.03.19 20:01</td>\n      <td>UTC</td>\n      <td>2.0</td>\n      <td>&lt;NA&gt;</td>\n      <td>&lt;NA&gt;</td>\n      <td>&lt;NA&gt;</td>\n      <td>&lt;NA&gt;</td>\n    </tr>\n    <tr>\n      <th>1</th>\n      <td>1</td>\n      <td>14.03.19 20:01</td>\n      <td>UTC</td>\n      <td>&lt;NA&gt;</td>\n      <td>&lt;NA&gt;</td>\n      <td>&lt;NA&gt;</td>\n      <td>Worse</td>\n      <td>&lt;NA&gt;</td>\n    </tr>\n    <tr>\n      <th>2</th>\n      <td>1</td>\n      <td>14.03.19 20:01</td>\n      <td>UTC</td>\n      <td>&lt;NA&gt;</td>\n      <td>Never</td>\n      <td>&lt;NA&gt;</td>\n      <td>&lt;NA&gt;</td>\n      <td>&lt;NA&gt;</td>\n    </tr>\n    <tr>\n      <th>3</th>\n      <td>1</td>\n      <td>14.03.19 20:01</td>\n      <td>UTC</td>\n      <td>&lt;NA&gt;</td>\n      <td>&lt;NA&gt;</td>\n      <td>Sometimes</td>\n      <td>&lt;NA&gt;</td>\n      <td>&lt;NA&gt;</td>\n    </tr>\n    <tr>\n      <th>4</th>\n      <td>1</td>\n      <td>14.03.19 20:01</td>\n      <td>UTC</td>\n      <td>&lt;NA&gt;</td>\n      <td>&lt;NA&gt;</td>\n      <td>&lt;NA&gt;</td>\n      <td>&lt;NA&gt;</td>\n      <td>No</td>\n    </tr>\n    <tr>\n      <th>...</th>\n      <td>...</td>\n      <td>...</td>\n      <td>...</td>\n      <td>...</td>\n      <td>...</td>\n      <td>...</td>\n      <td>...</td>\n      <td>...</td>\n    </tr>\n    <tr>\n      <th>2266</th>\n      <td>28</td>\n      <td>16.08.18 00:51</td>\n      <td>CEST</td>\n      <td>&lt;NA&gt;</td>\n      <td>&lt;NA&gt;</td>\n      <td>Sometimes</td>\n      <td>&lt;NA&gt;</td>\n      <td>&lt;NA&gt;</td>\n    </tr>\n    <tr>\n      <th>2267</th>\n      <td>28</td>\n      <td>16.08.18 00:52</td>\n      <td>CEST</td>\n      <td>4.0</td>\n      <td>&lt;NA&gt;</td>\n      <td>&lt;NA&gt;</td>\n      <td>&lt;NA&gt;</td>\n      <td>&lt;NA&gt;</td>\n    </tr>\n    <tr>\n      <th>2268</th>\n      <td>28</td>\n      <td>16.08.18 00:52</td>\n      <td>CEST</td>\n      <td>&lt;NA&gt;</td>\n      <td>&lt;NA&gt;</td>\n      <td>&lt;NA&gt;</td>\n      <td>Better</td>\n      <td>&lt;NA&gt;</td>\n    </tr>\n    <tr>\n      <th>2269</th>\n      <td>28</td>\n      <td>16.08.18 00:52</td>\n      <td>CEST</td>\n      <td>&lt;NA&gt;</td>\n      <td>Never</td>\n      <td>&lt;NA&gt;</td>\n      <td>&lt;NA&gt;</td>\n      <td>&lt;NA&gt;</td>\n    </tr>\n    <tr>\n      <th>2270</th>\n      <td>28</td>\n      <td>16.08.18 00:52</td>\n      <td>CEST</td>\n      <td>&lt;NA&gt;</td>\n      <td>&lt;NA&gt;</td>\n      <td>Sometimes</td>\n      <td>&lt;NA&gt;</td>\n      <td>&lt;NA&gt;</td>\n    </tr>\n  </tbody>\n</table>\n<p>2271 rows × 8 columns</p>\n</div>"
     },
     "execution_count": 151,
     "metadata": {},
     "output_type": "execute_result"
    }
   ],
   "source": [
    "# convert questions into fatigue variables\n",
    "query = '''\n",
    "SELECT SubjectID as subjectID, DateTime AS timestamp, Timezone AS timezone,\n",
    "CASE\n",
    "    WHEN PROquestion LIKE 'Describe fatigue on a scale of 1 to 10, where 1 means you don’t feel tired at all and 10 means the worst tiredness you can imagine' THEN PROanswer_value\n",
    "END AS 'VAS',\n",
    "CASE\n",
    "    WHEN PROquestion LIKE 'Physically, today how often did you feel exhausted?' THEN PROanswer_choice\n",
    "END AS 'phF',\n",
    "CASE\n",
    "    WHEN PROquestion LIKE 'Mentally, today how often did you feel exhausted?' THEN PROanswer_choice\n",
    "END AS 'MF',\n",
    "CASE\n",
    "    WHEN PROquestion LIKE 'Are you feeling better, worse or the same as yesterday?' THEN PROanswer_choice\n",
    "END AS 'ReIP',\n",
    "CASE\n",
    "    WHEN PROquestion LIKE 'Did you do sport today?' THEN PROanswer_choice\n",
    "END AS 'sport'\n",
    "FROM fatigue\n",
    "'''\n",
    "temp = sqldf(query)\n",
    "temp = temp.fillna(value=pd.NA)\n",
    "temp"
   ],
   "metadata": {
    "collapsed": false,
    "pycharm": {
     "name": "#%%\n"
    }
   }
  },
  {
   "cell_type": "code",
   "execution_count": 152,
   "outputs": [
    {
     "data": {
      "text/plain": "       id  subjectID       timestamp timezone   VAS    phF         MF    ReIP  \\\n0       0          1  14.03.19 20:01      UTC   2.0   <NA>       <NA>    <NA>   \n1       0          1  14.03.19 20:01      UTC  <NA>   <NA>       <NA>   Worse   \n2       0          1  14.03.19 20:01      UTC  <NA>  Never       <NA>    <NA>   \n3       0          1  14.03.19 20:01      UTC  <NA>   <NA>  Sometimes    <NA>   \n4       0          1  14.03.19 20:01      UTC  <NA>   <NA>       <NA>    <NA>   \n...   ...        ...             ...      ...   ...    ...        ...     ...   \n2266  524         28  16.08.18 00:51     CEST  <NA>   <NA>  Sometimes    <NA>   \n2267  525         28  16.08.18 00:52     CEST   4.0   <NA>       <NA>    <NA>   \n2268  525         28  16.08.18 00:52     CEST  <NA>   <NA>       <NA>  Better   \n2269  525         28  16.08.18 00:52     CEST  <NA>  Never       <NA>    <NA>   \n2270  525         28  16.08.18 00:52     CEST  <NA>   <NA>  Sometimes    <NA>   \n\n     sport  \n0     <NA>  \n1     <NA>  \n2     <NA>  \n3     <NA>  \n4       No  \n...    ...  \n2266  <NA>  \n2267  <NA>  \n2268  <NA>  \n2269  <NA>  \n2270  <NA>  \n\n[2271 rows x 9 columns]",
      "text/html": "<div>\n<style scoped>\n    .dataframe tbody tr th:only-of-type {\n        vertical-align: middle;\n    }\n\n    .dataframe tbody tr th {\n        vertical-align: top;\n    }\n\n    .dataframe thead th {\n        text-align: right;\n    }\n</style>\n<table border=\"1\" class=\"dataframe\">\n  <thead>\n    <tr style=\"text-align: right;\">\n      <th></th>\n      <th>id</th>\n      <th>subjectID</th>\n      <th>timestamp</th>\n      <th>timezone</th>\n      <th>VAS</th>\n      <th>phF</th>\n      <th>MF</th>\n      <th>ReIP</th>\n      <th>sport</th>\n    </tr>\n  </thead>\n  <tbody>\n    <tr>\n      <th>0</th>\n      <td>0</td>\n      <td>1</td>\n      <td>14.03.19 20:01</td>\n      <td>UTC</td>\n      <td>2.0</td>\n      <td>&lt;NA&gt;</td>\n      <td>&lt;NA&gt;</td>\n      <td>&lt;NA&gt;</td>\n      <td>&lt;NA&gt;</td>\n    </tr>\n    <tr>\n      <th>1</th>\n      <td>0</td>\n      <td>1</td>\n      <td>14.03.19 20:01</td>\n      <td>UTC</td>\n      <td>&lt;NA&gt;</td>\n      <td>&lt;NA&gt;</td>\n      <td>&lt;NA&gt;</td>\n      <td>Worse</td>\n      <td>&lt;NA&gt;</td>\n    </tr>\n    <tr>\n      <th>2</th>\n      <td>0</td>\n      <td>1</td>\n      <td>14.03.19 20:01</td>\n      <td>UTC</td>\n      <td>&lt;NA&gt;</td>\n      <td>Never</td>\n      <td>&lt;NA&gt;</td>\n      <td>&lt;NA&gt;</td>\n      <td>&lt;NA&gt;</td>\n    </tr>\n    <tr>\n      <th>3</th>\n      <td>0</td>\n      <td>1</td>\n      <td>14.03.19 20:01</td>\n      <td>UTC</td>\n      <td>&lt;NA&gt;</td>\n      <td>&lt;NA&gt;</td>\n      <td>Sometimes</td>\n      <td>&lt;NA&gt;</td>\n      <td>&lt;NA&gt;</td>\n    </tr>\n    <tr>\n      <th>4</th>\n      <td>0</td>\n      <td>1</td>\n      <td>14.03.19 20:01</td>\n      <td>UTC</td>\n      <td>&lt;NA&gt;</td>\n      <td>&lt;NA&gt;</td>\n      <td>&lt;NA&gt;</td>\n      <td>&lt;NA&gt;</td>\n      <td>No</td>\n    </tr>\n    <tr>\n      <th>...</th>\n      <td>...</td>\n      <td>...</td>\n      <td>...</td>\n      <td>...</td>\n      <td>...</td>\n      <td>...</td>\n      <td>...</td>\n      <td>...</td>\n      <td>...</td>\n    </tr>\n    <tr>\n      <th>2266</th>\n      <td>524</td>\n      <td>28</td>\n      <td>16.08.18 00:51</td>\n      <td>CEST</td>\n      <td>&lt;NA&gt;</td>\n      <td>&lt;NA&gt;</td>\n      <td>Sometimes</td>\n      <td>&lt;NA&gt;</td>\n      <td>&lt;NA&gt;</td>\n    </tr>\n    <tr>\n      <th>2267</th>\n      <td>525</td>\n      <td>28</td>\n      <td>16.08.18 00:52</td>\n      <td>CEST</td>\n      <td>4.0</td>\n      <td>&lt;NA&gt;</td>\n      <td>&lt;NA&gt;</td>\n      <td>&lt;NA&gt;</td>\n      <td>&lt;NA&gt;</td>\n    </tr>\n    <tr>\n      <th>2268</th>\n      <td>525</td>\n      <td>28</td>\n      <td>16.08.18 00:52</td>\n      <td>CEST</td>\n      <td>&lt;NA&gt;</td>\n      <td>&lt;NA&gt;</td>\n      <td>&lt;NA&gt;</td>\n      <td>Better</td>\n      <td>&lt;NA&gt;</td>\n    </tr>\n    <tr>\n      <th>2269</th>\n      <td>525</td>\n      <td>28</td>\n      <td>16.08.18 00:52</td>\n      <td>CEST</td>\n      <td>&lt;NA&gt;</td>\n      <td>Never</td>\n      <td>&lt;NA&gt;</td>\n      <td>&lt;NA&gt;</td>\n      <td>&lt;NA&gt;</td>\n    </tr>\n    <tr>\n      <th>2270</th>\n      <td>525</td>\n      <td>28</td>\n      <td>16.08.18 00:52</td>\n      <td>CEST</td>\n      <td>&lt;NA&gt;</td>\n      <td>&lt;NA&gt;</td>\n      <td>Sometimes</td>\n      <td>&lt;NA&gt;</td>\n      <td>&lt;NA&gt;</td>\n    </tr>\n  </tbody>\n</table>\n<p>2271 rows × 9 columns</p>\n</div>"
     },
     "execution_count": 152,
     "metadata": {},
     "output_type": "execute_result"
    }
   ],
   "source": [
    "# distinguish different questionnaires with same timestamp (data is in chronological order)\n",
    "temp = temp.reset_index(drop=False)\n",
    "temp = temp.rename(columns={'index': 'id'})\n",
    "\n",
    "# same id = same questionnaire\n",
    "questionnaire = 0\n",
    "questionnaire_timestamp = temp.loc[0, 'timestamp']\n",
    "asked_questions = {'VAS': 0, 'phF': 0, 'MF': 0, 'ReIP': 0, 'sport': 0} # already asked?\n",
    "for i, row in temp.iterrows():\n",
    "    asked_questions = {key: value + int(not pd.isna(row[key])) for key, value in asked_questions.items()}\n",
    "\n",
    "    # different timestamp? -> different questionnaire\n",
    "    if row['timestamp'] != questionnaire_timestamp:\n",
    "        questionnaire += 1\n",
    "        questionnaire_timestamp = temp.loc[i, 'timestamp']\n",
    "        asked_questions = {key: int(not pd.isna(row[key])) for key, value in asked_questions.items()}\n",
    "    # same timestamp but same question again (vas already asked)? -> different questionnaire\n",
    "    elif 2 in set(asked_questions.values()):\n",
    "        questionnaire += 1\n",
    "        questionnaire_timestamp = temp.loc[i, 'timestamp']\n",
    "        asked_questions = {key: int(not pd.isna(row[key])) for key, value in asked_questions.items()}\n",
    "    else:\n",
    "        pass\n",
    "\n",
    "    temp.loc[i, 'id'] = questionnaire\n",
    "temp"
   ],
   "metadata": {
    "collapsed": false,
    "pycharm": {
     "name": "#%%\n"
    }
   }
  },
  {
   "cell_type": "code",
   "execution_count": 153,
   "outputs": [
    {
     "data": {
      "text/plain": "      id  subjectID       timestamp timezone  VAS        phF         MF  \\\n0      0          1  14.03.19 20:01      UTC  2.0      Never  Sometimes   \n1      1          1  15.03.19 20:01      UTC  2.0  Sometimes  Sometimes   \n2      2          1  16.03.19 20:47      UTC  1.0      Never      Never   \n3      3          1  17.03.19 20:01      UTC  1.0  Sometimes      Never   \n4      4          1  18.03.19 20:13      UTC  2.0  Sometimes      Never   \n..   ...        ...             ...      ...  ...        ...        ...   \n521  521         28  10.08.18 23:13     CEST  4.0      Never  Sometimes   \n522  522         28  13.08.18 21:39     CEST  4.0  Sometimes  Regularly   \n523  523         28  14.08.18 23:27     CEST  6.0      Never  Sometimes   \n524  524         28  16.08.18 00:51     CEST  5.0  Sometimes  Sometimes   \n525  525         28  16.08.18 00:52     CEST  4.0      Never  Sometimes   \n\n       ReIP sport  \n0     Worse    No  \n1    Better   Yes  \n2      Same    No  \n3      Same   Yes  \n4     Worse   Yes  \n..      ...   ...  \n521    Same  None  \n522    Same  None  \n523   Worse  None  \n524  Better  None  \n525  Better  None  \n\n[526 rows x 9 columns]",
      "text/html": "<div>\n<style scoped>\n    .dataframe tbody tr th:only-of-type {\n        vertical-align: middle;\n    }\n\n    .dataframe tbody tr th {\n        vertical-align: top;\n    }\n\n    .dataframe thead th {\n        text-align: right;\n    }\n</style>\n<table border=\"1\" class=\"dataframe\">\n  <thead>\n    <tr style=\"text-align: right;\">\n      <th></th>\n      <th>id</th>\n      <th>subjectID</th>\n      <th>timestamp</th>\n      <th>timezone</th>\n      <th>VAS</th>\n      <th>phF</th>\n      <th>MF</th>\n      <th>ReIP</th>\n      <th>sport</th>\n    </tr>\n  </thead>\n  <tbody>\n    <tr>\n      <th>0</th>\n      <td>0</td>\n      <td>1</td>\n      <td>14.03.19 20:01</td>\n      <td>UTC</td>\n      <td>2.0</td>\n      <td>Never</td>\n      <td>Sometimes</td>\n      <td>Worse</td>\n      <td>No</td>\n    </tr>\n    <tr>\n      <th>1</th>\n      <td>1</td>\n      <td>1</td>\n      <td>15.03.19 20:01</td>\n      <td>UTC</td>\n      <td>2.0</td>\n      <td>Sometimes</td>\n      <td>Sometimes</td>\n      <td>Better</td>\n      <td>Yes</td>\n    </tr>\n    <tr>\n      <th>2</th>\n      <td>2</td>\n      <td>1</td>\n      <td>16.03.19 20:47</td>\n      <td>UTC</td>\n      <td>1.0</td>\n      <td>Never</td>\n      <td>Never</td>\n      <td>Same</td>\n      <td>No</td>\n    </tr>\n    <tr>\n      <th>3</th>\n      <td>3</td>\n      <td>1</td>\n      <td>17.03.19 20:01</td>\n      <td>UTC</td>\n      <td>1.0</td>\n      <td>Sometimes</td>\n      <td>Never</td>\n      <td>Same</td>\n      <td>Yes</td>\n    </tr>\n    <tr>\n      <th>4</th>\n      <td>4</td>\n      <td>1</td>\n      <td>18.03.19 20:13</td>\n      <td>UTC</td>\n      <td>2.0</td>\n      <td>Sometimes</td>\n      <td>Never</td>\n      <td>Worse</td>\n      <td>Yes</td>\n    </tr>\n    <tr>\n      <th>...</th>\n      <td>...</td>\n      <td>...</td>\n      <td>...</td>\n      <td>...</td>\n      <td>...</td>\n      <td>...</td>\n      <td>...</td>\n      <td>...</td>\n      <td>...</td>\n    </tr>\n    <tr>\n      <th>521</th>\n      <td>521</td>\n      <td>28</td>\n      <td>10.08.18 23:13</td>\n      <td>CEST</td>\n      <td>4.0</td>\n      <td>Never</td>\n      <td>Sometimes</td>\n      <td>Same</td>\n      <td>None</td>\n    </tr>\n    <tr>\n      <th>522</th>\n      <td>522</td>\n      <td>28</td>\n      <td>13.08.18 21:39</td>\n      <td>CEST</td>\n      <td>4.0</td>\n      <td>Sometimes</td>\n      <td>Regularly</td>\n      <td>Same</td>\n      <td>None</td>\n    </tr>\n    <tr>\n      <th>523</th>\n      <td>523</td>\n      <td>28</td>\n      <td>14.08.18 23:27</td>\n      <td>CEST</td>\n      <td>6.0</td>\n      <td>Never</td>\n      <td>Sometimes</td>\n      <td>Worse</td>\n      <td>None</td>\n    </tr>\n    <tr>\n      <th>524</th>\n      <td>524</td>\n      <td>28</td>\n      <td>16.08.18 00:51</td>\n      <td>CEST</td>\n      <td>5.0</td>\n      <td>Sometimes</td>\n      <td>Sometimes</td>\n      <td>Better</td>\n      <td>None</td>\n    </tr>\n    <tr>\n      <th>525</th>\n      <td>525</td>\n      <td>28</td>\n      <td>16.08.18 00:52</td>\n      <td>CEST</td>\n      <td>4.0</td>\n      <td>Never</td>\n      <td>Sometimes</td>\n      <td>Better</td>\n      <td>None</td>\n    </tr>\n  </tbody>\n</table>\n<p>526 rows × 9 columns</p>\n</div>"
     },
     "execution_count": 153,
     "metadata": {},
     "output_type": "execute_result"
    }
   ],
   "source": [
    "query = '''\n",
    "SELECT id, subjectID, timestamp, GROUP_CONCAT(DISTINCT timezone) AS timezone, GROUP_CONCAT(VAS) AS VAS, GROUP_CONCAT(phF) AS phF, GROUP_CONCAT(MF) AS MF, GROUP_CONCAT(ReIP) AS ReIP, GROUP_CONCAT(sport) AS sport\n",
    "FROM temp\n",
    "GROUP BY id, subjectID, timestamp\n",
    "'''\n",
    "questionnaires = sqldf(query)\n",
    "questionnaires"
   ],
   "metadata": {
    "collapsed": false,
    "pycharm": {
     "name": "#%%\n"
    }
   }
  },
  {
   "cell_type": "code",
   "execution_count": 154,
   "outputs": [
    {
     "data": {
      "text/plain": "    id  subjectID       timestamp timezone   VAS   phF    MF    ReIP sport\n0  105         15  09.06.19 22:27      UTC   1.0  None  None    None  None\n1  215         23  05.02.18 21:00      CET  None  None  None  Better  None\n2  281         24  06.02.18 21:43      CET   1.0  None  None    None  None",
      "text/html": "<div>\n<style scoped>\n    .dataframe tbody tr th:only-of-type {\n        vertical-align: middle;\n    }\n\n    .dataframe tbody tr th {\n        vertical-align: top;\n    }\n\n    .dataframe thead th {\n        text-align: right;\n    }\n</style>\n<table border=\"1\" class=\"dataframe\">\n  <thead>\n    <tr style=\"text-align: right;\">\n      <th></th>\n      <th>id</th>\n      <th>subjectID</th>\n      <th>timestamp</th>\n      <th>timezone</th>\n      <th>VAS</th>\n      <th>phF</th>\n      <th>MF</th>\n      <th>ReIP</th>\n      <th>sport</th>\n    </tr>\n  </thead>\n  <tbody>\n    <tr>\n      <th>0</th>\n      <td>105</td>\n      <td>15</td>\n      <td>09.06.19 22:27</td>\n      <td>UTC</td>\n      <td>1.0</td>\n      <td>None</td>\n      <td>None</td>\n      <td>None</td>\n      <td>None</td>\n    </tr>\n    <tr>\n      <th>1</th>\n      <td>215</td>\n      <td>23</td>\n      <td>05.02.18 21:00</td>\n      <td>CET</td>\n      <td>None</td>\n      <td>None</td>\n      <td>None</td>\n      <td>Better</td>\n      <td>None</td>\n    </tr>\n    <tr>\n      <th>2</th>\n      <td>281</td>\n      <td>24</td>\n      <td>06.02.18 21:43</td>\n      <td>CET</td>\n      <td>1.0</td>\n      <td>None</td>\n      <td>None</td>\n      <td>None</td>\n      <td>None</td>\n    </tr>\n  </tbody>\n</table>\n</div>"
     },
     "execution_count": 154,
     "metadata": {},
     "output_type": "execute_result"
    }
   ],
   "source": [
    "# incomplete questionnaires (ignore sport label as it's not asked in all questionnaires)\n",
    "query = '''\n",
    "SELECT *\n",
    "FROM questionnaires\n",
    "WHERE VAS IS NULL OR phF IS NULL OR MF IS NULL OR ReIP IS NULL\n",
    "'''\n",
    "sqldf(query)"
   ],
   "metadata": {
    "collapsed": false,
    "pycharm": {
     "name": "#%%\n"
    }
   }
  },
  {
   "cell_type": "code",
   "execution_count": 155,
   "outputs": [
    {
     "data": {
      "text/plain": "      id  subjectID       timestamp timezone  VAS        phF         MF  \\\n0      0          1  14.03.19 20:01      UTC  2.0      Never  Sometimes   \n1      1          1  15.03.19 20:01      UTC  2.0  Sometimes  Sometimes   \n2      2          1  16.03.19 20:47      UTC  1.0      Never      Never   \n3      3          1  17.03.19 20:01      UTC  1.0  Sometimes      Never   \n4      4          1  18.03.19 20:13      UTC  2.0  Sometimes      Never   \n..   ...        ...             ...      ...  ...        ...        ...   \n518  521         28  10.08.18 23:13     CEST  4.0      Never  Sometimes   \n519  522         28  13.08.18 21:39     CEST  4.0  Sometimes  Regularly   \n520  523         28  14.08.18 23:27     CEST  6.0      Never  Sometimes   \n521  524         28  16.08.18 00:51     CEST  5.0  Sometimes  Sometimes   \n522  525         28  16.08.18 00:52     CEST  4.0      Never  Sometimes   \n\n       ReIP sport  \n0     Worse    No  \n1    Better   Yes  \n2      Same    No  \n3      Same   Yes  \n4     Worse   Yes  \n..      ...   ...  \n518    Same  None  \n519    Same  None  \n520   Worse  None  \n521  Better  None  \n522  Better  None  \n\n[523 rows x 9 columns]",
      "text/html": "<div>\n<style scoped>\n    .dataframe tbody tr th:only-of-type {\n        vertical-align: middle;\n    }\n\n    .dataframe tbody tr th {\n        vertical-align: top;\n    }\n\n    .dataframe thead th {\n        text-align: right;\n    }\n</style>\n<table border=\"1\" class=\"dataframe\">\n  <thead>\n    <tr style=\"text-align: right;\">\n      <th></th>\n      <th>id</th>\n      <th>subjectID</th>\n      <th>timestamp</th>\n      <th>timezone</th>\n      <th>VAS</th>\n      <th>phF</th>\n      <th>MF</th>\n      <th>ReIP</th>\n      <th>sport</th>\n    </tr>\n  </thead>\n  <tbody>\n    <tr>\n      <th>0</th>\n      <td>0</td>\n      <td>1</td>\n      <td>14.03.19 20:01</td>\n      <td>UTC</td>\n      <td>2.0</td>\n      <td>Never</td>\n      <td>Sometimes</td>\n      <td>Worse</td>\n      <td>No</td>\n    </tr>\n    <tr>\n      <th>1</th>\n      <td>1</td>\n      <td>1</td>\n      <td>15.03.19 20:01</td>\n      <td>UTC</td>\n      <td>2.0</td>\n      <td>Sometimes</td>\n      <td>Sometimes</td>\n      <td>Better</td>\n      <td>Yes</td>\n    </tr>\n    <tr>\n      <th>2</th>\n      <td>2</td>\n      <td>1</td>\n      <td>16.03.19 20:47</td>\n      <td>UTC</td>\n      <td>1.0</td>\n      <td>Never</td>\n      <td>Never</td>\n      <td>Same</td>\n      <td>No</td>\n    </tr>\n    <tr>\n      <th>3</th>\n      <td>3</td>\n      <td>1</td>\n      <td>17.03.19 20:01</td>\n      <td>UTC</td>\n      <td>1.0</td>\n      <td>Sometimes</td>\n      <td>Never</td>\n      <td>Same</td>\n      <td>Yes</td>\n    </tr>\n    <tr>\n      <th>4</th>\n      <td>4</td>\n      <td>1</td>\n      <td>18.03.19 20:13</td>\n      <td>UTC</td>\n      <td>2.0</td>\n      <td>Sometimes</td>\n      <td>Never</td>\n      <td>Worse</td>\n      <td>Yes</td>\n    </tr>\n    <tr>\n      <th>...</th>\n      <td>...</td>\n      <td>...</td>\n      <td>...</td>\n      <td>...</td>\n      <td>...</td>\n      <td>...</td>\n      <td>...</td>\n      <td>...</td>\n      <td>...</td>\n    </tr>\n    <tr>\n      <th>518</th>\n      <td>521</td>\n      <td>28</td>\n      <td>10.08.18 23:13</td>\n      <td>CEST</td>\n      <td>4.0</td>\n      <td>Never</td>\n      <td>Sometimes</td>\n      <td>Same</td>\n      <td>None</td>\n    </tr>\n    <tr>\n      <th>519</th>\n      <td>522</td>\n      <td>28</td>\n      <td>13.08.18 21:39</td>\n      <td>CEST</td>\n      <td>4.0</td>\n      <td>Sometimes</td>\n      <td>Regularly</td>\n      <td>Same</td>\n      <td>None</td>\n    </tr>\n    <tr>\n      <th>520</th>\n      <td>523</td>\n      <td>28</td>\n      <td>14.08.18 23:27</td>\n      <td>CEST</td>\n      <td>6.0</td>\n      <td>Never</td>\n      <td>Sometimes</td>\n      <td>Worse</td>\n      <td>None</td>\n    </tr>\n    <tr>\n      <th>521</th>\n      <td>524</td>\n      <td>28</td>\n      <td>16.08.18 00:51</td>\n      <td>CEST</td>\n      <td>5.0</td>\n      <td>Sometimes</td>\n      <td>Sometimes</td>\n      <td>Better</td>\n      <td>None</td>\n    </tr>\n    <tr>\n      <th>522</th>\n      <td>525</td>\n      <td>28</td>\n      <td>16.08.18 00:52</td>\n      <td>CEST</td>\n      <td>4.0</td>\n      <td>Never</td>\n      <td>Sometimes</td>\n      <td>Better</td>\n      <td>None</td>\n    </tr>\n  </tbody>\n</table>\n<p>523 rows × 9 columns</p>\n</div>"
     },
     "execution_count": 155,
     "metadata": {},
     "output_type": "execute_result"
    }
   ],
   "source": [
    "# discard incomplete questionnaires\n",
    "query = '''\n",
    "SELECT *\n",
    "FROM questionnaires\n",
    "\n",
    "EXCEPT\n",
    "\n",
    "SELECT *\n",
    "FROM questionnaires\n",
    "WHERE VAS IS NULL OR phF IS NULL OR MF IS NULL OR ReIP IS NULL;\n",
    "'''\n",
    "questionnaires = sqldf(query)\n",
    "questionnaires"
   ],
   "metadata": {
    "collapsed": false,
    "pycharm": {
     "name": "#%%\n"
    }
   }
  },
  {
   "cell_type": "code",
   "execution_count": 160,
   "outputs": [
    {
     "data": {
      "text/plain": "     subjectID      date timezone              VAS                  ReIP  \\\n0           24  06.02.18      CET  5.0,5.0,5.0,2.0  Same,Same,Same,Worse   \n1           24  07.02.18      CET      4.0,3.0,5.0       Same,Same,Worse   \n2            4  30.03.19      UTC          3.0,2.0         Better,Better   \n3            5  04.04.19      UTC          6.0,2.0         Better,Better   \n4            5  07.04.19      UTC          9.0,3.0         Better,Better   \n..         ...       ...      ...              ...                   ...   \n471         27  31.08.18     CEST              3.0                 Worse   \n472         28  09.08.18     CEST              5.0                  Same   \n473         28  10.08.18     CEST              4.0                  Same   \n474         28  13.08.18     CEST              4.0                  Same   \n475         28  14.08.18     CEST              6.0                 Worse   \n\n                                         phF  \\\n0    Regularly,Regularly,Sometimes,Sometimes   \n1                  Sometimes,Never,Regularly   \n2                                Never,Never   \n3                            Sometimes,Never   \n4                        Sometimes,Sometimes   \n..                                       ...   \n471                                Sometimes   \n472                                    Never   \n473                                    Never   \n474                                Sometimes   \n475                                    Never   \n\n                                          MF    sport  n_answers  \n0    Sometimes,Sometimes,Sometimes,Sometimes     None          4  \n1                  Sometimes,Never,Sometimes     None          3  \n2                                Never,Never       No          2  \n3                            Sometimes,Never    No,No          2  \n4                            Sometimes,Never  Yes,Yes          2  \n..                                       ...      ...        ...  \n471                                Sometimes     None          1  \n472                                    Never     None          1  \n473                                Sometimes     None          1  \n474                                Regularly     None          1  \n475                                Sometimes     None          1  \n\n[476 rows x 9 columns]",
      "text/html": "<div>\n<style scoped>\n    .dataframe tbody tr th:only-of-type {\n        vertical-align: middle;\n    }\n\n    .dataframe tbody tr th {\n        vertical-align: top;\n    }\n\n    .dataframe thead th {\n        text-align: right;\n    }\n</style>\n<table border=\"1\" class=\"dataframe\">\n  <thead>\n    <tr style=\"text-align: right;\">\n      <th></th>\n      <th>subjectID</th>\n      <th>date</th>\n      <th>timezone</th>\n      <th>VAS</th>\n      <th>ReIP</th>\n      <th>phF</th>\n      <th>MF</th>\n      <th>sport</th>\n      <th>n_answers</th>\n    </tr>\n  </thead>\n  <tbody>\n    <tr>\n      <th>0</th>\n      <td>24</td>\n      <td>06.02.18</td>\n      <td>CET</td>\n      <td>5.0,5.0,5.0,2.0</td>\n      <td>Same,Same,Same,Worse</td>\n      <td>Regularly,Regularly,Sometimes,Sometimes</td>\n      <td>Sometimes,Sometimes,Sometimes,Sometimes</td>\n      <td>None</td>\n      <td>4</td>\n    </tr>\n    <tr>\n      <th>1</th>\n      <td>24</td>\n      <td>07.02.18</td>\n      <td>CET</td>\n      <td>4.0,3.0,5.0</td>\n      <td>Same,Same,Worse</td>\n      <td>Sometimes,Never,Regularly</td>\n      <td>Sometimes,Never,Sometimes</td>\n      <td>None</td>\n      <td>3</td>\n    </tr>\n    <tr>\n      <th>2</th>\n      <td>4</td>\n      <td>30.03.19</td>\n      <td>UTC</td>\n      <td>3.0,2.0</td>\n      <td>Better,Better</td>\n      <td>Never,Never</td>\n      <td>Never,Never</td>\n      <td>No</td>\n      <td>2</td>\n    </tr>\n    <tr>\n      <th>3</th>\n      <td>5</td>\n      <td>04.04.19</td>\n      <td>UTC</td>\n      <td>6.0,2.0</td>\n      <td>Better,Better</td>\n      <td>Sometimes,Never</td>\n      <td>Sometimes,Never</td>\n      <td>No,No</td>\n      <td>2</td>\n    </tr>\n    <tr>\n      <th>4</th>\n      <td>5</td>\n      <td>07.04.19</td>\n      <td>UTC</td>\n      <td>9.0,3.0</td>\n      <td>Better,Better</td>\n      <td>Sometimes,Sometimes</td>\n      <td>Sometimes,Never</td>\n      <td>Yes,Yes</td>\n      <td>2</td>\n    </tr>\n    <tr>\n      <th>...</th>\n      <td>...</td>\n      <td>...</td>\n      <td>...</td>\n      <td>...</td>\n      <td>...</td>\n      <td>...</td>\n      <td>...</td>\n      <td>...</td>\n      <td>...</td>\n    </tr>\n    <tr>\n      <th>471</th>\n      <td>27</td>\n      <td>31.08.18</td>\n      <td>CEST</td>\n      <td>3.0</td>\n      <td>Worse</td>\n      <td>Sometimes</td>\n      <td>Sometimes</td>\n      <td>None</td>\n      <td>1</td>\n    </tr>\n    <tr>\n      <th>472</th>\n      <td>28</td>\n      <td>09.08.18</td>\n      <td>CEST</td>\n      <td>5.0</td>\n      <td>Same</td>\n      <td>Never</td>\n      <td>Never</td>\n      <td>None</td>\n      <td>1</td>\n    </tr>\n    <tr>\n      <th>473</th>\n      <td>28</td>\n      <td>10.08.18</td>\n      <td>CEST</td>\n      <td>4.0</td>\n      <td>Same</td>\n      <td>Never</td>\n      <td>Sometimes</td>\n      <td>None</td>\n      <td>1</td>\n    </tr>\n    <tr>\n      <th>474</th>\n      <td>28</td>\n      <td>13.08.18</td>\n      <td>CEST</td>\n      <td>4.0</td>\n      <td>Same</td>\n      <td>Sometimes</td>\n      <td>Regularly</td>\n      <td>None</td>\n      <td>1</td>\n    </tr>\n    <tr>\n      <th>475</th>\n      <td>28</td>\n      <td>14.08.18</td>\n      <td>CEST</td>\n      <td>6.0</td>\n      <td>Worse</td>\n      <td>Never</td>\n      <td>Sometimes</td>\n      <td>None</td>\n      <td>1</td>\n    </tr>\n  </tbody>\n</table>\n<p>476 rows × 9 columns</p>\n</div>"
     },
     "execution_count": 160,
     "metadata": {},
     "output_type": "execute_result"
    }
   ],
   "source": [
    "# aggregate questionnaires into daily fatigue values\n",
    "query = '''\n",
    "SELECT subjectID, SUBSTRING(Timestamp, 1, 8) AS date, GROUP_CONCAT(DISTINCT timezone) AS timezone, GROUP_CONCAT(VAS) AS VAS, GROUP_CONCAT(ReIP) AS ReIP, GROUP_CONCAT(phF) AS phF, GROUP_CONCAT(MF) AS MF, GROUP_CONCAT(sport) AS sport, COUNT(*) AS n_answers\n",
    "FROM questionnaires\n",
    "GROUP BY subjectID, date\n",
    "ORDER BY n_answers DESC;\n",
    "'''\n",
    "fatigue_daily = sqldf(query)\n",
    "fatigue_daily"
   ],
   "metadata": {
    "collapsed": false,
    "pycharm": {
     "name": "#%%\n"
    }
   }
  },
  {
   "cell_type": "code",
   "execution_count": 162,
   "outputs": [
    {
     "data": {
      "text/plain": "   COUNT(*)\n0        44",
      "text/html": "<div>\n<style scoped>\n    .dataframe tbody tr th:only-of-type {\n        vertical-align: middle;\n    }\n\n    .dataframe tbody tr th {\n        vertical-align: top;\n    }\n\n    .dataframe thead th {\n        text-align: right;\n    }\n</style>\n<table border=\"1\" class=\"dataframe\">\n  <thead>\n    <tr style=\"text-align: right;\">\n      <th></th>\n      <th>COUNT(*)</th>\n    </tr>\n  </thead>\n  <tbody>\n    <tr>\n      <th>0</th>\n      <td>44</td>\n    </tr>\n  </tbody>\n</table>\n</div>"
     },
     "execution_count": 162,
     "metadata": {},
     "output_type": "execute_result"
    }
   ],
   "source": [
    "# check how many multiple questionnaires are filled out per day\n",
    "query = '''\n",
    "SELECT COUNT(*)\n",
    "FROM fatigue_daily\n",
    "WHERE n_answers > 1;\n",
    "'''\n",
    "sqldf(query)"
   ],
   "metadata": {
    "collapsed": false,
    "pycharm": {
     "name": "#%%\n"
    }
   }
  },
  {
   "cell_type": "markdown",
   "source": [
    "--"
   ],
   "metadata": {
    "collapsed": false
   }
  },
  {
   "cell_type": "code",
   "execution_count": 174,
   "outputs": [
    {
     "data": {
      "text/plain": "      id  subjectID       timestamp timezone  VAS        phF         MF  \\\n0      0          1  14.03.19 20:01      UTC  2.0      Never  Sometimes   \n1      1          1  15.03.19 20:01      UTC  2.0  Sometimes  Sometimes   \n2      2          1  16.03.19 20:47      UTC  1.0      Never      Never   \n3      3          1  17.03.19 20:01      UTC  1.0  Sometimes      Never   \n4      4          1  18.03.19 20:13      UTC  2.0  Sometimes      Never   \n..   ...        ...             ...      ...  ...        ...        ...   \n518  521         28  10.08.18 23:13     CEST  4.0      Never  Sometimes   \n519  522         28  13.08.18 21:39     CEST  4.0  Sometimes  Regularly   \n520  523         28  14.08.18 23:27     CEST  6.0      Never  Sometimes   \n521  524         28  16.08.18 00:51     CEST  5.0  Sometimes  Sometimes   \n522  525         28  16.08.18 00:52     CEST  4.0      Never  Sometimes   \n\n       ReIP sport  \n0     Worse    No  \n1    Better   Yes  \n2      Same    No  \n3      Same   Yes  \n4     Worse   Yes  \n..      ...   ...  \n518    Same  None  \n519    Same  None  \n520   Worse  None  \n521  Better  None  \n522  Better  None  \n\n[523 rows x 9 columns]",
      "text/html": "<div>\n<style scoped>\n    .dataframe tbody tr th:only-of-type {\n        vertical-align: middle;\n    }\n\n    .dataframe tbody tr th {\n        vertical-align: top;\n    }\n\n    .dataframe thead th {\n        text-align: right;\n    }\n</style>\n<table border=\"1\" class=\"dataframe\">\n  <thead>\n    <tr style=\"text-align: right;\">\n      <th></th>\n      <th>id</th>\n      <th>subjectID</th>\n      <th>timestamp</th>\n      <th>timezone</th>\n      <th>VAS</th>\n      <th>phF</th>\n      <th>MF</th>\n      <th>ReIP</th>\n      <th>sport</th>\n    </tr>\n  </thead>\n  <tbody>\n    <tr>\n      <th>0</th>\n      <td>0</td>\n      <td>1</td>\n      <td>14.03.19 20:01</td>\n      <td>UTC</td>\n      <td>2.0</td>\n      <td>Never</td>\n      <td>Sometimes</td>\n      <td>Worse</td>\n      <td>No</td>\n    </tr>\n    <tr>\n      <th>1</th>\n      <td>1</td>\n      <td>1</td>\n      <td>15.03.19 20:01</td>\n      <td>UTC</td>\n      <td>2.0</td>\n      <td>Sometimes</td>\n      <td>Sometimes</td>\n      <td>Better</td>\n      <td>Yes</td>\n    </tr>\n    <tr>\n      <th>2</th>\n      <td>2</td>\n      <td>1</td>\n      <td>16.03.19 20:47</td>\n      <td>UTC</td>\n      <td>1.0</td>\n      <td>Never</td>\n      <td>Never</td>\n      <td>Same</td>\n      <td>No</td>\n    </tr>\n    <tr>\n      <th>3</th>\n      <td>3</td>\n      <td>1</td>\n      <td>17.03.19 20:01</td>\n      <td>UTC</td>\n      <td>1.0</td>\n      <td>Sometimes</td>\n      <td>Never</td>\n      <td>Same</td>\n      <td>Yes</td>\n    </tr>\n    <tr>\n      <th>4</th>\n      <td>4</td>\n      <td>1</td>\n      <td>18.03.19 20:13</td>\n      <td>UTC</td>\n      <td>2.0</td>\n      <td>Sometimes</td>\n      <td>Never</td>\n      <td>Worse</td>\n      <td>Yes</td>\n    </tr>\n    <tr>\n      <th>...</th>\n      <td>...</td>\n      <td>...</td>\n      <td>...</td>\n      <td>...</td>\n      <td>...</td>\n      <td>...</td>\n      <td>...</td>\n      <td>...</td>\n      <td>...</td>\n    </tr>\n    <tr>\n      <th>518</th>\n      <td>521</td>\n      <td>28</td>\n      <td>10.08.18 23:13</td>\n      <td>CEST</td>\n      <td>4.0</td>\n      <td>Never</td>\n      <td>Sometimes</td>\n      <td>Same</td>\n      <td>None</td>\n    </tr>\n    <tr>\n      <th>519</th>\n      <td>522</td>\n      <td>28</td>\n      <td>13.08.18 21:39</td>\n      <td>CEST</td>\n      <td>4.0</td>\n      <td>Sometimes</td>\n      <td>Regularly</td>\n      <td>Same</td>\n      <td>None</td>\n    </tr>\n    <tr>\n      <th>520</th>\n      <td>523</td>\n      <td>28</td>\n      <td>14.08.18 23:27</td>\n      <td>CEST</td>\n      <td>6.0</td>\n      <td>Never</td>\n      <td>Sometimes</td>\n      <td>Worse</td>\n      <td>None</td>\n    </tr>\n    <tr>\n      <th>521</th>\n      <td>524</td>\n      <td>28</td>\n      <td>16.08.18 00:51</td>\n      <td>CEST</td>\n      <td>5.0</td>\n      <td>Sometimes</td>\n      <td>Sometimes</td>\n      <td>Better</td>\n      <td>None</td>\n    </tr>\n    <tr>\n      <th>522</th>\n      <td>525</td>\n      <td>28</td>\n      <td>16.08.18 00:52</td>\n      <td>CEST</td>\n      <td>4.0</td>\n      <td>Never</td>\n      <td>Sometimes</td>\n      <td>Better</td>\n      <td>None</td>\n    </tr>\n  </tbody>\n</table>\n<p>523 rows × 9 columns</p>\n</div>"
     },
     "execution_count": 174,
     "metadata": {},
     "output_type": "execute_result"
    }
   ],
   "source": [
    "questionnaires"
   ],
   "metadata": {
    "collapsed": false,
    "pycharm": {
     "name": "#%%\n"
    }
   }
  },
  {
   "cell_type": "code",
   "execution_count": 179,
   "outputs": [
    {
     "data": {
      "text/plain": "     subjectID       timestamp timezone  VAS  phF  MF  ReIP  sport\n0            1  14.03.19 20:01      UTC    0    0   1    -1    0.0\n1            1  15.03.19 20:01      UTC    0    1   1     1    1.0\n2            1  16.03.19 20:47      UTC    0    0   0     0    0.0\n3            1  17.03.19 20:01      UTC    0    1   0     0    1.0\n4            1  18.03.19 20:13      UTC    0    1   0    -1    1.0\n..         ...             ...      ...  ...  ...  ..   ...    ...\n518         28  10.08.18 23:13     CEST    0    0   1     0    NaN\n519         28  13.08.18 21:39     CEST    0    1   1     0    NaN\n520         28  14.08.18 23:27     CEST    1    0   1    -1    NaN\n521         28  16.08.18 00:51     CEST    1    1   1     1    NaN\n522         28  16.08.18 00:52     CEST    0    0   1     1    NaN\n\n[523 rows x 8 columns]",
      "text/html": "<div>\n<style scoped>\n    .dataframe tbody tr th:only-of-type {\n        vertical-align: middle;\n    }\n\n    .dataframe tbody tr th {\n        vertical-align: top;\n    }\n\n    .dataframe thead th {\n        text-align: right;\n    }\n</style>\n<table border=\"1\" class=\"dataframe\">\n  <thead>\n    <tr style=\"text-align: right;\">\n      <th></th>\n      <th>subjectID</th>\n      <th>timestamp</th>\n      <th>timezone</th>\n      <th>VAS</th>\n      <th>phF</th>\n      <th>MF</th>\n      <th>ReIP</th>\n      <th>sport</th>\n    </tr>\n  </thead>\n  <tbody>\n    <tr>\n      <th>0</th>\n      <td>1</td>\n      <td>14.03.19 20:01</td>\n      <td>UTC</td>\n      <td>0</td>\n      <td>0</td>\n      <td>1</td>\n      <td>-1</td>\n      <td>0.0</td>\n    </tr>\n    <tr>\n      <th>1</th>\n      <td>1</td>\n      <td>15.03.19 20:01</td>\n      <td>UTC</td>\n      <td>0</td>\n      <td>1</td>\n      <td>1</td>\n      <td>1</td>\n      <td>1.0</td>\n    </tr>\n    <tr>\n      <th>2</th>\n      <td>1</td>\n      <td>16.03.19 20:47</td>\n      <td>UTC</td>\n      <td>0</td>\n      <td>0</td>\n      <td>0</td>\n      <td>0</td>\n      <td>0.0</td>\n    </tr>\n    <tr>\n      <th>3</th>\n      <td>1</td>\n      <td>17.03.19 20:01</td>\n      <td>UTC</td>\n      <td>0</td>\n      <td>1</td>\n      <td>0</td>\n      <td>0</td>\n      <td>1.0</td>\n    </tr>\n    <tr>\n      <th>4</th>\n      <td>1</td>\n      <td>18.03.19 20:13</td>\n      <td>UTC</td>\n      <td>0</td>\n      <td>1</td>\n      <td>0</td>\n      <td>-1</td>\n      <td>1.0</td>\n    </tr>\n    <tr>\n      <th>...</th>\n      <td>...</td>\n      <td>...</td>\n      <td>...</td>\n      <td>...</td>\n      <td>...</td>\n      <td>...</td>\n      <td>...</td>\n      <td>...</td>\n    </tr>\n    <tr>\n      <th>518</th>\n      <td>28</td>\n      <td>10.08.18 23:13</td>\n      <td>CEST</td>\n      <td>0</td>\n      <td>0</td>\n      <td>1</td>\n      <td>0</td>\n      <td>NaN</td>\n    </tr>\n    <tr>\n      <th>519</th>\n      <td>28</td>\n      <td>13.08.18 21:39</td>\n      <td>CEST</td>\n      <td>0</td>\n      <td>1</td>\n      <td>1</td>\n      <td>0</td>\n      <td>NaN</td>\n    </tr>\n    <tr>\n      <th>520</th>\n      <td>28</td>\n      <td>14.08.18 23:27</td>\n      <td>CEST</td>\n      <td>1</td>\n      <td>0</td>\n      <td>1</td>\n      <td>-1</td>\n      <td>NaN</td>\n    </tr>\n    <tr>\n      <th>521</th>\n      <td>28</td>\n      <td>16.08.18 00:51</td>\n      <td>CEST</td>\n      <td>1</td>\n      <td>1</td>\n      <td>1</td>\n      <td>1</td>\n      <td>NaN</td>\n    </tr>\n    <tr>\n      <th>522</th>\n      <td>28</td>\n      <td>16.08.18 00:52</td>\n      <td>CEST</td>\n      <td>0</td>\n      <td>0</td>\n      <td>1</td>\n      <td>1</td>\n      <td>NaN</td>\n    </tr>\n  </tbody>\n</table>\n<p>523 rows × 8 columns</p>\n</div>"
     },
     "execution_count": 179,
     "metadata": {},
     "output_type": "execute_result"
    }
   ],
   "source": [
    "# convert into numeric classes\n",
    "query = '''\n",
    "SELECT subjectID, timestamp, timezone,\n",
    "CASE\n",
    "WHEN CAST(VAS AS INT) BETWEEN 1.0 AND 4.0 THEN 0\n",
    "WHEN CAST(VAS AS INT) BETWEEN 5.0 AND 10.0 THEN 1\n",
    "END AS 'VAS',\n",
    "CASE\n",
    "WHEN phF LIKE 'never' THEN 0\n",
    "WHEN phF LIKE 'sometimes' OR phF LIKE 'regularly' OR phF LIKE 'often' OR phF LIKE 'always' THEN 1\n",
    "END AS 'phF',\n",
    "CASE\n",
    "WHEN MF LIKE 'never' THEN 0\n",
    "WHEN MF LIKE 'sometimes' OR MF LIKE 'regularly' OR MF LIKE 'often' OR MF LIKE 'always' THEN 1\n",
    "END AS 'MF',\n",
    "CASE\n",
    "WHEN ReIP LIKE 'worse' THEN -1\n",
    "WHEN ReIP LIKE 'same' THEN 0\n",
    "WHEN ReIP LIKE 'better' THEN 1\n",
    "END AS 'ReIP',\n",
    "CASE\n",
    "WHEN sport LIKE 'No' THEN 0\n",
    "WHEN sport LIKE 'Yes' THEN 1\n",
    "END AS 'sport'\n",
    "FROM questionnaires\n",
    "'''\n",
    "temp = sqldf(query)\n",
    "temp"
   ],
   "metadata": {
    "collapsed": false,
    "pycharm": {
     "name": "#%%\n"
    }
   }
  },
  {
   "cell_type": "code",
   "execution_count": 194,
   "outputs": [
    {
     "data": {
      "text/plain": "     subjectID      date timezone      VAS      ReIP      phF       MF  \\\n0           24  06.02.18      CET  1,1,1,0  0,0,0,-1  1,1,1,1  1,1,1,1   \n1           24  07.02.18      CET    0,0,1    0,0,-1    1,0,1    1,0,1   \n2            4  30.03.19      UTC      0,0       1,1      0,0      0,0   \n3            5  04.04.19      UTC      1,0       1,1      1,0      1,0   \n4            5  07.04.19      UTC      1,0       1,1      1,1      1,0   \n..         ...       ...      ...      ...       ...      ...      ...   \n471         27  31.08.18     CEST        0        -1        1        1   \n472         28  09.08.18     CEST        1         0        0        0   \n473         28  10.08.18     CEST        0         0        0        1   \n474         28  13.08.18     CEST        0         0        1        1   \n475         28  14.08.18     CEST        1        -1        0        1   \n\n       sport  n_answers  \n0       <NA>          4  \n1       <NA>          3  \n2        0.0          2  \n3    0.0,0.0          2  \n4    1.0,1.0          2  \n..       ...        ...  \n471     <NA>          1  \n472     <NA>          1  \n473     <NA>          1  \n474     <NA>          1  \n475     <NA>          1  \n\n[476 rows x 9 columns]",
      "text/html": "<div>\n<style scoped>\n    .dataframe tbody tr th:only-of-type {\n        vertical-align: middle;\n    }\n\n    .dataframe tbody tr th {\n        vertical-align: top;\n    }\n\n    .dataframe thead th {\n        text-align: right;\n    }\n</style>\n<table border=\"1\" class=\"dataframe\">\n  <thead>\n    <tr style=\"text-align: right;\">\n      <th></th>\n      <th>subjectID</th>\n      <th>date</th>\n      <th>timezone</th>\n      <th>VAS</th>\n      <th>ReIP</th>\n      <th>phF</th>\n      <th>MF</th>\n      <th>sport</th>\n      <th>n_answers</th>\n    </tr>\n  </thead>\n  <tbody>\n    <tr>\n      <th>0</th>\n      <td>24</td>\n      <td>06.02.18</td>\n      <td>CET</td>\n      <td>1,1,1,0</td>\n      <td>0,0,0,-1</td>\n      <td>1,1,1,1</td>\n      <td>1,1,1,1</td>\n      <td>&lt;NA&gt;</td>\n      <td>4</td>\n    </tr>\n    <tr>\n      <th>1</th>\n      <td>24</td>\n      <td>07.02.18</td>\n      <td>CET</td>\n      <td>0,0,1</td>\n      <td>0,0,-1</td>\n      <td>1,0,1</td>\n      <td>1,0,1</td>\n      <td>&lt;NA&gt;</td>\n      <td>3</td>\n    </tr>\n    <tr>\n      <th>2</th>\n      <td>4</td>\n      <td>30.03.19</td>\n      <td>UTC</td>\n      <td>0,0</td>\n      <td>1,1</td>\n      <td>0,0</td>\n      <td>0,0</td>\n      <td>0.0</td>\n      <td>2</td>\n    </tr>\n    <tr>\n      <th>3</th>\n      <td>5</td>\n      <td>04.04.19</td>\n      <td>UTC</td>\n      <td>1,0</td>\n      <td>1,1</td>\n      <td>1,0</td>\n      <td>1,0</td>\n      <td>0.0,0.0</td>\n      <td>2</td>\n    </tr>\n    <tr>\n      <th>4</th>\n      <td>5</td>\n      <td>07.04.19</td>\n      <td>UTC</td>\n      <td>1,0</td>\n      <td>1,1</td>\n      <td>1,1</td>\n      <td>1,0</td>\n      <td>1.0,1.0</td>\n      <td>2</td>\n    </tr>\n    <tr>\n      <th>...</th>\n      <td>...</td>\n      <td>...</td>\n      <td>...</td>\n      <td>...</td>\n      <td>...</td>\n      <td>...</td>\n      <td>...</td>\n      <td>...</td>\n      <td>...</td>\n    </tr>\n    <tr>\n      <th>471</th>\n      <td>27</td>\n      <td>31.08.18</td>\n      <td>CEST</td>\n      <td>0</td>\n      <td>-1</td>\n      <td>1</td>\n      <td>1</td>\n      <td>&lt;NA&gt;</td>\n      <td>1</td>\n    </tr>\n    <tr>\n      <th>472</th>\n      <td>28</td>\n      <td>09.08.18</td>\n      <td>CEST</td>\n      <td>1</td>\n      <td>0</td>\n      <td>0</td>\n      <td>0</td>\n      <td>&lt;NA&gt;</td>\n      <td>1</td>\n    </tr>\n    <tr>\n      <th>473</th>\n      <td>28</td>\n      <td>10.08.18</td>\n      <td>CEST</td>\n      <td>0</td>\n      <td>0</td>\n      <td>0</td>\n      <td>1</td>\n      <td>&lt;NA&gt;</td>\n      <td>1</td>\n    </tr>\n    <tr>\n      <th>474</th>\n      <td>28</td>\n      <td>13.08.18</td>\n      <td>CEST</td>\n      <td>0</td>\n      <td>0</td>\n      <td>1</td>\n      <td>1</td>\n      <td>&lt;NA&gt;</td>\n      <td>1</td>\n    </tr>\n    <tr>\n      <th>475</th>\n      <td>28</td>\n      <td>14.08.18</td>\n      <td>CEST</td>\n      <td>1</td>\n      <td>-1</td>\n      <td>0</td>\n      <td>1</td>\n      <td>&lt;NA&gt;</td>\n      <td>1</td>\n    </tr>\n  </tbody>\n</table>\n<p>476 rows × 9 columns</p>\n</div>"
     },
     "execution_count": 194,
     "metadata": {},
     "output_type": "execute_result"
    }
   ],
   "source": [
    "# aggregate questionnaires into daily fatigue values\n",
    "query = '''\n",
    "SELECT subjectID, SUBSTRING(Timestamp, 1, 8) AS date, GROUP_CONCAT(DISTINCT timezone) AS timezone, GROUP_CONCAT(VAS) AS VAS, GROUP_CONCAT(ReIP) AS ReIP, GROUP_CONCAT(phF) AS phF, GROUP_CONCAT(MF) AS MF, GROUP_CONCAT(sport) AS sport, COUNT(*) AS n_answers\n",
    "FROM temp\n",
    "GROUP BY subjectID, date\n",
    "ORDER BY n_answers DESC;\n",
    "'''\n",
    "sqldf(query).fillna(value=pd.NA)"
   ],
   "metadata": {
    "collapsed": false,
    "pycharm": {
     "name": "#%%\n"
    }
   }
  },
  {
   "cell_type": "code",
   "execution_count": 228,
   "outputs": [
    {
     "data": {
      "text/plain": "     subjectID      date timezone  VAS  ReIP  phF   MF sport  n_answers\n0           24  06.02.18      CET  1.0   0.0  1.0  1.0  <NA>          4\n1           24  07.02.18      CET  0.0   0.0  1.0  1.0  <NA>          3\n2            4  30.03.19      UTC  0.0   1.0  0.0  0.0   0.0          2\n3            5  04.04.19      UTC  1.0   1.0  1.0  1.0   0.0          2\n4            5  07.04.19      UTC  1.0   1.0  1.0  1.0   1.0          2\n..         ...       ...      ...  ...   ...  ...  ...   ...        ...\n471         27  31.08.18     CEST  0.0  -1.0  1.0  1.0  <NA>          1\n472         28  09.08.18     CEST  1.0   0.0  0.0  0.0  <NA>          1\n473         28  10.08.18     CEST  0.0   0.0  0.0  1.0  <NA>          1\n474         28  13.08.18     CEST  0.0   0.0  1.0  1.0  <NA>          1\n475         28  14.08.18     CEST  1.0  -1.0  0.0  1.0  <NA>          1\n\n[476 rows x 9 columns]",
      "text/html": "<div>\n<style scoped>\n    .dataframe tbody tr th:only-of-type {\n        vertical-align: middle;\n    }\n\n    .dataframe tbody tr th {\n        vertical-align: top;\n    }\n\n    .dataframe thead th {\n        text-align: right;\n    }\n</style>\n<table border=\"1\" class=\"dataframe\">\n  <thead>\n    <tr style=\"text-align: right;\">\n      <th></th>\n      <th>subjectID</th>\n      <th>date</th>\n      <th>timezone</th>\n      <th>VAS</th>\n      <th>ReIP</th>\n      <th>phF</th>\n      <th>MF</th>\n      <th>sport</th>\n      <th>n_answers</th>\n    </tr>\n  </thead>\n  <tbody>\n    <tr>\n      <th>0</th>\n      <td>24</td>\n      <td>06.02.18</td>\n      <td>CET</td>\n      <td>1.0</td>\n      <td>0.0</td>\n      <td>1.0</td>\n      <td>1.0</td>\n      <td>&lt;NA&gt;</td>\n      <td>4</td>\n    </tr>\n    <tr>\n      <th>1</th>\n      <td>24</td>\n      <td>07.02.18</td>\n      <td>CET</td>\n      <td>0.0</td>\n      <td>0.0</td>\n      <td>1.0</td>\n      <td>1.0</td>\n      <td>&lt;NA&gt;</td>\n      <td>3</td>\n    </tr>\n    <tr>\n      <th>2</th>\n      <td>4</td>\n      <td>30.03.19</td>\n      <td>UTC</td>\n      <td>0.0</td>\n      <td>1.0</td>\n      <td>0.0</td>\n      <td>0.0</td>\n      <td>0.0</td>\n      <td>2</td>\n    </tr>\n    <tr>\n      <th>3</th>\n      <td>5</td>\n      <td>04.04.19</td>\n      <td>UTC</td>\n      <td>1.0</td>\n      <td>1.0</td>\n      <td>1.0</td>\n      <td>1.0</td>\n      <td>0.0</td>\n      <td>2</td>\n    </tr>\n    <tr>\n      <th>4</th>\n      <td>5</td>\n      <td>07.04.19</td>\n      <td>UTC</td>\n      <td>1.0</td>\n      <td>1.0</td>\n      <td>1.0</td>\n      <td>1.0</td>\n      <td>1.0</td>\n      <td>2</td>\n    </tr>\n    <tr>\n      <th>...</th>\n      <td>...</td>\n      <td>...</td>\n      <td>...</td>\n      <td>...</td>\n      <td>...</td>\n      <td>...</td>\n      <td>...</td>\n      <td>...</td>\n      <td>...</td>\n    </tr>\n    <tr>\n      <th>471</th>\n      <td>27</td>\n      <td>31.08.18</td>\n      <td>CEST</td>\n      <td>0.0</td>\n      <td>-1.0</td>\n      <td>1.0</td>\n      <td>1.0</td>\n      <td>&lt;NA&gt;</td>\n      <td>1</td>\n    </tr>\n    <tr>\n      <th>472</th>\n      <td>28</td>\n      <td>09.08.18</td>\n      <td>CEST</td>\n      <td>1.0</td>\n      <td>0.0</td>\n      <td>0.0</td>\n      <td>0.0</td>\n      <td>&lt;NA&gt;</td>\n      <td>1</td>\n    </tr>\n    <tr>\n      <th>473</th>\n      <td>28</td>\n      <td>10.08.18</td>\n      <td>CEST</td>\n      <td>0.0</td>\n      <td>0.0</td>\n      <td>0.0</td>\n      <td>1.0</td>\n      <td>&lt;NA&gt;</td>\n      <td>1</td>\n    </tr>\n    <tr>\n      <th>474</th>\n      <td>28</td>\n      <td>13.08.18</td>\n      <td>CEST</td>\n      <td>0.0</td>\n      <td>0.0</td>\n      <td>1.0</td>\n      <td>1.0</td>\n      <td>&lt;NA&gt;</td>\n      <td>1</td>\n    </tr>\n    <tr>\n      <th>475</th>\n      <td>28</td>\n      <td>14.08.18</td>\n      <td>CEST</td>\n      <td>1.0</td>\n      <td>-1.0</td>\n      <td>0.0</td>\n      <td>1.0</td>\n      <td>&lt;NA&gt;</td>\n      <td>1</td>\n    </tr>\n  </tbody>\n</table>\n<p>476 rows × 9 columns</p>\n</div>"
     },
     "execution_count": 228,
     "metadata": {},
     "output_type": "execute_result"
    }
   ],
   "source": [
    "# aggregate questionnaires into SINGLE daily fatigue values\n",
    "# TODO: CHECK VALIDNESS OF AVERAGING\n",
    "query = '''\n",
    "SELECT subjectID, SUBSTRING(Timestamp, 1, 8) AS date, GROUP_CONCAT(DISTINCT timezone) AS timezone, ROUND(AVG(VAS)) AS VAS, ROUND(AVG(ReIP)) AS ReIP, ROUND(AVG(phF)) AS phF, ROUND(AVG(MF)) AS MF, ROUND(AVG(sport)) AS sport, COUNT(*) AS n_answers\n",
    "FROM temp\n",
    "GROUP BY subjectID, date\n",
    "ORDER BY n_answers DESC;\n",
    "'''\n",
    "Y = sqldf(query).fillna(value=pd.NA)\n",
    "Y"
   ],
   "metadata": {
    "collapsed": false,
    "pycharm": {
     "name": "#%%\n"
    }
   }
  },
  {
   "cell_type": "markdown",
   "source": [
    "# b) Physiological data"
   ],
   "metadata": {
    "collapsed": false
   }
  },
  {
   "cell_type": "code",
   "execution_count": 197,
   "outputs": [
    {
     "data": {
      "text/plain": "             Timestamp ActivityCounts Barometer BloodPerfusion BloodPulseWave  \\\n0       14.03.19 14:38       0.784314    981.25            0.0            0.0   \n1       14.03.19 14:39       1.176471     981.2          0.175            1.9   \n2       14.03.19 14:40       2.352941     981.2           0.19           1.82   \n3       14.03.19 14:41       1.176471     981.1           0.11           1.94   \n4       14.03.19 14:42       1.176471     981.2            0.1           1.68   \n...                ...            ...       ...            ...            ...   \n313578  13.09.18 06:36       0.784314     966.9           0.14           2.31   \n313579  13.09.18 06:37       5.882353     966.9           0.13           2.61   \n313580  13.09.18 06:38       2.352941     966.9           0.13           2.34   \n313581  13.09.18 06:39       1.960784     966.9           0.16           2.81   \n313582  13.09.18 06:40       2.352941     966.9           0.14           3.38   \n\n       EnergyExpenditure GalvanicSkinResponse         HR        HRV  \\\n0             753.636566                  NaN       83.0        NaN   \n1            1256.060944                  NaN  75.403633        NaN   \n2            1256.060944                  NaN  69.112653        NaN   \n3            1256.060944                  NaN  69.781164        NaN   \n4            1256.060944                  NaN  72.306609        NaN   \n...                  ...                  ...        ...        ...   \n313578       1363.812563                  NaN  84.831541       42.3   \n313579       1330.995827                  NaN  82.644772  40.933333   \n313580       1330.995827                  NaN  92.145701  41.636364   \n313581       1330.995827                  NaN  91.410742        NaN   \n313582        897.964024                  NaN  91.533824        NaN   \n\n             RESP Steps SkinTemperature  SubjectID ActivityClass  \n0             NaN   0.0           28.28          1           NaN  \n1             NaN   0.0           29.44          1           NaN  \n2         14.5625   0.0           30.41          1           NaN  \n3       12.175528   0.0            31.0          1           NaN  \n4       12.531234   0.0          31.455          1           NaN  \n...           ...   ...             ...        ...           ...  \n313578  20.008803   0.0           32.63         27           NaN  \n313579  21.377863   0.0           32.69         27           NaN  \n313580  21.906977   0.0           32.75         27           NaN  \n313581  16.136986   0.0           32.81         27           NaN  \n313582  16.590599   0.0           32.81         27           NaN  \n\n[1325681 rows x 14 columns]",
      "text/html": "<div>\n<style scoped>\n    .dataframe tbody tr th:only-of-type {\n        vertical-align: middle;\n    }\n\n    .dataframe tbody tr th {\n        vertical-align: top;\n    }\n\n    .dataframe thead th {\n        text-align: right;\n    }\n</style>\n<table border=\"1\" class=\"dataframe\">\n  <thead>\n    <tr style=\"text-align: right;\">\n      <th></th>\n      <th>Timestamp</th>\n      <th>ActivityCounts</th>\n      <th>Barometer</th>\n      <th>BloodPerfusion</th>\n      <th>BloodPulseWave</th>\n      <th>EnergyExpenditure</th>\n      <th>GalvanicSkinResponse</th>\n      <th>HR</th>\n      <th>HRV</th>\n      <th>RESP</th>\n      <th>Steps</th>\n      <th>SkinTemperature</th>\n      <th>SubjectID</th>\n      <th>ActivityClass</th>\n    </tr>\n  </thead>\n  <tbody>\n    <tr>\n      <th>0</th>\n      <td>14.03.19 14:38</td>\n      <td>0.784314</td>\n      <td>981.25</td>\n      <td>0.0</td>\n      <td>0.0</td>\n      <td>753.636566</td>\n      <td>NaN</td>\n      <td>83.0</td>\n      <td>NaN</td>\n      <td>NaN</td>\n      <td>0.0</td>\n      <td>28.28</td>\n      <td>1</td>\n      <td>NaN</td>\n    </tr>\n    <tr>\n      <th>1</th>\n      <td>14.03.19 14:39</td>\n      <td>1.176471</td>\n      <td>981.2</td>\n      <td>0.175</td>\n      <td>1.9</td>\n      <td>1256.060944</td>\n      <td>NaN</td>\n      <td>75.403633</td>\n      <td>NaN</td>\n      <td>NaN</td>\n      <td>0.0</td>\n      <td>29.44</td>\n      <td>1</td>\n      <td>NaN</td>\n    </tr>\n    <tr>\n      <th>2</th>\n      <td>14.03.19 14:40</td>\n      <td>2.352941</td>\n      <td>981.2</td>\n      <td>0.19</td>\n      <td>1.82</td>\n      <td>1256.060944</td>\n      <td>NaN</td>\n      <td>69.112653</td>\n      <td>NaN</td>\n      <td>14.5625</td>\n      <td>0.0</td>\n      <td>30.41</td>\n      <td>1</td>\n      <td>NaN</td>\n    </tr>\n    <tr>\n      <th>3</th>\n      <td>14.03.19 14:41</td>\n      <td>1.176471</td>\n      <td>981.1</td>\n      <td>0.11</td>\n      <td>1.94</td>\n      <td>1256.060944</td>\n      <td>NaN</td>\n      <td>69.781164</td>\n      <td>NaN</td>\n      <td>12.175528</td>\n      <td>0.0</td>\n      <td>31.0</td>\n      <td>1</td>\n      <td>NaN</td>\n    </tr>\n    <tr>\n      <th>4</th>\n      <td>14.03.19 14:42</td>\n      <td>1.176471</td>\n      <td>981.2</td>\n      <td>0.1</td>\n      <td>1.68</td>\n      <td>1256.060944</td>\n      <td>NaN</td>\n      <td>72.306609</td>\n      <td>NaN</td>\n      <td>12.531234</td>\n      <td>0.0</td>\n      <td>31.455</td>\n      <td>1</td>\n      <td>NaN</td>\n    </tr>\n    <tr>\n      <th>...</th>\n      <td>...</td>\n      <td>...</td>\n      <td>...</td>\n      <td>...</td>\n      <td>...</td>\n      <td>...</td>\n      <td>...</td>\n      <td>...</td>\n      <td>...</td>\n      <td>...</td>\n      <td>...</td>\n      <td>...</td>\n      <td>...</td>\n      <td>...</td>\n    </tr>\n    <tr>\n      <th>313578</th>\n      <td>13.09.18 06:36</td>\n      <td>0.784314</td>\n      <td>966.9</td>\n      <td>0.14</td>\n      <td>2.31</td>\n      <td>1363.812563</td>\n      <td>NaN</td>\n      <td>84.831541</td>\n      <td>42.3</td>\n      <td>20.008803</td>\n      <td>0.0</td>\n      <td>32.63</td>\n      <td>27</td>\n      <td>NaN</td>\n    </tr>\n    <tr>\n      <th>313579</th>\n      <td>13.09.18 06:37</td>\n      <td>5.882353</td>\n      <td>966.9</td>\n      <td>0.13</td>\n      <td>2.61</td>\n      <td>1330.995827</td>\n      <td>NaN</td>\n      <td>82.644772</td>\n      <td>40.933333</td>\n      <td>21.377863</td>\n      <td>0.0</td>\n      <td>32.69</td>\n      <td>27</td>\n      <td>NaN</td>\n    </tr>\n    <tr>\n      <th>313580</th>\n      <td>13.09.18 06:38</td>\n      <td>2.352941</td>\n      <td>966.9</td>\n      <td>0.13</td>\n      <td>2.34</td>\n      <td>1330.995827</td>\n      <td>NaN</td>\n      <td>92.145701</td>\n      <td>41.636364</td>\n      <td>21.906977</td>\n      <td>0.0</td>\n      <td>32.75</td>\n      <td>27</td>\n      <td>NaN</td>\n    </tr>\n    <tr>\n      <th>313581</th>\n      <td>13.09.18 06:39</td>\n      <td>1.960784</td>\n      <td>966.9</td>\n      <td>0.16</td>\n      <td>2.81</td>\n      <td>1330.995827</td>\n      <td>NaN</td>\n      <td>91.410742</td>\n      <td>NaN</td>\n      <td>16.136986</td>\n      <td>0.0</td>\n      <td>32.81</td>\n      <td>27</td>\n      <td>NaN</td>\n    </tr>\n    <tr>\n      <th>313582</th>\n      <td>13.09.18 06:40</td>\n      <td>2.352941</td>\n      <td>966.9</td>\n      <td>0.14</td>\n      <td>3.38</td>\n      <td>897.964024</td>\n      <td>NaN</td>\n      <td>91.533824</td>\n      <td>NaN</td>\n      <td>16.590599</td>\n      <td>0.0</td>\n      <td>32.81</td>\n      <td>27</td>\n      <td>NaN</td>\n    </tr>\n  </tbody>\n</table>\n<p>1325681 rows × 14 columns</p>\n</div>"
     },
     "execution_count": 197,
     "metadata": {},
     "output_type": "execute_result"
    }
   ],
   "source": [
    "physio = physio.fillna(value='NaN') # otherwise SQL will ignore None values\n",
    "physio"
   ],
   "metadata": {
    "collapsed": false,
    "pycharm": {
     "name": "#%%\n"
    }
   }
  },
  {
   "cell_type": "code",
   "execution_count": 225,
   "outputs": [
    {
     "data": {
      "text/plain": "     subjectID      date                                     ActivityCounts  \\\n0            1  14.03.19  0.784313725,1.176470588,2.352941176,1.17647058...   \n1            1  15.03.19  0.784313725,0.784313725,0.784313725,0.78431372...   \n2            1  16.03.19  0.784313725,1.176470588,5.098039216,0.78431372...   \n3            1  17.03.19  0.784313725,0.784313725,0.784313725,0.78431372...   \n4            1  18.03.19  0.784313725,1.176470588,0.784313725,0.78431372...   \n..         ...       ...                                                ...   \n946         27  30.08.18  0.784313725,0.784313725,0.784313725,0.78431372...   \n947         27  31.03.18  NaN,NaN,NaN,NaN,NaN,NaN,NaN,NaN,NaN,NaN,NaN,Na...   \n948         27  31.05.18  NaN,NaN,NaN,NaN,NaN,NaN,NaN,NaN,NaN,NaN,NaN,Na...   \n949         27  31.07.18  NaN,NaN,NaN,NaN,NaN,NaN,NaN,NaN,NaN,NaN,NaN,Na...   \n950         27  31.08.18  0.784313725,0.784313725,0.784313725,0.78431372...   \n\n                                             Barometer  \\\n0    981.25,981.2,981.2,981.1,981.2,981.3,981.2,981...   \n1    984.4,984.5,984.3,984.4,984.3,984.4,984.3,984....   \n2    990.7,990.6,990.7,990.7,990.8,990.75,990.8,990...   \n3    982.15,982.05,982.0,982.0,982.0,982.0,982.0,98...   \n4    988.5,988.6,988.7,988.65,988.5,988.5,988.5,988...   \n..                                                 ...   \n946  967.1,967.05,967.0,967.1,967.1,967.0,967.0,967...   \n947  NaN,NaN,NaN,NaN,NaN,NaN,NaN,NaN,NaN,NaN,NaN,Na...   \n948  NaN,NaN,NaN,NaN,NaN,NaN,NaN,NaN,NaN,NaN,NaN,Na...   \n949  NaN,NaN,NaN,NaN,NaN,NaN,NaN,NaN,NaN,NaN,NaN,Na...   \n950  968.1,968.0,968.0,967.9,967.9,967.9,967.9,967....   \n\n                                        BloodPerfusion  \\\n0    0.0,0.175,0.19,0.11,0.1,0.09,NaN,NaN,NaN,NaN,N...   \n1    0.875,0.825,0.975,0.98,1.0,0.985,0.96,0.93,0.9...   \n2    1.045,0.79,0.84,0.585,0.415,0.74,0.835,0.835,0...   \n3    1.42,1.47,1.48,1.46,1.49,1.475,1.47,1.46,1.45,...   \n4    1.48,1.49,1.155,1.525,1.38,1.45,1.555,1.41,1.6...   \n..                                                 ...   \n946  0.62,0.63,0.5,0.56,0.555,0.55,0.53,0.51,0.49,0...   \n947  NaN,NaN,NaN,NaN,NaN,NaN,NaN,NaN,NaN,NaN,NaN,Na...   \n948  NaN,NaN,NaN,NaN,NaN,NaN,NaN,NaN,NaN,NaN,NaN,Na...   \n949  NaN,NaN,NaN,NaN,NaN,NaN,NaN,NaN,NaN,NaN,NaN,Na...   \n950  0.4,0.42,0.4,0.39,0.38,0.38,0.36,0.36,0.375,0....   \n\n                                        BloodPulseWave  \\\n0    0.0,1.9,1.82,1.94,1.68,1.09,NaN,NaN,NaN,NaN,Na...   \n1    2.27,2.18,2.19,2.18,2.02,2.27,2.27,2.49,2.17,2...   \n2    2.32,2.22,2.44,2.18,2.45,2.44,2.24,2.28,2.18,2...   \n3    2.86,2.7,2.73,2.72,2.68,2.9,2.96,3.02,3.08,3.3...   \n4    1.54,1.61,2.18,2.01,1.76,1.76,1.78,1.81,1.5,1....   \n..                                                 ...   \n946  2.68,2.7,2.78,2.45,2.58,2.67,2.52,2.5,2.6,2.6,...   \n947  NaN,NaN,NaN,NaN,NaN,NaN,NaN,NaN,NaN,NaN,NaN,Na...   \n948  NaN,NaN,NaN,NaN,NaN,NaN,NaN,NaN,NaN,NaN,NaN,Na...   \n949  NaN,NaN,NaN,NaN,NaN,NaN,NaN,NaN,NaN,NaN,NaN,Na...   \n950  3.26,3.24,3.34,3.03,3.02,3.1,3.06,3.01,3.03,2....   \n\n                                     EnergyExpenditure  \\\n0    753.6365662,1256.060944,1256.060944,1256.06094...   \n1    1311.85318,1311.85318,1311.85318,1311.85318,13...   \n2    1311.85318,1311.85318,1311.85318,1311.85318,13...   \n3    1311.85318,1311.85318,1311.85318,1311.85318,13...   \n4    1289.98896,1311.85318,1311.85318,1311.85318,13...   \n..                                                 ...   \n946  1330.995827,1330.995827,1374.446035,1330.99582...   \n947  NaN,NaN,NaN,NaN,NaN,NaN,NaN,NaN,NaN,NaN,NaN,Na...   \n948  NaN,NaN,NaN,NaN,NaN,NaN,NaN,NaN,NaN,NaN,NaN,Na...   \n949  NaN,NaN,NaN,NaN,NaN,NaN,NaN,NaN,NaN,NaN,NaN,Na...   \n950  1042.613398,1330.995827,1330.995827,1330.99582...   \n\n                                  GalvanicSkinResponse  \\\n0    NaN,NaN,NaN,NaN,NaN,NaN,NaN,NaN,NaN,NaN,NaN,Na...   \n1    2.471338889,2.46735,2.466372222,2.4621,2.45465...   \n2    1.172788889,1.171305556,1.061122222,3.09794444...   \n3    2.573777778,2.567694444,2.560622222,2.55622222...   \n4    2.632423729,2.630555556,2.626594444,2.62318333...   \n..                                                 ...   \n946  0.925716667,0.934888889,0.854785311,0.85772777...   \n947  NaN,NaN,NaN,NaN,NaN,NaN,NaN,NaN,NaN,NaN,NaN,Na...   \n948  NaN,NaN,NaN,NaN,NaN,NaN,NaN,NaN,NaN,NaN,NaN,Na...   \n949  NaN,NaN,NaN,NaN,NaN,NaN,NaN,NaN,NaN,NaN,NaN,Na...   \n950  NaN,NaN,NaN,NaN,NaN,NaN,NaN,NaN,NaN,NaN,NaN,Na...   \n\n                                                    HR  \\\n0    83.0,75.40363269,69.11265332,69.78116438,72.30...   \n1    67.54923531,57.26287697,55.2253739,58.43175416...   \n2    64.65655738,63.83929024,63.86047157,62.6129328...   \n3    69.66641006,70.49757838,70.17700916,69.3862999...   \n4    57.42528736,59.38585964,65.7858185,58.39290306...   \n..                                                 ...   \n946  63.41839611,63.30076726,65.60981987,58.1836150...   \n947  NaN,NaN,NaN,NaN,NaN,NaN,NaN,NaN,NaN,NaN,NaN,Na...   \n948  NaN,NaN,NaN,NaN,NaN,NaN,NaN,NaN,NaN,NaN,NaN,Na...   \n949  NaN,NaN,NaN,NaN,NaN,NaN,NaN,NaN,NaN,NaN,NaN,Na...   \n950  68.6656586,68.73745072,68.6343461,69.26817703,...   \n\n                                                   HRV  \\\n0    NaN,NaN,NaN,NaN,NaN,NaN,NaN,NaN,NaN,NaN,NaN,Na...   \n1    44.92312073,51.26666667,57.7,58.01666667,57.41...   \n2    31.3815721,34.48333333,36.25,39.48333333,41.9,...   \n3    23.08598131,22.81666667,20.41666667,20.5166666...   \n4    33.69491525,34.18333333,37.91988636,46.85,52.9...   \n..                                                 ...   \n946  44.13333333,43.55,42.65485714,40.7,39.26666667...   \n947  NaN,NaN,NaN,NaN,NaN,NaN,NaN,NaN,NaN,NaN,NaN,Na...   \n948  NaN,NaN,NaN,NaN,NaN,NaN,NaN,NaN,NaN,NaN,NaN,Na...   \n949  NaN,NaN,NaN,NaN,NaN,NaN,NaN,NaN,NaN,NaN,NaN,Na...   \n950  36.89361702,38.05,40.23333333,41.26297376,38.0...   \n\n                                                  RESP  \\\n0    NaN,NaN,14.5625,12.17552786,12.531234,14.69469...   \n1    14.34420472,14.21430416,12.45540139,14.6309642...   \n2    15.03026316,15.03544724,12.88235294,12.5884458...   \n3    14.23136959,13.68923699,16.7,16.6549496,13.494...   \n4    15.35642063,14.75081392,14.21644803,10.5670285...   \n..                                                 ...   \n946  16.56763527,17.25,16.70448549,15.14208633,14.6...   \n947  NaN,NaN,NaN,NaN,NaN,NaN,NaN,NaN,NaN,NaN,NaN,Na...   \n948  NaN,NaN,NaN,NaN,NaN,NaN,NaN,NaN,NaN,NaN,NaN,Na...   \n949  NaN,NaN,NaN,NaN,NaN,NaN,NaN,NaN,NaN,NaN,NaN,Na...   \n950  16.81077655,17.84992534,17.23233869,17.7514792...   \n\n                                                 Steps  \\\n0    0.0,0.0,0.0,0.0,0.0,0.0,0.0,0.0,0.0,0.0,NaN,0....   \n1    0.0,0.0,0.0,0.0,0.0,0.0,0.0,0.0,0.0,0.0,0.0,0....   \n2    0.0,0.0,0.0,0.0,0.0,0.0,0.0,0.0,0.0,0.0,0.0,0....   \n3    0.0,0.0,0.0,0.0,0.0,0.0,0.0,0.0,0.0,0.0,0.0,0....   \n4    0.0,0.0,0.0,0.0,0.0,0.0,0.0,0.0,0.0,0.0,0.0,0....   \n..                                                 ...   \n946  0.0,0.0,0.0,0.0,0.0,0.0,0.0,0.0,0.0,0.0,0.0,0....   \n947  NaN,NaN,NaN,NaN,NaN,NaN,NaN,NaN,NaN,NaN,NaN,Na...   \n948  NaN,NaN,NaN,NaN,NaN,NaN,NaN,NaN,NaN,NaN,NaN,Na...   \n949  NaN,NaN,NaN,NaN,NaN,NaN,NaN,NaN,NaN,NaN,NaN,Na...   \n950  0.0,0.0,0.0,0.0,0.0,0.0,0.0,0.0,0.0,0.0,0.0,0....   \n\n                                       SkinTemperature  \\\n0    28.28,29.44,30.41,31.0,31.455,31.795,32.22,31....   \n1    36.13,36.19,36.25,36.31,36.44,36.5,36.59,36.69...   \n2    34.34,34.38,34.38,34.455,34.16,34.06,34.19,34....   \n3    35.63,35.63,35.44,35.41,35.38,35.38,35.38,35.3...   \n4    36.94,36.97,36.97,36.69,36.53,36.34,36.19,35.9...   \n..                                                 ...   \n946  36.44,36.41,36.38,36.34,36.31,36.22,36.16,36.0...   \n947  NaN,NaN,NaN,NaN,NaN,NaN,NaN,NaN,NaN,NaN,NaN,Na...   \n948  NaN,NaN,NaN,NaN,NaN,NaN,NaN,NaN,NaN,NaN,NaN,Na...   \n949  NaN,NaN,NaN,NaN,NaN,NaN,NaN,NaN,NaN,NaN,NaN,Na...   \n950  35.25,35.41,35.41,35.41,35.44,35.47,35.5,35.53...   \n\n                                         ActivityClass  \n0    NaN,NaN,NaN,NaN,NaN,NaN,NaN,NaN,NaN,NaN,NaN,Na...  \n1    NaN,NaN,NaN,NaN,NaN,NaN,NaN,NaN,NaN,NaN,NaN,Na...  \n2    NaN,NaN,NaN,NaN,NaN,NaN,NaN,NaN,NaN,NaN,NaN,Na...  \n3    NaN,NaN,NaN,NaN,NaN,NaN,NaN,NaN,NaN,NaN,NaN,Na...  \n4    NaN,NaN,NaN,NaN,NaN,NaN,NaN,NaN,NaN,NaN,NaN,Na...  \n..                                                 ...  \n946  1.0,1.0,1.0,1.0,1.0,1.0,1.0,1.0,1.0,1.0,1.0,1....  \n947  NaN,NaN,NaN,NaN,NaN,NaN,NaN,NaN,NaN,NaN,NaN,Na...  \n948  NaN,NaN,NaN,NaN,NaN,NaN,NaN,NaN,NaN,NaN,NaN,Na...  \n949  NaN,NaN,NaN,NaN,NaN,NaN,NaN,NaN,NaN,NaN,NaN,Na...  \n950  1.0,1.0,1.0,1.0,1.0,1.0,1.0,1.0,1.0,1.0,1.0,1....  \n\n[951 rows x 14 columns]",
      "text/html": "<div>\n<style scoped>\n    .dataframe tbody tr th:only-of-type {\n        vertical-align: middle;\n    }\n\n    .dataframe tbody tr th {\n        vertical-align: top;\n    }\n\n    .dataframe thead th {\n        text-align: right;\n    }\n</style>\n<table border=\"1\" class=\"dataframe\">\n  <thead>\n    <tr style=\"text-align: right;\">\n      <th></th>\n      <th>subjectID</th>\n      <th>date</th>\n      <th>ActivityCounts</th>\n      <th>Barometer</th>\n      <th>BloodPerfusion</th>\n      <th>BloodPulseWave</th>\n      <th>EnergyExpenditure</th>\n      <th>GalvanicSkinResponse</th>\n      <th>HR</th>\n      <th>HRV</th>\n      <th>RESP</th>\n      <th>Steps</th>\n      <th>SkinTemperature</th>\n      <th>ActivityClass</th>\n    </tr>\n  </thead>\n  <tbody>\n    <tr>\n      <th>0</th>\n      <td>1</td>\n      <td>14.03.19</td>\n      <td>0.784313725,1.176470588,2.352941176,1.17647058...</td>\n      <td>981.25,981.2,981.2,981.1,981.2,981.3,981.2,981...</td>\n      <td>0.0,0.175,0.19,0.11,0.1,0.09,NaN,NaN,NaN,NaN,N...</td>\n      <td>0.0,1.9,1.82,1.94,1.68,1.09,NaN,NaN,NaN,NaN,Na...</td>\n      <td>753.6365662,1256.060944,1256.060944,1256.06094...</td>\n      <td>NaN,NaN,NaN,NaN,NaN,NaN,NaN,NaN,NaN,NaN,NaN,Na...</td>\n      <td>83.0,75.40363269,69.11265332,69.78116438,72.30...</td>\n      <td>NaN,NaN,NaN,NaN,NaN,NaN,NaN,NaN,NaN,NaN,NaN,Na...</td>\n      <td>NaN,NaN,14.5625,12.17552786,12.531234,14.69469...</td>\n      <td>0.0,0.0,0.0,0.0,0.0,0.0,0.0,0.0,0.0,0.0,NaN,0....</td>\n      <td>28.28,29.44,30.41,31.0,31.455,31.795,32.22,31....</td>\n      <td>NaN,NaN,NaN,NaN,NaN,NaN,NaN,NaN,NaN,NaN,NaN,Na...</td>\n    </tr>\n    <tr>\n      <th>1</th>\n      <td>1</td>\n      <td>15.03.19</td>\n      <td>0.784313725,0.784313725,0.784313725,0.78431372...</td>\n      <td>984.4,984.5,984.3,984.4,984.3,984.4,984.3,984....</td>\n      <td>0.875,0.825,0.975,0.98,1.0,0.985,0.96,0.93,0.9...</td>\n      <td>2.27,2.18,2.19,2.18,2.02,2.27,2.27,2.49,2.17,2...</td>\n      <td>1311.85318,1311.85318,1311.85318,1311.85318,13...</td>\n      <td>2.471338889,2.46735,2.466372222,2.4621,2.45465...</td>\n      <td>67.54923531,57.26287697,55.2253739,58.43175416...</td>\n      <td>44.92312073,51.26666667,57.7,58.01666667,57.41...</td>\n      <td>14.34420472,14.21430416,12.45540139,14.6309642...</td>\n      <td>0.0,0.0,0.0,0.0,0.0,0.0,0.0,0.0,0.0,0.0,0.0,0....</td>\n      <td>36.13,36.19,36.25,36.31,36.44,36.5,36.59,36.69...</td>\n      <td>NaN,NaN,NaN,NaN,NaN,NaN,NaN,NaN,NaN,NaN,NaN,Na...</td>\n    </tr>\n    <tr>\n      <th>2</th>\n      <td>1</td>\n      <td>16.03.19</td>\n      <td>0.784313725,1.176470588,5.098039216,0.78431372...</td>\n      <td>990.7,990.6,990.7,990.7,990.8,990.75,990.8,990...</td>\n      <td>1.045,0.79,0.84,0.585,0.415,0.74,0.835,0.835,0...</td>\n      <td>2.32,2.22,2.44,2.18,2.45,2.44,2.24,2.28,2.18,2...</td>\n      <td>1311.85318,1311.85318,1311.85318,1311.85318,13...</td>\n      <td>1.172788889,1.171305556,1.061122222,3.09794444...</td>\n      <td>64.65655738,63.83929024,63.86047157,62.6129328...</td>\n      <td>31.3815721,34.48333333,36.25,39.48333333,41.9,...</td>\n      <td>15.03026316,15.03544724,12.88235294,12.5884458...</td>\n      <td>0.0,0.0,0.0,0.0,0.0,0.0,0.0,0.0,0.0,0.0,0.0,0....</td>\n      <td>34.34,34.38,34.38,34.455,34.16,34.06,34.19,34....</td>\n      <td>NaN,NaN,NaN,NaN,NaN,NaN,NaN,NaN,NaN,NaN,NaN,Na...</td>\n    </tr>\n    <tr>\n      <th>3</th>\n      <td>1</td>\n      <td>17.03.19</td>\n      <td>0.784313725,0.784313725,0.784313725,0.78431372...</td>\n      <td>982.15,982.05,982.0,982.0,982.0,982.0,982.0,98...</td>\n      <td>1.42,1.47,1.48,1.46,1.49,1.475,1.47,1.46,1.45,...</td>\n      <td>2.86,2.7,2.73,2.72,2.68,2.9,2.96,3.02,3.08,3.3...</td>\n      <td>1311.85318,1311.85318,1311.85318,1311.85318,13...</td>\n      <td>2.573777778,2.567694444,2.560622222,2.55622222...</td>\n      <td>69.66641006,70.49757838,70.17700916,69.3862999...</td>\n      <td>23.08598131,22.81666667,20.41666667,20.5166666...</td>\n      <td>14.23136959,13.68923699,16.7,16.6549496,13.494...</td>\n      <td>0.0,0.0,0.0,0.0,0.0,0.0,0.0,0.0,0.0,0.0,0.0,0....</td>\n      <td>35.63,35.63,35.44,35.41,35.38,35.38,35.38,35.3...</td>\n      <td>NaN,NaN,NaN,NaN,NaN,NaN,NaN,NaN,NaN,NaN,NaN,Na...</td>\n    </tr>\n    <tr>\n      <th>4</th>\n      <td>1</td>\n      <td>18.03.19</td>\n      <td>0.784313725,1.176470588,0.784313725,0.78431372...</td>\n      <td>988.5,988.6,988.7,988.65,988.5,988.5,988.5,988...</td>\n      <td>1.48,1.49,1.155,1.525,1.38,1.45,1.555,1.41,1.6...</td>\n      <td>1.54,1.61,2.18,2.01,1.76,1.76,1.78,1.81,1.5,1....</td>\n      <td>1289.98896,1311.85318,1311.85318,1311.85318,13...</td>\n      <td>2.632423729,2.630555556,2.626594444,2.62318333...</td>\n      <td>57.42528736,59.38585964,65.7858185,58.39290306...</td>\n      <td>33.69491525,34.18333333,37.91988636,46.85,52.9...</td>\n      <td>15.35642063,14.75081392,14.21644803,10.5670285...</td>\n      <td>0.0,0.0,0.0,0.0,0.0,0.0,0.0,0.0,0.0,0.0,0.0,0....</td>\n      <td>36.94,36.97,36.97,36.69,36.53,36.34,36.19,35.9...</td>\n      <td>NaN,NaN,NaN,NaN,NaN,NaN,NaN,NaN,NaN,NaN,NaN,Na...</td>\n    </tr>\n    <tr>\n      <th>...</th>\n      <td>...</td>\n      <td>...</td>\n      <td>...</td>\n      <td>...</td>\n      <td>...</td>\n      <td>...</td>\n      <td>...</td>\n      <td>...</td>\n      <td>...</td>\n      <td>...</td>\n      <td>...</td>\n      <td>...</td>\n      <td>...</td>\n      <td>...</td>\n    </tr>\n    <tr>\n      <th>946</th>\n      <td>27</td>\n      <td>30.08.18</td>\n      <td>0.784313725,0.784313725,0.784313725,0.78431372...</td>\n      <td>967.1,967.05,967.0,967.1,967.1,967.0,967.0,967...</td>\n      <td>0.62,0.63,0.5,0.56,0.555,0.55,0.53,0.51,0.49,0...</td>\n      <td>2.68,2.7,2.78,2.45,2.58,2.67,2.52,2.5,2.6,2.6,...</td>\n      <td>1330.995827,1330.995827,1374.446035,1330.99582...</td>\n      <td>0.925716667,0.934888889,0.854785311,0.85772777...</td>\n      <td>63.41839611,63.30076726,65.60981987,58.1836150...</td>\n      <td>44.13333333,43.55,42.65485714,40.7,39.26666667...</td>\n      <td>16.56763527,17.25,16.70448549,15.14208633,14.6...</td>\n      <td>0.0,0.0,0.0,0.0,0.0,0.0,0.0,0.0,0.0,0.0,0.0,0....</td>\n      <td>36.44,36.41,36.38,36.34,36.31,36.22,36.16,36.0...</td>\n      <td>1.0,1.0,1.0,1.0,1.0,1.0,1.0,1.0,1.0,1.0,1.0,1....</td>\n    </tr>\n    <tr>\n      <th>947</th>\n      <td>27</td>\n      <td>31.03.18</td>\n      <td>NaN,NaN,NaN,NaN,NaN,NaN,NaN,NaN,NaN,NaN,NaN,Na...</td>\n      <td>NaN,NaN,NaN,NaN,NaN,NaN,NaN,NaN,NaN,NaN,NaN,Na...</td>\n      <td>NaN,NaN,NaN,NaN,NaN,NaN,NaN,NaN,NaN,NaN,NaN,Na...</td>\n      <td>NaN,NaN,NaN,NaN,NaN,NaN,NaN,NaN,NaN,NaN,NaN,Na...</td>\n      <td>NaN,NaN,NaN,NaN,NaN,NaN,NaN,NaN,NaN,NaN,NaN,Na...</td>\n      <td>NaN,NaN,NaN,NaN,NaN,NaN,NaN,NaN,NaN,NaN,NaN,Na...</td>\n      <td>NaN,NaN,NaN,NaN,NaN,NaN,NaN,NaN,NaN,NaN,NaN,Na...</td>\n      <td>NaN,NaN,NaN,NaN,NaN,NaN,NaN,NaN,NaN,NaN,NaN,Na...</td>\n      <td>NaN,NaN,NaN,NaN,NaN,NaN,NaN,NaN,NaN,NaN,NaN,Na...</td>\n      <td>NaN,NaN,NaN,NaN,NaN,NaN,NaN,NaN,NaN,NaN,NaN,Na...</td>\n      <td>NaN,NaN,NaN,NaN,NaN,NaN,NaN,NaN,NaN,NaN,NaN,Na...</td>\n      <td>NaN,NaN,NaN,NaN,NaN,NaN,NaN,NaN,NaN,NaN,NaN,Na...</td>\n    </tr>\n    <tr>\n      <th>948</th>\n      <td>27</td>\n      <td>31.05.18</td>\n      <td>NaN,NaN,NaN,NaN,NaN,NaN,NaN,NaN,NaN,NaN,NaN,Na...</td>\n      <td>NaN,NaN,NaN,NaN,NaN,NaN,NaN,NaN,NaN,NaN,NaN,Na...</td>\n      <td>NaN,NaN,NaN,NaN,NaN,NaN,NaN,NaN,NaN,NaN,NaN,Na...</td>\n      <td>NaN,NaN,NaN,NaN,NaN,NaN,NaN,NaN,NaN,NaN,NaN,Na...</td>\n      <td>NaN,NaN,NaN,NaN,NaN,NaN,NaN,NaN,NaN,NaN,NaN,Na...</td>\n      <td>NaN,NaN,NaN,NaN,NaN,NaN,NaN,NaN,NaN,NaN,NaN,Na...</td>\n      <td>NaN,NaN,NaN,NaN,NaN,NaN,NaN,NaN,NaN,NaN,NaN,Na...</td>\n      <td>NaN,NaN,NaN,NaN,NaN,NaN,NaN,NaN,NaN,NaN,NaN,Na...</td>\n      <td>NaN,NaN,NaN,NaN,NaN,NaN,NaN,NaN,NaN,NaN,NaN,Na...</td>\n      <td>NaN,NaN,NaN,NaN,NaN,NaN,NaN,NaN,NaN,NaN,NaN,Na...</td>\n      <td>NaN,NaN,NaN,NaN,NaN,NaN,NaN,NaN,NaN,NaN,NaN,Na...</td>\n      <td>NaN,NaN,NaN,NaN,NaN,NaN,NaN,NaN,NaN,NaN,NaN,Na...</td>\n    </tr>\n    <tr>\n      <th>949</th>\n      <td>27</td>\n      <td>31.07.18</td>\n      <td>NaN,NaN,NaN,NaN,NaN,NaN,NaN,NaN,NaN,NaN,NaN,Na...</td>\n      <td>NaN,NaN,NaN,NaN,NaN,NaN,NaN,NaN,NaN,NaN,NaN,Na...</td>\n      <td>NaN,NaN,NaN,NaN,NaN,NaN,NaN,NaN,NaN,NaN,NaN,Na...</td>\n      <td>NaN,NaN,NaN,NaN,NaN,NaN,NaN,NaN,NaN,NaN,NaN,Na...</td>\n      <td>NaN,NaN,NaN,NaN,NaN,NaN,NaN,NaN,NaN,NaN,NaN,Na...</td>\n      <td>NaN,NaN,NaN,NaN,NaN,NaN,NaN,NaN,NaN,NaN,NaN,Na...</td>\n      <td>NaN,NaN,NaN,NaN,NaN,NaN,NaN,NaN,NaN,NaN,NaN,Na...</td>\n      <td>NaN,NaN,NaN,NaN,NaN,NaN,NaN,NaN,NaN,NaN,NaN,Na...</td>\n      <td>NaN,NaN,NaN,NaN,NaN,NaN,NaN,NaN,NaN,NaN,NaN,Na...</td>\n      <td>NaN,NaN,NaN,NaN,NaN,NaN,NaN,NaN,NaN,NaN,NaN,Na...</td>\n      <td>NaN,NaN,NaN,NaN,NaN,NaN,NaN,NaN,NaN,NaN,NaN,Na...</td>\n      <td>NaN,NaN,NaN,NaN,NaN,NaN,NaN,NaN,NaN,NaN,NaN,Na...</td>\n    </tr>\n    <tr>\n      <th>950</th>\n      <td>27</td>\n      <td>31.08.18</td>\n      <td>0.784313725,0.784313725,0.784313725,0.78431372...</td>\n      <td>968.1,968.0,968.0,967.9,967.9,967.9,967.9,967....</td>\n      <td>0.4,0.42,0.4,0.39,0.38,0.38,0.36,0.36,0.375,0....</td>\n      <td>3.26,3.24,3.34,3.03,3.02,3.1,3.06,3.01,3.03,2....</td>\n      <td>1042.613398,1330.995827,1330.995827,1330.99582...</td>\n      <td>NaN,NaN,NaN,NaN,NaN,NaN,NaN,NaN,NaN,NaN,NaN,Na...</td>\n      <td>68.6656586,68.73745072,68.6343461,69.26817703,...</td>\n      <td>36.89361702,38.05,40.23333333,41.26297376,38.0...</td>\n      <td>16.81077655,17.84992534,17.23233869,17.7514792...</td>\n      <td>0.0,0.0,0.0,0.0,0.0,0.0,0.0,0.0,0.0,0.0,0.0,0....</td>\n      <td>35.25,35.41,35.41,35.41,35.44,35.47,35.5,35.53...</td>\n      <td>1.0,1.0,1.0,1.0,1.0,1.0,1.0,1.0,1.0,1.0,1.0,1....</td>\n    </tr>\n  </tbody>\n</table>\n<p>951 rows × 14 columns</p>\n</div>"
     },
     "execution_count": 225,
     "metadata": {},
     "output_type": "execute_result"
    }
   ],
   "source": [
    "query = '''\n",
    "SELECT SubjectID AS subjectID,\n",
    "    SUBSTRING(Timestamp, 1, 8) AS date,\n",
    "    GROUP_CONCAT(ActivityCounts) AS ActivityCounts,\n",
    "    GROUP_CONCAT(Barometer) AS Barometer,\n",
    "    GROUP_CONCAT(BloodPerfusion) AS BloodPerfusion,\n",
    "    GROUP_CONCAT(BloodPulseWave) AS BloodPulseWave,\n",
    "    GROUP_CONCAT(EnergyExpenditure) AS EnergyExpenditure,\n",
    "    GROUP_CONCAT(GalvanicSkinResponse) AS GalvanicSkinResponse,\n",
    "    GROUP_CONCAT(HR) AS HR, GROUP_CONCAT(HRV) AS HRV,\n",
    "    GROUP_CONCAT(RESP) AS RESP,\n",
    "    GROUP_CONCAT(Steps) AS Steps,\n",
    "    GROUP_CONCAT(SkinTemperature) AS SkinTemperature,\n",
    "    GROUP_CONCAT(ActivityClass) AS ActivityClass\n",
    "FROM physio\n",
    "GROUP BY subjectID, date;'''\n",
    "X = sqldf(query)\n",
    "X"
   ],
   "metadata": {
    "collapsed": false,
    "pycharm": {
     "name": "#%%\n"
    }
   }
  },
  {
   "cell_type": "code",
   "execution_count": 223,
   "outputs": [
    {
     "data": {
      "text/plain": "     subjectID      date                                     ActivityCounts  \\\n0            1  14.03.19  (0.784313725,14:38),(1.176470588,14:39),(2.352...   \n1            1  15.03.19  (0.784313725,00:00),(0.784313725,00:01),(0.784...   \n2            1  16.03.19  (0.784313725,00:00),(1.176470588,00:01),(5.098...   \n3            1  17.03.19  (0.784313725,00:00),(0.784313725,00:01),(0.784...   \n4            1  18.03.19  (0.784313725,00:00),(1.176470588,00:01),(0.784...   \n..         ...       ...                                                ...   \n946         27  30.08.18  (0.784313725,00:00),(0.784313725,00:01),(0.784...   \n947         27  31.03.18  (NaN,00:00),(NaN,00:01),(NaN,00:02),(NaN,00:03...   \n948         27  31.05.18  (NaN,00:00),(NaN,00:01),(NaN,00:02),(NaN,00:03...   \n949         27  31.07.18  (NaN,00:00),(NaN,00:01),(NaN,00:02),(NaN,00:03...   \n950         27  31.08.18  (0.784313725,00:00),(0.784313725,00:01),(0.784...   \n\n                                             Barometer  \\\n0    (981.25,14:38),(981.2,14:39),(981.2,14:40),(98...   \n1    (984.4,00:00),(984.5,00:01),(984.3,00:02),(984...   \n2    (990.7,00:00),(990.6,00:01),(990.7,00:02),(990...   \n3    (982.15,00:00),(982.05,00:01),(982.0,00:02),(9...   \n4    (988.5,00:00),(988.6,00:01),(988.7,00:02),(988...   \n..                                                 ...   \n946  (967.1,00:00),(967.05,00:01),(967.0,00:02),(96...   \n947  (NaN,00:00),(NaN,00:01),(NaN,00:02),(NaN,00:03...   \n948  (NaN,00:00),(NaN,00:01),(NaN,00:02),(NaN,00:03...   \n949  (NaN,00:00),(NaN,00:01),(NaN,00:02),(NaN,00:03...   \n950  (968.1,00:00),(968.0,00:01),(968.0,00:02),(967...   \n\n                                        BloodPerfusion  \\\n0    (0.0,14:38),(0.175,14:39),(0.19,14:40),(0.11,1...   \n1    (0.875,00:00),(0.825,00:01),(0.975,00:02),(0.9...   \n2    (1.045,00:00),(0.79,00:01),(0.84,00:02),(0.585...   \n3    (1.42,00:00),(1.47,00:01),(1.48,00:02),(1.46,0...   \n4    (1.48,00:00),(1.49,00:01),(1.155,00:02),(1.525...   \n..                                                 ...   \n946  (0.62,00:00),(0.63,00:01),(0.5,00:02),(0.56,00...   \n947  (NaN,00:00),(NaN,00:01),(NaN,00:02),(NaN,00:03...   \n948  (NaN,00:00),(NaN,00:01),(NaN,00:02),(NaN,00:03...   \n949  (NaN,00:00),(NaN,00:01),(NaN,00:02),(NaN,00:03...   \n950  (0.4,00:00),(0.42,00:01),(0.4,00:02),(0.39,00:...   \n\n                                        BloodPulseWave  \\\n0    (0.0,14:38),(1.9,14:39),(1.82,14:40),(1.94,14:...   \n1    (2.27,00:00),(2.18,00:01),(2.19,00:02),(2.18,0...   \n2    (2.32,00:00),(2.22,00:01),(2.44,00:02),(2.18,0...   \n3    (2.86,00:00),(2.7,00:01),(2.73,00:02),(2.72,00...   \n4    (1.54,00:00),(1.61,00:01),(2.18,00:02),(2.01,0...   \n..                                                 ...   \n946  (2.68,00:00),(2.7,00:01),(2.78,00:02),(2.45,00...   \n947  (NaN,00:00),(NaN,00:01),(NaN,00:02),(NaN,00:03...   \n948  (NaN,00:00),(NaN,00:01),(NaN,00:02),(NaN,00:03...   \n949  (NaN,00:00),(NaN,00:01),(NaN,00:02),(NaN,00:03...   \n950  (3.26,00:00),(3.24,00:01),(3.34,00:02),(3.03,0...   \n\n                                     EnergyExpenditure  \\\n0    (753.6365662,14:38),(1256.060944,14:39),(1256....   \n1    (1311.85318,00:00),(1311.85318,00:01),(1311.85...   \n2    (1311.85318,00:00),(1311.85318,00:01),(1311.85...   \n3    (1311.85318,00:00),(1311.85318,00:01),(1311.85...   \n4    (1289.98896,00:00),(1311.85318,00:01),(1311.85...   \n..                                                 ...   \n946  (1330.995827,00:00),(1330.995827,00:01),(1374....   \n947  (NaN,00:00),(NaN,00:01),(NaN,00:02),(NaN,00:03...   \n948  (NaN,00:00),(NaN,00:01),(NaN,00:02),(NaN,00:03...   \n949  (NaN,00:00),(NaN,00:01),(NaN,00:02),(NaN,00:03...   \n950  (1042.613398,00:00),(1330.995827,00:01),(1330....   \n\n                                  GalvanicSkinResponse  \\\n0    (NaN,14:38),(NaN,14:39),(NaN,14:40),(NaN,14:41...   \n1    (2.471338889,00:00),(2.46735,00:01),(2.4663722...   \n2    (1.172788889,00:00),(1.171305556,00:01),(1.061...   \n3    (2.573777778,00:00),(2.567694444,00:01),(2.560...   \n4    (2.632423729,00:00),(2.630555556,00:01),(2.626...   \n..                                                 ...   \n946  (0.925716667,00:00),(0.934888889,00:01),(0.854...   \n947  (NaN,00:00),(NaN,00:01),(NaN,00:02),(NaN,00:03...   \n948  (NaN,00:00),(NaN,00:01),(NaN,00:02),(NaN,00:03...   \n949  (NaN,00:00),(NaN,00:01),(NaN,00:02),(NaN,00:03...   \n950  (NaN,00:00),(NaN,00:01),(NaN,00:02),(NaN,00:03...   \n\n                                                    HR  \\\n0    (83.0,14:38),(75.40363269,14:39),(69.11265332,...   \n1    (67.54923531,00:00),(57.26287697,00:01),(55.22...   \n2    (64.65655738,00:00),(63.83929024,00:01),(63.86...   \n3    (69.66641006,00:00),(70.49757838,00:01),(70.17...   \n4    (57.42528736,00:00),(59.38585964,00:01),(65.78...   \n..                                                 ...   \n946  (63.41839611,00:00),(63.30076726,00:01),(65.60...   \n947  (NaN,00:00),(NaN,00:01),(NaN,00:02),(NaN,00:03...   \n948  (NaN,00:00),(NaN,00:01),(NaN,00:02),(NaN,00:03...   \n949  (NaN,00:00),(NaN,00:01),(NaN,00:02),(NaN,00:03...   \n950  (68.6656586,00:00),(68.73745072,00:01),(68.634...   \n\n                                                   HRV  \\\n0    (NaN,14:38),(NaN,14:39),(NaN,14:40),(NaN,14:41...   \n1    (44.92312073,00:00),(51.26666667,00:01),(57.7,...   \n2    (31.3815721,00:00),(34.48333333,00:01),(36.25,...   \n3    (23.08598131,00:00),(22.81666667,00:01),(20.41...   \n4    (33.69491525,00:00),(34.18333333,00:01),(37.91...   \n..                                                 ...   \n946  (44.13333333,00:00),(43.55,00:01),(42.65485714...   \n947  (NaN,00:00),(NaN,00:01),(NaN,00:02),(NaN,00:03...   \n948  (NaN,00:00),(NaN,00:01),(NaN,00:02),(NaN,00:03...   \n949  (NaN,00:00),(NaN,00:01),(NaN,00:02),(NaN,00:03...   \n950  (36.89361702,00:00),(38.05,00:01),(40.23333333...   \n\n                                                  RESP  \\\n0    (NaN,14:38),(NaN,14:39),(14.5625,14:40),(12.17...   \n1    (14.34420472,00:00),(14.21430416,00:01),(12.45...   \n2    (15.03026316,00:00),(15.03544724,00:01),(12.88...   \n3    (14.23136959,00:00),(13.68923699,00:01),(16.7,...   \n4    (15.35642063,00:00),(14.75081392,00:01),(14.21...   \n..                                                 ...   \n946  (16.56763527,00:00),(17.25,00:01),(16.70448549...   \n947  (NaN,00:00),(NaN,00:01),(NaN,00:02),(NaN,00:03...   \n948  (NaN,00:00),(NaN,00:01),(NaN,00:02),(NaN,00:03...   \n949  (NaN,00:00),(NaN,00:01),(NaN,00:02),(NaN,00:03...   \n950  (16.81077655,00:00),(17.84992534,00:01),(17.23...   \n\n                                                 Steps  \\\n0    (0.0,14:38),(0.0,14:39),(0.0,14:40),(0.0,14:41...   \n1    (0.0,00:00),(0.0,00:01),(0.0,00:02),(0.0,00:03...   \n2    (0.0,00:00),(0.0,00:01),(0.0,00:02),(0.0,00:03...   \n3    (0.0,00:00),(0.0,00:01),(0.0,00:02),(0.0,00:03...   \n4    (0.0,00:00),(0.0,00:01),(0.0,00:02),(0.0,00:03...   \n..                                                 ...   \n946  (0.0,00:00),(0.0,00:01),(0.0,00:02),(0.0,00:03...   \n947  (NaN,00:00),(NaN,00:01),(NaN,00:02),(NaN,00:03...   \n948  (NaN,00:00),(NaN,00:01),(NaN,00:02),(NaN,00:03...   \n949  (NaN,00:00),(NaN,00:01),(NaN,00:02),(NaN,00:03...   \n950  (0.0,00:00),(0.0,00:01),(0.0,00:02),(0.0,00:03...   \n\n                                       SkinTemperature  \\\n0    (28.28,14:38),(29.44,14:39),(30.41,14:40),(31....   \n1    (36.13,00:00),(36.19,00:01),(36.25,00:02),(36....   \n2    (34.34,00:00),(34.38,00:01),(34.38,00:02),(34....   \n3    (35.63,00:00),(35.63,00:01),(35.44,00:02),(35....   \n4    (36.94,00:00),(36.97,00:01),(36.97,00:02),(36....   \n..                                                 ...   \n946  (36.44,00:00),(36.41,00:01),(36.38,00:02),(36....   \n947  (NaN,00:00),(NaN,00:01),(NaN,00:02),(NaN,00:03...   \n948  (NaN,00:00),(NaN,00:01),(NaN,00:02),(NaN,00:03...   \n949  (NaN,00:00),(NaN,00:01),(NaN,00:02),(NaN,00:03...   \n950  (35.25,00:00),(35.41,00:01),(35.41,00:02),(35....   \n\n                                         ActivityClass  \n0    (NaN,14:38),(NaN,14:39),(NaN,14:40),(NaN,14:41...  \n1    (NaN,00:00),(NaN,00:01),(NaN,00:02),(NaN,00:03...  \n2    (NaN,00:00),(NaN,00:01),(NaN,00:02),(NaN,00:03...  \n3    (NaN,00:00),(NaN,00:01),(NaN,00:02),(NaN,00:03...  \n4    (NaN,00:00),(NaN,00:01),(NaN,00:02),(NaN,00:03...  \n..                                                 ...  \n946  (1.0,00:00),(1.0,00:01),(1.0,00:02),(1.0,00:03...  \n947  (NaN,00:00),(NaN,00:01),(NaN,00:02),(NaN,00:03...  \n948  (NaN,00:00),(NaN,00:01),(NaN,00:02),(NaN,00:03...  \n949  (NaN,00:00),(NaN,00:01),(NaN,00:02),(NaN,00:03...  \n950  (1.0,00:00),(1.0,00:01),(1.0,00:02),(1.0,00:03...  \n\n[951 rows x 14 columns]",
      "text/html": "<div>\n<style scoped>\n    .dataframe tbody tr th:only-of-type {\n        vertical-align: middle;\n    }\n\n    .dataframe tbody tr th {\n        vertical-align: top;\n    }\n\n    .dataframe thead th {\n        text-align: right;\n    }\n</style>\n<table border=\"1\" class=\"dataframe\">\n  <thead>\n    <tr style=\"text-align: right;\">\n      <th></th>\n      <th>subjectID</th>\n      <th>date</th>\n      <th>ActivityCounts</th>\n      <th>Barometer</th>\n      <th>BloodPerfusion</th>\n      <th>BloodPulseWave</th>\n      <th>EnergyExpenditure</th>\n      <th>GalvanicSkinResponse</th>\n      <th>HR</th>\n      <th>HRV</th>\n      <th>RESP</th>\n      <th>Steps</th>\n      <th>SkinTemperature</th>\n      <th>ActivityClass</th>\n    </tr>\n  </thead>\n  <tbody>\n    <tr>\n      <th>0</th>\n      <td>1</td>\n      <td>14.03.19</td>\n      <td>(0.784313725,14:38),(1.176470588,14:39),(2.352...</td>\n      <td>(981.25,14:38),(981.2,14:39),(981.2,14:40),(98...</td>\n      <td>(0.0,14:38),(0.175,14:39),(0.19,14:40),(0.11,1...</td>\n      <td>(0.0,14:38),(1.9,14:39),(1.82,14:40),(1.94,14:...</td>\n      <td>(753.6365662,14:38),(1256.060944,14:39),(1256....</td>\n      <td>(NaN,14:38),(NaN,14:39),(NaN,14:40),(NaN,14:41...</td>\n      <td>(83.0,14:38),(75.40363269,14:39),(69.11265332,...</td>\n      <td>(NaN,14:38),(NaN,14:39),(NaN,14:40),(NaN,14:41...</td>\n      <td>(NaN,14:38),(NaN,14:39),(14.5625,14:40),(12.17...</td>\n      <td>(0.0,14:38),(0.0,14:39),(0.0,14:40),(0.0,14:41...</td>\n      <td>(28.28,14:38),(29.44,14:39),(30.41,14:40),(31....</td>\n      <td>(NaN,14:38),(NaN,14:39),(NaN,14:40),(NaN,14:41...</td>\n    </tr>\n    <tr>\n      <th>1</th>\n      <td>1</td>\n      <td>15.03.19</td>\n      <td>(0.784313725,00:00),(0.784313725,00:01),(0.784...</td>\n      <td>(984.4,00:00),(984.5,00:01),(984.3,00:02),(984...</td>\n      <td>(0.875,00:00),(0.825,00:01),(0.975,00:02),(0.9...</td>\n      <td>(2.27,00:00),(2.18,00:01),(2.19,00:02),(2.18,0...</td>\n      <td>(1311.85318,00:00),(1311.85318,00:01),(1311.85...</td>\n      <td>(2.471338889,00:00),(2.46735,00:01),(2.4663722...</td>\n      <td>(67.54923531,00:00),(57.26287697,00:01),(55.22...</td>\n      <td>(44.92312073,00:00),(51.26666667,00:01),(57.7,...</td>\n      <td>(14.34420472,00:00),(14.21430416,00:01),(12.45...</td>\n      <td>(0.0,00:00),(0.0,00:01),(0.0,00:02),(0.0,00:03...</td>\n      <td>(36.13,00:00),(36.19,00:01),(36.25,00:02),(36....</td>\n      <td>(NaN,00:00),(NaN,00:01),(NaN,00:02),(NaN,00:03...</td>\n    </tr>\n    <tr>\n      <th>2</th>\n      <td>1</td>\n      <td>16.03.19</td>\n      <td>(0.784313725,00:00),(1.176470588,00:01),(5.098...</td>\n      <td>(990.7,00:00),(990.6,00:01),(990.7,00:02),(990...</td>\n      <td>(1.045,00:00),(0.79,00:01),(0.84,00:02),(0.585...</td>\n      <td>(2.32,00:00),(2.22,00:01),(2.44,00:02),(2.18,0...</td>\n      <td>(1311.85318,00:00),(1311.85318,00:01),(1311.85...</td>\n      <td>(1.172788889,00:00),(1.171305556,00:01),(1.061...</td>\n      <td>(64.65655738,00:00),(63.83929024,00:01),(63.86...</td>\n      <td>(31.3815721,00:00),(34.48333333,00:01),(36.25,...</td>\n      <td>(15.03026316,00:00),(15.03544724,00:01),(12.88...</td>\n      <td>(0.0,00:00),(0.0,00:01),(0.0,00:02),(0.0,00:03...</td>\n      <td>(34.34,00:00),(34.38,00:01),(34.38,00:02),(34....</td>\n      <td>(NaN,00:00),(NaN,00:01),(NaN,00:02),(NaN,00:03...</td>\n    </tr>\n    <tr>\n      <th>3</th>\n      <td>1</td>\n      <td>17.03.19</td>\n      <td>(0.784313725,00:00),(0.784313725,00:01),(0.784...</td>\n      <td>(982.15,00:00),(982.05,00:01),(982.0,00:02),(9...</td>\n      <td>(1.42,00:00),(1.47,00:01),(1.48,00:02),(1.46,0...</td>\n      <td>(2.86,00:00),(2.7,00:01),(2.73,00:02),(2.72,00...</td>\n      <td>(1311.85318,00:00),(1311.85318,00:01),(1311.85...</td>\n      <td>(2.573777778,00:00),(2.567694444,00:01),(2.560...</td>\n      <td>(69.66641006,00:00),(70.49757838,00:01),(70.17...</td>\n      <td>(23.08598131,00:00),(22.81666667,00:01),(20.41...</td>\n      <td>(14.23136959,00:00),(13.68923699,00:01),(16.7,...</td>\n      <td>(0.0,00:00),(0.0,00:01),(0.0,00:02),(0.0,00:03...</td>\n      <td>(35.63,00:00),(35.63,00:01),(35.44,00:02),(35....</td>\n      <td>(NaN,00:00),(NaN,00:01),(NaN,00:02),(NaN,00:03...</td>\n    </tr>\n    <tr>\n      <th>4</th>\n      <td>1</td>\n      <td>18.03.19</td>\n      <td>(0.784313725,00:00),(1.176470588,00:01),(0.784...</td>\n      <td>(988.5,00:00),(988.6,00:01),(988.7,00:02),(988...</td>\n      <td>(1.48,00:00),(1.49,00:01),(1.155,00:02),(1.525...</td>\n      <td>(1.54,00:00),(1.61,00:01),(2.18,00:02),(2.01,0...</td>\n      <td>(1289.98896,00:00),(1311.85318,00:01),(1311.85...</td>\n      <td>(2.632423729,00:00),(2.630555556,00:01),(2.626...</td>\n      <td>(57.42528736,00:00),(59.38585964,00:01),(65.78...</td>\n      <td>(33.69491525,00:00),(34.18333333,00:01),(37.91...</td>\n      <td>(15.35642063,00:00),(14.75081392,00:01),(14.21...</td>\n      <td>(0.0,00:00),(0.0,00:01),(0.0,00:02),(0.0,00:03...</td>\n      <td>(36.94,00:00),(36.97,00:01),(36.97,00:02),(36....</td>\n      <td>(NaN,00:00),(NaN,00:01),(NaN,00:02),(NaN,00:03...</td>\n    </tr>\n    <tr>\n      <th>...</th>\n      <td>...</td>\n      <td>...</td>\n      <td>...</td>\n      <td>...</td>\n      <td>...</td>\n      <td>...</td>\n      <td>...</td>\n      <td>...</td>\n      <td>...</td>\n      <td>...</td>\n      <td>...</td>\n      <td>...</td>\n      <td>...</td>\n      <td>...</td>\n    </tr>\n    <tr>\n      <th>946</th>\n      <td>27</td>\n      <td>30.08.18</td>\n      <td>(0.784313725,00:00),(0.784313725,00:01),(0.784...</td>\n      <td>(967.1,00:00),(967.05,00:01),(967.0,00:02),(96...</td>\n      <td>(0.62,00:00),(0.63,00:01),(0.5,00:02),(0.56,00...</td>\n      <td>(2.68,00:00),(2.7,00:01),(2.78,00:02),(2.45,00...</td>\n      <td>(1330.995827,00:00),(1330.995827,00:01),(1374....</td>\n      <td>(0.925716667,00:00),(0.934888889,00:01),(0.854...</td>\n      <td>(63.41839611,00:00),(63.30076726,00:01),(65.60...</td>\n      <td>(44.13333333,00:00),(43.55,00:01),(42.65485714...</td>\n      <td>(16.56763527,00:00),(17.25,00:01),(16.70448549...</td>\n      <td>(0.0,00:00),(0.0,00:01),(0.0,00:02),(0.0,00:03...</td>\n      <td>(36.44,00:00),(36.41,00:01),(36.38,00:02),(36....</td>\n      <td>(1.0,00:00),(1.0,00:01),(1.0,00:02),(1.0,00:03...</td>\n    </tr>\n    <tr>\n      <th>947</th>\n      <td>27</td>\n      <td>31.03.18</td>\n      <td>(NaN,00:00),(NaN,00:01),(NaN,00:02),(NaN,00:03...</td>\n      <td>(NaN,00:00),(NaN,00:01),(NaN,00:02),(NaN,00:03...</td>\n      <td>(NaN,00:00),(NaN,00:01),(NaN,00:02),(NaN,00:03...</td>\n      <td>(NaN,00:00),(NaN,00:01),(NaN,00:02),(NaN,00:03...</td>\n      <td>(NaN,00:00),(NaN,00:01),(NaN,00:02),(NaN,00:03...</td>\n      <td>(NaN,00:00),(NaN,00:01),(NaN,00:02),(NaN,00:03...</td>\n      <td>(NaN,00:00),(NaN,00:01),(NaN,00:02),(NaN,00:03...</td>\n      <td>(NaN,00:00),(NaN,00:01),(NaN,00:02),(NaN,00:03...</td>\n      <td>(NaN,00:00),(NaN,00:01),(NaN,00:02),(NaN,00:03...</td>\n      <td>(NaN,00:00),(NaN,00:01),(NaN,00:02),(NaN,00:03...</td>\n      <td>(NaN,00:00),(NaN,00:01),(NaN,00:02),(NaN,00:03...</td>\n      <td>(NaN,00:00),(NaN,00:01),(NaN,00:02),(NaN,00:03...</td>\n    </tr>\n    <tr>\n      <th>948</th>\n      <td>27</td>\n      <td>31.05.18</td>\n      <td>(NaN,00:00),(NaN,00:01),(NaN,00:02),(NaN,00:03...</td>\n      <td>(NaN,00:00),(NaN,00:01),(NaN,00:02),(NaN,00:03...</td>\n      <td>(NaN,00:00),(NaN,00:01),(NaN,00:02),(NaN,00:03...</td>\n      <td>(NaN,00:00),(NaN,00:01),(NaN,00:02),(NaN,00:03...</td>\n      <td>(NaN,00:00),(NaN,00:01),(NaN,00:02),(NaN,00:03...</td>\n      <td>(NaN,00:00),(NaN,00:01),(NaN,00:02),(NaN,00:03...</td>\n      <td>(NaN,00:00),(NaN,00:01),(NaN,00:02),(NaN,00:03...</td>\n      <td>(NaN,00:00),(NaN,00:01),(NaN,00:02),(NaN,00:03...</td>\n      <td>(NaN,00:00),(NaN,00:01),(NaN,00:02),(NaN,00:03...</td>\n      <td>(NaN,00:00),(NaN,00:01),(NaN,00:02),(NaN,00:03...</td>\n      <td>(NaN,00:00),(NaN,00:01),(NaN,00:02),(NaN,00:03...</td>\n      <td>(NaN,00:00),(NaN,00:01),(NaN,00:02),(NaN,00:03...</td>\n    </tr>\n    <tr>\n      <th>949</th>\n      <td>27</td>\n      <td>31.07.18</td>\n      <td>(NaN,00:00),(NaN,00:01),(NaN,00:02),(NaN,00:03...</td>\n      <td>(NaN,00:00),(NaN,00:01),(NaN,00:02),(NaN,00:03...</td>\n      <td>(NaN,00:00),(NaN,00:01),(NaN,00:02),(NaN,00:03...</td>\n      <td>(NaN,00:00),(NaN,00:01),(NaN,00:02),(NaN,00:03...</td>\n      <td>(NaN,00:00),(NaN,00:01),(NaN,00:02),(NaN,00:03...</td>\n      <td>(NaN,00:00),(NaN,00:01),(NaN,00:02),(NaN,00:03...</td>\n      <td>(NaN,00:00),(NaN,00:01),(NaN,00:02),(NaN,00:03...</td>\n      <td>(NaN,00:00),(NaN,00:01),(NaN,00:02),(NaN,00:03...</td>\n      <td>(NaN,00:00),(NaN,00:01),(NaN,00:02),(NaN,00:03...</td>\n      <td>(NaN,00:00),(NaN,00:01),(NaN,00:02),(NaN,00:03...</td>\n      <td>(NaN,00:00),(NaN,00:01),(NaN,00:02),(NaN,00:03...</td>\n      <td>(NaN,00:00),(NaN,00:01),(NaN,00:02),(NaN,00:03...</td>\n    </tr>\n    <tr>\n      <th>950</th>\n      <td>27</td>\n      <td>31.08.18</td>\n      <td>(0.784313725,00:00),(0.784313725,00:01),(0.784...</td>\n      <td>(968.1,00:00),(968.0,00:01),(968.0,00:02),(967...</td>\n      <td>(0.4,00:00),(0.42,00:01),(0.4,00:02),(0.39,00:...</td>\n      <td>(3.26,00:00),(3.24,00:01),(3.34,00:02),(3.03,0...</td>\n      <td>(1042.613398,00:00),(1330.995827,00:01),(1330....</td>\n      <td>(NaN,00:00),(NaN,00:01),(NaN,00:02),(NaN,00:03...</td>\n      <td>(68.6656586,00:00),(68.73745072,00:01),(68.634...</td>\n      <td>(36.89361702,00:00),(38.05,00:01),(40.23333333...</td>\n      <td>(16.81077655,00:00),(17.84992534,00:01),(17.23...</td>\n      <td>(0.0,00:00),(0.0,00:01),(0.0,00:02),(0.0,00:03...</td>\n      <td>(35.25,00:00),(35.41,00:01),(35.41,00:02),(35....</td>\n      <td>(1.0,00:00),(1.0,00:01),(1.0,00:02),(1.0,00:03...</td>\n    </tr>\n  </tbody>\n</table>\n<p>951 rows × 14 columns</p>\n</div>"
     },
     "execution_count": 223,
     "metadata": {},
     "output_type": "execute_result"
    }
   ],
   "source": [
    "# don't think this is necessary:\n",
    "query = '''\n",
    "SELECT SubjectID AS subjectID,\n",
    "    SUBSTRING(Timestamp, 1, 8) AS date,\n",
    "    GROUP_CONCAT('(' || ActivityCounts || ',' || hour || ')') AS ActivityCounts,\n",
    "    GROUP_CONCAT('(' || Barometer || ',' || hour || ')') AS Barometer,\n",
    "    GROUP_CONCAT('(' || BloodPerfusion || ',' || hour || ')') AS BloodPerfusion,\n",
    "    GROUP_CONCAT('(' || BloodPulseWave || ',' || hour || ')') AS BloodPulseWave,\n",
    "    GROUP_CONCAT('(' || EnergyExpenditure || ',' || hour || ')') AS EnergyExpenditure,\n",
    "    GROUP_CONCAT('(' || GalvanicSkinResponse || ',' || hour || ')') AS GalvanicSkinResponse,\n",
    "    GROUP_CONCAT('(' || HR || ',' || hour || ')') AS HR,\n",
    "    GROUP_CONCAT('(' || HRV || ',' || hour || ')') AS HRV,\n",
    "    GROUP_CONCAT('(' || RESP || ',' || hour || ')') AS RESP,\n",
    "    GROUP_CONCAT('(' || Steps || ',' || hour || ')') AS Steps,\n",
    "    GROUP_CONCAT('(' || SkinTemperature || ',' || hour || ')') AS SkinTemperature,\n",
    "    GROUP_CONCAT('(' || ActivityClass || ',' || hour || ')') AS ActivityClass\n",
    "FROM (\n",
    "    SELECT *, SUBSTRING(Timestamp, 10, LENGTH(Timestamp)) AS hour\n",
    "    FROM physio\n",
    ")\n",
    "GROUP BY subjectID, date;'''\n",
    "sqldf(query)"
   ],
   "metadata": {
    "collapsed": false,
    "pycharm": {
     "name": "#%%\n"
    }
   }
  },
  {
   "cell_type": "markdown",
   "source": [
    "# Join data"
   ],
   "metadata": {
    "collapsed": false
   }
  },
  {
   "cell_type": "code",
   "execution_count": 232,
   "outputs": [
    {
     "data": {
      "text/plain": "    subjectID      date                                     ActivityCounts  \\\n0           1  14.03.19  0.784313725,1.176470588,2.352941176,1.17647058...   \n1           1  15.03.19  0.784313725,0.784313725,0.784313725,0.78431372...   \n2           1  16.03.19  0.784313725,1.176470588,5.098039216,0.78431372...   \n3           1  17.03.19  0.784313725,0.784313725,0.784313725,0.78431372...   \n4           1  18.03.19  0.784313725,1.176470588,0.784313725,0.78431372...   \n..        ...       ...                                                ...   \n439        27  27.02.18  NaN,NaN,NaN,NaN,NaN,NaN,NaN,NaN,NaN,NaN,NaN,Na...   \n440        27  27.08.18  0.784313725,0.784313725,0.784313725,0.78431372...   \n441        27  28.02.18  NaN,NaN,NaN,NaN,NaN,NaN,NaN,NaN,NaN,NaN,NaN,Na...   \n442        27  28.08.18  NaN,NaN,NaN,NaN,NaN,NaN,NaN,NaN,NaN,NaN,NaN,Na...   \n443        27  31.08.18  0.784313725,0.784313725,0.784313725,0.78431372...   \n\n                                             Barometer  \\\n0    981.25,981.2,981.2,981.1,981.2,981.3,981.2,981...   \n1    984.4,984.5,984.3,984.4,984.3,984.4,984.3,984....   \n2    990.7,990.6,990.7,990.7,990.8,990.75,990.8,990...   \n3    982.15,982.05,982.0,982.0,982.0,982.0,982.0,98...   \n4    988.5,988.6,988.7,988.65,988.5,988.5,988.5,988...   \n..                                                 ...   \n439  NaN,NaN,NaN,NaN,NaN,NaN,NaN,NaN,NaN,NaN,NaN,Na...   \n440  964.8,964.8,964.8,964.7,964.7,964.7,964.7,964....   \n441  NaN,NaN,NaN,NaN,NaN,NaN,NaN,NaN,NaN,NaN,NaN,Na...   \n442  NaN,NaN,NaN,NaN,NaN,NaN,NaN,NaN,NaN,NaN,NaN,Na...   \n443  968.1,968.0,968.0,967.9,967.9,967.9,967.9,967....   \n\n                                        BloodPerfusion  \\\n0    0.0,0.175,0.19,0.11,0.1,0.09,NaN,NaN,NaN,NaN,N...   \n1    0.875,0.825,0.975,0.98,1.0,0.985,0.96,0.93,0.9...   \n2    1.045,0.79,0.84,0.585,0.415,0.74,0.835,0.835,0...   \n3    1.42,1.47,1.48,1.46,1.49,1.475,1.47,1.46,1.45,...   \n4    1.48,1.49,1.155,1.525,1.38,1.45,1.555,1.41,1.6...   \n..                                                 ...   \n439  NaN,NaN,NaN,NaN,NaN,NaN,NaN,NaN,NaN,NaN,NaN,Na...   \n440  0.65,0.64,0.66,0.65,0.66,0.66,0.62,0.66,0.66,0...   \n441  NaN,NaN,NaN,NaN,NaN,NaN,NaN,NaN,NaN,NaN,NaN,Na...   \n442  NaN,NaN,NaN,NaN,NaN,NaN,NaN,NaN,NaN,NaN,NaN,Na...   \n443  0.4,0.42,0.4,0.39,0.38,0.38,0.36,0.36,0.375,0....   \n\n                                        BloodPulseWave  \\\n0    0.0,1.9,1.82,1.94,1.68,1.09,NaN,NaN,NaN,NaN,Na...   \n1    2.27,2.18,2.19,2.18,2.02,2.27,2.27,2.49,2.17,2...   \n2    2.32,2.22,2.44,2.18,2.45,2.44,2.24,2.28,2.18,2...   \n3    2.86,2.7,2.73,2.72,2.68,2.9,2.96,3.02,3.08,3.3...   \n4    1.54,1.61,2.18,2.01,1.76,1.76,1.78,1.81,1.5,1....   \n..                                                 ...   \n439  NaN,NaN,NaN,NaN,NaN,NaN,NaN,NaN,NaN,NaN,NaN,Na...   \n440  2.58,2.83,2.6,2.7,2.7,2.66,2.94,2.68,2.8,2.66,...   \n441  NaN,NaN,NaN,NaN,NaN,NaN,NaN,NaN,NaN,NaN,NaN,Na...   \n442  NaN,NaN,NaN,NaN,NaN,NaN,NaN,NaN,NaN,NaN,NaN,Na...   \n443  3.26,3.24,3.34,3.03,3.02,3.1,3.06,3.01,3.03,2....   \n\n                                     EnergyExpenditure  \\\n0    753.6365662,1256.060944,1256.060944,1256.06094...   \n1    1311.85318,1311.85318,1311.85318,1311.85318,13...   \n2    1311.85318,1311.85318,1311.85318,1311.85318,13...   \n3    1311.85318,1311.85318,1311.85318,1311.85318,13...   \n4    1289.98896,1311.85318,1311.85318,1311.85318,13...   \n..                                                 ...   \n439  NaN,NaN,NaN,NaN,NaN,NaN,NaN,NaN,NaN,NaN,NaN,Na...   \n440  1330.995827,1330.995827,1330.995827,1330.99582...   \n441  NaN,NaN,NaN,NaN,NaN,NaN,NaN,NaN,NaN,NaN,NaN,Na...   \n442  NaN,NaN,NaN,NaN,NaN,NaN,NaN,NaN,NaN,NaN,NaN,Na...   \n443  1042.613398,1330.995827,1330.995827,1330.99582...   \n\n                                  GalvanicSkinResponse  \\\n0    NaN,NaN,NaN,NaN,NaN,NaN,NaN,NaN,NaN,NaN,NaN,Na...   \n1    2.471338889,2.46735,2.466372222,2.4621,2.45465...   \n2    1.172788889,1.171305556,1.061122222,3.09794444...   \n3    2.573777778,2.567694444,2.560622222,2.55622222...   \n4    2.632423729,2.630555556,2.626594444,2.62318333...   \n..                                                 ...   \n439  NaN,NaN,NaN,NaN,NaN,NaN,NaN,NaN,NaN,NaN,NaN,Na...   \n440  NaN,NaN,NaN,NaN,NaN,NaN,NaN,NaN,NaN,NaN,NaN,Na...   \n441  NaN,NaN,NaN,NaN,NaN,NaN,NaN,NaN,NaN,NaN,NaN,Na...   \n442  NaN,NaN,NaN,NaN,NaN,NaN,NaN,NaN,NaN,NaN,NaN,Na...   \n443  NaN,NaN,NaN,NaN,NaN,NaN,NaN,NaN,NaN,NaN,NaN,Na...   \n\n                                                    HR  \\\n0    83.0,75.40363269,69.11265332,69.78116438,72.30...   \n1    67.54923531,57.26287697,55.2253739,58.43175416...   \n2    64.65655738,63.83929024,63.86047157,62.6129328...   \n3    69.66641006,70.49757838,70.17700916,69.3862999...   \n4    57.42528736,59.38585964,65.7858185,58.39290306...   \n..                                                 ...   \n439  NaN,NaN,NaN,NaN,NaN,NaN,NaN,NaN,NaN,NaN,NaN,Na...   \n440  64.40149177,63.1057941,64.60267283,63.78507079...   \n441  NaN,NaN,NaN,NaN,NaN,NaN,NaN,NaN,NaN,NaN,NaN,Na...   \n442  NaN,NaN,NaN,NaN,NaN,NaN,NaN,NaN,NaN,NaN,NaN,Na...   \n443  68.6656586,68.73745072,68.6343461,69.26817703,...   \n\n                                                   HRV  ...  \\\n0    NaN,NaN,NaN,NaN,NaN,NaN,NaN,NaN,NaN,NaN,NaN,Na...  ...   \n1    44.92312073,51.26666667,57.7,58.01666667,57.41...  ...   \n2    31.3815721,34.48333333,36.25,39.48333333,41.9,...  ...   \n3    23.08598131,22.81666667,20.41666667,20.5166666...  ...   \n4    33.69491525,34.18333333,37.91988636,46.85,52.9...  ...   \n..                                                 ...  ...   \n439  NaN,NaN,NaN,NaN,NaN,NaN,NaN,NaN,NaN,NaN,NaN,Na...  ...   \n440  62.2875,61.9,61.55,61.4,64.38333333,65.1906202...  ...   \n441  NaN,NaN,NaN,NaN,NaN,NaN,NaN,NaN,NaN,NaN,NaN,Na...  ...   \n442  NaN,NaN,NaN,NaN,NaN,NaN,NaN,NaN,NaN,NaN,NaN,Na...  ...   \n443  36.89361702,38.05,40.23333333,41.26297376,38.0...  ...   \n\n                                         ActivityClass subjectID      date  \\\n0    NaN,NaN,NaN,NaN,NaN,NaN,NaN,NaN,NaN,NaN,NaN,Na...         1  14.03.19   \n1    NaN,NaN,NaN,NaN,NaN,NaN,NaN,NaN,NaN,NaN,NaN,Na...         1  15.03.19   \n2    NaN,NaN,NaN,NaN,NaN,NaN,NaN,NaN,NaN,NaN,NaN,Na...         1  16.03.19   \n3    NaN,NaN,NaN,NaN,NaN,NaN,NaN,NaN,NaN,NaN,NaN,Na...         1  17.03.19   \n4    NaN,NaN,NaN,NaN,NaN,NaN,NaN,NaN,NaN,NaN,NaN,Na...         1  18.03.19   \n..                                                 ...       ...       ...   \n439  NaN,NaN,NaN,NaN,NaN,NaN,NaN,NaN,NaN,NaN,NaN,Na...        27  27.02.18   \n440  1.0,1.0,1.0,1.0,1.0,1.0,1.0,1.0,1.0,1.0,1.0,1....        27  27.08.18   \n441  NaN,NaN,NaN,NaN,NaN,NaN,NaN,NaN,NaN,NaN,NaN,Na...        27  28.02.18   \n442  NaN,NaN,NaN,NaN,NaN,NaN,NaN,NaN,NaN,NaN,NaN,Na...        27  28.08.18   \n443  1.0,1.0,1.0,1.0,1.0,1.0,1.0,1.0,1.0,1.0,1.0,1....        27  31.08.18   \n\n    timezone  VAS ReIP  phF   MF  sport  n_answers  \n0        UTC  0.0 -1.0  0.0  1.0    0.0          1  \n1        UTC  0.0  1.0  1.0  1.0    1.0          1  \n2        UTC  0.0  0.0  0.0  0.0    0.0          1  \n3        UTC  0.0  0.0  1.0  0.0    1.0          1  \n4        UTC  0.0 -1.0  1.0  0.0    1.0          1  \n..       ...  ...  ...  ...  ...    ...        ...  \n439      CET  0.0 -1.0  1.0  0.0    NaN          2  \n440     CEST  0.0  1.0  1.0  0.0    NaN          1  \n441      CET  0.0  0.0  1.0  0.0    NaN          1  \n442     CEST  0.0  1.0  0.0  0.0    NaN          1  \n443     CEST  0.0 -1.0  1.0  1.0    NaN          1  \n\n[444 rows x 23 columns]",
      "text/html": "<div>\n<style scoped>\n    .dataframe tbody tr th:only-of-type {\n        vertical-align: middle;\n    }\n\n    .dataframe tbody tr th {\n        vertical-align: top;\n    }\n\n    .dataframe thead th {\n        text-align: right;\n    }\n</style>\n<table border=\"1\" class=\"dataframe\">\n  <thead>\n    <tr style=\"text-align: right;\">\n      <th></th>\n      <th>subjectID</th>\n      <th>date</th>\n      <th>ActivityCounts</th>\n      <th>Barometer</th>\n      <th>BloodPerfusion</th>\n      <th>BloodPulseWave</th>\n      <th>EnergyExpenditure</th>\n      <th>GalvanicSkinResponse</th>\n      <th>HR</th>\n      <th>HRV</th>\n      <th>...</th>\n      <th>ActivityClass</th>\n      <th>subjectID</th>\n      <th>date</th>\n      <th>timezone</th>\n      <th>VAS</th>\n      <th>ReIP</th>\n      <th>phF</th>\n      <th>MF</th>\n      <th>sport</th>\n      <th>n_answers</th>\n    </tr>\n  </thead>\n  <tbody>\n    <tr>\n      <th>0</th>\n      <td>1</td>\n      <td>14.03.19</td>\n      <td>0.784313725,1.176470588,2.352941176,1.17647058...</td>\n      <td>981.25,981.2,981.2,981.1,981.2,981.3,981.2,981...</td>\n      <td>0.0,0.175,0.19,0.11,0.1,0.09,NaN,NaN,NaN,NaN,N...</td>\n      <td>0.0,1.9,1.82,1.94,1.68,1.09,NaN,NaN,NaN,NaN,Na...</td>\n      <td>753.6365662,1256.060944,1256.060944,1256.06094...</td>\n      <td>NaN,NaN,NaN,NaN,NaN,NaN,NaN,NaN,NaN,NaN,NaN,Na...</td>\n      <td>83.0,75.40363269,69.11265332,69.78116438,72.30...</td>\n      <td>NaN,NaN,NaN,NaN,NaN,NaN,NaN,NaN,NaN,NaN,NaN,Na...</td>\n      <td>...</td>\n      <td>NaN,NaN,NaN,NaN,NaN,NaN,NaN,NaN,NaN,NaN,NaN,Na...</td>\n      <td>1</td>\n      <td>14.03.19</td>\n      <td>UTC</td>\n      <td>0.0</td>\n      <td>-1.0</td>\n      <td>0.0</td>\n      <td>1.0</td>\n      <td>0.0</td>\n      <td>1</td>\n    </tr>\n    <tr>\n      <th>1</th>\n      <td>1</td>\n      <td>15.03.19</td>\n      <td>0.784313725,0.784313725,0.784313725,0.78431372...</td>\n      <td>984.4,984.5,984.3,984.4,984.3,984.4,984.3,984....</td>\n      <td>0.875,0.825,0.975,0.98,1.0,0.985,0.96,0.93,0.9...</td>\n      <td>2.27,2.18,2.19,2.18,2.02,2.27,2.27,2.49,2.17,2...</td>\n      <td>1311.85318,1311.85318,1311.85318,1311.85318,13...</td>\n      <td>2.471338889,2.46735,2.466372222,2.4621,2.45465...</td>\n      <td>67.54923531,57.26287697,55.2253739,58.43175416...</td>\n      <td>44.92312073,51.26666667,57.7,58.01666667,57.41...</td>\n      <td>...</td>\n      <td>NaN,NaN,NaN,NaN,NaN,NaN,NaN,NaN,NaN,NaN,NaN,Na...</td>\n      <td>1</td>\n      <td>15.03.19</td>\n      <td>UTC</td>\n      <td>0.0</td>\n      <td>1.0</td>\n      <td>1.0</td>\n      <td>1.0</td>\n      <td>1.0</td>\n      <td>1</td>\n    </tr>\n    <tr>\n      <th>2</th>\n      <td>1</td>\n      <td>16.03.19</td>\n      <td>0.784313725,1.176470588,5.098039216,0.78431372...</td>\n      <td>990.7,990.6,990.7,990.7,990.8,990.75,990.8,990...</td>\n      <td>1.045,0.79,0.84,0.585,0.415,0.74,0.835,0.835,0...</td>\n      <td>2.32,2.22,2.44,2.18,2.45,2.44,2.24,2.28,2.18,2...</td>\n      <td>1311.85318,1311.85318,1311.85318,1311.85318,13...</td>\n      <td>1.172788889,1.171305556,1.061122222,3.09794444...</td>\n      <td>64.65655738,63.83929024,63.86047157,62.6129328...</td>\n      <td>31.3815721,34.48333333,36.25,39.48333333,41.9,...</td>\n      <td>...</td>\n      <td>NaN,NaN,NaN,NaN,NaN,NaN,NaN,NaN,NaN,NaN,NaN,Na...</td>\n      <td>1</td>\n      <td>16.03.19</td>\n      <td>UTC</td>\n      <td>0.0</td>\n      <td>0.0</td>\n      <td>0.0</td>\n      <td>0.0</td>\n      <td>0.0</td>\n      <td>1</td>\n    </tr>\n    <tr>\n      <th>3</th>\n      <td>1</td>\n      <td>17.03.19</td>\n      <td>0.784313725,0.784313725,0.784313725,0.78431372...</td>\n      <td>982.15,982.05,982.0,982.0,982.0,982.0,982.0,98...</td>\n      <td>1.42,1.47,1.48,1.46,1.49,1.475,1.47,1.46,1.45,...</td>\n      <td>2.86,2.7,2.73,2.72,2.68,2.9,2.96,3.02,3.08,3.3...</td>\n      <td>1311.85318,1311.85318,1311.85318,1311.85318,13...</td>\n      <td>2.573777778,2.567694444,2.560622222,2.55622222...</td>\n      <td>69.66641006,70.49757838,70.17700916,69.3862999...</td>\n      <td>23.08598131,22.81666667,20.41666667,20.5166666...</td>\n      <td>...</td>\n      <td>NaN,NaN,NaN,NaN,NaN,NaN,NaN,NaN,NaN,NaN,NaN,Na...</td>\n      <td>1</td>\n      <td>17.03.19</td>\n      <td>UTC</td>\n      <td>0.0</td>\n      <td>0.0</td>\n      <td>1.0</td>\n      <td>0.0</td>\n      <td>1.0</td>\n      <td>1</td>\n    </tr>\n    <tr>\n      <th>4</th>\n      <td>1</td>\n      <td>18.03.19</td>\n      <td>0.784313725,1.176470588,0.784313725,0.78431372...</td>\n      <td>988.5,988.6,988.7,988.65,988.5,988.5,988.5,988...</td>\n      <td>1.48,1.49,1.155,1.525,1.38,1.45,1.555,1.41,1.6...</td>\n      <td>1.54,1.61,2.18,2.01,1.76,1.76,1.78,1.81,1.5,1....</td>\n      <td>1289.98896,1311.85318,1311.85318,1311.85318,13...</td>\n      <td>2.632423729,2.630555556,2.626594444,2.62318333...</td>\n      <td>57.42528736,59.38585964,65.7858185,58.39290306...</td>\n      <td>33.69491525,34.18333333,37.91988636,46.85,52.9...</td>\n      <td>...</td>\n      <td>NaN,NaN,NaN,NaN,NaN,NaN,NaN,NaN,NaN,NaN,NaN,Na...</td>\n      <td>1</td>\n      <td>18.03.19</td>\n      <td>UTC</td>\n      <td>0.0</td>\n      <td>-1.0</td>\n      <td>1.0</td>\n      <td>0.0</td>\n      <td>1.0</td>\n      <td>1</td>\n    </tr>\n    <tr>\n      <th>...</th>\n      <td>...</td>\n      <td>...</td>\n      <td>...</td>\n      <td>...</td>\n      <td>...</td>\n      <td>...</td>\n      <td>...</td>\n      <td>...</td>\n      <td>...</td>\n      <td>...</td>\n      <td>...</td>\n      <td>...</td>\n      <td>...</td>\n      <td>...</td>\n      <td>...</td>\n      <td>...</td>\n      <td>...</td>\n      <td>...</td>\n      <td>...</td>\n      <td>...</td>\n      <td>...</td>\n    </tr>\n    <tr>\n      <th>439</th>\n      <td>27</td>\n      <td>27.02.18</td>\n      <td>NaN,NaN,NaN,NaN,NaN,NaN,NaN,NaN,NaN,NaN,NaN,Na...</td>\n      <td>NaN,NaN,NaN,NaN,NaN,NaN,NaN,NaN,NaN,NaN,NaN,Na...</td>\n      <td>NaN,NaN,NaN,NaN,NaN,NaN,NaN,NaN,NaN,NaN,NaN,Na...</td>\n      <td>NaN,NaN,NaN,NaN,NaN,NaN,NaN,NaN,NaN,NaN,NaN,Na...</td>\n      <td>NaN,NaN,NaN,NaN,NaN,NaN,NaN,NaN,NaN,NaN,NaN,Na...</td>\n      <td>NaN,NaN,NaN,NaN,NaN,NaN,NaN,NaN,NaN,NaN,NaN,Na...</td>\n      <td>NaN,NaN,NaN,NaN,NaN,NaN,NaN,NaN,NaN,NaN,NaN,Na...</td>\n      <td>NaN,NaN,NaN,NaN,NaN,NaN,NaN,NaN,NaN,NaN,NaN,Na...</td>\n      <td>...</td>\n      <td>NaN,NaN,NaN,NaN,NaN,NaN,NaN,NaN,NaN,NaN,NaN,Na...</td>\n      <td>27</td>\n      <td>27.02.18</td>\n      <td>CET</td>\n      <td>0.0</td>\n      <td>-1.0</td>\n      <td>1.0</td>\n      <td>0.0</td>\n      <td>NaN</td>\n      <td>2</td>\n    </tr>\n    <tr>\n      <th>440</th>\n      <td>27</td>\n      <td>27.08.18</td>\n      <td>0.784313725,0.784313725,0.784313725,0.78431372...</td>\n      <td>964.8,964.8,964.8,964.7,964.7,964.7,964.7,964....</td>\n      <td>0.65,0.64,0.66,0.65,0.66,0.66,0.62,0.66,0.66,0...</td>\n      <td>2.58,2.83,2.6,2.7,2.7,2.66,2.94,2.68,2.8,2.66,...</td>\n      <td>1330.995827,1330.995827,1330.995827,1330.99582...</td>\n      <td>NaN,NaN,NaN,NaN,NaN,NaN,NaN,NaN,NaN,NaN,NaN,Na...</td>\n      <td>64.40149177,63.1057941,64.60267283,63.78507079...</td>\n      <td>62.2875,61.9,61.55,61.4,64.38333333,65.1906202...</td>\n      <td>...</td>\n      <td>1.0,1.0,1.0,1.0,1.0,1.0,1.0,1.0,1.0,1.0,1.0,1....</td>\n      <td>27</td>\n      <td>27.08.18</td>\n      <td>CEST</td>\n      <td>0.0</td>\n      <td>1.0</td>\n      <td>1.0</td>\n      <td>0.0</td>\n      <td>NaN</td>\n      <td>1</td>\n    </tr>\n    <tr>\n      <th>441</th>\n      <td>27</td>\n      <td>28.02.18</td>\n      <td>NaN,NaN,NaN,NaN,NaN,NaN,NaN,NaN,NaN,NaN,NaN,Na...</td>\n      <td>NaN,NaN,NaN,NaN,NaN,NaN,NaN,NaN,NaN,NaN,NaN,Na...</td>\n      <td>NaN,NaN,NaN,NaN,NaN,NaN,NaN,NaN,NaN,NaN,NaN,Na...</td>\n      <td>NaN,NaN,NaN,NaN,NaN,NaN,NaN,NaN,NaN,NaN,NaN,Na...</td>\n      <td>NaN,NaN,NaN,NaN,NaN,NaN,NaN,NaN,NaN,NaN,NaN,Na...</td>\n      <td>NaN,NaN,NaN,NaN,NaN,NaN,NaN,NaN,NaN,NaN,NaN,Na...</td>\n      <td>NaN,NaN,NaN,NaN,NaN,NaN,NaN,NaN,NaN,NaN,NaN,Na...</td>\n      <td>NaN,NaN,NaN,NaN,NaN,NaN,NaN,NaN,NaN,NaN,NaN,Na...</td>\n      <td>...</td>\n      <td>NaN,NaN,NaN,NaN,NaN,NaN,NaN,NaN,NaN,NaN,NaN,Na...</td>\n      <td>27</td>\n      <td>28.02.18</td>\n      <td>CET</td>\n      <td>0.0</td>\n      <td>0.0</td>\n      <td>1.0</td>\n      <td>0.0</td>\n      <td>NaN</td>\n      <td>1</td>\n    </tr>\n    <tr>\n      <th>442</th>\n      <td>27</td>\n      <td>28.08.18</td>\n      <td>NaN,NaN,NaN,NaN,NaN,NaN,NaN,NaN,NaN,NaN,NaN,Na...</td>\n      <td>NaN,NaN,NaN,NaN,NaN,NaN,NaN,NaN,NaN,NaN,NaN,Na...</td>\n      <td>NaN,NaN,NaN,NaN,NaN,NaN,NaN,NaN,NaN,NaN,NaN,Na...</td>\n      <td>NaN,NaN,NaN,NaN,NaN,NaN,NaN,NaN,NaN,NaN,NaN,Na...</td>\n      <td>NaN,NaN,NaN,NaN,NaN,NaN,NaN,NaN,NaN,NaN,NaN,Na...</td>\n      <td>NaN,NaN,NaN,NaN,NaN,NaN,NaN,NaN,NaN,NaN,NaN,Na...</td>\n      <td>NaN,NaN,NaN,NaN,NaN,NaN,NaN,NaN,NaN,NaN,NaN,Na...</td>\n      <td>NaN,NaN,NaN,NaN,NaN,NaN,NaN,NaN,NaN,NaN,NaN,Na...</td>\n      <td>...</td>\n      <td>NaN,NaN,NaN,NaN,NaN,NaN,NaN,NaN,NaN,NaN,NaN,Na...</td>\n      <td>27</td>\n      <td>28.08.18</td>\n      <td>CEST</td>\n      <td>0.0</td>\n      <td>1.0</td>\n      <td>0.0</td>\n      <td>0.0</td>\n      <td>NaN</td>\n      <td>1</td>\n    </tr>\n    <tr>\n      <th>443</th>\n      <td>27</td>\n      <td>31.08.18</td>\n      <td>0.784313725,0.784313725,0.784313725,0.78431372...</td>\n      <td>968.1,968.0,968.0,967.9,967.9,967.9,967.9,967....</td>\n      <td>0.4,0.42,0.4,0.39,0.38,0.38,0.36,0.36,0.375,0....</td>\n      <td>3.26,3.24,3.34,3.03,3.02,3.1,3.06,3.01,3.03,2....</td>\n      <td>1042.613398,1330.995827,1330.995827,1330.99582...</td>\n      <td>NaN,NaN,NaN,NaN,NaN,NaN,NaN,NaN,NaN,NaN,NaN,Na...</td>\n      <td>68.6656586,68.73745072,68.6343461,69.26817703,...</td>\n      <td>36.89361702,38.05,40.23333333,41.26297376,38.0...</td>\n      <td>...</td>\n      <td>1.0,1.0,1.0,1.0,1.0,1.0,1.0,1.0,1.0,1.0,1.0,1....</td>\n      <td>27</td>\n      <td>31.08.18</td>\n      <td>CEST</td>\n      <td>0.0</td>\n      <td>-1.0</td>\n      <td>1.0</td>\n      <td>1.0</td>\n      <td>NaN</td>\n      <td>1</td>\n    </tr>\n  </tbody>\n</table>\n<p>444 rows × 23 columns</p>\n</div>"
     },
     "execution_count": 232,
     "metadata": {},
     "output_type": "execute_result"
    }
   ],
   "source": [
    "# don't think this is necessary:\n",
    "query = '''\n",
    "SELECT *\n",
    "FROM X JOIN Y ON X.subjectID = Y.subjectID AND X.date = Y.date;'''\n",
    "data = sqldf(query)\n",
    "data"
   ],
   "metadata": {
    "collapsed": false,
    "pycharm": {
     "name": "#%%\n"
    }
   }
  },
  {
   "cell_type": "code",
   "execution_count": 234,
   "outputs": [
    {
     "data": {
      "text/plain": "32"
     },
     "execution_count": 234,
     "metadata": {},
     "output_type": "execute_result"
    }
   ],
   "source": [
    "# missing data for fatigue values?\n",
    "Y.shape[0] - data.shape[0]"
   ],
   "metadata": {
    "collapsed": false,
    "pycharm": {
     "name": "#%%\n"
    }
   }
  },
  {
   "cell_type": "code",
   "execution_count": 245,
   "outputs": [
    {
     "data": {
      "text/plain": "    subjectID      date\n0           2  17.04.19\n1           2  18.04.19\n2           2  19.04.19\n3           2  20.04.19\n4           2  21.04.19\n5           2  22.04.19\n6          22  02.06.19\n7          24  13.12.17\n8          24  14.12.17\n9          24  15.12.17\n10         24  16.12.17\n11         24  17.12.17\n12         24  18.12.17\n13         24  19.12.17\n14         24  20.12.17\n15         24  21.12.17\n16         24  22.12.17\n17         24  23.12.17\n18         24  24.12.17\n19         24  25.12.17\n20         24  26.12.17\n21         24  27.12.17\n22         24  28.12.17\n23         24  29.12.17\n24         24  30.12.17\n25         25  09.03.18\n26         27  06.02.18\n27         28  09.08.18\n28         28  10.08.18\n29         28  13.08.18\n30         28  14.08.18\n31         28  16.08.18",
      "text/html": "<div>\n<style scoped>\n    .dataframe tbody tr th:only-of-type {\n        vertical-align: middle;\n    }\n\n    .dataframe tbody tr th {\n        vertical-align: top;\n    }\n\n    .dataframe thead th {\n        text-align: right;\n    }\n</style>\n<table border=\"1\" class=\"dataframe\">\n  <thead>\n    <tr style=\"text-align: right;\">\n      <th></th>\n      <th>subjectID</th>\n      <th>date</th>\n    </tr>\n  </thead>\n  <tbody>\n    <tr>\n      <th>0</th>\n      <td>2</td>\n      <td>17.04.19</td>\n    </tr>\n    <tr>\n      <th>1</th>\n      <td>2</td>\n      <td>18.04.19</td>\n    </tr>\n    <tr>\n      <th>2</th>\n      <td>2</td>\n      <td>19.04.19</td>\n    </tr>\n    <tr>\n      <th>3</th>\n      <td>2</td>\n      <td>20.04.19</td>\n    </tr>\n    <tr>\n      <th>4</th>\n      <td>2</td>\n      <td>21.04.19</td>\n    </tr>\n    <tr>\n      <th>5</th>\n      <td>2</td>\n      <td>22.04.19</td>\n    </tr>\n    <tr>\n      <th>6</th>\n      <td>22</td>\n      <td>02.06.19</td>\n    </tr>\n    <tr>\n      <th>7</th>\n      <td>24</td>\n      <td>13.12.17</td>\n    </tr>\n    <tr>\n      <th>8</th>\n      <td>24</td>\n      <td>14.12.17</td>\n    </tr>\n    <tr>\n      <th>9</th>\n      <td>24</td>\n      <td>15.12.17</td>\n    </tr>\n    <tr>\n      <th>10</th>\n      <td>24</td>\n      <td>16.12.17</td>\n    </tr>\n    <tr>\n      <th>11</th>\n      <td>24</td>\n      <td>17.12.17</td>\n    </tr>\n    <tr>\n      <th>12</th>\n      <td>24</td>\n      <td>18.12.17</td>\n    </tr>\n    <tr>\n      <th>13</th>\n      <td>24</td>\n      <td>19.12.17</td>\n    </tr>\n    <tr>\n      <th>14</th>\n      <td>24</td>\n      <td>20.12.17</td>\n    </tr>\n    <tr>\n      <th>15</th>\n      <td>24</td>\n      <td>21.12.17</td>\n    </tr>\n    <tr>\n      <th>16</th>\n      <td>24</td>\n      <td>22.12.17</td>\n    </tr>\n    <tr>\n      <th>17</th>\n      <td>24</td>\n      <td>23.12.17</td>\n    </tr>\n    <tr>\n      <th>18</th>\n      <td>24</td>\n      <td>24.12.17</td>\n    </tr>\n    <tr>\n      <th>19</th>\n      <td>24</td>\n      <td>25.12.17</td>\n    </tr>\n    <tr>\n      <th>20</th>\n      <td>24</td>\n      <td>26.12.17</td>\n    </tr>\n    <tr>\n      <th>21</th>\n      <td>24</td>\n      <td>27.12.17</td>\n    </tr>\n    <tr>\n      <th>22</th>\n      <td>24</td>\n      <td>28.12.17</td>\n    </tr>\n    <tr>\n      <th>23</th>\n      <td>24</td>\n      <td>29.12.17</td>\n    </tr>\n    <tr>\n      <th>24</th>\n      <td>24</td>\n      <td>30.12.17</td>\n    </tr>\n    <tr>\n      <th>25</th>\n      <td>25</td>\n      <td>09.03.18</td>\n    </tr>\n    <tr>\n      <th>26</th>\n      <td>27</td>\n      <td>06.02.18</td>\n    </tr>\n    <tr>\n      <th>27</th>\n      <td>28</td>\n      <td>09.08.18</td>\n    </tr>\n    <tr>\n      <th>28</th>\n      <td>28</td>\n      <td>10.08.18</td>\n    </tr>\n    <tr>\n      <th>29</th>\n      <td>28</td>\n      <td>13.08.18</td>\n    </tr>\n    <tr>\n      <th>30</th>\n      <td>28</td>\n      <td>14.08.18</td>\n    </tr>\n    <tr>\n      <th>31</th>\n      <td>28</td>\n      <td>16.08.18</td>\n    </tr>\n  </tbody>\n</table>\n</div>"
     },
     "execution_count": 245,
     "metadata": {},
     "output_type": "execute_result"
    }
   ],
   "source": [
    "query = '''\n",
    "WITH yy AS (\n",
    "    SELECT subjectID, date\n",
    "    FROM Y\n",
    "),\n",
    "xx AS (\n",
    "    SELECT subjectID, date\n",
    "    FROM X\n",
    "),\n",
    "joined AS (\n",
    "    SELECT *\n",
    "    FROM xx NATURAL JOIN yy\n",
    ")\n",
    "SELECT *\n",
    "FROM yy\n",
    "\n",
    "EXCEPT\n",
    "\n",
    "SELECT *\n",
    "FROM joined;'''\n",
    "sqldf(query)"
   ],
   "metadata": {
    "collapsed": false,
    "pycharm": {
     "name": "#%%\n"
    }
   }
  },
  {
   "cell_type": "code",
   "execution_count": 246,
   "outputs": [
    {
     "data": {
      "text/plain": "     subjectID      date                                     ActivityCounts  \\\n0            1  14.03.19  0.784313725,1.176470588,2.352941176,1.17647058...   \n1            1  15.03.19  0.784313725,0.784313725,0.784313725,0.78431372...   \n2            1  16.03.19  0.784313725,1.176470588,5.098039216,0.78431372...   \n3            1  17.03.19  0.784313725,0.784313725,0.784313725,0.78431372...   \n4            1  18.03.19  0.784313725,1.176470588,0.784313725,0.78431372...   \n..         ...       ...                                                ...   \n946         27  30.08.18  0.784313725,0.784313725,0.784313725,0.78431372...   \n947         27  31.03.18  NaN,NaN,NaN,NaN,NaN,NaN,NaN,NaN,NaN,NaN,NaN,Na...   \n948         27  31.05.18  NaN,NaN,NaN,NaN,NaN,NaN,NaN,NaN,NaN,NaN,NaN,Na...   \n949         27  31.07.18  NaN,NaN,NaN,NaN,NaN,NaN,NaN,NaN,NaN,NaN,NaN,Na...   \n950         27  31.08.18  0.784313725,0.784313725,0.784313725,0.78431372...   \n\n                                             Barometer  \\\n0    981.25,981.2,981.2,981.1,981.2,981.3,981.2,981...   \n1    984.4,984.5,984.3,984.4,984.3,984.4,984.3,984....   \n2    990.7,990.6,990.7,990.7,990.8,990.75,990.8,990...   \n3    982.15,982.05,982.0,982.0,982.0,982.0,982.0,98...   \n4    988.5,988.6,988.7,988.65,988.5,988.5,988.5,988...   \n..                                                 ...   \n946  967.1,967.05,967.0,967.1,967.1,967.0,967.0,967...   \n947  NaN,NaN,NaN,NaN,NaN,NaN,NaN,NaN,NaN,NaN,NaN,Na...   \n948  NaN,NaN,NaN,NaN,NaN,NaN,NaN,NaN,NaN,NaN,NaN,Na...   \n949  NaN,NaN,NaN,NaN,NaN,NaN,NaN,NaN,NaN,NaN,NaN,Na...   \n950  968.1,968.0,968.0,967.9,967.9,967.9,967.9,967....   \n\n                                        BloodPerfusion  \\\n0    0.0,0.175,0.19,0.11,0.1,0.09,NaN,NaN,NaN,NaN,N...   \n1    0.875,0.825,0.975,0.98,1.0,0.985,0.96,0.93,0.9...   \n2    1.045,0.79,0.84,0.585,0.415,0.74,0.835,0.835,0...   \n3    1.42,1.47,1.48,1.46,1.49,1.475,1.47,1.46,1.45,...   \n4    1.48,1.49,1.155,1.525,1.38,1.45,1.555,1.41,1.6...   \n..                                                 ...   \n946  0.62,0.63,0.5,0.56,0.555,0.55,0.53,0.51,0.49,0...   \n947  NaN,NaN,NaN,NaN,NaN,NaN,NaN,NaN,NaN,NaN,NaN,Na...   \n948  NaN,NaN,NaN,NaN,NaN,NaN,NaN,NaN,NaN,NaN,NaN,Na...   \n949  NaN,NaN,NaN,NaN,NaN,NaN,NaN,NaN,NaN,NaN,NaN,Na...   \n950  0.4,0.42,0.4,0.39,0.38,0.38,0.36,0.36,0.375,0....   \n\n                                        BloodPulseWave  \\\n0    0.0,1.9,1.82,1.94,1.68,1.09,NaN,NaN,NaN,NaN,Na...   \n1    2.27,2.18,2.19,2.18,2.02,2.27,2.27,2.49,2.17,2...   \n2    2.32,2.22,2.44,2.18,2.45,2.44,2.24,2.28,2.18,2...   \n3    2.86,2.7,2.73,2.72,2.68,2.9,2.96,3.02,3.08,3.3...   \n4    1.54,1.61,2.18,2.01,1.76,1.76,1.78,1.81,1.5,1....   \n..                                                 ...   \n946  2.68,2.7,2.78,2.45,2.58,2.67,2.52,2.5,2.6,2.6,...   \n947  NaN,NaN,NaN,NaN,NaN,NaN,NaN,NaN,NaN,NaN,NaN,Na...   \n948  NaN,NaN,NaN,NaN,NaN,NaN,NaN,NaN,NaN,NaN,NaN,Na...   \n949  NaN,NaN,NaN,NaN,NaN,NaN,NaN,NaN,NaN,NaN,NaN,Na...   \n950  3.26,3.24,3.34,3.03,3.02,3.1,3.06,3.01,3.03,2....   \n\n                                     EnergyExpenditure  \\\n0    753.6365662,1256.060944,1256.060944,1256.06094...   \n1    1311.85318,1311.85318,1311.85318,1311.85318,13...   \n2    1311.85318,1311.85318,1311.85318,1311.85318,13...   \n3    1311.85318,1311.85318,1311.85318,1311.85318,13...   \n4    1289.98896,1311.85318,1311.85318,1311.85318,13...   \n..                                                 ...   \n946  1330.995827,1330.995827,1374.446035,1330.99582...   \n947  NaN,NaN,NaN,NaN,NaN,NaN,NaN,NaN,NaN,NaN,NaN,Na...   \n948  NaN,NaN,NaN,NaN,NaN,NaN,NaN,NaN,NaN,NaN,NaN,Na...   \n949  NaN,NaN,NaN,NaN,NaN,NaN,NaN,NaN,NaN,NaN,NaN,Na...   \n950  1042.613398,1330.995827,1330.995827,1330.99582...   \n\n                                  GalvanicSkinResponse  \\\n0    NaN,NaN,NaN,NaN,NaN,NaN,NaN,NaN,NaN,NaN,NaN,Na...   \n1    2.471338889,2.46735,2.466372222,2.4621,2.45465...   \n2    1.172788889,1.171305556,1.061122222,3.09794444...   \n3    2.573777778,2.567694444,2.560622222,2.55622222...   \n4    2.632423729,2.630555556,2.626594444,2.62318333...   \n..                                                 ...   \n946  0.925716667,0.934888889,0.854785311,0.85772777...   \n947  NaN,NaN,NaN,NaN,NaN,NaN,NaN,NaN,NaN,NaN,NaN,Na...   \n948  NaN,NaN,NaN,NaN,NaN,NaN,NaN,NaN,NaN,NaN,NaN,Na...   \n949  NaN,NaN,NaN,NaN,NaN,NaN,NaN,NaN,NaN,NaN,NaN,Na...   \n950  NaN,NaN,NaN,NaN,NaN,NaN,NaN,NaN,NaN,NaN,NaN,Na...   \n\n                                                    HR  \\\n0    83.0,75.40363269,69.11265332,69.78116438,72.30...   \n1    67.54923531,57.26287697,55.2253739,58.43175416...   \n2    64.65655738,63.83929024,63.86047157,62.6129328...   \n3    69.66641006,70.49757838,70.17700916,69.3862999...   \n4    57.42528736,59.38585964,65.7858185,58.39290306...   \n..                                                 ...   \n946  63.41839611,63.30076726,65.60981987,58.1836150...   \n947  NaN,NaN,NaN,NaN,NaN,NaN,NaN,NaN,NaN,NaN,NaN,Na...   \n948  NaN,NaN,NaN,NaN,NaN,NaN,NaN,NaN,NaN,NaN,NaN,Na...   \n949  NaN,NaN,NaN,NaN,NaN,NaN,NaN,NaN,NaN,NaN,NaN,Na...   \n950  68.6656586,68.73745072,68.6343461,69.26817703,...   \n\n                                                   HRV  \\\n0    NaN,NaN,NaN,NaN,NaN,NaN,NaN,NaN,NaN,NaN,NaN,Na...   \n1    44.92312073,51.26666667,57.7,58.01666667,57.41...   \n2    31.3815721,34.48333333,36.25,39.48333333,41.9,...   \n3    23.08598131,22.81666667,20.41666667,20.5166666...   \n4    33.69491525,34.18333333,37.91988636,46.85,52.9...   \n..                                                 ...   \n946  44.13333333,43.55,42.65485714,40.7,39.26666667...   \n947  NaN,NaN,NaN,NaN,NaN,NaN,NaN,NaN,NaN,NaN,NaN,Na...   \n948  NaN,NaN,NaN,NaN,NaN,NaN,NaN,NaN,NaN,NaN,NaN,Na...   \n949  NaN,NaN,NaN,NaN,NaN,NaN,NaN,NaN,NaN,NaN,NaN,Na...   \n950  36.89361702,38.05,40.23333333,41.26297376,38.0...   \n\n                                                  RESP  \\\n0    NaN,NaN,14.5625,12.17552786,12.531234,14.69469...   \n1    14.34420472,14.21430416,12.45540139,14.6309642...   \n2    15.03026316,15.03544724,12.88235294,12.5884458...   \n3    14.23136959,13.68923699,16.7,16.6549496,13.494...   \n4    15.35642063,14.75081392,14.21644803,10.5670285...   \n..                                                 ...   \n946  16.56763527,17.25,16.70448549,15.14208633,14.6...   \n947  NaN,NaN,NaN,NaN,NaN,NaN,NaN,NaN,NaN,NaN,NaN,Na...   \n948  NaN,NaN,NaN,NaN,NaN,NaN,NaN,NaN,NaN,NaN,NaN,Na...   \n949  NaN,NaN,NaN,NaN,NaN,NaN,NaN,NaN,NaN,NaN,NaN,Na...   \n950  16.81077655,17.84992534,17.23233869,17.7514792...   \n\n                                                 Steps  \\\n0    0.0,0.0,0.0,0.0,0.0,0.0,0.0,0.0,0.0,0.0,NaN,0....   \n1    0.0,0.0,0.0,0.0,0.0,0.0,0.0,0.0,0.0,0.0,0.0,0....   \n2    0.0,0.0,0.0,0.0,0.0,0.0,0.0,0.0,0.0,0.0,0.0,0....   \n3    0.0,0.0,0.0,0.0,0.0,0.0,0.0,0.0,0.0,0.0,0.0,0....   \n4    0.0,0.0,0.0,0.0,0.0,0.0,0.0,0.0,0.0,0.0,0.0,0....   \n..                                                 ...   \n946  0.0,0.0,0.0,0.0,0.0,0.0,0.0,0.0,0.0,0.0,0.0,0....   \n947  NaN,NaN,NaN,NaN,NaN,NaN,NaN,NaN,NaN,NaN,NaN,Na...   \n948  NaN,NaN,NaN,NaN,NaN,NaN,NaN,NaN,NaN,NaN,NaN,Na...   \n949  NaN,NaN,NaN,NaN,NaN,NaN,NaN,NaN,NaN,NaN,NaN,Na...   \n950  0.0,0.0,0.0,0.0,0.0,0.0,0.0,0.0,0.0,0.0,0.0,0....   \n\n                                       SkinTemperature  \\\n0    28.28,29.44,30.41,31.0,31.455,31.795,32.22,31....   \n1    36.13,36.19,36.25,36.31,36.44,36.5,36.59,36.69...   \n2    34.34,34.38,34.38,34.455,34.16,34.06,34.19,34....   \n3    35.63,35.63,35.44,35.41,35.38,35.38,35.38,35.3...   \n4    36.94,36.97,36.97,36.69,36.53,36.34,36.19,35.9...   \n..                                                 ...   \n946  36.44,36.41,36.38,36.34,36.31,36.22,36.16,36.0...   \n947  NaN,NaN,NaN,NaN,NaN,NaN,NaN,NaN,NaN,NaN,NaN,Na...   \n948  NaN,NaN,NaN,NaN,NaN,NaN,NaN,NaN,NaN,NaN,NaN,Na...   \n949  NaN,NaN,NaN,NaN,NaN,NaN,NaN,NaN,NaN,NaN,NaN,Na...   \n950  35.25,35.41,35.41,35.41,35.44,35.47,35.5,35.53...   \n\n                                         ActivityClass  \n0    NaN,NaN,NaN,NaN,NaN,NaN,NaN,NaN,NaN,NaN,NaN,Na...  \n1    NaN,NaN,NaN,NaN,NaN,NaN,NaN,NaN,NaN,NaN,NaN,Na...  \n2    NaN,NaN,NaN,NaN,NaN,NaN,NaN,NaN,NaN,NaN,NaN,Na...  \n3    NaN,NaN,NaN,NaN,NaN,NaN,NaN,NaN,NaN,NaN,NaN,Na...  \n4    NaN,NaN,NaN,NaN,NaN,NaN,NaN,NaN,NaN,NaN,NaN,Na...  \n..                                                 ...  \n946  1.0,1.0,1.0,1.0,1.0,1.0,1.0,1.0,1.0,1.0,1.0,1....  \n947  NaN,NaN,NaN,NaN,NaN,NaN,NaN,NaN,NaN,NaN,NaN,Na...  \n948  NaN,NaN,NaN,NaN,NaN,NaN,NaN,NaN,NaN,NaN,NaN,Na...  \n949  NaN,NaN,NaN,NaN,NaN,NaN,NaN,NaN,NaN,NaN,NaN,Na...  \n950  1.0,1.0,1.0,1.0,1.0,1.0,1.0,1.0,1.0,1.0,1.0,1....  \n\n[951 rows x 14 columns]",
      "text/html": "<div>\n<style scoped>\n    .dataframe tbody tr th:only-of-type {\n        vertical-align: middle;\n    }\n\n    .dataframe tbody tr th {\n        vertical-align: top;\n    }\n\n    .dataframe thead th {\n        text-align: right;\n    }\n</style>\n<table border=\"1\" class=\"dataframe\">\n  <thead>\n    <tr style=\"text-align: right;\">\n      <th></th>\n      <th>subjectID</th>\n      <th>date</th>\n      <th>ActivityCounts</th>\n      <th>Barometer</th>\n      <th>BloodPerfusion</th>\n      <th>BloodPulseWave</th>\n      <th>EnergyExpenditure</th>\n      <th>GalvanicSkinResponse</th>\n      <th>HR</th>\n      <th>HRV</th>\n      <th>RESP</th>\n      <th>Steps</th>\n      <th>SkinTemperature</th>\n      <th>ActivityClass</th>\n    </tr>\n  </thead>\n  <tbody>\n    <tr>\n      <th>0</th>\n      <td>1</td>\n      <td>14.03.19</td>\n      <td>0.784313725,1.176470588,2.352941176,1.17647058...</td>\n      <td>981.25,981.2,981.2,981.1,981.2,981.3,981.2,981...</td>\n      <td>0.0,0.175,0.19,0.11,0.1,0.09,NaN,NaN,NaN,NaN,N...</td>\n      <td>0.0,1.9,1.82,1.94,1.68,1.09,NaN,NaN,NaN,NaN,Na...</td>\n      <td>753.6365662,1256.060944,1256.060944,1256.06094...</td>\n      <td>NaN,NaN,NaN,NaN,NaN,NaN,NaN,NaN,NaN,NaN,NaN,Na...</td>\n      <td>83.0,75.40363269,69.11265332,69.78116438,72.30...</td>\n      <td>NaN,NaN,NaN,NaN,NaN,NaN,NaN,NaN,NaN,NaN,NaN,Na...</td>\n      <td>NaN,NaN,14.5625,12.17552786,12.531234,14.69469...</td>\n      <td>0.0,0.0,0.0,0.0,0.0,0.0,0.0,0.0,0.0,0.0,NaN,0....</td>\n      <td>28.28,29.44,30.41,31.0,31.455,31.795,32.22,31....</td>\n      <td>NaN,NaN,NaN,NaN,NaN,NaN,NaN,NaN,NaN,NaN,NaN,Na...</td>\n    </tr>\n    <tr>\n      <th>1</th>\n      <td>1</td>\n      <td>15.03.19</td>\n      <td>0.784313725,0.784313725,0.784313725,0.78431372...</td>\n      <td>984.4,984.5,984.3,984.4,984.3,984.4,984.3,984....</td>\n      <td>0.875,0.825,0.975,0.98,1.0,0.985,0.96,0.93,0.9...</td>\n      <td>2.27,2.18,2.19,2.18,2.02,2.27,2.27,2.49,2.17,2...</td>\n      <td>1311.85318,1311.85318,1311.85318,1311.85318,13...</td>\n      <td>2.471338889,2.46735,2.466372222,2.4621,2.45465...</td>\n      <td>67.54923531,57.26287697,55.2253739,58.43175416...</td>\n      <td>44.92312073,51.26666667,57.7,58.01666667,57.41...</td>\n      <td>14.34420472,14.21430416,12.45540139,14.6309642...</td>\n      <td>0.0,0.0,0.0,0.0,0.0,0.0,0.0,0.0,0.0,0.0,0.0,0....</td>\n      <td>36.13,36.19,36.25,36.31,36.44,36.5,36.59,36.69...</td>\n      <td>NaN,NaN,NaN,NaN,NaN,NaN,NaN,NaN,NaN,NaN,NaN,Na...</td>\n    </tr>\n    <tr>\n      <th>2</th>\n      <td>1</td>\n      <td>16.03.19</td>\n      <td>0.784313725,1.176470588,5.098039216,0.78431372...</td>\n      <td>990.7,990.6,990.7,990.7,990.8,990.75,990.8,990...</td>\n      <td>1.045,0.79,0.84,0.585,0.415,0.74,0.835,0.835,0...</td>\n      <td>2.32,2.22,2.44,2.18,2.45,2.44,2.24,2.28,2.18,2...</td>\n      <td>1311.85318,1311.85318,1311.85318,1311.85318,13...</td>\n      <td>1.172788889,1.171305556,1.061122222,3.09794444...</td>\n      <td>64.65655738,63.83929024,63.86047157,62.6129328...</td>\n      <td>31.3815721,34.48333333,36.25,39.48333333,41.9,...</td>\n      <td>15.03026316,15.03544724,12.88235294,12.5884458...</td>\n      <td>0.0,0.0,0.0,0.0,0.0,0.0,0.0,0.0,0.0,0.0,0.0,0....</td>\n      <td>34.34,34.38,34.38,34.455,34.16,34.06,34.19,34....</td>\n      <td>NaN,NaN,NaN,NaN,NaN,NaN,NaN,NaN,NaN,NaN,NaN,Na...</td>\n    </tr>\n    <tr>\n      <th>3</th>\n      <td>1</td>\n      <td>17.03.19</td>\n      <td>0.784313725,0.784313725,0.784313725,0.78431372...</td>\n      <td>982.15,982.05,982.0,982.0,982.0,982.0,982.0,98...</td>\n      <td>1.42,1.47,1.48,1.46,1.49,1.475,1.47,1.46,1.45,...</td>\n      <td>2.86,2.7,2.73,2.72,2.68,2.9,2.96,3.02,3.08,3.3...</td>\n      <td>1311.85318,1311.85318,1311.85318,1311.85318,13...</td>\n      <td>2.573777778,2.567694444,2.560622222,2.55622222...</td>\n      <td>69.66641006,70.49757838,70.17700916,69.3862999...</td>\n      <td>23.08598131,22.81666667,20.41666667,20.5166666...</td>\n      <td>14.23136959,13.68923699,16.7,16.6549496,13.494...</td>\n      <td>0.0,0.0,0.0,0.0,0.0,0.0,0.0,0.0,0.0,0.0,0.0,0....</td>\n      <td>35.63,35.63,35.44,35.41,35.38,35.38,35.38,35.3...</td>\n      <td>NaN,NaN,NaN,NaN,NaN,NaN,NaN,NaN,NaN,NaN,NaN,Na...</td>\n    </tr>\n    <tr>\n      <th>4</th>\n      <td>1</td>\n      <td>18.03.19</td>\n      <td>0.784313725,1.176470588,0.784313725,0.78431372...</td>\n      <td>988.5,988.6,988.7,988.65,988.5,988.5,988.5,988...</td>\n      <td>1.48,1.49,1.155,1.525,1.38,1.45,1.555,1.41,1.6...</td>\n      <td>1.54,1.61,2.18,2.01,1.76,1.76,1.78,1.81,1.5,1....</td>\n      <td>1289.98896,1311.85318,1311.85318,1311.85318,13...</td>\n      <td>2.632423729,2.630555556,2.626594444,2.62318333...</td>\n      <td>57.42528736,59.38585964,65.7858185,58.39290306...</td>\n      <td>33.69491525,34.18333333,37.91988636,46.85,52.9...</td>\n      <td>15.35642063,14.75081392,14.21644803,10.5670285...</td>\n      <td>0.0,0.0,0.0,0.0,0.0,0.0,0.0,0.0,0.0,0.0,0.0,0....</td>\n      <td>36.94,36.97,36.97,36.69,36.53,36.34,36.19,35.9...</td>\n      <td>NaN,NaN,NaN,NaN,NaN,NaN,NaN,NaN,NaN,NaN,NaN,Na...</td>\n    </tr>\n    <tr>\n      <th>...</th>\n      <td>...</td>\n      <td>...</td>\n      <td>...</td>\n      <td>...</td>\n      <td>...</td>\n      <td>...</td>\n      <td>...</td>\n      <td>...</td>\n      <td>...</td>\n      <td>...</td>\n      <td>...</td>\n      <td>...</td>\n      <td>...</td>\n      <td>...</td>\n    </tr>\n    <tr>\n      <th>946</th>\n      <td>27</td>\n      <td>30.08.18</td>\n      <td>0.784313725,0.784313725,0.784313725,0.78431372...</td>\n      <td>967.1,967.05,967.0,967.1,967.1,967.0,967.0,967...</td>\n      <td>0.62,0.63,0.5,0.56,0.555,0.55,0.53,0.51,0.49,0...</td>\n      <td>2.68,2.7,2.78,2.45,2.58,2.67,2.52,2.5,2.6,2.6,...</td>\n      <td>1330.995827,1330.995827,1374.446035,1330.99582...</td>\n      <td>0.925716667,0.934888889,0.854785311,0.85772777...</td>\n      <td>63.41839611,63.30076726,65.60981987,58.1836150...</td>\n      <td>44.13333333,43.55,42.65485714,40.7,39.26666667...</td>\n      <td>16.56763527,17.25,16.70448549,15.14208633,14.6...</td>\n      <td>0.0,0.0,0.0,0.0,0.0,0.0,0.0,0.0,0.0,0.0,0.0,0....</td>\n      <td>36.44,36.41,36.38,36.34,36.31,36.22,36.16,36.0...</td>\n      <td>1.0,1.0,1.0,1.0,1.0,1.0,1.0,1.0,1.0,1.0,1.0,1....</td>\n    </tr>\n    <tr>\n      <th>947</th>\n      <td>27</td>\n      <td>31.03.18</td>\n      <td>NaN,NaN,NaN,NaN,NaN,NaN,NaN,NaN,NaN,NaN,NaN,Na...</td>\n      <td>NaN,NaN,NaN,NaN,NaN,NaN,NaN,NaN,NaN,NaN,NaN,Na...</td>\n      <td>NaN,NaN,NaN,NaN,NaN,NaN,NaN,NaN,NaN,NaN,NaN,Na...</td>\n      <td>NaN,NaN,NaN,NaN,NaN,NaN,NaN,NaN,NaN,NaN,NaN,Na...</td>\n      <td>NaN,NaN,NaN,NaN,NaN,NaN,NaN,NaN,NaN,NaN,NaN,Na...</td>\n      <td>NaN,NaN,NaN,NaN,NaN,NaN,NaN,NaN,NaN,NaN,NaN,Na...</td>\n      <td>NaN,NaN,NaN,NaN,NaN,NaN,NaN,NaN,NaN,NaN,NaN,Na...</td>\n      <td>NaN,NaN,NaN,NaN,NaN,NaN,NaN,NaN,NaN,NaN,NaN,Na...</td>\n      <td>NaN,NaN,NaN,NaN,NaN,NaN,NaN,NaN,NaN,NaN,NaN,Na...</td>\n      <td>NaN,NaN,NaN,NaN,NaN,NaN,NaN,NaN,NaN,NaN,NaN,Na...</td>\n      <td>NaN,NaN,NaN,NaN,NaN,NaN,NaN,NaN,NaN,NaN,NaN,Na...</td>\n      <td>NaN,NaN,NaN,NaN,NaN,NaN,NaN,NaN,NaN,NaN,NaN,Na...</td>\n    </tr>\n    <tr>\n      <th>948</th>\n      <td>27</td>\n      <td>31.05.18</td>\n      <td>NaN,NaN,NaN,NaN,NaN,NaN,NaN,NaN,NaN,NaN,NaN,Na...</td>\n      <td>NaN,NaN,NaN,NaN,NaN,NaN,NaN,NaN,NaN,NaN,NaN,Na...</td>\n      <td>NaN,NaN,NaN,NaN,NaN,NaN,NaN,NaN,NaN,NaN,NaN,Na...</td>\n      <td>NaN,NaN,NaN,NaN,NaN,NaN,NaN,NaN,NaN,NaN,NaN,Na...</td>\n      <td>NaN,NaN,NaN,NaN,NaN,NaN,NaN,NaN,NaN,NaN,NaN,Na...</td>\n      <td>NaN,NaN,NaN,NaN,NaN,NaN,NaN,NaN,NaN,NaN,NaN,Na...</td>\n      <td>NaN,NaN,NaN,NaN,NaN,NaN,NaN,NaN,NaN,NaN,NaN,Na...</td>\n      <td>NaN,NaN,NaN,NaN,NaN,NaN,NaN,NaN,NaN,NaN,NaN,Na...</td>\n      <td>NaN,NaN,NaN,NaN,NaN,NaN,NaN,NaN,NaN,NaN,NaN,Na...</td>\n      <td>NaN,NaN,NaN,NaN,NaN,NaN,NaN,NaN,NaN,NaN,NaN,Na...</td>\n      <td>NaN,NaN,NaN,NaN,NaN,NaN,NaN,NaN,NaN,NaN,NaN,Na...</td>\n      <td>NaN,NaN,NaN,NaN,NaN,NaN,NaN,NaN,NaN,NaN,NaN,Na...</td>\n    </tr>\n    <tr>\n      <th>949</th>\n      <td>27</td>\n      <td>31.07.18</td>\n      <td>NaN,NaN,NaN,NaN,NaN,NaN,NaN,NaN,NaN,NaN,NaN,Na...</td>\n      <td>NaN,NaN,NaN,NaN,NaN,NaN,NaN,NaN,NaN,NaN,NaN,Na...</td>\n      <td>NaN,NaN,NaN,NaN,NaN,NaN,NaN,NaN,NaN,NaN,NaN,Na...</td>\n      <td>NaN,NaN,NaN,NaN,NaN,NaN,NaN,NaN,NaN,NaN,NaN,Na...</td>\n      <td>NaN,NaN,NaN,NaN,NaN,NaN,NaN,NaN,NaN,NaN,NaN,Na...</td>\n      <td>NaN,NaN,NaN,NaN,NaN,NaN,NaN,NaN,NaN,NaN,NaN,Na...</td>\n      <td>NaN,NaN,NaN,NaN,NaN,NaN,NaN,NaN,NaN,NaN,NaN,Na...</td>\n      <td>NaN,NaN,NaN,NaN,NaN,NaN,NaN,NaN,NaN,NaN,NaN,Na...</td>\n      <td>NaN,NaN,NaN,NaN,NaN,NaN,NaN,NaN,NaN,NaN,NaN,Na...</td>\n      <td>NaN,NaN,NaN,NaN,NaN,NaN,NaN,NaN,NaN,NaN,NaN,Na...</td>\n      <td>NaN,NaN,NaN,NaN,NaN,NaN,NaN,NaN,NaN,NaN,NaN,Na...</td>\n      <td>NaN,NaN,NaN,NaN,NaN,NaN,NaN,NaN,NaN,NaN,NaN,Na...</td>\n    </tr>\n    <tr>\n      <th>950</th>\n      <td>27</td>\n      <td>31.08.18</td>\n      <td>0.784313725,0.784313725,0.784313725,0.78431372...</td>\n      <td>968.1,968.0,968.0,967.9,967.9,967.9,967.9,967....</td>\n      <td>0.4,0.42,0.4,0.39,0.38,0.38,0.36,0.36,0.375,0....</td>\n      <td>3.26,3.24,3.34,3.03,3.02,3.1,3.06,3.01,3.03,2....</td>\n      <td>1042.613398,1330.995827,1330.995827,1330.99582...</td>\n      <td>NaN,NaN,NaN,NaN,NaN,NaN,NaN,NaN,NaN,NaN,NaN,Na...</td>\n      <td>68.6656586,68.73745072,68.6343461,69.26817703,...</td>\n      <td>36.89361702,38.05,40.23333333,41.26297376,38.0...</td>\n      <td>16.81077655,17.84992534,17.23233869,17.7514792...</td>\n      <td>0.0,0.0,0.0,0.0,0.0,0.0,0.0,0.0,0.0,0.0,0.0,0....</td>\n      <td>35.25,35.41,35.41,35.41,35.44,35.47,35.5,35.53...</td>\n      <td>1.0,1.0,1.0,1.0,1.0,1.0,1.0,1.0,1.0,1.0,1.0,1....</td>\n    </tr>\n  </tbody>\n</table>\n<p>951 rows × 14 columns</p>\n</div>"
     },
     "execution_count": 246,
     "metadata": {},
     "output_type": "execute_result"
    }
   ],
   "source": [
    "X # seems like for 32 days we have questionnaires but no physiological data?"
   ],
   "metadata": {
    "collapsed": false,
    "pycharm": {
     "name": "#%%\n"
    }
   }
  },
  {
   "cell_type": "markdown",
   "source": [
    "# Export data"
   ],
   "metadata": {
    "collapsed": false
   }
  },
  {
   "cell_type": "code",
   "execution_count": 257,
   "outputs": [],
   "source": [
    "output_path = '/'.join(path.split('/')[:-1]) + '/Output'"
   ],
   "metadata": {
    "collapsed": false,
    "pycharm": {
     "name": "#%%\n"
    }
   }
  },
  {
   "cell_type": "code",
   "execution_count": 258,
   "outputs": [],
   "source": [
    "data.to_csv(output_path + '/combined_data.csv')"
   ],
   "metadata": {
    "collapsed": false,
    "pycharm": {
     "name": "#%%\n"
    }
   }
  }
 ],
 "metadata": {
  "kernelspec": {
   "display_name": "Python 3",
   "language": "python",
   "name": "python3"
  },
  "language_info": {
   "codemirror_mode": {
    "name": "ipython",
    "version": 2
   },
   "file_extension": ".py",
   "mimetype": "text/x-python",
   "name": "python",
   "nbconvert_exporter": "python",
   "pygments_lexer": "ipython2",
   "version": "2.7.6"
  }
 },
 "nbformat": 4,
 "nbformat_minor": 0
}