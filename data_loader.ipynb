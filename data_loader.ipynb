{
 "cells": [
  {
   "cell_type": "code",
   "execution_count": 75,
   "metadata": {
    "collapsed": true
   },
   "outputs": [],
   "source": [
    "import pandas as pd\n",
    "from pandasql import sqldf"
   ]
  },
  {
   "cell_type": "markdown",
   "source": [
    "# Import data"
   ],
   "metadata": {
    "collapsed": false
   }
  },
  {
   "cell_type": "code",
   "execution_count": 57,
   "outputs": [],
   "source": [
    "# file path to data folder\n",
    "paths = {'windows': 'C:/Users/jjung/iCloudDrive/ETH/MSc 3rd semester/Semester project/Data',\n",
    "         'macOS': '/Users/janoschjungo/Library/Mobile Documents/com~apple~CloudDocs/ETH/MSc 3rd semester/Semester project/Data'}\n",
    "path = paths['windows']"
   ],
   "metadata": {
    "collapsed": false
   }
  },
  {
   "cell_type": "code",
   "execution_count": 58,
   "outputs": [],
   "source": [
    "# import physiological data\n",
    "physio = pd.DataFrame()\n",
    "for subjectID in range(1, 28):\n",
    "    # load physiological data for subject\n",
    "    try:\n",
    "        file = path + f'/subjectID_{subjectID}.csv'\n",
    "        physio_subject = pd.read_csv(file)\n",
    "    except FileNotFoundError:\n",
    "        path = paths['macOS']\n",
    "        file = path + f'/subjectID_{subjectID}.csv'\n",
    "        physio_subject = pd.read_csv(file)\n",
    "    n_entries = physio_subject.shape[0]\n",
    "    physio_subject['SubjectID'] = [subjectID for i in range(n_entries)]\n",
    "\n",
    "    # clean column names (dataset contains different column names per subject)\n",
    "    if 'SkinTemperature.Value' in physio_subject.columns:\n",
    "        physio_subject = physio_subject.rename(columns={'SkinTemperature.Value': 'SkinTemperature'}, errors='raise')\n",
    "\n",
    "    # combine all subject data\n",
    "    physio = pd.concat([physio, physio_subject])\n",
    "\n",
    "# import fatigue (PROs) data\n",
    "fatigue = pd.read_csv(path + '/fatiguePROs.csv')"
   ],
   "metadata": {
    "collapsed": false
   }
  },
  {
   "cell_type": "markdown",
   "source": [
    "# Convert data"
   ],
   "metadata": {
    "collapsed": false
   }
  },
  {
   "cell_type": "markdown",
   "source": [
    "# a) Fatigue (PROs) data"
   ],
   "metadata": {
    "collapsed": false
   }
  },
  {
   "cell_type": "code",
   "execution_count": 59,
   "outputs": [
    {
     "name": "stdout",
     "output_type": "stream",
     "text": [
      "total number of questions: 2271\n"
     ]
    }
   ],
   "source": [
    "# convert questions into fatigue variables\n",
    "query = '''\n",
    "SELECT SubjectID as subjectID, DateTime AS timestamp, Timezone AS timezone,\n",
    "CASE\n",
    "    WHEN PROquestion LIKE 'Describe fatigue on a scale of 1 to 10, where 1 means you don’t feel tired at all and 10 means the worst tiredness you can imagine' THEN PROanswer_value\n",
    "END AS 'VAS',\n",
    "CASE\n",
    "    WHEN PROquestion LIKE 'Physically, today how often did you feel exhausted?' THEN PROanswer_choice\n",
    "END AS 'phF',\n",
    "CASE\n",
    "    WHEN PROquestion LIKE 'Mentally, today how often did you feel exhausted?' THEN PROanswer_choice\n",
    "END AS 'MF',\n",
    "CASE\n",
    "    WHEN PROquestion LIKE 'Are you feeling better, worse or the same as yesterday?' THEN PROanswer_choice\n",
    "END AS 'ReIP',\n",
    "CASE\n",
    "    WHEN PROquestion LIKE 'Did you do sport today?' THEN PROanswer_choice\n",
    "END AS 'sport'\n",
    "FROM fatigue\n",
    "'''\n",
    "temp = sqldf(query)\n",
    "temp = temp.fillna(value=pd.NA)\n",
    "print('total number of questions:', temp.shape[0])"
   ],
   "metadata": {
    "collapsed": false
   }
  },
  {
   "cell_type": "code",
   "execution_count": 60,
   "outputs": [
    {
     "name": "stdout",
     "output_type": "stream",
     "text": [
      "total number of separate questionnaires: 526\n"
     ]
    }
   ],
   "source": [
    "# distinguish different questionnaires with same timestamp (note: data is in chronological order)\n",
    "temp = temp.reset_index(drop=False)\n",
    "temp = temp.rename(columns={'index': 'id'})\n",
    "\n",
    "# same id = same questionnaire\n",
    "questionnaire = 0\n",
    "questionnaire_timestamp = temp.loc[0, 'timestamp']\n",
    "asked_questions = {'VAS': 0, 'phF': 0, 'MF': 0, 'ReIP': 0, 'sport': 0} # already asked?\n",
    "for i, row in temp.iterrows():\n",
    "    asked_questions = {key: value + int(not pd.isna(row[key])) for key, value in asked_questions.items()}\n",
    "\n",
    "    # different timestamp? -> different questionnaire\n",
    "    if row['timestamp'] != questionnaire_timestamp:\n",
    "        questionnaire += 1\n",
    "        questionnaire_timestamp = temp.loc[i, 'timestamp']\n",
    "        asked_questions = {key: int(not pd.isna(row[key])) for key, value in asked_questions.items()}\n",
    "    # same timestamp but same question again (vas already asked)? -> different questionnaire\n",
    "    elif 2 in set(asked_questions.values()):\n",
    "        questionnaire += 1\n",
    "        questionnaire_timestamp = temp.loc[i, 'timestamp']\n",
    "        asked_questions = {key: int(not pd.isna(row[key])) for key, value in asked_questions.items()}\n",
    "    else:\n",
    "        pass\n",
    "\n",
    "    temp.loc[i, 'id'] = questionnaire\n",
    "\n",
    "query = '''\n",
    "SELECT id, subjectID, timestamp, GROUP_CONCAT(DISTINCT timezone) AS timezone, GROUP_CONCAT(VAS) AS VAS, GROUP_CONCAT(phF) AS phF, GROUP_CONCAT(MF) AS MF, GROUP_CONCAT(ReIP) AS ReIP, GROUP_CONCAT(sport) AS sport\n",
    "FROM temp\n",
    "GROUP BY id, subjectID, timestamp\n",
    "'''\n",
    "questionnaires = sqldf(query)\n",
    "print('total number of separate questionnaires:', questionnaires.shape[0])"
   ],
   "metadata": {
    "collapsed": false
   }
  },
  {
   "cell_type": "code",
   "execution_count": 61,
   "outputs": [
    {
     "name": "stdout",
     "output_type": "stream",
     "text": [
      "number of discarded questionnaires: 3\n"
     ]
    },
    {
     "data": {
      "text/plain": "    id  subjectID       timestamp timezone   VAS   phF    MF    ReIP sport\n0  105         15  09.06.19 22:27      UTC   1.0  None  None    None  None\n1  215         23  05.02.18 21:00      CET  None  None  None  Better  None\n2  281         24  06.02.18 21:43      CET   1.0  None  None    None  None",
      "text/html": "<div>\n<style scoped>\n    .dataframe tbody tr th:only-of-type {\n        vertical-align: middle;\n    }\n\n    .dataframe tbody tr th {\n        vertical-align: top;\n    }\n\n    .dataframe thead th {\n        text-align: right;\n    }\n</style>\n<table border=\"1\" class=\"dataframe\">\n  <thead>\n    <tr style=\"text-align: right;\">\n      <th></th>\n      <th>id</th>\n      <th>subjectID</th>\n      <th>timestamp</th>\n      <th>timezone</th>\n      <th>VAS</th>\n      <th>phF</th>\n      <th>MF</th>\n      <th>ReIP</th>\n      <th>sport</th>\n    </tr>\n  </thead>\n  <tbody>\n    <tr>\n      <th>0</th>\n      <td>105</td>\n      <td>15</td>\n      <td>09.06.19 22:27</td>\n      <td>UTC</td>\n      <td>1.0</td>\n      <td>None</td>\n      <td>None</td>\n      <td>None</td>\n      <td>None</td>\n    </tr>\n    <tr>\n      <th>1</th>\n      <td>215</td>\n      <td>23</td>\n      <td>05.02.18 21:00</td>\n      <td>CET</td>\n      <td>None</td>\n      <td>None</td>\n      <td>None</td>\n      <td>Better</td>\n      <td>None</td>\n    </tr>\n    <tr>\n      <th>2</th>\n      <td>281</td>\n      <td>24</td>\n      <td>06.02.18 21:43</td>\n      <td>CET</td>\n      <td>1.0</td>\n      <td>None</td>\n      <td>None</td>\n      <td>None</td>\n      <td>None</td>\n    </tr>\n  </tbody>\n</table>\n</div>"
     },
     "execution_count": 61,
     "metadata": {},
     "output_type": "execute_result"
    }
   ],
   "source": [
    "# incomplete questionnaires (ignore sport label as it's not asked in all questionnaires)\n",
    "query = '''\n",
    "SELECT *\n",
    "FROM questionnaires\n",
    "WHERE VAS IS NULL OR phF IS NULL OR MF IS NULL OR ReIP IS NULL\n",
    "'''\n",
    "temp = sqldf(query)\n",
    "\n",
    "# discard incomplete questionnaires\n",
    "query = '''\n",
    "SELECT *\n",
    "FROM questionnaires\n",
    "\n",
    "EXCEPT\n",
    "\n",
    "SELECT *\n",
    "FROM questionnaires\n",
    "WHERE VAS IS NULL OR phF IS NULL OR MF IS NULL OR ReIP IS NULL;\n",
    "'''\n",
    "questionnaires = sqldf(query)\n",
    "\n",
    "print('number of discarded questionnaires:', temp.shape[0])\n",
    "temp"
   ],
   "metadata": {
    "collapsed": false
   }
  },
  {
   "cell_type": "code",
   "execution_count": 62,
   "outputs": [
    {
     "name": "stdout",
     "output_type": "stream",
     "text": [
      "total number of same day questionnaires: 44\n"
     ]
    }
   ],
   "source": [
    "# aggregate questionnaires into daily fatigue values\n",
    "query = '''\n",
    "SELECT subjectID, SUBSTRING(Timestamp, 1, 8) AS date, GROUP_CONCAT(DISTINCT timezone) AS timezone, GROUP_CONCAT(VAS) AS VAS, GROUP_CONCAT(ReIP) AS ReIP, GROUP_CONCAT(phF) AS phF, GROUP_CONCAT(MF) AS MF, GROUP_CONCAT(sport) AS sport, COUNT(*) AS n_answers\n",
    "FROM questionnaires\n",
    "GROUP BY subjectID, date\n",
    "ORDER BY n_answers DESC;\n",
    "'''\n",
    "fatigue_daily = sqldf(query)\n",
    "\n",
    "# check how many multiple questionnaires are filled out per day\n",
    "query = '''\n",
    "SELECT COUNT(*) AS same_day_questionnaires\n",
    "FROM fatigue_daily\n",
    "WHERE n_answers > 1;\n",
    "'''\n",
    "print('total number of same day questionnaires:', sqldf(query)['same_day_questionnaires'][0])"
   ],
   "metadata": {
    "collapsed": false
   }
  },
  {
   "cell_type": "code",
   "execution_count": 63,
   "outputs": [
    {
     "name": "stdout",
     "output_type": "stream",
     "text": [
      "days with multiple questionnaires:\n"
     ]
    },
    {
     "data": {
      "text/plain": "    subjectID      date timezone      VAS      ReIP      phF       MF  \\\n0          24  06.02.18      CET  1,1,1,0  0,0,0,-1  1,1,1,1  1,1,1,1   \n1          24  07.02.18      CET    0,0,1    0,0,-1    1,0,1    1,0,1   \n2           4  30.03.19      UTC      0,0       1,1      0,0      0,0   \n3           5  04.04.19      UTC      1,0       1,1      1,0      1,0   \n4           5  07.04.19      UTC      1,0       1,1      1,1      1,0   \n5           6  05.04.19      UTC      0,0       1,0      1,1      1,1   \n6           8  09.06.19      UTC      0,0       1,1      1,0      0,0   \n7          10  06.05.19      UTC      0,0       1,0      1,1      0,0   \n8          10  08.05.19      UTC      0,0       1,1      1,0      0,0   \n9          10  10.05.19      UTC      0,0      -1,1      1,0      1,0   \n10         15  07.06.19      UTC      0,1       0,0      1,1      0,0   \n11         15  14.06.19      UTC      0,0      -1,0      1,0      1,0   \n12         16  27.05.19      UTC      0,0       0,0      1,0      1,1   \n13         18  29.05.19      UTC      0,0       1,1      0,0      0,0   \n14         18  30.05.19      UTC      0,0       0,0      0,0      0,0   \n15         22  28.05.19      UTC      0,0       1,0      0,1      1,1   \n16         23  06.02.18      CET      0,0       1,1      1,1      1,0   \n17         23  11.02.18      CET      0,0      -1,0      1,1      0,0   \n18         23  19.02.18      CET      0,0      -1,1      0,0      0,0   \n19         24  03.05.18     CEST      0,0       0,0      1,1      0,0   \n20         24  14.05.18     CEST      0,0     -1,-1      1,1      1,1   \n21         24  27.02.18      CET      1,1       0,0      1,1      1,1   \n22         25  11.02.18      CET      0,0       1,0      0,0      0,1   \n23         25  20.02.18      CET      0,0       0,0      1,1      0,0   \n24         25  25.02.18      CET      0,0       1,0      1,1      0,1   \n25         26  03.08.18     CEST      1,1      0,-1      1,1      1,1   \n26         26  05.08.18     CEST      1,1      -1,0      1,1      1,1   \n27         26  10.08.18     CEST      0,1      1,-1      1,1      1,1   \n28         26  17.02.18      CET      0,1      1,-1      1,1      1,1   \n29         26  21.02.18      CET      1,1      0,-1      1,1      1,1   \n30         26  24.07.18     CEST      1,1       1,1      1,1      1,1   \n31         26  25.02.18      CET      1,0       0,1      1,0      1,1   \n32         26  26.07.18     CEST      1,0      -1,1      1,1      1,1   \n33         26  31.07.18     CEST      0,0       1,0      1,1      1,1   \n34         27  03.03.18      CET      0,0       0,0      1,1      0,0   \n35         27  06.02.18      CET      0,0      -1,0      1,1      1,1   \n36         27  09.09.18     CEST      0,0      0,-1      1,1      0,1   \n37         27  13.08.18     CEST      0,0       0,0      0,0      0,0   \n38         27  16.08.18     CEST      0,0       0,0      0,0      0,0   \n39         27  22.08.18     CEST      0,0      0,-1      0,1      0,1   \n40         27  24.02.18      CET      0,0      -1,1      1,1      1,0   \n41         27  24.08.18     CEST      0,0      -1,1      1,0      1,0   \n42         27  27.02.18      CET      0,0      -1,0      1,1      0,0   \n43         28  16.08.18     CEST      1,0       1,1      1,0      1,1   \n\n      sport  n_answers  \n0      <NA>          4  \n1      <NA>          3  \n2       0.0          2  \n3   0.0,0.0          2  \n4   1.0,1.0          2  \n5   0.0,0.0          2  \n6   0.0,0.0          2  \n7   0.0,0.0          2  \n8   0.0,0.0          2  \n9   0.0,0.0          2  \n10  1.0,1.0          2  \n11  0.0,1.0          2  \n12  1.0,1.0          2  \n13  0.0,0.0          2  \n14  1.0,1.0          2  \n15  1.0,0.0          2  \n16     <NA>          2  \n17     <NA>          2  \n18     <NA>          2  \n19     <NA>          2  \n20     <NA>          2  \n21     <NA>          2  \n22     <NA>          2  \n23     <NA>          2  \n24     <NA>          2  \n25     <NA>          2  \n26     <NA>          2  \n27     <NA>          2  \n28     <NA>          2  \n29     <NA>          2  \n30     <NA>          2  \n31     <NA>          2  \n32     <NA>          2  \n33     <NA>          2  \n34     <NA>          2  \n35     <NA>          2  \n36     <NA>          2  \n37     <NA>          2  \n38     <NA>          2  \n39     <NA>          2  \n40     <NA>          2  \n41     <NA>          2  \n42     <NA>          2  \n43     <NA>          2  ",
      "text/html": "<div>\n<style scoped>\n    .dataframe tbody tr th:only-of-type {\n        vertical-align: middle;\n    }\n\n    .dataframe tbody tr th {\n        vertical-align: top;\n    }\n\n    .dataframe thead th {\n        text-align: right;\n    }\n</style>\n<table border=\"1\" class=\"dataframe\">\n  <thead>\n    <tr style=\"text-align: right;\">\n      <th></th>\n      <th>subjectID</th>\n      <th>date</th>\n      <th>timezone</th>\n      <th>VAS</th>\n      <th>ReIP</th>\n      <th>phF</th>\n      <th>MF</th>\n      <th>sport</th>\n      <th>n_answers</th>\n    </tr>\n  </thead>\n  <tbody>\n    <tr>\n      <th>0</th>\n      <td>24</td>\n      <td>06.02.18</td>\n      <td>CET</td>\n      <td>1,1,1,0</td>\n      <td>0,0,0,-1</td>\n      <td>1,1,1,1</td>\n      <td>1,1,1,1</td>\n      <td>&lt;NA&gt;</td>\n      <td>4</td>\n    </tr>\n    <tr>\n      <th>1</th>\n      <td>24</td>\n      <td>07.02.18</td>\n      <td>CET</td>\n      <td>0,0,1</td>\n      <td>0,0,-1</td>\n      <td>1,0,1</td>\n      <td>1,0,1</td>\n      <td>&lt;NA&gt;</td>\n      <td>3</td>\n    </tr>\n    <tr>\n      <th>2</th>\n      <td>4</td>\n      <td>30.03.19</td>\n      <td>UTC</td>\n      <td>0,0</td>\n      <td>1,1</td>\n      <td>0,0</td>\n      <td>0,0</td>\n      <td>0.0</td>\n      <td>2</td>\n    </tr>\n    <tr>\n      <th>3</th>\n      <td>5</td>\n      <td>04.04.19</td>\n      <td>UTC</td>\n      <td>1,0</td>\n      <td>1,1</td>\n      <td>1,0</td>\n      <td>1,0</td>\n      <td>0.0,0.0</td>\n      <td>2</td>\n    </tr>\n    <tr>\n      <th>4</th>\n      <td>5</td>\n      <td>07.04.19</td>\n      <td>UTC</td>\n      <td>1,0</td>\n      <td>1,1</td>\n      <td>1,1</td>\n      <td>1,0</td>\n      <td>1.0,1.0</td>\n      <td>2</td>\n    </tr>\n    <tr>\n      <th>5</th>\n      <td>6</td>\n      <td>05.04.19</td>\n      <td>UTC</td>\n      <td>0,0</td>\n      <td>1,0</td>\n      <td>1,1</td>\n      <td>1,1</td>\n      <td>0.0,0.0</td>\n      <td>2</td>\n    </tr>\n    <tr>\n      <th>6</th>\n      <td>8</td>\n      <td>09.06.19</td>\n      <td>UTC</td>\n      <td>0,0</td>\n      <td>1,1</td>\n      <td>1,0</td>\n      <td>0,0</td>\n      <td>0.0,0.0</td>\n      <td>2</td>\n    </tr>\n    <tr>\n      <th>7</th>\n      <td>10</td>\n      <td>06.05.19</td>\n      <td>UTC</td>\n      <td>0,0</td>\n      <td>1,0</td>\n      <td>1,1</td>\n      <td>0,0</td>\n      <td>0.0,0.0</td>\n      <td>2</td>\n    </tr>\n    <tr>\n      <th>8</th>\n      <td>10</td>\n      <td>08.05.19</td>\n      <td>UTC</td>\n      <td>0,0</td>\n      <td>1,1</td>\n      <td>1,0</td>\n      <td>0,0</td>\n      <td>0.0,0.0</td>\n      <td>2</td>\n    </tr>\n    <tr>\n      <th>9</th>\n      <td>10</td>\n      <td>10.05.19</td>\n      <td>UTC</td>\n      <td>0,0</td>\n      <td>-1,1</td>\n      <td>1,0</td>\n      <td>1,0</td>\n      <td>0.0,0.0</td>\n      <td>2</td>\n    </tr>\n    <tr>\n      <th>10</th>\n      <td>15</td>\n      <td>07.06.19</td>\n      <td>UTC</td>\n      <td>0,1</td>\n      <td>0,0</td>\n      <td>1,1</td>\n      <td>0,0</td>\n      <td>1.0,1.0</td>\n      <td>2</td>\n    </tr>\n    <tr>\n      <th>11</th>\n      <td>15</td>\n      <td>14.06.19</td>\n      <td>UTC</td>\n      <td>0,0</td>\n      <td>-1,0</td>\n      <td>1,0</td>\n      <td>1,0</td>\n      <td>0.0,1.0</td>\n      <td>2</td>\n    </tr>\n    <tr>\n      <th>12</th>\n      <td>16</td>\n      <td>27.05.19</td>\n      <td>UTC</td>\n      <td>0,0</td>\n      <td>0,0</td>\n      <td>1,0</td>\n      <td>1,1</td>\n      <td>1.0,1.0</td>\n      <td>2</td>\n    </tr>\n    <tr>\n      <th>13</th>\n      <td>18</td>\n      <td>29.05.19</td>\n      <td>UTC</td>\n      <td>0,0</td>\n      <td>1,1</td>\n      <td>0,0</td>\n      <td>0,0</td>\n      <td>0.0,0.0</td>\n      <td>2</td>\n    </tr>\n    <tr>\n      <th>14</th>\n      <td>18</td>\n      <td>30.05.19</td>\n      <td>UTC</td>\n      <td>0,0</td>\n      <td>0,0</td>\n      <td>0,0</td>\n      <td>0,0</td>\n      <td>1.0,1.0</td>\n      <td>2</td>\n    </tr>\n    <tr>\n      <th>15</th>\n      <td>22</td>\n      <td>28.05.19</td>\n      <td>UTC</td>\n      <td>0,0</td>\n      <td>1,0</td>\n      <td>0,1</td>\n      <td>1,1</td>\n      <td>1.0,0.0</td>\n      <td>2</td>\n    </tr>\n    <tr>\n      <th>16</th>\n      <td>23</td>\n      <td>06.02.18</td>\n      <td>CET</td>\n      <td>0,0</td>\n      <td>1,1</td>\n      <td>1,1</td>\n      <td>1,0</td>\n      <td>&lt;NA&gt;</td>\n      <td>2</td>\n    </tr>\n    <tr>\n      <th>17</th>\n      <td>23</td>\n      <td>11.02.18</td>\n      <td>CET</td>\n      <td>0,0</td>\n      <td>-1,0</td>\n      <td>1,1</td>\n      <td>0,0</td>\n      <td>&lt;NA&gt;</td>\n      <td>2</td>\n    </tr>\n    <tr>\n      <th>18</th>\n      <td>23</td>\n      <td>19.02.18</td>\n      <td>CET</td>\n      <td>0,0</td>\n      <td>-1,1</td>\n      <td>0,0</td>\n      <td>0,0</td>\n      <td>&lt;NA&gt;</td>\n      <td>2</td>\n    </tr>\n    <tr>\n      <th>19</th>\n      <td>24</td>\n      <td>03.05.18</td>\n      <td>CEST</td>\n      <td>0,0</td>\n      <td>0,0</td>\n      <td>1,1</td>\n      <td>0,0</td>\n      <td>&lt;NA&gt;</td>\n      <td>2</td>\n    </tr>\n    <tr>\n      <th>20</th>\n      <td>24</td>\n      <td>14.05.18</td>\n      <td>CEST</td>\n      <td>0,0</td>\n      <td>-1,-1</td>\n      <td>1,1</td>\n      <td>1,1</td>\n      <td>&lt;NA&gt;</td>\n      <td>2</td>\n    </tr>\n    <tr>\n      <th>21</th>\n      <td>24</td>\n      <td>27.02.18</td>\n      <td>CET</td>\n      <td>1,1</td>\n      <td>0,0</td>\n      <td>1,1</td>\n      <td>1,1</td>\n      <td>&lt;NA&gt;</td>\n      <td>2</td>\n    </tr>\n    <tr>\n      <th>22</th>\n      <td>25</td>\n      <td>11.02.18</td>\n      <td>CET</td>\n      <td>0,0</td>\n      <td>1,0</td>\n      <td>0,0</td>\n      <td>0,1</td>\n      <td>&lt;NA&gt;</td>\n      <td>2</td>\n    </tr>\n    <tr>\n      <th>23</th>\n      <td>25</td>\n      <td>20.02.18</td>\n      <td>CET</td>\n      <td>0,0</td>\n      <td>0,0</td>\n      <td>1,1</td>\n      <td>0,0</td>\n      <td>&lt;NA&gt;</td>\n      <td>2</td>\n    </tr>\n    <tr>\n      <th>24</th>\n      <td>25</td>\n      <td>25.02.18</td>\n      <td>CET</td>\n      <td>0,0</td>\n      <td>1,0</td>\n      <td>1,1</td>\n      <td>0,1</td>\n      <td>&lt;NA&gt;</td>\n      <td>2</td>\n    </tr>\n    <tr>\n      <th>25</th>\n      <td>26</td>\n      <td>03.08.18</td>\n      <td>CEST</td>\n      <td>1,1</td>\n      <td>0,-1</td>\n      <td>1,1</td>\n      <td>1,1</td>\n      <td>&lt;NA&gt;</td>\n      <td>2</td>\n    </tr>\n    <tr>\n      <th>26</th>\n      <td>26</td>\n      <td>05.08.18</td>\n      <td>CEST</td>\n      <td>1,1</td>\n      <td>-1,0</td>\n      <td>1,1</td>\n      <td>1,1</td>\n      <td>&lt;NA&gt;</td>\n      <td>2</td>\n    </tr>\n    <tr>\n      <th>27</th>\n      <td>26</td>\n      <td>10.08.18</td>\n      <td>CEST</td>\n      <td>0,1</td>\n      <td>1,-1</td>\n      <td>1,1</td>\n      <td>1,1</td>\n      <td>&lt;NA&gt;</td>\n      <td>2</td>\n    </tr>\n    <tr>\n      <th>28</th>\n      <td>26</td>\n      <td>17.02.18</td>\n      <td>CET</td>\n      <td>0,1</td>\n      <td>1,-1</td>\n      <td>1,1</td>\n      <td>1,1</td>\n      <td>&lt;NA&gt;</td>\n      <td>2</td>\n    </tr>\n    <tr>\n      <th>29</th>\n      <td>26</td>\n      <td>21.02.18</td>\n      <td>CET</td>\n      <td>1,1</td>\n      <td>0,-1</td>\n      <td>1,1</td>\n      <td>1,1</td>\n      <td>&lt;NA&gt;</td>\n      <td>2</td>\n    </tr>\n    <tr>\n      <th>30</th>\n      <td>26</td>\n      <td>24.07.18</td>\n      <td>CEST</td>\n      <td>1,1</td>\n      <td>1,1</td>\n      <td>1,1</td>\n      <td>1,1</td>\n      <td>&lt;NA&gt;</td>\n      <td>2</td>\n    </tr>\n    <tr>\n      <th>31</th>\n      <td>26</td>\n      <td>25.02.18</td>\n      <td>CET</td>\n      <td>1,0</td>\n      <td>0,1</td>\n      <td>1,0</td>\n      <td>1,1</td>\n      <td>&lt;NA&gt;</td>\n      <td>2</td>\n    </tr>\n    <tr>\n      <th>32</th>\n      <td>26</td>\n      <td>26.07.18</td>\n      <td>CEST</td>\n      <td>1,0</td>\n      <td>-1,1</td>\n      <td>1,1</td>\n      <td>1,1</td>\n      <td>&lt;NA&gt;</td>\n      <td>2</td>\n    </tr>\n    <tr>\n      <th>33</th>\n      <td>26</td>\n      <td>31.07.18</td>\n      <td>CEST</td>\n      <td>0,0</td>\n      <td>1,0</td>\n      <td>1,1</td>\n      <td>1,1</td>\n      <td>&lt;NA&gt;</td>\n      <td>2</td>\n    </tr>\n    <tr>\n      <th>34</th>\n      <td>27</td>\n      <td>03.03.18</td>\n      <td>CET</td>\n      <td>0,0</td>\n      <td>0,0</td>\n      <td>1,1</td>\n      <td>0,0</td>\n      <td>&lt;NA&gt;</td>\n      <td>2</td>\n    </tr>\n    <tr>\n      <th>35</th>\n      <td>27</td>\n      <td>06.02.18</td>\n      <td>CET</td>\n      <td>0,0</td>\n      <td>-1,0</td>\n      <td>1,1</td>\n      <td>1,1</td>\n      <td>&lt;NA&gt;</td>\n      <td>2</td>\n    </tr>\n    <tr>\n      <th>36</th>\n      <td>27</td>\n      <td>09.09.18</td>\n      <td>CEST</td>\n      <td>0,0</td>\n      <td>0,-1</td>\n      <td>1,1</td>\n      <td>0,1</td>\n      <td>&lt;NA&gt;</td>\n      <td>2</td>\n    </tr>\n    <tr>\n      <th>37</th>\n      <td>27</td>\n      <td>13.08.18</td>\n      <td>CEST</td>\n      <td>0,0</td>\n      <td>0,0</td>\n      <td>0,0</td>\n      <td>0,0</td>\n      <td>&lt;NA&gt;</td>\n      <td>2</td>\n    </tr>\n    <tr>\n      <th>38</th>\n      <td>27</td>\n      <td>16.08.18</td>\n      <td>CEST</td>\n      <td>0,0</td>\n      <td>0,0</td>\n      <td>0,0</td>\n      <td>0,0</td>\n      <td>&lt;NA&gt;</td>\n      <td>2</td>\n    </tr>\n    <tr>\n      <th>39</th>\n      <td>27</td>\n      <td>22.08.18</td>\n      <td>CEST</td>\n      <td>0,0</td>\n      <td>0,-1</td>\n      <td>0,1</td>\n      <td>0,1</td>\n      <td>&lt;NA&gt;</td>\n      <td>2</td>\n    </tr>\n    <tr>\n      <th>40</th>\n      <td>27</td>\n      <td>24.02.18</td>\n      <td>CET</td>\n      <td>0,0</td>\n      <td>-1,1</td>\n      <td>1,1</td>\n      <td>1,0</td>\n      <td>&lt;NA&gt;</td>\n      <td>2</td>\n    </tr>\n    <tr>\n      <th>41</th>\n      <td>27</td>\n      <td>24.08.18</td>\n      <td>CEST</td>\n      <td>0,0</td>\n      <td>-1,1</td>\n      <td>1,0</td>\n      <td>1,0</td>\n      <td>&lt;NA&gt;</td>\n      <td>2</td>\n    </tr>\n    <tr>\n      <th>42</th>\n      <td>27</td>\n      <td>27.02.18</td>\n      <td>CET</td>\n      <td>0,0</td>\n      <td>-1,0</td>\n      <td>1,1</td>\n      <td>0,0</td>\n      <td>&lt;NA&gt;</td>\n      <td>2</td>\n    </tr>\n    <tr>\n      <th>43</th>\n      <td>28</td>\n      <td>16.08.18</td>\n      <td>CEST</td>\n      <td>1,0</td>\n      <td>1,1</td>\n      <td>1,0</td>\n      <td>1,1</td>\n      <td>&lt;NA&gt;</td>\n      <td>2</td>\n    </tr>\n  </tbody>\n</table>\n</div>"
     },
     "execution_count": 63,
     "metadata": {},
     "output_type": "execute_result"
    }
   ],
   "source": [
    "# convert fatigue answers into numeric classes\n",
    "query = '''\n",
    "SELECT subjectID, timestamp, timezone,\n",
    "CASE\n",
    "WHEN CAST(VAS AS INT) BETWEEN 1.0 AND 4.0 THEN 0\n",
    "WHEN CAST(VAS AS INT) BETWEEN 5.0 AND 10.0 THEN 1\n",
    "END AS 'VAS',\n",
    "CASE\n",
    "WHEN phF LIKE 'never' THEN 0\n",
    "WHEN phF LIKE 'sometimes' OR phF LIKE 'regularly' OR phF LIKE 'often' OR phF LIKE 'always' THEN 1\n",
    "END AS 'phF',\n",
    "CASE\n",
    "WHEN MF LIKE 'never' THEN 0\n",
    "WHEN MF LIKE 'sometimes' OR MF LIKE 'regularly' OR MF LIKE 'often' OR MF LIKE 'always' THEN 1\n",
    "END AS 'MF',\n",
    "CASE\n",
    "WHEN ReIP LIKE 'worse' THEN -1\n",
    "WHEN ReIP LIKE 'same' THEN 0\n",
    "WHEN ReIP LIKE 'better' THEN 1\n",
    "END AS 'ReIP',\n",
    "CASE\n",
    "WHEN sport LIKE 'No' THEN 0\n",
    "WHEN sport LIKE 'Yes' THEN 1\n",
    "END AS 'sport'\n",
    "FROM questionnaires\n",
    "'''\n",
    "temp = sqldf(query)\n",
    "\n",
    "# aggregate questionnaires into daily fatigue values\n",
    "query = '''\n",
    "SELECT subjectID, SUBSTRING(Timestamp, 1, 8) AS date, GROUP_CONCAT(DISTINCT timezone) AS timezone, GROUP_CONCAT(VAS) AS VAS, GROUP_CONCAT(ReIP) AS ReIP, GROUP_CONCAT(phF) AS phF, GROUP_CONCAT(MF) AS MF, GROUP_CONCAT(sport) AS sport, COUNT(*) AS n_answers\n",
    "FROM temp\n",
    "GROUP BY subjectID, date\n",
    "HAVING n_answers > 1\n",
    "ORDER BY n_answers DESC;\n",
    "'''\n",
    "print('days with multiple questionnaires:')\n",
    "sqldf(query).fillna(value=pd.NA)"
   ],
   "metadata": {
    "collapsed": false
   }
  },
  {
   "cell_type": "code",
   "execution_count": 64,
   "outputs": [
    {
     "name": "stdout",
     "output_type": "stream",
     "text": [
      "days with multiple questionnaires - averaged to single values:\n"
     ]
    },
    {
     "data": {
      "text/plain": "    subjectID      date timezone  VAS  ReIP  phF   MF sport  n_answers\n0          24  06.02.18      CET  1.0   0.0  1.0  1.0  <NA>          4\n1          24  07.02.18      CET  0.0   0.0  1.0  1.0  <NA>          3\n2           4  30.03.19      UTC  0.0   1.0  0.0  0.0   0.0          2\n3           5  04.04.19      UTC  1.0   1.0  1.0  1.0   0.0          2\n4           5  07.04.19      UTC  1.0   1.0  1.0  1.0   1.0          2\n5           6  05.04.19      UTC  0.0   1.0  1.0  1.0   0.0          2\n6           8  09.06.19      UTC  0.0   1.0  1.0  0.0   0.0          2\n7          10  06.05.19      UTC  0.0   1.0  1.0  0.0   0.0          2\n8          10  08.05.19      UTC  0.0   1.0  1.0  0.0   0.0          2\n9          10  10.05.19      UTC  0.0   0.0  1.0  1.0   0.0          2\n10         15  07.06.19      UTC  1.0   0.0  1.0  0.0   1.0          2\n11         15  14.06.19      UTC  0.0  -1.0  1.0  1.0   1.0          2\n12         16  27.05.19      UTC  0.0   0.0  1.0  1.0   1.0          2\n13         18  29.05.19      UTC  0.0   1.0  0.0  0.0   0.0          2\n14         18  30.05.19      UTC  0.0   0.0  0.0  0.0   1.0          2\n15         22  28.05.19      UTC  0.0   1.0  1.0  1.0   1.0          2\n16         23  06.02.18      CET  0.0   1.0  1.0  1.0  <NA>          2\n17         23  11.02.18      CET  0.0  -1.0  1.0  0.0  <NA>          2\n18         23  19.02.18      CET  0.0   0.0  0.0  0.0  <NA>          2\n19         24  03.05.18     CEST  0.0   0.0  1.0  0.0  <NA>          2\n20         24  14.05.18     CEST  0.0  -1.0  1.0  1.0  <NA>          2\n21         24  27.02.18      CET  1.0   0.0  1.0  1.0  <NA>          2\n22         25  11.02.18      CET  0.0   1.0  0.0  1.0  <NA>          2\n23         25  20.02.18      CET  0.0   0.0  1.0  0.0  <NA>          2\n24         25  25.02.18      CET  0.0   1.0  1.0  1.0  <NA>          2\n25         26  03.08.18     CEST  1.0  -1.0  1.0  1.0  <NA>          2\n26         26  05.08.18     CEST  1.0  -1.0  1.0  1.0  <NA>          2\n27         26  10.08.18     CEST  1.0   0.0  1.0  1.0  <NA>          2\n28         26  17.02.18      CET  1.0   0.0  1.0  1.0  <NA>          2\n29         26  21.02.18      CET  1.0  -1.0  1.0  1.0  <NA>          2\n30         26  24.07.18     CEST  1.0   1.0  1.0  1.0  <NA>          2\n31         26  25.02.18      CET  1.0   1.0  1.0  1.0  <NA>          2\n32         26  26.07.18     CEST  1.0   0.0  1.0  1.0  <NA>          2\n33         26  31.07.18     CEST  0.0   1.0  1.0  1.0  <NA>          2\n34         27  03.03.18      CET  0.0   0.0  1.0  0.0  <NA>          2\n35         27  06.02.18      CET  0.0  -1.0  1.0  1.0  <NA>          2\n36         27  09.09.18     CEST  0.0  -1.0  1.0  1.0  <NA>          2\n37         27  13.08.18     CEST  0.0   0.0  0.0  0.0  <NA>          2\n38         27  16.08.18     CEST  0.0   0.0  0.0  0.0  <NA>          2\n39         27  22.08.18     CEST  0.0  -1.0  1.0  1.0  <NA>          2\n40         27  24.02.18      CET  0.0   0.0  1.0  1.0  <NA>          2\n41         27  24.08.18     CEST  0.0   0.0  1.0  1.0  <NA>          2\n42         27  27.02.18      CET  0.0  -1.0  1.0  0.0  <NA>          2\n43         28  16.08.18     CEST  1.0   1.0  1.0  1.0  <NA>          2",
      "text/html": "<div>\n<style scoped>\n    .dataframe tbody tr th:only-of-type {\n        vertical-align: middle;\n    }\n\n    .dataframe tbody tr th {\n        vertical-align: top;\n    }\n\n    .dataframe thead th {\n        text-align: right;\n    }\n</style>\n<table border=\"1\" class=\"dataframe\">\n  <thead>\n    <tr style=\"text-align: right;\">\n      <th></th>\n      <th>subjectID</th>\n      <th>date</th>\n      <th>timezone</th>\n      <th>VAS</th>\n      <th>ReIP</th>\n      <th>phF</th>\n      <th>MF</th>\n      <th>sport</th>\n      <th>n_answers</th>\n    </tr>\n  </thead>\n  <tbody>\n    <tr>\n      <th>0</th>\n      <td>24</td>\n      <td>06.02.18</td>\n      <td>CET</td>\n      <td>1.0</td>\n      <td>0.0</td>\n      <td>1.0</td>\n      <td>1.0</td>\n      <td>&lt;NA&gt;</td>\n      <td>4</td>\n    </tr>\n    <tr>\n      <th>1</th>\n      <td>24</td>\n      <td>07.02.18</td>\n      <td>CET</td>\n      <td>0.0</td>\n      <td>0.0</td>\n      <td>1.0</td>\n      <td>1.0</td>\n      <td>&lt;NA&gt;</td>\n      <td>3</td>\n    </tr>\n    <tr>\n      <th>2</th>\n      <td>4</td>\n      <td>30.03.19</td>\n      <td>UTC</td>\n      <td>0.0</td>\n      <td>1.0</td>\n      <td>0.0</td>\n      <td>0.0</td>\n      <td>0.0</td>\n      <td>2</td>\n    </tr>\n    <tr>\n      <th>3</th>\n      <td>5</td>\n      <td>04.04.19</td>\n      <td>UTC</td>\n      <td>1.0</td>\n      <td>1.0</td>\n      <td>1.0</td>\n      <td>1.0</td>\n      <td>0.0</td>\n      <td>2</td>\n    </tr>\n    <tr>\n      <th>4</th>\n      <td>5</td>\n      <td>07.04.19</td>\n      <td>UTC</td>\n      <td>1.0</td>\n      <td>1.0</td>\n      <td>1.0</td>\n      <td>1.0</td>\n      <td>1.0</td>\n      <td>2</td>\n    </tr>\n    <tr>\n      <th>5</th>\n      <td>6</td>\n      <td>05.04.19</td>\n      <td>UTC</td>\n      <td>0.0</td>\n      <td>1.0</td>\n      <td>1.0</td>\n      <td>1.0</td>\n      <td>0.0</td>\n      <td>2</td>\n    </tr>\n    <tr>\n      <th>6</th>\n      <td>8</td>\n      <td>09.06.19</td>\n      <td>UTC</td>\n      <td>0.0</td>\n      <td>1.0</td>\n      <td>1.0</td>\n      <td>0.0</td>\n      <td>0.0</td>\n      <td>2</td>\n    </tr>\n    <tr>\n      <th>7</th>\n      <td>10</td>\n      <td>06.05.19</td>\n      <td>UTC</td>\n      <td>0.0</td>\n      <td>1.0</td>\n      <td>1.0</td>\n      <td>0.0</td>\n      <td>0.0</td>\n      <td>2</td>\n    </tr>\n    <tr>\n      <th>8</th>\n      <td>10</td>\n      <td>08.05.19</td>\n      <td>UTC</td>\n      <td>0.0</td>\n      <td>1.0</td>\n      <td>1.0</td>\n      <td>0.0</td>\n      <td>0.0</td>\n      <td>2</td>\n    </tr>\n    <tr>\n      <th>9</th>\n      <td>10</td>\n      <td>10.05.19</td>\n      <td>UTC</td>\n      <td>0.0</td>\n      <td>0.0</td>\n      <td>1.0</td>\n      <td>1.0</td>\n      <td>0.0</td>\n      <td>2</td>\n    </tr>\n    <tr>\n      <th>10</th>\n      <td>15</td>\n      <td>07.06.19</td>\n      <td>UTC</td>\n      <td>1.0</td>\n      <td>0.0</td>\n      <td>1.0</td>\n      <td>0.0</td>\n      <td>1.0</td>\n      <td>2</td>\n    </tr>\n    <tr>\n      <th>11</th>\n      <td>15</td>\n      <td>14.06.19</td>\n      <td>UTC</td>\n      <td>0.0</td>\n      <td>-1.0</td>\n      <td>1.0</td>\n      <td>1.0</td>\n      <td>1.0</td>\n      <td>2</td>\n    </tr>\n    <tr>\n      <th>12</th>\n      <td>16</td>\n      <td>27.05.19</td>\n      <td>UTC</td>\n      <td>0.0</td>\n      <td>0.0</td>\n      <td>1.0</td>\n      <td>1.0</td>\n      <td>1.0</td>\n      <td>2</td>\n    </tr>\n    <tr>\n      <th>13</th>\n      <td>18</td>\n      <td>29.05.19</td>\n      <td>UTC</td>\n      <td>0.0</td>\n      <td>1.0</td>\n      <td>0.0</td>\n      <td>0.0</td>\n      <td>0.0</td>\n      <td>2</td>\n    </tr>\n    <tr>\n      <th>14</th>\n      <td>18</td>\n      <td>30.05.19</td>\n      <td>UTC</td>\n      <td>0.0</td>\n      <td>0.0</td>\n      <td>0.0</td>\n      <td>0.0</td>\n      <td>1.0</td>\n      <td>2</td>\n    </tr>\n    <tr>\n      <th>15</th>\n      <td>22</td>\n      <td>28.05.19</td>\n      <td>UTC</td>\n      <td>0.0</td>\n      <td>1.0</td>\n      <td>1.0</td>\n      <td>1.0</td>\n      <td>1.0</td>\n      <td>2</td>\n    </tr>\n    <tr>\n      <th>16</th>\n      <td>23</td>\n      <td>06.02.18</td>\n      <td>CET</td>\n      <td>0.0</td>\n      <td>1.0</td>\n      <td>1.0</td>\n      <td>1.0</td>\n      <td>&lt;NA&gt;</td>\n      <td>2</td>\n    </tr>\n    <tr>\n      <th>17</th>\n      <td>23</td>\n      <td>11.02.18</td>\n      <td>CET</td>\n      <td>0.0</td>\n      <td>-1.0</td>\n      <td>1.0</td>\n      <td>0.0</td>\n      <td>&lt;NA&gt;</td>\n      <td>2</td>\n    </tr>\n    <tr>\n      <th>18</th>\n      <td>23</td>\n      <td>19.02.18</td>\n      <td>CET</td>\n      <td>0.0</td>\n      <td>0.0</td>\n      <td>0.0</td>\n      <td>0.0</td>\n      <td>&lt;NA&gt;</td>\n      <td>2</td>\n    </tr>\n    <tr>\n      <th>19</th>\n      <td>24</td>\n      <td>03.05.18</td>\n      <td>CEST</td>\n      <td>0.0</td>\n      <td>0.0</td>\n      <td>1.0</td>\n      <td>0.0</td>\n      <td>&lt;NA&gt;</td>\n      <td>2</td>\n    </tr>\n    <tr>\n      <th>20</th>\n      <td>24</td>\n      <td>14.05.18</td>\n      <td>CEST</td>\n      <td>0.0</td>\n      <td>-1.0</td>\n      <td>1.0</td>\n      <td>1.0</td>\n      <td>&lt;NA&gt;</td>\n      <td>2</td>\n    </tr>\n    <tr>\n      <th>21</th>\n      <td>24</td>\n      <td>27.02.18</td>\n      <td>CET</td>\n      <td>1.0</td>\n      <td>0.0</td>\n      <td>1.0</td>\n      <td>1.0</td>\n      <td>&lt;NA&gt;</td>\n      <td>2</td>\n    </tr>\n    <tr>\n      <th>22</th>\n      <td>25</td>\n      <td>11.02.18</td>\n      <td>CET</td>\n      <td>0.0</td>\n      <td>1.0</td>\n      <td>0.0</td>\n      <td>1.0</td>\n      <td>&lt;NA&gt;</td>\n      <td>2</td>\n    </tr>\n    <tr>\n      <th>23</th>\n      <td>25</td>\n      <td>20.02.18</td>\n      <td>CET</td>\n      <td>0.0</td>\n      <td>0.0</td>\n      <td>1.0</td>\n      <td>0.0</td>\n      <td>&lt;NA&gt;</td>\n      <td>2</td>\n    </tr>\n    <tr>\n      <th>24</th>\n      <td>25</td>\n      <td>25.02.18</td>\n      <td>CET</td>\n      <td>0.0</td>\n      <td>1.0</td>\n      <td>1.0</td>\n      <td>1.0</td>\n      <td>&lt;NA&gt;</td>\n      <td>2</td>\n    </tr>\n    <tr>\n      <th>25</th>\n      <td>26</td>\n      <td>03.08.18</td>\n      <td>CEST</td>\n      <td>1.0</td>\n      <td>-1.0</td>\n      <td>1.0</td>\n      <td>1.0</td>\n      <td>&lt;NA&gt;</td>\n      <td>2</td>\n    </tr>\n    <tr>\n      <th>26</th>\n      <td>26</td>\n      <td>05.08.18</td>\n      <td>CEST</td>\n      <td>1.0</td>\n      <td>-1.0</td>\n      <td>1.0</td>\n      <td>1.0</td>\n      <td>&lt;NA&gt;</td>\n      <td>2</td>\n    </tr>\n    <tr>\n      <th>27</th>\n      <td>26</td>\n      <td>10.08.18</td>\n      <td>CEST</td>\n      <td>1.0</td>\n      <td>0.0</td>\n      <td>1.0</td>\n      <td>1.0</td>\n      <td>&lt;NA&gt;</td>\n      <td>2</td>\n    </tr>\n    <tr>\n      <th>28</th>\n      <td>26</td>\n      <td>17.02.18</td>\n      <td>CET</td>\n      <td>1.0</td>\n      <td>0.0</td>\n      <td>1.0</td>\n      <td>1.0</td>\n      <td>&lt;NA&gt;</td>\n      <td>2</td>\n    </tr>\n    <tr>\n      <th>29</th>\n      <td>26</td>\n      <td>21.02.18</td>\n      <td>CET</td>\n      <td>1.0</td>\n      <td>-1.0</td>\n      <td>1.0</td>\n      <td>1.0</td>\n      <td>&lt;NA&gt;</td>\n      <td>2</td>\n    </tr>\n    <tr>\n      <th>30</th>\n      <td>26</td>\n      <td>24.07.18</td>\n      <td>CEST</td>\n      <td>1.0</td>\n      <td>1.0</td>\n      <td>1.0</td>\n      <td>1.0</td>\n      <td>&lt;NA&gt;</td>\n      <td>2</td>\n    </tr>\n    <tr>\n      <th>31</th>\n      <td>26</td>\n      <td>25.02.18</td>\n      <td>CET</td>\n      <td>1.0</td>\n      <td>1.0</td>\n      <td>1.0</td>\n      <td>1.0</td>\n      <td>&lt;NA&gt;</td>\n      <td>2</td>\n    </tr>\n    <tr>\n      <th>32</th>\n      <td>26</td>\n      <td>26.07.18</td>\n      <td>CEST</td>\n      <td>1.0</td>\n      <td>0.0</td>\n      <td>1.0</td>\n      <td>1.0</td>\n      <td>&lt;NA&gt;</td>\n      <td>2</td>\n    </tr>\n    <tr>\n      <th>33</th>\n      <td>26</td>\n      <td>31.07.18</td>\n      <td>CEST</td>\n      <td>0.0</td>\n      <td>1.0</td>\n      <td>1.0</td>\n      <td>1.0</td>\n      <td>&lt;NA&gt;</td>\n      <td>2</td>\n    </tr>\n    <tr>\n      <th>34</th>\n      <td>27</td>\n      <td>03.03.18</td>\n      <td>CET</td>\n      <td>0.0</td>\n      <td>0.0</td>\n      <td>1.0</td>\n      <td>0.0</td>\n      <td>&lt;NA&gt;</td>\n      <td>2</td>\n    </tr>\n    <tr>\n      <th>35</th>\n      <td>27</td>\n      <td>06.02.18</td>\n      <td>CET</td>\n      <td>0.0</td>\n      <td>-1.0</td>\n      <td>1.0</td>\n      <td>1.0</td>\n      <td>&lt;NA&gt;</td>\n      <td>2</td>\n    </tr>\n    <tr>\n      <th>36</th>\n      <td>27</td>\n      <td>09.09.18</td>\n      <td>CEST</td>\n      <td>0.0</td>\n      <td>-1.0</td>\n      <td>1.0</td>\n      <td>1.0</td>\n      <td>&lt;NA&gt;</td>\n      <td>2</td>\n    </tr>\n    <tr>\n      <th>37</th>\n      <td>27</td>\n      <td>13.08.18</td>\n      <td>CEST</td>\n      <td>0.0</td>\n      <td>0.0</td>\n      <td>0.0</td>\n      <td>0.0</td>\n      <td>&lt;NA&gt;</td>\n      <td>2</td>\n    </tr>\n    <tr>\n      <th>38</th>\n      <td>27</td>\n      <td>16.08.18</td>\n      <td>CEST</td>\n      <td>0.0</td>\n      <td>0.0</td>\n      <td>0.0</td>\n      <td>0.0</td>\n      <td>&lt;NA&gt;</td>\n      <td>2</td>\n    </tr>\n    <tr>\n      <th>39</th>\n      <td>27</td>\n      <td>22.08.18</td>\n      <td>CEST</td>\n      <td>0.0</td>\n      <td>-1.0</td>\n      <td>1.0</td>\n      <td>1.0</td>\n      <td>&lt;NA&gt;</td>\n      <td>2</td>\n    </tr>\n    <tr>\n      <th>40</th>\n      <td>27</td>\n      <td>24.02.18</td>\n      <td>CET</td>\n      <td>0.0</td>\n      <td>0.0</td>\n      <td>1.0</td>\n      <td>1.0</td>\n      <td>&lt;NA&gt;</td>\n      <td>2</td>\n    </tr>\n    <tr>\n      <th>41</th>\n      <td>27</td>\n      <td>24.08.18</td>\n      <td>CEST</td>\n      <td>0.0</td>\n      <td>0.0</td>\n      <td>1.0</td>\n      <td>1.0</td>\n      <td>&lt;NA&gt;</td>\n      <td>2</td>\n    </tr>\n    <tr>\n      <th>42</th>\n      <td>27</td>\n      <td>27.02.18</td>\n      <td>CET</td>\n      <td>0.0</td>\n      <td>-1.0</td>\n      <td>1.0</td>\n      <td>0.0</td>\n      <td>&lt;NA&gt;</td>\n      <td>2</td>\n    </tr>\n    <tr>\n      <th>43</th>\n      <td>28</td>\n      <td>16.08.18</td>\n      <td>CEST</td>\n      <td>1.0</td>\n      <td>1.0</td>\n      <td>1.0</td>\n      <td>1.0</td>\n      <td>&lt;NA&gt;</td>\n      <td>2</td>\n    </tr>\n  </tbody>\n</table>\n</div>"
     },
     "execution_count": 64,
     "metadata": {},
     "output_type": "execute_result"
    }
   ],
   "source": [
    "# aggregate questionnaires into SINGLE daily fatigue values\n",
    "# TODO: CHECK VALIDNESS OF AVERAGING\n",
    "query = '''\n",
    "SELECT subjectID, SUBSTRING(Timestamp, 1, 8) AS date, GROUP_CONCAT(DISTINCT timezone) AS timezone, ROUND(AVG(VAS)) AS VAS, ROUND(AVG(ReIP)) AS ReIP, ROUND(AVG(phF)) AS phF, ROUND(AVG(MF)) AS MF, ROUND(AVG(sport)) AS sport, COUNT(*) AS n_answers\n",
    "FROM temp\n",
    "GROUP BY subjectID, date\n",
    "ORDER BY n_answers DESC;\n",
    "'''\n",
    "Y = sqldf(query).fillna(value=pd.NA)\n",
    "\n",
    "# for visualization:\n",
    "query = '''\n",
    "SELECT *\n",
    "FROM Y\n",
    "WHERE n_answers > 1\n",
    "ORDER BY n_answers DESC;\n",
    "'''\n",
    "print('days with multiple questionnaires - averaged to single values:')\n",
    "sqldf(query).fillna(value=pd.NA)"
   ],
   "metadata": {
    "collapsed": false
   }
  },
  {
   "cell_type": "code",
   "execution_count": 65,
   "outputs": [
    {
     "name": "stdout",
     "output_type": "stream",
     "text": [
      "total number of days with fatigue data: 476\n"
     ]
    }
   ],
   "source": [
    "print('total number of days with fatigue data:', Y.shape[0])"
   ],
   "metadata": {
    "collapsed": false
   }
  },
  {
   "cell_type": "markdown",
   "source": [
    "# b) Physiological data"
   ],
   "metadata": {
    "collapsed": false
   }
  },
  {
   "cell_type": "code",
   "execution_count": 66,
   "outputs": [
    {
     "name": "stdout",
     "output_type": "stream",
     "text": [
      "total number of days: 951\n"
     ]
    }
   ],
   "source": [
    "physio = physio.fillna(value=pd.NA) # otherwise SQL will ignore None values\n",
    "\n",
    "# nested dataframe (all physiological data of the same day as lists)\n",
    "query = '''\n",
    "SELECT SubjectID AS subjectID,\n",
    "    SUBSTRING(Timestamp, 1, 8) AS date,\n",
    "    GROUP_CONCAT(ActivityCounts) AS ActivityCounts,\n",
    "    GROUP_CONCAT(Barometer) AS Barometer,\n",
    "    GROUP_CONCAT(BloodPerfusion) AS BloodPerfusion,\n",
    "    GROUP_CONCAT(BloodPulseWave) AS BloodPulseWave,\n",
    "    GROUP_CONCAT(EnergyExpenditure) AS EnergyExpenditure,\n",
    "    GROUP_CONCAT(GalvanicSkinResponse) AS GalvanicSkinResponse,\n",
    "    GROUP_CONCAT(HR) AS HR, GROUP_CONCAT(HRV) AS HRV,\n",
    "    GROUP_CONCAT(RESP) AS RESP,\n",
    "    GROUP_CONCAT(Steps) AS Steps,\n",
    "    GROUP_CONCAT(SkinTemperature) AS SkinTemperature,\n",
    "    GROUP_CONCAT(ActivityClass) AS ActivityClass\n",
    "FROM physio\n",
    "GROUP BY subjectID, date;'''\n",
    "X = sqldf(query)\n",
    "print('total number of days:', X.shape[0])"
   ],
   "metadata": {
    "collapsed": false
   }
  },
  {
   "cell_type": "code",
   "execution_count": 67,
   "outputs": [
    {
     "name": "stdout",
     "output_type": "stream",
     "text": [
      "number of discarded days: 406\n"
     ]
    }
   ],
   "source": [
    "# days without sensory data\n",
    "query = '''\n",
    "SELECT *\n",
    "FROM X\n",
    "WHERE ActivityCounts IS NULL AND Barometer IS NULL AND BloodPerfusion IS NULL AND BloodPulseWave IS NULL AND EnergyExpenditure IS NULL AND GalvanicSkinResponse IS NULL AND HR IS NULL AND HRV IS NULL AND RESP IS NULL AND STEPS IS NULL AND SkinTemperature IS NULL AND ActivityClass IS NULL\n",
    "'''\n",
    "temp = sqldf(query)\n",
    "print('number of discarded days:', temp.shape[0])\n",
    "\n",
    "# discard days without sensory data\n",
    "query = '''\n",
    "SELECT *\n",
    "FROM X\n",
    "\n",
    "EXCEPT\n",
    "\n",
    "SELECT *\n",
    "FROM temp;\n",
    "'''\n",
    "X = sqldf(query)"
   ],
   "metadata": {
    "collapsed": false
   }
  },
  {
   "cell_type": "code",
   "execution_count": 68,
   "outputs": [
    {
     "name": "stdout",
     "output_type": "stream",
     "text": [
      "total number of days with physiological data 545\n"
     ]
    }
   ],
   "source": [
    "print('total number of days with physiological data:', X.shape[0])"
   ],
   "metadata": {
    "collapsed": false
   }
  },
  {
   "cell_type": "markdown",
   "source": [
    "# Join data"
   ],
   "metadata": {
    "collapsed": false
   }
  },
  {
   "cell_type": "markdown",
   "source": [
    "# a) unnested data (one row <=> one physiological measurement)"
   ],
   "metadata": {
    "collapsed": false
   }
  },
  {
   "cell_type": "code",
   "execution_count": 69,
   "outputs": [
    {
     "name": "stdout",
     "output_type": "stream",
     "text": [
      "total number of physiological measurement with corresp. fatigue value: 617277\n"
     ]
    }
   ],
   "source": [
    "query = '''\n",
    "SELECT SubjectID AS subjectID,\n",
    "    SUBSTRING(Timestamp, 1, 8) AS date,\n",
    "    ActivityCounts,\n",
    "    Barometer,\n",
    "    BloodPerfusion,\n",
    "    BloodPulseWave,\n",
    "    EnergyExpenditure,\n",
    "    GalvanicSkinResponse,\n",
    "    HR,\n",
    "    HRV,\n",
    "    RESP,\n",
    "    Steps,\n",
    "    SkinTemperature,\n",
    "    ActivityClass\n",
    "FROM physio;\n",
    "'''\n",
    "temp = sqldf(query).fillna(value=pd.NA)\n",
    "\n",
    "query = '''\n",
    "SELECT Y.subjectID,\n",
    "    Y.date,\n",
    "    temp.ActivityCounts,\n",
    "    temp.Barometer,\n",
    "    temp.BloodPerfusion,\n",
    "    temp.BloodPulseWave,\n",
    "    temp.EnergyExpenditure,\n",
    "    temp.GalvanicSkinResponse,\n",
    "    temp.HR,\n",
    "    temp.HRV,\n",
    "    temp.RESP,\n",
    "    temp.Steps,\n",
    "    temp.SkinTemperature,\n",
    "    temp.ActivityClass,\n",
    "    y.timezone,\n",
    "    y.VAS,\n",
    "    y.phF,\n",
    "    y.MF,\n",
    "    y.ReIP,\n",
    "    y.sport,\n",
    "    y.n_answers\n",
    "FROM temp JOIN Y ON temp.subjectID = Y.subjectID AND temp.date = Y.date;'''\n",
    "data_unnested = sqldf(query)\n",
    "print('total number of physiological measurements with corresp. fatigue value:', data_unnested.shape[0])"
   ],
   "metadata": {
    "collapsed": false
   }
  },
  {
   "cell_type": "markdown",
   "source": [
    "# b) nested data (one row <=> one day of physiological measurements)"
   ],
   "metadata": {
    "collapsed": false
   }
  },
  {
   "cell_type": "code",
   "execution_count": 70,
   "outputs": [
    {
     "name": "stdout",
     "output_type": "stream",
     "text": [
      "number of discarded days with questionnaires but no physiological measurements: 66\n"
     ]
    }
   ],
   "source": [
    "query = '''\n",
    "SELECT Y.subjectID, Y.date, X.ActivityCounts, X.Barometer, X.BloodPerfusion, X.BloodPulseWave, X.EnergyExpenditure, X.GalvanicSkinResponse, X.HR, X.HRV, X.RESP, X.Steps, X.SkinTemperature, X.ActivityClass, y.timezone, y.VAS, y.phF, y.MF, y.ReIP, y.sport, y.n_answers\n",
    "FROM X JOIN Y ON X.subjectID = Y.subjectID AND X.date = Y.date;'''\n",
    "data = sqldf(query)\n",
    "\n",
    "print('number of discarded days with questionnaires but no physiological measurements:', Y.shape[0] - data.shape[0])"
   ],
   "metadata": {
    "collapsed": false
   }
  },
  {
   "cell_type": "code",
   "execution_count": 71,
   "outputs": [
    {
     "name": "stdout",
     "output_type": "stream",
     "text": [
      "total number of days with physiological measurements + corresp. fatigue values: 410\n"
     ]
    }
   ],
   "source": [
    "print('total number of days with physiological measurements + corresp. fatigue values:', data.shape[0])"
   ],
   "metadata": {
    "collapsed": false
   }
  },
  {
   "cell_type": "markdown",
   "source": [
    "# Export data"
   ],
   "metadata": {
    "collapsed": false
   }
  },
  {
   "cell_type": "code",
   "execution_count": 72,
   "outputs": [],
   "source": [
    "output_path = '/'.join(path.split('/')[:-1]) + '/Output'"
   ],
   "metadata": {
    "collapsed": false
   }
  },
  {
   "cell_type": "code",
   "execution_count": 73,
   "outputs": [],
   "source": [
    "data.to_csv(output_path + '/combined_data.csv')"
   ],
   "metadata": {
    "collapsed": false
   }
  },
  {
   "cell_type": "code",
   "execution_count": 74,
   "outputs": [],
   "source": [
    "data_unnested.to_csv(output_path + '/combined_data_unnested.csv')"
   ],
   "metadata": {
    "collapsed": false
   }
  }
 ],
 "metadata": {
  "kernelspec": {
   "display_name": "Python 3",
   "language": "python",
   "name": "python3"
  },
  "language_info": {
   "codemirror_mode": {
    "name": "ipython",
    "version": 2
   },
   "file_extension": ".py",
   "mimetype": "text/x-python",
   "name": "python",
   "nbconvert_exporter": "python",
   "pygments_lexer": "ipython2",
   "version": "2.7.6"
  }
 },
 "nbformat": 4,
 "nbformat_minor": 0
}
