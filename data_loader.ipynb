{
 "cells": [
  {
   "cell_type": "code",
   "execution_count": 1,
   "metadata": {
    "collapsed": true
   },
   "outputs": [],
   "source": [
    "import pandas as pd\n",
    "from pandasql import sqldf"
   ]
  },
  {
   "cell_type": "markdown",
   "source": [
    "# Import data"
   ],
   "metadata": {
    "collapsed": false
   }
  },
  {
   "cell_type": "code",
   "execution_count": 2,
   "outputs": [],
   "source": [
    "# file path to data folder\n",
    "path = './Data'"
   ],
   "metadata": {
    "collapsed": false,
    "pycharm": {
     "name": "#%%\n"
    }
   }
  },
  {
   "cell_type": "code",
   "execution_count": 3,
   "outputs": [],
   "source": [
    "# import physiological data\n",
    "physio = pd.DataFrame()\n",
    "for subjectID in range(1, 28):\n",
    "    # load physiological data for subject\n",
    "    file = path + f'/subjectID_{subjectID}.csv'\n",
    "    physio_subject = pd.read_csv(file)\n",
    "\n",
    "    n_entries = physio_subject.shape[0]\n",
    "    physio_subject['SubjectID'] = [subjectID for i in range(n_entries)]\n",
    "\n",
    "    # clean column names (dataset contains different column names per subject)\n",
    "    if 'SkinTemperature.Value' in physio_subject.columns:\n",
    "        physio_subject = physio_subject.rename(columns={'SkinTemperature.Value': 'SkinTemperature'}, errors='raise')\n",
    "\n",
    "    # combine all subject data\n",
    "    physio = pd.concat([physio, physio_subject])\n",
    "\n",
    "# import fatigue (PROs) data\n",
    "fatigue = pd.read_csv(path + '/fatiguePROs.csv')"
   ],
   "metadata": {
    "collapsed": false,
    "pycharm": {
     "name": "#%%\n"
    }
   }
  },
  {
   "cell_type": "markdown",
   "source": [
    "# Convert data"
   ],
   "metadata": {
    "collapsed": false
   }
  },
  {
   "cell_type": "markdown",
   "source": [
    "# a) Fatigue (PROs) data"
   ],
   "metadata": {
    "collapsed": false
   }
  },
  {
   "cell_type": "code",
   "execution_count": 53,
   "outputs": [
    {
     "data": {
      "text/plain": "   VAS  phF   MF  ReIP  sport\n0  526  526  526   526    167",
      "text/html": "<div>\n<style scoped>\n    .dataframe tbody tr th:only-of-type {\n        vertical-align: middle;\n    }\n\n    .dataframe tbody tr th {\n        vertical-align: top;\n    }\n\n    .dataframe thead th {\n        text-align: right;\n    }\n</style>\n<table border=\"1\" class=\"dataframe\">\n  <thead>\n    <tr style=\"text-align: right;\">\n      <th></th>\n      <th>VAS</th>\n      <th>phF</th>\n      <th>MF</th>\n      <th>ReIP</th>\n      <th>sport</th>\n    </tr>\n  </thead>\n  <tbody>\n    <tr>\n      <th>0</th>\n      <td>526</td>\n      <td>526</td>\n      <td>526</td>\n      <td>526</td>\n      <td>167</td>\n    </tr>\n  </tbody>\n</table>\n</div>"
     },
     "execution_count": 53,
     "metadata": {},
     "output_type": "execute_result"
    }
   ],
   "source": [
    "# check number of total questions asked (irresp. of subject)\n",
    "query = '''\n",
    "SELECT\n",
    "COUNT(CASE WHEN PROquestion LIKE 'Describe fatigue on a scale of 1 to 10, where 1 means you don’t feel tired at all and 10 means the worst tiredness you can imagine' THEN 1 END) AS VAS,\n",
    "COUNT(CASE WHEN PROquestion LIKE 'Physically, today how often did you feel exhausted?' THEN 1 END) AS phF,\n",
    "COUNT(CASE WHEN PROquestion LIKE 'Mentally, today how often did you feel exhausted?' THEN 1 END) AS MF,\n",
    "COUNT(CASE WHEN PROquestion LIKE 'Are you feeling better, worse or the same as yesterday?' THEN 1 END) AS ReIP,\n",
    "COUNT(CASE WHEN PROquestion LIKE 'Did you do sport today?' THEN 1 END) AS sport\n",
    "FROM (\n",
    "    SELECT PROquestion\n",
    "    FROM fatigue\n",
    ")\n",
    "'''\n",
    "sqldf(query)"
   ],
   "metadata": {
    "collapsed": false,
    "pycharm": {
     "name": "#%%\n"
    }
   }
  },
  {
   "cell_type": "code",
   "execution_count": 54,
   "outputs": [
    {
     "name": "stdout",
     "output_type": "stream",
     "text": [
      "total number of questions: 2271\n"
     ]
    }
   ],
   "source": [
    "# convert questions into fatigue variables\n",
    "query = '''\n",
    "SELECT SubjectID as subjectID, DateTime AS timestamp, Timezone AS timezone,\n",
    "CASE\n",
    "    WHEN PROquestion LIKE 'Describe fatigue on a scale of 1 to 10, where 1 means you don’t feel tired at all and 10 means the worst tiredness you can imagine' THEN PROanswer_value\n",
    "END AS 'VAS',\n",
    "CASE\n",
    "    WHEN PROquestion LIKE 'Physically, today how often did you feel exhausted?' THEN PROanswer_choice\n",
    "END AS 'phF',\n",
    "CASE\n",
    "    WHEN PROquestion LIKE 'Mentally, today how often did you feel exhausted?' THEN PROanswer_choice\n",
    "END AS 'MF',\n",
    "CASE\n",
    "    WHEN PROquestion LIKE 'Are you feeling better, worse or the same as yesterday?' THEN PROanswer_choice\n",
    "END AS 'ReIP',\n",
    "CASE\n",
    "    WHEN PROquestion LIKE 'Did you do sport today?' THEN PROanswer_choice\n",
    "END AS 'sport'\n",
    "FROM fatigue\n",
    "'''\n",
    "temp = sqldf(query)\n",
    "temp = temp.fillna(value=pd.NA)\n",
    "print('total number of questions:', temp.shape[0])"
   ],
   "metadata": {
    "collapsed": false,
    "pycharm": {
     "name": "#%%\n"
    }
   }
  },
  {
   "cell_type": "code",
   "execution_count": 55,
   "outputs": [
    {
     "name": "stdout",
     "output_type": "stream",
     "text": [
      "total number of separate questionnaires: 526\n"
     ]
    }
   ],
   "source": [
    "# distinguish different questionnaires with same timestamp (note: data is in chronological order)\n",
    "temp = temp.reset_index(drop=False)\n",
    "temp = temp.rename(columns={'index': 'id'})\n",
    "\n",
    "# same id = same questionnaire\n",
    "questionnaire = 0\n",
    "questionnaire_timestamp = temp.loc[0, 'timestamp']\n",
    "asked_questions = {'VAS': 0, 'phF': 0, 'MF': 0, 'ReIP': 0, 'sport': 0} # already asked?\n",
    "for i, row in temp.iterrows():\n",
    "    asked_questions = {key: value + int(not pd.isna(row[key])) for key, value in asked_questions.items()}\n",
    "\n",
    "    # different timestamp? -> different questionnaire\n",
    "    if row['timestamp'] != questionnaire_timestamp:\n",
    "        questionnaire += 1\n",
    "        questionnaire_timestamp = temp.loc[i, 'timestamp']\n",
    "        asked_questions = {key: int(not pd.isna(row[key])) for key, value in asked_questions.items()}\n",
    "    # same timestamp but same question again (vas already asked)? -> different questionnaire\n",
    "    elif 2 in set(asked_questions.values()):\n",
    "        questionnaire += 1\n",
    "        questionnaire_timestamp = temp.loc[i, 'timestamp']\n",
    "        asked_questions = {key: int(not pd.isna(row[key])) for key, value in asked_questions.items()}\n",
    "    else:\n",
    "        pass\n",
    "\n",
    "    temp.loc[i, 'id'] = questionnaire\n",
    "\n",
    "query = '''\n",
    "SELECT id, subjectID, timestamp, GROUP_CONCAT(DISTINCT timezone) AS timezone, GROUP_CONCAT(VAS) AS VAS, GROUP_CONCAT(phF) AS phF, GROUP_CONCAT(MF) AS MF, GROUP_CONCAT(ReIP) AS ReIP, GROUP_CONCAT(sport) AS sport\n",
    "FROM temp\n",
    "GROUP BY id, subjectID, timestamp\n",
    "'''\n",
    "questionnaires = sqldf(query)\n",
    "print('total number of separate questionnaires:', questionnaires.shape[0])"
   ],
   "metadata": {
    "collapsed": false,
    "pycharm": {
     "name": "#%%\n"
    }
   }
  },
  {
   "cell_type": "code",
   "execution_count": 56,
   "outputs": [
    {
     "name": "stdout",
     "output_type": "stream",
     "text": [
      "number of discarded questionnaires: 3\n"
     ]
    },
    {
     "data": {
      "text/plain": "    id  subjectID       timestamp timezone   VAS   phF    MF    ReIP sport\n0  105         15  09.06.19 22:27      UTC   1.0  None  None    None  None\n1  215         23  05.02.18 21:00      CET  None  None  None  Better  None\n2  281         24  06.02.18 21:43      CET   1.0  None  None    None  None",
      "text/html": "<div>\n<style scoped>\n    .dataframe tbody tr th:only-of-type {\n        vertical-align: middle;\n    }\n\n    .dataframe tbody tr th {\n        vertical-align: top;\n    }\n\n    .dataframe thead th {\n        text-align: right;\n    }\n</style>\n<table border=\"1\" class=\"dataframe\">\n  <thead>\n    <tr style=\"text-align: right;\">\n      <th></th>\n      <th>id</th>\n      <th>subjectID</th>\n      <th>timestamp</th>\n      <th>timezone</th>\n      <th>VAS</th>\n      <th>phF</th>\n      <th>MF</th>\n      <th>ReIP</th>\n      <th>sport</th>\n    </tr>\n  </thead>\n  <tbody>\n    <tr>\n      <th>0</th>\n      <td>105</td>\n      <td>15</td>\n      <td>09.06.19 22:27</td>\n      <td>UTC</td>\n      <td>1.0</td>\n      <td>None</td>\n      <td>None</td>\n      <td>None</td>\n      <td>None</td>\n    </tr>\n    <tr>\n      <th>1</th>\n      <td>215</td>\n      <td>23</td>\n      <td>05.02.18 21:00</td>\n      <td>CET</td>\n      <td>None</td>\n      <td>None</td>\n      <td>None</td>\n      <td>Better</td>\n      <td>None</td>\n    </tr>\n    <tr>\n      <th>2</th>\n      <td>281</td>\n      <td>24</td>\n      <td>06.02.18 21:43</td>\n      <td>CET</td>\n      <td>1.0</td>\n      <td>None</td>\n      <td>None</td>\n      <td>None</td>\n      <td>None</td>\n    </tr>\n  </tbody>\n</table>\n</div>"
     },
     "execution_count": 56,
     "metadata": {},
     "output_type": "execute_result"
    }
   ],
   "source": [
    "# incomplete questionnaires (ignore sport label as it's not asked in all questionnaires)\n",
    "query = '''\n",
    "SELECT *\n",
    "FROM questionnaires\n",
    "WHERE VAS IS NULL OR phF IS NULL OR MF IS NULL OR ReIP IS NULL\n",
    "'''\n",
    "temp = sqldf(query)\n",
    "\n",
    "# discard incomplete questionnaires\n",
    "query = '''\n",
    "SELECT *\n",
    "FROM questionnaires\n",
    "\n",
    "EXCEPT\n",
    "\n",
    "SELECT *\n",
    "FROM questionnaires\n",
    "WHERE VAS IS NULL OR phF IS NULL OR MF IS NULL OR ReIP IS NULL;\n",
    "'''\n",
    "questionnaires = sqldf(query)\n",
    "\n",
    "print('number of discarded questionnaires:', temp.shape[0])\n",
    "temp"
   ],
   "metadata": {
    "collapsed": false
   }
  },
  {
   "cell_type": "code",
   "execution_count": 57,
   "outputs": [
    {
     "name": "stdout",
     "output_type": "stream",
     "text": [
      "total number of same day questionnaires: 44\n"
     ]
    }
   ],
   "source": [
    "# aggregate questionnaires into daily fatigue values\n",
    "query = '''\n",
    "SELECT subjectID, SUBSTRING(Timestamp, 1, 8) AS date, GROUP_CONCAT(DISTINCT timezone) AS timezone, GROUP_CONCAT(VAS) AS VAS, GROUP_CONCAT(ReIP) AS ReIP, GROUP_CONCAT(phF) AS phF, GROUP_CONCAT(MF) AS MF, GROUP_CONCAT(sport) AS sport, COUNT(*) AS n_answers\n",
    "FROM questionnaires\n",
    "GROUP BY subjectID, date\n",
    "ORDER BY n_answers DESC;\n",
    "'''\n",
    "fatigue_daily = sqldf(query)\n",
    "\n",
    "# check how many multiple questionnaires are filled out per day\n",
    "query = '''\n",
    "SELECT COUNT(*) AS same_day_questionnaires\n",
    "FROM fatigue_daily\n",
    "WHERE n_answers > 1;\n",
    "'''\n",
    "print('total number of same day questionnaires:', sqldf(query)['same_day_questionnaires'][0])"
   ],
   "metadata": {
    "collapsed": false
   }
  },
  {
   "cell_type": "code",
   "execution_count": 58,
   "outputs": [
    {
     "name": "stdout",
     "output_type": "stream",
     "text": [
      "days with multiple questionnaires:\n"
     ]
    },
    {
     "data": {
      "text/plain": "    subjectID      date timezone      VAS      ReIP      phF       MF  \\\n0          24  06.02.18      CET  1,1,1,0  0,0,0,-1  1,1,1,1  1,1,1,1   \n1          24  07.02.18      CET    0,0,1    0,0,-1    1,0,1    1,0,1   \n2           4  30.03.19      UTC      0,0       1,1      0,0      0,0   \n3           5  04.04.19      UTC      1,0       1,1      1,0      1,0   \n4           5  07.04.19      UTC      1,0       1,1      1,1      1,0   \n5           6  05.04.19      UTC      0,0       1,0      1,1      1,1   \n6           8  09.06.19      UTC      0,0       1,1      1,0      0,0   \n7          10  06.05.19      UTC      0,0       1,0      1,1      0,0   \n8          10  08.05.19      UTC      0,0       1,1      1,0      0,0   \n9          10  10.05.19      UTC      0,0      -1,1      1,0      1,0   \n10         15  07.06.19      UTC      0,1       0,0      1,1      0,0   \n11         15  14.06.19      UTC      0,0      -1,0      1,0      1,0   \n12         16  27.05.19      UTC      0,0       0,0      1,0      1,1   \n13         18  29.05.19      UTC      0,0       1,1      0,0      0,0   \n14         18  30.05.19      UTC      0,0       0,0      0,0      0,0   \n15         22  28.05.19      UTC      0,0       1,0      0,1      1,1   \n16         23  06.02.18      CET      0,0       1,1      1,1      1,0   \n17         23  11.02.18      CET      0,0      -1,0      1,1      0,0   \n18         23  19.02.18      CET      0,0      -1,1      0,0      0,0   \n19         24  03.05.18     CEST      0,0       0,0      1,1      0,0   \n20         24  14.05.18     CEST      0,0     -1,-1      1,1      1,1   \n21         24  27.02.18      CET      1,1       0,0      1,1      1,1   \n22         25  11.02.18      CET      0,0       1,0      0,0      0,1   \n23         25  20.02.18      CET      0,0       0,0      1,1      0,0   \n24         25  25.02.18      CET      0,0       1,0      1,1      0,1   \n25         26  03.08.18     CEST      1,1      0,-1      1,1      1,1   \n26         26  05.08.18     CEST      1,1      -1,0      1,1      1,1   \n27         26  10.08.18     CEST      0,1      1,-1      1,1      1,1   \n28         26  17.02.18      CET      0,1      1,-1      1,1      1,1   \n29         26  21.02.18      CET      1,1      0,-1      1,1      1,1   \n30         26  24.07.18     CEST      1,1       1,1      1,1      1,1   \n31         26  25.02.18      CET      1,0       0,1      1,0      1,1   \n32         26  26.07.18     CEST      1,0      -1,1      1,1      1,1   \n33         26  31.07.18     CEST      0,0       1,0      1,1      1,1   \n34         27  03.03.18      CET      0,0       0,0      1,1      0,0   \n35         27  06.02.18      CET      0,0      -1,0      1,1      1,1   \n36         27  09.09.18     CEST      0,0      0,-1      1,1      0,1   \n37         27  13.08.18     CEST      0,0       0,0      0,0      0,0   \n38         27  16.08.18     CEST      0,0       0,0      0,0      0,0   \n39         27  22.08.18     CEST      0,0      0,-1      0,1      0,1   \n40         27  24.02.18      CET      0,0      -1,1      1,1      1,0   \n41         27  24.08.18     CEST      0,0      -1,1      1,0      1,0   \n42         27  27.02.18      CET      0,0      -1,0      1,1      0,0   \n43         28  16.08.18     CEST      1,0       1,1      1,0      1,1   \n\n      sport  n_answers  \n0      <NA>          4  \n1      <NA>          3  \n2       0.0          2  \n3   0.0,0.0          2  \n4   1.0,1.0          2  \n5   0.0,0.0          2  \n6   0.0,0.0          2  \n7   0.0,0.0          2  \n8   0.0,0.0          2  \n9   0.0,0.0          2  \n10  1.0,1.0          2  \n11  0.0,1.0          2  \n12  1.0,1.0          2  \n13  0.0,0.0          2  \n14  1.0,1.0          2  \n15  1.0,0.0          2  \n16     <NA>          2  \n17     <NA>          2  \n18     <NA>          2  \n19     <NA>          2  \n20     <NA>          2  \n21     <NA>          2  \n22     <NA>          2  \n23     <NA>          2  \n24     <NA>          2  \n25     <NA>          2  \n26     <NA>          2  \n27     <NA>          2  \n28     <NA>          2  \n29     <NA>          2  \n30     <NA>          2  \n31     <NA>          2  \n32     <NA>          2  \n33     <NA>          2  \n34     <NA>          2  \n35     <NA>          2  \n36     <NA>          2  \n37     <NA>          2  \n38     <NA>          2  \n39     <NA>          2  \n40     <NA>          2  \n41     <NA>          2  \n42     <NA>          2  \n43     <NA>          2  ",
      "text/html": "<div>\n<style scoped>\n    .dataframe tbody tr th:only-of-type {\n        vertical-align: middle;\n    }\n\n    .dataframe tbody tr th {\n        vertical-align: top;\n    }\n\n    .dataframe thead th {\n        text-align: right;\n    }\n</style>\n<table border=\"1\" class=\"dataframe\">\n  <thead>\n    <tr style=\"text-align: right;\">\n      <th></th>\n      <th>subjectID</th>\n      <th>date</th>\n      <th>timezone</th>\n      <th>VAS</th>\n      <th>ReIP</th>\n      <th>phF</th>\n      <th>MF</th>\n      <th>sport</th>\n      <th>n_answers</th>\n    </tr>\n  </thead>\n  <tbody>\n    <tr>\n      <th>0</th>\n      <td>24</td>\n      <td>06.02.18</td>\n      <td>CET</td>\n      <td>1,1,1,0</td>\n      <td>0,0,0,-1</td>\n      <td>1,1,1,1</td>\n      <td>1,1,1,1</td>\n      <td>&lt;NA&gt;</td>\n      <td>4</td>\n    </tr>\n    <tr>\n      <th>1</th>\n      <td>24</td>\n      <td>07.02.18</td>\n      <td>CET</td>\n      <td>0,0,1</td>\n      <td>0,0,-1</td>\n      <td>1,0,1</td>\n      <td>1,0,1</td>\n      <td>&lt;NA&gt;</td>\n      <td>3</td>\n    </tr>\n    <tr>\n      <th>2</th>\n      <td>4</td>\n      <td>30.03.19</td>\n      <td>UTC</td>\n      <td>0,0</td>\n      <td>1,1</td>\n      <td>0,0</td>\n      <td>0,0</td>\n      <td>0.0</td>\n      <td>2</td>\n    </tr>\n    <tr>\n      <th>3</th>\n      <td>5</td>\n      <td>04.04.19</td>\n      <td>UTC</td>\n      <td>1,0</td>\n      <td>1,1</td>\n      <td>1,0</td>\n      <td>1,0</td>\n      <td>0.0,0.0</td>\n      <td>2</td>\n    </tr>\n    <tr>\n      <th>4</th>\n      <td>5</td>\n      <td>07.04.19</td>\n      <td>UTC</td>\n      <td>1,0</td>\n      <td>1,1</td>\n      <td>1,1</td>\n      <td>1,0</td>\n      <td>1.0,1.0</td>\n      <td>2</td>\n    </tr>\n    <tr>\n      <th>5</th>\n      <td>6</td>\n      <td>05.04.19</td>\n      <td>UTC</td>\n      <td>0,0</td>\n      <td>1,0</td>\n      <td>1,1</td>\n      <td>1,1</td>\n      <td>0.0,0.0</td>\n      <td>2</td>\n    </tr>\n    <tr>\n      <th>6</th>\n      <td>8</td>\n      <td>09.06.19</td>\n      <td>UTC</td>\n      <td>0,0</td>\n      <td>1,1</td>\n      <td>1,0</td>\n      <td>0,0</td>\n      <td>0.0,0.0</td>\n      <td>2</td>\n    </tr>\n    <tr>\n      <th>7</th>\n      <td>10</td>\n      <td>06.05.19</td>\n      <td>UTC</td>\n      <td>0,0</td>\n      <td>1,0</td>\n      <td>1,1</td>\n      <td>0,0</td>\n      <td>0.0,0.0</td>\n      <td>2</td>\n    </tr>\n    <tr>\n      <th>8</th>\n      <td>10</td>\n      <td>08.05.19</td>\n      <td>UTC</td>\n      <td>0,0</td>\n      <td>1,1</td>\n      <td>1,0</td>\n      <td>0,0</td>\n      <td>0.0,0.0</td>\n      <td>2</td>\n    </tr>\n    <tr>\n      <th>9</th>\n      <td>10</td>\n      <td>10.05.19</td>\n      <td>UTC</td>\n      <td>0,0</td>\n      <td>-1,1</td>\n      <td>1,0</td>\n      <td>1,0</td>\n      <td>0.0,0.0</td>\n      <td>2</td>\n    </tr>\n    <tr>\n      <th>10</th>\n      <td>15</td>\n      <td>07.06.19</td>\n      <td>UTC</td>\n      <td>0,1</td>\n      <td>0,0</td>\n      <td>1,1</td>\n      <td>0,0</td>\n      <td>1.0,1.0</td>\n      <td>2</td>\n    </tr>\n    <tr>\n      <th>11</th>\n      <td>15</td>\n      <td>14.06.19</td>\n      <td>UTC</td>\n      <td>0,0</td>\n      <td>-1,0</td>\n      <td>1,0</td>\n      <td>1,0</td>\n      <td>0.0,1.0</td>\n      <td>2</td>\n    </tr>\n    <tr>\n      <th>12</th>\n      <td>16</td>\n      <td>27.05.19</td>\n      <td>UTC</td>\n      <td>0,0</td>\n      <td>0,0</td>\n      <td>1,0</td>\n      <td>1,1</td>\n      <td>1.0,1.0</td>\n      <td>2</td>\n    </tr>\n    <tr>\n      <th>13</th>\n      <td>18</td>\n      <td>29.05.19</td>\n      <td>UTC</td>\n      <td>0,0</td>\n      <td>1,1</td>\n      <td>0,0</td>\n      <td>0,0</td>\n      <td>0.0,0.0</td>\n      <td>2</td>\n    </tr>\n    <tr>\n      <th>14</th>\n      <td>18</td>\n      <td>30.05.19</td>\n      <td>UTC</td>\n      <td>0,0</td>\n      <td>0,0</td>\n      <td>0,0</td>\n      <td>0,0</td>\n      <td>1.0,1.0</td>\n      <td>2</td>\n    </tr>\n    <tr>\n      <th>15</th>\n      <td>22</td>\n      <td>28.05.19</td>\n      <td>UTC</td>\n      <td>0,0</td>\n      <td>1,0</td>\n      <td>0,1</td>\n      <td>1,1</td>\n      <td>1.0,0.0</td>\n      <td>2</td>\n    </tr>\n    <tr>\n      <th>16</th>\n      <td>23</td>\n      <td>06.02.18</td>\n      <td>CET</td>\n      <td>0,0</td>\n      <td>1,1</td>\n      <td>1,1</td>\n      <td>1,0</td>\n      <td>&lt;NA&gt;</td>\n      <td>2</td>\n    </tr>\n    <tr>\n      <th>17</th>\n      <td>23</td>\n      <td>11.02.18</td>\n      <td>CET</td>\n      <td>0,0</td>\n      <td>-1,0</td>\n      <td>1,1</td>\n      <td>0,0</td>\n      <td>&lt;NA&gt;</td>\n      <td>2</td>\n    </tr>\n    <tr>\n      <th>18</th>\n      <td>23</td>\n      <td>19.02.18</td>\n      <td>CET</td>\n      <td>0,0</td>\n      <td>-1,1</td>\n      <td>0,0</td>\n      <td>0,0</td>\n      <td>&lt;NA&gt;</td>\n      <td>2</td>\n    </tr>\n    <tr>\n      <th>19</th>\n      <td>24</td>\n      <td>03.05.18</td>\n      <td>CEST</td>\n      <td>0,0</td>\n      <td>0,0</td>\n      <td>1,1</td>\n      <td>0,0</td>\n      <td>&lt;NA&gt;</td>\n      <td>2</td>\n    </tr>\n    <tr>\n      <th>20</th>\n      <td>24</td>\n      <td>14.05.18</td>\n      <td>CEST</td>\n      <td>0,0</td>\n      <td>-1,-1</td>\n      <td>1,1</td>\n      <td>1,1</td>\n      <td>&lt;NA&gt;</td>\n      <td>2</td>\n    </tr>\n    <tr>\n      <th>21</th>\n      <td>24</td>\n      <td>27.02.18</td>\n      <td>CET</td>\n      <td>1,1</td>\n      <td>0,0</td>\n      <td>1,1</td>\n      <td>1,1</td>\n      <td>&lt;NA&gt;</td>\n      <td>2</td>\n    </tr>\n    <tr>\n      <th>22</th>\n      <td>25</td>\n      <td>11.02.18</td>\n      <td>CET</td>\n      <td>0,0</td>\n      <td>1,0</td>\n      <td>0,0</td>\n      <td>0,1</td>\n      <td>&lt;NA&gt;</td>\n      <td>2</td>\n    </tr>\n    <tr>\n      <th>23</th>\n      <td>25</td>\n      <td>20.02.18</td>\n      <td>CET</td>\n      <td>0,0</td>\n      <td>0,0</td>\n      <td>1,1</td>\n      <td>0,0</td>\n      <td>&lt;NA&gt;</td>\n      <td>2</td>\n    </tr>\n    <tr>\n      <th>24</th>\n      <td>25</td>\n      <td>25.02.18</td>\n      <td>CET</td>\n      <td>0,0</td>\n      <td>1,0</td>\n      <td>1,1</td>\n      <td>0,1</td>\n      <td>&lt;NA&gt;</td>\n      <td>2</td>\n    </tr>\n    <tr>\n      <th>25</th>\n      <td>26</td>\n      <td>03.08.18</td>\n      <td>CEST</td>\n      <td>1,1</td>\n      <td>0,-1</td>\n      <td>1,1</td>\n      <td>1,1</td>\n      <td>&lt;NA&gt;</td>\n      <td>2</td>\n    </tr>\n    <tr>\n      <th>26</th>\n      <td>26</td>\n      <td>05.08.18</td>\n      <td>CEST</td>\n      <td>1,1</td>\n      <td>-1,0</td>\n      <td>1,1</td>\n      <td>1,1</td>\n      <td>&lt;NA&gt;</td>\n      <td>2</td>\n    </tr>\n    <tr>\n      <th>27</th>\n      <td>26</td>\n      <td>10.08.18</td>\n      <td>CEST</td>\n      <td>0,1</td>\n      <td>1,-1</td>\n      <td>1,1</td>\n      <td>1,1</td>\n      <td>&lt;NA&gt;</td>\n      <td>2</td>\n    </tr>\n    <tr>\n      <th>28</th>\n      <td>26</td>\n      <td>17.02.18</td>\n      <td>CET</td>\n      <td>0,1</td>\n      <td>1,-1</td>\n      <td>1,1</td>\n      <td>1,1</td>\n      <td>&lt;NA&gt;</td>\n      <td>2</td>\n    </tr>\n    <tr>\n      <th>29</th>\n      <td>26</td>\n      <td>21.02.18</td>\n      <td>CET</td>\n      <td>1,1</td>\n      <td>0,-1</td>\n      <td>1,1</td>\n      <td>1,1</td>\n      <td>&lt;NA&gt;</td>\n      <td>2</td>\n    </tr>\n    <tr>\n      <th>30</th>\n      <td>26</td>\n      <td>24.07.18</td>\n      <td>CEST</td>\n      <td>1,1</td>\n      <td>1,1</td>\n      <td>1,1</td>\n      <td>1,1</td>\n      <td>&lt;NA&gt;</td>\n      <td>2</td>\n    </tr>\n    <tr>\n      <th>31</th>\n      <td>26</td>\n      <td>25.02.18</td>\n      <td>CET</td>\n      <td>1,0</td>\n      <td>0,1</td>\n      <td>1,0</td>\n      <td>1,1</td>\n      <td>&lt;NA&gt;</td>\n      <td>2</td>\n    </tr>\n    <tr>\n      <th>32</th>\n      <td>26</td>\n      <td>26.07.18</td>\n      <td>CEST</td>\n      <td>1,0</td>\n      <td>-1,1</td>\n      <td>1,1</td>\n      <td>1,1</td>\n      <td>&lt;NA&gt;</td>\n      <td>2</td>\n    </tr>\n    <tr>\n      <th>33</th>\n      <td>26</td>\n      <td>31.07.18</td>\n      <td>CEST</td>\n      <td>0,0</td>\n      <td>1,0</td>\n      <td>1,1</td>\n      <td>1,1</td>\n      <td>&lt;NA&gt;</td>\n      <td>2</td>\n    </tr>\n    <tr>\n      <th>34</th>\n      <td>27</td>\n      <td>03.03.18</td>\n      <td>CET</td>\n      <td>0,0</td>\n      <td>0,0</td>\n      <td>1,1</td>\n      <td>0,0</td>\n      <td>&lt;NA&gt;</td>\n      <td>2</td>\n    </tr>\n    <tr>\n      <th>35</th>\n      <td>27</td>\n      <td>06.02.18</td>\n      <td>CET</td>\n      <td>0,0</td>\n      <td>-1,0</td>\n      <td>1,1</td>\n      <td>1,1</td>\n      <td>&lt;NA&gt;</td>\n      <td>2</td>\n    </tr>\n    <tr>\n      <th>36</th>\n      <td>27</td>\n      <td>09.09.18</td>\n      <td>CEST</td>\n      <td>0,0</td>\n      <td>0,-1</td>\n      <td>1,1</td>\n      <td>0,1</td>\n      <td>&lt;NA&gt;</td>\n      <td>2</td>\n    </tr>\n    <tr>\n      <th>37</th>\n      <td>27</td>\n      <td>13.08.18</td>\n      <td>CEST</td>\n      <td>0,0</td>\n      <td>0,0</td>\n      <td>0,0</td>\n      <td>0,0</td>\n      <td>&lt;NA&gt;</td>\n      <td>2</td>\n    </tr>\n    <tr>\n      <th>38</th>\n      <td>27</td>\n      <td>16.08.18</td>\n      <td>CEST</td>\n      <td>0,0</td>\n      <td>0,0</td>\n      <td>0,0</td>\n      <td>0,0</td>\n      <td>&lt;NA&gt;</td>\n      <td>2</td>\n    </tr>\n    <tr>\n      <th>39</th>\n      <td>27</td>\n      <td>22.08.18</td>\n      <td>CEST</td>\n      <td>0,0</td>\n      <td>0,-1</td>\n      <td>0,1</td>\n      <td>0,1</td>\n      <td>&lt;NA&gt;</td>\n      <td>2</td>\n    </tr>\n    <tr>\n      <th>40</th>\n      <td>27</td>\n      <td>24.02.18</td>\n      <td>CET</td>\n      <td>0,0</td>\n      <td>-1,1</td>\n      <td>1,1</td>\n      <td>1,0</td>\n      <td>&lt;NA&gt;</td>\n      <td>2</td>\n    </tr>\n    <tr>\n      <th>41</th>\n      <td>27</td>\n      <td>24.08.18</td>\n      <td>CEST</td>\n      <td>0,0</td>\n      <td>-1,1</td>\n      <td>1,0</td>\n      <td>1,0</td>\n      <td>&lt;NA&gt;</td>\n      <td>2</td>\n    </tr>\n    <tr>\n      <th>42</th>\n      <td>27</td>\n      <td>27.02.18</td>\n      <td>CET</td>\n      <td>0,0</td>\n      <td>-1,0</td>\n      <td>1,1</td>\n      <td>0,0</td>\n      <td>&lt;NA&gt;</td>\n      <td>2</td>\n    </tr>\n    <tr>\n      <th>43</th>\n      <td>28</td>\n      <td>16.08.18</td>\n      <td>CEST</td>\n      <td>1,0</td>\n      <td>1,1</td>\n      <td>1,0</td>\n      <td>1,1</td>\n      <td>&lt;NA&gt;</td>\n      <td>2</td>\n    </tr>\n  </tbody>\n</table>\n</div>"
     },
     "execution_count": 58,
     "metadata": {},
     "output_type": "execute_result"
    }
   ],
   "source": [
    "# convert fatigue answers into numeric classes\n",
    "query = '''\n",
    "SELECT subjectID, timestamp, timezone,\n",
    "CASE\n",
    "WHEN CAST(VAS AS INT) BETWEEN 1.0 AND 4.0 THEN 0\n",
    "WHEN CAST(VAS AS INT) BETWEEN 5.0 AND 10.0 THEN 1\n",
    "END AS 'VAS',\n",
    "CASE\n",
    "WHEN phF LIKE 'never' THEN 0\n",
    "WHEN phF LIKE 'sometimes' OR phF LIKE 'regularly' OR phF LIKE 'often' OR phF LIKE 'always' THEN 1\n",
    "END AS 'phF',\n",
    "CASE\n",
    "WHEN MF LIKE 'never' THEN 0\n",
    "WHEN MF LIKE 'sometimes' OR MF LIKE 'regularly' OR MF LIKE 'often' OR MF LIKE 'always' THEN 1\n",
    "END AS 'MF',\n",
    "CASE\n",
    "WHEN ReIP LIKE 'worse' THEN -1\n",
    "WHEN ReIP LIKE 'same' THEN 0\n",
    "WHEN ReIP LIKE 'better' THEN 1\n",
    "END AS 'ReIP',\n",
    "CASE\n",
    "WHEN sport LIKE 'No' THEN 0\n",
    "WHEN sport LIKE 'Yes' THEN 1\n",
    "END AS 'sport'\n",
    "FROM questionnaires\n",
    "'''\n",
    "temp = sqldf(query)\n",
    "\n",
    "# aggregate questionnaires into daily fatigue values\n",
    "query = '''\n",
    "SELECT subjectID, SUBSTRING(Timestamp, 1, 8) AS date, GROUP_CONCAT(DISTINCT timezone) AS timezone, GROUP_CONCAT(VAS) AS VAS, GROUP_CONCAT(ReIP) AS ReIP, GROUP_CONCAT(phF) AS phF, GROUP_CONCAT(MF) AS MF, GROUP_CONCAT(sport) AS sport, COUNT(*) AS n_answers\n",
    "FROM temp\n",
    "GROUP BY subjectID, date\n",
    "HAVING n_answers > 1\n",
    "ORDER BY n_answers DESC;\n",
    "'''\n",
    "print('days with multiple questionnaires:')\n",
    "sqldf(query).fillna(value=pd.NA)"
   ],
   "metadata": {
    "collapsed": false
   }
  },
  {
   "cell_type": "code",
   "execution_count": 59,
   "outputs": [
    {
     "name": "stdout",
     "output_type": "stream",
     "text": [
      "days with multiple questionnaires - averaged to single values:\n"
     ]
    },
    {
     "data": {
      "text/plain": "    subjectID      date timezone  VAS  ReIP  phF   MF sport  n_answers\n0          24  06.02.18      CET  1.0   0.0  1.0  1.0  <NA>          4\n1          24  07.02.18      CET  0.0   0.0  1.0  1.0  <NA>          3\n2           4  30.03.19      UTC  0.0   1.0  0.0  0.0   0.0          2\n3           5  04.04.19      UTC  1.0   1.0  1.0  1.0   0.0          2\n4           5  07.04.19      UTC  1.0   1.0  1.0  1.0   1.0          2\n5           6  05.04.19      UTC  0.0   1.0  1.0  1.0   0.0          2\n6           8  09.06.19      UTC  0.0   1.0  1.0  0.0   0.0          2\n7          10  06.05.19      UTC  0.0   1.0  1.0  0.0   0.0          2\n8          10  08.05.19      UTC  0.0   1.0  1.0  0.0   0.0          2\n9          10  10.05.19      UTC  0.0   0.0  1.0  1.0   0.0          2\n10         15  07.06.19      UTC  1.0   0.0  1.0  0.0   1.0          2\n11         15  14.06.19      UTC  0.0  -1.0  1.0  1.0   1.0          2\n12         16  27.05.19      UTC  0.0   0.0  1.0  1.0   1.0          2\n13         18  29.05.19      UTC  0.0   1.0  0.0  0.0   0.0          2\n14         18  30.05.19      UTC  0.0   0.0  0.0  0.0   1.0          2\n15         22  28.05.19      UTC  0.0   1.0  1.0  1.0   1.0          2\n16         23  06.02.18      CET  0.0   1.0  1.0  1.0  <NA>          2\n17         23  11.02.18      CET  0.0  -1.0  1.0  0.0  <NA>          2\n18         23  19.02.18      CET  0.0   0.0  0.0  0.0  <NA>          2\n19         24  03.05.18     CEST  0.0   0.0  1.0  0.0  <NA>          2\n20         24  14.05.18     CEST  0.0  -1.0  1.0  1.0  <NA>          2\n21         24  27.02.18      CET  1.0   0.0  1.0  1.0  <NA>          2\n22         25  11.02.18      CET  0.0   1.0  0.0  1.0  <NA>          2\n23         25  20.02.18      CET  0.0   0.0  1.0  0.0  <NA>          2\n24         25  25.02.18      CET  0.0   1.0  1.0  1.0  <NA>          2\n25         26  03.08.18     CEST  1.0  -1.0  1.0  1.0  <NA>          2\n26         26  05.08.18     CEST  1.0  -1.0  1.0  1.0  <NA>          2\n27         26  10.08.18     CEST  1.0   0.0  1.0  1.0  <NA>          2\n28         26  17.02.18      CET  1.0   0.0  1.0  1.0  <NA>          2\n29         26  21.02.18      CET  1.0  -1.0  1.0  1.0  <NA>          2\n30         26  24.07.18     CEST  1.0   1.0  1.0  1.0  <NA>          2\n31         26  25.02.18      CET  1.0   1.0  1.0  1.0  <NA>          2\n32         26  26.07.18     CEST  1.0   0.0  1.0  1.0  <NA>          2\n33         26  31.07.18     CEST  0.0   1.0  1.0  1.0  <NA>          2\n34         27  03.03.18      CET  0.0   0.0  1.0  0.0  <NA>          2\n35         27  06.02.18      CET  0.0  -1.0  1.0  1.0  <NA>          2\n36         27  09.09.18     CEST  0.0  -1.0  1.0  1.0  <NA>          2\n37         27  13.08.18     CEST  0.0   0.0  0.0  0.0  <NA>          2\n38         27  16.08.18     CEST  0.0   0.0  0.0  0.0  <NA>          2\n39         27  22.08.18     CEST  0.0  -1.0  1.0  1.0  <NA>          2\n40         27  24.02.18      CET  0.0   0.0  1.0  1.0  <NA>          2\n41         27  24.08.18     CEST  0.0   0.0  1.0  1.0  <NA>          2\n42         27  27.02.18      CET  0.0  -1.0  1.0  0.0  <NA>          2\n43         28  16.08.18     CEST  1.0   1.0  1.0  1.0  <NA>          2",
      "text/html": "<div>\n<style scoped>\n    .dataframe tbody tr th:only-of-type {\n        vertical-align: middle;\n    }\n\n    .dataframe tbody tr th {\n        vertical-align: top;\n    }\n\n    .dataframe thead th {\n        text-align: right;\n    }\n</style>\n<table border=\"1\" class=\"dataframe\">\n  <thead>\n    <tr style=\"text-align: right;\">\n      <th></th>\n      <th>subjectID</th>\n      <th>date</th>\n      <th>timezone</th>\n      <th>VAS</th>\n      <th>ReIP</th>\n      <th>phF</th>\n      <th>MF</th>\n      <th>sport</th>\n      <th>n_answers</th>\n    </tr>\n  </thead>\n  <tbody>\n    <tr>\n      <th>0</th>\n      <td>24</td>\n      <td>06.02.18</td>\n      <td>CET</td>\n      <td>1.0</td>\n      <td>0.0</td>\n      <td>1.0</td>\n      <td>1.0</td>\n      <td>&lt;NA&gt;</td>\n      <td>4</td>\n    </tr>\n    <tr>\n      <th>1</th>\n      <td>24</td>\n      <td>07.02.18</td>\n      <td>CET</td>\n      <td>0.0</td>\n      <td>0.0</td>\n      <td>1.0</td>\n      <td>1.0</td>\n      <td>&lt;NA&gt;</td>\n      <td>3</td>\n    </tr>\n    <tr>\n      <th>2</th>\n      <td>4</td>\n      <td>30.03.19</td>\n      <td>UTC</td>\n      <td>0.0</td>\n      <td>1.0</td>\n      <td>0.0</td>\n      <td>0.0</td>\n      <td>0.0</td>\n      <td>2</td>\n    </tr>\n    <tr>\n      <th>3</th>\n      <td>5</td>\n      <td>04.04.19</td>\n      <td>UTC</td>\n      <td>1.0</td>\n      <td>1.0</td>\n      <td>1.0</td>\n      <td>1.0</td>\n      <td>0.0</td>\n      <td>2</td>\n    </tr>\n    <tr>\n      <th>4</th>\n      <td>5</td>\n      <td>07.04.19</td>\n      <td>UTC</td>\n      <td>1.0</td>\n      <td>1.0</td>\n      <td>1.0</td>\n      <td>1.0</td>\n      <td>1.0</td>\n      <td>2</td>\n    </tr>\n    <tr>\n      <th>5</th>\n      <td>6</td>\n      <td>05.04.19</td>\n      <td>UTC</td>\n      <td>0.0</td>\n      <td>1.0</td>\n      <td>1.0</td>\n      <td>1.0</td>\n      <td>0.0</td>\n      <td>2</td>\n    </tr>\n    <tr>\n      <th>6</th>\n      <td>8</td>\n      <td>09.06.19</td>\n      <td>UTC</td>\n      <td>0.0</td>\n      <td>1.0</td>\n      <td>1.0</td>\n      <td>0.0</td>\n      <td>0.0</td>\n      <td>2</td>\n    </tr>\n    <tr>\n      <th>7</th>\n      <td>10</td>\n      <td>06.05.19</td>\n      <td>UTC</td>\n      <td>0.0</td>\n      <td>1.0</td>\n      <td>1.0</td>\n      <td>0.0</td>\n      <td>0.0</td>\n      <td>2</td>\n    </tr>\n    <tr>\n      <th>8</th>\n      <td>10</td>\n      <td>08.05.19</td>\n      <td>UTC</td>\n      <td>0.0</td>\n      <td>1.0</td>\n      <td>1.0</td>\n      <td>0.0</td>\n      <td>0.0</td>\n      <td>2</td>\n    </tr>\n    <tr>\n      <th>9</th>\n      <td>10</td>\n      <td>10.05.19</td>\n      <td>UTC</td>\n      <td>0.0</td>\n      <td>0.0</td>\n      <td>1.0</td>\n      <td>1.0</td>\n      <td>0.0</td>\n      <td>2</td>\n    </tr>\n    <tr>\n      <th>10</th>\n      <td>15</td>\n      <td>07.06.19</td>\n      <td>UTC</td>\n      <td>1.0</td>\n      <td>0.0</td>\n      <td>1.0</td>\n      <td>0.0</td>\n      <td>1.0</td>\n      <td>2</td>\n    </tr>\n    <tr>\n      <th>11</th>\n      <td>15</td>\n      <td>14.06.19</td>\n      <td>UTC</td>\n      <td>0.0</td>\n      <td>-1.0</td>\n      <td>1.0</td>\n      <td>1.0</td>\n      <td>1.0</td>\n      <td>2</td>\n    </tr>\n    <tr>\n      <th>12</th>\n      <td>16</td>\n      <td>27.05.19</td>\n      <td>UTC</td>\n      <td>0.0</td>\n      <td>0.0</td>\n      <td>1.0</td>\n      <td>1.0</td>\n      <td>1.0</td>\n      <td>2</td>\n    </tr>\n    <tr>\n      <th>13</th>\n      <td>18</td>\n      <td>29.05.19</td>\n      <td>UTC</td>\n      <td>0.0</td>\n      <td>1.0</td>\n      <td>0.0</td>\n      <td>0.0</td>\n      <td>0.0</td>\n      <td>2</td>\n    </tr>\n    <tr>\n      <th>14</th>\n      <td>18</td>\n      <td>30.05.19</td>\n      <td>UTC</td>\n      <td>0.0</td>\n      <td>0.0</td>\n      <td>0.0</td>\n      <td>0.0</td>\n      <td>1.0</td>\n      <td>2</td>\n    </tr>\n    <tr>\n      <th>15</th>\n      <td>22</td>\n      <td>28.05.19</td>\n      <td>UTC</td>\n      <td>0.0</td>\n      <td>1.0</td>\n      <td>1.0</td>\n      <td>1.0</td>\n      <td>1.0</td>\n      <td>2</td>\n    </tr>\n    <tr>\n      <th>16</th>\n      <td>23</td>\n      <td>06.02.18</td>\n      <td>CET</td>\n      <td>0.0</td>\n      <td>1.0</td>\n      <td>1.0</td>\n      <td>1.0</td>\n      <td>&lt;NA&gt;</td>\n      <td>2</td>\n    </tr>\n    <tr>\n      <th>17</th>\n      <td>23</td>\n      <td>11.02.18</td>\n      <td>CET</td>\n      <td>0.0</td>\n      <td>-1.0</td>\n      <td>1.0</td>\n      <td>0.0</td>\n      <td>&lt;NA&gt;</td>\n      <td>2</td>\n    </tr>\n    <tr>\n      <th>18</th>\n      <td>23</td>\n      <td>19.02.18</td>\n      <td>CET</td>\n      <td>0.0</td>\n      <td>0.0</td>\n      <td>0.0</td>\n      <td>0.0</td>\n      <td>&lt;NA&gt;</td>\n      <td>2</td>\n    </tr>\n    <tr>\n      <th>19</th>\n      <td>24</td>\n      <td>03.05.18</td>\n      <td>CEST</td>\n      <td>0.0</td>\n      <td>0.0</td>\n      <td>1.0</td>\n      <td>0.0</td>\n      <td>&lt;NA&gt;</td>\n      <td>2</td>\n    </tr>\n    <tr>\n      <th>20</th>\n      <td>24</td>\n      <td>14.05.18</td>\n      <td>CEST</td>\n      <td>0.0</td>\n      <td>-1.0</td>\n      <td>1.0</td>\n      <td>1.0</td>\n      <td>&lt;NA&gt;</td>\n      <td>2</td>\n    </tr>\n    <tr>\n      <th>21</th>\n      <td>24</td>\n      <td>27.02.18</td>\n      <td>CET</td>\n      <td>1.0</td>\n      <td>0.0</td>\n      <td>1.0</td>\n      <td>1.0</td>\n      <td>&lt;NA&gt;</td>\n      <td>2</td>\n    </tr>\n    <tr>\n      <th>22</th>\n      <td>25</td>\n      <td>11.02.18</td>\n      <td>CET</td>\n      <td>0.0</td>\n      <td>1.0</td>\n      <td>0.0</td>\n      <td>1.0</td>\n      <td>&lt;NA&gt;</td>\n      <td>2</td>\n    </tr>\n    <tr>\n      <th>23</th>\n      <td>25</td>\n      <td>20.02.18</td>\n      <td>CET</td>\n      <td>0.0</td>\n      <td>0.0</td>\n      <td>1.0</td>\n      <td>0.0</td>\n      <td>&lt;NA&gt;</td>\n      <td>2</td>\n    </tr>\n    <tr>\n      <th>24</th>\n      <td>25</td>\n      <td>25.02.18</td>\n      <td>CET</td>\n      <td>0.0</td>\n      <td>1.0</td>\n      <td>1.0</td>\n      <td>1.0</td>\n      <td>&lt;NA&gt;</td>\n      <td>2</td>\n    </tr>\n    <tr>\n      <th>25</th>\n      <td>26</td>\n      <td>03.08.18</td>\n      <td>CEST</td>\n      <td>1.0</td>\n      <td>-1.0</td>\n      <td>1.0</td>\n      <td>1.0</td>\n      <td>&lt;NA&gt;</td>\n      <td>2</td>\n    </tr>\n    <tr>\n      <th>26</th>\n      <td>26</td>\n      <td>05.08.18</td>\n      <td>CEST</td>\n      <td>1.0</td>\n      <td>-1.0</td>\n      <td>1.0</td>\n      <td>1.0</td>\n      <td>&lt;NA&gt;</td>\n      <td>2</td>\n    </tr>\n    <tr>\n      <th>27</th>\n      <td>26</td>\n      <td>10.08.18</td>\n      <td>CEST</td>\n      <td>1.0</td>\n      <td>0.0</td>\n      <td>1.0</td>\n      <td>1.0</td>\n      <td>&lt;NA&gt;</td>\n      <td>2</td>\n    </tr>\n    <tr>\n      <th>28</th>\n      <td>26</td>\n      <td>17.02.18</td>\n      <td>CET</td>\n      <td>1.0</td>\n      <td>0.0</td>\n      <td>1.0</td>\n      <td>1.0</td>\n      <td>&lt;NA&gt;</td>\n      <td>2</td>\n    </tr>\n    <tr>\n      <th>29</th>\n      <td>26</td>\n      <td>21.02.18</td>\n      <td>CET</td>\n      <td>1.0</td>\n      <td>-1.0</td>\n      <td>1.0</td>\n      <td>1.0</td>\n      <td>&lt;NA&gt;</td>\n      <td>2</td>\n    </tr>\n    <tr>\n      <th>30</th>\n      <td>26</td>\n      <td>24.07.18</td>\n      <td>CEST</td>\n      <td>1.0</td>\n      <td>1.0</td>\n      <td>1.0</td>\n      <td>1.0</td>\n      <td>&lt;NA&gt;</td>\n      <td>2</td>\n    </tr>\n    <tr>\n      <th>31</th>\n      <td>26</td>\n      <td>25.02.18</td>\n      <td>CET</td>\n      <td>1.0</td>\n      <td>1.0</td>\n      <td>1.0</td>\n      <td>1.0</td>\n      <td>&lt;NA&gt;</td>\n      <td>2</td>\n    </tr>\n    <tr>\n      <th>32</th>\n      <td>26</td>\n      <td>26.07.18</td>\n      <td>CEST</td>\n      <td>1.0</td>\n      <td>0.0</td>\n      <td>1.0</td>\n      <td>1.0</td>\n      <td>&lt;NA&gt;</td>\n      <td>2</td>\n    </tr>\n    <tr>\n      <th>33</th>\n      <td>26</td>\n      <td>31.07.18</td>\n      <td>CEST</td>\n      <td>0.0</td>\n      <td>1.0</td>\n      <td>1.0</td>\n      <td>1.0</td>\n      <td>&lt;NA&gt;</td>\n      <td>2</td>\n    </tr>\n    <tr>\n      <th>34</th>\n      <td>27</td>\n      <td>03.03.18</td>\n      <td>CET</td>\n      <td>0.0</td>\n      <td>0.0</td>\n      <td>1.0</td>\n      <td>0.0</td>\n      <td>&lt;NA&gt;</td>\n      <td>2</td>\n    </tr>\n    <tr>\n      <th>35</th>\n      <td>27</td>\n      <td>06.02.18</td>\n      <td>CET</td>\n      <td>0.0</td>\n      <td>-1.0</td>\n      <td>1.0</td>\n      <td>1.0</td>\n      <td>&lt;NA&gt;</td>\n      <td>2</td>\n    </tr>\n    <tr>\n      <th>36</th>\n      <td>27</td>\n      <td>09.09.18</td>\n      <td>CEST</td>\n      <td>0.0</td>\n      <td>-1.0</td>\n      <td>1.0</td>\n      <td>1.0</td>\n      <td>&lt;NA&gt;</td>\n      <td>2</td>\n    </tr>\n    <tr>\n      <th>37</th>\n      <td>27</td>\n      <td>13.08.18</td>\n      <td>CEST</td>\n      <td>0.0</td>\n      <td>0.0</td>\n      <td>0.0</td>\n      <td>0.0</td>\n      <td>&lt;NA&gt;</td>\n      <td>2</td>\n    </tr>\n    <tr>\n      <th>38</th>\n      <td>27</td>\n      <td>16.08.18</td>\n      <td>CEST</td>\n      <td>0.0</td>\n      <td>0.0</td>\n      <td>0.0</td>\n      <td>0.0</td>\n      <td>&lt;NA&gt;</td>\n      <td>2</td>\n    </tr>\n    <tr>\n      <th>39</th>\n      <td>27</td>\n      <td>22.08.18</td>\n      <td>CEST</td>\n      <td>0.0</td>\n      <td>-1.0</td>\n      <td>1.0</td>\n      <td>1.0</td>\n      <td>&lt;NA&gt;</td>\n      <td>2</td>\n    </tr>\n    <tr>\n      <th>40</th>\n      <td>27</td>\n      <td>24.02.18</td>\n      <td>CET</td>\n      <td>0.0</td>\n      <td>0.0</td>\n      <td>1.0</td>\n      <td>1.0</td>\n      <td>&lt;NA&gt;</td>\n      <td>2</td>\n    </tr>\n    <tr>\n      <th>41</th>\n      <td>27</td>\n      <td>24.08.18</td>\n      <td>CEST</td>\n      <td>0.0</td>\n      <td>0.0</td>\n      <td>1.0</td>\n      <td>1.0</td>\n      <td>&lt;NA&gt;</td>\n      <td>2</td>\n    </tr>\n    <tr>\n      <th>42</th>\n      <td>27</td>\n      <td>27.02.18</td>\n      <td>CET</td>\n      <td>0.0</td>\n      <td>-1.0</td>\n      <td>1.0</td>\n      <td>0.0</td>\n      <td>&lt;NA&gt;</td>\n      <td>2</td>\n    </tr>\n    <tr>\n      <th>43</th>\n      <td>28</td>\n      <td>16.08.18</td>\n      <td>CEST</td>\n      <td>1.0</td>\n      <td>1.0</td>\n      <td>1.0</td>\n      <td>1.0</td>\n      <td>&lt;NA&gt;</td>\n      <td>2</td>\n    </tr>\n  </tbody>\n</table>\n</div>"
     },
     "execution_count": 59,
     "metadata": {},
     "output_type": "execute_result"
    }
   ],
   "source": [
    "# aggregate questionnaires into SINGLE daily fatigue values\n",
    "# TODO: CHECK VALIDNESS OF AVERAGING\n",
    "query = '''\n",
    "SELECT subjectID, SUBSTRING(Timestamp, 1, 8) AS date, GROUP_CONCAT(DISTINCT timezone) AS timezone, ROUND(AVG(VAS)) AS VAS, ROUND(AVG(ReIP)) AS ReIP, ROUND(AVG(phF)) AS phF, ROUND(AVG(MF)) AS MF, ROUND(AVG(sport)) AS sport, COUNT(*) AS n_answers\n",
    "FROM temp\n",
    "GROUP BY subjectID, date\n",
    "ORDER BY n_answers DESC;\n",
    "'''\n",
    "Y = sqldf(query).fillna(value=pd.NA)\n",
    "\n",
    "# for visualization:\n",
    "query = '''\n",
    "SELECT *\n",
    "FROM Y\n",
    "WHERE n_answers > 1\n",
    "ORDER BY n_answers DESC;\n",
    "'''\n",
    "print('days with multiple questionnaires - averaged to single values:')\n",
    "sqldf(query).fillna(value=pd.NA)"
   ],
   "metadata": {
    "collapsed": false
   }
  },
  {
   "cell_type": "code",
   "execution_count": 60,
   "outputs": [
    {
     "name": "stdout",
     "output_type": "stream",
     "text": [
      "total number of days with fatigue data: 476\n"
     ]
    }
   ],
   "source": [
    "print('total number of days with fatigue data:', Y.shape[0])"
   ],
   "metadata": {
    "collapsed": false
   }
  },
  {
   "cell_type": "markdown",
   "source": [
    "# b) Physiological data"
   ],
   "metadata": {
    "collapsed": false
   }
  },
  {
   "cell_type": "code",
   "execution_count": 48,
   "outputs": [
    {
     "name": "stdout",
     "output_type": "stream",
     "text": [
      "total number of days: 951\n"
     ]
    }
   ],
   "source": [
    "physio = physio.fillna(value=pd.NA) # otherwise SQL will ignore None values\n",
    "\n",
    "# nested dataframe (all physiological data of the same day as lists)\n",
    "query = '''\n",
    "SELECT SubjectID AS subjectID,\n",
    "    SUBSTRING(Timestamp, 1, 8) AS date,\n",
    "    GROUP_CONCAT(IFNULL(ActivityCounts, 'None')) AS ActivityCounts,\n",
    "    GROUP_CONCAT(IFNULL(Barometer, 'None')) AS Barometer,\n",
    "    GROUP_CONCAT(IFNULL(BloodPerfusion, 'None')) AS BloodPerfusion,\n",
    "    GROUP_CONCAT(IFNULL(BloodPulseWave, 'None')) AS BloodPulseWave,\n",
    "    GROUP_CONCAT(IFNULL(EnergyExpenditure, 'None')) AS EnergyExpenditure,\n",
    "    GROUP_CONCAT(IFNULL(GalvanicSkinResponse, 'None')) AS GalvanicSkinResponse,\n",
    "    GROUP_CONCAT(IFNULL(HR, 'None')) AS HR,\n",
    "    GROUP_CONCAT(IFNULL(HRV, 'None')) AS HRV,\n",
    "    GROUP_CONCAT(IFNULL(RESP, 'None')) AS RESP,\n",
    "    GROUP_CONCAT(IFNULL(Steps, 'None')) AS Steps,\n",
    "    GROUP_CONCAT(IFNULL(SkinTemperature, 'None')) AS SkinTemperature,\n",
    "    GROUP_CONCAT(IFNULL(ActivityClass, 'None')) AS ActivityClass\n",
    "FROM physio\n",
    "GROUP BY subjectID, date;'''\n",
    "X = sqldf(query)\n",
    "\n",
    "# nested dataframe (mean of all physiological data of the same day)\n",
    "query = '''\n",
    "SELECT SubjectID AS subjectID,\n",
    "    SUBSTRING(Timestamp, 1, 8) AS date,\n",
    "    AVG(ActivityCounts) AS ActivityCounts,\n",
    "    AVG(Barometer) AS Barometer,\n",
    "    AVG(BloodPerfusion) AS BloodPerfusion,\n",
    "    AVG(BloodPulseWave) AS BloodPulseWave,\n",
    "    AVG(EnergyExpenditure) AS EnergyExpenditure,\n",
    "    AVG(GalvanicSkinResponse) AS GalvanicSkinResponse,\n",
    "    AVG(HR) AS HR,\n",
    "    AVG(HRV) AS HRV,\n",
    "    AVG(RESP) AS RESP,\n",
    "    AVG(Steps) AS Steps,\n",
    "    AVG(SkinTemperature) AS SkinTemperature,\n",
    "    AVG(ActivityClass) AS ActivityClass\n",
    "FROM physio\n",
    "GROUP BY subjectID, date;'''\n",
    "X_mean = sqldf(query)\n",
    "\n",
    "print('total number of days:', X_mean.shape[0])"
   ],
   "metadata": {
    "collapsed": false
   }
  },
  {
   "cell_type": "code",
   "execution_count": 49,
   "outputs": [
    {
     "name": "stdout",
     "output_type": "stream",
     "text": [
      "number of discarded days: 406\n"
     ]
    }
   ],
   "source": [
    "# days without sensory data\n",
    "query = '''\n",
    "SELECT *\n",
    "FROM X_mean\n",
    "WHERE ActivityCounts IS NULL AND Barometer IS NULL AND BloodPerfusion IS NULL AND BloodPulseWave IS NULL AND EnergyExpenditure IS NULL AND GalvanicSkinResponse IS NULL AND HR IS NULL AND HRV IS NULL AND RESP IS NULL AND STEPS IS NULL AND SkinTemperature IS NULL AND ActivityClass IS NULL\n",
    "'''\n",
    "temp = sqldf(query)\n",
    "print('number of discarded days:', temp.shape[0])\n",
    "\n",
    "# discard days without sensory data\n",
    "query = '''\n",
    "SELECT *\n",
    "FROM X\n",
    "\n",
    "EXCEPT\n",
    "\n",
    "SELECT X.subjectID, X.date, X.ActivityCounts, X.Barometer, X.BloodPerfusion,\n",
    "       X.BloodPulseWave, X.EnergyExpenditure, X.GalvanicSkinResponse, X.HR,\n",
    "       X.HRV, X.RESP, X.Steps, X.SkinTemperature, X.ActivityClass\n",
    "FROM X JOIN temp ON X.subjectID = temp.subjectID AND X.date = temp.date;\n",
    "'''\n",
    "X = sqldf(query)\n",
    "\n",
    "# discard days without sensory data\n",
    "query = '''\n",
    "SELECT *\n",
    "FROM X_mean\n",
    "\n",
    "EXCEPT\n",
    "\n",
    "SELECT *\n",
    "FROM temp;\n",
    "'''\n",
    "X_mean = sqldf(query)"
   ],
   "metadata": {
    "collapsed": false
   }
  },
  {
   "cell_type": "code",
   "execution_count": 50,
   "outputs": [
    {
     "name": "stderr",
     "output_type": "stream",
     "text": [
      "C:\\Users\\jjung\\AppData\\Local\\Temp\\ipykernel_23868\\406657635.py:25: SettingWithCopyWarning: \n",
      "A value is trying to be set on a copy of a slice from a DataFrame\n",
      "\n",
      "See the caveats in the documentation: https://pandas.pydata.org/pandas-docs/stable/user_guide/indexing.html#returning-a-view-versus-a-copy\n",
      "  test['deficient'][day] = True\n"
     ]
    },
    {
     "data": {
      "text/plain": "     subjectID      date                                     ActivityCounts  \\\n0           23  01.02.18  0.784313725,0.784313725,0.784313725,0.78431372...   \n1           23  02.01.18  1.568627451,0.784313725,1.568627451,0.78431372...   \n2           23  03.02.18  None,None,None,None,None,None,None,None,None,N...   \n3           23  05.01.18  0.784313725,0.784313725,0.784313725,0.78431372...   \n4           23  05.02.18  0.784313725,0.784313725,0.784313725,0.78431372...   \n..         ...       ...                                                ...   \n135         26  28.01.18  0.784313725,0.784313725,0.784313725,0.78431372...   \n136         26  28.02.18  0.784313725,0.784313725,3.137254902,1.17647058...   \n137         26  29.01.18  0.784313725,0.784313725,0.784313725,0.78431372...   \n138         26  30.01.18  2.745098039,3.921568627,1.568627451,8.62745098...   \n139         26  31.01.18  0.784313725,0.784313725,0.784313725,0.78431372...   \n\n                                             Barometer  \\\n0    975.7,975.7,975.7,975.6,975.7,975.7,975.7,975....   \n1    997.6,997.6,997.7,997.6,997.7,997.7,997.6,997....   \n2    None,None,None,None,None,None,None,None,None,N...   \n3    974.4,974.5,974.5,974.5,974.4,974.5,974.5,974....   \n4    987.6,987.6,988.1,987.8,987.5,987.9,987.7,987....   \n..                                                 ...   \n135  1005.1,1005.0,1005.1,1005.1,1005.05,1005.1,100...   \n136  984.6,984.7,984.5,984.5,984.45,984.4,984.4,984...   \n137  1006.7,1006.7,1006.8,1006.7,1006.8,1006.9,1006...   \n138  1002.55,1002.5,1002.4,1002.5,1002.5,1002.6,100...   \n139  996.0,995.9,995.9,995.9,995.8,995.8,995.9,995....   \n\n                                        BloodPerfusion  \\\n0    0.59,0.57,0.53,0.5,0.55,0.53,0.625,0.66,0.6,0....   \n1    0.775,0.81,0.69,0.38,0.525,0.71,0.75,0.77,0.72...   \n2    None,None,None,None,None,None,None,None,None,N...   \n3    0.46,0.45,0.48,0.56,0.42,0.5,0.68,0.47,0.42,0....   \n4    1.035,1.05,1.11,1.11,1.11,1.13,0.73,0.81,0.78,...   \n..                                                 ...   \n135  0.83,0.82,0.8,0.815,0.84,0.865,0.785,0.77,0.85...   \n136  None,None,0.13,0.13,0.17,0.18,0.19,0.16,0.16,0...   \n137  1.03,1.03,1.05,0.96,1.01,1.02,1.01,1.055,0.945...   \n138  0.5,0.57,0.41,0.44,0.6,0.43,0.745,0.47,0.5,0.4...   \n139  0.46,0.47,0.455,0.28,0.44,0.47,0.45,0.46,0.41,...   \n\n                                        BloodPulseWave  \\\n0    3.3,3.29,3.2,3.02,3.12,3.08,3.0,2.94,2.82,3.02...   \n1    2.72,2.74,2.72,3.0,3.86,4.02,4.08,3.93,3.28,3....   \n2    None,None,None,None,None,None,None,None,None,N...   \n3    2.36,2.38,2.2,2.26,2.72,2.16,2.16,2.9,2.34,2.2...   \n4    2.64,2.73,2.52,2.72,2.68,2.6,2.74,2.92,2.5,2.4...   \n..                                                 ...   \n135  1.96,2.0,1.94,2.04,1.88,1.92,1.98,1.92,1.8,1.8...   \n136  None,None,2.38,1.75,2.32,2.18,2.74,2.12,2.46,2...   \n137  1.86,1.84,1.92,1.87,1.88,1.85,1.9,1.88,1.76,1....   \n138  2.24,2.06,2.02,2.16,3.18,0.0,2.2,2.13,3.83,4.4...   \n139  2.56,2.26,2.81,2.77,2.3,2.44,2.62,2.43,2.46,2....   \n\n                                     EnergyExpenditure  \\\n0    960.0,960.0,960.0,960.0,960.0,960.0,960.0,960....   \n1    960.0,942.0,720.0,1222.0,1097.0,960.0,960.0,96...   \n2    None,None,None,None,None,None,None,None,None,N...   \n3    960.0,960.0,960.0,960.0,960.0,960.0,960.0,960....   \n4    960.0,960.0,960.0,960.0,960.0,960.0,960.0,960....   \n..                                                 ...   \n135  960.0,960.0,960.0,960.0,960.0,960.0,960.0,960....   \n136  2491.141706,1328.89823,2093.385481,1202.641182...   \n137  960.0,960.0,960.0,960.0,960.0,960.0,960.0,960....   \n138  1622.0,699.0,701.0,928.0,2029.0,2445.0,3087.0,...   \n139  1444.0,1239.0,1378.0,1615.0,1138.0,960.0,960.0...   \n\n                                  GalvanicSkinResponse  \\\n0    1.61975,1.613955556,1.611683333,1.610822222,1....   \n1    2.516494444,2.502794444,2.490383333,2.47836666...   \n2    None,None,None,None,None,None,None,None,None,N...   \n3    2.9455,2.932344444,2.921,2.908911111,2.8994888...   \n4    1.356244444,1.354044444,1.350255556,1.34818333...   \n..                                                 ...   \n135  2.234005556,2.219355556,2.205,2.191105556,2.17...   \n136  None,None,None,None,None,None,None,None,None,N...   \n137  3.820805556,3.758555556,3.720144444,3.67541666...   \n138  3.623661111,3.5611,3.5041,3.445161111,3.421588...   \n139  0.326038889,0.329283333,0.330405556,0.33028333...   \n\n                                                    HR  \\\n0    51.10281304,51.60327148,51.56562889,51.9514778...   \n1    61.88211485,62.59777898,65.09791196,75.9731398...   \n2    None,None,None,None,None,None,None,None,None,N...   \n3    56.21378955,57.09264458,57.23455132,59.6960025...   \n4    53.2735217,54.47929665,52.15482646,54.2955102,...   \n..                                                 ...   \n135  48.83667906,47.7383781,47.32818044,47.8381026,...   \n136  None,None,57.1987234,61.52075722,60.35287641,7...   \n137  49.76529338,49.72980719,49.35934664,49.1355028...   \n138  64.30637161,65.34692308,66.74287944,73.9073359...   \n139  84.10383889,79.8856147,83.60469604,87.71433424...   \n\n                                                   HRV  \\\n0    41.36766153,37.5,35.03333333,34.0,33.9829303,3...   \n1    33.52402402,33.06666667,36.07876414,51.95,61.1...   \n2    None,None,None,None,None,None,None,None,None,N...   \n3    58.33333333,62.0,66.88333333,69.05,70.55,71.78...   \n4    81.28333333,85.85,88.26666667,84.2,78.66666667...   \n..                                                 ...   \n135  58.88333333,53.99946121,58.21666667,64.9833333...   \n136  None,None,None,None,58.40909091,56.71666667,57...   \n137  71.60175055,74.18333333,73.36666667,70.5715166...   \n138  50.43333333,50.01666667,49.75,50.0,52.23333333...   \n139  38.3,40.46666667,43.46666667,42.68333333,38.93...   \n\n                                                  RESP  \\\n0    19.2822605,19.39399806,18.77951729,17.05347061...   \n1    13.87857143,13.74596376,13.34796023,14.1985670...   \n2    None,None,None,None,None,None,None,None,None,N...   \n3    16.94489247,15.44487179,15.68073136,16.0732273...   \n4    12.19585879,16.11118465,17.70704321,18.7811643...   \n..                                                 ...   \n135  15.9505279,15.18362968,16.39126533,15.22462831...   \n136  None,None,11.56316591,17.0158046,16.86451144,1...   \n137  15.05574324,16.13167035,15.90028763,15.5412667...   \n138  14.48012663,15.03758889,14.28263254,16.8743052...   \n139  17.57137955,16.97480756,14.34302759,17.8537281...   \n\n                                                 Steps  \\\n0    0.0,0.0,0.0,0.0,0.0,0.0,0.0,0.0,0.0,0.0,0.0,0....   \n1    0.0,0.0,0.0,0.0,0.0,0.0,0.0,0.0,0.0,0.0,0.0,0....   \n2    None,None,None,None,None,None,None,None,None,N...   \n3    0.0,0.0,0.0,0.0,0.0,0.0,0.0,0.0,0.0,0.0,0.0,0....   \n4    0.0,0.0,0.0,0.0,0.0,0.0,0.0,0.0,0.0,0.0,0.0,0....   \n..                                                 ...   \n135  0.0,0.0,0.0,0.0,0.0,0.0,0.0,0.0,0.0,0.0,0.0,0....   \n136  0.0,0.0,0.0,0.0,0.0,17.0,0.0,0.0,0.0,0.0,12.0,...   \n137  0.0,0.0,0.0,0.0,0.0,0.0,0.0,0.0,0.0,0.0,0.0,0....   \n138  0.0,0.0,0.0,0.0,23.0,21.0,11.0,54.0,116.0,114....   \n139  0.0,0.0,0.0,0.0,0.0,0.0,0.0,0.0,0.0,0.0,0.0,0....   \n\n                                       SkinTemperature  \\\n0    36.16,36.22,36.25,36.28,36.28,36.31,36.38,36.4...   \n1    34.19,34.28,34.34,34.34,34.13,34.13,34.09,34.3...   \n2    None,None,None,None,None,None,None,None,None,N...   \n3    34.19,34.19,34.22,34.25,34.25,34.0,33.91,33.81...   \n4    36.56,36.59,36.63,36.66,36.69,36.75,36.75,36.8...   \n..                                                 ...   \n135  36.28,36.28,36.325,36.38,36.41,36.455,36.5,36....   \n136  32.47,32.19,31.84,32.16,32.25,32.34,32.47,32.4...   \n137  36.25,36.28,36.31,36.34,36.41,36.44,36.47,36.5...   \n138  34.09,34.13,33.94,33.91,33.94,33.91,33.88,33.8...   \n139  35.66,35.63,35.63,35.66,35.81,35.81,35.81,35.8...   \n\n                                         ActivityClass  \n0    1.0,1.0,1.0,1.0,1.0,1.0,1.0,1.0,1.0,1.0,1.0,1....  \n1    1.0,1.0,9.0,None,1.0,1.0,1.0,1.0,1.0,1.0,1.0,1...  \n2    None,None,None,None,None,None,None,None,None,N...  \n3    1.0,1.0,1.0,1.0,1.0,1.0,1.0,1.0,1.0,1.0,1.0,1....  \n4    1.0,1.0,1.0,1.0,1.0,1.0,1.0,1.0,1.0,1.0,1.0,1....  \n..                                                 ...  \n135  1.0,1.0,1.0,1.0,1.0,1.0,1.0,1.0,1.0,1.0,1.0,1....  \n136  1.0,1.0,9.0,9.0,1.0,1.0,12.0,None,9.0,9.0,None...  \n137  1.0,1.0,1.0,1.0,1.0,1.0,1.0,1.0,1.0,1.0,1.0,1....  \n138  10.0,9.0,9.0,9.0,12.0,12.0,11.0,12.0,11.0,11.0...  \n139  9.0,9.0,9.0,9.0,9.0,1.0,1.0,1.0,1.0,1.0,1.0,1....  \n\n[140 rows x 14 columns]",
      "text/html": "<div>\n<style scoped>\n    .dataframe tbody tr th:only-of-type {\n        vertical-align: middle;\n    }\n\n    .dataframe tbody tr th {\n        vertical-align: top;\n    }\n\n    .dataframe thead th {\n        text-align: right;\n    }\n</style>\n<table border=\"1\" class=\"dataframe\">\n  <thead>\n    <tr style=\"text-align: right;\">\n      <th></th>\n      <th>subjectID</th>\n      <th>date</th>\n      <th>ActivityCounts</th>\n      <th>Barometer</th>\n      <th>BloodPerfusion</th>\n      <th>BloodPulseWave</th>\n      <th>EnergyExpenditure</th>\n      <th>GalvanicSkinResponse</th>\n      <th>HR</th>\n      <th>HRV</th>\n      <th>RESP</th>\n      <th>Steps</th>\n      <th>SkinTemperature</th>\n      <th>ActivityClass</th>\n    </tr>\n  </thead>\n  <tbody>\n    <tr>\n      <th>0</th>\n      <td>23</td>\n      <td>01.02.18</td>\n      <td>0.784313725,0.784313725,0.784313725,0.78431372...</td>\n      <td>975.7,975.7,975.7,975.6,975.7,975.7,975.7,975....</td>\n      <td>0.59,0.57,0.53,0.5,0.55,0.53,0.625,0.66,0.6,0....</td>\n      <td>3.3,3.29,3.2,3.02,3.12,3.08,3.0,2.94,2.82,3.02...</td>\n      <td>960.0,960.0,960.0,960.0,960.0,960.0,960.0,960....</td>\n      <td>1.61975,1.613955556,1.611683333,1.610822222,1....</td>\n      <td>51.10281304,51.60327148,51.56562889,51.9514778...</td>\n      <td>41.36766153,37.5,35.03333333,34.0,33.9829303,3...</td>\n      <td>19.2822605,19.39399806,18.77951729,17.05347061...</td>\n      <td>0.0,0.0,0.0,0.0,0.0,0.0,0.0,0.0,0.0,0.0,0.0,0....</td>\n      <td>36.16,36.22,36.25,36.28,36.28,36.31,36.38,36.4...</td>\n      <td>1.0,1.0,1.0,1.0,1.0,1.0,1.0,1.0,1.0,1.0,1.0,1....</td>\n    </tr>\n    <tr>\n      <th>1</th>\n      <td>23</td>\n      <td>02.01.18</td>\n      <td>1.568627451,0.784313725,1.568627451,0.78431372...</td>\n      <td>997.6,997.6,997.7,997.6,997.7,997.7,997.6,997....</td>\n      <td>0.775,0.81,0.69,0.38,0.525,0.71,0.75,0.77,0.72...</td>\n      <td>2.72,2.74,2.72,3.0,3.86,4.02,4.08,3.93,3.28,3....</td>\n      <td>960.0,942.0,720.0,1222.0,1097.0,960.0,960.0,96...</td>\n      <td>2.516494444,2.502794444,2.490383333,2.47836666...</td>\n      <td>61.88211485,62.59777898,65.09791196,75.9731398...</td>\n      <td>33.52402402,33.06666667,36.07876414,51.95,61.1...</td>\n      <td>13.87857143,13.74596376,13.34796023,14.1985670...</td>\n      <td>0.0,0.0,0.0,0.0,0.0,0.0,0.0,0.0,0.0,0.0,0.0,0....</td>\n      <td>34.19,34.28,34.34,34.34,34.13,34.13,34.09,34.3...</td>\n      <td>1.0,1.0,9.0,None,1.0,1.0,1.0,1.0,1.0,1.0,1.0,1...</td>\n    </tr>\n    <tr>\n      <th>2</th>\n      <td>23</td>\n      <td>03.02.18</td>\n      <td>None,None,None,None,None,None,None,None,None,N...</td>\n      <td>None,None,None,None,None,None,None,None,None,N...</td>\n      <td>None,None,None,None,None,None,None,None,None,N...</td>\n      <td>None,None,None,None,None,None,None,None,None,N...</td>\n      <td>None,None,None,None,None,None,None,None,None,N...</td>\n      <td>None,None,None,None,None,None,None,None,None,N...</td>\n      <td>None,None,None,None,None,None,None,None,None,N...</td>\n      <td>None,None,None,None,None,None,None,None,None,N...</td>\n      <td>None,None,None,None,None,None,None,None,None,N...</td>\n      <td>None,None,None,None,None,None,None,None,None,N...</td>\n      <td>None,None,None,None,None,None,None,None,None,N...</td>\n      <td>None,None,None,None,None,None,None,None,None,N...</td>\n    </tr>\n    <tr>\n      <th>3</th>\n      <td>23</td>\n      <td>05.01.18</td>\n      <td>0.784313725,0.784313725,0.784313725,0.78431372...</td>\n      <td>974.4,974.5,974.5,974.5,974.4,974.5,974.5,974....</td>\n      <td>0.46,0.45,0.48,0.56,0.42,0.5,0.68,0.47,0.42,0....</td>\n      <td>2.36,2.38,2.2,2.26,2.72,2.16,2.16,2.9,2.34,2.2...</td>\n      <td>960.0,960.0,960.0,960.0,960.0,960.0,960.0,960....</td>\n      <td>2.9455,2.932344444,2.921,2.908911111,2.8994888...</td>\n      <td>56.21378955,57.09264458,57.23455132,59.6960025...</td>\n      <td>58.33333333,62.0,66.88333333,69.05,70.55,71.78...</td>\n      <td>16.94489247,15.44487179,15.68073136,16.0732273...</td>\n      <td>0.0,0.0,0.0,0.0,0.0,0.0,0.0,0.0,0.0,0.0,0.0,0....</td>\n      <td>34.19,34.19,34.22,34.25,34.25,34.0,33.91,33.81...</td>\n      <td>1.0,1.0,1.0,1.0,1.0,1.0,1.0,1.0,1.0,1.0,1.0,1....</td>\n    </tr>\n    <tr>\n      <th>4</th>\n      <td>23</td>\n      <td>05.02.18</td>\n      <td>0.784313725,0.784313725,0.784313725,0.78431372...</td>\n      <td>987.6,987.6,988.1,987.8,987.5,987.9,987.7,987....</td>\n      <td>1.035,1.05,1.11,1.11,1.11,1.13,0.73,0.81,0.78,...</td>\n      <td>2.64,2.73,2.52,2.72,2.68,2.6,2.74,2.92,2.5,2.4...</td>\n      <td>960.0,960.0,960.0,960.0,960.0,960.0,960.0,960....</td>\n      <td>1.356244444,1.354044444,1.350255556,1.34818333...</td>\n      <td>53.2735217,54.47929665,52.15482646,54.2955102,...</td>\n      <td>81.28333333,85.85,88.26666667,84.2,78.66666667...</td>\n      <td>12.19585879,16.11118465,17.70704321,18.7811643...</td>\n      <td>0.0,0.0,0.0,0.0,0.0,0.0,0.0,0.0,0.0,0.0,0.0,0....</td>\n      <td>36.56,36.59,36.63,36.66,36.69,36.75,36.75,36.8...</td>\n      <td>1.0,1.0,1.0,1.0,1.0,1.0,1.0,1.0,1.0,1.0,1.0,1....</td>\n    </tr>\n    <tr>\n      <th>...</th>\n      <td>...</td>\n      <td>...</td>\n      <td>...</td>\n      <td>...</td>\n      <td>...</td>\n      <td>...</td>\n      <td>...</td>\n      <td>...</td>\n      <td>...</td>\n      <td>...</td>\n      <td>...</td>\n      <td>...</td>\n      <td>...</td>\n      <td>...</td>\n    </tr>\n    <tr>\n      <th>135</th>\n      <td>26</td>\n      <td>28.01.18</td>\n      <td>0.784313725,0.784313725,0.784313725,0.78431372...</td>\n      <td>1005.1,1005.0,1005.1,1005.1,1005.05,1005.1,100...</td>\n      <td>0.83,0.82,0.8,0.815,0.84,0.865,0.785,0.77,0.85...</td>\n      <td>1.96,2.0,1.94,2.04,1.88,1.92,1.98,1.92,1.8,1.8...</td>\n      <td>960.0,960.0,960.0,960.0,960.0,960.0,960.0,960....</td>\n      <td>2.234005556,2.219355556,2.205,2.191105556,2.17...</td>\n      <td>48.83667906,47.7383781,47.32818044,47.8381026,...</td>\n      <td>58.88333333,53.99946121,58.21666667,64.9833333...</td>\n      <td>15.9505279,15.18362968,16.39126533,15.22462831...</td>\n      <td>0.0,0.0,0.0,0.0,0.0,0.0,0.0,0.0,0.0,0.0,0.0,0....</td>\n      <td>36.28,36.28,36.325,36.38,36.41,36.455,36.5,36....</td>\n      <td>1.0,1.0,1.0,1.0,1.0,1.0,1.0,1.0,1.0,1.0,1.0,1....</td>\n    </tr>\n    <tr>\n      <th>136</th>\n      <td>26</td>\n      <td>28.02.18</td>\n      <td>0.784313725,0.784313725,3.137254902,1.17647058...</td>\n      <td>984.6,984.7,984.5,984.5,984.45,984.4,984.4,984...</td>\n      <td>None,None,0.13,0.13,0.17,0.18,0.19,0.16,0.16,0...</td>\n      <td>None,None,2.38,1.75,2.32,2.18,2.74,2.12,2.46,2...</td>\n      <td>2491.141706,1328.89823,2093.385481,1202.641182...</td>\n      <td>None,None,None,None,None,None,None,None,None,N...</td>\n      <td>None,None,57.1987234,61.52075722,60.35287641,7...</td>\n      <td>None,None,None,None,58.40909091,56.71666667,57...</td>\n      <td>None,None,11.56316591,17.0158046,16.86451144,1...</td>\n      <td>0.0,0.0,0.0,0.0,0.0,17.0,0.0,0.0,0.0,0.0,12.0,...</td>\n      <td>32.47,32.19,31.84,32.16,32.25,32.34,32.47,32.4...</td>\n      <td>1.0,1.0,9.0,9.0,1.0,1.0,12.0,None,9.0,9.0,None...</td>\n    </tr>\n    <tr>\n      <th>137</th>\n      <td>26</td>\n      <td>29.01.18</td>\n      <td>0.784313725,0.784313725,0.784313725,0.78431372...</td>\n      <td>1006.7,1006.7,1006.8,1006.7,1006.8,1006.9,1006...</td>\n      <td>1.03,1.03,1.05,0.96,1.01,1.02,1.01,1.055,0.945...</td>\n      <td>1.86,1.84,1.92,1.87,1.88,1.85,1.9,1.88,1.76,1....</td>\n      <td>960.0,960.0,960.0,960.0,960.0,960.0,960.0,960....</td>\n      <td>3.820805556,3.758555556,3.720144444,3.67541666...</td>\n      <td>49.76529338,49.72980719,49.35934664,49.1355028...</td>\n      <td>71.60175055,74.18333333,73.36666667,70.5715166...</td>\n      <td>15.05574324,16.13167035,15.90028763,15.5412667...</td>\n      <td>0.0,0.0,0.0,0.0,0.0,0.0,0.0,0.0,0.0,0.0,0.0,0....</td>\n      <td>36.25,36.28,36.31,36.34,36.41,36.44,36.47,36.5...</td>\n      <td>1.0,1.0,1.0,1.0,1.0,1.0,1.0,1.0,1.0,1.0,1.0,1....</td>\n    </tr>\n    <tr>\n      <th>138</th>\n      <td>26</td>\n      <td>30.01.18</td>\n      <td>2.745098039,3.921568627,1.568627451,8.62745098...</td>\n      <td>1002.55,1002.5,1002.4,1002.5,1002.5,1002.6,100...</td>\n      <td>0.5,0.57,0.41,0.44,0.6,0.43,0.745,0.47,0.5,0.4...</td>\n      <td>2.24,2.06,2.02,2.16,3.18,0.0,2.2,2.13,3.83,4.4...</td>\n      <td>1622.0,699.0,701.0,928.0,2029.0,2445.0,3087.0,...</td>\n      <td>3.623661111,3.5611,3.5041,3.445161111,3.421588...</td>\n      <td>64.30637161,65.34692308,66.74287944,73.9073359...</td>\n      <td>50.43333333,50.01666667,49.75,50.0,52.23333333...</td>\n      <td>14.48012663,15.03758889,14.28263254,16.8743052...</td>\n      <td>0.0,0.0,0.0,0.0,23.0,21.0,11.0,54.0,116.0,114....</td>\n      <td>34.09,34.13,33.94,33.91,33.94,33.91,33.88,33.8...</td>\n      <td>10.0,9.0,9.0,9.0,12.0,12.0,11.0,12.0,11.0,11.0...</td>\n    </tr>\n    <tr>\n      <th>139</th>\n      <td>26</td>\n      <td>31.01.18</td>\n      <td>0.784313725,0.784313725,0.784313725,0.78431372...</td>\n      <td>996.0,995.9,995.9,995.9,995.8,995.8,995.9,995....</td>\n      <td>0.46,0.47,0.455,0.28,0.44,0.47,0.45,0.46,0.41,...</td>\n      <td>2.56,2.26,2.81,2.77,2.3,2.44,2.62,2.43,2.46,2....</td>\n      <td>1444.0,1239.0,1378.0,1615.0,1138.0,960.0,960.0...</td>\n      <td>0.326038889,0.329283333,0.330405556,0.33028333...</td>\n      <td>84.10383889,79.8856147,83.60469604,87.71433424...</td>\n      <td>38.3,40.46666667,43.46666667,42.68333333,38.93...</td>\n      <td>17.57137955,16.97480756,14.34302759,17.8537281...</td>\n      <td>0.0,0.0,0.0,0.0,0.0,0.0,0.0,0.0,0.0,0.0,0.0,0....</td>\n      <td>35.66,35.63,35.63,35.66,35.81,35.81,35.81,35.8...</td>\n      <td>9.0,9.0,9.0,9.0,9.0,1.0,1.0,1.0,1.0,1.0,1.0,1....</td>\n    </tr>\n  </tbody>\n</table>\n<p>140 rows × 14 columns</p>\n</div>"
     },
     "execution_count": 50,
     "metadata": {},
     "output_type": "execute_result"
    }
   ],
   "source": [
    "# exclude days with >80% of data missing\n",
    "\n",
    "test = X.copy()\n",
    "import numpy as np\n",
    "\n",
    "\n",
    "\n",
    "THRESHOLD = 0.8\n",
    "n_days, n_cols = test.shape\n",
    "variables = ['ActivityCounts', 'Barometer', 'BloodPerfusion',\n",
    "             'BloodPulseWave', 'EnergyExpenditure', 'GalvanicSkinResponse', 'HR',\n",
    "             'HRV', 'RESP', 'Steps', 'SkinTemperature', 'ActivityClass']\n",
    "\n",
    "# flag deficient rows\n",
    "test.insert(n_cols, \"deficient\", [False for i in range(n_days)], True)\n",
    "for day in range(n_days):\n",
    "    for variable in variables:\n",
    "        time_series = np.array([value if value != 'None' else None for value in test[variable][day].split(',')], dtype=float)\n",
    "\n",
    "        '''missing_data = np.mean(np.where(np.isnan(time_series), 1.0, 0.0))\n",
    "        if missing_data > THRESHOLD:\n",
    "            test['deficient'][day] = True'''\n",
    "        data_length = np.sum(np.where(np.isnan(time_series), 0.0, 1.0))\n",
    "        if data_length < THRESHOLD * 24 * 60:\n",
    "            test['deficient'][day] = True\n",
    "        #test[variable][day] = data_length\n",
    "\n",
    "# remove deficient rows\n",
    "query = '''\n",
    "SELECT *\n",
    "FROM test\n",
    "WHERE deficient = 0;'''\n",
    "test = sqldf(query)\n",
    "test = test.drop(columns=['deficient']) # deficiency column is no longer required\n",
    "X = test\n",
    "test"
   ],
   "metadata": {
    "collapsed": false,
    "pycharm": {
     "name": "#%%\n"
    }
   }
  },
  {
   "cell_type": "code",
   "execution_count": 51,
   "outputs": [
    {
     "name": "stdout",
     "output_type": "stream",
     "text": [
      "total number of days with physiological data: 140\n"
     ]
    }
   ],
   "source": [
    "print('total number of days with physiological data:', X.shape[0])"
   ],
   "metadata": {
    "collapsed": false
   }
  },
  {
   "cell_type": "markdown",
   "source": [
    "# Join data"
   ],
   "metadata": {
    "collapsed": false
   }
  },
  {
   "cell_type": "markdown",
   "source": [
    "# a) unnested data (one row <=> one physiological measurement)"
   ],
   "metadata": {
    "collapsed": false
   }
  },
  {
   "cell_type": "code",
   "execution_count": 93,
   "outputs": [
    {
     "name": "stdout",
     "output_type": "stream",
     "text": [
      "number of discarded physiological measurements with no corresp. fatigue value: 708404\n"
     ]
    }
   ],
   "source": [
    "query = '''\n",
    "SELECT SubjectID AS subjectID,\n",
    "    SUBSTRING(Timestamp, 1, 8) AS date,\n",
    "    SUBSTRING(Timestamp, 10, LENGTH(Timestamp)) AS time,\n",
    "    ActivityCounts,\n",
    "    Barometer,\n",
    "    BloodPerfusion,\n",
    "    BloodPulseWave,\n",
    "    EnergyExpenditure,\n",
    "    GalvanicSkinResponse,\n",
    "    HR,\n",
    "    HRV,\n",
    "    RESP,\n",
    "    Steps,\n",
    "    SkinTemperature,\n",
    "    ActivityClass\n",
    "FROM physio;\n",
    "'''\n",
    "temp = sqldf(query).fillna(value=pd.NA)\n",
    "\n",
    "query = '''\n",
    "SELECT Y.subjectID,\n",
    "    Y.date,\n",
    "    temp.time,\n",
    "    temp.ActivityCounts,\n",
    "    temp.Barometer,\n",
    "    temp.BloodPerfusion,\n",
    "    temp.BloodPulseWave,\n",
    "    temp.EnergyExpenditure,\n",
    "    temp.GalvanicSkinResponse,\n",
    "    temp.HR,\n",
    "    temp.HRV,\n",
    "    temp.RESP,\n",
    "    temp.Steps,\n",
    "    temp.SkinTemperature,\n",
    "    temp.ActivityClass,\n",
    "    y.timezone,\n",
    "    y.VAS,\n",
    "    y.phF,\n",
    "    y.MF,\n",
    "    y.ReIP,\n",
    "    y.sport,\n",
    "    y.n_answers\n",
    "FROM temp JOIN Y ON temp.subjectID = Y.subjectID AND temp.date = Y.date;'''\n",
    "data_unnested = sqldf(query)\n",
    "\n",
    "print('number of discarded physiological measurements with no corresp. fatigue value:', temp.shape[0] - data_unnested.shape[0])"
   ],
   "metadata": {
    "collapsed": false
   }
  },
  {
   "cell_type": "code",
   "execution_count": 94,
   "outputs": [
    {
     "name": "stdout",
     "output_type": "stream",
     "text": [
      "total number of physiological measurements with corresp. fatigue value: 617277\n"
     ]
    }
   ],
   "source": [
    "print('total number of physiological measurements with corresp. fatigue value:', data_unnested.shape[0])"
   ],
   "metadata": {
    "collapsed": false
   }
  },
  {
   "cell_type": "markdown",
   "source": [
    "# b) nested data (one row <=> one day of physiological measurements)"
   ],
   "metadata": {
    "collapsed": false
   }
  },
  {
   "cell_type": "code",
   "execution_count": 61,
   "outputs": [
    {
     "name": "stdout",
     "output_type": "stream",
     "text": [
      "number of discarded days with questionnaires but no physiological measurements: 365\n"
     ]
    }
   ],
   "source": [
    "query = '''\n",
    "SELECT Y.subjectID, Y.date, X.ActivityCounts, X.Barometer, X.BloodPerfusion, X.BloodPulseWave, X.EnergyExpenditure, X.GalvanicSkinResponse, X.HR, X.HRV, X.RESP, X.Steps, X.SkinTemperature, X.ActivityClass, y.timezone, y.VAS, y.phF, y.MF, y.ReIP, y.sport, y.n_answers\n",
    "FROM X JOIN Y ON X.subjectID = Y.subjectID AND X.date = Y.date;'''\n",
    "data = sqldf(query)\n",
    "\n",
    "print('number of discarded days with questionnaires but no physiological measurements:', Y.shape[0] - data.shape[0])"
   ],
   "metadata": {
    "collapsed": false
   }
  },
  {
   "cell_type": "code",
   "execution_count": 62,
   "outputs": [
    {
     "name": "stdout",
     "output_type": "stream",
     "text": [
      "total number of days with physiological measurements + corresp. fatigue values: 111\n"
     ]
    }
   ],
   "source": [
    "print('total number of days with physiological measurements + corresp. fatigue values:', data.shape[0])"
   ],
   "metadata": {
    "collapsed": false
   }
  },
  {
   "cell_type": "markdown",
   "source": [
    "# c) nested data (one row <=> one day with mean of physiological measurements)"
   ],
   "metadata": {
    "collapsed": false
   }
  },
  {
   "cell_type": "code",
   "execution_count": 97,
   "outputs": [
    {
     "name": "stdout",
     "output_type": "stream",
     "text": [
      "number of discarded days with questionnaires but no physiological measurements: 66\n"
     ]
    }
   ],
   "source": [
    "query = '''\n",
    "SELECT Y.subjectID, Y.date, X_mean.ActivityCounts, X_mean.Barometer, X_mean.BloodPerfusion, X_mean.BloodPulseWave, X_mean.EnergyExpenditure, X_mean.GalvanicSkinResponse, X_mean.HR, X_mean.HRV, X_mean.RESP, X_mean.Steps, X_mean.SkinTemperature, X_mean.ActivityClass, y.timezone, y.VAS, y.phF, y.MF, y.ReIP, y.sport, y.n_answers\n",
    "FROM X_mean JOIN Y ON X_mean.subjectID = Y.subjectID AND X_mean.date = Y.date;'''\n",
    "data_mean = sqldf(query)\n",
    "\n",
    "print('number of discarded days with questionnaires but no physiological measurements:', Y.shape[0] - data_mean.shape[0])"
   ],
   "metadata": {
    "collapsed": false
   }
  },
  {
   "cell_type": "code",
   "execution_count": 98,
   "outputs": [
    {
     "name": "stdout",
     "output_type": "stream",
     "text": [
      "total number of days with physiological measurements + corresp. fatigue values: 410\n"
     ]
    }
   ],
   "source": [
    "print('total number of days with physiological measurements + corresp. fatigue values:', data_mean.shape[0])"
   ],
   "metadata": {
    "collapsed": false
   }
  },
  {
   "cell_type": "markdown",
   "source": [
    "# Export data"
   ],
   "metadata": {
    "collapsed": false
   }
  },
  {
   "cell_type": "code",
   "execution_count": 99,
   "outputs": [],
   "source": [
    "output_path = '/'.join(path.split('/')[:-1]) + '/Output'"
   ],
   "metadata": {
    "collapsed": false
   }
  },
  {
   "cell_type": "code",
   "execution_count": 100,
   "outputs": [],
   "source": [
    "data_unnested.to_csv(output_path + '/combined_data_unnested.csv')"
   ],
   "metadata": {
    "collapsed": false
   }
  },
  {
   "cell_type": "code",
   "execution_count": 101,
   "outputs": [],
   "source": [
    "data.to_csv(output_path + '/combined_data.csv')"
   ],
   "metadata": {
    "collapsed": false
   }
  },
  {
   "cell_type": "code",
   "execution_count": 102,
   "outputs": [],
   "source": [
    " data_mean.to_csv(output_path + '/combined_data_mean.csv')"
   ],
   "metadata": {
    "collapsed": false,
    "pycharm": {
     "name": "#%%\n"
    }
   }
  }
 ],
 "metadata": {
  "kernelspec": {
   "display_name": "Python 3",
   "language": "python",
   "name": "python3"
  },
  "language_info": {
   "codemirror_mode": {
    "name": "ipython",
    "version": 2
   },
   "file_extension": ".py",
   "mimetype": "text/x-python",
   "name": "python",
   "nbconvert_exporter": "python",
   "pygments_lexer": "ipython2",
   "version": "2.7.6"
  }
 },
 "nbformat": 4,
 "nbformat_minor": 0
}