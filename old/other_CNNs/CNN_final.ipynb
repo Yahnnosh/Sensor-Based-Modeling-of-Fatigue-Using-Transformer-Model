{
 "cells": [
  {
   "cell_type": "code",
   "execution_count": 29,
   "metadata": {},
   "outputs": [],
   "source": [
    "import numpy as np\n",
    "import json\n",
    "import warnings\n",
    "\n",
    "import pandas as pd\n",
    "import tensorflow as tf\n",
    "from tensorflow.keras import models, Model\n",
    "from tensorflow.keras.applications import MobileNetV2\n",
    "from tensorflow.keras.layers import Dense, Conv2D, Flatten, MaxPool2D, BatchNormalization, Dropout, Input, Concatenate, GlobalAvgPool2D\n",
    "from tensorflow.keras.optimizers import Adam\n",
    "from tensorflow.keras.utils import Sequence\n",
    "#from tensorflow.keras.callbacks import ReduceLROnPlateau\n",
    "import json\n",
    "from evaluator import *"
   ]
  },
  {
   "cell_type": "code",
   "execution_count": 30,
   "outputs": [],
   "source": [
    "VARIABLES = ['ActivityCounts', 'Barometer', 'BloodPerfusion',\n",
    "             'BloodPulseWave', 'EnergyExpenditure', 'GalvanicSkinResponse', 'HR',\n",
    "             'HRV', 'RESP', 'Steps', 'SkinTemperature', 'ActivityClass']"
   ],
   "metadata": {
    "collapsed": false
   }
  },
  {
   "cell_type": "code",
   "execution_count": 31,
   "outputs": [],
   "source": [
    "GRAYSCALE = False # grayscale or rgb # TODO: currently not working (MobileNetV2 does not support grayscale)\n",
    "TRANSFORMER_IMPUTATION = True # whether to use transformer imputation or linear interpolation\n",
    "FULL_TRANSFORMER_IMPUTATION = False # whether to use FULL transformer imputation or linear interpolation\n",
    "BACKGROUND_FEATURES = False"
   ],
   "metadata": {
    "collapsed": false
   }
  },
  {
   "cell_type": "markdown",
   "source": [
    "# Import data"
   ],
   "metadata": {
    "collapsed": false
   }
  },
  {
   "cell_type": "code",
   "execution_count": 33,
   "outputs": [
    {
     "data": {
      "text/plain": "'./Output/transformer_imputation'"
     },
     "execution_count": 33,
     "metadata": {},
     "output_type": "execute_result"
    }
   ],
   "source": [
    "# file path to data folder\n",
    "path = './Output' if not TRANSFORMER_IMPUTATION else './Output/transformer_imputation'\n",
    "path = './Output/full_transformer_imputation' if FULL_TRANSFORMER_IMPUTATION else path\n",
    "path"
   ],
   "metadata": {
    "collapsed": false
   }
  },
  {
   "cell_type": "code",
   "execution_count": 34,
   "outputs": [
    {
     "name": "stdout",
     "output_type": "stream",
     "text": [
      "613 370 497 30\n"
     ]
    }
   ],
   "source": [
    "# dimensions\n",
    "N, HEIGHT, WIDTH, CHANNELS = sum([1 for p in os.listdir(path) if (p[:14] == 'feature_vector' and p[:19] != 'feature_vector_stat')]), \\\n",
    "                             *np.load(path + '/feature_vector0.npy').shape\n",
    "CHANNELS = len(VARIABLES) if GRAYSCALE else CHANNELS # reduce channels for grayscale\n",
    "\n",
    "print(N, HEIGHT, WIDTH, CHANNELS)"
   ],
   "metadata": {
    "collapsed": false
   }
  },
  {
   "cell_type": "markdown",
   "source": [
    "Metadata (subjectID etc.)"
   ],
   "metadata": {
    "collapsed": false
   }
  },
  {
   "cell_type": "code",
   "execution_count": 35,
   "outputs": [],
   "source": [
    "with open(path + '/metadata.txt') as f:\n",
    "    metadata = f.read()\n",
    "\n",
    "metadata = json.loads(metadata.replace('\\'', '\\\"').replace('False', 'false').replace('True', 'true')) # doesn't accept other chars"
   ],
   "metadata": {
    "collapsed": false
   }
  },
  {
   "cell_type": "code",
   "execution_count": 36,
   "outputs": [],
   "source": [
    "subjects = [meta['subjectID'] for meta in metadata]"
   ],
   "metadata": {
    "collapsed": false
   }
  },
  {
   "cell_type": "code",
   "execution_count": 37,
   "outputs": [],
   "source": [
    "# age: 26-35: [0, 0], 36-45: [0, 1], 46-55: [1, 0] (subject 22: unknown -> randomly assigned)\n",
    "age_ranges = [np.array([0, 0]), np.array([0, 1]), np.array([1, 0])]\n",
    "age = {1: age_ranges[1],\n",
    "       2: age_ranges[1],\n",
    "       3: age_ranges[1],\n",
    "       4: age_ranges[1],\n",
    "       5: age_ranges[1],\n",
    "       6: age_ranges[2],\n",
    "       7: age_ranges[1],\n",
    "       8: age_ranges[2],\n",
    "       9: age_ranges[1],\n",
    "       10: age_ranges[1],\n",
    "       11: age_ranges[1],\n",
    "       12: age_ranges[2],\n",
    "       13: age_ranges[2],\n",
    "       14: age_ranges[1],\n",
    "       15: age_ranges[2],\n",
    "       16: age_ranges[0],\n",
    "       17: age_ranges[2],\n",
    "       18: age_ranges[2],\n",
    "       19: age_ranges[1],\n",
    "       20: age_ranges[2],\n",
    "       21: age_ranges[2],\n",
    "       22: age_ranges[np.random.choice((0, 1, 2))],\n",
    "       23: age_ranges[0],\n",
    "       24: age_ranges[0],\n",
    "       25: age_ranges[2],\n",
    "       26: age_ranges[0],\n",
    "       27: age_ranges[1],\n",
    "       28: age_ranges[0]}\n",
    "age = [age[subject] for subject in subjects]"
   ],
   "metadata": {
    "collapsed": false,
    "pycharm": {
     "name": "#%%\n"
    }
   }
  },
  {
   "cell_type": "code",
   "execution_count": 38,
   "outputs": [],
   "source": [
    "# gender: 0: male, 1: female (subject 22: unknown -> randomly assigned)\n",
    "gender = {1: 0,\n",
    "          2: 0,\n",
    "          3: 0,\n",
    "          4: 1,\n",
    "          5: 1,\n",
    "          6: 1,\n",
    "          7: 0,\n",
    "          8: 0,\n",
    "          9: 0,\n",
    "          10: 1,\n",
    "          11: 1,\n",
    "          12: 1,\n",
    "          13: 0,\n",
    "          14: 1,\n",
    "          15: 1,\n",
    "          16: 1,\n",
    "          17: 0,\n",
    "          18: 0,\n",
    "          19: 0,\n",
    "          20: 0,\n",
    "          21: 0,\n",
    "          22: np.random.choice((0, 1)),\n",
    "          23: 1,\n",
    "          24: 0,\n",
    "          25: 0,\n",
    "          26: 0,\n",
    "          27: 1,\n",
    "          28: 0}\n",
    "gender = [gender[subject] for subject in subjects]"
   ],
   "metadata": {
    "collapsed": false,
    "pycharm": {
     "name": "#%%\n"
    }
   }
  },
  {
   "cell_type": "markdown",
   "source": [
    "# CNN"
   ],
   "metadata": {
    "collapsed": false
   }
  },
  {
   "cell_type": "markdown",
   "source": [
    "Addditional functions"
   ],
   "metadata": {
    "collapsed": false
   }
  },
  {
   "cell_type": "code",
   "execution_count": 39,
   "outputs": [],
   "source": [
    "# image-wise transformer\n",
    "def rgb2gray(rgb):\n",
    "    \"\"\"greyscale = 0.2989 * red + 0.5870 * green + 0.1140 * blue\"\"\"\n",
    "    return np.dot(rgb[:, :, :3], [0.2989, 0.5870, 0.1140])\n",
    "\n",
    "# loss function\n",
    "def weighted_cross_entropy(weight):\n",
    "    def weighted_cross_entropy_with_logits(labels, logits):\n",
    "        loss = tf.nn.weighted_cross_entropy_with_logits(\n",
    "            labels, logits, weight\n",
    "        )\n",
    "        return loss\n",
    "    return weighted_cross_entropy_with_logits\n",
    "\n",
    "# weight (imbalanced classes)\n",
    "def check_imbalance(path_to_labels, indices, variable):\n",
    "    \"\"\"Returns indices of positives/negatives\"\"\"\n",
    "    y = np.empty((len(indices), 2), dtype=int)\n",
    "    for i, index in enumerate(indices):\n",
    "        y[i, ] = np.load(path_to_labels + f'/labels{index}.npy', allow_pickle=True)\n",
    "\n",
    "    positives = np.where(y[:, variable] == 1)[0]\n",
    "    negatives = np.where(y[:, variable] == 0)[0]\n",
    "\n",
    "    return np.array(indices)[positives], np.array(indices)[negatives]\n",
    "\n",
    "def get_weighting_factor(path, train_set_indices, variable):\n",
    "    positives, negatives = check_imbalance(path, train_set_indices, variable)\n",
    "    sample_weight = len(negatives) / len(positives) # for weighted cross-entropy\n",
    "    return sample_weight"
   ],
   "metadata": {
    "collapsed": false
   }
  },
  {
   "cell_type": "markdown",
   "source": [
    "Dataloader (dataset with images too large)"
   ],
   "metadata": {
    "collapsed": false
   }
  },
  {
   "cell_type": "code",
   "execution_count": 40,
   "outputs": [],
   "source": [
    "class DataGenerator(Sequence):\n",
    "\n",
    "    def __init__(self, data_path: str, indices_dataset: list, variable, batch_size=32, dim=(HEIGHT, WIDTH), n_channels=CHANNELS, shuffle=True):\n",
    "        self.data_path = data_path # path to full dataset\n",
    "        self.dim = dim # image dimension\n",
    "        self.batch_size = batch_size\n",
    "        self.indices_dataset = indices_dataset # indices of full dataset (different for train/validation/test set)\n",
    "        self.n_channels = n_channels\n",
    "        self.shuffle = shuffle\n",
    "        assert variable in (0, 1)\n",
    "        self.variable = variable\n",
    "\n",
    "        self.on_epoch_end() # shuffle data for each epoch\n",
    "\n",
    "    def on_epoch_end(self):\n",
    "        \"\"\"\n",
    "        Shuffle data for each epoch\n",
    "        \"\"\"\n",
    "        if self.shuffle:\n",
    "            np.random.shuffle(self.indices_dataset)\n",
    "\n",
    "    def __data_generation(self, indices):\n",
    "        \"\"\"\n",
    "        Loads and returns datapoints[indices]\n",
    "        \"\"\"\n",
    "        # init\n",
    "        X = np.empty((self.batch_size, *self.dim, self.n_channels))\n",
    "        y = np.empty(self.batch_size, dtype=float) # float: logits, int: non-logits\n",
    "\n",
    "        # load individual datapoints\n",
    "        for i, index in enumerate(indices):\n",
    "            images = np.load(self.data_path + f'/feature_vector{index}.npy', allow_pickle=True)\n",
    "            if GRAYSCALE:\n",
    "                images_gray = np.empty((HEIGHT, WIDTH, self.n_channels))\n",
    "                for j in range(len(VARIABLES)):\n",
    "                    image_rgb = images[:, :, (3 * j): (3 * (j + 1))]\n",
    "                    image_gray = rgb2gray(image_rgb)\n",
    "                    images_gray[:, :, j] = image_gray\n",
    "                images = images_gray\n",
    "\n",
    "            X[i, ] = images\n",
    "            y[i] = np.load(self.data_path + f'/labels{index}.npy', allow_pickle=True)[self.variable]\n",
    "\n",
    "        if BACKGROUND_FEATURES:\n",
    "            global age, gender\n",
    "            background_features = np.empty((self.batch_size, *self.dim, 3)) # create pseudo-image to comply with network\n",
    "            for i, index in enumerate(indices):\n",
    "                age_i, gender_i = age[i], gender[i]\n",
    "                background_features[i, ] = np.dstack([np.ones(self.dim) * age_i[0],\n",
    "                                                     np.ones(self.dim) * age_i[1],\n",
    "                                                     np.ones(self.dim) * gender_i])\n",
    "\n",
    "            X = np.concatenate([X, background_features], axis=-1)\n",
    "\n",
    "        return X, y\n",
    "\n",
    "    def __len__(self):\n",
    "        \"\"\"\n",
    "        Number of batches per epoch\n",
    "        \"\"\"\n",
    "        return int(np.floor(len(self.indices_dataset) / self.batch_size))\n",
    "\n",
    "    def __getitem__(self, index):\n",
    "        \"\"\"\n",
    "        Generates batch[index]\n",
    "        \"\"\"\n",
    "        # calculate indices of batch\n",
    "        indices = self.indices_dataset[index * self.batch_size:(index + 1) * self.batch_size]\n",
    "\n",
    "        # generate batch\n",
    "        X, y = self.__data_generation(indices)\n",
    "\n",
    "        return X, y"
   ],
   "metadata": {
    "collapsed": false
   }
  },
  {
   "cell_type": "markdown",
   "source": [
    "Architecture"
   ],
   "metadata": {
    "collapsed": false
   }
  },
  {
   "cell_type": "code",
   "execution_count": 41,
   "outputs": [],
   "source": [
    "class ConvNet_larger(tf.keras.Model):\n",
    "\n",
    "    def __init__(self, name='cnn', **kwargs):\n",
    "        super(ConvNet_larger, self).__init__(name, **kwargs)\n",
    "\n",
    "        self.in_shape = (HEIGHT, WIDTH, CHANNELS) if not BACKGROUND_FEATURES else (HEIGHT, WIDTH, CHANNELS + 3)\n",
    "        self.in_shape_mobilenet = (HEIGHT, WIDTH, 3) if not GRAYSCALE else (HEIGHT, WIDTH, 1)\n",
    "\n",
    "        # MobileNetV2 embedding\n",
    "        self.mobilenet = MobileNetV2(input_shape=self.in_shape_mobilenet, weights='imagenet', include_top=False)\n",
    "        self.mobilenet._name = 'mobilenet'\n",
    "        self.mobilenet.trainable = False\n",
    "        self.finetuning = False\n",
    "        self.out_shape_mobilenet = self.mobilenet.layers[-1].output_shape # for one spectrogram\n",
    "\n",
    "        # Concatenation\n",
    "        self.concat = Concatenate(name='concat')\n",
    "\n",
    "        # Global pooling\n",
    "        '''self.pool = GlobalAvgPool2D(name='global_avg_pool')'''\n",
    "\n",
    "        # TODO: more sophisticated dense (dropout, regularizer, init., ...)\n",
    "        self.conv0 = Conv2D(filters=4, kernel_size=(1, 1), activation='relu', padding='same', name='conv0')\n",
    "        self.conv1 = Conv2D(filters=8, kernel_size=(3, 3), activation='relu', padding='same', name='conv1')\n",
    "        self.batch_norm1 = BatchNormalization(name='batch_norm1') # try for incr. stability\n",
    "        self.pool1 = MaxPool2D(strides=(2, 2), name='pool1')\n",
    "\n",
    "        self.conv2 = Conv2D(filters=16, kernel_size=(3, 3), activation='relu', padding='same', name='conv2')\n",
    "        self.batch_norm2 = BatchNormalization(name='batch_norm2') # try for incr. stability\n",
    "        self.pool2 = MaxPool2D(strides=(2, 2), name='pool2')\n",
    "\n",
    "        self.flatten = Flatten(name='flatten')\n",
    "\n",
    "        self.dense = Dense(10, name='dense')\n",
    "\n",
    "        # Fully-connected network\n",
    "        if BACKGROUND_FEATURES:\n",
    "            self.concat2 = Concatenate(name='concat2', axis=-1)\n",
    "        self.dense2 = Dense(1, name='dense2') # keep logits\n",
    "        self.out_shape = 1\n",
    "\n",
    "        # build graph\n",
    "        self.build_graph()\n",
    "\n",
    "    def build_graph(self):\n",
    "        self.build(input_shape=(None, *self.in_shape))\n",
    "        x = Input(shape=self.in_shape)\n",
    "        Model(inputs=[x], outputs=self.call(x))\n",
    "\n",
    "    def set_finetuning(self, mode=True):\n",
    "        self.finetuning = mode\n",
    "        self.mobilenet.trainable = mode\n",
    "\n",
    "        for layers in self.mobilenet.layers:\n",
    "            layers.trainable = False\n",
    "\n",
    "        # \"activate\" last conv layer of MobileNet\n",
    "        self.mobilenet.layers[-3].trainable = mode\n",
    "        self.mobilenet.layers[-2].trainable = mode\n",
    "\n",
    "    def call(self, inputs, background_features=None):\n",
    "        \"\"\"\n",
    "        Model predictions (logits)\n",
    "        :param background_features: additional features of shape (3)\n",
    "        :param inputs: all spectrograms of shape (HEIGHT, WIDTH, CHANNELS)\n",
    "        :return: class prediction (logits)\n",
    "        \"\"\"\n",
    "        if BACKGROUND_FEATURES:\n",
    "            inputs = inputs[:, :, :, :-3]\n",
    "            background_features = inputs[:, 0, 0, -3:]\n",
    "\n",
    "        # MobileNetV2 embeddings\n",
    "        x = [self.mobilenet(inputs[..., i:i+3], training=self.finetuning) for i in range(0, CHANNELS, 3)]\n",
    "\n",
    "        # Concatenation\n",
    "        x = self.concat(x)\n",
    "\n",
    "        # Global pooling\n",
    "        '''x = self.pool(x)'''\n",
    "        x= self.conv0(x)\n",
    "        x = self.conv1(x)\n",
    "        x = self.batch_norm1(x)\n",
    "        x = self.pool1(x)\n",
    "        x = self.conv2(x)\n",
    "        x = self.batch_norm2(x)\n",
    "        x = self.pool2(x)\n",
    "        x = self.flatten(x)\n",
    "\n",
    "        if background_features is not None:\n",
    "            x = self.concat2([x, background_features])\n",
    "\n",
    "        # Fully-connected network\n",
    "        x = self.dense(x)\n",
    "        x = self.dense2(x)\n",
    "\n",
    "        return x"
   ],
   "metadata": {
    "collapsed": false
   }
  },
  {
   "cell_type": "code",
   "execution_count": 42,
   "outputs": [],
   "source": [
    "class ConvNet(tf.keras.Model):\n",
    "\n",
    "    def __init__(self, name='cnn', **kwargs):\n",
    "        super(ConvNet, self).__init__(name, **kwargs)\n",
    "\n",
    "        self.in_shape = (HEIGHT, WIDTH, CHANNELS) if not BACKGROUND_FEATURES else (HEIGHT, WIDTH, CHANNELS + 3)\n",
    "        self.in_shape_mobilenet = (HEIGHT, WIDTH, 3) if not GRAYSCALE else (HEIGHT, WIDTH, 1)\n",
    "\n",
    "        # MobileNetV2 embedding\n",
    "        self.mobilenet = MobileNetV2(input_shape=self.in_shape_mobilenet, weights='imagenet', include_top=False)\n",
    "        self.mobilenet._name = 'mobilenet'\n",
    "        self.mobilenet.trainable = False\n",
    "        self.finetuning = False\n",
    "        self.out_shape_mobilenet = self.mobilenet.layers[-1].output_shape # for one spectrogram\n",
    "\n",
    "        # Concatenation\n",
    "        self.concat = Concatenate(name='concat')\n",
    "\n",
    "        # Global pooling\n",
    "        self.pool = GlobalAvgPool2D(name='global_avg_pool')\n",
    "\n",
    "        # TODO: more sophisticated dense (dropout, regularizer, init., ...)\n",
    "        # Fully-connected network\n",
    "        if BACKGROUND_FEATURES:\n",
    "            self.concat2 = Concatenate(name='concat2', axis=-1)\n",
    "        self.dense = Dense(1, name='dense') # keep logits\n",
    "        self.out_shape = 1\n",
    "\n",
    "        # build graph\n",
    "        self.build_graph()\n",
    "\n",
    "    def build_graph(self):\n",
    "        self.build(input_shape=(None, *self.in_shape))\n",
    "        x = Input(shape=self.in_shape)\n",
    "        Model(inputs=[x], outputs=self.call(x))\n",
    "\n",
    "    def set_finetuning(self, mode=True):\n",
    "        self.finetuning = mode\n",
    "        self.mobilenet.trainable = mode\n",
    "\n",
    "        for layers in self.mobilenet.layers:\n",
    "            layers.trainable = False\n",
    "\n",
    "        # \"activate\" last conv layer of MobileNet\n",
    "        self.mobilenet.layers[-3].trainable = mode\n",
    "        self.mobilenet.layers[-2].trainable = mode\n",
    "\n",
    "    def call(self, inputs, background_features=None):\n",
    "        \"\"\"\n",
    "        Model predictions (logits)\n",
    "        :param background_features: additional features of shape (3)\n",
    "        :param inputs: all spectrograms of shape (HEIGHT, WIDTH, CHANNELS)\n",
    "        :return: class prediction (logits)\n",
    "        \"\"\"\n",
    "        if BACKGROUND_FEATURES:\n",
    "            inputs = inputs[:, :, :, :-3]\n",
    "            background_features = inputs[:, 0, 0, -3:]\n",
    "\n",
    "        # MobileNetV2 embeddings\n",
    "        x = [self.mobilenet(inputs[..., i:i+3], training=self.finetuning) for i in range(0, CHANNELS, 3)]\n",
    "\n",
    "        # Concatenation\n",
    "        x = self.concat(x)\n",
    "\n",
    "        # Global pooling\n",
    "        x = self.pool(x)\n",
    "\n",
    "        if background_features is not None:\n",
    "            x = self.concat2([x, background_features])\n",
    "\n",
    "        # Fully-connected network\n",
    "        x = self.dense(x)\n",
    "\n",
    "        return x"
   ],
   "metadata": {
    "collapsed": false,
    "pycharm": {
     "name": "#%%\n"
    }
   }
  },
  {
   "cell_type": "markdown",
   "source": [
    "Model"
   ],
   "metadata": {
    "collapsed": false
   }
  },
  {
   "cell_type": "code",
   "execution_count": 43,
   "outputs": [],
   "source": [
    "class CNN:\n",
    "\n",
    "    def __init__(self, path, variable, epochs, learning_rate, batch_size):\n",
    "        self.model = ConvNet()\n",
    "        self.path = path\n",
    "        assert variable in (0, 1)\n",
    "        self.variable = variable\n",
    "        self.epochs = epochs\n",
    "        self.learning_rate = learning_rate\n",
    "        self.batch_size = batch_size\n",
    "        self.history = None\n",
    "        self.train_indices = None\n",
    "        self.test_indices = None\n",
    "\n",
    "    def fit(self, train_indices, validation_indices=None):\n",
    "        self.train_indices = train_indices\n",
    "\n",
    "        # training set\n",
    "        train_dataloader = DataGenerator(self.path, train_indices, batch_size=self.batch_size, variable=self.variable)\n",
    "\n",
    "        # validation set\n",
    "        if validation_indices is not None:\n",
    "            val_dataloader = DataGenerator(self.path, validation_indices, batch_size=self.batch_size, variable=self.variable)\n",
    "\n",
    "        # weights for loss function\n",
    "        sample_weights = get_weighting_factor(self.path, train_indices, self.variable)\n",
    "\n",
    "        # build model\n",
    "        self.model.compile(optimizer=Adam(learning_rate=self.learning_rate),\n",
    "                           loss=weighted_cross_entropy(sample_weights))\n",
    "\n",
    "        # training\n",
    "        if validation_indices is not None:\n",
    "            self.history = self.model.fit_generator(generator=train_dataloader,\n",
    "                                                    validation_data=val_dataloader,\n",
    "                                                    epochs=self.epochs).history\n",
    "        else:\n",
    "            self.history = self.model.fit_generator(generator=train_dataloader,\n",
    "                                                    epochs=self.epochs).history\n",
    "\n",
    "    def reset(self):\n",
    "        \"\"\"Resets model weights\"\"\"\n",
    "        self.model = ConvNet()\n",
    "\n",
    "    def predict(self, test_indices, logits=False):\n",
    "        \"\"\"Predicts actual class labels by default (not logits/probability values)\"\"\"\n",
    "        self.test_indices = test_indices\n",
    "\n",
    "        # TODO: make more efficient\n",
    "        # test set + predict\n",
    "        y_pred = np.empty(len(test_indices), dtype=float)\n",
    "\n",
    "        for i, index in enumerate(test_indices):\n",
    "            X_i = np.load(path + f'/feature_vector{index}.npy', allow_pickle=True)\n",
    "            X_i = tf.expand_dims(X_i, axis=0) # add \"batch dimension\"\n",
    "\n",
    "            if BACKGROUND_FEATURES:\n",
    "                global age, gender\n",
    "                age_i, gender_i = age[index], gender[index]\n",
    "                background_features = np.dstack([np.ones((X_i.shape[1], X_i.shape[2])) * age_i[0],\n",
    "                                                 np.ones((X_i.shape[1], X_i.shape[2])) * age_i[1],\n",
    "                                                 np.ones((X_i.shape[1], X_i.shape[2])) * gender_i])\n",
    "                background_features = tf.expand_dims(background_features, axis=0) # add \"batch dimension\"\n",
    "\n",
    "                X_i = np.concatenate([X_i, background_features], axis=-1)\n",
    "\n",
    "            logits_pred_i = self.model.predict(X_i)\n",
    "\n",
    "            y_pred[i] = logits_pred_i\n",
    "\n",
    "        if logits:\n",
    "            return y_pred\n",
    "\n",
    "        y_probs = tf.math.sigmoid(y_pred) # logits to probs\n",
    "        y_pred = tf.round(y_probs) # probs to labels\n",
    "\n",
    "        return y_pred\n",
    "\n",
    "    def summary(self):\n",
    "        return self.model.summary()"
   ],
   "metadata": {
    "collapsed": false
   }
  },
  {
   "cell_type": "code",
   "execution_count": 44,
   "outputs": [
    {
     "name": "stdout",
     "output_type": "stream",
     "text": [
      "WARNING:tensorflow:`input_shape` is undefined or non-square, or `rows` is not in [96, 128, 160, 192, 224]. Weights for input shape (224, 224) will be loaded as the default.\n",
      "Model: \"conv_net_81\"\n",
      "_________________________________________________________________\n",
      "Layer (type)                 Output Shape              Param #   \n",
      "=================================================================\n",
      "mobilenet (Functional)       (None, 12, 16, 1280)      2257984   \n",
      "_________________________________________________________________\n",
      "concat (Concatenate)         (None, 12, 16, 12800)     0         \n",
      "_________________________________________________________________\n",
      "global_avg_pool (GlobalAvera (None, 12800)             0         \n",
      "_________________________________________________________________\n",
      "dense (Dense)                (None, 1)                 12801     \n",
      "=================================================================\n",
      "Total params: 2,270,785\n",
      "Trainable params: 12,801\n",
      "Non-trainable params: 2,257,984\n",
      "_________________________________________________________________\n"
     ]
    }
   ],
   "source": [
    "CNN(path, variable=0, epochs=10, learning_rate=1e-3, batch_size=16).summary()"
   ],
   "metadata": {
    "collapsed": false,
    "pycharm": {
     "name": "#%%\n"
    }
   }
  },
  {
   "cell_type": "markdown",
   "source": [
    "# CV"
   ],
   "metadata": {
    "collapsed": false
   }
  },
  {
   "cell_type": "code",
   "execution_count": 45,
   "outputs": [
    {
     "name": "stdout",
     "output_type": "stream",
     "text": [
      "WARNING:tensorflow:`input_shape` is undefined or non-square, or `rows` is not in [96, 128, 160, 192, 224]. Weights for input shape (224, 224) will be loaded as the default.\n",
      "Starting stratified group 5-fold for physical fatigue\n"
     ]
    },
    {
     "name": "stderr",
     "output_type": "stream",
     "text": [
      "  0%|          | 0/5 [00:00<?, ?it/s]"
     ]
    },
    {
     "name": "stdout",
     "output_type": "stream",
     "text": [
      "WARNING:tensorflow:`input_shape` is undefined or non-square, or `rows` is not in [96, 128, 160, 192, 224]. Weights for input shape (224, 224) will be loaded as the default.\n",
      "Epoch 1/10\n",
      "36/36 [==============================] - 73s 1s/step - loss: 0.5009\n",
      "Epoch 2/10\n",
      "36/36 [==============================] - 24s 644ms/step - loss: 0.3349\n",
      "Epoch 3/10\n",
      "36/36 [==============================] - 24s 643ms/step - loss: 0.3002\n",
      "Epoch 4/10\n",
      "36/36 [==============================] - 24s 644ms/step - loss: 0.2833\n",
      "Epoch 5/10\n",
      "36/36 [==============================] - 24s 643ms/step - loss: 0.2754\n",
      "Epoch 6/10\n",
      "36/36 [==============================] - 24s 643ms/step - loss: 0.2541\n",
      "Epoch 7/10\n",
      "36/36 [==============================] - 24s 670ms/step - loss: 0.2329\n",
      "Epoch 8/10\n",
      "36/36 [==============================] - 23s 640ms/step - loss: 0.2273\n",
      "Epoch 9/10\n",
      "36/36 [==============================] - 23s 641ms/step - loss: 0.2093\n",
      "Epoch 10/10\n",
      "36/36 [==============================] - 23s 640ms/step - loss: 0.2111\n"
     ]
    },
    {
     "name": "stderr",
     "output_type": "stream",
     "text": [
      " Fold 1 F1: 0.8148148148148148:  20%|██        | 1/5 [05:09<20:39, 309.95s/it]"
     ]
    },
    {
     "name": "stdout",
     "output_type": "stream",
     "text": [
      "WARNING:tensorflow:`input_shape` is undefined or non-square, or `rows` is not in [96, 128, 160, 192, 224]. Weights for input shape (224, 224) will be loaded as the default.\n",
      "Epoch 1/10\n",
      "24/24 [==============================] - 40s 640ms/step - loss: 0.5588\n",
      "Epoch 2/10\n",
      "24/24 [==============================] - 16s 638ms/step - loss: 0.4697\n",
      "Epoch 3/10\n",
      "24/24 [==============================] - 16s 638ms/step - loss: 0.3709\n",
      "Epoch 4/10\n",
      "24/24 [==============================] - 16s 639ms/step - loss: 0.2781\n",
      "Epoch 5/10\n",
      "24/24 [==============================] - 16s 639ms/step - loss: 0.2627\n",
      "Epoch 6/10\n",
      "24/24 [==============================] - 16s 638ms/step - loss: 0.2699\n",
      "Epoch 7/10\n",
      "24/24 [==============================] - 16s 639ms/step - loss: 0.2347\n",
      "Epoch 8/10\n",
      "24/24 [==============================] - 16s 641ms/step - loss: 0.2252\n",
      "Epoch 9/10\n",
      "24/24 [==============================] - 16s 642ms/step - loss: 0.2164\n",
      "Epoch 10/10\n",
      "24/24 [==============================] - 16s 640ms/step - loss: 0.2311\n"
     ]
    },
    {
     "name": "stderr",
     "output_type": "stream",
     "text": [
      " Fold 2 F1: 0.6212211466865226:  40%|████      | 2/5 [09:01<13:11, 263.74s/it]"
     ]
    },
    {
     "name": "stdout",
     "output_type": "stream",
     "text": [
      "WARNING:tensorflow:`input_shape` is undefined or non-square, or `rows` is not in [96, 128, 160, 192, 224]. Weights for input shape (224, 224) will be loaded as the default.\n",
      "Epoch 1/10\n",
      "30/30 [==============================] - 44s 635ms/step - loss: 0.3576\n",
      "Epoch 2/10\n",
      "30/30 [==============================] - 19s 636ms/step - loss: 0.2695\n",
      "Epoch 3/10\n",
      "30/30 [==============================] - 19s 636ms/step - loss: 0.2517\n",
      "Epoch 4/10\n",
      "30/30 [==============================] - 19s 636ms/step - loss: 0.2666\n",
      "Epoch 5/10\n",
      "30/30 [==============================] - 19s 636ms/step - loss: 0.2242\n",
      "Epoch 6/10\n",
      "30/30 [==============================] - 19s 636ms/step - loss: 0.2122\n",
      "Epoch 7/10\n",
      "30/30 [==============================] - 19s 636ms/step - loss: 0.1915\n",
      "Epoch 8/10\n",
      "30/30 [==============================] - 19s 636ms/step - loss: 0.1892\n",
      "Epoch 9/10\n",
      "30/30 [==============================] - 19s 637ms/step - loss: 0.1645\n",
      "Epoch 10/10\n",
      "30/30 [==============================] - 19s 636ms/step - loss: 0.1551\n"
     ]
    },
    {
     "name": "stderr",
     "output_type": "stream",
     "text": [
      " Fold 3 F1: 0.5638822860686236:  60%|██████    | 3/5 [13:14<08:38, 259.00s/it]"
     ]
    },
    {
     "name": "stdout",
     "output_type": "stream",
     "text": [
      "WARNING:tensorflow:`input_shape` is undefined or non-square, or `rows` is not in [96, 128, 160, 192, 224]. Weights for input shape (224, 224) will be loaded as the default.\n",
      "Epoch 1/10\n",
      "25/25 [==============================] - 39s 647ms/step - loss: 0.6345\n",
      "Epoch 2/10\n",
      "25/25 [==============================] - 17s 648ms/step - loss: 0.4443\n",
      "Epoch 3/10\n",
      "25/25 [==============================] - 17s 648ms/step - loss: 0.3817\n",
      "Epoch 4/10\n",
      "25/25 [==============================] - 17s 647ms/step - loss: 0.3440\n",
      "Epoch 5/10\n",
      "25/25 [==============================] - 17s 647ms/step - loss: 0.3199\n",
      "Epoch 6/10\n",
      "25/25 [==============================] - 17s 646ms/step - loss: 0.3383\n",
      "Epoch 7/10\n",
      "25/25 [==============================] - 17s 646ms/step - loss: 0.3071\n",
      "Epoch 8/10\n",
      "25/25 [==============================] - 17s 646ms/step - loss: 0.2843\n",
      "Epoch 9/10\n",
      "25/25 [==============================] - 17s 647ms/step - loss: 0.2926\n",
      "Epoch 10/10\n",
      "25/25 [==============================] - 17s 647ms/step - loss: 0.2495\n"
     ]
    },
    {
     "name": "stderr",
     "output_type": "stream",
     "text": [
      " Fold 4 F1: 0.525308660078008:  80%|████████  | 4/5 [17:10<04:09, 249.95s/it] "
     ]
    },
    {
     "name": "stdout",
     "output_type": "stream",
     "text": [
      "WARNING:tensorflow:`input_shape` is undefined or non-square, or `rows` is not in [96, 128, 160, 192, 224]. Weights for input shape (224, 224) will be loaded as the default.\n",
      "Epoch 1/10\n",
      "36/36 [==============================] - 47s 636ms/step - loss: 0.4424\n",
      "Epoch 2/10\n",
      "36/36 [==============================] - 23s 638ms/step - loss: 0.3028\n",
      "Epoch 3/10\n",
      "36/36 [==============================] - 23s 632ms/step - loss: 0.3172\n",
      "Epoch 4/10\n",
      "36/36 [==============================] - 23s 619ms/step - loss: 0.2588\n",
      "Epoch 5/10\n",
      "36/36 [==============================] - 23s 621ms/step - loss: 0.2488\n",
      "Epoch 6/10\n",
      "36/36 [==============================] - 23s 620ms/step - loss: 0.2381\n",
      "Epoch 7/10\n",
      "36/36 [==============================] - 23s 622ms/step - loss: 0.2182\n",
      "Epoch 8/10\n",
      "36/36 [==============================] - 23s 620ms/step - loss: 0.2178\n",
      "Epoch 9/10\n",
      "36/36 [==============================] - 23s 620ms/step - loss: 0.2436\n",
      "Epoch 10/10\n",
      "36/36 [==============================] - 23s 622ms/step - loss: 0.1996\n"
     ]
    },
    {
     "name": "stderr",
     "output_type": "stream",
     "text": [
      " Fold 5 F1: 0.5232076044089392: 100%|██████████| 5/5 [21:40<00:00, 260.20s/it]\n"
     ]
    },
    {
     "name": "stdout",
     "output_type": "stream",
     "text": [
      "Performance model:\n",
      " accuracy: 0.593 +- 0.114 \n",
      "\n",
      " balanced_accuracy: 0.585 +- 0.034 \n",
      "\n",
      " f1: 0.61 +- 0.109 \n",
      "\n",
      " recall: 0.593 +- 0.114 \n",
      "\n",
      " precision: 0.702 +- 0.105 \n",
      "\n",
      "Starting leave-one-subject-out for physical fatigue\n"
     ]
    },
    {
     "name": "stderr",
     "output_type": "stream",
     "text": [
      "  0%|          | 0/27 [00:00<?, ?it/s]"
     ]
    },
    {
     "name": "stdout",
     "output_type": "stream",
     "text": [
      "WARNING:tensorflow:`input_shape` is undefined or non-square, or `rows` is not in [96, 128, 160, 192, 224]. Weights for input shape (224, 224) will be loaded as the default.\n",
      "Epoch 1/10\n",
      "37/37 [==============================] - 46s 625ms/step - loss: 0.5018\n",
      "Epoch 2/10\n",
      "37/37 [==============================] - 24s 626ms/step - loss: 0.3580\n",
      "Epoch 3/10\n",
      "37/37 [==============================] - 24s 626ms/step - loss: 0.3528\n",
      "Epoch 4/10\n",
      "37/37 [==============================] - 24s 626ms/step - loss: 0.2921\n",
      "Epoch 5/10\n",
      "37/37 [==============================] - 23s 625ms/step - loss: 0.2792\n",
      "Epoch 6/10\n",
      "37/37 [==============================] - 24s 626ms/step - loss: 0.2509\n",
      "Epoch 7/10\n",
      "37/37 [==============================] - 24s 626ms/step - loss: 0.2523\n",
      "Epoch 8/10\n",
      "37/37 [==============================] - 24s 626ms/step - loss: 0.2158\n",
      "Epoch 9/10\n",
      "37/37 [==============================] - 24s 626ms/step - loss: 0.2228\n",
      "Epoch 10/10\n",
      "37/37 [==============================] - 24s 626ms/step - loss: 0.2151\n"
     ]
    },
    {
     "name": "stderr",
     "output_type": "stream",
     "text": [
      " Fold 1 F1: 0.8888888888888888:   4%|▎         | 1/27 [04:34<1:58:44, 274.00s/it]"
     ]
    },
    {
     "name": "stdout",
     "output_type": "stream",
     "text": [
      "WARNING:tensorflow:`input_shape` is undefined or non-square, or `rows` is not in [96, 128, 160, 192, 224]. Weights for input shape (224, 224) will be loaded as the default.\n",
      "Epoch 1/10\n",
      "38/38 [==============================] - 47s 626ms/step - loss: 0.4788\n",
      "Epoch 2/10\n",
      "38/38 [==============================] - 24s 626ms/step - loss: 0.3417\n",
      "Epoch 3/10\n",
      "38/38 [==============================] - 24s 625ms/step - loss: 0.3166\n",
      "Epoch 4/10\n",
      "38/38 [==============================] - 24s 624ms/step - loss: 0.2969\n",
      "Epoch 5/10\n",
      "38/38 [==============================] - 24s 626ms/step - loss: 0.2668\n",
      "Epoch 6/10\n",
      "38/38 [==============================] - 24s 624ms/step - loss: 0.2619\n",
      "Epoch 7/10\n",
      "38/38 [==============================] - 24s 625ms/step - loss: 0.2861\n",
      "Epoch 8/10\n",
      "38/38 [==============================] - 24s 625ms/step - loss: 0.2347\n",
      "Epoch 9/10\n",
      "38/38 [==============================] - 24s 624ms/step - loss: 0.2188\n",
      "Epoch 10/10\n",
      "38/38 [==============================] - 24s 626ms/step - loss: 0.1928\n"
     ]
    },
    {
     "name": "stderr",
     "output_type": "stream",
     "text": [
      " Fold 2 F1: 0.0:   7%|▋         | 2/27 [09:14<1:55:44, 277.77s/it]               "
     ]
    },
    {
     "name": "stdout",
     "output_type": "stream",
     "text": [
      "WARNING:tensorflow:`input_shape` is undefined or non-square, or `rows` is not in [96, 128, 160, 192, 224]. Weights for input shape (224, 224) will be loaded as the default.\n",
      "Epoch 1/10\n",
      "37/37 [==============================] - 47s 653ms/step - loss: 0.5195\n",
      "Epoch 2/10\n",
      "37/37 [==============================] - 30s 795ms/step - loss: 0.3519\n",
      "Epoch 3/10\n",
      "37/37 [==============================] - 25s 659ms/step - loss: 0.3043\n",
      "Epoch 4/10\n",
      "37/37 [==============================] - 25s 653ms/step - loss: 0.2850\n",
      "Epoch 5/10\n",
      "37/37 [==============================] - 24s 646ms/step - loss: 0.2436\n",
      "Epoch 6/10\n",
      "37/37 [==============================] - 24s 651ms/step - loss: 0.2653\n",
      "Epoch 7/10\n",
      "37/37 [==============================] - 24s 640ms/step - loss: 0.2275\n",
      "Epoch 8/10\n",
      "37/37 [==============================] - 24s 639ms/step - loss: 0.2463\n",
      "Epoch 9/10\n",
      "37/37 [==============================] - 24s 641ms/step - loss: 0.2286\n",
      "Epoch 10/10\n",
      "37/37 [==============================] - 24s 641ms/step - loss: 0.2050\n"
     ]
    },
    {
     "name": "stderr",
     "output_type": "stream",
     "text": [
      " Fold 3 F1: 0.36199095022624433:  11%|█         | 3/27 [14:00<1:52:42, 281.78s/it]"
     ]
    },
    {
     "name": "stdout",
     "output_type": "stream",
     "text": [
      "WARNING:tensorflow:`input_shape` is undefined or non-square, or `rows` is not in [96, 128, 160, 192, 224]. Weights for input shape (224, 224) will be loaded as the default.\n",
      "Epoch 1/10\n",
      "37/37 [==============================] - 48s 642ms/step - loss: 0.4778\n",
      "Epoch 2/10\n",
      "37/37 [==============================] - 24s 640ms/step - loss: 0.3208\n",
      "Epoch 3/10\n",
      "37/37 [==============================] - 24s 642ms/step - loss: 0.2966\n",
      "Epoch 4/10\n",
      "37/37 [==============================] - 24s 642ms/step - loss: 0.2736\n",
      "Epoch 5/10\n",
      "37/37 [==============================] - 24s 641ms/step - loss: 0.2784\n",
      "Epoch 6/10\n",
      "37/37 [==============================] - 24s 640ms/step - loss: 0.2463\n",
      "Epoch 7/10\n",
      "37/37 [==============================] - 24s 636ms/step - loss: 0.2179\n",
      "Epoch 8/10\n",
      "37/37 [==============================] - 24s 639ms/step - loss: 0.2195\n",
      "Epoch 9/10\n",
      "37/37 [==============================] - 24s 640ms/step - loss: 0.2120\n",
      "Epoch 10/10\n",
      "37/37 [==============================] - 24s 637ms/step - loss: 0.1971\n"
     ]
    },
    {
     "name": "stderr",
     "output_type": "stream",
     "text": [
      " Fold 4 F1: 0.6666666666666666:  15%|█▍        | 4/27 [18:41<1:47:46, 281.13s/it] "
     ]
    },
    {
     "name": "stdout",
     "output_type": "stream",
     "text": [
      "WARNING:tensorflow:`input_shape` is undefined or non-square, or `rows` is not in [96, 128, 160, 192, 224]. Weights for input shape (224, 224) will be loaded as the default.\n",
      "Epoch 1/10\n",
      "37/37 [==============================] - 49s 640ms/step - loss: 0.5330\n",
      "Epoch 2/10\n",
      "37/37 [==============================] - 24s 640ms/step - loss: 0.3344\n",
      "Epoch 3/10\n",
      "37/37 [==============================] - 24s 640ms/step - loss: 0.3083\n",
      "Epoch 4/10\n",
      "37/37 [==============================] - 24s 640ms/step - loss: 0.3111\n",
      "Epoch 5/10\n",
      "37/37 [==============================] - 24s 641ms/step - loss: 0.2707\n",
      "Epoch 6/10\n",
      "37/37 [==============================] - 24s 642ms/step - loss: 0.2787\n",
      "Epoch 7/10\n",
      "37/37 [==============================] - 24s 644ms/step - loss: 0.2610\n",
      "Epoch 8/10\n",
      "37/37 [==============================] - 24s 624ms/step - loss: 0.2536\n",
      "Epoch 9/10\n",
      "37/37 [==============================] - 23s 625ms/step - loss: 0.2201\n",
      "Epoch 10/10\n",
      "37/37 [==============================] - 23s 624ms/step - loss: 0.1996\n"
     ]
    },
    {
     "name": "stderr",
     "output_type": "stream",
     "text": [
      " Fold 5 F1: 0.2857142857142857:  19%|█▊        | 5/27 [23:19<1:42:40, 280.02s/it]"
     ]
    },
    {
     "name": "stdout",
     "output_type": "stream",
     "text": [
      "WARNING:tensorflow:`input_shape` is undefined or non-square, or `rows` is not in [96, 128, 160, 192, 224]. Weights for input shape (224, 224) will be loaded as the default.\n",
      "Epoch 1/10\n",
      "37/37 [==============================] - 47s 625ms/step - loss: 0.5106\n",
      "Epoch 2/10\n",
      "37/37 [==============================] - 24s 625ms/step - loss: 0.3608\n",
      "Epoch 3/10\n",
      "37/37 [==============================] - 23s 625ms/step - loss: 0.3691\n",
      "Epoch 4/10\n",
      "37/37 [==============================] - 23s 624ms/step - loss: 0.3000\n",
      "Epoch 5/10\n",
      "37/37 [==============================] - 23s 625ms/step - loss: 0.3054\n",
      "Epoch 6/10\n",
      "37/37 [==============================] - 24s 625ms/step - loss: 0.2595\n",
      "Epoch 7/10\n",
      "37/37 [==============================] - 24s 626ms/step - loss: 0.3000\n",
      "Epoch 8/10\n",
      "37/37 [==============================] - 23s 625ms/step - loss: 0.2297\n",
      "Epoch 9/10\n",
      "37/37 [==============================] - 23s 624ms/step - loss: 0.2230\n",
      "Epoch 10/10\n",
      "37/37 [==============================] - 23s 625ms/step - loss: 0.2315\n"
     ]
    },
    {
     "name": "stderr",
     "output_type": "stream",
     "text": [
      " Fold 6 F1: 0.7575757575757575:  22%|██▏       | 6/27 [27:51<1:37:07, 277.52s/it]"
     ]
    },
    {
     "name": "stdout",
     "output_type": "stream",
     "text": [
      "WARNING:tensorflow:`input_shape` is undefined or non-square, or `rows` is not in [96, 128, 160, 192, 224]. Weights for input shape (224, 224) will be loaded as the default.\n",
      "Epoch 1/10\n",
      "38/38 [==============================] - 49s 634ms/step - loss: 0.4012\n",
      "Epoch 2/10\n",
      "38/38 [==============================] - 24s 634ms/step - loss: 0.3272\n",
      "Epoch 3/10\n",
      "38/38 [==============================] - 25s 636ms/step - loss: 0.3552\n",
      "Epoch 4/10\n",
      "38/38 [==============================] - 24s 635ms/step - loss: 0.2662\n",
      "Epoch 5/10\n",
      "38/38 [==============================] - 25s 636ms/step - loss: 0.3108\n",
      "Epoch 6/10\n",
      "38/38 [==============================] - 25s 635ms/step - loss: 0.2830\n",
      "Epoch 7/10\n",
      "38/38 [==============================] - 25s 635ms/step - loss: 0.2828\n",
      "Epoch 8/10\n",
      "38/38 [==============================] - 25s 635ms/step - loss: 0.2288\n",
      "Epoch 9/10\n",
      "38/38 [==============================] - 24s 635ms/step - loss: 0.2450\n",
      "Epoch 10/10\n",
      "38/38 [==============================] - 24s 635ms/step - loss: 0.1940\n"
     ]
    },
    {
     "name": "stderr",
     "output_type": "stream",
     "text": [
      " Fold 7 F1: 0.5333333333333333:  26%|██▌       | 7/27 [32:34<1:33:04, 279.22s/it]"
     ]
    },
    {
     "name": "stdout",
     "output_type": "stream",
     "text": [
      "WARNING:tensorflow:`input_shape` is undefined or non-square, or `rows` is not in [96, 128, 160, 192, 224]. Weights for input shape (224, 224) will be loaded as the default.\n",
      "Epoch 1/10\n",
      "37/37 [==============================] - 47s 627ms/step - loss: 0.4858\n",
      "Epoch 2/10\n",
      "37/37 [==============================] - 24s 628ms/step - loss: 0.3625\n",
      "Epoch 3/10\n",
      "37/37 [==============================] - 24s 627ms/step - loss: 0.3308\n",
      "Epoch 4/10\n",
      "37/37 [==============================] - 24s 630ms/step - loss: 0.2847\n",
      "Epoch 5/10\n",
      "37/37 [==============================] - 24s 628ms/step - loss: 0.2608\n",
      "Epoch 6/10\n",
      "37/37 [==============================] - 24s 630ms/step - loss: 0.2635\n",
      "Epoch 7/10\n",
      "37/37 [==============================] - 24s 630ms/step - loss: 0.2218\n",
      "Epoch 8/10\n",
      "37/37 [==============================] - 24s 629ms/step - loss: 0.2332\n",
      "Epoch 9/10\n",
      "37/37 [==============================] - 24s 632ms/step - loss: 0.2199\n",
      "Epoch 10/10\n",
      "37/37 [==============================] - 24s 631ms/step - loss: 0.2579\n"
     ]
    },
    {
     "name": "stderr",
     "output_type": "stream",
     "text": [
      " Fold 8 F1: 0.03571428571428571:  30%|██▉       | 8/27 [37:09<1:28:01, 277.98s/it]"
     ]
    },
    {
     "name": "stdout",
     "output_type": "stream",
     "text": [
      "WARNING:tensorflow:`input_shape` is undefined or non-square, or `rows` is not in [96, 128, 160, 192, 224]. Weights for input shape (224, 224) will be loaded as the default.\n",
      "Epoch 1/10\n",
      "37/37 [==============================] - 48s 622ms/step - loss: 0.4266\n",
      "Epoch 2/10\n",
      "37/37 [==============================] - 23s 621ms/step - loss: 0.3892\n",
      "Epoch 3/10\n",
      "37/37 [==============================] - 23s 622ms/step - loss: 0.2775\n",
      "Epoch 4/10\n",
      "37/37 [==============================] - 23s 621ms/step - loss: 0.2656\n",
      "Epoch 5/10\n",
      "37/37 [==============================] - 23s 622ms/step - loss: 0.2493\n",
      "Epoch 6/10\n",
      "37/37 [==============================] - 23s 622ms/step - loss: 0.2626\n",
      "Epoch 7/10\n",
      "37/37 [==============================] - 23s 621ms/step - loss: 0.2419\n",
      "Epoch 8/10\n",
      "37/37 [==============================] - 23s 619ms/step - loss: 0.2624\n",
      "Epoch 9/10\n",
      "37/37 [==============================] - 23s 620ms/step - loss: 0.2381\n",
      "Epoch 10/10\n",
      "37/37 [==============================] - 23s 622ms/step - loss: 0.1997\n"
     ]
    },
    {
     "name": "stderr",
     "output_type": "stream",
     "text": [
      " Fold 9 F1: 0.7499999999999999:  33%|███▎      | 9/27 [41:42<1:22:52, 276.24s/it] "
     ]
    },
    {
     "name": "stdout",
     "output_type": "stream",
     "text": [
      "WARNING:tensorflow:`input_shape` is undefined or non-square, or `rows` is not in [96, 128, 160, 192, 224]. Weights for input shape (224, 224) will be loaded as the default.\n",
      "Epoch 1/10\n",
      "37/37 [==============================] - 47s 623ms/step - loss: 0.4508\n",
      "Epoch 2/10\n",
      "37/37 [==============================] - 23s 622ms/step - loss: 0.3354\n",
      "Epoch 3/10\n",
      "37/37 [==============================] - 23s 620ms/step - loss: 0.3241\n",
      "Epoch 4/10\n",
      "37/37 [==============================] - 23s 621ms/step - loss: 0.2990\n",
      "Epoch 5/10\n",
      "37/37 [==============================] - 23s 622ms/step - loss: 0.2655\n",
      "Epoch 6/10\n",
      "37/37 [==============================] - 23s 623ms/step - loss: 0.2766\n",
      "Epoch 7/10\n",
      "37/37 [==============================] - 23s 622ms/step - loss: 0.2290\n",
      "Epoch 8/10\n",
      "37/37 [==============================] - 30s 800ms/step - loss: 0.2168\n",
      "Epoch 9/10\n",
      "37/37 [==============================] - 24s 638ms/step - loss: 0.2078\n",
      "Epoch 10/10\n",
      "37/37 [==============================] - 24s 637ms/step - loss: 0.2058\n"
     ]
    },
    {
     "name": "stderr",
     "output_type": "stream",
     "text": [
      " Fold 10 F1: 0.06666666666666668:  37%|███▋      | 10/27 [46:22<1:18:35, 277.38s/it]"
     ]
    },
    {
     "name": "stdout",
     "output_type": "stream",
     "text": [
      "WARNING:tensorflow:`input_shape` is undefined or non-square, or `rows` is not in [96, 128, 160, 192, 224]. Weights for input shape (224, 224) will be loaded as the default.\n",
      "Epoch 1/10\n",
      "37/37 [==============================] - 49s 646ms/step - loss: 0.5341\n",
      "Epoch 2/10\n",
      "37/37 [==============================] - 24s 651ms/step - loss: 0.4487\n",
      "Epoch 3/10\n",
      "37/37 [==============================] - 24s 647ms/step - loss: 0.3094\n",
      "Epoch 4/10\n",
      "37/37 [==============================] - 24s 646ms/step - loss: 0.2709\n",
      "Epoch 5/10\n",
      "37/37 [==============================] - 24s 645ms/step - loss: 0.2724\n",
      "Epoch 6/10\n",
      "37/37 [==============================] - 24s 644ms/step - loss: 0.2416\n",
      "Epoch 7/10\n",
      "37/37 [==============================] - 24s 643ms/step - loss: 0.2321\n",
      "Epoch 8/10\n",
      "37/37 [==============================] - 24s 645ms/step - loss: 0.2250\n",
      "Epoch 9/10\n",
      "37/37 [==============================] - 24s 645ms/step - loss: 0.2167\n",
      "Epoch 10/10\n",
      "37/37 [==============================] - 24s 645ms/step - loss: 0.2040\n"
     ]
    },
    {
     "name": "stderr",
     "output_type": "stream",
     "text": [
      " Fold 11 F1: 0.5142857142857142:  41%|████      | 11/27 [51:04<1:14:23, 278.97s/it] "
     ]
    },
    {
     "name": "stdout",
     "output_type": "stream",
     "text": [
      "WARNING:tensorflow:`input_shape` is undefined or non-square, or `rows` is not in [96, 128, 160, 192, 224]. Weights for input shape (224, 224) will be loaded as the default.\n",
      "Epoch 1/10\n",
      "37/37 [==============================] - 48s 638ms/step - loss: 0.4039\n",
      "Epoch 2/10\n",
      "37/37 [==============================] - 24s 637ms/step - loss: 0.3163\n",
      "Epoch 3/10\n",
      "37/37 [==============================] - 24s 636ms/step - loss: 0.2935\n",
      "Epoch 4/10\n",
      "37/37 [==============================] - 24s 639ms/step - loss: 0.3141\n",
      "Epoch 5/10\n",
      "37/37 [==============================] - 24s 638ms/step - loss: 0.2620\n",
      "Epoch 6/10\n",
      "37/37 [==============================] - 24s 637ms/step - loss: 0.2928\n",
      "Epoch 7/10\n",
      "37/37 [==============================] - 24s 647ms/step - loss: 0.2190\n",
      "Epoch 8/10\n",
      "37/37 [==============================] - 24s 637ms/step - loss: 0.2050\n",
      "Epoch 9/10\n",
      "37/37 [==============================] - 24s 637ms/step - loss: 0.2314\n",
      "Epoch 10/10\n",
      "37/37 [==============================] - 24s 630ms/step - loss: 0.1850\n"
     ]
    },
    {
     "name": "stderr",
     "output_type": "stream",
     "text": [
      " Fold 12 F1: 0.6588235294117648:  44%|████▍     | 12/27 [55:43<1:09:42, 278.83s/it]"
     ]
    },
    {
     "name": "stdout",
     "output_type": "stream",
     "text": [
      "WARNING:tensorflow:`input_shape` is undefined or non-square, or `rows` is not in [96, 128, 160, 192, 224]. Weights for input shape (224, 224) will be loaded as the default.\n",
      "Epoch 1/10\n",
      "37/37 [==============================] - 46s 625ms/step - loss: 0.4924\n",
      "Epoch 2/10\n",
      "37/37 [==============================] - 24s 625ms/step - loss: 0.3329\n",
      "Epoch 3/10\n",
      "37/37 [==============================] - 24s 626ms/step - loss: 0.2883\n",
      "Epoch 4/10\n",
      "37/37 [==============================] - 24s 627ms/step - loss: 0.2673\n",
      "Epoch 5/10\n",
      "37/37 [==============================] - 24s 626ms/step - loss: 0.2538\n",
      "Epoch 6/10\n",
      "37/37 [==============================] - 24s 627ms/step - loss: 0.2450\n",
      "Epoch 7/10\n",
      "37/37 [==============================] - 24s 627ms/step - loss: 0.2353\n",
      "Epoch 8/10\n",
      "37/37 [==============================] - 24s 626ms/step - loss: 0.2085\n",
      "Epoch 9/10\n",
      "37/37 [==============================] - 24s 626ms/step - loss: 0.2237\n",
      "Epoch 10/10\n",
      "37/37 [==============================] - 25s 660ms/step - loss: 0.3135\n"
     ]
    },
    {
     "name": "stderr",
     "output_type": "stream",
     "text": [
      " Fold 13 F1: 0.2571428571428571:  48%|████▊     | 13/27 [1:00:20<1:04:55, 278.26s/it]"
     ]
    },
    {
     "name": "stdout",
     "output_type": "stream",
     "text": [
      "WARNING:tensorflow:`input_shape` is undefined or non-square, or `rows` is not in [96, 128, 160, 192, 224]. Weights for input shape (224, 224) will be loaded as the default.\n",
      "Epoch 1/10\n",
      "37/37 [==============================] - 54s 716ms/step - loss: 0.4609\n",
      "Epoch 2/10\n",
      "37/37 [==============================] - 25s 669ms/step - loss: 0.3338\n",
      "Epoch 3/10\n",
      "37/37 [==============================] - 25s 673ms/step - loss: 0.3044\n",
      "Epoch 4/10\n",
      "37/37 [==============================] - 25s 659ms/step - loss: 0.2916\n",
      "Epoch 5/10\n",
      "37/37 [==============================] - 25s 658ms/step - loss: 0.3223\n",
      "Epoch 6/10\n",
      "37/37 [==============================] - 25s 659ms/step - loss: 0.2492\n",
      "Epoch 7/10\n",
      "37/37 [==============================] - 25s 666ms/step - loss: 0.2611\n",
      "Epoch 8/10\n",
      "37/37 [==============================] - 25s 663ms/step - loss: 0.2346\n",
      "Epoch 9/10\n",
      "37/37 [==============================] - 25s 654ms/step - loss: 0.2148\n",
      "Epoch 10/10\n",
      "37/37 [==============================] - 25s 664ms/step - loss: 0.2130\n"
     ]
    },
    {
     "name": "stderr",
     "output_type": "stream",
     "text": [
      " Fold 14 F1: 0.8000000000000002:  52%|█████▏    | 14/27 [1:05:19<1:01:38, 284.49s/it]"
     ]
    },
    {
     "name": "stdout",
     "output_type": "stream",
     "text": [
      "WARNING:tensorflow:`input_shape` is undefined or non-square, or `rows` is not in [96, 128, 160, 192, 224]. Weights for input shape (224, 224) will be loaded as the default.\n",
      "Epoch 1/10\n",
      "37/37 [==============================] - 50s 662ms/step - loss: 0.4549\n",
      "Epoch 2/10\n",
      "37/37 [==============================] - 25s 671ms/step - loss: 0.3159\n",
      "Epoch 3/10\n",
      "37/37 [==============================] - 26s 698ms/step - loss: 0.3020\n",
      "Epoch 4/10\n",
      "37/37 [==============================] - 25s 660ms/step - loss: 0.2866\n",
      "Epoch 5/10\n",
      "37/37 [==============================] - 25s 659ms/step - loss: 0.2702\n",
      "Epoch 6/10\n",
      "37/37 [==============================] - 25s 656ms/step - loss: 0.2521\n",
      "Epoch 7/10\n",
      "37/37 [==============================] - 25s 656ms/step - loss: 0.2421\n",
      "Epoch 8/10\n",
      "37/37 [==============================] - 25s 654ms/step - loss: 0.2645\n",
      "Epoch 9/10\n",
      "37/37 [==============================] - 24s 650ms/step - loss: 0.2894\n",
      "Epoch 10/10\n",
      "37/37 [==============================] - 25s 657ms/step - loss: 0.2291\n"
     ]
    },
    {
     "name": "stderr",
     "output_type": "stream",
     "text": [
      " Fold 15 F1: 0.3212121212121213:  56%|█████▌    | 15/27 [1:10:11<57:21, 286.81s/it]  "
     ]
    },
    {
     "name": "stdout",
     "output_type": "stream",
     "text": [
      "WARNING:tensorflow:`input_shape` is undefined or non-square, or `rows` is not in [96, 128, 160, 192, 224]. Weights for input shape (224, 224) will be loaded as the default.\n",
      "Epoch 1/10\n",
      "37/37 [==============================] - 50s 646ms/step - loss: 0.4028\n",
      "Epoch 2/10\n",
      "37/37 [==============================] - 24s 651ms/step - loss: 0.3309\n",
      "Epoch 3/10\n",
      "37/37 [==============================] - 24s 640ms/step - loss: 0.3055\n",
      "Epoch 4/10\n",
      "37/37 [==============================] - 25s 661ms/step - loss: 0.2838\n",
      "Epoch 5/10\n",
      "37/37 [==============================] - 27s 720ms/step - loss: 0.3255\n",
      "Epoch 6/10\n",
      "37/37 [==============================] - 25s 656ms/step - loss: 0.2388\n",
      "Epoch 7/10\n",
      "37/37 [==============================] - 24s 646ms/step - loss: 0.2789\n",
      "Epoch 8/10\n",
      "37/37 [==============================] - 24s 641ms/step - loss: 0.2927\n",
      "Epoch 9/10\n",
      "37/37 [==============================] - 24s 640ms/step - loss: 0.2791\n",
      "Epoch 10/10\n",
      "37/37 [==============================] - 24s 642ms/step - loss: 0.2515\n"
     ]
    },
    {
     "name": "stderr",
     "output_type": "stream",
     "text": [
      " Fold 16 F1: 0.38333333333333336:  59%|█████▉    | 16/27 [1:14:59<52:39, 287.26s/it]"
     ]
    },
    {
     "name": "stdout",
     "output_type": "stream",
     "text": [
      "WARNING:tensorflow:`input_shape` is undefined or non-square, or `rows` is not in [96, 128, 160, 192, 224]. Weights for input shape (224, 224) will be loaded as the default.\n",
      "Epoch 1/10\n",
      "37/37 [==============================] - 48s 641ms/step - loss: 0.5003\n",
      "Epoch 2/10\n",
      "37/37 [==============================] - 24s 645ms/step - loss: 0.3195\n",
      "Epoch 3/10\n",
      "37/37 [==============================] - 27s 729ms/step - loss: 0.2917\n",
      "Epoch 4/10\n",
      "37/37 [==============================] - 28s 750ms/step - loss: 0.2768\n",
      "Epoch 5/10\n",
      "37/37 [==============================] - 27s 718ms/step - loss: 0.3057\n",
      "Epoch 6/10\n",
      "37/37 [==============================] - 24s 642ms/step - loss: 0.2288\n",
      "Epoch 7/10\n",
      "37/37 [==============================] - 24s 639ms/step - loss: 0.2278\n",
      "Epoch 8/10\n",
      "37/37 [==============================] - 24s 640ms/step - loss: 0.2226\n",
      "Epoch 9/10\n",
      "37/37 [==============================] - 24s 639ms/step - loss: 0.2123\n",
      "Epoch 10/10\n",
      "37/37 [==============================] - 24s 638ms/step - loss: 0.1940\n"
     ]
    },
    {
     "name": "stderr",
     "output_type": "stream",
     "text": [
      " Fold 17 F1: 0.6692307692307692:  63%|██████▎   | 17/27 [1:19:52<48:09, 288.99s/it] "
     ]
    },
    {
     "name": "stdout",
     "output_type": "stream",
     "text": [
      "WARNING:tensorflow:`input_shape` is undefined or non-square, or `rows` is not in [96, 128, 160, 192, 224]. Weights for input shape (224, 224) will be loaded as the default.\n",
      "Epoch 1/10\n",
      "37/37 [==============================] - 49s 661ms/step - loss: 0.4031\n",
      "Epoch 2/10\n",
      "37/37 [==============================] - 25s 652ms/step - loss: 0.3128\n",
      "Epoch 3/10\n",
      "37/37 [==============================] - 29s 768ms/step - loss: 0.3360\n",
      "Epoch 4/10\n",
      "37/37 [==============================] - 25s 661ms/step - loss: 0.2577\n",
      "Epoch 5/10\n",
      "37/37 [==============================] - 25s 662ms/step - loss: 0.2419\n",
      "Epoch 6/10\n",
      "37/37 [==============================] - 25s 662ms/step - loss: 0.2796\n",
      "Epoch 7/10\n",
      "37/37 [==============================] - 24s 652ms/step - loss: 0.2065\n",
      "Epoch 8/10\n",
      "37/37 [==============================] - 24s 648ms/step - loss: 0.2203\n",
      "Epoch 9/10\n",
      "37/37 [==============================] - 24s 648ms/step - loss: 0.2220\n",
      "Epoch 10/10\n",
      "37/37 [==============================] - 24s 644ms/step - loss: 0.1842\n"
     ]
    },
    {
     "name": "stderr",
     "output_type": "stream",
     "text": [
      " Fold 18 F1: 0.04102564102564103:  67%|██████▋   | 18/27 [1:24:44<43:29, 289.92s/it]"
     ]
    },
    {
     "name": "stdout",
     "output_type": "stream",
     "text": [
      "WARNING:tensorflow:`input_shape` is undefined or non-square, or `rows` is not in [96, 128, 160, 192, 224]. Weights for input shape (224, 224) will be loaded as the default.\n",
      "Epoch 1/10\n",
      "37/37 [==============================] - 52s 658ms/step - loss: 0.3886\n",
      "Epoch 2/10\n",
      "37/37 [==============================] - 24s 647ms/step - loss: 0.3147\n",
      "Epoch 3/10\n",
      "37/37 [==============================] - 24s 644ms/step - loss: 0.2914\n",
      "Epoch 4/10\n",
      "37/37 [==============================] - 24s 645ms/step - loss: 0.3403\n",
      "Epoch 5/10\n",
      "37/37 [==============================] - 27s 722ms/step - loss: 0.2660\n",
      "Epoch 6/10\n",
      "37/37 [==============================] - 27s 723ms/step - loss: 0.2272\n",
      "Epoch 7/10\n",
      "37/37 [==============================] - 30s 806ms/step - loss: 0.2314\n",
      "Epoch 8/10\n",
      "37/37 [==============================] - 30s 795ms/step - loss: 0.2069\n",
      "Epoch 9/10\n",
      "37/37 [==============================] - 30s 791ms/step - loss: 0.2249\n",
      "Epoch 10/10\n",
      "37/37 [==============================] - 30s 799ms/step - loss: 0.1860\n"
     ]
    },
    {
     "name": "stderr",
     "output_type": "stream",
     "text": [
      " Fold 19 F1: 0.9:  70%|███████   | 19/27 [1:30:04<39:50, 298.85s/it]                "
     ]
    },
    {
     "name": "stdout",
     "output_type": "stream",
     "text": [
      "WARNING:tensorflow:`input_shape` is undefined or non-square, or `rows` is not in [96, 128, 160, 192, 224]. Weights for input shape (224, 224) will be loaded as the default.\n",
      "Epoch 1/10\n",
      "37/37 [==============================] - 51s 654ms/step - loss: 0.4330\n",
      "Epoch 2/10\n",
      "37/37 [==============================] - 24s 651ms/step - loss: 0.3280\n",
      "Epoch 3/10\n",
      "37/37 [==============================] - 25s 660ms/step - loss: 0.3169\n",
      "Epoch 4/10\n",
      "37/37 [==============================] - 24s 651ms/step - loss: 0.3038\n",
      "Epoch 5/10\n",
      "37/37 [==============================] - 24s 650ms/step - loss: 0.2660\n",
      "Epoch 6/10\n",
      "37/37 [==============================] - 24s 650ms/step - loss: 0.2771\n",
      "Epoch 7/10\n",
      "37/37 [==============================] - 24s 649ms/step - loss: 0.2342\n",
      "Epoch 8/10\n",
      "37/37 [==============================] - 24s 651ms/step - loss: 0.2109\n",
      "Epoch 9/10\n",
      "37/37 [==============================] - 24s 650ms/step - loss: 0.2127\n",
      "Epoch 10/10\n",
      "37/37 [==============================] - 24s 649ms/step - loss: 0.2282\n"
     ]
    },
    {
     "name": "stderr",
     "output_type": "stream",
     "text": [
      " Fold 20 F1: 1.0:  74%|███████▍  | 20/27 [1:34:56<34:38, 296.87s/it]"
     ]
    },
    {
     "name": "stdout",
     "output_type": "stream",
     "text": [
      "WARNING:tensorflow:`input_shape` is undefined or non-square, or `rows` is not in [96, 128, 160, 192, 224]. Weights for input shape (224, 224) will be loaded as the default.\n",
      "Epoch 1/10\n",
      "37/37 [==============================] - 48s 648ms/step - loss: 0.4265\n",
      "Epoch 2/10\n",
      "37/37 [==============================] - 24s 645ms/step - loss: 0.3502\n",
      "Epoch 3/10\n",
      "37/37 [==============================] - 24s 649ms/step - loss: 0.3361\n",
      "Epoch 4/10\n",
      "37/37 [==============================] - 24s 649ms/step - loss: 0.2837\n",
      "Epoch 5/10\n",
      "37/37 [==============================] - 26s 700ms/step - loss: 0.2496\n",
      "Epoch 6/10\n",
      "37/37 [==============================] - 26s 678ms/step - loss: 0.2480\n",
      "Epoch 7/10\n",
      "37/37 [==============================] - 24s 649ms/step - loss: 0.2490\n",
      "Epoch 8/10\n",
      "37/37 [==============================] - 25s 678ms/step - loss: 0.2102\n",
      "Epoch 9/10\n",
      "37/37 [==============================] - 24s 641ms/step - loss: 0.2076\n",
      "Epoch 10/10\n",
      "37/37 [==============================] - 24s 642ms/step - loss: 0.2013\n"
     ]
    },
    {
     "name": "stderr",
     "output_type": "stream",
     "text": [
      " Fold 21 F1: 0.5804195804195803:  78%|███████▊  | 21/27 [1:39:44<29:25, 294.27s/it]"
     ]
    },
    {
     "name": "stdout",
     "output_type": "stream",
     "text": [
      "WARNING:tensorflow:`input_shape` is undefined or non-square, or `rows` is not in [96, 128, 160, 192, 224]. Weights for input shape (224, 224) will be loaded as the default.\n",
      "Epoch 1/10\n",
      "37/37 [==============================] - 49s 653ms/step - loss: 0.5011\n",
      "Epoch 2/10\n",
      "37/37 [==============================] - 24s 650ms/step - loss: 0.3304\n",
      "Epoch 3/10\n",
      "37/37 [==============================] - 24s 649ms/step - loss: 0.3259\n",
      "Epoch 4/10\n",
      "37/37 [==============================] - 24s 651ms/step - loss: 0.2911\n",
      "Epoch 5/10\n",
      "37/37 [==============================] - 24s 648ms/step - loss: 0.3223\n",
      "Epoch 6/10\n",
      "37/37 [==============================] - 24s 648ms/step - loss: 0.3233\n",
      "Epoch 7/10\n",
      "37/37 [==============================] - 25s 655ms/step - loss: 0.2273\n",
      "Epoch 8/10\n",
      "37/37 [==============================] - 24s 650ms/step - loss: 0.2658\n",
      "Epoch 9/10\n",
      "37/37 [==============================] - 25s 677ms/step - loss: 0.2161\n",
      "Epoch 10/10\n",
      "37/37 [==============================] - 26s 704ms/step - loss: 0.2450\n"
     ]
    },
    {
     "name": "stderr",
     "output_type": "stream",
     "text": [
      " Fold 22 F1: 0.6656611362493715:  81%|████████▏ | 22/27 [1:44:36<24:27, 293.59s/it]"
     ]
    },
    {
     "name": "stdout",
     "output_type": "stream",
     "text": [
      "WARNING:tensorflow:`input_shape` is undefined or non-square, or `rows` is not in [96, 128, 160, 192, 224]. Weights for input shape (224, 224) will be loaded as the default.\n",
      "Epoch 1/10\n",
      "31/31 [==============================] - 49s 788ms/step - loss: 0.4973\n",
      "Epoch 2/10\n",
      "31/31 [==============================] - 24s 754ms/step - loss: 0.2741\n",
      "Epoch 3/10\n",
      "31/31 [==============================] - 23s 742ms/step - loss: 0.2630\n",
      "Epoch 4/10\n",
      "31/31 [==============================] - 24s 772ms/step - loss: 0.2350\n",
      "Epoch 5/10\n",
      "31/31 [==============================] - 23s 735ms/step - loss: 0.2388\n",
      "Epoch 6/10\n",
      "31/31 [==============================] - 22s 705ms/step - loss: 0.2059\n",
      "Epoch 7/10\n",
      "31/31 [==============================] - 21s 676ms/step - loss: 0.1806\n",
      "Epoch 8/10\n",
      "31/31 [==============================] - 21s 675ms/step - loss: 0.1788\n",
      "Epoch 9/10\n",
      "31/31 [==============================] - 21s 674ms/step - loss: 0.1788\n",
      "Epoch 10/10\n",
      "31/31 [==============================] - 21s 674ms/step - loss: 0.2098\n"
     ]
    },
    {
     "name": "stderr",
     "output_type": "stream",
     "text": [
      " Fold 23 F1: 0.5345433199837154:  85%|████████▌ | 23/27 [1:49:26<19:30, 292.50s/it]"
     ]
    },
    {
     "name": "stdout",
     "output_type": "stream",
     "text": [
      "WARNING:tensorflow:`input_shape` is undefined or non-square, or `rows` is not in [96, 128, 160, 192, 224]. Weights for input shape (224, 224) will be loaded as the default.\n",
      "Epoch 1/10\n",
      "29/29 [==============================] - 49s 700ms/step - loss: 0.7928\n",
      "Epoch 2/10\n",
      "29/29 [==============================] - 21s 704ms/step - loss: 0.4914\n",
      "Epoch 3/10\n",
      "29/29 [==============================] - 20s 684ms/step - loss: 0.3906\n",
      "Epoch 4/10\n",
      "29/29 [==============================] - 22s 732ms/step - loss: 0.4032\n",
      "Epoch 5/10\n",
      "29/29 [==============================] - 20s 683ms/step - loss: 0.3460\n",
      "Epoch 6/10\n",
      "29/29 [==============================] - 20s 680ms/step - loss: 0.3232\n",
      "Epoch 7/10\n",
      "29/29 [==============================] - 20s 679ms/step - loss: 0.3323\n",
      "Epoch 8/10\n",
      "29/29 [==============================] - 20s 680ms/step - loss: 0.4170\n",
      "Epoch 9/10\n",
      "29/29 [==============================] - 20s 689ms/step - loss: 0.3074\n",
      "Epoch 10/10\n",
      "29/29 [==============================] - 20s 682ms/step - loss: 0.2958\n"
     ]
    },
    {
     "name": "stderr",
     "output_type": "stream",
     "text": [
      " Fold 24 F1: 0.9008015368309488:  89%|████████▉ | 24/27 [1:54:03<14:23, 287.70s/it]"
     ]
    },
    {
     "name": "stdout",
     "output_type": "stream",
     "text": [
      "WARNING:tensorflow:`input_shape` is undefined or non-square, or `rows` is not in [96, 128, 160, 192, 224]. Weights for input shape (224, 224) will be loaded as the default.\n",
      "Epoch 1/10\n",
      "36/36 [==============================] - 51s 681ms/step - loss: 0.4570\n",
      "Epoch 2/10\n",
      "36/36 [==============================] - 25s 679ms/step - loss: 0.3134\n",
      "Epoch 3/10\n",
      "36/36 [==============================] - 25s 680ms/step - loss: 0.2833\n",
      "Epoch 4/10\n",
      "36/36 [==============================] - 25s 678ms/step - loss: 0.2821\n",
      "Epoch 5/10\n",
      "36/36 [==============================] - 25s 679ms/step - loss: 0.2756\n",
      "Epoch 6/10\n",
      "36/36 [==============================] - 25s 680ms/step - loss: 0.3190\n",
      "Epoch 7/10\n",
      "36/36 [==============================] - 25s 679ms/step - loss: 0.2612\n",
      "Epoch 8/10\n",
      "36/36 [==============================] - 25s 680ms/step - loss: 0.2201\n",
      "Epoch 9/10\n",
      "36/36 [==============================] - 25s 680ms/step - loss: 0.2036\n",
      "Epoch 10/10\n",
      "36/36 [==============================] - 25s 681ms/step - loss: 0.2136\n"
     ]
    },
    {
     "name": "stderr",
     "output_type": "stream",
     "text": [
      " Fold 25 F1: 0.5729166666666666:  93%|█████████▎| 25/27 [1:59:01<09:41, 290.82s/it]"
     ]
    },
    {
     "name": "stdout",
     "output_type": "stream",
     "text": [
      "WARNING:tensorflow:`input_shape` is undefined or non-square, or `rows` is not in [96, 128, 160, 192, 224]. Weights for input shape (224, 224) will be loaded as the default.\n",
      "Epoch 1/10\n",
      "34/34 [==============================] - 50s 679ms/step - loss: 0.5597\n",
      "Epoch 2/10\n",
      "34/34 [==============================] - 24s 681ms/step - loss: 0.3784\n",
      "Epoch 3/10\n",
      "34/34 [==============================] - 24s 680ms/step - loss: 0.3991\n",
      "Epoch 4/10\n",
      "34/34 [==============================] - 23s 680ms/step - loss: 0.3449\n",
      "Epoch 5/10\n",
      "34/34 [==============================] - 23s 678ms/step - loss: 0.3045\n",
      "Epoch 6/10\n",
      "34/34 [==============================] - 23s 675ms/step - loss: 0.3155\n",
      "Epoch 7/10\n",
      "34/34 [==============================] - 24s 686ms/step - loss: 0.3784\n",
      "Epoch 8/10\n",
      "34/34 [==============================] - 23s 678ms/step - loss: 0.2916\n",
      "Epoch 9/10\n",
      "34/34 [==============================] - 23s 678ms/step - loss: 0.3056\n",
      "Epoch 10/10\n",
      "34/34 [==============================] - 24s 679ms/step - loss: 0.2400\n"
     ]
    },
    {
     "name": "stderr",
     "output_type": "stream",
     "text": [
      " Fold 26 F1: 0.8376811594202898:  96%|█████████▋| 26/27 [2:03:51<04:50, 290.51s/it]"
     ]
    },
    {
     "name": "stdout",
     "output_type": "stream",
     "text": [
      "WARNING:tensorflow:`input_shape` is undefined or non-square, or `rows` is not in [96, 128, 160, 192, 224]. Weights for input shape (224, 224) will be loaded as the default.\n",
      "Epoch 1/10\n",
      "35/35 [==============================] - 50s 680ms/step - loss: 0.4380\n",
      "Epoch 2/10\n",
      "35/35 [==============================] - 24s 669ms/step - loss: 0.3090\n",
      "Epoch 3/10\n",
      "35/35 [==============================] - 24s 670ms/step - loss: 0.3237\n",
      "Epoch 4/10\n",
      "35/35 [==============================] - 24s 670ms/step - loss: 0.2707\n",
      "Epoch 5/10\n",
      "35/35 [==============================] - 25s 691ms/step - loss: 0.2462\n",
      "Epoch 6/10\n",
      "35/35 [==============================] - 24s 671ms/step - loss: 0.2544\n",
      "Epoch 7/10\n",
      "35/35 [==============================] - 24s 671ms/step - loss: 0.2986\n",
      "Epoch 8/10\n",
      "35/35 [==============================] - 24s 671ms/step - loss: 0.2044\n",
      "Epoch 9/10\n",
      "35/35 [==============================] - 24s 670ms/step - loss: 0.1850\n",
      "Epoch 10/10\n",
      "35/35 [==============================] - 24s 671ms/step - loss: 0.1837\n"
     ]
    },
    {
     "name": "stderr",
     "output_type": "stream",
     "text": [
      " Fold 27 F1: 0.3285356695869837: 100%|██████████| 27/27 [2:08:43<00:00, 286.04s/it]\n"
     ]
    },
    {
     "name": "stdout",
     "output_type": "stream",
     "text": [
      "Performance model:\n",
      " accuracy: 0.531 +- 0.264 \n",
      "\n",
      " balanced_accuracy: 0.548 +- 0.222 \n",
      "\n",
      " f1: 0.53 +- 0.287 \n",
      "\n",
      " recall: 0.531 +- 0.264 \n",
      "\n",
      " precision: 0.656 +- 0.327 \n",
      "\n",
      "Starting stratified 5-fold for physical fatigue\n"
     ]
    },
    {
     "name": "stderr",
     "output_type": "stream",
     "text": [
      "  0%|          | 0/5 [00:00<?, ?it/s]"
     ]
    },
    {
     "name": "stdout",
     "output_type": "stream",
     "text": [
      "WARNING:tensorflow:`input_shape` is undefined or non-square, or `rows` is not in [96, 128, 160, 192, 224]. Weights for input shape (224, 224) will be loaded as the default.\n",
      "Epoch 1/10\n",
      "30/30 [==============================] - 48s 688ms/step - loss: 0.4419\n",
      "Epoch 2/10\n",
      "30/30 [==============================] - 21s 685ms/step - loss: 0.3682\n",
      "Epoch 3/10\n",
      "30/30 [==============================] - 21s 702ms/step - loss: 0.2965\n",
      "Epoch 4/10\n",
      "30/30 [==============================] - 23s 763ms/step - loss: 0.2821\n",
      "Epoch 5/10\n",
      "30/30 [==============================] - 24s 776ms/step - loss: 0.2693\n",
      "Epoch 6/10\n",
      "30/30 [==============================] - 24s 778ms/step - loss: 0.2747\n",
      "Epoch 7/10\n",
      "30/30 [==============================] - 24s 793ms/step - loss: 0.2547\n",
      "Epoch 8/10\n",
      "30/30 [==============================] - 23s 740ms/step - loss: 0.2727\n",
      "Epoch 9/10\n",
      "30/30 [==============================] - 21s 679ms/step - loss: 0.2261\n",
      "Epoch 10/10\n",
      "30/30 [==============================] - 20s 663ms/step - loss: 0.2550\n"
     ]
    },
    {
     "name": "stderr",
     "output_type": "stream",
     "text": [
      " Fold 1 F1: 0.6252147028512538:  20%|██        | 1/5 [04:45<19:03, 285.89s/it]"
     ]
    },
    {
     "name": "stdout",
     "output_type": "stream",
     "text": [
      "WARNING:tensorflow:`input_shape` is undefined or non-square, or `rows` is not in [96, 128, 160, 192, 224]. Weights for input shape (224, 224) will be loaded as the default.\n",
      "Epoch 1/10\n",
      "30/30 [==============================] - 47s 646ms/step - loss: 0.5568\n",
      "Epoch 2/10\n",
      "30/30 [==============================] - 20s 645ms/step - loss: 0.3583\n",
      "Epoch 3/10\n",
      "30/30 [==============================] - 20s 646ms/step - loss: 0.2893\n",
      "Epoch 4/10\n",
      "30/30 [==============================] - 20s 648ms/step - loss: 0.2987\n",
      "Epoch 5/10\n",
      "30/30 [==============================] - 20s 646ms/step - loss: 0.2972\n",
      "Epoch 6/10\n",
      "30/30 [==============================] - 20s 648ms/step - loss: 0.2568\n",
      "Epoch 7/10\n",
      "30/30 [==============================] - 20s 647ms/step - loss: 0.2509\n",
      "Epoch 8/10\n",
      "30/30 [==============================] - 20s 663ms/step - loss: 0.2361\n",
      "Epoch 9/10\n",
      "30/30 [==============================] - 20s 638ms/step - loss: 0.2191\n",
      "Epoch 10/10\n",
      "30/30 [==============================] - 20s 639ms/step - loss: 0.2181\n"
     ]
    },
    {
     "name": "stderr",
     "output_type": "stream",
     "text": [
      " Fold 2 F1: 0.7314320877705044:  40%|████      | 2/5 [09:06<13:32, 270.92s/it]"
     ]
    },
    {
     "name": "stdout",
     "output_type": "stream",
     "text": [
      "WARNING:tensorflow:`input_shape` is undefined or non-square, or `rows` is not in [96, 128, 160, 192, 224]. Weights for input shape (224, 224) will be loaded as the default.\n",
      "Epoch 1/10\n",
      "30/30 [==============================] - 45s 638ms/step - loss: 0.4080\n",
      "Epoch 2/10\n",
      "30/30 [==============================] - 20s 638ms/step - loss: 0.4567\n",
      "Epoch 3/10\n",
      "30/30 [==============================] - 20s 638ms/step - loss: 0.3668\n",
      "Epoch 4/10\n",
      "30/30 [==============================] - 20s 638ms/step - loss: 0.2754\n",
      "Epoch 5/10\n",
      "30/30 [==============================] - 20s 639ms/step - loss: 0.2988\n",
      "Epoch 6/10\n",
      "30/30 [==============================] - 20s 638ms/step - loss: 0.3177\n",
      "Epoch 7/10\n",
      "30/30 [==============================] - 20s 638ms/step - loss: 0.2343\n",
      "Epoch 8/10\n",
      "30/30 [==============================] - 20s 639ms/step - loss: 0.2408\n",
      "Epoch 9/10\n",
      "30/30 [==============================] - 20s 638ms/step - loss: 0.2104\n",
      "Epoch 10/10\n",
      "30/30 [==============================] - 20s 638ms/step - loss: 0.2307\n"
     ]
    },
    {
     "name": "stderr",
     "output_type": "stream",
     "text": [
      " Fold 3 F1: 0.7098685348555615:  60%|██████    | 3/5 [13:20<08:46, 263.16s/it]"
     ]
    },
    {
     "name": "stdout",
     "output_type": "stream",
     "text": [
      "WARNING:tensorflow:`input_shape` is undefined or non-square, or `rows` is not in [96, 128, 160, 192, 224]. Weights for input shape (224, 224) will be loaded as the default.\n",
      "Epoch 1/10\n",
      "30/30 [==============================] - 44s 644ms/step - loss: 0.4335\n",
      "Epoch 2/10\n",
      "30/30 [==============================] - 20s 647ms/step - loss: 0.4089\n",
      "Epoch 3/10\n",
      "30/30 [==============================] - 20s 645ms/step - loss: 0.3030\n",
      "Epoch 4/10\n",
      "30/30 [==============================] - 20s 644ms/step - loss: 0.2840\n",
      "Epoch 5/10\n",
      "30/30 [==============================] - 20s 644ms/step - loss: 0.2605\n",
      "Epoch 6/10\n",
      "30/30 [==============================] - 20s 643ms/step - loss: 0.2676\n",
      "Epoch 7/10\n",
      "30/30 [==============================] - 20s 643ms/step - loss: 0.2411\n",
      "Epoch 8/10\n",
      "30/30 [==============================] - 20s 644ms/step - loss: 0.2315\n",
      "Epoch 9/10\n",
      "30/30 [==============================] - 20s 644ms/step - loss: 0.2289\n",
      "Epoch 10/10\n",
      "30/30 [==============================] - 20s 644ms/step - loss: 0.2195\n"
     ]
    },
    {
     "name": "stderr",
     "output_type": "stream",
     "text": [
      " Fold 4 F1: 0.8323829888334521:  80%|████████  | 4/5 [17:37<04:20, 260.99s/it]"
     ]
    },
    {
     "name": "stdout",
     "output_type": "stream",
     "text": [
      "WARNING:tensorflow:`input_shape` is undefined or non-square, or `rows` is not in [96, 128, 160, 192, 224]. Weights for input shape (224, 224) will be loaded as the default.\n",
      "Epoch 1/10\n",
      "30/30 [==============================] - 45s 656ms/step - loss: 0.3944\n",
      "Epoch 2/10\n",
      "30/30 [==============================] - 20s 656ms/step - loss: 0.3374\n",
      "Epoch 3/10\n",
      "30/30 [==============================] - 20s 655ms/step - loss: 0.3018\n",
      "Epoch 4/10\n",
      "30/30 [==============================] - 20s 656ms/step - loss: 0.2730\n",
      "Epoch 5/10\n",
      "30/30 [==============================] - 20s 655ms/step - loss: 0.2576\n",
      "Epoch 6/10\n",
      "30/30 [==============================] - 21s 675ms/step - loss: 0.2373\n",
      "Epoch 7/10\n",
      "30/30 [==============================] - 20s 641ms/step - loss: 0.2824\n",
      "Epoch 8/10\n",
      "30/30 [==============================] - 19s 638ms/step - loss: 0.2239\n",
      "Epoch 9/10\n",
      "30/30 [==============================] - 20s 639ms/step - loss: 0.2111\n",
      "Epoch 10/10\n",
      "30/30 [==============================] - 20s 638ms/step - loss: 0.1795\n"
     ]
    },
    {
     "name": "stderr",
     "output_type": "stream",
     "text": [
      " Fold 5 F1: 0.762496971654688: 100%|██████████| 5/5 [21:53<00:00, 262.77s/it] "
     ]
    },
    {
     "name": "stdout",
     "output_type": "stream",
     "text": [
      "Performance model:\n",
      " accuracy: 0.746 +- 0.05 \n",
      "\n",
      " balanced_accuracy: 0.692 +- 0.1 \n",
      "\n",
      " f1: 0.732 +- 0.068 \n",
      "\n",
      " recall: 0.746 +- 0.05 \n",
      "\n",
      " precision: 0.749 +- 0.103 \n",
      "\n",
      "WARNING:tensorflow:`input_shape` is undefined or non-square, or `rows` is not in [96, 128, 160, 192, 224]. Weights for input shape (224, 224) will be loaded as the default.\n"
     ]
    },
    {
     "name": "stderr",
     "output_type": "stream",
     "text": [
      "\n"
     ]
    },
    {
     "name": "stdout",
     "output_type": "stream",
     "text": [
      "Starting stratified group 5-fold for mental fatigue\n"
     ]
    },
    {
     "name": "stderr",
     "output_type": "stream",
     "text": [
      "  0%|          | 0/5 [00:00<?, ?it/s]"
     ]
    },
    {
     "name": "stdout",
     "output_type": "stream",
     "text": [
      "WARNING:tensorflow:`input_shape` is undefined or non-square, or `rows` is not in [96, 128, 160, 192, 224]. Weights for input shape (224, 224) will be loaded as the default.\n",
      "Epoch 1/10\n",
      "35/35 [==============================] - 47s 630ms/step - loss: 0.7908\n",
      "Epoch 2/10\n",
      "35/35 [==============================] - 22s 627ms/step - loss: 0.5501\n",
      "Epoch 3/10\n",
      "35/35 [==============================] - 22s 631ms/step - loss: 0.4484\n",
      "Epoch 4/10\n",
      "35/35 [==============================] - 22s 625ms/step - loss: 0.3994\n",
      "Epoch 5/10\n",
      "35/35 [==============================] - 22s 628ms/step - loss: 0.3737\n",
      "Epoch 6/10\n",
      "35/35 [==============================] - 22s 630ms/step - loss: 0.3676\n",
      "Epoch 7/10\n",
      "35/35 [==============================] - 22s 626ms/step - loss: 0.3608\n",
      "Epoch 8/10\n",
      "35/35 [==============================] - 22s 630ms/step - loss: 0.3306\n",
      "Epoch 9/10\n",
      "35/35 [==============================] - 22s 631ms/step - loss: 0.3219\n",
      "Epoch 10/10\n",
      "35/35 [==============================] - 22s 631ms/step - loss: 0.3000\n"
     ]
    },
    {
     "name": "stderr",
     "output_type": "stream",
     "text": [
      " Fold 1 F1: 0.47470238095238093:  20%|██        | 1/5 [04:28<17:55, 268.82s/it]"
     ]
    },
    {
     "name": "stdout",
     "output_type": "stream",
     "text": [
      "WARNING:tensorflow:`input_shape` is undefined or non-square, or `rows` is not in [96, 128, 160, 192, 224]. Weights for input shape (224, 224) will be loaded as the default.\n",
      "Epoch 1/10\n",
      "28/28 [==============================] - 42s 640ms/step - loss: 0.6141\n",
      "Epoch 2/10\n",
      "28/28 [==============================] - 18s 639ms/step - loss: 0.4159\n",
      "Epoch 3/10\n",
      "28/28 [==============================] - 18s 641ms/step - loss: 0.3908\n",
      "Epoch 4/10\n",
      "28/28 [==============================] - 18s 641ms/step - loss: 0.3596\n",
      "Epoch 5/10\n",
      "28/28 [==============================] - 18s 639ms/step - loss: 0.3364\n",
      "Epoch 6/10\n",
      "28/28 [==============================] - 18s 640ms/step - loss: 0.3822\n",
      "Epoch 7/10\n",
      "28/28 [==============================] - 18s 639ms/step - loss: 0.4662\n",
      "Epoch 8/10\n",
      "28/28 [==============================] - 18s 640ms/step - loss: 0.3092\n",
      "Epoch 9/10\n",
      "28/28 [==============================] - 18s 640ms/step - loss: 0.2840\n",
      "Epoch 10/10\n",
      "28/28 [==============================] - 18s 641ms/step - loss: 0.3138\n"
     ]
    },
    {
     "name": "stderr",
     "output_type": "stream",
     "text": [
      " Fold 2 F1: 0.5006735958268388:  40%|████      | 2/5 [08:32<12:42, 254.01s/it] "
     ]
    },
    {
     "name": "stdout",
     "output_type": "stream",
     "text": [
      "WARNING:tensorflow:`input_shape` is undefined or non-square, or `rows` is not in [96, 128, 160, 192, 224]. Weights for input shape (224, 224) will be loaded as the default.\n",
      "Epoch 1/10\n",
      "31/31 [==============================] - 44s 623ms/step - loss: 0.5027\n",
      "Epoch 2/10\n",
      "31/31 [==============================] - 20s 626ms/step - loss: 0.4038\n",
      "Epoch 3/10\n",
      "31/31 [==============================] - 20s 625ms/step - loss: 0.3571\n",
      "Epoch 4/10\n",
      "31/31 [==============================] - 20s 624ms/step - loss: 0.3371\n",
      "Epoch 5/10\n",
      "31/31 [==============================] - 20s 626ms/step - loss: 0.3262\n",
      "Epoch 6/10\n",
      "31/31 [==============================] - 20s 625ms/step - loss: 0.2875\n",
      "Epoch 7/10\n",
      "31/31 [==============================] - 20s 624ms/step - loss: 0.2787\n",
      "Epoch 8/10\n",
      "31/31 [==============================] - 20s 623ms/step - loss: 0.3249\n",
      "Epoch 9/10\n",
      "31/31 [==============================] - 20s 625ms/step - loss: 0.2916\n",
      "Epoch 10/10\n",
      "31/31 [==============================] - 20s 624ms/step - loss: 0.2573\n"
     ]
    },
    {
     "name": "stderr",
     "output_type": "stream",
     "text": [
      " Fold 3 F1: 0.5156469429248149:  60%|██████    | 3/5 [12:45<08:27, 253.61s/it]"
     ]
    },
    {
     "name": "stdout",
     "output_type": "stream",
     "text": [
      "WARNING:tensorflow:`input_shape` is undefined or non-square, or `rows` is not in [96, 128, 160, 192, 224]. Weights for input shape (224, 224) will be loaded as the default.\n",
      "Epoch 1/10\n",
      "37/37 [==============================] - 47s 628ms/step - loss: 0.6362\n",
      "Epoch 2/10\n",
      "37/37 [==============================] - 24s 628ms/step - loss: 0.4425\n",
      "Epoch 3/10\n",
      "37/37 [==============================] - 24s 628ms/step - loss: 0.4342\n",
      "Epoch 4/10\n",
      "37/37 [==============================] - 24s 629ms/step - loss: 0.3713\n",
      "Epoch 5/10\n",
      "37/37 [==============================] - 24s 628ms/step - loss: 0.3528\n",
      "Epoch 6/10\n",
      "37/37 [==============================] - 24s 628ms/step - loss: 0.3505\n",
      "Epoch 7/10\n",
      "37/37 [==============================] - 24s 630ms/step - loss: 0.3403\n",
      "Epoch 8/10\n",
      "37/37 [==============================] - 24s 630ms/step - loss: 0.2955\n",
      "Epoch 9/10\n",
      "37/37 [==============================] - 24s 628ms/step - loss: 0.2889\n",
      "Epoch 10/10\n",
      "37/37 [==============================] - 24s 630ms/step - loss: 0.2723\n"
     ]
    },
    {
     "name": "stderr",
     "output_type": "stream",
     "text": [
      " Fold 4 F1: 0.5882352941176471:  80%|████████  | 4/5 [17:21<04:22, 262.54s/it]"
     ]
    },
    {
     "name": "stdout",
     "output_type": "stream",
     "text": [
      "WARNING:tensorflow:`input_shape` is undefined or non-square, or `rows` is not in [96, 128, 160, 192, 224]. Weights for input shape (224, 224) will be loaded as the default.\n",
      "Epoch 1/10\n",
      "20/20 [==============================] - 37s 625ms/step - loss: 0.8536\n",
      "Epoch 2/10\n",
      "20/20 [==============================] - 13s 629ms/step - loss: 0.6221\n",
      "Epoch 3/10\n",
      "20/20 [==============================] - 13s 624ms/step - loss: 0.5877\n",
      "Epoch 4/10\n",
      "20/20 [==============================] - 13s 628ms/step - loss: 0.5642\n",
      "Epoch 5/10\n",
      "20/20 [==============================] - 13s 624ms/step - loss: 0.5765\n",
      "Epoch 6/10\n",
      "20/20 [==============================] - 13s 628ms/step - loss: 0.4709\n",
      "Epoch 7/10\n",
      "20/20 [==============================] - 13s 627ms/step - loss: 0.4591\n",
      "Epoch 8/10\n",
      "20/20 [==============================] - 13s 626ms/step - loss: 0.4351\n",
      "Epoch 9/10\n",
      "20/20 [==============================] - 13s 625ms/step - loss: 0.4066\n",
      "Epoch 10/10\n",
      "20/20 [==============================] - 13s 626ms/step - loss: 0.3831\n"
     ]
    },
    {
     "name": "stderr",
     "output_type": "stream",
     "text": [
      " Fold 5 F1: 0.7224161033856414: 100%|██████████| 5/5 [20:50<00:00, 250.05s/it]\n"
     ]
    },
    {
     "name": "stdout",
     "output_type": "stream",
     "text": [
      "Performance model:\n",
      " accuracy: 0.562 +- 0.107 \n",
      "\n",
      " balanced_accuracy: 0.476 +- 0.066 \n",
      "\n",
      " f1: 0.56 +- 0.089 \n",
      "\n",
      " recall: 0.562 +- 0.107 \n",
      "\n",
      " precision: 0.646 +- 0.198 \n",
      "\n",
      "Starting leave-one-subject-out for mental fatigue\n"
     ]
    },
    {
     "name": "stderr",
     "output_type": "stream",
     "text": [
      "  0%|          | 0/27 [00:00<?, ?it/s]"
     ]
    },
    {
     "name": "stdout",
     "output_type": "stream",
     "text": [
      "WARNING:tensorflow:`input_shape` is undefined or non-square, or `rows` is not in [96, 128, 160, 192, 224]. Weights for input shape (224, 224) will be loaded as the default.\n",
      "Epoch 1/10\n",
      "37/37 [==============================] - 48s 629ms/step - loss: 0.5579\n",
      "Epoch 2/10\n",
      "37/37 [==============================] - 23s 625ms/step - loss: 0.4200\n",
      "Epoch 3/10\n",
      "37/37 [==============================] - 24s 627ms/step - loss: 0.3954\n",
      "Epoch 4/10\n",
      "37/37 [==============================] - 24s 628ms/step - loss: 0.3980\n",
      "Epoch 5/10\n",
      "37/37 [==============================] - 24s 628ms/step - loss: 0.3829\n",
      "Epoch 6/10\n",
      "37/37 [==============================] - 24s 626ms/step - loss: 0.3242\n",
      "Epoch 7/10\n",
      "37/37 [==============================] - 24s 629ms/step - loss: 0.3354\n",
      "Epoch 8/10\n",
      "37/37 [==============================] - 24s 627ms/step - loss: 0.3555\n",
      "Epoch 9/10\n",
      "37/37 [==============================] - 24s 627ms/step - loss: 0.3449\n",
      "Epoch 10/10\n",
      "37/37 [==============================] - 24s 627ms/step - loss: 0.2868\n"
     ]
    },
    {
     "name": "stderr",
     "output_type": "stream",
     "text": [
      " Fold 1 F1: 0.7777777777777779:   4%|▎         | 1/27 [04:36<1:59:43, 276.29s/it]"
     ]
    },
    {
     "name": "stdout",
     "output_type": "stream",
     "text": [
      "WARNING:tensorflow:`input_shape` is undefined or non-square, or `rows` is not in [96, 128, 160, 192, 224]. Weights for input shape (224, 224) will be loaded as the default.\n",
      "Epoch 1/10\n",
      "38/38 [==============================] - 49s 636ms/step - loss: 0.6229\n",
      "Epoch 2/10\n",
      "38/38 [==============================] - 25s 637ms/step - loss: 0.4438\n",
      "Epoch 3/10\n",
      "38/38 [==============================] - 25s 637ms/step - loss: 0.4417\n",
      "Epoch 4/10\n",
      "38/38 [==============================] - 25s 638ms/step - loss: 0.4396\n",
      "Epoch 5/10\n",
      "38/38 [==============================] - 25s 638ms/step - loss: 0.3546\n",
      "Epoch 6/10\n",
      "38/38 [==============================] - 25s 637ms/step - loss: 0.3452\n",
      "Epoch 7/10\n",
      "38/38 [==============================] - 25s 638ms/step - loss: 0.3364\n",
      "Epoch 8/10\n",
      "38/38 [==============================] - 25s 637ms/step - loss: 0.3119\n",
      "Epoch 9/10\n",
      "38/38 [==============================] - 25s 637ms/step - loss: 0.2919\n",
      "Epoch 10/10\n",
      "38/38 [==============================] - 25s 638ms/step - loss: 0.2820\n"
     ]
    },
    {
     "name": "stderr",
     "output_type": "stream",
     "text": [
      " Fold 2 F1: 0.0:   7%|▋         | 2/27 [09:19<1:56:52, 280.51s/it]               "
     ]
    },
    {
     "name": "stdout",
     "output_type": "stream",
     "text": [
      "WARNING:tensorflow:`input_shape` is undefined or non-square, or `rows` is not in [96, 128, 160, 192, 224]. Weights for input shape (224, 224) will be loaded as the default.\n",
      "Epoch 1/10\n",
      "37/37 [==============================] - 47s 621ms/step - loss: 0.5415\n",
      "Epoch 2/10\n",
      "37/37 [==============================] - 23s 621ms/step - loss: 0.4422\n",
      "Epoch 3/10\n",
      "37/37 [==============================] - 23s 621ms/step - loss: 0.4198\n",
      "Epoch 4/10\n",
      "37/37 [==============================] - 23s 622ms/step - loss: 0.4052\n",
      "Epoch 5/10\n",
      "37/37 [==============================] - 23s 623ms/step - loss: 0.3768\n",
      "Epoch 6/10\n",
      "37/37 [==============================] - 23s 621ms/step - loss: 0.3716\n",
      "Epoch 7/10\n",
      "37/37 [==============================] - 23s 620ms/step - loss: 0.3283\n",
      "Epoch 8/10\n",
      "37/37 [==============================] - 23s 622ms/step - loss: 0.2964\n",
      "Epoch 9/10\n",
      "37/37 [==============================] - 23s 622ms/step - loss: 0.2903\n",
      "Epoch 10/10\n",
      "37/37 [==============================] - 23s 621ms/step - loss: 0.2723\n"
     ]
    },
    {
     "name": "stderr",
     "output_type": "stream",
     "text": [
      " Fold 3 F1: 0.3328671328671329:  11%|█         | 3/27 [13:52<1:50:47, 277.00s/it]"
     ]
    },
    {
     "name": "stdout",
     "output_type": "stream",
     "text": [
      "WARNING:tensorflow:`input_shape` is undefined or non-square, or `rows` is not in [96, 128, 160, 192, 224]. Weights for input shape (224, 224) will be loaded as the default.\n",
      "Epoch 1/10\n",
      "37/37 [==============================] - 47s 622ms/step - loss: 0.6965\n",
      "Epoch 2/10\n",
      "37/37 [==============================] - 23s 622ms/step - loss: 0.4958\n",
      "Epoch 3/10\n",
      "37/37 [==============================] - 23s 622ms/step - loss: 0.4608\n",
      "Epoch 4/10\n",
      "37/37 [==============================] - 23s 622ms/step - loss: 0.4193\n",
      "Epoch 5/10\n",
      "37/37 [==============================] - 23s 621ms/step - loss: 0.3816\n",
      "Epoch 6/10\n",
      "37/37 [==============================] - 23s 623ms/step - loss: 0.3455\n",
      "Epoch 7/10\n",
      "37/37 [==============================] - 23s 621ms/step - loss: 0.3552\n",
      "Epoch 8/10\n",
      "37/37 [==============================] - 23s 622ms/step - loss: 0.3756\n",
      "Epoch 9/10\n",
      "37/37 [==============================] - 23s 622ms/step - loss: 0.3115\n",
      "Epoch 10/10\n",
      "37/37 [==============================] - 23s 622ms/step - loss: 0.3527\n"
     ]
    },
    {
     "name": "stderr",
     "output_type": "stream",
     "text": [
      " Fold 4 F1: 0.2552447552447552:  15%|█▍        | 4/27 [18:27<1:45:53, 276.24s/it]"
     ]
    },
    {
     "name": "stdout",
     "output_type": "stream",
     "text": [
      "WARNING:tensorflow:`input_shape` is undefined or non-square, or `rows` is not in [96, 128, 160, 192, 224]. Weights for input shape (224, 224) will be loaded as the default.\n",
      "Epoch 1/10\n",
      "37/37 [==============================] - 46s 627ms/step - loss: 0.6187\n",
      "Epoch 2/10\n",
      "37/37 [==============================] - 24s 625ms/step - loss: 0.4676\n",
      "Epoch 3/10\n",
      "37/37 [==============================] - 24s 626ms/step - loss: 0.4566\n",
      "Epoch 4/10\n",
      "37/37 [==============================] - 24s 626ms/step - loss: 0.4275\n",
      "Epoch 5/10\n",
      "37/37 [==============================] - 24s 628ms/step - loss: 0.4169\n",
      "Epoch 6/10\n",
      "37/37 [==============================] - 24s 625ms/step - loss: 0.3621\n",
      "Epoch 7/10\n",
      "37/37 [==============================] - 24s 626ms/step - loss: 0.3660\n",
      "Epoch 8/10\n",
      "37/37 [==============================] - 24s 627ms/step - loss: 0.3683\n",
      "Epoch 9/10\n",
      "37/37 [==============================] - 24s 627ms/step - loss: 0.3059\n",
      "Epoch 10/10\n",
      "37/37 [==============================] - 24s 627ms/step - loss: 0.2876\n"
     ]
    },
    {
     "name": "stderr",
     "output_type": "stream",
     "text": [
      " Fold 5 F1: 0.9090909090909091:  19%|█▊        | 5/27 [23:01<1:40:57, 275.36s/it]"
     ]
    },
    {
     "name": "stdout",
     "output_type": "stream",
     "text": [
      "WARNING:tensorflow:`input_shape` is undefined or non-square, or `rows` is not in [96, 128, 160, 192, 224]. Weights for input shape (224, 224) will be loaded as the default.\n",
      "Epoch 1/10\n",
      "37/37 [==============================] - 48s 625ms/step - loss: 0.5513\n",
      "Epoch 2/10\n",
      "37/37 [==============================] - 23s 623ms/step - loss: 0.4934\n",
      "Epoch 3/10\n",
      "37/37 [==============================] - 23s 624ms/step - loss: 0.4142\n",
      "Epoch 4/10\n",
      "37/37 [==============================] - 24s 627ms/step - loss: 0.4096\n",
      "Epoch 5/10\n",
      "37/37 [==============================] - 23s 623ms/step - loss: 0.3985\n",
      "Epoch 6/10\n",
      "37/37 [==============================] - 24s 628ms/step - loss: 0.3576\n",
      "Epoch 7/10\n",
      "37/37 [==============================] - 23s 625ms/step - loss: 0.3674\n",
      "Epoch 8/10\n",
      "37/37 [==============================] - 23s 623ms/step - loss: 0.3272\n",
      "Epoch 9/10\n",
      "37/37 [==============================] - 23s 623ms/step - loss: 0.3366\n",
      "Epoch 10/10\n",
      "37/37 [==============================] - 23s 624ms/step - loss: 0.3348\n"
     ]
    },
    {
     "name": "stderr",
     "output_type": "stream",
     "text": [
      " Fold 6 F1: 0.047619047619047616:  22%|██▏       | 6/27 [27:34<1:36:07, 274.64s/it]"
     ]
    },
    {
     "name": "stdout",
     "output_type": "stream",
     "text": [
      "WARNING:tensorflow:`input_shape` is undefined or non-square, or `rows` is not in [96, 128, 160, 192, 224]. Weights for input shape (224, 224) will be loaded as the default.\n",
      "Epoch 1/10\n",
      "38/38 [==============================] - 48s 639ms/step - loss: 0.6763\n",
      "Epoch 2/10\n",
      "38/38 [==============================] - 25s 638ms/step - loss: 0.6002\n",
      "Epoch 3/10\n",
      "38/38 [==============================] - 25s 637ms/step - loss: 0.4360\n",
      "Epoch 4/10\n",
      "38/38 [==============================] - 25s 637ms/step - loss: 0.4158\n",
      "Epoch 5/10\n",
      "38/38 [==============================] - 25s 639ms/step - loss: 0.3888\n",
      "Epoch 6/10\n",
      "38/38 [==============================] - 25s 639ms/step - loss: 0.3898\n",
      "Epoch 7/10\n",
      "38/38 [==============================] - 25s 639ms/step - loss: 0.3380\n",
      "Epoch 8/10\n",
      "38/38 [==============================] - 25s 639ms/step - loss: 0.3372\n",
      "Epoch 9/10\n",
      "38/38 [==============================] - 25s 638ms/step - loss: 0.2997\n",
      "Epoch 10/10\n",
      "38/38 [==============================] - 25s 640ms/step - loss: 0.3069\n"
     ]
    },
    {
     "name": "stderr",
     "output_type": "stream",
     "text": [
      " Fold 7 F1: 0.0:  26%|██▌       | 7/27 [32:18<1:32:33, 277.65s/it]                 "
     ]
    },
    {
     "name": "stdout",
     "output_type": "stream",
     "text": [
      "WARNING:tensorflow:`input_shape` is undefined or non-square, or `rows` is not in [96, 128, 160, 192, 224]. Weights for input shape (224, 224) will be loaded as the default.\n",
      "Epoch 1/10\n",
      "37/37 [==============================] - 47s 627ms/step - loss: 0.5639\n",
      "Epoch 2/10\n",
      "37/37 [==============================] - 24s 626ms/step - loss: 0.4739\n",
      "Epoch 3/10\n",
      "37/37 [==============================] - 24s 626ms/step - loss: 0.4134\n",
      "Epoch 4/10\n",
      "37/37 [==============================] - 24s 627ms/step - loss: 0.3698\n",
      "Epoch 5/10\n",
      "37/37 [==============================] - 24s 626ms/step - loss: 0.3665\n",
      "Epoch 6/10\n",
      "37/37 [==============================] - 24s 627ms/step - loss: 0.3769\n",
      "Epoch 7/10\n",
      "37/37 [==============================] - 24s 629ms/step - loss: 0.3493\n",
      "Epoch 8/10\n",
      "37/37 [==============================] - 24s 628ms/step - loss: 0.3029\n",
      "Epoch 9/10\n",
      "37/37 [==============================] - 24s 626ms/step - loss: 0.3099\n",
      "Epoch 10/10\n",
      "37/37 [==============================] - 24s 628ms/step - loss: 0.2994\n"
     ]
    },
    {
     "name": "stderr",
     "output_type": "stream",
     "text": [
      " Fold 8 F1: 0.2857142857142857:  30%|██▉       | 8/27 [36:55<1:27:53, 277.53s/it]"
     ]
    },
    {
     "name": "stdout",
     "output_type": "stream",
     "text": [
      "WARNING:tensorflow:`input_shape` is undefined or non-square, or `rows` is not in [96, 128, 160, 192, 224]. Weights for input shape (224, 224) will be loaded as the default.\n",
      "Epoch 1/10\n",
      "37/37 [==============================] - 46s 619ms/step - loss: 0.6074\n",
      "Epoch 2/10\n",
      "37/37 [==============================] - 23s 620ms/step - loss: 0.4815\n",
      "Epoch 3/10\n",
      "37/37 [==============================] - 23s 621ms/step - loss: 0.4243\n",
      "Epoch 4/10\n",
      "37/37 [==============================] - 23s 621ms/step - loss: 0.3933\n",
      "Epoch 5/10\n",
      "37/37 [==============================] - 23s 621ms/step - loss: 0.3510\n",
      "Epoch 6/10\n",
      "37/37 [==============================] - 23s 622ms/step - loss: 0.3679\n",
      "Epoch 7/10\n",
      "37/37 [==============================] - 23s 621ms/step - loss: 0.3250\n",
      "Epoch 8/10\n",
      "37/37 [==============================] - 23s 622ms/step - loss: 0.3051\n",
      "Epoch 9/10\n",
      "37/37 [==============================] - 23s 621ms/step - loss: 0.3333\n",
      "Epoch 10/10\n",
      "37/37 [==============================] - 23s 622ms/step - loss: 0.2918\n"
     ]
    },
    {
     "name": "stderr",
     "output_type": "stream",
     "text": [
      " Fold 9 F1: 0.2222222222222222:  33%|███▎      | 9/27 [41:28<1:22:49, 276.07s/it]"
     ]
    },
    {
     "name": "stdout",
     "output_type": "stream",
     "text": [
      "WARNING:tensorflow:`input_shape` is undefined or non-square, or `rows` is not in [96, 128, 160, 192, 224]. Weights for input shape (224, 224) will be loaded as the default.\n",
      "Epoch 1/10\n",
      "37/37 [==============================] - 48s 630ms/step - loss: 0.6258\n",
      "Epoch 2/10\n",
      "37/37 [==============================] - 24s 630ms/step - loss: 0.4729\n",
      "Epoch 3/10\n",
      "37/37 [==============================] - 24s 631ms/step - loss: 0.4405\n",
      "Epoch 4/10\n",
      "37/37 [==============================] - 24s 632ms/step - loss: 0.3788\n",
      "Epoch 5/10\n",
      "37/37 [==============================] - 24s 630ms/step - loss: 0.4536\n",
      "Epoch 6/10\n",
      "37/37 [==============================] - 24s 629ms/step - loss: 0.3893\n",
      "Epoch 7/10\n",
      "37/37 [==============================] - 24s 630ms/step - loss: 0.3441\n",
      "Epoch 8/10\n",
      "37/37 [==============================] - 24s 631ms/step - loss: 0.3367\n",
      "Epoch 9/10\n",
      "37/37 [==============================] - 24s 631ms/step - loss: 0.3104\n",
      "Epoch 10/10\n",
      "37/37 [==============================] - 24s 631ms/step - loss: 0.2797\n"
     ]
    },
    {
     "name": "stderr",
     "output_type": "stream",
     "text": [
      " Fold 10 F1: 0.3333333333333333:  37%|███▋      | 10/27 [46:04<1:18:14, 276.13s/it]"
     ]
    },
    {
     "name": "stdout",
     "output_type": "stream",
     "text": [
      "WARNING:tensorflow:`input_shape` is undefined or non-square, or `rows` is not in [96, 128, 160, 192, 224]. Weights for input shape (224, 224) will be loaded as the default.\n",
      "Epoch 1/10\n",
      "37/37 [==============================] - 48s 637ms/step - loss: 0.5665\n",
      "Epoch 2/10\n",
      "37/37 [==============================] - 24s 638ms/step - loss: 0.4499\n",
      "Epoch 3/10\n",
      "37/37 [==============================] - 24s 637ms/step - loss: 0.4148\n",
      "Epoch 4/10\n",
      "37/37 [==============================] - 24s 639ms/step - loss: 0.3848\n",
      "Epoch 5/10\n",
      "37/37 [==============================] - 24s 638ms/step - loss: 0.3655\n",
      "Epoch 6/10\n",
      "37/37 [==============================] - 24s 639ms/step - loss: 0.3577\n",
      "Epoch 7/10\n",
      "37/37 [==============================] - 24s 639ms/step - loss: 0.3375\n",
      "Epoch 8/10\n",
      "37/37 [==============================] - 24s 639ms/step - loss: 0.3558\n",
      "Epoch 9/10\n",
      "37/37 [==============================] - 24s 637ms/step - loss: 0.3311\n",
      "Epoch 10/10\n",
      "37/37 [==============================] - 24s 639ms/step - loss: 0.2867\n"
     ]
    },
    {
     "name": "stderr",
     "output_type": "stream",
     "text": [
      " Fold 11 F1: 0.34949494949494947:  41%|████      | 11/27 [50:44<1:13:56, 277.25s/it]"
     ]
    },
    {
     "name": "stdout",
     "output_type": "stream",
     "text": [
      "WARNING:tensorflow:`input_shape` is undefined or non-square, or `rows` is not in [96, 128, 160, 192, 224]. Weights for input shape (224, 224) will be loaded as the default.\n",
      "Epoch 1/10\n",
      "37/37 [==============================] - 47s 629ms/step - loss: 0.6167\n",
      "Epoch 2/10\n",
      "37/37 [==============================] - 24s 629ms/step - loss: 0.4741\n",
      "Epoch 3/10\n",
      "37/37 [==============================] - 24s 630ms/step - loss: 0.4129\n",
      "Epoch 4/10\n",
      "37/37 [==============================] - 24s 630ms/step - loss: 0.4383\n",
      "Epoch 5/10\n",
      "37/37 [==============================] - 24s 629ms/step - loss: 0.4591\n",
      "Epoch 6/10\n",
      "37/37 [==============================] - 24s 631ms/step - loss: 0.3884\n",
      "Epoch 7/10\n",
      "37/37 [==============================] - 24s 631ms/step - loss: 0.3663\n",
      "Epoch 8/10\n",
      "37/37 [==============================] - 24s 632ms/step - loss: 0.3248\n",
      "Epoch 9/10\n",
      "37/37 [==============================] - 24s 630ms/step - loss: 0.3503\n",
      "Epoch 10/10\n",
      "37/37 [==============================] - 24s 630ms/step - loss: 0.3366\n"
     ]
    },
    {
     "name": "stderr",
     "output_type": "stream",
     "text": [
      " Fold 12 F1: 1.0:  44%|████▍     | 12/27 [55:21<1:09:15, 277.01s/it]                "
     ]
    },
    {
     "name": "stdout",
     "output_type": "stream",
     "text": [
      "WARNING:tensorflow:`input_shape` is undefined or non-square, or `rows` is not in [96, 128, 160, 192, 224]. Weights for input shape (224, 224) will be loaded as the default.\n",
      "Epoch 1/10\n",
      "37/37 [==============================] - 48s 622ms/step - loss: 0.5507\n",
      "Epoch 2/10\n",
      "37/37 [==============================] - 23s 621ms/step - loss: 0.5041\n",
      "Epoch 3/10\n",
      "37/37 [==============================] - 23s 622ms/step - loss: 0.4168\n",
      "Epoch 4/10\n",
      "37/37 [==============================] - 23s 624ms/step - loss: 0.4094\n",
      "Epoch 5/10\n",
      "37/37 [==============================] - 23s 622ms/step - loss: 0.5006\n",
      "Epoch 6/10\n",
      "37/37 [==============================] - 23s 623ms/step - loss: 0.3420\n",
      "Epoch 7/10\n",
      "37/37 [==============================] - 23s 624ms/step - loss: 0.3329\n",
      "Epoch 8/10\n",
      "37/37 [==============================] - 23s 624ms/step - loss: 0.3080\n",
      "Epoch 9/10\n",
      "37/37 [==============================] - 23s 624ms/step - loss: 0.3021\n",
      "Epoch 10/10\n",
      "37/37 [==============================] - 23s 623ms/step - loss: 0.3357\n"
     ]
    },
    {
     "name": "stderr",
     "output_type": "stream",
     "text": [
      " Fold 13 F1: 0.05128205128205127:  48%|████▊     | 13/27 [59:54<1:04:23, 275.99s/it]"
     ]
    },
    {
     "name": "stdout",
     "output_type": "stream",
     "text": [
      "WARNING:tensorflow:`input_shape` is undefined or non-square, or `rows` is not in [96, 128, 160, 192, 224]. Weights for input shape (224, 224) will be loaded as the default.\n",
      "Epoch 1/10\n",
      "37/37 [==============================] - 48s 635ms/step - loss: 0.6566\n",
      "Epoch 2/10\n",
      "37/37 [==============================] - 24s 637ms/step - loss: 0.4513\n",
      "Epoch 3/10\n",
      "37/37 [==============================] - 24s 634ms/step - loss: 0.4550\n",
      "Epoch 4/10\n",
      "37/37 [==============================] - 24s 635ms/step - loss: 0.5178\n",
      "Epoch 5/10\n",
      "37/37 [==============================] - 24s 637ms/step - loss: 0.4143\n",
      "Epoch 6/10\n",
      "37/37 [==============================] - 24s 637ms/step - loss: 0.4173\n",
      "Epoch 7/10\n",
      "37/37 [==============================] - 24s 635ms/step - loss: 0.3375\n",
      "Epoch 8/10\n",
      "37/37 [==============================] - 24s 636ms/step - loss: 0.3513\n",
      "Epoch 9/10\n",
      "37/37 [==============================] - 24s 635ms/step - loss: 0.3299\n",
      "Epoch 10/10\n",
      "37/37 [==============================] - 24s 637ms/step - loss: 0.3556\n"
     ]
    },
    {
     "name": "stderr",
     "output_type": "stream",
     "text": [
      " Fold 14 F1: 0.7575757575757575:  52%|█████▏    | 14/27 [1:04:32<59:55, 276.57s/it] "
     ]
    },
    {
     "name": "stdout",
     "output_type": "stream",
     "text": [
      "WARNING:tensorflow:`input_shape` is undefined or non-square, or `rows` is not in [96, 128, 160, 192, 224]. Weights for input shape (224, 224) will be loaded as the default.\n",
      "Epoch 1/10\n",
      "37/37 [==============================] - 48s 631ms/step - loss: 0.6054\n",
      "Epoch 2/10\n",
      "37/37 [==============================] - 24s 636ms/step - loss: 0.4323\n",
      "Epoch 3/10\n",
      "37/37 [==============================] - 24s 640ms/step - loss: 0.4160\n",
      "Epoch 4/10\n",
      "37/37 [==============================] - 24s 634ms/step - loss: 0.4219\n",
      "Epoch 5/10\n",
      "37/37 [==============================] - 24s 636ms/step - loss: 0.4137\n",
      "Epoch 6/10\n",
      "37/37 [==============================] - 24s 636ms/step - loss: 0.3643\n",
      "Epoch 7/10\n",
      "37/37 [==============================] - 24s 635ms/step - loss: 0.3263\n",
      "Epoch 8/10\n",
      "37/37 [==============================] - 24s 634ms/step - loss: 0.3186\n",
      "Epoch 9/10\n",
      "37/37 [==============================] - 24s 634ms/step - loss: 0.3104\n",
      "Epoch 10/10\n",
      "37/37 [==============================] - 24s 633ms/step - loss: 0.3062\n"
     ]
    },
    {
     "name": "stderr",
     "output_type": "stream",
     "text": [
      " Fold 15 F1: 0.8084415584415584:  56%|█████▌    | 15/27 [1:09:12<55:29, 277.45s/it]"
     ]
    },
    {
     "name": "stdout",
     "output_type": "stream",
     "text": [
      "WARNING:tensorflow:`input_shape` is undefined or non-square, or `rows` is not in [96, 128, 160, 192, 224]. Weights for input shape (224, 224) will be loaded as the default.\n",
      "Epoch 1/10\n",
      "37/37 [==============================] - 48s 627ms/step - loss: 0.5783\n",
      "Epoch 2/10\n",
      "37/37 [==============================] - 23s 622ms/step - loss: 0.4355\n",
      "Epoch 3/10\n",
      "37/37 [==============================] - 23s 623ms/step - loss: 0.4569\n",
      "Epoch 4/10\n",
      "37/37 [==============================] - 23s 623ms/step - loss: 0.4146\n",
      "Epoch 5/10\n",
      "37/37 [==============================] - 23s 625ms/step - loss: 0.3925\n",
      "Epoch 6/10\n",
      "37/37 [==============================] - 23s 623ms/step - loss: 0.3627\n",
      "Epoch 7/10\n",
      "37/37 [==============================] - 23s 625ms/step - loss: 0.3324\n",
      "Epoch 8/10\n",
      "37/37 [==============================] - 23s 623ms/step - loss: 0.3224\n",
      "Epoch 9/10\n",
      "37/37 [==============================] - 23s 623ms/step - loss: 0.3087\n",
      "Epoch 10/10\n",
      "37/37 [==============================] - 23s 625ms/step - loss: 0.3058\n"
     ]
    },
    {
     "name": "stderr",
     "output_type": "stream",
     "text": [
      " Fold 16 F1: 0.8366013071895425:  59%|█████▉    | 16/27 [1:13:46<50:40, 276.41s/it]"
     ]
    },
    {
     "name": "stdout",
     "output_type": "stream",
     "text": [
      "WARNING:tensorflow:`input_shape` is undefined or non-square, or `rows` is not in [96, 128, 160, 192, 224]. Weights for input shape (224, 224) will be loaded as the default.\n",
      "Epoch 1/10\n",
      "37/37 [==============================] - 48s 627ms/step - loss: 0.5476\n",
      "Epoch 2/10\n",
      "37/37 [==============================] - 24s 629ms/step - loss: 0.4608\n",
      "Epoch 3/10\n",
      "37/37 [==============================] - 24s 626ms/step - loss: 0.5510\n",
      "Epoch 4/10\n",
      "37/37 [==============================] - 24s 629ms/step - loss: 0.3917\n",
      "Epoch 5/10\n",
      "37/37 [==============================] - 24s 627ms/step - loss: 0.3901\n",
      "Epoch 6/10\n",
      "37/37 [==============================] - 24s 628ms/step - loss: 0.3553\n",
      "Epoch 7/10\n",
      "37/37 [==============================] - 24s 627ms/step - loss: 0.3872\n",
      "Epoch 8/10\n",
      "37/37 [==============================] - 24s 628ms/step - loss: 0.3277\n",
      "Epoch 9/10\n",
      "37/37 [==============================] - 24s 629ms/step - loss: 0.3144\n",
      "Epoch 10/10\n",
      "37/37 [==============================] - 24s 627ms/step - loss: 0.2884\n"
     ]
    },
    {
     "name": "stderr",
     "output_type": "stream",
     "text": [
      " Fold 17 F1: 0.37692307692307697:  63%|██████▎   | 17/27 [1:18:22<46:02, 276.23s/it]"
     ]
    },
    {
     "name": "stdout",
     "output_type": "stream",
     "text": [
      "WARNING:tensorflow:`input_shape` is undefined or non-square, or `rows` is not in [96, 128, 160, 192, 224]. Weights for input shape (224, 224) will be loaded as the default.\n",
      "Epoch 1/10\n",
      "37/37 [==============================] - 48s 624ms/step - loss: 0.6174\n",
      "Epoch 2/10\n",
      "37/37 [==============================] - 23s 623ms/step - loss: 0.4555\n",
      "Epoch 3/10\n",
      "37/37 [==============================] - 24s 625ms/step - loss: 0.4137\n",
      "Epoch 4/10\n",
      "37/37 [==============================] - 23s 625ms/step - loss: 0.4094\n",
      "Epoch 5/10\n",
      "37/37 [==============================] - 23s 624ms/step - loss: 0.3632\n",
      "Epoch 6/10\n",
      "37/37 [==============================] - 23s 624ms/step - loss: 0.3541\n",
      "Epoch 7/10\n",
      "37/37 [==============================] - 23s 624ms/step - loss: 0.3411\n",
      "Epoch 8/10\n",
      "37/37 [==============================] - 24s 626ms/step - loss: 0.3231\n",
      "Epoch 9/10\n",
      "37/37 [==============================] - 23s 625ms/step - loss: 0.2942\n",
      "Epoch 10/10\n",
      "37/37 [==============================] - 23s 624ms/step - loss: 0.3335\n"
     ]
    },
    {
     "name": "stderr",
     "output_type": "stream",
     "text": [
      " Fold 18 F1: 0.4423076923076923:  67%|██████▋   | 18/27 [1:22:58<41:26, 276.28s/it] "
     ]
    },
    {
     "name": "stdout",
     "output_type": "stream",
     "text": [
      "WARNING:tensorflow:`input_shape` is undefined or non-square, or `rows` is not in [96, 128, 160, 192, 224]. Weights for input shape (224, 224) will be loaded as the default.\n",
      "Epoch 1/10\n",
      "37/37 [==============================] - 48s 624ms/step - loss: 0.6099\n",
      "Epoch 2/10\n",
      "37/37 [==============================] - 24s 625ms/step - loss: 0.4961\n",
      "Epoch 3/10\n",
      "37/37 [==============================] - 23s 623ms/step - loss: 0.4522\n",
      "Epoch 4/10\n",
      "37/37 [==============================] - 23s 624ms/step - loss: 0.3965\n",
      "Epoch 5/10\n",
      "37/37 [==============================] - 23s 622ms/step - loss: 0.3819\n",
      "Epoch 6/10\n",
      "37/37 [==============================] - 23s 622ms/step - loss: 0.3501\n",
      "Epoch 7/10\n",
      "37/37 [==============================] - 23s 623ms/step - loss: 0.3436\n",
      "Epoch 8/10\n",
      "37/37 [==============================] - 23s 623ms/step - loss: 0.3198\n",
      "Epoch 9/10\n",
      "37/37 [==============================] - 23s 621ms/step - loss: 0.3349\n",
      "Epoch 10/10\n",
      "37/37 [==============================] - 23s 623ms/step - loss: 0.3074\n"
     ]
    },
    {
     "name": "stderr",
     "output_type": "stream",
     "text": [
      " Fold 19 F1: 0.6558441558441559:  70%|███████   | 19/27 [1:27:33<36:46, 275.78s/it]"
     ]
    },
    {
     "name": "stdout",
     "output_type": "stream",
     "text": [
      "WARNING:tensorflow:`input_shape` is undefined or non-square, or `rows` is not in [96, 128, 160, 192, 224]. Weights for input shape (224, 224) will be loaded as the default.\n",
      "Epoch 1/10\n",
      "37/37 [==============================] - 48s 633ms/step - loss: 0.5893\n",
      "Epoch 2/10\n",
      "37/37 [==============================] - 24s 633ms/step - loss: 0.5400\n",
      "Epoch 3/10\n",
      "37/37 [==============================] - 24s 634ms/step - loss: 0.4894\n",
      "Epoch 4/10\n",
      "37/37 [==============================] - 24s 633ms/step - loss: 0.4315\n",
      "Epoch 5/10\n",
      "37/37 [==============================] - 24s 633ms/step - loss: 0.4227\n",
      "Epoch 6/10\n",
      "37/37 [==============================] - 24s 634ms/step - loss: 0.4310\n",
      "Epoch 7/10\n",
      "37/37 [==============================] - 24s 633ms/step - loss: 0.3581\n",
      "Epoch 8/10\n",
      "37/37 [==============================] - 24s 632ms/step - loss: 0.3423\n",
      "Epoch 9/10\n",
      "37/37 [==============================] - 24s 635ms/step - loss: 0.3278\n",
      "Epoch 10/10\n",
      "37/37 [==============================] - 24s 633ms/step - loss: 0.3100\n"
     ]
    },
    {
     "name": "stderr",
     "output_type": "stream",
     "text": [
      " Fold 20 F1: 0.8333333333333333:  74%|███████▍  | 20/27 [1:32:09<32:12, 276.11s/it]"
     ]
    },
    {
     "name": "stdout",
     "output_type": "stream",
     "text": [
      "WARNING:tensorflow:`input_shape` is undefined or non-square, or `rows` is not in [96, 128, 160, 192, 224]. Weights for input shape (224, 224) will be loaded as the default.\n",
      "Epoch 1/10\n",
      "37/37 [==============================] - 47s 625ms/step - loss: 0.6313\n",
      "Epoch 2/10\n",
      "37/37 [==============================] - 23s 624ms/step - loss: 0.4726\n",
      "Epoch 3/10\n",
      "37/37 [==============================] - 23s 623ms/step - loss: 0.4705\n",
      "Epoch 4/10\n",
      "37/37 [==============================] - 23s 624ms/step - loss: 0.4016\n",
      "Epoch 5/10\n",
      "37/37 [==============================] - 23s 625ms/step - loss: 0.3658\n",
      "Epoch 6/10\n",
      "37/37 [==============================] - 23s 624ms/step - loss: 0.3630\n",
      "Epoch 7/10\n",
      "37/37 [==============================] - 23s 625ms/step - loss: 0.3462\n",
      "Epoch 8/10\n",
      "37/37 [==============================] - 24s 631ms/step - loss: 0.3097\n",
      "Epoch 9/10\n",
      "37/37 [==============================] - 24s 627ms/step - loss: 0.2947\n",
      "Epoch 10/10\n",
      "37/37 [==============================] - 24s 627ms/step - loss: 0.3041\n"
     ]
    },
    {
     "name": "stderr",
     "output_type": "stream",
     "text": [
      " Fold 21 F1: 0.5882352941176471:  78%|███████▊  | 21/27 [1:36:45<27:35, 276.00s/it]"
     ]
    },
    {
     "name": "stdout",
     "output_type": "stream",
     "text": [
      "WARNING:tensorflow:`input_shape` is undefined or non-square, or `rows` is not in [96, 128, 160, 192, 224]. Weights for input shape (224, 224) will be loaded as the default.\n",
      "Epoch 1/10\n",
      "37/37 [==============================] - 47s 639ms/step - loss: 0.6276\n",
      "Epoch 2/10\n",
      "37/37 [==============================] - 24s 634ms/step - loss: 0.4712\n",
      "Epoch 3/10\n",
      "37/37 [==============================] - 24s 633ms/step - loss: 0.4599\n",
      "Epoch 4/10\n",
      "37/37 [==============================] - 24s 640ms/step - loss: 0.3895\n",
      "Epoch 5/10\n",
      "37/37 [==============================] - 24s 640ms/step - loss: 0.3828\n",
      "Epoch 6/10\n",
      "37/37 [==============================] - 24s 643ms/step - loss: 0.3799\n",
      "Epoch 7/10\n",
      "37/37 [==============================] - 24s 642ms/step - loss: 0.3589\n",
      "Epoch 8/10\n",
      "37/37 [==============================] - 24s 641ms/step - loss: 0.3215\n",
      "Epoch 9/10\n",
      "37/37 [==============================] - 24s 638ms/step - loss: 0.3255\n",
      "Epoch 10/10\n",
      "37/37 [==============================] - 25s 653ms/step - loss: 0.3241\n"
     ]
    },
    {
     "name": "stderr",
     "output_type": "stream",
     "text": [
      " Fold 22 F1: 1.0:  81%|████████▏ | 22/27 [1:41:27<23:08, 277.61s/it]               "
     ]
    },
    {
     "name": "stdout",
     "output_type": "stream",
     "text": [
      "WARNING:tensorflow:`input_shape` is undefined or non-square, or `rows` is not in [96, 128, 160, 192, 224]. Weights for input shape (224, 224) will be loaded as the default.\n",
      "Epoch 1/10\n",
      "31/31 [==============================] - 43s 630ms/step - loss: 0.5192\n",
      "Epoch 2/10\n",
      "31/31 [==============================] - 20s 628ms/step - loss: 0.4397\n",
      "Epoch 3/10\n",
      "31/31 [==============================] - 20s 627ms/step - loss: 0.4290\n",
      "Epoch 4/10\n",
      "31/31 [==============================] - 20s 630ms/step - loss: 0.3899\n",
      "Epoch 5/10\n",
      "31/31 [==============================] - 20s 627ms/step - loss: 0.3677\n",
      "Epoch 6/10\n",
      "31/31 [==============================] - 20s 629ms/step - loss: 0.3672\n",
      "Epoch 7/10\n",
      "31/31 [==============================] - 20s 628ms/step - loss: 0.3163\n",
      "Epoch 8/10\n",
      "31/31 [==============================] - 20s 631ms/step - loss: 0.3084\n",
      "Epoch 9/10\n",
      "31/31 [==============================] - 20s 628ms/step - loss: 0.2767\n",
      "Epoch 10/10\n",
      "31/31 [==============================] - 20s 629ms/step - loss: 0.3484\n"
     ]
    },
    {
     "name": "stderr",
     "output_type": "stream",
     "text": [
      " Fold 23 F1: 0.44419306184012064:  85%|████████▌ | 23/27 [1:45:41<18:03, 270.77s/it]"
     ]
    },
    {
     "name": "stdout",
     "output_type": "stream",
     "text": [
      "WARNING:tensorflow:`input_shape` is undefined or non-square, or `rows` is not in [96, 128, 160, 192, 224]. Weights for input shape (224, 224) will be loaded as the default.\n",
      "Epoch 1/10\n",
      "29/29 [==============================] - 42s 634ms/step - loss: 0.7786\n",
      "Epoch 2/10\n",
      "29/29 [==============================] - 19s 633ms/step - loss: 0.6225\n",
      "Epoch 3/10\n",
      "29/29 [==============================] - 19s 634ms/step - loss: 0.5142\n",
      "Epoch 4/10\n",
      "29/29 [==============================] - 19s 633ms/step - loss: 0.6185\n",
      "Epoch 5/10\n",
      "29/29 [==============================] - 19s 634ms/step - loss: 0.4662\n",
      "Epoch 6/10\n",
      "29/29 [==============================] - 19s 634ms/step - loss: 0.4325\n",
      "Epoch 7/10\n",
      "29/29 [==============================] - 19s 634ms/step - loss: 0.3836\n",
      "Epoch 8/10\n",
      "29/29 [==============================] - 19s 635ms/step - loss: 0.4052\n",
      "Epoch 9/10\n",
      "29/29 [==============================] - 19s 633ms/step - loss: 0.3526\n",
      "Epoch 10/10\n",
      "29/29 [==============================] - 19s 633ms/step - loss: 0.3375\n"
     ]
    },
    {
     "name": "stderr",
     "output_type": "stream",
     "text": [
      " Fold 24 F1: 0.3873276261335963:  89%|████████▉ | 24/27 [1:49:49<13:11, 263.96s/it] "
     ]
    },
    {
     "name": "stdout",
     "output_type": "stream",
     "text": [
      "WARNING:tensorflow:`input_shape` is undefined or non-square, or `rows` is not in [96, 128, 160, 192, 224]. Weights for input shape (224, 224) will be loaded as the default.\n",
      "Epoch 1/10\n",
      "36/36 [==============================] - 48s 635ms/step - loss: 0.6826\n",
      "Epoch 2/10\n",
      "36/36 [==============================] - 23s 624ms/step - loss: 0.4744\n",
      "Epoch 3/10\n",
      "36/36 [==============================] - 23s 625ms/step - loss: 0.4483\n",
      "Epoch 4/10\n",
      "36/36 [==============================] - 23s 626ms/step - loss: 0.4004\n",
      "Epoch 5/10\n",
      "36/36 [==============================] - 23s 623ms/step - loss: 0.3673\n",
      "Epoch 6/10\n",
      "36/36 [==============================] - 23s 625ms/step - loss: 0.3736\n",
      "Epoch 7/10\n",
      "36/36 [==============================] - 23s 625ms/step - loss: 0.3277\n",
      "Epoch 8/10\n",
      "36/36 [==============================] - 23s 624ms/step - loss: 0.3362\n",
      "Epoch 9/10\n",
      "36/36 [==============================] - 23s 625ms/step - loss: 0.3187\n",
      "Epoch 10/10\n",
      "36/36 [==============================] - 23s 624ms/step - loss: 0.2877\n"
     ]
    },
    {
     "name": "stderr",
     "output_type": "stream",
     "text": [
      " Fold 25 F1: 0.5694444444444444:  93%|█████████▎| 25/27 [1:54:23<08:53, 266.81s/it]"
     ]
    },
    {
     "name": "stdout",
     "output_type": "stream",
     "text": [
      "WARNING:tensorflow:`input_shape` is undefined or non-square, or `rows` is not in [96, 128, 160, 192, 224]. Weights for input shape (224, 224) will be loaded as the default.\n",
      "Epoch 1/10\n",
      "34/34 [==============================] - 46s 630ms/step - loss: 0.6109\n",
      "Epoch 2/10\n",
      "34/34 [==============================] - 22s 628ms/step - loss: 0.5019\n",
      "Epoch 3/10\n",
      "34/34 [==============================] - 22s 629ms/step - loss: 0.4824\n",
      "Epoch 4/10\n",
      "34/34 [==============================] - 22s 627ms/step - loss: 0.4561\n",
      "Epoch 5/10\n",
      "34/34 [==============================] - 22s 629ms/step - loss: 0.4290\n",
      "Epoch 6/10\n",
      "34/34 [==============================] - 22s 627ms/step - loss: 0.3811\n",
      "Epoch 7/10\n",
      "34/34 [==============================] - 22s 630ms/step - loss: 0.4851\n",
      "Epoch 8/10\n",
      "34/34 [==============================] - 22s 630ms/step - loss: 0.3780\n",
      "Epoch 9/10\n",
      "34/34 [==============================] - 22s 630ms/step - loss: 0.4153\n",
      "Epoch 10/10\n",
      "34/34 [==============================] - 22s 631ms/step - loss: 0.3411\n"
     ]
    },
    {
     "name": "stderr",
     "output_type": "stream",
     "text": [
      " Fold 26 F1: 0.7470735785953176:  96%|█████████▋| 26/27 [1:58:51<04:27, 267.20s/it]"
     ]
    },
    {
     "name": "stdout",
     "output_type": "stream",
     "text": [
      "WARNING:tensorflow:`input_shape` is undefined or non-square, or `rows` is not in [96, 128, 160, 192, 224]. Weights for input shape (224, 224) will be loaded as the default.\n",
      "Epoch 1/10\n",
      "35/35 [==============================] - 47s 635ms/step - loss: 0.5603\n",
      "Epoch 2/10\n",
      "35/35 [==============================] - 22s 623ms/step - loss: 0.4380\n",
      "Epoch 3/10\n",
      "35/35 [==============================] - 22s 624ms/step - loss: 0.3759\n",
      "Epoch 4/10\n",
      "35/35 [==============================] - 22s 624ms/step - loss: 0.4042\n",
      "Epoch 5/10\n",
      "35/35 [==============================] - 22s 624ms/step - loss: 0.3407\n",
      "Epoch 6/10\n",
      "35/35 [==============================] - 22s 623ms/step - loss: 0.3255\n",
      "Epoch 7/10\n",
      "35/35 [==============================] - 22s 624ms/step - loss: 0.3152\n",
      "Epoch 8/10\n",
      "35/35 [==============================] - 22s 623ms/step - loss: 0.3256\n",
      "Epoch 9/10\n",
      "35/35 [==============================] - 22s 623ms/step - loss: 0.2758\n",
      "Epoch 10/10\n",
      "35/35 [==============================] - 22s 624ms/step - loss: 0.2796\n"
     ]
    },
    {
     "name": "stderr",
     "output_type": "stream",
     "text": [
      " Fold 27 F1: 0.38904935817724295: 100%|██████████| 27/27 [2:03:20<00:00, 274.09s/it]\n"
     ]
    },
    {
     "name": "stdout",
     "output_type": "stream",
     "text": [
      "Performance model:\n",
      " accuracy: 0.504 +- 0.292 \n",
      "\n",
      " balanced_accuracy: 0.505 +- 0.258 \n",
      "\n",
      " f1: 0.496 +- 0.301 \n",
      "\n",
      " recall: 0.504 +- 0.292 \n",
      "\n",
      " precision: 0.611 +- 0.341 \n",
      "\n",
      "Starting stratified 5-fold for mental fatigue\n"
     ]
    },
    {
     "name": "stderr",
     "output_type": "stream",
     "text": [
      "  0%|          | 0/5 [00:00<?, ?it/s]"
     ]
    },
    {
     "name": "stdout",
     "output_type": "stream",
     "text": [
      "WARNING:tensorflow:`input_shape` is undefined or non-square, or `rows` is not in [96, 128, 160, 192, 224]. Weights for input shape (224, 224) will be loaded as the default.\n",
      "Epoch 1/10\n",
      "30/30 [==============================] - 44s 637ms/step - loss: 0.6746\n",
      "Epoch 2/10\n",
      "30/30 [==============================] - 19s 634ms/step - loss: 0.5492\n",
      "Epoch 3/10\n",
      "30/30 [==============================] - 19s 636ms/step - loss: 0.4092\n",
      "Epoch 4/10\n",
      "30/30 [==============================] - 19s 634ms/step - loss: 0.3965\n",
      "Epoch 5/10\n",
      "30/30 [==============================] - 19s 635ms/step - loss: 0.3898\n",
      "Epoch 6/10\n",
      "30/30 [==============================] - 19s 634ms/step - loss: 0.4128\n",
      "Epoch 7/10\n",
      "30/30 [==============================] - 19s 634ms/step - loss: 0.3864\n",
      "Epoch 8/10\n",
      "30/30 [==============================] - 19s 636ms/step - loss: 0.3690\n",
      "Epoch 9/10\n",
      "30/30 [==============================] - 19s 634ms/step - loss: 0.3105\n",
      "Epoch 10/10\n",
      "30/30 [==============================] - 19s 634ms/step - loss: 0.3133\n"
     ]
    },
    {
     "name": "stderr",
     "output_type": "stream",
     "text": [
      " Fold 1 F1: 0.6516371443907676:  20%|██        | 1/5 [04:13<16:53, 253.26s/it]"
     ]
    },
    {
     "name": "stdout",
     "output_type": "stream",
     "text": [
      "WARNING:tensorflow:`input_shape` is undefined or non-square, or `rows` is not in [96, 128, 160, 192, 224]. Weights for input shape (224, 224) will be loaded as the default.\n",
      "Epoch 1/10\n",
      "30/30 [==============================] - 44s 634ms/step - loss: 0.6916\n",
      "Epoch 2/10\n",
      "30/30 [==============================] - 19s 635ms/step - loss: 0.4965\n",
      "Epoch 3/10\n",
      "30/30 [==============================] - 19s 634ms/step - loss: 0.4486\n",
      "Epoch 4/10\n",
      "30/30 [==============================] - 19s 633ms/step - loss: 0.3901\n",
      "Epoch 5/10\n",
      "30/30 [==============================] - 19s 633ms/step - loss: 0.4038\n",
      "Epoch 6/10\n",
      "30/30 [==============================] - 19s 634ms/step - loss: 0.3665\n",
      "Epoch 7/10\n",
      "30/30 [==============================] - 19s 633ms/step - loss: 0.3349\n",
      "Epoch 8/10\n",
      "30/30 [==============================] - 19s 633ms/step - loss: 0.4467\n",
      "Epoch 9/10\n",
      "30/30 [==============================] - 19s 632ms/step - loss: 0.3527\n",
      "Epoch 10/10\n",
      "30/30 [==============================] - 19s 634ms/step - loss: 0.3284\n"
     ]
    },
    {
     "name": "stderr",
     "output_type": "stream",
     "text": [
      " Fold 2 F1: 0.7059925093632959:  40%|████      | 2/5 [08:25<12:37, 252.66s/it]"
     ]
    },
    {
     "name": "stdout",
     "output_type": "stream",
     "text": [
      "WARNING:tensorflow:`input_shape` is undefined or non-square, or `rows` is not in [96, 128, 160, 192, 224]. Weights for input shape (224, 224) will be loaded as the default.\n",
      "Epoch 1/10\n",
      "30/30 [==============================] - 43s 624ms/step - loss: 0.7009\n",
      "Epoch 2/10\n",
      "30/30 [==============================] - 19s 624ms/step - loss: 0.4510\n",
      "Epoch 3/10\n",
      "30/30 [==============================] - 19s 624ms/step - loss: 0.4587\n",
      "Epoch 4/10\n",
      "30/30 [==============================] - 19s 623ms/step - loss: 0.4032\n",
      "Epoch 5/10\n",
      "30/30 [==============================] - 19s 624ms/step - loss: 0.3768\n",
      "Epoch 6/10\n",
      "30/30 [==============================] - 19s 623ms/step - loss: 0.3595\n",
      "Epoch 7/10\n",
      "30/30 [==============================] - 19s 623ms/step - loss: 0.3978\n",
      "Epoch 8/10\n",
      "30/30 [==============================] - 19s 623ms/step - loss: 0.3348\n",
      "Epoch 9/10\n",
      "30/30 [==============================] - 19s 623ms/step - loss: 0.3441\n",
      "Epoch 10/10\n",
      "30/30 [==============================] - 19s 624ms/step - loss: 0.3421\n"
     ]
    },
    {
     "name": "stderr",
     "output_type": "stream",
     "text": [
      " Fold 3 F1: 0.3735159817351598:  60%|██████    | 3/5 [12:35<08:23, 251.66s/it]"
     ]
    },
    {
     "name": "stdout",
     "output_type": "stream",
     "text": [
      "WARNING:tensorflow:`input_shape` is undefined or non-square, or `rows` is not in [96, 128, 160, 192, 224]. Weights for input shape (224, 224) will be loaded as the default.\n",
      "Epoch 1/10\n",
      "30/30 [==============================] - 43s 632ms/step - loss: 0.7618\n",
      "Epoch 2/10\n",
      "30/30 [==============================] - 19s 635ms/step - loss: 0.4495\n",
      "Epoch 3/10\n",
      "30/30 [==============================] - 19s 635ms/step - loss: 0.4696\n",
      "Epoch 4/10\n",
      "30/30 [==============================] - 19s 635ms/step - loss: 0.4488\n",
      "Epoch 5/10\n",
      "30/30 [==============================] - 19s 635ms/step - loss: 0.3908\n",
      "Epoch 6/10\n",
      "30/30 [==============================] - 19s 634ms/step - loss: 0.4061\n",
      "Epoch 7/10\n",
      "30/30 [==============================] - 19s 634ms/step - loss: 0.3811\n",
      "Epoch 8/10\n",
      "30/30 [==============================] - 19s 635ms/step - loss: 0.3237\n",
      "Epoch 9/10\n",
      "30/30 [==============================] - 19s 633ms/step - loss: 0.3650\n",
      "Epoch 10/10\n",
      "30/30 [==============================] - 19s 634ms/step - loss: 0.3047\n"
     ]
    },
    {
     "name": "stderr",
     "output_type": "stream",
     "text": [
      " Fold 4 F1: 0.6727726750663083:  80%|████████  | 4/5 [16:48<04:11, 251.89s/it]"
     ]
    },
    {
     "name": "stdout",
     "output_type": "stream",
     "text": [
      "WARNING:tensorflow:`input_shape` is undefined or non-square, or `rows` is not in [96, 128, 160, 192, 224]. Weights for input shape (224, 224) will be loaded as the default.\n",
      "Epoch 1/10\n",
      "30/30 [==============================] - 44s 625ms/step - loss: 0.6075\n",
      "Epoch 2/10\n",
      "30/30 [==============================] - 19s 625ms/step - loss: 0.4564\n",
      "Epoch 3/10\n",
      "30/30 [==============================] - 19s 625ms/step - loss: 0.5315\n",
      "Epoch 4/10\n",
      "30/30 [==============================] - 19s 624ms/step - loss: 0.4404\n",
      "Epoch 5/10\n",
      "30/30 [==============================] - 19s 625ms/step - loss: 0.4280\n",
      "Epoch 6/10\n",
      "30/30 [==============================] - 19s 625ms/step - loss: 0.3831\n",
      "Epoch 7/10\n",
      "30/30 [==============================] - 19s 625ms/step - loss: 0.4317\n",
      "Epoch 8/10\n",
      "30/30 [==============================] - 19s 625ms/step - loss: 0.3522\n",
      "Epoch 9/10\n",
      "30/30 [==============================] - 19s 625ms/step - loss: 0.3508\n",
      "Epoch 10/10\n",
      "30/30 [==============================] - 19s 625ms/step - loss: 0.3303\n"
     ]
    },
    {
     "name": "stderr",
     "output_type": "stream",
     "text": [
      " Fold 5 F1: 0.8152532135174373: 100%|██████████| 5/5 [20:56<00:00, 251.38s/it]"
     ]
    },
    {
     "name": "stdout",
     "output_type": "stream",
     "text": [
      "Performance model:\n",
      " accuracy: 0.654 +- 0.126 \n",
      "\n",
      " balanced_accuracy: 0.673 +- 0.084 \n",
      "\n",
      " f1: 0.644 +- 0.146 \n",
      "\n",
      " recall: 0.654 +- 0.126 \n",
      "\n",
      " precision: 0.727 +- 0.053 \n",
      "\n",
      "CPU times: total: 6h 14min 57s\n",
      "Wall time: 5h 37min 42s\n"
     ]
    },
    {
     "name": "stderr",
     "output_type": "stream",
     "text": [
      "\n"
     ]
    }
   ],
   "source": [
    "%%time\n",
    "scores_strat_group_k_fold = [None]*2\n",
    "scores_loso = [None]*2\n",
    "scores_strat_k_fold = [None]*2\n",
    "\n",
    "with warnings.catch_warnings():\n",
    "    warnings.filterwarnings('ignore')\n",
    "\n",
    "    for variable in (0, 1): # phF, MF\n",
    "        model = CNN(path, variable=variable, epochs=10, learning_rate=1e-3, batch_size=16)\n",
    "\n",
    "        scores_strat_group_k_fold[variable] = stratified_group_k_fold(path=path,\n",
    "                                                            groups=subjects,\n",
    "                                                            model=model,\n",
    "                                                            folds=5,\n",
    "                                                            images=True,\n",
    "                                                            verbose=True,\n",
    "                                                            variable=variable)\n",
    "\n",
    "        scores_loso[variable] = leave_one_subject_out(path=path,\n",
    "                                            groups=subjects,\n",
    "                                            model=model,\n",
    "                                            images=True,\n",
    "                                            verbose=True,\n",
    "                                            variable=variable)\n",
    "\n",
    "        scores_strat_k_fold[variable] = stratified_k_fold(path=path,\n",
    "                                                          model=model,\n",
    "                                                          folds=5,\n",
    "                                                          images=True,\n",
    "                                                          verbose=True,\n",
    "                                                          variable=variable)"
   ],
   "metadata": {
    "collapsed": false,
    "pycharm": {
     "name": "#%%\n"
    }
   }
  },
  {
   "cell_type": "markdown",
   "source": [
    "# Save scores"
   ],
   "metadata": {
    "collapsed": false
   }
  },
  {
   "cell_type": "code",
   "execution_count": 50,
   "outputs": [],
   "source": [
    "path_scores = './Scores'\n",
    "model_name = 'cnn (transformer imp. (2))'"
   ],
   "metadata": {
    "collapsed": false,
    "pycharm": {
     "name": "#%%\n"
    }
   }
  },
  {
   "cell_type": "code",
   "execution_count": 51,
   "outputs": [],
   "source": [
    "# stratified group 5-fold\n",
    "with open(f'{path_scores}/strat_group_5_fold//{model_name}.txt', 'w') as dat:\n",
    "    dat.write(str(scores_strat_group_k_fold))"
   ],
   "metadata": {
    "collapsed": false,
    "pycharm": {
     "name": "#%%\n"
    }
   }
  },
  {
   "cell_type": "code",
   "execution_count": 52,
   "outputs": [],
   "source": [
    "# stratified 5-fold\n",
    "with open(f'{path_scores}/strat_5_fold/{model_name}.txt', 'w') as dat:\n",
    "    dat.write(str(scores_strat_group_k_fold))"
   ],
   "metadata": {
    "collapsed": false,
    "pycharm": {
     "name": "#%%\n"
    }
   }
  },
  {
   "cell_type": "code",
   "execution_count": 53,
   "outputs": [],
   "source": [
    "# LOSO\n",
    "with open(f'{path_scores}/loso//{model_name}.txt', 'w') as dat:\n",
    "    dat.write(str(scores_loso))"
   ],
   "metadata": {
    "collapsed": false,
    "pycharm": {
     "name": "#%%\n"
    }
   }
  },
  {
   "cell_type": "markdown",
   "source": [
    "# Under development"
   ],
   "metadata": {
    "collapsed": false
   }
  },
  {
   "cell_type": "markdown",
   "source": [
    "Training curve for other metrics"
   ],
   "metadata": {
    "collapsed": false
   }
  },
  {
   "cell_type": "code",
   "execution_count": 16,
   "outputs": [],
   "source": [
    "from tensorflow.keras.callbacks import Callback"
   ],
   "metadata": {
    "collapsed": false,
    "pycharm": {
     "name": "#%%\n"
    }
   }
  },
  {
   "cell_type": "code",
   "execution_count": 17,
   "outputs": [],
   "source": [
    "class ExtraMetrics(Callback):\n",
    "    def __init__(self, path, indices, variable):\n",
    "        super().__init__()\n",
    "\n",
    "        self.path = path\n",
    "        self.indices = indices\n",
    "        self.variable = variable\n",
    "\n",
    "        self.val_precisions = None\n",
    "        self.val_recalls = None\n",
    "        self.val_f1s = None\n",
    "\n",
    "    def on_train_begin(self, logs={}):\n",
    "        self.val_f1s = []\n",
    "        self.val_recalls = []\n",
    "        self.val_precisions = []\n",
    "\n",
    "    def on_epoch_end(self, epoch, logs={}):\n",
    "        # load datapoints\n",
    "        y_true = np.empty(len(self.indices), dtype=int)\n",
    "        y_pred = np.empty(len(self.indices), dtype=float)\n",
    "\n",
    "        for i, index in enumerate(self.indices):\n",
    "            X_i = np.load(self.path + f'/feature_vector{index}.npy', allow_pickle=True)\n",
    "            y_true_i = np.load(self.path + f'/labels{index}.npy', allow_pickle=True)[self.variable]\n",
    "\n",
    "            X_i = tf.expand_dims(X_i, axis=0) # add \"batch dimension\"\n",
    "            logits_pred_i = model.model.predict(X_i)\n",
    "\n",
    "            y_true[i] = y_true_i\n",
    "            y_pred[i] = logits_pred_i\n",
    "\n",
    "        y_probs = tf.math.sigmoid(y_pred)\n",
    "        y_pred = tf.round(y_probs)\n",
    "\n",
    "        f1 = f1_score(y_pred=y_pred, y_true=y_true, average='weighted')\n",
    "        recall = recall_score(y_pred=y_pred, y_true=y_true, average='weighted')\n",
    "        precision = precision_score(y_pred=y_pred, y_true=y_true, average='weighted')\n",
    "\n",
    "        self.val_f1s.append(f1)\n",
    "        self.val_recalls.append(recall)\n",
    "        self.val_precisions.append(precision)\n",
    "\n",
    "        print(f' - val_f1: {f1} - val_precision: {recall} - val_recall: {precision}')"
   ],
   "metadata": {
    "collapsed": false,
    "pycharm": {
     "name": "#%%\n"
    }
   }
  },
  {
   "cell_type": "code",
   "execution_count": 40,
   "outputs": [
    {
     "name": "stdout",
     "output_type": "stream",
     "text": [
      "WARNING:tensorflow:`input_shape` is undefined or non-square, or `rows` is not in [96, 128, 160, 192, 224]. Weights for input shape (224, 224) will be loaded as the default.\n",
      "Starting stratified group 5-fold for physical fatigue\n"
     ]
    },
    {
     "name": "stderr",
     "output_type": "stream",
     "text": [
      "  0%|          | 0/5 [00:00<?, ?it/s]"
     ]
    },
    {
     "name": "stdout",
     "output_type": "stream",
     "text": [
      "WARNING:tensorflow:`input_shape` is undefined or non-square, or `rows` is not in [96, 128, 160, 192, 224]. Weights for input shape (224, 224) will be loaded as the default.\n"
     ]
    },
    {
     "name": "stderr",
     "output_type": "stream",
     "text": [
      "C:\\Users\\jjung\\anaconda3\\envs\\tf-sklearn-keras\\lib\\site-packages\\keras\\engine\\training.py:1972: UserWarning: `Model.fit_generator` is deprecated and will be removed in a future version. Please use `Model.fit`, which supports generators.\n",
      "  warnings.warn('`Model.fit_generator` is deprecated and '\n"
     ]
    },
    {
     "name": "stdout",
     "output_type": "stream",
     "text": [
      "253/253 [==============================] - 57s 132ms/step - loss: 0.6910\n"
     ]
    },
    {
     "name": "stderr",
     "output_type": "stream",
     "text": [
      "C:\\Users\\jjung\\anaconda3\\envs\\tf-sklearn-keras\\lib\\site-packages\\keras\\engine\\training.py:1972: UserWarning: `Model.fit_generator` is deprecated and will be removed in a future version. Please use `Model.fit`, which supports generators.\n",
      "  warnings.warn('`Model.fit_generator` is deprecated and '\n"
     ]
    },
    {
     "name": "stdout",
     "output_type": "stream",
     "text": [
      "253/253 [==============================] - 34s 132ms/step - loss: 0.5121\n"
     ]
    },
    {
     "name": "stderr",
     "output_type": "stream",
     "text": [
      "C:\\Users\\jjung\\anaconda3\\envs\\tf-sklearn-keras\\lib\\site-packages\\keras\\engine\\training.py:1972: UserWarning: `Model.fit_generator` is deprecated and will be removed in a future version. Please use `Model.fit`, which supports generators.\n",
      "  warnings.warn('`Model.fit_generator` is deprecated and '\n"
     ]
    },
    {
     "name": "stdout",
     "output_type": "stream",
     "text": [
      "253/253 [==============================] - 33s 132ms/step - loss: 0.4000\n"
     ]
    },
    {
     "name": "stderr",
     "output_type": "stream",
     "text": [
      "C:\\Users\\jjung\\anaconda3\\envs\\tf-sklearn-keras\\lib\\site-packages\\keras\\engine\\training.py:1972: UserWarning: `Model.fit_generator` is deprecated and will be removed in a future version. Please use `Model.fit`, which supports generators.\n",
      "  warnings.warn('`Model.fit_generator` is deprecated and '\n"
     ]
    },
    {
     "name": "stdout",
     "output_type": "stream",
     "text": [
      "253/253 [==============================] - 34s 133ms/step - loss: 0.3760\n"
     ]
    },
    {
     "name": "stderr",
     "output_type": "stream",
     "text": [
      "C:\\Users\\jjung\\anaconda3\\envs\\tf-sklearn-keras\\lib\\site-packages\\sklearn\\metrics\\_classification.py:1334: UndefinedMetricWarning: Precision is ill-defined and being set to 0.0 in labels with no predicted samples. Use `zero_division` parameter to control this behavior.\n",
      "  _warn_prf(average, modifier, msg_start, len(result))\n",
      "C:\\Users\\jjung\\anaconda3\\envs\\tf-sklearn-keras\\lib\\site-packages\\keras\\engine\\training.py:1972: UserWarning: `Model.fit_generator` is deprecated and will be removed in a future version. Please use `Model.fit`, which supports generators.\n",
      "  warnings.warn('`Model.fit_generator` is deprecated and '\n"
     ]
    },
    {
     "name": "stdout",
     "output_type": "stream",
     "text": [
      "253/253 [==============================] - 34s 133ms/step - loss: 0.4093\n"
     ]
    },
    {
     "name": "stderr",
     "output_type": "stream",
     "text": [
      "C:\\Users\\jjung\\anaconda3\\envs\\tf-sklearn-keras\\lib\\site-packages\\keras\\engine\\training.py:1972: UserWarning: `Model.fit_generator` is deprecated and will be removed in a future version. Please use `Model.fit`, which supports generators.\n",
      "  warnings.warn('`Model.fit_generator` is deprecated and '\n"
     ]
    },
    {
     "name": "stdout",
     "output_type": "stream",
     "text": [
      "253/253 [==============================] - 34s 132ms/step - loss: 0.2770\n"
     ]
    },
    {
     "name": "stderr",
     "output_type": "stream",
     "text": [
      "C:\\Users\\jjung\\anaconda3\\envs\\tf-sklearn-keras\\lib\\site-packages\\keras\\engine\\training.py:1972: UserWarning: `Model.fit_generator` is deprecated and will be removed in a future version. Please use `Model.fit`, which supports generators.\n",
      "  warnings.warn('`Model.fit_generator` is deprecated and '\n"
     ]
    },
    {
     "name": "stdout",
     "output_type": "stream",
     "text": [
      "253/253 [==============================] - 33s 131ms/step - loss: 0.3015\n"
     ]
    },
    {
     "name": "stderr",
     "output_type": "stream",
     "text": [
      "  0%|          | 0/5 [06:57<?, ?it/s]\n"
     ]
    },
    {
     "ename": "ResourceExhaustedError",
     "evalue": " OOM when allocating tensor with shape[96,187,251] and type float on /job:localhost/replica:0/task:0/device:GPU:0 by allocator GPU_0_bfc\n\t [[node conv_net_17/mobilenet/block_1_pad/Pad_8 (defined at \\AppData\\Local\\Temp\\ipykernel_4108\\963502601.py:53) ]]\nHint: If you want to see a list of allocated tensors when OOM happens, add report_tensor_allocations_upon_oom to RunOptions for current allocation info. This isn't available when running in Eager mode.\n [Op:__inference_predict_function_817481]\n\nFunction call stack:\npredict_function\n",
     "output_type": "error",
     "traceback": [
      "\u001B[1;31m---------------------------------------------------------------------------\u001B[0m",
      "\u001B[1;31mResourceExhaustedError\u001B[0m                    Traceback (most recent call last)",
      "Cell \u001B[1;32mIn [40], line 51\u001B[0m\n\u001B[0;32m     47\u001B[0m model\u001B[38;5;241m.\u001B[39mmodel\u001B[38;5;241m.\u001B[39mfit_generator(generator\u001B[38;5;241m=\u001B[39mtrain_dataloader,\n\u001B[0;32m     48\u001B[0m                           epochs\u001B[38;5;241m=\u001B[39m\u001B[38;5;241m1\u001B[39m)\n\u001B[0;32m     50\u001B[0m \u001B[38;5;66;03m# validation\u001B[39;00m\n\u001B[1;32m---> 51\u001B[0m y_logits \u001B[38;5;241m=\u001B[39m \u001B[43mmodel\u001B[49m\u001B[38;5;241;43m.\u001B[39;49m\u001B[43mpredict\u001B[49m\u001B[43m(\u001B[49m\u001B[43mtest_indices\u001B[49m\u001B[43m,\u001B[49m\u001B[43m \u001B[49m\u001B[43mlogits\u001B[49m\u001B[38;5;241;43m=\u001B[39;49m\u001B[38;5;28;43;01mTrue\u001B[39;49;00m\u001B[43m)\u001B[49m\n\u001B[0;32m     52\u001B[0m y_probs \u001B[38;5;241m=\u001B[39m tf\u001B[38;5;241m.\u001B[39mmath\u001B[38;5;241m.\u001B[39msigmoid(y_logits) \u001B[38;5;66;03m# logits to probs\u001B[39;00m\n\u001B[0;32m     53\u001B[0m y_pred \u001B[38;5;241m=\u001B[39m tf\u001B[38;5;241m.\u001B[39mround(y_probs) \u001B[38;5;66;03m# probs to labels\u001B[39;00m\n",
      "Cell \u001B[1;32mIn [15], line 48\u001B[0m, in \u001B[0;36mCNN.predict\u001B[1;34m(self, test_indices, logits)\u001B[0m\n\u001B[0;32m     45\u001B[0m     X_i \u001B[38;5;241m=\u001B[39m np\u001B[38;5;241m.\u001B[39mload(path \u001B[38;5;241m+\u001B[39m \u001B[38;5;124mf\u001B[39m\u001B[38;5;124m'\u001B[39m\u001B[38;5;124m/feature_vector\u001B[39m\u001B[38;5;132;01m{\u001B[39;00mindex\u001B[38;5;132;01m}\u001B[39;00m\u001B[38;5;124m.npy\u001B[39m\u001B[38;5;124m'\u001B[39m, allow_pickle\u001B[38;5;241m=\u001B[39m\u001B[38;5;28;01mTrue\u001B[39;00m)\n\u001B[0;32m     47\u001B[0m     X_i \u001B[38;5;241m=\u001B[39m tf\u001B[38;5;241m.\u001B[39mexpand_dims(X_i, axis\u001B[38;5;241m=\u001B[39m\u001B[38;5;241m0\u001B[39m) \u001B[38;5;66;03m# add \"batch dimension\"\u001B[39;00m\n\u001B[1;32m---> 48\u001B[0m     logits_pred_i \u001B[38;5;241m=\u001B[39m \u001B[38;5;28;43mself\u001B[39;49m\u001B[38;5;241;43m.\u001B[39;49m\u001B[43mmodel\u001B[49m\u001B[38;5;241;43m.\u001B[39;49m\u001B[43mpredict\u001B[49m\u001B[43m(\u001B[49m\u001B[43mX_i\u001B[49m\u001B[43m)\u001B[49m\n\u001B[0;32m     50\u001B[0m     y_pred[i] \u001B[38;5;241m=\u001B[39m logits_pred_i\n\u001B[0;32m     52\u001B[0m \u001B[38;5;28;01mif\u001B[39;00m logits:\n",
      "File \u001B[1;32m~\\anaconda3\\envs\\tf-sklearn-keras\\lib\\site-packages\\keras\\engine\\training.py:1751\u001B[0m, in \u001B[0;36mModel.predict\u001B[1;34m(self, x, batch_size, verbose, steps, callbacks, max_queue_size, workers, use_multiprocessing)\u001B[0m\n\u001B[0;32m   1749\u001B[0m \u001B[38;5;28;01mfor\u001B[39;00m step \u001B[38;5;129;01min\u001B[39;00m data_handler\u001B[38;5;241m.\u001B[39msteps():\n\u001B[0;32m   1750\u001B[0m   callbacks\u001B[38;5;241m.\u001B[39mon_predict_batch_begin(step)\n\u001B[1;32m-> 1751\u001B[0m   tmp_batch_outputs \u001B[38;5;241m=\u001B[39m \u001B[38;5;28;43mself\u001B[39;49m\u001B[38;5;241;43m.\u001B[39;49m\u001B[43mpredict_function\u001B[49m\u001B[43m(\u001B[49m\u001B[43miterator\u001B[49m\u001B[43m)\u001B[49m\n\u001B[0;32m   1752\u001B[0m   \u001B[38;5;28;01mif\u001B[39;00m data_handler\u001B[38;5;241m.\u001B[39mshould_sync:\n\u001B[0;32m   1753\u001B[0m     context\u001B[38;5;241m.\u001B[39masync_wait()\n",
      "File \u001B[1;32m~\\anaconda3\\envs\\tf-sklearn-keras\\lib\\site-packages\\tensorflow\\python\\eager\\def_function.py:885\u001B[0m, in \u001B[0;36mFunction.__call__\u001B[1;34m(self, *args, **kwds)\u001B[0m\n\u001B[0;32m    882\u001B[0m compiler \u001B[38;5;241m=\u001B[39m \u001B[38;5;124m\"\u001B[39m\u001B[38;5;124mxla\u001B[39m\u001B[38;5;124m\"\u001B[39m \u001B[38;5;28;01mif\u001B[39;00m \u001B[38;5;28mself\u001B[39m\u001B[38;5;241m.\u001B[39m_jit_compile \u001B[38;5;28;01melse\u001B[39;00m \u001B[38;5;124m\"\u001B[39m\u001B[38;5;124mnonXla\u001B[39m\u001B[38;5;124m\"\u001B[39m\n\u001B[0;32m    884\u001B[0m \u001B[38;5;28;01mwith\u001B[39;00m OptionalXlaContext(\u001B[38;5;28mself\u001B[39m\u001B[38;5;241m.\u001B[39m_jit_compile):\n\u001B[1;32m--> 885\u001B[0m   result \u001B[38;5;241m=\u001B[39m \u001B[38;5;28mself\u001B[39m\u001B[38;5;241m.\u001B[39m_call(\u001B[38;5;241m*\u001B[39margs, \u001B[38;5;241m*\u001B[39m\u001B[38;5;241m*\u001B[39mkwds)\n\u001B[0;32m    887\u001B[0m new_tracing_count \u001B[38;5;241m=\u001B[39m \u001B[38;5;28mself\u001B[39m\u001B[38;5;241m.\u001B[39mexperimental_get_tracing_count()\n\u001B[0;32m    888\u001B[0m without_tracing \u001B[38;5;241m=\u001B[39m (tracing_count \u001B[38;5;241m==\u001B[39m new_tracing_count)\n",
      "File \u001B[1;32m~\\anaconda3\\envs\\tf-sklearn-keras\\lib\\site-packages\\tensorflow\\python\\eager\\def_function.py:924\u001B[0m, in \u001B[0;36mFunction._call\u001B[1;34m(self, *args, **kwds)\u001B[0m\n\u001B[0;32m    921\u001B[0m \u001B[38;5;28mself\u001B[39m\u001B[38;5;241m.\u001B[39m_lock\u001B[38;5;241m.\u001B[39mrelease()\n\u001B[0;32m    922\u001B[0m \u001B[38;5;66;03m# In this case we have not created variables on the first call. So we can\u001B[39;00m\n\u001B[0;32m    923\u001B[0m \u001B[38;5;66;03m# run the first trace but we should fail if variables are created.\u001B[39;00m\n\u001B[1;32m--> 924\u001B[0m results \u001B[38;5;241m=\u001B[39m \u001B[38;5;28mself\u001B[39m\u001B[38;5;241m.\u001B[39m_stateful_fn(\u001B[38;5;241m*\u001B[39margs, \u001B[38;5;241m*\u001B[39m\u001B[38;5;241m*\u001B[39mkwds)\n\u001B[0;32m    925\u001B[0m \u001B[38;5;28;01mif\u001B[39;00m \u001B[38;5;28mself\u001B[39m\u001B[38;5;241m.\u001B[39m_created_variables \u001B[38;5;129;01mand\u001B[39;00m \u001B[38;5;129;01mnot\u001B[39;00m ALLOW_DYNAMIC_VARIABLE_CREATION:\n\u001B[0;32m    926\u001B[0m   \u001B[38;5;28;01mraise\u001B[39;00m \u001B[38;5;167;01mValueError\u001B[39;00m(\u001B[38;5;124m\"\u001B[39m\u001B[38;5;124mCreating variables on a non-first call to a function\u001B[39m\u001B[38;5;124m\"\u001B[39m\n\u001B[0;32m    927\u001B[0m                    \u001B[38;5;124m\"\u001B[39m\u001B[38;5;124m decorated with tf.function.\u001B[39m\u001B[38;5;124m\"\u001B[39m)\n",
      "File \u001B[1;32m~\\anaconda3\\envs\\tf-sklearn-keras\\lib\\site-packages\\tensorflow\\python\\eager\\function.py:3039\u001B[0m, in \u001B[0;36mFunction.__call__\u001B[1;34m(self, *args, **kwargs)\u001B[0m\n\u001B[0;32m   3036\u001B[0m \u001B[38;5;28;01mwith\u001B[39;00m \u001B[38;5;28mself\u001B[39m\u001B[38;5;241m.\u001B[39m_lock:\n\u001B[0;32m   3037\u001B[0m   (graph_function,\n\u001B[0;32m   3038\u001B[0m    filtered_flat_args) \u001B[38;5;241m=\u001B[39m \u001B[38;5;28mself\u001B[39m\u001B[38;5;241m.\u001B[39m_maybe_define_function(args, kwargs)\n\u001B[1;32m-> 3039\u001B[0m \u001B[38;5;28;01mreturn\u001B[39;00m \u001B[43mgraph_function\u001B[49m\u001B[38;5;241;43m.\u001B[39;49m\u001B[43m_call_flat\u001B[49m\u001B[43m(\u001B[49m\n\u001B[0;32m   3040\u001B[0m \u001B[43m    \u001B[49m\u001B[43mfiltered_flat_args\u001B[49m\u001B[43m,\u001B[49m\u001B[43m \u001B[49m\u001B[43mcaptured_inputs\u001B[49m\u001B[38;5;241;43m=\u001B[39;49m\u001B[43mgraph_function\u001B[49m\u001B[38;5;241;43m.\u001B[39;49m\u001B[43mcaptured_inputs\u001B[49m\u001B[43m)\u001B[49m\n",
      "File \u001B[1;32m~\\anaconda3\\envs\\tf-sklearn-keras\\lib\\site-packages\\tensorflow\\python\\eager\\function.py:1963\u001B[0m, in \u001B[0;36mConcreteFunction._call_flat\u001B[1;34m(self, args, captured_inputs, cancellation_manager)\u001B[0m\n\u001B[0;32m   1959\u001B[0m possible_gradient_type \u001B[38;5;241m=\u001B[39m gradients_util\u001B[38;5;241m.\u001B[39mPossibleTapeGradientTypes(args)\n\u001B[0;32m   1960\u001B[0m \u001B[38;5;28;01mif\u001B[39;00m (possible_gradient_type \u001B[38;5;241m==\u001B[39m gradients_util\u001B[38;5;241m.\u001B[39mPOSSIBLE_GRADIENT_TYPES_NONE\n\u001B[0;32m   1961\u001B[0m     \u001B[38;5;129;01mand\u001B[39;00m executing_eagerly):\n\u001B[0;32m   1962\u001B[0m   \u001B[38;5;66;03m# No tape is watching; skip to running the function.\u001B[39;00m\n\u001B[1;32m-> 1963\u001B[0m   \u001B[38;5;28;01mreturn\u001B[39;00m \u001B[38;5;28mself\u001B[39m\u001B[38;5;241m.\u001B[39m_build_call_outputs(\u001B[38;5;28;43mself\u001B[39;49m\u001B[38;5;241;43m.\u001B[39;49m\u001B[43m_inference_function\u001B[49m\u001B[38;5;241;43m.\u001B[39;49m\u001B[43mcall\u001B[49m\u001B[43m(\u001B[49m\n\u001B[0;32m   1964\u001B[0m \u001B[43m      \u001B[49m\u001B[43mctx\u001B[49m\u001B[43m,\u001B[49m\u001B[43m \u001B[49m\u001B[43margs\u001B[49m\u001B[43m,\u001B[49m\u001B[43m \u001B[49m\u001B[43mcancellation_manager\u001B[49m\u001B[38;5;241;43m=\u001B[39;49m\u001B[43mcancellation_manager\u001B[49m\u001B[43m)\u001B[49m)\n\u001B[0;32m   1965\u001B[0m forward_backward \u001B[38;5;241m=\u001B[39m \u001B[38;5;28mself\u001B[39m\u001B[38;5;241m.\u001B[39m_select_forward_and_backward_functions(\n\u001B[0;32m   1966\u001B[0m     args,\n\u001B[0;32m   1967\u001B[0m     possible_gradient_type,\n\u001B[0;32m   1968\u001B[0m     executing_eagerly)\n\u001B[0;32m   1969\u001B[0m forward_function, args_with_tangents \u001B[38;5;241m=\u001B[39m forward_backward\u001B[38;5;241m.\u001B[39mforward()\n",
      "File \u001B[1;32m~\\anaconda3\\envs\\tf-sklearn-keras\\lib\\site-packages\\tensorflow\\python\\eager\\function.py:591\u001B[0m, in \u001B[0;36m_EagerDefinedFunction.call\u001B[1;34m(self, ctx, args, cancellation_manager)\u001B[0m\n\u001B[0;32m    589\u001B[0m \u001B[38;5;28;01mwith\u001B[39;00m _InterpolateFunctionError(\u001B[38;5;28mself\u001B[39m):\n\u001B[0;32m    590\u001B[0m   \u001B[38;5;28;01mif\u001B[39;00m cancellation_manager \u001B[38;5;129;01mis\u001B[39;00m \u001B[38;5;28;01mNone\u001B[39;00m:\n\u001B[1;32m--> 591\u001B[0m     outputs \u001B[38;5;241m=\u001B[39m \u001B[43mexecute\u001B[49m\u001B[38;5;241;43m.\u001B[39;49m\u001B[43mexecute\u001B[49m\u001B[43m(\u001B[49m\n\u001B[0;32m    592\u001B[0m \u001B[43m        \u001B[49m\u001B[38;5;28;43mstr\u001B[39;49m\u001B[43m(\u001B[49m\u001B[38;5;28;43mself\u001B[39;49m\u001B[38;5;241;43m.\u001B[39;49m\u001B[43msignature\u001B[49m\u001B[38;5;241;43m.\u001B[39;49m\u001B[43mname\u001B[49m\u001B[43m)\u001B[49m\u001B[43m,\u001B[49m\n\u001B[0;32m    593\u001B[0m \u001B[43m        \u001B[49m\u001B[43mnum_outputs\u001B[49m\u001B[38;5;241;43m=\u001B[39;49m\u001B[38;5;28;43mself\u001B[39;49m\u001B[38;5;241;43m.\u001B[39;49m\u001B[43m_num_outputs\u001B[49m\u001B[43m,\u001B[49m\n\u001B[0;32m    594\u001B[0m \u001B[43m        \u001B[49m\u001B[43minputs\u001B[49m\u001B[38;5;241;43m=\u001B[39;49m\u001B[43margs\u001B[49m\u001B[43m,\u001B[49m\n\u001B[0;32m    595\u001B[0m \u001B[43m        \u001B[49m\u001B[43mattrs\u001B[49m\u001B[38;5;241;43m=\u001B[39;49m\u001B[43mattrs\u001B[49m\u001B[43m,\u001B[49m\n\u001B[0;32m    596\u001B[0m \u001B[43m        \u001B[49m\u001B[43mctx\u001B[49m\u001B[38;5;241;43m=\u001B[39;49m\u001B[43mctx\u001B[49m\u001B[43m)\u001B[49m\n\u001B[0;32m    597\u001B[0m   \u001B[38;5;28;01melse\u001B[39;00m:\n\u001B[0;32m    598\u001B[0m     outputs \u001B[38;5;241m=\u001B[39m execute\u001B[38;5;241m.\u001B[39mexecute_with_cancellation(\n\u001B[0;32m    599\u001B[0m         \u001B[38;5;28mstr\u001B[39m(\u001B[38;5;28mself\u001B[39m\u001B[38;5;241m.\u001B[39msignature\u001B[38;5;241m.\u001B[39mname),\n\u001B[0;32m    600\u001B[0m         num_outputs\u001B[38;5;241m=\u001B[39m\u001B[38;5;28mself\u001B[39m\u001B[38;5;241m.\u001B[39m_num_outputs,\n\u001B[1;32m   (...)\u001B[0m\n\u001B[0;32m    603\u001B[0m         ctx\u001B[38;5;241m=\u001B[39mctx,\n\u001B[0;32m    604\u001B[0m         cancellation_manager\u001B[38;5;241m=\u001B[39mcancellation_manager)\n",
      "File \u001B[1;32m~\\anaconda3\\envs\\tf-sklearn-keras\\lib\\site-packages\\tensorflow\\python\\eager\\execute.py:59\u001B[0m, in \u001B[0;36mquick_execute\u001B[1;34m(op_name, num_outputs, inputs, attrs, ctx, name)\u001B[0m\n\u001B[0;32m     57\u001B[0m \u001B[38;5;28;01mtry\u001B[39;00m:\n\u001B[0;32m     58\u001B[0m   ctx\u001B[38;5;241m.\u001B[39mensure_initialized()\n\u001B[1;32m---> 59\u001B[0m   tensors \u001B[38;5;241m=\u001B[39m \u001B[43mpywrap_tfe\u001B[49m\u001B[38;5;241;43m.\u001B[39;49m\u001B[43mTFE_Py_Execute\u001B[49m\u001B[43m(\u001B[49m\u001B[43mctx\u001B[49m\u001B[38;5;241;43m.\u001B[39;49m\u001B[43m_handle\u001B[49m\u001B[43m,\u001B[49m\u001B[43m \u001B[49m\u001B[43mdevice_name\u001B[49m\u001B[43m,\u001B[49m\u001B[43m \u001B[49m\u001B[43mop_name\u001B[49m\u001B[43m,\u001B[49m\n\u001B[0;32m     60\u001B[0m \u001B[43m                                      \u001B[49m\u001B[43minputs\u001B[49m\u001B[43m,\u001B[49m\u001B[43m \u001B[49m\u001B[43mattrs\u001B[49m\u001B[43m,\u001B[49m\u001B[43m \u001B[49m\u001B[43mnum_outputs\u001B[49m\u001B[43m)\u001B[49m\n\u001B[0;32m     61\u001B[0m \u001B[38;5;28;01mexcept\u001B[39;00m core\u001B[38;5;241m.\u001B[39m_NotOkStatusException \u001B[38;5;28;01mas\u001B[39;00m e:\n\u001B[0;32m     62\u001B[0m   \u001B[38;5;28;01mif\u001B[39;00m name \u001B[38;5;129;01mis\u001B[39;00m \u001B[38;5;129;01mnot\u001B[39;00m \u001B[38;5;28;01mNone\u001B[39;00m:\n",
      "\u001B[1;31mResourceExhaustedError\u001B[0m:  OOM when allocating tensor with shape[96,187,251] and type float on /job:localhost/replica:0/task:0/device:GPU:0 by allocator GPU_0_bfc\n\t [[node conv_net_17/mobilenet/block_1_pad/Pad_8 (defined at \\AppData\\Local\\Temp\\ipykernel_4108\\963502601.py:53) ]]\nHint: If you want to see a list of allocated tensors when OOM happens, add report_tensor_allocations_upon_oom to RunOptions for current allocation info. This isn't available when running in Eager mode.\n [Op:__inference_predict_function_817481]\n\nFunction call stack:\npredict_function\n"
     ]
    }
   ],
   "source": [
    "variable = 0\n",
    "folds = 5\n",
    "groups = subjects\n",
    "epochs = 25\n",
    "\n",
    "# use validation data every epoch\n",
    "history_val = {'accuracy': [],\n",
    "               'balanced_accuracy': [],\n",
    "               'f1': [],\n",
    "               'recall': [],\n",
    "               'precision': [],\n",
    "               'val_loss': []}\n",
    "\n",
    "model = CNN(path, variable=variable, epochs=epochs, learning_rate=1e-3, batch_size=2)\n",
    "\n",
    "# calculate data size\n",
    "N = sum([1 for p in os.listdir(path) if (p[:14] == 'feature_vector' and p[:19] != 'feature_vector_stat')])\n",
    "\n",
    "# load labels (we need them for stratification)\n",
    "y = np.empty(N, dtype=int)\n",
    "for i in range(N):\n",
    "    y[i] = np.load(path + f'/labels{i}.npy', allow_pickle=True)[variable]  # TODO: multiclass\n",
    "\n",
    "# CV\n",
    "cv = StratifiedGroupKFold(n_splits=folds, shuffle=True, random_state=SEED)\n",
    "scores_cv = []\n",
    "data_indices = np.arange(N)\n",
    "\n",
    "print(f'Starting stratified group {folds}-fold for {[\"physical fatigue\", \"mental fatigue\"][variable]}')\n",
    "with tqdm(total=folds) as pbar:\n",
    "    for i, (train_indices, test_indices) in enumerate(cv.split(X=data_indices, y=y, groups=groups)):\n",
    "        # test labels\n",
    "        y_test = y[test_indices]\n",
    "\n",
    "        # training\n",
    "        try:\n",
    "            model.reset()\n",
    "        except AttributeError:\n",
    "            pass  # model has no trainable parameters\n",
    "        # compile\n",
    "        sample_weights = get_weighting_factor(model.path, train_indices, variable)\n",
    "        model.model.compile(optimizer=Adam(learning_rate=model.learning_rate),\n",
    "                      loss=weighted_cross_entropy(sample_weights))\n",
    "        train_dataloader = DataGenerator(model.path, train_indices, batch_size=model.batch_size, variable=variable)\n",
    "        # training epochs\n",
    "        for i in range(epochs):\n",
    "            model.model.fit_generator(generator=train_dataloader,\n",
    "                                      epochs=1)\n",
    "\n",
    "            # validation\n",
    "            y_logits = model.predict(test_indices, logits=True)\n",
    "            y_probs = tf.math.sigmoid(y_logits) # logits to probs\n",
    "            y_pred = tf.round(y_probs) # probs to labels\n",
    "\n",
    "            # evaluate\n",
    "            scores = evaluator(y_pred, y_test, verbose=False)\n",
    "            metrics = history_val.keys()\n",
    "            for metric in metrics:\n",
    "                if metric == 'val_loss':\n",
    "                    history_val['val_loss'].append(np.mean(weighted_cross_entropy(sample_weights)(labels=tf.convert_to_tensor(y_test, dtype=float), logits=tf.convert_to_tensor(y_logits, dtype=float))))\n",
    "                else:\n",
    "                    history_val[metric].append(scores[metric])\n",
    "\n",
    "            del y_logits\n",
    "            del y_probs\n",
    "            del y_pred\n",
    "\n",
    "        break # only do one iteration\n",
    "\n",
    "        # for progress bar\n",
    "        pbar.update(1)\n",
    "        pbar.set_description(f' Fold {i + 1} F1: {scores[\"f1\"]}')"
   ],
   "metadata": {
    "collapsed": false,
    "pycharm": {
     "name": "#%%\n"
    }
   }
  },
  {
   "cell_type": "code",
   "execution_count": 41,
   "outputs": [
    {
     "data": {
      "text/plain": "<Figure size 640x480 with 6 Axes>",
      "image/png": "[encoded data removed]"
     },
     "metadata": {},
     "output_type": "display_data"
    }
   ],
   "source": [
    "# visualize\n",
    "# plot training curve\n",
    "plt.subplots_adjust(left=0.1,\n",
    "                    bottom=0.01,\n",
    "                    right=1.7,\n",
    "                    top=0.6,\n",
    "                    wspace=0.4,\n",
    "                    hspace=0.4)\n",
    "\n",
    "# mark best performing epoch\n",
    "best_model_epoch = np.argmax(history_val['f1'])\n",
    "\n",
    "metrics = history_val.keys()\n",
    "for i, metric in enumerate(metrics):\n",
    "    plt.subplot(1, 6, i + 1)\n",
    "    plt.plot(history_val[metric], color='C1')\n",
    "    plt.vlines(x=best_model_epoch, ymin=min(history_val[metric]), ymax=max(history_val[metric]), color='red')\n",
    "    plt.title(f'{metric} (validation)')\n",
    "    plt.ylabel(metric)\n",
    "    plt.xlabel('epoch')\n",
    "\n",
    "plt.show()"
   ],
   "metadata": {
    "collapsed": false,
    "pycharm": {
     "name": "#%%\n"
    }
   }
  },
  {
   "cell_type": "markdown",
   "source": [
    "Check number of epochs by stratified group 5-fold CV"
   ],
   "metadata": {
    "collapsed": false
   }
  },
  {
   "cell_type": "code",
   "execution_count": 25,
   "outputs": [],
   "source": [
    "scores_epochs = dict()"
   ],
   "metadata": {
    "collapsed": false,
    "pycharm": {
     "name": "#%%\n"
    }
   }
  },
  {
   "cell_type": "code",
   "execution_count": 26,
   "outputs": [
    {
     "name": "stdout",
     "output_type": "stream",
     "text": [
      "WARNING:tensorflow:`input_shape` is undefined or non-square, or `rows` is not in [96, 128, 160, 192, 224]. Weights for input shape (224, 224) will be loaded as the default.\n",
      "Starting stratified group 5-fold for physical fatigue\n"
     ]
    },
    {
     "name": "stderr",
     "output_type": "stream",
     "text": [
      "  0%|          | 0/5 [00:00<?, ?it/s]"
     ]
    },
    {
     "name": "stdout",
     "output_type": "stream",
     "text": [
      "WARNING:tensorflow:`input_shape` is undefined or non-square, or `rows` is not in [96, 128, 160, 192, 224]. Weights for input shape (224, 224) will be loaded as the default.\n",
      "Epoch 1/10\n",
      "16/16 [==============================] - 37s 739ms/step - loss: 0.7069\n",
      "Epoch 2/10\n",
      "16/16 [==============================] - 12s 709ms/step - loss: 0.5756\n",
      "Epoch 3/10\n",
      "16/16 [==============================] - 11s 687ms/step - loss: 0.4634\n",
      "Epoch 4/10\n",
      "16/16 [==============================] - 11s 688ms/step - loss: 0.4907\n",
      "Epoch 5/10\n",
      "16/16 [==============================] - 12s 696ms/step - loss: 0.4762\n",
      "Epoch 6/10\n",
      "16/16 [==============================] - 12s 695ms/step - loss: 0.3419\n",
      "Epoch 7/10\n",
      "16/16 [==============================] - 12s 696ms/step - loss: 0.3653\n",
      "Epoch 8/10\n",
      "16/16 [==============================] - 11s 690ms/step - loss: 0.3109\n",
      "Epoch 9/10\n",
      "16/16 [==============================] - 11s 693ms/step - loss: 0.2863\n",
      "Epoch 10/10\n",
      "16/16 [==============================] - 11s 691ms/step - loss: 0.2898\n"
     ]
    },
    {
     "name": "stderr",
     "output_type": "stream",
     "text": [
      " Fold 1 F1: 0.7398417576320199:  20%|██        | 1/5 [03:36<14:27, 216.79s/it]"
     ]
    },
    {
     "name": "stdout",
     "output_type": "stream",
     "text": [
      "WARNING:tensorflow:`input_shape` is undefined or non-square, or `rows` is not in [96, 128, 160, 192, 224]. Weights for input shape (224, 224) will be loaded as the default.\n",
      "Epoch 1/10\n",
      "37/37 [==============================] - 52s 680ms/step - loss: 0.4285\n",
      "Epoch 2/10\n",
      "37/37 [==============================] - 26s 682ms/step - loss: 0.3697\n",
      "Epoch 3/10\n",
      "37/37 [==============================] - 26s 680ms/step - loss: 0.3193\n",
      "Epoch 4/10\n",
      "37/37 [==============================] - 26s 681ms/step - loss: 0.2584\n",
      "Epoch 5/10\n",
      "37/37 [==============================] - 26s 681ms/step - loss: 0.2599\n",
      "Epoch 6/10\n",
      "37/37 [==============================] - 26s 685ms/step - loss: 0.2440\n",
      "Epoch 7/10\n",
      "37/37 [==============================] - 26s 692ms/step - loss: 0.2530\n",
      "Epoch 8/10\n",
      "37/37 [==============================] - 26s 680ms/step - loss: 0.2090\n",
      "Epoch 9/10\n",
      "37/37 [==============================] - 26s 681ms/step - loss: 0.2122\n",
      "Epoch 10/10\n",
      "37/37 [==============================] - 26s 682ms/step - loss: 0.2345\n"
     ]
    },
    {
     "name": "stderr",
     "output_type": "stream",
     "text": [
      " Fold 2 F1: 0.5974025974025974:  40%|████      | 2/5 [08:36<13:17, 265.79s/it]"
     ]
    },
    {
     "name": "stdout",
     "output_type": "stream",
     "text": [
      "WARNING:tensorflow:`input_shape` is undefined or non-square, or `rows` is not in [96, 128, 160, 192, 224]. Weights for input shape (224, 224) will be loaded as the default.\n",
      "Epoch 1/10\n",
      "35/35 [==============================] - 49s 676ms/step - loss: 0.4764\n",
      "Epoch 2/10\n",
      "35/35 [==============================] - 24s 676ms/step - loss: 0.3464\n",
      "Epoch 3/10\n",
      "35/35 [==============================] - 24s 677ms/step - loss: 0.3518\n",
      "Epoch 4/10\n",
      "35/35 [==============================] - 24s 676ms/step - loss: 0.3101\n",
      "Epoch 5/10\n",
      "35/35 [==============================] - 24s 677ms/step - loss: 0.2787\n",
      "Epoch 6/10\n",
      "35/35 [==============================] - 24s 676ms/step - loss: 0.2731\n",
      "Epoch 7/10\n",
      "35/35 [==============================] - 24s 676ms/step - loss: 0.2382\n",
      "Epoch 8/10\n",
      "35/35 [==============================] - 24s 676ms/step - loss: 0.2207\n",
      "Epoch 9/10\n",
      "35/35 [==============================] - 24s 676ms/step - loss: 0.2320\n",
      "Epoch 10/10\n",
      "35/35 [==============================] - 24s 676ms/step - loss: 0.2093\n"
     ]
    },
    {
     "name": "stderr",
     "output_type": "stream",
     "text": [
      " Fold 3 F1: 0.8761158062654854:  60%|██████    | 3/5 [13:22<09:09, 274.74s/it]"
     ]
    },
    {
     "name": "stdout",
     "output_type": "stream",
     "text": [
      "WARNING:tensorflow:`input_shape` is undefined or non-square, or `rows` is not in [96, 128, 160, 192, 224]. Weights for input shape (224, 224) will be loaded as the default.\n",
      "Epoch 1/10\n",
      "31/31 [==============================] - 47s 693ms/step - loss: 0.4333\n",
      "Epoch 2/10\n",
      "31/31 [==============================] - 22s 693ms/step - loss: 0.3861\n",
      "Epoch 3/10\n",
      "31/31 [==============================] - 22s 692ms/step - loss: 0.3130\n",
      "Epoch 4/10\n",
      "31/31 [==============================] - 22s 694ms/step - loss: 0.2640\n",
      "Epoch 5/10\n",
      "31/31 [==============================] - 22s 692ms/step - loss: 0.2486\n",
      "Epoch 6/10\n",
      "31/31 [==============================] - 22s 694ms/step - loss: 0.2308\n",
      "Epoch 7/10\n",
      "31/31 [==============================] - 22s 693ms/step - loss: 0.2172\n",
      "Epoch 8/10\n",
      "31/31 [==============================] - 22s 694ms/step - loss: 0.2260\n",
      "Epoch 9/10\n",
      "31/31 [==============================] - 21s 665ms/step - loss: 0.1915\n",
      "Epoch 10/10\n",
      "31/31 [==============================] - 23s 718ms/step - loss: 0.2154\n"
     ]
    },
    {
     "name": "stderr",
     "output_type": "stream",
     "text": [
      " Fold 4 F1: 0.4111409790707982:  80%|████████  | 4/5 [17:58<04:35, 275.13s/it]"
     ]
    },
    {
     "name": "stdout",
     "output_type": "stream",
     "text": [
      "WARNING:tensorflow:`input_shape` is undefined or non-square, or `rows` is not in [96, 128, 160, 192, 224]. Weights for input shape (224, 224) will be loaded as the default.\n",
      "Epoch 1/10\n",
      "32/32 [==============================] - 46s 687ms/step - loss: 0.5753\n",
      "Epoch 2/10\n",
      "32/32 [==============================] - 22s 687ms/step - loss: 0.3472\n",
      "Epoch 3/10\n",
      "32/32 [==============================] - 22s 686ms/step - loss: 0.3118\n",
      "Epoch 4/10\n",
      "32/32 [==============================] - 22s 689ms/step - loss: 0.2928\n",
      "Epoch 5/10\n",
      "32/32 [==============================] - 22s 688ms/step - loss: 0.2730\n",
      "Epoch 6/10\n",
      "32/32 [==============================] - 22s 688ms/step - loss: 0.2705\n",
      "Epoch 7/10\n",
      "32/32 [==============================] - 22s 688ms/step - loss: 0.2515\n",
      "Epoch 8/10\n",
      "32/32 [==============================] - 22s 687ms/step - loss: 0.2298\n",
      "Epoch 9/10\n",
      "32/32 [==============================] - 22s 688ms/step - loss: 0.2229\n",
      "Epoch 10/10\n",
      "32/32 [==============================] - 22s 688ms/step - loss: 0.2152\n"
     ]
    },
    {
     "name": "stderr",
     "output_type": "stream",
     "text": [
      " Fold 5 F1: 0.6417224880382776: 100%|██████████| 5/5 [22:34<00:00, 270.93s/it]"
     ]
    },
    {
     "name": "stdout",
     "output_type": "stream",
     "text": [
      "Performance model:\n",
      " accuracy: 0.664 +- 0.142 \n",
      "\n",
      " balanced_accuracy: 0.677 +- 0.097 \n",
      "\n",
      " f1: 0.653 +- 0.154 \n",
      "\n",
      " recall: 0.664 +- 0.142 \n",
      "\n",
      " precision: 0.766 +- 0.098 \n",
      "\n",
      "WARNING:tensorflow:`input_shape` is undefined or non-square, or `rows` is not in [96, 128, 160, 192, 224]. Weights for input shape (224, 224) will be loaded as the default.\n"
     ]
    },
    {
     "name": "stderr",
     "output_type": "stream",
     "text": [
      "\n"
     ]
    },
    {
     "name": "stdout",
     "output_type": "stream",
     "text": [
      "Starting stratified group 5-fold for physical fatigue\n"
     ]
    },
    {
     "name": "stderr",
     "output_type": "stream",
     "text": [
      "  0%|          | 0/5 [00:00<?, ?it/s]"
     ]
    },
    {
     "name": "stdout",
     "output_type": "stream",
     "text": [
      "WARNING:tensorflow:`input_shape` is undefined or non-square, or `rows` is not in [96, 128, 160, 192, 224]. Weights for input shape (224, 224) will be loaded as the default.\n",
      "Epoch 1/20\n",
      "16/16 [==============================] - 36s 696ms/step - loss: 0.5718\n",
      "Epoch 2/20\n",
      "16/16 [==============================] - 12s 696ms/step - loss: 0.4430\n",
      "Epoch 3/20\n",
      "16/16 [==============================] - 11s 696ms/step - loss: 0.3860\n",
      "Epoch 4/20\n",
      "16/16 [==============================] - 11s 693ms/step - loss: 0.3625\n",
      "Epoch 5/20\n",
      "16/16 [==============================] - 11s 696ms/step - loss: 0.3364\n",
      "Epoch 6/20\n",
      "16/16 [==============================] - 11s 695ms/step - loss: 0.3309\n",
      "Epoch 7/20\n",
      "16/16 [==============================] - 12s 695ms/step - loss: 0.3001\n",
      "Epoch 8/20\n",
      "16/16 [==============================] - 11s 695ms/step - loss: 0.3208\n",
      "Epoch 9/20\n",
      "16/16 [==============================] - 11s 696ms/step - loss: 0.3366\n",
      "Epoch 10/20\n",
      "16/16 [==============================] - 11s 696ms/step - loss: 0.2836\n",
      "Epoch 11/20\n",
      "16/16 [==============================] - 11s 695ms/step - loss: 0.2734\n",
      "Epoch 12/20\n",
      "16/16 [==============================] - 11s 694ms/step - loss: 0.2383\n",
      "Epoch 13/20\n",
      "16/16 [==============================] - 11s 696ms/step - loss: 0.2132\n",
      "Epoch 14/20\n",
      "16/16 [==============================] - 11s 696ms/step - loss: 0.2075\n",
      "Epoch 15/20\n",
      "16/16 [==============================] - 12s 697ms/step - loss: 0.2997\n",
      "Epoch 16/20\n",
      "16/16 [==============================] - 12s 696ms/step - loss: 0.2297\n",
      "Epoch 17/20\n",
      "16/16 [==============================] - 12s 696ms/step - loss: 0.1896\n",
      "Epoch 18/20\n",
      "16/16 [==============================] - 11s 696ms/step - loss: 0.2077\n",
      "Epoch 19/20\n",
      "16/16 [==============================] - 11s 693ms/step - loss: 0.1995\n",
      "Epoch 20/20\n",
      "16/16 [==============================] - 11s 695ms/step - loss: 0.1561\n"
     ]
    },
    {
     "name": "stderr",
     "output_type": "stream",
     "text": [
      " Fold 1 F1: 0.8180428136244944:  20%|██        | 1/5 [05:18<21:12, 318.02s/it]"
     ]
    },
    {
     "name": "stdout",
     "output_type": "stream",
     "text": [
      "WARNING:tensorflow:`input_shape` is undefined or non-square, or `rows` is not in [96, 128, 160, 192, 224]. Weights for input shape (224, 224) will be loaded as the default.\n",
      "Epoch 1/20\n",
      "37/37 [==============================] - 48s 666ms/step - loss: 0.4658\n",
      "Epoch 2/20\n",
      "37/37 [==============================] - 24s 636ms/step - loss: 0.3354\n",
      "Epoch 3/20\n",
      "37/37 [==============================] - 24s 637ms/step - loss: 0.3313\n",
      "Epoch 4/20\n",
      "37/37 [==============================] - 27s 711ms/step - loss: 0.3346\n",
      "Epoch 5/20\n",
      "37/37 [==============================] - 26s 682ms/step - loss: 0.2693\n",
      "Epoch 6/20\n",
      "37/37 [==============================] - 26s 683ms/step - loss: 0.2615\n",
      "Epoch 7/20\n",
      "37/37 [==============================] - 26s 683ms/step - loss: 0.2718\n",
      "Epoch 8/20\n",
      "37/37 [==============================] - 26s 682ms/step - loss: 0.2055\n",
      "Epoch 9/20\n",
      "37/37 [==============================] - 26s 694ms/step - loss: 0.2161\n",
      "Epoch 10/20\n",
      "37/37 [==============================] - 27s 711ms/step - loss: 0.1973\n",
      "Epoch 11/20\n",
      "37/37 [==============================] - 27s 712ms/step - loss: 0.1861\n",
      "Epoch 12/20\n",
      "37/37 [==============================] - 27s 712ms/step - loss: 0.1874\n",
      "Epoch 13/20\n",
      "37/37 [==============================] - 27s 712ms/step - loss: 0.1935\n",
      "Epoch 14/20\n",
      "37/37 [==============================] - 27s 720ms/step - loss: 0.1774\n",
      "Epoch 15/20\n",
      "37/37 [==============================] - 27s 718ms/step - loss: 0.1770\n",
      "Epoch 16/20\n",
      "37/37 [==============================] - 26s 704ms/step - loss: 0.2336\n",
      "Epoch 17/20\n",
      "37/37 [==============================] - 26s 690ms/step - loss: 0.1663\n",
      "Epoch 18/20\n",
      "37/37 [==============================] - 26s 689ms/step - loss: 0.1686\n",
      "Epoch 19/20\n",
      "37/37 [==============================] - 26s 697ms/step - loss: 0.1401\n",
      "Epoch 20/20\n",
      "37/37 [==============================] - 26s 690ms/step - loss: 0.1197\n"
     ]
    },
    {
     "name": "stderr",
     "output_type": "stream",
     "text": [
      " Fold 2 F1: 0.9090909090909091:  40%|████      | 2/5 [14:35<22:56, 458.99s/it]"
     ]
    },
    {
     "name": "stdout",
     "output_type": "stream",
     "text": [
      "WARNING:tensorflow:`input_shape` is undefined or non-square, or `rows` is not in [96, 128, 160, 192, 224]. Weights for input shape (224, 224) will be loaded as the default.\n",
      "Epoch 1/20\n",
      "35/35 [==============================] - 51s 698ms/step - loss: 0.4712\n",
      "Epoch 2/20\n",
      "35/35 [==============================] - 25s 704ms/step - loss: 0.3571\n",
      "Epoch 3/20\n",
      "35/35 [==============================] - 24s 682ms/step - loss: 0.3703\n",
      "Epoch 4/20\n",
      "35/35 [==============================] - 25s 697ms/step - loss: 0.3123\n",
      "Epoch 5/20\n",
      "35/35 [==============================] - 25s 691ms/step - loss: 0.2794\n",
      "Epoch 6/20\n",
      "35/35 [==============================] - 25s 692ms/step - loss: 0.2662\n",
      "Epoch 7/20\n",
      "35/35 [==============================] - 25s 690ms/step - loss: 0.2260\n",
      "Epoch 8/20\n",
      "35/35 [==============================] - 25s 691ms/step - loss: 0.2258\n",
      "Epoch 9/20\n",
      "35/35 [==============================] - 24s 686ms/step - loss: 0.2405\n",
      "Epoch 10/20\n",
      "35/35 [==============================] - 25s 698ms/step - loss: 0.2260\n",
      "Epoch 11/20\n",
      "35/35 [==============================] - 24s 686ms/step - loss: 0.2300\n",
      "Epoch 12/20\n",
      "35/35 [==============================] - 25s 692ms/step - loss: 0.1758\n",
      "Epoch 13/20\n",
      "35/35 [==============================] - 25s 694ms/step - loss: 0.2050\n",
      "Epoch 14/20\n",
      "35/35 [==============================] - 25s 699ms/step - loss: 0.2380\n",
      "Epoch 15/20\n",
      "35/35 [==============================] - 25s 690ms/step - loss: 0.1713\n",
      "Epoch 16/20\n",
      "35/35 [==============================] - 24s 679ms/step - loss: 0.1502\n",
      "Epoch 17/20\n",
      "35/35 [==============================] - 24s 677ms/step - loss: 0.1696\n",
      "Epoch 18/20\n",
      "35/35 [==============================] - 24s 681ms/step - loss: 0.1410\n",
      "Epoch 19/20\n",
      "35/35 [==============================] - 24s 678ms/step - loss: 0.1744\n",
      "Epoch 20/20\n",
      "35/35 [==============================] - 24s 678ms/step - loss: 0.1725\n"
     ]
    },
    {
     "name": "stderr",
     "output_type": "stream",
     "text": [
      " Fold 3 F1: 0.7708683473389355:  60%|██████    | 3/5 [23:33<16:30, 495.15s/it]"
     ]
    },
    {
     "name": "stdout",
     "output_type": "stream",
     "text": [
      "WARNING:tensorflow:`input_shape` is undefined or non-square, or `rows` is not in [96, 128, 160, 192, 224]. Weights for input shape (224, 224) will be loaded as the default.\n",
      "Epoch 1/20\n",
      "31/31 [==============================] - 49s 729ms/step - loss: 0.3895\n",
      "Epoch 2/20\n",
      "31/31 [==============================] - 22s 686ms/step - loss: 0.2965\n",
      "Epoch 3/20\n",
      "31/31 [==============================] - 22s 685ms/step - loss: 0.2647\n",
      "Epoch 4/20\n",
      "31/31 [==============================] - 22s 685ms/step - loss: 0.2408\n",
      "Epoch 5/20\n",
      "31/31 [==============================] - 22s 684ms/step - loss: 0.2757\n",
      "Epoch 6/20\n",
      "31/31 [==============================] - 22s 684ms/step - loss: 0.3263\n",
      "Epoch 7/20\n",
      "31/31 [==============================] - 22s 685ms/step - loss: 0.1990\n",
      "Epoch 8/20\n",
      "31/31 [==============================] - 22s 685ms/step - loss: 0.1856\n",
      "Epoch 9/20\n",
      "31/31 [==============================] - 22s 685ms/step - loss: 0.1916\n",
      "Epoch 10/20\n",
      "31/31 [==============================] - 22s 685ms/step - loss: 0.1663\n",
      "Epoch 11/20\n",
      "31/31 [==============================] - 22s 684ms/step - loss: 0.1560\n",
      "Epoch 12/20\n",
      "31/31 [==============================] - 22s 686ms/step - loss: 0.1431\n",
      "Epoch 13/20\n",
      "31/31 [==============================] - 22s 686ms/step - loss: 0.1469\n",
      "Epoch 14/20\n",
      "31/31 [==============================] - 22s 685ms/step - loss: 0.1516\n",
      "Epoch 15/20\n",
      "31/31 [==============================] - 22s 686ms/step - loss: 0.1512\n",
      "Epoch 16/20\n",
      "31/31 [==============================] - 22s 685ms/step - loss: 0.1177\n",
      "Epoch 17/20\n",
      "31/31 [==============================] - 22s 685ms/step - loss: 0.1213\n",
      "Epoch 18/20\n",
      "31/31 [==============================] - 22s 696ms/step - loss: 0.1095\n",
      "Epoch 19/20\n",
      "31/31 [==============================] - 22s 702ms/step - loss: 0.1018\n",
      "Epoch 20/20\n",
      "31/31 [==============================] - 23s 716ms/step - loss: 0.1243\n"
     ]
    },
    {
     "name": "stderr",
     "output_type": "stream",
     "text": [
      " Fold 4 F1: 0.7373181074648618:  80%|████████  | 4/5 [31:48<08:14, 494.92s/it]"
     ]
    },
    {
     "name": "stdout",
     "output_type": "stream",
     "text": [
      "WARNING:tensorflow:`input_shape` is undefined or non-square, or `rows` is not in [96, 128, 160, 192, 224]. Weights for input shape (224, 224) will be loaded as the default.\n",
      "Epoch 1/20\n",
      "32/32 [==============================] - 48s 694ms/step - loss: 0.4797\n",
      "Epoch 2/20\n",
      "32/32 [==============================] - 22s 689ms/step - loss: 0.3520\n",
      "Epoch 3/20\n",
      "32/32 [==============================] - 23s 703ms/step - loss: 0.3186\n",
      "Epoch 4/20\n",
      "32/32 [==============================] - 23s 697ms/step - loss: 0.2745\n",
      "Epoch 5/20\n",
      "32/32 [==============================] - 23s 698ms/step - loss: 0.2898\n",
      "Epoch 6/20\n",
      "32/32 [==============================] - 22s 689ms/step - loss: 0.2562\n",
      "Epoch 7/20\n",
      "32/32 [==============================] - 23s 697ms/step - loss: 0.2397\n",
      "Epoch 8/20\n",
      "32/32 [==============================] - 23s 705ms/step - loss: 0.2671\n",
      "Epoch 9/20\n",
      "32/32 [==============================] - 23s 715ms/step - loss: 0.2674\n",
      "Epoch 10/20\n",
      "32/32 [==============================] - 23s 717ms/step - loss: 0.2281\n",
      "Epoch 11/20\n",
      "32/32 [==============================] - 23s 697ms/step - loss: 0.2226\n",
      "Epoch 12/20\n",
      "32/32 [==============================] - 23s 701ms/step - loss: 0.1740\n",
      "Epoch 13/20\n",
      "32/32 [==============================] - 23s 696ms/step - loss: 0.1680\n",
      "Epoch 14/20\n",
      "32/32 [==============================] - 22s 688ms/step - loss: 0.1648\n",
      "Epoch 15/20\n",
      "32/32 [==============================] - 23s 715ms/step - loss: 0.1579\n",
      "Epoch 16/20\n",
      "32/32 [==============================] - 23s 714ms/step - loss: 0.1475\n",
      "Epoch 17/20\n",
      "32/32 [==============================] - 23s 707ms/step - loss: 0.1507\n",
      "Epoch 18/20\n",
      "32/32 [==============================] - 23s 706ms/step - loss: 0.1553\n",
      "Epoch 19/20\n",
      "32/32 [==============================] - 23s 707ms/step - loss: 0.1536\n",
      "Epoch 20/20\n",
      "32/32 [==============================] - 23s 705ms/step - loss: 0.1318\n"
     ]
    },
    {
     "name": "stderr",
     "output_type": "stream",
     "text": [
      " Fold 5 F1: 0.7965256277949776: 100%|██████████| 5/5 [40:21<00:00, 484.29s/it]"
     ]
    },
    {
     "name": "stdout",
     "output_type": "stream",
     "text": [
      "Performance model:\n",
      " accuracy: 0.806 +- 0.058 \n",
      "\n",
      " balanced_accuracy: 0.778 +- 0.079 \n",
      "\n",
      " f1: 0.806 +- 0.058 \n",
      "\n",
      " recall: 0.806 +- 0.058 \n",
      "\n",
      " precision: 0.825 +- 0.059 \n",
      "\n"
     ]
    },
    {
     "name": "stderr",
     "output_type": "stream",
     "text": [
      "\n"
     ]
    }
   ],
   "source": [
    "with warnings.catch_warnings():\n",
    "    warnings.filterwarnings('ignore')\n",
    "\n",
    "    for epochs in (10, 20):\n",
    "        model = CNN(path, variable=0, epochs=epochs, learning_rate=1e-3, batch_size=16)\n",
    "\n",
    "        scores_epochs[epochs] = stratified_group_k_fold(path=path,\n",
    "                                                                      groups=subjects,\n",
    "                                                                      model=model,\n",
    "                                                                      folds=5,\n",
    "                                                                      images=True,\n",
    "                                                                      verbose=True,\n",
    "                                                                      variable=0)"
   ],
   "metadata": {
    "collapsed": false,
    "pycharm": {
     "name": "#%%\n"
    }
   }
  },
  {
   "cell_type": "code",
   "execution_count": 27,
   "outputs": [
    {
     "name": "stdout",
     "output_type": "stream",
     "text": [
      "WARNING:tensorflow:`input_shape` is undefined or non-square, or `rows` is not in [96, 128, 160, 192, 224]. Weights for input shape (224, 224) will be loaded as the default.\n",
      "Starting stratified group 5-fold for physical fatigue\n"
     ]
    },
    {
     "name": "stderr",
     "output_type": "stream",
     "text": [
      "  0%|          | 0/5 [00:00<?, ?it/s]"
     ]
    },
    {
     "name": "stdout",
     "output_type": "stream",
     "text": [
      "WARNING:tensorflow:`input_shape` is undefined or non-square, or `rows` is not in [96, 128, 160, 192, 224]. Weights for input shape (224, 224) will be loaded as the default.\n",
      "Epoch 1/15\n",
      "16/16 [==============================] - 38s 685ms/step - loss: 0.6632\n",
      "Epoch 2/15\n",
      "16/16 [==============================] - 12s 697ms/step - loss: 0.5100\n",
      "Epoch 3/15\n",
      "16/16 [==============================] - 11s 693ms/step - loss: 0.4810\n",
      "Epoch 4/15\n",
      "16/16 [==============================] - 11s 688ms/step - loss: 0.3787\n",
      "Epoch 5/15\n",
      "16/16 [==============================] - 11s 681ms/step - loss: 0.3489\n",
      "Epoch 6/15\n",
      "16/16 [==============================] - 12s 701ms/step - loss: 0.3253\n",
      "Epoch 7/15\n",
      "16/16 [==============================] - 11s 689ms/step - loss: 0.3296\n",
      "Epoch 8/15\n",
      "16/16 [==============================] - 11s 685ms/step - loss: 0.3046\n",
      "Epoch 9/15\n",
      "16/16 [==============================] - 11s 690ms/step - loss: 0.2965\n",
      "Epoch 10/15\n",
      "16/16 [==============================] - 11s 692ms/step - loss: 0.2785\n",
      "Epoch 11/15\n",
      "16/16 [==============================] - 11s 682ms/step - loss: 0.3722\n",
      "Epoch 12/15\n",
      "16/16 [==============================] - 11s 691ms/step - loss: 0.3036\n",
      "Epoch 13/15\n",
      "16/16 [==============================] - 11s 686ms/step - loss: 0.2938\n",
      "Epoch 14/15\n",
      "16/16 [==============================] - 11s 683ms/step - loss: 0.2870\n",
      "Epoch 15/15\n",
      "16/16 [==============================] - 11s 692ms/step - loss: 0.2214\n"
     ]
    },
    {
     "name": "stderr",
     "output_type": "stream",
     "text": [
      " Fold 1 F1: 0.7594455841715705:  20%|██        | 1/5 [04:30<18:02, 270.73s/it]"
     ]
    },
    {
     "name": "stdout",
     "output_type": "stream",
     "text": [
      "WARNING:tensorflow:`input_shape` is undefined or non-square, or `rows` is not in [96, 128, 160, 192, 224]. Weights for input shape (224, 224) will be loaded as the default.\n",
      "Epoch 1/15\n",
      "37/37 [==============================] - 56s 694ms/step - loss: 0.4343\n",
      "Epoch 2/15\n",
      "37/37 [==============================] - 26s 691ms/step - loss: 0.3220\n",
      "Epoch 3/15\n",
      "37/37 [==============================] - 26s 684ms/step - loss: 0.2983\n",
      "Epoch 4/15\n",
      "37/37 [==============================] - 26s 689ms/step - loss: 0.2838\n",
      "Epoch 5/15\n",
      "37/37 [==============================] - 26s 695ms/step - loss: 0.2654\n",
      "Epoch 6/15\n",
      "37/37 [==============================] - 26s 692ms/step - loss: 0.2442\n",
      "Epoch 7/15\n",
      "37/37 [==============================] - 26s 694ms/step - loss: 0.2248\n",
      "Epoch 8/15\n",
      "37/37 [==============================] - 26s 693ms/step - loss: 0.2295\n",
      "Epoch 9/15\n",
      "37/37 [==============================] - 26s 694ms/step - loss: 0.2333\n",
      "Epoch 10/15\n",
      "37/37 [==============================] - 27s 717ms/step - loss: 0.1958\n",
      "Epoch 11/15\n",
      "37/37 [==============================] - 27s 715ms/step - loss: 0.1783\n",
      "Epoch 12/15\n",
      "37/37 [==============================] - 26s 701ms/step - loss: 0.1689\n",
      "Epoch 13/15\n",
      "37/37 [==============================] - 26s 697ms/step - loss: 0.1682\n",
      "Epoch 14/15\n",
      "37/37 [==============================] - 27s 711ms/step - loss: 0.1772\n",
      "Epoch 15/15\n",
      "37/37 [==============================] - 26s 690ms/step - loss: 0.1552\n"
     ]
    },
    {
     "name": "stderr",
     "output_type": "stream",
     "text": [
      " Fold 2 F1: 0.9075369075369075:  40%|████      | 2/5 [11:54<18:36, 372.27s/it]"
     ]
    },
    {
     "name": "stdout",
     "output_type": "stream",
     "text": [
      "WARNING:tensorflow:`input_shape` is undefined or non-square, or `rows` is not in [96, 128, 160, 192, 224]. Weights for input shape (224, 224) will be loaded as the default.\n",
      "Epoch 1/15\n",
      "35/35 [==============================] - 53s 714ms/step - loss: 0.4636\n",
      "Epoch 2/15\n",
      "35/35 [==============================] - 25s 695ms/step - loss: 0.3594\n",
      "Epoch 3/15\n",
      "35/35 [==============================] - 24s 686ms/step - loss: 0.3984\n",
      "Epoch 4/15\n",
      "35/35 [==============================] - 24s 685ms/step - loss: 0.2949\n",
      "Epoch 5/15\n",
      "35/35 [==============================] - 24s 686ms/step - loss: 0.2802\n",
      "Epoch 6/15\n",
      "35/35 [==============================] - 24s 685ms/step - loss: 0.2603\n",
      "Epoch 7/15\n",
      "35/35 [==============================] - 24s 686ms/step - loss: 0.2378\n",
      "Epoch 8/15\n",
      "35/35 [==============================] - 24s 685ms/step - loss: 0.2284\n",
      "Epoch 9/15\n",
      "35/35 [==============================] - 24s 685ms/step - loss: 0.2759\n",
      "Epoch 10/15\n",
      "35/35 [==============================] - 24s 686ms/step - loss: 0.2008\n",
      "Epoch 11/15\n",
      "35/35 [==============================] - 24s 685ms/step - loss: 0.1930\n",
      "Epoch 12/15\n",
      "35/35 [==============================] - 24s 686ms/step - loss: 0.1944\n",
      "Epoch 13/15\n",
      "35/35 [==============================] - 24s 686ms/step - loss: 0.1784\n",
      "Epoch 14/15\n",
      "35/35 [==============================] - 24s 684ms/step - loss: 0.1676\n",
      "Epoch 15/15\n",
      "35/35 [==============================] - 24s 687ms/step - loss: 0.1775\n"
     ]
    },
    {
     "name": "stderr",
     "output_type": "stream",
     "text": [
      " Fold 3 F1: 0.8163919413919413:  60%|██████    | 3/5 [18:52<13:06, 393.15s/it]"
     ]
    },
    {
     "name": "stdout",
     "output_type": "stream",
     "text": [
      "WARNING:tensorflow:`input_shape` is undefined or non-square, or `rows` is not in [96, 128, 160, 192, 224]. Weights for input shape (224, 224) will be loaded as the default.\n",
      "Epoch 1/15\n",
      "31/31 [==============================] - 48s 676ms/step - loss: 0.4767\n",
      "Epoch 2/15\n",
      "31/31 [==============================] - 21s 676ms/step - loss: 0.3268\n",
      "Epoch 3/15\n",
      "31/31 [==============================] - 22s 684ms/step - loss: 0.2748\n",
      "Epoch 4/15\n",
      "31/31 [==============================] - 21s 675ms/step - loss: 0.2502\n",
      "Epoch 5/15\n",
      "31/31 [==============================] - 21s 677ms/step - loss: 0.2384\n",
      "Epoch 6/15\n",
      "31/31 [==============================] - 21s 677ms/step - loss: 0.2265\n",
      "Epoch 7/15\n",
      "31/31 [==============================] - 21s 676ms/step - loss: 0.2302\n",
      "Epoch 8/15\n",
      "31/31 [==============================] - 21s 677ms/step - loss: 0.2191\n",
      "Epoch 9/15\n",
      "31/31 [==============================] - 21s 676ms/step - loss: 0.1954\n",
      "Epoch 10/15\n",
      "31/31 [==============================] - 21s 676ms/step - loss: 0.1744\n",
      "Epoch 11/15\n",
      "31/31 [==============================] - 21s 677ms/step - loss: 0.1689\n",
      "Epoch 12/15\n",
      "31/31 [==============================] - 21s 680ms/step - loss: 0.1419\n",
      "Epoch 13/15\n",
      "31/31 [==============================] - 22s 683ms/step - loss: 0.1632\n",
      "Epoch 14/15\n",
      "31/31 [==============================] - 21s 679ms/step - loss: 0.1456\n",
      "Epoch 15/15\n",
      "31/31 [==============================] - 21s 676ms/step - loss: 0.1483\n"
     ]
    },
    {
     "name": "stderr",
     "output_type": "stream",
     "text": [
      " Fold 4 F1: 0.6303384724437355:  80%|████████  | 4/5 [25:12<06:28, 388.21s/it]"
     ]
    },
    {
     "name": "stdout",
     "output_type": "stream",
     "text": [
      "WARNING:tensorflow:`input_shape` is undefined or non-square, or `rows` is not in [96, 128, 160, 192, 224]. Weights for input shape (224, 224) will be loaded as the default.\n",
      "Epoch 1/15\n",
      "32/32 [==============================] - 49s 682ms/step - loss: 0.6121\n",
      "Epoch 2/15\n",
      "32/32 [==============================] - 22s 684ms/step - loss: 0.4501\n",
      "Epoch 3/15\n",
      "32/32 [==============================] - 22s 683ms/step - loss: 0.3726\n",
      "Epoch 4/15\n",
      "32/32 [==============================] - 22s 682ms/step - loss: 0.2924\n",
      "Epoch 5/15\n",
      "32/32 [==============================] - 22s 683ms/step - loss: 0.2923\n",
      "Epoch 6/15\n",
      "32/32 [==============================] - 22s 683ms/step - loss: 0.3286\n",
      "Epoch 7/15\n",
      "32/32 [==============================] - 22s 683ms/step - loss: 0.2853\n",
      "Epoch 8/15\n",
      "32/32 [==============================] - 22s 683ms/step - loss: 0.2290\n",
      "Epoch 9/15\n",
      "32/32 [==============================] - 23s 696ms/step - loss: 0.2120\n",
      "Epoch 10/15\n",
      "32/32 [==============================] - 22s 686ms/step - loss: 0.2184\n",
      "Epoch 11/15\n",
      "32/32 [==============================] - 23s 692ms/step - loss: 0.2164\n",
      "Epoch 12/15\n",
      "32/32 [==============================] - 23s 703ms/step - loss: 0.2178\n",
      "Epoch 13/15\n",
      "32/32 [==============================] - 22s 688ms/step - loss: 0.1807\n",
      "Epoch 14/15\n",
      "32/32 [==============================] - 22s 685ms/step - loss: 0.1670\n",
      "Epoch 15/15\n",
      "32/32 [==============================] - 22s 683ms/step - loss: 0.2167\n"
     ]
    },
    {
     "name": "stderr",
     "output_type": "stream",
     "text": [
      " Fold 5 F1: 0.4649278475692336: 100%|██████████| 5/5 [31:46<00:00, 381.38s/it]"
     ]
    },
    {
     "name": "stdout",
     "output_type": "stream",
     "text": [
      "Performance model:\n",
      " accuracy: 0.712 +- 0.151 \n",
      "\n",
      " balanced_accuracy: 0.744 +- 0.107 \n",
      "\n",
      " f1: 0.716 +- 0.154 \n",
      "\n",
      " recall: 0.712 +- 0.151 \n",
      "\n",
      " precision: 0.811 +- 0.086 \n",
      "\n",
      "WARNING:tensorflow:`input_shape` is undefined or non-square, or `rows` is not in [96, 128, 160, 192, 224]. Weights for input shape (224, 224) will be loaded as the default.\n"
     ]
    },
    {
     "name": "stderr",
     "output_type": "stream",
     "text": [
      "\n"
     ]
    },
    {
     "name": "stdout",
     "output_type": "stream",
     "text": [
      "Starting stratified group 5-fold for physical fatigue\n"
     ]
    },
    {
     "name": "stderr",
     "output_type": "stream",
     "text": [
      "  0%|          | 0/5 [00:00<?, ?it/s]"
     ]
    },
    {
     "name": "stdout",
     "output_type": "stream",
     "text": [
      "WARNING:tensorflow:`input_shape` is undefined or non-square, or `rows` is not in [96, 128, 160, 192, 224]. Weights for input shape (224, 224) will be loaded as the default.\n",
      "Epoch 1/25\n",
      "16/16 [==============================] - 40s 697ms/step - loss: 0.7735\n",
      "Epoch 2/25\n",
      "16/16 [==============================] - 12s 703ms/step - loss: 0.5825\n",
      "Epoch 3/25\n",
      "16/16 [==============================] - 12s 698ms/step - loss: 0.4200\n",
      "Epoch 4/25\n",
      "16/16 [==============================] - 12s 711ms/step - loss: 0.3915\n",
      "Epoch 5/25\n",
      "16/16 [==============================] - 11s 689ms/step - loss: 0.4390\n",
      "Epoch 6/25\n",
      "16/16 [==============================] - 11s 690ms/step - loss: 0.4226\n",
      "Epoch 7/25\n",
      "16/16 [==============================] - 11s 691ms/step - loss: 0.3754\n",
      "Epoch 8/25\n",
      "16/16 [==============================] - 11s 689ms/step - loss: 0.3398\n",
      "Epoch 9/25\n",
      "16/16 [==============================] - 11s 690ms/step - loss: 0.3139\n",
      "Epoch 10/25\n",
      "16/16 [==============================] - 11s 689ms/step - loss: 0.3065\n",
      "Epoch 11/25\n",
      "16/16 [==============================] - 11s 687ms/step - loss: 0.3505\n",
      "Epoch 12/25\n",
      "16/16 [==============================] - 11s 687ms/step - loss: 0.3534\n",
      "Epoch 13/25\n",
      "16/16 [==============================] - 12s 698ms/step - loss: 0.2541\n",
      "Epoch 14/25\n",
      "16/16 [==============================] - 12s 702ms/step - loss: 0.2457\n",
      "Epoch 15/25\n",
      "16/16 [==============================] - 11s 689ms/step - loss: 0.2384\n",
      "Epoch 16/25\n",
      "16/16 [==============================] - 12s 701ms/step - loss: 0.2415\n",
      "Epoch 17/25\n",
      "16/16 [==============================] - 12s 707ms/step - loss: 0.2102\n",
      "Epoch 18/25\n",
      "16/16 [==============================] - 12s 701ms/step - loss: 0.2028\n",
      "Epoch 19/25\n",
      "16/16 [==============================] - 11s 691ms/step - loss: 0.2277\n",
      "Epoch 20/25\n",
      "16/16 [==============================] - 11s 692ms/step - loss: 0.3220\n",
      "Epoch 21/25\n",
      "16/16 [==============================] - 11s 688ms/step - loss: 0.3473\n",
      "Epoch 22/25\n",
      "16/16 [==============================] - 11s 688ms/step - loss: 0.3435\n",
      "Epoch 23/25\n",
      "16/16 [==============================] - 11s 689ms/step - loss: 0.2250\n",
      "Epoch 24/25\n",
      "16/16 [==============================] - 11s 689ms/step - loss: 0.1827\n",
      "Epoch 25/25\n",
      "16/16 [==============================] - 11s 690ms/step - loss: 0.1629\n"
     ]
    },
    {
     "name": "stderr",
     "output_type": "stream",
     "text": [
      " Fold 1 F1: 0.803274864250474:  20%|██        | 1/5 [06:24<25:39, 384.88s/it]"
     ]
    },
    {
     "name": "stdout",
     "output_type": "stream",
     "text": [
      "WARNING:tensorflow:`input_shape` is undefined or non-square, or `rows` is not in [96, 128, 160, 192, 224]. Weights for input shape (224, 224) will be loaded as the default.\n",
      "Epoch 1/25\n",
      "37/37 [==============================] - 51s 681ms/step - loss: 0.4756\n",
      "Epoch 2/25\n",
      "37/37 [==============================] - 26s 684ms/step - loss: 0.3498\n",
      "Epoch 3/25\n",
      "37/37 [==============================] - 26s 685ms/step - loss: 0.4274\n",
      "Epoch 4/25\n",
      "37/37 [==============================] - 26s 686ms/step - loss: 0.3226\n",
      "Epoch 5/25\n",
      "37/37 [==============================] - 26s 684ms/step - loss: 0.2641\n",
      "Epoch 6/25\n",
      "37/37 [==============================] - 26s 685ms/step - loss: 0.2375\n",
      "Epoch 7/25\n",
      "37/37 [==============================] - 26s 683ms/step - loss: 0.2598\n",
      "Epoch 8/25\n",
      "37/37 [==============================] - 26s 684ms/step - loss: 0.2295\n",
      "Epoch 9/25\n",
      "37/37 [==============================] - 26s 684ms/step - loss: 0.2230\n",
      "Epoch 10/25\n",
      "37/37 [==============================] - 26s 685ms/step - loss: 0.2869\n",
      "Epoch 11/25\n",
      "37/37 [==============================] - 26s 685ms/step - loss: 0.2491\n",
      "Epoch 12/25\n",
      "37/37 [==============================] - 26s 685ms/step - loss: 0.1878\n",
      "Epoch 13/25\n",
      "37/37 [==============================] - 26s 685ms/step - loss: 0.1847\n",
      "Epoch 14/25\n",
      "37/37 [==============================] - 26s 684ms/step - loss: 0.2126\n",
      "Epoch 15/25\n",
      "37/37 [==============================] - 26s 685ms/step - loss: 0.1705\n",
      "Epoch 16/25\n",
      "37/37 [==============================] - 26s 685ms/step - loss: 0.1515\n",
      "Epoch 17/25\n",
      "37/37 [==============================] - 26s 683ms/step - loss: 0.1487\n",
      "Epoch 18/25\n",
      "37/37 [==============================] - 26s 683ms/step - loss: 0.1380\n",
      "Epoch 19/25\n",
      "37/37 [==============================] - 26s 683ms/step - loss: 0.1414\n",
      "Epoch 20/25\n",
      "37/37 [==============================] - 26s 681ms/step - loss: 0.1299\n",
      "Epoch 21/25\n",
      "37/37 [==============================] - 26s 685ms/step - loss: 0.1632\n",
      "Epoch 22/25\n",
      "37/37 [==============================] - 26s 684ms/step - loss: 0.1452\n",
      "Epoch 23/25\n",
      "37/37 [==============================] - 26s 684ms/step - loss: 0.1302\n",
      "Epoch 24/25\n",
      "37/37 [==============================] - 26s 684ms/step - loss: 0.1186\n",
      "Epoch 25/25\n",
      "37/37 [==============================] - 26s 687ms/step - loss: 0.1192\n"
     ]
    },
    {
     "name": "stderr",
     "output_type": "stream",
     "text": [
      " Fold 2 F1: 0.9090909090909091:  40%|████      | 2/5 [17:51<28:07, 562.66s/it]"
     ]
    },
    {
     "name": "stdout",
     "output_type": "stream",
     "text": [
      "WARNING:tensorflow:`input_shape` is undefined or non-square, or `rows` is not in [96, 128, 160, 192, 224]. Weights for input shape (224, 224) will be loaded as the default.\n",
      "Epoch 1/25\n",
      "35/35 [==============================] - 46s 632ms/step - loss: 0.4195\n",
      "Epoch 2/25\n",
      "35/35 [==============================] - 23s 632ms/step - loss: 0.3663\n",
      "Epoch 3/25\n",
      "35/35 [==============================] - 22s 631ms/step - loss: 0.3944\n",
      "Epoch 4/25\n",
      "35/35 [==============================] - 23s 633ms/step - loss: 0.2878\n",
      "Epoch 5/25\n",
      "35/35 [==============================] - 22s 632ms/step - loss: 0.2685\n",
      "Epoch 6/25\n",
      "35/35 [==============================] - 23s 633ms/step - loss: 0.2627\n",
      "Epoch 7/25\n",
      "35/35 [==============================] - 22s 632ms/step - loss: 0.2254\n",
      "Epoch 8/25\n",
      "35/35 [==============================] - 22s 632ms/step - loss: 0.2142\n",
      "Epoch 9/25\n",
      "35/35 [==============================] - 22s 631ms/step - loss: 0.2089\n",
      "Epoch 10/25\n",
      "35/35 [==============================] - 23s 633ms/step - loss: 0.1980\n",
      "Epoch 11/25\n",
      "35/35 [==============================] - 23s 632ms/step - loss: 0.1859\n",
      "Epoch 12/25\n",
      "35/35 [==============================] - 24s 690ms/step - loss: 0.1936\n",
      "Epoch 13/25\n",
      "35/35 [==============================] - 24s 684ms/step - loss: 0.2260\n",
      "Epoch 14/25\n",
      "35/35 [==============================] - 25s 694ms/step - loss: 0.1762\n",
      "Epoch 15/25\n",
      "35/35 [==============================] - 25s 691ms/step - loss: 0.1825\n",
      "Epoch 16/25\n",
      "35/35 [==============================] - 24s 681ms/step - loss: 0.1594\n",
      "Epoch 17/25\n",
      "35/35 [==============================] - 24s 682ms/step - loss: 0.1419\n",
      "Epoch 18/25\n",
      "35/35 [==============================] - 24s 681ms/step - loss: 0.1507\n",
      "Epoch 19/25\n",
      "35/35 [==============================] - 24s 681ms/step - loss: 0.1367\n",
      "Epoch 20/25\n",
      "35/35 [==============================] - 24s 681ms/step - loss: 0.1265\n",
      "Epoch 21/25\n",
      "35/35 [==============================] - 24s 682ms/step - loss: 0.1586\n",
      "Epoch 22/25\n",
      "35/35 [==============================] - 24s 683ms/step - loss: 0.1569\n",
      "Epoch 23/25\n",
      "35/35 [==============================] - 24s 681ms/step - loss: 0.1124\n",
      "Epoch 24/25\n",
      "35/35 [==============================] - 24s 682ms/step - loss: 0.1106\n",
      "Epoch 25/25\n",
      "35/35 [==============================] - 24s 682ms/step - loss: 0.1122\n"
     ]
    },
    {
     "name": "stderr",
     "output_type": "stream",
     "text": [
      " Fold 3 F1: 0.9064625850340136:  60%|██████    | 3/5 [28:28<19:52, 596.39s/it]"
     ]
    },
    {
     "name": "stdout",
     "output_type": "stream",
     "text": [
      "WARNING:tensorflow:`input_shape` is undefined or non-square, or `rows` is not in [96, 128, 160, 192, 224]. Weights for input shape (224, 224) will be loaded as the default.\n",
      "Epoch 1/25\n",
      "31/31 [==============================] - 51s 685ms/step - loss: 0.5099\n",
      "Epoch 2/25\n",
      "31/31 [==============================] - 22s 694ms/step - loss: 0.3309\n",
      "Epoch 3/25\n",
      "31/31 [==============================] - 22s 683ms/step - loss: 0.2986\n",
      "Epoch 4/25\n",
      "31/31 [==============================] - 21s 681ms/step - loss: 0.3031\n",
      "Epoch 5/25\n",
      "31/31 [==============================] - 21s 680ms/step - loss: 0.3170\n",
      "Epoch 6/25\n",
      "31/31 [==============================] - 21s 678ms/step - loss: 0.2193\n",
      "Epoch 7/25\n",
      "31/31 [==============================] - 21s 680ms/step - loss: 0.2044\n",
      "Epoch 8/25\n",
      "31/31 [==============================] - 21s 679ms/step - loss: 0.2087\n",
      "Epoch 9/25\n",
      "31/31 [==============================] - 21s 679ms/step - loss: 0.1868\n",
      "Epoch 10/25\n",
      "31/31 [==============================] - 21s 679ms/step - loss: 0.2526\n",
      "Epoch 11/25\n",
      "31/31 [==============================] - 21s 679ms/step - loss: 0.2063\n",
      "Epoch 12/25\n",
      "31/31 [==============================] - 21s 678ms/step - loss: 0.1938\n",
      "Epoch 13/25\n",
      "31/31 [==============================] - 22s 680ms/step - loss: 0.2096\n",
      "Epoch 14/25\n",
      "31/31 [==============================] - 21s 679ms/step - loss: 0.3128\n",
      "Epoch 15/25\n",
      "31/31 [==============================] - 21s 679ms/step - loss: 0.1927\n",
      "Epoch 16/25\n",
      "31/31 [==============================] - 21s 680ms/step - loss: 0.1405\n",
      "Epoch 17/25\n",
      "31/31 [==============================] - 21s 680ms/step - loss: 0.1304\n",
      "Epoch 18/25\n",
      "31/31 [==============================] - 21s 679ms/step - loss: 0.1246\n",
      "Epoch 19/25\n",
      "31/31 [==============================] - 21s 680ms/step - loss: 0.1394\n",
      "Epoch 20/25\n",
      "31/31 [==============================] - 22s 680ms/step - loss: 0.1269\n",
      "Epoch 21/25\n",
      "31/31 [==============================] - 21s 679ms/step - loss: 0.1108\n",
      "Epoch 22/25\n",
      "31/31 [==============================] - 21s 680ms/step - loss: 0.1059\n",
      "Epoch 23/25\n",
      "31/31 [==============================] - 22s 681ms/step - loss: 0.1145\n",
      "Epoch 24/25\n",
      "31/31 [==============================] - 21s 679ms/step - loss: 0.1093\n",
      "Epoch 25/25\n",
      "31/31 [==============================] - 21s 679ms/step - loss: 0.0943\n"
     ]
    },
    {
     "name": "stderr",
     "output_type": "stream",
     "text": [
      " Fold 4 F1: 0.7270017993702204:  80%|████████  | 4/5 [38:27<09:57, 597.53s/it]"
     ]
    },
    {
     "name": "stdout",
     "output_type": "stream",
     "text": [
      "WARNING:tensorflow:`input_shape` is undefined or non-square, or `rows` is not in [96, 128, 160, 192, 224]. Weights for input shape (224, 224) will be loaded as the default.\n",
      "Epoch 1/25\n",
      "32/32 [==============================] - 48s 686ms/step - loss: 0.5054\n",
      "Epoch 2/25\n",
      "32/32 [==============================] - 22s 686ms/step - loss: 0.3719\n",
      "Epoch 3/25\n",
      "32/32 [==============================] - 22s 685ms/step - loss: 0.3052\n",
      "Epoch 4/25\n",
      "32/32 [==============================] - 22s 687ms/step - loss: 0.3055\n",
      "Epoch 5/25\n",
      "32/32 [==============================] - 22s 686ms/step - loss: 0.2895\n",
      "Epoch 6/25\n",
      "32/32 [==============================] - 22s 686ms/step - loss: 0.2693\n",
      "Epoch 7/25\n",
      "32/32 [==============================] - 22s 687ms/step - loss: 0.2425\n",
      "Epoch 8/25\n",
      "32/32 [==============================] - 21s 634ms/step - loss: 0.2382\n",
      "Epoch 9/25\n",
      "32/32 [==============================] - 21s 634ms/step - loss: 0.2165\n",
      "Epoch 10/25\n",
      "32/32 [==============================] - 21s 635ms/step - loss: 0.2060\n",
      "Epoch 11/25\n",
      "32/32 [==============================] - 21s 634ms/step - loss: 0.1877\n",
      "Epoch 12/25\n",
      "32/32 [==============================] - 21s 636ms/step - loss: 0.1782\n",
      "Epoch 13/25\n",
      "32/32 [==============================] - 21s 635ms/step - loss: 0.1849\n",
      "Epoch 14/25\n",
      "32/32 [==============================] - 21s 634ms/step - loss: 0.1881\n",
      "Epoch 15/25\n",
      "32/32 [==============================] - 21s 635ms/step - loss: 0.1920\n",
      "Epoch 16/25\n",
      "32/32 [==============================] - 21s 636ms/step - loss: 0.1634\n",
      "Epoch 17/25\n",
      "32/32 [==============================] - 21s 638ms/step - loss: 0.1472\n",
      "Epoch 18/25\n",
      "32/32 [==============================] - 24s 726ms/step - loss: 0.1465\n",
      "Epoch 19/25\n",
      "32/32 [==============================] - 24s 725ms/step - loss: 0.1397\n",
      "Epoch 20/25\n",
      "32/32 [==============================] - 23s 721ms/step - loss: 0.1403\n",
      "Epoch 21/25\n",
      "32/32 [==============================] - 23s 720ms/step - loss: 0.1334\n",
      "Epoch 22/25\n",
      "32/32 [==============================] - 23s 720ms/step - loss: 0.1259\n",
      "Epoch 23/25\n",
      "32/32 [==============================] - 23s 720ms/step - loss: 0.1122\n",
      "Epoch 24/25\n",
      "32/32 [==============================] - 23s 719ms/step - loss: 0.1249\n",
      "Epoch 25/25\n",
      "32/32 [==============================] - 23s 720ms/step - loss: 0.1349\n"
     ]
    },
    {
     "name": "stderr",
     "output_type": "stream",
     "text": [
      " Fold 5 F1: 0.7712442396313365: 100%|██████████| 5/5 [48:33<00:00, 582.67s/it]"
     ]
    },
    {
     "name": "stdout",
     "output_type": "stream",
     "text": [
      "Performance model:\n",
      " accuracy: 0.834 +- 0.066 \n",
      "\n",
      " balanced_accuracy: 0.767 +- 0.121 \n",
      "\n",
      " f1: 0.823 +- 0.073 \n",
      "\n",
      " recall: 0.834 +- 0.066 \n",
      "\n",
      " precision: 0.831 +- 0.075 \n",
      "\n"
     ]
    },
    {
     "name": "stderr",
     "output_type": "stream",
     "text": [
      "\n"
     ]
    }
   ],
   "source": [
    "with warnings.catch_warnings():\n",
    "    warnings.filterwarnings('ignore')\n",
    "\n",
    "    for epochs in (15, 25):\n",
    "        model = CNN(path, variable=0, epochs=epochs, learning_rate=1e-3, batch_size=16)\n",
    "\n",
    "        scores_epochs[epochs] = stratified_group_k_fold(path=path,\n",
    "                                                        groups=subjects,\n",
    "                                                        model=model,\n",
    "                                                        folds=5,\n",
    "                                                        images=True,\n",
    "                                                        verbose=True,\n",
    "                                                        variable=0)"
   ],
   "metadata": {
    "collapsed": false,
    "pycharm": {
     "name": "#%%\n"
    }
   }
  },
  {
   "cell_type": "code",
   "execution_count": 29,
   "outputs": [
    {
     "name": "stdout",
     "output_type": "stream",
     "text": [
      "WARNING:tensorflow:`input_shape` is undefined or non-square, or `rows` is not in [96, 128, 160, 192, 224]. Weights for input shape (224, 224) will be loaded as the default.\n",
      "Starting stratified group 5-fold for physical fatigue\n"
     ]
    },
    {
     "name": "stderr",
     "output_type": "stream",
     "text": [
      "  0%|          | 0/5 [00:00<?, ?it/s]"
     ]
    },
    {
     "name": "stdout",
     "output_type": "stream",
     "text": [
      "WARNING:tensorflow:`input_shape` is undefined or non-square, or `rows` is not in [96, 128, 160, 192, 224]. Weights for input shape (224, 224) will be loaded as the default.\n",
      "Epoch 1/30\n",
      "16/16 [==============================] - 38s 737ms/step - loss: 0.5396\n",
      "Epoch 2/30\n",
      "16/16 [==============================] - 12s 733ms/step - loss: 0.4179\n",
      "Epoch 3/30\n",
      "16/16 [==============================] - 12s 740ms/step - loss: 0.3861\n",
      "Epoch 4/30\n",
      "16/16 [==============================] - 12s 736ms/step - loss: 0.3834\n",
      "Epoch 5/30\n",
      "16/16 [==============================] - 12s 733ms/step - loss: 0.3781\n",
      "Epoch 6/30\n",
      "16/16 [==============================] - 12s 735ms/step - loss: 0.3352\n",
      "Epoch 7/30\n",
      "16/16 [==============================] - 12s 735ms/step - loss: 0.3312\n",
      "Epoch 8/30\n",
      "16/16 [==============================] - 12s 735ms/step - loss: 0.3269\n",
      "Epoch 9/30\n",
      "16/16 [==============================] - 12s 734ms/step - loss: 0.3170\n",
      "Epoch 10/30\n",
      "16/16 [==============================] - 12s 734ms/step - loss: 0.2931\n",
      "Epoch 11/30\n",
      "16/16 [==============================] - 12s 735ms/step - loss: 0.2723\n",
      "Epoch 12/30\n",
      "16/16 [==============================] - 12s 733ms/step - loss: 0.2360\n",
      "Epoch 13/30\n",
      "16/16 [==============================] - 12s 735ms/step - loss: 0.2524\n",
      "Epoch 14/30\n",
      "16/16 [==============================] - 12s 735ms/step - loss: 0.3068\n",
      "Epoch 15/30\n",
      "16/16 [==============================] - 12s 733ms/step - loss: 0.2171\n",
      "Epoch 16/30\n",
      "16/16 [==============================] - 12s 734ms/step - loss: 0.1929\n",
      "Epoch 17/30\n",
      "16/16 [==============================] - 12s 737ms/step - loss: 0.1962\n",
      "Epoch 18/30\n",
      "16/16 [==============================] - 12s 733ms/step - loss: 0.2261\n",
      "Epoch 19/30\n",
      "16/16 [==============================] - 12s 733ms/step - loss: 0.2424\n",
      "Epoch 20/30\n",
      "16/16 [==============================] - 12s 733ms/step - loss: 0.1825\n",
      "Epoch 21/30\n",
      "16/16 [==============================] - 12s 736ms/step - loss: 0.1683\n",
      "Epoch 22/30\n",
      "16/16 [==============================] - 12s 734ms/step - loss: 0.1612\n",
      "Epoch 23/30\n",
      "16/16 [==============================] - 12s 732ms/step - loss: 0.1820\n",
      "Epoch 24/30\n",
      "16/16 [==============================] - 12s 740ms/step - loss: 0.1502\n",
      "Epoch 25/30\n",
      "16/16 [==============================] - 12s 736ms/step - loss: 0.1479\n",
      "Epoch 26/30\n",
      "16/16 [==============================] - 12s 735ms/step - loss: 0.1504\n",
      "Epoch 27/30\n",
      "16/16 [==============================] - 12s 733ms/step - loss: 0.1753\n",
      "Epoch 28/30\n",
      "16/16 [==============================] - 12s 735ms/step - loss: 0.1371\n",
      "Epoch 29/30\n",
      "16/16 [==============================] - 12s 734ms/step - loss: 0.1348\n",
      "Epoch 30/30\n",
      "16/16 [==============================] - 12s 733ms/step - loss: 0.1428\n"
     ]
    },
    {
     "name": "stderr",
     "output_type": "stream",
     "text": [
      " Fold 1 F1: 0.816074416027668:  20%|██        | 1/5 [07:42<30:48, 462.16s/it]"
     ]
    },
    {
     "name": "stdout",
     "output_type": "stream",
     "text": [
      "WARNING:tensorflow:`input_shape` is undefined or non-square, or `rows` is not in [96, 128, 160, 192, 224]. Weights for input shape (224, 224) will be loaded as the default.\n",
      "Epoch 1/30\n",
      "37/37 [==============================] - 53s 724ms/step - loss: 0.4207\n",
      "Epoch 2/30\n",
      "37/37 [==============================] - 27s 725ms/step - loss: 0.3378\n",
      "Epoch 3/30\n",
      "37/37 [==============================] - 27s 725ms/step - loss: 0.3773\n",
      "Epoch 4/30\n",
      "37/37 [==============================] - 27s 722ms/step - loss: 0.3623\n",
      "Epoch 5/30\n",
      "37/37 [==============================] - 24s 633ms/step - loss: 0.2934\n",
      "Epoch 6/30\n",
      "37/37 [==============================] - 24s 633ms/step - loss: 0.2297\n",
      "Epoch 7/30\n",
      "37/37 [==============================] - 24s 633ms/step - loss: 0.2270\n",
      "Epoch 8/30\n",
      "37/37 [==============================] - 24s 634ms/step - loss: 0.2160\n",
      "Epoch 9/30\n",
      "37/37 [==============================] - 24s 633ms/step - loss: 0.2131\n",
      "Epoch 10/30\n",
      "37/37 [==============================] - 24s 632ms/step - loss: 0.2031\n",
      "Epoch 11/30\n",
      "37/37 [==============================] - 24s 632ms/step - loss: 0.1731\n",
      "Epoch 12/30\n",
      "37/37 [==============================] - 24s 633ms/step - loss: 0.1895\n",
      "Epoch 13/30\n",
      "37/37 [==============================] - 24s 632ms/step - loss: 0.1694\n",
      "Epoch 14/30\n",
      "37/37 [==============================] - 24s 634ms/step - loss: 0.1769\n",
      "Epoch 15/30\n",
      "37/37 [==============================] - 24s 632ms/step - loss: 0.1754\n",
      "Epoch 16/30\n",
      "37/37 [==============================] - 24s 633ms/step - loss: 0.1573\n",
      "Epoch 17/30\n",
      "37/37 [==============================] - 24s 633ms/step - loss: 0.1567\n",
      "Epoch 18/30\n",
      "37/37 [==============================] - 24s 634ms/step - loss: 0.1334\n",
      "Epoch 19/30\n",
      "37/37 [==============================] - 24s 635ms/step - loss: 0.1975\n",
      "Epoch 20/30\n",
      "37/37 [==============================] - 24s 633ms/step - loss: 0.1707\n",
      "Epoch 21/30\n",
      "37/37 [==============================] - 24s 634ms/step - loss: 0.1201\n",
      "Epoch 22/30\n",
      "37/37 [==============================] - 24s 633ms/step - loss: 0.1174\n",
      "Epoch 23/30\n",
      "37/37 [==============================] - 24s 633ms/step - loss: 0.1189\n",
      "Epoch 24/30\n",
      "37/37 [==============================] - 24s 634ms/step - loss: 0.1326\n",
      "Epoch 25/30\n",
      "37/37 [==============================] - 24s 633ms/step - loss: 0.1040\n",
      "Epoch 26/30\n",
      "37/37 [==============================] - 24s 634ms/step - loss: 0.1085\n",
      "Epoch 27/30\n",
      "37/37 [==============================] - 24s 634ms/step - loss: 0.0965\n",
      "Epoch 28/30\n",
      "37/37 [==============================] - 24s 632ms/step - loss: 0.0893\n",
      "Epoch 29/30\n",
      "37/37 [==============================] - 24s 634ms/step - loss: 0.0933\n",
      "Epoch 30/30\n",
      "37/37 [==============================] - 24s 634ms/step - loss: 0.0937\n"
     ]
    },
    {
     "name": "stderr",
     "output_type": "stream",
     "text": [
      " Fold 2 F1: 0.8084415584415584:  40%|████      | 2/5 [20:33<32:11, 643.86s/it]"
     ]
    },
    {
     "name": "stdout",
     "output_type": "stream",
     "text": [
      "WARNING:tensorflow:`input_shape` is undefined or non-square, or `rows` is not in [96, 128, 160, 192, 224]. Weights for input shape (224, 224) will be loaded as the default.\n",
      "Epoch 1/30\n",
      "35/35 [==============================] - 45s 634ms/step - loss: 0.4480\n",
      "Epoch 2/30\n",
      "35/35 [==============================] - 23s 634ms/step - loss: 0.3391\n",
      "Epoch 3/30\n",
      "35/35 [==============================] - 23s 634ms/step - loss: 0.3147\n",
      "Epoch 4/30\n",
      "35/35 [==============================] - 23s 635ms/step - loss: 0.2947\n",
      "Epoch 5/30\n",
      "35/35 [==============================] - 23s 636ms/step - loss: 0.2848\n",
      "Epoch 6/30\n",
      "35/35 [==============================] - 23s 635ms/step - loss: 0.2512\n",
      "Epoch 7/30\n",
      "35/35 [==============================] - 23s 634ms/step - loss: 0.2723\n",
      "Epoch 8/30\n",
      "35/35 [==============================] - 23s 634ms/step - loss: 0.2476\n",
      "Epoch 9/30\n",
      "35/35 [==============================] - 23s 634ms/step - loss: 0.2025\n",
      "Epoch 10/30\n",
      "35/35 [==============================] - 23s 635ms/step - loss: 0.1998\n",
      "Epoch 11/30\n",
      "35/35 [==============================] - 23s 635ms/step - loss: 0.1918\n",
      "Epoch 12/30\n",
      "35/35 [==============================] - 23s 635ms/step - loss: 0.2286\n",
      "Epoch 13/30\n",
      "35/35 [==============================] - 23s 636ms/step - loss: 0.1913\n",
      "Epoch 14/30\n",
      "35/35 [==============================] - 23s 635ms/step - loss: 0.1799\n",
      "Epoch 15/30\n",
      "35/35 [==============================] - 23s 634ms/step - loss: 0.1520\n",
      "Epoch 16/30\n",
      "35/35 [==============================] - 23s 636ms/step - loss: 0.1658\n",
      "Epoch 17/30\n",
      "35/35 [==============================] - 23s 635ms/step - loss: 0.1396\n",
      "Epoch 18/30\n",
      "35/35 [==============================] - 23s 635ms/step - loss: 0.1593\n",
      "Epoch 19/30\n",
      "35/35 [==============================] - 23s 635ms/step - loss: 0.1359\n",
      "Epoch 20/30\n",
      "35/35 [==============================] - 23s 635ms/step - loss: 0.1368\n",
      "Epoch 21/30\n",
      "35/35 [==============================] - 23s 635ms/step - loss: 0.1359\n",
      "Epoch 22/30\n",
      "35/35 [==============================] - 23s 635ms/step - loss: 0.1463\n",
      "Epoch 23/30\n",
      "35/35 [==============================] - 23s 636ms/step - loss: 0.1171\n",
      "Epoch 24/30\n",
      "35/35 [==============================] - 23s 634ms/step - loss: 0.1105\n",
      "Epoch 25/30\n",
      "35/35 [==============================] - 23s 635ms/step - loss: 0.1131\n",
      "Epoch 26/30\n",
      "35/35 [==============================] - 23s 635ms/step - loss: 0.1102\n",
      "Epoch 27/30\n",
      "35/35 [==============================] - 23s 637ms/step - loss: 0.0996\n",
      "Epoch 28/30\n",
      "35/35 [==============================] - 23s 634ms/step - loss: 0.1186\n",
      "Epoch 29/30\n",
      "35/35 [==============================] - 23s 635ms/step - loss: 0.0993\n",
      "Epoch 30/30\n",
      "35/35 [==============================] - 23s 635ms/step - loss: 0.1284\n"
     ]
    },
    {
     "name": "stderr",
     "output_type": "stream",
     "text": [
      " Fold 3 F1: 0.8795803066989507:  60%|██████    | 3/5 [32:35<22:39, 679.59s/it]"
     ]
    },
    {
     "name": "stdout",
     "output_type": "stream",
     "text": [
      "WARNING:tensorflow:`input_shape` is undefined or non-square, or `rows` is not in [96, 128, 160, 192, 224]. Weights for input shape (224, 224) will be loaded as the default.\n",
      "Epoch 1/30\n",
      "31/31 [==============================] - 43s 633ms/step - loss: 0.5261\n",
      "Epoch 2/30\n",
      "31/31 [==============================] - 20s 634ms/step - loss: 0.3506\n",
      "Epoch 3/30\n",
      "31/31 [==============================] - 20s 633ms/step - loss: 0.2969\n",
      "Epoch 4/30\n",
      "31/31 [==============================] - 20s 633ms/step - loss: 0.3353\n",
      "Epoch 5/30\n",
      "31/31 [==============================] - 20s 633ms/step - loss: 0.2515\n",
      "Epoch 6/30\n",
      "31/31 [==============================] - 20s 634ms/step - loss: 0.2315\n",
      "Epoch 7/30\n",
      "31/31 [==============================] - 20s 635ms/step - loss: 0.2285\n",
      "Epoch 8/30\n",
      "31/31 [==============================] - 20s 635ms/step - loss: 0.1984\n",
      "Epoch 9/30\n",
      "31/31 [==============================] - 20s 634ms/step - loss: 0.1878\n",
      "Epoch 10/30\n",
      "31/31 [==============================] - 20s 634ms/step - loss: 0.1756\n",
      "Epoch 11/30\n",
      "31/31 [==============================] - 20s 634ms/step - loss: 0.1639\n",
      "Epoch 12/30\n",
      "31/31 [==============================] - 20s 635ms/step - loss: 0.1644\n",
      "Epoch 13/30\n",
      "31/31 [==============================] - 20s 635ms/step - loss: 0.1569\n",
      "Epoch 14/30\n",
      "31/31 [==============================] - 20s 634ms/step - loss: 0.1826\n",
      "Epoch 15/30\n",
      "31/31 [==============================] - 20s 636ms/step - loss: 0.1454\n",
      "Epoch 16/30\n",
      "31/31 [==============================] - 20s 634ms/step - loss: 0.1360\n",
      "Epoch 17/30\n",
      "31/31 [==============================] - 20s 633ms/step - loss: 0.1275\n",
      "Epoch 18/30\n",
      "31/31 [==============================] - 20s 633ms/step - loss: 0.1599\n",
      "Epoch 19/30\n",
      "31/31 [==============================] - 20s 634ms/step - loss: 0.1368\n",
      "Epoch 20/30\n",
      "31/31 [==============================] - 20s 633ms/step - loss: 0.1260\n",
      "Epoch 21/30\n",
      "31/31 [==============================] - 20s 634ms/step - loss: 0.1099\n",
      "Epoch 22/30\n",
      "31/31 [==============================] - 20s 633ms/step - loss: 0.1146\n",
      "Epoch 23/30\n",
      "31/31 [==============================] - 20s 634ms/step - loss: 0.1052\n",
      "Epoch 24/30\n",
      "31/31 [==============================] - 20s 634ms/step - loss: 0.1061\n",
      "Epoch 25/30\n",
      "31/31 [==============================] - 20s 633ms/step - loss: 0.0970\n",
      "Epoch 26/30\n",
      "31/31 [==============================] - 20s 633ms/step - loss: 0.0847\n",
      "Epoch 27/30\n",
      "31/31 [==============================] - 20s 634ms/step - loss: 0.0822\n",
      "Epoch 28/30\n",
      "31/31 [==============================] - 20s 633ms/step - loss: 0.0790\n",
      "Epoch 29/30\n",
      "31/31 [==============================] - 20s 635ms/step - loss: 0.0781\n",
      "Epoch 30/30\n",
      "31/31 [==============================] - 20s 634ms/step - loss: 0.0783\n"
     ]
    },
    {
     "name": "stderr",
     "output_type": "stream",
     "text": [
      " Fold 4 F1: 0.7531079875161124:  80%|████████  | 4/5 [43:28<11:09, 669.35s/it]"
     ]
    },
    {
     "name": "stdout",
     "output_type": "stream",
     "text": [
      "WARNING:tensorflow:`input_shape` is undefined or non-square, or `rows` is not in [96, 128, 160, 192, 224]. Weights for input shape (224, 224) will be loaded as the default.\n",
      "Epoch 1/30\n",
      "32/32 [==============================] - 44s 641ms/step - loss: 0.4727\n",
      "Epoch 2/30\n",
      "32/32 [==============================] - 21s 640ms/step - loss: 0.3422\n",
      "Epoch 3/30\n",
      "32/32 [==============================] - 21s 639ms/step - loss: 0.3190\n",
      "Epoch 4/30\n",
      "32/32 [==============================] - 21s 641ms/step - loss: 0.2843\n",
      "Epoch 5/30\n",
      "32/32 [==============================] - 21s 641ms/step - loss: 0.2720\n",
      "Epoch 6/30\n",
      "32/32 [==============================] - 21s 640ms/step - loss: 0.2778\n",
      "Epoch 7/30\n",
      "32/32 [==============================] - 21s 640ms/step - loss: 0.2340\n",
      "Epoch 8/30\n",
      "32/32 [==============================] - 21s 641ms/step - loss: 0.2247\n",
      "Epoch 9/30\n",
      "32/32 [==============================] - 21s 640ms/step - loss: 0.2001\n",
      "Epoch 10/30\n",
      "32/32 [==============================] - 21s 639ms/step - loss: 0.1996\n",
      "Epoch 11/30\n",
      "32/32 [==============================] - 21s 640ms/step - loss: 0.1816\n",
      "Epoch 12/30\n",
      "32/32 [==============================] - 21s 640ms/step - loss: 0.1754\n",
      "Epoch 13/30\n",
      "32/32 [==============================] - 21s 640ms/step - loss: 0.2065\n",
      "Epoch 14/30\n",
      "32/32 [==============================] - 21s 640ms/step - loss: 0.1654\n",
      "Epoch 15/30\n",
      "32/32 [==============================] - 21s 640ms/step - loss: 0.1468\n",
      "Epoch 16/30\n",
      "32/32 [==============================] - 21s 640ms/step - loss: 0.1574\n",
      "Epoch 17/30\n",
      "32/32 [==============================] - 21s 641ms/step - loss: 0.1488\n",
      "Epoch 18/30\n",
      "32/32 [==============================] - 21s 641ms/step - loss: 0.1385\n",
      "Epoch 19/30\n",
      "32/32 [==============================] - 21s 641ms/step - loss: 0.1372\n",
      "Epoch 20/30\n",
      "32/32 [==============================] - 21s 641ms/step - loss: 0.1432\n",
      "Epoch 21/30\n",
      "32/32 [==============================] - 21s 640ms/step - loss: 0.1269\n",
      "Epoch 22/30\n",
      "32/32 [==============================] - 22s 685ms/step - loss: 0.1777\n",
      "Epoch 23/30\n",
      "32/32 [==============================] - 22s 673ms/step - loss: 0.1279\n",
      "Epoch 24/30\n",
      "32/32 [==============================] - 22s 665ms/step - loss: 0.1532\n",
      "Epoch 25/30\n",
      "32/32 [==============================] - 22s 675ms/step - loss: 0.1239\n",
      "Epoch 26/30\n",
      "32/32 [==============================] - 22s 672ms/step - loss: 0.1038\n",
      "Epoch 27/30\n",
      "32/32 [==============================] - 22s 668ms/step - loss: 0.1061\n",
      "Epoch 28/30\n",
      "32/32 [==============================] - 21s 651ms/step - loss: 0.1093\n",
      "Epoch 29/30\n",
      "32/32 [==============================] - 21s 651ms/step - loss: 0.1383\n",
      "Epoch 30/30\n",
      "32/32 [==============================] - 21s 653ms/step - loss: 0.0884\n"
     ]
    },
    {
     "name": "stderr",
     "output_type": "stream",
     "text": [
      " Fold 5 F1: 0.7819025891341255: 100%|██████████| 5/5 [54:54<00:00, 658.85s/it]"
     ]
    },
    {
     "name": "stdout",
     "output_type": "stream",
     "text": [
      "Performance model:\n",
      " accuracy: 0.809 +- 0.043 \n",
      "\n",
      " balanced_accuracy: 0.778 +- 0.048 \n",
      "\n",
      " f1: 0.808 +- 0.042 \n",
      "\n",
      " recall: 0.809 +- 0.043 \n",
      "\n",
      " precision: 0.83 +- 0.042 \n",
      "\n"
     ]
    },
    {
     "name": "stderr",
     "output_type": "stream",
     "text": [
      "\n"
     ]
    }
   ],
   "source": [
    "with warnings.catch_warnings():\n",
    "    warnings.filterwarnings('ignore')\n",
    "\n",
    "    for epochs in (30,):\n",
    "        model = CNN(path, variable=0, epochs=epochs, learning_rate=1e-3, batch_size=16)\n",
    "\n",
    "        scores_epochs[epochs] = stratified_group_k_fold(path=path,\n",
    "                                                        groups=subjects,\n",
    "                                                        model=model,\n",
    "                                                        folds=5,\n",
    "                                                        images=True,\n",
    "                                                        verbose=True,\n",
    "                                                        variable=0)"
   ],
   "metadata": {
    "collapsed": false,
    "pycharm": {
     "name": "#%%\n"
    }
   }
  },
  {
   "cell_type": "code",
   "execution_count": 30,
   "outputs": [],
   "source": [
    "# stratified group 5-fold\n",
    "with open('scores_epcohs.txt', 'w') as dat:\n",
    "    dat.write(str(scores_epochs))"
   ],
   "metadata": {
    "collapsed": false,
    "pycharm": {
     "name": "#%%\n"
    }
   }
  },
  {
   "cell_type": "code",
   "execution_count": 52,
   "outputs": [
    {
     "data": {
      "text/plain": "10    0.653245\n20    0.806369\n15    0.715728\n25    0.823415\n30    0.807821\ndtype: float64"
     },
     "execution_count": 52,
     "metadata": {},
     "output_type": "execute_result"
    },
    {
     "data": {
      "text/plain": "<Figure size 640x480 with 1 Axes>",
      "image/png": "[encoded data removed]"
     },
     "metadata": {},
     "output_type": "display_data"
    }
   ],
   "source": [
    "t = pd.DataFrame([{key: element['f1']} for key, value in scores_epochs.items() for element in value])\n",
    "plt.plot(t.mean())\n",
    "t.mean()"
   ],
   "metadata": {
    "collapsed": false,
    "pycharm": {
     "name": "#%%\n"
    }
   }
  },
  {
   "cell_type": "markdown",
   "source": [
    "PCA, t-SNE embeddings"
   ],
   "metadata": {
    "collapsed": false
   }
  },
  {
   "cell_type": "code",
   "execution_count": 22,
   "outputs": [],
   "source": [
    "from sklearn.decomposition import PCA\n",
    "from sklearn.manifold import TSNE"
   ],
   "metadata": {
    "collapsed": false,
    "pycharm": {
     "name": "#%%\n"
    }
   }
  },
  {
   "cell_type": "code",
   "execution_count": 42,
   "outputs": [],
   "source": [
    "# load fatigue labels\n",
    "y_true = np.empty(N, dtype=int)\n",
    "for i in range(N):\n",
    "    y_true[i] = np.load(path + f'/labels{i}.npy', allow_pickle=True)[0]"
   ],
   "metadata": {
    "collapsed": false,
    "pycharm": {
     "name": "#%%\n"
    }
   }
  },
  {
   "cell_type": "code",
   "execution_count": 67,
   "outputs": [
    {
     "name": "stdout",
     "output_type": "stream",
     "text": [
      "Physical fatigue\n",
      "WARNING:tensorflow:`input_shape` is undefined or non-square, or `rows` is not in [96, 128, 160, 192, 224]. Weights for input shape (224, 224) will be loaded as the default.\n",
      "Expained variance - 2 components - (cummulative): 0.5802491727417157\n",
      "Expained variance - 50 components - (cummulative): 0.8815208280424442\n"
     ]
    },
    {
     "name": "stderr",
     "output_type": "stream",
     "text": [
      "C:\\Users\\jjung\\anaconda3\\envs\\tf-sklearn-keras\\lib\\site-packages\\sklearn\\manifold\\_t_sne.py:800: FutureWarning: The default initialization in TSNE will change from 'random' to 'pca' in 1.2.\n",
      "  warnings.warn(\n",
      "C:\\Users\\jjung\\anaconda3\\envs\\tf-sklearn-keras\\lib\\site-packages\\sklearn\\manifold\\_t_sne.py:810: FutureWarning: The default learning rate in TSNE will change from 200.0 to 'auto' in 1.2.\n",
      "  warnings.warn(\n"
     ]
    },
    {
     "data": {
      "text/plain": "<Figure size 800x400 with 2 Axes>",
      "image/png": "[encoded data removed]"
     },
     "metadata": {},
     "output_type": "display_data"
    },
    {
     "name": "stdout",
     "output_type": "stream",
     "text": [
      "Mental fatigue\n",
      "WARNING:tensorflow:`input_shape` is undefined or non-square, or `rows` is not in [96, 128, 160, 192, 224]. Weights for input shape (224, 224) will be loaded as the default.\n",
      "Expained variance - 2 components - (cummulative): 0.5802491727417158\n",
      "Expained variance - 50 components - (cummulative): 0.8815188549290871\n"
     ]
    },
    {
     "name": "stderr",
     "output_type": "stream",
     "text": [
      "C:\\Users\\jjung\\anaconda3\\envs\\tf-sklearn-keras\\lib\\site-packages\\sklearn\\manifold\\_t_sne.py:800: FutureWarning: The default initialization in TSNE will change from 'random' to 'pca' in 1.2.\n",
      "  warnings.warn(\n",
      "C:\\Users\\jjung\\anaconda3\\envs\\tf-sklearn-keras\\lib\\site-packages\\sklearn\\manifold\\_t_sne.py:810: FutureWarning: The default learning rate in TSNE will change from 200.0 to 'auto' in 1.2.\n",
      "  warnings.warn(\n"
     ]
    },
    {
     "data": {
      "text/plain": "<Figure size 800x400 with 2 Axes>",
      "image/png": "[encoded data removed]"
     },
     "metadata": {},
     "output_type": "display_data"
    }
   ],
   "source": [
    "for variable in (0, 1):\n",
    "    print(('Physical fatigue', 'Mental fatigue')[variable])\n",
    "\n",
    "    model = CNN(path, variable=variable, epochs=1, learning_rate=1e-3, batch_size=16)\n",
    "\n",
    "    # load fatigue labels\n",
    "    y_true = np.empty(N, dtype=int)\n",
    "    for i in range(N):\n",
    "        y_true[i] = np.load(path + f'/labels{i}.npy', allow_pickle=True)[variable]\n",
    "\n",
    "    # get embeddings from CNN\n",
    "    embeddings = np.empty((N, 12800), dtype=float)\n",
    "    for i, (x,y) in enumerate(DataGenerator(path, np.arange(N), batch_size=1, variable=variable)):\n",
    "        z = [model.model.mobilenet(x[..., i:i+3], training=False) for i in range(0, CHANNELS, 3)]\n",
    "\n",
    "        # Concatenation\n",
    "        z = model.model.concat(z)\n",
    "\n",
    "        # Global pooling\n",
    "        z = model.model.pool(z)\n",
    "\n",
    "        embeddings[i, ] = z\n",
    "\n",
    "    # PCA\n",
    "    pca = PCA(n_components=2)\n",
    "    pca_embeddings = pca.fit_transform(embeddings)\n",
    "    print(f'Expained variance - 2 components - (cummulative): {np.sum(pca.explained_variance_ratio_)}')\n",
    "\n",
    "    # visualize\n",
    "    principalDf = pd.DataFrame(data=pca_embeddings, columns=['principal component 1', 'principal component 2'])\n",
    "\n",
    "    # concat labels\n",
    "    labels = pd.DataFrame(data=y_true, columns=['target'])\n",
    "    finalDf = pd.concat([principalDf, labels[['target']]], axis = 1)\n",
    "\n",
    "    # plot\n",
    "    fig = plt.figure(figsize = (8,4))\n",
    "    plt.subplots_adjust(left=0.1,\n",
    "                        bottom=0.01,\n",
    "                        right=1.2,\n",
    "                        top=1.0,\n",
    "                        wspace=0.4,\n",
    "                        hspace=0.4)\n",
    "    ax = fig.add_subplot(1,2,1)\n",
    "    ax.set_xlabel('Principal Component 1', fontsize = 15)\n",
    "    ax.set_ylabel('Principal Component 2', fontsize = 15)\n",
    "    ax.set_title('2 component PCA', fontsize = 20)\n",
    "    targets = [1, 0]\n",
    "    colors = ['r', 'g']\n",
    "    for target, color in zip(targets, colors):\n",
    "        indicesToKeep = finalDf['target'] == target\n",
    "        ax.scatter(finalDf.loc[indicesToKeep, 'principal component 1'],\n",
    "                   finalDf.loc[indicesToKeep, 'principal component 2'],\n",
    "                   c=color,\n",
    "                   s=20)\n",
    "\n",
    "    x_min, x_max = np.min(principalDf.to_numpy()[:, 0]), np.max(principalDf.to_numpy()[:, 0])\n",
    "    y_min, y_max = np.min(principalDf.to_numpy()[:, 1]), np.max(principalDf.to_numpy()[:, 1])\n",
    "    ax.set_xlim([x_min, x_max])\n",
    "    ax.set_ylim([y_min, y_max])\n",
    "    ax.legend(targets)\n",
    "    ax.grid()\n",
    "\n",
    "    # t-SNE\n",
    "    # we first reduce the dimensions of the embeddings with PCA as recommended\n",
    "    pca_50 = PCA(n_components=50, random_state=42)\n",
    "    pca_embeddings_50 = pca_50.fit_transform(embeddings)\n",
    "    print(f'Expained variance - 50 components - (cummulative): {np.sum(pca_50.explained_variance_ratio_)}')\n",
    "\n",
    "    # now we apply t-SNE\n",
    "    tsne = TSNE(n_components=2, verbose=0, perplexity=40, n_iter=300, random_state=42)\n",
    "    tsne_embeddings = tsne.fit_transform(pca_embeddings_50)\n",
    "\n",
    "    # visualize\n",
    "    tsneDf = pd.DataFrame(data=tsne_embeddings, columns=['t-SNE component 1', 't-SNE component 2'])\n",
    "\n",
    "    # concat labels\n",
    "    labels = pd.DataFrame(data=y_true, columns=['target'])\n",
    "    finalDf_tsne = pd.concat([tsneDf, labels[['target']]], axis = 1)\n",
    "\n",
    "    # plot\n",
    "    ax = fig.add_subplot(1,2,2)\n",
    "    ax.set_xlabel('t-SNE Component 1', fontsize = 15)\n",
    "    ax.set_ylabel('t-SNE Component 2', fontsize = 15)\n",
    "    ax.set_title('2 component t-SNE', fontsize = 20)\n",
    "    targets = [1, 0]\n",
    "    colors = ['r', 'g']\n",
    "    for target, color in zip(targets, colors):\n",
    "        indicesToKeep = finalDf_tsne['target'] == target\n",
    "        ax.scatter(finalDf_tsne.loc[indicesToKeep, 't-SNE component 1'],\n",
    "                   finalDf_tsne.loc[indicesToKeep, 't-SNE component 2'],\n",
    "                   c=color,\n",
    "                   s=20)\n",
    "\n",
    "    x_min, x_max = np.min(tsneDf.to_numpy()[:, 0]), np.max(tsneDf.to_numpy()[:, 0])\n",
    "    y_min, y_max = np.min(tsneDf.to_numpy()[:, 1]), np.max(tsneDf.to_numpy()[:, 1])\n",
    "    ax.set_xlim([x_min, x_max])\n",
    "    ax.set_ylim([y_min, y_max])\n",
    "    ax.legend(targets)\n",
    "    ax.grid()\n",
    "\n",
    "    plt.show()"
   ],
   "metadata": {
    "collapsed": false,
    "pycharm": {
     "name": "#%%\n"
    }
   }
  },
  {
   "cell_type": "markdown",
   "source": [
    "Daily majority vote"
   ],
   "metadata": {
    "collapsed": false
   }
  },
  {
   "cell_type": "code",
   "execution_count": null,
   "outputs": [],
   "source": [
    "model = CNN(path, variable=0, epochs=10, learning_rate=1e-3, batch_size=16)\n",
    "\n",
    "N = sum([1 for p in os.listdir(path) if (p[:14] == 'feature_vector' and p[:19] != 'feature_vector_stat')])\n",
    "\n",
    "# load labels (we need them for stratification)\n",
    "y = np.empty(N, dtype=int)\n",
    "for i in range(N):\n",
    "    y[i] = np.load(path + f'/labels{i}.npy', allow_pickle=True)[variable]  # TODO: multiclass\n",
    "\n",
    "# CV\n",
    "cv = StratifiedGroupKFold(n_splits=5, shuffle=True, random_state=SEED)\n",
    "scores_cv = []\n",
    "data_indices = np.arange(N)\n",
    "\n",
    "print(f'Starting stratified group {5}-fold for {[\"physical fatigue\", \"mental fatigue\"][variable]}')\n",
    "with tqdm(total=5) as pbar:\n",
    "    for i, (train_indices, test_indices) in enumerate(cv.split(X=data_indices, y=y, groups=subjects)):\n",
    "        # test labels\n",
    "        y_test = y[test_indices]\n",
    "\n",
    "        # training\n",
    "        model.reset()\n",
    "        model.fit(train_indices)\n",
    "\n",
    "        # predict\n",
    "        y_pred = model.predict(test_indices)\n",
    "\n",
    "        # daily majorities\n",
    "        y_pred_daily = np.array(list(daily_majority_vote(y_pred, test_indices, metadata).values()))\n",
    "        y_true_daily = np.array(list(daily_majority_vote(y_test, test_indices, metadata).values()))\n",
    "\n",
    "        # evaluate\n",
    "        scores = evaluator(y_pred_daily, y_true_daily, verbose=False)\n",
    "        scores_cv.append(scores)\n",
    "\n",
    "        # agreements\n",
    "        print('agreements:', agreements(y_pred, model.test_indices, metadata))\n",
    "\n",
    "        # for progress bar\n",
    "        pbar.update(1)\n",
    "        pbar.set_description(f' Fold {i+1} F1: {scores[\"f1\"]}')\n",
    "\n",
    "# print (if verbose==True)\n",
    "print('Performance model:')\n",
    "metrics = scores_cv[0].keys()\n",
    "for metric in metrics:\n",
    "    mean = np.mean([scores_cv_i[metric] for scores_cv_i in scores_cv])\n",
    "    std = np.std([scores_cv_i[metric] for scores_cv_i in scores_cv])\n",
    "    print(f' {metric}: {round(mean, 3)} +- {round(std, 3)} \\n')"
   ],
   "metadata": {
    "collapsed": false,
    "pycharm": {
     "name": "#%%\n"
    }
   }
  },
  {
   "cell_type": "markdown",
   "source": [
    "# TODO: check why so few days (even fewer than statistical features)"
   ],
   "metadata": {
    "collapsed": false,
    "pycharm": {
     "name": "#%% md\n"
    }
   }
  }
 ],
 "metadata": {
  "kernelspec": {
   "display_name": "Python 3 (ipykernel)",
   "language": "python",
   "name": "python3"
  },
  "language_info": {
   "codemirror_mode": {
    "name": "ipython",
    "version": 3
   },
   "file_extension": ".py",
   "mimetype": "text/x-python",
   "name": "python",
   "nbconvert_exporter": "python",
   "pygments_lexer": "ipython3",
   "version": "3.10.6"
  }
 },
 "nbformat": 4,
 "nbformat_minor": 1
}