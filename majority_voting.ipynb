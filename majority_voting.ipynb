{
 "cells": [
  {
   "cell_type": "code",
   "execution_count": 1,
   "metadata": {
    "collapsed": true
   },
   "outputs": [],
   "source": [
    "import pandas as pd\n",
    "import numpy as np\n",
    "import json\n",
    "import warnings\n",
    "from evaluator import *"
   ]
  },
  {
   "cell_type": "markdown",
   "source": [
    "# Import data"
   ],
   "metadata": {
    "collapsed": false
   }
  },
  {
   "cell_type": "code",
   "execution_count": 2,
   "outputs": [],
   "source": [
    "# file path to data folder\n",
    "path = './Output'"
   ],
   "metadata": {
    "collapsed": false
   }
  },
  {
   "cell_type": "markdown",
   "source": [
    "Metadata (subjectID etc.)"
   ],
   "metadata": {
    "collapsed": false
   }
  },
  {
   "cell_type": "code",
   "execution_count": 3,
   "outputs": [],
   "source": [
    "with open(path + '/metadata_stat.txt') as f:\n",
    "    metadata = f.read()\n",
    "\n",
    "metadata = json.loads(metadata.replace('\\'', '\\\"').replace('False', 'false').replace('True', 'true')) # doesn't accept other chars"
   ],
   "metadata": {
    "collapsed": false
   }
  },
  {
   "cell_type": "code",
   "execution_count": 4,
   "outputs": [],
   "source": [
    "subjects = [meta['subjectID'] for meta in metadata]"
   ],
   "metadata": {
    "collapsed": false
   }
  },
  {
   "cell_type": "markdown",
   "source": [
    "# Model"
   ],
   "metadata": {
    "collapsed": false
   }
  },
  {
   "cell_type": "code",
   "execution_count": 5,
   "outputs": [],
   "source": [
    "class MajorityVoter:\n",
    "\n",
    "    def __init__(self, path, variable):\n",
    "        self.SEED = 42\n",
    "        self.path = path\n",
    "        assert variable in (0, 1)\n",
    "        self.variable = variable\n",
    "        self.majority_vote = None\n",
    "\n",
    "    def load_data(self, indices):\n",
    "        # load shape\n",
    "        N = len(indices)\n",
    "        N_FEATURES = np.load(self.path + '/feature_vector_stat0.npy').shape[0]\n",
    "\n",
    "        # init\n",
    "        X = np.empty((N, N_FEATURES))\n",
    "        y = np.empty(N)\n",
    "\n",
    "        # load individual datapoints\n",
    "        for i, index in enumerate(indices):\n",
    "            X[i, ] = np.load(path + f'/feature_vector_stat{index}.npy', allow_pickle=True)\n",
    "            y[i, ] = np.load(path + f'/labels_stat{index}.npy', allow_pickle=True)[self.variable]\n",
    "\n",
    "        return X, y\n",
    "\n",
    "    def fit(self, train_indices):\n",
    "        # load data\n",
    "        _, y_train = self.load_data(train_indices)\n",
    "\n",
    "        self.majority_vote = np.round(np.nanmean(y_train, axis=0))\n",
    "\n",
    "    def predict(self, test_indices):\n",
    "        n_predictions = len(test_indices)\n",
    "\n",
    "        # predict\n",
    "        y_pred = np.array([self.majority_vote for _ in range(n_predictions)])\n",
    "\n",
    "        return y_pred"
   ],
   "metadata": {
    "collapsed": false
   }
  },
  {
   "cell_type": "markdown",
   "source": [
    "# CV"
   ],
   "metadata": {
    "collapsed": false
   }
  },
  {
   "cell_type": "code",
   "execution_count": 6,
   "outputs": [
    {
     "name": "stdout",
     "output_type": "stream",
     "text": [
      "Starting stratified group 5-fold for physical fatigue\n"
     ]
    },
    {
     "name": "stderr",
     "output_type": "stream",
     "text": [
      " Fold 5 F1: 0.9681994966826813: 100%|██████████| 5/5 [00:01<00:00,  4.49it/s] \n"
     ]
    },
    {
     "name": "stdout",
     "output_type": "stream",
     "text": [
      "Performance model:\n",
      " accuracy: 0.713 +- 0.175 \n",
      "\n",
      " balanced_accuracy: 0.5 +- 0.0 \n",
      "\n",
      " f1: 0.605 +- 0.235 \n",
      "\n",
      " recall: 0.713 +- 0.175 \n",
      "\n",
      " precision: 0.539 +- 0.265 \n",
      "\n",
      "Starting stratified 5-fold for physical fatigue\n"
     ]
    },
    {
     "name": "stderr",
     "output_type": "stream",
     "text": [
      " Fold 5 F1: 0.6589446589446589: 100%|██████████| 5/5 [00:01<00:00,  4.97it/s]\n"
     ]
    },
    {
     "name": "stdout",
     "output_type": "stream",
     "text": [
      "Performance model:\n",
      " accuracy: 0.757 +- 0.006 \n",
      "\n",
      " balanced_accuracy: 0.5 +- 0.0 \n",
      "\n",
      " f1: 0.653 +- 0.008 \n",
      "\n",
      " recall: 0.757 +- 0.006 \n",
      "\n",
      " precision: 0.573 +- 0.009 \n",
      "\n",
      "Starting leave-one-subject-out for physical fatigue\n"
     ]
    },
    {
     "name": "stderr",
     "output_type": "stream",
     "text": [
      " Fold 21 F1: 0.4807692307692308: 100%|██████████| 21/21 [00:04<00:00,  4.25it/s] \n"
     ]
    },
    {
     "name": "stdout",
     "output_type": "stream",
     "text": [
      "Performance model:\n",
      " accuracy: 0.726 +- 0.272 \n",
      "\n",
      " balanced_accuracy: 0.667 +- 0.236 \n",
      "\n",
      " f1: 0.643 +- 0.34 \n",
      "\n",
      " recall: 0.726 +- 0.272 \n",
      "\n",
      " precision: 0.601 +- 0.366 \n",
      "\n",
      "Starting stratified group 5-fold for mental fatigue\n"
     ]
    },
    {
     "name": "stderr",
     "output_type": "stream",
     "text": [
      " Fold 5 F1: 0.1768346595932803: 100%|██████████| 5/5 [00:01<00:00,  4.78it/s] \n"
     ]
    },
    {
     "name": "stdout",
     "output_type": "stream",
     "text": [
      "Performance model:\n",
      " accuracy: 0.635 +- 0.2 \n",
      "\n",
      " balanced_accuracy: 0.5 +- 0.0 \n",
      "\n",
      " f1: 0.512 +- 0.247 \n",
      "\n",
      " recall: 0.635 +- 0.2 \n",
      "\n",
      " precision: 0.443 +- 0.257 \n",
      "\n",
      "Starting stratified 5-fold for mental fatigue\n"
     ]
    },
    {
     "name": "stderr",
     "output_type": "stream",
     "text": [
      " Fold 5 F1: 0.5743954902833408: 100%|██████████| 5/5 [00:00<00:00,  5.20it/s]\n"
     ]
    },
    {
     "name": "stdout",
     "output_type": "stream",
     "text": [
      "Performance model:\n",
      " accuracy: 0.694 +- 0.005 \n",
      "\n",
      " balanced_accuracy: 0.5 +- 0.0 \n",
      "\n",
      " f1: 0.569 +- 0.007 \n",
      "\n",
      " recall: 0.694 +- 0.005 \n",
      "\n",
      " precision: 0.482 +- 0.007 \n",
      "\n",
      "Starting leave-one-subject-out for mental fatigue\n"
     ]
    },
    {
     "name": "stderr",
     "output_type": "stream",
     "text": [
      " Fold 21 F1: 0.3333333333333333: 100%|██████████| 21/21 [00:05<00:00,  4.18it/s] "
     ]
    },
    {
     "name": "stdout",
     "output_type": "stream",
     "text": [
      "Performance model:\n",
      " accuracy: 0.573 +- 0.318 \n",
      "\n",
      " balanced_accuracy: 0.5 +- 0.267 \n",
      "\n",
      " f1: 0.48 +- 0.333 \n",
      "\n",
      " recall: 0.573 +- 0.318 \n",
      "\n",
      " precision: 0.429 +- 0.337 \n",
      "\n"
     ]
    },
    {
     "name": "stderr",
     "output_type": "stream",
     "text": [
      "\n"
     ]
    }
   ],
   "source": [
    "with warnings.catch_warnings():\n",
    "    warnings.filterwarnings('ignore')\n",
    "\n",
    "    for variable in (0, 1): # phF, MF\n",
    "        model = MajorityVoter(path, variable=0)\n",
    "\n",
    "        scores_strat_group_k_fold = stratified_group_k_fold(path=path,\n",
    "                                                            groups=subjects,\n",
    "                                                            model=model,\n",
    "                                                            folds=5,\n",
    "                                                            images=False,\n",
    "                                                            verbose=True,\n",
    "                                                            variable=variable)\n",
    "\n",
    "        scores_strat_k_fold = stratified_k_fold(path=path,\n",
    "                                                model=model,\n",
    "                                                folds=5,\n",
    "                                                images=False,\n",
    "                                                verbose=True,\n",
    "                                                variable=variable)\n",
    "\n",
    "        scores_loso = leave_one_subject_out(path=path,\n",
    "                                            groups=subjects,\n",
    "                                            model=model,\n",
    "                                            images=False,\n",
    "                                            verbose=True,\n",
    "                                            variable=variable)"
   ],
   "metadata": {
    "collapsed": false
   }
  },
  {
   "cell_type": "markdown",
   "source": [
    "# Save scores"
   ],
   "metadata": {
    "collapsed": false
   }
  },
  {
   "cell_type": "code",
   "execution_count": 7,
   "outputs": [],
   "source": [
    "path_scores = './Scores'\n",
    "model_name = 'majority_voting'"
   ],
   "metadata": {
    "collapsed": false,
    "pycharm": {
     "name": "#%%\n"
    }
   }
  },
  {
   "cell_type": "code",
   "execution_count": 8,
   "outputs": [],
   "source": [
    "# stratified 5-fold\n",
    "with open(f'{path_scores}/strat_5_fold/{model_name}.txt', 'w') as dat:\n",
    "    dat.write(str(scores_strat_group_k_fold))"
   ],
   "metadata": {
    "collapsed": false,
    "pycharm": {
     "name": "#%%\n"
    }
   }
  },
  {
   "cell_type": "code",
   "execution_count": 9,
   "outputs": [],
   "source": [
    "# stratified group 5-fold\n",
    "with open(f'{path_scores}/strat_group_5_fold/{model_name}.txt', 'w') as dat:\n",
    "    dat.write(str(scores_strat_k_fold))"
   ],
   "metadata": {
    "collapsed": false,
    "pycharm": {
     "name": "#%%\n"
    }
   }
  },
  {
   "cell_type": "code",
   "execution_count": 10,
   "outputs": [],
   "source": [
    "# LOSO\n",
    "with open(f'{path_scores}/loso/{model_name}.txt', 'w') as dat:\n",
    "    dat.write(str(scores_loso))"
   ],
   "metadata": {
    "collapsed": false,
    "pycharm": {
     "name": "#%%\n"
    }
   }
  }
 ],
 "metadata": {
  "kernelspec": {
   "display_name": "Python 3",
   "language": "python",
   "name": "python3"
  },
  "language_info": {
   "codemirror_mode": {
    "name": "ipython",
    "version": 2
   },
   "file_extension": ".py",
   "mimetype": "text/x-python",
   "name": "python",
   "nbconvert_exporter": "python",
   "pygments_lexer": "ipython2",
   "version": "2.7.6"
  }
 },
 "nbformat": 4,
 "nbformat_minor": 0
}