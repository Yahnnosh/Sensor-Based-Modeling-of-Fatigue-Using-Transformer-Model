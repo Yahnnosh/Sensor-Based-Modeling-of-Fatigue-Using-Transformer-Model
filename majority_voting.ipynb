{
 "cells": [
  {
   "cell_type": "code",
   "execution_count": 89,
   "metadata": {
    "collapsed": true
   },
   "outputs": [],
   "source": [
    "import pandas as pd\n",
    "import numpy as np\n",
    "import matplotlib.pyplot as plt\n",
    "from sklearn.base import BaseEstimator\n",
    "from sklearn.metrics import accuracy_score, balanced_accuracy_score, f1_score, precision_score, recall_score, confusion_matrix, ConfusionMatrixDisplay\n",
    "from sklearn.model_selection import StratifiedKFold, LeaveOneGroupOut\n",
    "import warnings\n",
    "from tqdm import tqdm"
   ]
  },
  {
   "cell_type": "code",
   "execution_count": 90,
   "outputs": [],
   "source": [
    "def evaluator(y_pred, y_test, verbose=False):\n",
    "    \"\"\"Returns evaluation metric scores\"\"\"\n",
    "    accuracy = accuracy_score(y_pred=y_pred, y_true=y_test)\n",
    "    balanced_accuracy = balanced_accuracy_score(y_pred=y_pred, y_true=y_test)\n",
    "    f1 = f1_score(y_pred=y_pred, y_true=y_test, average='weighted')\n",
    "    recall = recall_score(y_pred=y_pred, y_true=y_test, average='weighted')\n",
    "    precision = precision_score(y_pred=y_pred, y_true=y_test, average='weighted')\n",
    "    confusion = confusion_matrix(y_pred=y_pred, y_true=y_test)\n",
    "\n",
    "    # display scores\n",
    "    if verbose:\n",
    "        ConfusionMatrixDisplay(confusion_matrix=confusion, display_labels=[False, True]).plot(cmap=plt.cm.Blues)\n",
    "        plt.title('Physical fatigue')\n",
    "\n",
    "        print(f'accuracy: {accuracy}\\n'\n",
    "              f'balanced accuracy: {balanced_accuracy}\\n'\n",
    "              f'f1 (weighted): {f1}\\n'\n",
    "              f'recall (weighted): {recall}\\n'\n",
    "              f'precision (weighted): {precision}')\n",
    "\n",
    "    return {'accuracy': accuracy,\n",
    "            'balanced_accuracy': balanced_accuracy,\n",
    "            'f1': f1,\n",
    "            'recall': recall,\n",
    "            'precision': precision,\n",
    "            'confusion': confusion}"
   ],
   "metadata": {
    "collapsed": false,
    "pycharm": {
     "name": "#%%\n"
    }
   }
  },
  {
   "cell_type": "code",
   "execution_count": 91,
   "outputs": [],
   "source": [
    "SHUFFLE = True # whether to shuffle data before applying CV"
   ],
   "metadata": {
    "collapsed": false,
    "pycharm": {
     "name": "#%%\n"
    }
   }
  },
  {
   "cell_type": "code",
   "execution_count": 92,
   "outputs": [],
   "source": [
    "# for reproducability\n",
    "SEED = 42"
   ],
   "metadata": {
    "collapsed": false,
    "pycharm": {
     "name": "#%%\n"
    }
   }
  },
  {
   "cell_type": "markdown",
   "source": [
    "# Import data"
   ],
   "metadata": {
    "collapsed": false
   }
  },
  {
   "cell_type": "code",
   "execution_count": 93,
   "outputs": [],
   "source": [
    "# file path to data folder\n",
    "path = './Output'"
   ],
   "metadata": {
    "collapsed": false
   }
  },
  {
   "cell_type": "code",
   "execution_count": 94,
   "outputs": [],
   "source": [
    "file = path + f'/combined_data.csv'\n",
    "data = pd.read_csv(file, index_col=0).fillna(pd.NA)\n",
    "subjects = np.unique(data['subjectID'])"
   ],
   "metadata": {
    "collapsed": false
   }
  },
  {
   "cell_type": "code",
   "execution_count": 95,
   "outputs": [],
   "source": [
    "# discard non-relevant data\n",
    "N = data.shape[0]\n",
    "data = data[['subjectID', 'phF', 'MF', 'VAS']]"
   ],
   "metadata": {
    "collapsed": false
   }
  },
  {
   "cell_type": "markdown",
   "source": [
    "# Model"
   ],
   "metadata": {
    "collapsed": false
   }
  },
  {
   "cell_type": "code",
   "execution_count": 96,
   "outputs": [],
   "source": [
    "class MajorityVoter(BaseEstimator):\n",
    "\n",
    "    def __init__(self):\n",
    "        self.majority_vote = None\n",
    "\n",
    "    def fit(self, X, y):\n",
    "        self.majority_vote = np.round(np.nanmean(y, axis=0))\n",
    "\n",
    "    def predict(self, X):\n",
    "        n = len(X)\n",
    "        y_pred = np.array([self.majority_vote for _ in range(n)])\n",
    "        return y_pred"
   ],
   "metadata": {
    "collapsed": false
   }
  },
  {
   "cell_type": "markdown",
   "source": [
    "# Model evaluation"
   ],
   "metadata": {
    "collapsed": false
   }
  },
  {
   "cell_type": "markdown",
   "source": [
    "### 5-fold stratified CV"
   ],
   "metadata": {
    "collapsed": false
   }
  },
  {
   "cell_type": "code",
   "execution_count": 97,
   "outputs": [],
   "source": [
    "# dummy inputs\n",
    "X = np.empty((N, 1))"
   ],
   "metadata": {
    "collapsed": false,
    "pycharm": {
     "name": "#%%\n"
    }
   }
  },
  {
   "cell_type": "code",
   "execution_count": 98,
   "outputs": [],
   "source": [
    "# separate label prediction\n",
    "y_phf, y_mf = data['phF'], data['MF']"
   ],
   "metadata": {
    "collapsed": false,
    "pycharm": {
     "name": "#%%\n"
    }
   }
  },
  {
   "cell_type": "code",
   "execution_count": 99,
   "outputs": [
    {
     "name": "stdout",
     "output_type": "stream",
     "text": [
      "Starting cross-validation for Physical fatigue\n"
     ]
    },
    {
     "name": "stderr",
     "output_type": "stream",
     "text": [
      " Fold 5 F1: 0.6346580249019274: 100%|██████████| 5/5 [00:00<00:00, 93.46it/s]\n"
     ]
    },
    {
     "name": "stdout",
     "output_type": "stream",
     "text": [
      "Performance model:\n",
      " accuracy: 0.737 +- 0.006 \n",
      "\n",
      " balanced_accuracy: 0.5 +- 0.0 \n",
      "\n",
      " f1: 0.625 +- 0.008 \n",
      "\n",
      " recall: 0.737 +- 0.006 \n",
      "\n",
      " precision: 0.543 +- 0.009 \n",
      "\n",
      "Starting cross-validation for Mental fatigue\n"
     ]
    },
    {
     "name": "stderr",
     "output_type": "stream",
     "text": [
      " Fold 5 F1: 0.5229555236728838: 100%|██████████| 5/5 [00:00<00:00, 100.01it/s]"
     ]
    },
    {
     "name": "stdout",
     "output_type": "stream",
     "text": [
      "Performance model:\n",
      " accuracy: 0.663 +- 0.006 \n",
      "\n",
      " balanced_accuracy: 0.5 +- 0.0 \n",
      "\n",
      " f1: 0.529 +- 0.008 \n",
      "\n",
      " recall: 0.663 +- 0.006 \n",
      "\n",
      " precision: 0.44 +- 0.008 \n",
      "\n",
      "CPU times: total: 109 ms\n",
      "Wall time: 111 ms\n"
     ]
    },
    {
     "name": "stderr",
     "output_type": "stream",
     "text": [
      "\n"
     ]
    }
   ],
   "source": [
    "%%time\n",
    "# nested CV\n",
    "folds = 5\n",
    "\n",
    "with warnings.catch_warnings():\n",
    "    # ignore sklearn warning\n",
    "    warnings.filterwarnings('ignore')\n",
    "\n",
    "    for fatigue in ('Physical fatigue', 'Mental fatigue'):\n",
    "        # load labels\n",
    "        print(f'Starting cross-validation for {fatigue}')\n",
    "        y_ = {'Physical fatigue': y_phf, 'Mental fatigue': y_mf}[fatigue] # pick phF or MF\n",
    "\n",
    "        # CV: performance evaluation\n",
    "        cv = StratifiedKFold(n_splits=folds, shuffle=True, random_state=SEED) if SHUFFLE \\\n",
    "            else StratifiedKFold(n_splits=folds)\n",
    "        scores_cv = []\n",
    "        with tqdm(total=folds) as pbar:\n",
    "            for i, (train_outer_index, test_outer_index) in enumerate(cv.split(X, y_)):\n",
    "                # train/test split\n",
    "                X_train, X_test = X[train_outer_index], X[test_outer_index]\n",
    "                y_train, y_test = y_[train_outer_index], y_[test_outer_index]\n",
    "\n",
    "                # model\n",
    "                model = MajorityVoter()\n",
    "\n",
    "                # training\n",
    "                model.fit(X_train, y_train)\n",
    "\n",
    "                # evaluate\n",
    "                y_pred = model.predict(X_test)\n",
    "                scores = evaluator(y_pred, y_test, verbose=False)\n",
    "                scores_cv.append(scores)\n",
    "\n",
    "                # for progress bar\n",
    "                pbar.update(1)\n",
    "                pbar.set_description(f' Fold {i+1} F1: {scores[\"f1\"]}')\n",
    "\n",
    "        # final evaluation\n",
    "        print('Performance model:')\n",
    "        metrics = scores_cv[0].keys()\n",
    "        for metric in metrics:\n",
    "            # ignore confusion_matrix\n",
    "            if metric == 'confusion':\n",
    "                continue\n",
    "            mean = np.mean([scores_cv_i[metric] for scores_cv_i in scores_cv])\n",
    "            std = np.std([scores_cv_i[metric] for scores_cv_i in scores_cv])\n",
    "            print(f' {metric}: {round(mean, 3)} +- {round(std, 3)} \\n')"
   ],
   "metadata": {
    "collapsed": false,
    "pycharm": {
     "name": "#%%\n"
    }
   }
  },
  {
   "cell_type": "markdown",
   "source": [
    "### Leave-one-subject-out (LOSO)"
   ],
   "metadata": {
    "collapsed": false
   }
  },
  {
   "cell_type": "code",
   "execution_count": 103,
   "outputs": [
    {
     "name": "stdout",
     "output_type": "stream",
     "text": [
      "Starting cross-validation for Physical fatigue\n"
     ]
    },
    {
     "name": "stderr",
     "output_type": "stream",
     "text": [
      " Fold 27 F1: 0.3333333333333333: 100%|██████████| 27/27 [00:00<00:00, 145.95it/s] \n"
     ]
    },
    {
     "name": "stdout",
     "output_type": "stream",
     "text": [
      "Performance model:\n",
      " accuracy: 0.666 +- 0.286 \n",
      "\n",
      " balanced_accuracy: 0.556 +- 0.208 \n",
      "\n",
      " f1: 0.573 +- 0.334 \n",
      "\n",
      " recall: 0.666 +- 0.286 \n",
      "\n",
      " precision: 0.525 +- 0.348 \n",
      "\n",
      "Starting cross-validation for Mental fatigue\n"
     ]
    },
    {
     "name": "stderr",
     "output_type": "stream",
     "text": [
      " Fold 27 F1: 0.13846153846153844: 100%|██████████| 27/27 [00:00<00:00, 132.35it/s]"
     ]
    },
    {
     "name": "stdout",
     "output_type": "stream",
     "text": [
      "Performance model:\n",
      " accuracy: 0.578 +- 0.309 \n",
      "\n",
      " balanced_accuracy: 0.481 +- 0.254 \n",
      "\n",
      " f1: 0.484 +- 0.318 \n",
      "\n",
      " recall: 0.578 +- 0.309 \n",
      "\n",
      " precision: 0.43 +- 0.32 \n",
      "\n",
      "CPU times: total: 406 ms\n",
      "Wall time: 394 ms\n"
     ]
    },
    {
     "name": "stderr",
     "output_type": "stream",
     "text": [
      "\n"
     ]
    }
   ],
   "source": [
    "%%time\n",
    "# nested CV\n",
    "groups = data['subjectID']\n",
    "folds = len(np.unique(subjects))\n",
    "\n",
    "with warnings.catch_warnings():\n",
    "    # ignore sklearn warning\n",
    "    warnings.filterwarnings('ignore')\n",
    "\n",
    "    for fatigue in ('Physical fatigue', 'Mental fatigue'):\n",
    "        # load labels\n",
    "        print(f'Starting cross-validation for {fatigue}')\n",
    "        y_ = {'Physical fatigue': y_phf, 'Mental fatigue': y_mf}[fatigue] # pick phF or MF\n",
    "\n",
    "        # CV: performance evaluation\n",
    "        cv = LeaveOneGroupOut()\n",
    "        scores_cv = []\n",
    "        with tqdm(total=folds) as pbar:\n",
    "            for i, (train_outer_index, test_outer_index) in enumerate(cv.split(X, y_, groups)):\n",
    "                # train/test split\n",
    "                X_train, X_test = X[train_outer_index], X[test_outer_index]\n",
    "                y_train, y_test = y_[train_outer_index], y_[test_outer_index]\n",
    "\n",
    "                # model\n",
    "                model = MajorityVoter()\n",
    "\n",
    "                # training\n",
    "                model.fit(X_train, y_train)\n",
    "\n",
    "                # evaluate\n",
    "                y_pred = model.predict(X_test)\n",
    "                scores = evaluator(y_pred, y_test, verbose=False)\n",
    "                scores_cv.append(scores)\n",
    "\n",
    "                # for progress bar\n",
    "                pbar.update(1)\n",
    "                pbar.set_description(f' Fold {i+1} F1: {scores[\"f1\"]}')\n",
    "\n",
    "        # final evaluation\n",
    "        print('Performance model:')\n",
    "        metrics = scores_cv[0].keys()\n",
    "        for metric in metrics:\n",
    "            # ignore confusion_matrix\n",
    "            if metric == 'confusion':\n",
    "                continue\n",
    "            mean = np.mean([scores_cv_i[metric] for scores_cv_i in scores_cv])\n",
    "            std = np.std([scores_cv_i[metric] for scores_cv_i in scores_cv])\n",
    "            print(f' {metric}: {round(mean, 3)} +- {round(std, 3)} \\n')"
   ],
   "metadata": {
    "collapsed": false,
    "pycharm": {
     "name": "#%%\n"
    }
   }
  },
  {
   "cell_type": "code",
   "execution_count": 6,
   "outputs": [],
   "source": [],
   "metadata": {
    "collapsed": false
   }
  }
 ],
 "metadata": {
  "kernelspec": {
   "display_name": "Python 3",
   "language": "python",
   "name": "python3"
  },
  "language_info": {
   "codemirror_mode": {
    "name": "ipython",
    "version": 2
   },
   "file_extension": ".py",
   "mimetype": "text/x-python",
   "name": "python",
   "nbconvert_exporter": "python",
   "pygments_lexer": "ipython2",
   "version": "2.7.6"
  }
 },
 "nbformat": 4,
 "nbformat_minor": 0
}