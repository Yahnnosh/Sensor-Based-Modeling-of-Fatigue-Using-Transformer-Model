{
 "cells": [
  {
   "cell_type": "code",
   "execution_count": 1,
   "metadata": {},
   "outputs": [],
   "source": [
    "import pandas as pd\n",
    "import numpy as np\n",
    "import matplotlib.pyplot as plt\n",
    "import matplotlib.colors\n",
    "from sklearn.model_selection import cross_validate, StratifiedKFold\n",
    "from tqdm import tqdm\n",
    "import json\n",
    "from sklearn.ensemble import RandomForestClassifier\n",
    "from sklearn.preprocessing import StandardScaler\n",
    "from sklearn.model_selection import StratifiedKFold, LeaveOneGroupOut\n",
    "from sklearn.model_selection import cross_val_score\n",
    "from sklearn.metrics import accuracy_score, balanced_accuracy_score, f1_score, precision_score, recall_score, confusion_matrix, ConfusionMatrixDisplay\n",
    "import warnings\n",
    "import os\n",
    "import sys\n",
    "import copy"
   ]
  },
  {
   "cell_type": "code",
   "execution_count": 2,
   "outputs": [],
   "source": [
    "def evaluator(y_pred, y_test, verbose=False):\n",
    "    \"\"\"Returns evaluation metric scores\"\"\"\n",
    "    accuracy = accuracy_score(y_pred=y_pred, y_true=y_test)\n",
    "    balanced_accuracy = balanced_accuracy_score(y_pred=y_pred, y_true=y_test)\n",
    "    f1 = f1_score(y_pred=y_pred, y_true=y_test, average='weighted')\n",
    "    recall = recall_score(y_pred=y_pred, y_true=y_test, average='weighted')\n",
    "    precision = precision_score(y_pred=y_pred, y_true=y_test, average='weighted')\n",
    "    confusion = confusion_matrix(y_pred=y_pred, y_true=y_test)\n",
    "\n",
    "    # display scores\n",
    "    if verbose:\n",
    "        ConfusionMatrixDisplay(confusion_matrix=confusion, display_labels=[False, True]).plot(cmap=plt.cm.Blues)\n",
    "        plt.title('Physical fatigue')\n",
    "\n",
    "        print(f'accuracy: {accuracy}\\n'\n",
    "              f'balanced accuracy: {balanced_accuracy}\\n'\n",
    "              f'f1 (weighted): {f1}\\n'\n",
    "              f'recall (weighted): {recall}\\n'\n",
    "              f'precision (weighted): {precision}')\n",
    "\n",
    "    return {'accuracy': accuracy,\n",
    "            'balanced_accuracy': balanced_accuracy,\n",
    "            'f1': f1,\n",
    "            'recall': recall,\n",
    "            'precision': precision,\n",
    "            'confusion': confusion}"
   ],
   "metadata": {
    "collapsed": false
   }
  },
  {
   "cell_type": "code",
   "execution_count": 3,
   "outputs": [],
   "source": [
    "VARIABLES = ['ActivityCounts', 'Barometer', 'BloodPerfusion',\n",
    "             'BloodPulseWave', 'EnergyExpenditure', 'GalvanicSkinResponse', 'HR',\n",
    "             'HRV', 'RESP', 'Steps', 'SkinTemperature', 'ActivityClass']"
   ],
   "metadata": {
    "collapsed": false
   }
  },
  {
   "cell_type": "code",
   "execution_count": 4,
   "outputs": [],
   "source": [
    "NORMALIZE_TRAIN = True # whether to normalize data acc. to training data\n",
    "SHUFFLE = True # whether to shuffle data before applying CV"
   ],
   "metadata": {
    "collapsed": false
   }
  },
  {
   "cell_type": "code",
   "execution_count": 5,
   "outputs": [],
   "source": [
    "# for reproducability\n",
    "SEED = 42\n",
    "SEED2 = 0"
   ],
   "metadata": {
    "collapsed": false
   }
  },
  {
   "cell_type": "markdown",
   "source": [
    "# Import data"
   ],
   "metadata": {
    "collapsed": false
   }
  },
  {
   "cell_type": "code",
   "execution_count": 6,
   "outputs": [],
   "source": [
    "# file path to data folder\n",
    "path = './Output'"
   ],
   "metadata": {
    "collapsed": false
   }
  },
  {
   "cell_type": "code",
   "execution_count": 7,
   "outputs": [
    {
     "name": "stdout",
     "output_type": "stream",
     "text": [
      "datapoints: 317, features: 284\n"
     ]
    }
   ],
   "source": [
    "N, FEATURES = sum([1 for p in os.listdir(path) if p[:19] == 'feature_vector_stat']), \\\n",
    "              *np.load(path + '/feature_vector_stat0.npy').shape\n",
    "print(f'datapoints: {N}, features: {FEATURES}')"
   ],
   "metadata": {
    "collapsed": false
   }
  },
  {
   "cell_type": "markdown",
   "source": [
    "Feature vector, labels"
   ],
   "metadata": {
    "collapsed": false
   }
  },
  {
   "cell_type": "code",
   "execution_count": 8,
   "outputs": [],
   "source": [
    "# init\n",
    "X = np.empty((N, FEATURES))\n",
    "y = np.empty((N, 2))\n",
    "\n",
    "# load individual datapoints\n",
    "for i in range(N):\n",
    "    X[i, ] = np.load(path + f'/feature_vector_stat{i}.npy', allow_pickle=True)\n",
    "    y[i, ] = np.load(path + f'/labels_stat{i}.npy', allow_pickle=True)"
   ],
   "metadata": {
    "collapsed": false
   }
  },
  {
   "cell_type": "markdown",
   "source": [
    "Metadata (subjectID etc.)"
   ],
   "metadata": {
    "collapsed": false
   }
  },
  {
   "cell_type": "code",
   "execution_count": 9,
   "outputs": [],
   "source": [
    "with open(path + '/metadata_stat.txt') as f:\n",
    "    metadata = f.read()\n",
    "\n",
    "metadata = json.loads(metadata.replace('\\'', '\\\"').replace('False', 'false').replace('True', 'true')) # doesn't accept other chars"
   ],
   "metadata": {
    "collapsed": false
   }
  },
  {
   "cell_type": "markdown",
   "source": [
    "# Random Forest"
   ],
   "metadata": {
    "collapsed": false
   }
  },
  {
   "cell_type": "markdown",
   "source": [
    "### 5-fold stratified CV"
   ],
   "metadata": {
    "collapsed": false
   }
  },
  {
   "cell_type": "code",
   "execution_count": 10,
   "outputs": [],
   "source": [
    "# separate label prediction\n",
    "y_phf, y_mf = y[:, 0], y[:, 1]"
   ],
   "metadata": {
    "collapsed": false
   }
  },
  {
   "cell_type": "code",
   "execution_count": 11,
   "outputs": [],
   "source": [
    "# CV ranges\n",
    "n_trees = [3, 10, 50, 100, 300, 1000]\n",
    "max_features = ['auto', 'sqrt', 'log2']\n",
    "max_depths = [10, 30, 50, 100]\n",
    "criterions = ['gini', 'entropy']\n",
    "min_samples_splits = [2, 5, 10]"
   ],
   "metadata": {
    "collapsed": false
   }
  },
  {
   "cell_type": "code",
   "execution_count": 12,
   "outputs": [
    {
     "name": "stdout",
     "output_type": "stream",
     "text": [
      "Starting cross-validation for Physical fatigue\n",
      "fold: 1 / 5\n",
      "Inner loop - F1: 0.6725188237323524: 100%|██████████| 432/432 [14:25<00:00,  2.00s/it]\n",
      " Best F1 (inner): 0.7641696783783273\n",
      " Fold 1 F1 (outer): 0.7110599078341014\n",
      "fold: 2 / 5\n",
      "Inner loop - F1: 0.6518598887528724: 100%|██████████| 432/432 [14:51<00:00,  2.06s/it]\n",
      " Best F1 (inner): 0.7564855771268062\n",
      " Fold 2 F1 (outer): 0.7761904761904762\n",
      "fold: 3 / 5\n",
      "Inner loop - F1: 0.646950037328869: 100%|██████████| 432/432 [14:46<00:00,  2.05s/it] \n",
      " Best F1 (inner): 0.756301033289869\n",
      " Fold 3 F1 (outer): 0.8047598946712498\n",
      "fold: 4 / 5\n",
      "Inner loop - F1: 0.6805529663407144: 100%|██████████| 432/432 [14:16<00:00,  1.98s/it]\n",
      " Best F1 (inner): 0.7726155145080164\n",
      " Fold 4 F1 (outer): 0.7052209964162743\n",
      "fold: 5 / 5\n",
      "Inner loop - F1: 0.6935562990086317: 100%|██████████| 432/432 [15:02<00:00,  2.09s/it]\n",
      " Best F1 (inner): 0.7966039988194407\n",
      " Fold 5 F1 (outer): 0.6563342318059299\n",
      "Performance model:\n",
      " accuracy: 0.757 +- 0.045 \n",
      "\n",
      " balanced_accuracy: 0.608 +- 0.077 \n",
      "\n",
      " f1: 0.731 +- 0.053 \n",
      "\n",
      " recall: 0.757 +- 0.045 \n",
      "\n",
      " precision: 0.73 +- 0.064 \n",
      "\n",
      " confusion: 15.85 +- 16.125 \n",
      "\n",
      "Starting cross-validation for Mental fatigue\n",
      "fold: 1 / 5\n",
      "Inner loop - F1: 0.5716078222019847: 100%|██████████| 432/432 [15:53<00:00,  2.21s/it]\n",
      " Best F1 (inner): 0.6914953748405723\n",
      " Fold 1 F1 (outer): 0.580012077294686\n",
      "fold: 2 / 5\n",
      "Inner loop - F1: 0.6069799394262534: 100%|██████████| 432/432 [15:58<00:00,  2.22s/it]\n",
      " Best F1 (inner): 0.701315166381729\n",
      " Fold 2 F1 (outer): 0.6953125000000001\n",
      "fold: 3 / 5\n",
      "Inner loop - F1: 0.5725905615939125: 100%|██████████| 432/432 [15:36<00:00,  2.17s/it]\n",
      " Best F1 (inner): 0.7030198593087253\n",
      " Fold 3 F1 (outer): 0.6252921681493109\n",
      "fold: 4 / 5\n",
      "Inner loop - F1: 0.5850903225126276: 100%|██████████| 432/432 [16:00<00:00,  2.22s/it]\n",
      " Best F1 (inner): 0.6643526215290921\n",
      " Fold 4 F1 (outer): 0.6252921681493109\n",
      "fold: 5 / 5\n",
      "Inner loop - F1: 0.5801335946462117: 100%|██████████| 432/432 [15:17<00:00,  2.12s/it]\n",
      " Best F1 (inner): 0.6764854435649069\n",
      " Fold 5 F1 (outer): 0.595207060191063\n",
      "Performance model:\n",
      " accuracy: 0.643 +- 0.041 \n",
      "\n",
      " balanced_accuracy: 0.541 +- 0.043 \n",
      "\n",
      " f1: 0.624 +- 0.04 \n",
      "\n",
      " recall: 0.643 +- 0.041 \n",
      "\n",
      " precision: 0.617 +- 0.045 \n",
      "\n",
      " confusion: 15.85 +- 11.842 \n",
      "\n",
      "CPU times: total: 2h 31min 33s\n",
      "Wall time: 2h 32min 10s\n"
     ]
    }
   ],
   "source": [
    "%%time\n",
    "# nested CV\n",
    "folds = 5\n",
    "\n",
    "with warnings.catch_warnings():\n",
    "    # ignore sklearn warning\n",
    "    warnings.filterwarnings('ignore')\n",
    "\n",
    "    for fatigue in ('Physical fatigue', 'Mental fatigue'):\n",
    "        # load labels\n",
    "        print(f'Starting cross-validation for {fatigue}')\n",
    "        y_ = {'Physical fatigue': y_phf, 'Mental fatigue': y_mf}[fatigue] # pick phF or MF\n",
    "\n",
    "        # 1) outer loop: performance evaluation\n",
    "        outer_cv = StratifiedKFold(n_splits=folds, shuffle=True, random_state=SEED) if SHUFFLE \\\n",
    "            else StratifiedKFold(n_splits=folds)\n",
    "        scores_cv = []\n",
    "        for i, (train_outer_index, test_outer_index) in enumerate(outer_cv.split(X, y_)):\n",
    "            print(f'fold: {i+1} / {folds}') # TODO: shuffle?\n",
    "\n",
    "            # train/test split\n",
    "            X_train, X_test = X[train_outer_index], X[test_outer_index]\n",
    "            y_train, y_test = y_[train_outer_index], y_[test_outer_index]\n",
    "\n",
    "            # normalize features (acc.to train set)\n",
    "            if NORMALIZE_TRAIN:\n",
    "                scaler = StandardScaler()\n",
    "                scaler.fit(X_train)\n",
    "                X_train = scaler.transform(X_train, copy=True)\n",
    "                X_test = scaler.transform(X_test, copy=True)\n",
    "\n",
    "            # 2) inner loop: hyperparameter tuning\n",
    "            inner_cv = StratifiedKFold(n_splits=folds, shuffle=True, random_state=SEED2) if SHUFFLE \\\n",
    "                else StratifiedKFold(n_splits=folds) # TODO: shuffle?\n",
    "            # we test every combination of parameters by CV\n",
    "            combinations = {}\n",
    "            with tqdm(total=len(n_trees) * len(max_features) * len(max_depths) * \\\n",
    "                            len(criterions) * len(min_samples_splits),\n",
    "                      file=sys.stdout) as pbar:\n",
    "                for n_tree in n_trees:\n",
    "                    for max_feature in max_features:\n",
    "                        for max_depth in max_depths:\n",
    "                            for criterion in criterions:\n",
    "                                for min_sample_split in min_samples_splits:\n",
    "                                    # model\n",
    "                                    rf = RandomForestClassifier(n_estimators=n_tree,\n",
    "                                                                criterion=criterion,\n",
    "                                                                max_depth=max_depth,\n",
    "                                                                min_samples_split=min_sample_split,\n",
    "                                                                max_features=max_feature)\n",
    "\n",
    "                                    # CV\n",
    "                                    scores = cross_val_score(rf, X_train, y_train, cv=inner_cv, scoring='f1_weighted')\n",
    "\n",
    "                                    # store score\n",
    "                                    combination = (n_tree, max_feature, max_depth, criterion, min_sample_split)\n",
    "                                    combinations[combination] = np.mean(scores)\n",
    "\n",
    "                                    # for progress bar\n",
    "                                    pbar.update(1)\n",
    "                                    pbar.set_description(f\"Inner loop - F1: {np.mean(scores)}\")\n",
    "\n",
    "            # best hyperparams\n",
    "            best_combination, best_score = sorted(list(combinations.items()), key=lambda item: item[1])[-1]\n",
    "\n",
    "            # for visualization\n",
    "            print(f' Best F1 (inner): {best_score}')\n",
    "\n",
    "            # use model with best hyperparams\n",
    "            rf = RandomForestClassifier(n_estimators=best_combination[0],\n",
    "                                        criterion=best_combination[3],\n",
    "                                        max_depth=best_combination[2],\n",
    "                                        min_samples_split=best_combination[4],\n",
    "                                        max_features=best_combination[1])\n",
    "            rf.fit(X_train, y_train)\n",
    "\n",
    "            # evaluate\n",
    "            y_pred = rf.predict(X_test)\n",
    "            scores = evaluator(y_pred, y_test, verbose=False)\n",
    "            scores_cv.append(scores)\n",
    "\n",
    "            # for visualization\n",
    "            print(f' Fold {i+1} F1 (outer): {scores[\"f1\"]}')\n",
    "\n",
    "        # final evaluation\n",
    "        print('Performance model:')\n",
    "        metrics = scores_cv[0].keys()\n",
    "        for metric in metrics:\n",
    "            mean = np.mean([scores_cv_i[metric] for scores_cv_i in scores_cv])\n",
    "            std = np.std([scores_cv_i[metric] for scores_cv_i in scores_cv])\n",
    "            print(f' {metric}: {round(mean, 3)} +- {round(std, 3)} \\n')"
   ],
   "metadata": {
    "collapsed": false
   }
  },
  {
   "cell_type": "markdown",
   "source": [
    "### Leave-one-subject-out (LOSO)"
   ],
   "metadata": {
    "collapsed": false
   }
  },
  {
   "cell_type": "code",
   "execution_count": null,
   "outputs": [],
   "source": [
    "'''\n",
    "first scores without shuffling - check if the same for reproducability sake\n",
    "0.776315820637198\n",
    "0.6320400500625781'''"
   ],
   "metadata": {
    "collapsed": false
   }
  },
  {
   "cell_type": "code",
   "execution_count": 13,
   "outputs": [
    {
     "name": "stdout",
     "output_type": "stream",
     "text": [
      "Subjects: [ 3  4  5  7  9 10 12 13 14 15 16 17 19 20 21 22 23 24 25 26 27]\n",
      "Total subjects: 21\n"
     ]
    }
   ],
   "source": [
    "subjects = [meta['subjectID'] for meta in metadata]\n",
    "print(f'Subjects: {np.unique(subjects)}')\n",
    "print(f'Total subjects: {len(np.unique(subjects))}')"
   ],
   "metadata": {
    "collapsed": false
   }
  },
  {
   "cell_type": "code",
   "execution_count": null,
   "outputs": [
    {
     "name": "stdout",
     "output_type": "stream",
     "text": [
      "Starting cross-validation for Physical fatigue\n",
      "fold: 1 / 21\n",
      "Inner loop - F1: 0.6977189047886845: 100%|██████████| 432/432 [16:03<00:00,  2.23s/it]\n",
      " Best F1 (inner): 0.775048043119396\n",
      " Fold 1 F1 (outer): 0.3253968253968254\n",
      "fold: 2 / 21\n",
      "Inner loop - F1: 0.6832950232983743: 100%|██████████| 432/432 [16:21<00:00,  2.27s/it]\n",
      " Best F1 (inner): 0.7809085805538097\n",
      " Fold 2 F1 (outer): 0.6666666666666666\n",
      "fold: 3 / 21\n",
      "Inner loop - F1: 0.6569295713206046: 100%|██████████| 432/432 [16:29<00:00,  2.29s/it]\n",
      " Best F1 (inner): 0.7597804569763015\n",
      " Fold 3 F1 (outer): 1.0\n",
      "fold: 4 / 21\n",
      "Inner loop - F1: 0.6561335594177193: 100%|██████████| 432/432 [16:17<00:00,  2.26s/it]\n",
      " Best F1 (inner): 0.7613333593219691\n",
      " Fold 4 F1 (outer): 1.0\n",
      "fold: 5 / 21\n",
      "Inner loop - F1: 0.6795079947949137: 100%|██████████| 432/432 [16:44<00:00,  2.33s/it]\n",
      " Best F1 (inner): 0.7753979945364379\n",
      " Fold 5 F1 (outer): 0.5333333333333333\n",
      "fold: 6 / 21\n",
      "Inner loop - F1: 0.6955649035624125: 100%|██████████| 432/432 [16:44<00:00,  2.33s/it]\n",
      " Best F1 (inner): 0.7863247498968986\n",
      " Fold 6 F1 (outer): 0.5\n",
      "fold: 7 / 21\n",
      "Inner loop - F1: 0.6523912876790396: 100%|██████████| 432/432 [16:27<00:00,  2.29s/it]\n",
      " Best F1 (inner): 0.7670613802583712\n",
      " Fold 7 F1 (outer): 1.0\n",
      "fold: 8 / 21\n",
      "Inner loop - F1: 0.6913576330346823: 100%|██████████| 432/432 [16:11<00:00,  2.25s/it]\n",
      " Best F1 (inner): 0.7863274234181261\n",
      " Fold 8 F1 (outer): 0.05555555555555556\n",
      "fold: 9 / 21\n",
      "Inner loop - F1: 0.6578448457269681: 100%|██████████| 432/432 [16:33<00:00,  2.30s/it]\n",
      " Best F1 (inner): 0.7699939722198927\n",
      " Fold 9 F1 (outer): 0.6\n",
      "fold: 10 / 21\n",
      "Inner loop - F1: 0.6911555202796267: 100%|██████████| 432/432 [16:12<00:00,  2.25s/it]\n",
      " Best F1 (inner): 0.7785585198100666\n",
      " Fold 10 F1 (outer): 0.6428571428571428\n",
      "fold: 11 / 21\n",
      "Inner loop - F1: 0.6893306601505236: 100%|██████████| 432/432 [16:12<00:00,  2.25s/it]\n",
      " Best F1 (inner): 0.7646504113123906\n",
      " Fold 11 F1 (outer): 0.7111111111111111\n",
      "fold: 12 / 21\n",
      "Inner loop - F1: 0.676902555137431: 100%|██████████| 432/432 [17:30<00:00,  2.43s/it] \n",
      " Best F1 (inner): 0.7702163729143754\n",
      " Fold 12 F1 (outer): 0.6071428571428572\n",
      "fold: 13 / 21\n",
      "Inner loop - F1: 0.6466942796598802: 100%|██████████| 432/432 [17:42<00:00,  2.46s/it]\n",
      " Best F1 (inner): 0.7533264296759292\n",
      " Fold 13 F1 (outer): 1.0\n",
      "fold: 14 / 21\n",
      "Inner loop - F1: 0.6468397082148686: 100%|██████████| 432/432 [17:35<00:00,  2.44s/it]\n",
      " Best F1 (inner): 0.7718372548449304\n",
      " Fold 14 F1 (outer): 0.8571428571428571\n",
      "fold: 15 / 21\n",
      "Inner loop - F1: 0.6771178098290657: 100%|██████████| 432/432 [17:58<00:00,  2.50s/it]\n",
      " Best F1 (inner): 0.7746576902638682\n",
      " Fold 15 F1 (outer): 0.4047619047619047\n",
      "fold: 16 / 21\n",
      "Inner loop - F1: 0.6558040137388946: 100%|██████████| 432/432 [17:48<00:00,  2.47s/it]\n",
      " Best F1 (inner): 0.7580954905147337\n",
      " Fold 16 F1 (outer): 1.0\n",
      "fold: 17 / 21\n",
      "Inner loop - F1: 0.7490976412749811:  78%|███████▊  | 338/432 [03:57<04:04,  2.60s/it]"
     ]
    }
   ],
   "source": [
    "%%time\n",
    "# nested CV\n",
    "groups = subjects\n",
    "folds_outer = len(np.unique(subjects))\n",
    "folds_inner = 5\n",
    "\n",
    "with warnings.catch_warnings():\n",
    "    # ignore sklearn warning\n",
    "    warnings.filterwarnings('ignore')\n",
    "\n",
    "    for fatigue in ('Physical fatigue', 'Mental fatigue'):\n",
    "        # load labels\n",
    "        print(f'Starting cross-validation for {fatigue}')\n",
    "        y_ = {'Physical fatigue': y_phf, 'Mental fatigue': y_mf}[fatigue] # pick phF or MF\n",
    "\n",
    "        # 1) outer loop: performance evaluation\n",
    "        outer_cv = LeaveOneGroupOut()\n",
    "        scores_cv = []\n",
    "        for i, (train_outer_index, test_outer_index) in enumerate(outer_cv.split(X, y_, groups)):\n",
    "            print(f'fold: {i+1} / {folds_outer}')\n",
    "\n",
    "            # train/test split\n",
    "            X_train, X_test = X[train_outer_index], X[test_outer_index]\n",
    "            y_train, y_test = y_[train_outer_index], y_[test_outer_index]\n",
    "\n",
    "            # normalize features (acc.to train set)\n",
    "            if NORMALIZE_TRAIN:\n",
    "                scaler = StandardScaler()\n",
    "                scaler.fit(X_train)\n",
    "                X_train = scaler.transform(X_train, copy=True)\n",
    "                X_test = scaler.transform(X_test, copy=True)\n",
    "\n",
    "            # 2) inner loop: hyperparameter tuning\n",
    "            inner_cv = StratifiedKFold(n_splits=folds_inner, shuffle=True, random_state=SEED2) if SHUFFLE \\\n",
    "                else StratifiedKFold(n_splits=folds_inner) # TODO: shuffle?\n",
    "            # we test every combination of parameters by CV\n",
    "            combinations = {}\n",
    "            with tqdm(total=len(n_trees) * len(max_features) * len(max_depths) * \\\n",
    "                            len(criterions) * len(min_samples_splits),\n",
    "                      file=sys.stdout) as pbar:\n",
    "                for n_tree in n_trees:\n",
    "                    for max_feature in max_features:\n",
    "                        for max_depth in max_depths:\n",
    "                            for criterion in criterions:\n",
    "                                for min_sample_split in min_samples_splits:\n",
    "                                    # model\n",
    "                                    rf = RandomForestClassifier(n_estimators=n_tree,\n",
    "                                                                criterion=criterion,\n",
    "                                                                max_depth=max_depth,\n",
    "                                                                min_samples_split=min_sample_split,\n",
    "                                                                max_features=max_feature)\n",
    "\n",
    "                                    # CV\n",
    "                                    scores = cross_val_score(rf, X_train, y_train, cv=inner_cv, scoring='f1_weighted')\n",
    "\n",
    "                                    # store score\n",
    "                                    combination = (n_tree, max_feature, max_depth, criterion, min_sample_split)\n",
    "                                    combinations[combination] = np.mean(scores)\n",
    "\n",
    "                                    # for progress bar\n",
    "                                    pbar.update(1)\n",
    "                                    pbar.set_description(f\"Inner loop - F1: {np.mean(scores)}\")\n",
    "\n",
    "            # best hyperparams\n",
    "            best_combination, best_score = sorted(list(combinations.items()), key=lambda item: item[1])[-1]\n",
    "\n",
    "            # for visualization\n",
    "            print(f' Best F1 (inner): {best_score}')\n",
    "\n",
    "            # use model with best hyperparams\n",
    "            rf = RandomForestClassifier(n_estimators=best_combination[0],\n",
    "                                        criterion=best_combination[3],\n",
    "                                        max_depth=best_combination[2],\n",
    "                                        min_samples_split=best_combination[4],\n",
    "                                        max_features=best_combination[1])\n",
    "            rf.fit(X_train, y_train)\n",
    "\n",
    "            # evaluate\n",
    "            y_pred = rf.predict(X_test)\n",
    "            scores = evaluator(y_pred, y_test, verbose=False)\n",
    "            scores_cv.append(scores)\n",
    "\n",
    "            # for visualization\n",
    "            print(f' Fold {i+1} F1 (outer): {scores[\"f1\"]}')\n",
    "\n",
    "        # final evaluation\n",
    "        print('Performance model:')\n",
    "        metrics = scores_cv[0].keys()\n",
    "        for metric in metrics:\n",
    "            mean = np.mean([scores_cv_i[metric] for scores_cv_i in scores_cv])\n",
    "            std = np.std([scores_cv_i[metric] for scores_cv_i in scores_cv])\n",
    "            print(f' {metric}: {round(mean, 3)} +- {round(std, 3)} \\n')"
   ],
   "metadata": {
    "collapsed": false,
    "pycharm": {
     "name": "#%%\n",
     "is_executing": true
    }
   }
  },
  {
   "cell_type": "code",
   "execution_count": null,
   "outputs": [],
   "source": [],
   "metadata": {
    "collapsed": false,
    "pycharm": {
     "name": "#%%\n"
    }
   }
  }
 ],
 "metadata": {
  "kernelspec": {
   "display_name": "Python 3 (ipykernel)",
   "language": "python",
   "name": "python3"
  },
  "language_info": {
   "codemirror_mode": {
    "name": "ipython",
    "version": 3
   },
   "file_extension": ".py",
   "mimetype": "text/x-python",
   "name": "python",
   "nbconvert_exporter": "python",
   "pygments_lexer": "ipython3",
   "version": "3.10.6"
  }
 },
 "nbformat": 4,
 "nbformat_minor": 1
}