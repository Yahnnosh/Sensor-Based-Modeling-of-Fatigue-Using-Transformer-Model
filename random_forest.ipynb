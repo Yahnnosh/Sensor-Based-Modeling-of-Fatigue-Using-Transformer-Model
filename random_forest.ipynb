{
 "cells": [
  {
   "cell_type": "code",
   "execution_count": 1,
   "metadata": {},
   "outputs": [],
   "source": [
    "import pandas as pd\n",
    "import numpy as np\n",
    "import matplotlib.pyplot as plt\n",
    "import matplotlib.colors\n",
    "from sklearn.model_selection import cross_validate, StratifiedKFold\n",
    "from tqdm import tqdm\n",
    "import json\n",
    "from sklearn.ensemble import RandomForestClassifier\n",
    "from sklearn.preprocessing import StandardScaler\n",
    "from sklearn.model_selection import StratifiedKFold, LeaveOneGroupOut\n",
    "from sklearn.model_selection import cross_val_score\n",
    "from sklearn.metrics import accuracy_score, balanced_accuracy_score, f1_score, precision_score, recall_score, confusion_matrix, ConfusionMatrixDisplay\n",
    "import warnings\n",
    "import os\n",
    "import sys\n",
    "import copy"
   ]
  },
  {
   "cell_type": "code",
   "execution_count": 2,
   "outputs": [],
   "source": [
    "def evaluator(y_pred, y_test, verbose=False):\n",
    "    \"\"\"Returns evaluation metric scores\"\"\"\n",
    "    accuracy = accuracy_score(y_pred=y_pred, y_true=y_test)\n",
    "    balanced_accuracy = balanced_accuracy_score(y_pred=y_pred, y_true=y_test)\n",
    "    f1 = f1_score(y_pred=y_pred, y_true=y_test, average='weighted')\n",
    "    recall = recall_score(y_pred=y_pred, y_true=y_test, average='weighted')\n",
    "    precision = precision_score(y_pred=y_pred, y_true=y_test, average='weighted')\n",
    "    confusion = confusion_matrix(y_pred=y_pred, y_true=y_test)\n",
    "\n",
    "    # display scores\n",
    "    if verbose:\n",
    "        ConfusionMatrixDisplay(confusion_matrix=confusion, display_labels=[False, True]).plot(cmap=plt.cm.Blues)\n",
    "        plt.title('Physical fatigue')\n",
    "\n",
    "        print(f'accuracy: {accuracy}\\n'\n",
    "              f'balanced accuracy: {balanced_accuracy}\\n'\n",
    "              f'f1 (weighted): {f1}\\n'\n",
    "              f'recall (weighted): {recall}\\n'\n",
    "              f'precision (weighted): {precision}')\n",
    "\n",
    "    return {'accuracy': accuracy,\n",
    "            'balanced_accuracy': balanced_accuracy,\n",
    "            'f1': f1,\n",
    "            'recall': recall,\n",
    "            'precision': precision,\n",
    "            'confusion': confusion}"
   ],
   "metadata": {
    "collapsed": false
   }
  },
  {
   "cell_type": "code",
   "execution_count": 3,
   "outputs": [],
   "source": [
    "VARIABLES = ['ActivityCounts', 'Barometer', 'BloodPerfusion',\n",
    "             'BloodPulseWave', 'EnergyExpenditure', 'GalvanicSkinResponse', 'HR',\n",
    "             'HRV', 'RESP', 'Steps', 'SkinTemperature', 'ActivityClass']"
   ],
   "metadata": {
    "collapsed": false
   }
  },
  {
   "cell_type": "code",
   "execution_count": 4,
   "outputs": [],
   "source": [
    "NORMALIZE_TRAIN = True # whether to normalize data acc. to training data\n",
    "SHUFFLE = True # whether to shuffle data before applying CV"
   ],
   "metadata": {
    "collapsed": false
   }
  },
  {
   "cell_type": "code",
   "execution_count": 5,
   "outputs": [],
   "source": [
    "# for reproducability\n",
    "SEED = 42\n",
    "SEED2 = 0"
   ],
   "metadata": {
    "collapsed": false
   }
  },
  {
   "cell_type": "markdown",
   "source": [
    "# Import data"
   ],
   "metadata": {
    "collapsed": false
   }
  },
  {
   "cell_type": "code",
   "execution_count": 6,
   "outputs": [],
   "source": [
    "# file path to data folder\n",
    "path = './Output'"
   ],
   "metadata": {
    "collapsed": false
   }
  },
  {
   "cell_type": "code",
   "execution_count": 7,
   "outputs": [
    {
     "name": "stdout",
     "output_type": "stream",
     "text": [
      "datapoints: 317, features: 284\n"
     ]
    }
   ],
   "source": [
    "N, FEATURES = sum([1 for p in os.listdir(path) if p[:19] == 'feature_vector_stat']), \\\n",
    "              *np.load(path + '/feature_vector_stat0.npy').shape\n",
    "print(f'datapoints: {N}, features: {FEATURES}')"
   ],
   "metadata": {
    "collapsed": false
   }
  },
  {
   "cell_type": "markdown",
   "source": [
    "Feature vector, labels"
   ],
   "metadata": {
    "collapsed": false
   }
  },
  {
   "cell_type": "code",
   "execution_count": 8,
   "outputs": [],
   "source": [
    "# init\n",
    "X = np.empty((N, FEATURES))\n",
    "y = np.empty((N, 2))\n",
    "\n",
    "# load individual datapoints\n",
    "for i in range(N):\n",
    "    X[i, ] = np.load(path + f'/feature_vector_stat{i}.npy', allow_pickle=True)\n",
    "    y[i, ] = np.load(path + f'/labels_stat{i}.npy', allow_pickle=True)"
   ],
   "metadata": {
    "collapsed": false
   }
  },
  {
   "cell_type": "markdown",
   "source": [
    "Metadata (subjectID etc.)"
   ],
   "metadata": {
    "collapsed": false
   }
  },
  {
   "cell_type": "code",
   "execution_count": 9,
   "outputs": [],
   "source": [
    "with open(path + '/metadata_stat.txt') as f:\n",
    "    metadata = f.read()\n",
    "\n",
    "metadata = json.loads(metadata.replace('\\'', '\\\"').replace('False', 'false').replace('True', 'true')) # doesn't accept other chars"
   ],
   "metadata": {
    "collapsed": false
   }
  },
  {
   "cell_type": "markdown",
   "source": [
    "# Random Forest"
   ],
   "metadata": {
    "collapsed": false
   }
  },
  {
   "cell_type": "markdown",
   "source": [
    "### 5-fold stratified CV"
   ],
   "metadata": {
    "collapsed": false
   }
  },
  {
   "cell_type": "code",
   "execution_count": 10,
   "outputs": [],
   "source": [
    "# separate label prediction\n",
    "y_phf, y_mf = y[:, 0], y[:, 1]"
   ],
   "metadata": {
    "collapsed": false
   }
  },
  {
   "cell_type": "code",
   "execution_count": 18,
   "outputs": [],
   "source": [
    "# CV ranges\n",
    "n_trees = [3, 10, 50, 100, 300, 1000]\n",
    "max_features = ['auto', 'sqrt', 'log2']\n",
    "max_depths = [10, 30, 50, 100]\n",
    "criterions = ['gini', 'entropy']\n",
    "min_samples_splits = [2, 5, 10]"
   ],
   "metadata": {
    "collapsed": false
   }
  },
  {
   "cell_type": "code",
   "execution_count": 12,
   "outputs": [
    {
     "name": "stdout",
     "output_type": "stream",
     "text": [
      "Starting cross-validation for Physical fatigue\n",
      "fold: 1 / 5\n",
      "Inner loop - F1: 0.7097199214982555:  34%|███▍      | 146/432 [00:10<00:21, 13.53it/s]\n"
     ]
    },
    {
     "name": "stderr",
     "output_type": "stream",
     "text": [
      "\n",
      "KeyboardInterrupt\n",
      "\n"
     ]
    }
   ],
   "source": [
    "%%time\n",
    "# nested CV\n",
    "folds = 5\n",
    "\n",
    "with warnings.catch_warnings():\n",
    "    # ignore sklearn warning\n",
    "    warnings.filterwarnings('ignore')\n",
    "\n",
    "    for fatigue in ('Physical fatigue', 'Mental fatigue'):\n",
    "        # load labels\n",
    "        print(f'Starting cross-validation for {fatigue}')\n",
    "        y_ = {'Physical fatigue': y_phf, 'Mental fatigue': y_mf}[fatigue] # pick phF or MF\n",
    "\n",
    "        # 1) outer loop: performance evaluation\n",
    "        outer_cv = StratifiedKFold(n_splits=folds, shuffle=True, random_state=SEED) if SHUFFLE \\\n",
    "            else StratifiedKFold(n_splits=folds)\n",
    "        scores_cv = []\n",
    "        for i, (train_outer_index, test_outer_index) in enumerate(outer_cv.split(X, y_)):\n",
    "            print(f'fold: {i+1} / {folds}') # TODO: shuffle?\n",
    "\n",
    "            # train/test split\n",
    "            X_train, X_test = X[train_outer_index], X[test_outer_index]\n",
    "            y_train, y_test = y_[train_outer_index], y_[test_outer_index]\n",
    "\n",
    "            # normalize features (acc.to train set)\n",
    "            if NORMALIZE_TRAIN:\n",
    "                scaler = StandardScaler()\n",
    "                scaler.fit(X_train)\n",
    "                X_train = scaler.transform(X_train, copy=True)\n",
    "                X_test = scaler.transform(X_test, copy=True)\n",
    "\n",
    "            # 2) inner loop: hyperparameter tuning\n",
    "            inner_cv = StratifiedKFold(n_splits=folds, shuffle=True, random_state=SEED2) if SHUFFLE \\\n",
    "                else StratifiedKFold(n_splits=folds) # TODO: shuffle?\n",
    "            # we test every combination of parameters by CV\n",
    "            combinations = {}\n",
    "            with tqdm(total=len(n_trees) * len(max_features) * len(max_depths) * \\\n",
    "                            len(criterions) * len(min_samples_splits),\n",
    "                      file=sys.stdout) as pbar:\n",
    "                for n_tree in n_trees:\n",
    "                    for max_feature in max_features:\n",
    "                        for max_depth in max_depths:\n",
    "                            for criterion in criterions:\n",
    "                                for min_sample_split in min_samples_splits:\n",
    "                                    # model\n",
    "                                    rf = RandomForestClassifier(n_estimators=n_tree,\n",
    "                                                                criterion=criterion,\n",
    "                                                                max_depth=max_depth,\n",
    "                                                                min_samples_split=min_sample_split,\n",
    "                                                                max_features=max_feature)\n",
    "\n",
    "                                    # CV\n",
    "                                    scores = cross_val_score(rf, X_train, y_train, cv=inner_cv, scoring='f1_weighted')\n",
    "\n",
    "                                    # store score\n",
    "                                    combination = (n_tree, max_feature, max_depth, criterion, min_sample_split)\n",
    "                                    combinations[combination] = np.mean(scores)\n",
    "\n",
    "                                    # for progress bar\n",
    "                                    pbar.update(1)\n",
    "                                    pbar.set_description(f\"Inner loop - F1: {np.mean(scores)}\")\n",
    "\n",
    "            # best hyperparams\n",
    "            best_combination, best_score = sorted(list(combinations.items()), key=lambda item: item[1])[-1]\n",
    "\n",
    "            # for visualization\n",
    "            print(f' Best F1 (inner): {best_score}')\n",
    "\n",
    "            # use model with best hyperparams\n",
    "            rf = RandomForestClassifier(n_estimators=best_combination[0],\n",
    "                                        criterion=best_combination[3],\n",
    "                                        max_depth=best_combination[2],\n",
    "                                        min_samples_split=best_combination[4],\n",
    "                                        max_features=best_combination[1])\n",
    "            rf.fit(X_train, y_train)\n",
    "\n",
    "            # evaluate\n",
    "            y_pred = rf.predict(X_test)\n",
    "            scores = evaluator(y_pred, y_test, verbose=False)\n",
    "            scores_cv.append(scores)\n",
    "\n",
    "            # for visualization\n",
    "            print(f' Fold {i+1} F1 (outer): {scores[\"f1\"]}')\n",
    "\n",
    "        # final evaluation\n",
    "        print('Performance model:')\n",
    "        metrics = scores_cv[0].keys()\n",
    "        for metric in metrics:\n",
    "            # ignore confusion_matrix\n",
    "            if metric == 'confusion':\n",
    "                continue\n",
    "            mean = np.mean([scores_cv_i[metric] for scores_cv_i in scores_cv])\n",
    "            std = np.std([scores_cv_i[metric] for scores_cv_i in scores_cv])\n",
    "            print(f' {metric}: {round(mean, 3)} +- {round(std, 3)} \\n')"
   ],
   "metadata": {
    "collapsed": false
   }
  },
  {
   "cell_type": "markdown",
   "source": [
    "### Leave-one-subject-out (LOSO)"
   ],
   "metadata": {
    "collapsed": false
   }
  },
  {
   "cell_type": "code",
   "execution_count": 19,
   "outputs": [
    {
     "data": {
      "text/plain": "'\\nfirst scores without shuffling - check if the same for reproducability sake\\n0.776315820637198\\n0.6320400500625781\\n'"
     },
     "execution_count": 19,
     "metadata": {},
     "output_type": "execute_result"
    }
   ],
   "source": [
    "'''\n",
    "first scores without shuffling - check if the same for reproducability sake\n",
    "0.776315820637198\n",
    "0.6320400500625781\n",
    "'''"
   ],
   "metadata": {
    "collapsed": false
   }
  },
  {
   "cell_type": "code",
   "execution_count": 20,
   "outputs": [
    {
     "name": "stdout",
     "output_type": "stream",
     "text": [
      "Subjects: [ 3  4  5  7  9 10 12 13 14 15 16 17 19 20 21 22 23 24 25 26 27]\n",
      "Total subjects: 21\n"
     ]
    }
   ],
   "source": [
    "subjects = [meta['subjectID'] for meta in metadata]\n",
    "print(f'Subjects: {np.unique(subjects)}')\n",
    "print(f'Total subjects: {len(np.unique(subjects))}')"
   ],
   "metadata": {
    "collapsed": false
   }
  },
  {
   "cell_type": "code",
   "execution_count": null,
   "outputs": [
    {
     "name": "stdout",
     "output_type": "stream",
     "text": [
      "Starting cross-validation for Physical fatigue\n",
      "fold: 1 / 21\n",
      "Inner loop - F1: 0.7247694888967076: 100%|██████████| 432/432 [15:37<00:00,  2.17s/it]\n",
      " Best F1 (inner): 0.7912698361342178\n",
      " Fold 1 F1 (outer): 0.1\n",
      "fold: 2 / 21\n",
      "Inner loop - F1: 0.721638915678327: 100%|██████████| 432/432 [15:26<00:00,  2.15s/it] \n",
      " Best F1 (inner): 0.7780620568392249\n",
      " Fold 2 F1 (outer): 0.45714285714285713\n",
      "fold: 3 / 21\n",
      "Inner loop - F1: 0.7001474226234163: 100%|██████████| 432/432 [15:26<00:00,  2.15s/it]\n",
      " Best F1 (inner): 0.7796445072574159\n",
      " Fold 3 F1 (outer): 1.0\n",
      "fold: 4 / 21\n",
      "Inner loop - F1: 0.6974723739564298: 100%|██████████| 432/432 [15:28<00:00,  2.15s/it]\n",
      " Best F1 (inner): 0.7990758309968229\n",
      " Fold 4 F1 (outer): 1.0\n",
      "fold: 5 / 21\n",
      "Inner loop - F1: 0.7321471779440564: 100%|██████████| 432/432 [15:23<00:00,  2.14s/it]\n",
      " Best F1 (inner): 0.7721197442973308\n",
      " Fold 5 F1 (outer): 0.5333333333333333\n",
      "fold: 6 / 21\n",
      "Inner loop - F1: 0.7309843445976899: 100%|██████████| 432/432 [15:23<00:00,  2.14s/it]\n",
      " Best F1 (inner): 0.778691704486325\n",
      " Fold 6 F1 (outer): 1.0\n",
      "fold: 7 / 21\n",
      "Inner loop - F1: 0.717735433964838: 100%|██████████| 432/432 [15:31<00:00,  2.16s/it] \n",
      " Best F1 (inner): 0.7728292701871255\n",
      " Fold 7 F1 (outer): 1.0\n",
      "fold: 8 / 21\n",
      "Inner loop - F1: 0.7405865721234686: 100%|██████████| 432/432 [15:32<00:00,  2.16s/it]\n",
      " Best F1 (inner): 0.7982313825690145\n",
      " Fold 8 F1 (outer): 0.5333333333333333\n",
      "fold: 9 / 21\n",
      "Inner loop - F1: 0.7053381883400149: 100%|██████████| 432/432 [16:43<00:00,  2.32s/it]\n",
      " Best F1 (inner): 0.7788744031732884\n",
      " Fold 9 F1 (outer): 0.6\n",
      "fold: 10 / 21\n",
      "Inner loop - F1: 0.7213825575046722: 100%|██████████| 432/432 [16:49<00:00,  2.34s/it]\n",
      " Best F1 (inner): 0.780537814792039\n",
      " Fold 10 F1 (outer): 0.6428571428571428\n",
      "fold: 11 / 21\n",
      "Inner loop - F1: 0.732463709763102: 100%|██████████| 432/432 [16:19<00:00,  2.27s/it] \n",
      " Best F1 (inner): 0.7824668287446819\n",
      " Fold 11 F1 (outer): 0.819047619047619\n",
      "fold: 12 / 21\n",
      "Inner loop - F1: 0.7520371095707831: 100%|██████████| 432/432 [16:45<00:00,  2.33s/it]\n",
      " Best F1 (inner): 0.7809407734474975\n",
      " Fold 12 F1 (outer): 0.20454545454545453\n",
      "fold: 13 / 21\n",
      "Inner loop - F1: 0.6934442894609758: 100%|██████████| 432/432 [17:33<00:00,  2.44s/it]\n",
      " Best F1 (inner): 0.7850852915719677\n",
      " Fold 13 F1 (outer): 0.8000000000000002\n",
      "fold: 14 / 21\n",
      "Inner loop - F1: 0.7122497049908716: 100%|██████████| 432/432 [17:04<00:00,  2.37s/it]\n",
      " Best F1 (inner): 0.76816139717791\n",
      " Fold 14 F1 (outer): 1.0\n",
      "fold: 15 / 21\n",
      "Inner loop - F1: 0.7378442396156469: 100%|██████████| 432/432 [16:09<00:00,  2.25s/it]\n",
      " Best F1 (inner): 0.786503229639852\n",
      " Fold 15 F1 (outer): 0.5142857142857143\n",
      "fold: 16 / 21\n",
      "Inner loop - F1: 0.7105057009037887: 100%|██████████| 432/432 [16:47<00:00,  2.33s/it]\n",
      " Best F1 (inner): 0.7878910127632539\n",
      " Fold 16 F1 (outer): 0.8571428571428571\n",
      "fold: 17 / 21\n",
      "Inner loop - F1: 0.785745495139625: 100%|██████████| 432/432 [15:03<00:00,  2.09s/it] \n",
      " Best F1 (inner): 0.8382181796282844\n",
      " Fold 17 F1 (outer): 0.47001051753526996\n",
      "fold: 18 / 21\n",
      "Inner loop - F1: 0.6257715813598167: 100%|██████████| 432/432 [14:58<00:00,  2.08s/it]\n",
      " Best F1 (inner): 0.7161656203363049\n",
      " Fold 18 F1 (outer): 0.8194039315155358\n",
      "fold: 19 / 21\n",
      "Inner loop - F1: 0.7397583615806449: 100%|██████████| 432/432 [16:46<00:00,  2.33s/it]\n",
      " Best F1 (inner): 0.7892497453504571\n",
      " Fold 19 F1 (outer): 0.3088235294117647\n",
      "fold: 20 / 21\n",
      "Inner loop - F1: 0.6836502903162034: 100%|██████████| 432/432 [16:18<00:00,  2.26s/it]\n",
      " Best F1 (inner): 0.7410047125598218\n",
      " Fold 20 F1 (outer): 0.9237389433420989\n",
      "fold: 21 / 21\n",
      "Inner loop - F1: 0.7443416842344831: 100%|██████████| 432/432 [16:35<00:00,  2.30s/it]\n",
      " Best F1 (inner): 0.7841199365276763\n",
      " Fold 21 F1 (outer): 0.7083333333333333\n",
      "Performance model:\n",
      " accuracy: 0.696 +- 0.228 \n",
      "\n",
      " balanced_accuracy: 0.662 +- 0.221 \n",
      "\n",
      " f1: 0.681 +- 0.27 \n",
      "\n",
      " recall: 0.696 +- 0.228 \n",
      "\n",
      " precision: 0.753 +- 0.299 \n",
      "\n",
      "Starting cross-validation for Mental fatigue\n",
      "fold: 1 / 21\n",
      "Inner loop - F1: 0.6234944126301591: 100%|██████████| 432/432 [17:44<00:00,  2.46s/it]\n",
      " Best F1 (inner): 0.6960175201414339\n",
      " Fold 1 F1 (outer): 0.5\n",
      "fold: 2 / 21\n",
      "Inner loop - F1: 0.6068185353393047: 100%|██████████| 432/432 [17:48<00:00,  2.47s/it]\n",
      " Best F1 (inner): 0.7162832117844122\n",
      " Fold 2 F1 (outer): 0.5142857142857143\n",
      "fold: 3 / 21\n",
      "Inner loop - F1: 0.5974293217725453: 100%|██████████| 432/432 [17:37<00:00,  2.45s/it]\n",
      " Best F1 (inner): 0.6990515408065402\n",
      " Fold 3 F1 (outer): 0.6666666666666666\n",
      "fold: 4 / 21\n",
      "Inner loop - F1: 0.6069516374036127: 100%|██████████| 432/432 [17:04<00:00,  2.37s/it]\n",
      " Best F1 (inner): 0.698090243090243\n",
      " Fold 4 F1 (outer): 0.0\n",
      "fold: 5 / 21\n",
      "Inner loop - F1: 0.5987509920185746: 100%|██████████| 432/432 [16:42<00:00,  2.32s/it]\n",
      " Best F1 (inner): 0.6910290849623564\n",
      " Fold 5 F1 (outer): 0.5\n",
      "fold: 6 / 21\n",
      "Inner loop - F1: 0.5962573452963189: 100%|██████████| 432/432 [16:46<00:00,  2.33s/it]\n",
      " Best F1 (inner): 0.697037166364015\n",
      " Fold 6 F1 (outer): 0.2\n",
      "fold: 7 / 21\n",
      "Inner loop - F1: 0.6244616524518823: 100%|██████████| 432/432 [17:41<00:00,  2.46s/it]\n",
      " Best F1 (inner): 0.7075709846331785\n",
      " Fold 7 F1 (outer): 1.0\n",
      "fold: 8 / 21\n",
      "Inner loop - F1: 0.6021399355408394: 100%|██████████| 432/432 [18:14<00:00,  2.53s/it]\n",
      " Best F1 (inner): 0.7052085541084567\n",
      " Fold 8 F1 (outer): 0.7500000000000001\n",
      "fold: 9 / 21\n",
      "Inner loop - F1: 0.6016339030201491: 100%|██████████| 432/432 [18:19<00:00,  2.54s/it]\n",
      " Best F1 (inner): 0.7009301949096767\n",
      " Fold 9 F1 (outer): 0.6233766233766234\n",
      "fold: 10 / 21\n",
      "Inner loop - F1: 0.601811128613581: 100%|██████████| 432/432 [18:31<00:00,  2.57s/it] \n",
      " Best F1 (inner): 0.7068591274445627\n",
      " Fold 10 F1 (outer): 0.0\n",
      "fold: 11 / 21\n",
      "Inner loop - F1: 0.6084370966210112: 100%|██████████| 432/432 [17:23<00:00,  2.41s/it]\n",
      " Best F1 (inner): 0.6976614346749044\n",
      " Fold 11 F1 (outer): 0.819047619047619\n",
      "fold: 12 / 21\n",
      "Inner loop - F1: 0.5912814259335721: 100%|██████████| 432/432 [17:36<00:00,  2.44s/it]\n",
      " Best F1 (inner): 0.6917878750387113\n",
      " Fold 12 F1 (outer): 0.3650793650793651\n",
      "fold: 13 / 21\n",
      "Inner loop - F1: 0.6048438374986336: 100%|██████████| 432/432 [17:53<00:00,  2.48s/it]\n",
      " Best F1 (inner): 0.712768205537386\n",
      " Fold 13 F1 (outer): 0.6666666666666666\n",
      "fold: 14 / 21\n",
      "Inner loop - F1: 0.5942948537662552: 100%|██████████| 432/432 [18:34<00:00,  2.58s/it]\n",
      " Best F1 (inner): 0.6908203255281931\n",
      " Fold 14 F1 (outer): 0.6666666666666666\n",
      "fold: 15 / 21\n",
      "Inner loop - F1: 0.6005680733550417: 100%|██████████| 432/432 [19:47<00:00,  2.75s/it]\n",
      " Best F1 (inner): 0.6908110012967612\n",
      " Fold 15 F1 (outer): 0.25\n",
      "fold: 16 / 21\n",
      "Inner loop - F1: 0.6260378948513589: 100%|██████████| 432/432 [17:33<00:00,  2.44s/it]\n",
      " Best F1 (inner): 0.7121383269372309\n",
      " Fold 16 F1 (outer): 0.6428571428571428\n",
      "fold: 17 / 21\n",
      "Inner loop - F1: 0.6295807666979025: 100%|██████████| 432/432 [14:53<00:00,  2.07s/it]\n",
      " Best F1 (inner): 0.7414244516187222\n",
      " Fold 17 F1 (outer): 0.4352714318397228\n",
      "fold: 18 / 21\n",
      "Inner loop - F1: 0.5949598997414465: 100%|██████████| 432/432 [14:20<00:00,  1.99s/it]\n",
      " Best F1 (inner): 0.6676356876851165\n",
      " Fold 18 F1 (outer): 0.7059448122173428\n",
      "fold: 19 / 21\n",
      "Inner loop - F1: 0.6064290863820274:  96%|█████████▌| 414/432 [14:34<02:43,  9.06s/it]"
     ]
    }
   ],
   "source": [
    "%%time\n",
    "# nested CV\n",
    "groups = subjects\n",
    "folds_outer = len(np.unique(subjects))\n",
    "folds_inner = 5\n",
    "\n",
    "with warnings.catch_warnings():\n",
    "    # ignore sklearn warning\n",
    "    warnings.filterwarnings('ignore')\n",
    "\n",
    "    for fatigue in ('Physical fatigue', 'Mental fatigue'):\n",
    "        # load labels\n",
    "        print(f'Starting cross-validation for {fatigue}')\n",
    "        y_ = {'Physical fatigue': y_phf, 'Mental fatigue': y_mf}[fatigue] # pick phF or MF\n",
    "\n",
    "        # 1) outer loop: performance evaluation\n",
    "        outer_cv = LeaveOneGroupOut()\n",
    "        scores_cv = []\n",
    "        for i, (train_outer_index, test_outer_index) in enumerate(outer_cv.split(X, y_, groups)):\n",
    "            print(f'fold: {i+1} / {folds_outer}')\n",
    "\n",
    "            # train/test split\n",
    "            X_train, X_test = X[train_outer_index], X[test_outer_index]\n",
    "            y_train, y_test = y_[train_outer_index], y_[test_outer_index]\n",
    "\n",
    "            # normalize features (acc.to train set)\n",
    "            if NORMALIZE_TRAIN:\n",
    "                scaler = StandardScaler()\n",
    "                scaler.fit(X_train)\n",
    "                X_train = scaler.transform(X_train, copy=True)\n",
    "                X_test = scaler.transform(X_test, copy=True)\n",
    "\n",
    "            # 2) inner loop: hyperparameter tuning\n",
    "            inner_cv = StratifiedKFold(n_splits=folds_inner, shuffle=True, random_state=SEED2) if SHUFFLE \\\n",
    "                else StratifiedKFold(n_splits=folds_inner) # TODO: shuffle?\n",
    "            # we test every combination of parameters by CV\n",
    "            combinations = {}\n",
    "            with tqdm(total=len(n_trees) * len(max_features) * len(max_depths) *\n",
    "                            len(criterions) * len(min_samples_splits),\n",
    "                      file=sys.stdout) as pbar:\n",
    "                for n_tree in n_trees:\n",
    "                    for max_feature in max_features:\n",
    "                        for max_depth in max_depths:\n",
    "                            for criterion in criterions:\n",
    "                                for min_sample_split in min_samples_splits:\n",
    "                                    # model\n",
    "                                    rf = RandomForestClassifier(n_estimators=n_tree,\n",
    "                                                                criterion=criterion,\n",
    "                                                                max_depth=max_depth,\n",
    "                                                                min_samples_split=min_sample_split,\n",
    "                                                                max_features=max_feature)\n",
    "\n",
    "                                    # CV\n",
    "                                    scores = cross_val_score(rf, X_train, y_train, cv=inner_cv, scoring='f1_weighted')\n",
    "\n",
    "                                    # store score\n",
    "                                    combination = (n_tree, max_feature, max_depth, criterion, min_sample_split)\n",
    "                                    combinations[combination] = np.mean(scores)\n",
    "\n",
    "                                    # for progress bar\n",
    "                                    pbar.update(1)\n",
    "                                    pbar.set_description(f\"Inner loop - F1: {np.mean(scores)}\")\n",
    "\n",
    "            # best hyperparams\n",
    "            best_combination, best_score = sorted(list(combinations.items()), key=lambda item: item[1])[-1]\n",
    "\n",
    "            # for visualization\n",
    "            print(f' Best F1 (inner): {best_score}')\n",
    "\n",
    "            # use model with best hyperparams\n",
    "            rf = RandomForestClassifier(n_estimators=best_combination[0],\n",
    "                                        criterion=best_combination[3],\n",
    "                                        max_depth=best_combination[2],\n",
    "                                        min_samples_split=best_combination[4],\n",
    "                                        max_features=best_combination[1])\n",
    "            rf.fit(X_train, y_train)\n",
    "\n",
    "            # evaluate\n",
    "            y_pred = rf.predict(X_test)\n",
    "            scores = evaluator(y_pred, y_test, verbose=False)\n",
    "            scores_cv.append(scores)\n",
    "\n",
    "            # for visualization\n",
    "            print(f' Fold {i+1} F1 (outer): {scores[\"f1\"]}')\n",
    "\n",
    "        # final evaluation\n",
    "        print('Performance model:')\n",
    "        metrics = scores_cv[0].keys()\n",
    "        for metric in metrics:\n",
    "            # ignore confusion_matrix\n",
    "            if metric == 'confusion':\n",
    "                continue\n",
    "            mean = np.mean([scores_cv_i[metric] for scores_cv_i in scores_cv])\n",
    "            std = np.std([scores_cv_i[metric] for scores_cv_i in scores_cv])\n",
    "            print(f' {metric}: {round(mean, 3)} +- {round(std, 3)} \\n')"
   ],
   "metadata": {
    "collapsed": false,
    "pycharm": {
     "name": "#%%\n",
     "is_executing": true
    }
   }
  },
  {
   "cell_type": "code",
   "execution_count": null,
   "outputs": [],
   "source": [],
   "metadata": {
    "collapsed": false,
    "pycharm": {
     "name": "#%%\n"
    }
   }
  }
 ],
 "metadata": {
  "kernelspec": {
   "display_name": "Python 3 (ipykernel)",
   "language": "python",
   "name": "python3"
  },
  "language_info": {
   "codemirror_mode": {
    "name": "ipython",
    "version": 3
   },
   "file_extension": ".py",
   "mimetype": "text/x-python",
   "name": "python",
   "nbconvert_exporter": "python",
   "pygments_lexer": "ipython3",
   "version": "3.10.6"
  }
 },
 "nbformat": 4,
 "nbformat_minor": 1
}