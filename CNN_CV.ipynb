{
 "cells": [
  {
   "cell_type": "markdown",
   "source": [
    "using:\n",
    "- subject-wise normalization\n",
    "- segment length of 200"
   ],
   "metadata": {
    "collapsed": false
   }
  },
  {
   "cell_type": "code",
   "execution_count": 2,
   "metadata": {
    "collapsed": true
   },
   "outputs": [],
   "source": [
    "import tensorflow as tf\n",
    "from tensorflow.keras import models, Model\n",
    "from tensorflow.keras.applications import MobileNetV2\n",
    "from tensorflow.keras.layers import Dense, Conv2D, Flatten, MaxPool2D, BatchNormalization, Dropout, Input, Concatenate, GlobalAvgPool2D\n",
    "from tensorflow.keras.optimizers import Adam\n",
    "from tensorflow.keras.utils import Sequence\n",
    "from tensorflow.keras.callbacks import EarlyStopping, ModelCheckpoint, Callback\n",
    "from sklearn.metrics import accuracy_score, balanced_accuracy_score, f1_score, precision_score, recall_score, confusion_matrix, ConfusionMatrixDisplay\n",
    "import numpy as np\n",
    "import matplotlib.pyplot as plt\n",
    "import os\n",
    "import json"
   ]
  },
  {
   "cell_type": "code",
   "execution_count": 21,
   "outputs": [],
   "source": [
    "def evaluator(y_pred, y_true, verbose=False):\n",
    "    \"\"\"Returns evaluation metric scores\"\"\"\n",
    "    accuracy = accuracy_score(y_pred=y_pred, y_true=y_true)\n",
    "    balanced_accuracy = balanced_accuracy_score(y_pred=y_pred, y_true=y_true)\n",
    "    f1 = f1_score(y_pred=y_pred, y_true=y_true, average='weighted')\n",
    "    recall = recall_score(y_pred=y_pred, y_true=y_true, average='weighted')\n",
    "    precision = precision_score(y_pred=y_pred, y_true=y_true, average='weighted')\n",
    "    confusion = confusion_matrix(y_pred=y_pred, y_true=y_true)\n",
    "\n",
    "    # display scores\n",
    "    if verbose:\n",
    "        ConfusionMatrixDisplay(confusion_matrix=confusion, display_labels=[False, True]).plot(cmap=plt.cm.Blues)\n",
    "        plt.title('Physical fatigue')\n",
    "\n",
    "        print(f'accuracy: {accuracy}\\n'\n",
    "              f'balanced accuracy: {balanced_accuracy}\\n'\n",
    "              f'f1 (weighted): {f1}\\n'\n",
    "              f'recall (weighted): {recall}\\n'\n",
    "              f'precision (weighted): {precision}')\n",
    "\n",
    "    return {'accuracy': accuracy,\n",
    "            'balanced_accuracy': balanced_accuracy,\n",
    "            'f1': f1,\n",
    "            'recall': recall,\n",
    "            'precision': precision}\n",
    "\n",
    "def test_set_evaluator(model, path, test_indices, verbose=True):\n",
    "    # load + predict test data\n",
    "    y_true = np.empty(len(test_indices), dtype=int)\n",
    "    y_pred = np.empty(len(test_indices), dtype=float)\n",
    "\n",
    "    for i, index in enumerate(test_indices):\n",
    "        X_i = np.load(path + f'/feature_vector{index}.npy', allow_pickle=True)\n",
    "        y_true_i = np.load(path + f'/labels{index}.npy', allow_pickle=True)[variable]\n",
    "\n",
    "        X_i = tf.expand_dims(X_i, axis=0) # add \"batch dimension\"\n",
    "        logits_pred_i = model.predict(X_i)\n",
    "\n",
    "        y_true[i] = y_true_i\n",
    "        y_pred[i] = logits_pred_i\n",
    "\n",
    "    y_probs = tf.math.sigmoid(y_pred)\n",
    "    y_pred = tf.round(y_probs)\n",
    "\n",
    "    # print metrics\n",
    "    scores = evaluator(y_pred, y_true, verbose=verbose)\n",
    "\n",
    "    # plot distribution of predictions\n",
    "    if verbose:\n",
    "        plt.subplots_adjust(left=0.1,\n",
    "                            bottom=0.01,\n",
    "                            right=1.2,\n",
    "                            top=0.6,\n",
    "                            wspace=0.4,\n",
    "                            hspace=0.4)\n",
    "\n",
    "        # predicted probabilities\n",
    "        plt.subplot(1, 2, 1)\n",
    "        plt.hist(y_probs)\n",
    "        plt.title('P(y == 1)')\n",
    "        plt.vlines(x=0.5, ymin=0, ymax=len(y_probs), color='red')\n",
    "\n",
    "        # predicted labels\n",
    "        plt.subplot(1, 2, 2)\n",
    "        plt.hist(y_pred)\n",
    "        plt.title('Labels')\n",
    "\n",
    "        plt.show()\n",
    "\n",
    "    return scores"
   ],
   "metadata": {
    "collapsed": false,
    "pycharm": {
     "name": "#%%\n"
    }
   }
  },
  {
   "cell_type": "code",
   "execution_count": 4,
   "outputs": [],
   "source": [
    "VARIABLES = ['ActivityCounts', 'Barometer', 'BloodPerfusion',\n",
    "             'BloodPulseWave', 'EnergyExpenditure', 'HR',\n",
    "             'HRV', 'RESP', 'Steps', 'SkinTemperature']"
   ],
   "metadata": {
    "collapsed": false,
    "pycharm": {
     "name": "#%%\n"
    }
   }
  },
  {
   "cell_type": "code",
   "execution_count": 5,
   "outputs": [],
   "source": [
    "GRAYSCALE = False # grayscale or rgb"
   ],
   "metadata": {
    "collapsed": false,
    "pycharm": {
     "name": "#%%\n"
    }
   }
  },
  {
   "cell_type": "markdown",
   "source": [
    "# Import data"
   ],
   "metadata": {
    "collapsed": false
   }
  },
  {
   "cell_type": "code",
   "execution_count": 6,
   "outputs": [],
   "source": [
    "variable = {'phF': 0, 'MF': 1}['phF'] # TODO: for now just classify one variable"
   ],
   "metadata": {
    "collapsed": false,
    "pycharm": {
     "name": "#%%\n"
    }
   }
  },
  {
   "cell_type": "code",
   "execution_count": 7,
   "outputs": [],
   "source": [
    "path = './Output'"
   ],
   "metadata": {
    "collapsed": false,
    "pycharm": {
     "name": "#%%\n"
    }
   }
  },
  {
   "cell_type": "code",
   "execution_count": 8,
   "outputs": [],
   "source": [
    "# dimensions\n",
    "N, HEIGHT, WIDTH, CHANNELS = sum([1 for p in os.listdir(path) if (p[:14] == 'feature_vector' and p[:19] != 'feature_vector_stat')]), \\\n",
    "                             *np.load(path + '/feature_vector0.npy').shape\n",
    "CHANNELS = len(VARIABLES) if GRAYSCALE else CHANNELS # reduce channels for grayscale\n",
    "\n",
    "# metadata (subjectID etc.)\n",
    "with open(path + '/metadata.txt') as f:\n",
    "    metadata = f.read()\n",
    "metadata = json.loads(metadata.replace('\\'', '\\\"').replace('False', 'false').replace('True', 'true')) # doesn't accept other chars"
   ],
   "metadata": {
    "collapsed": false,
    "pycharm": {
     "name": "#%%\n"
    }
   }
  },
  {
   "cell_type": "code",
   "execution_count": 9,
   "outputs": [
    {
     "name": "stdout",
     "output_type": "stream",
     "text": [
      "Total datapoints: 1218\n"
     ]
    }
   ],
   "source": [
    "print(f'Total datapoints: {N}')"
   ],
   "metadata": {
    "collapsed": false,
    "pycharm": {
     "name": "#%%\n"
    }
   }
  },
  {
   "cell_type": "markdown",
   "source": [
    "# Define data generator"
   ],
   "metadata": {
    "collapsed": false
   }
  },
  {
   "cell_type": "code",
   "execution_count": 10,
   "outputs": [],
   "source": [
    "# image-wise\n",
    "def rgb2gray(rgb):\n",
    "    \"\"\"greyscale = 0.2989 * red + 0.5870 * green + 0.1140 * blue\"\"\"\n",
    "    return np.dot(rgb[:, :, :3], [0.2989, 0.5870, 0.1140])"
   ],
   "metadata": {
    "collapsed": false,
    "pycharm": {
     "name": "#%%\n"
    }
   }
  },
  {
   "cell_type": "code",
   "execution_count": 11,
   "outputs": [],
   "source": [
    "class DataGenerator(Sequence):\n",
    "\n",
    "    def __init__(self, data_path: str, indices_dataset: list, batch_size=32, dim=(HEIGHT, WIDTH), n_channels=CHANNELS, shuffle=True):\n",
    "        self.data_path = data_path # path to full dataset\n",
    "        self.dim = dim # image dimension\n",
    "        self.batch_size = batch_size\n",
    "        self.indices_dataset = indices_dataset # indices of full dataset (different for train/validation/test set)\n",
    "        self.n_channels = n_channels\n",
    "        self.shuffle = shuffle\n",
    "\n",
    "        self.on_epoch_end() # shuffle data for each epoch\n",
    "\n",
    "    def on_epoch_end(self):\n",
    "        \"\"\"\n",
    "        Shuffle data for each epoch\n",
    "        \"\"\"\n",
    "        if self.shuffle:\n",
    "            np.random.shuffle(self.indices_dataset)\n",
    "\n",
    "    def __data_generation(self, indices):\n",
    "        \"\"\"\n",
    "        Loads and returns datapoints[indices]\n",
    "        \"\"\"\n",
    "        # init\n",
    "        X = np.empty((self.batch_size, *self.dim, self.n_channels))\n",
    "        y = np.empty(self.batch_size, dtype=float) # TODO: int for non-logits\n",
    "\n",
    "        # load individual datapoints\n",
    "        for i, index in enumerate(indices):\n",
    "            images = np.load(self.data_path + f'/feature_vector{index}.npy', allow_pickle=True)\n",
    "            if GRAYSCALE:\n",
    "                images_gray = np.empty((HEIGHT, WIDTH, self.n_channels))\n",
    "                for j in range(len(VARIABLES)):\n",
    "                    image_rgb = images[:, :, (3 * j): (3 * (j + 1))]\n",
    "                    image_gray = rgb2gray(image_rgb)\n",
    "                    images_gray[:, :, j] = image_gray\n",
    "                images = images_gray\n",
    "\n",
    "            X[i, ] = images\n",
    "            y[i] = np.load(self.data_path + f'/labels{index}.npy', allow_pickle=True)[variable] # TODO: for now just one variable\n",
    "\n",
    "        return X, y\n",
    "\n",
    "    def __len__(self):\n",
    "        \"\"\"\n",
    "        Number of batches per epoch\n",
    "        \"\"\"\n",
    "        return int(np.floor(len(self.indices_dataset) / self.batch_size))\n",
    "\n",
    "    def __getitem__(self, index):\n",
    "        \"\"\"\n",
    "        Generates batch[index]\n",
    "        \"\"\"\n",
    "        # calculate indices of batch\n",
    "        indices = self.indices_dataset[index * self.batch_size:(index + 1) * self.batch_size]\n",
    "\n",
    "        # generate batch\n",
    "        X, y = self.__data_generation(indices)\n",
    "\n",
    "        return X, y"
   ],
   "metadata": {
    "collapsed": false,
    "pycharm": {
     "name": "#%%\n"
    }
   }
  },
  {
   "cell_type": "markdown",
   "source": [
    "# CNN"
   ],
   "metadata": {
    "collapsed": false
   }
  },
  {
   "cell_type": "markdown",
   "source": [
    "Data generators"
   ],
   "metadata": {
    "collapsed": false
   }
  },
  {
   "cell_type": "code",
   "execution_count": 12,
   "outputs": [
    {
     "data": {
      "text/plain": "'training_batch_generator = DataGenerator(data_path=path, indices_dataset=training_indices, batch_size=16)'"
     },
     "execution_count": 12,
     "metadata": {},
     "output_type": "execute_result"
    }
   ],
   "source": [
    "'''training_batch_generator = DataGenerator(data_path=path, indices_dataset=training_indices, batch_size=16)'''"
   ],
   "metadata": {
    "collapsed": false,
    "pycharm": {
     "name": "#%%\n"
    }
   }
  },
  {
   "cell_type": "markdown",
   "source": [
    "Loss function"
   ],
   "metadata": {
    "collapsed": false
   }
  },
  {
   "cell_type": "code",
   "execution_count": 13,
   "outputs": [],
   "source": [
    "# loss function\n",
    "def weighted_cross_entropy(weight):\n",
    "    def weighted_cross_entropy_with_logits(labels, logits):\n",
    "        loss = tf.nn.weighted_cross_entropy_with_logits(\n",
    "            labels, logits, weight\n",
    "        )\n",
    "        return loss\n",
    "    return weighted_cross_entropy_with_logits\n",
    "\n",
    "# weight (imbalanced classes)\n",
    "def check_imbalance(path_to_labels, indices):\n",
    "    \"\"\"Returns indices of positives/negatives\"\"\"\n",
    "    y = np.empty((len(indices), 2), dtype=int)\n",
    "    for i, index in enumerate(indices):\n",
    "        y[i, ] = np.load(path_to_labels + f'/labels{index}.npy', allow_pickle=True)\n",
    "\n",
    "    positives = np.where(y[:, variable] == 1)[0] # TODO: for now just one variable\n",
    "    negatives = np.where(y[:, variable] == 0)[0] # TODO: for now just one variable\n",
    "\n",
    "    return np.array(indices)[positives], np.array(indices)[negatives]\n",
    "\n",
    "def get_weighting_factor(path, train_set_indices):\n",
    "    positives, negatives = check_imbalance(path, train_set_indices)\n",
    "    sample_weight = len(negatives) / len(positives) # for weighted cross-entropy\n",
    "    return sample_weight"
   ],
   "metadata": {
    "collapsed": false,
    "pycharm": {
     "name": "#%%\n"
    }
   }
  },
  {
   "cell_type": "markdown",
   "source": [
    "Model"
   ],
   "metadata": {
    "collapsed": false
   }
  },
  {
   "cell_type": "code",
   "execution_count": 14,
   "outputs": [],
   "source": [
    "# TODO: make possible for grayscale\n",
    "class CNN(tf.keras.Model):\n",
    "\n",
    "    def __init__(self, name='custom_CNN', **kwargs):\n",
    "        super(CNN, self).__init__(name, **kwargs)\n",
    "\n",
    "        self.in_shape = (HEIGHT, WIDTH, CHANNELS)\n",
    "        self.in_shape_mobilenet = (HEIGHT, WIDTH, 3)\n",
    "\n",
    "        # MobileNetV2 embedding\n",
    "        self.mobilenet = MobileNetV2(input_shape=self.in_shape_mobilenet, weights='imagenet', include_top=False)\n",
    "        self.mobilenet._name = 'mobilenet'\n",
    "        self.mobilenet.trainable = False\n",
    "        self.finetuning = False\n",
    "        self.out_shape_mobilenet = self.mobilenet.layers[-1].output_shape # for one spectrogram\n",
    "\n",
    "        # Concatenation\n",
    "        self.concat = Concatenate(name='concat')\n",
    "\n",
    "        # Global pooling\n",
    "        self.pool = GlobalAvgPool2D(name='global_avg_pool')\n",
    "\n",
    "        # TODO: more sophisticated dense (dropout, regularizer, init., ...)\n",
    "        # Fully-connected network\n",
    "        self.flatten = Flatten(name='flatten', input_shape=(self.out_shape_mobilenet * (CHANNELS // 3), ))\n",
    "        self.dense = Dense(1, name='dense') # keep logits\n",
    "        self.out_shape = 1\n",
    "\n",
    "        # build graph\n",
    "        self.build_graph()\n",
    "\n",
    "    def build_graph(self):\n",
    "        self.build(input_shape=(None, *self.in_shape))\n",
    "        x = Input(shape=self.in_shape)\n",
    "        Model(inputs=[x], outputs=self.call(x))\n",
    "\n",
    "    def set_finetuning(self, mode=True):\n",
    "        self.finetuning = mode\n",
    "        self.mobilenet.trainable = mode\n",
    "\n",
    "        for layers in self.mobilenet.layers:\n",
    "            layers.trainable = False\n",
    "\n",
    "        # \"activate\" last conv layer of MobileNet\n",
    "        self.mobilenet.layers[-3].trainable = mode\n",
    "        self.mobilenet.layers[-2].trainable = mode\n",
    "\n",
    "    def call(self, inputs):\n",
    "        \"\"\"\n",
    "        Model predictions (logits)\n",
    "        :param inputs: all spectrograms of shape (HEIGHT, WIDTH, CHANNELS)\n",
    "        :return: class prediction (logits)\n",
    "        \"\"\"\n",
    "        # MobileNetV2 embeddings\n",
    "        x = [self.mobilenet(inputs[..., i:i+3], training=self.finetuning) for i in range(0, CHANNELS, 3)]\n",
    "\n",
    "        # Concatenation\n",
    "        x = self.concat(x)\n",
    "\n",
    "        # Global pooling\n",
    "        x = self.pool(x)\n",
    "\n",
    "        # Fully-connected network\n",
    "        x = self.flatten(x)\n",
    "        x = self.dense(x)\n",
    "\n",
    "        return x"
   ],
   "metadata": {
    "collapsed": false,
    "pycharm": {
     "name": "#%%\n"
    }
   }
  },
  {
   "cell_type": "markdown",
   "source": [
    "# Stratified Group k-Fold CV"
   ],
   "metadata": {
    "collapsed": false
   }
  },
  {
   "cell_type": "markdown",
   "source": [
    "### TODO: augmentations in CV?"
   ],
   "metadata": {
    "collapsed": false
   }
  },
  {
   "cell_type": "code",
   "execution_count": 15,
   "outputs": [],
   "source": [
    "from sklearn.model_selection import StratifiedGroupKFold\n",
    "from tqdm import tqdm\n",
    "import warnings"
   ],
   "metadata": {
    "collapsed": false,
    "pycharm": {
     "name": "#%%\n"
    }
   }
  },
  {
   "cell_type": "code",
   "execution_count": 18,
   "outputs": [
    {
     "data": {
      "text/plain": "[1,\n 1,\n 1,\n 1,\n 1,\n 1,\n 1,\n 1,\n 1,\n 1,\n 1,\n 1,\n 1,\n 1,\n 1,\n 1,\n 1,\n 1,\n 3,\n 3,\n 3,\n 3,\n 3,\n 3,\n 3,\n 3,\n 3,\n 3,\n 3,\n 3,\n 3,\n 3,\n 3,\n 3,\n 3,\n 3,\n 3,\n 3,\n 3,\n 3,\n 4,\n 4,\n 4,\n 4,\n 4,\n 4,\n 4,\n 4,\n 4,\n 4,\n 4,\n 4,\n 4,\n 4,\n 4,\n 4,\n 5,\n 5,\n 5,\n 5,\n 5,\n 5,\n 5,\n 5,\n 5,\n 5,\n 5,\n 7,\n 7,\n 7,\n 7,\n 7,\n 8,\n 8,\n 8,\n 8,\n 8,\n 8,\n 8,\n 8,\n 8,\n 8,\n 8,\n 8,\n 8,\n 8,\n 8,\n 8,\n 8,\n 8,\n 8,\n 9,\n 9,\n 9,\n 9,\n 9,\n 9,\n 9,\n 9,\n 9,\n 9,\n 9,\n 9,\n 9,\n 9,\n 9,\n 9,\n 9,\n 9,\n 9,\n 9,\n 10,\n 10,\n 10,\n 10,\n 10,\n 10,\n 10,\n 10,\n 10,\n 10,\n 10,\n 10,\n 10,\n 10,\n 11,\n 11,\n 11,\n 11,\n 11,\n 11,\n 11,\n 11,\n 11,\n 11,\n 11,\n 11,\n 11,\n 11,\n 11,\n 11,\n 11,\n 11,\n 11,\n 12,\n 12,\n 12,\n 12,\n 12,\n 12,\n 12,\n 12,\n 12,\n 12,\n 12,\n 12,\n 12,\n 12,\n 12,\n 12,\n 12,\n 12,\n 12,\n 12,\n 13,\n 13,\n 13,\n 13,\n 13,\n 13,\n 13,\n 13,\n 13,\n 13,\n 13,\n 13,\n 13,\n 13,\n 13,\n 13,\n 13,\n 13,\n 14,\n 14,\n 14,\n 14,\n 14,\n 14,\n 14,\n 14,\n 14,\n 14,\n 14,\n 14,\n 14,\n 14,\n 14,\n 14,\n 15,\n 15,\n 15,\n 15,\n 15,\n 15,\n 15,\n 15,\n 15,\n 15,\n 16,\n 16,\n 16,\n 16,\n 16,\n 16,\n 16,\n 16,\n 16,\n 16,\n 16,\n 16,\n 16,\n 16,\n 16,\n 16,\n 16,\n 17,\n 17,\n 17,\n 17,\n 17,\n 17,\n 17,\n 17,\n 17,\n 17,\n 17,\n 17,\n 17,\n 17,\n 17,\n 17,\n 17,\n 17,\n 17,\n 19,\n 19,\n 19,\n 19,\n 19,\n 19,\n 19,\n 19,\n 19,\n 19,\n 19,\n 19,\n 19,\n 19,\n 19,\n 19,\n 20,\n 20,\n 20,\n 20,\n 20,\n 21,\n 21,\n 21,\n 21,\n 21,\n 21,\n 21,\n 21,\n 21,\n 21,\n 21,\n 21,\n 21,\n 21,\n 21,\n 21,\n 21,\n 21,\n 21,\n 22,\n 22,\n 22,\n 22,\n 22,\n 22,\n 22,\n 22,\n 23,\n 23,\n 23,\n 23,\n 23,\n 23,\n 23,\n 23,\n 23,\n 23,\n 23,\n 23,\n 23,\n 23,\n 23,\n 23,\n 23,\n 23,\n 23,\n 23,\n 23,\n 23,\n 23,\n 23,\n 23,\n 23,\n 23,\n 23,\n 23,\n 23,\n 23,\n 23,\n 23,\n 23,\n 23,\n 23,\n 23,\n 23,\n 23,\n 23,\n 23,\n 23,\n 23,\n 23,\n 23,\n 23,\n 23,\n 23,\n 23,\n 23,\n 23,\n 23,\n 23,\n 23,\n 23,\n 23,\n 23,\n 23,\n 23,\n 23,\n 23,\n 23,\n 23,\n 23,\n 23,\n 23,\n 23,\n 23,\n 23,\n 23,\n 23,\n 23,\n 23,\n 23,\n 23,\n 23,\n 23,\n 23,\n 23,\n 23,\n 23,\n 23,\n 23,\n 23,\n 23,\n 23,\n 23,\n 23,\n 23,\n 23,\n 23,\n 23,\n 23,\n 23,\n 23,\n 23,\n 23,\n 23,\n 23,\n 23,\n 23,\n 23,\n 23,\n 23,\n 23,\n 23,\n 23,\n 23,\n 23,\n 23,\n 23,\n 23,\n 23,\n 23,\n 23,\n 23,\n 23,\n 23,\n 23,\n 23,\n 23,\n 23,\n 23,\n 23,\n 23,\n 23,\n 23,\n 23,\n 23,\n 23,\n 23,\n 23,\n 23,\n 23,\n 23,\n 23,\n 23,\n 23,\n 23,\n 23,\n 23,\n 23,\n 23,\n 23,\n 23,\n 23,\n 23,\n 23,\n 23,\n 23,\n 23,\n 23,\n 23,\n 23,\n 23,\n 23,\n 23,\n 23,\n 23,\n 23,\n 23,\n 23,\n 23,\n 23,\n 23,\n 23,\n 23,\n 23,\n 23,\n 23,\n 23,\n 23,\n 23,\n 23,\n 23,\n 23,\n 23,\n 23,\n 23,\n 23,\n 23,\n 23,\n 23,\n 23,\n 23,\n 23,\n 23,\n 23,\n 23,\n 23,\n 23,\n 23,\n 24,\n 24,\n 24,\n 24,\n 24,\n 24,\n 24,\n 24,\n 24,\n 24,\n 24,\n 24,\n 24,\n 24,\n 24,\n 24,\n 24,\n 24,\n 24,\n 24,\n 24,\n 24,\n 24,\n 24,\n 24,\n 24,\n 24,\n 24,\n 24,\n 24,\n 24,\n 24,\n 24,\n 24,\n 24,\n 24,\n 24,\n 24,\n 24,\n 24,\n 24,\n 24,\n 24,\n 24,\n 24,\n 24,\n 24,\n 24,\n 24,\n 24,\n 24,\n 24,\n 24,\n 24,\n 24,\n 24,\n 24,\n 24,\n 24,\n 24,\n 24,\n 24,\n 24,\n 24,\n 24,\n 24,\n 24,\n 24,\n 24,\n 24,\n 24,\n 24,\n 24,\n 24,\n 24,\n 24,\n 24,\n 24,\n 24,\n 24,\n 24,\n 24,\n 24,\n 24,\n 24,\n 24,\n 24,\n 24,\n 24,\n 24,\n 24,\n 24,\n 24,\n 24,\n 24,\n 24,\n 24,\n 24,\n 24,\n 24,\n 24,\n 24,\n 24,\n 24,\n 24,\n 24,\n 24,\n 24,\n 24,\n 24,\n 24,\n 24,\n 24,\n 24,\n 24,\n 24,\n 24,\n 24,\n 24,\n 24,\n 24,\n 24,\n 24,\n 24,\n 24,\n 24,\n 24,\n 24,\n 24,\n 24,\n 24,\n 24,\n 24,\n 24,\n 24,\n 24,\n 24,\n 24,\n 24,\n 24,\n 24,\n 24,\n 24,\n 24,\n 24,\n 24,\n 24,\n 24,\n 24,\n 24,\n 24,\n 24,\n 24,\n 24,\n 24,\n 24,\n 24,\n 24,\n 24,\n 24,\n 24,\n 24,\n 24,\n 24,\n 24,\n 24,\n 24,\n 24,\n 24,\n 24,\n 24,\n 24,\n 24,\n 24,\n 24,\n 24,\n 24,\n 24,\n 24,\n 24,\n 24,\n 24,\n 24,\n 24,\n 24,\n 24,\n 24,\n 24,\n 24,\n 24,\n 24,\n 24,\n 24,\n 24,\n 24,\n 24,\n 24,\n 24,\n 24,\n 24,\n 24,\n 24,\n 24,\n 24,\n 24,\n 24,\n 24,\n 24,\n 24,\n 24,\n 24,\n 24,\n 24,\n 24,\n 24,\n 24,\n 24,\n 24,\n 24,\n 24,\n 24,\n 24,\n 24,\n 24,\n 24,\n 24,\n 24,\n 24,\n 24,\n 24,\n 24,\n 24,\n 24,\n 24,\n 24,\n 24,\n 24,\n 24,\n 24,\n 24,\n 24,\n 24,\n 24,\n 24,\n 24,\n 24,\n 24,\n 24,\n 24,\n 24,\n 24,\n 24,\n 24,\n 24,\n 25,\n 25,\n 25,\n 25,\n 25,\n 25,\n 25,\n 25,\n 25,\n 25,\n 25,\n 25,\n 25,\n 25,\n 25,\n 25,\n 25,\n 25,\n 25,\n 25,\n 25,\n 25,\n 25,\n 25,\n 25,\n 25,\n 25,\n 25,\n 25,\n 25,\n 25,\n 25,\n 25,\n 25,\n 25,\n 25,\n 25,\n 26,\n 26,\n 26,\n 26,\n 26,\n 26,\n 26,\n 26,\n 26,\n 26,\n 26,\n 26,\n 26,\n 26,\n 26,\n 26,\n 26,\n 26,\n 26,\n 26,\n 26,\n 26,\n 26,\n 26,\n 26,\n 26,\n 26,\n 26,\n 26,\n 26,\n 26,\n 26,\n 26,\n 26,\n 26,\n 26,\n 26,\n 26,\n 26,\n 26,\n 26,\n 26,\n 26,\n 26,\n 26,\n 26,\n 26,\n 26,\n 26,\n 26,\n 26,\n 26,\n 26,\n 26,\n 26,\n 26,\n 26,\n 26,\n 26,\n 26,\n 26,\n 26,\n 26,\n 26,\n 26,\n 26,\n 26,\n 26,\n 26,\n 26,\n 26,\n 26,\n 26,\n 26,\n 26,\n 26,\n 26,\n 26,\n 26,\n 26,\n 26,\n 26,\n 26,\n 26,\n 26,\n 26,\n 26,\n 26,\n 26,\n 26,\n 26,\n 26,\n 26,\n 26,\n 26,\n 26,\n 26,\n 26,\n 26,\n 26,\n 26,\n 26,\n 26,\n 26,\n 26,\n 26,\n 26,\n 26,\n 26,\n 26,\n 26,\n 26,\n 26,\n 26,\n 26,\n 26,\n 26,\n 26,\n 26,\n 26,\n 26,\n 26,\n 26,\n 26,\n 26,\n 26,\n 26,\n 26,\n 26,\n 26,\n 26,\n 26,\n 26,\n 27,\n 27,\n 27,\n 27,\n 27,\n 27,\n 27,\n 27,\n 27,\n 27,\n 27,\n 27,\n 27,\n 27,\n 27,\n 27,\n 27,\n 27,\n 27,\n 27,\n 27,\n 27,\n 27,\n 27,\n 27,\n 27,\n 27,\n 27,\n 27,\n 27,\n 27,\n 27,\n 27,\n 27,\n 27,\n 27,\n 27,\n 27,\n 27,\n 27,\n 27,\n 27,\n 27,\n 27,\n 27,\n 27,\n 27,\n 27,\n 27,\n 27,\n 27,\n 27,\n 27,\n 27,\n 27,\n 27,\n 27,\n 27,\n 27,\n 27,\n 27,\n 27,\n 15,\n 24,\n 24,\n 24,\n 23,\n 23,\n 23,\n 24,\n 24,\n 19,\n 19,\n 19,\n 27,\n 24,\n 24,\n 24,\n 24,\n 24,\n 10,\n 23,\n 21,\n 21,\n 25,\n 25,\n 25,\n 14,\n 14,\n 14,\n 27,\n 27,\n ...]"
     },
     "execution_count": 18,
     "metadata": {},
     "output_type": "execute_result"
    }
   ],
   "source": [
    "subjects = [meta['subjectID'] for meta in metadata]\n",
    "subjects"
   ],
   "metadata": {
    "collapsed": false,
    "pycharm": {
     "name": "#%%\n"
    }
   }
  },
  {
   "cell_type": "code",
   "execution_count": 25,
   "outputs": [
    {
     "name": "stdout",
     "output_type": "stream",
     "text": [
      "Starting cross-validation for physical fatigue\n"
     ]
    },
    {
     "name": "stderr",
     "output_type": "stream",
     "text": [
      "  0%|          | 0/5 [00:00<?, ?it/s]"
     ]
    },
    {
     "name": "stdout",
     "output_type": "stream",
     "text": [
      "WARNING:tensorflow:`input_shape` is undefined or non-square, or `rows` is not in [96, 128, 160, 192, 224]. Weights for input shape (224, 224) will be loaded as the default.\n"
     ]
    },
    {
     "name": "stderr",
     "output_type": "stream",
     "text": [
      "C:\\Users\\jjung\\anaconda3\\envs\\tf-sklearn-keras\\lib\\site-packages\\keras\\engine\\training.py:1972: UserWarning: `Model.fit_generator` is deprecated and will be removed in a future version. Please use `Model.fit`, which supports generators.\n",
      "  warnings.warn('`Model.fit_generator` is deprecated and '\n"
     ]
    },
    {
     "name": "stdout",
     "output_type": "stream",
     "text": [
      "55/55 [==============================] - 47s 364ms/step - loss: 0.4960\n"
     ]
    },
    {
     "name": "stderr",
     "output_type": "stream",
     "text": [
      " Fold 1 F1: 0.20248495790943366:  20%|██        | 1/5 [01:51<07:27, 111.98s/it]"
     ]
    },
    {
     "name": "stdout",
     "output_type": "stream",
     "text": [
      "WARNING:tensorflow:`input_shape` is undefined or non-square, or `rows` is not in [96, 128, 160, 192, 224]. Weights for input shape (224, 224) will be loaded as the default.\n"
     ]
    },
    {
     "name": "stderr",
     "output_type": "stream",
     "text": [
      "C:\\Users\\jjung\\anaconda3\\envs\\tf-sklearn-keras\\lib\\site-packages\\keras\\engine\\training.py:1972: UserWarning: `Model.fit_generator` is deprecated and will be removed in a future version. Please use `Model.fit`, which supports generators.\n",
      "  warnings.warn('`Model.fit_generator` is deprecated and '\n"
     ]
    },
    {
     "name": "stdout",
     "output_type": "stream",
     "text": [
      "59/59 [==============================] - 50s 362ms/step - loss: 0.4366\n"
     ]
    },
    {
     "name": "stderr",
     "output_type": "stream",
     "text": [
      "C:\\Users\\jjung\\anaconda3\\envs\\tf-sklearn-keras\\lib\\site-packages\\sklearn\\metrics\\_classification.py:1334: UndefinedMetricWarning: Precision is ill-defined and being set to 0.0 in labels with no predicted samples. Use `zero_division` parameter to control this behavior.\n",
      "  _warn_prf(average, modifier, msg_start, len(result))\n",
      " Fold 2 F1: 0.682866985148354:  40%|████      | 2/5 [03:40<05:29, 109.74s/it]  "
     ]
    },
    {
     "name": "stdout",
     "output_type": "stream",
     "text": [
      "WARNING:tensorflow:`input_shape` is undefined or non-square, or `rows` is not in [96, 128, 160, 192, 224]. Weights for input shape (224, 224) will be loaded as the default.\n"
     ]
    },
    {
     "name": "stderr",
     "output_type": "stream",
     "text": [
      "C:\\Users\\jjung\\anaconda3\\envs\\tf-sklearn-keras\\lib\\site-packages\\keras\\engine\\training.py:1972: UserWarning: `Model.fit_generator` is deprecated and will be removed in a future version. Please use `Model.fit`, which supports generators.\n",
      "  warnings.warn('`Model.fit_generator` is deprecated and '\n"
     ]
    },
    {
     "name": "stdout",
     "output_type": "stream",
     "text": [
      "65/65 [==============================] - 53s 367ms/step - loss: 0.4887\n"
     ]
    },
    {
     "name": "stderr",
     "output_type": "stream",
     "text": [
      "C:\\Users\\jjung\\anaconda3\\envs\\tf-sklearn-keras\\lib\\site-packages\\sklearn\\metrics\\_classification.py:1334: UndefinedMetricWarning: Precision is ill-defined and being set to 0.0 in labels with no predicted samples. Use `zero_division` parameter to control this behavior.\n",
      "  _warn_prf(average, modifier, msg_start, len(result))\n",
      " Fold 3 F1: 0.1568883094306823:  60%|██████    | 3/5 [05:15<03:26, 103.14s/it]"
     ]
    },
    {
     "name": "stdout",
     "output_type": "stream",
     "text": [
      "WARNING:tensorflow:`input_shape` is undefined or non-square, or `rows` is not in [96, 128, 160, 192, 224]. Weights for input shape (224, 224) will be loaded as the default.\n"
     ]
    },
    {
     "name": "stderr",
     "output_type": "stream",
     "text": [
      "C:\\Users\\jjung\\anaconda3\\envs\\tf-sklearn-keras\\lib\\site-packages\\keras\\engine\\training.py:1972: UserWarning: `Model.fit_generator` is deprecated and will be removed in a future version. Please use `Model.fit`, which supports generators.\n",
      "  warnings.warn('`Model.fit_generator` is deprecated and '\n"
     ]
    },
    {
     "name": "stdout",
     "output_type": "stream",
     "text": [
      "66/66 [==============================] - 57s 387ms/step - loss: 0.4503\n"
     ]
    },
    {
     "name": "stderr",
     "output_type": "stream",
     "text": [
      " Fold 4 F1: 0.6027291479628917:  80%|████████  | 4/5 [06:57<01:42, 102.65s/it]"
     ]
    },
    {
     "name": "stdout",
     "output_type": "stream",
     "text": [
      "WARNING:tensorflow:`input_shape` is undefined or non-square, or `rows` is not in [96, 128, 160, 192, 224]. Weights for input shape (224, 224) will be loaded as the default.\n"
     ]
    },
    {
     "name": "stderr",
     "output_type": "stream",
     "text": [
      "C:\\Users\\jjung\\anaconda3\\envs\\tf-sklearn-keras\\lib\\site-packages\\keras\\engine\\training.py:1972: UserWarning: `Model.fit_generator` is deprecated and will be removed in a future version. Please use `Model.fit`, which supports generators.\n",
      "  warnings.warn('`Model.fit_generator` is deprecated and '\n"
     ]
    },
    {
     "name": "stdout",
     "output_type": "stream",
     "text": [
      "58/58 [==============================] - 52s 378ms/step - loss: 0.3915\n"
     ]
    },
    {
     "name": "stderr",
     "output_type": "stream",
     "text": [
      " Fold 5 F1: 0.5109519258037749: 100%|██████████| 5/5 [08:52<00:00, 106.58s/it]"
     ]
    },
    {
     "name": "stdout",
     "output_type": "stream",
     "text": [
      "Performance model:\n",
      " accuracy: 0.473 +- 0.213 \n",
      "\n",
      " balanced_accuracy: 0.513 +- 0.024 \n",
      "\n",
      " f1: 0.431 +- 0.213 \n",
      "\n",
      " recall: 0.473 +- 0.213 \n",
      "\n",
      " precision: 0.548 +- 0.255 \n",
      "\n"
     ]
    },
    {
     "name": "stderr",
     "output_type": "stream",
     "text": [
      "\n"
     ]
    }
   ],
   "source": [
    "# variables\n",
    "folds = 5\n",
    "indices = np.arange(N)\n",
    "epochs = 1\n",
    "learning_rate = 1e-3\n",
    "batch_size = 16\n",
    "\n",
    "# load labels\n",
    "y = np.empty(N, dtype=int)\n",
    "for i in range(N):\n",
    "    y[i] = np.load(path + f'/labels{i}.npy', allow_pickle=True)[variable] # TODO: multiclass\n",
    "\n",
    "# CV\n",
    "cv = StratifiedGroupKFold(n_splits=folds)\n",
    "scores_cv = []\n",
    "\n",
    "print(f'Starting cross-validation for physical fatigue')\n",
    "with tqdm(total=folds) as pbar:\n",
    "    for i, (train_indices, test_indices) in enumerate(cv.split(indices, y, groups=subjects)):\n",
    "        # training set\n",
    "        train_dataloader = DataGenerator(path, train_indices, batch_size=batch_size)\n",
    "\n",
    "        # weights for loss function\n",
    "        sample_weights = get_weighting_factor(path, train_indices)\n",
    "\n",
    "        # model\n",
    "        model = CNN()\n",
    "        model.compile(optimizer=Adam(learning_rate=learning_rate),\n",
    "                      loss=weighted_cross_entropy(sample_weights))\n",
    "\n",
    "        # training\n",
    "        history = model.fit_generator(generator=train_dataloader,\n",
    "                                      epochs=epochs)\n",
    "\n",
    "        # evaluate\n",
    "        scores = test_set_evaluator(model, path, test_indices, verbose=False)\n",
    "        scores_cv.append(scores)\n",
    "\n",
    "        # for progress bar\n",
    "        pbar.update(1)\n",
    "        pbar.set_description(f' Fold {i+1} F1: {scores[\"f1\"]}')\n",
    "\n",
    "# final evaluation\n",
    "print('Performance model:')\n",
    "metrics = scores_cv[0].keys()\n",
    "for metric in metrics:\n",
    "    if metric == 'confusion': # ignore confusion_matrix\n",
    "        continue\n",
    "\n",
    "    mean = np.mean([scores_cv_i[metric] for scores_cv_i in scores_cv])\n",
    "    std = np.std([scores_cv_i[metric] for scores_cv_i in scores_cv])\n",
    "    print(f' {metric}: {round(mean, 3)} +- {round(std, 3)} \\n')"
   ],
   "metadata": {
    "collapsed": false,
    "pycharm": {
     "name": "#%%\n"
    }
   }
  },
  {
   "cell_type": "code",
   "execution_count": 26,
   "outputs": [
    {
     "name": "stdout",
     "output_type": "stream",
     "text": [
      "Starting cross-validation for physical fatigue\n"
     ]
    },
    {
     "name": "stderr",
     "output_type": "stream",
     "text": [
      "  0%|          | 0/5 [00:00<?, ?it/s]"
     ]
    },
    {
     "name": "stdout",
     "output_type": "stream",
     "text": [
      "WARNING:tensorflow:`input_shape` is undefined or non-square, or `rows` is not in [96, 128, 160, 192, 224]. Weights for input shape (224, 224) will be loaded as the default.\n"
     ]
    },
    {
     "name": "stderr",
     "output_type": "stream",
     "text": [
      "C:\\Users\\jjung\\anaconda3\\envs\\tf-sklearn-keras\\lib\\site-packages\\keras\\engine\\training.py:1972: UserWarning: `Model.fit_generator` is deprecated and will be removed in a future version. Please use `Model.fit`, which supports generators.\n",
      "  warnings.warn('`Model.fit_generator` is deprecated and '\n"
     ]
    },
    {
     "name": "stdout",
     "output_type": "stream",
     "text": [
      "Epoch 1/10\n",
      "55/55 [==============================] - 43s 343ms/step - loss: 0.6231\n",
      "Epoch 2/10\n",
      "55/55 [==============================] - 19s 347ms/step - loss: 0.4274\n",
      "Epoch 3/10\n",
      "55/55 [==============================] - 19s 342ms/step - loss: 0.3992\n",
      "Epoch 4/10\n",
      "55/55 [==============================] - 19s 342ms/step - loss: 0.4127\n",
      "Epoch 5/10\n",
      "55/55 [==============================] - 19s 343ms/step - loss: 0.3623\n",
      "Epoch 6/10\n",
      "55/55 [==============================] - 19s 343ms/step - loss: 0.3273\n",
      "Epoch 7/10\n",
      "55/55 [==============================] - 19s 343ms/step - loss: 0.2868\n",
      "Epoch 8/10\n",
      "55/55 [==============================] - 19s 343ms/step - loss: 0.2965\n",
      "Epoch 9/10\n",
      "55/55 [==============================] - 19s 343ms/step - loss: 0.3284\n",
      "Epoch 10/10\n",
      "55/55 [==============================] - 19s 343ms/step - loss: 0.2785\n"
     ]
    },
    {
     "name": "stderr",
     "output_type": "stream",
     "text": [
      " Fold 1 F1: 0.31036017939636895:  20%|██        | 1/5 [04:43<18:54, 283.66s/it]"
     ]
    },
    {
     "name": "stdout",
     "output_type": "stream",
     "text": [
      "WARNING:tensorflow:`input_shape` is undefined or non-square, or `rows` is not in [96, 128, 160, 192, 224]. Weights for input shape (224, 224) will be loaded as the default.\n"
     ]
    },
    {
     "name": "stderr",
     "output_type": "stream",
     "text": [
      "C:\\Users\\jjung\\anaconda3\\envs\\tf-sklearn-keras\\lib\\site-packages\\keras\\engine\\training.py:1972: UserWarning: `Model.fit_generator` is deprecated and will be removed in a future version. Please use `Model.fit`, which supports generators.\n",
      "  warnings.warn('`Model.fit_generator` is deprecated and '\n"
     ]
    },
    {
     "name": "stdout",
     "output_type": "stream",
     "text": [
      "Epoch 1/10\n",
      "59/59 [==============================] - 51s 366ms/step - loss: 0.4103\n",
      "Epoch 2/10\n",
      "59/59 [==============================] - 22s 365ms/step - loss: 0.3219\n",
      "Epoch 3/10\n",
      "59/59 [==============================] - 22s 368ms/step - loss: 0.2786\n",
      "Epoch 4/10\n",
      "59/59 [==============================] - 21s 349ms/step - loss: 0.2417\n",
      "Epoch 5/10\n",
      "59/59 [==============================] - 20s 336ms/step - loss: 0.2454\n",
      "Epoch 6/10\n",
      "59/59 [==============================] - 20s 338ms/step - loss: 0.2645\n",
      "Epoch 7/10\n",
      "59/59 [==============================] - 20s 338ms/step - loss: 0.2173\n",
      "Epoch 8/10\n",
      "59/59 [==============================] - 20s 337ms/step - loss: 0.1785\n",
      "Epoch 9/10\n",
      "59/59 [==============================] - 20s 336ms/step - loss: 0.1723\n",
      "Epoch 10/10\n",
      "59/59 [==============================] - 21s 354ms/step - loss: 0.1754\n"
     ]
    },
    {
     "name": "stderr",
     "output_type": "stream",
     "text": [
      " Fold 2 F1: 0.5043879863271499:  40%|████      | 2/5 [09:43<14:38, 293.00s/it] "
     ]
    },
    {
     "name": "stdout",
     "output_type": "stream",
     "text": [
      "WARNING:tensorflow:`input_shape` is undefined or non-square, or `rows` is not in [96, 128, 160, 192, 224]. Weights for input shape (224, 224) will be loaded as the default.\n"
     ]
    },
    {
     "name": "stderr",
     "output_type": "stream",
     "text": [
      "C:\\Users\\jjung\\anaconda3\\envs\\tf-sklearn-keras\\lib\\site-packages\\keras\\engine\\training.py:1972: UserWarning: `Model.fit_generator` is deprecated and will be removed in a future version. Please use `Model.fit`, which supports generators.\n",
      "  warnings.warn('`Model.fit_generator` is deprecated and '\n"
     ]
    },
    {
     "name": "stdout",
     "output_type": "stream",
     "text": [
      "Epoch 1/10\n",
      "65/65 [==============================] - 53s 368ms/step - loss: 0.3831\n",
      "Epoch 2/10\n",
      "65/65 [==============================] - 24s 366ms/step - loss: 0.3186\n",
      "Epoch 3/10\n",
      "65/65 [==============================] - 22s 339ms/step - loss: 0.3082\n",
      "Epoch 4/10\n",
      "65/65 [==============================] - 23s 351ms/step - loss: 0.2349\n",
      "Epoch 5/10\n",
      "65/65 [==============================] - 24s 371ms/step - loss: 0.2280\n",
      "Epoch 6/10\n",
      "65/65 [==============================] - 22s 342ms/step - loss: 0.2118\n",
      "Epoch 7/10\n",
      "65/65 [==============================] - 24s 362ms/step - loss: 0.2072\n",
      "Epoch 8/10\n",
      "65/65 [==============================] - 24s 373ms/step - loss: 0.2493\n",
      "Epoch 9/10\n",
      "65/65 [==============================] - 25s 376ms/step - loss: 0.1780\n",
      "Epoch 10/10\n",
      "65/65 [==============================] - 25s 376ms/step - loss: 0.1738\n"
     ]
    },
    {
     "name": "stderr",
     "output_type": "stream",
     "text": [
      " Fold 3 F1: 0.5454773979877202:  60%|██████    | 3/5 [14:53<10:02, 301.01s/it]"
     ]
    },
    {
     "name": "stdout",
     "output_type": "stream",
     "text": [
      "WARNING:tensorflow:`input_shape` is undefined or non-square, or `rows` is not in [96, 128, 160, 192, 224]. Weights for input shape (224, 224) will be loaded as the default.\n"
     ]
    },
    {
     "name": "stderr",
     "output_type": "stream",
     "text": [
      "C:\\Users\\jjung\\anaconda3\\envs\\tf-sklearn-keras\\lib\\site-packages\\keras\\engine\\training.py:1972: UserWarning: `Model.fit_generator` is deprecated and will be removed in a future version. Please use `Model.fit`, which supports generators.\n",
      "  warnings.warn('`Model.fit_generator` is deprecated and '\n"
     ]
    },
    {
     "name": "stdout",
     "output_type": "stream",
     "text": [
      "Epoch 1/10\n",
      "66/66 [==============================] - 47s 327ms/step - loss: 0.4630\n",
      "Epoch 2/10\n",
      "66/66 [==============================] - 22s 327ms/step - loss: 0.2888\n",
      "Epoch 3/10\n",
      "66/66 [==============================] - 22s 327ms/step - loss: 0.3051\n",
      "Epoch 4/10\n",
      "66/66 [==============================] - 22s 326ms/step - loss: 0.2762\n",
      "Epoch 5/10\n",
      "66/66 [==============================] - 22s 328ms/step - loss: 0.2452\n",
      "Epoch 6/10\n",
      "66/66 [==============================] - 22s 327ms/step - loss: 0.2195\n",
      "Epoch 7/10\n",
      "66/66 [==============================] - 22s 326ms/step - loss: 0.2147\n",
      "Epoch 8/10\n",
      "66/66 [==============================] - 22s 327ms/step - loss: 0.2540\n",
      "Epoch 9/10\n",
      "66/66 [==============================] - 22s 328ms/step - loss: 0.1965\n",
      "Epoch 10/10\n",
      "66/66 [==============================] - 22s 327ms/step - loss: 0.1732\n"
     ]
    },
    {
     "name": "stderr",
     "output_type": "stream",
     "text": [
      " Fold 4 F1: 0.6525726392251816:  80%|████████  | 4/5 [19:33<04:52, 292.55s/it]"
     ]
    },
    {
     "name": "stdout",
     "output_type": "stream",
     "text": [
      "WARNING:tensorflow:`input_shape` is undefined or non-square, or `rows` is not in [96, 128, 160, 192, 224]. Weights for input shape (224, 224) will be loaded as the default.\n"
     ]
    },
    {
     "name": "stderr",
     "output_type": "stream",
     "text": [
      "C:\\Users\\jjung\\anaconda3\\envs\\tf-sklearn-keras\\lib\\site-packages\\keras\\engine\\training.py:1972: UserWarning: `Model.fit_generator` is deprecated and will be removed in a future version. Please use `Model.fit`, which supports generators.\n",
      "  warnings.warn('`Model.fit_generator` is deprecated and '\n"
     ]
    },
    {
     "name": "stdout",
     "output_type": "stream",
     "text": [
      "Epoch 1/10\n",
      "58/58 [==============================] - 45s 325ms/step - loss: 0.3169\n",
      "Epoch 2/10\n",
      "58/58 [==============================] - 19s 324ms/step - loss: 0.2663\n",
      "Epoch 3/10\n",
      "58/58 [==============================] - 19s 329ms/step - loss: 0.2144\n",
      "Epoch 4/10\n",
      "58/58 [==============================] - 19s 324ms/step - loss: 0.2301\n",
      "Epoch 5/10\n",
      "58/58 [==============================] - 20s 337ms/step - loss: 0.2304\n",
      "Epoch 6/10\n",
      "58/58 [==============================] - 19s 326ms/step - loss: 0.1637\n",
      "Epoch 7/10\n",
      "58/58 [==============================] - 19s 327ms/step - loss: 0.1645\n",
      "Epoch 8/10\n",
      "58/58 [==============================] - 19s 326ms/step - loss: 0.1405\n",
      "Epoch 9/10\n",
      "58/58 [==============================] - 19s 326ms/step - loss: 0.1486\n",
      "Epoch 10/10\n",
      "58/58 [==============================] - 19s 327ms/step - loss: 0.1258\n"
     ]
    },
    {
     "name": "stderr",
     "output_type": "stream",
     "text": [
      " Fold 5 F1: 0.5831730704799175: 100%|██████████| 5/5 [24:02<00:00, 288.48s/it]"
     ]
    },
    {
     "name": "stdout",
     "output_type": "stream",
     "text": [
      "Performance model:\n",
      " accuracy: 0.506 +- 0.149 \n",
      "\n",
      " balanced_accuracy: 0.537 +- 0.057 \n",
      "\n",
      " f1: 0.519 +- 0.115 \n",
      "\n",
      " recall: 0.506 +- 0.149 \n",
      "\n",
      " precision: 0.669 +- 0.144 \n",
      "\n"
     ]
    },
    {
     "name": "stderr",
     "output_type": "stream",
     "text": [
      "\n"
     ]
    }
   ],
   "source": [
    "# variables\n",
    "folds = 5\n",
    "indices = np.arange(N)\n",
    "epochs = 10\n",
    "learning_rate = 1e-3\n",
    "batch_size = 16\n",
    "\n",
    "# load labels\n",
    "y = np.empty(N, dtype=int)\n",
    "for i in range(N):\n",
    "    y[i] = np.load(path + f'/labels{i}.npy', allow_pickle=True)[variable] # TODO: multiclass\n",
    "\n",
    "# CV\n",
    "cv = StratifiedGroupKFold(n_splits=folds)\n",
    "scores_cv = []\n",
    "\n",
    "print(f'Starting cross-validation for physical fatigue')\n",
    "with tqdm(total=folds) as pbar:\n",
    "    for i, (train_indices, test_indices) in enumerate(cv.split(indices, y, groups=subjects)):\n",
    "        # training set\n",
    "        train_dataloader = DataGenerator(path, train_indices, batch_size=batch_size)\n",
    "\n",
    "        # weights for loss function\n",
    "        sample_weights = get_weighting_factor(path, train_indices)\n",
    "\n",
    "        # model\n",
    "        model = CNN()\n",
    "        model.compile(optimizer=Adam(learning_rate=learning_rate),\n",
    "                      loss=weighted_cross_entropy(sample_weights))\n",
    "\n",
    "        # training\n",
    "        history = model.fit_generator(generator=train_dataloader,\n",
    "                                      epochs=epochs)\n",
    "\n",
    "        # evaluate\n",
    "        scores = test_set_evaluator(model, path, test_indices, verbose=False)\n",
    "        scores_cv.append(scores)\n",
    "\n",
    "        # for progress bar\n",
    "        pbar.update(1)\n",
    "        pbar.set_description(f' Fold {i+1} F1: {scores[\"f1\"]}')\n",
    "\n",
    "# final evaluation\n",
    "print('Performance model:')\n",
    "metrics = scores_cv[0].keys()\n",
    "for metric in metrics:\n",
    "    if metric == 'confusion': # ignore confusion_matrix\n",
    "        continue\n",
    "\n",
    "    mean = np.mean([scores_cv_i[metric] for scores_cv_i in scores_cv])\n",
    "    std = np.std([scores_cv_i[metric] for scores_cv_i in scores_cv])\n",
    "    print(f' {metric}: {round(mean, 3)} +- {round(std, 3)} \\n')"
   ],
   "metadata": {
    "collapsed": false,
    "pycharm": {
     "name": "#%%\n"
    }
   }
  },
  {
   "cell_type": "code",
   "execution_count": 28,
   "outputs": [
    {
     "name": "stdout",
     "output_type": "stream",
     "text": [
      "Starting cross-validation for physical fatigue\n"
     ]
    },
    {
     "name": "stderr",
     "output_type": "stream",
     "text": [
      "  0%|          | 0/5 [00:00<?, ?it/s]"
     ]
    },
    {
     "name": "stdout",
     "output_type": "stream",
     "text": [
      "0.32697547683923706\n",
      "WARNING:tensorflow:`input_shape` is undefined or non-square, or `rows` is not in [96, 128, 160, 192, 224]. Weights for input shape (224, 224) will be loaded as the default.\n"
     ]
    },
    {
     "name": "stderr",
     "output_type": "stream",
     "text": [
      "C:\\Users\\jjung\\anaconda3\\envs\\tf-sklearn-keras\\lib\\site-packages\\keras\\engine\\training.py:1972: UserWarning: `Model.fit_generator` is deprecated and will be removed in a future version. Please use `Model.fit`, which supports generators.\n",
      "  warnings.warn('`Model.fit_generator` is deprecated and '\n"
     ]
    },
    {
     "name": "stdout",
     "output_type": "stream",
     "text": [
      "60/60 [==============================] - 48s 341ms/step - loss: 0.4109\n"
     ]
    },
    {
     "name": "stderr",
     "output_type": "stream",
     "text": [
      " Fold 1 F1: 0.6858918482647296:  20%|██        | 1/5 [01:34<06:18, 94.52s/it]"
     ]
    },
    {
     "name": "stdout",
     "output_type": "stream",
     "text": [
      "0.32878581173260574\n",
      "WARNING:tensorflow:`input_shape` is undefined or non-square, or `rows` is not in [96, 128, 160, 192, 224]. Weights for input shape (224, 224) will be loaded as the default.\n"
     ]
    },
    {
     "name": "stderr",
     "output_type": "stream",
     "text": [
      "C:\\Users\\jjung\\anaconda3\\envs\\tf-sklearn-keras\\lib\\site-packages\\keras\\engine\\training.py:1972: UserWarning: `Model.fit_generator` is deprecated and will be removed in a future version. Please use `Model.fit`, which supports generators.\n",
      "  warnings.warn('`Model.fit_generator` is deprecated and '\n"
     ]
    },
    {
     "name": "stdout",
     "output_type": "stream",
     "text": [
      "60/60 [==============================] - 48s 351ms/step - loss: 0.4208\n"
     ]
    },
    {
     "name": "stderr",
     "output_type": "stream",
     "text": [
      " Fold 2 F1: 0.6443469560532594:  40%|████      | 2/5 [03:11<04:47, 95.82s/it]"
     ]
    },
    {
     "name": "stdout",
     "output_type": "stream",
     "text": [
      "0.32878581173260574\n",
      "WARNING:tensorflow:`input_shape` is undefined or non-square, or `rows` is not in [96, 128, 160, 192, 224]. Weights for input shape (224, 224) will be loaded as the default.\n"
     ]
    },
    {
     "name": "stderr",
     "output_type": "stream",
     "text": [
      "C:\\Users\\jjung\\anaconda3\\envs\\tf-sklearn-keras\\lib\\site-packages\\keras\\engine\\training.py:1972: UserWarning: `Model.fit_generator` is deprecated and will be removed in a future version. Please use `Model.fit`, which supports generators.\n",
      "  warnings.warn('`Model.fit_generator` is deprecated and '\n"
     ]
    },
    {
     "name": "stdout",
     "output_type": "stream",
     "text": [
      "60/60 [==============================] - 46s 344ms/step - loss: 0.4645\n"
     ]
    },
    {
     "name": "stderr",
     "output_type": "stream",
     "text": [
      " Fold 3 F1: 0.6807140365738203:  60%|██████    | 3/5 [04:46<03:11, 95.59s/it]"
     ]
    },
    {
     "name": "stdout",
     "output_type": "stream",
     "text": [
      "0.32833787465940056\n",
      "WARNING:tensorflow:`input_shape` is undefined or non-square, or `rows` is not in [96, 128, 160, 192, 224]. Weights for input shape (224, 224) will be loaded as the default.\n"
     ]
    },
    {
     "name": "stderr",
     "output_type": "stream",
     "text": [
      "C:\\Users\\jjung\\anaconda3\\envs\\tf-sklearn-keras\\lib\\site-packages\\keras\\engine\\training.py:1972: UserWarning: `Model.fit_generator` is deprecated and will be removed in a future version. Please use `Model.fit`, which supports generators.\n",
      "  warnings.warn('`Model.fit_generator` is deprecated and '\n"
     ]
    },
    {
     "name": "stdout",
     "output_type": "stream",
     "text": [
      "60/60 [==============================] - 46s 341ms/step - loss: 0.4363\n"
     ]
    },
    {
     "name": "stderr",
     "output_type": "stream",
     "text": [
      " Fold 4 F1: 0.6930880416439795:  80%|████████  | 4/5 [06:21<01:35, 95.36s/it]"
     ]
    },
    {
     "name": "stdout",
     "output_type": "stream",
     "text": [
      "0.32833787465940056\n",
      "WARNING:tensorflow:`input_shape` is undefined or non-square, or `rows` is not in [96, 128, 160, 192, 224]. Weights for input shape (224, 224) will be loaded as the default.\n"
     ]
    },
    {
     "name": "stderr",
     "output_type": "stream",
     "text": [
      "C:\\Users\\jjung\\anaconda3\\envs\\tf-sklearn-keras\\lib\\site-packages\\keras\\engine\\training.py:1972: UserWarning: `Model.fit_generator` is deprecated and will be removed in a future version. Please use `Model.fit`, which supports generators.\n",
      "  warnings.warn('`Model.fit_generator` is deprecated and '\n"
     ]
    },
    {
     "name": "stdout",
     "output_type": "stream",
     "text": [
      "60/60 [==============================] - 48s 352ms/step - loss: 0.4183\n"
     ]
    },
    {
     "name": "stderr",
     "output_type": "stream",
     "text": [
      " Fold 5 F1: 0.6566358322321035: 100%|██████████| 5/5 [07:55<00:00, 95.12s/it]"
     ]
    },
    {
     "name": "stdout",
     "output_type": "stream",
     "text": [
      "Performance model:\n",
      " accuracy: 0.741 +- 0.027 \n",
      "\n",
      " balanced_accuracy: 0.528 +- 0.023 \n",
      "\n",
      " f1: 0.672 +- 0.019 \n",
      "\n",
      " recall: 0.741 +- 0.027 \n",
      "\n",
      " precision: 0.7 +- 0.082 \n",
      "\n"
     ]
    },
    {
     "name": "stderr",
     "output_type": "stream",
     "text": [
      "\n"
     ]
    }
   ],
   "source": [
    "# 5fold CV\n",
    "from sklearn.model_selection import StratifiedKFold, LeaveOneGroupOut, StratifiedGroupKFold\n",
    "SEED = 42\n",
    "\n",
    "# variables\n",
    "folds = 5\n",
    "indices = np.arange(N)\n",
    "epochs = 1\n",
    "learning_rate = 1e-3\n",
    "batch_size = 16\n",
    "\n",
    "# load labels\n",
    "y = np.empty(N, dtype=int)\n",
    "for i in range(N):\n",
    "    y[i] = np.load(path + f'/labels{i}.npy', allow_pickle=True)[variable] # TODO: multiclass\n",
    "\n",
    "# CV\n",
    "cv = StratifiedKFold(n_splits=folds, shuffle=True, random_state=SEED)\n",
    "scores_cv = []\n",
    "\n",
    "print(f'Starting cross-validation for physical fatigue')\n",
    "with tqdm(total=folds) as pbar:\n",
    "    for i, (train_indices, test_indices) in enumerate(cv.split(indices, y, groups=subjects)):\n",
    "        # training set\n",
    "        train_dataloader = DataGenerator(path, train_indices, batch_size=batch_size)\n",
    "\n",
    "        # weights for loss function\n",
    "        sample_weights = get_weighting_factor(path, train_indices)\n",
    "        print(sample_weights)\n",
    "\n",
    "        # model\n",
    "        model = CNN()\n",
    "        model.compile(optimizer=Adam(learning_rate=learning_rate),\n",
    "                      loss=weighted_cross_entropy(sample_weights))\n",
    "\n",
    "        # training\n",
    "        history = model.fit_generator(generator=train_dataloader,\n",
    "                                      epochs=epochs)\n",
    "\n",
    "        # evaluate\n",
    "        scores = test_set_evaluator(model, path, test_indices, verbose=False)\n",
    "        scores_cv.append(scores)\n",
    "\n",
    "        # for progress bar\n",
    "        pbar.update(1)\n",
    "        pbar.set_description(f' Fold {i+1} F1: {scores[\"f1\"]}')\n",
    "\n",
    "# final evaluation\n",
    "print('Performance model:')\n",
    "metrics = scores_cv[0].keys()\n",
    "for metric in metrics:\n",
    "    if metric == 'confusion': # ignore confusion_matrix\n",
    "        continue\n",
    "\n",
    "    mean = np.mean([scores_cv_i[metric] for scores_cv_i in scores_cv])\n",
    "    std = np.std([scores_cv_i[metric] for scores_cv_i in scores_cv])\n",
    "    print(f' {metric}: {round(mean, 3)} +- {round(std, 3)} \\n')"
   ],
   "metadata": {
    "collapsed": false,
    "pycharm": {
     "name": "#%%\n"
    }
   }
  },
  {
   "cell_type": "code",
   "execution_count": 30,
   "outputs": [
    {
     "name": "stdout",
     "output_type": "stream",
     "text": [
      "Starting cross-validation for physical fatigue\n"
     ]
    },
    {
     "name": "stderr",
     "output_type": "stream",
     "text": [
      "  0%|          | 0/5 [00:00<?, ?it/s]"
     ]
    },
    {
     "name": "stdout",
     "output_type": "stream",
     "text": [
      "0.32697547683923706\n",
      "WARNING:tensorflow:`input_shape` is undefined or non-square, or `rows` is not in [96, 128, 160, 192, 224]. Weights for input shape (224, 224) will be loaded as the default.\n"
     ]
    },
    {
     "name": "stderr",
     "output_type": "stream",
     "text": [
      "C:\\Users\\jjung\\anaconda3\\envs\\tf-sklearn-keras\\lib\\site-packages\\keras\\engine\\training.py:1972: UserWarning: `Model.fit_generator` is deprecated and will be removed in a future version. Please use `Model.fit`, which supports generators.\n",
      "  warnings.warn('`Model.fit_generator` is deprecated and '\n"
     ]
    },
    {
     "name": "stdout",
     "output_type": "stream",
     "text": [
      "Epoch 1/10\n",
      "60/60 [==============================] - 50s 348ms/step - loss: 0.4225\n",
      "Epoch 2/10\n",
      "60/60 [==============================] - 21s 347ms/step - loss: 0.3246\n",
      "Epoch 3/10\n",
      "60/60 [==============================] - 21s 344ms/step - loss: 0.2976\n",
      "Epoch 4/10\n",
      "60/60 [==============================] - 21s 345ms/step - loss: 0.2703\n",
      "Epoch 5/10\n",
      "60/60 [==============================] - 21s 347ms/step - loss: 0.2734\n",
      "Epoch 6/10\n",
      "60/60 [==============================] - 21s 350ms/step - loss: 0.2184\n",
      "Epoch 7/10\n",
      "60/60 [==============================] - 21s 350ms/step - loss: 0.2221\n",
      "Epoch 8/10\n",
      "60/60 [==============================] - 21s 347ms/step - loss: 0.2537\n",
      "Epoch 9/10\n",
      "60/60 [==============================] - 21s 350ms/step - loss: 0.2046\n",
      "Epoch 10/10\n",
      "60/60 [==============================] - 21s 349ms/step - loss: 0.1724\n"
     ]
    },
    {
     "name": "stderr",
     "output_type": "stream",
     "text": [
      " Fold 1 F1: 0.8045591724837009:  20%|██        | 1/5 [04:53<19:33, 293.43s/it]"
     ]
    },
    {
     "name": "stdout",
     "output_type": "stream",
     "text": [
      "0.32878581173260574\n",
      "WARNING:tensorflow:`input_shape` is undefined or non-square, or `rows` is not in [96, 128, 160, 192, 224]. Weights for input shape (224, 224) will be loaded as the default.\n"
     ]
    },
    {
     "name": "stderr",
     "output_type": "stream",
     "text": [
      "C:\\Users\\jjung\\anaconda3\\envs\\tf-sklearn-keras\\lib\\site-packages\\keras\\engine\\training.py:1972: UserWarning: `Model.fit_generator` is deprecated and will be removed in a future version. Please use `Model.fit`, which supports generators.\n",
      "  warnings.warn('`Model.fit_generator` is deprecated and '\n"
     ]
    },
    {
     "name": "stdout",
     "output_type": "stream",
     "text": [
      "Epoch 1/10\n",
      "60/60 [==============================] - 47s 346ms/step - loss: 0.4486\n",
      "Epoch 2/10\n",
      "60/60 [==============================] - 21s 346ms/step - loss: 0.3209\n",
      "Epoch 3/10\n",
      "60/60 [==============================] - 21s 344ms/step - loss: 0.2992\n",
      "Epoch 4/10\n",
      "60/60 [==============================] - 21s 343ms/step - loss: 0.2658\n",
      "Epoch 5/10\n",
      "60/60 [==============================] - 21s 344ms/step - loss: 0.2527\n",
      "Epoch 6/10\n",
      "60/60 [==============================] - 21s 348ms/step - loss: 0.2463\n",
      "Epoch 7/10\n",
      "60/60 [==============================] - 21s 346ms/step - loss: 0.2653\n",
      "Epoch 8/10\n",
      "60/60 [==============================] - 21s 346ms/step - loss: 0.2206\n",
      "Epoch 9/10\n",
      "60/60 [==============================] - 21s 346ms/step - loss: 0.1922\n",
      "Epoch 10/10\n",
      "60/60 [==============================] - 21s 345ms/step - loss: 0.1951\n"
     ]
    },
    {
     "name": "stderr",
     "output_type": "stream",
     "text": [
      " Fold 2 F1: 0.1703582025519466:  40%|████      | 2/5 [09:43<14:34, 291.41s/it]"
     ]
    },
    {
     "name": "stdout",
     "output_type": "stream",
     "text": [
      "0.32878581173260574\n",
      "WARNING:tensorflow:`input_shape` is undefined or non-square, or `rows` is not in [96, 128, 160, 192, 224]. Weights for input shape (224, 224) will be loaded as the default.\n"
     ]
    },
    {
     "name": "stderr",
     "output_type": "stream",
     "text": [
      "C:\\Users\\jjung\\anaconda3\\envs\\tf-sklearn-keras\\lib\\site-packages\\keras\\engine\\training.py:1972: UserWarning: `Model.fit_generator` is deprecated and will be removed in a future version. Please use `Model.fit`, which supports generators.\n",
      "  warnings.warn('`Model.fit_generator` is deprecated and '\n"
     ]
    },
    {
     "name": "stdout",
     "output_type": "stream",
     "text": [
      "Epoch 1/10\n",
      "60/60 [==============================] - 51s 357ms/step - loss: 0.5568\n",
      "Epoch 2/10\n",
      "60/60 [==============================] - 21s 353ms/step - loss: 0.3444\n",
      "Epoch 3/10\n",
      "60/60 [==============================] - 21s 351ms/step - loss: 0.3149\n",
      "Epoch 4/10\n",
      "60/60 [==============================] - 21s 349ms/step - loss: 0.2839\n",
      "Epoch 5/10\n",
      "60/60 [==============================] - 21s 350ms/step - loss: 0.2542\n",
      "Epoch 6/10\n",
      "60/60 [==============================] - 21s 353ms/step - loss: 0.2520\n",
      "Epoch 7/10\n",
      "60/60 [==============================] - 21s 350ms/step - loss: 0.2307\n",
      "Epoch 8/10\n",
      "60/60 [==============================] - 21s 351ms/step - loss: 0.2046\n",
      "Epoch 9/10\n",
      "60/60 [==============================] - 21s 352ms/step - loss: 0.1891\n",
      "Epoch 10/10\n",
      "60/60 [==============================] - 21s 354ms/step - loss: 0.2089\n"
     ]
    },
    {
     "name": "stderr",
     "output_type": "stream",
     "text": [
      " Fold 3 F1: 0.7627015595721667:  60%|██████    | 3/5 [14:38<09:46, 293.30s/it]"
     ]
    },
    {
     "name": "stdout",
     "output_type": "stream",
     "text": [
      "0.32833787465940056\n",
      "WARNING:tensorflow:`input_shape` is undefined or non-square, or `rows` is not in [96, 128, 160, 192, 224]. Weights for input shape (224, 224) will be loaded as the default.\n"
     ]
    },
    {
     "name": "stderr",
     "output_type": "stream",
     "text": [
      "C:\\Users\\jjung\\anaconda3\\envs\\tf-sklearn-keras\\lib\\site-packages\\keras\\engine\\training.py:1972: UserWarning: `Model.fit_generator` is deprecated and will be removed in a future version. Please use `Model.fit`, which supports generators.\n",
      "  warnings.warn('`Model.fit_generator` is deprecated and '\n"
     ]
    },
    {
     "name": "stdout",
     "output_type": "stream",
     "text": [
      "Epoch 1/10\n",
      "60/60 [==============================] - 50s 355ms/step - loss: 0.4141\n",
      "Epoch 2/10\n",
      "60/60 [==============================] - 21s 350ms/step - loss: 0.3324\n",
      "Epoch 3/10\n",
      "60/60 [==============================] - 21s 349ms/step - loss: 0.3207\n",
      "Epoch 4/10\n",
      "60/60 [==============================] - 21s 351ms/step - loss: 0.2793\n",
      "Epoch 5/10\n",
      "60/60 [==============================] - 21s 354ms/step - loss: 0.2509\n",
      "Epoch 6/10\n",
      "60/60 [==============================] - 21s 354ms/step - loss: 0.2709\n",
      "Epoch 7/10\n",
      "60/60 [==============================] - 21s 352ms/step - loss: 0.2687\n",
      "Epoch 8/10\n",
      "60/60 [==============================] - 21s 355ms/step - loss: 0.1959\n",
      "Epoch 9/10\n",
      "60/60 [==============================] - 21s 353ms/step - loss: 0.2091\n",
      "Epoch 10/10\n",
      "60/60 [==============================] - 21s 353ms/step - loss: 0.1739\n"
     ]
    },
    {
     "name": "stderr",
     "output_type": "stream",
     "text": [
      " Fold 4 F1: 0.7857774355116783:  80%|████████  | 4/5 [19:38<04:55, 295.64s/it]"
     ]
    },
    {
     "name": "stdout",
     "output_type": "stream",
     "text": [
      "0.32833787465940056\n",
      "WARNING:tensorflow:`input_shape` is undefined or non-square, or `rows` is not in [96, 128, 160, 192, 224]. Weights for input shape (224, 224) will be loaded as the default.\n"
     ]
    },
    {
     "name": "stderr",
     "output_type": "stream",
     "text": [
      "C:\\Users\\jjung\\anaconda3\\envs\\tf-sklearn-keras\\lib\\site-packages\\keras\\engine\\training.py:1972: UserWarning: `Model.fit_generator` is deprecated and will be removed in a future version. Please use `Model.fit`, which supports generators.\n",
      "  warnings.warn('`Model.fit_generator` is deprecated and '\n"
     ]
    },
    {
     "name": "stdout",
     "output_type": "stream",
     "text": [
      "Epoch 1/10\n",
      "60/60 [==============================] - 49s 362ms/step - loss: 0.4804\n",
      "Epoch 2/10\n",
      "60/60 [==============================] - 22s 365ms/step - loss: 0.3138\n",
      "Epoch 3/10\n",
      "60/60 [==============================] - 22s 370ms/step - loss: 0.2866\n",
      "Epoch 4/10\n",
      "60/60 [==============================] - 22s 364ms/step - loss: 0.2728\n",
      "Epoch 5/10\n",
      "60/60 [==============================] - 22s 361ms/step - loss: 0.2379\n",
      "Epoch 6/10\n",
      "60/60 [==============================] - 22s 358ms/step - loss: 0.2508\n",
      "Epoch 7/10\n",
      "60/60 [==============================] - 22s 365ms/step - loss: 0.2354\n",
      "Epoch 8/10\n",
      "60/60 [==============================] - 22s 372ms/step - loss: 0.2096\n",
      "Epoch 9/10\n",
      "60/60 [==============================] - 22s 372ms/step - loss: 0.2239\n",
      "Epoch 10/10\n",
      "60/60 [==============================] - 22s 372ms/step - loss: 0.1991\n"
     ]
    },
    {
     "name": "stderr",
     "output_type": "stream",
     "text": [
      " Fold 5 F1: 0.7603761841250299: 100%|██████████| 5/5 [24:38<00:00, 295.68s/it]"
     ]
    },
    {
     "name": "stdout",
     "output_type": "stream",
     "text": [
      "Performance model:\n",
      " accuracy: 0.684 +- 0.201 \n",
      "\n",
      " balanced_accuracy: 0.66 +- 0.076 \n",
      "\n",
      " f1: 0.657 +- 0.244 \n",
      "\n",
      " recall: 0.684 +- 0.201 \n",
      "\n",
      " precision: 0.789 +- 0.019 \n",
      "\n"
     ]
    },
    {
     "name": "stderr",
     "output_type": "stream",
     "text": [
      "\n"
     ]
    }
   ],
   "source": [
    "# 5fold CV\n",
    "from sklearn.model_selection import StratifiedKFold, LeaveOneGroupOut, StratifiedGroupKFold\n",
    "SEED = 42\n",
    "\n",
    "# variables\n",
    "folds = 5\n",
    "indices = np.arange(N)\n",
    "epochs = 10\n",
    "learning_rate = 1e-3\n",
    "batch_size = 16\n",
    "\n",
    "# load labels\n",
    "y = np.empty(N, dtype=int)\n",
    "for i in range(N):\n",
    "    y[i] = np.load(path + f'/labels{i}.npy', allow_pickle=True)[variable] # TODO: multiclass\n",
    "\n",
    "# CV\n",
    "cv = StratifiedKFold(n_splits=folds, shuffle=True, random_state=SEED)\n",
    "scores_cv = []\n",
    "\n",
    "print(f'Starting cross-validation for physical fatigue')\n",
    "with tqdm(total=folds) as pbar:\n",
    "    for i, (train_indices, test_indices) in enumerate(cv.split(indices, y, groups=subjects)):\n",
    "        # training set\n",
    "        train_dataloader = DataGenerator(path, train_indices, batch_size=batch_size)\n",
    "\n",
    "        # weights for loss function\n",
    "        sample_weights = get_weighting_factor(path, train_indices)\n",
    "        print(sample_weights)\n",
    "\n",
    "        # model\n",
    "        model = CNN()\n",
    "        model.compile(optimizer=Adam(learning_rate=learning_rate),\n",
    "                      loss=weighted_cross_entropy(sample_weights))\n",
    "\n",
    "        # training\n",
    "        history = model.fit_generator(generator=train_dataloader,\n",
    "                                      epochs=epochs)\n",
    "\n",
    "        # evaluate\n",
    "        scores = test_set_evaluator(model, path, test_indices, verbose=False)\n",
    "        scores_cv.append(scores)\n",
    "\n",
    "        # for progress bar\n",
    "        pbar.update(1)\n",
    "        pbar.set_description(f' Fold {i+1} F1: {scores[\"f1\"]}')\n",
    "\n",
    "# final evaluation\n",
    "print('Performance model:')\n",
    "metrics = scores_cv[0].keys()\n",
    "for metric in metrics:\n",
    "    if metric == 'confusion': # ignore confusion_matrix\n",
    "        continue\n",
    "\n",
    "    mean = np.mean([scores_cv_i[metric] for scores_cv_i in scores_cv])\n",
    "    std = np.std([scores_cv_i[metric] for scores_cv_i in scores_cv])\n",
    "    print(f' {metric}: {round(mean, 3)} +- {round(std, 3)} \\n')"
   ],
   "metadata": {
    "collapsed": false,
    "pycharm": {
     "name": "#%%\n"
    }
   }
  },
  {
   "cell_type": "code",
   "execution_count": 29,
   "outputs": [
    {
     "name": "stdout",
     "output_type": "stream",
     "text": [
      "Starting cross-validation for physical fatigue\n"
     ]
    },
    {
     "name": "stderr",
     "output_type": "stream",
     "text": [
      "  0%|          | 0/24 [00:00<?, ?it/s]"
     ]
    },
    {
     "name": "stdout",
     "output_type": "stream",
     "text": [
      "WARNING:tensorflow:`input_shape` is undefined or non-square, or `rows` is not in [96, 128, 160, 192, 224]. Weights for input shape (224, 224) will be loaded as the default.\n"
     ]
    },
    {
     "name": "stderr",
     "output_type": "stream",
     "text": [
      "C:\\Users\\jjung\\anaconda3\\envs\\tf-sklearn-keras\\lib\\site-packages\\keras\\engine\\training.py:1972: UserWarning: `Model.fit_generator` is deprecated and will be removed in a future version. Please use `Model.fit`, which supports generators.\n",
      "  warnings.warn('`Model.fit_generator` is deprecated and '\n"
     ]
    },
    {
     "name": "stdout",
     "output_type": "stream",
     "text": [
      "74/74 [==============================] - 52s 340ms/step - loss: 0.3964\n"
     ]
    },
    {
     "name": "stderr",
     "output_type": "stream",
     "text": [
      " Fold 1 F1: 0.38252873563218387:   4%|▍         | 1/24 [01:15<28:58, 75.57s/it]"
     ]
    },
    {
     "name": "stdout",
     "output_type": "stream",
     "text": [
      "WARNING:tensorflow:`input_shape` is undefined or non-square, or `rows` is not in [96, 128, 160, 192, 224]. Weights for input shape (224, 224) will be loaded as the default.\n"
     ]
    },
    {
     "name": "stderr",
     "output_type": "stream",
     "text": [
      "C:\\Users\\jjung\\anaconda3\\envs\\tf-sklearn-keras\\lib\\site-packages\\keras\\engine\\training.py:1972: UserWarning: `Model.fit_generator` is deprecated and will be removed in a future version. Please use `Model.fit`, which supports generators.\n",
      "  warnings.warn('`Model.fit_generator` is deprecated and '\n"
     ]
    },
    {
     "name": "stdout",
     "output_type": "stream",
     "text": [
      "74/74 [==============================] - 52s 328ms/step - loss: 0.4325\n"
     ]
    },
    {
     "name": "stderr",
     "output_type": "stream",
     "text": [
      " Fold 2 F1: 0.2716577540106952:   8%|▊         | 2/24 [02:30<27:39, 75.42s/it] "
     ]
    },
    {
     "name": "stdout",
     "output_type": "stream",
     "text": [
      "WARNING:tensorflow:`input_shape` is undefined or non-square, or `rows` is not in [96, 128, 160, 192, 224]. Weights for input shape (224, 224) will be loaded as the default.\n"
     ]
    },
    {
     "name": "stderr",
     "output_type": "stream",
     "text": [
      "C:\\Users\\jjung\\anaconda3\\envs\\tf-sklearn-keras\\lib\\site-packages\\keras\\engine\\training.py:1972: UserWarning: `Model.fit_generator` is deprecated and will be removed in a future version. Please use `Model.fit`, which supports generators.\n",
      "  warnings.warn('`Model.fit_generator` is deprecated and '\n"
     ]
    },
    {
     "name": "stdout",
     "output_type": "stream",
     "text": [
      "74/74 [==============================] - 50s 328ms/step - loss: 0.3764\n"
     ]
    },
    {
     "name": "stderr",
     "output_type": "stream",
     "text": [
      " Fold 3 F1: 0.41148325358851673:  12%|█▎        | 3/24 [03:39<25:16, 72.23s/it]"
     ]
    },
    {
     "name": "stdout",
     "output_type": "stream",
     "text": [
      "WARNING:tensorflow:`input_shape` is undefined or non-square, or `rows` is not in [96, 128, 160, 192, 224]. Weights for input shape (224, 224) will be loaded as the default.\n"
     ]
    },
    {
     "name": "stderr",
     "output_type": "stream",
     "text": [
      "C:\\Users\\jjung\\anaconda3\\envs\\tf-sklearn-keras\\lib\\site-packages\\keras\\engine\\training.py:1972: UserWarning: `Model.fit_generator` is deprecated and will be removed in a future version. Please use `Model.fit`, which supports generators.\n",
      "  warnings.warn('`Model.fit_generator` is deprecated and '\n"
     ]
    },
    {
     "name": "stdout",
     "output_type": "stream",
     "text": [
      "75/75 [==============================] - 53s 322ms/step - loss: 0.4161\n"
     ]
    },
    {
     "name": "stderr",
     "output_type": "stream",
     "text": [
      " Fold 4 F1: 1.0:  17%|█▋        | 4/24 [04:50<23:54, 71.74s/it]                "
     ]
    },
    {
     "name": "stdout",
     "output_type": "stream",
     "text": [
      "WARNING:tensorflow:`input_shape` is undefined or non-square, or `rows` is not in [96, 128, 160, 192, 224]. Weights for input shape (224, 224) will be loaded as the default.\n"
     ]
    },
    {
     "name": "stderr",
     "output_type": "stream",
     "text": [
      "C:\\Users\\jjung\\anaconda3\\envs\\tf-sklearn-keras\\lib\\site-packages\\keras\\engine\\training.py:1972: UserWarning: `Model.fit_generator` is deprecated and will be removed in a future version. Please use `Model.fit`, which supports generators.\n",
      "  warnings.warn('`Model.fit_generator` is deprecated and '\n"
     ]
    },
    {
     "name": "stdout",
     "output_type": "stream",
     "text": [
      "75/75 [==============================] - 51s 321ms/step - loss: 0.4032\n"
     ]
    },
    {
     "name": "stderr",
     "output_type": "stream",
     "text": [
      "C:\\Users\\jjung\\anaconda3\\envs\\tf-sklearn-keras\\lib\\site-packages\\sklearn\\metrics\\_classification.py:1334: UndefinedMetricWarning: Precision is ill-defined and being set to 0.0 in labels with no predicted samples. Use `zero_division` parameter to control this behavior.\n",
      "  _warn_prf(average, modifier, msg_start, len(result))\n",
      " Fold 5 F1: 0.4499999999999999:  21%|██        | 5/24 [05:57<22:13, 70.17s/it]"
     ]
    },
    {
     "name": "stdout",
     "output_type": "stream",
     "text": [
      "WARNING:tensorflow:`input_shape` is undefined or non-square, or `rows` is not in [96, 128, 160, 192, 224]. Weights for input shape (224, 224) will be loaded as the default.\n"
     ]
    },
    {
     "name": "stderr",
     "output_type": "stream",
     "text": [
      "C:\\Users\\jjung\\anaconda3\\envs\\tf-sklearn-keras\\lib\\site-packages\\keras\\engine\\training.py:1972: UserWarning: `Model.fit_generator` is deprecated and will be removed in a future version. Please use `Model.fit`, which supports generators.\n",
      "  warnings.warn('`Model.fit_generator` is deprecated and '\n"
     ]
    },
    {
     "name": "stdout",
     "output_type": "stream",
     "text": [
      "74/74 [==============================] - 50s 323ms/step - loss: 0.4658\n"
     ]
    },
    {
     "name": "stderr",
     "output_type": "stream",
     "text": [
      " Fold 6 F1: 0.4200000000000001:  25%|██▌       | 6/24 [07:10<21:18, 71.04s/it]"
     ]
    },
    {
     "name": "stdout",
     "output_type": "stream",
     "text": [
      "WARNING:tensorflow:`input_shape` is undefined or non-square, or `rows` is not in [96, 128, 160, 192, 224]. Weights for input shape (224, 224) will be loaded as the default.\n"
     ]
    },
    {
     "name": "stderr",
     "output_type": "stream",
     "text": [
      "C:\\Users\\jjung\\anaconda3\\envs\\tf-sklearn-keras\\lib\\site-packages\\keras\\engine\\training.py:1972: UserWarning: `Model.fit_generator` is deprecated and will be removed in a future version. Please use `Model.fit`, which supports generators.\n",
      "  warnings.warn('`Model.fit_generator` is deprecated and '\n"
     ]
    },
    {
     "name": "stdout",
     "output_type": "stream",
     "text": [
      "74/74 [==============================] - 51s 322ms/step - loss: 0.4068\n"
     ]
    },
    {
     "name": "stderr",
     "output_type": "stream",
     "text": [
      "C:\\Users\\jjung\\anaconda3\\envs\\tf-sklearn-keras\\lib\\site-packages\\sklearn\\metrics\\_classification.py:1334: UndefinedMetricWarning: Precision is ill-defined and being set to 0.0 in labels with no predicted samples. Use `zero_division` parameter to control this behavior.\n",
      "  _warn_prf(average, modifier, msg_start, len(result))\n",
      " Fold 7 F1: 0.3113513513513514:  29%|██▉       | 7/24 [08:23<20:21, 71.85s/it]"
     ]
    },
    {
     "name": "stdout",
     "output_type": "stream",
     "text": [
      "WARNING:tensorflow:`input_shape` is undefined or non-square, or `rows` is not in [96, 128, 160, 192, 224]. Weights for input shape (224, 224) will be loaded as the default.\n"
     ]
    },
    {
     "name": "stderr",
     "output_type": "stream",
     "text": [
      "C:\\Users\\jjung\\anaconda3\\envs\\tf-sklearn-keras\\lib\\site-packages\\keras\\engine\\training.py:1972: UserWarning: `Model.fit_generator` is deprecated and will be removed in a future version. Please use `Model.fit`, which supports generators.\n",
      "  warnings.warn('`Model.fit_generator` is deprecated and '\n"
     ]
    },
    {
     "name": "stdout",
     "output_type": "stream",
     "text": [
      "74/74 [==============================] - 50s 321ms/step - loss: 0.3899\n"
     ]
    },
    {
     "name": "stderr",
     "output_type": "stream",
     "text": [
      " Fold 8 F1: 0.5952380952380953:  33%|███▎      | 8/24 [09:32<18:51, 70.71s/it]"
     ]
    },
    {
     "name": "stdout",
     "output_type": "stream",
     "text": [
      "WARNING:tensorflow:`input_shape` is undefined or non-square, or `rows` is not in [96, 128, 160, 192, 224]. Weights for input shape (224, 224) will be loaded as the default.\n"
     ]
    },
    {
     "name": "stderr",
     "output_type": "stream",
     "text": [
      "C:\\Users\\jjung\\anaconda3\\envs\\tf-sklearn-keras\\lib\\site-packages\\keras\\engine\\training.py:1972: UserWarning: `Model.fit_generator` is deprecated and will be removed in a future version. Please use `Model.fit`, which supports generators.\n",
      "  warnings.warn('`Model.fit_generator` is deprecated and '\n"
     ]
    },
    {
     "name": "stdout",
     "output_type": "stream",
     "text": [
      "74/74 [==============================] - 53s 320ms/step - loss: 0.4149\n"
     ]
    },
    {
     "name": "stderr",
     "output_type": "stream",
     "text": [
      " Fold 9 F1: 0.7337662337662338:  38%|███▊      | 9/24 [10:44<17:48, 71.24s/it]"
     ]
    },
    {
     "name": "stdout",
     "output_type": "stream",
     "text": [
      "WARNING:tensorflow:`input_shape` is undefined or non-square, or `rows` is not in [96, 128, 160, 192, 224]. Weights for input shape (224, 224) will be loaded as the default.\n"
     ]
    },
    {
     "name": "stderr",
     "output_type": "stream",
     "text": [
      "C:\\Users\\jjung\\anaconda3\\envs\\tf-sklearn-keras\\lib\\site-packages\\keras\\engine\\training.py:1972: UserWarning: `Model.fit_generator` is deprecated and will be removed in a future version. Please use `Model.fit`, which supports generators.\n",
      "  warnings.warn('`Model.fit_generator` is deprecated and '\n"
     ]
    },
    {
     "name": "stdout",
     "output_type": "stream",
     "text": [
      "74/74 [==============================] - 52s 325ms/step - loss: 0.4022\n"
     ]
    },
    {
     "name": "stderr",
     "output_type": "stream",
     "text": [
      "C:\\Users\\jjung\\anaconda3\\envs\\tf-sklearn-keras\\lib\\site-packages\\sklearn\\metrics\\_classification.py:1334: UndefinedMetricWarning: Precision is ill-defined and being set to 0.0 in labels with no predicted samples. Use `zero_division` parameter to control this behavior.\n",
      "  _warn_prf(average, modifier, msg_start, len(result))\n",
      " Fold 10 F1: 0.030100334448160536:  42%|████▏     | 10/24 [11:58<16:47, 71.95s/it]"
     ]
    },
    {
     "name": "stdout",
     "output_type": "stream",
     "text": [
      "WARNING:tensorflow:`input_shape` is undefined or non-square, or `rows` is not in [96, 128, 160, 192, 224]. Weights for input shape (224, 224) will be loaded as the default.\n"
     ]
    },
    {
     "name": "stderr",
     "output_type": "stream",
     "text": [
      "C:\\Users\\jjung\\anaconda3\\envs\\tf-sklearn-keras\\lib\\site-packages\\keras\\engine\\training.py:1972: UserWarning: `Model.fit_generator` is deprecated and will be removed in a future version. Please use `Model.fit`, which supports generators.\n",
      "  warnings.warn('`Model.fit_generator` is deprecated and '\n"
     ]
    },
    {
     "name": "stdout",
     "output_type": "stream",
     "text": [
      "74/74 [==============================] - 51s 331ms/step - loss: 0.3849\n"
     ]
    },
    {
     "name": "stderr",
     "output_type": "stream",
     "text": [
      " Fold 11 F1: 0.21853146853146854:  46%|████▌     | 11/24 [13:08<15:27, 71.37s/it] "
     ]
    },
    {
     "name": "stdout",
     "output_type": "stream",
     "text": [
      "WARNING:tensorflow:`input_shape` is undefined or non-square, or `rows` is not in [96, 128, 160, 192, 224]. Weights for input shape (224, 224) will be loaded as the default.\n"
     ]
    },
    {
     "name": "stderr",
     "output_type": "stream",
     "text": [
      "C:\\Users\\jjung\\anaconda3\\envs\\tf-sklearn-keras\\lib\\site-packages\\keras\\engine\\training.py:1972: UserWarning: `Model.fit_generator` is deprecated and will be removed in a future version. Please use `Model.fit`, which supports generators.\n",
      "  warnings.warn('`Model.fit_generator` is deprecated and '\n"
     ]
    },
    {
     "name": "stdout",
     "output_type": "stream",
     "text": [
      "74/74 [==============================] - 54s 322ms/step - loss: 0.4224\n"
     ]
    },
    {
     "name": "stderr",
     "output_type": "stream",
     "text": [
      "C:\\Users\\jjung\\anaconda3\\envs\\tf-sklearn-keras\\lib\\site-packages\\sklearn\\metrics\\_classification.py:2006: UserWarning: y_pred contains classes not in y_true\n",
      "  warnings.warn(\"y_pred contains classes not in y_true\")\n",
      "C:\\Users\\jjung\\anaconda3\\envs\\tf-sklearn-keras\\lib\\site-packages\\sklearn\\metrics\\_classification.py:1334: UndefinedMetricWarning: Recall is ill-defined and being set to 0.0 in labels with no true samples. Use `zero_division` parameter to control this behavior.\n",
      "  _warn_prf(average, modifier, msg_start, len(result))\n",
      " Fold 12 F1: 0.8421052631578948:  50%|█████     | 12/24 [14:21<14:21, 71.82s/it] "
     ]
    },
    {
     "name": "stdout",
     "output_type": "stream",
     "text": [
      "WARNING:tensorflow:`input_shape` is undefined or non-square, or `rows` is not in [96, 128, 160, 192, 224]. Weights for input shape (224, 224) will be loaded as the default.\n"
     ]
    },
    {
     "name": "stderr",
     "output_type": "stream",
     "text": [
      "C:\\Users\\jjung\\anaconda3\\envs\\tf-sklearn-keras\\lib\\site-packages\\keras\\engine\\training.py:1972: UserWarning: `Model.fit_generator` is deprecated and will be removed in a future version. Please use `Model.fit`, which supports generators.\n",
      "  warnings.warn('`Model.fit_generator` is deprecated and '\n"
     ]
    },
    {
     "name": "stdout",
     "output_type": "stream",
     "text": [
      "75/75 [==============================] - 53s 335ms/step - loss: 0.4227\n"
     ]
    },
    {
     "name": "stderr",
     "output_type": "stream",
     "text": [
      "C:\\Users\\jjung\\anaconda3\\envs\\tf-sklearn-keras\\lib\\site-packages\\sklearn\\metrics\\_classification.py:1334: UndefinedMetricWarning: Precision is ill-defined and being set to 0.0 in labels with no predicted samples. Use `zero_division` parameter to control this behavior.\n",
      "  _warn_prf(average, modifier, msg_start, len(result))\n",
      " Fold 13 F1: 0.015151515151515154:  54%|█████▍    | 13/24 [15:30<13:03, 71.21s/it]"
     ]
    },
    {
     "name": "stdout",
     "output_type": "stream",
     "text": [
      "WARNING:tensorflow:`input_shape` is undefined or non-square, or `rows` is not in [96, 128, 160, 192, 224]. Weights for input shape (224, 224) will be loaded as the default.\n"
     ]
    },
    {
     "name": "stderr",
     "output_type": "stream",
     "text": [
      "C:\\Users\\jjung\\anaconda3\\envs\\tf-sklearn-keras\\lib\\site-packages\\keras\\engine\\training.py:1972: UserWarning: `Model.fit_generator` is deprecated and will be removed in a future version. Please use `Model.fit`, which supports generators.\n",
      "  warnings.warn('`Model.fit_generator` is deprecated and '\n"
     ]
    },
    {
     "name": "stdout",
     "output_type": "stream",
     "text": [
      "74/74 [==============================] - 54s 331ms/step - loss: 0.5404\n"
     ]
    },
    {
     "name": "stderr",
     "output_type": "stream",
     "text": [
      " Fold 14 F1: 0.2715484363081617:  58%|█████▊    | 14/24 [16:43<11:56, 71.65s/it]  "
     ]
    },
    {
     "name": "stdout",
     "output_type": "stream",
     "text": [
      "WARNING:tensorflow:`input_shape` is undefined or non-square, or `rows` is not in [96, 128, 160, 192, 224]. Weights for input shape (224, 224) will be loaded as the default.\n"
     ]
    },
    {
     "name": "stderr",
     "output_type": "stream",
     "text": [
      "C:\\Users\\jjung\\anaconda3\\envs\\tf-sklearn-keras\\lib\\site-packages\\keras\\engine\\training.py:1972: UserWarning: `Model.fit_generator` is deprecated and will be removed in a future version. Please use `Model.fit`, which supports generators.\n",
      "  warnings.warn('`Model.fit_generator` is deprecated and '\n"
     ]
    },
    {
     "name": "stdout",
     "output_type": "stream",
     "text": [
      "74/74 [==============================] - 52s 331ms/step - loss: 0.4705\n"
     ]
    },
    {
     "name": "stderr",
     "output_type": "stream",
     "text": [
      " Fold 15 F1: 0.31029411764705883:  62%|██████▎   | 15/24 [17:55<10:44, 71.63s/it]"
     ]
    },
    {
     "name": "stdout",
     "output_type": "stream",
     "text": [
      "WARNING:tensorflow:`input_shape` is undefined or non-square, or `rows` is not in [96, 128, 160, 192, 224]. Weights for input shape (224, 224) will be loaded as the default.\n"
     ]
    },
    {
     "name": "stderr",
     "output_type": "stream",
     "text": [
      "C:\\Users\\jjung\\anaconda3\\envs\\tf-sklearn-keras\\lib\\site-packages\\keras\\engine\\training.py:1972: UserWarning: `Model.fit_generator` is deprecated and will be removed in a future version. Please use `Model.fit`, which supports generators.\n",
      "  warnings.warn('`Model.fit_generator` is deprecated and '\n"
     ]
    },
    {
     "name": "stdout",
     "output_type": "stream",
     "text": [
      "74/74 [==============================] - 59s 347ms/step - loss: 0.4361\n"
     ]
    },
    {
     "name": "stderr",
     "output_type": "stream",
     "text": [
      " Fold 16 F1: 1.0:  67%|██████▋   | 16/24 [19:15<09:53, 74.21s/it]                "
     ]
    },
    {
     "name": "stdout",
     "output_type": "stream",
     "text": [
      "WARNING:tensorflow:`input_shape` is undefined or non-square, or `rows` is not in [96, 128, 160, 192, 224]. Weights for input shape (224, 224) will be loaded as the default.\n"
     ]
    },
    {
     "name": "stderr",
     "output_type": "stream",
     "text": [
      "C:\\Users\\jjung\\anaconda3\\envs\\tf-sklearn-keras\\lib\\site-packages\\keras\\engine\\training.py:1972: UserWarning: `Model.fit_generator` is deprecated and will be removed in a future version. Please use `Model.fit`, which supports generators.\n",
      "  warnings.warn('`Model.fit_generator` is deprecated and '\n"
     ]
    },
    {
     "name": "stdout",
     "output_type": "stream",
     "text": [
      "75/75 [==============================] - 53s 332ms/step - loss: 0.4541\n"
     ]
    },
    {
     "name": "stderr",
     "output_type": "stream",
     "text": [
      " Fold 17 F1: 1.0:  71%|███████   | 17/24 [20:25<08:31, 73.04s/it]"
     ]
    },
    {
     "name": "stdout",
     "output_type": "stream",
     "text": [
      "WARNING:tensorflow:`input_shape` is undefined or non-square, or `rows` is not in [96, 128, 160, 192, 224]. Weights for input shape (224, 224) will be loaded as the default.\n"
     ]
    },
    {
     "name": "stderr",
     "output_type": "stream",
     "text": [
      "C:\\Users\\jjung\\anaconda3\\envs\\tf-sklearn-keras\\lib\\site-packages\\keras\\engine\\training.py:1972: UserWarning: `Model.fit_generator` is deprecated and will be removed in a future version. Please use `Model.fit`, which supports generators.\n",
      "  warnings.warn('`Model.fit_generator` is deprecated and '\n"
     ]
    },
    {
     "name": "stdout",
     "output_type": "stream",
     "text": [
      "74/74 [==============================] - 54s 335ms/step - loss: 0.3889\n"
     ]
    },
    {
     "name": "stderr",
     "output_type": "stream",
     "text": [
      "C:\\Users\\jjung\\anaconda3\\envs\\tf-sklearn-keras\\lib\\site-packages\\sklearn\\metrics\\_classification.py:1334: UndefinedMetricWarning: Precision is ill-defined and being set to 0.0 in labels with no predicted samples. Use `zero_division` parameter to control this behavior.\n",
      "  _warn_prf(average, modifier, msg_start, len(result))\n",
      " Fold 18 F1: 0.2880952380952381:  75%|███████▌  | 18/24 [21:43<07:27, 74.63s/it]"
     ]
    },
    {
     "name": "stdout",
     "output_type": "stream",
     "text": [
      "WARNING:tensorflow:`input_shape` is undefined or non-square, or `rows` is not in [96, 128, 160, 192, 224]. Weights for input shape (224, 224) will be loaded as the default.\n"
     ]
    },
    {
     "name": "stderr",
     "output_type": "stream",
     "text": [
      "C:\\Users\\jjung\\anaconda3\\envs\\tf-sklearn-keras\\lib\\site-packages\\keras\\engine\\training.py:1972: UserWarning: `Model.fit_generator` is deprecated and will be removed in a future version. Please use `Model.fit`, which supports generators.\n",
      "  warnings.warn('`Model.fit_generator` is deprecated and '\n"
     ]
    },
    {
     "name": "stdout",
     "output_type": "stream",
     "text": [
      "75/75 [==============================] - 54s 340ms/step - loss: 0.4140\n"
     ]
    },
    {
     "name": "stderr",
     "output_type": "stream",
     "text": [
      "C:\\Users\\jjung\\anaconda3\\envs\\tf-sklearn-keras\\lib\\site-packages\\sklearn\\metrics\\_classification.py:2006: UserWarning: y_pred contains classes not in y_true\n",
      "  warnings.warn(\"y_pred contains classes not in y_true\")\n",
      "C:\\Users\\jjung\\anaconda3\\envs\\tf-sklearn-keras\\lib\\site-packages\\sklearn\\metrics\\_classification.py:1334: UndefinedMetricWarning: Recall is ill-defined and being set to 0.0 in labels with no true samples. Use `zero_division` parameter to control this behavior.\n",
      "  _warn_prf(average, modifier, msg_start, len(result))\n",
      " Fold 19 F1: 0.16666666666666669:  79%|███████▉  | 19/24 [22:58<06:12, 74.51s/it]"
     ]
    },
    {
     "name": "stdout",
     "output_type": "stream",
     "text": [
      "WARNING:tensorflow:`input_shape` is undefined or non-square, or `rows` is not in [96, 128, 160, 192, 224]. Weights for input shape (224, 224) will be loaded as the default.\n"
     ]
    },
    {
     "name": "stderr",
     "output_type": "stream",
     "text": [
      "C:\\Users\\jjung\\anaconda3\\envs\\tf-sklearn-keras\\lib\\site-packages\\keras\\engine\\training.py:1972: UserWarning: `Model.fit_generator` is deprecated and will be removed in a future version. Please use `Model.fit`, which supports generators.\n",
      "  warnings.warn('`Model.fit_generator` is deprecated and '\n"
     ]
    },
    {
     "name": "stdout",
     "output_type": "stream",
     "text": [
      "61/61 [==============================] - 49s 360ms/step - loss: 0.3379\n"
     ]
    },
    {
     "name": "stderr",
     "output_type": "stream",
     "text": [
      " Fold 20 F1: 0.5587076438140267:  83%|████████▎ | 20/24 [24:35<05:25, 81.34s/it] "
     ]
    },
    {
     "name": "stdout",
     "output_type": "stream",
     "text": [
      "WARNING:tensorflow:`input_shape` is undefined or non-square, or `rows` is not in [96, 128, 160, 192, 224]. Weights for input shape (224, 224) will be loaded as the default.\n"
     ]
    },
    {
     "name": "stderr",
     "output_type": "stream",
     "text": [
      "C:\\Users\\jjung\\anaconda3\\envs\\tf-sklearn-keras\\lib\\site-packages\\keras\\engine\\training.py:1972: UserWarning: `Model.fit_generator` is deprecated and will be removed in a future version. Please use `Model.fit`, which supports generators.\n",
      "  warnings.warn('`Model.fit_generator` is deprecated and '\n"
     ]
    },
    {
     "name": "stdout",
     "output_type": "stream",
     "text": [
      "55/55 [==============================] - 51s 357ms/step - loss: 0.5526\n"
     ]
    },
    {
     "name": "stderr",
     "output_type": "stream",
     "text": [
      "C:\\Users\\jjung\\anaconda3\\envs\\tf-sklearn-keras\\lib\\site-packages\\sklearn\\metrics\\_classification.py:1334: UndefinedMetricWarning: Precision is ill-defined and being set to 0.0 in labels with no predicted samples. Use `zero_division` parameter to control this behavior.\n",
      "  _warn_prf(average, modifier, msg_start, len(result))\n",
      " Fold 21 F1: 0.9217638691322902:  88%|████████▊ | 21/24 [26:25<04:29, 89.90s/it]"
     ]
    },
    {
     "name": "stdout",
     "output_type": "stream",
     "text": [
      "WARNING:tensorflow:`input_shape` is undefined or non-square, or `rows` is not in [96, 128, 160, 192, 224]. Weights for input shape (224, 224) will be loaded as the default.\n"
     ]
    },
    {
     "name": "stderr",
     "output_type": "stream",
     "text": [
      "C:\\Users\\jjung\\anaconda3\\envs\\tf-sklearn-keras\\lib\\site-packages\\keras\\engine\\training.py:1972: UserWarning: `Model.fit_generator` is deprecated and will be removed in a future version. Please use `Model.fit`, which supports generators.\n",
      "  warnings.warn('`Model.fit_generator` is deprecated and '\n"
     ]
    },
    {
     "name": "stdout",
     "output_type": "stream",
     "text": [
      "73/73 [==============================] - 57s 354ms/step - loss: 0.3964\n"
     ]
    },
    {
     "name": "stderr",
     "output_type": "stream",
     "text": [
      "C:\\Users\\jjung\\anaconda3\\envs\\tf-sklearn-keras\\lib\\site-packages\\sklearn\\metrics\\_classification.py:1334: UndefinedMetricWarning: Precision is ill-defined and being set to 0.0 in labels with no predicted samples. Use `zero_division` parameter to control this behavior.\n",
      "  _warn_prf(average, modifier, msg_start, len(result))\n",
      " Fold 22 F1: 0.27081770442610653:  92%|█████████▏| 22/24 [27:42<02:52, 86.10s/it]"
     ]
    },
    {
     "name": "stdout",
     "output_type": "stream",
     "text": [
      "WARNING:tensorflow:`input_shape` is undefined or non-square, or `rows` is not in [96, 128, 160, 192, 224]. Weights for input shape (224, 224) will be loaded as the default.\n"
     ]
    },
    {
     "name": "stderr",
     "output_type": "stream",
     "text": [
      "C:\\Users\\jjung\\anaconda3\\envs\\tf-sklearn-keras\\lib\\site-packages\\keras\\engine\\training.py:1972: UserWarning: `Model.fit_generator` is deprecated and will be removed in a future version. Please use `Model.fit`, which supports generators.\n",
      "  warnings.warn('`Model.fit_generator` is deprecated and '\n"
     ]
    },
    {
     "name": "stdout",
     "output_type": "stream",
     "text": [
      "65/65 [==============================] - 51s 350ms/step - loss: 0.4552\n"
     ]
    },
    {
     "name": "stderr",
     "output_type": "stream",
     "text": [
      " Fold 23 F1: 0.7670712857134943:  96%|█████████▌| 23/24 [29:10<01:26, 86.66s/it] "
     ]
    },
    {
     "name": "stdout",
     "output_type": "stream",
     "text": [
      "WARNING:tensorflow:`input_shape` is undefined or non-square, or `rows` is not in [96, 128, 160, 192, 224]. Weights for input shape (224, 224) will be loaded as the default.\n"
     ]
    },
    {
     "name": "stderr",
     "output_type": "stream",
     "text": [
      "C:\\Users\\jjung\\anaconda3\\envs\\tf-sklearn-keras\\lib\\site-packages\\keras\\engine\\training.py:1972: UserWarning: `Model.fit_generator` is deprecated and will be removed in a future version. Please use `Model.fit`, which supports generators.\n",
      "  warnings.warn('`Model.fit_generator` is deprecated and '\n"
     ]
    },
    {
     "name": "stdout",
     "output_type": "stream",
     "text": [
      "71/71 [==============================] - 53s 344ms/step - loss: 0.4638\n"
     ]
    },
    {
     "name": "stderr",
     "output_type": "stream",
     "text": [
      " Fold 24 F1: 0.35940224159402245: 100%|██████████| 24/24 [30:29<00:00, 76.23s/it]"
     ]
    },
    {
     "name": "stdout",
     "output_type": "stream",
     "text": [
      "Performance model:\n",
      " accuracy: 0.52 +- 0.266 \n",
      "\n",
      " balanced_accuracy: 0.539 +- 0.215 \n",
      "\n",
      " f1: 0.483 +- 0.299 \n",
      "\n",
      " recall: 0.52 +- 0.266 \n",
      "\n",
      " precision: 0.63 +- 0.334 \n",
      "\n"
     ]
    },
    {
     "name": "stderr",
     "output_type": "stream",
     "text": [
      "\n"
     ]
    }
   ],
   "source": [
    "# LOSO\n",
    "\n",
    "# variables\n",
    "folds = len(np.unique(subjects))\n",
    "indices = np.arange(N)\n",
    "epochs = 1\n",
    "learning_rate = 1e-3\n",
    "batch_size = 16\n",
    "\n",
    "# load labels\n",
    "y = np.empty(N, dtype=int)\n",
    "for i in range(N):\n",
    "    y[i] = np.load(path + f'/labels{i}.npy', allow_pickle=True)[variable] # TODO: multiclass\n",
    "\n",
    "# CV\n",
    "cv = LeaveOneGroupOut()\n",
    "scores_cv = []\n",
    "\n",
    "print(f'Starting cross-validation for physical fatigue')\n",
    "with tqdm(total=folds) as pbar:\n",
    "    for i, (train_indices, test_indices) in enumerate(cv.split(indices, y, groups=subjects)):\n",
    "        # training set\n",
    "        train_dataloader = DataGenerator(path, train_indices, batch_size=batch_size)\n",
    "\n",
    "        # weights for loss function\n",
    "        sample_weights = get_weighting_factor(path, train_indices)\n",
    "\n",
    "        # model\n",
    "        model = CNN()\n",
    "        model.compile(optimizer=Adam(learning_rate=learning_rate),\n",
    "                      loss=weighted_cross_entropy(sample_weights))\n",
    "\n",
    "        # training\n",
    "        history = model.fit_generator(generator=train_dataloader,\n",
    "                                      epochs=epochs)\n",
    "\n",
    "        # evaluate\n",
    "        scores = test_set_evaluator(model, path, test_indices, verbose=False)\n",
    "        scores_cv.append(scores)\n",
    "\n",
    "        # for progress bar\n",
    "        pbar.update(1)\n",
    "        pbar.set_description(f' Fold {i+1} F1: {scores[\"f1\"]}')\n",
    "\n",
    "# final evaluation\n",
    "print('Performance model:')\n",
    "metrics = scores_cv[0].keys()\n",
    "for metric in metrics:\n",
    "    if metric == 'confusion': # ignore confusion_matrix\n",
    "        continue\n",
    "\n",
    "    mean = np.mean([scores_cv_i[metric] for scores_cv_i in scores_cv])\n",
    "    std = np.std([scores_cv_i[metric] for scores_cv_i in scores_cv])\n",
    "    print(f' {metric}: {round(mean, 3)} +- {round(std, 3)} \\n')"
   ],
   "metadata": {
    "collapsed": false,
    "pycharm": {
     "name": "#%%\n"
    }
   }
  },
  {
   "cell_type": "code",
   "execution_count": null,
   "outputs": [],
   "source": [],
   "metadata": {
    "collapsed": false,
    "pycharm": {
     "name": "#%%\n"
    }
   }
  }
 ],
 "metadata": {
  "kernelspec": {
   "display_name": "Python 3",
   "language": "python",
   "name": "python3"
  },
  "language_info": {
   "codemirror_mode": {
    "name": "ipython",
    "version": 2
   },
   "file_extension": ".py",
   "mimetype": "text/x-python",
   "name": "python",
   "nbconvert_exporter": "python",
   "pygments_lexer": "ipython2",
   "version": "2.7.6"
  }
 },
 "nbformat": 4,
 "nbformat_minor": 0
}