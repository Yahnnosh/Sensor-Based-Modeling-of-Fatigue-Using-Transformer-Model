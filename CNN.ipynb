{
 "cells": [
  {
   "cell_type": "code",
   "execution_count": 2,
   "metadata": {
    "collapsed": true
   },
   "outputs": [
    {
     "ename": "ModuleNotFoundError",
     "evalue": "No module named 'keras'",
     "output_type": "error",
     "traceback": [
      "\u001B[1;31m---------------------------------------------------------------------------\u001B[0m",
      "\u001B[1;31mModuleNotFoundError\u001B[0m                       Traceback (most recent call last)",
      "Input \u001B[1;32mIn [2]\u001B[0m, in \u001B[0;36m<cell line: 1>\u001B[1;34m()\u001B[0m\n\u001B[1;32m----> 1\u001B[0m \u001B[38;5;28;01mimport\u001B[39;00m \u001B[38;5;21;01mkeras\u001B[39;00m\u001B[38;5;21;01m.\u001B[39;00m\u001B[38;5;21;01mutils\u001B[39;00m\n\u001B[0;32m      2\u001B[0m \u001B[38;5;28;01mimport\u001B[39;00m \u001B[38;5;21;01mtensorflow\u001B[39;00m \u001B[38;5;28;01mas\u001B[39;00m \u001B[38;5;21;01mtf\u001B[39;00m\n\u001B[0;32m      3\u001B[0m \u001B[38;5;28;01mfrom\u001B[39;00m \u001B[38;5;21;01mtensorflow\u001B[39;00m\u001B[38;5;21;01m.\u001B[39;00m\u001B[38;5;21;01mkeras\u001B[39;00m \u001B[38;5;28;01mimport\u001B[39;00m layers, models\n",
      "\u001B[1;31mModuleNotFoundError\u001B[0m: No module named 'keras'"
     ]
    }
   ],
   "source": [
    "import keras.utils\n",
    "import tensorflow as tf\n",
    "from tensorflow.keras import layers, models\n",
    "from tensorflow.math import confusion_matrix\n",
    "import numpy as np\n",
    "import matplotlib.pyplot as plt\n",
    "from numba import cuda\n",
    "from tqdm import tqdm\n",
    "import os"
   ]
  },
  {
   "cell_type": "code",
   "execution_count": null,
   "outputs": [],
   "source": [
    "# file path for X, y (combined)\n",
    "path = './Output'\n",
    "\n",
    "# file path for X, y (separated)\n",
    "output_path = './temp'"
   ],
   "metadata": {
    "collapsed": false,
    "pycharm": {
     "name": "#%%\n"
    }
   }
  },
  {
   "cell_type": "code",
   "execution_count": null,
   "outputs": [],
   "source": [
    "N, HEIGHT, WIDTH, CHANNELS = sum([1 for p in os.listdir(output_path) if p[:14] == 'feature_vector']), *np.load(output_path + '/feature_vector0.npy').shape"
   ],
   "metadata": {
    "collapsed": false,
    "pycharm": {
     "name": "#%%\n"
    }
   }
  },
  {
   "cell_type": "markdown",
   "source": [
    "# Preproc (need to do only once)"
   ],
   "metadata": {
    "collapsed": false
   }
  },
  {
   "cell_type": "markdown",
   "source": [
    "Import data"
   ],
   "metadata": {
    "collapsed": false
   }
  },
  {
   "cell_type": "code",
   "execution_count": 3,
   "outputs": [],
   "source": [
    "X = np.load(path + '/feature_vector.npy')\n",
    "Y = np.load(path + '/labels.npy')"
   ],
   "metadata": {
    "collapsed": false,
    "pycharm": {
     "name": "#%%\n"
    }
   }
  },
  {
   "cell_type": "markdown",
   "source": [
    "Reshaping etc."
   ],
   "metadata": {
    "collapsed": false
   }
  },
  {
   "cell_type": "code",
   "execution_count": 4,
   "outputs": [],
   "source": [
    "X = X.reshape(-1, 370, 100, 30).astype('float32') / 255 # normalization + dimension reshape\n",
    "#plt.hist(X.reshape(-1,)) # check if it worked"
   ],
   "metadata": {
    "collapsed": false,
    "pycharm": {
     "name": "#%%\n"
    }
   }
  },
  {
   "cell_type": "code",
   "execution_count": 5,
   "outputs": [],
   "source": [
    "Y = Y[:, 0] # TODO: just phF for now"
   ],
   "metadata": {
    "collapsed": false,
    "pycharm": {
     "name": "#%%\n"
    }
   }
  },
  {
   "cell_type": "markdown",
   "source": [
    "Export as separate files for data generator (WARNING: takes a long time)"
   ],
   "metadata": {
    "collapsed": false
   }
  },
  {
   "cell_type": "code",
   "execution_count": null,
   "outputs": [],
   "source": [
    "with tqdm(total=N) as pbar:\n",
    "    for i, (x, y) in enumerate(zip(X, Y)):\n",
    "        np.save(output_path + f'/feature_vector{i}', X[i])\n",
    "        np.save(output_path + f'/labels{i}', Y[i])\n",
    "        pbar.update(1)"
   ],
   "metadata": {
    "collapsed": false,
    "pycharm": {
     "name": "#%%\n"
    }
   }
  },
  {
   "cell_type": "markdown",
   "source": [
    "# Define data generator"
   ],
   "metadata": {
    "collapsed": false
   }
  },
  {
   "cell_type": "code",
   "execution_count": 4,
   "outputs": [],
   "source": [
    "class DataGenerator(keras.utils.Sequence):\n",
    "\n",
    "    def __init__(self, data_path: str, indices_dataset: list, batch_size=32, dim=(HEIGHT, WIDTH), n_channels=CHANNELS, shuffle=True):\n",
    "        self.data_path = data_path # path to full dataset\n",
    "        self.dim = dim # image dimension\n",
    "        self.batch_size = batch_size\n",
    "        self.indices_dataset = indices_dataset # indices of full dataset (different for train/validation/test set)\n",
    "        self.n_channels = n_channels\n",
    "        self.shuffle = shuffle\n",
    "\n",
    "        self.on_epoch_end() # shuffle data for each epoch\n",
    "\n",
    "    def on_epoch_end(self):\n",
    "        \"\"\"\n",
    "        Shuffle data for each epoch\n",
    "        \"\"\"\n",
    "        if self.shuffle:\n",
    "            np.random.shuffle(self.indices_dataset)\n",
    "\n",
    "    def __data_generation(self, indices):\n",
    "        \"\"\"\n",
    "        Loads and returns datapoints[indices]\n",
    "        \"\"\"\n",
    "        # init\n",
    "        X = np.empty((self.batch_size, *self.dim, self.n_channels))\n",
    "        y = np.empty(self.batch_size, dtype=int)\n",
    "\n",
    "        # load individual datapoints\n",
    "        for i, index in enumerate(indices):\n",
    "            X[i, ] = np.load(self.data_path + f'/feature_vector{index}.npy', allow_pickle=True)\n",
    "            y[i] = np.load(self.data_path + f'/labels{index}.npy', allow_pickle=True)\n",
    "\n",
    "        return X, y\n",
    "\n",
    "    def __len__(self):\n",
    "        \"\"\"\n",
    "        Number of batches per epoch\n",
    "        \"\"\"\n",
    "        return int(np.floor(len(self.indices_dataset) / self.batch_size))\n",
    "\n",
    "    def __getitem__(self, index):\n",
    "        \"\"\"\n",
    "        Generates batch[index]\n",
    "        \"\"\"\n",
    "        # calculate indices of batch\n",
    "        indices = self.indices_dataset[index * self.batch_size:(index + 1) * self.batch_size]\n",
    "\n",
    "        # generate batch\n",
    "        X, y = self.__data_generation(indices)\n",
    "\n",
    "        return X, y"
   ],
   "metadata": {
    "collapsed": false,
    "pycharm": {
     "name": "#%%\n"
    }
   }
  },
  {
   "cell_type": "markdown",
   "source": [
    "# CNN"
   ],
   "metadata": {
    "collapsed": false
   }
  },
  {
   "cell_type": "code",
   "execution_count": 5,
   "outputs": [
    {
     "name": "stdout",
     "output_type": "stream",
     "text": [
      "|val_set|: 813, |train_set|: 1653\n"
     ]
    }
   ],
   "source": [
    "# train/validation split\n",
    "TRAIN_VAL_SPLIT = 0.33\n",
    "\n",
    "permutation_indices = [i for i in range(N)]\n",
    "np.random.shuffle(permutation_indices)\n",
    "\n",
    "validation_indices = permutation_indices[:int(N * TRAIN_VAL_SPLIT)]\n",
    "train_indices = permutation_indices[int(N * TRAIN_VAL_SPLIT):]\n",
    "\n",
    "print(f'|val_set|: {len(validation_indices)}, |train_set|: {len(train_indices)}')"
   ],
   "metadata": {
    "collapsed": false,
    "pycharm": {
     "name": "#%%\n"
    }
   }
  },
  {
   "cell_type": "code",
   "execution_count": 6,
   "outputs": [
    {
     "name": "stdout",
     "output_type": "stream",
     "text": [
      "val_set: (+: 601, -: 212)\n",
      "\n",
      "train_set: (+: 1234, -: 419)\n",
      "train_set (upsampled): (+: 1234, -: 1234)\n"
     ]
    }
   ],
   "source": [
    "# upsampling (imbalanced dataset)\n",
    "Y = np.load(path + '/labels.npy')\n",
    "\n",
    "positive_indices = np.where(Y[validation_indices, 0] == 1)[0] # TODO: only phF for now\n",
    "negative_indices = np.where(Y[validation_indices, 0] == 0)[0] # TODO: only phF for now\n",
    "\n",
    "print(f'val_set: (+: {len(positive_indices)}, -: {len(negative_indices)})\\n')\n",
    "\n",
    "positive_indices = np.where(Y[train_indices, 0] == 1)[0] # TODO: only phF for now\n",
    "negative_indices = np.where(Y[train_indices, 0] == 0)[0] # TODO: only phF for now\n",
    "\n",
    "print(f'train_set: (+: {len(positive_indices)}, -: {len(negative_indices)})')\n",
    "\n",
    "negative_indices_upsampled = np.append(negative_indices,\n",
    "                                       np.random.choice(negative_indices,\n",
    "                                                        size=(len(positive_indices) - len(negative_indices)),\n",
    "                                                        replace=True)) # with replacement\n",
    "\n",
    "print(f'train_set (upsampled): (+: {len(positive_indices)}, -: {len(negative_indices_upsampled)})')"
   ],
   "metadata": {
    "collapsed": false,
    "pycharm": {
     "name": "#%%\n"
    }
   }
  },
  {
   "cell_type": "code",
   "execution_count": 7,
   "outputs": [],
   "source": [
    "training_batch_generator = DataGenerator(data_path=output_path, indices_dataset=train_indices, batch_size=128)\n",
    "validation_batch_generator = DataGenerator(data_path=output_path, indices_dataset=validation_indices, batch_size=1)"
   ],
   "metadata": {
    "collapsed": false,
    "pycharm": {
     "name": "#%%\n"
    }
   }
  },
  {
   "cell_type": "code",
   "execution_count": 8,
   "outputs": [
    {
     "name": "stdout",
     "output_type": "stream",
     "text": [
      "Model: \"sequential\"\n",
      "_________________________________________________________________\n",
      " Layer (type)                Output Shape              Param #   \n",
      "=================================================================\n",
      " conv2d (Conv2D)             (None, 370, 100, 32)      8672      \n",
      "                                                                 \n",
      " conv2d_1 (Conv2D)           (None, 370, 100, 32)      9248      \n",
      "                                                                 \n",
      " batch_normalization (BatchN  (None, 370, 100, 32)     128       \n",
      " ormalization)                                                   \n",
      "                                                                 \n",
      " max_pooling2d (MaxPooling2D  (None, 185, 50, 32)      0         \n",
      " )                                                               \n",
      "                                                                 \n",
      " conv2d_2 (Conv2D)           (None, 185, 50, 32)       9248      \n",
      "                                                                 \n",
      " conv2d_3 (Conv2D)           (None, 185, 50, 32)       9248      \n",
      "                                                                 \n",
      " batch_normalization_1 (Batc  (None, 185, 50, 32)      128       \n",
      " hNormalization)                                                 \n",
      "                                                                 \n",
      " max_pooling2d_1 (MaxPooling  (None, 92, 25, 32)       0         \n",
      " 2D)                                                             \n",
      "                                                                 \n",
      " conv2d_4 (Conv2D)           (None, 92, 25, 32)        9248      \n",
      "                                                                 \n",
      " conv2d_5 (Conv2D)           (None, 92, 25, 32)        9248      \n",
      "                                                                 \n",
      " conv2d_6 (Conv2D)           (None, 92, 25, 32)        9248      \n",
      "                                                                 \n",
      " batch_normalization_2 (Batc  (None, 92, 25, 32)       128       \n",
      " hNormalization)                                                 \n",
      "                                                                 \n",
      " max_pooling2d_2 (MaxPooling  (None, 46, 12, 32)       0         \n",
      " 2D)                                                             \n",
      "                                                                 \n",
      " conv2d_7 (Conv2D)           (None, 46, 12, 32)        9248      \n",
      "                                                                 \n",
      " conv2d_8 (Conv2D)           (None, 46, 12, 32)        9248      \n",
      "                                                                 \n",
      " conv2d_9 (Conv2D)           (None, 46, 12, 32)        9248      \n",
      "                                                                 \n",
      " batch_normalization_3 (Batc  (None, 46, 12, 32)       128       \n",
      " hNormalization)                                                 \n",
      "                                                                 \n",
      " max_pooling2d_3 (MaxPooling  (None, 23, 6, 32)        0         \n",
      " 2D)                                                             \n",
      "                                                                 \n",
      " conv2d_10 (Conv2D)          (None, 23, 6, 64)         18496     \n",
      "                                                                 \n",
      " conv2d_11 (Conv2D)          (None, 23, 6, 64)         36928     \n",
      "                                                                 \n",
      " conv2d_12 (Conv2D)          (None, 23, 6, 64)         36928     \n",
      "                                                                 \n",
      " batch_normalization_4 (Batc  (None, 23, 6, 64)        256       \n",
      " hNormalization)                                                 \n",
      "                                                                 \n",
      " max_pooling2d_4 (MaxPooling  (None, 11, 3, 64)        0         \n",
      " 2D)                                                             \n",
      "                                                                 \n",
      " flatten (Flatten)           (None, 2112)              0         \n",
      "                                                                 \n",
      " dense (Dense)               (None, 128)               270464    \n",
      "                                                                 \n",
      " dense_1 (Dense)             (None, 64)                8256      \n",
      "                                                                 \n",
      " dense_2 (Dense)             (None, 1)                 65        \n",
      "                                                                 \n",
      "=================================================================\n",
      "Total params: 463,809\n",
      "Trainable params: 463,425\n",
      "Non-trainable params: 384\n",
      "_________________________________________________________________\n"
     ]
    }
   ],
   "source": [
    "model = models.Sequential()\n",
    "\n",
    "model.add(layers.Conv2D(filters=32, kernel_size=(3, 3), activation='relu', input_shape=(370, 100, 30), padding='same'))\n",
    "model.add(layers.Conv2D(filters=32, kernel_size=(3, 3), activation='relu', padding='same'))\n",
    "model.add(layers.BatchNormalization()) # try for incr. stability\n",
    "model.add(layers.MaxPool2D(strides=(2, 2)))\n",
    "\n",
    "model.add(layers.Conv2D(filters=32, kernel_size=(3, 3), activation='relu', padding='same'))\n",
    "model.add(layers.Conv2D(filters=32, kernel_size=(3, 3), activation='relu', padding='same'))\n",
    "model.add(layers.BatchNormalization()) # try for incr. stability\n",
    "model.add(layers.MaxPool2D(strides=(2, 2)))\n",
    "\n",
    "model.add(layers.Conv2D(filters=32, kernel_size=(3, 3), activation='relu', padding='same'))\n",
    "model.add(layers.Conv2D(filters=32, kernel_size=(3, 3), activation='relu', padding='same'))\n",
    "model.add(layers.Conv2D(filters=32, kernel_size=(3, 3), activation='relu', padding='same'))\n",
    "model.add(layers.BatchNormalization()) # try for incr. stability\n",
    "model.add(layers.MaxPool2D(strides=(2, 2)))\n",
    "\n",
    "model.add(layers.Conv2D(filters=32, kernel_size=(3, 3), activation='relu', padding='same'))\n",
    "model.add(layers.Conv2D(filters=32, kernel_size=(3, 3), activation='relu', padding='same'))\n",
    "model.add(layers.Conv2D(filters=32, kernel_size=(3, 3), activation='relu', padding='same'))\n",
    "model.add(layers.BatchNormalization()) # try for incr. stability\n",
    "model.add(layers.MaxPool2D(strides=(2, 2)))\n",
    "\n",
    "model.add(layers.Conv2D(filters=64, kernel_size=(3, 3), activation='relu', padding='same'))\n",
    "model.add(layers.Conv2D(filters=64, kernel_size=(3, 3), activation='relu', padding='same'))\n",
    "model.add(layers.Conv2D(filters=64, kernel_size=(3, 3), activation='relu', padding='same'))\n",
    "model.add(layers.BatchNormalization()) # try for incr. stability\n",
    "model.add(layers.MaxPool2D(strides=(2, 2)))\n",
    "\n",
    "model.add(layers.Flatten())\n",
    "model.add(layers.Dense(128, activation='relu', kernel_initializer='random_normal', bias_initializer='zeros', kernel_regularizer='l2')) # normal weight init + l2 regularization needed?\n",
    "#model.add(layers.Dropout(0.4))\n",
    "model.add(layers.Dense(64, activation='relu', kernel_initializer='random_normal', bias_initializer='zeros', kernel_regularizer='l2')) # normal weight init + l2 regularization needed?\n",
    "#model.add(layers.Dropout(0.3))\n",
    "model.add(layers.Dense(1, activation='sigmoid'))\n",
    "\n",
    "model.compile(optimizer='adam', loss='binary_crossentropy', metrics=['accuracy'])\n",
    "\n",
    "model.summary()"
   ],
   "metadata": {
    "collapsed": false,
    "pycharm": {
     "name": "#%%\n"
    }
   }
  },
  {
   "cell_type": "code",
   "execution_count": 9,
   "outputs": [
    {
     "name": "stderr",
     "output_type": "stream",
     "text": [
      "C:\\Users\\jjung\\AppData\\Local\\Temp\\ipykernel_37788\\1672967617.py:1: UserWarning: `Model.fit_generator` is deprecated and will be removed in a future version. Please use `Model.fit`, which supports generators.\n",
      "  history = model.fit_generator(generator=training_batch_generator,\n"
     ]
    },
    {
     "name": "stdout",
     "output_type": "stream",
     "text": [
      "Epoch 1/20\n",
      "12/12 [==============================] - 21s 1s/step - loss: 7.0689 - accuracy: 0.7044 - val_loss: 6.4121 - val_accuracy: 0.7392\n",
      "Epoch 2/20\n",
      "12/12 [==============================] - 17s 1s/step - loss: 5.7193 - accuracy: 0.7507 - val_loss: 5.2273 - val_accuracy: 0.7306\n",
      "Epoch 3/20\n",
      "12/12 [==============================] - 17s 1s/step - loss: 4.5997 - accuracy: 0.7500 - val_loss: 4.2319 - val_accuracy: 0.7392\n",
      "Epoch 4/20\n",
      "12/12 [==============================] - 18s 1s/step - loss: 3.7116 - accuracy: 0.7448 - val_loss: 3.4666 - val_accuracy: 0.7220\n",
      "Epoch 5/20\n",
      "12/12 [==============================] - 17s 1s/step - loss: 3.0095 - accuracy: 0.7624 - val_loss: 2.8614 - val_accuracy: 0.7232\n",
      "Epoch 6/20\n",
      "12/12 [==============================] - 16s 1s/step - loss: 2.4387 - accuracy: 0.7715 - val_loss: 2.3994 - val_accuracy: 0.7122\n",
      "Epoch 7/20\n",
      "12/12 [==============================] - 16s 1s/step - loss: 2.0116 - accuracy: 0.7760 - val_loss: 1.9896 - val_accuracy: 0.7392\n",
      "Epoch 8/20\n",
      "12/12 [==============================] - 17s 1s/step - loss: 1.7210 - accuracy: 0.7689 - val_loss: 1.6996 - val_accuracy: 0.7392\n",
      "Epoch 9/20\n",
      "12/12 [==============================] - 16s 1s/step - loss: 1.4606 - accuracy: 0.7904 - val_loss: 1.4771 - val_accuracy: 0.7392\n",
      "Epoch 10/20\n",
      "12/12 [==============================] - 16s 1s/step - loss: 1.2339 - accuracy: 0.8125 - val_loss: 1.3125 - val_accuracy: 0.7392\n",
      "Epoch 11/20\n",
      "12/12 [==============================] - 16s 1s/step - loss: 1.0942 - accuracy: 0.8001 - val_loss: 1.1847 - val_accuracy: 0.7392\n",
      "Epoch 12/20\n",
      "12/12 [==============================] - 16s 1s/step - loss: 0.9693 - accuracy: 0.8138 - val_loss: 1.0772 - val_accuracy: 0.7392\n",
      "Epoch 13/20\n",
      "12/12 [==============================] - 16s 1s/step - loss: 0.8582 - accuracy: 0.8288 - val_loss: 0.9971 - val_accuracy: 0.7392\n",
      "Epoch 14/20\n",
      "12/12 [==============================] - 16s 1s/step - loss: 0.7573 - accuracy: 0.8294 - val_loss: 0.9315 - val_accuracy: 0.7392\n",
      "Epoch 15/20\n",
      "12/12 [==============================] - 16s 1s/step - loss: 0.6441 - accuracy: 0.8757 - val_loss: 0.8795 - val_accuracy: 0.7392\n",
      "Epoch 16/20\n",
      "12/12 [==============================] - 16s 1s/step - loss: 0.5876 - accuracy: 0.8815 - val_loss: 0.8479 - val_accuracy: 0.7392\n",
      "Epoch 17/20\n",
      "12/12 [==============================] - 16s 1s/step - loss: 0.5476 - accuracy: 0.8698 - val_loss: 0.9062 - val_accuracy: 0.7392\n",
      "Epoch 18/20\n",
      "12/12 [==============================] - 16s 1s/step - loss: 0.5419 - accuracy: 0.8711 - val_loss: 0.8198 - val_accuracy: 0.7392\n",
      "Epoch 19/20\n",
      "12/12 [==============================] - 16s 1s/step - loss: 0.4796 - accuracy: 0.8861 - val_loss: 1.1035 - val_accuracy: 0.7392\n",
      "Epoch 20/20\n",
      "12/12 [==============================] - 16s 1s/step - loss: 0.4774 - accuracy: 0.8659 - val_loss: 0.7791 - val_accuracy: 0.7392\n"
     ]
    }
   ],
   "source": [
    "history = model.fit_generator(generator=training_batch_generator,\n",
    "                              validation_data=validation_batch_generator,\n",
    "                              epochs=20)"
   ],
   "metadata": {
    "collapsed": false,
    "pycharm": {
     "name": "#%%\n"
    }
   }
  },
  {
   "cell_type": "code",
   "execution_count": 10,
   "outputs": [
    {
     "data": {
      "text/plain": "<Figure size 432x288 with 1 Axes>",
      "image/png": "[encoded data removed]"
     },
     "metadata": {
      "needs_background": "light"
     },
     "output_type": "display_data"
    }
   ],
   "source": [
    "plt.plot(history.history['accuracy'])\n",
    "plt.plot(history.history['val_accuracy'])\n",
    "plt.title('model accuracy')\n",
    "plt.ylabel('accuracy')\n",
    "plt.xlabel('epoch')\n",
    "plt.legend(['train', 'test'], loc='upper left')\n",
    "plt.show()"
   ],
   "metadata": {
    "collapsed": false,
    "pycharm": {
     "name": "#%%\n"
    }
   }
  },
  {
   "cell_type": "code",
   "execution_count": 11,
   "outputs": [
    {
     "data": {
      "text/plain": "<Figure size 432x288 with 1 Axes>",
      "image/png": "[encoded data removed]"
     },
     "metadata": {
      "needs_background": "light"
     },
     "output_type": "display_data"
    }
   ],
   "source": [
    "plt.plot(history.history['loss'])\n",
    "plt.plot(history.history['val_loss'])\n",
    "plt.title('model loss')\n",
    "plt.ylabel('loss')\n",
    "plt.xlabel('epoch')\n",
    "plt.legend(['train', 'test'], loc='upper left')\n",
    "plt.show()"
   ],
   "metadata": {
    "collapsed": false,
    "pycharm": {
     "name": "#%%\n"
    }
   }
  },
  {
   "cell_type": "code",
   "execution_count": 12,
   "outputs": [
    {
     "data": {
      "text/plain": "<Figure size 432x288 with 1 Axes>",
      "image/png": "[encoded data removed]"
     },
     "metadata": {
      "needs_background": "light"
     },
     "output_type": "display_data"
    }
   ],
   "source": [
    "plt.plot(history.history['val_loss'], color='orange')\n",
    "plt.title('model loss')\n",
    "plt.ylabel('loss')\n",
    "plt.xlabel('epoch')\n",
    "plt.show()"
   ],
   "metadata": {
    "collapsed": false,
    "pycharm": {
     "name": "#%%\n"
    }
   }
  },
  {
   "cell_type": "code",
   "execution_count": 13,
   "outputs": [
    {
     "name": "stdout",
     "output_type": "stream",
     "text": [
      "813/813 [==============================] - 6s 8ms/step\n"
     ]
    },
    {
     "data": {
      "text/plain": "Text(0.5, 1.0, 'Labels')"
     },
     "execution_count": 13,
     "metadata": {},
     "output_type": "execute_result"
    },
    {
     "data": {
      "text/plain": "<Figure size 432x288 with 2 Axes>",
      "image/png": "[encoded data removed]"
     },
     "metadata": {
      "needs_background": "light"
     },
     "output_type": "display_data"
    }
   ],
   "source": [
    "# predict on validation set\n",
    "y_pred = model.predict(validation_batch_generator)\n",
    "plt.subplot(1, 2, 1)\n",
    "plt.hist(y_pred.reshape(-1))\n",
    "plt.title('P(y == 1)')\n",
    "\n",
    "y_pred = np.where(y_pred > 0.5, 1, 0) # as labels\n",
    "plt.subplot(1, 2, 2)\n",
    "plt.hist(y_pred.reshape(-1))\n",
    "plt.title('Labels')"
   ],
   "metadata": {
    "collapsed": false,
    "pycharm": {
     "name": "#%%\n"
    }
   }
  },
  {
   "cell_type": "code",
   "execution_count": 14,
   "outputs": [],
   "source": [
    "# classification metrics\n",
    "size_validation_set = len(validation_indices)\n",
    "\n",
    "X_val = np.empty((size_validation_set, HEIGHT, WIDTH, CHANNELS))\n",
    "y_val = np.empty(size_validation_set, dtype=int)\n",
    "\n",
    "# load individual datapoints\n",
    "for i, index in enumerate(validation_indices):\n",
    "    X_val[i, ] = np.load(output_path + f'/feature_vector{index}.npy', allow_pickle=True)\n",
    "    y_val[i] = np.load(output_path + f'/labels{index}.npy', allow_pickle=True)"
   ],
   "metadata": {
    "collapsed": false,
    "pycharm": {
     "name": "#%%\n"
    }
   }
  },
  {
   "cell_type": "code",
   "execution_count": 15,
   "outputs": [
    {
     "data": {
      "text/plain": "<tf.Tensor: shape=(2, 2), dtype=int32, numpy=\narray([[  0, 212],\n       [  0, 601]])>"
     },
     "execution_count": 15,
     "metadata": {},
     "output_type": "execute_result"
    }
   ],
   "source": [
    "# confusion matrix\n",
    "confusion_matrix(labels=y_val, predictions=y_pred)"
   ],
   "metadata": {
    "collapsed": false,
    "pycharm": {
     "name": "#%%\n"
    }
   }
  },
  {
   "cell_type": "code",
   "execution_count": 16,
   "outputs": [],
   "source": [
    "# flush GPU memory\n",
    "cuda.select_device(0)\n",
    "cuda.close()"
   ],
   "metadata": {
    "collapsed": false,
    "pycharm": {
     "name": "#%%\n"
    }
   }
  },
  {
   "cell_type": "markdown",
   "source": [],
   "metadata": {
    "collapsed": false
   }
  }
 ],
 "metadata": {
  "kernelspec": {
   "display_name": "Python 3",
   "language": "python",
   "name": "python3"
  },
  "language_info": {
   "codemirror_mode": {
    "name": "ipython",
    "version": 2
   },
   "file_extension": ".py",
   "mimetype": "text/x-python",
   "name": "python",
   "nbconvert_exporter": "python",
   "pygments_lexer": "ipython2",
   "version": "2.7.6"
  }
 },
 "nbformat": 4,
 "nbformat_minor": 0
}