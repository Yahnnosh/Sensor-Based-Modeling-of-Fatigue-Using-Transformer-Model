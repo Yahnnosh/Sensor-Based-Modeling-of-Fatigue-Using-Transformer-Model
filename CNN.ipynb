{
 "cells": [
  {
   "cell_type": "code",
   "execution_count": 36,
   "metadata": {
    "collapsed": true
   },
   "outputs": [],
   "source": [
    "import keras.utils\n",
    "import tensorflow as tf\n",
    "from tensorflow.keras import layers, models\n",
    "from tensorflow.keras.utils import Sequence\n",
    "from tensorflow.keras.callbacks import EarlyStopping\n",
    "from sklearn.metrics import accuracy_score, balanced_accuracy_score, f1_score, precision_score, recall_score, confusion_matrix, ConfusionMatrixDisplay\n",
    "import numpy as np\n",
    "import matplotlib.pyplot as plt\n",
    "import os"
   ]
  },
  {
   "cell_type": "markdown",
   "source": [
    "# Import data"
   ],
   "metadata": {
    "collapsed": false
   }
  },
  {
   "cell_type": "code",
   "execution_count": 20,
   "outputs": [],
   "source": [
    "train_path = './Output/train'\n",
    "test_path = './Output/test'"
   ],
   "metadata": {
    "collapsed": false,
    "pycharm": {
     "name": "#%%\n"
    }
   }
  },
  {
   "cell_type": "code",
   "execution_count": 21,
   "outputs": [
    {
     "name": "stdout",
     "output_type": "stream",
     "text": [
      "Training set: 4213\n"
     ]
    }
   ],
   "source": [
    "N, HEIGHT, WIDTH, CHANNELS = sum([1 for p in os.listdir(train_path) if p[:14] == 'feature_vector']), \\\n",
    "                             *np.load(train_path + '/feature_vector0.npy').shape\n",
    "print(f'Training set: {N}')"
   ],
   "metadata": {
    "collapsed": false,
    "pycharm": {
     "name": "#%%\n"
    }
   }
  },
  {
   "cell_type": "markdown",
   "source": [
    "# Define data generator"
   ],
   "metadata": {
    "collapsed": false
   }
  },
  {
   "cell_type": "code",
   "execution_count": 89,
   "outputs": [],
   "source": [
    "class DataGenerator(Sequence):\n",
    "\n",
    "    def __init__(self, data_path: str, indices_dataset: list, batch_size=32, dim=(HEIGHT, WIDTH), n_channels=CHANNELS, shuffle=True):\n",
    "        self.data_path = data_path # path to full dataset\n",
    "        self.dim = dim # image dimension\n",
    "        self.batch_size = batch_size\n",
    "        self.indices_dataset = indices_dataset # indices of full dataset (different for train/validation/test set)\n",
    "        self.n_channels = n_channels\n",
    "        self.shuffle = shuffle\n",
    "\n",
    "        self.on_epoch_end() # shuffle data for each epoch\n",
    "\n",
    "    def on_epoch_end(self):\n",
    "        \"\"\"\n",
    "        Shuffle data for each epoch\n",
    "        \"\"\"\n",
    "        if self.shuffle:\n",
    "            np.random.shuffle(self.indices_dataset)\n",
    "\n",
    "    def __data_generation(self, indices):\n",
    "        \"\"\"\n",
    "        Loads and returns datapoints[indices]\n",
    "        \"\"\"\n",
    "        # init\n",
    "        X = np.empty((self.batch_size, *self.dim, self.n_channels))\n",
    "        y = np.empty(self.batch_size, dtype=int)\n",
    "\n",
    "        # load individual datapoints\n",
    "        for i, index in enumerate(indices):\n",
    "            X[i, ] = np.load(self.data_path + f'/feature_vector{index}.npy', allow_pickle=True)\n",
    "            y[i] = np.load(self.data_path + f'/labels{index}.npy', allow_pickle=True)[0] # TODO: for now just phF\n",
    "\n",
    "        return X, y\n",
    "\n",
    "    def __len__(self):\n",
    "        \"\"\"\n",
    "        Number of batches per epoch\n",
    "        \"\"\"\n",
    "        return int(np.floor(len(self.indices_dataset) / self.batch_size))\n",
    "\n",
    "    def __getitem__(self, index):\n",
    "        \"\"\"\n",
    "        Generates batch[index]\n",
    "        \"\"\"\n",
    "        # calculate indices of batch\n",
    "        indices = self.indices_dataset[index * self.batch_size:(index + 1) * self.batch_size]\n",
    "\n",
    "        # generate batch\n",
    "        X, y = self.__data_generation(indices)\n",
    "\n",
    "        return X, y"
   ],
   "metadata": {
    "collapsed": false,
    "pycharm": {
     "name": "#%%\n"
    }
   }
  },
  {
   "cell_type": "markdown",
   "source": [
    "# Upsampling"
   ],
   "metadata": {
    "collapsed": false
   }
  },
  {
   "cell_type": "code",
   "execution_count": 90,
   "outputs": [
    {
     "name": "stdout",
     "output_type": "stream",
     "text": [
      "|val_set|: 1390, |train_set|: 2823\n"
     ]
    }
   ],
   "source": [
    "# train/validation split\n",
    "TRAIN_VAL_SPLIT = 0.33\n",
    "\n",
    "permutation_indices = [i for i in range(N)]\n",
    "np.random.shuffle(permutation_indices)\n",
    "\n",
    "validation_indices = permutation_indices[:int(N * TRAIN_VAL_SPLIT)]\n",
    "train_indices = permutation_indices[int(N * TRAIN_VAL_SPLIT):]\n",
    "\n",
    "print(f'|val_set|: {len(validation_indices)}, |train_set|: {len(train_indices)}')"
   ],
   "metadata": {
    "collapsed": false,
    "pycharm": {
     "name": "#%%\n"
    }
   }
  },
  {
   "cell_type": "code",
   "execution_count": 32,
   "outputs": [
    {
     "name": "stdout",
     "output_type": "stream",
     "text": [
      "val_set: (+: 1028, -: 362)\n",
      "\n",
      "train_set: (+: 2114, -: 709)\n",
      "train_set (upsampled): (+: 2114, -: 2114)\n"
     ]
    }
   ],
   "source": [
    "# upsampling (imbalanced dataset)\n",
    "y_train = np.empty((N, 2), dtype=int)\n",
    "\n",
    "# load individual datapoints\n",
    "for i in range(N):\n",
    "    y_train[i] = np.load(train_path + f'/labels{i}.npy', allow_pickle=True)\n",
    "\n",
    "\n",
    "positive_indices = np.where(y_train[validation_indices, 0] == 1)[0] # TODO: only phF for now\n",
    "negative_indices = np.where(y_train[validation_indices, 0] == 0)[0] # TODO: only phF for now\n",
    "\n",
    "print(f'val_set: (+: {len(positive_indices)}, -: {len(negative_indices)})\\n')\n",
    "\n",
    "positive_indices = np.where(y_train[train_indices, 0] == 1)[0] # TODO: only phF for now\n",
    "negative_indices = np.where(y_train[train_indices, 0] == 0)[0] # TODO: only phF for now\n",
    "\n",
    "print(f'train_set: (+: {len(positive_indices)}, -: {len(negative_indices)})')\n",
    "\n",
    "negative_indices_upsampled = np.append(negative_indices,\n",
    "                                       np.random.choice(negative_indices,\n",
    "                                                        size=(len(positive_indices) - len(negative_indices)),\n",
    "                                                        replace=True)) # with replacement\n",
    "\n",
    "print(f'train_set (upsampled): (+: {len(positive_indices)}, -: {len(negative_indices_upsampled)})')"
   ],
   "metadata": {
    "collapsed": false,
    "pycharm": {
     "name": "#%%\n"
    }
   }
  },
  {
   "cell_type": "markdown",
   "source": [
    "# CNN"
   ],
   "metadata": {
    "collapsed": false
   }
  },
  {
   "cell_type": "markdown",
   "source": [
    "Data generators"
   ],
   "metadata": {
    "collapsed": false
   }
  },
  {
   "cell_type": "code",
   "execution_count": 33,
   "outputs": [],
   "source": [
    "training_batch_generator = DataGenerator(data_path=train_path, indices_dataset=train_indices, batch_size=128)\n",
    "validation_batch_generator = DataGenerator(data_path=train_path, indices_dataset=validation_indices, batch_size=32)"
   ],
   "metadata": {
    "collapsed": false,
    "pycharm": {
     "name": "#%%\n"
    }
   }
  },
  {
   "cell_type": "markdown",
   "source": [
    "Model"
   ],
   "metadata": {
    "collapsed": false
   }
  },
  {
   "cell_type": "code",
   "execution_count": 83,
   "outputs": [
    {
     "name": "stdout",
     "output_type": "stream",
     "text": [
      "Model: \"sequential_1\"\n",
      "_________________________________________________________________\n",
      "Layer (type)                 Output Shape              Param #   \n",
      "=================================================================\n",
      "conv2d_13 (Conv2D)           (None, 370, 100, 32)      8672      \n",
      "_________________________________________________________________\n",
      "conv2d_14 (Conv2D)           (None, 370, 100, 32)      9248      \n",
      "_________________________________________________________________\n",
      "batch_normalization_5 (Batch (None, 370, 100, 32)      128       \n",
      "_________________________________________________________________\n",
      "max_pooling2d_5 (MaxPooling2 (None, 185, 50, 32)       0         \n",
      "_________________________________________________________________\n",
      "conv2d_15 (Conv2D)           (None, 185, 50, 32)       9248      \n",
      "_________________________________________________________________\n",
      "conv2d_16 (Conv2D)           (None, 185, 50, 32)       9248      \n",
      "_________________________________________________________________\n",
      "batch_normalization_6 (Batch (None, 185, 50, 32)       128       \n",
      "_________________________________________________________________\n",
      "max_pooling2d_6 (MaxPooling2 (None, 92, 25, 32)        0         \n",
      "_________________________________________________________________\n",
      "conv2d_17 (Conv2D)           (None, 92, 25, 32)        9248      \n",
      "_________________________________________________________________\n",
      "conv2d_18 (Conv2D)           (None, 92, 25, 32)        9248      \n",
      "_________________________________________________________________\n",
      "conv2d_19 (Conv2D)           (None, 92, 25, 32)        9248      \n",
      "_________________________________________________________________\n",
      "batch_normalization_7 (Batch (None, 92, 25, 32)        128       \n",
      "_________________________________________________________________\n",
      "max_pooling2d_7 (MaxPooling2 (None, 46, 12, 32)        0         \n",
      "_________________________________________________________________\n",
      "conv2d_20 (Conv2D)           (None, 46, 12, 32)        9248      \n",
      "_________________________________________________________________\n",
      "conv2d_21 (Conv2D)           (None, 46, 12, 32)        9248      \n",
      "_________________________________________________________________\n",
      "conv2d_22 (Conv2D)           (None, 46, 12, 32)        9248      \n",
      "_________________________________________________________________\n",
      "batch_normalization_8 (Batch (None, 46, 12, 32)        128       \n",
      "_________________________________________________________________\n",
      "max_pooling2d_8 (MaxPooling2 (None, 23, 6, 32)         0         \n",
      "_________________________________________________________________\n",
      "conv2d_23 (Conv2D)           (None, 23, 6, 64)         18496     \n",
      "_________________________________________________________________\n",
      "conv2d_24 (Conv2D)           (None, 23, 6, 64)         36928     \n",
      "_________________________________________________________________\n",
      "conv2d_25 (Conv2D)           (None, 23, 6, 64)         36928     \n",
      "_________________________________________________________________\n",
      "batch_normalization_9 (Batch (None, 23, 6, 64)         256       \n",
      "_________________________________________________________________\n",
      "max_pooling2d_9 (MaxPooling2 (None, 11, 3, 64)         0         \n",
      "_________________________________________________________________\n",
      "flatten_1 (Flatten)          (None, 2112)              0         \n",
      "_________________________________________________________________\n",
      "dense_3 (Dense)              (None, 128)               270464    \n",
      "_________________________________________________________________\n",
      "dense_4 (Dense)              (None, 64)                8256      \n",
      "_________________________________________________________________\n",
      "dense_5 (Dense)              (None, 1)                 65        \n",
      "=================================================================\n",
      "Total params: 463,809\n",
      "Trainable params: 463,425\n",
      "Non-trainable params: 384\n",
      "_________________________________________________________________\n"
     ]
    }
   ],
   "source": [
    "model = models.Sequential()\n",
    "\n",
    "model.add(layers.Conv2D(filters=32, kernel_size=(3, 3), activation='relu', input_shape=(370, 100, 30), padding='same'))\n",
    "model.add(layers.Conv2D(filters=32, kernel_size=(3, 3), activation='relu', padding='same'))\n",
    "model.add(layers.BatchNormalization()) # try for incr. stability\n",
    "model.add(layers.MaxPool2D(strides=(2, 2)))\n",
    "\n",
    "model.add(layers.Conv2D(filters=32, kernel_size=(3, 3), activation='relu', padding='same'))\n",
    "model.add(layers.Conv2D(filters=32, kernel_size=(3, 3), activation='relu', padding='same'))\n",
    "model.add(layers.BatchNormalization()) # try for incr. stability\n",
    "model.add(layers.MaxPool2D(strides=(2, 2)))\n",
    "\n",
    "model.add(layers.Conv2D(filters=32, kernel_size=(3, 3), activation='relu', padding='same'))\n",
    "model.add(layers.Conv2D(filters=32, kernel_size=(3, 3), activation='relu', padding='same'))\n",
    "model.add(layers.Conv2D(filters=32, kernel_size=(3, 3), activation='relu', padding='same'))\n",
    "model.add(layers.BatchNormalization()) # try for incr. stability\n",
    "model.add(layers.MaxPool2D(strides=(2, 2)))\n",
    "\n",
    "model.add(layers.Conv2D(filters=32, kernel_size=(3, 3), activation='relu', padding='same'))\n",
    "model.add(layers.Conv2D(filters=32, kernel_size=(3, 3), activation='relu', padding='same'))\n",
    "model.add(layers.Conv2D(filters=32, kernel_size=(3, 3), activation='relu', padding='same'))\n",
    "model.add(layers.BatchNormalization()) # try for incr. stability\n",
    "model.add(layers.MaxPool2D(strides=(2, 2)))\n",
    "\n",
    "model.add(layers.Conv2D(filters=64, kernel_size=(3, 3), activation='relu', padding='same'))\n",
    "model.add(layers.Conv2D(filters=64, kernel_size=(3, 3), activation='relu', padding='same'))\n",
    "model.add(layers.Conv2D(filters=64, kernel_size=(3, 3), activation='relu', padding='same'))\n",
    "model.add(layers.BatchNormalization()) # try for incr. stability\n",
    "model.add(layers.MaxPool2D(strides=(2, 2)))\n",
    "\n",
    "model.add(layers.Flatten())\n",
    "model.add(layers.Dense(128, activation='relu', kernel_initializer='random_normal', bias_initializer='zeros', kernel_regularizer='l2')) # normal weight init + l2 regularization needed?\n",
    "#model.add(layers.Dropout(0.4))\n",
    "model.add(layers.Dense(64, activation='relu', kernel_initializer='random_normal', bias_initializer='zeros', kernel_regularizer='l2')) # normal weight init + l2 regularization needed?\n",
    "#model.add(layers.Dropout(0.3))\n",
    "model.add(layers.Dense(1, activation='sigmoid'))\n",
    "\n",
    "model.compile(optimizer='adam', loss='binary_crossentropy', metrics=['accuracy'])\n",
    "\n",
    "model.summary()"
   ],
   "metadata": {
    "collapsed": false,
    "pycharm": {
     "name": "#%%\n"
    }
   }
  },
  {
   "cell_type": "markdown",
   "source": [
    "Training"
   ],
   "metadata": {
    "collapsed": false
   }
  },
  {
   "cell_type": "code",
   "execution_count": 84,
   "outputs": [
    {
     "name": "stderr",
     "output_type": "stream",
     "text": [
      "C:\\Users\\jjung\\anaconda3\\envs\\tf-sklearn-keras\\lib\\site-packages\\keras\\engine\\training.py:1972: UserWarning: `Model.fit_generator` is deprecated and will be removed in a future version. Please use `Model.fit`, which supports generators.\n",
      "  warnings.warn('`Model.fit_generator` is deprecated and '\n"
     ]
    },
    {
     "name": "stdout",
     "output_type": "stream",
     "text": [
      "Epoch 1/30\n",
      "22/22 [==============================] - 73s 3s/step - loss: 6.6685 - accuracy: 0.7273 - val_loss: 5.6302 - val_accuracy: 0.2604\n",
      "Epoch 2/30\n",
      "22/22 [==============================] - 58s 3s/step - loss: 4.5950 - accuracy: 0.7496 - val_loss: 3.9854 - val_accuracy: 0.2604\n",
      "Epoch 3/30\n",
      "22/22 [==============================] - 59s 3s/step - loss: 3.2189 - accuracy: 0.7464 - val_loss: 2.8826 - val_accuracy: 0.2604\n",
      "Epoch 4/30\n",
      "22/22 [==============================] - 62s 3s/step - loss: 2.2970 - accuracy: 0.7518 - val_loss: 2.1533 - val_accuracy: 0.2604\n",
      "Epoch 5/30\n",
      "22/22 [==============================] - 65s 3s/step - loss: 1.7025 - accuracy: 0.7667 - val_loss: 1.7091 - val_accuracy: 0.2604\n",
      "Epoch 6/30\n",
      "22/22 [==============================] - 64s 3s/step - loss: 1.3110 - accuracy: 0.7798 - val_loss: 1.3919 - val_accuracy: 0.6194\n",
      "Epoch 7/30\n",
      "22/22 [==============================] - 60s 3s/step - loss: 1.0837 - accuracy: 0.7777 - val_loss: 1.1328 - val_accuracy: 0.7396\n",
      "Epoch 8/30\n",
      "22/22 [==============================] - 63s 3s/step - loss: 0.8925 - accuracy: 0.7898 - val_loss: 0.9725 - val_accuracy: 0.7396\n",
      "Epoch 9/30\n",
      "22/22 [==============================] - 61s 3s/step - loss: 0.7409 - accuracy: 0.8036 - val_loss: 0.8761 - val_accuracy: 0.7396\n",
      "Epoch 10/30\n",
      "22/22 [==============================] - 64s 3s/step - loss: 0.6443 - accuracy: 0.8320 - val_loss: 0.8113 - val_accuracy: 0.7396\n",
      "Epoch 11/30\n",
      "22/22 [==============================] - 60s 3s/step - loss: 0.5744 - accuracy: 0.8331 - val_loss: 0.7970 - val_accuracy: 0.7309\n",
      "Epoch 12/30\n",
      "22/22 [==============================] - 67s 3s/step - loss: 0.5620 - accuracy: 0.8214 - val_loss: 0.7921 - val_accuracy: 0.6518\n",
      "Epoch 13/30\n",
      "22/22 [==============================] - 68s 3s/step - loss: 0.4678 - accuracy: 0.8533 - val_loss: 0.8117 - val_accuracy: 0.5554\n",
      "Epoch 14/30\n",
      "22/22 [==============================] - 63s 3s/step - loss: 0.4379 - accuracy: 0.8658 - val_loss: 0.8216 - val_accuracy: 0.4957\n",
      "Epoch 15/30\n",
      "22/22 [==============================] - 62s 3s/step - loss: 0.3972 - accuracy: 0.8771 - val_loss: 0.6262 - val_accuracy: 0.7719\n",
      "Epoch 16/30\n",
      "22/22 [==============================] - 62s 3s/step - loss: 0.3526 - accuracy: 0.8928 - val_loss: 0.4971 - val_accuracy: 0.7978\n",
      "Epoch 17/30\n",
      "22/22 [==============================] - 59s 3s/step - loss: 0.3259 - accuracy: 0.9034 - val_loss: 0.5963 - val_accuracy: 0.7640\n",
      "Epoch 18/30\n",
      "22/22 [==============================] - 58s 3s/step - loss: 0.3076 - accuracy: 0.9006 - val_loss: 0.4806 - val_accuracy: 0.8122\n",
      "Epoch 19/30\n",
      "22/22 [==============================] - 59s 3s/step - loss: 0.2761 - accuracy: 0.9137 - val_loss: 0.9256 - val_accuracy: 0.4504\n",
      "Epoch 20/30\n",
      "22/22 [==============================] - 59s 3s/step - loss: 0.2003 - accuracy: 0.9439 - val_loss: 0.9044 - val_accuracy: 0.5683\n",
      "Epoch 21/30\n",
      "22/22 [==============================] - 57s 3s/step - loss: 0.1764 - accuracy: 0.9577 - val_loss: 0.5500 - val_accuracy: 0.7683\n",
      "Epoch 22/30\n",
      "22/22 [==============================] - 60s 3s/step - loss: 0.1715 - accuracy: 0.9570 - val_loss: 0.6446 - val_accuracy: 0.7777\n",
      "Epoch 23/30\n",
      "22/22 [==============================] - 58s 3s/step - loss: 0.2264 - accuracy: 0.9364 - val_loss: 1.6610 - val_accuracy: 0.4281\n",
      "Epoch 24/30\n",
      "22/22 [==============================] - 62s 3s/step - loss: 0.2361 - accuracy: 0.9237 - val_loss: 0.5438 - val_accuracy: 0.7835\n",
      "Epoch 25/30\n",
      "22/22 [==============================] - 61s 3s/step - loss: 0.1722 - accuracy: 0.9545 - val_loss: 0.6949 - val_accuracy: 0.7302\n",
      "Epoch 26/30\n",
      "22/22 [==============================] - 62s 3s/step - loss: 0.1428 - accuracy: 0.9634 - val_loss: 0.6548 - val_accuracy: 0.7626\n",
      "Epoch 27/30\n",
      "22/22 [==============================] - 61s 3s/step - loss: 0.1029 - accuracy: 0.9787 - val_loss: 0.4962 - val_accuracy: 0.8482\n",
      "Epoch 28/30\n",
      "22/22 [==============================] - 59s 3s/step - loss: 0.0857 - accuracy: 0.9858 - val_loss: 0.5988 - val_accuracy: 0.7827\n",
      "Epoch 29/30\n",
      "22/22 [==============================] - 61s 3s/step - loss: 0.1346 - accuracy: 0.9620 - val_loss: 1.1680 - val_accuracy: 0.7180\n",
      "Epoch 30/30\n",
      "22/22 [==============================] - 59s 3s/step - loss: 0.1561 - accuracy: 0.9560 - val_loss: 0.6000 - val_accuracy: 0.8115\n",
      "CPU times: total: 25min 55s\n",
      "Wall time: 30min 49s\n"
     ]
    }
   ],
   "source": [
    "%%time\n",
    "early_stopping = EarlyStopping(monitor='val_loss', patience=3)\n",
    "history = model.fit_generator(generator=training_batch_generator,\n",
    "                              validation_data=validation_batch_generator,\n",
    "                              epochs=30,\n",
    "                              callbacks=[early_stopping])"
   ],
   "metadata": {
    "collapsed": false,
    "pycharm": {
     "name": "#%%\n"
    }
   }
  },
  {
   "cell_type": "code",
   "execution_count": 85,
   "outputs": [
    {
     "data": {
      "text/plain": "<Figure size 640x480 with 2 Axes>",
      "image/png": "[encoded data removed]"
     },
     "metadata": {},
     "output_type": "display_data"
    }
   ],
   "source": [
    "# plot training curve\n",
    "plt.subplots_adjust(left=0.1,\n",
    "                    bottom=0.01,\n",
    "                    right=1.2,\n",
    "                    top=0.6,\n",
    "                    wspace=0.4,\n",
    "                    hspace=0.4)\n",
    "\n",
    "# metric\n",
    "plt.subplot(1, 2, 1)\n",
    "plt.plot(history.history['accuracy'])\n",
    "plt.plot(history.history['val_accuracy'])\n",
    "plt.title('model accuracy')\n",
    "plt.ylabel('accuracy')\n",
    "plt.xlabel('epoch')\n",
    "plt.legend(['train', 'test'], loc='upper left')\n",
    "\n",
    "# loss\n",
    "plt.subplot(1, 2, 2)\n",
    "plt.plot(history.history['loss'])\n",
    "plt.plot(history.history['val_loss'])\n",
    "plt.title('model loss')\n",
    "plt.ylabel('loss')\n",
    "plt.xlabel('epoch')\n",
    "plt.legend(['train', 'test'], loc='upper left')\n",
    "\n",
    "plt.show()"
   ],
   "metadata": {
    "collapsed": false,
    "pycharm": {
     "name": "#%%\n"
    }
   }
  },
  {
   "cell_type": "markdown",
   "source": [
    "# Evaluation"
   ],
   "metadata": {
    "collapsed": false
   }
  },
  {
   "cell_type": "code",
   "execution_count": 86,
   "outputs": [
    {
     "data": {
      "text/plain": "<Figure size 640x480 with 2 Axes>",
      "image/png": "[encoded data removed]"
     },
     "metadata": {},
     "output_type": "display_data"
    }
   ],
   "source": [
    "# predict on validation set\n",
    "plt.subplots_adjust(left=0.1,\n",
    "                    bottom=0.01,\n",
    "                    right=1.2,\n",
    "                    top=0.6,\n",
    "                    wspace=0.4,\n",
    "                    hspace=0.4)\n",
    "\n",
    "y_pred = model.predict(validation_batch_generator)\n",
    "plt.subplot(1, 2, 1)\n",
    "plt.hist(y_pred.reshape(-1))\n",
    "plt.title('P(y == 1)')\n",
    "plt.vlines(x=0.5, ymin=0, ymax=500, color='red')\n",
    "\n",
    "y_pred = np.where(y_pred > 0.5, 1, 0) # as labels\n",
    "plt.subplot(1, 2, 2)\n",
    "plt.hist(y_pred.reshape(-1))\n",
    "plt.title('Labels')\n",
    "\n",
    "plt.show()"
   ],
   "metadata": {
    "collapsed": false,
    "pycharm": {
     "name": "#%%\n"
    }
   }
  },
  {
   "cell_type": "code",
   "execution_count": 87,
   "outputs": [
    {
     "name": "stdout",
     "output_type": "stream",
     "text": [
      "Test set: 399\n"
     ]
    }
   ],
   "source": [
    "# load test data\n",
    "N_test = sum([1 for p in os.listdir(test_path) if p[:14] == 'feature_vector'])\n",
    "print(f'Test set: {N_test}')\n",
    "\n",
    "test_batch_generator = DataGenerator(data_path=test_path, indices_dataset=[i for i in range(N_test)], batch_size=1)\n",
    "y_test = np.empty(0)\n",
    "for batch_index in range(len(test_batch_generator)):\n",
    "    _, y_test_batch = test_batch_generator.__getitem__(batch_index)\n",
    "    y_test = np.append(y_test, y_test_batch)"
   ],
   "metadata": {
    "collapsed": false,
    "pycharm": {
     "name": "#%%\n"
    }
   }
  },
  {
   "cell_type": "code",
   "execution_count": 88,
   "outputs": [
    {
     "name": "stdout",
     "output_type": "stream",
     "text": [
      "accuracy: 0.6867167919799498\n",
      "balanced accuracy:0.5289650949173301\n",
      "f1: 0.803767660910518\n",
      "recall: 0.9014084507042254\n",
      "precision: 0.7252124645892352\n"
     ]
    },
    {
     "data": {
      "text/plain": "<Figure size 640x480 with 2 Axes>",
      "image/png": "[encoded data removed]"
     },
     "metadata": {},
     "output_type": "display_data"
    }
   ],
   "source": [
    "# classification metrics\n",
    "# predict\n",
    "y_test_pred = np.round(model.predict(test_batch_generator))\n",
    "\n",
    "# evaluate\n",
    "accuracy = accuracy_score(y_pred=y_test_pred, y_true=y_test)\n",
    "balanced_accuracy = balanced_accuracy_score(y_pred=y_test_pred, y_true=y_test)\n",
    "f1 = f1_score(y_pred=y_test_pred, y_true=y_test)\n",
    "recall = recall_score(y_pred=y_test_pred, y_true=y_test)\n",
    "precision = precision_score(y_pred=y_test_pred, y_true=y_test)\n",
    "confusion = confusion_matrix(y_pred=y_test_pred, y_true=y_test)\n",
    "ConfusionMatrixDisplay(confusion_matrix=confusion, display_labels=[False, True]).plot(cmap=plt.cm.Blues)\n",
    "plt.title('Physical fatigue')\n",
    "\n",
    "print(f'accuracy: {accuracy}\\n'\n",
    "      f'balanced accuracy:{balanced_accuracy}\\n'\n",
    "      f'f1: {f1}\\n'\n",
    "      f'recall: {recall}\\n'\n",
    "      f'precision: {precision}')"
   ],
   "metadata": {
    "collapsed": false,
    "pycharm": {
     "name": "#%%\n"
    }
   }
  },
  {
   "cell_type": "markdown",
   "source": [],
   "metadata": {
    "collapsed": false
   }
  }
 ],
 "metadata": {
  "kernelspec": {
   "display_name": "Python 3",
   "language": "python",
   "name": "python3"
  },
  "language_info": {
   "codemirror_mode": {
    "name": "ipython",
    "version": 2
   },
   "file_extension": ".py",
   "mimetype": "text/x-python",
   "name": "python",
   "nbconvert_exporter": "python",
   "pygments_lexer": "ipython2",
   "version": "2.7.6"
  }
 },
 "nbformat": 4,
 "nbformat_minor": 0
}