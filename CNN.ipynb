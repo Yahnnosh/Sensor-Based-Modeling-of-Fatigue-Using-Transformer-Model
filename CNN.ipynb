{
 "cells": [
  {
   "cell_type": "code",
   "execution_count": 17,
   "metadata": {
    "collapsed": true
   },
   "outputs": [],
   "source": [
    "import keras.utils\n",
    "import tensorflow as tf\n",
    "from tensorflow.keras import models\n",
    "from tensorflow.keras.layers import Dense, Conv2D, Flatten, MaxPool2D, BatchNormalization, Dropout\n",
    "from tensorflow.keras.optimizers import Adam\n",
    "from tensorflow.keras.utils import Sequence\n",
    "from tensorflow.keras.callbacks import EarlyStopping, ModelCheckpoint\n",
    "import tensorflow.keras.backend as K\n",
    "from sklearn.metrics import accuracy_score, balanced_accuracy_score, f1_score, precision_score, recall_score, confusion_matrix, ConfusionMatrixDisplay\n",
    "import numpy as np\n",
    "import matplotlib.pyplot as plt\n",
    "import os"
   ]
  },
  {
   "cell_type": "markdown",
   "source": [
    "# Import data"
   ],
   "metadata": {
    "collapsed": false
   }
  },
  {
   "cell_type": "code",
   "execution_count": 18,
   "outputs": [],
   "source": [
    "variable = {'phF': 0, 'MF': 1}['phF'] # TODO: for now just classify one variable"
   ],
   "metadata": {
    "collapsed": false,
    "pycharm": {
     "name": "#%%\n"
    }
   }
  },
  {
   "cell_type": "code",
   "execution_count": 19,
   "outputs": [],
   "source": [
    "train_path = './Output/train'\n",
    "test_path = './Output/test'"
   ],
   "metadata": {
    "collapsed": false,
    "pycharm": {
     "name": "#%%\n"
    }
   }
  },
  {
   "cell_type": "code",
   "execution_count": 20,
   "outputs": [
    {
     "name": "stdout",
     "output_type": "stream",
     "text": [
      "Training set: 4213\n",
      "Test set: 399\n"
     ]
    }
   ],
   "source": [
    "N, HEIGHT, WIDTH, CHANNELS = sum([1 for p in os.listdir(train_path) if p[:14] == 'feature_vector']), \\\n",
    "                             *np.load(train_path + '/feature_vector0.npy').shape\n",
    "N_test = sum([1 for p in os.listdir(test_path) if p[:14] == 'feature_vector'])\n",
    "\n",
    "print(f'Training set: {N}')\n",
    "print(f'Test set: {N_test}')"
   ],
   "metadata": {
    "collapsed": false,
    "pycharm": {
     "name": "#%%\n"
    }
   }
  },
  {
   "cell_type": "markdown",
   "source": [
    "# Define data generator"
   ],
   "metadata": {
    "collapsed": false
   }
  },
  {
   "cell_type": "code",
   "execution_count": 21,
   "outputs": [],
   "source": [
    "class DataGenerator(Sequence):\n",
    "\n",
    "    def __init__(self, data_path: str, indices_dataset: list, batch_size=32, dim=(HEIGHT, WIDTH), n_channels=CHANNELS, shuffle=True):\n",
    "        self.data_path = data_path # path to full dataset\n",
    "        self.dim = dim # image dimension\n",
    "        self.batch_size = batch_size\n",
    "        self.indices_dataset = indices_dataset # indices of full dataset (different for train/validation/test set)\n",
    "        self.n_channels = n_channels\n",
    "        self.shuffle = shuffle\n",
    "\n",
    "        self.on_epoch_end() # shuffle data for each epoch\n",
    "\n",
    "    def on_epoch_end(self):\n",
    "        \"\"\"\n",
    "        Shuffle data for each epoch\n",
    "        \"\"\"\n",
    "        if self.shuffle:\n",
    "            np.random.shuffle(self.indices_dataset)\n",
    "\n",
    "    def __data_generation(self, indices):\n",
    "        \"\"\"\n",
    "        Loads and returns datapoints[indices]\n",
    "        \"\"\"\n",
    "        # init\n",
    "        X = np.empty((self.batch_size, *self.dim, self.n_channels))\n",
    "        y = np.empty(self.batch_size, dtype=float) # TODO: int for non-logits\n",
    "\n",
    "        # load individual datapoints\n",
    "        for i, index in enumerate(indices):\n",
    "            X[i, ] = np.load(self.data_path + f'/feature_vector{index}.npy', allow_pickle=True)\n",
    "            y[i] = np.load(self.data_path + f'/labels{index}.npy', allow_pickle=True)[variable] # TODO: for now just one variable\n",
    "\n",
    "        return X, y\n",
    "\n",
    "    def __len__(self):\n",
    "        \"\"\"\n",
    "        Number of batches per epoch\n",
    "        \"\"\"\n",
    "        return int(np.floor(len(self.indices_dataset) / self.batch_size))\n",
    "\n",
    "    def __getitem__(self, index):\n",
    "        \"\"\"\n",
    "        Generates batch[index]\n",
    "        \"\"\"\n",
    "        # calculate indices of batch\n",
    "        indices = self.indices_dataset[index * self.batch_size:(index + 1) * self.batch_size]\n",
    "\n",
    "        # generate batch\n",
    "        X, y = self.__data_generation(indices)\n",
    "\n",
    "        return X, y"
   ],
   "metadata": {
    "collapsed": false,
    "pycharm": {
     "name": "#%%\n"
    }
   }
  },
  {
   "cell_type": "markdown",
   "source": [
    "# Upsampling"
   ],
   "metadata": {
    "collapsed": false
   }
  },
  {
   "cell_type": "code",
   "execution_count": 22,
   "outputs": [],
   "source": [
    "UPSAMPLING_STRATEGY = 'nothing' # ['repeat', 'nothing']"
   ],
   "metadata": {
    "collapsed": false,
    "pycharm": {
     "name": "#%%\n"
    }
   }
  },
  {
   "cell_type": "code",
   "execution_count": 23,
   "outputs": [
    {
     "name": "stdout",
     "output_type": "stream",
     "text": [
      "train_set: (+: 284, -: 115)\n",
      "train_set: (+: 3142, -: 1071)\n"
     ]
    }
   ],
   "source": [
    "def check_imbalance(path_to_labels, indices):\n",
    "    \"\"\"Returns indices of positives/negatives\"\"\"\n",
    "    y = np.empty((len(indices), 2), dtype=int)\n",
    "    for i, index in enumerate(indices):\n",
    "        y[i, ] = np.load(path_to_labels + f'/labels{index}.npy', allow_pickle=True)\n",
    "\n",
    "    positives = np.where(y[:, variable] == 1)[0] # TODO: for now just one variable\n",
    "    negatives = np.where(y[:, variable] == 0)[0] # TODO: for now just one variable\n",
    "\n",
    "    return np.array(indices)[positives], np.array(indices)[negatives]\n",
    "\n",
    "\n",
    "# validation set\n",
    "positives, negatives = check_imbalance(test_path, np.arange(N_test)) # TODO: use test set to avoid mixing\n",
    "print(f'train_set: (+: {len(positives)}, -: {len(negatives)})')\n",
    "\n",
    "# training set\n",
    "positives, negatives = check_imbalance(train_path, np.arange(N))\n",
    "print(f'train_set: (+: {len(positives)}, -: {len(negatives)})')\n",
    "\n",
    "sample_weight = len(negatives) / len(positives) # for weighted cross-entropy\n",
    "\n",
    "# upsampling training set\n",
    "if UPSAMPLING_STRATEGY == 'repeat':\n",
    "    upsampled_indices = np.random.choice(negatives, size=(len(positives) - len(negatives)), replace=True) # with replacement\n",
    "    upsampled_indices = np.append(upsampled_indices, np.arange(N))\n",
    "    train_indices = np.append(positives, negatives) # update\n",
    "\n",
    "    positives, negatives = check_imbalance(train_path, upsampled_indices)\n",
    "    print(f'train_set (upsampled): (+: {len(positives)}, -: {len(negatives)})')\n",
    "if UPSAMPLING_STRATEGY == 'nothing':\n",
    "    pass"
   ],
   "metadata": {
    "collapsed": false,
    "pycharm": {
     "name": "#%%\n"
    }
   }
  },
  {
   "cell_type": "markdown",
   "source": [
    "# CNN"
   ],
   "metadata": {
    "collapsed": false
   }
  },
  {
   "cell_type": "markdown",
   "source": [
    "Data generators"
   ],
   "metadata": {
    "collapsed": false
   }
  },
  {
   "cell_type": "code",
   "execution_count": 24,
   "outputs": [],
   "source": [
    "training_batch_generator = DataGenerator(data_path=train_path, indices_dataset=np.arange(N), batch_size=128)\n",
    "validation_batch_generator = DataGenerator(data_path=test_path, indices_dataset=np.arange(N_test), batch_size=32) # TODO: use test set to avoid mixing"
   ],
   "metadata": {
    "collapsed": false,
    "pycharm": {
     "name": "#%%\n"
    }
   }
  },
  {
   "cell_type": "markdown",
   "source": [
    "Model"
   ],
   "metadata": {
    "collapsed": false
   }
  },
  {
   "cell_type": "code",
   "execution_count": 25,
   "outputs": [],
   "source": [
    "# wrapper functions\n",
    "def weighted_cross_entropy(weight):\n",
    "    def weighted_cross_entropy_with_logits(labels, logits):\n",
    "        loss = tf.nn.weighted_cross_entropy_with_logits(\n",
    "            labels, logits, weight\n",
    "        )\n",
    "        return loss\n",
    "    return weighted_cross_entropy_with_logits\n",
    "\n",
    "class accuracy_with_logits(tf.keras.metrics.Accuracy):\n",
    "    def update_state(self, y_true, y_pred, sample_weight=None):\n",
    "        y_pred = tf.round(tf.math.sigmoid(y_pred))\n",
    "        #y_pred = (tf.sign(y_pred + K.epsilon(), 1) + 1.0) / 2 # == int(y_pred > 0)\n",
    "        return super(accuracy_with_logits, self).update_state(y_true, y_pred, sample_weight)\n",
    "\n",
    "class recall_with_logits(tf.keras.metrics.Recall):\n",
    "    def update_state(self, y_true, y_pred, sample_weight=None):\n",
    "        y_pred = tf.round(tf.math.sigmoid(y_pred))\n",
    "        #y_pred = (tf.sign(y_pred + K.epsilon(), 1) + 1.0) / 2 # == int(y_pred > 0)\n",
    "        return super(recall_with_logits, self).update_state(y_true, y_pred, sample_weight)\n",
    "\n",
    "class precision_with_logits(tf.keras.metrics.Precision):\n",
    "    def update_state(self, y_true, y_pred, sample_weight=None):\n",
    "        y_pred = tf.round(tf.math.sigmoid(y_pred))\n",
    "        #y_pred = (tf.sign(y_pred + K.epsilon(), 1) + 1.0) / 2 # == int(y_pred > 0)\n",
    "        return super(precision_with_logits, self).update_state(y_true, y_pred, sample_weight)"
   ],
   "metadata": {
    "collapsed": false,
    "pycharm": {
     "name": "#%%\n"
    }
   }
  },
  {
   "cell_type": "code",
   "execution_count": 26,
   "outputs": [
    {
     "name": "stdout",
     "output_type": "stream",
     "text": [
      "Model: \"custom_CNN\"\n",
      "_________________________________________________________________\n",
      "Layer (type)                 Output Shape              Param #   \n",
      "=================================================================\n",
      "conv1-1 (Conv2D)             (None, 370, 100, 16)      4336      \n",
      "_________________________________________________________________\n",
      "conv1-2 (Conv2D)             (None, 370, 100, 16)      2320      \n",
      "_________________________________________________________________\n",
      "batch_norm1 (BatchNormalizat (None, 370, 100, 16)      64        \n",
      "_________________________________________________________________\n",
      "pool1 (MaxPooling2D)         (None, 185, 50, 16)       0         \n",
      "_________________________________________________________________\n",
      "conv2-1 (Conv2D)             (None, 185, 50, 16)       2320      \n",
      "_________________________________________________________________\n",
      "conv2-2 (Conv2D)             (None, 185, 50, 16)       2320      \n",
      "_________________________________________________________________\n",
      "batch_norm2 (BatchNormalizat (None, 185, 50, 16)       64        \n",
      "_________________________________________________________________\n",
      "pool2 (MaxPooling2D)         (None, 92, 25, 16)        0         \n",
      "_________________________________________________________________\n",
      "conv3-1 (Conv2D)             (None, 92, 25, 16)        2320      \n",
      "_________________________________________________________________\n",
      "conv3-2 (Conv2D)             (None, 92, 25, 16)        2320      \n",
      "_________________________________________________________________\n",
      "conv3-3 (Conv2D)             (None, 92, 25, 16)        2320      \n",
      "_________________________________________________________________\n",
      "batch_norm3 (BatchNormalizat (None, 92, 25, 16)        64        \n",
      "_________________________________________________________________\n",
      "pool3 (MaxPooling2D)         (None, 46, 12, 16)        0         \n",
      "_________________________________________________________________\n",
      "conv4-1 (Conv2D)             (None, 46, 12, 32)        4640      \n",
      "_________________________________________________________________\n",
      "conv4-2 (Conv2D)             (None, 46, 12, 32)        9248      \n",
      "_________________________________________________________________\n",
      "conv4-3 (Conv2D)             (None, 46, 12, 32)        9248      \n",
      "_________________________________________________________________\n",
      "batch_norm4 (BatchNormalizat (None, 46, 12, 32)        128       \n",
      "_________________________________________________________________\n",
      "pool4 (MaxPooling2D)         (None, 23, 6, 32)         0         \n",
      "_________________________________________________________________\n",
      "conv5-1 (Conv2D)             (None, 23, 6, 32)         9248      \n",
      "_________________________________________________________________\n",
      "conv5-2 (Conv2D)             (None, 23, 6, 32)         9248      \n",
      "_________________________________________________________________\n",
      "conv5-3 (Conv2D)             (None, 23, 6, 32)         9248      \n",
      "_________________________________________________________________\n",
      "batch_norm5 (BatchNormalizat (None, 23, 6, 32)         128       \n",
      "_________________________________________________________________\n",
      "pool5 (MaxPooling2D)         (None, 11, 3, 32)         0         \n",
      "_________________________________________________________________\n",
      "conv6-1 (Conv2D)             (None, 11, 3, 32)         9248      \n",
      "_________________________________________________________________\n",
      "conv6-2 (Conv2D)             (None, 11, 3, 32)         9248      \n",
      "_________________________________________________________________\n",
      "conv6-3 (Conv2D)             (None, 11, 3, 32)         9248      \n",
      "_________________________________________________________________\n",
      "batch_norm6 (BatchNormalizat (None, 11, 3, 32)         128       \n",
      "_________________________________________________________________\n",
      "pool6 (MaxPooling2D)         (None, 5, 1, 32)          0         \n",
      "_________________________________________________________________\n",
      "flatten (Flatten)            (None, 160)               0         \n",
      "_________________________________________________________________\n",
      "dense1 (Dense)               (None, 128)               20608     \n",
      "_________________________________________________________________\n",
      "dense2 (Dense)               (None, 64)                8256      \n",
      "_________________________________________________________________\n",
      "dense3 (Dense)               (None, 1)                 65        \n",
      "=================================================================\n",
      "Total params: 126,385\n",
      "Trainable params: 126,097\n",
      "Non-trainable params: 288\n",
      "_________________________________________________________________\n"
     ]
    }
   ],
   "source": [
    "model = models.Sequential(name='custom_CNN')\n",
    "\n",
    "model.add(Conv2D(filters=16, kernel_size=(3, 3), activation='relu', input_shape=(370, 100, 30), padding='same', name='conv1-1'))\n",
    "model.add(Conv2D(filters=16, kernel_size=(3, 3), activation='relu', padding='same', name='conv1-2'))\n",
    "model.add(BatchNormalization(name='batch_norm1')) # try for incr. stability\n",
    "model.add(MaxPool2D(strides=(2, 2), name='pool1'))\n",
    "\n",
    "model.add(Conv2D(filters=16, kernel_size=(3, 3), activation='relu', padding='same', name='conv2-1'))\n",
    "model.add(Conv2D(filters=16, kernel_size=(3, 3), activation='relu', padding='same', name='conv2-2'))\n",
    "model.add(BatchNormalization(name='batch_norm2')) # try for incr. stability\n",
    "model.add(MaxPool2D(strides=(2, 2), name='pool2'))\n",
    "\n",
    "model.add(Conv2D(filters=16, kernel_size=(3, 3), activation='relu', padding='same', name='conv3-1'))\n",
    "model.add(Conv2D(filters=16, kernel_size=(3, 3), activation='relu', padding='same', name='conv3-2'))\n",
    "model.add(Conv2D(filters=16, kernel_size=(3, 3), activation='relu', padding='same', name='conv3-3'))\n",
    "model.add(BatchNormalization(name='batch_norm3')) # try for incr. stability\n",
    "model.add(MaxPool2D(strides=(2, 2), name='pool3'))\n",
    "\n",
    "model.add(Conv2D(filters=32, kernel_size=(3, 3), activation='relu', padding='same', name='conv4-1'))\n",
    "model.add(Conv2D(filters=32, kernel_size=(3, 3), activation='relu', padding='same', name='conv4-2'))\n",
    "model.add(Conv2D(filters=32, kernel_size=(3, 3), activation='relu', padding='same', name='conv4-3'))\n",
    "model.add(BatchNormalization(name='batch_norm4')) # try for incr. stability\n",
    "model.add(MaxPool2D(strides=(2, 2), name='pool4'))\n",
    "\n",
    "model.add(Conv2D(filters=32, kernel_size=(3, 3), activation='relu', padding='same', name='conv5-1'))\n",
    "model.add(Conv2D(filters=32, kernel_size=(3, 3), activation='relu', padding='same', name='conv5-2'))\n",
    "model.add(Conv2D(filters=32, kernel_size=(3, 3), activation='relu', padding='same', name='conv5-3'))\n",
    "model.add(BatchNormalization(name='batch_norm5')) # try for incr. stability\n",
    "model.add(MaxPool2D(strides=(2, 2), name='pool5'))\n",
    "\n",
    "model.add(Conv2D(filters=32, kernel_size=(3, 3), activation='relu', padding='same', name='conv6-1'))\n",
    "model.add(Conv2D(filters=32, kernel_size=(3, 3), activation='relu', padding='same', name='conv6-2'))\n",
    "model.add(Conv2D(filters=32, kernel_size=(3, 3), activation='relu', padding='same', name='conv6-3'))\n",
    "model.add(BatchNormalization(name='batch_norm6')) # try for incr. stability\n",
    "model.add(MaxPool2D(strides=(2, 2), name='pool6'))\n",
    "\n",
    "model.add(Flatten(name='flatten'))\n",
    "model.add(Dense(128, activation='relu', kernel_initializer='random_normal', bias_initializer='zeros', kernel_regularizer='l2', name='dense1'))\n",
    "#model.add(Dropout(0.4, name='dropout1'))\n",
    "model.add(Dense(64, activation='relu', kernel_initializer='random_normal', bias_initializer='zeros', kernel_regularizer='l2', name='dense2'))\n",
    "#model.add(Dropout(0.3, name='dropout2'))\n",
    "model.add(Dense(1, kernel_regularizer='l2', name='dense3'))\n",
    "\n",
    "#model.compile(optimizer=Adam(learning_rate=1e-4), loss='binary_crossentropy', metrics=['accuracy', 'Precision', 'Recall'])\n",
    "model.compile(optimizer=Adam(learning_rate=1e-5), loss=weighted_cross_entropy(sample_weight), metrics=[accuracy_with_logits(),\n",
    "                                                                                              recall_with_logits(),\n",
    "                                                                                              precision_with_logits()])\n",
    "\n",
    "model.summary()"
   ],
   "metadata": {
    "collapsed": false,
    "pycharm": {
     "name": "#%%\n"
    }
   }
  },
  {
   "cell_type": "markdown",
   "source": [
    "Training"
   ],
   "metadata": {
    "collapsed": false
   }
  },
  {
   "cell_type": "code",
   "execution_count": 27,
   "outputs": [
    {
     "name": "stderr",
     "output_type": "stream",
     "text": [
      "C:\\Users\\jjung\\anaconda3\\envs\\tf-sklearn-keras\\lib\\site-packages\\keras\\engine\\training.py:1972: UserWarning: `Model.fit_generator` is deprecated and will be removed in a future version. Please use `Model.fit`, which supports generators.\n",
      "  warnings.warn('`Model.fit_generator` is deprecated and '\n"
     ]
    },
    {
     "name": "stdout",
     "output_type": "stream",
     "text": [
      "Epoch 1/100\n",
      "32/32 [==============================] - 62s 2s/step - loss: 1.1095 - accuracy: 0.3201 - recall_with_logits_1: 0.1159 - precision_with_logits_1: 0.7950 - val_loss: 1.1100 - val_accuracy: 0.2839 - val_recall_with_logits_1: 0.0000e+00 - val_precision_with_logits_1: 0.0000e+00\n",
      "Epoch 2/100\n",
      "32/32 [==============================] - 60s 2s/step - loss: 1.0954 - accuracy: 0.3833 - recall_with_logits_1: 0.2452 - precision_with_logits_1: 0.7730 - val_loss: 1.1046 - val_accuracy: 0.2839 - val_recall_with_logits_1: 0.0000e+00 - val_precision_with_logits_1: 0.0000e+00\n",
      "Epoch 3/100\n",
      "32/32 [==============================] - 61s 2s/step - loss: 1.0863 - accuracy: 0.4534 - recall_with_logits_1: 0.3627 - precision_with_logits_1: 0.7927 - val_loss: 1.0975 - val_accuracy: 0.2786 - val_recall_with_logits_1: 0.0000e+00 - val_precision_with_logits_1: 0.0000e+00\n",
      "Epoch 4/100\n",
      "32/32 [==============================] - 60s 2s/step - loss: 1.0784 - accuracy: 0.5032 - recall_with_logits_1: 0.4432 - precision_with_logits_1: 0.8027 - val_loss: 1.0953 - val_accuracy: 0.2865 - val_recall_with_logits_1: 0.0000e+00 - val_precision_with_logits_1: 0.0000e+00\n",
      "Epoch 5/100\n",
      "32/32 [==============================] - 59s 2s/step - loss: 1.0713 - accuracy: 0.5334 - recall_with_logits_1: 0.4872 - precision_with_logits_1: 0.8118 - val_loss: 1.0887 - val_accuracy: 0.2812 - val_recall_with_logits_1: 0.0000e+00 - val_precision_with_logits_1: 0.0000e+00\n",
      "Epoch 6/100\n",
      "32/32 [==============================] - 59s 2s/step - loss: 1.0639 - accuracy: 0.5579 - recall_with_logits_1: 0.5151 - precision_with_logits_1: 0.8250 - val_loss: 1.0856 - val_accuracy: 0.2865 - val_recall_with_logits_1: 0.0000e+00 - val_precision_with_logits_1: 0.0000e+00\n",
      "Epoch 7/100\n",
      "32/32 [==============================] - 59s 2s/step - loss: 1.0553 - accuracy: 0.5813 - recall_with_logits_1: 0.5363 - precision_with_logits_1: 0.8477 - val_loss: 1.0802 - val_accuracy: 0.2839 - val_recall_with_logits_1: 0.0000e+00 - val_precision_with_logits_1: 0.0000e+00\n",
      "Epoch 8/100\n",
      "32/32 [==============================] - 59s 2s/step - loss: 1.0479 - accuracy: 0.6067 - recall_with_logits_1: 0.5842 - precision_with_logits_1: 0.8401 - val_loss: 1.0764 - val_accuracy: 0.2865 - val_recall_with_logits_1: 0.0000e+00 - val_precision_with_logits_1: 0.0000e+00\n",
      "Epoch 9/100\n",
      "32/32 [==============================] - 60s 2s/step - loss: 1.0419 - accuracy: 0.6147 - recall_with_logits_1: 0.5853 - precision_with_logits_1: 0.8518 - val_loss: 1.0712 - val_accuracy: 0.2839 - val_recall_with_logits_1: 0.0000e+00 - val_precision_with_logits_1: 0.0000e+00\n",
      "Epoch 10/100\n",
      "32/32 [==============================] - 60s 2s/step - loss: 1.0337 - accuracy: 0.6565 - recall_with_logits_1: 0.6353 - precision_with_logits_1: 0.8693 - val_loss: 1.0694 - val_accuracy: 0.2917 - val_recall_with_logits_1: 0.0000e+00 - val_precision_with_logits_1: 0.0000e+00\n",
      "Epoch 11/100\n",
      "32/32 [==============================] - 60s 2s/step - loss: 1.0279 - accuracy: 0.6611 - recall_with_logits_1: 0.6351 - precision_with_logits_1: 0.8762 - val_loss: 1.0650 - val_accuracy: 0.2917 - val_recall_with_logits_1: 0.0000e+00 - val_precision_with_logits_1: 0.0000e+00\n",
      "Epoch 12/100\n",
      "32/32 [==============================] - 58s 2s/step - loss: 1.0203 - accuracy: 0.6567 - recall_with_logits_1: 0.6262 - precision_with_logits_1: 0.8787 - val_loss: 1.0585 - val_accuracy: 0.2917 - val_recall_with_logits_1: 0.0000e+00 - val_precision_with_logits_1: 0.0000e+00\n",
      "Epoch 13/100\n",
      "32/32 [==============================] - 58s 2s/step - loss: 1.0143 - accuracy: 0.6589 - recall_with_logits_1: 0.6359 - precision_with_logits_1: 0.8730 - val_loss: 1.0517 - val_accuracy: 0.2943 - val_recall_with_logits_1: 0.0037 - val_precision_with_logits_1: 1.0000\n",
      "Epoch 14/100\n",
      "32/32 [==============================] - 58s 2s/step - loss: 1.0048 - accuracy: 0.6836 - recall_with_logits_1: 0.6564 - precision_with_logits_1: 0.8913 - val_loss: 1.0454 - val_accuracy: 0.2969 - val_recall_with_logits_1: 0.0110 - val_precision_with_logits_1: 1.0000\n",
      "Epoch 15/100\n",
      "32/32 [==============================] - 58s 2s/step - loss: 0.9962 - accuracy: 0.7100 - recall_with_logits_1: 0.6836 - precision_with_logits_1: 0.9048 - val_loss: 1.0448 - val_accuracy: 0.3151 - val_recall_with_logits_1: 0.0480 - val_precision_with_logits_1: 0.7222\n",
      "Epoch 16/100\n",
      "32/32 [==============================] - 60s 2s/step - loss: 0.9889 - accuracy: 0.7139 - recall_with_logits_1: 0.6889 - precision_with_logits_1: 0.9050 - val_loss: 1.0427 - val_accuracy: 0.3333 - val_recall_with_logits_1: 0.1282 - val_precision_with_logits_1: 0.6604\n",
      "Epoch 17/100\n",
      "32/32 [==============================] - 58s 2s/step - loss: 0.9827 - accuracy: 0.7251 - recall_with_logits_1: 0.7017 - precision_with_logits_1: 0.9088 - val_loss: 1.0424 - val_accuracy: 0.3984 - val_recall_with_logits_1: 0.3210 - val_precision_with_logits_1: 0.6493\n",
      "Epoch 18/100\n",
      "32/32 [==============================] - 57s 2s/step - loss: 0.9738 - accuracy: 0.7349 - recall_with_logits_1: 0.7044 - precision_with_logits_1: 0.9211 - val_loss: 1.0425 - val_accuracy: 0.4401 - val_recall_with_logits_1: 0.4579 - val_precision_with_logits_1: 0.6510\n",
      "Epoch 19/100\n",
      "32/32 [==============================] - 57s 2s/step - loss: 0.9687 - accuracy: 0.7300 - recall_with_logits_1: 0.6995 - precision_with_logits_1: 0.9182 - val_loss: 1.0394 - val_accuracy: 0.4219 - val_recall_with_logits_1: 0.4638 - val_precision_with_logits_1: 0.6337\n",
      "Epoch 20/100\n",
      "32/32 [==============================] - 57s 2s/step - loss: 0.9582 - accuracy: 0.7549 - recall_with_logits_1: 0.7265 - precision_with_logits_1: 0.9297 - val_loss: 1.0341 - val_accuracy: 0.4531 - val_recall_with_logits_1: 0.4819 - val_precision_with_logits_1: 0.6650\n",
      "Epoch 21/100\n",
      "32/32 [==============================] - 57s 2s/step - loss: 0.9485 - accuracy: 0.7605 - recall_with_logits_1: 0.7294 - precision_with_logits_1: 0.9363 - val_loss: 1.0412 - val_accuracy: 0.4297 - val_recall_with_logits_1: 0.4632 - val_precision_with_logits_1: 0.6332\n",
      "Epoch 22/100\n",
      "32/32 [==============================] - 57s 2s/step - loss: 0.9397 - accuracy: 0.7759 - recall_with_logits_1: 0.7509 - precision_with_logits_1: 0.9359 - val_loss: 1.0328 - val_accuracy: 0.5078 - val_recall_with_logits_1: 0.5788 - val_precision_with_logits_1: 0.6810\n",
      "Epoch 23/100\n",
      "32/32 [==============================] - 57s 2s/step - loss: 0.9321 - accuracy: 0.7898 - recall_with_logits_1: 0.7711 - precision_with_logits_1: 0.9365 - val_loss: 1.0270 - val_accuracy: 0.5573 - val_recall_with_logits_1: 0.6460 - val_precision_with_logits_1: 0.7080\n",
      "Epoch 24/100\n",
      "32/32 [==============================] - 57s 2s/step - loss: 0.9231 - accuracy: 0.8037 - recall_with_logits_1: 0.7859 - precision_with_logits_1: 0.9403 - val_loss: 1.0229 - val_accuracy: 0.5469 - val_recall_with_logits_1: 0.6287 - val_precision_with_logits_1: 0.7008\n",
      "Epoch 25/100\n",
      "32/32 [==============================] - 57s 2s/step - loss: 0.9133 - accuracy: 0.8057 - recall_with_logits_1: 0.7824 - precision_with_logits_1: 0.9476 - val_loss: 1.0143 - val_accuracy: 0.5859 - val_recall_with_logits_1: 0.6823 - val_precision_with_logits_1: 0.7269\n",
      "Epoch 26/100\n",
      "32/32 [==============================] - 56s 2s/step - loss: 0.9030 - accuracy: 0.8203 - recall_with_logits_1: 0.8051 - precision_with_logits_1: 0.9462 - val_loss: 1.0217 - val_accuracy: 0.5859 - val_recall_with_logits_1: 0.7111 - val_precision_with_logits_1: 0.7033\n",
      "Epoch 27/100\n",
      "32/32 [==============================] - 58s 2s/step - loss: 0.8914 - accuracy: 0.8286 - recall_with_logits_1: 0.8029 - precision_with_logits_1: 0.9604 - val_loss: 1.0107 - val_accuracy: 0.5990 - val_recall_with_logits_1: 0.7256 - val_precision_with_logits_1: 0.7204\n",
      "Epoch 28/100\n",
      "32/32 [==============================] - 58s 2s/step - loss: 0.8852 - accuracy: 0.8301 - recall_with_logits_1: 0.8150 - precision_with_logits_1: 0.9500 - val_loss: 1.0227 - val_accuracy: 0.5807 - val_recall_with_logits_1: 0.6974 - val_precision_with_logits_1: 0.7052\n",
      "Epoch 29/100\n",
      "32/32 [==============================] - 57s 2s/step - loss: 0.8722 - accuracy: 0.8459 - recall_with_logits_1: 0.8295 - precision_with_logits_1: 0.9589 - val_loss: 1.0103 - val_accuracy: 0.6016 - val_recall_with_logits_1: 0.7236 - val_precision_with_logits_1: 0.7210\n",
      "Epoch 30/100\n",
      "32/32 [==============================] - 57s 2s/step - loss: 0.8649 - accuracy: 0.8567 - recall_with_logits_1: 0.8425 - precision_with_logits_1: 0.9604 - val_loss: 1.0116 - val_accuracy: 0.5964 - val_recall_with_logits_1: 0.7246 - val_precision_with_logits_1: 0.7168\n",
      "Epoch 31/100\n",
      "32/32 [==============================] - 56s 2s/step - loss: 0.8525 - accuracy: 0.8572 - recall_with_logits_1: 0.8378 - precision_with_logits_1: 0.9664 - val_loss: 1.0097 - val_accuracy: 0.6120 - val_recall_with_logits_1: 0.7236 - val_precision_with_logits_1: 0.7316\n",
      "Epoch 32/100\n",
      "32/32 [==============================] - 56s 2s/step - loss: 0.8429 - accuracy: 0.8726 - recall_with_logits_1: 0.8598 - precision_with_logits_1: 0.9658 - val_loss: 1.0127 - val_accuracy: 0.6094 - val_recall_with_logits_1: 0.7537 - val_precision_with_logits_1: 0.7118\n",
      "Epoch 33/100\n",
      "32/32 [==============================] - 55s 2s/step - loss: 0.8304 - accuracy: 0.8755 - recall_with_logits_1: 0.8610 - precision_with_logits_1: 0.9687 - val_loss: 1.0137 - val_accuracy: 0.6224 - val_recall_with_logits_1: 0.7704 - val_precision_with_logits_1: 0.7148\n",
      "Epoch 34/100\n",
      "32/32 [==============================] - 56s 2s/step - loss: 0.8214 - accuracy: 0.8828 - recall_with_logits_1: 0.8702 - precision_with_logits_1: 0.9698 - val_loss: 1.0186 - val_accuracy: 0.5885 - val_recall_with_logits_1: 0.7380 - val_precision_with_logits_1: 0.6969\n",
      "Epoch 35/100\n",
      "32/32 [==============================] - 57s 2s/step - loss: 0.8102 - accuracy: 0.8909 - recall_with_logits_1: 0.8806 - precision_with_logits_1: 0.9704 - val_loss: 1.0080 - val_accuracy: 0.6172 - val_recall_with_logits_1: 0.7445 - val_precision_with_logits_1: 0.7260\n",
      "Epoch 36/100\n",
      "32/32 [==============================] - 59s 2s/step - loss: 0.8037 - accuracy: 0.8867 - recall_with_logits_1: 0.8794 - precision_with_logits_1: 0.9659 - val_loss: 1.0136 - val_accuracy: 0.6250 - val_recall_with_logits_1: 0.7500 - val_precision_with_logits_1: 0.7286\n",
      "Epoch 37/100\n",
      "32/32 [==============================] - 59s 2s/step - loss: 0.7942 - accuracy: 0.8882 - recall_with_logits_1: 0.8763 - precision_with_logits_1: 0.9710 - val_loss: 1.0049 - val_accuracy: 0.6328 - val_recall_with_logits_1: 0.7527 - val_precision_with_logits_1: 0.7393\n",
      "Epoch 38/100\n",
      "32/32 [==============================] - 56s 2s/step - loss: 0.7800 - accuracy: 0.9036 - recall_with_logits_1: 0.8913 - precision_with_logits_1: 0.9774 - val_loss: 1.0107 - val_accuracy: 0.6198 - val_recall_with_logits_1: 0.7555 - val_precision_with_logits_1: 0.7238\n",
      "Epoch 39/100\n",
      "32/32 [==============================] - 56s 2s/step - loss: 0.7713 - accuracy: 0.9084 - recall_with_logits_1: 0.8998 - precision_with_logits_1: 0.9755 - val_loss: 1.0138 - val_accuracy: 0.6250 - val_recall_with_logits_1: 0.7692 - val_precision_with_logits_1: 0.7216\n",
      "Epoch 40/100\n",
      "32/32 [==============================] - 55s 2s/step - loss: 0.7603 - accuracy: 0.9099 - recall_with_logits_1: 0.8997 - precision_with_logits_1: 0.9780 - val_loss: 1.0173 - val_accuracy: 0.6302 - val_recall_with_logits_1: 0.7802 - val_precision_with_logits_1: 0.7220\n",
      "Epoch 41/100\n",
      "32/32 [==============================] - 58s 2s/step - loss: 0.7431 - accuracy: 0.9307 - recall_with_logits_1: 0.9231 - precision_with_logits_1: 0.9829 - val_loss: 1.0163 - val_accuracy: 0.6589 - val_recall_with_logits_1: 0.8291 - val_precision_with_logits_1: 0.7308\n",
      "Epoch 42/100\n",
      "32/32 [==============================] - 57s 2s/step - loss: 0.7345 - accuracy: 0.9395 - recall_with_logits_1: 0.9348 - precision_with_logits_1: 0.9831 - val_loss: 1.0106 - val_accuracy: 0.6432 - val_recall_with_logits_1: 0.7875 - val_precision_with_logits_1: 0.7313\n",
      "Epoch 43/100\n",
      "32/32 [==============================] - 57s 2s/step - loss: 0.7226 - accuracy: 0.9387 - recall_with_logits_1: 0.9296 - precision_with_logits_1: 0.9875 - val_loss: 1.0275 - val_accuracy: 0.6406 - val_recall_with_logits_1: 0.8043 - val_precision_with_logits_1: 0.7255\n",
      "Epoch 44/100\n",
      "32/32 [==============================] - 57s 2s/step - loss: 0.7120 - accuracy: 0.9470 - recall_with_logits_1: 0.9414 - precision_with_logits_1: 0.9870 - val_loss: 1.0245 - val_accuracy: 0.6276 - val_recall_with_logits_1: 0.7839 - val_precision_with_logits_1: 0.7181\n",
      "Epoch 45/100\n",
      "32/32 [==============================] - 56s 2s/step - loss: 0.7101 - accuracy: 0.9407 - recall_with_logits_1: 0.9371 - precision_with_logits_1: 0.9825 - val_loss: 1.0132 - val_accuracy: 0.6406 - val_recall_with_logits_1: 0.7839 - val_precision_with_logits_1: 0.7304\n",
      "Epoch 46/100\n",
      "32/32 [==============================] - 56s 2s/step - loss: 0.6927 - accuracy: 0.9468 - recall_with_logits_1: 0.9393 - precision_with_logits_1: 0.9886 - val_loss: 1.0235 - val_accuracy: 0.6693 - val_recall_with_logits_1: 0.8400 - val_precision_with_logits_1: 0.7357\n",
      "Epoch 47/100\n",
      "32/32 [==============================] - 57s 2s/step - loss: 0.6915 - accuracy: 0.9458 - recall_with_logits_1: 0.9403 - precision_with_logits_1: 0.9862 - val_loss: 1.0321 - val_accuracy: 0.6562 - val_recall_with_logits_1: 0.8285 - val_precision_with_logits_1: 0.7276\n",
      "Epoch 48/100\n",
      "32/32 [==============================] - 58s 2s/step - loss: 0.6803 - accuracy: 0.9539 - recall_with_logits_1: 0.9485 - precision_with_logits_1: 0.9891 - val_loss: 1.0520 - val_accuracy: 0.6302 - val_recall_with_logits_1: 0.8088 - val_precision_with_logits_1: 0.7097\n",
      "Epoch 49/100\n",
      "32/32 [==============================] - 58s 2s/step - loss: 0.6716 - accuracy: 0.9556 - recall_with_logits_1: 0.9552 - precision_with_logits_1: 0.9848 - val_loss: 1.0472 - val_accuracy: 0.6484 - val_recall_with_logits_1: 0.8309 - val_precision_with_logits_1: 0.7175\n",
      "Epoch 50/100\n",
      "32/32 [==============================] - 58s 2s/step - loss: 0.6700 - accuracy: 0.9495 - recall_with_logits_1: 0.9490 - precision_with_logits_1: 0.9827 - val_loss: 1.0207 - val_accuracy: 0.6484 - val_recall_with_logits_1: 0.8162 - val_precision_with_logits_1: 0.7231\n",
      "Epoch 51/100\n",
      "32/32 [==============================] - 59s 2s/step - loss: 0.6539 - accuracy: 0.9612 - recall_with_logits_1: 0.9584 - precision_with_logits_1: 0.9892 - val_loss: 1.0732 - val_accuracy: 0.6589 - val_recall_with_logits_1: 0.8315 - val_precision_with_logits_1: 0.7276\n",
      "Epoch 52/100\n",
      "32/32 [==============================] - 59s 2s/step - loss: 0.6495 - accuracy: 0.9626 - recall_with_logits_1: 0.9610 - precision_with_logits_1: 0.9885 - val_loss: 1.0405 - val_accuracy: 0.6589 - val_recall_with_logits_1: 0.8225 - val_precision_with_logits_1: 0.7346\n",
      "Epoch 53/100\n",
      "32/32 [==============================] - 58s 2s/step - loss: 0.6350 - accuracy: 0.9719 - recall_with_logits_1: 0.9682 - precision_with_logits_1: 0.9939 - val_loss: 1.0347 - val_accuracy: 0.6641 - val_recall_with_logits_1: 0.8327 - val_precision_with_logits_1: 0.7340\n",
      "Epoch 54/100\n",
      "32/32 [==============================] - 58s 2s/step - loss: 0.6370 - accuracy: 0.9656 - recall_with_logits_1: 0.9682 - precision_with_logits_1: 0.9853 - val_loss: 1.0526 - val_accuracy: 0.6484 - val_recall_with_logits_1: 0.8109 - val_precision_with_logits_1: 0.7288\n",
      "Epoch 55/100\n",
      "32/32 [==============================] - 58s 2s/step - loss: 0.6299 - accuracy: 0.9636 - recall_with_logits_1: 0.9575 - precision_with_logits_1: 0.9936 - val_loss: 1.0730 - val_accuracy: 0.6536 - val_recall_with_logits_1: 0.8388 - val_precision_with_logits_1: 0.7201\n",
      "Epoch 56/100\n",
      "32/32 [==============================] - 59s 2s/step - loss: 0.6186 - accuracy: 0.9736 - recall_with_logits_1: 0.9705 - precision_with_logits_1: 0.9940 - val_loss: 1.0862 - val_accuracy: 0.6380 - val_recall_with_logits_1: 0.8303 - val_precision_with_logits_1: 0.7075\n",
      "Epoch 57/100\n",
      "32/32 [==============================] - 58s 2s/step - loss: 0.6117 - accuracy: 0.9727 - recall_with_logits_1: 0.9712 - precision_with_logits_1: 0.9920 - val_loss: 1.0693 - val_accuracy: 0.6615 - val_recall_with_logits_1: 0.8456 - val_precision_with_logits_1: 0.7233\n",
      "Epoch 58/100\n",
      "32/32 [==============================] - 59s 2s/step - loss: 0.5998 - accuracy: 0.9834 - recall_with_logits_1: 0.9810 - precision_with_logits_1: 0.9967 - val_loss: 1.0808 - val_accuracy: 0.6719 - val_recall_with_logits_1: 0.8727 - val_precision_with_logits_1: 0.7251\n",
      "Epoch 59/100\n",
      "32/32 [==============================] - 59s 2s/step - loss: 0.5975 - accuracy: 0.9768 - recall_with_logits_1: 0.9757 - precision_with_logits_1: 0.9930 - val_loss: 1.0803 - val_accuracy: 0.6615 - val_recall_with_logits_1: 0.8321 - val_precision_with_logits_1: 0.7308\n",
      "Epoch 60/100\n",
      "32/32 [==============================] - 58s 2s/step - loss: 0.5925 - accuracy: 0.9817 - recall_with_logits_1: 0.9800 - precision_with_logits_1: 0.9953 - val_loss: 1.1122 - val_accuracy: 0.6693 - val_recall_with_logits_1: 0.8635 - val_precision_with_logits_1: 0.7222\n",
      "Epoch 61/100\n",
      "32/32 [==============================] - 59s 2s/step - loss: 0.5786 - accuracy: 0.9873 - recall_with_logits_1: 0.9856 - precision_with_logits_1: 0.9974 - val_loss: 1.0867 - val_accuracy: 0.6667 - val_recall_with_logits_1: 0.8412 - val_precision_with_logits_1: 0.7350\n",
      "Epoch 62/100\n",
      "32/32 [==============================] - 58s 2s/step - loss: 0.5836 - accuracy: 0.9780 - recall_with_logits_1: 0.9777 - precision_with_logits_1: 0.9927 - val_loss: 1.0926 - val_accuracy: 0.6693 - val_recall_with_logits_1: 0.8456 - val_precision_with_logits_1: 0.7302\n",
      "Epoch 63/100\n",
      "32/32 [==============================] - 58s 2s/step - loss: 0.5797 - accuracy: 0.9751 - recall_with_logits_1: 0.9722 - precision_with_logits_1: 0.9943 - val_loss: 1.1233 - val_accuracy: 0.6562 - val_recall_with_logits_1: 0.8462 - val_precision_with_logits_1: 0.7196\n",
      "Epoch 64/100\n",
      "32/32 [==============================] - 58s 2s/step - loss: 0.5642 - accuracy: 0.9900 - recall_with_logits_1: 0.9889 - precision_with_logits_1: 0.9977 - val_loss: 1.1231 - val_accuracy: 0.6797 - val_recall_with_logits_1: 0.8645 - val_precision_with_logits_1: 0.7329\n",
      "Epoch 65/100\n",
      "32/32 [==============================] - 58s 2s/step - loss: 0.5667 - accuracy: 0.9839 - recall_with_logits_1: 0.9866 - precision_with_logits_1: 0.9918 - val_loss: 1.1050 - val_accuracy: 0.6615 - val_recall_with_logits_1: 0.8498 - val_precision_with_logits_1: 0.7227\n",
      "Epoch 66/100\n",
      "32/32 [==============================] - 60s 2s/step - loss: 0.5546 - accuracy: 0.9893 - recall_with_logits_1: 0.9869 - precision_with_logits_1: 0.9987 - val_loss: 1.1091 - val_accuracy: 0.6719 - val_recall_with_logits_1: 0.8613 - val_precision_with_logits_1: 0.7284\n",
      "Epoch 67/100\n",
      "32/32 [==============================] - 58s 2s/step - loss: 0.5552 - accuracy: 0.9849 - recall_with_logits_1: 0.9850 - precision_with_logits_1: 0.9947 - val_loss: 1.1216 - val_accuracy: 0.6641 - val_recall_with_logits_1: 0.8467 - val_precision_with_logits_1: 0.7273\n",
      "Epoch 68/100\n",
      "32/32 [==============================] - 57s 2s/step - loss: 0.5450 - accuracy: 0.9900 - recall_with_logits_1: 0.9889 - precision_with_logits_1: 0.9977 - val_loss: 1.1648 - val_accuracy: 0.6510 - val_recall_with_logits_1: 0.8487 - val_precision_with_logits_1: 0.7121\n",
      "Epoch 69/100\n",
      "32/32 [==============================] - 58s 2s/step - loss: 0.5447 - accuracy: 0.9905 - recall_with_logits_1: 0.9918 - precision_with_logits_1: 0.9954 - val_loss: 1.1554 - val_accuracy: 0.6589 - val_recall_with_logits_1: 0.8425 - val_precision_with_logits_1: 0.7233\n",
      "Epoch 70/100\n",
      "32/32 [==============================] - 58s 2s/step - loss: 0.5306 - accuracy: 0.9937 - recall_with_logits_1: 0.9931 - precision_with_logits_1: 0.9984 - val_loss: 1.1559 - val_accuracy: 0.6849 - val_recall_with_logits_1: 0.8764 - val_precision_with_logits_1: 0.7348\n",
      "Epoch 71/100\n",
      "32/32 [==============================] - 58s 2s/step - loss: 0.5311 - accuracy: 0.9922 - recall_with_logits_1: 0.9918 - precision_with_logits_1: 0.9977 - val_loss: 1.1566 - val_accuracy: 0.6667 - val_recall_with_logits_1: 0.8655 - val_precision_with_logits_1: 0.7234\n",
      "Epoch 72/100\n",
      "32/32 [==============================] - 58s 2s/step - loss: 0.5248 - accuracy: 0.9939 - recall_with_logits_1: 0.9938 - precision_with_logits_1: 0.9980 - val_loss: 1.2009 - val_accuracy: 0.6719 - val_recall_with_logits_1: 0.8713 - val_precision_with_logits_1: 0.7226\n",
      "Epoch 73/100\n",
      "32/32 [==============================] - 58s 2s/step - loss: 0.5277 - accuracy: 0.9878 - recall_with_logits_1: 0.9889 - precision_with_logits_1: 0.9947 - val_loss: 1.1551 - val_accuracy: 0.6536 - val_recall_with_logits_1: 0.8352 - val_precision_with_logits_1: 0.7215\n",
      "Epoch 74/100\n",
      "32/32 [==============================] - 57s 2s/step - loss: 0.5202 - accuracy: 0.9912 - recall_with_logits_1: 0.9925 - precision_with_logits_1: 0.9957 - val_loss: 1.1122 - val_accuracy: 0.6693 - val_recall_with_logits_1: 0.8509 - val_precision_with_logits_1: 0.7312\n",
      "Epoch 75/100\n",
      "32/32 [==============================] - 57s 2s/step - loss: 0.5169 - accuracy: 0.9902 - recall_with_logits_1: 0.9918 - precision_with_logits_1: 0.9951 - val_loss: 1.1870 - val_accuracy: 0.6615 - val_recall_with_logits_1: 0.8467 - val_precision_with_logits_1: 0.7250\n",
      "Epoch 76/100\n",
      "32/32 [==============================] - 57s 2s/step - loss: 0.5203 - accuracy: 0.9832 - recall_with_logits_1: 0.9846 - precision_with_logits_1: 0.9927 - val_loss: 1.1818 - val_accuracy: 0.6458 - val_recall_with_logits_1: 0.8425 - val_precision_with_logits_1: 0.7121\n",
      "Epoch 77/100\n",
      "32/32 [==============================] - 58s 2s/step - loss: 0.5063 - accuracy: 0.9946 - recall_with_logits_1: 0.9951 - precision_with_logits_1: 0.9977 - val_loss: 1.1616 - val_accuracy: 0.6719 - val_recall_with_logits_1: 0.8796 - val_precision_with_logits_1: 0.7216\n",
      "Epoch 78/100\n",
      "32/32 [==============================] - 58s 2s/step - loss: 0.5012 - accuracy: 0.9932 - recall_with_logits_1: 0.9934 - precision_with_logits_1: 0.9974 - val_loss: 1.1633 - val_accuracy: 0.6641 - val_recall_with_logits_1: 0.8540 - val_precision_with_logits_1: 0.7245\n",
      "Epoch 79/100\n",
      "32/32 [==============================] - 56s 2s/step - loss: 0.4994 - accuracy: 0.9919 - recall_with_logits_1: 0.9931 - precision_with_logits_1: 0.9961 - val_loss: 1.1448 - val_accuracy: 0.6745 - val_recall_with_logits_1: 0.8540 - val_precision_with_logits_1: 0.7335\n",
      "Epoch 80/100\n",
      "32/32 [==============================] - 56s 2s/step - loss: 0.4916 - accuracy: 0.9954 - recall_with_logits_1: 0.9957 - precision_with_logits_1: 0.9980 - val_loss: 1.2010 - val_accuracy: 0.6667 - val_recall_with_logits_1: 0.8650 - val_precision_with_logits_1: 0.7226\n",
      "Epoch 81/100\n",
      "32/32 [==============================] - 58s 2s/step - loss: 0.4960 - accuracy: 0.9927 - recall_with_logits_1: 0.9938 - precision_with_logits_1: 0.9964 - val_loss: 1.1716 - val_accuracy: 0.6641 - val_recall_with_logits_1: 0.8487 - val_precision_with_logits_1: 0.7233\n",
      "Epoch 82/100\n",
      "32/32 [==============================] - 57s 2s/step - loss: 0.4874 - accuracy: 0.9934 - recall_with_logits_1: 0.9938 - precision_with_logits_1: 0.9974 - val_loss: 1.1784 - val_accuracy: 0.6875 - val_recall_with_logits_1: 0.8897 - val_precision_with_logits_1: 0.7289\n",
      "Epoch 83/100\n",
      "32/32 [==============================] - 56s 2s/step - loss: 0.4802 - accuracy: 0.9968 - recall_with_logits_1: 0.9974 - precision_with_logits_1: 0.9984 - val_loss: 1.2291 - val_accuracy: 0.6771 - val_recall_with_logits_1: 0.8877 - val_precision_with_logits_1: 0.7249\n",
      "Epoch 84/100\n",
      "32/32 [==============================] - 59s 2s/step - loss: 0.4866 - accuracy: 0.9900 - recall_with_logits_1: 0.9915 - precision_with_logits_1: 0.9951 - val_loss: 1.1606 - val_accuracy: 0.6615 - val_recall_with_logits_1: 0.8352 - val_precision_with_logits_1: 0.7284\n",
      "Epoch 85/100\n",
      "32/32 [==============================] - 57s 2s/step - loss: 0.4830 - accuracy: 0.9890 - recall_with_logits_1: 0.9898 - precision_with_logits_1: 0.9954 - val_loss: 1.1888 - val_accuracy: 0.6562 - val_recall_with_logits_1: 0.8524 - val_precision_with_logits_1: 0.7152\n",
      "Epoch 86/100\n",
      "32/32 [==============================] - 55s 2s/step - loss: 0.4707 - accuracy: 0.9961 - recall_with_logits_1: 0.9957 - precision_with_logits_1: 0.9990 - val_loss: 1.1870 - val_accuracy: 0.6823 - val_recall_with_logits_1: 0.8696 - val_precision_with_logits_1: 0.7362\n",
      "Epoch 87/100\n",
      "32/32 [==============================] - 55s 2s/step - loss: 0.4672 - accuracy: 0.9961 - recall_with_logits_1: 0.9961 - precision_with_logits_1: 0.9987 - val_loss: 1.2605 - val_accuracy: 0.6693 - val_recall_with_logits_1: 0.8759 - val_precision_with_logits_1: 0.7207\n",
      "Epoch 88/100\n",
      "32/32 [==============================] - 55s 2s/step - loss: 0.4633 - accuracy: 0.9966 - recall_with_logits_1: 0.9971 - precision_with_logits_1: 0.9984 - val_loss: 1.2226 - val_accuracy: 0.6667 - val_recall_with_logits_1: 0.8640 - val_precision_with_logits_1: 0.7209\n",
      "Epoch 89/100\n",
      "32/32 [==============================] - 55s 2s/step - loss: 0.4602 - accuracy: 0.9971 - recall_with_logits_1: 0.9967 - precision_with_logits_1: 0.9993 - val_loss: 1.2159 - val_accuracy: 0.6693 - val_recall_with_logits_1: 0.8529 - val_precision_with_logits_1: 0.7273\n",
      "Epoch 90/100\n",
      "32/32 [==============================] - 55s 2s/step - loss: 0.4545 - accuracy: 0.9973 - recall_with_logits_1: 0.9974 - precision_with_logits_1: 0.9990 - val_loss: 1.2704 - val_accuracy: 0.6484 - val_recall_with_logits_1: 0.8524 - val_precision_with_logits_1: 0.7086\n",
      "Epoch 91/100\n",
      "32/32 [==============================] - 55s 2s/step - loss: 0.4508 - accuracy: 0.9973 - recall_with_logits_1: 0.9977 - precision_with_logits_1: 0.9987 - val_loss: 1.2487 - val_accuracy: 0.6615 - val_recall_with_logits_1: 0.8608 - val_precision_with_logits_1: 0.7187\n",
      "Epoch 92/100\n",
      "32/32 [==============================] - 55s 2s/step - loss: 0.4552 - accuracy: 0.9944 - recall_with_logits_1: 0.9964 - precision_with_logits_1: 0.9961 - val_loss: 1.1849 - val_accuracy: 0.6536 - val_recall_with_logits_1: 0.8352 - val_precision_with_logits_1: 0.7215\n",
      "Epoch 93/100\n",
      "32/32 [==============================] - 56s 2s/step - loss: 0.4448 - accuracy: 0.9971 - recall_with_logits_1: 0.9961 - precision_with_logits_1: 1.0000 - val_loss: 1.2419 - val_accuracy: 0.6458 - val_recall_with_logits_1: 0.8462 - val_precision_with_logits_1: 0.7108\n",
      "Epoch 94/100\n",
      "32/32 [==============================] - 56s 2s/step - loss: 0.4514 - accuracy: 0.9917 - recall_with_logits_1: 0.9951 - precision_with_logits_1: 0.9938 - val_loss: 1.1676 - val_accuracy: 0.6693 - val_recall_with_logits_1: 0.8436 - val_precision_with_logits_1: 0.7342\n",
      "Epoch 95/100\n",
      "32/32 [==============================] - 55s 2s/step - loss: 0.4432 - accuracy: 0.9968 - recall_with_logits_1: 0.9964 - precision_with_logits_1: 0.9993 - val_loss: 1.2174 - val_accuracy: 0.6562 - val_recall_with_logits_1: 0.8431 - val_precision_with_logits_1: 0.7219\n",
      "Epoch 96/100\n",
      "32/32 [==============================] - 55s 2s/step - loss: 0.4364 - accuracy: 0.9985 - recall_with_logits_1: 0.9984 - precision_with_logits_1: 0.9997 - val_loss: 1.2512 - val_accuracy: 0.6667 - val_recall_with_logits_1: 0.8676 - val_precision_with_logits_1: 0.7195\n",
      "Epoch 97/100\n",
      "32/32 [==============================] - 56s 2s/step - loss: 0.4328 - accuracy: 0.9976 - recall_with_logits_1: 0.9980 - precision_with_logits_1: 0.9987 - val_loss: 1.2380 - val_accuracy: 0.6693 - val_recall_with_logits_1: 0.8723 - val_precision_with_logits_1: 0.7221\n",
      "Epoch 98/100\n",
      "32/32 [==============================] - 56s 2s/step - loss: 0.4326 - accuracy: 0.9958 - recall_with_logits_1: 0.9958 - precision_with_logits_1: 0.9987 - val_loss: 1.2279 - val_accuracy: 0.6823 - val_recall_with_logits_1: 0.8804 - val_precision_with_logits_1: 0.7319\n",
      "Epoch 99/100\n",
      "32/32 [==============================] - 56s 2s/step - loss: 0.4289 - accuracy: 0.9985 - recall_with_logits_1: 0.9984 - precision_with_logits_1: 0.9997 - val_loss: 1.2843 - val_accuracy: 0.6745 - val_recall_with_logits_1: 0.8750 - val_precision_with_logits_1: 0.7234\n",
      "Epoch 100/100\n",
      "32/32 [==============================] - 57s 2s/step - loss: 0.4196 - accuracy: 0.9990 - recall_with_logits_1: 0.9987 - precision_with_logits_1: 1.0000 - val_loss: 1.2987 - val_accuracy: 0.6823 - val_recall_with_logits_1: 0.8971 - val_precision_with_logits_1: 0.7219\n",
      "CPU times: total: 1h 9min 59s\n",
      "Wall time: 1h 35min 52s\n"
     ]
    }
   ],
   "source": [
    "%%time\n",
    "# save best performing model\n",
    "checkpoint_path = './temp/checkpoint_model'\n",
    "model_checkpoint_callback = ModelCheckpoint(filepath=checkpoint_path,\n",
    "                                            save_weights_only=True,\n",
    "                                            monitor='val_loss',\n",
    "                                            save_best_only=True)\n",
    "\n",
    "# train\n",
    "history = model.fit_generator(generator=training_batch_generator,\n",
    "                              validation_data=validation_batch_generator,\n",
    "                              epochs=100,\n",
    "                              callbacks=[model_checkpoint_callback])"
   ],
   "metadata": {
    "collapsed": false,
    "pycharm": {
     "name": "#%%\n"
    }
   }
  },
  {
   "cell_type": "code",
   "execution_count": 28,
   "outputs": [
    {
     "data": {
      "text/plain": "<Figure size 640x480 with 2 Axes>",
      "image/png": "[encoded data removed]"
     },
     "metadata": {},
     "output_type": "display_data"
    }
   ],
   "source": [
    "# plot training curve\n",
    "plt.subplots_adjust(left=0.1,\n",
    "                    bottom=0.01,\n",
    "                    right=1.2,\n",
    "                    top=0.6,\n",
    "                    wspace=0.4,\n",
    "                    hspace=0.4)\n",
    "\n",
    "# metric\n",
    "plt.subplot(1, 2, 1)\n",
    "plt.plot(history.history['accuracy'])\n",
    "plt.plot(history.history['val_accuracy'])\n",
    "plt.title('model accuracy')\n",
    "plt.ylabel('accuracy')\n",
    "plt.xlabel('epoch')\n",
    "plt.legend(['train', 'test'], loc='upper left')\n",
    "\n",
    "# loss\n",
    "plt.subplot(1, 2, 2)\n",
    "plt.plot(history.history['loss'])\n",
    "plt.plot(history.history['val_loss'])\n",
    "plt.title('model loss')\n",
    "plt.ylabel('loss')\n",
    "plt.xlabel('epoch')\n",
    "plt.legend(['train', 'test'], loc='upper left')\n",
    "\n",
    "plt.show()"
   ],
   "metadata": {
    "collapsed": false,
    "pycharm": {
     "name": "#%%\n"
    }
   }
  },
  {
   "cell_type": "markdown",
   "source": [
    "# Evaluation"
   ],
   "metadata": {
    "collapsed": false
   }
  },
  {
   "cell_type": "code",
   "execution_count": 29,
   "outputs": [
    {
     "data": {
      "text/plain": "<tensorflow.python.training.tracking.util.CheckpointLoadStatus at 0x278670afdc0>"
     },
     "execution_count": 29,
     "metadata": {},
     "output_type": "execute_result"
    }
   ],
   "source": [
    "# load best performing model\n",
    "model.load_weights(checkpoint_path)"
   ],
   "metadata": {
    "collapsed": false,
    "pycharm": {
     "name": "#%%\n"
    }
   }
  },
  {
   "cell_type": "code",
   "execution_count": 30,
   "outputs": [
    {
     "data": {
      "text/plain": "<Figure size 640x480 with 2 Axes>",
      "image/png": "[encoded data removed]"
     },
     "metadata": {},
     "output_type": "display_data"
    }
   ],
   "source": [
    "# predict on validation set\n",
    "plt.subplots_adjust(left=0.1,\n",
    "                    bottom=0.01,\n",
    "                    right=1.2,\n",
    "                    top=0.6,\n",
    "                    wspace=0.4,\n",
    "                    hspace=0.4)\n",
    "\n",
    "y_pred = model.predict(validation_batch_generator)\n",
    "y_pred = tf.math.sigmoid(y_pred).numpy() # TODO: for logits\n",
    "\n",
    "# for probs\n",
    "plt.subplot(1, 2, 1)\n",
    "plt.hist(y_pred.reshape(-1))\n",
    "plt.title('P(y == 1)')\n",
    "plt.vlines(x=0.5, ymin=0, ymax=500, color='red')\n",
    "\n",
    "y_pred = np.where(y_pred > 0.5, 1, 0) # as labels\n",
    "plt.subplot(1, 2, 2)\n",
    "plt.hist(y_pred.reshape(-1))\n",
    "plt.title('Labels')\n",
    "\n",
    "plt.show()"
   ],
   "metadata": {
    "collapsed": false,
    "pycharm": {
     "name": "#%%\n"
    }
   }
  },
  {
   "cell_type": "code",
   "execution_count": 31,
   "outputs": [
    {
     "name": "stdout",
     "output_type": "stream",
     "text": [
      "Test set: 399\n"
     ]
    }
   ],
   "source": [
    "# load test data\n",
    "N_test = sum([1 for p in os.listdir(test_path) if p[:14] == 'feature_vector'])\n",
    "print(f'Test set: {N_test}')\n",
    "\n",
    "test_batch_generator = DataGenerator(data_path=test_path, indices_dataset=[i for i in range(N_test)], batch_size=1)\n",
    "y_test = np.empty(0)\n",
    "for batch_index in range(len(test_batch_generator)):\n",
    "    _, y_test_batch = test_batch_generator.__getitem__(batch_index)\n",
    "    y_test = np.append(y_test, y_test_batch)"
   ],
   "metadata": {
    "collapsed": false,
    "pycharm": {
     "name": "#%%\n"
    }
   }
  },
  {
   "cell_type": "code",
   "execution_count": 32,
   "outputs": [
    {
     "name": "stdout",
     "output_type": "stream",
     "text": [
      "accuracy: 0.631578947368421\n",
      "balanced accuracy: 0.5419779546846295\n",
      "f1 (weighted): 0.628039117094745\n",
      "recall (weighted): 0.631578947368421\n",
      "precision (weighted): 0.6248501168920775\n"
     ]
    },
    {
     "data": {
      "text/plain": "<Figure size 640x480 with 2 Axes>",
      "image/png": "[encoded data removed]"
     },
     "metadata": {},
     "output_type": "display_data"
    }
   ],
   "source": [
    "# classification metrics\n",
    "# predict\n",
    "y_test_pred = model.predict(test_batch_generator)\n",
    "y_test_pred = tf.math.sigmoid(y_test_pred).numpy() # TODO: for logits\n",
    "y_test_pred = np.round(y_test_pred)\n",
    "\n",
    "# evaluate\n",
    "accuracy = accuracy_score(y_pred=y_test_pred, y_true=y_test)\n",
    "balanced_accuracy = balanced_accuracy_score(y_pred=y_test_pred, y_true=y_test)\n",
    "f1_weighted = f1_score(y_pred=y_test_pred, y_true=y_test, average='weighted')\n",
    "recall_weighted = recall_score(y_pred=y_test_pred, y_true=y_test, average='weighted')\n",
    "precision_weighted = precision_score(y_pred=y_test_pred, y_true=y_test, average='weighted')\n",
    "confusion = confusion_matrix(y_pred=y_test_pred, y_true=y_test)\n",
    "ConfusionMatrixDisplay(confusion_matrix=confusion, display_labels=[False, True]).plot(cmap=plt.cm.Blues)\n",
    "plt.title('Physical fatigue')\n",
    "\n",
    "print(f'accuracy: {accuracy}\\n'\n",
    "      f'balanced accuracy: {balanced_accuracy}\\n'\n",
    "      f'f1 (weighted): {f1_weighted}\\n'\n",
    "      f'recall (weighted): {recall_weighted}\\n'\n",
    "      f'precision (weighted): {precision_weighted}')"
   ],
   "metadata": {
    "collapsed": false,
    "pycharm": {
     "name": "#%%\n"
    }
   }
  }
 ],
 "metadata": {
  "kernelspec": {
   "display_name": "Python 3",
   "language": "python",
   "name": "python3"
  },
  "language_info": {
   "codemirror_mode": {
    "name": "ipython",
    "version": 2
   },
   "file_extension": ".py",
   "mimetype": "text/x-python",
   "name": "python",
   "nbconvert_exporter": "python",
   "pygments_lexer": "ipython2",
   "version": "2.7.6"
  }
 },
 "nbformat": 4,
 "nbformat_minor": 0
}