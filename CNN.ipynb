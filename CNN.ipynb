{
 "cells": [
  {
   "cell_type": "code",
   "execution_count": 150,
   "metadata": {
    "collapsed": true
   },
   "outputs": [],
   "source": [
    "import keras.utils\n",
    "import tensorflow as tf\n",
    "from tensorflow.keras import models\n",
    "from tensorflow.keras.layers import Dense, Conv2D, Flatten, MaxPool2D, BatchNormalization, Dropout\n",
    "from tensorflow.keras.optimizers import Adam\n",
    "from tensorflow.keras.utils import Sequence\n",
    "from tensorflow.keras.callbacks import EarlyStopping, ModelCheckpoint\n",
    "import tensorflow.keras.backend as K\n",
    "from sklearn.metrics import accuracy_score, balanced_accuracy_score, f1_score, precision_score, recall_score, confusion_matrix, ConfusionMatrixDisplay\n",
    "import numpy as np\n",
    "import matplotlib.pyplot as plt\n",
    "import os\n",
    "import json"
   ]
  },
  {
   "cell_type": "markdown",
   "source": [
    "# Import data"
   ],
   "metadata": {
    "collapsed": false
   }
  },
  {
   "cell_type": "code",
   "execution_count": 151,
   "outputs": [],
   "source": [
    "variable = {'phF': 0, 'MF': 1}['phF'] # TODO: for now just classify one variable"
   ],
   "metadata": {
    "collapsed": false,
    "pycharm": {
     "name": "#%%\n"
    }
   }
  },
  {
   "cell_type": "code",
   "execution_count": 152,
   "outputs": [],
   "source": [
    "path = './Output'"
   ],
   "metadata": {
    "collapsed": false,
    "pycharm": {
     "name": "#%%\n"
    }
   }
  },
  {
   "cell_type": "code",
   "execution_count": 153,
   "outputs": [],
   "source": [
    "# dimensions\n",
    "N, HEIGHT, WIDTH, CHANNELS = sum([1 for p in os.listdir(path) if p[:14] == 'feature_vector']), \\\n",
    "                             *np.load(path + '/feature_vector0.npy').shape\n",
    "\n",
    "# metadata (subjectID etc.)\n",
    "with open(path + '/metadata.txt') as f:\n",
    "    metadata = f.read()\n",
    "metadata = json.loads(metadata.replace('\\'', '\\\"').replace('False', 'false').replace('True', 'true')) # doesn't accept other chars"
   ],
   "metadata": {
    "collapsed": false,
    "pycharm": {
     "name": "#%%\n"
    }
   }
  },
  {
   "cell_type": "markdown",
   "source": [
    "# Train/validation split"
   ],
   "metadata": {
    "collapsed": false
   }
  },
  {
   "cell_type": "code",
   "execution_count": 154,
   "outputs": [],
   "source": [
    "VALIDATION_SIZE = 0.2"
   ],
   "metadata": {
    "collapsed": false,
    "pycharm": {
     "name": "#%%\n"
    }
   }
  },
  {
   "cell_type": "code",
   "execution_count": 155,
   "outputs": [],
   "source": [
    "# use unaugmented data for validation set\n",
    "non_augmented = [i for i, meta in enumerate(metadata) if meta['augmented'] == False]\n",
    "\n",
    "validation_indices = np.random.choice(non_augmented, int(N * VALIDATION_SIZE), replace=False)\n",
    "training_indices = np.delete(np.arange(N), validation_indices)"
   ],
   "metadata": {
    "collapsed": false,
    "pycharm": {
     "name": "#%%\n"
    }
   }
  },
  {
   "cell_type": "code",
   "execution_count": 156,
   "outputs": [
    {
     "name": "stdout",
     "output_type": "stream",
     "text": [
      "Training set: 2464\n",
      "Validation set: 615\n"
     ]
    }
   ],
   "source": [
    "print(f'Training set: {len(training_indices)}')\n",
    "print(f'Validation set: {len(validation_indices)}')"
   ],
   "metadata": {
    "collapsed": false,
    "pycharm": {
     "name": "#%%\n"
    }
   }
  },
  {
   "cell_type": "markdown",
   "source": [
    "# Define data generator"
   ],
   "metadata": {
    "collapsed": false
   }
  },
  {
   "cell_type": "code",
   "execution_count": 157,
   "outputs": [],
   "source": [
    "class DataGenerator(Sequence):\n",
    "\n",
    "    def __init__(self, data_path: str, indices_dataset: list, batch_size=32, dim=(HEIGHT, WIDTH), n_channels=CHANNELS, shuffle=True):\n",
    "        self.data_path = data_path # path to full dataset\n",
    "        self.dim = dim # image dimension\n",
    "        self.batch_size = batch_size\n",
    "        self.indices_dataset = indices_dataset # indices of full dataset (different for train/validation/test set)\n",
    "        self.n_channels = n_channels\n",
    "        self.shuffle = shuffle\n",
    "\n",
    "        self.on_epoch_end() # shuffle data for each epoch\n",
    "\n",
    "    def on_epoch_end(self):\n",
    "        \"\"\"\n",
    "        Shuffle data for each epoch\n",
    "        \"\"\"\n",
    "        if self.shuffle:\n",
    "            np.random.shuffle(self.indices_dataset)\n",
    "\n",
    "    def __data_generation(self, indices):\n",
    "        \"\"\"\n",
    "        Loads and returns datapoints[indices]\n",
    "        \"\"\"\n",
    "        # init\n",
    "        X = np.empty((self.batch_size, *self.dim, self.n_channels))\n",
    "        y = np.empty(self.batch_size, dtype=float) # TODO: int for non-logits\n",
    "\n",
    "        # load individual datapoints\n",
    "        for i, index in enumerate(indices):\n",
    "            X[i, ] = np.load(self.data_path + f'/feature_vector{index}.npy', allow_pickle=True)\n",
    "            y[i] = np.load(self.data_path + f'/labels{index}.npy', allow_pickle=True)[variable] # TODO: for now just one variable\n",
    "\n",
    "        return X, y\n",
    "\n",
    "    def __len__(self):\n",
    "        \"\"\"\n",
    "        Number of batches per epoch\n",
    "        \"\"\"\n",
    "        return int(np.floor(len(self.indices_dataset) / self.batch_size))\n",
    "\n",
    "    def __getitem__(self, index):\n",
    "        \"\"\"\n",
    "        Generates batch[index]\n",
    "        \"\"\"\n",
    "        # calculate indices of batch\n",
    "        indices = self.indices_dataset[index * self.batch_size:(index + 1) * self.batch_size]\n",
    "\n",
    "        # generate batch\n",
    "        X, y = self.__data_generation(indices)\n",
    "\n",
    "        return X, y"
   ],
   "metadata": {
    "collapsed": false,
    "pycharm": {
     "name": "#%%\n"
    }
   }
  },
  {
   "cell_type": "markdown",
   "source": [
    "# Upsampling"
   ],
   "metadata": {
    "collapsed": false
   }
  },
  {
   "cell_type": "code",
   "execution_count": 158,
   "outputs": [],
   "source": [
    "UPSAMPLING_STRATEGY = 'nothing' # ['repeat', 'nothing']"
   ],
   "metadata": {
    "collapsed": false,
    "pycharm": {
     "name": "#%%\n"
    }
   }
  },
  {
   "cell_type": "code",
   "execution_count": 159,
   "outputs": [
    {
     "name": "stdout",
     "output_type": "stream",
     "text": [
      "validation: (+: 448, -: 167)\n",
      "train_set: (+: 1877, -: 587)\n",
      "\n",
      "Weighted loss function: weight = 0.31273308470964306\n"
     ]
    }
   ],
   "source": [
    "def check_imbalance(path_to_labels, indices):\n",
    "    \"\"\"Returns indices of positives/negatives\"\"\"\n",
    "    y = np.empty((len(indices), 2), dtype=int)\n",
    "    for i, index in enumerate(indices):\n",
    "        y[i, ] = np.load(path_to_labels + f'/labels{index}.npy', allow_pickle=True)\n",
    "\n",
    "    positives = np.where(y[:, variable] == 1)[0] # TODO: for now just one variable\n",
    "    negatives = np.where(y[:, variable] == 0)[0] # TODO: for now just one variable\n",
    "\n",
    "    return np.array(indices)[positives], np.array(indices)[negatives]\n",
    "\n",
    "\n",
    "# validation set\n",
    "positives, negatives = check_imbalance(path, validation_indices)\n",
    "print(f'validation: (+: {len(positives)}, -: {len(negatives)})')\n",
    "\n",
    "# training set\n",
    "positives, negatives = check_imbalance(path, training_indices)\n",
    "print(f'train_set: (+: {len(positives)}, -: {len(negatives)})')\n",
    "\n",
    "sample_weight = len(negatives) / len(positives) # for weighted cross-entropy\n",
    "\n",
    "# upsampling training set\n",
    "if UPSAMPLING_STRATEGY == 'repeat':\n",
    "    upsampled_indices = np.random.choice(negatives, size=(len(positives) - len(negatives)), replace=True) # with replacement\n",
    "    upsampled_indices = np.append(upsampled_indices, np.arange(N))\n",
    "    training_indices = np.append(positives, negatives) # update\n",
    "\n",
    "    positives, negatives = check_imbalance(path, upsampled_indices)\n",
    "    print(f'train_set (upsampled): (+: {len(positives)}, -: {len(negatives)})')\n",
    "if UPSAMPLING_STRATEGY == 'nothing':\n",
    "    pass\n",
    "\n",
    "print(f'\\nWeighted loss function: weight = {sample_weight}')"
   ],
   "metadata": {
    "collapsed": false,
    "pycharm": {
     "name": "#%%\n"
    }
   }
  },
  {
   "cell_type": "markdown",
   "source": [
    "# CNN"
   ],
   "metadata": {
    "collapsed": false
   }
  },
  {
   "cell_type": "markdown",
   "source": [
    "Data generators"
   ],
   "metadata": {
    "collapsed": false
   }
  },
  {
   "cell_type": "code",
   "execution_count": 160,
   "outputs": [],
   "source": [
    "training_batch_generator = DataGenerator(data_path=path, indices_dataset=training_indices, batch_size=128)\n",
    "validation_batch_generator = DataGenerator(data_path=path, indices_dataset=validation_indices, batch_size=32) # TODO: use test set to avoid mixing"
   ],
   "metadata": {
    "collapsed": false,
    "pycharm": {
     "name": "#%%\n"
    }
   }
  },
  {
   "cell_type": "markdown",
   "source": [
    "Model"
   ],
   "metadata": {
    "collapsed": false
   }
  },
  {
   "cell_type": "code",
   "execution_count": 161,
   "outputs": [],
   "source": [
    "# wrapper functions\n",
    "def weighted_cross_entropy(weight):\n",
    "    def weighted_cross_entropy_with_logits(labels, logits):\n",
    "        loss = tf.nn.weighted_cross_entropy_with_logits(\n",
    "            labels, logits, weight\n",
    "        )\n",
    "        return loss\n",
    "    return weighted_cross_entropy_with_logits\n",
    "\n",
    "class accuracy_with_logits(tf.keras.metrics.Accuracy):\n",
    "    def update_state(self, y_true, y_pred, sample_weight=None):\n",
    "        y_pred = tf.round(tf.math.sigmoid(y_pred))\n",
    "        return super(accuracy_with_logits, self).update_state(y_true, y_pred, sample_weight)\n",
    "\n",
    "class recall_with_logits(tf.keras.metrics.Recall):\n",
    "    def update_state(self, y_true, y_pred, sample_weight=None):\n",
    "        y_pred = tf.round(tf.math.sigmoid(y_pred))\n",
    "        return super(recall_with_logits, self).update_state(y_true, y_pred, sample_weight)\n",
    "\n",
    "class precision_with_logits(tf.keras.metrics.Precision):\n",
    "    def update_state(self, y_true, y_pred, sample_weight=None):\n",
    "        y_pred = tf.round(tf.math.sigmoid(y_pred))\n",
    "        return super(precision_with_logits, self).update_state(y_true, y_pred, sample_weight)"
   ],
   "metadata": {
    "collapsed": false,
    "pycharm": {
     "name": "#%%\n"
    }
   }
  },
  {
   "cell_type": "code",
   "execution_count": 162,
   "outputs": [
    {
     "name": "stdout",
     "output_type": "stream",
     "text": [
      "Model: \"custom_CNN\"\n",
      "_________________________________________________________________\n",
      "Layer (type)                 Output Shape              Param #   \n",
      "=================================================================\n",
      "conv1-1 (Conv2D)             (None, 370, 100, 16)      4336      \n",
      "_________________________________________________________________\n",
      "conv1-2 (Conv2D)             (None, 370, 100, 16)      2320      \n",
      "_________________________________________________________________\n",
      "batch_norm1 (BatchNormalizat (None, 370, 100, 16)      64        \n",
      "_________________________________________________________________\n",
      "pool1 (MaxPooling2D)         (None, 185, 50, 16)       0         \n",
      "_________________________________________________________________\n",
      "conv2-1 (Conv2D)             (None, 185, 50, 16)       2320      \n",
      "_________________________________________________________________\n",
      "conv2-2 (Conv2D)             (None, 185, 50, 16)       2320      \n",
      "_________________________________________________________________\n",
      "batch_norm2 (BatchNormalizat (None, 185, 50, 16)       64        \n",
      "_________________________________________________________________\n",
      "pool2 (MaxPooling2D)         (None, 92, 25, 16)        0         \n",
      "_________________________________________________________________\n",
      "conv3-1 (Conv2D)             (None, 92, 25, 16)        2320      \n",
      "_________________________________________________________________\n",
      "conv3-2 (Conv2D)             (None, 92, 25, 16)        2320      \n",
      "_________________________________________________________________\n",
      "conv3-3 (Conv2D)             (None, 92, 25, 16)        2320      \n",
      "_________________________________________________________________\n",
      "batch_norm3 (BatchNormalizat (None, 92, 25, 16)        64        \n",
      "_________________________________________________________________\n",
      "pool3 (MaxPooling2D)         (None, 46, 12, 16)        0         \n",
      "_________________________________________________________________\n",
      "conv4-1 (Conv2D)             (None, 46, 12, 32)        4640      \n",
      "_________________________________________________________________\n",
      "conv4-2 (Conv2D)             (None, 46, 12, 32)        9248      \n",
      "_________________________________________________________________\n",
      "conv4-3 (Conv2D)             (None, 46, 12, 32)        9248      \n",
      "_________________________________________________________________\n",
      "batch_norm4 (BatchNormalizat (None, 46, 12, 32)        128       \n",
      "_________________________________________________________________\n",
      "pool4 (MaxPooling2D)         (None, 23, 6, 32)         0         \n",
      "_________________________________________________________________\n",
      "conv5-1 (Conv2D)             (None, 23, 6, 32)         9248      \n",
      "_________________________________________________________________\n",
      "conv5-2 (Conv2D)             (None, 23, 6, 32)         9248      \n",
      "_________________________________________________________________\n",
      "conv5-3 (Conv2D)             (None, 23, 6, 32)         9248      \n",
      "_________________________________________________________________\n",
      "batch_norm5 (BatchNormalizat (None, 23, 6, 32)         128       \n",
      "_________________________________________________________________\n",
      "pool5 (MaxPooling2D)         (None, 11, 3, 32)         0         \n",
      "_________________________________________________________________\n",
      "conv6-1 (Conv2D)             (None, 11, 3, 32)         9248      \n",
      "_________________________________________________________________\n",
      "conv6-2 (Conv2D)             (None, 11, 3, 32)         9248      \n",
      "_________________________________________________________________\n",
      "conv6-3 (Conv2D)             (None, 11, 3, 32)         9248      \n",
      "_________________________________________________________________\n",
      "batch_norm6 (BatchNormalizat (None, 11, 3, 32)         128       \n",
      "_________________________________________________________________\n",
      "pool6 (MaxPooling2D)         (None, 5, 1, 32)          0         \n",
      "_________________________________________________________________\n",
      "flatten (Flatten)            (None, 160)               0         \n",
      "_________________________________________________________________\n",
      "dense1 (Dense)               (None, 128)               20608     \n",
      "_________________________________________________________________\n",
      "dropout1 (Dropout)           (None, 128)               0         \n",
      "_________________________________________________________________\n",
      "dense2 (Dense)               (None, 64)                8256      \n",
      "_________________________________________________________________\n",
      "dropout2 (Dropout)           (None, 64)                0         \n",
      "_________________________________________________________________\n",
      "dense3 (Dense)               (None, 1)                 65        \n",
      "=================================================================\n",
      "Total params: 126,385\n",
      "Trainable params: 126,097\n",
      "Non-trainable params: 288\n",
      "_________________________________________________________________\n"
     ]
    }
   ],
   "source": [
    "model = models.Sequential(name='custom_CNN')\n",
    "\n",
    "model.add(Conv2D(filters=16, kernel_size=(3, 3), activation='relu', input_shape=(370, 100, 30), padding='same', name='conv1-1'))\n",
    "model.add(Conv2D(filters=16, kernel_size=(3, 3), activation='relu', padding='same', name='conv1-2'))\n",
    "model.add(BatchNormalization(name='batch_norm1')) # try for incr. stability\n",
    "model.add(MaxPool2D(strides=(2, 2), name='pool1'))\n",
    "\n",
    "model.add(Conv2D(filters=16, kernel_size=(3, 3), activation='relu', padding='same', name='conv2-1'))\n",
    "model.add(Conv2D(filters=16, kernel_size=(3, 3), activation='relu', padding='same', name='conv2-2'))\n",
    "model.add(BatchNormalization(name='batch_norm2')) # try for incr. stability\n",
    "model.add(MaxPool2D(strides=(2, 2), name='pool2'))\n",
    "\n",
    "model.add(Conv2D(filters=16, kernel_size=(3, 3), activation='relu', padding='same', name='conv3-1'))\n",
    "model.add(Conv2D(filters=16, kernel_size=(3, 3), activation='relu', padding='same', name='conv3-2'))\n",
    "model.add(Conv2D(filters=16, kernel_size=(3, 3), activation='relu', padding='same', name='conv3-3'))\n",
    "model.add(BatchNormalization(name='batch_norm3')) # try for incr. stability\n",
    "model.add(MaxPool2D(strides=(2, 2), name='pool3'))\n",
    "\n",
    "model.add(Conv2D(filters=32, kernel_size=(3, 3), activation='relu', padding='same', name='conv4-1'))\n",
    "model.add(Conv2D(filters=32, kernel_size=(3, 3), activation='relu', padding='same', name='conv4-2'))\n",
    "model.add(Conv2D(filters=32, kernel_size=(3, 3), activation='relu', padding='same', name='conv4-3'))\n",
    "model.add(BatchNormalization(name='batch_norm4')) # try for incr. stability\n",
    "model.add(MaxPool2D(strides=(2, 2), name='pool4'))\n",
    "\n",
    "model.add(Conv2D(filters=32, kernel_size=(3, 3), activation='relu', padding='same', name='conv5-1'))\n",
    "model.add(Conv2D(filters=32, kernel_size=(3, 3), activation='relu', padding='same', name='conv5-2'))\n",
    "model.add(Conv2D(filters=32, kernel_size=(3, 3), activation='relu', padding='same', name='conv5-3'))\n",
    "model.add(BatchNormalization(name='batch_norm5')) # try for incr. stability\n",
    "model.add(MaxPool2D(strides=(2, 2), name='pool5'))\n",
    "\n",
    "model.add(Conv2D(filters=32, kernel_size=(3, 3), activation='relu', padding='same', name='conv6-1'))\n",
    "model.add(Conv2D(filters=32, kernel_size=(3, 3), activation='relu', padding='same', name='conv6-2'))\n",
    "model.add(Conv2D(filters=32, kernel_size=(3, 3), activation='relu', padding='same', name='conv6-3'))\n",
    "model.add(BatchNormalization(name='batch_norm6')) # try for incr. stability\n",
    "model.add(MaxPool2D(strides=(2, 2), name='pool6'))\n",
    "\n",
    "model.add(Flatten(name='flatten'))\n",
    "model.add(Dense(128, activation='relu', kernel_initializer='random_normal', bias_initializer='zeros', kernel_regularizer='l2', name='dense1'))\n",
    "model.add(Dropout(0.4, name='dropout1')) # TODO: worth it? parameter scale adequate?\n",
    "model.add(Dense(64, activation='relu', kernel_initializer='random_normal', bias_initializer='zeros', kernel_regularizer='l2', name='dense2'))\n",
    "model.add(Dropout(0.3, name='dropout2')) # TODO: worth it? parameter scale adequate?\n",
    "model.add(Dense(1, kernel_regularizer='l2', name='dense3'))\n",
    "\n",
    "#model.compile(optimizer=Adam(learning_rate=1e-4), loss='binary_crossentropy', metrics=['accuracy', 'Precision', 'Recall'])\n",
    "model.compile(optimizer=Adam(learning_rate=1e-5), loss=weighted_cross_entropy(sample_weight), metrics=[accuracy_with_logits(),\n",
    "                                                                                              recall_with_logits(),\n",
    "                                                                                              precision_with_logits()])\n",
    "\n",
    "model.summary()"
   ],
   "metadata": {
    "collapsed": false,
    "pycharm": {
     "name": "#%%\n"
    }
   }
  },
  {
   "cell_type": "markdown",
   "source": [
    "Training"
   ],
   "metadata": {
    "collapsed": false
   }
  },
  {
   "cell_type": "code",
   "execution_count": 163,
   "outputs": [
    {
     "name": "stderr",
     "output_type": "stream",
     "text": [
      "C:\\Users\\jjung\\anaconda3\\envs\\tf-sklearn-keras\\lib\\site-packages\\keras\\engine\\training.py:1972: UserWarning: `Model.fit_generator` is deprecated and will be removed in a future version. Please use `Model.fit`, which supports generators.\n",
      "  warnings.warn('`Model.fit_generator` is deprecated and '\n"
     ]
    },
    {
     "name": "stdout",
     "output_type": "stream",
     "text": [
      "Epoch 1/80\n",
      "19/19 [==============================] - 23s 1s/step - loss: 1.0698 - accuracy: 0.4926 - recall_with_logits_7: 0.4857 - precision_with_logits_7: 0.7604 - val_loss: 1.0741 - val_accuracy: 0.2714 - val_recall_with_logits_7: 0.0000e+00 - val_precision_with_logits_7: 0.0000e+00\n",
      "Epoch 2/80\n",
      "19/19 [==============================] - 21s 1s/step - loss: 1.0650 - accuracy: 0.5012 - recall_with_logits_7: 0.4965 - precision_with_logits_7: 0.7667 - val_loss: 1.0726 - val_accuracy: 0.2747 - val_recall_with_logits_7: 0.0000e+00 - val_precision_with_logits_7: 0.0000e+00\n",
      "Epoch 3/80\n",
      "19/19 [==============================] - 20s 1s/step - loss: 1.0623 - accuracy: 0.4753 - recall_with_logits_7: 0.4668 - precision_with_logits_7: 0.7493 - val_loss: 1.0697 - val_accuracy: 0.2747 - val_recall_with_logits_7: 0.0000e+00 - val_precision_with_logits_7: 0.0000e+00\n",
      "Epoch 4/80\n",
      "19/19 [==============================] - 19s 1s/step - loss: 1.0574 - accuracy: 0.4938 - recall_with_logits_7: 0.4830 - precision_with_logits_7: 0.7663 - val_loss: 1.0660 - val_accuracy: 0.2730 - val_recall_with_logits_7: 0.0000e+00 - val_precision_with_logits_7: 0.0000e+00\n",
      "Epoch 5/80\n",
      "19/19 [==============================] - 19s 1s/step - loss: 1.0522 - accuracy: 0.4947 - recall_with_logits_7: 0.4806 - precision_with_logits_7: 0.7701 - val_loss: 1.0616 - val_accuracy: 0.2697 - val_recall_with_logits_7: 0.0000e+00 - val_precision_with_logits_7: 0.0000e+00\n",
      "Epoch 6/80\n",
      "19/19 [==============================] - 19s 1s/step - loss: 1.0504 - accuracy: 0.5062 - recall_with_logits_7: 0.4984 - precision_with_logits_7: 0.7732 - val_loss: 1.0588 - val_accuracy: 0.2697 - val_recall_with_logits_7: 0.0000e+00 - val_precision_with_logits_7: 0.0000e+00\n",
      "Epoch 7/80\n",
      "19/19 [==============================] - 19s 1s/step - loss: 1.0447 - accuracy: 0.5197 - recall_with_logits_7: 0.5152 - precision_with_logits_7: 0.7778 - val_loss: 1.0567 - val_accuracy: 0.2714 - val_recall_with_logits_7: 0.0000e+00 - val_precision_with_logits_7: 0.0000e+00\n",
      "Epoch 8/80\n",
      "19/19 [==============================] - 19s 1s/step - loss: 1.0418 - accuracy: 0.5210 - recall_with_logits_7: 0.5105 - precision_with_logits_7: 0.7857 - val_loss: 1.0532 - val_accuracy: 0.2697 - val_recall_with_logits_7: 0.0000e+00 - val_precision_with_logits_7: 0.0000e+00\n",
      "Epoch 9/80\n",
      "19/19 [==============================] - 19s 1s/step - loss: 1.0432 - accuracy: 0.5160 - recall_with_logits_7: 0.5127 - precision_with_logits_7: 0.7761 - val_loss: 1.0497 - val_accuracy: 0.2681 - val_recall_with_logits_7: 0.0000e+00 - val_precision_with_logits_7: 0.0000e+00\n",
      "Epoch 10/80\n",
      "19/19 [==============================] - 19s 1s/step - loss: 1.0366 - accuracy: 0.5226 - recall_with_logits_7: 0.5168 - precision_with_logits_7: 0.7817 - val_loss: 1.0476 - val_accuracy: 0.2697 - val_recall_with_logits_7: 0.0000e+00 - val_precision_with_logits_7: 0.0000e+00\n",
      "Epoch 11/80\n",
      "19/19 [==============================] - 19s 1s/step - loss: 1.0324 - accuracy: 0.5288 - recall_with_logits_7: 0.5232 - precision_with_logits_7: 0.7865 - val_loss: 1.0463 - val_accuracy: 0.2730 - val_recall_with_logits_7: 0.0000e+00 - val_precision_with_logits_7: 0.0000e+00\n",
      "Epoch 12/80\n",
      "19/19 [==============================] - 19s 1s/step - loss: 1.0272 - accuracy: 0.5308 - recall_with_logits_7: 0.5219 - precision_with_logits_7: 0.7913 - val_loss: 1.0436 - val_accuracy: 0.2730 - val_recall_with_logits_7: 0.0000e+00 - val_precision_with_logits_7: 0.0000e+00\n",
      "Epoch 13/80\n",
      "19/19 [==============================] - 19s 1s/step - loss: 1.0236 - accuracy: 0.5411 - recall_with_logits_7: 0.5344 - precision_with_logits_7: 0.7990 - val_loss: 1.0394 - val_accuracy: 0.2697 - val_recall_with_logits_7: 0.0000e+00 - val_precision_with_logits_7: 0.0000e+00\n",
      "Epoch 14/80\n",
      "19/19 [==============================] - 19s 1s/step - loss: 1.0239 - accuracy: 0.5345 - recall_with_logits_7: 0.5278 - precision_with_logits_7: 0.7927 - val_loss: 1.0374 - val_accuracy: 0.2714 - val_recall_with_logits_7: 0.0000e+00 - val_precision_with_logits_7: 0.0000e+00\n",
      "Epoch 15/80\n",
      "19/19 [==============================] - 19s 1s/step - loss: 1.0197 - accuracy: 0.5498 - recall_with_logits_7: 0.5402 - precision_with_logits_7: 0.8039 - val_loss: 1.0347 - val_accuracy: 0.2714 - val_recall_with_logits_7: 0.0000e+00 - val_precision_with_logits_7: 0.0000e+00\n",
      "Epoch 16/80\n",
      "19/19 [==============================] - 19s 1s/step - loss: 1.0162 - accuracy: 0.5411 - recall_with_logits_7: 0.5281 - precision_with_logits_7: 0.8008 - val_loss: 1.0314 - val_accuracy: 0.2697 - val_recall_with_logits_7: 0.0000e+00 - val_precision_with_logits_7: 0.0000e+00\n",
      "Epoch 17/80\n",
      "19/19 [==============================] - 20s 1s/step - loss: 1.0094 - accuracy: 0.5629 - recall_with_logits_7: 0.5462 - precision_with_logits_7: 0.8185 - val_loss: 1.0287 - val_accuracy: 0.2697 - val_recall_with_logits_7: 0.0000e+00 - val_precision_with_logits_7: 0.0000e+00\n",
      "Epoch 18/80\n",
      "19/19 [==============================] - 20s 1s/step - loss: 1.0082 - accuracy: 0.5432 - recall_with_logits_7: 0.5334 - precision_with_logits_7: 0.8008 - val_loss: 1.0268 - val_accuracy: 0.2714 - val_recall_with_logits_7: 0.0000e+00 - val_precision_with_logits_7: 0.0000e+00\n",
      "Epoch 19/80\n",
      "19/19 [==============================] - 20s 1s/step - loss: 1.0052 - accuracy: 0.5514 - recall_with_logits_7: 0.5372 - precision_with_logits_7: 0.8104 - val_loss: 1.0237 - val_accuracy: 0.2780 - val_recall_with_logits_7: 0.0135 - val_precision_with_logits_7: 0.8571\n",
      "Epoch 20/80\n",
      "19/19 [==============================] - 19s 1s/step - loss: 0.9979 - accuracy: 0.5691 - recall_with_logits_7: 0.5600 - precision_with_logits_7: 0.8190 - val_loss: 1.0228 - val_accuracy: 0.2944 - val_recall_with_logits_7: 0.0430 - val_precision_with_logits_7: 0.7600\n",
      "Epoch 21/80\n",
      "19/19 [==============================] - 20s 1s/step - loss: 0.9979 - accuracy: 0.5572 - recall_with_logits_7: 0.5461 - precision_with_logits_7: 0.8117 - val_loss: 1.0186 - val_accuracy: 0.3224 - val_recall_with_logits_7: 0.1213 - val_precision_with_logits_7: 0.7200\n",
      "Epoch 22/80\n",
      "19/19 [==============================] - 19s 1s/step - loss: 0.9962 - accuracy: 0.5530 - recall_with_logits_7: 0.5429 - precision_with_logits_7: 0.8074 - val_loss: 1.0163 - val_accuracy: 0.3372 - val_recall_with_logits_7: 0.2022 - val_precision_with_logits_7: 0.6522\n",
      "Epoch 23/80\n",
      "19/19 [==============================] - 19s 1s/step - loss: 0.9930 - accuracy: 0.5604 - recall_with_logits_7: 0.5538 - precision_with_logits_7: 0.8076 - val_loss: 1.0161 - val_accuracy: 0.3717 - val_recall_with_logits_7: 0.2692 - val_precision_with_logits_7: 0.6685\n",
      "Epoch 24/80\n",
      "19/19 [==============================] - 19s 1s/step - loss: 0.9883 - accuracy: 0.5715 - recall_with_logits_7: 0.5515 - precision_with_logits_7: 0.8297 - val_loss: 1.0133 - val_accuracy: 0.4243 - val_recall_with_logits_7: 0.3507 - val_precision_with_logits_7: 0.7110\n",
      "Epoch 25/80\n",
      "19/19 [==============================] - 19s 1s/step - loss: 0.9871 - accuracy: 0.5621 - recall_with_logits_7: 0.5496 - precision_with_logits_7: 0.8159 - val_loss: 1.0107 - val_accuracy: 0.4572 - val_recall_with_logits_7: 0.4199 - val_precision_with_logits_7: 0.7181\n",
      "Epoch 26/80\n",
      "19/19 [==============================] - 19s 1s/step - loss: 0.9809 - accuracy: 0.5728 - recall_with_logits_7: 0.5571 - precision_with_logits_7: 0.8265 - val_loss: 1.0084 - val_accuracy: 0.4901 - val_recall_with_logits_7: 0.4593 - val_precision_with_logits_7: 0.7409\n",
      "Epoch 27/80\n",
      "19/19 [==============================] - 19s 1s/step - loss: 0.9839 - accuracy: 0.5687 - recall_with_logits_7: 0.5708 - precision_with_logits_7: 0.8055 - val_loss: 1.0052 - val_accuracy: 0.5132 - val_recall_with_logits_7: 0.5056 - val_precision_with_logits_7: 0.7442\n",
      "Epoch 28/80\n",
      "19/19 [==============================] - 19s 1s/step - loss: 0.9745 - accuracy: 0.6090 - recall_with_logits_7: 0.6061 - precision_with_logits_7: 0.8364 - val_loss: 1.0017 - val_accuracy: 0.5066 - val_recall_with_logits_7: 0.5158 - val_precision_with_logits_7: 0.7293\n",
      "Epoch 29/80\n",
      "19/19 [==============================] - 19s 1s/step - loss: 0.9733 - accuracy: 0.5917 - recall_with_logits_7: 0.5948 - precision_with_logits_7: 0.8192 - val_loss: 1.0000 - val_accuracy: 0.5049 - val_recall_with_logits_7: 0.5214 - val_precision_with_logits_7: 0.7219\n",
      "Epoch 30/80\n",
      "19/19 [==============================] - 19s 1s/step - loss: 0.9714 - accuracy: 0.5975 - recall_with_logits_7: 0.5974 - precision_with_logits_7: 0.8245 - val_loss: 0.9965 - val_accuracy: 0.5280 - val_recall_with_logits_7: 0.5338 - val_precision_with_logits_7: 0.7476\n",
      "Epoch 31/80\n",
      "19/19 [==============================] - 19s 1s/step - loss: 0.9663 - accuracy: 0.6127 - recall_with_logits_7: 0.6143 - precision_with_logits_7: 0.8338 - val_loss: 0.9936 - val_accuracy: 0.5493 - val_recall_with_logits_7: 0.5485 - val_precision_with_logits_7: 0.7666\n",
      "Epoch 32/80\n",
      "19/19 [==============================] - 19s 1s/step - loss: 0.9616 - accuracy: 0.6114 - recall_with_logits_7: 0.6076 - precision_with_logits_7: 0.8369 - val_loss: 0.9907 - val_accuracy: 0.5658 - val_recall_with_logits_7: 0.5688 - val_precision_with_logits_7: 0.7754\n",
      "Epoch 33/80\n",
      "19/19 [==============================] - 19s 1s/step - loss: 0.9587 - accuracy: 0.5900 - recall_with_logits_7: 0.5854 - precision_with_logits_7: 0.8248 - val_loss: 0.9868 - val_accuracy: 0.5543 - val_recall_with_logits_7: 0.5663 - val_precision_with_logits_7: 0.7636\n",
      "Epoch 34/80\n",
      "19/19 [==============================] - 19s 1s/step - loss: 0.9574 - accuracy: 0.6049 - recall_with_logits_7: 0.5986 - precision_with_logits_7: 0.8356 - val_loss: 0.9855 - val_accuracy: 0.5428 - val_recall_with_logits_7: 0.5541 - val_precision_with_logits_7: 0.7546\n",
      "Epoch 35/80\n",
      "19/19 [==============================] - 19s 1s/step - loss: 0.9551 - accuracy: 0.6188 - recall_with_logits_7: 0.6076 - precision_with_logits_7: 0.8483 - val_loss: 0.9848 - val_accuracy: 0.5197 - val_recall_with_logits_7: 0.5418 - val_precision_with_logits_7: 0.7295\n",
      "Epoch 36/80\n",
      "19/19 [==============================] - 19s 1s/step - loss: 0.9492 - accuracy: 0.6081 - recall_with_logits_7: 0.6024 - precision_with_logits_7: 0.8387 - val_loss: 0.9829 - val_accuracy: 0.5493 - val_recall_with_logits_7: 0.5724 - val_precision_with_logits_7: 0.7485\n",
      "Epoch 37/80\n",
      "19/19 [==============================] - 19s 1s/step - loss: 0.9481 - accuracy: 0.6094 - recall_with_logits_7: 0.6011 - precision_with_logits_7: 0.8415 - val_loss: 0.9803 - val_accuracy: 0.5526 - val_recall_with_logits_7: 0.5724 - val_precision_with_logits_7: 0.7530\n",
      "Epoch 38/80\n",
      "19/19 [==============================] - 19s 1s/step - loss: 0.9434 - accuracy: 0.6192 - recall_with_logits_7: 0.6155 - precision_with_logits_7: 0.8411 - val_loss: 0.9762 - val_accuracy: 0.5477 - val_recall_with_logits_7: 0.5721 - val_precision_with_logits_7: 0.7493\n",
      "Epoch 39/80\n",
      "19/19 [==============================] - 19s 1s/step - loss: 0.9391 - accuracy: 0.6303 - recall_with_logits_7: 0.6272 - precision_with_logits_7: 0.8474 - val_loss: 0.9742 - val_accuracy: 0.5378 - val_recall_with_logits_7: 0.5395 - val_precision_with_logits_7: 0.7563\n",
      "Epoch 40/80\n",
      "19/19 [==============================] - 19s 1s/step - loss: 0.9355 - accuracy: 0.6316 - recall_with_logits_7: 0.6160 - precision_with_logits_7: 0.8612 - val_loss: 0.9735 - val_accuracy: 0.5181 - val_recall_with_logits_7: 0.5520 - val_precision_with_logits_7: 0.7198\n",
      "Epoch 41/80\n",
      "19/19 [==============================] - 19s 1s/step - loss: 0.9328 - accuracy: 0.6328 - recall_with_logits_7: 0.6203 - precision_with_logits_7: 0.8572 - val_loss: 0.9677 - val_accuracy: 0.5296 - val_recall_with_logits_7: 0.5448 - val_precision_with_logits_7: 0.7454\n",
      "Epoch 42/80\n",
      "19/19 [==============================] - 19s 1s/step - loss: 0.9279 - accuracy: 0.6480 - recall_with_logits_7: 0.6375 - precision_with_logits_7: 0.8645 - val_loss: 0.9673 - val_accuracy: 0.5493 - val_recall_with_logits_7: 0.5721 - val_precision_with_logits_7: 0.7515\n",
      "Epoch 43/80\n",
      "19/19 [==============================] - 19s 1s/step - loss: 0.9245 - accuracy: 0.6373 - recall_with_logits_7: 0.6143 - precision_with_logits_7: 0.8721 - val_loss: 0.9658 - val_accuracy: 0.5230 - val_recall_with_logits_7: 0.5317 - val_precision_with_logits_7: 0.7390\n",
      "Epoch 44/80\n",
      "19/19 [==============================] - 19s 1s/step - loss: 0.9214 - accuracy: 0.6550 - recall_with_logits_7: 0.6478 - precision_with_logits_7: 0.8659 - val_loss: 0.9631 - val_accuracy: 0.5329 - val_recall_with_logits_7: 0.5621 - val_precision_with_logits_7: 0.7345\n",
      "Epoch 45/80\n",
      "19/19 [==============================] - 19s 1s/step - loss: 0.9204 - accuracy: 0.6468 - recall_with_logits_7: 0.6362 - precision_with_logits_7: 0.8635 - val_loss: 0.9613 - val_accuracy: 0.5477 - val_recall_with_logits_7: 0.5721 - val_precision_with_logits_7: 0.7493\n",
      "Epoch 46/80\n",
      "19/19 [==============================] - 19s 1s/step - loss: 0.9152 - accuracy: 0.6521 - recall_with_logits_7: 0.6384 - precision_with_logits_7: 0.8697 - val_loss: 0.9609 - val_accuracy: 0.5411 - val_recall_with_logits_7: 0.5646 - val_precision_with_logits_7: 0.7411\n",
      "Epoch 47/80\n",
      "19/19 [==============================] - 19s 1s/step - loss: 0.9163 - accuracy: 0.6382 - recall_with_logits_7: 0.6298 - precision_with_logits_7: 0.8575 - val_loss: 0.9591 - val_accuracy: 0.5345 - val_recall_with_logits_7: 0.5624 - val_precision_with_logits_7: 0.7337\n",
      "Epoch 48/80\n",
      "19/19 [==============================] - 19s 1s/step - loss: 0.9094 - accuracy: 0.6653 - recall_with_logits_7: 0.6533 - precision_with_logits_7: 0.8755 - val_loss: 0.9558 - val_accuracy: 0.5362 - val_recall_with_logits_7: 0.5643 - val_precision_with_logits_7: 0.7375\n",
      "Epoch 49/80\n",
      "19/19 [==============================] - 19s 1s/step - loss: 0.9056 - accuracy: 0.6637 - recall_with_logits_7: 0.6508 - precision_with_logits_7: 0.8750 - val_loss: 0.9534 - val_accuracy: 0.5576 - val_recall_with_logits_7: 0.5937 - val_precision_with_logits_7: 0.7472\n",
      "Epoch 50/80\n",
      "19/19 [==============================] - 19s 1s/step - loss: 0.9029 - accuracy: 0.6719 - recall_with_logits_7: 0.6656 - precision_with_logits_7: 0.8739 - val_loss: 0.9535 - val_accuracy: 0.5477 - val_recall_with_logits_7: 0.5805 - val_precision_with_logits_7: 0.7399\n",
      "Epoch 51/80\n",
      "19/19 [==============================] - 19s 1s/step - loss: 0.8965 - accuracy: 0.6789 - recall_with_logits_7: 0.6737 - precision_with_logits_7: 0.8773 - val_loss: 0.9499 - val_accuracy: 0.5526 - val_recall_with_logits_7: 0.5982 - val_precision_with_logits_7: 0.7382\n",
      "Epoch 52/80\n",
      "19/19 [==============================] - 19s 1s/step - loss: 0.8942 - accuracy: 0.6896 - recall_with_logits_7: 0.6798 - precision_with_logits_7: 0.8852 - val_loss: 0.9499 - val_accuracy: 0.5576 - val_recall_with_logits_7: 0.6145 - val_precision_with_logits_7: 0.7324\n",
      "Epoch 53/80\n",
      "19/19 [==============================] - 19s 1s/step - loss: 0.8915 - accuracy: 0.6974 - recall_with_logits_7: 0.6968 - precision_with_logits_7: 0.8805 - val_loss: 0.9463 - val_accuracy: 0.5493 - val_recall_with_logits_7: 0.5905 - val_precision_with_logits_7: 0.7373\n",
      "Epoch 54/80\n",
      "19/19 [==============================] - 19s 1s/step - loss: 0.8870 - accuracy: 0.6822 - recall_with_logits_7: 0.6699 - precision_with_logits_7: 0.8845 - val_loss: 0.9437 - val_accuracy: 0.5510 - val_recall_with_logits_7: 0.6022 - val_precision_with_logits_7: 0.7363\n",
      "Epoch 55/80\n",
      "19/19 [==============================] - 19s 1s/step - loss: 0.8845 - accuracy: 0.6982 - recall_with_logits_7: 0.6988 - precision_with_logits_7: 0.8795 - val_loss: 0.9414 - val_accuracy: 0.5609 - val_recall_with_logits_7: 0.6225 - val_precision_with_logits_7: 0.7367\n",
      "Epoch 56/80\n",
      "19/19 [==============================] - 19s 1s/step - loss: 0.8802 - accuracy: 0.6941 - recall_with_logits_7: 0.6897 - precision_with_logits_7: 0.8832 - val_loss: 0.9412 - val_accuracy: 0.5477 - val_recall_with_logits_7: 0.6109 - val_precision_with_logits_7: 0.7239\n",
      "Epoch 57/80\n",
      "19/19 [==============================] - 19s 1s/step - loss: 0.8718 - accuracy: 0.7212 - recall_with_logits_7: 0.7161 - precision_with_logits_7: 0.8972 - val_loss: 0.9383 - val_accuracy: 0.5526 - val_recall_with_logits_7: 0.6149 - val_precision_with_logits_7: 0.7299\n",
      "Epoch 58/80\n",
      "19/19 [==============================] - 19s 1s/step - loss: 0.8749 - accuracy: 0.7060 - recall_with_logits_7: 0.7104 - precision_with_logits_7: 0.8802 - val_loss: 0.9363 - val_accuracy: 0.5707 - val_recall_with_logits_7: 0.6275 - val_precision_with_logits_7: 0.7433\n",
      "Epoch 59/80\n",
      "19/19 [==============================] - 19s 1s/step - loss: 0.8657 - accuracy: 0.7278 - recall_with_logits_7: 0.7225 - precision_with_logits_7: 0.9004 - val_loss: 0.9335 - val_accuracy: 0.5461 - val_recall_with_logits_7: 0.6050 - val_precision_with_logits_7: 0.7263\n",
      "Epoch 60/80\n",
      "19/19 [==============================] - 19s 1s/step - loss: 0.8614 - accuracy: 0.7233 - recall_with_logits_7: 0.7185 - precision_with_logits_7: 0.8974 - val_loss: 0.9337 - val_accuracy: 0.5658 - val_recall_with_logits_7: 0.6343 - val_precision_with_logits_7: 0.7337\n",
      "Epoch 61/80\n",
      "19/19 [==============================] - 19s 1s/step - loss: 0.8594 - accuracy: 0.7179 - recall_with_logits_7: 0.7133 - precision_with_logits_7: 0.8950 - val_loss: 0.9313 - val_accuracy: 0.5707 - val_recall_with_logits_7: 0.6441 - val_precision_with_logits_7: 0.7352\n",
      "Epoch 62/80\n",
      "19/19 [==============================] - 19s 1s/step - loss: 0.8528 - accuracy: 0.7426 - recall_with_logits_7: 0.7351 - precision_with_logits_7: 0.9091 - val_loss: 0.9347 - val_accuracy: 0.5510 - val_recall_with_logits_7: 0.6267 - val_precision_with_logits_7: 0.7195\n",
      "Epoch 63/80\n",
      "19/19 [==============================] - 19s 1s/step - loss: 0.8472 - accuracy: 0.7492 - recall_with_logits_7: 0.7478 - precision_with_logits_7: 0.9072 - val_loss: 0.9289 - val_accuracy: 0.5641 - val_recall_with_logits_7: 0.6441 - val_precision_with_logits_7: 0.7277\n",
      "Epoch 64/80\n",
      "19/19 [==============================] - 20s 1s/step - loss: 0.8460 - accuracy: 0.7558 - recall_with_logits_7: 0.7647 - precision_with_logits_7: 0.8989 - val_loss: 0.9261 - val_accuracy: 0.5740 - val_recall_with_logits_7: 0.6337 - val_precision_with_logits_7: 0.7460\n",
      "Epoch 65/80\n",
      "19/19 [==============================] - 19s 1s/step - loss: 0.8415 - accuracy: 0.7516 - recall_with_logits_7: 0.7464 - precision_with_logits_7: 0.9117 - val_loss: 0.9256 - val_accuracy: 0.5592 - val_recall_with_logits_7: 0.6140 - val_precision_with_logits_7: 0.7371\n",
      "Epoch 66/80\n",
      "19/19 [==============================] - 19s 1s/step - loss: 0.8354 - accuracy: 0.7615 - recall_with_logits_7: 0.7572 - precision_with_logits_7: 0.9144 - val_loss: 0.9247 - val_accuracy: 0.5724 - val_recall_with_logits_7: 0.6304 - val_precision_with_logits_7: 0.7413\n",
      "Epoch 67/80\n",
      "19/19 [==============================] - 20s 1s/step - loss: 0.8295 - accuracy: 0.7525 - recall_with_logits_7: 0.7480 - precision_with_logits_7: 0.9105 - val_loss: 0.9258 - val_accuracy: 0.5576 - val_recall_with_logits_7: 0.6335 - val_precision_with_logits_7: 0.7235\n",
      "Epoch 68/80\n",
      "19/19 [==============================] - 19s 1s/step - loss: 0.8278 - accuracy: 0.7636 - recall_with_logits_7: 0.7660 - precision_with_logits_7: 0.9097 - val_loss: 0.9214 - val_accuracy: 0.5707 - val_recall_with_logits_7: 0.6329 - val_precision_with_logits_7: 0.7414\n",
      "Epoch 69/80\n",
      "19/19 [==============================] - 19s 1s/step - loss: 0.8232 - accuracy: 0.7706 - recall_with_logits_7: 0.7616 - precision_with_logits_7: 0.9241 - val_loss: 0.9232 - val_accuracy: 0.5740 - val_recall_with_logits_7: 0.6380 - val_precision_with_logits_7: 0.7402\n",
      "Epoch 70/80\n",
      "19/19 [==============================] - 19s 1s/step - loss: 0.8163 - accuracy: 0.7751 - recall_with_logits_7: 0.7668 - precision_with_logits_7: 0.9243 - val_loss: 0.9196 - val_accuracy: 0.5822 - val_recall_with_logits_7: 0.6727 - val_precision_with_logits_7: 0.7322\n",
      "Epoch 71/80\n",
      "19/19 [==============================] - 19s 1s/step - loss: 0.8093 - accuracy: 0.7940 - recall_with_logits_7: 0.8011 - precision_with_logits_7: 0.9184 - val_loss: 0.9208 - val_accuracy: 0.6053 - val_recall_with_logits_7: 0.7034 - val_precision_with_logits_7: 0.7435\n",
      "Epoch 72/80\n",
      "19/19 [==============================] - 19s 1s/step - loss: 0.8108 - accuracy: 0.7821 - recall_with_logits_7: 0.7879 - precision_with_logits_7: 0.9142 - val_loss: 0.9179 - val_accuracy: 0.5822 - val_recall_with_logits_7: 0.6403 - val_precision_with_logits_7: 0.7487\n",
      "Epoch 73/80\n",
      "19/19 [==============================] - 20s 1s/step - loss: 0.8023 - accuracy: 0.7989 - recall_with_logits_7: 0.8037 - precision_with_logits_7: 0.9218 - val_loss: 0.9170 - val_accuracy: 0.5707 - val_recall_with_logits_7: 0.6335 - val_precision_with_logits_7: 0.7388\n",
      "Epoch 74/80\n",
      "19/19 [==============================] - 19s 1s/step - loss: 0.7962 - accuracy: 0.8080 - recall_with_logits_7: 0.8082 - precision_with_logits_7: 0.9303 - val_loss: 0.9196 - val_accuracy: 0.5757 - val_recall_with_logits_7: 0.6531 - val_precision_with_logits_7: 0.7328\n",
      "Epoch 75/80\n",
      "19/19 [==============================] - 19s 1s/step - loss: 0.7918 - accuracy: 0.7928 - recall_with_logits_7: 0.7951 - precision_with_logits_7: 0.9217 - val_loss: 0.9168 - val_accuracy: 0.5888 - val_recall_with_logits_7: 0.6719 - val_precision_with_logits_7: 0.7388\n",
      "Epoch 76/80\n",
      "19/19 [==============================] - 19s 1s/step - loss: 0.7845 - accuracy: 0.8215 - recall_with_logits_7: 0.8205 - precision_with_logits_7: 0.9370 - val_loss: 0.9171 - val_accuracy: 0.5872 - val_recall_with_logits_7: 0.6719 - val_precision_with_logits_7: 0.7370\n",
      "Epoch 77/80\n",
      "19/19 [==============================] - 19s 1s/step - loss: 0.7833 - accuracy: 0.8121 - recall_with_logits_7: 0.8121 - precision_with_logits_7: 0.9324 - val_loss: 0.9171 - val_accuracy: 0.5905 - val_recall_with_logits_7: 0.6968 - val_precision_with_logits_7: 0.7281\n",
      "Epoch 78/80\n",
      "19/19 [==============================] - 19s 1s/step - loss: 0.7709 - accuracy: 0.8265 - recall_with_logits_7: 0.8285 - precision_with_logits_7: 0.9373 - val_loss: 0.9168 - val_accuracy: 0.5855 - val_recall_with_logits_7: 0.6907 - val_precision_with_logits_7: 0.7268\n",
      "Epoch 79/80\n",
      "19/19 [==============================] - 19s 1s/step - loss: 0.7694 - accuracy: 0.8269 - recall_with_logits_7: 0.8271 - precision_with_logits_7: 0.9381 - val_loss: 0.9186 - val_accuracy: 0.6102 - val_recall_with_logits_7: 0.7178 - val_precision_with_logits_7: 0.7395\n",
      "Epoch 80/80\n",
      "19/19 [==============================] - 19s 1s/step - loss: 0.7698 - accuracy: 0.8203 - recall_with_logits_7: 0.8250 - precision_with_logits_7: 0.9311 - val_loss: 0.9138 - val_accuracy: 0.6069 - val_recall_with_logits_7: 0.7095 - val_precision_with_logits_7: 0.7412\n",
      "CPU times: total: 33min 20s\n",
      "Wall time: 25min 56s\n"
     ]
    }
   ],
   "source": [
    "%%time\n",
    "# save best performing model\n",
    "checkpoint_path = './temp/checkpoint_model'\n",
    "model_checkpoint_callback = ModelCheckpoint(filepath=checkpoint_path,\n",
    "                                            save_weights_only=True,\n",
    "                                            monitor='val_loss',\n",
    "                                            save_best_only=True)\n",
    "\n",
    "# train\n",
    "history = model.fit_generator(generator=training_batch_generator,\n",
    "                              validation_data=validation_batch_generator,\n",
    "                              epochs=80,\n",
    "                              callbacks=[model_checkpoint_callback])"
   ],
   "metadata": {
    "collapsed": false,
    "pycharm": {
     "name": "#%%\n"
    }
   }
  },
  {
   "cell_type": "code",
   "execution_count": 164,
   "outputs": [
    {
     "data": {
      "text/plain": "<Figure size 640x480 with 2 Axes>",
      "image/png": "[encoded data removed]"
     },
     "metadata": {},
     "output_type": "display_data"
    }
   ],
   "source": [
    "# plot training curve\n",
    "plt.subplots_adjust(left=0.1,\n",
    "                    bottom=0.01,\n",
    "                    right=1.2,\n",
    "                    top=0.6,\n",
    "                    wspace=0.4,\n",
    "                    hspace=0.4)\n",
    "\n",
    "# metric\n",
    "plt.subplot(1, 2, 1)\n",
    "plt.plot(history.history['accuracy'])\n",
    "plt.plot(history.history['val_accuracy'])\n",
    "plt.title('model accuracy')\n",
    "plt.ylabel('accuracy')\n",
    "plt.xlabel('epoch')\n",
    "plt.legend(['train', 'test'], loc='upper left')\n",
    "\n",
    "# loss\n",
    "plt.subplot(1, 2, 2)\n",
    "plt.plot(history.history['loss'])\n",
    "plt.plot(history.history['val_loss'])\n",
    "plt.title('model loss')\n",
    "plt.ylabel('loss')\n",
    "plt.xlabel('epoch')\n",
    "plt.legend(['train', 'test'], loc='upper left')\n",
    "\n",
    "plt.show()"
   ],
   "metadata": {
    "collapsed": false,
    "pycharm": {
     "name": "#%%\n"
    }
   }
  },
  {
   "cell_type": "markdown",
   "source": [
    "# Evaluation"
   ],
   "metadata": {
    "collapsed": false
   }
  },
  {
   "cell_type": "code",
   "execution_count": 165,
   "outputs": [
    {
     "data": {
      "text/plain": "<tensorflow.python.training.tracking.util.CheckpointLoadStatus at 0x28e7380f9a0>"
     },
     "execution_count": 165,
     "metadata": {},
     "output_type": "execute_result"
    }
   ],
   "source": [
    "# load best performing model\n",
    "model.load_weights(checkpoint_path)"
   ],
   "metadata": {
    "collapsed": false,
    "pycharm": {
     "name": "#%%\n"
    }
   }
  },
  {
   "cell_type": "code",
   "execution_count": 166,
   "outputs": [
    {
     "data": {
      "text/plain": "<Figure size 640x480 with 2 Axes>",
      "image/png": "[encoded data removed]"
     },
     "metadata": {},
     "output_type": "display_data"
    }
   ],
   "source": [
    "# predict on validation set\n",
    "plt.subplots_adjust(left=0.1,\n",
    "                    bottom=0.01,\n",
    "                    right=1.2,\n",
    "                    top=0.6,\n",
    "                    wspace=0.4,\n",
    "                    hspace=0.4)\n",
    "\n",
    "y_pred = model.predict(validation_batch_generator)\n",
    "y_pred = tf.math.sigmoid(y_pred).numpy() # TODO: for logits\n",
    "\n",
    "# for probs\n",
    "plt.subplot(1, 2, 1)\n",
    "plt.hist(y_pred.reshape(-1))\n",
    "plt.title('P(y == 1)')\n",
    "plt.vlines(x=0.5, ymin=0, ymax=500, color='red')\n",
    "\n",
    "y_pred = np.where(y_pred > 0.5, 1, 0) # as labels\n",
    "plt.subplot(1, 2, 2)\n",
    "plt.hist(y_pred.reshape(-1))\n",
    "plt.title('Labels')\n",
    "\n",
    "plt.show()"
   ],
   "metadata": {
    "collapsed": false,
    "pycharm": {
     "name": "#%%\n"
    }
   }
  },
  {
   "cell_type": "code",
   "execution_count": 167,
   "outputs": [
    {
     "name": "stdout",
     "output_type": "stream",
     "text": [
      "Test set: 615\n"
     ]
    }
   ],
   "source": [
    "# load test data\n",
    "print(f'Test set: {len(validation_indices)}') # TODO: separate test-set\n",
    "\n",
    "test_batch_generator = DataGenerator(data_path=path, indices_dataset=validation_indices, batch_size=1) # TODO: separate test-set\n",
    "y_test = np.empty(0)\n",
    "for batch_index in range(len(test_batch_generator)):\n",
    "    _, y_test_batch = test_batch_generator.__getitem__(batch_index)\n",
    "    y_test = np.append(y_test, y_test_batch)"
   ],
   "metadata": {
    "collapsed": false,
    "pycharm": {
     "name": "#%%\n"
    }
   }
  },
  {
   "cell_type": "code",
   "execution_count": 168,
   "outputs": [
    {
     "name": "stdout",
     "output_type": "stream",
     "text": [
      "accuracy: 0.6065040650406504\n",
      "balanced accuracy: 0.5177034324208725\n",
      "f1 (weighted): 0.6119210220673635\n",
      "recall (weighted): 0.6065040650406504\n",
      "precision (weighted): 0.6180382168120406\n"
     ]
    },
    {
     "data": {
      "text/plain": "<Figure size 640x480 with 2 Axes>",
      "image/png": "[encoded data removed]"
     },
     "metadata": {},
     "output_type": "display_data"
    }
   ],
   "source": [
    "# classification metrics\n",
    "# predict\n",
    "y_test_pred = model.predict(test_batch_generator)\n",
    "y_test_pred = tf.math.sigmoid(y_test_pred).numpy() # TODO: for logits\n",
    "y_test_pred = np.round(y_test_pred)\n",
    "\n",
    "# evaluate\n",
    "accuracy = accuracy_score(y_pred=y_test_pred, y_true=y_test)\n",
    "balanced_accuracy = balanced_accuracy_score(y_pred=y_test_pred, y_true=y_test)\n",
    "f1_weighted = f1_score(y_pred=y_test_pred, y_true=y_test, average='weighted')\n",
    "recall_weighted = recall_score(y_pred=y_test_pred, y_true=y_test, average='weighted')\n",
    "precision_weighted = precision_score(y_pred=y_test_pred, y_true=y_test, average='weighted')\n",
    "confusion = confusion_matrix(y_pred=y_test_pred, y_true=y_test)\n",
    "ConfusionMatrixDisplay(confusion_matrix=confusion, display_labels=[False, True]).plot(cmap=plt.cm.Blues)\n",
    "plt.title('Physical fatigue')\n",
    "\n",
    "print(f'accuracy: {accuracy}\\n'\n",
    "      f'balanced accuracy: {balanced_accuracy}\\n'\n",
    "      f'f1 (weighted): {f1_weighted}\\n'\n",
    "      f'recall (weighted): {recall_weighted}\\n'\n",
    "      f'precision (weighted): {precision_weighted}')"
   ],
   "metadata": {
    "collapsed": false,
    "pycharm": {
     "name": "#%%\n"
    }
   }
  },
  {
   "cell_type": "markdown",
   "source": [
    "# Continue training"
   ],
   "metadata": {
    "collapsed": false
   }
  },
  {
   "cell_type": "code",
   "execution_count": 169,
   "outputs": [
    {
     "name": "stderr",
     "output_type": "stream",
     "text": [
      "C:\\Users\\jjung\\anaconda3\\envs\\tf-sklearn-keras\\lib\\site-packages\\keras\\engine\\training.py:1972: UserWarning: `Model.fit_generator` is deprecated and will be removed in a future version. Please use `Model.fit`, which supports generators.\n",
      "  warnings.warn('`Model.fit_generator` is deprecated and '\n"
     ]
    },
    {
     "name": "stdout",
     "output_type": "stream",
     "text": [
      "Epoch 1/20\n",
      "19/19 [==============================] - 35s 2s/step - loss: 0.7613 - accuracy: 0.8335 - recall_with_logits_7: 0.8343 - precision_with_logits_7: 0.9404 - val_loss: 0.9159 - val_accuracy: 0.6036 - val_recall_with_logits_7: 0.6966 - val_precision_with_logits_7: 0.7452\n",
      "Epoch 2/20\n",
      "19/19 [==============================] - 20s 1s/step - loss: 0.7548 - accuracy: 0.8368 - recall_with_logits_7: 0.8369 - precision_with_logits_7: 0.9422 - val_loss: 0.9182 - val_accuracy: 0.6118 - val_recall_with_logits_7: 0.7036 - val_precision_with_logits_7: 0.7476\n",
      "Epoch 3/20\n",
      "19/19 [==============================] - 21s 1s/step - loss: 0.7448 - accuracy: 0.8516 - recall_with_logits_7: 0.8486 - precision_with_logits_7: 0.9509 - val_loss: 0.9142 - val_accuracy: 0.6086 - val_recall_with_logits_7: 0.6968 - val_precision_with_logits_7: 0.7476\n",
      "Epoch 4/20\n",
      "19/19 [==============================] - 21s 1s/step - loss: 0.7391 - accuracy: 0.8606 - recall_with_logits_7: 0.8595 - precision_with_logits_7: 0.9527 - val_loss: 0.9157 - val_accuracy: 0.6118 - val_recall_with_logits_7: 0.7020 - val_precision_with_logits_7: 0.7494\n",
      "Epoch 5/20\n",
      "19/19 [==============================] - 21s 1s/step - loss: 0.7338 - accuracy: 0.8540 - recall_with_logits_7: 0.8513 - precision_with_logits_7: 0.9516 - val_loss: 0.9141 - val_accuracy: 0.6118 - val_recall_with_logits_7: 0.7169 - val_precision_with_logits_7: 0.7436\n",
      "Epoch 6/20\n",
      "19/19 [==============================] - 20s 1s/step - loss: 0.7310 - accuracy: 0.8635 - recall_with_logits_7: 0.8716 - precision_with_logits_7: 0.9450 - val_loss: 0.9199 - val_accuracy: 0.6299 - val_recall_with_logits_7: 0.7404 - val_precision_with_logits_7: 0.7489\n",
      "Epoch 7/20\n",
      "19/19 [==============================] - 21s 1s/step - loss: 0.7199 - accuracy: 0.8627 - recall_with_logits_7: 0.8600 - precision_with_logits_7: 0.9557 - val_loss: 0.9213 - val_accuracy: 0.6201 - val_recall_with_logits_7: 0.7291 - val_precision_with_logits_7: 0.7442\n",
      "Epoch 8/20\n",
      "19/19 [==============================] - 21s 1s/step - loss: 0.7152 - accuracy: 0.8808 - recall_with_logits_7: 0.8851 - precision_with_logits_7: 0.9552 - val_loss: 0.9179 - val_accuracy: 0.6151 - val_recall_with_logits_7: 0.7195 - val_precision_with_logits_7: 0.7430\n",
      "Epoch 9/20\n",
      "19/19 [==============================] - 20s 1s/step - loss: 0.7096 - accuracy: 0.8820 - recall_with_logits_7: 0.8807 - precision_with_logits_7: 0.9611 - val_loss: 0.9255 - val_accuracy: 0.6135 - val_recall_with_logits_7: 0.7285 - val_precision_with_logits_7: 0.7368\n",
      "Epoch 10/20\n",
      "19/19 [==============================] - 19s 1s/step - loss: 0.7077 - accuracy: 0.8803 - recall_with_logits_7: 0.8787 - precision_with_logits_7: 0.9611 - val_loss: 0.9230 - val_accuracy: 0.6053 - val_recall_with_logits_7: 0.7217 - val_precision_with_logits_7: 0.7317\n",
      "Epoch 11/20\n",
      "19/19 [==============================] - 22s 1s/step - loss: 0.6999 - accuracy: 0.8865 - recall_with_logits_7: 0.8858 - precision_with_logits_7: 0.9625 - val_loss: 0.9268 - val_accuracy: 0.6168 - val_recall_with_logits_7: 0.7230 - val_precision_with_logits_7: 0.7448\n",
      "Epoch 12/20\n",
      "19/19 [==============================] - 21s 1s/step - loss: 0.6980 - accuracy: 0.8910 - recall_with_logits_7: 0.8957 - precision_with_logits_7: 0.9584 - val_loss: 0.9262 - val_accuracy: 0.6184 - val_recall_with_logits_7: 0.7449 - val_precision_with_logits_7: 0.7350\n",
      "Epoch 13/20\n",
      "19/19 [==============================] - 20s 1s/step - loss: 0.6939 - accuracy: 0.8828 - recall_with_logits_7: 0.8830 - precision_with_logits_7: 0.9601 - val_loss: 0.9200 - val_accuracy: 0.6053 - val_recall_with_logits_7: 0.7172 - val_precision_with_logits_7: 0.7338\n",
      "Epoch 14/20\n",
      "19/19 [==============================] - 20s 1s/step - loss: 0.6830 - accuracy: 0.9013 - recall_with_logits_7: 0.9016 - precision_with_logits_7: 0.9664 - val_loss: 0.9362 - val_accuracy: 0.6299 - val_recall_with_logits_7: 0.7466 - val_precision_with_logits_7: 0.7449\n",
      "Epoch 15/20\n",
      "19/19 [==============================] - 21s 1s/step - loss: 0.6753 - accuracy: 0.9025 - recall_with_logits_7: 0.9007 - precision_with_logits_7: 0.9692 - val_loss: 0.9307 - val_accuracy: 0.6151 - val_recall_with_logits_7: 0.7223 - val_precision_with_logits_7: 0.7425\n",
      "Epoch 16/20\n",
      "19/19 [==============================] - 21s 1s/step - loss: 0.6688 - accuracy: 0.9087 - recall_with_logits_7: 0.9137 - precision_with_logits_7: 0.9647 - val_loss: 0.9322 - val_accuracy: 0.6316 - val_recall_with_logits_7: 0.7506 - val_precision_with_logits_7: 0.7438\n",
      "Epoch 17/20\n",
      "19/19 [==============================] - 20s 1s/step - loss: 0.6680 - accuracy: 0.9112 - recall_with_logits_7: 0.9098 - precision_with_logits_7: 0.9717 - val_loss: 0.9348 - val_accuracy: 0.6053 - val_recall_with_logits_7: 0.7166 - val_precision_with_logits_7: 0.7332\n",
      "Epoch 18/20\n",
      "19/19 [==============================] - 21s 1s/step - loss: 0.6642 - accuracy: 0.9095 - recall_with_logits_7: 0.9066 - precision_with_logits_7: 0.9728 - val_loss: 0.9432 - val_accuracy: 0.6151 - val_recall_with_logits_7: 0.7308 - val_precision_with_logits_7: 0.7374\n",
      "Epoch 19/20\n",
      "19/19 [==============================] - 21s 1s/step - loss: 0.6568 - accuracy: 0.9079 - recall_with_logits_7: 0.9093 - precision_with_logits_7: 0.9678 - val_loss: 0.9498 - val_accuracy: 0.6201 - val_recall_with_logits_7: 0.7376 - val_precision_with_logits_7: 0.7392\n",
      "Epoch 20/20\n",
      "19/19 [==============================] - 20s 1s/step - loss: 0.6533 - accuracy: 0.9165 - recall_with_logits_7: 0.9132 - precision_with_logits_7: 0.9758 - val_loss: 0.9404 - val_accuracy: 0.6365 - val_recall_with_logits_7: 0.7670 - val_precision_with_logits_7: 0.7418\n",
      "CPU times: total: 8min 44s\n",
      "Wall time: 7min 8s\n"
     ]
    }
   ],
   "source": [
    "%%time\n",
    "# save best performing model\n",
    "checkpoint_path = './temp/checkpoint_model2'\n",
    "model_checkpoint_callback = ModelCheckpoint(filepath=checkpoint_path,\n",
    "                                            save_weights_only=True,\n",
    "                                            monitor='val_loss',\n",
    "                                            save_best_only=True)\n",
    "\n",
    "# train\n",
    "history2 = model.fit_generator(generator=training_batch_generator,\n",
    "                              validation_data=validation_batch_generator,\n",
    "                              epochs=20,\n",
    "                              callbacks=[model_checkpoint_callback])"
   ],
   "metadata": {
    "collapsed": false,
    "pycharm": {
     "name": "#%%\n"
    }
   }
  },
  {
   "cell_type": "code",
   "execution_count": 194,
   "outputs": [
    {
     "data": {
      "text/plain": "<Figure size 640x480 with 2 Axes>",
      "image/png": "[encoded data removed]"
     },
     "metadata": {},
     "output_type": "display_data"
    }
   ],
   "source": [
    "# plot training curve\n",
    "plt.subplots_adjust(left=0.1,\n",
    "                    bottom=0.01,\n",
    "                    right=1.2,\n",
    "                    top=0.6,\n",
    "                    wspace=0.4,\n",
    "                    hspace=0.4)\n",
    "\n",
    "full_history_acc = history.history['accuracy'] + history2.history['accuracy']\n",
    "full_history_val_acc = history.history['val_accuracy'] + history2.history['val_accuracy']\n",
    "full_history_loss = history.history['loss'] + history2.history['loss']\n",
    "full_history_val_loss = history.history['val_loss'] + history2.history['val_loss']\n",
    "\n",
    "# metric\n",
    "plt.subplot(1, 2, 1)\n",
    "plt.plot(full_history_acc)\n",
    "plt.plot(full_history_val_acc)\n",
    "plt.title('model accuracy')\n",
    "plt.ylabel('accuracy')\n",
    "plt.xlabel('epoch')\n",
    "plt.legend(['train', 'test'], loc='upper left')\n",
    "\n",
    "# loss\n",
    "plt.subplot(1, 2, 2)\n",
    "plt.plot(full_history_loss)\n",
    "plt.plot(full_history_val_loss)\n",
    "plt.title('model loss')\n",
    "plt.ylabel('loss')\n",
    "plt.xlabel('epoch')\n",
    "plt.legend(['train', 'test'], loc='upper left')\n",
    "\n",
    "plt.show()"
   ],
   "metadata": {
    "collapsed": false,
    "pycharm": {
     "name": "#%%\n"
    }
   }
  }
 ],
 "metadata": {
  "kernelspec": {
   "display_name": "Python 3",
   "language": "python",
   "name": "python3"
  },
  "language_info": {
   "codemirror_mode": {
    "name": "ipython",
    "version": 2
   },
   "file_extension": ".py",
   "mimetype": "text/x-python",
   "name": "python",
   "nbconvert_exporter": "python",
   "pygments_lexer": "ipython2",
   "version": "2.7.6"
  }
 },
 "nbformat": 4,
 "nbformat_minor": 0
}