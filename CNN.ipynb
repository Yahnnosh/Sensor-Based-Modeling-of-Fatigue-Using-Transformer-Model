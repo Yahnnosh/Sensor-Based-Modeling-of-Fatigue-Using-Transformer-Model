{
 "cells": [
  {
   "cell_type": "code",
   "execution_count": 36,
   "metadata": {
    "collapsed": true
   },
   "outputs": [],
   "source": [
    "import keras.utils\n",
    "import tensorflow as tf\n",
    "from tensorflow.keras import layers, models\n",
    "from tensorflow.keras.utils import Sequence\n",
    "from sklearn.metrics import accuracy_score, balanced_accuracy_score, f1_score, precision_score, recall_score, confusion_matrix, ConfusionMatrixDisplay\n",
    "import numpy as np\n",
    "import matplotlib.pyplot as plt\n",
    "import os"
   ]
  },
  {
   "cell_type": "markdown",
   "source": [
    "# Import data"
   ],
   "metadata": {
    "collapsed": false
   }
  },
  {
   "cell_type": "code",
   "execution_count": 20,
   "outputs": [],
   "source": [
    "train_path = './Output/train'\n",
    "test_path = './Output/test'"
   ],
   "metadata": {
    "collapsed": false,
    "pycharm": {
     "name": "#%%\n"
    }
   }
  },
  {
   "cell_type": "code",
   "execution_count": 21,
   "outputs": [
    {
     "name": "stdout",
     "output_type": "stream",
     "text": [
      "Training set: 4213\n"
     ]
    }
   ],
   "source": [
    "N, HEIGHT, WIDTH, CHANNELS = sum([1 for p in os.listdir(train_path) if p[:14] == 'feature_vector']), \\\n",
    "                             *np.load(train_path + '/feature_vector0.npy').shape\n",
    "print(f'Training set: {N}')"
   ],
   "metadata": {
    "collapsed": false,
    "pycharm": {
     "name": "#%%\n"
    }
   }
  },
  {
   "cell_type": "markdown",
   "source": [
    "# Define data generator"
   ],
   "metadata": {
    "collapsed": false
   }
  },
  {
   "cell_type": "code",
   "execution_count": 23,
   "outputs": [],
   "source": [
    "class DataGenerator(Sequence):\n",
    "\n",
    "    def __init__(self, data_path: str, indices_dataset: list, batch_size=32, dim=(HEIGHT, WIDTH), n_channels=CHANNELS, shuffle=True):\n",
    "        self.data_path = data_path # path to full dataset\n",
    "        self.dim = dim # image dimension\n",
    "        self.batch_size = batch_size\n",
    "        self.indices_dataset = indices_dataset # indices of full dataset (different for train/validation/test set)\n",
    "        self.n_channels = n_channels\n",
    "        self.shuffle = shuffle\n",
    "\n",
    "        self.on_epoch_end() # shuffle data for each epoch\n",
    "\n",
    "    def on_epoch_end(self):\n",
    "        \"\"\"\n",
    "        Shuffle data for each epoch\n",
    "        \"\"\"\n",
    "        if self.shuffle:\n",
    "            np.random.shuffle(self.indices_dataset)\n",
    "\n",
    "    def __data_generation(self, indices):\n",
    "        \"\"\"\n",
    "        Loads and returns datapoints[indices]\n",
    "        \"\"\"\n",
    "        # init\n",
    "        X = np.empty((self.batch_size, *self.dim, self.n_channels))\n",
    "        y = np.empty(self.batch_size, dtype=int)\n",
    "\n",
    "        # load individual datapoints\n",
    "        for i, index in enumerate(indices):\n",
    "            X[i, ] = np.load(self.data_path + f'/feature_vector{index}.npy', allow_pickle=True)\n",
    "            y[i] = np.load(self.data_path + f'/labels{index}.npy', allow_pickle=True)[0] # TODO: for now just phF\n",
    "\n",
    "        return X, y\n",
    "\n",
    "    def __len__(self):\n",
    "        \"\"\"\n",
    "        Number of batches per epoch\n",
    "        \"\"\"\n",
    "        return int(np.floor(len(self.indices_dataset) / self.batch_size))\n",
    "\n",
    "    def __getitem__(self, index):\n",
    "        \"\"\"\n",
    "        Generates batch[index]\n",
    "        \"\"\"\n",
    "        # calculate indices of batch\n",
    "        indices = self.indices_dataset[index * self.batch_size:(index + 1) * self.batch_size]\n",
    "\n",
    "        # generate batch\n",
    "        X, y = self.__data_generation(indices)\n",
    "\n",
    "        return X, y"
   ],
   "metadata": {
    "collapsed": false,
    "pycharm": {
     "name": "#%%\n"
    }
   }
  },
  {
   "cell_type": "markdown",
   "source": [
    "# Upsampling"
   ],
   "metadata": {
    "collapsed": false
   }
  },
  {
   "cell_type": "code",
   "execution_count": 24,
   "outputs": [
    {
     "name": "stdout",
     "output_type": "stream",
     "text": [
      "|val_set|: 1390, |train_set|: 2823\n"
     ]
    }
   ],
   "source": [
    "# train/validation split\n",
    "TRAIN_VAL_SPLIT = 0.33\n",
    "\n",
    "permutation_indices = [i for i in range(N)]\n",
    "np.random.shuffle(permutation_indices)\n",
    "\n",
    "validation_indices = permutation_indices[:int(N * TRAIN_VAL_SPLIT)]\n",
    "train_indices = permutation_indices[int(N * TRAIN_VAL_SPLIT):]\n",
    "\n",
    "print(f'|val_set|: {len(validation_indices)}, |train_set|: {len(train_indices)}')"
   ],
   "metadata": {
    "collapsed": false,
    "pycharm": {
     "name": "#%%\n"
    }
   }
  },
  {
   "cell_type": "code",
   "execution_count": 32,
   "outputs": [
    {
     "name": "stdout",
     "output_type": "stream",
     "text": [
      "val_set: (+: 1028, -: 362)\n",
      "\n",
      "train_set: (+: 2114, -: 709)\n",
      "train_set (upsampled): (+: 2114, -: 2114)\n"
     ]
    }
   ],
   "source": [
    "# upsampling (imbalanced dataset)\n",
    "y_train = np.empty((N, 2), dtype=int)\n",
    "\n",
    "# load individual datapoints\n",
    "for i in range(N):\n",
    "    y_train[i] = np.load(train_path + f'/labels{i}.npy', allow_pickle=True)\n",
    "\n",
    "\n",
    "positive_indices = np.where(y_train[validation_indices, 0] == 1)[0] # TODO: only phF for now\n",
    "negative_indices = np.where(y_train[validation_indices, 0] == 0)[0] # TODO: only phF for now\n",
    "\n",
    "print(f'val_set: (+: {len(positive_indices)}, -: {len(negative_indices)})\\n')\n",
    "\n",
    "positive_indices = np.where(y_train[train_indices, 0] == 1)[0] # TODO: only phF for now\n",
    "negative_indices = np.where(y_train[train_indices, 0] == 0)[0] # TODO: only phF for now\n",
    "\n",
    "print(f'train_set: (+: {len(positive_indices)}, -: {len(negative_indices)})')\n",
    "\n",
    "negative_indices_upsampled = np.append(negative_indices,\n",
    "                                       np.random.choice(negative_indices,\n",
    "                                                        size=(len(positive_indices) - len(negative_indices)),\n",
    "                                                        replace=True)) # with replacement\n",
    "\n",
    "print(f'train_set (upsampled): (+: {len(positive_indices)}, -: {len(negative_indices_upsampled)})')"
   ],
   "metadata": {
    "collapsed": false,
    "pycharm": {
     "name": "#%%\n"
    }
   }
  },
  {
   "cell_type": "markdown",
   "source": [
    "# CNN"
   ],
   "metadata": {
    "collapsed": false
   }
  },
  {
   "cell_type": "markdown",
   "source": [
    "Data generators"
   ],
   "metadata": {
    "collapsed": false
   }
  },
  {
   "cell_type": "code",
   "execution_count": 33,
   "outputs": [],
   "source": [
    "training_batch_generator = DataGenerator(data_path=train_path, indices_dataset=train_indices, batch_size=128)\n",
    "validation_batch_generator = DataGenerator(data_path=train_path, indices_dataset=validation_indices, batch_size=1)"
   ],
   "metadata": {
    "collapsed": false,
    "pycharm": {
     "name": "#%%\n"
    }
   }
  },
  {
   "cell_type": "markdown",
   "source": [
    "Model"
   ],
   "metadata": {
    "collapsed": false
   }
  },
  {
   "cell_type": "code",
   "execution_count": 34,
   "outputs": [
    {
     "name": "stdout",
     "output_type": "stream",
     "text": [
      "Model: \"sequential\"\n",
      "_________________________________________________________________\n",
      "Layer (type)                 Output Shape              Param #   \n",
      "=================================================================\n",
      "conv2d (Conv2D)              (None, 370, 100, 32)      8672      \n",
      "_________________________________________________________________\n",
      "conv2d_1 (Conv2D)            (None, 370, 100, 32)      9248      \n",
      "_________________________________________________________________\n",
      "batch_normalization (BatchNo (None, 370, 100, 32)      128       \n",
      "_________________________________________________________________\n",
      "max_pooling2d (MaxPooling2D) (None, 185, 50, 32)       0         \n",
      "_________________________________________________________________\n",
      "conv2d_2 (Conv2D)            (None, 185, 50, 32)       9248      \n",
      "_________________________________________________________________\n",
      "conv2d_3 (Conv2D)            (None, 185, 50, 32)       9248      \n",
      "_________________________________________________________________\n",
      "batch_normalization_1 (Batch (None, 185, 50, 32)       128       \n",
      "_________________________________________________________________\n",
      "max_pooling2d_1 (MaxPooling2 (None, 92, 25, 32)        0         \n",
      "_________________________________________________________________\n",
      "conv2d_4 (Conv2D)            (None, 92, 25, 32)        9248      \n",
      "_________________________________________________________________\n",
      "conv2d_5 (Conv2D)            (None, 92, 25, 32)        9248      \n",
      "_________________________________________________________________\n",
      "conv2d_6 (Conv2D)            (None, 92, 25, 32)        9248      \n",
      "_________________________________________________________________\n",
      "batch_normalization_2 (Batch (None, 92, 25, 32)        128       \n",
      "_________________________________________________________________\n",
      "max_pooling2d_2 (MaxPooling2 (None, 46, 12, 32)        0         \n",
      "_________________________________________________________________\n",
      "conv2d_7 (Conv2D)            (None, 46, 12, 32)        9248      \n",
      "_________________________________________________________________\n",
      "conv2d_8 (Conv2D)            (None, 46, 12, 32)        9248      \n",
      "_________________________________________________________________\n",
      "conv2d_9 (Conv2D)            (None, 46, 12, 32)        9248      \n",
      "_________________________________________________________________\n",
      "batch_normalization_3 (Batch (None, 46, 12, 32)        128       \n",
      "_________________________________________________________________\n",
      "max_pooling2d_3 (MaxPooling2 (None, 23, 6, 32)         0         \n",
      "_________________________________________________________________\n",
      "conv2d_10 (Conv2D)           (None, 23, 6, 64)         18496     \n",
      "_________________________________________________________________\n",
      "conv2d_11 (Conv2D)           (None, 23, 6, 64)         36928     \n",
      "_________________________________________________________________\n",
      "conv2d_12 (Conv2D)           (None, 23, 6, 64)         36928     \n",
      "_________________________________________________________________\n",
      "batch_normalization_4 (Batch (None, 23, 6, 64)         256       \n",
      "_________________________________________________________________\n",
      "max_pooling2d_4 (MaxPooling2 (None, 11, 3, 64)         0         \n",
      "_________________________________________________________________\n",
      "flatten (Flatten)            (None, 2112)              0         \n",
      "_________________________________________________________________\n",
      "dense (Dense)                (None, 128)               270464    \n",
      "_________________________________________________________________\n",
      "dense_1 (Dense)              (None, 64)                8256      \n",
      "_________________________________________________________________\n",
      "dense_2 (Dense)              (None, 1)                 65        \n",
      "=================================================================\n",
      "Total params: 463,809\n",
      "Trainable params: 463,425\n",
      "Non-trainable params: 384\n",
      "_________________________________________________________________\n"
     ]
    }
   ],
   "source": [
    "model = models.Sequential()\n",
    "\n",
    "model.add(layers.Conv2D(filters=32, kernel_size=(3, 3), activation='relu', input_shape=(370, 100, 30), padding='same'))\n",
    "model.add(layers.Conv2D(filters=32, kernel_size=(3, 3), activation='relu', padding='same'))\n",
    "model.add(layers.BatchNormalization()) # try for incr. stability\n",
    "model.add(layers.MaxPool2D(strides=(2, 2)))\n",
    "\n",
    "model.add(layers.Conv2D(filters=32, kernel_size=(3, 3), activation='relu', padding='same'))\n",
    "model.add(layers.Conv2D(filters=32, kernel_size=(3, 3), activation='relu', padding='same'))\n",
    "model.add(layers.BatchNormalization()) # try for incr. stability\n",
    "model.add(layers.MaxPool2D(strides=(2, 2)))\n",
    "\n",
    "model.add(layers.Conv2D(filters=32, kernel_size=(3, 3), activation='relu', padding='same'))\n",
    "model.add(layers.Conv2D(filters=32, kernel_size=(3, 3), activation='relu', padding='same'))\n",
    "model.add(layers.Conv2D(filters=32, kernel_size=(3, 3), activation='relu', padding='same'))\n",
    "model.add(layers.BatchNormalization()) # try for incr. stability\n",
    "model.add(layers.MaxPool2D(strides=(2, 2)))\n",
    "\n",
    "model.add(layers.Conv2D(filters=32, kernel_size=(3, 3), activation='relu', padding='same'))\n",
    "model.add(layers.Conv2D(filters=32, kernel_size=(3, 3), activation='relu', padding='same'))\n",
    "model.add(layers.Conv2D(filters=32, kernel_size=(3, 3), activation='relu', padding='same'))\n",
    "model.add(layers.BatchNormalization()) # try for incr. stability\n",
    "model.add(layers.MaxPool2D(strides=(2, 2)))\n",
    "\n",
    "model.add(layers.Conv2D(filters=64, kernel_size=(3, 3), activation='relu', padding='same'))\n",
    "model.add(layers.Conv2D(filters=64, kernel_size=(3, 3), activation='relu', padding='same'))\n",
    "model.add(layers.Conv2D(filters=64, kernel_size=(3, 3), activation='relu', padding='same'))\n",
    "model.add(layers.BatchNormalization()) # try for incr. stability\n",
    "model.add(layers.MaxPool2D(strides=(2, 2)))\n",
    "\n",
    "model.add(layers.Flatten())\n",
    "model.add(layers.Dense(128, activation='relu', kernel_initializer='random_normal', bias_initializer='zeros', kernel_regularizer='l2')) # normal weight init + l2 regularization needed?\n",
    "#model.add(layers.Dropout(0.4))\n",
    "model.add(layers.Dense(64, activation='relu', kernel_initializer='random_normal', bias_initializer='zeros', kernel_regularizer='l2')) # normal weight init + l2 regularization needed?\n",
    "#model.add(layers.Dropout(0.3))\n",
    "model.add(layers.Dense(1, activation='sigmoid'))\n",
    "\n",
    "model.compile(optimizer='adam', loss='binary_crossentropy', metrics=['accuracy'])\n",
    "\n",
    "model.summary()"
   ],
   "metadata": {
    "collapsed": false,
    "pycharm": {
     "name": "#%%\n"
    }
   }
  },
  {
   "cell_type": "markdown",
   "source": [
    "Training"
   ],
   "metadata": {
    "collapsed": false
   }
  },
  {
   "cell_type": "code",
   "execution_count": 35,
   "outputs": [
    {
     "name": "stderr",
     "output_type": "stream",
     "text": [
      "C:\\Users\\jjung\\anaconda3\\envs\\tf-sklearn-keras\\lib\\site-packages\\keras\\engine\\training.py:1972: UserWarning: `Model.fit_generator` is deprecated and will be removed in a future version. Please use `Model.fit`, which supports generators.\n",
      "  warnings.warn('`Model.fit_generator` is deprecated and '\n"
     ]
    },
    {
     "name": "stdout",
     "output_type": "stream",
     "text": [
      "Epoch 1/20\n",
      "22/22 [==============================] - 96s 4s/step - loss: 6.5665 - accuracy: 0.7322 - val_loss: 5.4341 - val_accuracy: 0.7396\n",
      "Epoch 2/20\n",
      "22/22 [==============================] - 68s 3s/step - loss: 4.3859 - accuracy: 0.7504 - val_loss: 3.6506 - val_accuracy: 0.7396\n",
      "Epoch 3/20\n",
      "22/22 [==============================] - 66s 3s/step - loss: 2.9092 - accuracy: 0.7500 - val_loss: 2.5292 - val_accuracy: 0.7396\n",
      "Epoch 4/20\n",
      "22/22 [==============================] - 67s 3s/step - loss: 1.9970 - accuracy: 0.7582 - val_loss: 1.8487 - val_accuracy: 0.7396\n",
      "Epoch 5/20\n",
      "22/22 [==============================] - 68s 3s/step - loss: 1.4370 - accuracy: 0.7710 - val_loss: 1.3974 - val_accuracy: 0.7396\n",
      "Epoch 6/20\n",
      "22/22 [==============================] - 69s 3s/step - loss: 1.0660 - accuracy: 0.8029 - val_loss: 1.1437 - val_accuracy: 0.7396\n",
      "Epoch 7/20\n",
      "22/22 [==============================] - 67s 3s/step - loss: 0.8554 - accuracy: 0.7962 - val_loss: 0.9809 - val_accuracy: 0.7396\n",
      "Epoch 8/20\n",
      "22/22 [==============================] - 66s 3s/step - loss: 0.6995 - accuracy: 0.8192 - val_loss: 0.9264 - val_accuracy: 0.7396\n",
      "Epoch 9/20\n",
      "22/22 [==============================] - 68s 3s/step - loss: 0.6201 - accuracy: 0.8132 - val_loss: 0.7764 - val_accuracy: 0.7396\n",
      "Epoch 10/20\n",
      "22/22 [==============================] - 74s 3s/step - loss: 0.5320 - accuracy: 0.8402 - val_loss: 0.7663 - val_accuracy: 0.7396\n",
      "Epoch 11/20\n",
      "22/22 [==============================] - 68s 3s/step - loss: 0.4215 - accuracy: 0.8750 - val_loss: 0.7055 - val_accuracy: 0.7396\n",
      "Epoch 12/20\n",
      "22/22 [==============================] - 65s 3s/step - loss: 0.4227 - accuracy: 0.8668 - val_loss: 0.7538 - val_accuracy: 0.6755\n",
      "Epoch 13/20\n",
      "22/22 [==============================] - 61s 3s/step - loss: 0.3742 - accuracy: 0.8793 - val_loss: 0.6683 - val_accuracy: 0.7396\n",
      "Epoch 14/20\n",
      "22/22 [==============================] - 59s 3s/step - loss: 0.3337 - accuracy: 0.8878 - val_loss: 0.7710 - val_accuracy: 0.7374\n",
      "Epoch 15/20\n",
      "22/22 [==============================] - 58s 3s/step - loss: 0.2966 - accuracy: 0.9048 - val_loss: 0.6967 - val_accuracy: 0.6791\n",
      "Epoch 16/20\n",
      "22/22 [==============================] - 54s 3s/step - loss: 0.2567 - accuracy: 0.9258 - val_loss: 0.6201 - val_accuracy: 0.7094\n",
      "Epoch 17/20\n",
      "22/22 [==============================] - 59s 3s/step - loss: 0.2740 - accuracy: 0.9109 - val_loss: 0.6314 - val_accuracy: 0.6935\n",
      "Epoch 18/20\n",
      "22/22 [==============================] - 58s 3s/step - loss: 0.2331 - accuracy: 0.9297 - val_loss: 0.6290 - val_accuracy: 0.7187\n",
      "Epoch 19/20\n",
      "22/22 [==============================] - 58s 3s/step - loss: 0.2036 - accuracy: 0.9393 - val_loss: 0.5368 - val_accuracy: 0.7813\n",
      "Epoch 20/20\n",
      "22/22 [==============================] - 57s 3s/step - loss: 0.1817 - accuracy: 0.9450 - val_loss: 0.5129 - val_accuracy: 0.7755\n"
     ]
    }
   ],
   "source": [
    "history = model.fit_generator(generator=training_batch_generator,\n",
    "                              validation_data=validation_batch_generator,\n",
    "                              epochs=20)"
   ],
   "metadata": {
    "collapsed": false,
    "pycharm": {
     "name": "#%%\n"
    }
   }
  },
  {
   "cell_type": "code",
   "execution_count": 40,
   "outputs": [
    {
     "data": {
      "text/plain": "<Figure size 640x480 with 2 Axes>",
      "image/png": "[encoded data removed]"
     },
     "metadata": {},
     "output_type": "display_data"
    }
   ],
   "source": [
    "# plot training curve\n",
    "plt.subplots_adjust(left=0.1,\n",
    "                    bottom=0.01,\n",
    "                    right=1.2,\n",
    "                    top=0.6,\n",
    "                    wspace=0.4,\n",
    "                    hspace=0.4)\n",
    "\n",
    "# metric\n",
    "plt.subplot(1, 2, 1)\n",
    "plt.plot(history.history['accuracy'])\n",
    "plt.plot(history.history['val_accuracy'])\n",
    "plt.title('model accuracy')\n",
    "plt.ylabel('accuracy')\n",
    "plt.xlabel('epoch')\n",
    "plt.legend(['train', 'test'], loc='upper left')\n",
    "\n",
    "# loss\n",
    "plt.subplot(1, 2, 2)\n",
    "plt.plot(history.history['loss'])\n",
    "plt.plot(history.history['val_loss'])\n",
    "plt.title('model loss')\n",
    "plt.ylabel('loss')\n",
    "plt.xlabel('epoch')\n",
    "plt.legend(['train', 'test'], loc='upper left')\n",
    "\n",
    "plt.show()"
   ],
   "metadata": {
    "collapsed": false,
    "pycharm": {
     "name": "#%%\n"
    }
   }
  },
  {
   "cell_type": "markdown",
   "source": [
    "# Evaluation"
   ],
   "metadata": {
    "collapsed": false
   }
  },
  {
   "cell_type": "code",
   "execution_count": 44,
   "outputs": [
    {
     "data": {
      "text/plain": "<Figure size 640x480 with 2 Axes>",
      "image/png": "[encoded data removed]"
     },
     "metadata": {},
     "output_type": "display_data"
    }
   ],
   "source": [
    "# predict on validation set\n",
    "plt.subplots_adjust(left=0.1,\n",
    "                    bottom=0.01,\n",
    "                    right=1.2,\n",
    "                    top=0.6,\n",
    "                    wspace=0.4,\n",
    "                    hspace=0.4)\n",
    "\n",
    "y_pred = model.predict(validation_batch_generator)\n",
    "plt.subplot(1, 2, 1)\n",
    "plt.hist(y_pred.reshape(-1))\n",
    "plt.title('P(y == 1)')\n",
    "plt.vlines(x=0.5, ymin=0, ymax=500, color='red')\n",
    "\n",
    "y_pred = np.where(y_pred > 0.5, 1, 0) # as labels\n",
    "plt.subplot(1, 2, 2)\n",
    "plt.hist(y_pred.reshape(-1))\n",
    "plt.title('Labels')\n",
    "\n",
    "plt.show()"
   ],
   "metadata": {
    "collapsed": false,
    "pycharm": {
     "name": "#%%\n"
    }
   }
  },
  {
   "cell_type": "code",
   "execution_count": 69,
   "outputs": [
    {
     "name": "stdout",
     "output_type": "stream",
     "text": [
      "Test set size: 399\n"
     ]
    }
   ],
   "source": [
    "# load test data\n",
    "N_test = sum([1 for p in os.listdir(test_path) if p[:14] == 'feature_vector'])\n",
    "print(f'Test set size: {N_test}')\n",
    "\n",
    "test_batch_generator = DataGenerator(data_path=test_path, indices_dataset=[i for i in range(N_test)], batch_size=1)\n",
    "y_test = np.empty(0)\n",
    "for batch_index in range(len(test_batch_generator)):\n",
    "    _, y_test_batch = test_batch_generator.__getitem__(batch_index)\n",
    "    y_test = np.append(y_test, y_test_batch)"
   ],
   "metadata": {
    "collapsed": false,
    "pycharm": {
     "name": "#%%\n"
    }
   }
  },
  {
   "cell_type": "code",
   "execution_count": 77,
   "outputs": [
    {
     "data": {
      "text/plain": "array([0., 0., 1., 0., 0., 0., 0., 0., 1., 1., 1., 1., 1., 1., 0., 1., 1.,\n       1., 1., 1., 1., 0., 1., 0., 1., 1., 0., 1., 1., 1., 1., 0., 0., 1.,\n       0., 1., 1., 1., 1., 1., 1., 1., 1., 1., 1., 0., 1., 1., 1., 1., 1.,\n       0., 1., 1., 0., 1., 1., 1., 1., 1., 1., 1., 1., 1., 0., 1., 1., 1.,\n       1., 1., 1., 1., 1., 1., 1., 1., 0., 1., 0., 1., 0., 1., 0., 1., 1.,\n       0., 1., 1., 1., 1., 1., 1., 1., 1., 1., 1., 1., 1., 1., 1., 0., 0.,\n       1., 1., 1., 1., 0., 1., 0., 1., 1., 1., 1., 0., 0., 0., 1., 0., 1.,\n       0., 1., 0., 0., 1., 0., 1., 1., 1., 0., 1., 0., 1., 1., 1., 1., 0.,\n       0., 1., 1., 0., 0., 1., 1., 0., 1., 1., 1., 1., 0., 1., 1., 1., 1.,\n       0., 1., 1., 0., 0., 1., 1., 1., 1., 1., 1., 1., 1., 1., 0., 1., 0.,\n       1., 1., 1., 1., 0., 0., 1., 0., 0., 1., 1., 1., 1., 1., 1., 0., 0.,\n       1., 0., 1., 1., 0., 1., 1., 0., 1., 0., 0., 0., 1., 1., 1., 1., 0.,\n       1., 1., 1., 1., 1., 0., 0., 1., 1., 1., 0., 0., 0., 1., 1., 0., 1.,\n       1., 1., 1., 1., 1., 0., 1., 1., 1., 1., 1., 1., 1., 1., 0., 1., 1.,\n       1., 1., 1., 1., 1., 1., 1., 0., 1., 1., 1., 0., 0., 1., 1., 0., 1.,\n       1., 1., 0., 1., 1., 1., 1., 1., 1., 1., 0., 1., 0., 1., 0., 0., 1.,\n       1., 1., 1., 1., 0., 1., 1., 1., 1., 0., 1., 1., 1., 0., 1., 1., 1.,\n       0., 1., 0., 1., 0., 1., 1., 1., 1., 0., 0., 1., 0., 0., 1., 1., 1.,\n       0., 1., 0., 1., 0., 1., 0., 1., 1., 1., 1., 1., 1., 1., 0., 0., 0.,\n       0., 1., 1., 1., 1., 1., 1., 1., 0., 1., 0., 1., 1., 0., 1., 0., 0.,\n       1., 1., 1., 1., 1., 1., 0., 1., 1., 1., 1., 1., 1., 1., 1., 1., 1.,\n       1., 1., 1., 0., 0., 0., 0., 1., 1., 0., 1., 1., 1., 0., 1., 0., 1.,\n       1., 0., 1., 1., 1., 0., 1., 1., 0., 1., 1., 0., 1., 1., 1., 1., 1.,\n       1., 1., 1., 1., 1., 0., 1., 0.])"
     },
     "execution_count": 77,
     "metadata": {},
     "output_type": "execute_result"
    }
   ],
   "source": [
    "y_test"
   ],
   "metadata": {
    "collapsed": false,
    "pycharm": {
     "name": "#%%\n"
    }
   }
  },
  {
   "cell_type": "code",
   "execution_count": 82,
   "outputs": [
    {
     "name": "stdout",
     "output_type": "stream",
     "text": [
      "accuracy: 0.6842105263157895\n",
      "balanced accuracy:0.5116809552969994\n",
      "f1: 0.8055555555555556\n",
      "recall: 0.9190140845070423\n",
      "precision: 0.717032967032967\n"
     ]
    },
    {
     "data": {
      "text/plain": "<Figure size 640x480 with 2 Axes>",
      "image/png": "[encoded data removed]"
     },
     "metadata": {},
     "output_type": "display_data"
    }
   ],
   "source": [
    "# classification metrics\n",
    "# predict\n",
    "y_test_pred = np.round(model.predict(test_batch_generator))\n",
    "\n",
    "# evaluate\n",
    "accuracy = accuracy_score(y_pred=y_test_pred, y_true=y_test)\n",
    "balanced_accuracy = balanced_accuracy_score(y_pred=y_test_pred, y_true=y_test)\n",
    "f1 = f1_score(y_pred=y_test_pred, y_true=y_test)\n",
    "recall = recall_score(y_pred=y_test_pred, y_true=y_test)\n",
    "precision = precision_score(y_pred=y_test_pred, y_true=y_test)\n",
    "confusion = confusion_matrix(y_pred=y_test_pred, y_true=y_test)\n",
    "ConfusionMatrixDisplay(confusion_matrix=confusion, display_labels=[False, True]).plot(cmap=plt.cm.Blues)\n",
    "plt.title('Physical fatigue')\n",
    "\n",
    "print(f'accuracy: {accuracy}\\n'\n",
    "      f'balanced accuracy:{balanced_accuracy}\\n'\n",
    "      f'f1: {f1}\\n'\n",
    "      f'recall: {recall}\\n'\n",
    "      f'precision: {precision}')"
   ],
   "metadata": {
    "collapsed": false,
    "pycharm": {
     "name": "#%%\n"
    }
   }
  },
  {
   "cell_type": "markdown",
   "source": [],
   "metadata": {
    "collapsed": false
   }
  }
 ],
 "metadata": {
  "kernelspec": {
   "display_name": "Python 3",
   "language": "python",
   "name": "python3"
  },
  "language_info": {
   "codemirror_mode": {
    "name": "ipython",
    "version": 2
   },
   "file_extension": ".py",
   "mimetype": "text/x-python",
   "name": "python",
   "nbconvert_exporter": "python",
   "pygments_lexer": "ipython2",
   "version": "2.7.6"
  }
 },
 "nbformat": 4,
 "nbformat_minor": 0
}