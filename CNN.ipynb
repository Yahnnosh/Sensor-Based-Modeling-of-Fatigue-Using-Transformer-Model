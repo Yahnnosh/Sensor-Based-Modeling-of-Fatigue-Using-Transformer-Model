{
 "cells": [
  {
   "cell_type": "code",
   "execution_count": 1,
   "metadata": {},
   "outputs": [],
   "source": [
    "import numpy as np\n",
    "import json\n",
    "import warnings\n",
    "import tensorflow as tf\n",
    "from tensorflow.keras import models, Model\n",
    "from tensorflow.keras.applications import MobileNetV2\n",
    "from tensorflow.keras.layers import Dense, Conv2D, Flatten, MaxPool2D, BatchNormalization, Dropout, Input, Concatenate, GlobalAvgPool2D\n",
    "from tensorflow.keras.optimizers import Adam\n",
    "from tensorflow.keras.utils import Sequence\n",
    "import json\n",
    "from evaluator import *"
   ]
  },
  {
   "cell_type": "code",
   "execution_count": 2,
   "outputs": [],
   "source": [
    "VARIABLES = ['ActivityCounts', 'Barometer', 'BloodPerfusion',\n",
    "             'BloodPulseWave', 'EnergyExpenditure', 'GalvanicSkinResponse', 'HR',\n",
    "             'HRV', 'RESP', 'Steps', 'SkinTemperature', 'ActivityClass']"
   ],
   "metadata": {
    "collapsed": false
   }
  },
  {
   "cell_type": "code",
   "execution_count": 3,
   "outputs": [],
   "source": [
    "GRAYSCALE = False # grayscale or rgb"
   ],
   "metadata": {
    "collapsed": false
   }
  },
  {
   "cell_type": "markdown",
   "source": [
    "# Import data"
   ],
   "metadata": {
    "collapsed": false
   }
  },
  {
   "cell_type": "code",
   "execution_count": 4,
   "outputs": [],
   "source": [
    "# file path to data folder\n",
    "path = './Output'"
   ],
   "metadata": {
    "collapsed": false
   }
  },
  {
   "cell_type": "code",
   "execution_count": 5,
   "outputs": [
    {
     "name": "stdout",
     "output_type": "stream",
     "text": [
      "613 370 497 30\n"
     ]
    }
   ],
   "source": [
    "# dimensions\n",
    "N, HEIGHT, WIDTH, CHANNELS = sum([1 for p in os.listdir(path) if (p[:14] == 'feature_vector' and p[:19] != 'feature_vector_stat')]), \\\n",
    "                             *np.load(path + '/feature_vector0.npy').shape\n",
    "CHANNELS = len(VARIABLES) if GRAYSCALE else CHANNELS # reduce channels for grayscale\n",
    "\n",
    "print(N, HEIGHT, WIDTH, CHANNELS)"
   ],
   "metadata": {
    "collapsed": false
   }
  },
  {
   "cell_type": "markdown",
   "source": [
    "Metadata (subjectID etc.)"
   ],
   "metadata": {
    "collapsed": false
   }
  },
  {
   "cell_type": "code",
   "execution_count": 6,
   "outputs": [],
   "source": [
    "with open(path + '/metadata.txt') as f:\n",
    "    metadata = f.read()\n",
    "\n",
    "metadata = json.loads(metadata.replace('\\'', '\\\"').replace('False', 'false').replace('True', 'true')) # doesn't accept other chars"
   ],
   "metadata": {
    "collapsed": false
   }
  },
  {
   "cell_type": "code",
   "execution_count": 7,
   "outputs": [],
   "source": [
    "subjects = [meta['subjectID'] for meta in metadata]"
   ],
   "metadata": {
    "collapsed": false
   }
  },
  {
   "cell_type": "markdown",
   "source": [
    "# CNN"
   ],
   "metadata": {
    "collapsed": false
   }
  },
  {
   "cell_type": "markdown",
   "source": [
    "Addditional functions"
   ],
   "metadata": {
    "collapsed": false
   }
  },
  {
   "cell_type": "code",
   "execution_count": 8,
   "outputs": [],
   "source": [
    "# image-wise transformer\n",
    "def rgb2gray(rgb):\n",
    "    \"\"\"greyscale = 0.2989 * red + 0.5870 * green + 0.1140 * blue\"\"\"\n",
    "    return np.dot(rgb[:, :, :3], [0.2989, 0.5870, 0.1140])\n",
    "\n",
    "# loss function\n",
    "def weighted_cross_entropy(weight):\n",
    "    def weighted_cross_entropy_with_logits(labels, logits):\n",
    "        loss = tf.nn.weighted_cross_entropy_with_logits(\n",
    "            labels, logits, weight\n",
    "        )\n",
    "        return loss\n",
    "    return weighted_cross_entropy_with_logits\n",
    "\n",
    "# weight (imbalanced classes)\n",
    "def check_imbalance(path_to_labels, indices):\n",
    "    \"\"\"Returns indices of positives/negatives\"\"\"\n",
    "    y = np.empty((len(indices), 2), dtype=int)\n",
    "    for i, index in enumerate(indices):\n",
    "        y[i, ] = np.load(path_to_labels + f'/labels{index}.npy', allow_pickle=True)\n",
    "\n",
    "    positives = np.where(y[:, variable] == 1)[0] # TODO: for now just one variable\n",
    "    negatives = np.where(y[:, variable] == 0)[0] # TODO: for now just one variable\n",
    "\n",
    "    return np.array(indices)[positives], np.array(indices)[negatives]\n",
    "\n",
    "def get_weighting_factor(path, train_set_indices):\n",
    "    positives, negatives = check_imbalance(path, train_set_indices)\n",
    "    sample_weight = len(negatives) / len(positives) # for weighted cross-entropy\n",
    "    return sample_weight"
   ],
   "metadata": {
    "collapsed": false
   }
  },
  {
   "cell_type": "markdown",
   "source": [
    "Dataloader (dataset with images too large)"
   ],
   "metadata": {
    "collapsed": false
   }
  },
  {
   "cell_type": "code",
   "execution_count": 9,
   "outputs": [],
   "source": [
    "class DataGenerator(Sequence):\n",
    "\n",
    "    def __init__(self, data_path: str, indices_dataset: list, batch_size=32, dim=(HEIGHT, WIDTH), n_channels=CHANNELS, shuffle=True):\n",
    "        self.data_path = data_path # path to full dataset\n",
    "        self.dim = dim # image dimension\n",
    "        self.batch_size = batch_size\n",
    "        self.indices_dataset = indices_dataset # indices of full dataset (different for train/validation/test set)\n",
    "        self.n_channels = n_channels\n",
    "        self.shuffle = shuffle\n",
    "\n",
    "        self.on_epoch_end() # shuffle data for each epoch\n",
    "\n",
    "    def on_epoch_end(self):\n",
    "        \"\"\"\n",
    "        Shuffle data for each epoch\n",
    "        \"\"\"\n",
    "        if self.shuffle:\n",
    "            np.random.shuffle(self.indices_dataset)\n",
    "\n",
    "    def __data_generation(self, indices):\n",
    "        \"\"\"\n",
    "        Loads and returns datapoints[indices]\n",
    "        \"\"\"\n",
    "        # init\n",
    "        X = np.empty((self.batch_size, *self.dim, self.n_channels))\n",
    "        y = np.empty(self.batch_size, dtype=float) # TODO: int for non-logits\n",
    "\n",
    "        # load individual datapoints\n",
    "        for i, index in enumerate(indices):\n",
    "            images = np.load(self.data_path + f'/feature_vector{index}.npy', allow_pickle=True)\n",
    "            if GRAYSCALE:\n",
    "                images_gray = np.empty((HEIGHT, WIDTH, self.n_channels))\n",
    "                for j in range(len(VARIABLES)):\n",
    "                    image_rgb = images[:, :, (3 * j): (3 * (j + 1))]\n",
    "                    image_gray = rgb2gray(image_rgb)\n",
    "                    images_gray[:, :, j] = image_gray\n",
    "                images = images_gray\n",
    "\n",
    "            X[i, ] = images\n",
    "            y[i] = np.load(self.data_path + f'/labels{index}.npy', allow_pickle=True)[variable] # TODO: for now just one variable\n",
    "\n",
    "        return X, y\n",
    "\n",
    "    def __len__(self):\n",
    "        \"\"\"\n",
    "        Number of batches per epoch\n",
    "        \"\"\"\n",
    "        return int(np.floor(len(self.indices_dataset) / self.batch_size))\n",
    "\n",
    "    def __getitem__(self, index):\n",
    "        \"\"\"\n",
    "        Generates batch[index]\n",
    "        \"\"\"\n",
    "        # calculate indices of batch\n",
    "        indices = self.indices_dataset[index * self.batch_size:(index + 1) * self.batch_size]\n",
    "\n",
    "        # generate batch\n",
    "        X, y = self.__data_generation(indices)\n",
    "\n",
    "        return X, y"
   ],
   "metadata": {
    "collapsed": false
   }
  },
  {
   "cell_type": "markdown",
   "source": [
    "Architecture"
   ],
   "metadata": {
    "collapsed": false
   }
  },
  {
   "cell_type": "code",
   "execution_count": 10,
   "outputs": [],
   "source": [
    "# TODO: make possible for grayscale\n",
    "class ConvNet(tf.keras.Model):\n",
    "\n",
    "    def __init__(self, name='cnn', **kwargs):\n",
    "        super(ConvNet, self).__init__(name, **kwargs)\n",
    "\n",
    "        self.in_shape = (HEIGHT, WIDTH, CHANNELS)\n",
    "        self.in_shape_mobilenet = (HEIGHT, WIDTH, 3)\n",
    "\n",
    "        # MobileNetV2 embedding\n",
    "        self.mobilenet = MobileNetV2(input_shape=self.in_shape_mobilenet, weights='imagenet', include_top=False)\n",
    "        self.mobilenet._name = 'mobilenet'\n",
    "        self.mobilenet.trainable = False\n",
    "        self.finetuning = False\n",
    "        self.out_shape_mobilenet = self.mobilenet.layers[-1].output_shape # for one spectrogram\n",
    "\n",
    "        # Concatenation\n",
    "        self.concat = Concatenate(name='concat')\n",
    "\n",
    "        # Global pooling\n",
    "        self.pool = GlobalAvgPool2D(name='global_avg_pool')\n",
    "\n",
    "        # TODO: more sophisticated dense (dropout, regularizer, init., ...)\n",
    "        # Fully-connected network\n",
    "        self.flatten = Flatten(name='flatten', input_shape=(self.out_shape_mobilenet * (CHANNELS // 3), ))\n",
    "        self.dense = Dense(1, name='dense') # keep logits\n",
    "        self.out_shape = 1\n",
    "\n",
    "        # build graph\n",
    "        self.build_graph()\n",
    "\n",
    "    def build_graph(self):\n",
    "        self.build(input_shape=(None, *self.in_shape))\n",
    "        x = Input(shape=self.in_shape)\n",
    "        Model(inputs=[x], outputs=self.call(x))\n",
    "\n",
    "    def set_finetuning(self, mode=True):\n",
    "        self.finetuning = mode\n",
    "        self.mobilenet.trainable = mode\n",
    "\n",
    "        for layers in self.mobilenet.layers:\n",
    "            layers.trainable = False\n",
    "\n",
    "        # \"activate\" last conv layer of MobileNet\n",
    "        self.mobilenet.layers[-3].trainable = mode\n",
    "        self.mobilenet.layers[-2].trainable = mode\n",
    "\n",
    "    def call(self, inputs):\n",
    "        \"\"\"\n",
    "        Model predictions (logits)\n",
    "        :param inputs: all spectrograms of shape (HEIGHT, WIDTH, CHANNELS)\n",
    "        :return: class prediction (logits)\n",
    "        \"\"\"\n",
    "        # MobileNetV2 embeddings\n",
    "        x = [self.mobilenet(inputs[..., i:i+3], training=self.finetuning) for i in range(0, CHANNELS, 3)]\n",
    "\n",
    "        # Concatenation\n",
    "        x = self.concat(x)\n",
    "\n",
    "        # Global pooling\n",
    "        x = self.pool(x)\n",
    "\n",
    "        # Fully-connected network\n",
    "        x = self.flatten(x)\n",
    "        x = self.dense(x)\n",
    "\n",
    "        return x"
   ],
   "metadata": {
    "collapsed": false
   }
  },
  {
   "cell_type": "markdown",
   "source": [
    "Model"
   ],
   "metadata": {
    "collapsed": false
   }
  },
  {
   "cell_type": "code",
   "execution_count": 11,
   "outputs": [],
   "source": [
    "class CNN:\n",
    "\n",
    "    def __init__(self, path, variable, epochs, learning_rate, batch_size):\n",
    "        self.model = ConvNet()\n",
    "        self.path = path\n",
    "        assert variable in (0, 1)\n",
    "        self.variable = variable\n",
    "        self.epochs = epochs\n",
    "        self.learning_rate = learning_rate\n",
    "        self.batch_size = batch_size\n",
    "        self.history = None\n",
    "        self.train_indices = None\n",
    "        self.test_indices = None\n",
    "\n",
    "    def fit(self, train_indices):\n",
    "        self.train_indices = train_indices\n",
    "\n",
    "        # training set\n",
    "        train_dataloader = DataGenerator(self.path, train_indices, batch_size=self.batch_size)\n",
    "\n",
    "        # weights for loss function\n",
    "        sample_weights = get_weighting_factor(self.path, train_indices)\n",
    "\n",
    "        # build model\n",
    "        self.model.compile(optimizer=Adam(learning_rate=self.learning_rate),\n",
    "                           loss=weighted_cross_entropy(sample_weights))\n",
    "\n",
    "        # training\n",
    "        self.history = self.model.fit_generator(generator=train_dataloader,\n",
    "                                                epochs=self.epochs)\n",
    "\n",
    "    def reset(self):\n",
    "        \"\"\"Resets model weights\"\"\"\n",
    "        self.model = ConvNet()\n",
    "\n",
    "    def predict(self, test_indices):\n",
    "        \"\"\"Predicts actual class labels (not logits/probability values!)\"\"\"\n",
    "        self.test_indices = test_indices\n",
    "\n",
    "        # TODO: make more efficient\n",
    "        # test set + predict\n",
    "        y_pred = np.empty(len(test_indices), dtype=float)\n",
    "\n",
    "        for i, index in enumerate(test_indices):\n",
    "            X_i = np.load(path + f'/feature_vector{index}.npy', allow_pickle=True)\n",
    "\n",
    "            X_i = tf.expand_dims(X_i, axis=0) # add \"batch dimension\"\n",
    "            logits_pred_i = self.model.predict(X_i)\n",
    "\n",
    "            y_pred[i] = logits_pred_i\n",
    "\n",
    "        y_probs = tf.math.sigmoid(y_pred) # logits to probs\n",
    "        y_pred = tf.round(y_probs) # probs to labels\n",
    "\n",
    "        return y_pred\n",
    "\n",
    "    def summary(self):\n",
    "        return self.model.summary()"
   ],
   "metadata": {
    "collapsed": false
   }
  },
  {
   "cell_type": "markdown",
   "source": [
    "# CV"
   ],
   "metadata": {
    "collapsed": false
   }
  },
  {
   "cell_type": "code",
   "execution_count": null,
   "outputs": [
    {
     "name": "stdout",
     "output_type": "stream",
     "text": [
      "WARNING:tensorflow:`input_shape` is undefined or non-square, or `rows` is not in [96, 128, 160, 192, 224]. Weights for input shape (224, 224) will be loaded as the default.\n",
      "Starting stratified group 5-fold for physical fatigue\n"
     ]
    },
    {
     "name": "stderr",
     "output_type": "stream",
     "text": [
      "  0%|          | 0/5 [00:00<?, ?it/s]"
     ]
    },
    {
     "name": "stdout",
     "output_type": "stream",
     "text": [
      "WARNING:tensorflow:`input_shape` is undefined or non-square, or `rows` is not in [96, 128, 160, 192, 224]. Weights for input shape (224, 224) will be loaded as the default.\n",
      "Epoch 1/10\n",
      "31/31 [==============================] - 54s 657ms/step - loss: 0.4965\n",
      "Epoch 2/10\n",
      "31/31 [==============================] - 20s 647ms/step - loss: 0.3856\n",
      "Epoch 3/10\n",
      "31/31 [==============================] - 20s 647ms/step - loss: 0.3576\n",
      "Epoch 4/10\n",
      "31/31 [==============================] - 20s 647ms/step - loss: 0.3236\n",
      "Epoch 5/10\n",
      "31/31 [==============================] - 20s 646ms/step - loss: 0.3477\n",
      "Epoch 6/10\n",
      "31/31 [==============================] - 20s 645ms/step - loss: 0.4547\n",
      "Epoch 7/10\n",
      "31/31 [==============================] - 20s 646ms/step - loss: 0.3263\n",
      "Epoch 8/10\n",
      "31/31 [==============================] - 20s 647ms/step - loss: 0.2906\n",
      "Epoch 9/10\n",
      "31/31 [==============================] - 20s 647ms/step - loss: 0.2592\n",
      "Epoch 10/10\n",
      "31/31 [==============================] - 20s 645ms/step - loss: 0.2524\n"
     ]
    },
    {
     "name": "stderr",
     "output_type": "stream",
     "text": [
      " Fold 1 F1: 0.8956603773584907:  20%|██        | 1/5 [04:31<18:06, 271.56s/it]"
     ]
    },
    {
     "name": "stdout",
     "output_type": "stream",
     "text": [
      "WARNING:tensorflow:`input_shape` is undefined or non-square, or `rows` is not in [96, 128, 160, 192, 224]. Weights for input shape (224, 224) will be loaded as the default.\n",
      "Epoch 1/10\n",
      "20/20 [==============================] - 36s 639ms/step - loss: 0.5994\n",
      "Epoch 2/10\n",
      "20/20 [==============================] - 13s 643ms/step - loss: 0.4429\n",
      "Epoch 3/10\n",
      "20/20 [==============================] - 13s 638ms/step - loss: 0.3469\n",
      "Epoch 4/10\n",
      "20/20 [==============================] - 13s 644ms/step - loss: 0.3033\n",
      "Epoch 5/10\n",
      "20/20 [==============================] - 13s 640ms/step - loss: 0.2902\n",
      "Epoch 6/10\n",
      "20/20 [==============================] - 13s 641ms/step - loss: 0.2813\n",
      "Epoch 7/10\n",
      "20/20 [==============================] - 13s 640ms/step - loss: 0.2577\n",
      "Epoch 8/10\n",
      "20/20 [==============================] - 13s 642ms/step - loss: 0.2460\n",
      "Epoch 9/10\n",
      "20/20 [==============================] - 13s 640ms/step - loss: 0.2387\n",
      "Epoch 10/10\n",
      "20/20 [==============================] - 13s 643ms/step - loss: 0.2487\n"
     ]
    },
    {
     "name": "stderr",
     "output_type": "stream",
     "text": [
      " Fold 2 F1: 0.6994500161759948:  40%|████      | 2/5 [08:05<11:52, 237.45s/it]"
     ]
    },
    {
     "name": "stdout",
     "output_type": "stream",
     "text": [
      "WARNING:tensorflow:`input_shape` is undefined or non-square, or `rows` is not in [96, 128, 160, 192, 224]. Weights for input shape (224, 224) will be loaded as the default.\n",
      "Epoch 1/10\n",
      "31/31 [==============================] - 42s 638ms/step - loss: 0.4287\n",
      "Epoch 2/10\n",
      "31/31 [==============================] - 20s 638ms/step - loss: 0.3374\n",
      "Epoch 3/10\n",
      "31/31 [==============================] - 20s 637ms/step - loss: 0.3190\n",
      "Epoch 4/10\n",
      "31/31 [==============================] - 20s 637ms/step - loss: 0.2915\n",
      "Epoch 5/10\n",
      "31/31 [==============================] - 21s 664ms/step - loss: 0.2326\n",
      "Epoch 6/10\n",
      "31/31 [==============================] - 20s 637ms/step - loss: 0.2390\n",
      "Epoch 7/10\n",
      "31/31 [==============================] - 20s 638ms/step - loss: 0.2058\n",
      "Epoch 8/10\n",
      "31/31 [==============================] - 20s 639ms/step - loss: 0.1814\n",
      "Epoch 9/10\n",
      "31/31 [==============================] - 20s 638ms/step - loss: 0.1992\n",
      "Epoch 10/10\n",
      "31/31 [==============================] - 20s 639ms/step - loss: 0.1570\n"
     ]
    },
    {
     "name": "stderr",
     "output_type": "stream",
     "text": [
      " Fold 3 F1: 0.49410232440891955:  60%|██████    | 3/5 [12:22<08:13, 246.75s/it]"
     ]
    },
    {
     "name": "stdout",
     "output_type": "stream",
     "text": [
      "WARNING:tensorflow:`input_shape` is undefined or non-square, or `rows` is not in [96, 128, 160, 192, 224]. Weights for input shape (224, 224) will be loaded as the default.\n",
      "Epoch 1/10\n",
      "37/37 [==============================] - 47s 653ms/step - loss: 0.5749\n",
      "Epoch 2/10\n",
      "37/37 [==============================] - 24s 652ms/step - loss: 0.4011\n",
      "Epoch 3/10\n",
      "37/37 [==============================] - 24s 651ms/step - loss: 0.3306\n",
      "Epoch 4/10\n",
      "37/37 [==============================] - 25s 654ms/step - loss: 0.2938\n",
      "Epoch 5/10\n",
      "37/37 [==============================] - 25s 654ms/step - loss: 0.3108\n",
      "Epoch 6/10\n",
      "37/37 [==============================] - 24s 652ms/step - loss: 0.2908\n",
      "Epoch 7/10\n",
      "37/37 [==============================] - 24s 652ms/step - loss: 0.2674\n",
      "Epoch 8/10\n",
      "37/37 [==============================] - 25s 654ms/step - loss: 0.2722\n",
      "Epoch 9/10\n",
      "37/37 [==============================] - 24s 652ms/step - loss: 0.2145\n",
      "Epoch 10/10\n",
      "37/37 [==============================] - 24s 653ms/step - loss: 0.2088\n"
     ]
    },
    {
     "name": "stderr",
     "output_type": "stream",
     "text": [
      " Fold 4 F1: 0.9090909090909091:  80%|████████  | 4/5 [17:06<04:21, 261.42s/it] "
     ]
    },
    {
     "name": "stdout",
     "output_type": "stream",
     "text": [
      "WARNING:tensorflow:`input_shape` is undefined or non-square, or `rows` is not in [96, 128, 160, 192, 224]. Weights for input shape (224, 224) will be loaded as the default.\n",
      "Epoch 1/10\n",
      "32/32 [==============================] - 43s 643ms/step - loss: 0.4226\n",
      "Epoch 2/10\n",
      "32/32 [==============================] - 21s 644ms/step - loss: 0.3477\n",
      "Epoch 3/10\n",
      "32/32 [==============================] - 21s 643ms/step - loss: 0.2866\n",
      "Epoch 4/10\n",
      "32/32 [==============================] - 21s 643ms/step - loss: 0.2808\n",
      "Epoch 5/10\n",
      "32/32 [==============================] - 21s 645ms/step - loss: 0.2468\n",
      "Epoch 6/10\n",
      "32/32 [==============================] - 21s 645ms/step - loss: 0.2228\n",
      "Epoch 7/10\n",
      "32/32 [==============================] - 21s 649ms/step - loss: 0.2110\n",
      "Epoch 8/10\n",
      "32/32 [==============================] - 21s 650ms/step - loss: 0.2024\n",
      "Epoch 9/10\n",
      "32/32 [==============================] - 21s 643ms/step - loss: 0.2514\n",
      "Epoch 10/10\n",
      "32/32 [==============================] - 21s 655ms/step - loss: 0.1902\n"
     ]
    },
    {
     "name": "stderr",
     "output_type": "stream",
     "text": [
      " Fold 5 F1: 0.5937996031746031: 100%|██████████| 5/5 [21:31<00:00, 258.26s/it]\n"
     ]
    },
    {
     "name": "stdout",
     "output_type": "stream",
     "text": [
      "Performance model:\n",
      " accuracy: 0.732 +- 0.162 \n",
      "\n",
      " balanced_accuracy: 0.596 +- 0.166 \n",
      "\n",
      " f1: 0.718 +- 0.164 \n",
      "\n",
      " recall: 0.732 +- 0.162 \n",
      "\n",
      " precision: 0.735 +- 0.158 \n",
      "\n",
      "Starting leave-one-subject-out for physical fatigue\n"
     ]
    },
    {
     "name": "stderr",
     "output_type": "stream",
     "text": [
      "  0%|          | 0/27 [00:00<?, ?it/s]"
     ]
    },
    {
     "name": "stdout",
     "output_type": "stream",
     "text": [
      "WARNING:tensorflow:`input_shape` is undefined or non-square, or `rows` is not in [96, 128, 160, 192, 224]. Weights for input shape (224, 224) will be loaded as the default.\n",
      "Epoch 1/10\n",
      "37/37 [==============================] - 51s 646ms/step - loss: 0.5483\n",
      "Epoch 2/10\n",
      "37/37 [==============================] - 24s 640ms/step - loss: 0.3384\n",
      "Epoch 3/10\n",
      "37/37 [==============================] - 24s 639ms/step - loss: 0.3473\n",
      "Epoch 4/10\n",
      "37/37 [==============================] - 24s 639ms/step - loss: 0.3191\n",
      "Epoch 5/10\n",
      "37/37 [==============================] - 24s 639ms/step - loss: 0.2531\n",
      "Epoch 6/10\n",
      "37/37 [==============================] - 24s 649ms/step - loss: 0.2431\n",
      "Epoch 7/10\n",
      "37/37 [==============================] - 24s 640ms/step - loss: 0.2556\n",
      "Epoch 8/10\n",
      "37/37 [==============================] - 24s 643ms/step - loss: 0.2237\n",
      "Epoch 9/10\n",
      "37/37 [==============================] - 24s 639ms/step - loss: 0.2021\n",
      "Epoch 10/10\n",
      "37/37 [==============================] - 24s 639ms/step - loss: 0.1985\n"
     ]
    },
    {
     "name": "stderr",
     "output_type": "stream",
     "text": [
      " Fold 1 F1: 0.898989898989899:   4%|▎         | 1/27 [04:43<2:02:58, 283.79s/it]"
     ]
    },
    {
     "name": "stdout",
     "output_type": "stream",
     "text": [
      "WARNING:tensorflow:`input_shape` is undefined or non-square, or `rows` is not in [96, 128, 160, 192, 224]. Weights for input shape (224, 224) will be loaded as the default.\n",
      "Epoch 1/10\n",
      "38/38 [==============================] - 48s 639ms/step - loss: 0.4377\n",
      "Epoch 2/10\n",
      "38/38 [==============================] - 25s 637ms/step - loss: 0.4057\n",
      "Epoch 3/10\n",
      "38/38 [==============================] - 25s 637ms/step - loss: 0.3141\n",
      "Epoch 4/10\n",
      "38/38 [==============================] - 25s 636ms/step - loss: 0.2714\n",
      "Epoch 5/10\n",
      "38/38 [==============================] - 25s 638ms/step - loss: 0.2980\n",
      "Epoch 6/10\n",
      "38/38 [==============================] - 25s 640ms/step - loss: 0.2415\n",
      "Epoch 7/10\n",
      "38/38 [==============================] - 25s 637ms/step - loss: 0.2254\n",
      "Epoch 8/10\n",
      "38/38 [==============================] - 25s 637ms/step - loss: 0.2179\n",
      "Epoch 9/10\n",
      "38/38 [==============================] - 25s 637ms/step - loss: 0.2001\n",
      "Epoch 10/10\n",
      "38/38 [==============================] - 25s 639ms/step - loss: 0.2452\n"
     ]
    },
    {
     "name": "stderr",
     "output_type": "stream",
     "text": [
      " Fold 2 F1: 1.0:   7%|▋         | 2/27 [09:26<1:58:04, 283.37s/it]              "
     ]
    },
    {
     "name": "stdout",
     "output_type": "stream",
     "text": [
      "WARNING:tensorflow:`input_shape` is undefined or non-square, or `rows` is not in [96, 128, 160, 192, 224]. Weights for input shape (224, 224) will be loaded as the default.\n",
      "Epoch 1/10\n",
      "37/37 [==============================] - 47s 646ms/step - loss: 0.4356\n",
      "Epoch 2/10\n",
      "37/37 [==============================] - 24s 646ms/step - loss: 0.3527\n",
      "Epoch 3/10\n",
      "37/37 [==============================] - 24s 647ms/step - loss: 0.3190\n",
      "Epoch 4/10\n",
      "37/37 [==============================] - 24s 647ms/step - loss: 0.2760\n",
      "Epoch 5/10\n",
      "37/37 [==============================] - 24s 646ms/step - loss: 0.2641\n",
      "Epoch 6/10\n",
      "37/37 [==============================] - 24s 643ms/step - loss: 0.2496\n",
      "Epoch 7/10\n",
      "37/37 [==============================] - 24s 644ms/step - loss: 0.2813\n",
      "Epoch 8/10\n",
      "37/37 [==============================] - 24s 647ms/step - loss: 0.2620\n",
      "Epoch 9/10\n",
      "37/37 [==============================] - 24s 648ms/step - loss: 0.1951\n",
      "Epoch 10/10\n",
      "37/37 [==============================] - 25s 662ms/step - loss: 0.1875\n"
     ]
    },
    {
     "name": "stderr",
     "output_type": "stream",
     "text": [
      " Fold 3 F1: 0.5333333333333333:  11%|█         | 3/27 [14:10<1:53:19, 283.30s/it]"
     ]
    },
    {
     "name": "stdout",
     "output_type": "stream",
     "text": [
      "WARNING:tensorflow:`input_shape` is undefined or non-square, or `rows` is not in [96, 128, 160, 192, 224]. Weights for input shape (224, 224) will be loaded as the default.\n",
      "Epoch 1/10\n",
      "37/37 [==============================] - 49s 648ms/step - loss: 0.5970\n",
      "Epoch 2/10\n",
      "37/37 [==============================] - 24s 644ms/step - loss: 0.4161\n",
      "Epoch 3/10\n",
      "37/37 [==============================] - 24s 646ms/step - loss: 0.3171\n",
      "Epoch 4/10\n",
      "37/37 [==============================] - 24s 646ms/step - loss: 0.2865\n",
      "Epoch 5/10\n",
      "37/37 [==============================] - 24s 646ms/step - loss: 0.2665\n",
      "Epoch 6/10\n",
      "37/37 [==============================] - 24s 646ms/step - loss: 0.2621\n",
      "Epoch 7/10\n",
      "37/37 [==============================] - 24s 647ms/step - loss: 0.2834\n",
      "Epoch 8/10\n",
      "37/37 [==============================] - 24s 645ms/step - loss: 0.2110\n",
      "Epoch 9/10\n",
      "37/37 [==============================] - 24s 648ms/step - loss: 0.2151\n",
      "Epoch 10/10\n",
      "37/37 [==============================] - 24s 644ms/step - loss: 0.2371\n"
     ]
    },
    {
     "name": "stderr",
     "output_type": "stream",
     "text": [
      " Fold 4 F1: 0.3977272727272728:  15%|█▍        | 4/27 [18:52<1:48:31, 283.11s/it]"
     ]
    },
    {
     "name": "stdout",
     "output_type": "stream",
     "text": [
      "WARNING:tensorflow:`input_shape` is undefined or non-square, or `rows` is not in [96, 128, 160, 192, 224]. Weights for input shape (224, 224) will be loaded as the default.\n",
      "Epoch 1/10\n",
      "37/37 [==============================] - 48s 647ms/step - loss: 0.4675\n",
      "Epoch 2/10\n",
      "37/37 [==============================] - 24s 646ms/step - loss: 0.3385\n",
      "Epoch 3/10\n",
      "37/37 [==============================] - 24s 647ms/step - loss: 0.3458\n",
      "Epoch 4/10\n",
      "37/37 [==============================] - 24s 649ms/step - loss: 0.3592\n",
      "Epoch 5/10\n",
      "37/37 [==============================] - 24s 647ms/step - loss: 0.3147\n",
      "Epoch 6/10\n",
      "37/37 [==============================] - 24s 646ms/step - loss: 0.2572\n",
      "Epoch 7/10\n",
      "37/37 [==============================] - 24s 647ms/step - loss: 0.2450\n",
      "Epoch 8/10\n",
      "37/37 [==============================] - 24s 647ms/step - loss: 0.2652\n",
      "Epoch 9/10\n",
      "37/37 [==============================] - 24s 647ms/step - loss: 0.2081\n",
      "Epoch 10/10\n",
      "37/37 [==============================] - 24s 647ms/step - loss: 0.1940\n"
     ]
    },
    {
     "name": "stderr",
     "output_type": "stream",
     "text": [
      " Fold 5 F1: 0.3636363636363636:  19%|█▊        | 5/27 [23:34<1:43:36, 282.57s/it]"
     ]
    },
    {
     "name": "stdout",
     "output_type": "stream",
     "text": [
      "WARNING:tensorflow:`input_shape` is undefined or non-square, or `rows` is not in [96, 128, 160, 192, 224]. Weights for input shape (224, 224) will be loaded as the default.\n",
      "Epoch 1/10\n",
      "37/37 [==============================] - 46s 628ms/step - loss: 0.4980\n",
      "Epoch 2/10\n",
      "37/37 [==============================] - 24s 626ms/step - loss: 0.3517\n",
      "Epoch 3/10\n",
      "37/37 [==============================] - 24s 627ms/step - loss: 0.3265\n",
      "Epoch 4/10\n",
      "37/37 [==============================] - 25s 674ms/step - loss: 0.3034\n",
      "Epoch 5/10\n",
      "37/37 [==============================] - 24s 643ms/step - loss: 0.3908\n",
      "Epoch 6/10\n",
      "37/37 [==============================] - 24s 642ms/step - loss: 0.2529\n",
      "Epoch 7/10\n",
      "37/37 [==============================] - 25s 670ms/step - loss: 0.2342\n",
      "Epoch 8/10\n",
      "37/37 [==============================] - 25s 661ms/step - loss: 0.2337\n",
      "Epoch 9/10\n",
      "37/37 [==============================] - 25s 669ms/step - loss: 0.2097\n",
      "Epoch 10/10\n",
      "37/37 [==============================] - 26s 684ms/step - loss: 0.2129\n"
     ]
    },
    {
     "name": "stderr",
     "output_type": "stream",
     "text": [
      " Fold 6 F1: 0.6:  22%|██▏       | 6/27 [28:20<1:39:19, 283.79s/it]               "
     ]
    },
    {
     "name": "stdout",
     "output_type": "stream",
     "text": [
      "WARNING:tensorflow:`input_shape` is undefined or non-square, or `rows` is not in [96, 128, 160, 192, 224]. Weights for input shape (224, 224) will be loaded as the default.\n",
      "Epoch 1/10\n",
      "38/38 [==============================] - 51s 659ms/step - loss: 0.4747\n",
      "Epoch 2/10\n",
      "38/38 [==============================] - 25s 662ms/step - loss: 0.3264\n",
      "Epoch 3/10\n",
      "38/38 [==============================] - 25s 657ms/step - loss: 0.2974\n",
      "Epoch 4/10\n",
      "38/38 [==============================] - 25s 659ms/step - loss: 0.3374\n",
      "Epoch 5/10\n",
      "38/38 [==============================] - 25s 657ms/step - loss: 0.2703\n",
      "Epoch 6/10\n",
      "38/38 [==============================] - 25s 661ms/step - loss: 0.2294\n",
      "Epoch 7/10\n",
      "38/38 [==============================] - 26s 662ms/step - loss: 0.2526\n",
      "Epoch 8/10\n",
      "38/38 [==============================] - 25s 656ms/step - loss: 0.2291\n",
      "Epoch 9/10\n",
      "38/38 [==============================] - 26s 664ms/step - loss: 0.2213\n",
      "Epoch 10/10\n",
      "38/38 [==============================] - 26s 684ms/step - loss: 0.2825\n"
     ]
    },
    {
     "name": "stderr",
     "output_type": "stream",
     "text": [
      " Fold 7 F1: 0.3333333333333333:  26%|██▌       | 7/27 [33:19<1:36:15, 288.78s/it]"
     ]
    },
    {
     "name": "stdout",
     "output_type": "stream",
     "text": [
      "WARNING:tensorflow:`input_shape` is undefined or non-square, or `rows` is not in [96, 128, 160, 192, 224]. Weights for input shape (224, 224) will be loaded as the default.\n",
      "Epoch 1/10\n",
      "37/37 [==============================] - 49s 670ms/step - loss: 0.4154\n",
      "Epoch 2/10\n",
      "37/37 [==============================] - 25s 654ms/step - loss: 0.3436\n",
      "Epoch 3/10\n",
      "37/37 [==============================] - 25s 671ms/step - loss: 0.3526\n",
      "Epoch 4/10\n",
      "37/37 [==============================] - 25s 666ms/step - loss: 0.2777\n",
      "Epoch 5/10\n",
      "37/37 [==============================] - 25s 660ms/step - loss: 0.2689\n",
      "Epoch 6/10\n",
      "37/37 [==============================] - 25s 657ms/step - loss: 0.2911\n",
      "Epoch 7/10\n",
      "37/37 [==============================] - 25s 659ms/step - loss: 0.2411\n",
      "Epoch 8/10\n",
      "37/37 [==============================] - 25s 652ms/step - loss: 0.2073\n",
      "Epoch 9/10\n",
      "37/37 [==============================] - 24s 650ms/step - loss: 0.2409\n",
      "Epoch 10/10\n",
      "37/37 [==============================] - 25s 654ms/step - loss: 0.2260\n"
     ]
    },
    {
     "name": "stderr",
     "output_type": "stream",
     "text": [
      " Fold 8 F1: 0.22892156862745097:  30%|██▉       | 8/27 [38:09<1:31:34, 289.17s/it]"
     ]
    },
    {
     "name": "stdout",
     "output_type": "stream",
     "text": [
      "WARNING:tensorflow:`input_shape` is undefined or non-square, or `rows` is not in [96, 128, 160, 192, 224]. Weights for input shape (224, 224) will be loaded as the default.\n",
      "Epoch 1/10\n",
      "37/37 [==============================] - 49s 666ms/step - loss: 0.3924\n",
      "Epoch 2/10\n",
      "37/37 [==============================] - 24s 647ms/step - loss: 0.4212\n",
      "Epoch 3/10\n",
      "37/37 [==============================] - 25s 655ms/step - loss: 0.3553\n",
      "Epoch 4/10\n",
      "37/37 [==============================] - 25s 659ms/step - loss: 0.3440\n",
      "Epoch 5/10\n",
      "37/37 [==============================] - 25s 655ms/step - loss: 0.2633\n",
      "Epoch 6/10\n",
      "37/37 [==============================] - 25s 665ms/step - loss: 0.2704\n",
      "Epoch 7/10\n",
      "37/37 [==============================] - 25s 664ms/step - loss: 0.3123\n",
      "Epoch 8/10\n",
      "37/37 [==============================] - 25s 667ms/step - loss: 0.2147\n",
      "Epoch 9/10\n",
      "37/37 [==============================] - 25s 670ms/step - loss: 0.2289\n",
      "Epoch 10/10\n",
      "37/37 [==============================] - 25s 670ms/step - loss: 0.2096\n"
     ]
    },
    {
     "name": "stderr",
     "output_type": "stream",
     "text": [
      " Fold 9 F1: 0.375:  33%|███▎      | 9/27 [43:00<1:26:53, 289.63s/it]              "
     ]
    },
    {
     "name": "stdout",
     "output_type": "stream",
     "text": [
      "WARNING:tensorflow:`input_shape` is undefined or non-square, or `rows` is not in [96, 128, 160, 192, 224]. Weights for input shape (224, 224) will be loaded as the default.\n",
      "Epoch 1/10\n",
      "37/37 [==============================] - 49s 663ms/step - loss: 0.5090\n",
      "Epoch 2/10\n",
      "37/37 [==============================] - 25s 673ms/step - loss: 0.3843\n",
      "Epoch 3/10\n",
      "37/37 [==============================] - 25s 657ms/step - loss: 0.3172\n",
      "Epoch 4/10\n",
      "37/37 [==============================] - 25s 655ms/step - loss: 0.2879\n",
      "Epoch 5/10\n",
      "37/37 [==============================] - 25s 655ms/step - loss: 0.2612\n",
      "Epoch 6/10\n",
      "37/37 [==============================] - 26s 682ms/step - loss: 0.2682\n",
      "Epoch 7/10\n",
      "37/37 [==============================] - 25s 663ms/step - loss: 0.2745\n",
      "Epoch 8/10\n",
      "37/37 [==============================] - 26s 680ms/step - loss: 0.2576\n",
      "Epoch 9/10\n",
      "37/37 [==============================] - 26s 683ms/step - loss: 0.2232\n",
      "Epoch 10/10\n",
      "37/37 [==============================] - 26s 686ms/step - loss: 0.2016\n"
     ]
    },
    {
     "name": "stderr",
     "output_type": "stream",
     "text": [
      " Fold 10 F1: 0.5252525252525253:  37%|███▋      | 10/27 [47:54<1:22:26, 290.94s/it]"
     ]
    },
    {
     "name": "stdout",
     "output_type": "stream",
     "text": [
      "WARNING:tensorflow:`input_shape` is undefined or non-square, or `rows` is not in [96, 128, 160, 192, 224]. Weights for input shape (224, 224) will be loaded as the default.\n",
      "Epoch 1/10\n",
      "37/37 [==============================] - 52s 680ms/step - loss: 0.4999\n",
      "Epoch 2/10\n",
      "37/37 [==============================] - 26s 701ms/step - loss: 0.3419\n",
      "Epoch 3/10\n",
      "37/37 [==============================] - 27s 708ms/step - loss: 0.3285\n",
      "Epoch 4/10\n",
      "37/37 [==============================] - 26s 680ms/step - loss: 0.3360\n",
      "Epoch 5/10\n",
      "37/37 [==============================] - 27s 716ms/step - loss: 0.2982\n",
      "Epoch 6/10\n",
      "37/37 [==============================] - 28s 732ms/step - loss: 0.2635\n",
      "Epoch 7/10\n",
      "37/37 [==============================] - 27s 717ms/step - loss: 0.2323\n",
      "Epoch 8/10\n",
      "37/37 [==============================] - 26s 682ms/step - loss: 0.2107\n",
      "Epoch 9/10\n",
      "37/37 [==============================] - 26s 689ms/step - loss: 0.2158\n",
      "Epoch 10/10\n",
      "37/37 [==============================] - 26s 692ms/step - loss: 0.2015\n"
     ]
    },
    {
     "name": "stderr",
     "output_type": "stream",
     "text": [
      " Fold 11 F1: 0.41391941391941395:  41%|████      | 11/27 [53:06<1:19:18, 297.39s/it]"
     ]
    },
    {
     "name": "stdout",
     "output_type": "stream",
     "text": [
      "WARNING:tensorflow:`input_shape` is undefined or non-square, or `rows` is not in [96, 128, 160, 192, 224]. Weights for input shape (224, 224) will be loaded as the default.\n",
      "Epoch 1/10\n",
      "37/37 [==============================] - 54s 675ms/step - loss: 0.4372\n",
      "Epoch 2/10\n",
      "37/37 [==============================] - 25s 675ms/step - loss: 0.3801\n",
      "Epoch 3/10\n",
      "37/37 [==============================] - 25s 665ms/step - loss: 0.3563\n",
      "Epoch 4/10\n",
      "37/37 [==============================] - 25s 659ms/step - loss: 0.3243\n",
      "Epoch 5/10\n",
      "37/37 [==============================] - 25s 663ms/step - loss: 0.3049\n",
      "Epoch 6/10\n",
      "37/37 [==============================] - 26s 694ms/step - loss: 0.2606\n",
      "Epoch 7/10\n",
      "37/37 [==============================] - 27s 705ms/step - loss: 0.2447\n",
      "Epoch 8/10\n",
      "37/37 [==============================] - 26s 674ms/step - loss: 0.2397\n",
      "Epoch 9/10\n",
      "37/37 [==============================] - 26s 684ms/step - loss: 0.2160\n",
      "Epoch 10/10\n",
      "37/37 [==============================] - 27s 706ms/step - loss: 0.2230\n"
     ]
    },
    {
     "name": "stderr",
     "output_type": "stream",
     "text": [
      " Fold 12 F1: 0.047619047619047616:  44%|████▍     | 12/27 [58:11<1:14:58, 299.87s/it]"
     ]
    },
    {
     "name": "stdout",
     "output_type": "stream",
     "text": [
      "WARNING:tensorflow:`input_shape` is undefined or non-square, or `rows` is not in [96, 128, 160, 192, 224]. Weights for input shape (224, 224) will be loaded as the default.\n",
      "Epoch 1/10\n",
      "37/37 [==============================] - 55s 720ms/step - loss: 0.5105\n",
      "Epoch 2/10\n",
      "37/37 [==============================] - 27s 733ms/step - loss: 0.3574\n",
      "Epoch 3/10\n",
      "37/37 [==============================] - 26s 693ms/step - loss: 0.3199\n",
      "Epoch 4/10\n",
      "37/37 [==============================] - 25s 667ms/step - loss: 0.2837\n",
      "Epoch 5/10\n",
      "37/37 [==============================] - 27s 711ms/step - loss: 0.2990\n",
      "Epoch 6/10\n",
      "37/37 [==============================] - 26s 693ms/step - loss: 0.2958\n",
      "Epoch 7/10\n",
      "37/37 [==============================] - 25s 664ms/step - loss: 0.2483\n",
      "Epoch 8/10\n",
      "37/37 [==============================] - 25s 664ms/step - loss: 0.2758\n",
      "Epoch 9/10\n",
      "37/37 [==============================] - 26s 691ms/step - loss: 0.2388\n",
      "Epoch 10/10\n",
      "37/37 [==============================] - 26s 702ms/step - loss: 0.2130\n"
     ]
    },
    {
     "name": "stderr",
     "output_type": "stream",
     "text": [
      " Fold 13 F1: 0.16666666666666666:  48%|████▊     | 13/27 [1:03:18<1:10:28, 302.06s/it] "
     ]
    },
    {
     "name": "stdout",
     "output_type": "stream",
     "text": [
      "WARNING:tensorflow:`input_shape` is undefined or non-square, or `rows` is not in [96, 128, 160, 192, 224]. Weights for input shape (224, 224) will be loaded as the default.\n",
      "Epoch 1/10\n",
      "37/37 [==============================] - 50s 667ms/step - loss: 0.4531\n",
      "Epoch 2/10\n",
      "37/37 [==============================] - 25s 674ms/step - loss: 0.4787\n",
      "Epoch 3/10\n",
      "37/37 [==============================] - 25s 655ms/step - loss: 0.3750\n",
      "Epoch 4/10\n",
      "37/37 [==============================] - 25s 664ms/step - loss: 0.2870\n",
      "Epoch 5/10\n",
      "37/37 [==============================] - 25s 670ms/step - loss: 0.2816\n",
      "Epoch 6/10\n",
      "37/37 [==============================] - 26s 689ms/step - loss: 0.2523\n",
      "Epoch 7/10\n",
      "37/37 [==============================] - 25s 666ms/step - loss: 0.2779\n",
      "Epoch 8/10\n",
      "37/37 [==============================] - 25s 669ms/step - loss: 0.2215\n",
      "Epoch 9/10\n",
      "37/37 [==============================] - 25s 664ms/step - loss: 0.2195\n",
      "Epoch 10/10\n",
      "37/37 [==============================] - 25s 669ms/step - loss: 0.2168\n"
     ]
    },
    {
     "name": "stderr",
     "output_type": "stream",
     "text": [
      " Fold 14 F1: 1.0:  52%|█████▏    | 14/27 [1:08:11<1:04:49, 299.21s/it]                "
     ]
    },
    {
     "name": "stdout",
     "output_type": "stream",
     "text": [
      "WARNING:tensorflow:`input_shape` is undefined or non-square, or `rows` is not in [96, 128, 160, 192, 224]. Weights for input shape (224, 224) will be loaded as the default.\n",
      "Epoch 1/10\n",
      "37/37 [==============================] - 49s 641ms/step - loss: 0.4783\n",
      "Epoch 2/10\n",
      "37/37 [==============================] - 24s 647ms/step - loss: 0.3422\n",
      "Epoch 3/10\n",
      "37/37 [==============================] - 24s 651ms/step - loss: 0.3254\n",
      "Epoch 4/10\n",
      "37/37 [==============================] - 24s 649ms/step - loss: 0.2636\n",
      "Epoch 5/10\n",
      "37/37 [==============================] - 24s 644ms/step - loss: 0.2914\n",
      "Epoch 6/10\n",
      "37/37 [==============================] - 25s 653ms/step - loss: 0.2447\n",
      "Epoch 7/10\n",
      "37/37 [==============================] - 25s 672ms/step - loss: 0.2313\n",
      "Epoch 8/10\n",
      "37/37 [==============================] - 24s 649ms/step - loss: 0.2309\n",
      "Epoch 9/10\n",
      "37/37 [==============================] - 24s 649ms/step - loss: 0.2263\n",
      "Epoch 10/10\n",
      "37/37 [==============================] - 25s 664ms/step - loss: 0.1835\n"
     ]
    },
    {
     "name": "stderr",
     "output_type": "stream",
     "text": [
      " Fold 15 F1: 0.534412955465587:  56%|█████▌    | 15/27 [1:13:01<59:16, 296.39s/it]"
     ]
    },
    {
     "name": "stdout",
     "output_type": "stream",
     "text": [
      "WARNING:tensorflow:`input_shape` is undefined or non-square, or `rows` is not in [96, 128, 160, 192, 224]. Weights for input shape (224, 224) will be loaded as the default.\n",
      "Epoch 1/10\n",
      "37/37 [==============================] - 52s 660ms/step - loss: 0.4095\n",
      "Epoch 2/10\n",
      "37/37 [==============================] - 25s 676ms/step - loss: 0.3707\n",
      "Epoch 3/10\n",
      "37/37 [==============================] - 26s 680ms/step - loss: 0.3050\n",
      "Epoch 4/10\n",
      "37/37 [==============================] - 26s 691ms/step - loss: 0.3041\n",
      "Epoch 5/10\n",
      "37/37 [==============================] - 25s 676ms/step - loss: 0.3375\n",
      "Epoch 6/10\n",
      "37/37 [==============================] - 25s 669ms/step - loss: 0.2560\n",
      "Epoch 7/10\n",
      "37/37 [==============================] - 26s 703ms/step - loss: 0.2613\n",
      "Epoch 8/10\n",
      "37/37 [==============================] - 25s 671ms/step - loss: 0.2634\n",
      "Epoch 9/10\n",
      "37/37 [==============================] - 26s 680ms/step - loss: 0.2435\n",
      "Epoch 10/10\n",
      "37/37 [==============================] - 26s 688ms/step - loss: 0.2586\n"
     ]
    },
    {
     "name": "stderr",
     "output_type": "stream",
     "text": [
      " Fold 16 F1: 0.7363636363636363:  59%|█████▉    | 16/27 [1:18:00<54:30, 297.31s/it]"
     ]
    },
    {
     "name": "stdout",
     "output_type": "stream",
     "text": [
      "WARNING:tensorflow:`input_shape` is undefined or non-square, or `rows` is not in [96, 128, 160, 192, 224]. Weights for input shape (224, 224) will be loaded as the default.\n",
      "Epoch 1/10\n",
      "37/37 [==============================] - 51s 666ms/step - loss: 0.4102\n",
      "Epoch 2/10\n",
      "37/37 [==============================] - 26s 687ms/step - loss: 0.3334\n",
      "Epoch 3/10\n",
      "37/37 [==============================] - 25s 653ms/step - loss: 0.3264\n",
      "Epoch 4/10\n",
      "37/37 [==============================] - 24s 651ms/step - loss: 0.2962\n",
      "Epoch 5/10\n",
      "37/37 [==============================] - 25s 669ms/step - loss: 0.2500\n",
      "Epoch 6/10\n",
      "37/37 [==============================] - 26s 681ms/step - loss: 0.2248\n",
      "Epoch 7/10\n",
      "37/37 [==============================] - 26s 681ms/step - loss: 0.2668\n",
      "Epoch 8/10\n",
      "37/37 [==============================] - 25s 659ms/step - loss: 0.2243\n",
      "Epoch 9/10\n",
      "37/37 [==============================] - 25s 657ms/step - loss: 0.2022\n",
      "Epoch 10/10\n",
      "37/37 [==============================] - 26s 687ms/step - loss: 0.1877\n"
     ]
    },
    {
     "name": "stderr",
     "output_type": "stream",
     "text": [
      " Fold 17 F1: 0.43636363636363645:  63%|██████▎   | 17/27 [1:22:56<49:27, 296.74s/it]"
     ]
    },
    {
     "name": "stdout",
     "output_type": "stream",
     "text": [
      "WARNING:tensorflow:`input_shape` is undefined or non-square, or `rows` is not in [96, 128, 160, 192, 224]. Weights for input shape (224, 224) will be loaded as the default.\n",
      "Epoch 1/10\n",
      "37/37 [==============================] - 54s 692ms/step - loss: 0.4653\n",
      "Epoch 2/10\n",
      "37/37 [==============================] - 25s 674ms/step - loss: 0.3256\n",
      "Epoch 3/10\n",
      "37/37 [==============================] - 25s 654ms/step - loss: 0.3065\n",
      "Epoch 4/10\n",
      "37/37 [==============================] - 24s 649ms/step - loss: 0.2733\n",
      "Epoch 5/10\n",
      "37/37 [==============================] - 25s 666ms/step - loss: 0.3089\n",
      "Epoch 6/10\n",
      "37/37 [==============================] - 25s 661ms/step - loss: 0.3356\n",
      "Epoch 7/10\n",
      "37/37 [==============================] - 24s 642ms/step - loss: 0.2371\n",
      "Epoch 8/10\n",
      "37/37 [==============================] - 24s 650ms/step - loss: 0.2277\n",
      "Epoch 9/10\n",
      "37/37 [==============================] - 26s 682ms/step - loss: 0.3024\n",
      "Epoch 10/10\n",
      "37/37 [==============================] - 26s 693ms/step - loss: 0.2075\n"
     ]
    },
    {
     "name": "stderr",
     "output_type": "stream",
     "text": [
      " Fold 18 F1: 0.8375:  67%|██████▋   | 18/27 [1:27:54<44:34, 297.16s/it]             "
     ]
    },
    {
     "name": "stdout",
     "output_type": "stream",
     "text": [
      "WARNING:tensorflow:`input_shape` is undefined or non-square, or `rows` is not in [96, 128, 160, 192, 224]. Weights for input shape (224, 224) will be loaded as the default.\n",
      "Epoch 1/10\n",
      "37/37 [==============================] - 53s 676ms/step - loss: 0.5186\n",
      "Epoch 2/10\n",
      "37/37 [==============================] - 25s 674ms/step - loss: 0.3525\n",
      "Epoch 3/10\n",
      "37/37 [==============================] - 25s 671ms/step - loss: 0.3663\n",
      "Epoch 4/10\n",
      "37/37 [==============================] - 25s 657ms/step - loss: 0.3089\n",
      "Epoch 5/10\n",
      "37/37 [==============================] - 25s 658ms/step - loss: 0.2871\n",
      "Epoch 6/10\n",
      "37/37 [==============================] - 24s 648ms/step - loss: 0.2897\n",
      "Epoch 7/10\n",
      "37/37 [==============================] - 25s 652ms/step - loss: 0.2429\n",
      "Epoch 8/10\n",
      "37/37 [==============================] - 25s 674ms/step - loss: 0.2187\n",
      "Epoch 9/10\n",
      "37/37 [==============================] - 26s 692ms/step - loss: 0.2231\n",
      "Epoch 10/10\n",
      "37/37 [==============================] - 25s 649ms/step - loss: 0.2050\n"
     ]
    },
    {
     "name": "stderr",
     "output_type": "stream",
     "text": [
      " Fold 19 F1: 0.888888888888889:  70%|███████   | 19/27 [1:32:50<39:33, 296.73s/it]"
     ]
    },
    {
     "name": "stdout",
     "output_type": "stream",
     "text": [
      "WARNING:tensorflow:`input_shape` is undefined or non-square, or `rows` is not in [96, 128, 160, 192, 224]. Weights for input shape (224, 224) will be loaded as the default.\n",
      "Epoch 1/10\n",
      "37/37 [==============================] - 51s 688ms/step - loss: 0.4397\n",
      "Epoch 2/10\n",
      "37/37 [==============================] - 25s 650ms/step - loss: 0.3682\n",
      "Epoch 3/10\n",
      "37/37 [==============================] - 25s 675ms/step - loss: 0.3182\n",
      "Epoch 4/10\n",
      "37/37 [==============================] - 25s 665ms/step - loss: 0.2931\n",
      "Epoch 5/10\n",
      "37/37 [==============================] - 24s 644ms/step - loss: 0.3033\n",
      "Epoch 6/10\n",
      "37/37 [==============================] - 24s 647ms/step - loss: 0.2556\n",
      "Epoch 7/10\n",
      "37/37 [==============================] - 24s 645ms/step - loss: 0.2349\n",
      "Epoch 8/10\n",
      "37/37 [==============================] - 24s 641ms/step - loss: 0.2452\n",
      "Epoch 9/10\n",
      "37/37 [==============================] - 24s 642ms/step - loss: 0.2462\n",
      "Epoch 10/10\n",
      "37/37 [==============================] - 24s 646ms/step - loss: 0.2038\n"
     ]
    },
    {
     "name": "stderr",
     "output_type": "stream",
     "text": [
      " Fold 20 F1: 0.9090909090909091:  74%|███████▍  | 20/27 [1:37:36<34:15, 293.68s/it]"
     ]
    },
    {
     "name": "stdout",
     "output_type": "stream",
     "text": [
      "WARNING:tensorflow:`input_shape` is undefined or non-square, or `rows` is not in [96, 128, 160, 192, 224]. Weights for input shape (224, 224) will be loaded as the default.\n",
      "Epoch 1/10\n",
      "37/37 [==============================] - 49s 652ms/step - loss: 0.4505\n",
      "Epoch 2/10\n",
      "37/37 [==============================] - 26s 681ms/step - loss: 0.3637\n",
      "Epoch 3/10\n",
      "37/37 [==============================] - 26s 690ms/step - loss: 0.3650\n",
      "Epoch 4/10\n",
      "37/37 [==============================] - 24s 647ms/step - loss: 0.3095\n",
      "Epoch 5/10\n",
      "37/37 [==============================] - 24s 645ms/step - loss: 0.2556\n",
      "Epoch 6/10\n",
      "37/37 [==============================] - 24s 644ms/step - loss: 0.2975\n",
      "Epoch 7/10\n",
      "37/37 [==============================] - 24s 645ms/step - loss: 0.3268\n",
      "Epoch 8/10\n",
      "37/37 [==============================] - 25s 672ms/step - loss: 0.2409\n",
      "Epoch 9/10\n",
      "37/37 [==============================] - 25s 670ms/step - loss: 0.2256\n",
      "Epoch 10/10\n",
      "37/37 [==============================] - 25s 665ms/step - loss: 0.2045\n"
     ]
    },
    {
     "name": "stderr",
     "output_type": "stream",
     "text": [
      " Fold 21 F1: 0.38502673796791437:  78%|███████▊  | 21/27 [1:42:28<29:19, 293.23s/it]"
     ]
    },
    {
     "name": "stdout",
     "output_type": "stream",
     "text": [
      "WARNING:tensorflow:`input_shape` is undefined or non-square, or `rows` is not in [96, 128, 160, 192, 224]. Weights for input shape (224, 224) will be loaded as the default.\n",
      "Epoch 1/10\n",
      "37/37 [==============================] - 55s 687ms/step - loss: 0.5253\n",
      "Epoch 2/10\n",
      "37/37 [==============================] - 25s 675ms/step - loss: 0.3679\n",
      "Epoch 3/10\n",
      "37/37 [==============================] - 25s 669ms/step - loss: 0.3734\n",
      "Epoch 4/10\n",
      "37/37 [==============================] - 25s 671ms/step - loss: 0.3657\n",
      "Epoch 5/10\n",
      "37/37 [==============================] - 25s 650ms/step - loss: 0.2832\n",
      "Epoch 6/10\n",
      "37/37 [==============================] - 26s 682ms/step - loss: 0.2738\n",
      "Epoch 7/10\n",
      "37/37 [==============================] - 26s 685ms/step - loss: 0.2555\n",
      "Epoch 8/10\n",
      "37/37 [==============================] - 25s 668ms/step - loss: 0.2520\n",
      "Epoch 9/10\n",
      "37/37 [==============================] - 26s 684ms/step - loss: 0.2230\n",
      "Epoch 10/10\n",
      "37/37 [==============================] - 25s 662ms/step - loss: 0.2117\n"
     ]
    },
    {
     "name": "stderr",
     "output_type": "stream",
     "text": [
      " Fold 22 F1: 0.7815126050420167:  81%|████████▏ | 22/27 [1:47:31<24:39, 295.99s/it] "
     ]
    },
    {
     "name": "stdout",
     "output_type": "stream",
     "text": [
      "WARNING:tensorflow:`input_shape` is undefined or non-square, or `rows` is not in [96, 128, 160, 192, 224]. Weights for input shape (224, 224) will be loaded as the default.\n",
      "Epoch 1/10\n",
      "32/32 [==============================] - 48s 667ms/step - loss: 0.3860\n",
      "Epoch 2/10\n",
      "32/32 [==============================] - 23s 696ms/step - loss: 0.3257\n",
      "Epoch 3/10\n",
      "32/32 [==============================] - 22s 669ms/step - loss: 0.2482\n",
      "Epoch 4/10\n",
      "32/32 [==============================] - 21s 651ms/step - loss: 0.2365\n",
      "Epoch 5/10\n",
      "32/32 [==============================] - 22s 663ms/step - loss: 0.2062\n",
      "Epoch 6/10\n",
      "32/32 [==============================] - 21s 651ms/step - loss: 0.2539\n",
      "Epoch 7/10\n",
      "32/32 [==============================] - 22s 684ms/step - loss: 0.1925\n",
      "Epoch 8/10\n",
      "32/32 [==============================] - 22s 681ms/step - loss: 0.1648\n",
      "Epoch 9/10\n",
      "32/32 [==============================] - 22s 660ms/step - loss: 0.1490\n",
      "Epoch 10/10\n",
      "32/32 [==============================] - 22s 662ms/step - loss: 0.2056\n"
     ]
    },
    {
     "name": "stderr",
     "output_type": "stream",
     "text": [
      " Fold 23 F1: 0.3903225806451613:  85%|████████▌ | 23/27 [1:52:07<19:19, 289.99s/it]"
     ]
    },
    {
     "name": "stdout",
     "output_type": "stream",
     "text": [
      "WARNING:tensorflow:`input_shape` is undefined or non-square, or `rows` is not in [96, 128, 160, 192, 224]. Weights for input shape (224, 224) will be loaded as the default.\n",
      "Epoch 1/10\n",
      "29/29 [==============================] - 45s 649ms/step - loss: 0.5189\n",
      "Epoch 2/10\n",
      "29/29 [==============================] - 19s 653ms/step - loss: 0.4480\n",
      "Epoch 3/10\n",
      "29/29 [==============================] - 19s 650ms/step - loss: 0.4240\n",
      "Epoch 4/10\n",
      "29/29 [==============================] - 20s 659ms/step - loss: 0.3837\n",
      "Epoch 5/10\n",
      "29/29 [==============================] - 20s 660ms/step - loss: 0.3281\n",
      "Epoch 6/10\n",
      "29/29 [==============================] - 20s 659ms/step - loss: 0.3062\n",
      "Epoch 7/10\n",
      "29/29 [==============================] - 20s 665ms/step - loss: 0.3153\n",
      "Epoch 8/10\n",
      "29/29 [==============================] - 19s 658ms/step - loss: 0.2688\n",
      "Epoch 9/10\n",
      "29/29 [==============================] - 20s 672ms/step - loss: 0.2789\n",
      "Epoch 10/10\n",
      "29/29 [==============================] - 20s 667ms/step - loss: 0.2451\n"
     ]
    },
    {
     "name": "stderr",
     "output_type": "stream",
     "text": [
      " Fold 24 F1: 0.7811120032115615:  89%|████████▉ | 24/27 [1:56:31<14:06, 282.33s/it]"
     ]
    },
    {
     "name": "stdout",
     "output_type": "stream",
     "text": [
      "WARNING:tensorflow:`input_shape` is undefined or non-square, or `rows` is not in [96, 128, 160, 192, 224]. Weights for input shape (224, 224) will be loaded as the default.\n",
      "Epoch 1/10\n",
      "36/36 [==============================] - 49s 641ms/step - loss: 0.4149\n",
      "Epoch 2/10\n",
      "36/36 [==============================] - 24s 661ms/step - loss: 0.3259\n",
      "Epoch 3/10\n",
      "36/36 [==============================] - 24s 658ms/step - loss: 0.3195\n",
      "Epoch 4/10\n",
      "36/36 [==============================] - 24s 665ms/step - loss: 0.2775\n",
      "Epoch 5/10\n",
      "36/36 [==============================] - 24s 659ms/step - loss: 0.2396\n",
      "Epoch 6/10\n",
      " 2/36 [>.............................] - ETA: 24s - loss: 0.2177"
     ]
    }
   ],
   "source": [
    "with warnings.catch_warnings():\n",
    "    warnings.filterwarnings('ignore')\n",
    "\n",
    "    for variable in (0, 1): # phF, MF\n",
    "        model = CNN(path, variable=0, epochs=10, learning_rate=1e-3, batch_size=16)\n",
    "\n",
    "        scores_strat_group_k_fold = stratified_group_k_fold(path=path,\n",
    "                                                            groups=subjects,\n",
    "                                                            model=model,\n",
    "                                                            folds=5,\n",
    "                                                            images=True,\n",
    "                                                            verbose=True,\n",
    "                                                            variable=variable)\n",
    "\n",
    "        # not a valid CV method (train/test mixing due to overlapping images)\n",
    "        '''scores_strat_k_fold = stratified_k_fold(path=path,\n",
    "                                                model=model,\n",
    "                                                folds=5,\n",
    "                                                images=True,\n",
    "                                                verbose=True,\n",
    "                                                variable=variable)'''\n",
    "\n",
    "        scores_loso = leave_one_subject_out(path=path,\n",
    "                                            groups=subjects,\n",
    "                                            model=model,\n",
    "                                            images=True,\n",
    "                                            verbose=True,\n",
    "                                            variable=variable)"
   ],
   "metadata": {
    "collapsed": false,
    "pycharm": {
     "name": "#%%\n",
     "is_executing": true
    }
   }
  },
  {
   "cell_type": "markdown",
   "source": [
    "# Save scores"
   ],
   "metadata": {
    "collapsed": false
   }
  },
  {
   "cell_type": "code",
   "execution_count": null,
   "outputs": [],
   "source": [
    "path_scores = './Scores'\n",
    "model_name = 'cnn'"
   ],
   "metadata": {
    "collapsed": false,
    "pycharm": {
     "name": "#%%\n"
    }
   }
  },
  {
   "cell_type": "code",
   "execution_count": null,
   "outputs": [],
   "source": [
    "# stratified 5-fold\n",
    "with open(f'{path_scores}/strat_5_fold//{model_name}.txt', 'w') as dat:\n",
    "    dat.write(str(scores_strat_group_k_fold))"
   ],
   "metadata": {
    "collapsed": false,
    "pycharm": {
     "name": "#%%\n"
    }
   }
  },
  {
   "cell_type": "code",
   "execution_count": null,
   "outputs": [],
   "source": [
    "# stratified group 5-fold\n",
    "with open(f'{path_scores}/strat_group_5_fold//{model_name}.txt', 'w') as dat:\n",
    "    dat.write(str(scores_strat_k_fold))"
   ],
   "metadata": {
    "collapsed": false,
    "pycharm": {
     "name": "#%%\n"
    }
   }
  },
  {
   "cell_type": "code",
   "execution_count": null,
   "outputs": [],
   "source": [
    "# LOSO\n",
    "with open(f'{path_scores}/strat_5_loso_fold//{model_name}.txt', 'w') as dat:\n",
    "    dat.write(str(scores_loso))"
   ],
   "metadata": {
    "collapsed": false,
    "pycharm": {
     "name": "#%%\n"
    }
   }
  },
  {
   "cell_type": "markdown",
   "source": [
    "# Under development"
   ],
   "metadata": {
    "collapsed": false
   }
  },
  {
   "cell_type": "markdown",
   "source": [
    "train/test split"
   ],
   "metadata": {
    "collapsed": false
   }
  },
  {
   "cell_type": "code",
   "execution_count": 14,
   "outputs": [
    {
     "name": "stdout",
     "output_type": "stream",
     "text": [
      "WARNING:tensorflow:`input_shape` is undefined or non-square, or `rows` is not in [96, 128, 160, 192, 224]. Weights for input shape (224, 224) will be loaded as the default.\n",
      "Starting stratified train/test for physical fatigue\n"
     ]
    },
    {
     "name": "stderr",
     "output_type": "stream",
     "text": [
      "C:\\Users\\jjung\\anaconda3\\envs\\tf-sklearn-keras\\lib\\site-packages\\keras\\engine\\training.py:1972: UserWarning: `Model.fit_generator` is deprecated and will be removed in a future version. Please use `Model.fit`, which supports generators.\n",
      "  warnings.warn('`Model.fit_generator` is deprecated and '\n"
     ]
    },
    {
     "name": "stdout",
     "output_type": "stream",
     "text": [
      "Epoch 1/10\n",
      "144/144 [==============================] - 71s 315ms/step - loss: 0.3806\n",
      "Epoch 2/10\n",
      "144/144 [==============================] - 44s 304ms/step - loss: 0.3052\n",
      "Epoch 3/10\n",
      "144/144 [==============================] - 44s 304ms/step - loss: 0.3001\n",
      "Epoch 4/10\n",
      "144/144 [==============================] - 44s 305ms/step - loss: 0.2252\n",
      "Epoch 5/10\n",
      "144/144 [==============================] - 44s 305ms/step - loss: 0.2365\n",
      "Epoch 6/10\n",
      "144/144 [==============================] - 44s 305ms/step - loss: 0.2089\n",
      "Epoch 7/10\n",
      "144/144 [==============================] - 44s 304ms/step - loss: 0.1853\n",
      "Epoch 8/10\n",
      "144/144 [==============================] - 44s 304ms/step - loss: 0.2005\n",
      "Epoch 9/10\n",
      "144/144 [==============================] - 44s 305ms/step - loss: 0.1883\n",
      "Epoch 10/10\n",
      "144/144 [==============================] - 44s 305ms/step - loss: 0.1625\n",
      "Performance model:\n",
      " accuracy: 0.808 +- 0.808 \n",
      "\n",
      " balanced_accuracy: 0.801 +- 0.801 \n",
      "\n",
      " f1: 0.816 +- 0.816 \n",
      "\n",
      " recall: 0.808 +- 0.808 \n",
      "\n",
      " precision: 0.836 +- 0.836 \n",
      "\n"
     ]
    }
   ],
   "source": [
    "variable = 0\n",
    "\n",
    "model = CNN(path, variable=0, epochs=10, learning_rate=1e-3, batch_size=16)\n",
    "\n",
    "scores = stratified_train_test(path, model, test_size=0.2, images=True, verbose=True, variable=0)"
   ],
   "metadata": {
    "collapsed": false,
    "pycharm": {
     "name": "#%%\n"
    }
   }
  },
  {
   "cell_type": "markdown",
   "source": [
    "Daily majority vote"
   ],
   "metadata": {
    "collapsed": false
   }
  },
  {
   "cell_type": "code",
   "execution_count": 15,
   "outputs": [],
   "source": [
    "# test set\n",
    "test_indices = model.test_indices\n",
    "\n",
    "# day information for each segment\n",
    "'''metadata_test = np.array(metadata)[test_indices]\n",
    "days_test = [(meta['date'], meta['subjectID']) for meta in metadata_test] # note that same date can be used by different subjects'''\n",
    "\n",
    "# true labels\n",
    "y = np.empty(len(test_indices), dtype=int)\n",
    "for i, index in enumerate(test_indices):\n",
    "    y_i = np.load(path + f'/labels{index}.npy', allow_pickle=True)[0]\n",
    "    y[i] = y_i\n",
    "\n",
    "# model predictions\n",
    "y_pred_segments = model.predict(test_indices)\n",
    "y_pred_segments = y_pred_segments.numpy().astype(int)"
   ],
   "metadata": {
    "collapsed": false,
    "pycharm": {
     "name": "#%%\n"
    }
   }
  },
  {
   "cell_type": "code",
   "execution_count": 16,
   "outputs": [
    {
     "data": {
      "text/plain": "{('09.02.18', 24): 1,\n ('09.05.19', 9): 0,\n ('27.07.18', 24): 1,\n ('27.01.18', 26): 1,\n ('07.05.19', 9): 1,\n ('12.01.18', 23): 0,\n ('07.06.19', 15): 1,\n ('28.12.17', 23): 1,\n ('01.01.18', 23): 0,\n ('06.04.19', 5): 1,\n ('28.02.18', 26): 1,\n ('11.02.18', 23): 1,\n ('16.02.18', 23): 0,\n ('10.05.18', 24): 1,\n ('23.01.18', 23): 1,\n ('14.02.18', 23): 1,\n ('31.03.18', 24): 0,\n ('26.02.18', 23): 1,\n ('10.05.19', 9): 0,\n ('16.03.19', 1): 0,\n ('20.05.19', 16): 1,\n ('29.01.18', 26): 1,\n ('06.05.19', 7): 1,\n ('21.05.19', 16): 1,\n ('01.09.18', 27): 1,\n ('19.05.18', 24): 1,\n ('20.02.18', 23): 0,\n ('12.06.19', 8): 1,\n ('15.05.19', 11): 0,\n ('13.03.18', 24): 1,\n ('11.05.19', 9): 1,\n ('10.03.18', 24): 0,\n ('01.03.18', 24): 1,\n ('16.07.18', 24): 1,\n ('09.05.19', 11): 0,\n ('13.05.19', 11): 0,\n ('31.12.17', 23): 1,\n ('10.07.19', 21): 1,\n ('04.03.18', 24): 1,\n ('26.03.19', 4): 0,\n ('02.01.18', 24): 1,\n ('07.04.19', 5): 1,\n ('17.06.19', 14): 1,\n ('19.06.19', 13): 0,\n ('11.02.18', 25): 1,\n ('22.01.18', 23): 1,\n ('28.03.19', 4): 0,\n ('27.02.18', 23): 1,\n ('14.02.18', 25): 0,\n ('31.01.18', 23): 1,\n ('05.09.18', 27): 1,\n ('21.02.18', 25): 0,\n ('09.01.18', 23): 1,\n ('10.05.19', 11): 0,\n ('09.07.19', 21): 0,\n ('07.02.18', 24): 1,\n ('29.12.17', 23): 0,\n ('30.01.18', 26): 1,\n ('28.08.18', 27): 0,\n ('13.01.18', 23): 0,\n ('20.02.18', 25): 1,\n ('11.05.19', 11): 1,\n ('07.07.19', 21): 1,\n ('05.01.18', 24): 0,\n ('01.03.18', 26): 1,\n ('10.03.19', 19): 1,\n ('03.06.19', 8): 0,\n ('27.02.18', 25): 0,\n ('06.03.18', 24): 1,\n ('15.02.18', 23): 1,\n ('09.07.18', 24): 0,\n ('08.02.18', 26): 1,\n ('04.02.18', 24): 0,\n ('17.02.18', 26): 1,\n ('25.07.18', 24): 1,\n ('08.03.19', 19): 1,\n ('06.01.18', 24): 1,\n ('10.09.18', 27): 0,\n ('28.03.18', 24): 1,\n ('25.03.19', 3): 1,\n ('20.03.19', 1): 1,\n ('22.05.19', 16): 1,\n ('24.07.18', 24): 1,\n ('28.02.18', 23): 1,\n ('23.05.19', 17): 1,\n ('26.05.19', 22): 1,\n ('24.08.18', 27): 1,\n ('16.05.19', 12): 0,\n ('29.01.18', 23): 1,\n ('04.02.18', 26): 1,\n ('04.01.18', 23): 0,\n ('12.06.19', 14): 1,\n ('29.05.19', 22): 1,\n ('06.08.18', 26): 1,\n ('24.03.19', 3): 0,\n ('05.04.18', 24): 1,\n ('03.02.18', 23): 0,\n ('24.05.19', 17): 0,\n ('07.03.18', 24): 1,\n ('06.09.18', 27): 0,\n ('24.07.18', 26): 1,\n ('24.01.18', 23): 0,\n ('04.06.19', 8): 1,\n ('14.01.18', 23): 0,\n ('19.08.18', 27): 0,\n ('17.04.18', 24): 1,\n ('13.08.18', 26): 1,\n ('08.06.19', 15): 1,\n ('13.04.18', 24): 1,\n ('14.06.19', 14): 1,\n ('01.03.18', 23): 0,\n ('12.01.18', 24): 1,\n ('12.02.18', 23): 0,\n ('23.03.18', 24): 1,\n ('27.12.17', 23): 0,\n ('13.06.19', 8): 0,\n ('07.01.18', 24): 0,\n ('28.05.19', 22): 1,\n ('02.01.18', 23): 1,\n ('19.12.17', 23): 0,\n ('11.02.18', 24): 1,\n ('26.05.19', 17): 0,\n ('24.12.17', 23): 0,\n ('28.03.19', 3): 0,\n ('28.01.18', 26): 1,\n ('21.03.18', 24): 1,\n ('16.08.18', 27): 0,\n ('08.02.18', 23): 0,\n ('04.04.19', 5): 1,\n ('01.02.18', 26): 1,\n ('21.05.19', 17): 0,\n ('07.02.18', 23): 0,\n ('11.09.18', 27): 0,\n ('25.02.18', 26): 0,\n ('17.02.18', 23): 1,\n ('18.08.18', 27): 0,\n ('02.03.18', 24): 1,\n ('15.05.19', 12): 0,\n ('13.05.19', 12): 1,\n ('05.01.18', 23): 0,\n ('01.03.18', 25): 1,\n ('12.02.18', 25): 0,\n ('26.07.18', 26): 1,\n ('11.06.19', 15): 0,\n ('27.01.18', 23): 0,\n ('26.12.17', 23): 1,\n ('18.06.19', 13): 0,\n ('09.06.19', 15): 0,\n ('11.02.18', 26): 0,\n ('14.08.18', 27): 0,\n ('08.08.18', 26): 0,\n ('11.03.19', 19): 1,\n ('09.01.18', 24): 1,\n ('04.02.18', 23): 1,\n ('27.03.19', 4): 0,\n ('13.02.18', 24): 1,\n ('02.08.18', 24): 1,\n ('15.02.18', 25): 0,\n ('11.01.18', 24): 1,\n ('06.01.18', 23): 1,\n ('05.02.18', 24): 1,\n ('03.01.18', 23): 1,\n ('19.07.18', 24): 1,\n ('23.03.19', 3): 0,\n ('09.02.18', 23): 0,\n ('03.04.18', 24): 1,\n ('03.04.19', 5): 0,\n ('10.01.18', 24): 1,\n ('22.03.18', 24): 1,\n ('25.12.17', 23): 0,\n ('27.08.18', 27): 1,\n ('31.03.19', 4): 1,\n ('16.01.18', 23): 1,\n ('18.01.18', 23): 0,\n ('27.02.18', 26): 1,\n ('06.02.18', 23): 1,\n ('13.02.18', 26): 1,\n ('17.06.19', 20): 0,\n ('22.02.18', 26): 1,\n ('05.02.18', 26): 1,\n ('09.02.18', 25): 1,\n ('15.03.19', 1): 1,\n ('02.04.18', 24): 1,\n ('22.05.19', 17): 1,\n ('11.04.18', 24): 1,\n ('07.09.18', 27): 0,\n ('17.01.18', 23): 1,\n ('12.09.18', 27): 0,\n ('07.03.19', 19): 1,\n ('26.03.19', 3): 0,\n ('01.01.18', 24): 1,\n ('28.01.18', 23): 1,\n ('17.05.18', 24): 1,\n ('02.02.18', 26): 1,\n ('15.06.19', 13): 1,\n ('30.07.18', 24): 0,\n ('20.03.18', 24): 1,\n ('25.02.18', 23): 1,\n ('20.08.18', 27): 0,\n ('29.07.18', 24): 1,\n ('04.08.18', 24): 1,\n ('14.02.18', 24): 1,\n ('27.05.19', 17): 0,\n ('26.02.18', 24): 1,\n ('14.06.19', 13): 0,\n ('22.12.17', 23): 0,\n ('03.02.18', 24): 1,\n ('25.01.18', 23): 1,\n ('20.05.19', 17): 0,\n ('20.02.18', 24): 1,\n ('06.07.19', 21): 0,\n ('10.05.19', 10): 0,\n ('08.05.19', 9): 0,\n ('09.02.18', 27): 1,\n ('10.02.18', 26): 1,\n ('14.07.18', 24): 1,\n ('26.08.18', 27): 1,\n ('11.05.19', 10): 1,\n ('01.08.18', 24): 0,\n ('14.01.18', 24): 1,\n ('10.06.19', 15): 0,\n ('04.07.19', 21): 0,\n ('15.07.18', 24): 1,\n ('30.07.18', 26): 1,\n ('17.06.19', 15): 1,\n ('19.01.18', 23): 0,\n ('14.03.19', 1): 1,\n ('14.02.18', 26): 1,\n ('21.06.19', 20): 0,\n ('18.05.18', 24): 1,\n ('25.02.18', 25): 0,\n ('08.02.18', 25): 0,\n ('10.05.19', 12): 0,\n ('06.05.19', 10): 0,\n ('29.07.18', 26): 1,\n ('26.02.18', 26): 0,\n ('21.03.19', 1): 0,\n ('12.02.18', 24): 1,\n ('31.07.18', 26): 1,\n ('15.03.18', 24): 0,\n ('05.07.19', 21): 1,\n ('12.04.18', 24): 0,\n ('14.08.18', 26): 1,\n ('21.02.18', 23): 0,\n ('23.05.19', 16): 0,\n ('15.01.18', 23): 0,\n ('31.01.18', 26): 1,\n ('11.01.18', 23): 0,\n ('02.08.18', 26): 0,\n ('08.01.18', 23): 0,\n ('07.02.18', 27): 0,\n ('12.06.19', 13): 0,\n ('21.03.19', 3): 0,\n ('23.02.18', 26): 1,\n ('10.01.18', 23): 1,\n ('12.02.18', 26): 1,\n ('04.01.18', 24): 0,\n ('08.07.19', 21): 1,\n ('26.01.18', 23): 0,\n ('07.05.19', 7): 0,\n ('25.03.19', 4): 0,\n ('05.03.19', 19): 1,\n ('16.05.18', 24): 0,\n ('07.05.18', 24): 1,\n ('11.08.18', 26): 1,\n ('23.12.17', 23): 0,\n ('02.02.18', 23): 1,\n ('19.04.18', 24): 0,\n ('10.07.18', 24): 1,\n ('18.07.18', 24): 1,\n ('06.03.19', 19): 1,\n ('15.02.18', 26): 1,\n ('30.12.17', 23): 0,\n ('21.01.18', 23): 1,\n ('26.03.18', 24): 1,\n ('08.07.18', 24): 1,\n ('03.08.18', 26): 1,\n ('03.01.18', 24): 1,\n ('16.03.18', 24): 1,\n ('12.06.19', 15): 1}"
     },
     "execution_count": 16,
     "metadata": {},
     "output_type": "execute_result"
    }
   ],
   "source": [
    "daily_majority_vote(y_pred_segments, test_indices, metadata)"
   ],
   "metadata": {
    "collapsed": false,
    "pycharm": {
     "name": "#%%\n"
    }
   }
  },
  {
   "cell_type": "code",
   "execution_count": 17,
   "outputs": [
    {
     "data": {
      "text/plain": "0.8035714285714286"
     },
     "execution_count": 17,
     "metadata": {},
     "output_type": "execute_result"
    }
   ],
   "source": [
    "agreements(y_pred_segments, test_indices, metadata)"
   ],
   "metadata": {
    "collapsed": false,
    "pycharm": {
     "name": "#%%\n"
    }
   }
  },
  {
   "cell_type": "code",
   "execution_count": null,
   "outputs": [],
   "source": [],
   "metadata": {
    "collapsed": false,
    "pycharm": {
     "name": "#%%\n"
    }
   }
  },
  {
   "cell_type": "code",
   "execution_count": 19,
   "outputs": [
    {
     "name": "stdout",
     "output_type": "stream",
     "text": [
      "WARNING:tensorflow:`input_shape` is undefined or non-square, or `rows` is not in [96, 128, 160, 192, 224]. Weights for input shape (224, 224) will be loaded as the default.\n"
     ]
    }
   ],
   "source": [
    "variable = 0\n",
    "\n",
    "model = CNN(path, variable=0, epochs=10, learning_rate=1e-3, batch_size=16)"
   ],
   "metadata": {
    "collapsed": false,
    "pycharm": {
     "name": "#%%\n"
    }
   }
  },
  {
   "cell_type": "code",
   "execution_count": 20,
   "outputs": [
    {
     "name": "stdout",
     "output_type": "stream",
     "text": [
      "Starting stratified group 5-fold for physical fatigue\n"
     ]
    },
    {
     "name": "stderr",
     "output_type": "stream",
     "text": [
      "  0%|          | 0/5 [00:00<?, ?it/s]"
     ]
    },
    {
     "name": "stdout",
     "output_type": "stream",
     "text": [
      "WARNING:tensorflow:`input_shape` is undefined or non-square, or `rows` is not in [96, 128, 160, 192, 224]. Weights for input shape (224, 224) will be loaded as the default.\n"
     ]
    },
    {
     "name": "stderr",
     "output_type": "stream",
     "text": [
      "C:\\Users\\jjung\\anaconda3\\envs\\tf-sklearn-keras\\lib\\site-packages\\keras\\engine\\training.py:1972: UserWarning: `Model.fit_generator` is deprecated and will be removed in a future version. Please use `Model.fit`, which supports generators.\n",
      "  warnings.warn('`Model.fit_generator` is deprecated and '\n"
     ]
    },
    {
     "name": "stdout",
     "output_type": "stream",
     "text": [
      "Epoch 1/10\n",
      "138/138 [==============================] - 68s 314ms/step - loss: 0.3386\n",
      "Epoch 2/10\n",
      "138/138 [==============================] - 41s 298ms/step - loss: 0.2392\n",
      "Epoch 3/10\n",
      "138/138 [==============================] - 41s 297ms/step - loss: 0.2046\n",
      "Epoch 4/10\n",
      "138/138 [==============================] - 41s 298ms/step - loss: 0.1841\n",
      "Epoch 5/10\n",
      "138/138 [==============================] - 41s 299ms/step - loss: 0.1494\n",
      "Epoch 6/10\n",
      "138/138 [==============================] - 41s 298ms/step - loss: 0.1477\n",
      "Epoch 7/10\n",
      "138/138 [==============================] - 41s 298ms/step - loss: 0.1307\n",
      "Epoch 8/10\n",
      "138/138 [==============================] - 41s 297ms/step - loss: 0.1179\n",
      "Epoch 9/10\n",
      "138/138 [==============================] - 41s 297ms/step - loss: 0.1070\n",
      "Epoch 10/10\n",
      "138/138 [==============================] - 41s 298ms/step - loss: 0.1097\n"
     ]
    },
    {
     "name": "stderr",
     "output_type": "stream",
     "text": [
      " Fold 1 F1: 0.5681694894300688:  20%|██        | 1/5 [09:09<36:39, 549.81s/it]"
     ]
    },
    {
     "name": "stdout",
     "output_type": "stream",
     "text": [
      "0.48863636363636365\n",
      "WARNING:tensorflow:`input_shape` is undefined or non-square, or `rows` is not in [96, 128, 160, 192, 224]. Weights for input shape (224, 224) will be loaded as the default.\n"
     ]
    },
    {
     "name": "stderr",
     "output_type": "stream",
     "text": [
      "C:\\Users\\jjung\\anaconda3\\envs\\tf-sklearn-keras\\lib\\site-packages\\keras\\engine\\training.py:1972: UserWarning: `Model.fit_generator` is deprecated and will be removed in a future version. Please use `Model.fit`, which supports generators.\n",
      "  warnings.warn('`Model.fit_generator` is deprecated and '\n"
     ]
    },
    {
     "name": "stdout",
     "output_type": "stream",
     "text": [
      "Epoch 1/10\n",
      "177/177 [==============================] - 86s 356ms/step - loss: 0.3885\n",
      "Epoch 2/10\n",
      "177/177 [==============================] - 62s 349ms/step - loss: 0.3102\n",
      "Epoch 3/10\n",
      "177/177 [==============================] - 62s 348ms/step - loss: 0.2758\n",
      "Epoch 4/10\n",
      "177/177 [==============================] - 61s 345ms/step - loss: 0.2437\n",
      "Epoch 5/10\n",
      "177/177 [==============================] - 61s 343ms/step - loss: 0.2263\n",
      "Epoch 6/10\n",
      "177/177 [==============================] - 61s 343ms/step - loss: 0.2362\n",
      "Epoch 7/10\n",
      "177/177 [==============================] - 61s 346ms/step - loss: 0.1940\n",
      "Epoch 8/10\n",
      "177/177 [==============================] - 62s 347ms/step - loss: 0.1658\n",
      "Epoch 9/10\n",
      "177/177 [==============================] - 61s 342ms/step - loss: 0.1679\n",
      "Epoch 10/10\n",
      "177/177 [==============================] - 61s 342ms/step - loss: 0.1793\n"
     ]
    },
    {
     "name": "stderr",
     "output_type": "stream",
     "text": [
      " Fold 2 F1: 0.7061826040972111:  40%|████      | 2/5 [20:07<30:39, 613.29s/it]"
     ]
    },
    {
     "name": "stdout",
     "output_type": "stream",
     "text": [
      "0.375\n",
      "WARNING:tensorflow:`input_shape` is undefined or non-square, or `rows` is not in [96, 128, 160, 192, 224]. Weights for input shape (224, 224) will be loaded as the default.\n"
     ]
    },
    {
     "name": "stderr",
     "output_type": "stream",
     "text": [
      "C:\\Users\\jjung\\anaconda3\\envs\\tf-sklearn-keras\\lib\\site-packages\\keras\\engine\\training.py:1972: UserWarning: `Model.fit_generator` is deprecated and will be removed in a future version. Please use `Model.fit`, which supports generators.\n",
      "  warnings.warn('`Model.fit_generator` is deprecated and '\n"
     ]
    },
    {
     "name": "stdout",
     "output_type": "stream",
     "text": [
      "Epoch 1/10\n",
      "174/174 [==============================] - 82s 350ms/step - loss: 0.3547\n",
      "Epoch 2/10\n",
      "174/174 [==============================] - 59s 339ms/step - loss: 0.2776\n",
      "Epoch 3/10\n",
      "174/174 [==============================] - 59s 338ms/step - loss: 0.2482\n",
      "Epoch 4/10\n",
      "174/174 [==============================] - 59s 341ms/step - loss: 0.2240\n",
      "Epoch 5/10\n",
      "174/174 [==============================] - 60s 346ms/step - loss: 0.2147\n",
      "Epoch 6/10\n",
      "174/174 [==============================] - 62s 356ms/step - loss: 0.2028\n",
      "Epoch 7/10\n",
      "174/174 [==============================] - 70s 404ms/step - loss: 0.1627\n",
      "Epoch 8/10\n",
      "174/174 [==============================] - 61s 350ms/step - loss: 0.1680\n",
      "Epoch 9/10\n",
      "174/174 [==============================] - 60s 346ms/step - loss: 0.1549\n",
      "Epoch 10/10\n",
      "174/174 [==============================] - 61s 349ms/step - loss: 0.1631\n"
     ]
    },
    {
     "name": "stderr",
     "output_type": "stream",
     "text": [
      " Fold 3 F1: 0.5849757145525873:  60%|██████    | 3/5 [31:15<21:16, 638.28s/it]"
     ]
    },
    {
     "name": "stdout",
     "output_type": "stream",
     "text": [
      "0.5\n",
      "WARNING:tensorflow:`input_shape` is undefined or non-square, or `rows` is not in [96, 128, 160, 192, 224]. Weights for input shape (224, 224) will be loaded as the default.\n"
     ]
    },
    {
     "name": "stderr",
     "output_type": "stream",
     "text": [
      "C:\\Users\\jjung\\anaconda3\\envs\\tf-sklearn-keras\\lib\\site-packages\\keras\\engine\\training.py:1972: UserWarning: `Model.fit_generator` is deprecated and will be removed in a future version. Please use `Model.fit`, which supports generators.\n",
      "  warnings.warn('`Model.fit_generator` is deprecated and '\n"
     ]
    },
    {
     "name": "stdout",
     "output_type": "stream",
     "text": [
      "Epoch 1/10\n",
      "82/82 [==============================] - 49s 300ms/step - loss: 0.6641\n",
      "Epoch 2/10\n",
      "82/82 [==============================] - 25s 303ms/step - loss: 0.5243\n",
      "Epoch 3/10\n",
      "82/82 [==============================] - 24s 296ms/step - loss: 0.4624\n",
      "Epoch 4/10\n",
      "82/82 [==============================] - 24s 294ms/step - loss: 0.4217\n",
      "Epoch 5/10\n",
      "82/82 [==============================] - 24s 294ms/step - loss: 0.3929\n",
      "Epoch 6/10\n",
      "82/82 [==============================] - 24s 295ms/step - loss: 0.3618\n",
      "Epoch 7/10\n",
      "82/82 [==============================] - 25s 297ms/step - loss: 0.3345\n",
      "Epoch 8/10\n",
      "82/82 [==============================] - 24s 296ms/step - loss: 0.3318\n",
      "Epoch 9/10\n",
      "82/82 [==============================] - 25s 299ms/step - loss: 0.2944\n",
      "Epoch 10/10\n",
      "82/82 [==============================] - 24s 293ms/step - loss: 0.2677\n"
     ]
    },
    {
     "name": "stderr",
     "output_type": "stream",
     "text": [
      " Fold 4 F1: 0.6328224960191371:  80%|████████  | 4/5 [39:38<09:44, 584.70s/it]"
     ]
    },
    {
     "name": "stdout",
     "output_type": "stream",
     "text": [
      "0.3811881188118812\n",
      "WARNING:tensorflow:`input_shape` is undefined or non-square, or `rows` is not in [96, 128, 160, 192, 224]. Weights for input shape (224, 224) will be loaded as the default.\n"
     ]
    },
    {
     "name": "stderr",
     "output_type": "stream",
     "text": [
      "C:\\Users\\jjung\\anaconda3\\envs\\tf-sklearn-keras\\lib\\site-packages\\keras\\engine\\training.py:1972: UserWarning: `Model.fit_generator` is deprecated and will be removed in a future version. Please use `Model.fit`, which supports generators.\n",
      "  warnings.warn('`Model.fit_generator` is deprecated and '\n"
     ]
    },
    {
     "name": "stdout",
     "output_type": "stream",
     "text": [
      "Epoch 1/10\n",
      "149/149 [==============================] - 70s 301ms/step - loss: 0.2720\n",
      "Epoch 2/10\n",
      "149/149 [==============================] - 44s 296ms/step - loss: 0.2188\n",
      "Epoch 3/10\n",
      "149/149 [==============================] - 44s 295ms/step - loss: 0.1866\n",
      "Epoch 4/10\n",
      "149/149 [==============================] - 44s 297ms/step - loss: 0.1476\n",
      "Epoch 5/10\n",
      "149/149 [==============================] - 45s 298ms/step - loss: 0.1693\n",
      "Epoch 6/10\n",
      "149/149 [==============================] - 44s 297ms/step - loss: 0.1234\n",
      "Epoch 7/10\n",
      "149/149 [==============================] - 44s 296ms/step - loss: 0.1132\n",
      "Epoch 8/10\n",
      "149/149 [==============================] - 44s 294ms/step - loss: 0.1109\n",
      "Epoch 9/10\n",
      "149/149 [==============================] - 45s 299ms/step - loss: 0.0945\n",
      "Epoch 10/10\n",
      "149/149 [==============================] - 44s 296ms/step - loss: 0.0937\n"
     ]
    },
    {
     "name": "stderr",
     "output_type": "stream",
     "text": [
      " Fold 5 F1: 0.5310234571376662: 100%|██████████| 5/5 [48:52<00:00, 586.58s/it]"
     ]
    },
    {
     "name": "stdout",
     "output_type": "stream",
     "text": [
      "0.3835616438356164\n",
      "Performance model:\n",
      " accuracy: 0.59 +- 0.067 \n",
      "\n",
      " balanced_accuracy: 0.575 +- 0.055 \n",
      "\n",
      " f1: 0.605 +- 0.06 \n",
      "\n",
      " recall: 0.59 +- 0.067 \n",
      "\n",
      " precision: 0.651 +- 0.118 \n",
      "\n"
     ]
    },
    {
     "name": "stderr",
     "output_type": "stream",
     "text": [
      "\n"
     ]
    }
   ],
   "source": [
    "N = sum([1 for p in os.listdir(path) if (p[:14] == 'feature_vector' and p[:19] != 'feature_vector_stat')])\n",
    "\n",
    "# load labels (we need them for stratification)\n",
    "y = np.empty(N, dtype=int)\n",
    "for i in range(N):\n",
    "    y[i] = np.load(path + f'/labels{i}.npy', allow_pickle=True)[variable]  # TODO: multiclass\n",
    "\n",
    "# CV\n",
    "cv = StratifiedGroupKFold(n_splits=5, shuffle=True, random_state=SEED)\n",
    "scores_cv = []\n",
    "data_indices = np.arange(N)\n",
    "\n",
    "print(f'Starting stratified group {5}-fold for {[\"physical fatigue\", \"mental fatigue\"][variable]}')\n",
    "with tqdm(total=5) as pbar:\n",
    "    for i, (train_indices, test_indices) in enumerate(cv.split(X=data_indices, y=y, groups=subjects)):\n",
    "        # test labels\n",
    "        y_test = y[test_indices]\n",
    "\n",
    "        # training\n",
    "        model.reset()\n",
    "        model.fit(train_indices)\n",
    "\n",
    "        # predict\n",
    "        y_pred = model.predict(test_indices)\n",
    "\n",
    "        # evaluate\n",
    "        scores = evaluator(y_pred, y_test, verbose=False)\n",
    "        scores_cv.append(scores)\n",
    "\n",
    "        # agreements\n",
    "        print(agreements(y_pred, model.test_indices, metadata))\n",
    "\n",
    "        # for progress bar\n",
    "        pbar.update(1)\n",
    "        pbar.set_description(f' Fold {i+1} F1: {scores[\"f1\"]}')\n",
    "\n",
    "# print (if verbose==True)\n",
    "print('Performance model:')\n",
    "metrics = scores_cv[0].keys()\n",
    "for metric in metrics:\n",
    "    mean = np.mean([scores_cv_i[metric] for scores_cv_i in scores_cv])\n",
    "    std = np.std([scores_cv_i[metric] for scores_cv_i in scores_cv])\n",
    "    print(f' {metric}: {round(mean, 3)} +- {round(std, 3)} \\n')"
   ],
   "metadata": {
    "collapsed": false,
    "pycharm": {
     "name": "#%%\n"
    }
   }
  },
  {
   "cell_type": "code",
   "execution_count": null,
   "outputs": [],
   "source": [],
   "metadata": {
    "collapsed": false,
    "pycharm": {
     "name": "#%%\n"
    }
   }
  },
  {
   "cell_type": "code",
   "execution_count": 14,
   "outputs": [
    {
     "name": "stdout",
     "output_type": "stream",
     "text": [
      "WARNING:tensorflow:`input_shape` is undefined or non-square, or `rows` is not in [96, 128, 160, 192, 224]. Weights for input shape (224, 224) will be loaded as the default.\n",
      "Starting stratified group 5-fold for physical fatigue\n"
     ]
    },
    {
     "name": "stderr",
     "output_type": "stream",
     "text": [
      "  0%|          | 0/5 [00:00<?, ?it/s]"
     ]
    },
    {
     "name": "stdout",
     "output_type": "stream",
     "text": [
      "WARNING:tensorflow:`input_shape` is undefined or non-square, or `rows` is not in [96, 128, 160, 192, 224]. Weights for input shape (224, 224) will be loaded as the default.\n"
     ]
    },
    {
     "name": "stderr",
     "output_type": "stream",
     "text": [
      "C:\\Users\\jjung\\anaconda3\\envs\\tf-sklearn-keras\\lib\\site-packages\\keras\\engine\\training.py:1972: UserWarning: `Model.fit_generator` is deprecated and will be removed in a future version. Please use `Model.fit`, which supports generators.\n",
      "  warnings.warn('`Model.fit_generator` is deprecated and '\n"
     ]
    },
    {
     "name": "stdout",
     "output_type": "stream",
     "text": [
      "Epoch 1/10\n",
      "138/138 [==============================] - 68s 332ms/step - loss: 0.3020\n",
      "Epoch 2/10\n",
      "138/138 [==============================] - 41s 293ms/step - loss: 0.2282\n",
      "Epoch 3/10\n",
      "138/138 [==============================] - 41s 293ms/step - loss: 0.2173\n",
      "Epoch 4/10\n",
      "138/138 [==============================] - 41s 292ms/step - loss: 0.1672\n",
      "Epoch 5/10\n",
      "138/138 [==============================] - 41s 293ms/step - loss: 0.1465\n",
      "Epoch 6/10\n",
      "138/138 [==============================] - 40s 292ms/step - loss: 0.1315\n",
      "Epoch 7/10\n",
      "138/138 [==============================] - 40s 292ms/step - loss: 0.1265\n",
      "Epoch 8/10\n",
      "138/138 [==============================] - 40s 292ms/step - loss: 0.1192\n",
      "Epoch 9/10\n",
      "138/138 [==============================] - 40s 292ms/step - loss: 0.1153\n",
      "Epoch 10/10\n",
      "138/138 [==============================] - 40s 292ms/step - loss: 0.1095\n"
     ]
    },
    {
     "name": "stderr",
     "output_type": "stream",
     "text": [
      " Fold 1 F1: 0.5801763453937365:  20%|██        | 1/5 [09:04<36:19, 544.78s/it]"
     ]
    },
    {
     "name": "stdout",
     "output_type": "stream",
     "text": [
      "agreements: 0.6136363636363636\n",
      "agreements (aggregate): 0.9090909090909091\n",
      "WARNING:tensorflow:`input_shape` is undefined or non-square, or `rows` is not in [96, 128, 160, 192, 224]. Weights for input shape (224, 224) will be loaded as the default.\n"
     ]
    },
    {
     "name": "stderr",
     "output_type": "stream",
     "text": [
      "C:\\Users\\jjung\\anaconda3\\envs\\tf-sklearn-keras\\lib\\site-packages\\keras\\engine\\training.py:1972: UserWarning: `Model.fit_generator` is deprecated and will be removed in a future version. Please use `Model.fit`, which supports generators.\n",
      "  warnings.warn('`Model.fit_generator` is deprecated and '\n"
     ]
    },
    {
     "name": "stdout",
     "output_type": "stream",
     "text": [
      "Epoch 1/10\n",
      "177/177 [==============================] - 89s 379ms/step - loss: 0.3513\n",
      "Epoch 2/10\n",
      "177/177 [==============================] - 80s 451ms/step - loss: 0.2950\n",
      "Epoch 3/10\n",
      "177/177 [==============================] - 66s 373ms/step - loss: 0.2730\n",
      "Epoch 4/10\n",
      "177/177 [==============================] - 65s 369ms/step - loss: 0.2298\n",
      "Epoch 5/10\n",
      "177/177 [==============================] - 65s 366ms/step - loss: 0.2226\n",
      "Epoch 6/10\n",
      "177/177 [==============================] - 65s 366ms/step - loss: 0.1983\n",
      "Epoch 7/10\n",
      "177/177 [==============================] - 65s 367ms/step - loss: 0.2048\n",
      "Epoch 8/10\n",
      "177/177 [==============================] - 65s 367ms/step - loss: 0.1702\n",
      "Epoch 9/10\n",
      "177/177 [==============================] - 65s 367ms/step - loss: 0.1739\n",
      "Epoch 10/10\n",
      "177/177 [==============================] - 66s 371ms/step - loss: 0.1539\n"
     ]
    },
    {
     "name": "stderr",
     "output_type": "stream",
     "text": [
      " Fold 2 F1: 0.75:  40%|████      | 2/5 [20:56<32:09, 643.22s/it]              "
     ]
    },
    {
     "name": "stdout",
     "output_type": "stream",
     "text": [
      "agreements: 0.375\n",
      "agreements (aggregate): 0.75\n",
      "WARNING:tensorflow:`input_shape` is undefined or non-square, or `rows` is not in [96, 128, 160, 192, 224]. Weights for input shape (224, 224) will be loaded as the default.\n"
     ]
    },
    {
     "name": "stderr",
     "output_type": "stream",
     "text": [
      "C:\\Users\\jjung\\anaconda3\\envs\\tf-sklearn-keras\\lib\\site-packages\\keras\\engine\\training.py:1972: UserWarning: `Model.fit_generator` is deprecated and will be removed in a future version. Please use `Model.fit`, which supports generators.\n",
      "  warnings.warn('`Model.fit_generator` is deprecated and '\n"
     ]
    },
    {
     "name": "stdout",
     "output_type": "stream",
     "text": [
      "Epoch 1/10\n",
      "174/174 [==============================] - 90s 380ms/step - loss: 0.3886\n",
      "Epoch 2/10\n",
      "174/174 [==============================] - 64s 369ms/step - loss: 0.2898\n",
      "Epoch 3/10\n",
      "174/174 [==============================] - 63s 364ms/step - loss: 0.2771\n",
      "Epoch 4/10\n",
      "174/174 [==============================] - 64s 364ms/step - loss: 0.2285\n",
      "Epoch 5/10\n",
      "174/174 [==============================] - 64s 365ms/step - loss: 0.2001\n",
      "Epoch 6/10\n",
      "174/174 [==============================] - 63s 363ms/step - loss: 0.2179\n",
      "Epoch 7/10\n",
      "174/174 [==============================] - 63s 363ms/step - loss: 0.1863\n",
      "Epoch 8/10\n",
      "174/174 [==============================] - 64s 367ms/step - loss: 0.1493\n",
      "Epoch 9/10\n",
      "174/174 [==============================] - 64s 365ms/step - loss: 0.1452\n",
      "Epoch 10/10\n",
      "174/174 [==============================] - 63s 360ms/step - loss: 0.1565\n"
     ]
    },
    {
     "name": "stderr",
     "output_type": "stream",
     "text": [
      " Fold 3 F1: 0.3777777777777778:  60%|██████    | 3/5 [32:29<22:11, 665.62s/it]"
     ]
    },
    {
     "name": "stdout",
     "output_type": "stream",
     "text": [
      "agreements: 0.42857142857142855\n",
      "agreements (aggregate): 0.8571428571428571\n",
      "WARNING:tensorflow:`input_shape` is undefined or non-square, or `rows` is not in [96, 128, 160, 192, 224]. Weights for input shape (224, 224) will be loaded as the default.\n"
     ]
    },
    {
     "name": "stderr",
     "output_type": "stream",
     "text": [
      "C:\\Users\\jjung\\anaconda3\\envs\\tf-sklearn-keras\\lib\\site-packages\\keras\\engine\\training.py:1972: UserWarning: `Model.fit_generator` is deprecated and will be removed in a future version. Please use `Model.fit`, which supports generators.\n",
      "  warnings.warn('`Model.fit_generator` is deprecated and '\n"
     ]
    },
    {
     "name": "stdout",
     "output_type": "stream",
     "text": [
      "Epoch 1/10\n",
      "82/82 [==============================] - 48s 301ms/step - loss: 0.7625\n",
      "Epoch 2/10\n",
      "82/82 [==============================] - 24s 297ms/step - loss: 0.5486\n",
      "Epoch 3/10\n",
      "82/82 [==============================] - 24s 287ms/step - loss: 0.4799\n",
      "Epoch 4/10\n",
      "82/82 [==============================] - 24s 286ms/step - loss: 0.4437\n",
      "Epoch 5/10\n",
      "82/82 [==============================] - 24s 286ms/step - loss: 0.4269\n",
      "Epoch 6/10\n",
      "82/82 [==============================] - 24s 286ms/step - loss: 0.3742\n",
      "Epoch 7/10\n",
      "82/82 [==============================] - 24s 290ms/step - loss: 0.3385\n",
      "Epoch 8/10\n",
      "82/82 [==============================] - 24s 287ms/step - loss: 0.3472\n",
      "Epoch 9/10\n",
      "82/82 [==============================] - 24s 290ms/step - loss: 0.3679\n",
      "Epoch 10/10\n",
      "82/82 [==============================] - 24s 292ms/step - loss: 0.2954\n"
     ]
    },
    {
     "name": "stderr",
     "output_type": "stream",
     "text": [
      " Fold 4 F1: 0.6919870558484421:  80%|████████  | 4/5 [40:38<09:56, 596.05s/it]"
     ]
    },
    {
     "name": "stdout",
     "output_type": "stream",
     "text": [
      "agreements: 0.4801980198019802\n",
      "agreements (aggregate): 0.7970297029702971\n",
      "WARNING:tensorflow:`input_shape` is undefined or non-square, or `rows` is not in [96, 128, 160, 192, 224]. Weights for input shape (224, 224) will be loaded as the default.\n"
     ]
    },
    {
     "name": "stderr",
     "output_type": "stream",
     "text": [
      "C:\\Users\\jjung\\anaconda3\\envs\\tf-sklearn-keras\\lib\\site-packages\\keras\\engine\\training.py:1972: UserWarning: `Model.fit_generator` is deprecated and will be removed in a future version. Please use `Model.fit`, which supports generators.\n",
      "  warnings.warn('`Model.fit_generator` is deprecated and '\n"
     ]
    },
    {
     "name": "stdout",
     "output_type": "stream",
     "text": [
      "Epoch 1/10\n",
      "149/149 [==============================] - 72s 332ms/step - loss: 0.3174\n",
      "Epoch 2/10\n",
      "149/149 [==============================] - 50s 334ms/step - loss: 0.2267\n",
      "Epoch 3/10\n",
      "149/149 [==============================] - 49s 327ms/step - loss: 0.1960\n",
      "Epoch 4/10\n",
      "149/149 [==============================] - 51s 344ms/step - loss: 0.1866\n",
      "Epoch 5/10\n",
      "149/149 [==============================] - 51s 344ms/step - loss: 0.1458\n",
      "Epoch 6/10\n",
      "149/149 [==============================] - 49s 325ms/step - loss: 0.1324\n",
      "Epoch 7/10\n",
      "149/149 [==============================] - 49s 328ms/step - loss: 0.1209\n",
      "Epoch 8/10\n",
      "149/149 [==============================] - 49s 329ms/step - loss: 0.1121\n",
      "Epoch 9/10\n",
      "149/149 [==============================] - 49s 327ms/step - loss: 0.1007\n",
      "Epoch 10/10\n",
      "149/149 [==============================] - 49s 329ms/step - loss: 0.0972\n"
     ]
    },
    {
     "name": "stderr",
     "output_type": "stream",
     "text": [
      " Fold 5 F1: 0.3568734427779364: 100%|██████████| 5/5 [50:41<00:00, 608.36s/it]"
     ]
    },
    {
     "name": "stdout",
     "output_type": "stream",
     "text": [
      "agreements: 0.9178082191780822\n",
      "agreements (aggregate): 0.958904109589041\n",
      "Performance model:\n",
      " accuracy: 0.582 +- 0.112 \n",
      "\n",
      " balanced_accuracy: 0.553 +- 0.108 \n",
      "\n",
      " f1: 0.551 +- 0.16 \n",
      "\n",
      " recall: 0.582 +- 0.112 \n",
      "\n",
      " precision: 0.608 +- 0.181 \n",
      "\n"
     ]
    },
    {
     "name": "stderr",
     "output_type": "stream",
     "text": [
      "\n"
     ]
    }
   ],
   "source": [
    "variable = 0\n",
    "model = CNN(path, variable=0, epochs=10, learning_rate=1e-3, batch_size=16)\n",
    "\n",
    "N = sum([1 for p in os.listdir(path) if (p[:14] == 'feature_vector' and p[:19] != 'feature_vector_stat')])\n",
    "\n",
    "# load labels (we need them for stratification)\n",
    "y = np.empty(N, dtype=int)\n",
    "for i in range(N):\n",
    "    y[i] = np.load(path + f'/labels{i}.npy', allow_pickle=True)[variable]  # TODO: multiclass\n",
    "\n",
    "# CV\n",
    "cv = StratifiedGroupKFold(n_splits=5, shuffle=True, random_state=SEED)\n",
    "scores_cv = []\n",
    "data_indices = np.arange(N)\n",
    "\n",
    "print(f'Starting stratified group {5}-fold for {[\"physical fatigue\", \"mental fatigue\"][variable]}')\n",
    "with tqdm(total=5) as pbar:\n",
    "    for i, (train_indices, test_indices) in enumerate(cv.split(X=data_indices, y=y, groups=subjects)):\n",
    "        # test labels\n",
    "        y_test = y[test_indices]\n",
    "\n",
    "        # training\n",
    "        model.reset()\n",
    "        model.fit(train_indices)\n",
    "\n",
    "        # predict\n",
    "        y_pred = model.predict(test_indices)\n",
    "\n",
    "        # daily majorities\n",
    "        y_pred_daily = np.array(list(daily_majority_vote(y_pred, test_indices, metadata).values()))\n",
    "        y_true_daily = np.array(list(daily_majority_vote(y_test, test_indices, metadata).values()))\n",
    "\n",
    "        # evaluate\n",
    "        scores = evaluator(y_pred_daily, y_true_daily, verbose=False)\n",
    "        scores_cv.append(scores)\n",
    "\n",
    "        # agreements\n",
    "        print('agreements:', agreements(y_pred, model.test_indices, metadata))\n",
    "\n",
    "        # for progress bar\n",
    "        pbar.update(1)\n",
    "        pbar.set_description(f' Fold {i+1} F1: {scores[\"f1\"]}')\n",
    "\n",
    "# print (if verbose==True)\n",
    "print('Performance model:')\n",
    "metrics = scores_cv[0].keys()\n",
    "for metric in metrics:\n",
    "    mean = np.mean([scores_cv_i[metric] for scores_cv_i in scores_cv])\n",
    "    std = np.std([scores_cv_i[metric] for scores_cv_i in scores_cv])\n",
    "    print(f' {metric}: {round(mean, 3)} +- {round(std, 3)} \\n')"
   ],
   "metadata": {
    "collapsed": false,
    "pycharm": {
     "name": "#%%\n"
    }
   }
  },
  {
   "cell_type": "markdown",
   "source": [
    "# TODO: check why so few days (even fewer than statistical features)"
   ],
   "metadata": {
    "collapsed": false,
    "pycharm": {
     "name": "#%% md\n"
    }
   }
  }
 ],
 "metadata": {
  "kernelspec": {
   "display_name": "Python 3 (ipykernel)",
   "language": "python",
   "name": "python3"
  },
  "language_info": {
   "codemirror_mode": {
    "name": "ipython",
    "version": 3
   },
   "file_extension": ".py",
   "mimetype": "text/x-python",
   "name": "python",
   "nbconvert_exporter": "python",
   "pygments_lexer": "ipython3",
   "version": "3.10.6"
  }
 },
 "nbformat": 4,
 "nbformat_minor": 1
}