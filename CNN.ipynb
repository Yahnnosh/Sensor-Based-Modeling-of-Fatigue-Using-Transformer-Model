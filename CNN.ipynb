{
 "cells": [
  {
   "cell_type": "code",
   "execution_count": 1,
   "metadata": {},
   "outputs": [
    {
     "ename": "ModuleNotFoundError",
     "evalue": "No module named 'tensorflow'",
     "output_type": "error",
     "traceback": [
      "\u001B[1;31m---------------------------------------------------------------------------\u001B[0m",
      "\u001B[1;31mModuleNotFoundError\u001B[0m                       Traceback (most recent call last)",
      "Input \u001B[1;32mIn [1]\u001B[0m, in \u001B[0;36m<cell line: 4>\u001B[1;34m()\u001B[0m\n\u001B[0;32m      2\u001B[0m \u001B[38;5;28;01mimport\u001B[39;00m \u001B[38;5;21;01mjson\u001B[39;00m\n\u001B[0;32m      3\u001B[0m \u001B[38;5;28;01mimport\u001B[39;00m \u001B[38;5;21;01mwarnings\u001B[39;00m\n\u001B[1;32m----> 4\u001B[0m \u001B[38;5;28;01mimport\u001B[39;00m \u001B[38;5;21;01mtensorflow\u001B[39;00m \u001B[38;5;28;01mas\u001B[39;00m \u001B[38;5;21;01mtf\u001B[39;00m\n\u001B[0;32m      5\u001B[0m \u001B[38;5;28;01mfrom\u001B[39;00m \u001B[38;5;21;01mtensorflow\u001B[39;00m\u001B[38;5;21;01m.\u001B[39;00m\u001B[38;5;21;01mkeras\u001B[39;00m \u001B[38;5;28;01mimport\u001B[39;00m models, Model\n\u001B[0;32m      6\u001B[0m \u001B[38;5;28;01mfrom\u001B[39;00m \u001B[38;5;21;01mtensorflow\u001B[39;00m\u001B[38;5;21;01m.\u001B[39;00m\u001B[38;5;21;01mkeras\u001B[39;00m\u001B[38;5;21;01m.\u001B[39;00m\u001B[38;5;21;01mapplications\u001B[39;00m \u001B[38;5;28;01mimport\u001B[39;00m MobileNetV2\n",
      "\u001B[1;31mModuleNotFoundError\u001B[0m: No module named 'tensorflow'"
     ]
    }
   ],
   "source": [
    "import numpy as np\n",
    "import json\n",
    "import warnings\n",
    "import tensorflow as tf\n",
    "from tensorflow.keras import models, Model\n",
    "from tensorflow.keras.applications import MobileNetV2\n",
    "from tensorflow.keras.layers import Dense, Conv2D, Flatten, MaxPool2D, BatchNormalization, Dropout, Input, Concatenate, GlobalAvgPool2D\n",
    "from tensorflow.keras.optimizers import Adam\n",
    "from tensorflow.keras.utils import Sequence\n",
    "import json\n",
    "from evaluator import *"
   ]
  },
  {
   "cell_type": "code",
   "execution_count": null,
   "outputs": [],
   "source": [
    "VARIABLES = ['ActivityCounts', 'Barometer', 'BloodPerfusion',\n",
    "             'BloodPulseWave', 'EnergyExpenditure', 'GalvanicSkinResponse', 'HR',\n",
    "             'HRV', 'RESP', 'Steps', 'SkinTemperature', 'ActivityClass']"
   ],
   "metadata": {
    "collapsed": false
   }
  },
  {
   "cell_type": "code",
   "execution_count": null,
   "outputs": [],
   "source": [
    "GRAYSCALE = False # grayscale or rgb # TODO: currently not working (MobileNetV2 does not support grayscale)\n",
    "TRANSFORMER_IMPUTATION = True # whether to use transformer imputation or linear interpolation"
   ],
   "metadata": {
    "collapsed": false
   }
  },
  {
   "cell_type": "markdown",
   "source": [
    "# Import data"
   ],
   "metadata": {
    "collapsed": false
   }
  },
  {
   "cell_type": "code",
   "execution_count": 4,
   "outputs": [],
   "source": [
    "# file path to data folder\n",
    "path = './Output' if not TRANSFORMER_IMPUTATION else './Output/transformer_imputation'"
   ],
   "metadata": {
    "collapsed": false
   }
  },
  {
   "cell_type": "code",
   "execution_count": 5,
   "outputs": [
    {
     "name": "stdout",
     "output_type": "stream",
     "text": [
      "613 370 497 30\n"
     ]
    }
   ],
   "source": [
    "# dimensions\n",
    "N, HEIGHT, WIDTH, CHANNELS = sum([1 for p in os.listdir(path) if (p[:14] == 'feature_vector' and p[:19] != 'feature_vector_stat')]), \\\n",
    "                             *np.load(path + '/feature_vector0.npy').shape\n",
    "CHANNELS = len(VARIABLES) if GRAYSCALE else CHANNELS # reduce channels for grayscale\n",
    "\n",
    "print(N, HEIGHT, WIDTH, CHANNELS)"
   ],
   "metadata": {
    "collapsed": false
   }
  },
  {
   "cell_type": "markdown",
   "source": [
    "Metadata (subjectID etc.)"
   ],
   "metadata": {
    "collapsed": false
   }
  },
  {
   "cell_type": "code",
   "execution_count": 6,
   "outputs": [],
   "source": [
    "with open(path + '/metadata.txt') as f:\n",
    "    metadata = f.read()\n",
    "\n",
    "metadata = json.loads(metadata.replace('\\'', '\\\"').replace('False', 'false').replace('True', 'true')) # doesn't accept other chars"
   ],
   "metadata": {
    "collapsed": false
   }
  },
  {
   "cell_type": "code",
   "execution_count": 7,
   "outputs": [],
   "source": [
    "subjects = [meta['subjectID'] for meta in metadata]"
   ],
   "metadata": {
    "collapsed": false
   }
  },
  {
   "cell_type": "markdown",
   "source": [
    "# CNN"
   ],
   "metadata": {
    "collapsed": false
   }
  },
  {
   "cell_type": "markdown",
   "source": [
    "Addditional functions"
   ],
   "metadata": {
    "collapsed": false
   }
  },
  {
   "cell_type": "code",
   "execution_count": 8,
   "outputs": [],
   "source": [
    "# image-wise transformer\n",
    "def rgb2gray(rgb):\n",
    "    \"\"\"greyscale = 0.2989 * red + 0.5870 * green + 0.1140 * blue\"\"\"\n",
    "    return np.dot(rgb[:, :, :3], [0.2989, 0.5870, 0.1140])\n",
    "\n",
    "# loss function\n",
    "def weighted_cross_entropy(weight):\n",
    "    def weighted_cross_entropy_with_logits(labels, logits):\n",
    "        loss = tf.nn.weighted_cross_entropy_with_logits(\n",
    "            labels, logits, weight\n",
    "        )\n",
    "        return loss\n",
    "    return weighted_cross_entropy_with_logits\n",
    "\n",
    "# weight (imbalanced classes)\n",
    "def check_imbalance(path_to_labels, indices, variable):\n",
    "    \"\"\"Returns indices of positives/negatives\"\"\"\n",
    "    y = np.empty((len(indices), 2), dtype=int)\n",
    "    for i, index in enumerate(indices):\n",
    "        y[i, ] = np.load(path_to_labels + f'/labels{index}.npy', allow_pickle=True)\n",
    "\n",
    "    positives = np.where(y[:, variable] == 1)[0]\n",
    "    negatives = np.where(y[:, variable] == 0)[0]\n",
    "\n",
    "    return np.array(indices)[positives], np.array(indices)[negatives]\n",
    "\n",
    "def get_weighting_factor(path, train_set_indices, variable):\n",
    "    positives, negatives = check_imbalance(path, train_set_indices, variable)\n",
    "    sample_weight = len(negatives) / len(positives) # for weighted cross-entropy\n",
    "    return sample_weight"
   ],
   "metadata": {
    "collapsed": false
   }
  },
  {
   "cell_type": "markdown",
   "source": [
    "Dataloader (dataset with images too large)"
   ],
   "metadata": {
    "collapsed": false
   }
  },
  {
   "cell_type": "code",
   "execution_count": 9,
   "outputs": [],
   "source": [
    "class DataGenerator(Sequence):\n",
    "\n",
    "    def __init__(self, data_path: str, indices_dataset: list, variable, batch_size=32, dim=(HEIGHT, WIDTH), n_channels=CHANNELS, shuffle=True):\n",
    "        self.data_path = data_path # path to full dataset\n",
    "        self.dim = dim # image dimension\n",
    "        self.batch_size = batch_size\n",
    "        self.indices_dataset = indices_dataset # indices of full dataset (different for train/validation/test set)\n",
    "        self.n_channels = n_channels\n",
    "        self.shuffle = shuffle\n",
    "        assert variable in (0, 1)\n",
    "        self.variable = variable\n",
    "\n",
    "        self.on_epoch_end() # shuffle data for each epoch\n",
    "\n",
    "    def on_epoch_end(self):\n",
    "        \"\"\"\n",
    "        Shuffle data for each epoch\n",
    "        \"\"\"\n",
    "        if self.shuffle:\n",
    "            np.random.shuffle(self.indices_dataset)\n",
    "\n",
    "    def __data_generation(self, indices):\n",
    "        \"\"\"\n",
    "        Loads and returns datapoints[indices]\n",
    "        \"\"\"\n",
    "        # init\n",
    "        X = np.empty((self.batch_size, *self.dim, self.n_channels))\n",
    "        y = np.empty(self.batch_size, dtype=float) # float: logits, int: non-logits\n",
    "\n",
    "        # load individual datapoints\n",
    "        for i, index in enumerate(indices):\n",
    "            images = np.load(self.data_path + f'/feature_vector{index}.npy', allow_pickle=True)\n",
    "            if GRAYSCALE:\n",
    "                images_gray = np.empty((HEIGHT, WIDTH, self.n_channels))\n",
    "                for j in range(len(VARIABLES)):\n",
    "                    image_rgb = images[:, :, (3 * j): (3 * (j + 1))]\n",
    "                    image_gray = rgb2gray(image_rgb)\n",
    "                    images_gray[:, :, j] = image_gray\n",
    "                images = images_gray\n",
    "\n",
    "            X[i, ] = images\n",
    "            y[i] = np.load(self.data_path + f'/labels{index}.npy', allow_pickle=True)[self.variable]\n",
    "\n",
    "        return X, y\n",
    "\n",
    "    def __len__(self):\n",
    "        \"\"\"\n",
    "        Number of batches per epoch\n",
    "        \"\"\"\n",
    "        return int(np.floor(len(self.indices_dataset) / self.batch_size))\n",
    "\n",
    "    def __getitem__(self, index):\n",
    "        \"\"\"\n",
    "        Generates batch[index]\n",
    "        \"\"\"\n",
    "        # calculate indices of batch\n",
    "        indices = self.indices_dataset[index * self.batch_size:(index + 1) * self.batch_size]\n",
    "\n",
    "        # generate batch\n",
    "        X, y = self.__data_generation(indices)\n",
    "\n",
    "        return X, y"
   ],
   "metadata": {
    "collapsed": false
   }
  },
  {
   "cell_type": "markdown",
   "source": [
    "Architecture"
   ],
   "metadata": {
    "collapsed": false
   }
  },
  {
   "cell_type": "code",
   "execution_count": 10,
   "outputs": [],
   "source": [
    "class ConvNet(tf.keras.Model):\n",
    "\n",
    "    def __init__(self, name='cnn', **kwargs):\n",
    "        super(ConvNet, self).__init__(name, **kwargs)\n",
    "\n",
    "        self.in_shape = (HEIGHT, WIDTH, CHANNELS)\n",
    "        self.in_shape_mobilenet = (HEIGHT, WIDTH, 3) if not GRAYSCALE else (HEIGHT, WIDTH, 1)\n",
    "\n",
    "        # MobileNetV2 embedding\n",
    "        self.mobilenet = MobileNetV2(input_shape=self.in_shape_mobilenet, weights='imagenet', include_top=False)\n",
    "        self.mobilenet._name = 'mobilenet'\n",
    "        self.mobilenet.trainable = False\n",
    "        self.finetuning = False\n",
    "        self.out_shape_mobilenet = self.mobilenet.layers[-1].output_shape # for one spectrogram\n",
    "\n",
    "        # Concatenation\n",
    "        self.concat = Concatenate(name='concat')\n",
    "\n",
    "        # Global pooling\n",
    "        self.pool = GlobalAvgPool2D(name='global_avg_pool')\n",
    "\n",
    "        # TODO: more sophisticated dense (dropout, regularizer, init., ...)\n",
    "        # Fully-connected network\n",
    "        self.dense = Dense(1, name='dense') # keep logits\n",
    "        self.out_shape = 1\n",
    "\n",
    "        # build graph\n",
    "        self.build_graph()\n",
    "\n",
    "    def build_graph(self):\n",
    "        self.build(input_shape=(None, *self.in_shape))\n",
    "        x = Input(shape=self.in_shape)\n",
    "        Model(inputs=[x], outputs=self.call(x))\n",
    "\n",
    "    def set_finetuning(self, mode=True):\n",
    "        self.finetuning = mode\n",
    "        self.mobilenet.trainable = mode\n",
    "\n",
    "        for layers in self.mobilenet.layers:\n",
    "            layers.trainable = False\n",
    "\n",
    "        # \"activate\" last conv layer of MobileNet\n",
    "        self.mobilenet.layers[-3].trainable = mode\n",
    "        self.mobilenet.layers[-2].trainable = mode\n",
    "\n",
    "    def call(self, inputs):\n",
    "        \"\"\"\n",
    "        Model predictions (logits)\n",
    "        :param inputs: all spectrograms of shape (HEIGHT, WIDTH, CHANNELS)\n",
    "        :return: class prediction (logits)\n",
    "        \"\"\"\n",
    "        # MobileNetV2 embeddings\n",
    "        x = [self.mobilenet(inputs[..., i:i+3], training=self.finetuning) for i in range(0, CHANNELS, 3)]\n",
    "\n",
    "        # Concatenation\n",
    "        x = self.concat(x)\n",
    "\n",
    "        # Global pooling\n",
    "        x = self.pool(x)\n",
    "\n",
    "        # Fully-connected network\n",
    "        x = self.dense(x)\n",
    "\n",
    "        return x"
   ],
   "metadata": {
    "collapsed": false
   }
  },
  {
   "cell_type": "markdown",
   "source": [
    "Model"
   ],
   "metadata": {
    "collapsed": false
   }
  },
  {
   "cell_type": "code",
   "execution_count": 15,
   "outputs": [],
   "source": [
    "class CNN:\n",
    "\n",
    "    def __init__(self, path, variable, epochs, learning_rate, batch_size):\n",
    "        self.model = ConvNet()\n",
    "        self.path = path\n",
    "        assert variable in (0, 1)\n",
    "        self.variable = variable\n",
    "        self.epochs = epochs\n",
    "        self.learning_rate = learning_rate\n",
    "        self.batch_size = batch_size\n",
    "        self.history = None\n",
    "        self.train_indices = None\n",
    "        self.test_indices = None\n",
    "\n",
    "    def fit(self, train_indices):\n",
    "        self.train_indices = train_indices\n",
    "\n",
    "        # training set\n",
    "        train_dataloader = DataGenerator(self.path, train_indices, batch_size=self.batch_size, variable=self.variable)\n",
    "\n",
    "        # weights for loss function\n",
    "        sample_weights = get_weighting_factor(self.path, train_indices, self.variable)\n",
    "\n",
    "        # build model\n",
    "        self.model.compile(optimizer=Adam(learning_rate=self.learning_rate),\n",
    "                           loss=weighted_cross_entropy(sample_weights))\n",
    "\n",
    "        # training\n",
    "        self.history = self.model.fit_generator(generator=train_dataloader,\n",
    "                                                epochs=self.epochs)\n",
    "\n",
    "    def reset(self):\n",
    "        \"\"\"Resets model weights\"\"\"\n",
    "        self.model = ConvNet()\n",
    "\n",
    "    def predict(self, test_indices, logits=False):\n",
    "        \"\"\"Predicts actual class labels by default (not logits/probability values)\"\"\"\n",
    "        self.test_indices = test_indices\n",
    "\n",
    "        # TODO: make more efficient\n",
    "        # test set + predict\n",
    "        y_pred = np.empty(len(test_indices), dtype=float)\n",
    "\n",
    "        for i, index in enumerate(test_indices):\n",
    "            X_i = np.load(path + f'/feature_vector{index}.npy', allow_pickle=True)\n",
    "\n",
    "            X_i = tf.expand_dims(X_i, axis=0) # add \"batch dimension\"\n",
    "            logits_pred_i = self.model.predict(X_i)\n",
    "\n",
    "            y_pred[i] = logits_pred_i\n",
    "\n",
    "        if logits:\n",
    "            return y_pred\n",
    "\n",
    "        y_probs = tf.math.sigmoid(y_pred) # logits to probs\n",
    "        y_pred = tf.round(y_probs) # probs to labels\n",
    "\n",
    "        return y_pred\n",
    "\n",
    "    def summary(self):\n",
    "        return self.model.summary()"
   ],
   "metadata": {
    "collapsed": false
   }
  },
  {
   "cell_type": "markdown",
   "source": [
    "# CV"
   ],
   "metadata": {
    "collapsed": false
   }
  },
  {
   "cell_type": "code",
   "execution_count": 42,
   "outputs": [
    {
     "name": "stdout",
     "output_type": "stream",
     "text": [
      "WARNING:tensorflow:`input_shape` is undefined or non-square, or `rows` is not in [96, 128, 160, 192, 224]. Weights for input shape (224, 224) will be loaded as the default.\n",
      "Starting stratified group 5-fold for physical fatigue\n"
     ]
    },
    {
     "name": "stderr",
     "output_type": "stream",
     "text": [
      "  0%|          | 0/5 [00:00<?, ?it/s]"
     ]
    },
    {
     "name": "stdout",
     "output_type": "stream",
     "text": [
      "WARNING:tensorflow:`input_shape` is undefined or non-square, or `rows` is not in [96, 128, 160, 192, 224]. Weights for input shape (224, 224) will be loaded as the default.\n",
      "Epoch 1/5\n",
      "31/31 [==============================] - 45s 648ms/step - loss: 0.5497\n",
      "Epoch 2/5\n",
      "31/31 [==============================] - 20s 648ms/step - loss: 0.3920\n",
      "Epoch 3/5\n",
      "31/31 [==============================] - 21s 651ms/step - loss: 0.3629\n",
      "Epoch 4/5\n",
      "31/31 [==============================] - 21s 650ms/step - loss: 0.3756\n",
      "Epoch 5/5\n",
      "31/31 [==============================] - 21s 649ms/step - loss: 0.3671\n"
     ]
    },
    {
     "name": "stderr",
     "output_type": "stream",
     "text": [
      " Fold 1 F1: 0.8480687543218413:  20%|██        | 1/5 [02:41<10:47, 161.77s/it]"
     ]
    },
    {
     "name": "stdout",
     "output_type": "stream",
     "text": [
      "WARNING:tensorflow:`input_shape` is undefined or non-square, or `rows` is not in [96, 128, 160, 192, 224]. Weights for input shape (224, 224) will be loaded as the default.\n",
      "Epoch 1/5\n",
      "20/20 [==============================] - 37s 643ms/step - loss: 0.6536\n",
      "Epoch 2/5\n",
      "20/20 [==============================] - 13s 641ms/step - loss: 0.4549\n",
      "Epoch 3/5\n",
      "20/20 [==============================] - 13s 644ms/step - loss: 0.3560\n",
      "Epoch 4/5\n",
      "20/20 [==============================] - 13s 643ms/step - loss: 0.3269\n",
      "Epoch 5/5\n",
      "20/20 [==============================] - 13s 651ms/step - loss: 0.3267\n"
     ]
    },
    {
     "name": "stderr",
     "output_type": "stream",
     "text": [
      " Fold 2 F1: 0.6859633643921383:  40%|████      | 2/5 [05:13<07:46, 155.63s/it]"
     ]
    },
    {
     "name": "stdout",
     "output_type": "stream",
     "text": [
      "WARNING:tensorflow:`input_shape` is undefined or non-square, or `rows` is not in [96, 128, 160, 192, 224]. Weights for input shape (224, 224) will be loaded as the default.\n",
      "Epoch 1/5\n",
      "31/31 [==============================] - 44s 643ms/step - loss: 0.5333\n",
      "Epoch 2/5\n",
      "31/31 [==============================] - 20s 644ms/step - loss: 0.3076\n",
      "Epoch 3/5\n",
      "31/31 [==============================] - 20s 639ms/step - loss: 0.2937\n",
      "Epoch 4/5\n",
      "31/31 [==============================] - 20s 637ms/step - loss: 0.2886\n",
      "Epoch 5/5\n",
      "31/31 [==============================] - 20s 636ms/step - loss: 0.2867\n"
     ]
    },
    {
     "name": "stderr",
     "output_type": "stream",
     "text": [
      " Fold 3 F1: 0.5213955522238881:  60%|██████    | 3/5 [07:53<05:15, 157.68s/it]"
     ]
    },
    {
     "name": "stdout",
     "output_type": "stream",
     "text": [
      "WARNING:tensorflow:`input_shape` is undefined or non-square, or `rows` is not in [96, 128, 160, 192, 224]. Weights for input shape (224, 224) will be loaded as the default.\n",
      "Epoch 1/5\n",
      "37/37 [==============================] - 48s 637ms/step - loss: 0.4824\n",
      "Epoch 2/5\n",
      "37/37 [==============================] - 24s 637ms/step - loss: 0.3341\n",
      "Epoch 3/5\n",
      "37/37 [==============================] - 24s 638ms/step - loss: 0.3369\n",
      "Epoch 4/5\n",
      "37/37 [==============================] - 24s 638ms/step - loss: 0.2844\n",
      "Epoch 5/5\n",
      "37/37 [==============================] - 24s 639ms/step - loss: 0.2675\n"
     ]
    },
    {
     "name": "stderr",
     "output_type": "stream",
     "text": [
      " Fold 4 F1: 0.6961038961038962:  80%|████████  | 4/5 [10:32<02:38, 158.33s/it]"
     ]
    },
    {
     "name": "stdout",
     "output_type": "stream",
     "text": [
      "WARNING:tensorflow:`input_shape` is undefined or non-square, or `rows` is not in [96, 128, 160, 192, 224]. Weights for input shape (224, 224) will be loaded as the default.\n",
      "Epoch 1/5\n",
      "32/32 [==============================] - 45s 646ms/step - loss: 0.4281\n",
      "Epoch 2/5\n",
      "32/32 [==============================] - 21s 647ms/step - loss: 0.2867\n",
      "Epoch 3/5\n",
      "32/32 [==============================] - 21s 647ms/step - loss: 0.2579\n",
      "Epoch 4/5\n",
      "32/32 [==============================] - 21s 646ms/step - loss: 0.2709\n",
      "Epoch 5/5\n",
      "32/32 [==============================] - 21s 646ms/step - loss: 0.2755\n"
     ]
    },
    {
     "name": "stderr",
     "output_type": "stream",
     "text": [
      " Fold 5 F1: 0.4952926050350463: 100%|██████████| 5/5 [13:14<00:00, 158.82s/it]\n"
     ]
    },
    {
     "name": "stdout",
     "output_type": "stream",
     "text": [
      "Performance model:\n",
      " accuracy: 0.693 +- 0.087 \n",
      "\n",
      " balanced_accuracy: 0.53 +- 0.092 \n",
      "\n",
      " f1: 0.649 +- 0.129 \n",
      "\n",
      " recall: 0.693 +- 0.087 \n",
      "\n",
      " precision: 0.693 +- 0.148 \n",
      "\n",
      "Starting leave-one-subject-out for physical fatigue\n"
     ]
    },
    {
     "name": "stderr",
     "output_type": "stream",
     "text": [
      "  0%|          | 0/27 [00:00<?, ?it/s]"
     ]
    },
    {
     "name": "stdout",
     "output_type": "stream",
     "text": [
      "WARNING:tensorflow:`input_shape` is undefined or non-square, or `rows` is not in [96, 128, 160, 192, 224]. Weights for input shape (224, 224) will be loaded as the default.\n",
      "Epoch 1/5\n",
      "37/37 [==============================] - 49s 636ms/step - loss: 0.4084\n",
      "Epoch 2/5\n",
      "37/37 [==============================] - 24s 636ms/step - loss: 0.4000\n",
      "Epoch 3/5\n",
      "37/37 [==============================] - 24s 636ms/step - loss: 0.2878\n",
      "Epoch 4/5\n",
      "37/37 [==============================] - 24s 636ms/step - loss: 0.2912\n",
      "Epoch 5/5\n",
      "37/37 [==============================] - 24s 638ms/step - loss: 0.2474\n"
     ]
    },
    {
     "name": "stderr",
     "output_type": "stream",
     "text": [
      " Fold 1 F1: 0.898989898989899:   4%|▎         | 1/27 [02:43<1:10:51, 163.50s/it]"
     ]
    },
    {
     "name": "stdout",
     "output_type": "stream",
     "text": [
      "WARNING:tensorflow:`input_shape` is undefined or non-square, or `rows` is not in [96, 128, 160, 192, 224]. Weights for input shape (224, 224) will be loaded as the default.\n",
      "Epoch 1/5\n",
      "38/38 [==============================] - 48s 619ms/step - loss: 0.4977\n",
      "Epoch 2/5\n",
      "38/38 [==============================] - 24s 619ms/step - loss: 0.3654\n",
      "Epoch 3/5\n",
      "38/38 [==============================] - 24s 619ms/step - loss: 0.3045\n",
      "Epoch 4/5\n",
      "38/38 [==============================] - 24s 620ms/step - loss: 0.3192\n",
      "Epoch 5/5\n",
      "38/38 [==============================] - 24s 620ms/step - loss: 0.3182\n"
     ]
    },
    {
     "name": "stderr",
     "output_type": "stream",
     "text": [
      " Fold 2 F1: 1.0:   7%|▋         | 2/27 [05:20<1:06:38, 159.94s/it]              "
     ]
    },
    {
     "name": "stdout",
     "output_type": "stream",
     "text": [
      "WARNING:tensorflow:`input_shape` is undefined or non-square, or `rows` is not in [96, 128, 160, 192, 224]. Weights for input shape (224, 224) will be loaded as the default.\n",
      "Epoch 1/5\n",
      "37/37 [==============================] - 47s 635ms/step - loss: 0.4525\n",
      "Epoch 2/5\n",
      "37/37 [==============================] - 24s 636ms/step - loss: 0.3572\n",
      "Epoch 3/5\n",
      "37/37 [==============================] - 24s 637ms/step - loss: 0.3544\n",
      "Epoch 4/5\n",
      "37/37 [==============================] - 24s 636ms/step - loss: 0.2952\n",
      "Epoch 5/5\n",
      "37/37 [==============================] - 24s 636ms/step - loss: 0.2691\n"
     ]
    },
    {
     "name": "stderr",
     "output_type": "stream",
     "text": [
      " Fold 3 F1: 0.5333333333333333:  11%|█         | 3/27 [08:00<1:03:58, 159.96s/it]"
     ]
    },
    {
     "name": "stdout",
     "output_type": "stream",
     "text": [
      "WARNING:tensorflow:`input_shape` is undefined or non-square, or `rows` is not in [96, 128, 160, 192, 224]. Weights for input shape (224, 224) will be loaded as the default.\n",
      "Epoch 1/5\n",
      "37/37 [==============================] - 47s 628ms/step - loss: 0.4502\n",
      "Epoch 2/5\n",
      "37/37 [==============================] - 24s 628ms/step - loss: 0.4171\n",
      "Epoch 3/5\n",
      "37/37 [==============================] - 23s 623ms/step - loss: 0.3237\n",
      "Epoch 4/5\n",
      "37/37 [==============================] - 24s 627ms/step - loss: 0.3137\n",
      "Epoch 5/5\n",
      "37/37 [==============================] - 23s 625ms/step - loss: 0.2615\n"
     ]
    },
    {
     "name": "stderr",
     "output_type": "stream",
     "text": [
      " Fold 4 F1: 0.494949494949495:  15%|█▍        | 4/27 [10:39<1:01:09, 159.55s/it] "
     ]
    },
    {
     "name": "stdout",
     "output_type": "stream",
     "text": [
      "WARNING:tensorflow:`input_shape` is undefined or non-square, or `rows` is not in [96, 128, 160, 192, 224]. Weights for input shape (224, 224) will be loaded as the default.\n",
      "Epoch 1/5\n",
      "37/37 [==============================] - 46s 626ms/step - loss: 0.5510\n",
      "Epoch 2/5\n",
      "37/37 [==============================] - 23s 624ms/step - loss: 0.3297\n",
      "Epoch 3/5\n",
      "37/37 [==============================] - 24s 625ms/step - loss: 0.3235\n",
      "Epoch 4/5\n",
      "37/37 [==============================] - 23s 625ms/step - loss: 0.2769\n",
      "Epoch 5/5\n",
      "37/37 [==============================] - 23s 625ms/step - loss: 0.2585\n"
     ]
    },
    {
     "name": "stderr",
     "output_type": "stream",
     "text": [
      " Fold 5 F1: 1.0:  19%|█▊        | 5/27 [13:14<57:51, 157.81s/it]                "
     ]
    },
    {
     "name": "stdout",
     "output_type": "stream",
     "text": [
      "WARNING:tensorflow:`input_shape` is undefined or non-square, or `rows` is not in [96, 128, 160, 192, 224]. Weights for input shape (224, 224) will be loaded as the default.\n",
      "Epoch 1/5\n",
      "37/37 [==============================] - 45s 619ms/step - loss: 0.4417\n",
      "Epoch 2/5\n",
      "37/37 [==============================] - 23s 621ms/step - loss: 0.3706\n",
      "Epoch 3/5\n",
      "37/37 [==============================] - 23s 619ms/step - loss: 0.3736\n",
      "Epoch 4/5\n",
      "37/37 [==============================] - 23s 620ms/step - loss: 0.3107\n",
      "Epoch 5/5\n",
      "37/37 [==============================] - 23s 620ms/step - loss: 0.2776\n"
     ]
    },
    {
     "name": "stderr",
     "output_type": "stream",
     "text": [
      " Fold 6 F1: 0.7111111111111111:  22%|██▏       | 6/27 [15:50<55:02, 157.24s/it]"
     ]
    },
    {
     "name": "stdout",
     "output_type": "stream",
     "text": [
      "WARNING:tensorflow:`input_shape` is undefined or non-square, or `rows` is not in [96, 128, 160, 192, 224]. Weights for input shape (224, 224) will be loaded as the default.\n",
      "Epoch 1/5\n",
      "38/38 [==============================] - 48s 620ms/step - loss: 0.4631\n",
      "Epoch 2/5\n",
      "38/38 [==============================] - 24s 620ms/step - loss: 0.3535\n",
      "Epoch 3/5\n",
      "38/38 [==============================] - 24s 621ms/step - loss: 0.3035\n",
      "Epoch 4/5\n",
      "38/38 [==============================] - 24s 621ms/step - loss: 0.2758\n",
      "Epoch 5/5\n",
      "38/38 [==============================] - 24s 621ms/step - loss: 0.2653\n"
     ]
    },
    {
     "name": "stderr",
     "output_type": "stream",
     "text": [
      " Fold 7 F1: 1.0:  26%|██▌       | 7/27 [18:31<52:45, 158.29s/it]               "
     ]
    },
    {
     "name": "stdout",
     "output_type": "stream",
     "text": [
      "WARNING:tensorflow:`input_shape` is undefined or non-square, or `rows` is not in [96, 128, 160, 192, 224]. Weights for input shape (224, 224) will be loaded as the default.\n",
      "Epoch 1/5\n",
      "37/37 [==============================] - 46s 634ms/step - loss: 0.4066\n",
      "Epoch 2/5\n",
      "37/37 [==============================] - 24s 634ms/step - loss: 0.3699\n",
      "Epoch 3/5\n",
      "37/37 [==============================] - 24s 632ms/step - loss: 0.3369\n",
      "Epoch 4/5\n",
      "37/37 [==============================] - 24s 635ms/step - loss: 0.3171\n",
      "Epoch 5/5\n",
      "37/37 [==============================] - 24s 635ms/step - loss: 0.2610\n"
     ]
    },
    {
     "name": "stderr",
     "output_type": "stream",
     "text": [
      " Fold 8 F1: 0.22892156862745097:  30%|██▉       | 8/27 [21:08<50:00, 157.91s/it]"
     ]
    },
    {
     "name": "stdout",
     "output_type": "stream",
     "text": [
      "WARNING:tensorflow:`input_shape` is undefined or non-square, or `rows` is not in [96, 128, 160, 192, 224]. Weights for input shape (224, 224) will be loaded as the default.\n",
      "Epoch 1/5\n",
      "37/37 [==============================] - 49s 618ms/step - loss: 0.5314\n",
      "Epoch 2/5\n",
      "37/37 [==============================] - 23s 617ms/step - loss: 0.3446\n",
      "Epoch 3/5\n",
      "37/37 [==============================] - 23s 618ms/step - loss: 0.3364\n",
      "Epoch 4/5\n",
      "37/37 [==============================] - 23s 618ms/step - loss: 0.2901\n",
      "Epoch 5/5\n",
      "37/37 [==============================] - 23s 618ms/step - loss: 0.2544\n"
     ]
    },
    {
     "name": "stderr",
     "output_type": "stream",
     "text": [
      " Fold 9 F1: 0.6703296703296704:  33%|███▎      | 9/27 [23:44<47:14, 157.47s/it] "
     ]
    },
    {
     "name": "stdout",
     "output_type": "stream",
     "text": [
      "WARNING:tensorflow:`input_shape` is undefined or non-square, or `rows` is not in [96, 128, 160, 192, 224]. Weights for input shape (224, 224) will be loaded as the default.\n",
      "Epoch 1/5\n",
      "37/37 [==============================] - 48s 627ms/step - loss: 0.5602\n",
      "Epoch 2/5\n",
      "37/37 [==============================] - 24s 625ms/step - loss: 0.3535\n",
      "Epoch 3/5\n",
      "37/37 [==============================] - 23s 625ms/step - loss: 0.3134\n",
      "Epoch 4/5\n",
      "37/37 [==============================] - 24s 626ms/step - loss: 0.3121\n",
      "Epoch 5/5\n",
      "37/37 [==============================] - 23s 625ms/step - loss: 0.2878\n"
     ]
    },
    {
     "name": "stderr",
     "output_type": "stream",
     "text": [
      " Fold 10 F1: 0.5333333333333333:  37%|███▋      | 10/27 [26:21<44:30, 157.11s/it]"
     ]
    },
    {
     "name": "stdout",
     "output_type": "stream",
     "text": [
      "WARNING:tensorflow:`input_shape` is undefined or non-square, or `rows` is not in [96, 128, 160, 192, 224]. Weights for input shape (224, 224) will be loaded as the default.\n",
      "Epoch 1/5\n",
      "37/37 [==============================] - 48s 618ms/step - loss: 0.5285\n",
      "Epoch 2/5\n",
      "37/37 [==============================] - 23s 617ms/step - loss: 0.3789\n",
      "Epoch 3/5\n",
      "37/37 [==============================] - 23s 619ms/step - loss: 0.3652\n",
      "Epoch 4/5\n",
      "37/37 [==============================] - 23s 619ms/step - loss: 0.3051\n",
      "Epoch 5/5\n",
      "37/37 [==============================] - 23s 618ms/step - loss: 0.2713\n"
     ]
    },
    {
     "name": "stderr",
     "output_type": "stream",
     "text": [
      " Fold 11 F1: 0.3076923076923077:  41%|████      | 11/27 [28:57<41:50, 156.93s/it]"
     ]
    },
    {
     "name": "stdout",
     "output_type": "stream",
     "text": [
      "WARNING:tensorflow:`input_shape` is undefined or non-square, or `rows` is not in [96, 128, 160, 192, 224]. Weights for input shape (224, 224) will be loaded as the default.\n",
      "Epoch 1/5\n",
      "37/37 [==============================] - 47s 625ms/step - loss: 0.5061\n",
      "Epoch 2/5\n",
      "37/37 [==============================] - 23s 625ms/step - loss: 0.3576\n",
      "Epoch 3/5\n",
      "37/37 [==============================] - 23s 624ms/step - loss: 0.3161\n",
      "Epoch 4/5\n",
      "37/37 [==============================] - 24s 626ms/step - loss: 0.3513\n",
      "Epoch 5/5\n",
      "37/37 [==============================] - 24s 626ms/step - loss: 0.3022\n"
     ]
    },
    {
     "name": "stderr",
     "output_type": "stream",
     "text": [
      " Fold 12 F1: 0.047619047619047616:  44%|████▍     | 12/27 [31:33<39:11, 156.74s/it]"
     ]
    },
    {
     "name": "stdout",
     "output_type": "stream",
     "text": [
      "WARNING:tensorflow:`input_shape` is undefined or non-square, or `rows` is not in [96, 128, 160, 192, 224]. Weights for input shape (224, 224) will be loaded as the default.\n",
      "Epoch 1/5\n",
      "37/37 [==============================] - 49s 622ms/step - loss: 0.4862\n",
      "Epoch 2/5\n",
      "37/37 [==============================] - 23s 621ms/step - loss: 0.3279\n",
      "Epoch 3/5\n",
      "37/37 [==============================] - 23s 623ms/step - loss: 0.3287\n",
      "Epoch 4/5\n",
      "37/37 [==============================] - 23s 622ms/step - loss: 0.2945\n",
      "Epoch 5/5\n",
      "37/37 [==============================] - 23s 622ms/step - loss: 0.3107\n"
     ]
    },
    {
     "name": "stderr",
     "output_type": "stream",
     "text": [
      " Fold 13 F1: 0.49122807017543857:  48%|████▊     | 13/27 [34:11<36:37, 156.99s/it] "
     ]
    },
    {
     "name": "stdout",
     "output_type": "stream",
     "text": [
      "WARNING:tensorflow:`input_shape` is undefined or non-square, or `rows` is not in [96, 128, 160, 192, 224]. Weights for input shape (224, 224) will be loaded as the default.\n",
      "Epoch 1/5\n",
      "37/37 [==============================] - 47s 620ms/step - loss: 0.5164\n",
      "Epoch 2/5\n",
      "37/37 [==============================] - 23s 620ms/step - loss: 0.4345\n",
      "Epoch 3/5\n",
      "37/37 [==============================] - 23s 619ms/step - loss: 0.3938\n",
      "Epoch 4/5\n",
      "37/37 [==============================] - 23s 621ms/step - loss: 0.2792\n",
      "Epoch 5/5\n",
      "37/37 [==============================] - 23s 622ms/step - loss: 0.2868\n"
     ]
    },
    {
     "name": "stderr",
     "output_type": "stream",
     "text": [
      " Fold 14 F1: 1.0:  52%|█████▏    | 14/27 [36:46<33:51, 156.30s/it]                "
     ]
    },
    {
     "name": "stdout",
     "output_type": "stream",
     "text": [
      "WARNING:tensorflow:`input_shape` is undefined or non-square, or `rows` is not in [96, 128, 160, 192, 224]. Weights for input shape (224, 224) will be loaded as the default.\n",
      "Epoch 1/5\n",
      "37/37 [==============================] - 49s 628ms/step - loss: 0.4541\n",
      "Epoch 2/5\n",
      "37/37 [==============================] - 24s 629ms/step - loss: 0.3739\n",
      "Epoch 3/5\n",
      "37/37 [==============================] - 24s 629ms/step - loss: 0.3332\n",
      "Epoch 4/5\n",
      "37/37 [==============================] - 24s 628ms/step - loss: 0.2874\n",
      "Epoch 5/5\n",
      "37/37 [==============================] - 24s 628ms/step - loss: 0.2870\n"
     ]
    },
    {
     "name": "stderr",
     "output_type": "stream",
     "text": [
      " Fold 15 F1: 0.3981900452488688:  56%|█████▌    | 15/27 [39:25<31:25, 157.12s/it]"
     ]
    },
    {
     "name": "stdout",
     "output_type": "stream",
     "text": [
      "WARNING:tensorflow:`input_shape` is undefined or non-square, or `rows` is not in [96, 128, 160, 192, 224]. Weights for input shape (224, 224) will be loaded as the default.\n",
      "Epoch 1/5\n",
      "37/37 [==============================] - 47s 619ms/step - loss: 0.4158\n",
      "Epoch 2/5\n",
      "37/37 [==============================] - 23s 621ms/step - loss: 0.3297\n",
      "Epoch 3/5\n",
      "37/37 [==============================] - 23s 620ms/step - loss: 0.3601\n",
      "Epoch 4/5\n",
      "37/37 [==============================] - 23s 620ms/step - loss: 0.2720\n",
      "Epoch 5/5\n",
      "37/37 [==============================] - 23s 621ms/step - loss: 0.2614\n"
     ]
    },
    {
     "name": "stderr",
     "output_type": "stream",
     "text": [
      " Fold 16 F1: 0.6363636363636364:  59%|█████▉    | 16/27 [42:00<28:42, 156.56s/it]"
     ]
    },
    {
     "name": "stdout",
     "output_type": "stream",
     "text": [
      "WARNING:tensorflow:`input_shape` is undefined or non-square, or `rows` is not in [96, 128, 160, 192, 224]. Weights for input shape (224, 224) will be loaded as the default.\n",
      "Epoch 1/5\n",
      "37/37 [==============================] - 46s 623ms/step - loss: 0.4121\n",
      "Epoch 2/5\n",
      "37/37 [==============================] - 23s 623ms/step - loss: 0.3282\n",
      "Epoch 3/5\n",
      "37/37 [==============================] - 23s 624ms/step - loss: 0.3344\n",
      "Epoch 4/5\n",
      "37/37 [==============================] - 23s 623ms/step - loss: 0.2682\n",
      "Epoch 5/5\n",
      "37/37 [==============================] - 23s 622ms/step - loss: 0.2498\n"
     ]
    },
    {
     "name": "stderr",
     "output_type": "stream",
     "text": [
      " Fold 17 F1: 0.8181818181818182:  63%|██████▎   | 17/27 [44:38<26:09, 156.95s/it]"
     ]
    },
    {
     "name": "stdout",
     "output_type": "stream",
     "text": [
      "WARNING:tensorflow:`input_shape` is undefined or non-square, or `rows` is not in [96, 128, 160, 192, 224]. Weights for input shape (224, 224) will be loaded as the default.\n",
      "Epoch 1/5\n",
      "37/37 [==============================] - 47s 619ms/step - loss: 0.3800\n",
      "Epoch 2/5\n",
      "37/37 [==============================] - 23s 618ms/step - loss: 0.3639\n",
      "Epoch 3/5\n",
      "37/37 [==============================] - 23s 621ms/step - loss: 0.3552\n",
      "Epoch 4/5\n",
      "37/37 [==============================] - 23s 620ms/step - loss: 0.2609\n",
      "Epoch 5/5\n",
      "37/37 [==============================] - 23s 621ms/step - loss: 0.2580\n"
     ]
    },
    {
     "name": "stderr",
     "output_type": "stream",
     "text": [
      " Fold 18 F1: 0.9137254901960784:  67%|██████▋   | 18/27 [47:16<23:36, 157.38s/it]"
     ]
    },
    {
     "name": "stdout",
     "output_type": "stream",
     "text": [
      "WARNING:tensorflow:`input_shape` is undefined or non-square, or `rows` is not in [96, 128, 160, 192, 224]. Weights for input shape (224, 224) will be loaded as the default.\n",
      "Epoch 1/5\n",
      "37/37 [==============================] - 46s 625ms/step - loss: 0.3950\n",
      "Epoch 2/5\n",
      "37/37 [==============================] - 24s 628ms/step - loss: 0.4657\n",
      "Epoch 3/5\n",
      "37/37 [==============================] - 24s 627ms/step - loss: 0.3272\n",
      "Epoch 4/5\n",
      "37/37 [==============================] - 24s 626ms/step - loss: 0.2835\n",
      "Epoch 5/5\n",
      "37/37 [==============================] - 24s 627ms/step - loss: 0.2720\n"
     ]
    },
    {
     "name": "stderr",
     "output_type": "stream",
     "text": [
      " Fold 19 F1: 1.0:  70%|███████   | 19/27 [49:52<20:54, 156.84s/it]               "
     ]
    },
    {
     "name": "stdout",
     "output_type": "stream",
     "text": [
      "WARNING:tensorflow:`input_shape` is undefined or non-square, or `rows` is not in [96, 128, 160, 192, 224]. Weights for input shape (224, 224) will be loaded as the default.\n",
      "Epoch 1/5\n",
      "37/37 [==============================] - 49s 620ms/step - loss: 0.5850\n",
      "Epoch 2/5\n",
      "37/37 [==============================] - 23s 621ms/step - loss: 0.4277\n",
      "Epoch 3/5\n",
      "37/37 [==============================] - 23s 621ms/step - loss: 0.3258\n",
      "Epoch 4/5\n",
      "37/37 [==============================] - 23s 622ms/step - loss: 0.3247\n",
      "Epoch 5/5\n",
      "37/37 [==============================] - 23s 622ms/step - loss: 0.2783\n"
     ]
    },
    {
     "name": "stderr",
     "output_type": "stream",
     "text": [
      " Fold 20 F1: 1.0:  74%|███████▍  | 20/27 [52:28<18:16, 156.70s/it]"
     ]
    },
    {
     "name": "stdout",
     "output_type": "stream",
     "text": [
      "WARNING:tensorflow:`input_shape` is undefined or non-square, or `rows` is not in [96, 128, 160, 192, 224]. Weights for input shape (224, 224) will be loaded as the default.\n",
      "Epoch 1/5\n",
      "37/37 [==============================] - 47s 619ms/step - loss: 0.4349\n",
      "Epoch 2/5\n",
      "37/37 [==============================] - 23s 620ms/step - loss: 0.4534\n",
      "Epoch 3/5\n",
      "37/37 [==============================] - 23s 619ms/step - loss: 0.3268\n",
      "Epoch 4/5\n",
      "37/37 [==============================] - 23s 620ms/step - loss: 0.2868\n",
      "Epoch 5/5\n",
      "37/37 [==============================] - 23s 620ms/step - loss: 0.2646\n"
     ]
    },
    {
     "name": "stderr",
     "output_type": "stream",
     "text": [
      " Fold 21 F1: 0.8181818181818182:  78%|███████▊  | 21/27 [55:03<15:36, 156.16s/it]"
     ]
    },
    {
     "name": "stdout",
     "output_type": "stream",
     "text": [
      "WARNING:tensorflow:`input_shape` is undefined or non-square, or `rows` is not in [96, 128, 160, 192, 224]. Weights for input shape (224, 224) will be loaded as the default.\n",
      "Epoch 1/5\n",
      "37/37 [==============================] - 46s 623ms/step - loss: 0.4492\n",
      "Epoch 2/5\n",
      "37/37 [==============================] - 24s 625ms/step - loss: 0.3645\n",
      "Epoch 3/5\n",
      "37/37 [==============================] - 23s 625ms/step - loss: 0.3364\n",
      "Epoch 4/5\n",
      "37/37 [==============================] - 23s 625ms/step - loss: 0.3070\n",
      "Epoch 5/5\n",
      "37/37 [==============================] - 24s 626ms/step - loss: 0.2740\n"
     ]
    },
    {
     "name": "stderr",
     "output_type": "stream",
     "text": [
      " Fold 22 F1: 0.6666666666666669:  81%|████████▏ | 22/27 [57:41<13:03, 156.75s/it]"
     ]
    },
    {
     "name": "stdout",
     "output_type": "stream",
     "text": [
      "WARNING:tensorflow:`input_shape` is undefined or non-square, or `rows` is not in [96, 128, 160, 192, 224]. Weights for input shape (224, 224) will be loaded as the default.\n",
      "Epoch 1/5\n",
      "32/32 [==============================] - 44s 619ms/step - loss: 0.3887\n",
      "Epoch 2/5\n",
      "32/32 [==============================] - 20s 620ms/step - loss: 0.2995\n",
      "Epoch 3/5\n",
      "32/32 [==============================] - 20s 621ms/step - loss: 0.2520\n",
      "Epoch 4/5\n",
      "32/32 [==============================] - 20s 620ms/step - loss: 0.2521\n",
      "Epoch 5/5\n",
      "32/32 [==============================] - 20s 619ms/step - loss: 0.2123\n"
     ]
    },
    {
     "name": "stderr",
     "output_type": "stream",
     "text": [
      " Fold 23 F1: 0.5620689655172414:  85%|████████▌ | 23/27 [1:00:16<10:24, 156.23s/it]"
     ]
    },
    {
     "name": "stdout",
     "output_type": "stream",
     "text": [
      "WARNING:tensorflow:`input_shape` is undefined or non-square, or `rows` is not in [96, 128, 160, 192, 224]. Weights for input shape (224, 224) will be loaded as the default.\n",
      "Epoch 1/5\n",
      "29/29 [==============================] - 41s 627ms/step - loss: 0.5990\n",
      "Epoch 2/5\n",
      "29/29 [==============================] - 19s 629ms/step - loss: 0.4778\n",
      "Epoch 3/5\n",
      "29/29 [==============================] - 19s 627ms/step - loss: 0.4436\n",
      "Epoch 4/5\n",
      "29/29 [==============================] - 19s 628ms/step - loss: 0.3655\n",
      "Epoch 5/5\n",
      "29/29 [==============================] - 19s 628ms/step - loss: 0.4060\n"
     ]
    },
    {
     "name": "stderr",
     "output_type": "stream",
     "text": [
      " Fold 24 F1: 0.9379432624113474:  89%|████████▉ | 24/27 [1:02:46<07:42, 154.21s/it]"
     ]
    },
    {
     "name": "stdout",
     "output_type": "stream",
     "text": [
      "WARNING:tensorflow:`input_shape` is undefined or non-square, or `rows` is not in [96, 128, 160, 192, 224]. Weights for input shape (224, 224) will be loaded as the default.\n",
      "Epoch 1/5\n",
      "36/36 [==============================] - 49s 621ms/step - loss: 0.4158\n",
      "Epoch 2/5\n",
      "36/36 [==============================] - 23s 620ms/step - loss: 0.3158\n",
      "Epoch 3/5\n",
      "36/36 [==============================] - 23s 620ms/step - loss: 0.3207\n",
      "Epoch 4/5\n",
      "36/36 [==============================] - 23s 621ms/step - loss: 0.2638\n",
      "Epoch 5/5\n",
      "36/36 [==============================] - 23s 621ms/step - loss: 0.2333\n"
     ]
    },
    {
     "name": "stderr",
     "output_type": "stream",
     "text": [
      " Fold 25 F1: 0.3793103448275862:  93%|█████████▎| 25/27 [1:05:23<05:10, 155.02s/it]"
     ]
    },
    {
     "name": "stdout",
     "output_type": "stream",
     "text": [
      "WARNING:tensorflow:`input_shape` is undefined or non-square, or `rows` is not in [96, 128, 160, 192, 224]. Weights for input shape (224, 224) will be loaded as the default.\n",
      "Epoch 1/5\n",
      "33/33 [==============================] - 45s 623ms/step - loss: 0.4845\n",
      "Epoch 2/5\n",
      "33/33 [==============================] - 21s 624ms/step - loss: 0.4290\n",
      "Epoch 3/5\n",
      "33/33 [==============================] - 21s 625ms/step - loss: 0.4027\n",
      "Epoch 4/5\n",
      "33/33 [==============================] - 21s 624ms/step - loss: 0.3388\n",
      "Epoch 5/5\n",
      "33/33 [==============================] - 21s 625ms/step - loss: 0.3149\n"
     ]
    },
    {
     "name": "stderr",
     "output_type": "stream",
     "text": [
      " Fold 26 F1: 0.9792152292152293:  96%|█████████▋| 26/27 [1:07:58<02:35, 155.08s/it]"
     ]
    },
    {
     "name": "stdout",
     "output_type": "stream",
     "text": [
      "WARNING:tensorflow:`input_shape` is undefined or non-square, or `rows` is not in [96, 128, 160, 192, 224]. Weights for input shape (224, 224) will be loaded as the default.\n",
      "Epoch 1/5\n",
      "35/35 [==============================] - 46s 637ms/step - loss: 0.4412\n",
      "Epoch 2/5\n",
      "35/35 [==============================] - 23s 636ms/step - loss: 0.3221\n",
      "Epoch 3/5\n",
      "35/35 [==============================] - 23s 638ms/step - loss: 0.3068\n",
      "Epoch 4/5\n",
      "35/35 [==============================] - 23s 636ms/step - loss: 0.2402\n",
      "Epoch 5/5\n",
      "35/35 [==============================] - 23s 638ms/step - loss: 0.2327\n"
     ]
    },
    {
     "name": "stderr",
     "output_type": "stream",
     "text": [
      " Fold 27 F1: 0.3542640444483641: 100%|██████████| 27/27 [1:10:34<00:00, 156.83s/it]"
     ]
    },
    {
     "name": "stdout",
     "output_type": "stream",
     "text": [
      "Performance model:\n",
      " accuracy: 0.7 +- 0.268 \n",
      "\n",
      " balanced_accuracy: 0.645 +- 0.254 \n",
      "\n",
      " f1: 0.681 +- 0.276 \n",
      "\n",
      " recall: 0.7 +- 0.268 \n",
      "\n",
      " precision: 0.732 +- 0.26 \n",
      "\n",
      "WARNING:tensorflow:`input_shape` is undefined or non-square, or `rows` is not in [96, 128, 160, 192, 224]. Weights for input shape (224, 224) will be loaded as the default.\n"
     ]
    },
    {
     "name": "stderr",
     "output_type": "stream",
     "text": [
      "\n"
     ]
    },
    {
     "name": "stdout",
     "output_type": "stream",
     "text": [
      "Starting stratified group 5-fold for mental fatigue\n"
     ]
    },
    {
     "name": "stderr",
     "output_type": "stream",
     "text": [
      "  0%|          | 0/5 [00:00<?, ?it/s]"
     ]
    },
    {
     "name": "stdout",
     "output_type": "stream",
     "text": [
      "WARNING:tensorflow:`input_shape` is undefined or non-square, or `rows` is not in [96, 128, 160, 192, 224]. Weights for input shape (224, 224) will be loaded as the default.\n",
      "Epoch 1/5\n",
      "36/36 [==============================] - 49s 627ms/step - loss: 0.6620\n",
      "Epoch 2/5\n",
      "36/36 [==============================] - 23s 628ms/step - loss: 0.4975\n",
      "Epoch 3/5\n",
      "36/36 [==============================] - 23s 627ms/step - loss: 0.5049\n",
      "Epoch 4/5\n",
      "36/36 [==============================] - 23s 628ms/step - loss: 0.4296\n",
      "Epoch 5/5\n",
      "36/36 [==============================] - 23s 628ms/step - loss: 0.4010\n"
     ]
    },
    {
     "name": "stderr",
     "output_type": "stream",
     "text": [
      " Fold 1 F1: 0.3125:  20%|██        | 1/5 [02:39<10:39, 159.89s/it]"
     ]
    },
    {
     "name": "stdout",
     "output_type": "stream",
     "text": [
      "WARNING:tensorflow:`input_shape` is undefined or non-square, or `rows` is not in [96, 128, 160, 192, 224]. Weights for input shape (224, 224) will be loaded as the default.\n",
      "Epoch 1/5\n",
      "22/22 [==============================] - 37s 616ms/step - loss: 0.5923\n",
      "Epoch 2/5\n",
      "22/22 [==============================] - 14s 616ms/step - loss: 0.5801\n",
      "Epoch 3/5\n",
      "22/22 [==============================] - 14s 619ms/step - loss: 0.4347\n",
      "Epoch 4/5\n",
      "22/22 [==============================] - 14s 619ms/step - loss: 0.3665\n",
      "Epoch 5/5\n",
      "22/22 [==============================] - 14s 618ms/step - loss: 0.3454\n"
     ]
    },
    {
     "name": "stderr",
     "output_type": "stream",
     "text": [
      " Fold 2 F1: 0.515654786572731:  40%|████      | 2/5 [05:07<07:37, 152.55s/it]"
     ]
    },
    {
     "name": "stdout",
     "output_type": "stream",
     "text": [
      "WARNING:tensorflow:`input_shape` is undefined or non-square, or `rows` is not in [96, 128, 160, 192, 224]. Weights for input shape (224, 224) will be loaded as the default.\n",
      "Epoch 1/5\n",
      "37/37 [==============================] - 46s 620ms/step - loss: 0.6301\n",
      "Epoch 2/5\n",
      "37/37 [==============================] - 23s 620ms/step - loss: 0.4062\n",
      "Epoch 3/5\n",
      "37/37 [==============================] - 23s 620ms/step - loss: 0.4290\n",
      "Epoch 4/5\n",
      "37/37 [==============================] - 23s 620ms/step - loss: 0.4221\n",
      "Epoch 5/5\n",
      "37/37 [==============================] - 23s 620ms/step - loss: 0.3447\n"
     ]
    },
    {
     "name": "stderr",
     "output_type": "stream",
     "text": [
      " Fold 3 F1: 0.625:  60%|██████    | 3/5 [07:41<05:06, 153.38s/it]            "
     ]
    },
    {
     "name": "stdout",
     "output_type": "stream",
     "text": [
      "WARNING:tensorflow:`input_shape` is undefined or non-square, or `rows` is not in [96, 128, 160, 192, 224]. Weights for input shape (224, 224) will be loaded as the default.\n",
      "Epoch 1/5\n",
      "32/32 [==============================] - 46s 625ms/step - loss: 0.5379\n",
      "Epoch 2/5\n",
      "32/32 [==============================] - 20s 624ms/step - loss: 0.3975\n",
      "Epoch 3/5\n",
      "32/32 [==============================] - 20s 624ms/step - loss: 0.4559\n",
      "Epoch 4/5\n",
      "32/32 [==============================] - 20s 623ms/step - loss: 0.3872\n",
      "Epoch 5/5\n",
      "32/32 [==============================] - 20s 624ms/step - loss: 0.4057\n"
     ]
    },
    {
     "name": "stderr",
     "output_type": "stream",
     "text": [
      " Fold 4 F1: 0.4678544200172477:  80%|████████  | 4/5 [10:15<02:33, 153.74s/it]"
     ]
    },
    {
     "name": "stdout",
     "output_type": "stream",
     "text": [
      "WARNING:tensorflow:`input_shape` is undefined or non-square, or `rows` is not in [96, 128, 160, 192, 224]. Weights for input shape (224, 224) will be loaded as the default.\n",
      "Epoch 1/5\n",
      "24/24 [==============================] - 40s 628ms/step - loss: 0.6907\n",
      "Epoch 2/5\n",
      "24/24 [==============================] - 15s 628ms/step - loss: 0.4938\n",
      "Epoch 3/5\n",
      "24/24 [==============================] - 15s 630ms/step - loss: 0.4684\n",
      "Epoch 4/5\n",
      "24/24 [==============================] - 15s 629ms/step - loss: 0.4257\n",
      "Epoch 5/5\n",
      "24/24 [==============================] - 15s 630ms/step - loss: 0.4009\n"
     ]
    },
    {
     "name": "stderr",
     "output_type": "stream",
     "text": [
      " Fold 5 F1: 0.5861603303137647: 100%|██████████| 5/5 [12:45<00:00, 153.01s/it]\n"
     ]
    },
    {
     "name": "stdout",
     "output_type": "stream",
     "text": [
      "Performance model:\n",
      " accuracy: 0.471 +- 0.086 \n",
      "\n",
      " balanced_accuracy: 0.526 +- 0.047 \n",
      "\n",
      " f1: 0.501 +- 0.109 \n",
      "\n",
      " recall: 0.471 +- 0.086 \n",
      "\n",
      " precision: 0.742 +- 0.165 \n",
      "\n",
      "Starting leave-one-subject-out for mental fatigue\n"
     ]
    },
    {
     "name": "stderr",
     "output_type": "stream",
     "text": [
      "  0%|          | 0/27 [00:00<?, ?it/s]"
     ]
    },
    {
     "name": "stdout",
     "output_type": "stream",
     "text": [
      "WARNING:tensorflow:`input_shape` is undefined or non-square, or `rows` is not in [96, 128, 160, 192, 224]. Weights for input shape (224, 224) will be loaded as the default.\n",
      "Epoch 1/5\n",
      "37/37 [==============================] - 47s 633ms/step - loss: 0.5351\n",
      "Epoch 2/5\n",
      "37/37 [==============================] - 24s 633ms/step - loss: 0.4610\n",
      "Epoch 3/5\n",
      "37/37 [==============================] - 24s 634ms/step - loss: 0.4071\n",
      "Epoch 4/5\n",
      "37/37 [==============================] - 24s 633ms/step - loss: 0.4333\n",
      "Epoch 5/5\n",
      "37/37 [==============================] - 24s 634ms/step - loss: 0.4273\n"
     ]
    },
    {
     "name": "stderr",
     "output_type": "stream",
     "text": [
      " Fold 1 F1: 0.2787878787878788:   4%|▎         | 1/27 [02:39<1:09:15, 159.82s/it]"
     ]
    },
    {
     "name": "stdout",
     "output_type": "stream",
     "text": [
      "WARNING:tensorflow:`input_shape` is undefined or non-square, or `rows` is not in [96, 128, 160, 192, 224]. Weights for input shape (224, 224) will be loaded as the default.\n",
      "Epoch 1/5\n",
      "38/38 [==============================] - 48s 628ms/step - loss: 0.5645\n",
      "Epoch 2/5\n",
      "38/38 [==============================] - 24s 630ms/step - loss: 0.4671\n",
      "Epoch 3/5\n",
      "38/38 [==============================] - 24s 628ms/step - loss: 0.4316\n",
      "Epoch 4/5\n",
      "38/38 [==============================] - 24s 629ms/step - loss: 0.4323\n",
      "Epoch 5/5\n",
      "38/38 [==============================] - 24s 628ms/step - loss: 0.3801\n"
     ]
    },
    {
     "name": "stderr",
     "output_type": "stream",
     "text": [
      " Fold 2 F1: 1.0:   7%|▋         | 2/27 [05:21<1:07:03, 160.93s/it]               "
     ]
    },
    {
     "name": "stdout",
     "output_type": "stream",
     "text": [
      "WARNING:tensorflow:`input_shape` is undefined or non-square, or `rows` is not in [96, 128, 160, 192, 224]. Weights for input shape (224, 224) will be loaded as the default.\n",
      "Epoch 1/5\n",
      "37/37 [==============================] - 47s 633ms/step - loss: 0.5618\n",
      "Epoch 2/5\n",
      "37/37 [==============================] - 24s 634ms/step - loss: 0.4299\n",
      "Epoch 3/5\n",
      "37/37 [==============================] - 24s 631ms/step - loss: 0.4427\n",
      "Epoch 4/5\n",
      "37/37 [==============================] - 24s 632ms/step - loss: 0.4252\n",
      "Epoch 5/5\n",
      "37/37 [==============================] - 24s 632ms/step - loss: 0.4437\n"
     ]
    },
    {
     "name": "stderr",
     "output_type": "stream",
     "text": [
      " Fold 3 F1: 0.2450980392156863:  11%|█         | 3/27 [07:58<1:03:37, 159.05s/it]"
     ]
    },
    {
     "name": "stdout",
     "output_type": "stream",
     "text": [
      "WARNING:tensorflow:`input_shape` is undefined or non-square, or `rows` is not in [96, 128, 160, 192, 224]. Weights for input shape (224, 224) will be loaded as the default.\n",
      "Epoch 1/5\n",
      "37/37 [==============================] - 49s 622ms/step - loss: 0.5647\n",
      "Epoch 2/5\n",
      "37/37 [==============================] - 23s 623ms/step - loss: 0.4298\n",
      "Epoch 3/5\n",
      "37/37 [==============================] - 23s 623ms/step - loss: 0.4203\n",
      "Epoch 4/5\n",
      "37/37 [==============================] - 23s 623ms/step - loss: 0.5260\n",
      "Epoch 5/5\n",
      "37/37 [==============================] - 24s 638ms/step - loss: 0.4356\n"
     ]
    },
    {
     "name": "stderr",
     "output_type": "stream",
     "text": [
      " Fold 4 F1: 0.4588744588744589:  15%|█▍        | 4/27 [10:36<1:00:50, 158.70s/it]"
     ]
    },
    {
     "name": "stdout",
     "output_type": "stream",
     "text": [
      "WARNING:tensorflow:`input_shape` is undefined or non-square, or `rows` is not in [96, 128, 160, 192, 224]. Weights for input shape (224, 224) will be loaded as the default.\n",
      "Epoch 1/5\n",
      "37/37 [==============================] - 49s 617ms/step - loss: 0.5238\n",
      "Epoch 2/5\n",
      "37/37 [==============================] - 23s 619ms/step - loss: 0.4789\n",
      "Epoch 3/5\n",
      "37/37 [==============================] - 23s 620ms/step - loss: 0.5275\n",
      "Epoch 4/5\n",
      "37/37 [==============================] - 23s 621ms/step - loss: 0.4309\n",
      "Epoch 5/5\n",
      "37/37 [==============================] - 23s 620ms/step - loss: 0.3738\n"
     ]
    },
    {
     "name": "stderr",
     "output_type": "stream",
     "text": [
      " Fold 5 F1: 0.0:  19%|█▊        | 5/27 [13:15<58:12, 158.75s/it]                 "
     ]
    },
    {
     "name": "stdout",
     "output_type": "stream",
     "text": [
      "WARNING:tensorflow:`input_shape` is undefined or non-square, or `rows` is not in [96, 128, 160, 192, 224]. Weights for input shape (224, 224) will be loaded as the default.\n",
      "Epoch 1/5\n",
      "37/37 [==============================] - 49s 620ms/step - loss: 0.5399\n",
      "Epoch 2/5\n",
      "37/37 [==============================] - 23s 621ms/step - loss: 0.4953\n",
      "Epoch 3/5\n",
      "37/37 [==============================] - 23s 619ms/step - loss: 0.4574\n",
      "Epoch 4/5\n",
      "37/37 [==============================] - 23s 618ms/step - loss: 0.4429\n",
      "Epoch 5/5\n",
      "37/37 [==============================] - 23s 618ms/step - loss: 0.3748\n"
     ]
    },
    {
     "name": "stderr",
     "output_type": "stream",
     "text": [
      " Fold 6 F1: 0.6333333333333333:  22%|██▏       | 6/27 [15:52<55:21, 158.16s/it]"
     ]
    },
    {
     "name": "stdout",
     "output_type": "stream",
     "text": [
      "WARNING:tensorflow:`input_shape` is undefined or non-square, or `rows` is not in [96, 128, 160, 192, 224]. Weights for input shape (224, 224) will be loaded as the default.\n",
      "Epoch 1/5\n",
      "38/38 [==============================] - 48s 620ms/step - loss: 0.5602\n",
      "Epoch 2/5\n",
      "38/38 [==============================] - 24s 620ms/step - loss: 0.5021\n",
      "Epoch 3/5\n",
      "38/38 [==============================] - 24s 621ms/step - loss: 0.5097\n",
      "Epoch 4/5\n",
      "38/38 [==============================] - 24s 621ms/step - loss: 0.5102\n",
      "Epoch 5/5\n",
      "38/38 [==============================] - 24s 621ms/step - loss: 0.3810\n"
     ]
    },
    {
     "name": "stderr",
     "output_type": "stream",
     "text": [
      " Fold 7 F1: 0.6666666666666666:  26%|██▌       | 7/27 [18:30<52:40, 158.04s/it]"
     ]
    },
    {
     "name": "stdout",
     "output_type": "stream",
     "text": [
      "WARNING:tensorflow:`input_shape` is undefined or non-square, or `rows` is not in [96, 128, 160, 192, 224]. Weights for input shape (224, 224) will be loaded as the default.\n",
      "Epoch 1/5\n",
      "37/37 [==============================] - 49s 626ms/step - loss: 0.5758\n",
      "Epoch 2/5\n",
      "37/37 [==============================] - 24s 626ms/step - loss: 0.4393\n",
      "Epoch 3/5\n",
      "37/37 [==============================] - 24s 626ms/step - loss: 0.4642\n",
      "Epoch 4/5\n",
      "37/37 [==============================] - 24s 626ms/step - loss: 0.4593\n",
      "Epoch 5/5\n",
      "37/37 [==============================] - 24s 626ms/step - loss: 0.4076\n"
     ]
    },
    {
     "name": "stderr",
     "output_type": "stream",
     "text": [
      " Fold 8 F1: 0.44967532467532456:  30%|██▉       | 8/27 [21:09<50:10, 158.42s/it]"
     ]
    },
    {
     "name": "stdout",
     "output_type": "stream",
     "text": [
      "WARNING:tensorflow:`input_shape` is undefined or non-square, or `rows` is not in [96, 128, 160, 192, 224]. Weights for input shape (224, 224) will be loaded as the default.\n",
      "Epoch 1/5\n",
      "37/37 [==============================] - 47s 619ms/step - loss: 0.6333\n",
      "Epoch 2/5\n",
      "37/37 [==============================] - 23s 621ms/step - loss: 0.4541\n",
      "Epoch 3/5\n",
      "37/37 [==============================] - 23s 620ms/step - loss: 0.4344\n",
      "Epoch 4/5\n",
      "37/37 [==============================] - 23s 621ms/step - loss: 0.4237\n",
      "Epoch 5/5\n",
      "37/37 [==============================] - 23s 620ms/step - loss: 0.4383\n"
     ]
    },
    {
     "name": "stderr",
     "output_type": "stream",
     "text": [
      " Fold 9 F1: 0.18181818181818182:  33%|███▎      | 9/27 [23:44<47:13, 157.43s/it]"
     ]
    },
    {
     "name": "stdout",
     "output_type": "stream",
     "text": [
      "WARNING:tensorflow:`input_shape` is undefined or non-square, or `rows` is not in [96, 128, 160, 192, 224]. Weights for input shape (224, 224) will be loaded as the default.\n",
      "Epoch 1/5\n",
      "37/37 [==============================] - 49s 622ms/step - loss: 0.5285\n",
      "Epoch 2/5\n",
      "37/37 [==============================] - 23s 621ms/step - loss: 0.4582\n",
      "Epoch 3/5\n",
      "37/37 [==============================] - 23s 624ms/step - loss: 0.4000\n",
      "Epoch 4/5\n",
      "37/37 [==============================] - 23s 624ms/step - loss: 0.3618\n",
      "Epoch 5/5\n",
      "37/37 [==============================] - 23s 623ms/step - loss: 0.3561\n"
     ]
    },
    {
     "name": "stderr",
     "output_type": "stream",
     "text": [
      " Fold 10 F1: 0.494949494949495:  37%|███▋      | 10/27 [26:21<44:34, 157.34s/it] "
     ]
    },
    {
     "name": "stdout",
     "output_type": "stream",
     "text": [
      "WARNING:tensorflow:`input_shape` is undefined or non-square, or `rows` is not in [96, 128, 160, 192, 224]. Weights for input shape (224, 224) will be loaded as the default.\n",
      "Epoch 1/5\n",
      "37/37 [==============================] - 47s 625ms/step - loss: 0.5631\n",
      "Epoch 2/5\n",
      "37/37 [==============================] - 24s 626ms/step - loss: 0.4490\n",
      "Epoch 3/5\n",
      "37/37 [==============================] - 24s 629ms/step - loss: 0.4037\n",
      "Epoch 4/5\n",
      "37/37 [==============================] - 24s 625ms/step - loss: 0.4180\n",
      "Epoch 5/5\n",
      "37/37 [==============================] - 24s 628ms/step - loss: 0.4113\n"
     ]
    },
    {
     "name": "stderr",
     "output_type": "stream",
     "text": [
      " Fold 11 F1: 0.3981900452488688:  41%|████      | 11/27 [28:58<41:55, 157.24s/it]"
     ]
    },
    {
     "name": "stdout",
     "output_type": "stream",
     "text": [
      "WARNING:tensorflow:`input_shape` is undefined or non-square, or `rows` is not in [96, 128, 160, 192, 224]. Weights for input shape (224, 224) will be loaded as the default.\n",
      "Epoch 1/5\n",
      "37/37 [==============================] - 50s 629ms/step - loss: 0.5445\n",
      "Epoch 2/5\n",
      "37/37 [==============================] - 24s 627ms/step - loss: 0.4486\n",
      "Epoch 3/5\n",
      "37/37 [==============================] - 24s 628ms/step - loss: 0.4164\n",
      "Epoch 4/5\n",
      "37/37 [==============================] - 24s 628ms/step - loss: 0.4572\n",
      "Epoch 5/5\n",
      "37/37 [==============================] - 24s 627ms/step - loss: 0.4675\n"
     ]
    },
    {
     "name": "stderr",
     "output_type": "stream",
     "text": [
      " Fold 12 F1: 0.7368421052631579:  44%|████▍     | 12/27 [31:37<39:27, 157.84s/it]"
     ]
    },
    {
     "name": "stdout",
     "output_type": "stream",
     "text": [
      "WARNING:tensorflow:`input_shape` is undefined or non-square, or `rows` is not in [96, 128, 160, 192, 224]. Weights for input shape (224, 224) will be loaded as the default.\n",
      "Epoch 1/5\n",
      "37/37 [==============================] - 47s 619ms/step - loss: 0.6147\n",
      "Epoch 2/5\n",
      "37/37 [==============================] - 23s 618ms/step - loss: 0.4867\n",
      "Epoch 3/5\n",
      "37/37 [==============================] - 23s 619ms/step - loss: 0.4180\n",
      "Epoch 4/5\n",
      "37/37 [==============================] - 23s 620ms/step - loss: 0.4183\n",
      "Epoch 5/5\n",
      "37/37 [==============================] - 23s 619ms/step - loss: 0.3772\n"
     ]
    },
    {
     "name": "stderr",
     "output_type": "stream",
     "text": [
      " Fold 13 F1: 0.3523809523809524:  48%|████▊     | 13/27 [34:13<36:39, 157.12s/it]"
     ]
    },
    {
     "name": "stdout",
     "output_type": "stream",
     "text": [
      "WARNING:tensorflow:`input_shape` is undefined or non-square, or `rows` is not in [96, 128, 160, 192, 224]. Weights for input shape (224, 224) will be loaded as the default.\n",
      "Epoch 1/5\n",
      "37/37 [==============================] - 47s 635ms/step - loss: 0.5326\n",
      "Epoch 2/5\n",
      "37/37 [==============================] - 24s 636ms/step - loss: 0.4373\n",
      "Epoch 3/5\n",
      "37/37 [==============================] - 24s 637ms/step - loss: 0.4643\n",
      "Epoch 4/5\n",
      "37/37 [==============================] - 24s 636ms/step - loss: 0.3994\n",
      "Epoch 5/5\n",
      "37/37 [==============================] - 24s 636ms/step - loss: 0.3779\n"
     ]
    },
    {
     "name": "stderr",
     "output_type": "stream",
     "text": [
      " Fold 14 F1: 0.19444444444444445:  52%|█████▏    | 14/27 [36:53<34:13, 157.99s/it]"
     ]
    },
    {
     "name": "stdout",
     "output_type": "stream",
     "text": [
      "WARNING:tensorflow:`input_shape` is undefined or non-square, or `rows` is not in [96, 128, 160, 192, 224]. Weights for input shape (224, 224) will be loaded as the default.\n",
      "Epoch 1/5\n",
      "37/37 [==============================] - 47s 619ms/step - loss: 0.6620\n",
      "Epoch 2/5\n",
      "37/37 [==============================] - 23s 623ms/step - loss: 0.5465\n",
      "Epoch 3/5\n",
      "37/37 [==============================] - 23s 621ms/step - loss: 0.4529\n",
      "Epoch 4/5\n",
      "37/37 [==============================] - 23s 622ms/step - loss: 0.4453\n",
      "Epoch 5/5\n",
      "37/37 [==============================] - 23s 622ms/step - loss: 0.3784\n"
     ]
    },
    {
     "name": "stderr",
     "output_type": "stream",
     "text": [
      " Fold 15 F1: 0.48653846153846153:  56%|█████▌    | 15/27 [39:32<31:41, 158.44s/it]"
     ]
    },
    {
     "name": "stdout",
     "output_type": "stream",
     "text": [
      "WARNING:tensorflow:`input_shape` is undefined or non-square, or `rows` is not in [96, 128, 160, 192, 224]. Weights for input shape (224, 224) will be loaded as the default.\n",
      "Epoch 1/5\n",
      "37/37 [==============================] - 47s 622ms/step - loss: 0.5800\n",
      "Epoch 2/5\n",
      "37/37 [==============================] - 23s 622ms/step - loss: 0.4909\n",
      "Epoch 3/5\n",
      "37/37 [==============================] - 23s 624ms/step - loss: 0.4315\n",
      "Epoch 4/5\n",
      "37/37 [==============================] - 23s 625ms/step - loss: 0.3978\n",
      "Epoch 5/5\n",
      "37/37 [==============================] - 23s 622ms/step - loss: 0.3692\n"
     ]
    },
    {
     "name": "stderr",
     "output_type": "stream",
     "text": [
      " Fold 16 F1: 0.6889952153110048:  59%|█████▉    | 16/27 [42:08<28:54, 157.69s/it] "
     ]
    },
    {
     "name": "stdout",
     "output_type": "stream",
     "text": [
      "WARNING:tensorflow:`input_shape` is undefined or non-square, or `rows` is not in [96, 128, 160, 192, 224]. Weights for input shape (224, 224) will be loaded as the default.\n",
      "Epoch 1/5\n",
      "37/37 [==============================] - 50s 636ms/step - loss: 0.6106\n",
      "Epoch 2/5\n",
      "37/37 [==============================] - 24s 636ms/step - loss: 0.4663\n",
      "Epoch 3/5\n",
      "37/37 [==============================] - 24s 635ms/step - loss: 0.4311\n",
      "Epoch 4/5\n",
      "37/37 [==============================] - 24s 635ms/step - loss: 0.4682\n",
      "Epoch 5/5\n",
      "37/37 [==============================] - 24s 636ms/step - loss: 0.3703\n"
     ]
    },
    {
     "name": "stderr",
     "output_type": "stream",
     "text": [
      " Fold 17 F1: 0.4454545454545455:  63%|██████▎   | 17/27 [44:49<26:26, 158.64s/it]"
     ]
    },
    {
     "name": "stdout",
     "output_type": "stream",
     "text": [
      "WARNING:tensorflow:`input_shape` is undefined or non-square, or `rows` is not in [96, 128, 160, 192, 224]. Weights for input shape (224, 224) will be loaded as the default.\n",
      "Epoch 1/5\n",
      "37/37 [==============================] - 48s 631ms/step - loss: 0.6495\n",
      "Epoch 2/5\n",
      "37/37 [==============================] - 24s 630ms/step - loss: 0.4423\n",
      "Epoch 3/5\n",
      "37/37 [==============================] - 24s 632ms/step - loss: 0.4275\n",
      "Epoch 4/5\n",
      "37/37 [==============================] - 24s 631ms/step - loss: 0.4151\n",
      "Epoch 5/5\n",
      "37/37 [==============================] - 24s 631ms/step - loss: 0.4073\n"
     ]
    },
    {
     "name": "stderr",
     "output_type": "stream",
     "text": [
      " Fold 18 F1: 0.2285714285714286:  67%|██████▋   | 18/27 [47:27<23:46, 158.49s/it]"
     ]
    },
    {
     "name": "stdout",
     "output_type": "stream",
     "text": [
      "WARNING:tensorflow:`input_shape` is undefined or non-square, or `rows` is not in [96, 128, 160, 192, 224]. Weights for input shape (224, 224) will be loaded as the default.\n",
      "Epoch 1/5\n",
      "37/37 [==============================] - 50s 638ms/step - loss: 0.5159\n",
      "Epoch 2/5\n",
      "37/37 [==============================] - 24s 637ms/step - loss: 0.4476\n",
      "Epoch 3/5\n",
      "37/37 [==============================] - 24s 638ms/step - loss: 0.4088\n",
      "Epoch 4/5\n",
      "37/37 [==============================] - 24s 637ms/step - loss: 0.3842\n",
      "Epoch 5/5\n",
      "37/37 [==============================] - 24s 638ms/step - loss: 0.4208\n"
     ]
    },
    {
     "name": "stderr",
     "output_type": "stream",
     "text": [
      " Fold 19 F1: 0.5764705882352941:  70%|███████   | 19/27 [50:09<21:14, 159.28s/it]"
     ]
    },
    {
     "name": "stdout",
     "output_type": "stream",
     "text": [
      "WARNING:tensorflow:`input_shape` is undefined or non-square, or `rows` is not in [96, 128, 160, 192, 224]. Weights for input shape (224, 224) will be loaded as the default.\n",
      "Epoch 1/5\n",
      "37/37 [==============================] - 48s 623ms/step - loss: 0.5818\n",
      "Epoch 2/5\n",
      "37/37 [==============================] - 23s 623ms/step - loss: 0.5001\n",
      "Epoch 3/5\n",
      "37/37 [==============================] - 23s 622ms/step - loss: 0.4320\n",
      "Epoch 4/5\n",
      "37/37 [==============================] - 23s 624ms/step - loss: 0.3980\n",
      "Epoch 5/5\n",
      "37/37 [==============================] - 23s 623ms/step - loss: 0.4262\n"
     ]
    },
    {
     "name": "stderr",
     "output_type": "stream",
     "text": [
      " Fold 20 F1: 0.0:  74%|███████▍  | 20/27 [52:45<18:28, 158.31s/it]               "
     ]
    },
    {
     "name": "stdout",
     "output_type": "stream",
     "text": [
      "WARNING:tensorflow:`input_shape` is undefined or non-square, or `rows` is not in [96, 128, 160, 192, 224]. Weights for input shape (224, 224) will be loaded as the default.\n",
      "Epoch 1/5\n",
      "37/37 [==============================] - 50s 628ms/step - loss: 0.4984\n",
      "Epoch 2/5\n",
      "37/37 [==============================] - 24s 627ms/step - loss: 0.5246\n",
      "Epoch 3/5\n",
      "37/37 [==============================] - 24s 627ms/step - loss: 0.4228\n",
      "Epoch 4/5\n",
      "37/37 [==============================] - 24s 627ms/step - loss: 0.3717\n",
      "Epoch 5/5\n",
      "37/37 [==============================] - 24s 628ms/step - loss: 0.3381\n"
     ]
    },
    {
     "name": "stderr",
     "output_type": "stream",
     "text": [
      " Fold 21 F1: 0.7777777777777778:  78%|███████▊  | 21/27 [55:24<15:52, 158.71s/it]"
     ]
    },
    {
     "name": "stdout",
     "output_type": "stream",
     "text": [
      "WARNING:tensorflow:`input_shape` is undefined or non-square, or `rows` is not in [96, 128, 160, 192, 224]. Weights for input shape (224, 224) will be loaded as the default.\n",
      "Epoch 1/5\n",
      "37/37 [==============================] - 49s 636ms/step - loss: 0.5593\n",
      "Epoch 2/5\n",
      "37/37 [==============================] - 24s 637ms/step - loss: 0.4800\n",
      "Epoch 3/5\n",
      "37/37 [==============================] - 24s 637ms/step - loss: 0.5039\n",
      "Epoch 4/5\n",
      "37/37 [==============================] - 24s 637ms/step - loss: 0.4484\n",
      "Epoch 5/5\n",
      "37/37 [==============================] - 24s 637ms/step - loss: 0.3966\n"
     ]
    },
    {
     "name": "stderr",
     "output_type": "stream",
     "text": [
      " Fold 22 F1: 0.16666666666666666:  81%|████████▏ | 22/27 [58:04<13:15, 159.04s/it]"
     ]
    },
    {
     "name": "stdout",
     "output_type": "stream",
     "text": [
      "WARNING:tensorflow:`input_shape` is undefined or non-square, or `rows` is not in [96, 128, 160, 192, 224]. Weights for input shape (224, 224) will be loaded as the default.\n",
      "Epoch 1/5\n",
      "32/32 [==============================] - 47s 629ms/step - loss: 0.6191\n",
      "Epoch 2/5\n",
      "32/32 [==============================] - 20s 629ms/step - loss: 0.4479\n",
      "Epoch 3/5\n",
      "32/32 [==============================] - 20s 629ms/step - loss: 0.4258\n",
      "Epoch 4/5\n",
      "32/32 [==============================] - 21s 629ms/step - loss: 0.3787\n",
      "Epoch 5/5\n",
      "32/32 [==============================] - 21s 629ms/step - loss: 0.3666\n"
     ]
    },
    {
     "name": "stderr",
     "output_type": "stream",
     "text": [
      " Fold 23 F1: 0.6091428571428571:  85%|████████▌ | 23/27 [1:00:41<10:33, 158.47s/it] "
     ]
    },
    {
     "name": "stdout",
     "output_type": "stream",
     "text": [
      "WARNING:tensorflow:`input_shape` is undefined or non-square, or `rows` is not in [96, 128, 160, 192, 224]. Weights for input shape (224, 224) will be loaded as the default.\n",
      "Epoch 1/5\n",
      "29/29 [==============================] - 43s 623ms/step - loss: 0.6860\n",
      "Epoch 2/5\n",
      "29/29 [==============================] - 18s 624ms/step - loss: 0.5459\n",
      "Epoch 3/5\n",
      "29/29 [==============================] - 18s 624ms/step - loss: 0.4838\n",
      "Epoch 4/5\n",
      "29/29 [==============================] - 18s 624ms/step - loss: 0.4505\n",
      "Epoch 5/5\n",
      "29/29 [==============================] - 18s 625ms/step - loss: 0.4292\n"
     ]
    },
    {
     "name": "stderr",
     "output_type": "stream",
     "text": [
      " Fold 24 F1: 0.5753250591016549:  89%|████████▉ | 24/27 [1:03:14<07:50, 156.72s/it]"
     ]
    },
    {
     "name": "stdout",
     "output_type": "stream",
     "text": [
      "WARNING:tensorflow:`input_shape` is undefined or non-square, or `rows` is not in [96, 128, 160, 192, 224]. Weights for input shape (224, 224) will be loaded as the default.\n",
      "Epoch 1/5\n",
      "36/36 [==============================] - 50s 626ms/step - loss: 0.5297\n",
      "Epoch 2/5\n",
      "36/36 [==============================] - 23s 625ms/step - loss: 0.4955\n",
      "Epoch 3/5\n",
      "36/36 [==============================] - 23s 625ms/step - loss: 0.4363\n",
      "Epoch 4/5\n",
      "36/36 [==============================] - 23s 625ms/step - loss: 0.3939\n",
      "Epoch 5/5\n",
      "36/36 [==============================] - 23s 628ms/step - loss: 0.4459\n"
     ]
    },
    {
     "name": "stderr",
     "output_type": "stream",
     "text": [
      " Fold 25 F1: 0.4730792498487598:  93%|█████████▎| 25/27 [1:05:53<05:14, 157.43s/it]"
     ]
    },
    {
     "name": "stdout",
     "output_type": "stream",
     "text": [
      "WARNING:tensorflow:`input_shape` is undefined or non-square, or `rows` is not in [96, 128, 160, 192, 224]. Weights for input shape (224, 224) will be loaded as the default.\n",
      "Epoch 1/5\n",
      "33/33 [==============================] - 45s 621ms/step - loss: 0.7661\n",
      "Epoch 2/5\n",
      "33/33 [==============================] - 21s 621ms/step - loss: 0.5284\n",
      "Epoch 3/5\n",
      "33/33 [==============================] - 21s 622ms/step - loss: 0.4815\n",
      "Epoch 4/5\n",
      "33/33 [==============================] - 21s 623ms/step - loss: 0.4969\n",
      "Epoch 5/5\n",
      "33/33 [==============================] - 21s 622ms/step - loss: 0.4145\n"
     ]
    },
    {
     "name": "stderr",
     "output_type": "stream",
     "text": [
      " Fold 26 F1: 0.5111919319699205:  96%|█████████▋| 26/27 [1:08:26<02:36, 156.08s/it]"
     ]
    },
    {
     "name": "stdout",
     "output_type": "stream",
     "text": [
      "WARNING:tensorflow:`input_shape` is undefined or non-square, or `rows` is not in [96, 128, 160, 192, 224]. Weights for input shape (224, 224) will be loaded as the default.\n",
      "Epoch 1/5\n",
      "35/35 [==============================] - 46s 630ms/step - loss: 0.6154\n",
      "Epoch 2/5\n",
      "35/35 [==============================] - 22s 630ms/step - loss: 0.4004\n",
      "Epoch 3/5\n",
      "35/35 [==============================] - 22s 631ms/step - loss: 0.3903\n",
      "Epoch 4/5\n",
      "35/35 [==============================] - 22s 631ms/step - loss: 0.3547\n",
      "Epoch 5/5\n",
      "35/35 [==============================] - 23s 632ms/step - loss: 0.4165\n"
     ]
    },
    {
     "name": "stderr",
     "output_type": "stream",
     "text": [
      " Fold 27 F1: 0.5148741418764302: 100%|██████████| 27/27 [1:11:05<00:00, 157.97s/it]"
     ]
    },
    {
     "name": "stdout",
     "output_type": "stream",
     "text": [
      "Performance model:\n",
      " accuracy: 0.456 +- 0.223 \n",
      "\n",
      " balanced_accuracy: 0.455 +- 0.225 \n",
      "\n",
      " f1: 0.45 +- 0.232 \n",
      "\n",
      " recall: 0.456 +- 0.223 \n",
      "\n",
      " precision: 0.58 +- 0.314 \n",
      "\n"
     ]
    },
    {
     "name": "stderr",
     "output_type": "stream",
     "text": [
      "\n"
     ]
    }
   ],
   "source": [
    "%%time\n",
    "scores_strat_group_k_fold = [None]*2\n",
    "scores_loso = [None]*2\n",
    "\n",
    "with warnings.catch_warnings():\n",
    "    warnings.filterwarnings('ignore')\n",
    "\n",
    "    for variable in (0, 1): # phF, MF\n",
    "        model = CNN(path, variable=variable, epochs=5, learning_rate=1e-3, batch_size=16)\n",
    "\n",
    "        scores_strat_group_k_fold[variable] = stratified_group_k_fold(path=path,\n",
    "                                                            groups=subjects,\n",
    "                                                            model=model,\n",
    "                                                            folds=5,\n",
    "                                                            images=True,\n",
    "                                                            verbose=True,\n",
    "                                                            variable=variable)\n",
    "\n",
    "        scores_loso[variable] = leave_one_subject_out(path=path,\n",
    "                                            groups=subjects,\n",
    "                                            model=model,\n",
    "                                            images=True,\n",
    "                                            verbose=True,\n",
    "                                            variable=variable)"
   ],
   "metadata": {
    "collapsed": false,
    "pycharm": {
     "name": "#%%\n"
    }
   }
  },
  {
   "cell_type": "markdown",
   "source": [
    "# Save scores"
   ],
   "metadata": {
    "collapsed": false
   }
  },
  {
   "cell_type": "code",
   "execution_count": 29,
   "outputs": [],
   "source": [
    "path_scores = './Scores'\n",
    "model_name = 'cnn (transformer imputation)'"
   ],
   "metadata": {
    "collapsed": false,
    "pycharm": {
     "name": "#%%\n"
    }
   }
  },
  {
   "cell_type": "code",
   "execution_count": 30,
   "outputs": [],
   "source": [
    "# stratified group 5-fold\n",
    "with open(f'{path_scores}/strat_group_5_fold//{model_name}.txt', 'w') as dat:\n",
    "    dat.write(str(scores_strat_group_k_fold))"
   ],
   "metadata": {
    "collapsed": false,
    "pycharm": {
     "name": "#%%\n"
    }
   }
  },
  {
   "cell_type": "code",
   "execution_count": 31,
   "outputs": [],
   "source": [
    "# LOSO\n",
    "with open(f'{path_scores}/loso//{model_name}.txt', 'w') as dat:\n",
    "    dat.write(str(scores_loso))"
   ],
   "metadata": {
    "collapsed": false,
    "pycharm": {
     "name": "#%%\n"
    }
   }
  },
  {
   "cell_type": "markdown",
   "source": [
    "# Under development"
   ],
   "metadata": {
    "collapsed": false
   }
  },
  {
   "cell_type": "markdown",
   "source": [
    "Training curve (for analyzation of n_epochs, learning-rate, ...)"
   ],
   "metadata": {
    "collapsed": false
   }
  },
  {
   "cell_type": "code",
   "execution_count": 40,
   "outputs": [
    {
     "name": "stdout",
     "output_type": "stream",
     "text": [
      "WARNING:tensorflow:`input_shape` is undefined or non-square, or `rows` is not in [96, 128, 160, 192, 224]. Weights for input shape (224, 224) will be loaded as the default.\n",
      "Starting stratified group 5-fold for physical fatigue\n"
     ]
    },
    {
     "name": "stderr",
     "output_type": "stream",
     "text": [
      "  0%|          | 0/5 [00:00<?, ?it/s]"
     ]
    },
    {
     "name": "stdout",
     "output_type": "stream",
     "text": [
      "WARNING:tensorflow:`input_shape` is undefined or non-square, or `rows` is not in [96, 128, 160, 192, 224]. Weights for input shape (224, 224) will be loaded as the default.\n"
     ]
    },
    {
     "name": "stderr",
     "output_type": "stream",
     "text": [
      "C:\\Users\\jjung\\anaconda3\\envs\\tf-sklearn-keras\\lib\\site-packages\\keras\\engine\\training.py:1972: UserWarning: `Model.fit_generator` is deprecated and will be removed in a future version. Please use `Model.fit`, which supports generators.\n",
      "  warnings.warn('`Model.fit_generator` is deprecated and '\n"
     ]
    },
    {
     "name": "stdout",
     "output_type": "stream",
     "text": [
      "253/253 [==============================] - 57s 132ms/step - loss: 0.6910\n"
     ]
    },
    {
     "name": "stderr",
     "output_type": "stream",
     "text": [
      "C:\\Users\\jjung\\anaconda3\\envs\\tf-sklearn-keras\\lib\\site-packages\\keras\\engine\\training.py:1972: UserWarning: `Model.fit_generator` is deprecated and will be removed in a future version. Please use `Model.fit`, which supports generators.\n",
      "  warnings.warn('`Model.fit_generator` is deprecated and '\n"
     ]
    },
    {
     "name": "stdout",
     "output_type": "stream",
     "text": [
      "253/253 [==============================] - 34s 132ms/step - loss: 0.5121\n"
     ]
    },
    {
     "name": "stderr",
     "output_type": "stream",
     "text": [
      "C:\\Users\\jjung\\anaconda3\\envs\\tf-sklearn-keras\\lib\\site-packages\\keras\\engine\\training.py:1972: UserWarning: `Model.fit_generator` is deprecated and will be removed in a future version. Please use `Model.fit`, which supports generators.\n",
      "  warnings.warn('`Model.fit_generator` is deprecated and '\n"
     ]
    },
    {
     "name": "stdout",
     "output_type": "stream",
     "text": [
      "253/253 [==============================] - 33s 132ms/step - loss: 0.4000\n"
     ]
    },
    {
     "name": "stderr",
     "output_type": "stream",
     "text": [
      "C:\\Users\\jjung\\anaconda3\\envs\\tf-sklearn-keras\\lib\\site-packages\\keras\\engine\\training.py:1972: UserWarning: `Model.fit_generator` is deprecated and will be removed in a future version. Please use `Model.fit`, which supports generators.\n",
      "  warnings.warn('`Model.fit_generator` is deprecated and '\n"
     ]
    },
    {
     "name": "stdout",
     "output_type": "stream",
     "text": [
      "253/253 [==============================] - 34s 133ms/step - loss: 0.3760\n"
     ]
    },
    {
     "name": "stderr",
     "output_type": "stream",
     "text": [
      "C:\\Users\\jjung\\anaconda3\\envs\\tf-sklearn-keras\\lib\\site-packages\\sklearn\\metrics\\_classification.py:1334: UndefinedMetricWarning: Precision is ill-defined and being set to 0.0 in labels with no predicted samples. Use `zero_division` parameter to control this behavior.\n",
      "  _warn_prf(average, modifier, msg_start, len(result))\n",
      "C:\\Users\\jjung\\anaconda3\\envs\\tf-sklearn-keras\\lib\\site-packages\\keras\\engine\\training.py:1972: UserWarning: `Model.fit_generator` is deprecated and will be removed in a future version. Please use `Model.fit`, which supports generators.\n",
      "  warnings.warn('`Model.fit_generator` is deprecated and '\n"
     ]
    },
    {
     "name": "stdout",
     "output_type": "stream",
     "text": [
      "253/253 [==============================] - 34s 133ms/step - loss: 0.4093\n"
     ]
    },
    {
     "name": "stderr",
     "output_type": "stream",
     "text": [
      "C:\\Users\\jjung\\anaconda3\\envs\\tf-sklearn-keras\\lib\\site-packages\\keras\\engine\\training.py:1972: UserWarning: `Model.fit_generator` is deprecated and will be removed in a future version. Please use `Model.fit`, which supports generators.\n",
      "  warnings.warn('`Model.fit_generator` is deprecated and '\n"
     ]
    },
    {
     "name": "stdout",
     "output_type": "stream",
     "text": [
      "253/253 [==============================] - 34s 132ms/step - loss: 0.2770\n"
     ]
    },
    {
     "name": "stderr",
     "output_type": "stream",
     "text": [
      "C:\\Users\\jjung\\anaconda3\\envs\\tf-sklearn-keras\\lib\\site-packages\\keras\\engine\\training.py:1972: UserWarning: `Model.fit_generator` is deprecated and will be removed in a future version. Please use `Model.fit`, which supports generators.\n",
      "  warnings.warn('`Model.fit_generator` is deprecated and '\n"
     ]
    },
    {
     "name": "stdout",
     "output_type": "stream",
     "text": [
      "253/253 [==============================] - 33s 131ms/step - loss: 0.3015\n"
     ]
    },
    {
     "name": "stderr",
     "output_type": "stream",
     "text": [
      "  0%|          | 0/5 [06:57<?, ?it/s]\n"
     ]
    },
    {
     "ename": "ResourceExhaustedError",
     "evalue": " OOM when allocating tensor with shape[96,187,251] and type float on /job:localhost/replica:0/task:0/device:GPU:0 by allocator GPU_0_bfc\n\t [[node conv_net_17/mobilenet/block_1_pad/Pad_8 (defined at \\AppData\\Local\\Temp\\ipykernel_4108\\963502601.py:53) ]]\nHint: If you want to see a list of allocated tensors when OOM happens, add report_tensor_allocations_upon_oom to RunOptions for current allocation info. This isn't available when running in Eager mode.\n [Op:__inference_predict_function_817481]\n\nFunction call stack:\npredict_function\n",
     "output_type": "error",
     "traceback": [
      "\u001B[1;31m---------------------------------------------------------------------------\u001B[0m",
      "\u001B[1;31mResourceExhaustedError\u001B[0m                    Traceback (most recent call last)",
      "Cell \u001B[1;32mIn [40], line 51\u001B[0m\n\u001B[0;32m     47\u001B[0m model\u001B[38;5;241m.\u001B[39mmodel\u001B[38;5;241m.\u001B[39mfit_generator(generator\u001B[38;5;241m=\u001B[39mtrain_dataloader,\n\u001B[0;32m     48\u001B[0m                           epochs\u001B[38;5;241m=\u001B[39m\u001B[38;5;241m1\u001B[39m)\n\u001B[0;32m     50\u001B[0m \u001B[38;5;66;03m# validation\u001B[39;00m\n\u001B[1;32m---> 51\u001B[0m y_logits \u001B[38;5;241m=\u001B[39m \u001B[43mmodel\u001B[49m\u001B[38;5;241;43m.\u001B[39;49m\u001B[43mpredict\u001B[49m\u001B[43m(\u001B[49m\u001B[43mtest_indices\u001B[49m\u001B[43m,\u001B[49m\u001B[43m \u001B[49m\u001B[43mlogits\u001B[49m\u001B[38;5;241;43m=\u001B[39;49m\u001B[38;5;28;43;01mTrue\u001B[39;49;00m\u001B[43m)\u001B[49m\n\u001B[0;32m     52\u001B[0m y_probs \u001B[38;5;241m=\u001B[39m tf\u001B[38;5;241m.\u001B[39mmath\u001B[38;5;241m.\u001B[39msigmoid(y_logits) \u001B[38;5;66;03m# logits to probs\u001B[39;00m\n\u001B[0;32m     53\u001B[0m y_pred \u001B[38;5;241m=\u001B[39m tf\u001B[38;5;241m.\u001B[39mround(y_probs) \u001B[38;5;66;03m# probs to labels\u001B[39;00m\n",
      "Cell \u001B[1;32mIn [15], line 48\u001B[0m, in \u001B[0;36mCNN.predict\u001B[1;34m(self, test_indices, logits)\u001B[0m\n\u001B[0;32m     45\u001B[0m     X_i \u001B[38;5;241m=\u001B[39m np\u001B[38;5;241m.\u001B[39mload(path \u001B[38;5;241m+\u001B[39m \u001B[38;5;124mf\u001B[39m\u001B[38;5;124m'\u001B[39m\u001B[38;5;124m/feature_vector\u001B[39m\u001B[38;5;132;01m{\u001B[39;00mindex\u001B[38;5;132;01m}\u001B[39;00m\u001B[38;5;124m.npy\u001B[39m\u001B[38;5;124m'\u001B[39m, allow_pickle\u001B[38;5;241m=\u001B[39m\u001B[38;5;28;01mTrue\u001B[39;00m)\n\u001B[0;32m     47\u001B[0m     X_i \u001B[38;5;241m=\u001B[39m tf\u001B[38;5;241m.\u001B[39mexpand_dims(X_i, axis\u001B[38;5;241m=\u001B[39m\u001B[38;5;241m0\u001B[39m) \u001B[38;5;66;03m# add \"batch dimension\"\u001B[39;00m\n\u001B[1;32m---> 48\u001B[0m     logits_pred_i \u001B[38;5;241m=\u001B[39m \u001B[38;5;28;43mself\u001B[39;49m\u001B[38;5;241;43m.\u001B[39;49m\u001B[43mmodel\u001B[49m\u001B[38;5;241;43m.\u001B[39;49m\u001B[43mpredict\u001B[49m\u001B[43m(\u001B[49m\u001B[43mX_i\u001B[49m\u001B[43m)\u001B[49m\n\u001B[0;32m     50\u001B[0m     y_pred[i] \u001B[38;5;241m=\u001B[39m logits_pred_i\n\u001B[0;32m     52\u001B[0m \u001B[38;5;28;01mif\u001B[39;00m logits:\n",
      "File \u001B[1;32m~\\anaconda3\\envs\\tf-sklearn-keras\\lib\\site-packages\\keras\\engine\\training.py:1751\u001B[0m, in \u001B[0;36mModel.predict\u001B[1;34m(self, x, batch_size, verbose, steps, callbacks, max_queue_size, workers, use_multiprocessing)\u001B[0m\n\u001B[0;32m   1749\u001B[0m \u001B[38;5;28;01mfor\u001B[39;00m step \u001B[38;5;129;01min\u001B[39;00m data_handler\u001B[38;5;241m.\u001B[39msteps():\n\u001B[0;32m   1750\u001B[0m   callbacks\u001B[38;5;241m.\u001B[39mon_predict_batch_begin(step)\n\u001B[1;32m-> 1751\u001B[0m   tmp_batch_outputs \u001B[38;5;241m=\u001B[39m \u001B[38;5;28;43mself\u001B[39;49m\u001B[38;5;241;43m.\u001B[39;49m\u001B[43mpredict_function\u001B[49m\u001B[43m(\u001B[49m\u001B[43miterator\u001B[49m\u001B[43m)\u001B[49m\n\u001B[0;32m   1752\u001B[0m   \u001B[38;5;28;01mif\u001B[39;00m data_handler\u001B[38;5;241m.\u001B[39mshould_sync:\n\u001B[0;32m   1753\u001B[0m     context\u001B[38;5;241m.\u001B[39masync_wait()\n",
      "File \u001B[1;32m~\\anaconda3\\envs\\tf-sklearn-keras\\lib\\site-packages\\tensorflow\\python\\eager\\def_function.py:885\u001B[0m, in \u001B[0;36mFunction.__call__\u001B[1;34m(self, *args, **kwds)\u001B[0m\n\u001B[0;32m    882\u001B[0m compiler \u001B[38;5;241m=\u001B[39m \u001B[38;5;124m\"\u001B[39m\u001B[38;5;124mxla\u001B[39m\u001B[38;5;124m\"\u001B[39m \u001B[38;5;28;01mif\u001B[39;00m \u001B[38;5;28mself\u001B[39m\u001B[38;5;241m.\u001B[39m_jit_compile \u001B[38;5;28;01melse\u001B[39;00m \u001B[38;5;124m\"\u001B[39m\u001B[38;5;124mnonXla\u001B[39m\u001B[38;5;124m\"\u001B[39m\n\u001B[0;32m    884\u001B[0m \u001B[38;5;28;01mwith\u001B[39;00m OptionalXlaContext(\u001B[38;5;28mself\u001B[39m\u001B[38;5;241m.\u001B[39m_jit_compile):\n\u001B[1;32m--> 885\u001B[0m   result \u001B[38;5;241m=\u001B[39m \u001B[38;5;28mself\u001B[39m\u001B[38;5;241m.\u001B[39m_call(\u001B[38;5;241m*\u001B[39margs, \u001B[38;5;241m*\u001B[39m\u001B[38;5;241m*\u001B[39mkwds)\n\u001B[0;32m    887\u001B[0m new_tracing_count \u001B[38;5;241m=\u001B[39m \u001B[38;5;28mself\u001B[39m\u001B[38;5;241m.\u001B[39mexperimental_get_tracing_count()\n\u001B[0;32m    888\u001B[0m without_tracing \u001B[38;5;241m=\u001B[39m (tracing_count \u001B[38;5;241m==\u001B[39m new_tracing_count)\n",
      "File \u001B[1;32m~\\anaconda3\\envs\\tf-sklearn-keras\\lib\\site-packages\\tensorflow\\python\\eager\\def_function.py:924\u001B[0m, in \u001B[0;36mFunction._call\u001B[1;34m(self, *args, **kwds)\u001B[0m\n\u001B[0;32m    921\u001B[0m \u001B[38;5;28mself\u001B[39m\u001B[38;5;241m.\u001B[39m_lock\u001B[38;5;241m.\u001B[39mrelease()\n\u001B[0;32m    922\u001B[0m \u001B[38;5;66;03m# In this case we have not created variables on the first call. So we can\u001B[39;00m\n\u001B[0;32m    923\u001B[0m \u001B[38;5;66;03m# run the first trace but we should fail if variables are created.\u001B[39;00m\n\u001B[1;32m--> 924\u001B[0m results \u001B[38;5;241m=\u001B[39m \u001B[38;5;28mself\u001B[39m\u001B[38;5;241m.\u001B[39m_stateful_fn(\u001B[38;5;241m*\u001B[39margs, \u001B[38;5;241m*\u001B[39m\u001B[38;5;241m*\u001B[39mkwds)\n\u001B[0;32m    925\u001B[0m \u001B[38;5;28;01mif\u001B[39;00m \u001B[38;5;28mself\u001B[39m\u001B[38;5;241m.\u001B[39m_created_variables \u001B[38;5;129;01mand\u001B[39;00m \u001B[38;5;129;01mnot\u001B[39;00m ALLOW_DYNAMIC_VARIABLE_CREATION:\n\u001B[0;32m    926\u001B[0m   \u001B[38;5;28;01mraise\u001B[39;00m \u001B[38;5;167;01mValueError\u001B[39;00m(\u001B[38;5;124m\"\u001B[39m\u001B[38;5;124mCreating variables on a non-first call to a function\u001B[39m\u001B[38;5;124m\"\u001B[39m\n\u001B[0;32m    927\u001B[0m                    \u001B[38;5;124m\"\u001B[39m\u001B[38;5;124m decorated with tf.function.\u001B[39m\u001B[38;5;124m\"\u001B[39m)\n",
      "File \u001B[1;32m~\\anaconda3\\envs\\tf-sklearn-keras\\lib\\site-packages\\tensorflow\\python\\eager\\function.py:3039\u001B[0m, in \u001B[0;36mFunction.__call__\u001B[1;34m(self, *args, **kwargs)\u001B[0m\n\u001B[0;32m   3036\u001B[0m \u001B[38;5;28;01mwith\u001B[39;00m \u001B[38;5;28mself\u001B[39m\u001B[38;5;241m.\u001B[39m_lock:\n\u001B[0;32m   3037\u001B[0m   (graph_function,\n\u001B[0;32m   3038\u001B[0m    filtered_flat_args) \u001B[38;5;241m=\u001B[39m \u001B[38;5;28mself\u001B[39m\u001B[38;5;241m.\u001B[39m_maybe_define_function(args, kwargs)\n\u001B[1;32m-> 3039\u001B[0m \u001B[38;5;28;01mreturn\u001B[39;00m \u001B[43mgraph_function\u001B[49m\u001B[38;5;241;43m.\u001B[39;49m\u001B[43m_call_flat\u001B[49m\u001B[43m(\u001B[49m\n\u001B[0;32m   3040\u001B[0m \u001B[43m    \u001B[49m\u001B[43mfiltered_flat_args\u001B[49m\u001B[43m,\u001B[49m\u001B[43m \u001B[49m\u001B[43mcaptured_inputs\u001B[49m\u001B[38;5;241;43m=\u001B[39;49m\u001B[43mgraph_function\u001B[49m\u001B[38;5;241;43m.\u001B[39;49m\u001B[43mcaptured_inputs\u001B[49m\u001B[43m)\u001B[49m\n",
      "File \u001B[1;32m~\\anaconda3\\envs\\tf-sklearn-keras\\lib\\site-packages\\tensorflow\\python\\eager\\function.py:1963\u001B[0m, in \u001B[0;36mConcreteFunction._call_flat\u001B[1;34m(self, args, captured_inputs, cancellation_manager)\u001B[0m\n\u001B[0;32m   1959\u001B[0m possible_gradient_type \u001B[38;5;241m=\u001B[39m gradients_util\u001B[38;5;241m.\u001B[39mPossibleTapeGradientTypes(args)\n\u001B[0;32m   1960\u001B[0m \u001B[38;5;28;01mif\u001B[39;00m (possible_gradient_type \u001B[38;5;241m==\u001B[39m gradients_util\u001B[38;5;241m.\u001B[39mPOSSIBLE_GRADIENT_TYPES_NONE\n\u001B[0;32m   1961\u001B[0m     \u001B[38;5;129;01mand\u001B[39;00m executing_eagerly):\n\u001B[0;32m   1962\u001B[0m   \u001B[38;5;66;03m# No tape is watching; skip to running the function.\u001B[39;00m\n\u001B[1;32m-> 1963\u001B[0m   \u001B[38;5;28;01mreturn\u001B[39;00m \u001B[38;5;28mself\u001B[39m\u001B[38;5;241m.\u001B[39m_build_call_outputs(\u001B[38;5;28;43mself\u001B[39;49m\u001B[38;5;241;43m.\u001B[39;49m\u001B[43m_inference_function\u001B[49m\u001B[38;5;241;43m.\u001B[39;49m\u001B[43mcall\u001B[49m\u001B[43m(\u001B[49m\n\u001B[0;32m   1964\u001B[0m \u001B[43m      \u001B[49m\u001B[43mctx\u001B[49m\u001B[43m,\u001B[49m\u001B[43m \u001B[49m\u001B[43margs\u001B[49m\u001B[43m,\u001B[49m\u001B[43m \u001B[49m\u001B[43mcancellation_manager\u001B[49m\u001B[38;5;241;43m=\u001B[39;49m\u001B[43mcancellation_manager\u001B[49m\u001B[43m)\u001B[49m)\n\u001B[0;32m   1965\u001B[0m forward_backward \u001B[38;5;241m=\u001B[39m \u001B[38;5;28mself\u001B[39m\u001B[38;5;241m.\u001B[39m_select_forward_and_backward_functions(\n\u001B[0;32m   1966\u001B[0m     args,\n\u001B[0;32m   1967\u001B[0m     possible_gradient_type,\n\u001B[0;32m   1968\u001B[0m     executing_eagerly)\n\u001B[0;32m   1969\u001B[0m forward_function, args_with_tangents \u001B[38;5;241m=\u001B[39m forward_backward\u001B[38;5;241m.\u001B[39mforward()\n",
      "File \u001B[1;32m~\\anaconda3\\envs\\tf-sklearn-keras\\lib\\site-packages\\tensorflow\\python\\eager\\function.py:591\u001B[0m, in \u001B[0;36m_EagerDefinedFunction.call\u001B[1;34m(self, ctx, args, cancellation_manager)\u001B[0m\n\u001B[0;32m    589\u001B[0m \u001B[38;5;28;01mwith\u001B[39;00m _InterpolateFunctionError(\u001B[38;5;28mself\u001B[39m):\n\u001B[0;32m    590\u001B[0m   \u001B[38;5;28;01mif\u001B[39;00m cancellation_manager \u001B[38;5;129;01mis\u001B[39;00m \u001B[38;5;28;01mNone\u001B[39;00m:\n\u001B[1;32m--> 591\u001B[0m     outputs \u001B[38;5;241m=\u001B[39m \u001B[43mexecute\u001B[49m\u001B[38;5;241;43m.\u001B[39;49m\u001B[43mexecute\u001B[49m\u001B[43m(\u001B[49m\n\u001B[0;32m    592\u001B[0m \u001B[43m        \u001B[49m\u001B[38;5;28;43mstr\u001B[39;49m\u001B[43m(\u001B[49m\u001B[38;5;28;43mself\u001B[39;49m\u001B[38;5;241;43m.\u001B[39;49m\u001B[43msignature\u001B[49m\u001B[38;5;241;43m.\u001B[39;49m\u001B[43mname\u001B[49m\u001B[43m)\u001B[49m\u001B[43m,\u001B[49m\n\u001B[0;32m    593\u001B[0m \u001B[43m        \u001B[49m\u001B[43mnum_outputs\u001B[49m\u001B[38;5;241;43m=\u001B[39;49m\u001B[38;5;28;43mself\u001B[39;49m\u001B[38;5;241;43m.\u001B[39;49m\u001B[43m_num_outputs\u001B[49m\u001B[43m,\u001B[49m\n\u001B[0;32m    594\u001B[0m \u001B[43m        \u001B[49m\u001B[43minputs\u001B[49m\u001B[38;5;241;43m=\u001B[39;49m\u001B[43margs\u001B[49m\u001B[43m,\u001B[49m\n\u001B[0;32m    595\u001B[0m \u001B[43m        \u001B[49m\u001B[43mattrs\u001B[49m\u001B[38;5;241;43m=\u001B[39;49m\u001B[43mattrs\u001B[49m\u001B[43m,\u001B[49m\n\u001B[0;32m    596\u001B[0m \u001B[43m        \u001B[49m\u001B[43mctx\u001B[49m\u001B[38;5;241;43m=\u001B[39;49m\u001B[43mctx\u001B[49m\u001B[43m)\u001B[49m\n\u001B[0;32m    597\u001B[0m   \u001B[38;5;28;01melse\u001B[39;00m:\n\u001B[0;32m    598\u001B[0m     outputs \u001B[38;5;241m=\u001B[39m execute\u001B[38;5;241m.\u001B[39mexecute_with_cancellation(\n\u001B[0;32m    599\u001B[0m         \u001B[38;5;28mstr\u001B[39m(\u001B[38;5;28mself\u001B[39m\u001B[38;5;241m.\u001B[39msignature\u001B[38;5;241m.\u001B[39mname),\n\u001B[0;32m    600\u001B[0m         num_outputs\u001B[38;5;241m=\u001B[39m\u001B[38;5;28mself\u001B[39m\u001B[38;5;241m.\u001B[39m_num_outputs,\n\u001B[1;32m   (...)\u001B[0m\n\u001B[0;32m    603\u001B[0m         ctx\u001B[38;5;241m=\u001B[39mctx,\n\u001B[0;32m    604\u001B[0m         cancellation_manager\u001B[38;5;241m=\u001B[39mcancellation_manager)\n",
      "File \u001B[1;32m~\\anaconda3\\envs\\tf-sklearn-keras\\lib\\site-packages\\tensorflow\\python\\eager\\execute.py:59\u001B[0m, in \u001B[0;36mquick_execute\u001B[1;34m(op_name, num_outputs, inputs, attrs, ctx, name)\u001B[0m\n\u001B[0;32m     57\u001B[0m \u001B[38;5;28;01mtry\u001B[39;00m:\n\u001B[0;32m     58\u001B[0m   ctx\u001B[38;5;241m.\u001B[39mensure_initialized()\n\u001B[1;32m---> 59\u001B[0m   tensors \u001B[38;5;241m=\u001B[39m \u001B[43mpywrap_tfe\u001B[49m\u001B[38;5;241;43m.\u001B[39;49m\u001B[43mTFE_Py_Execute\u001B[49m\u001B[43m(\u001B[49m\u001B[43mctx\u001B[49m\u001B[38;5;241;43m.\u001B[39;49m\u001B[43m_handle\u001B[49m\u001B[43m,\u001B[49m\u001B[43m \u001B[49m\u001B[43mdevice_name\u001B[49m\u001B[43m,\u001B[49m\u001B[43m \u001B[49m\u001B[43mop_name\u001B[49m\u001B[43m,\u001B[49m\n\u001B[0;32m     60\u001B[0m \u001B[43m                                      \u001B[49m\u001B[43minputs\u001B[49m\u001B[43m,\u001B[49m\u001B[43m \u001B[49m\u001B[43mattrs\u001B[49m\u001B[43m,\u001B[49m\u001B[43m \u001B[49m\u001B[43mnum_outputs\u001B[49m\u001B[43m)\u001B[49m\n\u001B[0;32m     61\u001B[0m \u001B[38;5;28;01mexcept\u001B[39;00m core\u001B[38;5;241m.\u001B[39m_NotOkStatusException \u001B[38;5;28;01mas\u001B[39;00m e:\n\u001B[0;32m     62\u001B[0m   \u001B[38;5;28;01mif\u001B[39;00m name \u001B[38;5;129;01mis\u001B[39;00m \u001B[38;5;129;01mnot\u001B[39;00m \u001B[38;5;28;01mNone\u001B[39;00m:\n",
      "\u001B[1;31mResourceExhaustedError\u001B[0m:  OOM when allocating tensor with shape[96,187,251] and type float on /job:localhost/replica:0/task:0/device:GPU:0 by allocator GPU_0_bfc\n\t [[node conv_net_17/mobilenet/block_1_pad/Pad_8 (defined at \\AppData\\Local\\Temp\\ipykernel_4108\\963502601.py:53) ]]\nHint: If you want to see a list of allocated tensors when OOM happens, add report_tensor_allocations_upon_oom to RunOptions for current allocation info. This isn't available when running in Eager mode.\n [Op:__inference_predict_function_817481]\n\nFunction call stack:\npredict_function\n"
     ]
    }
   ],
   "source": [
    "variable = 0\n",
    "folds = 5\n",
    "groups = subjects\n",
    "epochs = 10\n",
    "\n",
    "# use validation data every epoch\n",
    "history_val = {'accuracy': [],\n",
    "               'balanced_accuracy': [],\n",
    "               'f1': [],\n",
    "               'recall': [],\n",
    "               'precision': [],\n",
    "               'val_loss': []}\n",
    "\n",
    "model = CNN(path, variable=variable, epochs=epochs, learning_rate=1e-3, batch_size=2)\n",
    "\n",
    "# calculate data size\n",
    "N = sum([1 for p in os.listdir(path) if (p[:14] == 'feature_vector' and p[:19] != 'feature_vector_stat')])\n",
    "\n",
    "# load labels (we need them for stratification)\n",
    "y = np.empty(N, dtype=int)\n",
    "for i in range(N):\n",
    "    y[i] = np.load(path + f'/labels{i}.npy', allow_pickle=True)[variable]  # TODO: multiclass\n",
    "\n",
    "# CV\n",
    "cv = StratifiedGroupKFold(n_splits=folds, shuffle=True, random_state=SEED)\n",
    "scores_cv = []\n",
    "data_indices = np.arange(N)\n",
    "\n",
    "print(f'Starting stratified group {folds}-fold for {[\"physical fatigue\", \"mental fatigue\"][variable]}')\n",
    "with tqdm(total=folds) as pbar:\n",
    "    for i, (train_indices, test_indices) in enumerate(cv.split(X=data_indices, y=y, groups=groups)):\n",
    "        # test labels\n",
    "        y_test = y[test_indices]\n",
    "\n",
    "        # training\n",
    "        try:\n",
    "            model.reset()\n",
    "        except AttributeError:\n",
    "            pass  # model has no trainable parameters\n",
    "        # compile\n",
    "        sample_weights = get_weighting_factor(model.path, train_indices, variable)\n",
    "        model.model.compile(optimizer=Adam(learning_rate=model.learning_rate),\n",
    "                      loss=weighted_cross_entropy(sample_weights))\n",
    "        train_dataloader = DataGenerator(model.path, train_indices, batch_size=model.batch_size, variable=variable)\n",
    "        # training epochs\n",
    "        for i in range(epochs):\n",
    "            model.model.fit_generator(generator=train_dataloader,\n",
    "                                      epochs=1)\n",
    "\n",
    "            # validation\n",
    "            y_logits = model.predict(test_indices, logits=True)\n",
    "            y_probs = tf.math.sigmoid(y_logits) # logits to probs\n",
    "            y_pred = tf.round(y_probs) # probs to labels\n",
    "\n",
    "            # evaluate\n",
    "            scores = evaluator(y_pred, y_test, verbose=False)\n",
    "            metrics = history_val.keys()\n",
    "            for metric in metrics:\n",
    "                if metric == 'val_loss':\n",
    "                    history_val['val_loss'].append(np.mean(weighted_cross_entropy(sample_weights)(labels=tf.convert_to_tensor(y_test, dtype=float), logits=tf.convert_to_tensor(y_logits, dtype=float))))\n",
    "                else:\n",
    "                    history_val[metric].append(scores[metric])\n",
    "\n",
    "            del y_logits\n",
    "            del y_probs\n",
    "            del y_pred\n",
    "\n",
    "        break # only do one iteration\n",
    "\n",
    "        # for progress bar\n",
    "        pbar.update(1)\n",
    "        pbar.set_description(f' Fold {i + 1} F1: {scores[\"f1\"]}')"
   ],
   "metadata": {
    "collapsed": false,
    "pycharm": {
     "name": "#%%\n"
    }
   }
  },
  {
   "cell_type": "code",
   "execution_count": 41,
   "outputs": [
    {
     "data": {
      "text/plain": "<Figure size 640x480 with 6 Axes>",
      "image/png": "[encoded data removed]"
     },
     "metadata": {},
     "output_type": "display_data"
    }
   ],
   "source": [
    "# visualize\n",
    "# plot training curve\n",
    "plt.subplots_adjust(left=0.1,\n",
    "                    bottom=0.01,\n",
    "                    right=1.7,\n",
    "                    top=0.6,\n",
    "                    wspace=0.4,\n",
    "                    hspace=0.4)\n",
    "\n",
    "# mark best performing epoch\n",
    "best_model_epoch = np.argmax(history_val['f1'])\n",
    "\n",
    "metrics = history_val.keys()\n",
    "for i, metric in enumerate(metrics):\n",
    "    plt.subplot(1, 6, i + 1)\n",
    "    plt.plot(history_val[metric], color='C1')\n",
    "    plt.vlines(x=best_model_epoch, ymin=min(history_val[metric]), ymax=max(history_val[metric]), color='red')\n",
    "    plt.title(f'{metric} (validation)')\n",
    "    plt.ylabel(metric)\n",
    "    plt.xlabel('epoch')\n",
    "\n",
    "plt.show()"
   ],
   "metadata": {
    "collapsed": false,
    "pycharm": {
     "name": "#%%\n"
    }
   }
  },
  {
   "cell_type": "markdown",
   "source": [
    "PCA, t-SNE embeddings"
   ],
   "metadata": {
    "collapsed": false
   }
  },
  {
   "cell_type": "code",
   "execution_count": 22,
   "outputs": [],
   "source": [
    "from sklearn.decomposition import PCA\n",
    "from sklearn.manifold import TSNE"
   ],
   "metadata": {
    "collapsed": false,
    "pycharm": {
     "name": "#%%\n"
    }
   }
  },
  {
   "cell_type": "code",
   "execution_count": 42,
   "outputs": [],
   "source": [
    "# load fatigue labels\n",
    "y_true = np.empty(N, dtype=int)\n",
    "for i in range(N):\n",
    "    y_true[i] = np.load(path + f'/labels{i}.npy', allow_pickle=True)[0]"
   ],
   "metadata": {
    "collapsed": false,
    "pycharm": {
     "name": "#%%\n"
    }
   }
  },
  {
   "cell_type": "code",
   "execution_count": 67,
   "outputs": [
    {
     "name": "stdout",
     "output_type": "stream",
     "text": [
      "Physical fatigue\n",
      "WARNING:tensorflow:`input_shape` is undefined or non-square, or `rows` is not in [96, 128, 160, 192, 224]. Weights for input shape (224, 224) will be loaded as the default.\n",
      "Expained variance - 2 components - (cummulative): 0.5802491727417157\n",
      "Expained variance - 50 components - (cummulative): 0.8815208280424442\n"
     ]
    },
    {
     "name": "stderr",
     "output_type": "stream",
     "text": [
      "C:\\Users\\jjung\\anaconda3\\envs\\tf-sklearn-keras\\lib\\site-packages\\sklearn\\manifold\\_t_sne.py:800: FutureWarning: The default initialization in TSNE will change from 'random' to 'pca' in 1.2.\n",
      "  warnings.warn(\n",
      "C:\\Users\\jjung\\anaconda3\\envs\\tf-sklearn-keras\\lib\\site-packages\\sklearn\\manifold\\_t_sne.py:810: FutureWarning: The default learning rate in TSNE will change from 200.0 to 'auto' in 1.2.\n",
      "  warnings.warn(\n"
     ]
    },
    {
     "data": {
      "text/plain": "<Figure size 800x400 with 2 Axes>",
      "image/png": "[encoded data removed]"
     },
     "metadata": {},
     "output_type": "display_data"
    },
    {
     "name": "stdout",
     "output_type": "stream",
     "text": [
      "Mental fatigue\n",
      "WARNING:tensorflow:`input_shape` is undefined or non-square, or `rows` is not in [96, 128, 160, 192, 224]. Weights for input shape (224, 224) will be loaded as the default.\n",
      "Expained variance - 2 components - (cummulative): 0.5802491727417158\n",
      "Expained variance - 50 components - (cummulative): 0.8815188549290871\n"
     ]
    },
    {
     "name": "stderr",
     "output_type": "stream",
     "text": [
      "C:\\Users\\jjung\\anaconda3\\envs\\tf-sklearn-keras\\lib\\site-packages\\sklearn\\manifold\\_t_sne.py:800: FutureWarning: The default initialization in TSNE will change from 'random' to 'pca' in 1.2.\n",
      "  warnings.warn(\n",
      "C:\\Users\\jjung\\anaconda3\\envs\\tf-sklearn-keras\\lib\\site-packages\\sklearn\\manifold\\_t_sne.py:810: FutureWarning: The default learning rate in TSNE will change from 200.0 to 'auto' in 1.2.\n",
      "  warnings.warn(\n"
     ]
    },
    {
     "data": {
      "text/plain": "<Figure size 800x400 with 2 Axes>",
      "image/png": "[encoded data removed]"
     },
     "metadata": {},
     "output_type": "display_data"
    }
   ],
   "source": [
    "for variable in (0, 1):\n",
    "    print(('Physical fatigue', 'Mental fatigue')[variable])\n",
    "\n",
    "    model = CNN(path, variable=variable, epochs=1, learning_rate=1e-3, batch_size=16)\n",
    "\n",
    "    # load fatigue labels\n",
    "    y_true = np.empty(N, dtype=int)\n",
    "    for i in range(N):\n",
    "        y_true[i] = np.load(path + f'/labels{i}.npy', allow_pickle=True)[variable]\n",
    "\n",
    "    # get embeddings from CNN\n",
    "    embeddings = np.empty((N, 12800), dtype=float)\n",
    "    for i, (x,y) in enumerate(DataGenerator(path, np.arange(N), batch_size=1, variable=variable)):\n",
    "        z = [model.model.mobilenet(x[..., i:i+3], training=False) for i in range(0, CHANNELS, 3)]\n",
    "\n",
    "        # Concatenation\n",
    "        z = model.model.concat(z)\n",
    "\n",
    "        # Global pooling\n",
    "        z = model.model.pool(z)\n",
    "\n",
    "        embeddings[i, ] = z\n",
    "\n",
    "    # PCA\n",
    "    pca = PCA(n_components=2)\n",
    "    pca_embeddings = pca.fit_transform(embeddings)\n",
    "    print(f'Expained variance - 2 components - (cummulative): {np.sum(pca.explained_variance_ratio_)}')\n",
    "\n",
    "    # visualize\n",
    "    principalDf = pd.DataFrame(data=pca_embeddings, columns=['principal component 1', 'principal component 2'])\n",
    "\n",
    "    # concat labels\n",
    "    labels = pd.DataFrame(data=y_true, columns=['target'])\n",
    "    finalDf = pd.concat([principalDf, labels[['target']]], axis = 1)\n",
    "\n",
    "    # plot\n",
    "    fig = plt.figure(figsize = (8,4))\n",
    "    plt.subplots_adjust(left=0.1,\n",
    "                        bottom=0.01,\n",
    "                        right=1.2,\n",
    "                        top=1.0,\n",
    "                        wspace=0.4,\n",
    "                        hspace=0.4)\n",
    "    ax = fig.add_subplot(1,2,1)\n",
    "    ax.set_xlabel('Principal Component 1', fontsize = 15)\n",
    "    ax.set_ylabel('Principal Component 2', fontsize = 15)\n",
    "    ax.set_title('2 component PCA', fontsize = 20)\n",
    "    targets = [1, 0]\n",
    "    colors = ['r', 'g']\n",
    "    for target, color in zip(targets, colors):\n",
    "        indicesToKeep = finalDf['target'] == target\n",
    "        ax.scatter(finalDf.loc[indicesToKeep, 'principal component 1'],\n",
    "                   finalDf.loc[indicesToKeep, 'principal component 2'],\n",
    "                   c=color,\n",
    "                   s=20)\n",
    "\n",
    "    x_min, x_max = np.min(principalDf.to_numpy()[:, 0]), np.max(principalDf.to_numpy()[:, 0])\n",
    "    y_min, y_max = np.min(principalDf.to_numpy()[:, 1]), np.max(principalDf.to_numpy()[:, 1])\n",
    "    ax.set_xlim([x_min, x_max])\n",
    "    ax.set_ylim([y_min, y_max])\n",
    "    ax.legend(targets)\n",
    "    ax.grid()\n",
    "\n",
    "    # t-SNE\n",
    "    # we first reduce the dimensions of the embeddings with PCA as recommended\n",
    "    pca_50 = PCA(n_components=50, random_state=42)\n",
    "    pca_embeddings_50 = pca_50.fit_transform(embeddings)\n",
    "    print(f'Expained variance - 50 components - (cummulative): {np.sum(pca_50.explained_variance_ratio_)}')\n",
    "\n",
    "    # now we apply t-SNE\n",
    "    tsne = TSNE(n_components=2, verbose=0, perplexity=40, n_iter=300, random_state=42)\n",
    "    tsne_embeddings = tsne.fit_transform(pca_embeddings_50)\n",
    "\n",
    "    # visualize\n",
    "    tsneDf = pd.DataFrame(data=tsne_embeddings, columns=['t-SNE component 1', 't-SNE component 2'])\n",
    "\n",
    "    # concat labels\n",
    "    labels = pd.DataFrame(data=y_true, columns=['target'])\n",
    "    finalDf_tsne = pd.concat([tsneDf, labels[['target']]], axis = 1)\n",
    "\n",
    "    # plot\n",
    "    ax = fig.add_subplot(1,2,2)\n",
    "    ax.set_xlabel('t-SNE Component 1', fontsize = 15)\n",
    "    ax.set_ylabel('t-SNE Component 2', fontsize = 15)\n",
    "    ax.set_title('2 component t-SNE', fontsize = 20)\n",
    "    targets = [1, 0]\n",
    "    colors = ['r', 'g']\n",
    "    for target, color in zip(targets, colors):\n",
    "        indicesToKeep = finalDf_tsne['target'] == target\n",
    "        ax.scatter(finalDf_tsne.loc[indicesToKeep, 't-SNE component 1'],\n",
    "                   finalDf_tsne.loc[indicesToKeep, 't-SNE component 2'],\n",
    "                   c=color,\n",
    "                   s=20)\n",
    "\n",
    "    x_min, x_max = np.min(tsneDf.to_numpy()[:, 0]), np.max(tsneDf.to_numpy()[:, 0])\n",
    "    y_min, y_max = np.min(tsneDf.to_numpy()[:, 1]), np.max(tsneDf.to_numpy()[:, 1])\n",
    "    ax.set_xlim([x_min, x_max])\n",
    "    ax.set_ylim([y_min, y_max])\n",
    "    ax.legend(targets)\n",
    "    ax.grid()\n",
    "\n",
    "    plt.show()"
   ],
   "metadata": {
    "collapsed": false,
    "pycharm": {
     "name": "#%%\n"
    }
   }
  },
  {
   "cell_type": "markdown",
   "source": [
    "Daily majority vote"
   ],
   "metadata": {
    "collapsed": false
   }
  },
  {
   "cell_type": "code",
   "execution_count": null,
   "outputs": [],
   "source": [
    "model = CNN(path, variable=0, epochs=10, learning_rate=1e-3, batch_size=16)\n",
    "\n",
    "N = sum([1 for p in os.listdir(path) if (p[:14] == 'feature_vector' and p[:19] != 'feature_vector_stat')])\n",
    "\n",
    "# load labels (we need them for stratification)\n",
    "y = np.empty(N, dtype=int)\n",
    "for i in range(N):\n",
    "    y[i] = np.load(path + f'/labels{i}.npy', allow_pickle=True)[variable]  # TODO: multiclass\n",
    "\n",
    "# CV\n",
    "cv = StratifiedGroupKFold(n_splits=5, shuffle=True, random_state=SEED)\n",
    "scores_cv = []\n",
    "data_indices = np.arange(N)\n",
    "\n",
    "print(f'Starting stratified group {5}-fold for {[\"physical fatigue\", \"mental fatigue\"][variable]}')\n",
    "with tqdm(total=5) as pbar:\n",
    "    for i, (train_indices, test_indices) in enumerate(cv.split(X=data_indices, y=y, groups=subjects)):\n",
    "        # test labels\n",
    "        y_test = y[test_indices]\n",
    "\n",
    "        # training\n",
    "        model.reset()\n",
    "        model.fit(train_indices)\n",
    "\n",
    "        # predict\n",
    "        y_pred = model.predict(test_indices)\n",
    "\n",
    "        # daily majorities\n",
    "        y_pred_daily = np.array(list(daily_majority_vote(y_pred, test_indices, metadata).values()))\n",
    "        y_true_daily = np.array(list(daily_majority_vote(y_test, test_indices, metadata).values()))\n",
    "\n",
    "        # evaluate\n",
    "        scores = evaluator(y_pred_daily, y_true_daily, verbose=False)\n",
    "        scores_cv.append(scores)\n",
    "\n",
    "        # agreements\n",
    "        print('agreements:', agreements(y_pred, model.test_indices, metadata))\n",
    "\n",
    "        # for progress bar\n",
    "        pbar.update(1)\n",
    "        pbar.set_description(f' Fold {i+1} F1: {scores[\"f1\"]}')\n",
    "\n",
    "# print (if verbose==True)\n",
    "print('Performance model:')\n",
    "metrics = scores_cv[0].keys()\n",
    "for metric in metrics:\n",
    "    mean = np.mean([scores_cv_i[metric] for scores_cv_i in scores_cv])\n",
    "    std = np.std([scores_cv_i[metric] for scores_cv_i in scores_cv])\n",
    "    print(f' {metric}: {round(mean, 3)} +- {round(std, 3)} \\n')"
   ],
   "metadata": {
    "collapsed": false,
    "pycharm": {
     "name": "#%%\n"
    }
   }
  },
  {
   "cell_type": "markdown",
   "source": [
    "# TODO: check why so few days (even fewer than statistical features)"
   ],
   "metadata": {
    "collapsed": false,
    "pycharm": {
     "name": "#%% md\n"
    }
   }
  }
 ],
 "metadata": {
  "kernelspec": {
   "display_name": "Python 3 (ipykernel)",
   "language": "python",
   "name": "python3"
  },
  "language_info": {
   "codemirror_mode": {
    "name": "ipython",
    "version": 3
   },
   "file_extension": ".py",
   "mimetype": "text/x-python",
   "name": "python",
   "nbconvert_exporter": "python",
   "pygments_lexer": "ipython3",
   "version": "3.10.6"
  }
 },
 "nbformat": 4,
 "nbformat_minor": 1
}