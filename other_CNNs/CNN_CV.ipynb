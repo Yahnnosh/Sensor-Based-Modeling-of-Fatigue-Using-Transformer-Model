{
 "cells": [
  {
   "cell_type": "markdown",
   "source": [
    "using:\n",
    "- subject-wise normalization\n",
    "- segment length of 200"
   ],
   "metadata": {
    "collapsed": false
   }
  },
  {
   "cell_type": "code",
   "execution_count": 1,
   "metadata": {
    "collapsed": true
   },
   "outputs": [],
   "source": [
    "import tensorflow as tf\n",
    "from tensorflow.keras import models, Model\n",
    "from tensorflow.keras.applications import MobileNetV2\n",
    "from tensorflow.keras.layers import Dense, Conv2D, Flatten, MaxPool2D, BatchNormalization, Dropout, Input, Concatenate, GlobalAvgPool2D\n",
    "from tensorflow.keras.optimizers import Adam\n",
    "from tensorflow.keras.utils import Sequence\n",
    "from tensorflow.keras.callbacks import EarlyStopping, ModelCheckpoint, Callback\n",
    "from sklearn.metrics import accuracy_score, balanced_accuracy_score, f1_score, precision_score, recall_score, confusion_matrix, ConfusionMatrixDisplay\n",
    "import numpy as np\n",
    "import matplotlib.pyplot as plt\n",
    "import os\n",
    "import json"
   ]
  },
  {
   "cell_type": "code",
   "execution_count": 2,
   "outputs": [],
   "source": [
    "def evaluator(y_pred, y_true, verbose=False):\n",
    "    \"\"\"Returns evaluation metric scores\"\"\"\n",
    "    accuracy = accuracy_score(y_pred=y_pred, y_true=y_true)\n",
    "    balanced_accuracy = balanced_accuracy_score(y_pred=y_pred, y_true=y_true)\n",
    "    f1 = f1_score(y_pred=y_pred, y_true=y_true, average='weighted')\n",
    "    recall = recall_score(y_pred=y_pred, y_true=y_true, average='weighted')\n",
    "    precision = precision_score(y_pred=y_pred, y_true=y_true, average='weighted')\n",
    "    confusion = confusion_matrix(y_pred=y_pred, y_true=y_true)\n",
    "\n",
    "    # display scores\n",
    "    if verbose:\n",
    "        ConfusionMatrixDisplay(confusion_matrix=confusion, display_labels=[False, True]).plot(cmap=plt.cm.Blues)\n",
    "        plt.title('Physical fatigue')\n",
    "\n",
    "        print(f'accuracy: {accuracy}\\n'\n",
    "              f'balanced accuracy: {balanced_accuracy}\\n'\n",
    "              f'f1 (weighted): {f1}\\n'\n",
    "              f'recall (weighted): {recall}\\n'\n",
    "              f'precision (weighted): {precision}')\n",
    "\n",
    "    return {'accuracy': accuracy,\n",
    "            'balanced_accuracy': balanced_accuracy,\n",
    "            'f1': f1,\n",
    "            'recall': recall,\n",
    "            'precision': precision}\n",
    "\n",
    "def test_set_evaluator(model, path, test_indices, verbose=True):\n",
    "    # load + predict test data\n",
    "    y_true = np.empty(len(test_indices), dtype=int)\n",
    "    y_pred = np.empty(len(test_indices), dtype=float)\n",
    "\n",
    "    for i, index in enumerate(test_indices):\n",
    "        X_i = np.load(path + f'/feature_vector{index}.npy', allow_pickle=True)\n",
    "        y_true_i = np.load(path + f'/labels{index}.npy', allow_pickle=True)[variable]\n",
    "\n",
    "        X_i = tf.expand_dims(X_i, axis=0) # add \"batch dimension\"\n",
    "        logits_pred_i = model.predict(X_i)\n",
    "\n",
    "        y_true[i] = y_true_i\n",
    "        y_pred[i] = logits_pred_i\n",
    "\n",
    "    y_probs = tf.math.sigmoid(y_pred)\n",
    "    y_pred = tf.round(y_probs)\n",
    "\n",
    "    # print metrics\n",
    "    scores = evaluator(y_pred, y_true, verbose=verbose)\n",
    "\n",
    "    # plot distribution of predictions\n",
    "    if verbose:\n",
    "        plt.subplots_adjust(left=0.1,\n",
    "                            bottom=0.01,\n",
    "                            right=1.2,\n",
    "                            top=0.6,\n",
    "                            wspace=0.4,\n",
    "                            hspace=0.4)\n",
    "\n",
    "        # predicted probabilities\n",
    "        plt.subplot(1, 2, 1)\n",
    "        plt.hist(y_probs)\n",
    "        plt.title('P(y == 1)')\n",
    "        plt.vlines(x=0.5, ymin=0, ymax=len(y_probs), color='red')\n",
    "\n",
    "        # predicted labels\n",
    "        plt.subplot(1, 2, 2)\n",
    "        plt.hist(y_pred)\n",
    "        plt.title('Labels')\n",
    "\n",
    "        plt.show()\n",
    "\n",
    "    return scores"
   ],
   "metadata": {
    "collapsed": false
   }
  },
  {
   "cell_type": "code",
   "execution_count": 3,
   "outputs": [],
   "source": [
    "VARIABLES = ['ActivityCounts', 'Barometer', 'BloodPerfusion',\n",
    "             'BloodPulseWave', 'EnergyExpenditure', 'HR',\n",
    "             'HRV', 'RESP', 'Steps', 'SkinTemperature']"
   ],
   "metadata": {
    "collapsed": false
   }
  },
  {
   "cell_type": "code",
   "execution_count": 4,
   "outputs": [],
   "source": [
    "GRAYSCALE = False # grayscale or rgb"
   ],
   "metadata": {
    "collapsed": false
   }
  },
  {
   "cell_type": "markdown",
   "source": [
    "# Import data"
   ],
   "metadata": {
    "collapsed": false
   }
  },
  {
   "cell_type": "code",
   "execution_count": 5,
   "outputs": [],
   "source": [
    "variable = {'phF': 0, 'MF': 1}['phF'] # TODO: for now just classify one variable"
   ],
   "metadata": {
    "collapsed": false
   }
  },
  {
   "cell_type": "code",
   "execution_count": 6,
   "outputs": [],
   "source": [
    "path = './Output'"
   ],
   "metadata": {
    "collapsed": false
   }
  },
  {
   "cell_type": "code",
   "execution_count": 7,
   "outputs": [],
   "source": [
    "# dimensions\n",
    "N, HEIGHT, WIDTH, CHANNELS = sum([1 for p in os.listdir(path) if (p[:14] == 'feature_vector' and p[:19] != 'feature_vector_stat')]), \\\n",
    "                             *np.load(path + '/feature_vector0.npy').shape\n",
    "CHANNELS = len(VARIABLES) if GRAYSCALE else CHANNELS # reduce channels for grayscale\n",
    "\n",
    "# metadata (subjectID etc.)\n",
    "with open(path + '/metadata.txt') as f:\n",
    "    metadata = f.read()\n",
    "metadata = json.loads(metadata.replace('\\'', '\\\"').replace('False', 'false').replace('True', 'true')) # doesn't accept other chars"
   ],
   "metadata": {
    "collapsed": false
   }
  },
  {
   "cell_type": "code",
   "execution_count": 8,
   "outputs": [
    {
     "name": "stdout",
     "output_type": "stream",
     "text": [
      "Total datapoints: 1218\n"
     ]
    }
   ],
   "source": [
    "print(f'Total datapoints: {N}')"
   ],
   "metadata": {
    "collapsed": false
   }
  },
  {
   "cell_type": "markdown",
   "source": [
    "# Define data generator"
   ],
   "metadata": {
    "collapsed": false
   }
  },
  {
   "cell_type": "code",
   "execution_count": 9,
   "outputs": [],
   "source": [
    "# image-wise\n",
    "def rgb2gray(rgb):\n",
    "    \"\"\"greyscale = 0.2989 * red + 0.5870 * green + 0.1140 * blue\"\"\"\n",
    "    return np.dot(rgb[:, :, :3], [0.2989, 0.5870, 0.1140])"
   ],
   "metadata": {
    "collapsed": false
   }
  },
  {
   "cell_type": "code",
   "execution_count": 10,
   "outputs": [],
   "source": [
    "class DataGenerator(Sequence):\n",
    "\n",
    "    def __init__(self, data_path: str, indices_dataset: list, batch_size=32, dim=(HEIGHT, WIDTH), n_channels=CHANNELS, shuffle=True):\n",
    "        self.data_path = data_path # path to full dataset\n",
    "        self.dim = dim # image dimension\n",
    "        self.batch_size = batch_size\n",
    "        self.indices_dataset = indices_dataset # indices of full dataset (different for train/validation/test set)\n",
    "        self.n_channels = n_channels\n",
    "        self.shuffle = shuffle\n",
    "\n",
    "        self.on_epoch_end() # shuffle data for each epoch\n",
    "\n",
    "    def on_epoch_end(self):\n",
    "        \"\"\"\n",
    "        Shuffle data for each epoch\n",
    "        \"\"\"\n",
    "        if self.shuffle:\n",
    "            np.random.shuffle(self.indices_dataset)\n",
    "\n",
    "    def __data_generation(self, indices):\n",
    "        \"\"\"\n",
    "        Loads and returns datapoints[indices]\n",
    "        \"\"\"\n",
    "        # init\n",
    "        X = np.empty((self.batch_size, *self.dim, self.n_channels))\n",
    "        y = np.empty(self.batch_size, dtype=float) # TODO: int for non-logits\n",
    "\n",
    "        # load individual datapoints\n",
    "        for i, index in enumerate(indices):\n",
    "            images = np.load(self.data_path + f'/feature_vector{index}.npy', allow_pickle=True)\n",
    "            if GRAYSCALE:\n",
    "                images_gray = np.empty((HEIGHT, WIDTH, self.n_channels))\n",
    "                for j in range(len(VARIABLES)):\n",
    "                    image_rgb = images[:, :, (3 * j): (3 * (j + 1))]\n",
    "                    image_gray = rgb2gray(image_rgb)\n",
    "                    images_gray[:, :, j] = image_gray\n",
    "                images = images_gray\n",
    "\n",
    "            X[i, ] = images\n",
    "            y[i] = np.load(self.data_path + f'/labels{index}.npy', allow_pickle=True)[variable] # TODO: for now just one variable\n",
    "\n",
    "        return X, y\n",
    "\n",
    "    def __len__(self):\n",
    "        \"\"\"\n",
    "        Number of batches per epoch\n",
    "        \"\"\"\n",
    "        return int(np.floor(len(self.indices_dataset) / self.batch_size))\n",
    "\n",
    "    def __getitem__(self, index):\n",
    "        \"\"\"\n",
    "        Generates batch[index]\n",
    "        \"\"\"\n",
    "        # calculate indices of batch\n",
    "        indices = self.indices_dataset[index * self.batch_size:(index + 1) * self.batch_size]\n",
    "\n",
    "        # generate batch\n",
    "        X, y = self.__data_generation(indices)\n",
    "\n",
    "        return X, y"
   ],
   "metadata": {
    "collapsed": false
   }
  },
  {
   "cell_type": "markdown",
   "source": [
    "# CNN"
   ],
   "metadata": {
    "collapsed": false
   }
  },
  {
   "cell_type": "markdown",
   "source": [
    "Data generators"
   ],
   "metadata": {
    "collapsed": false
   }
  },
  {
   "cell_type": "code",
   "execution_count": 11,
   "outputs": [
    {
     "data": {
      "text/plain": "'training_batch_generator = DataGenerator(data_path=path, indices_dataset=training_indices, batch_size=16)'"
     },
     "execution_count": 11,
     "metadata": {},
     "output_type": "execute_result"
    }
   ],
   "source": [
    "'''training_batch_generator = DataGenerator(data_path=path, indices_dataset=training_indices, batch_size=16)'''"
   ],
   "metadata": {
    "collapsed": false
   }
  },
  {
   "cell_type": "markdown",
   "source": [
    "Loss function"
   ],
   "metadata": {
    "collapsed": false
   }
  },
  {
   "cell_type": "code",
   "execution_count": 12,
   "outputs": [],
   "source": [
    "# loss function\n",
    "def weighted_cross_entropy(weight):\n",
    "    def weighted_cross_entropy_with_logits(labels, logits):\n",
    "        loss = tf.nn.weighted_cross_entropy_with_logits(\n",
    "            labels, logits, weight\n",
    "        )\n",
    "        return loss\n",
    "    return weighted_cross_entropy_with_logits\n",
    "\n",
    "# weight (imbalanced classes)\n",
    "def check_imbalance(path_to_labels, indices):\n",
    "    \"\"\"Returns indices of positives/negatives\"\"\"\n",
    "    y = np.empty((len(indices), 2), dtype=int)\n",
    "    for i, index in enumerate(indices):\n",
    "        y[i, ] = np.load(path_to_labels + f'/labels{index}.npy', allow_pickle=True)\n",
    "\n",
    "    positives = np.where(y[:, variable] == 1)[0] # TODO: for now just one variable\n",
    "    negatives = np.where(y[:, variable] == 0)[0] # TODO: for now just one variable\n",
    "\n",
    "    return np.array(indices)[positives], np.array(indices)[negatives]\n",
    "\n",
    "def get_weighting_factor(path, train_set_indices):\n",
    "    positives, negatives = check_imbalance(path, train_set_indices)\n",
    "    sample_weight = len(negatives) / len(positives) # for weighted cross-entropy\n",
    "    return sample_weight"
   ],
   "metadata": {
    "collapsed": false
   }
  },
  {
   "cell_type": "markdown",
   "source": [
    "Model"
   ],
   "metadata": {
    "collapsed": false
   }
  },
  {
   "cell_type": "code",
   "execution_count": 13,
   "outputs": [],
   "source": [
    "# TODO: make possible for grayscale\n",
    "class CNN(tf.keras.Model):\n",
    "\n",
    "    def __init__(self, name='custom_CNN', **kwargs):\n",
    "        super(CNN, self).__init__(name, **kwargs)\n",
    "\n",
    "        self.in_shape = (HEIGHT, WIDTH, CHANNELS)\n",
    "        self.in_shape_mobilenet = (HEIGHT, WIDTH, 3)\n",
    "\n",
    "        # MobileNetV2 embedding\n",
    "        self.mobilenet = MobileNetV2(input_shape=self.in_shape_mobilenet, weights='imagenet', include_top=False)\n",
    "        self.mobilenet._name = 'mobilenet'\n",
    "        self.mobilenet.trainable = False\n",
    "        self.finetuning = False\n",
    "        self.out_shape_mobilenet = self.mobilenet.layers[-1].output_shape # for one spectrogram\n",
    "\n",
    "        # Concatenation\n",
    "        self.concat = Concatenate(name='concat')\n",
    "\n",
    "        # Global pooling\n",
    "        self.pool = GlobalAvgPool2D(name='global_avg_pool')\n",
    "\n",
    "        # TODO: more sophisticated dense (dropout, regularizer, init., ...)\n",
    "        # Fully-connected network\n",
    "        self.flatten = Flatten(name='flatten', input_shape=(self.out_shape_mobilenet * (CHANNELS // 3), ))\n",
    "        self.dense = Dense(1, name='dense') # keep logits\n",
    "        self.out_shape = 1\n",
    "\n",
    "        # build graph\n",
    "        self.build_graph()\n",
    "\n",
    "    def build_graph(self):\n",
    "        self.build(input_shape=(None, *self.in_shape))\n",
    "        x = Input(shape=self.in_shape)\n",
    "        Model(inputs=[x], outputs=self.call(x))\n",
    "\n",
    "    def set_finetuning(self, mode=True):\n",
    "        self.finetuning = mode\n",
    "        self.mobilenet.trainable = mode\n",
    "\n",
    "        for layers in self.mobilenet.layers:\n",
    "            layers.trainable = False\n",
    "\n",
    "        # \"activate\" last conv layer of MobileNet\n",
    "        self.mobilenet.layers[-3].trainable = mode\n",
    "        self.mobilenet.layers[-2].trainable = mode\n",
    "\n",
    "    def call(self, inputs):\n",
    "        \"\"\"\n",
    "        Model predictions (logits)\n",
    "        :param inputs: all spectrograms of shape (HEIGHT, WIDTH, CHANNELS)\n",
    "        :return: class prediction (logits)\n",
    "        \"\"\"\n",
    "        # MobileNetV2 embeddings\n",
    "        x = [self.mobilenet(inputs[..., i:i+3], training=self.finetuning) for i in range(0, CHANNELS, 3)]\n",
    "\n",
    "        # Concatenation\n",
    "        x = self.concat(x)\n",
    "\n",
    "        # Global pooling\n",
    "        x = self.pool(x)\n",
    "\n",
    "        # Fully-connected network\n",
    "        x = self.flatten(x)\n",
    "        x = self.dense(x)\n",
    "\n",
    "        return x"
   ],
   "metadata": {
    "collapsed": false
   }
  },
  {
   "cell_type": "markdown",
   "source": [
    "# Stratified Group k-Fold CV"
   ],
   "metadata": {
    "collapsed": false
   }
  },
  {
   "cell_type": "markdown",
   "source": [
    "### TODO: augmentations in CV?"
   ],
   "metadata": {
    "collapsed": false
   }
  },
  {
   "cell_type": "code",
   "execution_count": 14,
   "outputs": [],
   "source": [
    "from sklearn.model_selection import StratifiedGroupKFold\n",
    "from tqdm import tqdm\n",
    "import warnings"
   ],
   "metadata": {
    "collapsed": false
   }
  },
  {
   "cell_type": "code",
   "execution_count": 15,
   "outputs": [
    {
     "data": {
      "text/plain": "[1,\n 1,\n 1,\n 1,\n 1,\n 1,\n 1,\n 1,\n 1,\n 1,\n 1,\n 1,\n 1,\n 1,\n 1,\n 1,\n 1,\n 1,\n 3,\n 3,\n 3,\n 3,\n 3,\n 3,\n 3,\n 3,\n 3,\n 3,\n 3,\n 3,\n 3,\n 3,\n 3,\n 3,\n 3,\n 3,\n 3,\n 3,\n 3,\n 3,\n 4,\n 4,\n 4,\n 4,\n 4,\n 4,\n 4,\n 4,\n 4,\n 4,\n 4,\n 4,\n 4,\n 4,\n 4,\n 4,\n 5,\n 5,\n 5,\n 5,\n 5,\n 5,\n 5,\n 5,\n 5,\n 5,\n 5,\n 7,\n 7,\n 7,\n 7,\n 7,\n 8,\n 8,\n 8,\n 8,\n 8,\n 8,\n 8,\n 8,\n 8,\n 8,\n 8,\n 8,\n 8,\n 8,\n 8,\n 8,\n 8,\n 8,\n 8,\n 9,\n 9,\n 9,\n 9,\n 9,\n 9,\n 9,\n 9,\n 9,\n 9,\n 9,\n 9,\n 9,\n 9,\n 9,\n 9,\n 9,\n 9,\n 9,\n 9,\n 10,\n 10,\n 10,\n 10,\n 10,\n 10,\n 10,\n 10,\n 10,\n 10,\n 10,\n 10,\n 10,\n 10,\n 11,\n 11,\n 11,\n 11,\n 11,\n 11,\n 11,\n 11,\n 11,\n 11,\n 11,\n 11,\n 11,\n 11,\n 11,\n 11,\n 11,\n 11,\n 11,\n 12,\n 12,\n 12,\n 12,\n 12,\n 12,\n 12,\n 12,\n 12,\n 12,\n 12,\n 12,\n 12,\n 12,\n 12,\n 12,\n 12,\n 12,\n 12,\n 12,\n 13,\n 13,\n 13,\n 13,\n 13,\n 13,\n 13,\n 13,\n 13,\n 13,\n 13,\n 13,\n 13,\n 13,\n 13,\n 13,\n 13,\n 13,\n 14,\n 14,\n 14,\n 14,\n 14,\n 14,\n 14,\n 14,\n 14,\n 14,\n 14,\n 14,\n 14,\n 14,\n 14,\n 14,\n 15,\n 15,\n 15,\n 15,\n 15,\n 15,\n 15,\n 15,\n 15,\n 15,\n 16,\n 16,\n 16,\n 16,\n 16,\n 16,\n 16,\n 16,\n 16,\n 16,\n 16,\n 16,\n 16,\n 16,\n 16,\n 16,\n 16,\n 17,\n 17,\n 17,\n 17,\n 17,\n 17,\n 17,\n 17,\n 17,\n 17,\n 17,\n 17,\n 17,\n 17,\n 17,\n 17,\n 17,\n 17,\n 17,\n 19,\n 19,\n 19,\n 19,\n 19,\n 19,\n 19,\n 19,\n 19,\n 19,\n 19,\n 19,\n 19,\n 19,\n 19,\n 19,\n 20,\n 20,\n 20,\n 20,\n 20,\n 21,\n 21,\n 21,\n 21,\n 21,\n 21,\n 21,\n 21,\n 21,\n 21,\n 21,\n 21,\n 21,\n 21,\n 21,\n 21,\n 21,\n 21,\n 21,\n 22,\n 22,\n 22,\n 22,\n 22,\n 22,\n 22,\n 22,\n 23,\n 23,\n 23,\n 23,\n 23,\n 23,\n 23,\n 23,\n 23,\n 23,\n 23,\n 23,\n 23,\n 23,\n 23,\n 23,\n 23,\n 23,\n 23,\n 23,\n 23,\n 23,\n 23,\n 23,\n 23,\n 23,\n 23,\n 23,\n 23,\n 23,\n 23,\n 23,\n 23,\n 23,\n 23,\n 23,\n 23,\n 23,\n 23,\n 23,\n 23,\n 23,\n 23,\n 23,\n 23,\n 23,\n 23,\n 23,\n 23,\n 23,\n 23,\n 23,\n 23,\n 23,\n 23,\n 23,\n 23,\n 23,\n 23,\n 23,\n 23,\n 23,\n 23,\n 23,\n 23,\n 23,\n 23,\n 23,\n 23,\n 23,\n 23,\n 23,\n 23,\n 23,\n 23,\n 23,\n 23,\n 23,\n 23,\n 23,\n 23,\n 23,\n 23,\n 23,\n 23,\n 23,\n 23,\n 23,\n 23,\n 23,\n 23,\n 23,\n 23,\n 23,\n 23,\n 23,\n 23,\n 23,\n 23,\n 23,\n 23,\n 23,\n 23,\n 23,\n 23,\n 23,\n 23,\n 23,\n 23,\n 23,\n 23,\n 23,\n 23,\n 23,\n 23,\n 23,\n 23,\n 23,\n 23,\n 23,\n 23,\n 23,\n 23,\n 23,\n 23,\n 23,\n 23,\n 23,\n 23,\n 23,\n 23,\n 23,\n 23,\n 23,\n 23,\n 23,\n 23,\n 23,\n 23,\n 23,\n 23,\n 23,\n 23,\n 23,\n 23,\n 23,\n 23,\n 23,\n 23,\n 23,\n 23,\n 23,\n 23,\n 23,\n 23,\n 23,\n 23,\n 23,\n 23,\n 23,\n 23,\n 23,\n 23,\n 23,\n 23,\n 23,\n 23,\n 23,\n 23,\n 23,\n 23,\n 23,\n 23,\n 23,\n 23,\n 23,\n 23,\n 23,\n 23,\n 23,\n 23,\n 23,\n 23,\n 23,\n 23,\n 23,\n 23,\n 23,\n 23,\n 23,\n 23,\n 23,\n 24,\n 24,\n 24,\n 24,\n 24,\n 24,\n 24,\n 24,\n 24,\n 24,\n 24,\n 24,\n 24,\n 24,\n 24,\n 24,\n 24,\n 24,\n 24,\n 24,\n 24,\n 24,\n 24,\n 24,\n 24,\n 24,\n 24,\n 24,\n 24,\n 24,\n 24,\n 24,\n 24,\n 24,\n 24,\n 24,\n 24,\n 24,\n 24,\n 24,\n 24,\n 24,\n 24,\n 24,\n 24,\n 24,\n 24,\n 24,\n 24,\n 24,\n 24,\n 24,\n 24,\n 24,\n 24,\n 24,\n 24,\n 24,\n 24,\n 24,\n 24,\n 24,\n 24,\n 24,\n 24,\n 24,\n 24,\n 24,\n 24,\n 24,\n 24,\n 24,\n 24,\n 24,\n 24,\n 24,\n 24,\n 24,\n 24,\n 24,\n 24,\n 24,\n 24,\n 24,\n 24,\n 24,\n 24,\n 24,\n 24,\n 24,\n 24,\n 24,\n 24,\n 24,\n 24,\n 24,\n 24,\n 24,\n 24,\n 24,\n 24,\n 24,\n 24,\n 24,\n 24,\n 24,\n 24,\n 24,\n 24,\n 24,\n 24,\n 24,\n 24,\n 24,\n 24,\n 24,\n 24,\n 24,\n 24,\n 24,\n 24,\n 24,\n 24,\n 24,\n 24,\n 24,\n 24,\n 24,\n 24,\n 24,\n 24,\n 24,\n 24,\n 24,\n 24,\n 24,\n 24,\n 24,\n 24,\n 24,\n 24,\n 24,\n 24,\n 24,\n 24,\n 24,\n 24,\n 24,\n 24,\n 24,\n 24,\n 24,\n 24,\n 24,\n 24,\n 24,\n 24,\n 24,\n 24,\n 24,\n 24,\n 24,\n 24,\n 24,\n 24,\n 24,\n 24,\n 24,\n 24,\n 24,\n 24,\n 24,\n 24,\n 24,\n 24,\n 24,\n 24,\n 24,\n 24,\n 24,\n 24,\n 24,\n 24,\n 24,\n 24,\n 24,\n 24,\n 24,\n 24,\n 24,\n 24,\n 24,\n 24,\n 24,\n 24,\n 24,\n 24,\n 24,\n 24,\n 24,\n 24,\n 24,\n 24,\n 24,\n 24,\n 24,\n 24,\n 24,\n 24,\n 24,\n 24,\n 24,\n 24,\n 24,\n 24,\n 24,\n 24,\n 24,\n 24,\n 24,\n 24,\n 24,\n 24,\n 24,\n 24,\n 24,\n 24,\n 24,\n 24,\n 24,\n 24,\n 24,\n 24,\n 24,\n 24,\n 24,\n 24,\n 24,\n 24,\n 24,\n 24,\n 24,\n 24,\n 24,\n 24,\n 24,\n 24,\n 24,\n 24,\n 24,\n 24,\n 24,\n 24,\n 24,\n 25,\n 25,\n 25,\n 25,\n 25,\n 25,\n 25,\n 25,\n 25,\n 25,\n 25,\n 25,\n 25,\n 25,\n 25,\n 25,\n 25,\n 25,\n 25,\n 25,\n 25,\n 25,\n 25,\n 25,\n 25,\n 25,\n 25,\n 25,\n 25,\n 25,\n 25,\n 25,\n 25,\n 25,\n 25,\n 25,\n 25,\n 26,\n 26,\n 26,\n 26,\n 26,\n 26,\n 26,\n 26,\n 26,\n 26,\n 26,\n 26,\n 26,\n 26,\n 26,\n 26,\n 26,\n 26,\n 26,\n 26,\n 26,\n 26,\n 26,\n 26,\n 26,\n 26,\n 26,\n 26,\n 26,\n 26,\n 26,\n 26,\n 26,\n 26,\n 26,\n 26,\n 26,\n 26,\n 26,\n 26,\n 26,\n 26,\n 26,\n 26,\n 26,\n 26,\n 26,\n 26,\n 26,\n 26,\n 26,\n 26,\n 26,\n 26,\n 26,\n 26,\n 26,\n 26,\n 26,\n 26,\n 26,\n 26,\n 26,\n 26,\n 26,\n 26,\n 26,\n 26,\n 26,\n 26,\n 26,\n 26,\n 26,\n 26,\n 26,\n 26,\n 26,\n 26,\n 26,\n 26,\n 26,\n 26,\n 26,\n 26,\n 26,\n 26,\n 26,\n 26,\n 26,\n 26,\n 26,\n 26,\n 26,\n 26,\n 26,\n 26,\n 26,\n 26,\n 26,\n 26,\n 26,\n 26,\n 26,\n 26,\n 26,\n 26,\n 26,\n 26,\n 26,\n 26,\n 26,\n 26,\n 26,\n 26,\n 26,\n 26,\n 26,\n 26,\n 26,\n 26,\n 26,\n 26,\n 26,\n 26,\n 26,\n 26,\n 26,\n 26,\n 26,\n 26,\n 26,\n 26,\n 26,\n 27,\n 27,\n 27,\n 27,\n 27,\n 27,\n 27,\n 27,\n 27,\n 27,\n 27,\n 27,\n 27,\n 27,\n 27,\n 27,\n 27,\n 27,\n 27,\n 27,\n 27,\n 27,\n 27,\n 27,\n 27,\n 27,\n 27,\n 27,\n 27,\n 27,\n 27,\n 27,\n 27,\n 27,\n 27,\n 27,\n 27,\n 27,\n 27,\n 27,\n 27,\n 27,\n 27,\n 27,\n 27,\n 27,\n 27,\n 27,\n 27,\n 27,\n 27,\n 27,\n 27,\n 27,\n 27,\n 27,\n 27,\n 27,\n 27,\n 27,\n 27,\n 27,\n 15,\n 24,\n 24,\n 24,\n 23,\n 23,\n 23,\n 24,\n 24,\n 19,\n 19,\n 19,\n 27,\n 24,\n 24,\n 24,\n 24,\n 24,\n 10,\n 23,\n 21,\n 21,\n 25,\n 25,\n 25,\n 14,\n 14,\n 14,\n 27,\n 27,\n ...]"
     },
     "execution_count": 15,
     "metadata": {},
     "output_type": "execute_result"
    }
   ],
   "source": [
    "subjects = [meta['subjectID'] for meta in metadata]\n",
    "subjects"
   ],
   "metadata": {
    "collapsed": false
   }
  },
  {
   "cell_type": "code",
   "execution_count": 16,
   "outputs": [
    {
     "name": "stdout",
     "output_type": "stream",
     "text": [
      "Starting cross-validation for physical fatigue\n"
     ]
    },
    {
     "name": "stderr",
     "output_type": "stream",
     "text": [
      "  0%|          | 0/5 [00:02<?, ?it/s]\n"
     ]
    },
    {
     "ename": "KeyboardInterrupt",
     "evalue": "",
     "output_type": "error",
     "traceback": [
      "\u001B[1;31m---------------------------------------------------------------------------\u001B[0m",
      "\u001B[1;31mKeyboardInterrupt\u001B[0m                         Traceback (most recent call last)",
      "Cell \u001B[1;32mIn [16], line 27\u001B[0m\n\u001B[0;32m     24\u001B[0m sample_weights \u001B[38;5;241m=\u001B[39m get_weighting_factor(path, train_indices)\n\u001B[0;32m     26\u001B[0m \u001B[38;5;66;03m# model\u001B[39;00m\n\u001B[1;32m---> 27\u001B[0m model \u001B[38;5;241m=\u001B[39m \u001B[43mCNN\u001B[49m\u001B[43m(\u001B[49m\u001B[43m)\u001B[49m\n\u001B[0;32m     28\u001B[0m model\u001B[38;5;241m.\u001B[39mcompile(optimizer\u001B[38;5;241m=\u001B[39mAdam(learning_rate\u001B[38;5;241m=\u001B[39mlearning_rate),\n\u001B[0;32m     29\u001B[0m               loss\u001B[38;5;241m=\u001B[39mweighted_cross_entropy(sample_weights))\n\u001B[0;32m     31\u001B[0m \u001B[38;5;66;03m# training\u001B[39;00m\n",
      "Cell \u001B[1;32mIn [13], line 5\u001B[0m, in \u001B[0;36mCNN.__init__\u001B[1;34m(self, name, **kwargs)\u001B[0m\n\u001B[0;32m      4\u001B[0m \u001B[38;5;28;01mdef\u001B[39;00m \u001B[38;5;21m__init__\u001B[39m(\u001B[38;5;28mself\u001B[39m, name\u001B[38;5;241m=\u001B[39m\u001B[38;5;124m'\u001B[39m\u001B[38;5;124mcustom_CNN\u001B[39m\u001B[38;5;124m'\u001B[39m, \u001B[38;5;241m*\u001B[39m\u001B[38;5;241m*\u001B[39mkwargs):\n\u001B[1;32m----> 5\u001B[0m     \u001B[38;5;28msuper\u001B[39m(CNN, \u001B[38;5;28mself\u001B[39m)\u001B[38;5;241m.\u001B[39m\u001B[38;5;21m__init__\u001B[39m(name, \u001B[38;5;241m*\u001B[39m\u001B[38;5;241m*\u001B[39mkwargs)\n\u001B[0;32m      7\u001B[0m     \u001B[38;5;28mself\u001B[39m\u001B[38;5;241m.\u001B[39min_shape \u001B[38;5;241m=\u001B[39m (HEIGHT, WIDTH, CHANNELS)\n\u001B[0;32m      8\u001B[0m     \u001B[38;5;28mself\u001B[39m\u001B[38;5;241m.\u001B[39min_shape_mobilenet \u001B[38;5;241m=\u001B[39m (HEIGHT, WIDTH, \u001B[38;5;241m3\u001B[39m)\n",
      "File \u001B[1;32m~\\anaconda3\\envs\\tf-sklearn-keras\\lib\\site-packages\\tensorflow\\python\\training\\tracking\\base.py:530\u001B[0m, in \u001B[0;36mno_automatic_dependency_tracking.<locals>._method_wrapper\u001B[1;34m(self, *args, **kwargs)\u001B[0m\n\u001B[0;32m    528\u001B[0m \u001B[38;5;28mself\u001B[39m\u001B[38;5;241m.\u001B[39m_self_setattr_tracking \u001B[38;5;241m=\u001B[39m \u001B[38;5;28;01mFalse\u001B[39;00m  \u001B[38;5;66;03m# pylint: disable=protected-access\u001B[39;00m\n\u001B[0;32m    529\u001B[0m \u001B[38;5;28;01mtry\u001B[39;00m:\n\u001B[1;32m--> 530\u001B[0m   result \u001B[38;5;241m=\u001B[39m method(\u001B[38;5;28mself\u001B[39m, \u001B[38;5;241m*\u001B[39margs, \u001B[38;5;241m*\u001B[39m\u001B[38;5;241m*\u001B[39mkwargs)\n\u001B[0;32m    531\u001B[0m \u001B[38;5;28;01mfinally\u001B[39;00m:\n\u001B[0;32m    532\u001B[0m   \u001B[38;5;28mself\u001B[39m\u001B[38;5;241m.\u001B[39m_self_setattr_tracking \u001B[38;5;241m=\u001B[39m previous_value  \u001B[38;5;66;03m# pylint: disable=protected-access\u001B[39;00m\n",
      "File \u001B[1;32m~\\anaconda3\\envs\\tf-sklearn-keras\\lib\\site-packages\\keras\\engine\\training.py:289\u001B[0m, in \u001B[0;36mModel.__init__\u001B[1;34m(self, *args, **kwargs)\u001B[0m\n\u001B[0;32m    285\u001B[0m \u001B[38;5;28mself\u001B[39m\u001B[38;5;241m.\u001B[39m_trackable_saver \u001B[38;5;241m=\u001B[39m saver_with_op_caching(\u001B[38;5;28mself\u001B[39m)\n\u001B[0;32m    287\u001B[0m \u001B[38;5;28mself\u001B[39m\u001B[38;5;241m.\u001B[39m_steps_per_execution \u001B[38;5;241m=\u001B[39m \u001B[38;5;28;01mNone\u001B[39;00m\n\u001B[1;32m--> 289\u001B[0m \u001B[38;5;28;43mself\u001B[39;49m\u001B[38;5;241;43m.\u001B[39;49m\u001B[43m_init_batch_counters\u001B[49m\u001B[43m(\u001B[49m\u001B[43m)\u001B[49m\n\u001B[0;32m    290\u001B[0m \u001B[38;5;28mself\u001B[39m\u001B[38;5;241m.\u001B[39m_base_model_initialized \u001B[38;5;241m=\u001B[39m \u001B[38;5;28;01mTrue\u001B[39;00m\n",
      "File \u001B[1;32m~\\anaconda3\\envs\\tf-sklearn-keras\\lib\\site-packages\\tensorflow\\python\\training\\tracking\\base.py:530\u001B[0m, in \u001B[0;36mno_automatic_dependency_tracking.<locals>._method_wrapper\u001B[1;34m(self, *args, **kwargs)\u001B[0m\n\u001B[0;32m    528\u001B[0m \u001B[38;5;28mself\u001B[39m\u001B[38;5;241m.\u001B[39m_self_setattr_tracking \u001B[38;5;241m=\u001B[39m \u001B[38;5;28;01mFalse\u001B[39;00m  \u001B[38;5;66;03m# pylint: disable=protected-access\u001B[39;00m\n\u001B[0;32m    529\u001B[0m \u001B[38;5;28;01mtry\u001B[39;00m:\n\u001B[1;32m--> 530\u001B[0m   result \u001B[38;5;241m=\u001B[39m method(\u001B[38;5;28mself\u001B[39m, \u001B[38;5;241m*\u001B[39margs, \u001B[38;5;241m*\u001B[39m\u001B[38;5;241m*\u001B[39mkwargs)\n\u001B[0;32m    531\u001B[0m \u001B[38;5;28;01mfinally\u001B[39;00m:\n\u001B[0;32m    532\u001B[0m   \u001B[38;5;28mself\u001B[39m\u001B[38;5;241m.\u001B[39m_self_setattr_tracking \u001B[38;5;241m=\u001B[39m previous_value  \u001B[38;5;66;03m# pylint: disable=protected-access\u001B[39;00m\n",
      "File \u001B[1;32m~\\anaconda3\\envs\\tf-sklearn-keras\\lib\\site-packages\\keras\\engine\\training.py:297\u001B[0m, in \u001B[0;36mModel._init_batch_counters\u001B[1;34m(self)\u001B[0m\n\u001B[0;32m    292\u001B[0m \u001B[38;5;129m@tf\u001B[39m\u001B[38;5;241m.\u001B[39m__internal__\u001B[38;5;241m.\u001B[39mtracking\u001B[38;5;241m.\u001B[39mno_automatic_dependency_tracking\n\u001B[0;32m    293\u001B[0m \u001B[38;5;28;01mdef\u001B[39;00m \u001B[38;5;21m_init_batch_counters\u001B[39m(\u001B[38;5;28mself\u001B[39m):\n\u001B[0;32m    294\u001B[0m   \u001B[38;5;66;03m# Untracked Variables, used to keep track of mini-batches seen in `fit`,\u001B[39;00m\n\u001B[0;32m    295\u001B[0m   \u001B[38;5;66;03m# `evaluate`, and `predict`.\u001B[39;00m\n\u001B[0;32m    296\u001B[0m   agg \u001B[38;5;241m=\u001B[39m tf\u001B[38;5;241m.\u001B[39mVariableAggregation\u001B[38;5;241m.\u001B[39mONLY_FIRST_REPLICA\n\u001B[1;32m--> 297\u001B[0m   \u001B[38;5;28mself\u001B[39m\u001B[38;5;241m.\u001B[39m_train_counter \u001B[38;5;241m=\u001B[39m \u001B[43mtf\u001B[49m\u001B[38;5;241;43m.\u001B[39;49m\u001B[43mVariable\u001B[49m\u001B[43m(\u001B[49m\u001B[38;5;241;43m0\u001B[39;49m\u001B[43m,\u001B[49m\u001B[43m \u001B[49m\u001B[43mdtype\u001B[49m\u001B[38;5;241;43m=\u001B[39;49m\u001B[38;5;124;43m'\u001B[39;49m\u001B[38;5;124;43mint64\u001B[39;49m\u001B[38;5;124;43m'\u001B[39;49m\u001B[43m,\u001B[49m\u001B[43m \u001B[49m\u001B[43maggregation\u001B[49m\u001B[38;5;241;43m=\u001B[39;49m\u001B[43magg\u001B[49m\u001B[43m)\u001B[49m\n\u001B[0;32m    298\u001B[0m   \u001B[38;5;28mself\u001B[39m\u001B[38;5;241m.\u001B[39m_test_counter \u001B[38;5;241m=\u001B[39m tf\u001B[38;5;241m.\u001B[39mVariable(\u001B[38;5;241m0\u001B[39m, dtype\u001B[38;5;241m=\u001B[39m\u001B[38;5;124m'\u001B[39m\u001B[38;5;124mint64\u001B[39m\u001B[38;5;124m'\u001B[39m, aggregation\u001B[38;5;241m=\u001B[39magg)\n\u001B[0;32m    299\u001B[0m   \u001B[38;5;28mself\u001B[39m\u001B[38;5;241m.\u001B[39m_predict_counter \u001B[38;5;241m=\u001B[39m tf\u001B[38;5;241m.\u001B[39mVariable(\n\u001B[0;32m    300\u001B[0m       \u001B[38;5;241m0\u001B[39m, dtype\u001B[38;5;241m=\u001B[39m\u001B[38;5;124m'\u001B[39m\u001B[38;5;124mint64\u001B[39m\u001B[38;5;124m'\u001B[39m, aggregation\u001B[38;5;241m=\u001B[39magg)\n",
      "File \u001B[1;32m~\\anaconda3\\envs\\tf-sklearn-keras\\lib\\site-packages\\tensorflow\\python\\ops\\variables.py:268\u001B[0m, in \u001B[0;36mVariableMetaclass.__call__\u001B[1;34m(cls, *args, **kwargs)\u001B[0m\n\u001B[0;32m    266\u001B[0m   \u001B[38;5;28;01mreturn\u001B[39;00m \u001B[38;5;28mcls\u001B[39m\u001B[38;5;241m.\u001B[39m_variable_v1_call(\u001B[38;5;241m*\u001B[39margs, \u001B[38;5;241m*\u001B[39m\u001B[38;5;241m*\u001B[39mkwargs)\n\u001B[0;32m    267\u001B[0m \u001B[38;5;28;01melif\u001B[39;00m \u001B[38;5;28mcls\u001B[39m \u001B[38;5;129;01mis\u001B[39;00m Variable:\n\u001B[1;32m--> 268\u001B[0m   \u001B[38;5;28;01mreturn\u001B[39;00m \u001B[38;5;28mcls\u001B[39m\u001B[38;5;241m.\u001B[39m_variable_v2_call(\u001B[38;5;241m*\u001B[39margs, \u001B[38;5;241m*\u001B[39m\u001B[38;5;241m*\u001B[39mkwargs)\n\u001B[0;32m    269\u001B[0m \u001B[38;5;28;01melse\u001B[39;00m:\n\u001B[0;32m    270\u001B[0m   \u001B[38;5;28;01mreturn\u001B[39;00m \u001B[38;5;28msuper\u001B[39m(VariableMetaclass, \u001B[38;5;28mcls\u001B[39m)\u001B[38;5;241m.\u001B[39m\u001B[38;5;21m__call__\u001B[39m(\u001B[38;5;241m*\u001B[39margs, \u001B[38;5;241m*\u001B[39m\u001B[38;5;241m*\u001B[39mkwargs)\n",
      "File \u001B[1;32m~\\anaconda3\\envs\\tf-sklearn-keras\\lib\\site-packages\\tensorflow\\python\\ops\\variables.py:250\u001B[0m, in \u001B[0;36mVariableMetaclass._variable_v2_call\u001B[1;34m(cls, initial_value, trainable, validate_shape, caching_device, name, variable_def, dtype, import_scope, constraint, synchronization, aggregation, shape)\u001B[0m\n\u001B[0;32m    248\u001B[0m \u001B[38;5;28;01mif\u001B[39;00m aggregation \u001B[38;5;129;01mis\u001B[39;00m \u001B[38;5;28;01mNone\u001B[39;00m:\n\u001B[0;32m    249\u001B[0m   aggregation \u001B[38;5;241m=\u001B[39m VariableAggregation\u001B[38;5;241m.\u001B[39mNONE\n\u001B[1;32m--> 250\u001B[0m \u001B[38;5;28;01mreturn\u001B[39;00m \u001B[43mprevious_getter\u001B[49m\u001B[43m(\u001B[49m\n\u001B[0;32m    251\u001B[0m \u001B[43m    \u001B[49m\u001B[43minitial_value\u001B[49m\u001B[38;5;241;43m=\u001B[39;49m\u001B[43minitial_value\u001B[49m\u001B[43m,\u001B[49m\n\u001B[0;32m    252\u001B[0m \u001B[43m    \u001B[49m\u001B[43mtrainable\u001B[49m\u001B[38;5;241;43m=\u001B[39;49m\u001B[43mtrainable\u001B[49m\u001B[43m,\u001B[49m\n\u001B[0;32m    253\u001B[0m \u001B[43m    \u001B[49m\u001B[43mvalidate_shape\u001B[49m\u001B[38;5;241;43m=\u001B[39;49m\u001B[43mvalidate_shape\u001B[49m\u001B[43m,\u001B[49m\n\u001B[0;32m    254\u001B[0m \u001B[43m    \u001B[49m\u001B[43mcaching_device\u001B[49m\u001B[38;5;241;43m=\u001B[39;49m\u001B[43mcaching_device\u001B[49m\u001B[43m,\u001B[49m\n\u001B[0;32m    255\u001B[0m \u001B[43m    \u001B[49m\u001B[43mname\u001B[49m\u001B[38;5;241;43m=\u001B[39;49m\u001B[43mname\u001B[49m\u001B[43m,\u001B[49m\n\u001B[0;32m    256\u001B[0m \u001B[43m    \u001B[49m\u001B[43mvariable_def\u001B[49m\u001B[38;5;241;43m=\u001B[39;49m\u001B[43mvariable_def\u001B[49m\u001B[43m,\u001B[49m\n\u001B[0;32m    257\u001B[0m \u001B[43m    \u001B[49m\u001B[43mdtype\u001B[49m\u001B[38;5;241;43m=\u001B[39;49m\u001B[43mdtype\u001B[49m\u001B[43m,\u001B[49m\n\u001B[0;32m    258\u001B[0m \u001B[43m    \u001B[49m\u001B[43mimport_scope\u001B[49m\u001B[38;5;241;43m=\u001B[39;49m\u001B[43mimport_scope\u001B[49m\u001B[43m,\u001B[49m\n\u001B[0;32m    259\u001B[0m \u001B[43m    \u001B[49m\u001B[43mconstraint\u001B[49m\u001B[38;5;241;43m=\u001B[39;49m\u001B[43mconstraint\u001B[49m\u001B[43m,\u001B[49m\n\u001B[0;32m    260\u001B[0m \u001B[43m    \u001B[49m\u001B[43msynchronization\u001B[49m\u001B[38;5;241;43m=\u001B[39;49m\u001B[43msynchronization\u001B[49m\u001B[43m,\u001B[49m\n\u001B[0;32m    261\u001B[0m \u001B[43m    \u001B[49m\u001B[43maggregation\u001B[49m\u001B[38;5;241;43m=\u001B[39;49m\u001B[43maggregation\u001B[49m\u001B[43m,\u001B[49m\n\u001B[0;32m    262\u001B[0m \u001B[43m    \u001B[49m\u001B[43mshape\u001B[49m\u001B[38;5;241;43m=\u001B[39;49m\u001B[43mshape\u001B[49m\u001B[43m)\u001B[49m\n",
      "File \u001B[1;32m~\\anaconda3\\envs\\tf-sklearn-keras\\lib\\site-packages\\tensorflow\\python\\ops\\variables.py:243\u001B[0m, in \u001B[0;36mVariableMetaclass._variable_v2_call.<locals>.<lambda>\u001B[1;34m(**kws)\u001B[0m\n\u001B[0;32m    229\u001B[0m \u001B[38;5;28;01mdef\u001B[39;00m \u001B[38;5;21m_variable_v2_call\u001B[39m(\u001B[38;5;28mcls\u001B[39m,\n\u001B[0;32m    230\u001B[0m                       initial_value\u001B[38;5;241m=\u001B[39m\u001B[38;5;28;01mNone\u001B[39;00m,\n\u001B[0;32m    231\u001B[0m                       trainable\u001B[38;5;241m=\u001B[39m\u001B[38;5;28;01mNone\u001B[39;00m,\n\u001B[1;32m   (...)\u001B[0m\n\u001B[0;32m    240\u001B[0m                       aggregation\u001B[38;5;241m=\u001B[39mVariableAggregation\u001B[38;5;241m.\u001B[39mNONE,\n\u001B[0;32m    241\u001B[0m                       shape\u001B[38;5;241m=\u001B[39m\u001B[38;5;28;01mNone\u001B[39;00m):\n\u001B[0;32m    242\u001B[0m   \u001B[38;5;124;03m\"\"\"Call on Variable class. Useful to force the signature.\"\"\"\u001B[39;00m\n\u001B[1;32m--> 243\u001B[0m   previous_getter \u001B[38;5;241m=\u001B[39m \u001B[38;5;28;01mlambda\u001B[39;00m \u001B[38;5;241m*\u001B[39m\u001B[38;5;241m*\u001B[39mkws: default_variable_creator_v2(\u001B[38;5;28;01mNone\u001B[39;00m, \u001B[38;5;241m*\u001B[39m\u001B[38;5;241m*\u001B[39mkws)\n\u001B[0;32m    244\u001B[0m   \u001B[38;5;28;01mfor\u001B[39;00m _, getter \u001B[38;5;129;01min\u001B[39;00m ops\u001B[38;5;241m.\u001B[39mget_default_graph()\u001B[38;5;241m.\u001B[39m_variable_creator_stack:  \u001B[38;5;66;03m# pylint: disable=protected-access\u001B[39;00m\n\u001B[0;32m    245\u001B[0m     previous_getter \u001B[38;5;241m=\u001B[39m _make_getter(getter, previous_getter)\n",
      "File \u001B[1;32m~\\anaconda3\\envs\\tf-sklearn-keras\\lib\\site-packages\\tensorflow\\python\\ops\\variable_scope.py:2662\u001B[0m, in \u001B[0;36mdefault_variable_creator_v2\u001B[1;34m(next_creator, **kwargs)\u001B[0m\n\u001B[0;32m   2659\u001B[0m aggregation \u001B[38;5;241m=\u001B[39m kwargs\u001B[38;5;241m.\u001B[39mget(\u001B[38;5;124m\"\u001B[39m\u001B[38;5;124maggregation\u001B[39m\u001B[38;5;124m\"\u001B[39m, \u001B[38;5;28;01mNone\u001B[39;00m)\n\u001B[0;32m   2660\u001B[0m shape \u001B[38;5;241m=\u001B[39m kwargs\u001B[38;5;241m.\u001B[39mget(\u001B[38;5;124m\"\u001B[39m\u001B[38;5;124mshape\u001B[39m\u001B[38;5;124m\"\u001B[39m, \u001B[38;5;28;01mNone\u001B[39;00m)\n\u001B[1;32m-> 2662\u001B[0m \u001B[38;5;28;01mreturn\u001B[39;00m \u001B[43mresource_variable_ops\u001B[49m\u001B[38;5;241;43m.\u001B[39;49m\u001B[43mResourceVariable\u001B[49m\u001B[43m(\u001B[49m\n\u001B[0;32m   2663\u001B[0m \u001B[43m    \u001B[49m\u001B[43minitial_value\u001B[49m\u001B[38;5;241;43m=\u001B[39;49m\u001B[43minitial_value\u001B[49m\u001B[43m,\u001B[49m\n\u001B[0;32m   2664\u001B[0m \u001B[43m    \u001B[49m\u001B[43mtrainable\u001B[49m\u001B[38;5;241;43m=\u001B[39;49m\u001B[43mtrainable\u001B[49m\u001B[43m,\u001B[49m\n\u001B[0;32m   2665\u001B[0m \u001B[43m    \u001B[49m\u001B[43mvalidate_shape\u001B[49m\u001B[38;5;241;43m=\u001B[39;49m\u001B[43mvalidate_shape\u001B[49m\u001B[43m,\u001B[49m\n\u001B[0;32m   2666\u001B[0m \u001B[43m    \u001B[49m\u001B[43mcaching_device\u001B[49m\u001B[38;5;241;43m=\u001B[39;49m\u001B[43mcaching_device\u001B[49m\u001B[43m,\u001B[49m\n\u001B[0;32m   2667\u001B[0m \u001B[43m    \u001B[49m\u001B[43mname\u001B[49m\u001B[38;5;241;43m=\u001B[39;49m\u001B[43mname\u001B[49m\u001B[43m,\u001B[49m\n\u001B[0;32m   2668\u001B[0m \u001B[43m    \u001B[49m\u001B[43mdtype\u001B[49m\u001B[38;5;241;43m=\u001B[39;49m\u001B[43mdtype\u001B[49m\u001B[43m,\u001B[49m\n\u001B[0;32m   2669\u001B[0m \u001B[43m    \u001B[49m\u001B[43mconstraint\u001B[49m\u001B[38;5;241;43m=\u001B[39;49m\u001B[43mconstraint\u001B[49m\u001B[43m,\u001B[49m\n\u001B[0;32m   2670\u001B[0m \u001B[43m    \u001B[49m\u001B[43mvariable_def\u001B[49m\u001B[38;5;241;43m=\u001B[39;49m\u001B[43mvariable_def\u001B[49m\u001B[43m,\u001B[49m\n\u001B[0;32m   2671\u001B[0m \u001B[43m    \u001B[49m\u001B[43mimport_scope\u001B[49m\u001B[38;5;241;43m=\u001B[39;49m\u001B[43mimport_scope\u001B[49m\u001B[43m,\u001B[49m\n\u001B[0;32m   2672\u001B[0m \u001B[43m    \u001B[49m\u001B[43mdistribute_strategy\u001B[49m\u001B[38;5;241;43m=\u001B[39;49m\u001B[43mdistribute_strategy\u001B[49m\u001B[43m,\u001B[49m\n\u001B[0;32m   2673\u001B[0m \u001B[43m    \u001B[49m\u001B[43msynchronization\u001B[49m\u001B[38;5;241;43m=\u001B[39;49m\u001B[43msynchronization\u001B[49m\u001B[43m,\u001B[49m\n\u001B[0;32m   2674\u001B[0m \u001B[43m    \u001B[49m\u001B[43maggregation\u001B[49m\u001B[38;5;241;43m=\u001B[39;49m\u001B[43maggregation\u001B[49m\u001B[43m,\u001B[49m\n\u001B[0;32m   2675\u001B[0m \u001B[43m    \u001B[49m\u001B[43mshape\u001B[49m\u001B[38;5;241;43m=\u001B[39;49m\u001B[43mshape\u001B[49m\u001B[43m)\u001B[49m\n",
      "File \u001B[1;32m~\\anaconda3\\envs\\tf-sklearn-keras\\lib\\site-packages\\tensorflow\\python\\ops\\variables.py:270\u001B[0m, in \u001B[0;36mVariableMetaclass.__call__\u001B[1;34m(cls, *args, **kwargs)\u001B[0m\n\u001B[0;32m    268\u001B[0m   \u001B[38;5;28;01mreturn\u001B[39;00m \u001B[38;5;28mcls\u001B[39m\u001B[38;5;241m.\u001B[39m_variable_v2_call(\u001B[38;5;241m*\u001B[39margs, \u001B[38;5;241m*\u001B[39m\u001B[38;5;241m*\u001B[39mkwargs)\n\u001B[0;32m    269\u001B[0m \u001B[38;5;28;01melse\u001B[39;00m:\n\u001B[1;32m--> 270\u001B[0m   \u001B[38;5;28;01mreturn\u001B[39;00m \u001B[38;5;28msuper\u001B[39m(VariableMetaclass, \u001B[38;5;28mcls\u001B[39m)\u001B[38;5;241m.\u001B[39m\u001B[38;5;21m__call__\u001B[39m(\u001B[38;5;241m*\u001B[39margs, \u001B[38;5;241m*\u001B[39m\u001B[38;5;241m*\u001B[39mkwargs)\n",
      "File \u001B[1;32m~\\anaconda3\\envs\\tf-sklearn-keras\\lib\\site-packages\\tensorflow\\python\\ops\\resource_variable_ops.py:1602\u001B[0m, in \u001B[0;36mResourceVariable.__init__\u001B[1;34m(self, initial_value, trainable, collections, validate_shape, caching_device, name, dtype, variable_def, import_scope, constraint, distribute_strategy, synchronization, aggregation, shape)\u001B[0m\n\u001B[0;32m   1600\u001B[0m   \u001B[38;5;28mself\u001B[39m\u001B[38;5;241m.\u001B[39m_init_from_proto(variable_def, import_scope\u001B[38;5;241m=\u001B[39mimport_scope)\n\u001B[0;32m   1601\u001B[0m \u001B[38;5;28;01melse\u001B[39;00m:\n\u001B[1;32m-> 1602\u001B[0m   \u001B[38;5;28;43mself\u001B[39;49m\u001B[38;5;241;43m.\u001B[39;49m\u001B[43m_init_from_args\u001B[49m\u001B[43m(\u001B[49m\n\u001B[0;32m   1603\u001B[0m \u001B[43m      \u001B[49m\u001B[43minitial_value\u001B[49m\u001B[38;5;241;43m=\u001B[39;49m\u001B[43minitial_value\u001B[49m\u001B[43m,\u001B[49m\n\u001B[0;32m   1604\u001B[0m \u001B[43m      \u001B[49m\u001B[43mtrainable\u001B[49m\u001B[38;5;241;43m=\u001B[39;49m\u001B[43mtrainable\u001B[49m\u001B[43m,\u001B[49m\n\u001B[0;32m   1605\u001B[0m \u001B[43m      \u001B[49m\u001B[43mcollections\u001B[49m\u001B[38;5;241;43m=\u001B[39;49m\u001B[43mcollections\u001B[49m\u001B[43m,\u001B[49m\n\u001B[0;32m   1606\u001B[0m \u001B[43m      \u001B[49m\u001B[43mcaching_device\u001B[49m\u001B[38;5;241;43m=\u001B[39;49m\u001B[43mcaching_device\u001B[49m\u001B[43m,\u001B[49m\n\u001B[0;32m   1607\u001B[0m \u001B[43m      \u001B[49m\u001B[43mname\u001B[49m\u001B[38;5;241;43m=\u001B[39;49m\u001B[43mname\u001B[49m\u001B[43m,\u001B[49m\n\u001B[0;32m   1608\u001B[0m \u001B[43m      \u001B[49m\u001B[43mdtype\u001B[49m\u001B[38;5;241;43m=\u001B[39;49m\u001B[43mdtype\u001B[49m\u001B[43m,\u001B[49m\n\u001B[0;32m   1609\u001B[0m \u001B[43m      \u001B[49m\u001B[43mconstraint\u001B[49m\u001B[38;5;241;43m=\u001B[39;49m\u001B[43mconstraint\u001B[49m\u001B[43m,\u001B[49m\n\u001B[0;32m   1610\u001B[0m \u001B[43m      \u001B[49m\u001B[43msynchronization\u001B[49m\u001B[38;5;241;43m=\u001B[39;49m\u001B[43msynchronization\u001B[49m\u001B[43m,\u001B[49m\n\u001B[0;32m   1611\u001B[0m \u001B[43m      \u001B[49m\u001B[43maggregation\u001B[49m\u001B[38;5;241;43m=\u001B[39;49m\u001B[43maggregation\u001B[49m\u001B[43m,\u001B[49m\n\u001B[0;32m   1612\u001B[0m \u001B[43m      \u001B[49m\u001B[43mshape\u001B[49m\u001B[38;5;241;43m=\u001B[39;49m\u001B[43mshape\u001B[49m\u001B[43m,\u001B[49m\n\u001B[0;32m   1613\u001B[0m \u001B[43m      \u001B[49m\u001B[43mdistribute_strategy\u001B[49m\u001B[38;5;241;43m=\u001B[39;49m\u001B[43mdistribute_strategy\u001B[49m\u001B[43m)\u001B[49m\n",
      "File \u001B[1;32m~\\anaconda3\\envs\\tf-sklearn-keras\\lib\\site-packages\\tensorflow\\python\\ops\\resource_variable_ops.py:1745\u001B[0m, in \u001B[0;36mResourceVariable._init_from_args\u001B[1;34m(self, initial_value, trainable, collections, caching_device, name, dtype, constraint, synchronization, aggregation, distribute_strategy, shape)\u001B[0m\n\u001B[0;32m   1743\u001B[0m     \u001B[38;5;28mself\u001B[39m\u001B[38;5;241m.\u001B[39m_update_uid \u001B[38;5;241m=\u001B[39m initial_value\u001B[38;5;241m.\u001B[39mcheckpoint_position\u001B[38;5;241m.\u001B[39mrestore_uid\n\u001B[0;32m   1744\u001B[0m     initial_value \u001B[38;5;241m=\u001B[39m initial_value\u001B[38;5;241m.\u001B[39mwrapped_value\n\u001B[1;32m-> 1745\u001B[0m   initial_value \u001B[38;5;241m=\u001B[39m \u001B[43mops\u001B[49m\u001B[38;5;241;43m.\u001B[39;49m\u001B[43mconvert_to_tensor\u001B[49m\u001B[43m(\u001B[49m\u001B[43minitial_value\u001B[49m\u001B[43m,\u001B[49m\n\u001B[0;32m   1746\u001B[0m \u001B[43m                                        \u001B[49m\u001B[43mname\u001B[49m\u001B[38;5;241;43m=\u001B[39;49m\u001B[38;5;124;43m\"\u001B[39;49m\u001B[38;5;124;43minitial_value\u001B[39;49m\u001B[38;5;124;43m\"\u001B[39;49m\u001B[43m,\u001B[49m\n\u001B[0;32m   1747\u001B[0m \u001B[43m                                        \u001B[49m\u001B[43mdtype\u001B[49m\u001B[38;5;241;43m=\u001B[39;49m\u001B[43mdtype\u001B[49m\u001B[43m)\u001B[49m\n\u001B[0;32m   1748\u001B[0m \u001B[38;5;28;01mif\u001B[39;00m shape \u001B[38;5;129;01mis\u001B[39;00m \u001B[38;5;129;01mnot\u001B[39;00m \u001B[38;5;28;01mNone\u001B[39;00m:\n\u001B[0;32m   1749\u001B[0m   \u001B[38;5;28;01mif\u001B[39;00m \u001B[38;5;129;01mnot\u001B[39;00m initial_value\u001B[38;5;241m.\u001B[39mshape\u001B[38;5;241m.\u001B[39mis_compatible_with(shape):\n",
      "File \u001B[1;32m~\\anaconda3\\envs\\tf-sklearn-keras\\lib\\site-packages\\tensorflow\\python\\profiler\\trace.py:163\u001B[0m, in \u001B[0;36mtrace_wrapper.<locals>.inner_wrapper.<locals>.wrapped\u001B[1;34m(*args, **kwargs)\u001B[0m\n\u001B[0;32m    161\u001B[0m   \u001B[38;5;28;01mwith\u001B[39;00m Trace(trace_name, \u001B[38;5;241m*\u001B[39m\u001B[38;5;241m*\u001B[39mtrace_kwargs):\n\u001B[0;32m    162\u001B[0m     \u001B[38;5;28;01mreturn\u001B[39;00m func(\u001B[38;5;241m*\u001B[39margs, \u001B[38;5;241m*\u001B[39m\u001B[38;5;241m*\u001B[39mkwargs)\n\u001B[1;32m--> 163\u001B[0m \u001B[38;5;28;01mreturn\u001B[39;00m func(\u001B[38;5;241m*\u001B[39margs, \u001B[38;5;241m*\u001B[39m\u001B[38;5;241m*\u001B[39mkwargs)\n",
      "File \u001B[1;32m~\\anaconda3\\envs\\tf-sklearn-keras\\lib\\site-packages\\tensorflow\\python\\framework\\ops.py:1566\u001B[0m, in \u001B[0;36mconvert_to_tensor\u001B[1;34m(value, dtype, name, as_ref, preferred_dtype, dtype_hint, ctx, accepted_result_types)\u001B[0m\n\u001B[0;32m   1561\u001B[0m       \u001B[38;5;28;01mraise\u001B[39;00m \u001B[38;5;167;01mTypeError\u001B[39;00m(\u001B[38;5;124m\"\u001B[39m\u001B[38;5;124mconvert_to_tensor did not convert to \u001B[39m\u001B[38;5;124m\"\u001B[39m\n\u001B[0;32m   1562\u001B[0m                       \u001B[38;5;124m\"\u001B[39m\u001B[38;5;124mthe preferred dtype: \u001B[39m\u001B[38;5;132;01m%s\u001B[39;00m\u001B[38;5;124m vs \u001B[39m\u001B[38;5;132;01m%s\u001B[39;00m\u001B[38;5;124m \u001B[39m\u001B[38;5;124m\"\u001B[39m \u001B[38;5;241m%\u001B[39m\n\u001B[0;32m   1563\u001B[0m                       (ret\u001B[38;5;241m.\u001B[39mdtype\u001B[38;5;241m.\u001B[39mbase_dtype, preferred_dtype\u001B[38;5;241m.\u001B[39mbase_dtype))\n\u001B[0;32m   1565\u001B[0m \u001B[38;5;28;01mif\u001B[39;00m ret \u001B[38;5;129;01mis\u001B[39;00m \u001B[38;5;28;01mNone\u001B[39;00m:\n\u001B[1;32m-> 1566\u001B[0m   ret \u001B[38;5;241m=\u001B[39m \u001B[43mconversion_func\u001B[49m\u001B[43m(\u001B[49m\u001B[43mvalue\u001B[49m\u001B[43m,\u001B[49m\u001B[43m \u001B[49m\u001B[43mdtype\u001B[49m\u001B[38;5;241;43m=\u001B[39;49m\u001B[43mdtype\u001B[49m\u001B[43m,\u001B[49m\u001B[43m \u001B[49m\u001B[43mname\u001B[49m\u001B[38;5;241;43m=\u001B[39;49m\u001B[43mname\u001B[49m\u001B[43m,\u001B[49m\u001B[43m \u001B[49m\u001B[43mas_ref\u001B[49m\u001B[38;5;241;43m=\u001B[39;49m\u001B[43mas_ref\u001B[49m\u001B[43m)\u001B[49m\n\u001B[0;32m   1568\u001B[0m \u001B[38;5;28;01mif\u001B[39;00m ret \u001B[38;5;129;01mis\u001B[39;00m \u001B[38;5;28mNotImplemented\u001B[39m:\n\u001B[0;32m   1569\u001B[0m   \u001B[38;5;28;01mcontinue\u001B[39;00m\n",
      "File \u001B[1;32m~\\anaconda3\\envs\\tf-sklearn-keras\\lib\\site-packages\\tensorflow\\python\\framework\\tensor_conversion_registry.py:52\u001B[0m, in \u001B[0;36m_default_conversion_function\u001B[1;34m(***failed resolving arguments***)\u001B[0m\n\u001B[0;32m     50\u001B[0m \u001B[38;5;28;01mdef\u001B[39;00m \u001B[38;5;21m_default_conversion_function\u001B[39m(value, dtype, name, as_ref):\n\u001B[0;32m     51\u001B[0m   \u001B[38;5;28;01mdel\u001B[39;00m as_ref  \u001B[38;5;66;03m# Unused.\u001B[39;00m\n\u001B[1;32m---> 52\u001B[0m   \u001B[38;5;28;01mreturn\u001B[39;00m \u001B[43mconstant_op\u001B[49m\u001B[38;5;241;43m.\u001B[39;49m\u001B[43mconstant\u001B[49m\u001B[43m(\u001B[49m\u001B[43mvalue\u001B[49m\u001B[43m,\u001B[49m\u001B[43m \u001B[49m\u001B[43mdtype\u001B[49m\u001B[43m,\u001B[49m\u001B[43m \u001B[49m\u001B[43mname\u001B[49m\u001B[38;5;241;43m=\u001B[39;49m\u001B[43mname\u001B[49m\u001B[43m)\u001B[49m\n",
      "File \u001B[1;32m~\\anaconda3\\envs\\tf-sklearn-keras\\lib\\site-packages\\tensorflow\\python\\framework\\constant_op.py:271\u001B[0m, in \u001B[0;36mconstant\u001B[1;34m(value, dtype, shape, name)\u001B[0m\n\u001B[0;32m    174\u001B[0m \u001B[38;5;129m@tf_export\u001B[39m(\u001B[38;5;124m\"\u001B[39m\u001B[38;5;124mconstant\u001B[39m\u001B[38;5;124m\"\u001B[39m, v1\u001B[38;5;241m=\u001B[39m[])\n\u001B[0;32m    175\u001B[0m \u001B[38;5;28;01mdef\u001B[39;00m \u001B[38;5;21mconstant\u001B[39m(value, dtype\u001B[38;5;241m=\u001B[39m\u001B[38;5;28;01mNone\u001B[39;00m, shape\u001B[38;5;241m=\u001B[39m\u001B[38;5;28;01mNone\u001B[39;00m, name\u001B[38;5;241m=\u001B[39m\u001B[38;5;124m\"\u001B[39m\u001B[38;5;124mConst\u001B[39m\u001B[38;5;124m\"\u001B[39m):\n\u001B[0;32m    176\u001B[0m   \u001B[38;5;124;03m\"\"\"Creates a constant tensor from a tensor-like object.\u001B[39;00m\n\u001B[0;32m    177\u001B[0m \n\u001B[0;32m    178\u001B[0m \u001B[38;5;124;03m  Note: All eager `tf.Tensor` values are immutable (in contrast to\u001B[39;00m\n\u001B[1;32m   (...)\u001B[0m\n\u001B[0;32m    269\u001B[0m \u001B[38;5;124;03m    ValueError: if called on a symbolic tensor.\u001B[39;00m\n\u001B[0;32m    270\u001B[0m \u001B[38;5;124;03m  \"\"\"\u001B[39;00m\n\u001B[1;32m--> 271\u001B[0m   \u001B[38;5;28;01mreturn\u001B[39;00m \u001B[43m_constant_impl\u001B[49m\u001B[43m(\u001B[49m\u001B[43mvalue\u001B[49m\u001B[43m,\u001B[49m\u001B[43m \u001B[49m\u001B[43mdtype\u001B[49m\u001B[43m,\u001B[49m\u001B[43m \u001B[49m\u001B[43mshape\u001B[49m\u001B[43m,\u001B[49m\u001B[43m \u001B[49m\u001B[43mname\u001B[49m\u001B[43m,\u001B[49m\u001B[43m \u001B[49m\u001B[43mverify_shape\u001B[49m\u001B[38;5;241;43m=\u001B[39;49m\u001B[38;5;28;43;01mFalse\u001B[39;49;00m\u001B[43m,\u001B[49m\n\u001B[0;32m    272\u001B[0m \u001B[43m                        \u001B[49m\u001B[43mallow_broadcast\u001B[49m\u001B[38;5;241;43m=\u001B[39;49m\u001B[38;5;28;43;01mTrue\u001B[39;49;00m\u001B[43m)\u001B[49m\n",
      "File \u001B[1;32m~\\anaconda3\\envs\\tf-sklearn-keras\\lib\\site-packages\\tensorflow\\python\\framework\\constant_op.py:283\u001B[0m, in \u001B[0;36m_constant_impl\u001B[1;34m(value, dtype, shape, name, verify_shape, allow_broadcast)\u001B[0m\n\u001B[0;32m    281\u001B[0m     \u001B[38;5;28;01mwith\u001B[39;00m trace\u001B[38;5;241m.\u001B[39mTrace(\u001B[38;5;124m\"\u001B[39m\u001B[38;5;124mtf.constant\u001B[39m\u001B[38;5;124m\"\u001B[39m):\n\u001B[0;32m    282\u001B[0m       \u001B[38;5;28;01mreturn\u001B[39;00m _constant_eager_impl(ctx, value, dtype, shape, verify_shape)\n\u001B[1;32m--> 283\u001B[0m   \u001B[38;5;28;01mreturn\u001B[39;00m \u001B[43m_constant_eager_impl\u001B[49m\u001B[43m(\u001B[49m\u001B[43mctx\u001B[49m\u001B[43m,\u001B[49m\u001B[43m \u001B[49m\u001B[43mvalue\u001B[49m\u001B[43m,\u001B[49m\u001B[43m \u001B[49m\u001B[43mdtype\u001B[49m\u001B[43m,\u001B[49m\u001B[43m \u001B[49m\u001B[43mshape\u001B[49m\u001B[43m,\u001B[49m\u001B[43m \u001B[49m\u001B[43mverify_shape\u001B[49m\u001B[43m)\u001B[49m\n\u001B[0;32m    285\u001B[0m g \u001B[38;5;241m=\u001B[39m ops\u001B[38;5;241m.\u001B[39mget_default_graph()\n\u001B[0;32m    286\u001B[0m tensor_value \u001B[38;5;241m=\u001B[39m attr_value_pb2\u001B[38;5;241m.\u001B[39mAttrValue()\n",
      "File \u001B[1;32m~\\anaconda3\\envs\\tf-sklearn-keras\\lib\\site-packages\\tensorflow\\python\\framework\\constant_op.py:308\u001B[0m, in \u001B[0;36m_constant_eager_impl\u001B[1;34m(ctx, value, dtype, shape, verify_shape)\u001B[0m\n\u001B[0;32m    306\u001B[0m \u001B[38;5;28;01mdef\u001B[39;00m \u001B[38;5;21m_constant_eager_impl\u001B[39m(ctx, value, dtype, shape, verify_shape):\n\u001B[0;32m    307\u001B[0m   \u001B[38;5;124;03m\"\"\"Creates a constant on the current device.\"\"\"\u001B[39;00m\n\u001B[1;32m--> 308\u001B[0m   t \u001B[38;5;241m=\u001B[39m \u001B[43mconvert_to_eager_tensor\u001B[49m\u001B[43m(\u001B[49m\u001B[43mvalue\u001B[49m\u001B[43m,\u001B[49m\u001B[43m \u001B[49m\u001B[43mctx\u001B[49m\u001B[43m,\u001B[49m\u001B[43m \u001B[49m\u001B[43mdtype\u001B[49m\u001B[43m)\u001B[49m\n\u001B[0;32m    309\u001B[0m   \u001B[38;5;28;01mif\u001B[39;00m shape \u001B[38;5;129;01mis\u001B[39;00m \u001B[38;5;28;01mNone\u001B[39;00m:\n\u001B[0;32m    310\u001B[0m     \u001B[38;5;28;01mreturn\u001B[39;00m t\n",
      "File \u001B[1;32m~\\anaconda3\\envs\\tf-sklearn-keras\\lib\\site-packages\\tensorflow\\python\\framework\\constant_op.py:105\u001B[0m, in \u001B[0;36mconvert_to_eager_tensor\u001B[1;34m(value, ctx, dtype)\u001B[0m\n\u001B[0;32m    103\u001B[0m   \u001B[38;5;28;01mexcept\u001B[39;00m \u001B[38;5;167;01mAttributeError\u001B[39;00m:\n\u001B[0;32m    104\u001B[0m     dtype \u001B[38;5;241m=\u001B[39m dtypes\u001B[38;5;241m.\u001B[39mas_dtype(dtype)\u001B[38;5;241m.\u001B[39mas_datatype_enum\n\u001B[1;32m--> 105\u001B[0m \u001B[43mctx\u001B[49m\u001B[38;5;241;43m.\u001B[39;49m\u001B[43mensure_initialized\u001B[49m\u001B[43m(\u001B[49m\u001B[43m)\u001B[49m\n\u001B[0;32m    106\u001B[0m \u001B[38;5;28;01mreturn\u001B[39;00m ops\u001B[38;5;241m.\u001B[39mEagerTensor(value, ctx\u001B[38;5;241m.\u001B[39mdevice_name, dtype)\n",
      "File \u001B[1;32m~\\anaconda3\\envs\\tf-sklearn-keras\\lib\\site-packages\\tensorflow\\python\\eager\\context.py:555\u001B[0m, in \u001B[0;36mContext.ensure_initialized\u001B[1;34m(self)\u001B[0m\n\u001B[0;32m    551\u001B[0m     pywrap_tfe\u001B[38;5;241m.\u001B[39mTFE_ContextOptionsSetTfrtDistributedRuntime(\n\u001B[0;32m    552\u001B[0m         opts, \u001B[38;5;28mself\u001B[39m\u001B[38;5;241m.\u001B[39m_use_tfrt_distributed_runtime)\n\u001B[0;32m    553\u001B[0m   pywrap_tfe\u001B[38;5;241m.\u001B[39mTFE_ContextOptionsSetRunEagerOpAsFunction(\n\u001B[0;32m    554\u001B[0m       opts, \u001B[38;5;28mself\u001B[39m\u001B[38;5;241m.\u001B[39m_run_eager_op_as_function)\n\u001B[1;32m--> 555\u001B[0m   context_handle \u001B[38;5;241m=\u001B[39m pywrap_tfe\u001B[38;5;241m.\u001B[39mTFE_NewContext(opts)\n\u001B[0;32m    556\u001B[0m \u001B[38;5;28;01mfinally\u001B[39;00m:\n\u001B[0;32m    557\u001B[0m   pywrap_tfe\u001B[38;5;241m.\u001B[39mTFE_DeleteContextOptions(opts)\n",
      "\u001B[1;31mKeyboardInterrupt\u001B[0m: "
     ]
    }
   ],
   "source": [
    "# variables\n",
    "folds = 5\n",
    "indices = np.arange(N)\n",
    "epochs = 1\n",
    "learning_rate = 1e-3\n",
    "batch_size = 16\n",
    "\n",
    "# load labels\n",
    "y = np.empty(N, dtype=int)\n",
    "for i in range(N):\n",
    "    y[i] = np.load(path + f'/labels{i}.npy', allow_pickle=True)[variable] # TODO: multiclass\n",
    "\n",
    "# CV\n",
    "cv = StratifiedGroupKFold(n_splits=folds)\n",
    "scores_cv = []\n",
    "\n",
    "print(f'Starting cross-validation for physical fatigue')\n",
    "with tqdm(total=folds) as pbar:\n",
    "    for i, (train_indices, test_indices) in enumerate(cv.split(indices, y, groups=subjects)):\n",
    "        # training set\n",
    "        train_dataloader = DataGenerator(path, train_indices, batch_size=batch_size)\n",
    "\n",
    "        # weights for loss function\n",
    "        sample_weights = get_weighting_factor(path, train_indices)\n",
    "\n",
    "        # model\n",
    "        model = CNN()\n",
    "        model.compile(optimizer=Adam(learning_rate=learning_rate),\n",
    "                      loss=weighted_cross_entropy(sample_weights))\n",
    "\n",
    "        # training\n",
    "        history = model.fit_generator(generator=train_dataloader,\n",
    "                                      epochs=epochs)\n",
    "\n",
    "        # evaluate\n",
    "        scores = test_set_evaluator(model, path, test_indices, verbose=False)\n",
    "        scores_cv.append(scores)\n",
    "\n",
    "        # for progress bar\n",
    "        pbar.update(1)\n",
    "        pbar.set_description(f' Fold {i+1} F1: {scores[\"f1\"]}')\n",
    "\n",
    "# final evaluation\n",
    "print('Performance model:')\n",
    "metrics = scores_cv[0].keys()\n",
    "for metric in metrics:\n",
    "    if metric == 'confusion': # ignore confusion_matrix\n",
    "        continue\n",
    "\n",
    "    mean = np.mean([scores_cv_i[metric] for scores_cv_i in scores_cv])\n",
    "    std = np.std([scores_cv_i[metric] for scores_cv_i in scores_cv])\n",
    "    print(f' {metric}: {round(mean, 3)} +- {round(std, 3)} \\n')"
   ],
   "metadata": {
    "collapsed": false
   }
  },
  {
   "cell_type": "code",
   "execution_count": 26,
   "outputs": [
    {
     "name": "stdout",
     "output_type": "stream",
     "text": [
      "Starting cross-validation for physical fatigue\n"
     ]
    },
    {
     "name": "stderr",
     "output_type": "stream",
     "text": [
      "  0%|          | 0/5 [00:00<?, ?it/s]"
     ]
    },
    {
     "name": "stdout",
     "output_type": "stream",
     "text": [
      "WARNING:tensorflow:`input_shape` is undefined or non-square, or `rows` is not in [96, 128, 160, 192, 224]. Weights for input shape (224, 224) will be loaded as the default.\n"
     ]
    },
    {
     "name": "stderr",
     "output_type": "stream",
     "text": [
      "C:\\Users\\jjung\\anaconda3\\envs\\tf-sklearn-keras\\lib\\site-packages\\keras\\engine\\training.py:1972: UserWarning: `Model.fit_generator` is deprecated and will be removed in a future version. Please use `Model.fit`, which supports generators.\n",
      "  warnings.warn('`Model.fit_generator` is deprecated and '\n"
     ]
    },
    {
     "name": "stdout",
     "output_type": "stream",
     "text": [
      "Epoch 1/10\n",
      "55/55 [==============================] - 43s 343ms/step - loss: 0.6231\n",
      "Epoch 2/10\n",
      "55/55 [==============================] - 19s 347ms/step - loss: 0.4274\n",
      "Epoch 3/10\n",
      "55/55 [==============================] - 19s 342ms/step - loss: 0.3992\n",
      "Epoch 4/10\n",
      "55/55 [==============================] - 19s 342ms/step - loss: 0.4127\n",
      "Epoch 5/10\n",
      "55/55 [==============================] - 19s 343ms/step - loss: 0.3623\n",
      "Epoch 6/10\n",
      "55/55 [==============================] - 19s 343ms/step - loss: 0.3273\n",
      "Epoch 7/10\n",
      "55/55 [==============================] - 19s 343ms/step - loss: 0.2868\n",
      "Epoch 8/10\n",
      "55/55 [==============================] - 19s 343ms/step - loss: 0.2965\n",
      "Epoch 9/10\n",
      "55/55 [==============================] - 19s 343ms/step - loss: 0.3284\n",
      "Epoch 10/10\n",
      "55/55 [==============================] - 19s 343ms/step - loss: 0.2785\n"
     ]
    },
    {
     "name": "stderr",
     "output_type": "stream",
     "text": [
      " Fold 1 F1: 0.31036017939636895:  20%|██        | 1/5 [04:43<18:54, 283.66s/it]"
     ]
    },
    {
     "name": "stdout",
     "output_type": "stream",
     "text": [
      "WARNING:tensorflow:`input_shape` is undefined or non-square, or `rows` is not in [96, 128, 160, 192, 224]. Weights for input shape (224, 224) will be loaded as the default.\n"
     ]
    },
    {
     "name": "stderr",
     "output_type": "stream",
     "text": [
      "C:\\Users\\jjung\\anaconda3\\envs\\tf-sklearn-keras\\lib\\site-packages\\keras\\engine\\training.py:1972: UserWarning: `Model.fit_generator` is deprecated and will be removed in a future version. Please use `Model.fit`, which supports generators.\n",
      "  warnings.warn('`Model.fit_generator` is deprecated and '\n"
     ]
    },
    {
     "name": "stdout",
     "output_type": "stream",
     "text": [
      "Epoch 1/10\n",
      "59/59 [==============================] - 51s 366ms/step - loss: 0.4103\n",
      "Epoch 2/10\n",
      "59/59 [==============================] - 22s 365ms/step - loss: 0.3219\n",
      "Epoch 3/10\n",
      "59/59 [==============================] - 22s 368ms/step - loss: 0.2786\n",
      "Epoch 4/10\n",
      "59/59 [==============================] - 21s 349ms/step - loss: 0.2417\n",
      "Epoch 5/10\n",
      "59/59 [==============================] - 20s 336ms/step - loss: 0.2454\n",
      "Epoch 6/10\n",
      "59/59 [==============================] - 20s 338ms/step - loss: 0.2645\n",
      "Epoch 7/10\n",
      "59/59 [==============================] - 20s 338ms/step - loss: 0.2173\n",
      "Epoch 8/10\n",
      "59/59 [==============================] - 20s 337ms/step - loss: 0.1785\n",
      "Epoch 9/10\n",
      "59/59 [==============================] - 20s 336ms/step - loss: 0.1723\n",
      "Epoch 10/10\n",
      "59/59 [==============================] - 21s 354ms/step - loss: 0.1754\n"
     ]
    },
    {
     "name": "stderr",
     "output_type": "stream",
     "text": [
      " Fold 2 F1: 0.5043879863271499:  40%|████      | 2/5 [09:43<14:38, 293.00s/it] "
     ]
    },
    {
     "name": "stdout",
     "output_type": "stream",
     "text": [
      "WARNING:tensorflow:`input_shape` is undefined or non-square, or `rows` is not in [96, 128, 160, 192, 224]. Weights for input shape (224, 224) will be loaded as the default.\n"
     ]
    },
    {
     "name": "stderr",
     "output_type": "stream",
     "text": [
      "C:\\Users\\jjung\\anaconda3\\envs\\tf-sklearn-keras\\lib\\site-packages\\keras\\engine\\training.py:1972: UserWarning: `Model.fit_generator` is deprecated and will be removed in a future version. Please use `Model.fit`, which supports generators.\n",
      "  warnings.warn('`Model.fit_generator` is deprecated and '\n"
     ]
    },
    {
     "name": "stdout",
     "output_type": "stream",
     "text": [
      "Epoch 1/10\n",
      "65/65 [==============================] - 53s 368ms/step - loss: 0.3831\n",
      "Epoch 2/10\n",
      "65/65 [==============================] - 24s 366ms/step - loss: 0.3186\n",
      "Epoch 3/10\n",
      "65/65 [==============================] - 22s 339ms/step - loss: 0.3082\n",
      "Epoch 4/10\n",
      "65/65 [==============================] - 23s 351ms/step - loss: 0.2349\n",
      "Epoch 5/10\n",
      "65/65 [==============================] - 24s 371ms/step - loss: 0.2280\n",
      "Epoch 6/10\n",
      "65/65 [==============================] - 22s 342ms/step - loss: 0.2118\n",
      "Epoch 7/10\n",
      "65/65 [==============================] - 24s 362ms/step - loss: 0.2072\n",
      "Epoch 8/10\n",
      "65/65 [==============================] - 24s 373ms/step - loss: 0.2493\n",
      "Epoch 9/10\n",
      "65/65 [==============================] - 25s 376ms/step - loss: 0.1780\n",
      "Epoch 10/10\n",
      "65/65 [==============================] - 25s 376ms/step - loss: 0.1738\n"
     ]
    },
    {
     "name": "stderr",
     "output_type": "stream",
     "text": [
      " Fold 3 F1: 0.5454773979877202:  60%|██████    | 3/5 [14:53<10:02, 301.01s/it]"
     ]
    },
    {
     "name": "stdout",
     "output_type": "stream",
     "text": [
      "WARNING:tensorflow:`input_shape` is undefined or non-square, or `rows` is not in [96, 128, 160, 192, 224]. Weights for input shape (224, 224) will be loaded as the default.\n"
     ]
    },
    {
     "name": "stderr",
     "output_type": "stream",
     "text": [
      "C:\\Users\\jjung\\anaconda3\\envs\\tf-sklearn-keras\\lib\\site-packages\\keras\\engine\\training.py:1972: UserWarning: `Model.fit_generator` is deprecated and will be removed in a future version. Please use `Model.fit`, which supports generators.\n",
      "  warnings.warn('`Model.fit_generator` is deprecated and '\n"
     ]
    },
    {
     "name": "stdout",
     "output_type": "stream",
     "text": [
      "Epoch 1/10\n",
      "66/66 [==============================] - 47s 327ms/step - loss: 0.4630\n",
      "Epoch 2/10\n",
      "66/66 [==============================] - 22s 327ms/step - loss: 0.2888\n",
      "Epoch 3/10\n",
      "66/66 [==============================] - 22s 327ms/step - loss: 0.3051\n",
      "Epoch 4/10\n",
      "66/66 [==============================] - 22s 326ms/step - loss: 0.2762\n",
      "Epoch 5/10\n",
      "66/66 [==============================] - 22s 328ms/step - loss: 0.2452\n",
      "Epoch 6/10\n",
      "66/66 [==============================] - 22s 327ms/step - loss: 0.2195\n",
      "Epoch 7/10\n",
      "66/66 [==============================] - 22s 326ms/step - loss: 0.2147\n",
      "Epoch 8/10\n",
      "66/66 [==============================] - 22s 327ms/step - loss: 0.2540\n",
      "Epoch 9/10\n",
      "66/66 [==============================] - 22s 328ms/step - loss: 0.1965\n",
      "Epoch 10/10\n",
      "66/66 [==============================] - 22s 327ms/step - loss: 0.1732\n"
     ]
    },
    {
     "name": "stderr",
     "output_type": "stream",
     "text": [
      " Fold 4 F1: 0.6525726392251816:  80%|████████  | 4/5 [19:33<04:52, 292.55s/it]"
     ]
    },
    {
     "name": "stdout",
     "output_type": "stream",
     "text": [
      "WARNING:tensorflow:`input_shape` is undefined or non-square, or `rows` is not in [96, 128, 160, 192, 224]. Weights for input shape (224, 224) will be loaded as the default.\n"
     ]
    },
    {
     "name": "stderr",
     "output_type": "stream",
     "text": [
      "C:\\Users\\jjung\\anaconda3\\envs\\tf-sklearn-keras\\lib\\site-packages\\keras\\engine\\training.py:1972: UserWarning: `Model.fit_generator` is deprecated and will be removed in a future version. Please use `Model.fit`, which supports generators.\n",
      "  warnings.warn('`Model.fit_generator` is deprecated and '\n"
     ]
    },
    {
     "name": "stdout",
     "output_type": "stream",
     "text": [
      "Epoch 1/10\n",
      "58/58 [==============================] - 45s 325ms/step - loss: 0.3169\n",
      "Epoch 2/10\n",
      "58/58 [==============================] - 19s 324ms/step - loss: 0.2663\n",
      "Epoch 3/10\n",
      "58/58 [==============================] - 19s 329ms/step - loss: 0.2144\n",
      "Epoch 4/10\n",
      "58/58 [==============================] - 19s 324ms/step - loss: 0.2301\n",
      "Epoch 5/10\n",
      "58/58 [==============================] - 20s 337ms/step - loss: 0.2304\n",
      "Epoch 6/10\n",
      "58/58 [==============================] - 19s 326ms/step - loss: 0.1637\n",
      "Epoch 7/10\n",
      "58/58 [==============================] - 19s 327ms/step - loss: 0.1645\n",
      "Epoch 8/10\n",
      "58/58 [==============================] - 19s 326ms/step - loss: 0.1405\n",
      "Epoch 9/10\n",
      "58/58 [==============================] - 19s 326ms/step - loss: 0.1486\n",
      "Epoch 10/10\n",
      "58/58 [==============================] - 19s 327ms/step - loss: 0.1258\n"
     ]
    },
    {
     "name": "stderr",
     "output_type": "stream",
     "text": [
      " Fold 5 F1: 0.5831730704799175: 100%|██████████| 5/5 [24:02<00:00, 288.48s/it]"
     ]
    },
    {
     "name": "stdout",
     "output_type": "stream",
     "text": [
      "Performance model:\n",
      " accuracy: 0.506 +- 0.149 \n",
      "\n",
      " balanced_accuracy: 0.537 +- 0.057 \n",
      "\n",
      " f1: 0.519 +- 0.115 \n",
      "\n",
      " recall: 0.506 +- 0.149 \n",
      "\n",
      " precision: 0.669 +- 0.144 \n",
      "\n"
     ]
    },
    {
     "name": "stderr",
     "output_type": "stream",
     "text": [
      "\n"
     ]
    }
   ],
   "source": [
    "# variables\n",
    "folds = 5\n",
    "indices = np.arange(N)\n",
    "epochs = 10\n",
    "learning_rate = 1e-3\n",
    "batch_size = 16\n",
    "\n",
    "# load labels\n",
    "y = np.empty(N, dtype=int)\n",
    "for i in range(N):\n",
    "    y[i] = np.load(path + f'/labels{i}.npy', allow_pickle=True)[variable] # TODO: multiclass\n",
    "\n",
    "# CV\n",
    "cv = StratifiedGroupKFold(n_splits=folds)\n",
    "scores_cv = []\n",
    "\n",
    "print(f'Starting cross-validation for physical fatigue')\n",
    "with tqdm(total=folds) as pbar:\n",
    "    for i, (train_indices, test_indices) in enumerate(cv.split(indices, y, groups=subjects)):\n",
    "        # training set\n",
    "        train_dataloader = DataGenerator(path, train_indices, batch_size=batch_size)\n",
    "\n",
    "        # weights for loss function\n",
    "        sample_weights = get_weighting_factor(path, train_indices)\n",
    "\n",
    "        # model\n",
    "        model = CNN()\n",
    "        model.compile(optimizer=Adam(learning_rate=learning_rate),\n",
    "                      loss=weighted_cross_entropy(sample_weights))\n",
    "\n",
    "        # training\n",
    "        history = model.fit_generator(generator=train_dataloader,\n",
    "                                      epochs=epochs)\n",
    "\n",
    "        # evaluate\n",
    "        scores = test_set_evaluator(model, path, test_indices, verbose=False)\n",
    "        scores_cv.append(scores)\n",
    "\n",
    "        # for progress bar\n",
    "        pbar.update(1)\n",
    "        pbar.set_description(f' Fold {i+1} F1: {scores[\"f1\"]}')\n",
    "\n",
    "# final evaluation\n",
    "print('Performance model:')\n",
    "metrics = scores_cv[0].keys()\n",
    "for metric in metrics:\n",
    "    if metric == 'confusion': # ignore confusion_matrix\n",
    "        continue\n",
    "\n",
    "    mean = np.mean([scores_cv_i[metric] for scores_cv_i in scores_cv])\n",
    "    std = np.std([scores_cv_i[metric] for scores_cv_i in scores_cv])\n",
    "    print(f' {metric}: {round(mean, 3)} +- {round(std, 3)} \\n')"
   ],
   "metadata": {
    "collapsed": false
   }
  },
  {
   "cell_type": "code",
   "execution_count": 28,
   "outputs": [
    {
     "name": "stdout",
     "output_type": "stream",
     "text": [
      "Starting cross-validation for physical fatigue\n"
     ]
    },
    {
     "name": "stderr",
     "output_type": "stream",
     "text": [
      "  0%|          | 0/5 [00:00<?, ?it/s]"
     ]
    },
    {
     "name": "stdout",
     "output_type": "stream",
     "text": [
      "0.32697547683923706\n",
      "WARNING:tensorflow:`input_shape` is undefined or non-square, or `rows` is not in [96, 128, 160, 192, 224]. Weights for input shape (224, 224) will be loaded as the default.\n"
     ]
    },
    {
     "name": "stderr",
     "output_type": "stream",
     "text": [
      "C:\\Users\\jjung\\anaconda3\\envs\\tf-sklearn-keras\\lib\\site-packages\\keras\\engine\\training.py:1972: UserWarning: `Model.fit_generator` is deprecated and will be removed in a future version. Please use `Model.fit`, which supports generators.\n",
      "  warnings.warn('`Model.fit_generator` is deprecated and '\n"
     ]
    },
    {
     "name": "stdout",
     "output_type": "stream",
     "text": [
      "60/60 [==============================] - 48s 341ms/step - loss: 0.4109\n"
     ]
    },
    {
     "name": "stderr",
     "output_type": "stream",
     "text": [
      " Fold 1 F1: 0.6858918482647296:  20%|██        | 1/5 [01:34<06:18, 94.52s/it]"
     ]
    },
    {
     "name": "stdout",
     "output_type": "stream",
     "text": [
      "0.32878581173260574\n",
      "WARNING:tensorflow:`input_shape` is undefined or non-square, or `rows` is not in [96, 128, 160, 192, 224]. Weights for input shape (224, 224) will be loaded as the default.\n"
     ]
    },
    {
     "name": "stderr",
     "output_type": "stream",
     "text": [
      "C:\\Users\\jjung\\anaconda3\\envs\\tf-sklearn-keras\\lib\\site-packages\\keras\\engine\\training.py:1972: UserWarning: `Model.fit_generator` is deprecated and will be removed in a future version. Please use `Model.fit`, which supports generators.\n",
      "  warnings.warn('`Model.fit_generator` is deprecated and '\n"
     ]
    },
    {
     "name": "stdout",
     "output_type": "stream",
     "text": [
      "60/60 [==============================] - 48s 351ms/step - loss: 0.4208\n"
     ]
    },
    {
     "name": "stderr",
     "output_type": "stream",
     "text": [
      " Fold 2 F1: 0.6443469560532594:  40%|████      | 2/5 [03:11<04:47, 95.82s/it]"
     ]
    },
    {
     "name": "stdout",
     "output_type": "stream",
     "text": [
      "0.32878581173260574\n",
      "WARNING:tensorflow:`input_shape` is undefined or non-square, or `rows` is not in [96, 128, 160, 192, 224]. Weights for input shape (224, 224) will be loaded as the default.\n"
     ]
    },
    {
     "name": "stderr",
     "output_type": "stream",
     "text": [
      "C:\\Users\\jjung\\anaconda3\\envs\\tf-sklearn-keras\\lib\\site-packages\\keras\\engine\\training.py:1972: UserWarning: `Model.fit_generator` is deprecated and will be removed in a future version. Please use `Model.fit`, which supports generators.\n",
      "  warnings.warn('`Model.fit_generator` is deprecated and '\n"
     ]
    },
    {
     "name": "stdout",
     "output_type": "stream",
     "text": [
      "60/60 [==============================] - 46s 344ms/step - loss: 0.4645\n"
     ]
    },
    {
     "name": "stderr",
     "output_type": "stream",
     "text": [
      " Fold 3 F1: 0.6807140365738203:  60%|██████    | 3/5 [04:46<03:11, 95.59s/it]"
     ]
    },
    {
     "name": "stdout",
     "output_type": "stream",
     "text": [
      "0.32833787465940056\n",
      "WARNING:tensorflow:`input_shape` is undefined or non-square, or `rows` is not in [96, 128, 160, 192, 224]. Weights for input shape (224, 224) will be loaded as the default.\n"
     ]
    },
    {
     "name": "stderr",
     "output_type": "stream",
     "text": [
      "C:\\Users\\jjung\\anaconda3\\envs\\tf-sklearn-keras\\lib\\site-packages\\keras\\engine\\training.py:1972: UserWarning: `Model.fit_generator` is deprecated and will be removed in a future version. Please use `Model.fit`, which supports generators.\n",
      "  warnings.warn('`Model.fit_generator` is deprecated and '\n"
     ]
    },
    {
     "name": "stdout",
     "output_type": "stream",
     "text": [
      "60/60 [==============================] - 46s 341ms/step - loss: 0.4363\n"
     ]
    },
    {
     "name": "stderr",
     "output_type": "stream",
     "text": [
      " Fold 4 F1: 0.6930880416439795:  80%|████████  | 4/5 [06:21<01:35, 95.36s/it]"
     ]
    },
    {
     "name": "stdout",
     "output_type": "stream",
     "text": [
      "0.32833787465940056\n",
      "WARNING:tensorflow:`input_shape` is undefined or non-square, or `rows` is not in [96, 128, 160, 192, 224]. Weights for input shape (224, 224) will be loaded as the default.\n"
     ]
    },
    {
     "name": "stderr",
     "output_type": "stream",
     "text": [
      "C:\\Users\\jjung\\anaconda3\\envs\\tf-sklearn-keras\\lib\\site-packages\\keras\\engine\\training.py:1972: UserWarning: `Model.fit_generator` is deprecated and will be removed in a future version. Please use `Model.fit`, which supports generators.\n",
      "  warnings.warn('`Model.fit_generator` is deprecated and '\n"
     ]
    },
    {
     "name": "stdout",
     "output_type": "stream",
     "text": [
      "60/60 [==============================] - 48s 352ms/step - loss: 0.4183\n"
     ]
    },
    {
     "name": "stderr",
     "output_type": "stream",
     "text": [
      " Fold 5 F1: 0.6566358322321035: 100%|██████████| 5/5 [07:55<00:00, 95.12s/it]"
     ]
    },
    {
     "name": "stdout",
     "output_type": "stream",
     "text": [
      "Performance model:\n",
      " accuracy: 0.741 +- 0.027 \n",
      "\n",
      " balanced_accuracy: 0.528 +- 0.023 \n",
      "\n",
      " f1: 0.672 +- 0.019 \n",
      "\n",
      " recall: 0.741 +- 0.027 \n",
      "\n",
      " precision: 0.7 +- 0.082 \n",
      "\n"
     ]
    },
    {
     "name": "stderr",
     "output_type": "stream",
     "text": [
      "\n"
     ]
    }
   ],
   "source": [
    "# 5fold CV\n",
    "from sklearn.model_selection import StratifiedKFold, LeaveOneGroupOut, StratifiedGroupKFold\n",
    "SEED = 42\n",
    "\n",
    "# variables\n",
    "folds = 5\n",
    "indices = np.arange(N)\n",
    "epochs = 1\n",
    "learning_rate = 1e-3\n",
    "batch_size = 16\n",
    "\n",
    "# load labels\n",
    "y = np.empty(N, dtype=int)\n",
    "for i in range(N):\n",
    "    y[i] = np.load(path + f'/labels{i}.npy', allow_pickle=True)[variable] # TODO: multiclass\n",
    "\n",
    "# CV\n",
    "cv = StratifiedKFold(n_splits=folds, shuffle=True, random_state=SEED)\n",
    "scores_cv = []\n",
    "\n",
    "print(f'Starting cross-validation for physical fatigue')\n",
    "with tqdm(total=folds) as pbar:\n",
    "    for i, (train_indices, test_indices) in enumerate(cv.split(indices, y, groups=subjects)):\n",
    "        # training set\n",
    "        train_dataloader = DataGenerator(path, train_indices, batch_size=batch_size)\n",
    "\n",
    "        # weights for loss function\n",
    "        sample_weights = get_weighting_factor(path, train_indices)\n",
    "        print(sample_weights)\n",
    "\n",
    "        # model\n",
    "        model = CNN()\n",
    "        model.compile(optimizer=Adam(learning_rate=learning_rate),\n",
    "                      loss=weighted_cross_entropy(sample_weights))\n",
    "\n",
    "        # training\n",
    "        history = model.fit_generator(generator=train_dataloader,\n",
    "                                      epochs=epochs)\n",
    "\n",
    "        # evaluate\n",
    "        scores = test_set_evaluator(model, path, test_indices, verbose=False)\n",
    "        scores_cv.append(scores)\n",
    "\n",
    "        # for progress bar\n",
    "        pbar.update(1)\n",
    "        pbar.set_description(f' Fold {i+1} F1: {scores[\"f1\"]}')\n",
    "\n",
    "# final evaluation\n",
    "print('Performance model:')\n",
    "metrics = scores_cv[0].keys()\n",
    "for metric in metrics:\n",
    "    if metric == 'confusion': # ignore confusion_matrix\n",
    "        continue\n",
    "\n",
    "    mean = np.mean([scores_cv_i[metric] for scores_cv_i in scores_cv])\n",
    "    std = np.std([scores_cv_i[metric] for scores_cv_i in scores_cv])\n",
    "    print(f' {metric}: {round(mean, 3)} +- {round(std, 3)} \\n')"
   ],
   "metadata": {
    "collapsed": false
   }
  },
  {
   "cell_type": "code",
   "execution_count": 18,
   "outputs": [],
   "source": [
    "from sklearn.model_selection import StratifiedKFold, LeaveOneGroupOut, StratifiedGroupKFold"
   ],
   "metadata": {
    "collapsed": false
   }
  },
  {
   "cell_type": "code",
   "execution_count": 30,
   "outputs": [
    {
     "name": "stdout",
     "output_type": "stream",
     "text": [
      "Starting cross-validation for physical fatigue\n"
     ]
    },
    {
     "name": "stderr",
     "output_type": "stream",
     "text": [
      "  0%|          | 0/5 [00:00<?, ?it/s]"
     ]
    },
    {
     "name": "stdout",
     "output_type": "stream",
     "text": [
      "0.32697547683923706\n",
      "WARNING:tensorflow:`input_shape` is undefined or non-square, or `rows` is not in [96, 128, 160, 192, 224]. Weights for input shape (224, 224) will be loaded as the default.\n"
     ]
    },
    {
     "name": "stderr",
     "output_type": "stream",
     "text": [
      "C:\\Users\\jjung\\anaconda3\\envs\\tf-sklearn-keras\\lib\\site-packages\\keras\\engine\\training.py:1972: UserWarning: `Model.fit_generator` is deprecated and will be removed in a future version. Please use `Model.fit`, which supports generators.\n",
      "  warnings.warn('`Model.fit_generator` is deprecated and '\n"
     ]
    },
    {
     "name": "stdout",
     "output_type": "stream",
     "text": [
      "Epoch 1/10\n",
      "60/60 [==============================] - 50s 348ms/step - loss: 0.4225\n",
      "Epoch 2/10\n",
      "60/60 [==============================] - 21s 347ms/step - loss: 0.3246\n",
      "Epoch 3/10\n",
      "60/60 [==============================] - 21s 344ms/step - loss: 0.2976\n",
      "Epoch 4/10\n",
      "60/60 [==============================] - 21s 345ms/step - loss: 0.2703\n",
      "Epoch 5/10\n",
      "60/60 [==============================] - 21s 347ms/step - loss: 0.2734\n",
      "Epoch 6/10\n",
      "60/60 [==============================] - 21s 350ms/step - loss: 0.2184\n",
      "Epoch 7/10\n",
      "60/60 [==============================] - 21s 350ms/step - loss: 0.2221\n",
      "Epoch 8/10\n",
      "60/60 [==============================] - 21s 347ms/step - loss: 0.2537\n",
      "Epoch 9/10\n",
      "60/60 [==============================] - 21s 350ms/step - loss: 0.2046\n",
      "Epoch 10/10\n",
      "60/60 [==============================] - 21s 349ms/step - loss: 0.1724\n"
     ]
    },
    {
     "name": "stderr",
     "output_type": "stream",
     "text": [
      " Fold 1 F1: 0.8045591724837009:  20%|██        | 1/5 [04:53<19:33, 293.43s/it]"
     ]
    },
    {
     "name": "stdout",
     "output_type": "stream",
     "text": [
      "0.32878581173260574\n",
      "WARNING:tensorflow:`input_shape` is undefined or non-square, or `rows` is not in [96, 128, 160, 192, 224]. Weights for input shape (224, 224) will be loaded as the default.\n"
     ]
    },
    {
     "name": "stderr",
     "output_type": "stream",
     "text": [
      "C:\\Users\\jjung\\anaconda3\\envs\\tf-sklearn-keras\\lib\\site-packages\\keras\\engine\\training.py:1972: UserWarning: `Model.fit_generator` is deprecated and will be removed in a future version. Please use `Model.fit`, which supports generators.\n",
      "  warnings.warn('`Model.fit_generator` is deprecated and '\n"
     ]
    },
    {
     "name": "stdout",
     "output_type": "stream",
     "text": [
      "Epoch 1/10\n",
      "60/60 [==============================] - 47s 346ms/step - loss: 0.4486\n",
      "Epoch 2/10\n",
      "60/60 [==============================] - 21s 346ms/step - loss: 0.3209\n",
      "Epoch 3/10\n",
      "60/60 [==============================] - 21s 344ms/step - loss: 0.2992\n",
      "Epoch 4/10\n",
      "60/60 [==============================] - 21s 343ms/step - loss: 0.2658\n",
      "Epoch 5/10\n",
      "60/60 [==============================] - 21s 344ms/step - loss: 0.2527\n",
      "Epoch 6/10\n",
      "60/60 [==============================] - 21s 348ms/step - loss: 0.2463\n",
      "Epoch 7/10\n",
      "60/60 [==============================] - 21s 346ms/step - loss: 0.2653\n",
      "Epoch 8/10\n",
      "60/60 [==============================] - 21s 346ms/step - loss: 0.2206\n",
      "Epoch 9/10\n",
      "60/60 [==============================] - 21s 346ms/step - loss: 0.1922\n",
      "Epoch 10/10\n",
      "60/60 [==============================] - 21s 345ms/step - loss: 0.1951\n"
     ]
    },
    {
     "name": "stderr",
     "output_type": "stream",
     "text": [
      " Fold 2 F1: 0.1703582025519466:  40%|████      | 2/5 [09:43<14:34, 291.41s/it]"
     ]
    },
    {
     "name": "stdout",
     "output_type": "stream",
     "text": [
      "0.32878581173260574\n",
      "WARNING:tensorflow:`input_shape` is undefined or non-square, or `rows` is not in [96, 128, 160, 192, 224]. Weights for input shape (224, 224) will be loaded as the default.\n"
     ]
    },
    {
     "name": "stderr",
     "output_type": "stream",
     "text": [
      "C:\\Users\\jjung\\anaconda3\\envs\\tf-sklearn-keras\\lib\\site-packages\\keras\\engine\\training.py:1972: UserWarning: `Model.fit_generator` is deprecated and will be removed in a future version. Please use `Model.fit`, which supports generators.\n",
      "  warnings.warn('`Model.fit_generator` is deprecated and '\n"
     ]
    },
    {
     "name": "stdout",
     "output_type": "stream",
     "text": [
      "Epoch 1/10\n",
      "60/60 [==============================] - 51s 357ms/step - loss: 0.5568\n",
      "Epoch 2/10\n",
      "60/60 [==============================] - 21s 353ms/step - loss: 0.3444\n",
      "Epoch 3/10\n",
      "60/60 [==============================] - 21s 351ms/step - loss: 0.3149\n",
      "Epoch 4/10\n",
      "60/60 [==============================] - 21s 349ms/step - loss: 0.2839\n",
      "Epoch 5/10\n",
      "60/60 [==============================] - 21s 350ms/step - loss: 0.2542\n",
      "Epoch 6/10\n",
      "60/60 [==============================] - 21s 353ms/step - loss: 0.2520\n",
      "Epoch 7/10\n",
      "60/60 [==============================] - 21s 350ms/step - loss: 0.2307\n",
      "Epoch 8/10\n",
      "60/60 [==============================] - 21s 351ms/step - loss: 0.2046\n",
      "Epoch 9/10\n",
      "60/60 [==============================] - 21s 352ms/step - loss: 0.1891\n",
      "Epoch 10/10\n",
      "60/60 [==============================] - 21s 354ms/step - loss: 0.2089\n"
     ]
    },
    {
     "name": "stderr",
     "output_type": "stream",
     "text": [
      " Fold 3 F1: 0.7627015595721667:  60%|██████    | 3/5 [14:38<09:46, 293.30s/it]"
     ]
    },
    {
     "name": "stdout",
     "output_type": "stream",
     "text": [
      "0.32833787465940056\n",
      "WARNING:tensorflow:`input_shape` is undefined or non-square, or `rows` is not in [96, 128, 160, 192, 224]. Weights for input shape (224, 224) will be loaded as the default.\n"
     ]
    },
    {
     "name": "stderr",
     "output_type": "stream",
     "text": [
      "C:\\Users\\jjung\\anaconda3\\envs\\tf-sklearn-keras\\lib\\site-packages\\keras\\engine\\training.py:1972: UserWarning: `Model.fit_generator` is deprecated and will be removed in a future version. Please use `Model.fit`, which supports generators.\n",
      "  warnings.warn('`Model.fit_generator` is deprecated and '\n"
     ]
    },
    {
     "name": "stdout",
     "output_type": "stream",
     "text": [
      "Epoch 1/10\n",
      "60/60 [==============================] - 50s 355ms/step - loss: 0.4141\n",
      "Epoch 2/10\n",
      "60/60 [==============================] - 21s 350ms/step - loss: 0.3324\n",
      "Epoch 3/10\n",
      "60/60 [==============================] - 21s 349ms/step - loss: 0.3207\n",
      "Epoch 4/10\n",
      "60/60 [==============================] - 21s 351ms/step - loss: 0.2793\n",
      "Epoch 5/10\n",
      "60/60 [==============================] - 21s 354ms/step - loss: 0.2509\n",
      "Epoch 6/10\n",
      "60/60 [==============================] - 21s 354ms/step - loss: 0.2709\n",
      "Epoch 7/10\n",
      "60/60 [==============================] - 21s 352ms/step - loss: 0.2687\n",
      "Epoch 8/10\n",
      "60/60 [==============================] - 21s 355ms/step - loss: 0.1959\n",
      "Epoch 9/10\n",
      "60/60 [==============================] - 21s 353ms/step - loss: 0.2091\n",
      "Epoch 10/10\n",
      "60/60 [==============================] - 21s 353ms/step - loss: 0.1739\n"
     ]
    },
    {
     "name": "stderr",
     "output_type": "stream",
     "text": [
      " Fold 4 F1: 0.7857774355116783:  80%|████████  | 4/5 [19:38<04:55, 295.64s/it]"
     ]
    },
    {
     "name": "stdout",
     "output_type": "stream",
     "text": [
      "0.32833787465940056\n",
      "WARNING:tensorflow:`input_shape` is undefined or non-square, or `rows` is not in [96, 128, 160, 192, 224]. Weights for input shape (224, 224) will be loaded as the default.\n"
     ]
    },
    {
     "name": "stderr",
     "output_type": "stream",
     "text": [
      "C:\\Users\\jjung\\anaconda3\\envs\\tf-sklearn-keras\\lib\\site-packages\\keras\\engine\\training.py:1972: UserWarning: `Model.fit_generator` is deprecated and will be removed in a future version. Please use `Model.fit`, which supports generators.\n",
      "  warnings.warn('`Model.fit_generator` is deprecated and '\n"
     ]
    },
    {
     "name": "stdout",
     "output_type": "stream",
     "text": [
      "Epoch 1/10\n",
      "60/60 [==============================] - 49s 362ms/step - loss: 0.4804\n",
      "Epoch 2/10\n",
      "60/60 [==============================] - 22s 365ms/step - loss: 0.3138\n",
      "Epoch 3/10\n",
      "60/60 [==============================] - 22s 370ms/step - loss: 0.2866\n",
      "Epoch 4/10\n",
      "60/60 [==============================] - 22s 364ms/step - loss: 0.2728\n",
      "Epoch 5/10\n",
      "60/60 [==============================] - 22s 361ms/step - loss: 0.2379\n",
      "Epoch 6/10\n",
      "60/60 [==============================] - 22s 358ms/step - loss: 0.2508\n",
      "Epoch 7/10\n",
      "60/60 [==============================] - 22s 365ms/step - loss: 0.2354\n",
      "Epoch 8/10\n",
      "60/60 [==============================] - 22s 372ms/step - loss: 0.2096\n",
      "Epoch 9/10\n",
      "60/60 [==============================] - 22s 372ms/step - loss: 0.2239\n",
      "Epoch 10/10\n",
      "60/60 [==============================] - 22s 372ms/step - loss: 0.1991\n"
     ]
    },
    {
     "name": "stderr",
     "output_type": "stream",
     "text": [
      " Fold 5 F1: 0.7603761841250299: 100%|██████████| 5/5 [24:38<00:00, 295.68s/it]"
     ]
    },
    {
     "name": "stdout",
     "output_type": "stream",
     "text": [
      "Performance model:\n",
      " accuracy: 0.684 +- 0.201 \n",
      "\n",
      " balanced_accuracy: 0.66 +- 0.076 \n",
      "\n",
      " f1: 0.657 +- 0.244 \n",
      "\n",
      " recall: 0.684 +- 0.201 \n",
      "\n",
      " precision: 0.789 +- 0.019 \n",
      "\n"
     ]
    },
    {
     "name": "stderr",
     "output_type": "stream",
     "text": [
      "\n"
     ]
    }
   ],
   "source": [
    "# 5fold CV\n",
    "SEED = 42\n",
    "\n",
    "# variables\n",
    "folds = 5\n",
    "indices = np.arange(N)\n",
    "epochs = 10\n",
    "learning_rate = 1e-3\n",
    "batch_size = 16\n",
    "\n",
    "# load labels\n",
    "y = np.empty(N, dtype=int)\n",
    "for i in range(N):\n",
    "    y[i] = np.load(path + f'/labels{i}.npy', allow_pickle=True)[variable] # TODO: multiclass\n",
    "\n",
    "# CV\n",
    "cv = StratifiedKFold(n_splits=folds, shuffle=True, random_state=SEED)\n",
    "scores_cv = []\n",
    "\n",
    "print(f'Starting cross-validation for physical fatigue')\n",
    "with tqdm(total=folds) as pbar:\n",
    "    for i, (train_indices, test_indices) in enumerate(cv.split(indices, y, groups=subjects)):\n",
    "        # training set\n",
    "        train_dataloader = DataGenerator(path, train_indices, batch_size=batch_size)\n",
    "\n",
    "        # weights for loss function\n",
    "        sample_weights = get_weighting_factor(path, train_indices)\n",
    "        print(sample_weights)\n",
    "\n",
    "        # model\n",
    "        model = CNN()\n",
    "        model.compile(optimizer=Adam(learning_rate=learning_rate),\n",
    "                      loss=weighted_cross_entropy(sample_weights))\n",
    "\n",
    "        # training\n",
    "        history = model.fit_generator(generator=train_dataloader,\n",
    "                                      epochs=epochs)\n",
    "\n",
    "        # evaluate\n",
    "        scores = test_set_evaluator(model, path, test_indices, verbose=False)\n",
    "        scores_cv.append(scores)\n",
    "\n",
    "        # for progress bar\n",
    "        pbar.update(1)\n",
    "        pbar.set_description(f' Fold {i+1} F1: {scores[\"f1\"]}')\n",
    "\n",
    "# final evaluation\n",
    "print('Performance model:')\n",
    "metrics = scores_cv[0].keys()\n",
    "for metric in metrics:\n",
    "    if metric == 'confusion': # ignore confusion_matrix\n",
    "        continue\n",
    "\n",
    "    mean = np.mean([scores_cv_i[metric] for scores_cv_i in scores_cv])\n",
    "    std = np.std([scores_cv_i[metric] for scores_cv_i in scores_cv])\n",
    "    print(f' {metric}: {round(mean, 3)} +- {round(std, 3)} \\n')"
   ],
   "metadata": {
    "collapsed": false
   }
  },
  {
   "cell_type": "code",
   "execution_count": 29,
   "outputs": [
    {
     "name": "stdout",
     "output_type": "stream",
     "text": [
      "Starting cross-validation for physical fatigue\n"
     ]
    },
    {
     "name": "stderr",
     "output_type": "stream",
     "text": [
      "  0%|          | 0/24 [00:00<?, ?it/s]"
     ]
    },
    {
     "name": "stdout",
     "output_type": "stream",
     "text": [
      "WARNING:tensorflow:`input_shape` is undefined or non-square, or `rows` is not in [96, 128, 160, 192, 224]. Weights for input shape (224, 224) will be loaded as the default.\n"
     ]
    },
    {
     "name": "stderr",
     "output_type": "stream",
     "text": [
      "C:\\Users\\jjung\\anaconda3\\envs\\tf-sklearn-keras\\lib\\site-packages\\keras\\engine\\training.py:1972: UserWarning: `Model.fit_generator` is deprecated and will be removed in a future version. Please use `Model.fit`, which supports generators.\n",
      "  warnings.warn('`Model.fit_generator` is deprecated and '\n"
     ]
    },
    {
     "name": "stdout",
     "output_type": "stream",
     "text": [
      "74/74 [==============================] - 52s 340ms/step - loss: 0.3964\n"
     ]
    },
    {
     "name": "stderr",
     "output_type": "stream",
     "text": [
      " Fold 1 F1: 0.38252873563218387:   4%|▍         | 1/24 [01:15<28:58, 75.57s/it]"
     ]
    },
    {
     "name": "stdout",
     "output_type": "stream",
     "text": [
      "WARNING:tensorflow:`input_shape` is undefined or non-square, or `rows` is not in [96, 128, 160, 192, 224]. Weights for input shape (224, 224) will be loaded as the default.\n"
     ]
    },
    {
     "name": "stderr",
     "output_type": "stream",
     "text": [
      "C:\\Users\\jjung\\anaconda3\\envs\\tf-sklearn-keras\\lib\\site-packages\\keras\\engine\\training.py:1972: UserWarning: `Model.fit_generator` is deprecated and will be removed in a future version. Please use `Model.fit`, which supports generators.\n",
      "  warnings.warn('`Model.fit_generator` is deprecated and '\n"
     ]
    },
    {
     "name": "stdout",
     "output_type": "stream",
     "text": [
      "74/74 [==============================] - 52s 328ms/step - loss: 0.4325\n"
     ]
    },
    {
     "name": "stderr",
     "output_type": "stream",
     "text": [
      " Fold 2 F1: 0.2716577540106952:   8%|▊         | 2/24 [02:30<27:39, 75.42s/it] "
     ]
    },
    {
     "name": "stdout",
     "output_type": "stream",
     "text": [
      "WARNING:tensorflow:`input_shape` is undefined or non-square, or `rows` is not in [96, 128, 160, 192, 224]. Weights for input shape (224, 224) will be loaded as the default.\n"
     ]
    },
    {
     "name": "stderr",
     "output_type": "stream",
     "text": [
      "C:\\Users\\jjung\\anaconda3\\envs\\tf-sklearn-keras\\lib\\site-packages\\keras\\engine\\training.py:1972: UserWarning: `Model.fit_generator` is deprecated and will be removed in a future version. Please use `Model.fit`, which supports generators.\n",
      "  warnings.warn('`Model.fit_generator` is deprecated and '\n"
     ]
    },
    {
     "name": "stdout",
     "output_type": "stream",
     "text": [
      "74/74 [==============================] - 50s 328ms/step - loss: 0.3764\n"
     ]
    },
    {
     "name": "stderr",
     "output_type": "stream",
     "text": [
      " Fold 3 F1: 0.41148325358851673:  12%|█▎        | 3/24 [03:39<25:16, 72.23s/it]"
     ]
    },
    {
     "name": "stdout",
     "output_type": "stream",
     "text": [
      "WARNING:tensorflow:`input_shape` is undefined or non-square, or `rows` is not in [96, 128, 160, 192, 224]. Weights for input shape (224, 224) will be loaded as the default.\n"
     ]
    },
    {
     "name": "stderr",
     "output_type": "stream",
     "text": [
      "C:\\Users\\jjung\\anaconda3\\envs\\tf-sklearn-keras\\lib\\site-packages\\keras\\engine\\training.py:1972: UserWarning: `Model.fit_generator` is deprecated and will be removed in a future version. Please use `Model.fit`, which supports generators.\n",
      "  warnings.warn('`Model.fit_generator` is deprecated and '\n"
     ]
    },
    {
     "name": "stdout",
     "output_type": "stream",
     "text": [
      "75/75 [==============================] - 53s 322ms/step - loss: 0.4161\n"
     ]
    },
    {
     "name": "stderr",
     "output_type": "stream",
     "text": [
      " Fold 4 F1: 1.0:  17%|█▋        | 4/24 [04:50<23:54, 71.74s/it]                "
     ]
    },
    {
     "name": "stdout",
     "output_type": "stream",
     "text": [
      "WARNING:tensorflow:`input_shape` is undefined or non-square, or `rows` is not in [96, 128, 160, 192, 224]. Weights for input shape (224, 224) will be loaded as the default.\n"
     ]
    },
    {
     "name": "stderr",
     "output_type": "stream",
     "text": [
      "C:\\Users\\jjung\\anaconda3\\envs\\tf-sklearn-keras\\lib\\site-packages\\keras\\engine\\training.py:1972: UserWarning: `Model.fit_generator` is deprecated and will be removed in a future version. Please use `Model.fit`, which supports generators.\n",
      "  warnings.warn('`Model.fit_generator` is deprecated and '\n"
     ]
    },
    {
     "name": "stdout",
     "output_type": "stream",
     "text": [
      "75/75 [==============================] - 51s 321ms/step - loss: 0.4032\n"
     ]
    },
    {
     "name": "stderr",
     "output_type": "stream",
     "text": [
      "C:\\Users\\jjung\\anaconda3\\envs\\tf-sklearn-keras\\lib\\site-packages\\sklearn\\metrics\\_classification.py:1334: UndefinedMetricWarning: Precision is ill-defined and being set to 0.0 in labels with no predicted samples. Use `zero_division` parameter to control this behavior.\n",
      "  _warn_prf(average, modifier, msg_start, len(result))\n",
      " Fold 5 F1: 0.4499999999999999:  21%|██        | 5/24 [05:57<22:13, 70.17s/it]"
     ]
    },
    {
     "name": "stdout",
     "output_type": "stream",
     "text": [
      "WARNING:tensorflow:`input_shape` is undefined or non-square, or `rows` is not in [96, 128, 160, 192, 224]. Weights for input shape (224, 224) will be loaded as the default.\n"
     ]
    },
    {
     "name": "stderr",
     "output_type": "stream",
     "text": [
      "C:\\Users\\jjung\\anaconda3\\envs\\tf-sklearn-keras\\lib\\site-packages\\keras\\engine\\training.py:1972: UserWarning: `Model.fit_generator` is deprecated and will be removed in a future version. Please use `Model.fit`, which supports generators.\n",
      "  warnings.warn('`Model.fit_generator` is deprecated and '\n"
     ]
    },
    {
     "name": "stdout",
     "output_type": "stream",
     "text": [
      "74/74 [==============================] - 50s 323ms/step - loss: 0.4658\n"
     ]
    },
    {
     "name": "stderr",
     "output_type": "stream",
     "text": [
      " Fold 6 F1: 0.4200000000000001:  25%|██▌       | 6/24 [07:10<21:18, 71.04s/it]"
     ]
    },
    {
     "name": "stdout",
     "output_type": "stream",
     "text": [
      "WARNING:tensorflow:`input_shape` is undefined or non-square, or `rows` is not in [96, 128, 160, 192, 224]. Weights for input shape (224, 224) will be loaded as the default.\n"
     ]
    },
    {
     "name": "stderr",
     "output_type": "stream",
     "text": [
      "C:\\Users\\jjung\\anaconda3\\envs\\tf-sklearn-keras\\lib\\site-packages\\keras\\engine\\training.py:1972: UserWarning: `Model.fit_generator` is deprecated and will be removed in a future version. Please use `Model.fit`, which supports generators.\n",
      "  warnings.warn('`Model.fit_generator` is deprecated and '\n"
     ]
    },
    {
     "name": "stdout",
     "output_type": "stream",
     "text": [
      "74/74 [==============================] - 51s 322ms/step - loss: 0.4068\n"
     ]
    },
    {
     "name": "stderr",
     "output_type": "stream",
     "text": [
      "C:\\Users\\jjung\\anaconda3\\envs\\tf-sklearn-keras\\lib\\site-packages\\sklearn\\metrics\\_classification.py:1334: UndefinedMetricWarning: Precision is ill-defined and being set to 0.0 in labels with no predicted samples. Use `zero_division` parameter to control this behavior.\n",
      "  _warn_prf(average, modifier, msg_start, len(result))\n",
      " Fold 7 F1: 0.3113513513513514:  29%|██▉       | 7/24 [08:23<20:21, 71.85s/it]"
     ]
    },
    {
     "name": "stdout",
     "output_type": "stream",
     "text": [
      "WARNING:tensorflow:`input_shape` is undefined or non-square, or `rows` is not in [96, 128, 160, 192, 224]. Weights for input shape (224, 224) will be loaded as the default.\n"
     ]
    },
    {
     "name": "stderr",
     "output_type": "stream",
     "text": [
      "C:\\Users\\jjung\\anaconda3\\envs\\tf-sklearn-keras\\lib\\site-packages\\keras\\engine\\training.py:1972: UserWarning: `Model.fit_generator` is deprecated and will be removed in a future version. Please use `Model.fit`, which supports generators.\n",
      "  warnings.warn('`Model.fit_generator` is deprecated and '\n"
     ]
    },
    {
     "name": "stdout",
     "output_type": "stream",
     "text": [
      "74/74 [==============================] - 50s 321ms/step - loss: 0.3899\n"
     ]
    },
    {
     "name": "stderr",
     "output_type": "stream",
     "text": [
      " Fold 8 F1: 0.5952380952380953:  33%|███▎      | 8/24 [09:32<18:51, 70.71s/it]"
     ]
    },
    {
     "name": "stdout",
     "output_type": "stream",
     "text": [
      "WARNING:tensorflow:`input_shape` is undefined or non-square, or `rows` is not in [96, 128, 160, 192, 224]. Weights for input shape (224, 224) will be loaded as the default.\n"
     ]
    },
    {
     "name": "stderr",
     "output_type": "stream",
     "text": [
      "C:\\Users\\jjung\\anaconda3\\envs\\tf-sklearn-keras\\lib\\site-packages\\keras\\engine\\training.py:1972: UserWarning: `Model.fit_generator` is deprecated and will be removed in a future version. Please use `Model.fit`, which supports generators.\n",
      "  warnings.warn('`Model.fit_generator` is deprecated and '\n"
     ]
    },
    {
     "name": "stdout",
     "output_type": "stream",
     "text": [
      "74/74 [==============================] - 53s 320ms/step - loss: 0.4149\n"
     ]
    },
    {
     "name": "stderr",
     "output_type": "stream",
     "text": [
      " Fold 9 F1: 0.7337662337662338:  38%|███▊      | 9/24 [10:44<17:48, 71.24s/it]"
     ]
    },
    {
     "name": "stdout",
     "output_type": "stream",
     "text": [
      "WARNING:tensorflow:`input_shape` is undefined or non-square, or `rows` is not in [96, 128, 160, 192, 224]. Weights for input shape (224, 224) will be loaded as the default.\n"
     ]
    },
    {
     "name": "stderr",
     "output_type": "stream",
     "text": [
      "C:\\Users\\jjung\\anaconda3\\envs\\tf-sklearn-keras\\lib\\site-packages\\keras\\engine\\training.py:1972: UserWarning: `Model.fit_generator` is deprecated and will be removed in a future version. Please use `Model.fit`, which supports generators.\n",
      "  warnings.warn('`Model.fit_generator` is deprecated and '\n"
     ]
    },
    {
     "name": "stdout",
     "output_type": "stream",
     "text": [
      "74/74 [==============================] - 52s 325ms/step - loss: 0.4022\n"
     ]
    },
    {
     "name": "stderr",
     "output_type": "stream",
     "text": [
      "C:\\Users\\jjung\\anaconda3\\envs\\tf-sklearn-keras\\lib\\site-packages\\sklearn\\metrics\\_classification.py:1334: UndefinedMetricWarning: Precision is ill-defined and being set to 0.0 in labels with no predicted samples. Use `zero_division` parameter to control this behavior.\n",
      "  _warn_prf(average, modifier, msg_start, len(result))\n",
      " Fold 10 F1: 0.030100334448160536:  42%|████▏     | 10/24 [11:58<16:47, 71.95s/it]"
     ]
    },
    {
     "name": "stdout",
     "output_type": "stream",
     "text": [
      "WARNING:tensorflow:`input_shape` is undefined or non-square, or `rows` is not in [96, 128, 160, 192, 224]. Weights for input shape (224, 224) will be loaded as the default.\n"
     ]
    },
    {
     "name": "stderr",
     "output_type": "stream",
     "text": [
      "C:\\Users\\jjung\\anaconda3\\envs\\tf-sklearn-keras\\lib\\site-packages\\keras\\engine\\training.py:1972: UserWarning: `Model.fit_generator` is deprecated and will be removed in a future version. Please use `Model.fit`, which supports generators.\n",
      "  warnings.warn('`Model.fit_generator` is deprecated and '\n"
     ]
    },
    {
     "name": "stdout",
     "output_type": "stream",
     "text": [
      "74/74 [==============================] - 51s 331ms/step - loss: 0.3849\n"
     ]
    },
    {
     "name": "stderr",
     "output_type": "stream",
     "text": [
      " Fold 11 F1: 0.21853146853146854:  46%|████▌     | 11/24 [13:08<15:27, 71.37s/it] "
     ]
    },
    {
     "name": "stdout",
     "output_type": "stream",
     "text": [
      "WARNING:tensorflow:`input_shape` is undefined or non-square, or `rows` is not in [96, 128, 160, 192, 224]. Weights for input shape (224, 224) will be loaded as the default.\n"
     ]
    },
    {
     "name": "stderr",
     "output_type": "stream",
     "text": [
      "C:\\Users\\jjung\\anaconda3\\envs\\tf-sklearn-keras\\lib\\site-packages\\keras\\engine\\training.py:1972: UserWarning: `Model.fit_generator` is deprecated and will be removed in a future version. Please use `Model.fit`, which supports generators.\n",
      "  warnings.warn('`Model.fit_generator` is deprecated and '\n"
     ]
    },
    {
     "name": "stdout",
     "output_type": "stream",
     "text": [
      "74/74 [==============================] - 54s 322ms/step - loss: 0.4224\n"
     ]
    },
    {
     "name": "stderr",
     "output_type": "stream",
     "text": [
      "C:\\Users\\jjung\\anaconda3\\envs\\tf-sklearn-keras\\lib\\site-packages\\sklearn\\metrics\\_classification.py:2006: UserWarning: y_pred contains classes not in y_true\n",
      "  warnings.warn(\"y_pred contains classes not in y_true\")\n",
      "C:\\Users\\jjung\\anaconda3\\envs\\tf-sklearn-keras\\lib\\site-packages\\sklearn\\metrics\\_classification.py:1334: UndefinedMetricWarning: Recall is ill-defined and being set to 0.0 in labels with no true samples. Use `zero_division` parameter to control this behavior.\n",
      "  _warn_prf(average, modifier, msg_start, len(result))\n",
      " Fold 12 F1: 0.8421052631578948:  50%|█████     | 12/24 [14:21<14:21, 71.82s/it] "
     ]
    },
    {
     "name": "stdout",
     "output_type": "stream",
     "text": [
      "WARNING:tensorflow:`input_shape` is undefined or non-square, or `rows` is not in [96, 128, 160, 192, 224]. Weights for input shape (224, 224) will be loaded as the default.\n"
     ]
    },
    {
     "name": "stderr",
     "output_type": "stream",
     "text": [
      "C:\\Users\\jjung\\anaconda3\\envs\\tf-sklearn-keras\\lib\\site-packages\\keras\\engine\\training.py:1972: UserWarning: `Model.fit_generator` is deprecated and will be removed in a future version. Please use `Model.fit`, which supports generators.\n",
      "  warnings.warn('`Model.fit_generator` is deprecated and '\n"
     ]
    },
    {
     "name": "stdout",
     "output_type": "stream",
     "text": [
      "75/75 [==============================] - 53s 335ms/step - loss: 0.4227\n"
     ]
    },
    {
     "name": "stderr",
     "output_type": "stream",
     "text": [
      "C:\\Users\\jjung\\anaconda3\\envs\\tf-sklearn-keras\\lib\\site-packages\\sklearn\\metrics\\_classification.py:1334: UndefinedMetricWarning: Precision is ill-defined and being set to 0.0 in labels with no predicted samples. Use `zero_division` parameter to control this behavior.\n",
      "  _warn_prf(average, modifier, msg_start, len(result))\n",
      " Fold 13 F1: 0.015151515151515154:  54%|█████▍    | 13/24 [15:30<13:03, 71.21s/it]"
     ]
    },
    {
     "name": "stdout",
     "output_type": "stream",
     "text": [
      "WARNING:tensorflow:`input_shape` is undefined or non-square, or `rows` is not in [96, 128, 160, 192, 224]. Weights for input shape (224, 224) will be loaded as the default.\n"
     ]
    },
    {
     "name": "stderr",
     "output_type": "stream",
     "text": [
      "C:\\Users\\jjung\\anaconda3\\envs\\tf-sklearn-keras\\lib\\site-packages\\keras\\engine\\training.py:1972: UserWarning: `Model.fit_generator` is deprecated and will be removed in a future version. Please use `Model.fit`, which supports generators.\n",
      "  warnings.warn('`Model.fit_generator` is deprecated and '\n"
     ]
    },
    {
     "name": "stdout",
     "output_type": "stream",
     "text": [
      "74/74 [==============================] - 54s 331ms/step - loss: 0.5404\n"
     ]
    },
    {
     "name": "stderr",
     "output_type": "stream",
     "text": [
      " Fold 14 F1: 0.2715484363081617:  58%|█████▊    | 14/24 [16:43<11:56, 71.65s/it]  "
     ]
    },
    {
     "name": "stdout",
     "output_type": "stream",
     "text": [
      "WARNING:tensorflow:`input_shape` is undefined or non-square, or `rows` is not in [96, 128, 160, 192, 224]. Weights for input shape (224, 224) will be loaded as the default.\n"
     ]
    },
    {
     "name": "stderr",
     "output_type": "stream",
     "text": [
      "C:\\Users\\jjung\\anaconda3\\envs\\tf-sklearn-keras\\lib\\site-packages\\keras\\engine\\training.py:1972: UserWarning: `Model.fit_generator` is deprecated and will be removed in a future version. Please use `Model.fit`, which supports generators.\n",
      "  warnings.warn('`Model.fit_generator` is deprecated and '\n"
     ]
    },
    {
     "name": "stdout",
     "output_type": "stream",
     "text": [
      "74/74 [==============================] - 52s 331ms/step - loss: 0.4705\n"
     ]
    },
    {
     "name": "stderr",
     "output_type": "stream",
     "text": [
      " Fold 15 F1: 0.31029411764705883:  62%|██████▎   | 15/24 [17:55<10:44, 71.63s/it]"
     ]
    },
    {
     "name": "stdout",
     "output_type": "stream",
     "text": [
      "WARNING:tensorflow:`input_shape` is undefined or non-square, or `rows` is not in [96, 128, 160, 192, 224]. Weights for input shape (224, 224) will be loaded as the default.\n"
     ]
    },
    {
     "name": "stderr",
     "output_type": "stream",
     "text": [
      "C:\\Users\\jjung\\anaconda3\\envs\\tf-sklearn-keras\\lib\\site-packages\\keras\\engine\\training.py:1972: UserWarning: `Model.fit_generator` is deprecated and will be removed in a future version. Please use `Model.fit`, which supports generators.\n",
      "  warnings.warn('`Model.fit_generator` is deprecated and '\n"
     ]
    },
    {
     "name": "stdout",
     "output_type": "stream",
     "text": [
      "74/74 [==============================] - 59s 347ms/step - loss: 0.4361\n"
     ]
    },
    {
     "name": "stderr",
     "output_type": "stream",
     "text": [
      " Fold 16 F1: 1.0:  67%|██████▋   | 16/24 [19:15<09:53, 74.21s/it]                "
     ]
    },
    {
     "name": "stdout",
     "output_type": "stream",
     "text": [
      "WARNING:tensorflow:`input_shape` is undefined or non-square, or `rows` is not in [96, 128, 160, 192, 224]. Weights for input shape (224, 224) will be loaded as the default.\n"
     ]
    },
    {
     "name": "stderr",
     "output_type": "stream",
     "text": [
      "C:\\Users\\jjung\\anaconda3\\envs\\tf-sklearn-keras\\lib\\site-packages\\keras\\engine\\training.py:1972: UserWarning: `Model.fit_generator` is deprecated and will be removed in a future version. Please use `Model.fit`, which supports generators.\n",
      "  warnings.warn('`Model.fit_generator` is deprecated and '\n"
     ]
    },
    {
     "name": "stdout",
     "output_type": "stream",
     "text": [
      "75/75 [==============================] - 53s 332ms/step - loss: 0.4541\n"
     ]
    },
    {
     "name": "stderr",
     "output_type": "stream",
     "text": [
      " Fold 17 F1: 1.0:  71%|███████   | 17/24 [20:25<08:31, 73.04s/it]"
     ]
    },
    {
     "name": "stdout",
     "output_type": "stream",
     "text": [
      "WARNING:tensorflow:`input_shape` is undefined or non-square, or `rows` is not in [96, 128, 160, 192, 224]. Weights for input shape (224, 224) will be loaded as the default.\n"
     ]
    },
    {
     "name": "stderr",
     "output_type": "stream",
     "text": [
      "C:\\Users\\jjung\\anaconda3\\envs\\tf-sklearn-keras\\lib\\site-packages\\keras\\engine\\training.py:1972: UserWarning: `Model.fit_generator` is deprecated and will be removed in a future version. Please use `Model.fit`, which supports generators.\n",
      "  warnings.warn('`Model.fit_generator` is deprecated and '\n"
     ]
    },
    {
     "name": "stdout",
     "output_type": "stream",
     "text": [
      "74/74 [==============================] - 54s 335ms/step - loss: 0.3889\n"
     ]
    },
    {
     "name": "stderr",
     "output_type": "stream",
     "text": [
      "C:\\Users\\jjung\\anaconda3\\envs\\tf-sklearn-keras\\lib\\site-packages\\sklearn\\metrics\\_classification.py:1334: UndefinedMetricWarning: Precision is ill-defined and being set to 0.0 in labels with no predicted samples. Use `zero_division` parameter to control this behavior.\n",
      "  _warn_prf(average, modifier, msg_start, len(result))\n",
      " Fold 18 F1: 0.2880952380952381:  75%|███████▌  | 18/24 [21:43<07:27, 74.63s/it]"
     ]
    },
    {
     "name": "stdout",
     "output_type": "stream",
     "text": [
      "WARNING:tensorflow:`input_shape` is undefined or non-square, or `rows` is not in [96, 128, 160, 192, 224]. Weights for input shape (224, 224) will be loaded as the default.\n"
     ]
    },
    {
     "name": "stderr",
     "output_type": "stream",
     "text": [
      "C:\\Users\\jjung\\anaconda3\\envs\\tf-sklearn-keras\\lib\\site-packages\\keras\\engine\\training.py:1972: UserWarning: `Model.fit_generator` is deprecated and will be removed in a future version. Please use `Model.fit`, which supports generators.\n",
      "  warnings.warn('`Model.fit_generator` is deprecated and '\n"
     ]
    },
    {
     "name": "stdout",
     "output_type": "stream",
     "text": [
      "75/75 [==============================] - 54s 340ms/step - loss: 0.4140\n"
     ]
    },
    {
     "name": "stderr",
     "output_type": "stream",
     "text": [
      "C:\\Users\\jjung\\anaconda3\\envs\\tf-sklearn-keras\\lib\\site-packages\\sklearn\\metrics\\_classification.py:2006: UserWarning: y_pred contains classes not in y_true\n",
      "  warnings.warn(\"y_pred contains classes not in y_true\")\n",
      "C:\\Users\\jjung\\anaconda3\\envs\\tf-sklearn-keras\\lib\\site-packages\\sklearn\\metrics\\_classification.py:1334: UndefinedMetricWarning: Recall is ill-defined and being set to 0.0 in labels with no true samples. Use `zero_division` parameter to control this behavior.\n",
      "  _warn_prf(average, modifier, msg_start, len(result))\n",
      " Fold 19 F1: 0.16666666666666669:  79%|███████▉  | 19/24 [22:58<06:12, 74.51s/it]"
     ]
    },
    {
     "name": "stdout",
     "output_type": "stream",
     "text": [
      "WARNING:tensorflow:`input_shape` is undefined or non-square, or `rows` is not in [96, 128, 160, 192, 224]. Weights for input shape (224, 224) will be loaded as the default.\n"
     ]
    },
    {
     "name": "stderr",
     "output_type": "stream",
     "text": [
      "C:\\Users\\jjung\\anaconda3\\envs\\tf-sklearn-keras\\lib\\site-packages\\keras\\engine\\training.py:1972: UserWarning: `Model.fit_generator` is deprecated and will be removed in a future version. Please use `Model.fit`, which supports generators.\n",
      "  warnings.warn('`Model.fit_generator` is deprecated and '\n"
     ]
    },
    {
     "name": "stdout",
     "output_type": "stream",
     "text": [
      "61/61 [==============================] - 49s 360ms/step - loss: 0.3379\n"
     ]
    },
    {
     "name": "stderr",
     "output_type": "stream",
     "text": [
      " Fold 20 F1: 0.5587076438140267:  83%|████████▎ | 20/24 [24:35<05:25, 81.34s/it] "
     ]
    },
    {
     "name": "stdout",
     "output_type": "stream",
     "text": [
      "WARNING:tensorflow:`input_shape` is undefined or non-square, or `rows` is not in [96, 128, 160, 192, 224]. Weights for input shape (224, 224) will be loaded as the default.\n"
     ]
    },
    {
     "name": "stderr",
     "output_type": "stream",
     "text": [
      "C:\\Users\\jjung\\anaconda3\\envs\\tf-sklearn-keras\\lib\\site-packages\\keras\\engine\\training.py:1972: UserWarning: `Model.fit_generator` is deprecated and will be removed in a future version. Please use `Model.fit`, which supports generators.\n",
      "  warnings.warn('`Model.fit_generator` is deprecated and '\n"
     ]
    },
    {
     "name": "stdout",
     "output_type": "stream",
     "text": [
      "55/55 [==============================] - 51s 357ms/step - loss: 0.5526\n"
     ]
    },
    {
     "name": "stderr",
     "output_type": "stream",
     "text": [
      "C:\\Users\\jjung\\anaconda3\\envs\\tf-sklearn-keras\\lib\\site-packages\\sklearn\\metrics\\_classification.py:1334: UndefinedMetricWarning: Precision is ill-defined and being set to 0.0 in labels with no predicted samples. Use `zero_division` parameter to control this behavior.\n",
      "  _warn_prf(average, modifier, msg_start, len(result))\n",
      " Fold 21 F1: 0.9217638691322902:  88%|████████▊ | 21/24 [26:25<04:29, 89.90s/it]"
     ]
    },
    {
     "name": "stdout",
     "output_type": "stream",
     "text": [
      "WARNING:tensorflow:`input_shape` is undefined or non-square, or `rows` is not in [96, 128, 160, 192, 224]. Weights for input shape (224, 224) will be loaded as the default.\n"
     ]
    },
    {
     "name": "stderr",
     "output_type": "stream",
     "text": [
      "C:\\Users\\jjung\\anaconda3\\envs\\tf-sklearn-keras\\lib\\site-packages\\keras\\engine\\training.py:1972: UserWarning: `Model.fit_generator` is deprecated and will be removed in a future version. Please use `Model.fit`, which supports generators.\n",
      "  warnings.warn('`Model.fit_generator` is deprecated and '\n"
     ]
    },
    {
     "name": "stdout",
     "output_type": "stream",
     "text": [
      "73/73 [==============================] - 57s 354ms/step - loss: 0.3964\n"
     ]
    },
    {
     "name": "stderr",
     "output_type": "stream",
     "text": [
      "C:\\Users\\jjung\\anaconda3\\envs\\tf-sklearn-keras\\lib\\site-packages\\sklearn\\metrics\\_classification.py:1334: UndefinedMetricWarning: Precision is ill-defined and being set to 0.0 in labels with no predicted samples. Use `zero_division` parameter to control this behavior.\n",
      "  _warn_prf(average, modifier, msg_start, len(result))\n",
      " Fold 22 F1: 0.27081770442610653:  92%|█████████▏| 22/24 [27:42<02:52, 86.10s/it]"
     ]
    },
    {
     "name": "stdout",
     "output_type": "stream",
     "text": [
      "WARNING:tensorflow:`input_shape` is undefined or non-square, or `rows` is not in [96, 128, 160, 192, 224]. Weights for input shape (224, 224) will be loaded as the default.\n"
     ]
    },
    {
     "name": "stderr",
     "output_type": "stream",
     "text": [
      "C:\\Users\\jjung\\anaconda3\\envs\\tf-sklearn-keras\\lib\\site-packages\\keras\\engine\\training.py:1972: UserWarning: `Model.fit_generator` is deprecated and will be removed in a future version. Please use `Model.fit`, which supports generators.\n",
      "  warnings.warn('`Model.fit_generator` is deprecated and '\n"
     ]
    },
    {
     "name": "stdout",
     "output_type": "stream",
     "text": [
      "65/65 [==============================] - 51s 350ms/step - loss: 0.4552\n"
     ]
    },
    {
     "name": "stderr",
     "output_type": "stream",
     "text": [
      " Fold 23 F1: 0.7670712857134943:  96%|█████████▌| 23/24 [29:10<01:26, 86.66s/it] "
     ]
    },
    {
     "name": "stdout",
     "output_type": "stream",
     "text": [
      "WARNING:tensorflow:`input_shape` is undefined or non-square, or `rows` is not in [96, 128, 160, 192, 224]. Weights for input shape (224, 224) will be loaded as the default.\n"
     ]
    },
    {
     "name": "stderr",
     "output_type": "stream",
     "text": [
      "C:\\Users\\jjung\\anaconda3\\envs\\tf-sklearn-keras\\lib\\site-packages\\keras\\engine\\training.py:1972: UserWarning: `Model.fit_generator` is deprecated and will be removed in a future version. Please use `Model.fit`, which supports generators.\n",
      "  warnings.warn('`Model.fit_generator` is deprecated and '\n"
     ]
    },
    {
     "name": "stdout",
     "output_type": "stream",
     "text": [
      "71/71 [==============================] - 53s 344ms/step - loss: 0.4638\n"
     ]
    },
    {
     "name": "stderr",
     "output_type": "stream",
     "text": [
      " Fold 24 F1: 0.35940224159402245: 100%|██████████| 24/24 [30:29<00:00, 76.23s/it]"
     ]
    },
    {
     "name": "stdout",
     "output_type": "stream",
     "text": [
      "Performance model:\n",
      " accuracy: 0.52 +- 0.266 \n",
      "\n",
      " balanced_accuracy: 0.539 +- 0.215 \n",
      "\n",
      " f1: 0.483 +- 0.299 \n",
      "\n",
      " recall: 0.52 +- 0.266 \n",
      "\n",
      " precision: 0.63 +- 0.334 \n",
      "\n"
     ]
    },
    {
     "name": "stderr",
     "output_type": "stream",
     "text": [
      "\n"
     ]
    }
   ],
   "source": [
    "# LOSO\n",
    "\n",
    "# variables\n",
    "folds = len(np.unique(subjects))\n",
    "indices = np.arange(N)\n",
    "epochs = 1\n",
    "learning_rate = 1e-3\n",
    "batch_size = 16\n",
    "\n",
    "# load labels\n",
    "y = np.empty(N, dtype=int)\n",
    "for i in range(N):\n",
    "    y[i] = np.load(path + f'/labels{i}.npy', allow_pickle=True)[variable] # TODO: multiclass\n",
    "\n",
    "# CV\n",
    "cv = LeaveOneGroupOut()\n",
    "scores_cv = []\n",
    "\n",
    "print(f'Starting cross-validation for physical fatigue')\n",
    "with tqdm(total=folds) as pbar:\n",
    "    for i, (train_indices, test_indices) in enumerate(cv.split(indices, y, groups=subjects)):\n",
    "        # training set\n",
    "        train_dataloader = DataGenerator(path, train_indices, batch_size=batch_size)\n",
    "\n",
    "        # weights for loss function\n",
    "        sample_weights = get_weighting_factor(path, train_indices)\n",
    "\n",
    "        # model\n",
    "        model = CNN()\n",
    "        model.compile(optimizer=Adam(learning_rate=learning_rate),\n",
    "                      loss=weighted_cross_entropy(sample_weights))\n",
    "\n",
    "        # training\n",
    "        history = model.fit_generator(generator=train_dataloader,\n",
    "                                      epochs=epochs)\n",
    "\n",
    "        # evaluate\n",
    "        scores = test_set_evaluator(model, path, test_indices, verbose=False)\n",
    "        scores_cv.append(scores)\n",
    "\n",
    "        # for progress bar\n",
    "        pbar.update(1)\n",
    "        pbar.set_description(f' Fold {i+1} F1: {scores[\"f1\"]}')\n",
    "\n",
    "# final evaluation\n",
    "print('Performance model:')\n",
    "metrics = scores_cv[0].keys()\n",
    "for metric in metrics:\n",
    "    if metric == 'confusion': # ignore confusion_matrix\n",
    "        continue\n",
    "\n",
    "    mean = np.mean([scores_cv_i[metric] for scores_cv_i in scores_cv])\n",
    "    std = np.std([scores_cv_i[metric] for scores_cv_i in scores_cv])\n",
    "    print(f' {metric}: {round(mean, 3)} +- {round(std, 3)} \\n')"
   ],
   "metadata": {
    "collapsed": false
   }
  },
  {
   "cell_type": "code",
   "execution_count": 19,
   "outputs": [
    {
     "name": "stdout",
     "output_type": "stream",
     "text": [
      "Starting cross-validation for physical fatigue\n"
     ]
    },
    {
     "name": "stderr",
     "output_type": "stream",
     "text": [
      "  0%|          | 0/24 [00:00<?, ?it/s]"
     ]
    },
    {
     "name": "stdout",
     "output_type": "stream",
     "text": [
      "WARNING:tensorflow:`input_shape` is undefined or non-square, or `rows` is not in [96, 128, 160, 192, 224]. Weights for input shape (224, 224) will be loaded as the default.\n"
     ]
    },
    {
     "name": "stderr",
     "output_type": "stream",
     "text": [
      "C:\\Users\\jjung\\anaconda3\\envs\\tf-sklearn-keras\\lib\\site-packages\\keras\\engine\\training.py:1972: UserWarning: `Model.fit_generator` is deprecated and will be removed in a future version. Please use `Model.fit`, which supports generators.\n",
      "  warnings.warn('`Model.fit_generator` is deprecated and '\n"
     ]
    },
    {
     "name": "stdout",
     "output_type": "stream",
     "text": [
      "Epoch 1/10\n",
      "74/74 [==============================] - 72s 549ms/step - loss: 0.4591\n",
      "Epoch 2/10\n",
      "74/74 [==============================] - 22s 291ms/step - loss: 0.3126\n",
      "Epoch 3/10\n",
      "74/74 [==============================] - 22s 290ms/step - loss: 0.3060\n",
      "Epoch 4/10\n",
      "74/74 [==============================] - 22s 290ms/step - loss: 0.2711\n",
      "Epoch 5/10\n",
      "74/74 [==============================] - 22s 290ms/step - loss: 0.2523\n",
      "Epoch 6/10\n",
      "74/74 [==============================] - 22s 289ms/step - loss: 0.2337\n",
      "Epoch 7/10\n",
      "74/74 [==============================] - 22s 290ms/step - loss: 0.2099\n",
      "Epoch 8/10\n",
      "74/74 [==============================] - 22s 290ms/step - loss: 0.2282\n",
      "Epoch 9/10\n",
      "74/74 [==============================] - 22s 290ms/step - loss: 0.1867\n",
      "Epoch 10/10\n",
      "74/74 [==============================] - 22s 290ms/step - loss: 0.1902\n"
     ]
    },
    {
     "name": "stderr",
     "output_type": "stream",
     "text": [
      " Fold 1 F1: 0.4552845528455285:   4%|▍         | 1/24 [04:46<1:49:51, 286.59s/it]"
     ]
    },
    {
     "name": "stdout",
     "output_type": "stream",
     "text": [
      "WARNING:tensorflow:`input_shape` is undefined or non-square, or `rows` is not in [96, 128, 160, 192, 224]. Weights for input shape (224, 224) will be loaded as the default.\n"
     ]
    },
    {
     "name": "stderr",
     "output_type": "stream",
     "text": [
      "C:\\Users\\jjung\\anaconda3\\envs\\tf-sklearn-keras\\lib\\site-packages\\keras\\engine\\training.py:1972: UserWarning: `Model.fit_generator` is deprecated and will be removed in a future version. Please use `Model.fit`, which supports generators.\n",
      "  warnings.warn('`Model.fit_generator` is deprecated and '\n"
     ]
    },
    {
     "name": "stdout",
     "output_type": "stream",
     "text": [
      "Epoch 1/10\n",
      "74/74 [==============================] - 47s 300ms/step - loss: 0.3746\n",
      "Epoch 2/10\n",
      "74/74 [==============================] - 22s 299ms/step - loss: 0.3258\n",
      "Epoch 3/10\n",
      "74/74 [==============================] - 22s 298ms/step - loss: 0.2899\n",
      "Epoch 4/10\n",
      "74/74 [==============================] - 22s 292ms/step - loss: 0.2558\n",
      "Epoch 5/10\n",
      "74/74 [==============================] - 22s 291ms/step - loss: 0.2492\n",
      "Epoch 6/10\n",
      "74/74 [==============================] - 22s 291ms/step - loss: 0.2287\n",
      "Epoch 7/10\n",
      "74/74 [==============================] - 22s 291ms/step - loss: 0.2150\n",
      "Epoch 8/10\n",
      "74/74 [==============================] - 22s 292ms/step - loss: 0.2041\n",
      "Epoch 9/10\n",
      "74/74 [==============================] - 22s 291ms/step - loss: 0.1716\n",
      "Epoch 10/10\n",
      "74/74 [==============================] - 22s 292ms/step - loss: 0.1688\n"
     ]
    },
    {
     "name": "stderr",
     "output_type": "stream",
     "text": [
      " Fold 2 F1: 0.4096618357487922:   8%|▊         | 2/24 [09:08<1:39:43, 271.96s/it]"
     ]
    },
    {
     "name": "stdout",
     "output_type": "stream",
     "text": [
      "WARNING:tensorflow:`input_shape` is undefined or non-square, or `rows` is not in [96, 128, 160, 192, 224]. Weights for input shape (224, 224) will be loaded as the default.\n"
     ]
    },
    {
     "name": "stderr",
     "output_type": "stream",
     "text": [
      "C:\\Users\\jjung\\anaconda3\\envs\\tf-sklearn-keras\\lib\\site-packages\\keras\\engine\\training.py:1972: UserWarning: `Model.fit_generator` is deprecated and will be removed in a future version. Please use `Model.fit`, which supports generators.\n",
      "  warnings.warn('`Model.fit_generator` is deprecated and '\n"
     ]
    },
    {
     "name": "stdout",
     "output_type": "stream",
     "text": [
      "Epoch 1/10\n",
      "74/74 [==============================] - 45s 290ms/step - loss: 0.4465\n",
      "Epoch 2/10\n",
      "74/74 [==============================] - 22s 291ms/step - loss: 0.3161\n",
      "Epoch 3/10\n",
      "74/74 [==============================] - 22s 292ms/step - loss: 0.2779\n",
      "Epoch 4/10\n",
      "74/74 [==============================] - 22s 290ms/step - loss: 0.2804\n",
      "Epoch 5/10\n",
      "74/74 [==============================] - 22s 290ms/step - loss: 0.2870\n",
      "Epoch 6/10\n",
      "74/74 [==============================] - 22s 291ms/step - loss: 0.2547\n",
      "Epoch 7/10\n",
      "74/74 [==============================] - 22s 290ms/step - loss: 0.2138\n",
      "Epoch 8/10\n",
      "74/74 [==============================] - 22s 290ms/step - loss: 0.2042\n",
      "Epoch 9/10\n",
      "74/74 [==============================] - 22s 290ms/step - loss: 0.2227\n",
      "Epoch 10/10\n",
      "74/74 [==============================] - 22s 290ms/step - loss: 0.1831\n"
     ]
    },
    {
     "name": "stderr",
     "output_type": "stream",
     "text": [
      " Fold 3 F1: 0.5789473684210527:  12%|█▎        | 3/24 [13:23<1:32:28, 264.23s/it]"
     ]
    },
    {
     "name": "stdout",
     "output_type": "stream",
     "text": [
      "WARNING:tensorflow:`input_shape` is undefined or non-square, or `rows` is not in [96, 128, 160, 192, 224]. Weights for input shape (224, 224) will be loaded as the default.\n"
     ]
    },
    {
     "name": "stderr",
     "output_type": "stream",
     "text": [
      "C:\\Users\\jjung\\anaconda3\\envs\\tf-sklearn-keras\\lib\\site-packages\\keras\\engine\\training.py:1972: UserWarning: `Model.fit_generator` is deprecated and will be removed in a future version. Please use `Model.fit`, which supports generators.\n",
      "  warnings.warn('`Model.fit_generator` is deprecated and '\n"
     ]
    },
    {
     "name": "stdout",
     "output_type": "stream",
     "text": [
      "Epoch 1/10\n",
      "75/75 [==============================] - 45s 293ms/step - loss: 0.4250\n",
      "Epoch 2/10\n",
      "75/75 [==============================] - 22s 293ms/step - loss: 0.3369\n",
      "Epoch 3/10\n",
      "75/75 [==============================] - 22s 293ms/step - loss: 0.3056\n",
      "Epoch 4/10\n",
      "75/75 [==============================] - 22s 294ms/step - loss: 0.2661\n",
      "Epoch 5/10\n",
      "75/75 [==============================] - 22s 293ms/step - loss: 0.2662\n",
      "Epoch 6/10\n",
      "75/75 [==============================] - 22s 293ms/step - loss: 0.2271\n",
      "Epoch 7/10\n",
      "75/75 [==============================] - 22s 293ms/step - loss: 0.2700\n",
      "Epoch 8/10\n",
      "75/75 [==============================] - 22s 293ms/step - loss: 0.2008\n",
      "Epoch 9/10\n",
      "75/75 [==============================] - 22s 293ms/step - loss: 0.2113\n",
      "Epoch 10/10\n",
      "75/75 [==============================] - 22s 293ms/step - loss: 0.1776\n"
     ]
    },
    {
     "name": "stderr",
     "output_type": "stream",
     "text": [
      "C:\\Users\\jjung\\anaconda3\\envs\\tf-sklearn-keras\\lib\\site-packages\\sklearn\\metrics\\_classification.py:2006: UserWarning: y_pred contains classes not in y_true\n",
      "  warnings.warn(\"y_pred contains classes not in y_true\")\n",
      "C:\\Users\\jjung\\anaconda3\\envs\\tf-sklearn-keras\\lib\\site-packages\\sklearn\\metrics\\_classification.py:1334: UndefinedMetricWarning: Recall is ill-defined and being set to 0.0 in labels with no true samples. Use `zero_division` parameter to control this behavior.\n",
      "  _warn_prf(average, modifier, msg_start, len(result))\n",
      " Fold 4 F1: 0.7407407407407407:  17%|█▋        | 4/24 [17:44<1:27:39, 262.97s/it]"
     ]
    },
    {
     "name": "stdout",
     "output_type": "stream",
     "text": [
      "WARNING:tensorflow:`input_shape` is undefined or non-square, or `rows` is not in [96, 128, 160, 192, 224]. Weights for input shape (224, 224) will be loaded as the default.\n"
     ]
    },
    {
     "name": "stderr",
     "output_type": "stream",
     "text": [
      "C:\\Users\\jjung\\anaconda3\\envs\\tf-sklearn-keras\\lib\\site-packages\\keras\\engine\\training.py:1972: UserWarning: `Model.fit_generator` is deprecated and will be removed in a future version. Please use `Model.fit`, which supports generators.\n",
      "  warnings.warn('`Model.fit_generator` is deprecated and '\n"
     ]
    },
    {
     "name": "stdout",
     "output_type": "stream",
     "text": [
      "Epoch 1/10\n",
      "75/75 [==============================] - 45s 292ms/step - loss: 0.4802\n",
      "Epoch 2/10\n",
      "75/75 [==============================] - 21s 284ms/step - loss: 0.3913\n",
      "Epoch 3/10\n",
      "75/75 [==============================] - 22s 285ms/step - loss: 0.2858\n",
      "Epoch 4/10\n",
      "75/75 [==============================] - 21s 284ms/step - loss: 0.2632\n",
      "Epoch 5/10\n",
      "75/75 [==============================] - 22s 285ms/step - loss: 0.2620\n",
      "Epoch 6/10\n",
      "75/75 [==============================] - 21s 284ms/step - loss: 0.2375\n",
      "Epoch 7/10\n",
      "75/75 [==============================] - 22s 285ms/step - loss: 0.2139\n",
      "Epoch 8/10\n",
      "75/75 [==============================] - 21s 284ms/step - loss: 0.2108\n",
      "Epoch 9/10\n",
      "75/75 [==============================] - 21s 284ms/step - loss: 0.2172\n",
      "Epoch 10/10\n",
      "75/75 [==============================] - 21s 284ms/step - loss: 0.1939\n"
     ]
    },
    {
     "name": "stderr",
     "output_type": "stream",
     "text": [
      " Fold 5 F1: 0.8:  21%|██        | 5/24 [21:56<1:22:02, 259.07s/it]               "
     ]
    },
    {
     "name": "stdout",
     "output_type": "stream",
     "text": [
      "WARNING:tensorflow:`input_shape` is undefined or non-square, or `rows` is not in [96, 128, 160, 192, 224]. Weights for input shape (224, 224) will be loaded as the default.\n"
     ]
    },
    {
     "name": "stderr",
     "output_type": "stream",
     "text": [
      "C:\\Users\\jjung\\anaconda3\\envs\\tf-sklearn-keras\\lib\\site-packages\\keras\\engine\\training.py:1972: UserWarning: `Model.fit_generator` is deprecated and will be removed in a future version. Please use `Model.fit`, which supports generators.\n",
      "  warnings.warn('`Model.fit_generator` is deprecated and '\n"
     ]
    },
    {
     "name": "stdout",
     "output_type": "stream",
     "text": [
      "Epoch 1/10\n",
      "74/74 [==============================] - 46s 286ms/step - loss: 0.3872\n",
      "Epoch 2/10\n",
      "74/74 [==============================] - 21s 286ms/step - loss: 0.3469\n",
      "Epoch 3/10\n",
      "74/74 [==============================] - 21s 286ms/step - loss: 0.3056\n",
      "Epoch 4/10\n",
      "74/74 [==============================] - 21s 288ms/step - loss: 0.2893\n",
      "Epoch 5/10\n",
      "74/74 [==============================] - 21s 286ms/step - loss: 0.2335\n",
      "Epoch 6/10\n",
      "74/74 [==============================] - 21s 286ms/step - loss: 0.2229\n",
      "Epoch 7/10\n",
      "74/74 [==============================] - 21s 286ms/step - loss: 0.2250\n",
      "Epoch 8/10\n",
      "74/74 [==============================] - 21s 286ms/step - loss: 0.2095\n",
      "Epoch 9/10\n",
      "74/74 [==============================] - 21s 287ms/step - loss: 0.2065\n",
      "Epoch 10/10\n",
      "74/74 [==============================] - 21s 285ms/step - loss: 0.1705\n"
     ]
    },
    {
     "name": "stderr",
     "output_type": "stream",
     "text": [
      " Fold 6 F1: 0.5866666666666666:  25%|██▌       | 6/24 [26:10<1:17:09, 257.18s/it]"
     ]
    },
    {
     "name": "stdout",
     "output_type": "stream",
     "text": [
      "WARNING:tensorflow:`input_shape` is undefined or non-square, or `rows` is not in [96, 128, 160, 192, 224]. Weights for input shape (224, 224) will be loaded as the default.\n"
     ]
    },
    {
     "name": "stderr",
     "output_type": "stream",
     "text": [
      "C:\\Users\\jjung\\anaconda3\\envs\\tf-sklearn-keras\\lib\\site-packages\\keras\\engine\\training.py:1972: UserWarning: `Model.fit_generator` is deprecated and will be removed in a future version. Please use `Model.fit`, which supports generators.\n",
      "  warnings.warn('`Model.fit_generator` is deprecated and '\n"
     ]
    },
    {
     "name": "stdout",
     "output_type": "stream",
     "text": [
      "Epoch 1/10\n",
      "74/74 [==============================] - 45s 284ms/step - loss: 0.3908\n",
      "Epoch 2/10\n",
      "74/74 [==============================] - 21s 284ms/step - loss: 0.3250\n",
      "Epoch 3/10\n",
      "74/74 [==============================] - 21s 285ms/step - loss: 0.2739\n",
      "Epoch 4/10\n",
      "74/74 [==============================] - 21s 284ms/step - loss: 0.2737\n",
      "Epoch 5/10\n",
      "74/74 [==============================] - 21s 287ms/step - loss: 0.2534\n",
      "Epoch 6/10\n",
      "74/74 [==============================] - 23s 303ms/step - loss: 0.2193\n",
      "Epoch 7/10\n",
      "74/74 [==============================] - 22s 291ms/step - loss: 0.2250\n",
      "Epoch 8/10\n",
      "74/74 [==============================] - 22s 292ms/step - loss: 0.2069\n",
      "Epoch 9/10\n",
      "74/74 [==============================] - 22s 290ms/step - loss: 0.1791\n",
      "Epoch 10/10\n",
      "74/74 [==============================] - 22s 293ms/step - loss: 0.1888\n"
     ]
    },
    {
     "name": "stderr",
     "output_type": "stream",
     "text": [
      " Fold 7 F1: 0.5708333333333333:  29%|██▉       | 7/24 [30:24<1:12:38, 256.38s/it]"
     ]
    },
    {
     "name": "stdout",
     "output_type": "stream",
     "text": [
      "WARNING:tensorflow:`input_shape` is undefined or non-square, or `rows` is not in [96, 128, 160, 192, 224]. Weights for input shape (224, 224) will be loaded as the default.\n"
     ]
    },
    {
     "name": "stderr",
     "output_type": "stream",
     "text": [
      "C:\\Users\\jjung\\anaconda3\\envs\\tf-sklearn-keras\\lib\\site-packages\\keras\\engine\\training.py:1972: UserWarning: `Model.fit_generator` is deprecated and will be removed in a future version. Please use `Model.fit`, which supports generators.\n",
      "  warnings.warn('`Model.fit_generator` is deprecated and '\n"
     ]
    },
    {
     "name": "stdout",
     "output_type": "stream",
     "text": [
      "Epoch 1/10\n",
      "74/74 [==============================] - 45s 291ms/step - loss: 0.4488\n",
      "Epoch 2/10\n",
      "74/74 [==============================] - 22s 291ms/step - loss: 0.4811\n",
      "Epoch 3/10\n",
      "74/74 [==============================] - 22s 291ms/step - loss: 0.2808\n",
      "Epoch 4/10\n",
      "74/74 [==============================] - 22s 291ms/step - loss: 0.3802\n",
      "Epoch 5/10\n",
      "74/74 [==============================] - 22s 292ms/step - loss: 0.2766\n",
      "Epoch 6/10\n",
      "74/74 [==============================] - 22s 291ms/step - loss: 0.2519\n",
      "Epoch 7/10\n",
      "74/74 [==============================] - 22s 291ms/step - loss: 0.2338\n",
      "Epoch 8/10\n",
      "74/74 [==============================] - 22s 291ms/step - loss: 0.2162\n",
      "Epoch 9/10\n",
      "74/74 [==============================] - 22s 291ms/step - loss: 0.2035\n",
      "Epoch 10/10\n",
      "74/74 [==============================] - 22s 291ms/step - loss: 0.2018\n"
     ]
    },
    {
     "name": "stderr",
     "output_type": "stream",
     "text": [
      " Fold 8 F1: 0.7714285714285714:  33%|███▎      | 8/24 [34:40<1:08:17, 256.10s/it]"
     ]
    },
    {
     "name": "stdout",
     "output_type": "stream",
     "text": [
      "WARNING:tensorflow:`input_shape` is undefined or non-square, or `rows` is not in [96, 128, 160, 192, 224]. Weights for input shape (224, 224) will be loaded as the default.\n"
     ]
    },
    {
     "name": "stderr",
     "output_type": "stream",
     "text": [
      "C:\\Users\\jjung\\anaconda3\\envs\\tf-sklearn-keras\\lib\\site-packages\\keras\\engine\\training.py:1972: UserWarning: `Model.fit_generator` is deprecated and will be removed in a future version. Please use `Model.fit`, which supports generators.\n",
      "  warnings.warn('`Model.fit_generator` is deprecated and '\n"
     ]
    },
    {
     "name": "stdout",
     "output_type": "stream",
     "text": [
      "Epoch 1/10\n",
      "74/74 [==============================] - 44s 292ms/step - loss: 0.4728\n",
      "Epoch 2/10\n",
      "74/74 [==============================] - 22s 290ms/step - loss: 0.3334\n",
      "Epoch 3/10\n",
      "74/74 [==============================] - 22s 291ms/step - loss: 0.2803\n",
      "Epoch 4/10\n",
      "74/74 [==============================] - 22s 291ms/step - loss: 0.2654\n",
      "Epoch 5/10\n",
      "74/74 [==============================] - 22s 291ms/step - loss: 0.2557\n",
      "Epoch 6/10\n",
      "74/74 [==============================] - 22s 291ms/step - loss: 0.2607\n",
      "Epoch 7/10\n",
      "74/74 [==============================] - 22s 291ms/step - loss: 0.2316\n",
      "Epoch 8/10\n",
      "74/74 [==============================] - 22s 291ms/step - loss: 0.2131\n",
      "Epoch 9/10\n",
      "74/74 [==============================] - 22s 292ms/step - loss: 0.1918\n",
      "Epoch 10/10\n",
      "74/74 [==============================] - 22s 290ms/step - loss: 0.1992\n"
     ]
    },
    {
     "name": "stderr",
     "output_type": "stream",
     "text": [
      " Fold 9 F1: 0.5019098548510313:  38%|███▊      | 9/24 [38:57<1:04:07, 256.51s/it]"
     ]
    },
    {
     "name": "stdout",
     "output_type": "stream",
     "text": [
      "WARNING:tensorflow:`input_shape` is undefined or non-square, or `rows` is not in [96, 128, 160, 192, 224]. Weights for input shape (224, 224) will be loaded as the default.\n"
     ]
    },
    {
     "name": "stderr",
     "output_type": "stream",
     "text": [
      "C:\\Users\\jjung\\anaconda3\\envs\\tf-sklearn-keras\\lib\\site-packages\\keras\\engine\\training.py:1972: UserWarning: `Model.fit_generator` is deprecated and will be removed in a future version. Please use `Model.fit`, which supports generators.\n",
      "  warnings.warn('`Model.fit_generator` is deprecated and '\n"
     ]
    },
    {
     "name": "stdout",
     "output_type": "stream",
     "text": [
      "Epoch 1/10\n",
      "74/74 [==============================] - 45s 284ms/step - loss: 0.4602\n",
      "Epoch 2/10\n",
      "74/74 [==============================] - 21s 286ms/step - loss: 0.3101\n",
      "Epoch 3/10\n",
      "74/74 [==============================] - 21s 285ms/step - loss: 0.2716\n",
      "Epoch 4/10\n",
      "74/74 [==============================] - 21s 286ms/step - loss: 0.2730\n",
      "Epoch 5/10\n",
      "74/74 [==============================] - 21s 285ms/step - loss: 0.2689\n",
      "Epoch 6/10\n",
      "74/74 [==============================] - 21s 286ms/step - loss: 0.2224\n",
      "Epoch 7/10\n",
      "74/74 [==============================] - 21s 286ms/step - loss: 0.2200\n",
      "Epoch 8/10\n",
      "74/74 [==============================] - 21s 286ms/step - loss: 0.2316\n",
      "Epoch 9/10\n",
      "74/74 [==============================] - 21s 285ms/step - loss: 0.2268\n",
      "Epoch 10/10\n",
      "74/74 [==============================] - 21s 285ms/step - loss: 0.1722\n"
     ]
    },
    {
     "name": "stderr",
     "output_type": "stream",
     "text": [
      " Fold 10 F1: 0.1907114624505929:  42%|████▏     | 10/24 [43:11<59:39, 255.70s/it]"
     ]
    },
    {
     "name": "stdout",
     "output_type": "stream",
     "text": [
      "WARNING:tensorflow:`input_shape` is undefined or non-square, or `rows` is not in [96, 128, 160, 192, 224]. Weights for input shape (224, 224) will be loaded as the default.\n"
     ]
    },
    {
     "name": "stderr",
     "output_type": "stream",
     "text": [
      "C:\\Users\\jjung\\anaconda3\\envs\\tf-sklearn-keras\\lib\\site-packages\\keras\\engine\\training.py:1972: UserWarning: `Model.fit_generator` is deprecated and will be removed in a future version. Please use `Model.fit`, which supports generators.\n",
      "  warnings.warn('`Model.fit_generator` is deprecated and '\n"
     ]
    },
    {
     "name": "stdout",
     "output_type": "stream",
     "text": [
      "Epoch 1/10\n",
      "74/74 [==============================] - 44s 287ms/step - loss: 0.3636\n",
      "Epoch 2/10\n",
      "74/74 [==============================] - 21s 287ms/step - loss: 0.3040\n",
      "Epoch 3/10\n",
      "74/74 [==============================] - 21s 288ms/step - loss: 0.2898\n",
      "Epoch 4/10\n",
      "74/74 [==============================] - 21s 288ms/step - loss: 0.2812\n",
      "Epoch 5/10\n",
      "74/74 [==============================] - 21s 288ms/step - loss: 0.2444\n",
      "Epoch 6/10\n",
      "74/74 [==============================] - 21s 287ms/step - loss: 0.2365\n",
      "Epoch 7/10\n",
      "74/74 [==============================] - 21s 287ms/step - loss: 0.2403\n",
      "Epoch 8/10\n",
      "74/74 [==============================] - 21s 287ms/step - loss: 0.2370\n",
      "Epoch 9/10\n",
      "74/74 [==============================] - 21s 287ms/step - loss: 0.1779\n",
      "Epoch 10/10\n",
      "74/74 [==============================] - 21s 287ms/step - loss: 0.1787\n"
     ]
    },
    {
     "name": "stderr",
     "output_type": "stream",
     "text": [
      " Fold 11 F1: 0.479020979020979:  46%|████▌     | 11/24 [47:23<55:09, 254.56s/it] "
     ]
    },
    {
     "name": "stdout",
     "output_type": "stream",
     "text": [
      "WARNING:tensorflow:`input_shape` is undefined or non-square, or `rows` is not in [96, 128, 160, 192, 224]. Weights for input shape (224, 224) will be loaded as the default.\n"
     ]
    },
    {
     "name": "stderr",
     "output_type": "stream",
     "text": [
      "C:\\Users\\jjung\\anaconda3\\envs\\tf-sklearn-keras\\lib\\site-packages\\keras\\engine\\training.py:1972: UserWarning: `Model.fit_generator` is deprecated and will be removed in a future version. Please use `Model.fit`, which supports generators.\n",
      "  warnings.warn('`Model.fit_generator` is deprecated and '\n"
     ]
    },
    {
     "name": "stdout",
     "output_type": "stream",
     "text": [
      "Epoch 1/10\n",
      "74/74 [==============================] - 46s 301ms/step - loss: 0.4197\n",
      "Epoch 2/10\n",
      "74/74 [==============================] - 21s 287ms/step - loss: 0.3372\n",
      "Epoch 3/10\n",
      "74/74 [==============================] - 21s 286ms/step - loss: 0.3108\n",
      "Epoch 4/10\n",
      "74/74 [==============================] - 21s 286ms/step - loss: 0.3586\n",
      "Epoch 5/10\n",
      "74/74 [==============================] - 21s 286ms/step - loss: 0.2573\n",
      "Epoch 6/10\n",
      "74/74 [==============================] - 21s 286ms/step - loss: 0.2225\n",
      "Epoch 7/10\n",
      "74/74 [==============================] - 21s 286ms/step - loss: 0.2209\n",
      "Epoch 8/10\n",
      "74/74 [==============================] - 21s 286ms/step - loss: 0.2000\n",
      "Epoch 9/10\n",
      "74/74 [==============================] - 21s 287ms/step - loss: 0.2351\n",
      "Epoch 10/10\n",
      "74/74 [==============================] - 21s 285ms/step - loss: 0.1825\n"
     ]
    },
    {
     "name": "stderr",
     "output_type": "stream",
     "text": [
      "C:\\Users\\jjung\\anaconda3\\envs\\tf-sklearn-keras\\lib\\site-packages\\sklearn\\metrics\\_classification.py:2006: UserWarning: y_pred contains classes not in y_true\n",
      "  warnings.warn(\"y_pred contains classes not in y_true\")\n",
      "C:\\Users\\jjung\\anaconda3\\envs\\tf-sklearn-keras\\lib\\site-packages\\sklearn\\metrics\\_classification.py:1334: UndefinedMetricWarning: Recall is ill-defined and being set to 0.0 in labels with no true samples. Use `zero_division` parameter to control this behavior.\n",
      "  _warn_prf(average, modifier, msg_start, len(result))\n",
      " Fold 12 F1: 0.9:  50%|█████     | 12/24 [51:36<50:50, 254.17s/it]              "
     ]
    },
    {
     "name": "stdout",
     "output_type": "stream",
     "text": [
      "WARNING:tensorflow:`input_shape` is undefined or non-square, or `rows` is not in [96, 128, 160, 192, 224]. Weights for input shape (224, 224) will be loaded as the default.\n"
     ]
    },
    {
     "name": "stderr",
     "output_type": "stream",
     "text": [
      "C:\\Users\\jjung\\anaconda3\\envs\\tf-sklearn-keras\\lib\\site-packages\\keras\\engine\\training.py:1972: UserWarning: `Model.fit_generator` is deprecated and will be removed in a future version. Please use `Model.fit`, which supports generators.\n",
      "  warnings.warn('`Model.fit_generator` is deprecated and '\n"
     ]
    },
    {
     "name": "stdout",
     "output_type": "stream",
     "text": [
      "Epoch 1/10\n",
      "75/75 [==============================] - 51s 302ms/step - loss: 0.3906\n",
      "Epoch 2/10\n",
      "75/75 [==============================] - 22s 297ms/step - loss: 0.3227\n",
      "Epoch 3/10\n",
      "75/75 [==============================] - 22s 298ms/step - loss: 0.2939\n",
      "Epoch 4/10\n",
      "75/75 [==============================] - 22s 297ms/step - loss: 0.3036\n",
      "Epoch 5/10\n",
      "75/75 [==============================] - 22s 297ms/step - loss: 0.2577\n",
      "Epoch 6/10\n",
      "75/75 [==============================] - 22s 298ms/step - loss: 0.2301\n",
      "Epoch 7/10\n",
      "75/75 [==============================] - 22s 298ms/step - loss: 0.2151\n",
      "Epoch 8/10\n",
      "75/75 [==============================] - 22s 298ms/step - loss: 0.2076\n",
      "Epoch 9/10\n",
      "75/75 [==============================] - 22s 297ms/step - loss: 0.1917\n",
      "Epoch 10/10\n",
      "75/75 [==============================] - 23s 299ms/step - loss: 0.1793\n"
     ]
    },
    {
     "name": "stderr",
     "output_type": "stream",
     "text": [
      "C:\\Users\\jjung\\anaconda3\\envs\\tf-sklearn-keras\\lib\\site-packages\\sklearn\\metrics\\_classification.py:1334: UndefinedMetricWarning: Precision is ill-defined and being set to 0.0 in labels with no predicted samples. Use `zero_division` parameter to control this behavior.\n",
      "  _warn_prf(average, modifier, msg_start, len(result))\n",
      " Fold 13 F1: 0.8658008658008658:  54%|█████▍    | 13/24 [56:04<47:20, 258.21s/it]"
     ]
    },
    {
     "name": "stdout",
     "output_type": "stream",
     "text": [
      "WARNING:tensorflow:`input_shape` is undefined or non-square, or `rows` is not in [96, 128, 160, 192, 224]. Weights for input shape (224, 224) will be loaded as the default.\n"
     ]
    },
    {
     "name": "stderr",
     "output_type": "stream",
     "text": [
      "C:\\Users\\jjung\\anaconda3\\envs\\tf-sklearn-keras\\lib\\site-packages\\keras\\engine\\training.py:1972: UserWarning: `Model.fit_generator` is deprecated and will be removed in a future version. Please use `Model.fit`, which supports generators.\n",
      "  warnings.warn('`Model.fit_generator` is deprecated and '\n"
     ]
    },
    {
     "name": "stdout",
     "output_type": "stream",
     "text": [
      "Epoch 1/10\n",
      "74/74 [==============================] - 45s 292ms/step - loss: 0.4126\n",
      "Epoch 2/10\n",
      "74/74 [==============================] - 22s 293ms/step - loss: 0.3010\n",
      "Epoch 3/10\n",
      "74/74 [==============================] - 22s 293ms/step - loss: 0.2986\n",
      "Epoch 4/10\n",
      "74/74 [==============================] - 22s 292ms/step - loss: 0.2884\n",
      "Epoch 5/10\n",
      "74/74 [==============================] - 22s 293ms/step - loss: 0.2632\n",
      "Epoch 6/10\n",
      "74/74 [==============================] - 22s 292ms/step - loss: 0.2428\n",
      "Epoch 7/10\n",
      "74/74 [==============================] - 22s 292ms/step - loss: 0.2638\n",
      "Epoch 8/10\n",
      "74/74 [==============================] - 23s 312ms/step - loss: 0.1994\n",
      "Epoch 9/10\n",
      "74/74 [==============================] - 22s 293ms/step - loss: 0.2029\n",
      "Epoch 10/10\n",
      "74/74 [==============================] - 22s 293ms/step - loss: 0.1869\n"
     ]
    },
    {
     "name": "stderr",
     "output_type": "stream",
     "text": [
      " Fold 14 F1: 0.8260869565217391:  58%|█████▊    | 14/24 [1:00:22<43:02, 258.22s/it]"
     ]
    },
    {
     "name": "stdout",
     "output_type": "stream",
     "text": [
      "WARNING:tensorflow:`input_shape` is undefined or non-square, or `rows` is not in [96, 128, 160, 192, 224]. Weights for input shape (224, 224) will be loaded as the default.\n"
     ]
    },
    {
     "name": "stderr",
     "output_type": "stream",
     "text": [
      "C:\\Users\\jjung\\anaconda3\\envs\\tf-sklearn-keras\\lib\\site-packages\\keras\\engine\\training.py:1972: UserWarning: `Model.fit_generator` is deprecated and will be removed in a future version. Please use `Model.fit`, which supports generators.\n",
      "  warnings.warn('`Model.fit_generator` is deprecated and '\n"
     ]
    },
    {
     "name": "stdout",
     "output_type": "stream",
     "text": [
      "Epoch 1/10\n",
      "74/74 [==============================] - 44s 296ms/step - loss: 0.4388\n",
      "Epoch 2/10\n",
      "74/74 [==============================] - 22s 297ms/step - loss: 0.3137\n",
      "Epoch 3/10\n",
      "74/74 [==============================] - 22s 297ms/step - loss: 0.2747\n",
      "Epoch 4/10\n",
      "74/74 [==============================] - 22s 298ms/step - loss: 0.2466\n",
      "Epoch 5/10\n",
      "74/74 [==============================] - 22s 291ms/step - loss: 0.2411\n",
      "Epoch 6/10\n",
      "74/74 [==============================] - 22s 291ms/step - loss: 0.2099\n",
      "Epoch 7/10\n",
      "74/74 [==============================] - 22s 292ms/step - loss: 0.2035\n",
      "Epoch 8/10\n",
      "74/74 [==============================] - 22s 290ms/step - loss: 0.2056\n",
      "Epoch 9/10\n",
      "74/74 [==============================] - 22s 293ms/step - loss: 0.2419\n",
      "Epoch 10/10\n",
      "74/74 [==============================] - 22s 292ms/step - loss: 0.1660\n"
     ]
    },
    {
     "name": "stderr",
     "output_type": "stream",
     "text": [
      " Fold 15 F1: 0.3836007130124777:  62%|██████▎   | 15/24 [1:04:41<38:45, 258.41s/it]"
     ]
    },
    {
     "name": "stdout",
     "output_type": "stream",
     "text": [
      "WARNING:tensorflow:`input_shape` is undefined or non-square, or `rows` is not in [96, 128, 160, 192, 224]. Weights for input shape (224, 224) will be loaded as the default.\n"
     ]
    },
    {
     "name": "stderr",
     "output_type": "stream",
     "text": [
      "C:\\Users\\jjung\\anaconda3\\envs\\tf-sklearn-keras\\lib\\site-packages\\keras\\engine\\training.py:1972: UserWarning: `Model.fit_generator` is deprecated and will be removed in a future version. Please use `Model.fit`, which supports generators.\n",
      "  warnings.warn('`Model.fit_generator` is deprecated and '\n"
     ]
    },
    {
     "name": "stdout",
     "output_type": "stream",
     "text": [
      "Epoch 1/10\n",
      "74/74 [==============================] - 45s 292ms/step - loss: 0.4049\n",
      "Epoch 2/10\n",
      "74/74 [==============================] - 22s 292ms/step - loss: 0.3323\n",
      "Epoch 3/10\n",
      "74/74 [==============================] - 22s 292ms/step - loss: 0.3790\n",
      "Epoch 4/10\n",
      "74/74 [==============================] - 23s 301ms/step - loss: 0.3117\n",
      "Epoch 5/10\n",
      "74/74 [==============================] - 22s 297ms/step - loss: 0.2926\n",
      "Epoch 6/10\n",
      "74/74 [==============================] - 22s 298ms/step - loss: 0.2403\n",
      "Epoch 7/10\n",
      "74/74 [==============================] - 22s 298ms/step - loss: 0.2164\n",
      "Epoch 8/10\n",
      "74/74 [==============================] - 22s 297ms/step - loss: 0.2133\n",
      "Epoch 9/10\n",
      "74/74 [==============================] - 22s 298ms/step - loss: 0.2123\n",
      "Epoch 10/10\n",
      "74/74 [==============================] - 22s 298ms/step - loss: 0.1888\n"
     ]
    },
    {
     "name": "stderr",
     "output_type": "stream",
     "text": [
      "C:\\Users\\jjung\\anaconda3\\envs\\tf-sklearn-keras\\lib\\site-packages\\sklearn\\metrics\\_classification.py:2006: UserWarning: y_pred contains classes not in y_true\n",
      "  warnings.warn(\"y_pred contains classes not in y_true\")\n",
      "C:\\Users\\jjung\\anaconda3\\envs\\tf-sklearn-keras\\lib\\site-packages\\sklearn\\metrics\\_classification.py:1334: UndefinedMetricWarning: Recall is ill-defined and being set to 0.0 in labels with no true samples. Use `zero_division` parameter to control this behavior.\n",
      "  _warn_prf(average, modifier, msg_start, len(result))\n",
      " Fold 16 F1: 0.9787234042553191:  67%|██████▋   | 16/24 [1:09:01<34:32, 259.01s/it]"
     ]
    },
    {
     "name": "stdout",
     "output_type": "stream",
     "text": [
      "WARNING:tensorflow:`input_shape` is undefined or non-square, or `rows` is not in [96, 128, 160, 192, 224]. Weights for input shape (224, 224) will be loaded as the default.\n"
     ]
    },
    {
     "name": "stderr",
     "output_type": "stream",
     "text": [
      "C:\\Users\\jjung\\anaconda3\\envs\\tf-sklearn-keras\\lib\\site-packages\\keras\\engine\\training.py:1972: UserWarning: `Model.fit_generator` is deprecated and will be removed in a future version. Please use `Model.fit`, which supports generators.\n",
      "  warnings.warn('`Model.fit_generator` is deprecated and '\n"
     ]
    },
    {
     "name": "stdout",
     "output_type": "stream",
     "text": [
      "Epoch 1/10\n",
      "75/75 [==============================] - 47s 314ms/step - loss: 0.4053\n",
      "Epoch 2/10\n",
      "75/75 [==============================] - 23s 298ms/step - loss: 0.3395\n",
      "Epoch 3/10\n",
      "75/75 [==============================] - 23s 299ms/step - loss: 0.2832\n",
      "Epoch 4/10\n",
      "75/75 [==============================] - 22s 298ms/step - loss: 0.2868\n",
      "Epoch 5/10\n",
      "75/75 [==============================] - 23s 299ms/step - loss: 0.2540\n",
      "Epoch 6/10\n",
      "75/75 [==============================] - 23s 299ms/step - loss: 0.2558\n",
      "Epoch 7/10\n",
      "75/75 [==============================] - 23s 298ms/step - loss: 0.2767\n",
      "Epoch 8/10\n",
      "75/75 [==============================] - 23s 299ms/step - loss: 0.2043\n",
      "Epoch 9/10\n",
      "75/75 [==============================] - 23s 298ms/step - loss: 0.1988\n",
      "Epoch 10/10\n",
      "75/75 [==============================] - 22s 298ms/step - loss: 0.1771\n"
     ]
    },
    {
     "name": "stderr",
     "output_type": "stream",
     "text": [
      "C:\\Users\\jjung\\anaconda3\\envs\\tf-sklearn-keras\\lib\\site-packages\\sklearn\\metrics\\_classification.py:2006: UserWarning: y_pred contains classes not in y_true\n",
      "  warnings.warn(\"y_pred contains classes not in y_true\")\n",
      "C:\\Users\\jjung\\anaconda3\\envs\\tf-sklearn-keras\\lib\\site-packages\\sklearn\\metrics\\_classification.py:1334: UndefinedMetricWarning: Recall is ill-defined and being set to 0.0 in labels with no true samples. Use `zero_division` parameter to control this behavior.\n",
      "  _warn_prf(average, modifier, msg_start, len(result))\n",
      " Fold 17 F1: 0.888888888888889:  71%|███████   | 17/24 [1:13:24<30:21, 260.25s/it] "
     ]
    },
    {
     "name": "stdout",
     "output_type": "stream",
     "text": [
      "WARNING:tensorflow:`input_shape` is undefined or non-square, or `rows` is not in [96, 128, 160, 192, 224]. Weights for input shape (224, 224) will be loaded as the default.\n"
     ]
    },
    {
     "name": "stderr",
     "output_type": "stream",
     "text": [
      "C:\\Users\\jjung\\anaconda3\\envs\\tf-sklearn-keras\\lib\\site-packages\\keras\\engine\\training.py:1972: UserWarning: `Model.fit_generator` is deprecated and will be removed in a future version. Please use `Model.fit`, which supports generators.\n",
      "  warnings.warn('`Model.fit_generator` is deprecated and '\n"
     ]
    },
    {
     "name": "stdout",
     "output_type": "stream",
     "text": [
      "Epoch 1/10\n",
      "74/74 [==============================] - 46s 296ms/step - loss: 0.4194\n",
      "Epoch 2/10\n",
      "74/74 [==============================] - 22s 296ms/step - loss: 0.3240\n",
      "Epoch 3/10\n",
      "74/74 [==============================] - 22s 296ms/step - loss: 0.2746\n",
      "Epoch 4/10\n",
      "74/74 [==============================] - 22s 296ms/step - loss: 0.2581\n",
      "Epoch 5/10\n",
      "74/74 [==============================] - 22s 296ms/step - loss: 0.2863\n",
      "Epoch 6/10\n",
      "74/74 [==============================] - 22s 297ms/step - loss: 0.2581\n",
      "Epoch 7/10\n",
      "74/74 [==============================] - 22s 298ms/step - loss: 0.2166\n",
      "Epoch 8/10\n",
      "74/74 [==============================] - 22s 291ms/step - loss: 0.2013\n",
      "Epoch 9/10\n",
      "74/74 [==============================] - 22s 291ms/step - loss: 0.1950\n",
      "Epoch 10/10\n",
      "74/74 [==============================] - 22s 292ms/step - loss: 0.1825\n"
     ]
    },
    {
     "name": "stderr",
     "output_type": "stream",
     "text": [
      " Fold 18 F1: 0.6354166666666666:  75%|███████▌  | 18/24 [1:17:44<25:59, 259.92s/it]"
     ]
    },
    {
     "name": "stdout",
     "output_type": "stream",
     "text": [
      "WARNING:tensorflow:`input_shape` is undefined or non-square, or `rows` is not in [96, 128, 160, 192, 224]. Weights for input shape (224, 224) will be loaded as the default.\n"
     ]
    },
    {
     "name": "stderr",
     "output_type": "stream",
     "text": [
      "C:\\Users\\jjung\\anaconda3\\envs\\tf-sklearn-keras\\lib\\site-packages\\keras\\engine\\training.py:1972: UserWarning: `Model.fit_generator` is deprecated and will be removed in a future version. Please use `Model.fit`, which supports generators.\n",
      "  warnings.warn('`Model.fit_generator` is deprecated and '\n"
     ]
    },
    {
     "name": "stdout",
     "output_type": "stream",
     "text": [
      "Epoch 1/10\n",
      "75/75 [==============================] - 45s 285ms/step - loss: 0.4895\n",
      "Epoch 2/10\n",
      "75/75 [==============================] - 22s 286ms/step - loss: 0.3246\n",
      "Epoch 3/10\n",
      "75/75 [==============================] - 22s 285ms/step - loss: 0.3051\n",
      "Epoch 4/10\n",
      "75/75 [==============================] - 22s 285ms/step - loss: 0.3056\n",
      "Epoch 5/10\n",
      "75/75 [==============================] - 22s 285ms/step - loss: 0.2604\n",
      "Epoch 6/10\n",
      "75/75 [==============================] - 22s 285ms/step - loss: 0.2453\n",
      "Epoch 7/10\n",
      "75/75 [==============================] - 22s 286ms/step - loss: 0.2280\n",
      "Epoch 8/10\n",
      "75/75 [==============================] - 22s 285ms/step - loss: 0.1976\n",
      "Epoch 9/10\n",
      "75/75 [==============================] - 22s 286ms/step - loss: 0.2008\n",
      "Epoch 10/10\n",
      "75/75 [==============================] - 23s 302ms/step - loss: 0.2209\n"
     ]
    },
    {
     "name": "stderr",
     "output_type": "stream",
     "text": [
      "C:\\Users\\jjung\\anaconda3\\envs\\tf-sklearn-keras\\lib\\site-packages\\sklearn\\metrics\\_classification.py:2006: UserWarning: y_pred contains classes not in y_true\n",
      "  warnings.warn(\"y_pred contains classes not in y_true\")\n",
      "C:\\Users\\jjung\\anaconda3\\envs\\tf-sklearn-keras\\lib\\site-packages\\sklearn\\metrics\\_classification.py:1334: UndefinedMetricWarning: Recall is ill-defined and being set to 0.0 in labels with no true samples. Use `zero_division` parameter to control this behavior.\n",
      "  _warn_prf(average, modifier, msg_start, len(result))\n",
      " Fold 19 F1: 0.3076923076923077:  79%|███████▉  | 19/24 [1:21:59<21:32, 258.42s/it]"
     ]
    },
    {
     "name": "stdout",
     "output_type": "stream",
     "text": [
      "WARNING:tensorflow:`input_shape` is undefined or non-square, or `rows` is not in [96, 128, 160, 192, 224]. Weights for input shape (224, 224) will be loaded as the default.\n"
     ]
    },
    {
     "name": "stderr",
     "output_type": "stream",
     "text": [
      "C:\\Users\\jjung\\anaconda3\\envs\\tf-sklearn-keras\\lib\\site-packages\\keras\\engine\\training.py:1972: UserWarning: `Model.fit_generator` is deprecated and will be removed in a future version. Please use `Model.fit`, which supports generators.\n",
      "  warnings.warn('`Model.fit_generator` is deprecated and '\n"
     ]
    },
    {
     "name": "stdout",
     "output_type": "stream",
     "text": [
      "Epoch 1/10\n",
      "61/61 [==============================] - 40s 292ms/step - loss: 0.3518\n",
      "Epoch 2/10\n",
      "61/61 [==============================] - 18s 293ms/step - loss: 0.2952\n",
      "Epoch 3/10\n",
      "61/61 [==============================] - 18s 292ms/step - loss: 0.2065\n",
      "Epoch 4/10\n",
      "61/61 [==============================] - 18s 293ms/step - loss: 0.2192\n",
      "Epoch 5/10\n",
      "61/61 [==============================] - 18s 293ms/step - loss: 0.1982\n",
      "Epoch 6/10\n",
      "61/61 [==============================] - 18s 293ms/step - loss: 0.1679\n",
      "Epoch 7/10\n",
      "61/61 [==============================] - 18s 292ms/step - loss: 0.1620\n",
      "Epoch 8/10\n",
      "61/61 [==============================] - 18s 292ms/step - loss: 0.1525\n",
      "Epoch 9/10\n",
      "61/61 [==============================] - 18s 293ms/step - loss: 0.1467\n",
      "Epoch 10/10\n",
      "61/61 [==============================] - 18s 293ms/step - loss: 0.1326\n"
     ]
    },
    {
     "name": "stderr",
     "output_type": "stream",
     "text": [
      " Fold 20 F1: 0.5235701118054059:  83%|████████▎ | 20/24 [1:26:02<16:55, 253.95s/it]"
     ]
    },
    {
     "name": "stdout",
     "output_type": "stream",
     "text": [
      "WARNING:tensorflow:`input_shape` is undefined or non-square, or `rows` is not in [96, 128, 160, 192, 224]. Weights for input shape (224, 224) will be loaded as the default.\n"
     ]
    },
    {
     "name": "stderr",
     "output_type": "stream",
     "text": [
      "C:\\Users\\jjung\\anaconda3\\envs\\tf-sklearn-keras\\lib\\site-packages\\keras\\engine\\training.py:1972: UserWarning: `Model.fit_generator` is deprecated and will be removed in a future version. Please use `Model.fit`, which supports generators.\n",
      "  warnings.warn('`Model.fit_generator` is deprecated and '\n"
     ]
    },
    {
     "name": "stdout",
     "output_type": "stream",
     "text": [
      "Epoch 1/10\n",
      "55/55 [==============================] - 40s 295ms/step - loss: 0.5751\n",
      "Epoch 2/10\n",
      "55/55 [==============================] - 16s 295ms/step - loss: 0.4128\n",
      "Epoch 3/10\n",
      "55/55 [==============================] - 16s 295ms/step - loss: 0.3601\n",
      "Epoch 4/10\n",
      "55/55 [==============================] - 16s 295ms/step - loss: 0.3724\n",
      "Epoch 5/10\n",
      "55/55 [==============================] - 16s 295ms/step - loss: 0.3224\n",
      "Epoch 6/10\n",
      "55/55 [==============================] - 16s 295ms/step - loss: 0.3025\n",
      "Epoch 7/10\n",
      "55/55 [==============================] - 16s 294ms/step - loss: 0.2993\n",
      "Epoch 8/10\n",
      "55/55 [==============================] - 16s 295ms/step - loss: 0.2907\n",
      "Epoch 9/10\n",
      "55/55 [==============================] - 16s 295ms/step - loss: 0.2892\n",
      "Epoch 10/10\n",
      "55/55 [==============================] - 16s 294ms/step - loss: 0.2462\n"
     ]
    },
    {
     "name": "stderr",
     "output_type": "stream",
     "text": [
      " Fold 21 F1: 0.6773130141551195:  88%|████████▊ | 21/24 [1:30:01<12:27, 249.30s/it]"
     ]
    },
    {
     "name": "stdout",
     "output_type": "stream",
     "text": [
      "WARNING:tensorflow:`input_shape` is undefined or non-square, or `rows` is not in [96, 128, 160, 192, 224]. Weights for input shape (224, 224) will be loaded as the default.\n"
     ]
    },
    {
     "name": "stderr",
     "output_type": "stream",
     "text": [
      "C:\\Users\\jjung\\anaconda3\\envs\\tf-sklearn-keras\\lib\\site-packages\\keras\\engine\\training.py:1972: UserWarning: `Model.fit_generator` is deprecated and will be removed in a future version. Please use `Model.fit`, which supports generators.\n",
      "  warnings.warn('`Model.fit_generator` is deprecated and '\n"
     ]
    },
    {
     "name": "stdout",
     "output_type": "stream",
     "text": [
      "Epoch 1/10\n",
      "73/73 [==============================] - 44s 295ms/step - loss: 0.3896\n",
      "Epoch 2/10\n",
      "73/73 [==============================] - 22s 295ms/step - loss: 0.3771\n",
      "Epoch 3/10\n",
      "73/73 [==============================] - 22s 295ms/step - loss: 0.3049\n",
      "Epoch 4/10\n",
      "73/73 [==============================] - 22s 294ms/step - loss: 0.2697\n",
      "Epoch 5/10\n",
      "73/73 [==============================] - 21s 289ms/step - loss: 0.2352\n",
      "Epoch 6/10\n",
      "73/73 [==============================] - 23s 307ms/step - loss: 0.2168\n",
      "Epoch 7/10\n",
      "73/73 [==============================] - 22s 295ms/step - loss: 0.2188\n",
      "Epoch 8/10\n",
      "73/73 [==============================] - 22s 296ms/step - loss: 0.1891\n",
      "Epoch 9/10\n",
      "73/73 [==============================] - 22s 295ms/step - loss: 0.2096\n",
      "Epoch 10/10\n",
      "73/73 [==============================] - 22s 295ms/step - loss: 0.1806\n"
     ]
    },
    {
     "name": "stderr",
     "output_type": "stream",
     "text": [
      " Fold 22 F1: 0.4330392943063352:  92%|█████████▏| 22/24 [1:34:18<08:23, 251.78s/it]"
     ]
    },
    {
     "name": "stdout",
     "output_type": "stream",
     "text": [
      "WARNING:tensorflow:`input_shape` is undefined or non-square, or `rows` is not in [96, 128, 160, 192, 224]. Weights for input shape (224, 224) will be loaded as the default.\n"
     ]
    },
    {
     "name": "stderr",
     "output_type": "stream",
     "text": [
      "C:\\Users\\jjung\\anaconda3\\envs\\tf-sklearn-keras\\lib\\site-packages\\keras\\engine\\training.py:1972: UserWarning: `Model.fit_generator` is deprecated and will be removed in a future version. Please use `Model.fit`, which supports generators.\n",
      "  warnings.warn('`Model.fit_generator` is deprecated and '\n"
     ]
    },
    {
     "name": "stdout",
     "output_type": "stream",
     "text": [
      "Epoch 1/10\n",
      "65/65 [==============================] - 42s 299ms/step - loss: 0.4599\n",
      "Epoch 2/10\n",
      "65/65 [==============================] - 20s 300ms/step - loss: 0.3708\n",
      "Epoch 3/10\n",
      "65/65 [==============================] - 20s 300ms/step - loss: 0.3634\n",
      "Epoch 4/10\n",
      "65/65 [==============================] - 20s 300ms/step - loss: 0.3147\n",
      "Epoch 5/10\n",
      "65/65 [==============================] - 20s 300ms/step - loss: 0.2987\n",
      "Epoch 6/10\n",
      "65/65 [==============================] - 20s 300ms/step - loss: 0.2636\n",
      "Epoch 7/10\n",
      "65/65 [==============================] - 20s 300ms/step - loss: 0.2566\n",
      "Epoch 8/10\n",
      "65/65 [==============================] - 20s 300ms/step - loss: 0.3221\n",
      "Epoch 9/10\n",
      "65/65 [==============================] - 20s 300ms/step - loss: 0.2602\n",
      "Epoch 10/10\n",
      "65/65 [==============================] - 20s 300ms/step - loss: 0.2500\n"
     ]
    },
    {
     "name": "stderr",
     "output_type": "stream",
     "text": [
      " Fold 23 F1: 0.904812834224599:  96%|█████████▌| 23/24 [1:38:31<04:12, 252.09s/it] "
     ]
    },
    {
     "name": "stdout",
     "output_type": "stream",
     "text": [
      "WARNING:tensorflow:`input_shape` is undefined or non-square, or `rows` is not in [96, 128, 160, 192, 224]. Weights for input shape (224, 224) will be loaded as the default.\n"
     ]
    },
    {
     "name": "stderr",
     "output_type": "stream",
     "text": [
      "C:\\Users\\jjung\\anaconda3\\envs\\tf-sklearn-keras\\lib\\site-packages\\keras\\engine\\training.py:1972: UserWarning: `Model.fit_generator` is deprecated and will be removed in a future version. Please use `Model.fit`, which supports generators.\n",
      "  warnings.warn('`Model.fit_generator` is deprecated and '\n"
     ]
    },
    {
     "name": "stdout",
     "output_type": "stream",
     "text": [
      "Epoch 1/10\n",
      "71/71 [==============================] - 45s 297ms/step - loss: 0.3430\n",
      "Epoch 2/10\n",
      "71/71 [==============================] - 21s 296ms/step - loss: 0.3025\n",
      "Epoch 3/10\n",
      "71/71 [==============================] - 21s 296ms/step - loss: 0.2810\n",
      "Epoch 4/10\n",
      "71/71 [==============================] - 21s 297ms/step - loss: 0.2234\n",
      "Epoch 5/10\n",
      "71/71 [==============================] - 21s 295ms/step - loss: 0.2393\n",
      "Epoch 6/10\n",
      "71/71 [==============================] - 21s 296ms/step - loss: 0.2203\n",
      "Epoch 7/10\n",
      "71/71 [==============================] - 21s 296ms/step - loss: 0.1778\n",
      "Epoch 8/10\n",
      "71/71 [==============================] - 21s 296ms/step - loss: 0.1557\n",
      "Epoch 9/10\n",
      "71/71 [==============================] - 21s 297ms/step - loss: 0.1517\n",
      "Epoch 10/10\n",
      "71/71 [==============================] - 21s 294ms/step - loss: 0.1587\n"
     ]
    },
    {
     "name": "stderr",
     "output_type": "stream",
     "text": [
      " Fold 24 F1: 0.299475371611775: 100%|██████████| 24/24 [1:42:48<00:00, 257.02s/it]"
     ]
    },
    {
     "name": "stdout",
     "output_type": "stream",
     "text": [
      "Performance model:\n",
      " accuracy: 0.597 +- 0.205 \n",
      "\n",
      " balanced_accuracy: 0.572 +- 0.184 \n",
      "\n",
      " f1: 0.613 +- 0.217 \n",
      "\n",
      " recall: 0.597 +- 0.205 \n",
      "\n",
      " precision: 0.783 +- 0.198 \n",
      "\n"
     ]
    },
    {
     "name": "stderr",
     "output_type": "stream",
     "text": [
      "\n"
     ]
    }
   ],
   "source": [
    "# LOSO\n",
    "\n",
    "# variables\n",
    "folds = len(np.unique(subjects))\n",
    "indices = np.arange(N)\n",
    "epochs = 10\n",
    "learning_rate = 1e-3\n",
    "batch_size = 16\n",
    "\n",
    "# load labels\n",
    "y = np.empty(N, dtype=int)\n",
    "for i in range(N):\n",
    "    y[i] = np.load(path + f'/labels{i}.npy', allow_pickle=True)[variable] # TODO: multiclass\n",
    "\n",
    "# CV\n",
    "cv = LeaveOneGroupOut()\n",
    "scores_cv = []\n",
    "\n",
    "print(f'Starting cross-validation for physical fatigue')\n",
    "with tqdm(total=folds) as pbar:\n",
    "    for i, (train_indices, test_indices) in enumerate(cv.split(indices, y, groups=subjects)):\n",
    "        # training set\n",
    "        train_dataloader = DataGenerator(path, train_indices, batch_size=batch_size)\n",
    "\n",
    "        # weights for loss function\n",
    "        sample_weights = get_weighting_factor(path, train_indices)\n",
    "\n",
    "        # model\n",
    "        model = CNN()\n",
    "        model.compile(optimizer=Adam(learning_rate=learning_rate),\n",
    "                      loss=weighted_cross_entropy(sample_weights))\n",
    "\n",
    "        # training\n",
    "        history = model.fit_generator(generator=train_dataloader,\n",
    "                                      epochs=epochs)\n",
    "\n",
    "        # evaluate\n",
    "        scores = test_set_evaluator(model, path, test_indices, verbose=False)\n",
    "        scores_cv.append(scores)\n",
    "\n",
    "        # for progress bar\n",
    "        pbar.update(1)\n",
    "        pbar.set_description(f' Fold {i+1} F1: {scores[\"f1\"]}')\n",
    "\n",
    "# final evaluation\n",
    "print('Performance model:')\n",
    "metrics = scores_cv[0].keys()\n",
    "for metric in metrics:\n",
    "    if metric == 'confusion': # ignore confusion_matrix\n",
    "        continue\n",
    "\n",
    "    mean = np.mean([scores_cv_i[metric] for scores_cv_i in scores_cv])\n",
    "    std = np.std([scores_cv_i[metric] for scores_cv_i in scores_cv])\n",
    "    print(f' {metric}: {round(mean, 3)} +- {round(std, 3)} \\n')"
   ],
   "metadata": {
    "collapsed": false
   }
  },
  {
   "cell_type": "code",
   "execution_count": null,
   "outputs": [],
   "source": [],
   "metadata": {
    "collapsed": false
   }
  }
 ],
 "metadata": {
  "kernelspec": {
   "display_name": "Python 3",
   "language": "python",
   "name": "python3"
  },
  "language_info": {
   "codemirror_mode": {
    "name": "ipython",
    "version": 2
   },
   "file_extension": ".py",
   "mimetype": "text/x-python",
   "name": "python",
   "nbconvert_exporter": "python",
   "pygments_lexer": "ipython2",
   "version": "2.7.6"
  }
 },
 "nbformat": 4,
 "nbformat_minor": 0
}
