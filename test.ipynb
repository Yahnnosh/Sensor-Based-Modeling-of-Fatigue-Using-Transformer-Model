{
 "cells": [
  {
   "cell_type": "code",
   "execution_count": 9,
   "metadata": {
    "collapsed": true
   },
   "outputs": [],
   "source": [
    "import pandas as pd\n",
    "from pandasql import sqldf\n",
    "import math"
   ]
  },
  {
   "cell_type": "markdown",
   "source": [
    "# Import data"
   ],
   "metadata": {
    "collapsed": false
   }
  },
  {
   "cell_type": "code",
   "execution_count": 2,
   "outputs": [],
   "source": [
    "paths = {'windows': 'C:/Users/jjung/iCloudDrive/ETH/MSc 3rd semester/Semester project/Data',\n",
    "         'macOS': '/Users/janoschjungo/Library/Mobile Documents/com~apple~CloudDocs/ETH/MSc 3rd semester/Semester project/Data'}\n",
    "path = paths['windows']\n",
    "\n",
    "# import physiological data\n",
    "physio = pd.DataFrame()\n",
    "for subjectID in range(1, 28):\n",
    "    # load physiological data for subject\n",
    "    try:\n",
    "        file = path + f'/subjectID_{subjectID}.csv'\n",
    "        physio_subject = pd.read_csv(file)\n",
    "    except FileNotFoundError:\n",
    "        path = paths['macOS']\n",
    "        file = path + f'/subjectID_{subjectID}.csv'\n",
    "        physio_subject = pd.read_csv(file)\n",
    "    n_entries = physio_subject.shape[0]\n",
    "    physio_subject['SubjectID'] = [subjectID for i in range(n_entries)]\n",
    "\n",
    "    # clean column names (dataset contains different column names per subject)\n",
    "    if 'SkinTemperature.Value' in physio_subject.columns:\n",
    "        physio_subject = physio_subject.rename(columns={'SkinTemperature.Value': 'SkinTemperature'}, errors='raise')\n",
    "\n",
    "    # combine all subject data\n",
    "    physio = pd.concat([physio, physio_subject])\n",
    "\n",
    "# import fatigue (PROs) data\n",
    "fatigue = pd.read_csv(path + '/fatiguePROs.csv')"
   ],
   "metadata": {
    "collapsed": false,
    "pycharm": {
     "name": "#%%\n"
    }
   }
  },
  {
   "cell_type": "markdown",
   "source": [
    "# Convert data"
   ],
   "metadata": {
    "collapsed": false
   }
  },
  {
   "cell_type": "code",
   "execution_count": 58,
   "outputs": [],
   "source": [
    "# convert questionnaires into variables\n",
    "data = {}\n",
    "for _, row in fatigue.iterrows():\n",
    "    # extract data\n",
    "    subjectID, timestamp, timezone, question, VAS, answer = row\n",
    "    fatigue_label = {'Physically, today how often did you feel exhausted?': 'phF',\n",
    "                     'Mentally, today how often did you feel exhausted?': 'MF',\n",
    "                     'Describe fatigue on a scale of 1 to 10, where 1 means you don’t feel tired at all and 10 means the worst tiredness you can imagine': 'VAS',\n",
    "                     'Are you feeling better, worse or the same as yesterday?': 'ReIP',\n",
    "                     'Did you do sport today?': 'Sport'}[question]\n",
    "    fatigue_score = VAS if not math.isnan(VAS) else answer\n",
    "    fatigue_score = str(fatigue_score)\n",
    "\n",
    "    # combine same timestamp data\n",
    "    if (subjectID, timestamp) in data.keys():\n",
    "        # already other fatigue data for this timestamp\n",
    "        try:\n",
    "            data[(subjectID, timestamp)][fatigue_label] = data[(subjectID, timestamp)][fatigue_label] + ',' + fatigue_score\n",
    "        except KeyError:\n",
    "            data[(subjectID, timestamp)][fatigue_label] = fatigue_score\n",
    "    else:\n",
    "        # no data for this timestamp yet\n",
    "        data[(subjectID, timestamp)] = {\n",
    "            'subjectID': subjectID,\n",
    "            'timestamp': timestamp,\n",
    "            'timezone': timezone,\n",
    "            fatigue_label: fatigue_score\n",
    "        }"
   ],
   "metadata": {
    "collapsed": false,
    "pycharm": {
     "name": "#%%\n"
    }
   }
  },
  {
   "cell_type": "markdown",
   "source": [
    "# Queries"
   ],
   "metadata": {
    "collapsed": false
   }
  },
  {
   "cell_type": "markdown",
   "source": [
    "Note that we sometimes have multiple questionnaires per day"
   ],
   "metadata": {
    "collapsed": false
   }
  },
  {
   "cell_type": "code",
   "execution_count": 62,
   "outputs": [
    {
     "data": {
      "text/plain": "     subjectID       timestamp timezone  VAS    ReIP        phF         MF  \\\n0            1  14.03.19 20:01      UTC  2.0   Worse      Never  Sometimes   \n1            1  15.03.19 20:01      UTC  2.0  Better  Sometimes  Sometimes   \n2            1  16.03.19 20:47      UTC  1.0    Same      Never      Never   \n3            1  17.03.19 20:01      UTC  1.0    Same  Sometimes      Never   \n4            1  18.03.19 20:13      UTC  2.0   Worse  Sometimes      Never   \n..         ...             ...      ...  ...     ...        ...        ...   \n517         28  10.08.18 23:13     CEST  4.0    Same      Never  Sometimes   \n518         28  13.08.18 21:39     CEST  4.0    Same  Sometimes  Regularly   \n519         28  14.08.18 23:27     CEST  6.0   Worse      Never  Sometimes   \n520         28  16.08.18 00:51     CEST  5.0  Better  Sometimes  Sometimes   \n521         28  16.08.18 00:52     CEST  4.0  Better      Never  Sometimes   \n\n    Sport  \n0      No  \n1     Yes  \n2      No  \n3     Yes  \n4     Yes  \n..    ...  \n517   NaN  \n518   NaN  \n519   NaN  \n520   NaN  \n521   NaN  \n\n[522 rows x 8 columns]",
      "text/html": "<div>\n<style scoped>\n    .dataframe tbody tr th:only-of-type {\n        vertical-align: middle;\n    }\n\n    .dataframe tbody tr th {\n        vertical-align: top;\n    }\n\n    .dataframe thead th {\n        text-align: right;\n    }\n</style>\n<table border=\"1\" class=\"dataframe\">\n  <thead>\n    <tr style=\"text-align: right;\">\n      <th></th>\n      <th>subjectID</th>\n      <th>timestamp</th>\n      <th>timezone</th>\n      <th>VAS</th>\n      <th>ReIP</th>\n      <th>phF</th>\n      <th>MF</th>\n      <th>Sport</th>\n    </tr>\n  </thead>\n  <tbody>\n    <tr>\n      <th>0</th>\n      <td>1</td>\n      <td>14.03.19 20:01</td>\n      <td>UTC</td>\n      <td>2.0</td>\n      <td>Worse</td>\n      <td>Never</td>\n      <td>Sometimes</td>\n      <td>No</td>\n    </tr>\n    <tr>\n      <th>1</th>\n      <td>1</td>\n      <td>15.03.19 20:01</td>\n      <td>UTC</td>\n      <td>2.0</td>\n      <td>Better</td>\n      <td>Sometimes</td>\n      <td>Sometimes</td>\n      <td>Yes</td>\n    </tr>\n    <tr>\n      <th>2</th>\n      <td>1</td>\n      <td>16.03.19 20:47</td>\n      <td>UTC</td>\n      <td>1.0</td>\n      <td>Same</td>\n      <td>Never</td>\n      <td>Never</td>\n      <td>No</td>\n    </tr>\n    <tr>\n      <th>3</th>\n      <td>1</td>\n      <td>17.03.19 20:01</td>\n      <td>UTC</td>\n      <td>1.0</td>\n      <td>Same</td>\n      <td>Sometimes</td>\n      <td>Never</td>\n      <td>Yes</td>\n    </tr>\n    <tr>\n      <th>4</th>\n      <td>1</td>\n      <td>18.03.19 20:13</td>\n      <td>UTC</td>\n      <td>2.0</td>\n      <td>Worse</td>\n      <td>Sometimes</td>\n      <td>Never</td>\n      <td>Yes</td>\n    </tr>\n    <tr>\n      <th>...</th>\n      <td>...</td>\n      <td>...</td>\n      <td>...</td>\n      <td>...</td>\n      <td>...</td>\n      <td>...</td>\n      <td>...</td>\n      <td>...</td>\n    </tr>\n    <tr>\n      <th>517</th>\n      <td>28</td>\n      <td>10.08.18 23:13</td>\n      <td>CEST</td>\n      <td>4.0</td>\n      <td>Same</td>\n      <td>Never</td>\n      <td>Sometimes</td>\n      <td>NaN</td>\n    </tr>\n    <tr>\n      <th>518</th>\n      <td>28</td>\n      <td>13.08.18 21:39</td>\n      <td>CEST</td>\n      <td>4.0</td>\n      <td>Same</td>\n      <td>Sometimes</td>\n      <td>Regularly</td>\n      <td>NaN</td>\n    </tr>\n    <tr>\n      <th>519</th>\n      <td>28</td>\n      <td>14.08.18 23:27</td>\n      <td>CEST</td>\n      <td>6.0</td>\n      <td>Worse</td>\n      <td>Never</td>\n      <td>Sometimes</td>\n      <td>NaN</td>\n    </tr>\n    <tr>\n      <th>520</th>\n      <td>28</td>\n      <td>16.08.18 00:51</td>\n      <td>CEST</td>\n      <td>5.0</td>\n      <td>Better</td>\n      <td>Sometimes</td>\n      <td>Sometimes</td>\n      <td>NaN</td>\n    </tr>\n    <tr>\n      <th>521</th>\n      <td>28</td>\n      <td>16.08.18 00:52</td>\n      <td>CEST</td>\n      <td>4.0</td>\n      <td>Better</td>\n      <td>Never</td>\n      <td>Sometimes</td>\n      <td>NaN</td>\n    </tr>\n  </tbody>\n</table>\n<p>522 rows × 8 columns</p>\n</div>"
     },
     "execution_count": 62,
     "metadata": {},
     "output_type": "execute_result"
    }
   ],
   "source": [
    "Y = pd.DataFrame(list(data.values()))\n",
    "Y"
   ],
   "metadata": {
    "collapsed": false,
    "pycharm": {
     "name": "#%%\n"
    }
   }
  },
  {
   "cell_type": "markdown",
   "source": [
    "Multiple answers the same minute"
   ],
   "metadata": {
    "collapsed": false
   }
  },
  {
   "cell_type": "code",
   "execution_count": 64,
   "outputs": [
    {
     "data": {
      "text/plain": "   subjectID       timestamp timezone      VAS        ReIP  \\\n0         24  06.02.18 21:43      CET  1.0,5.0    nan,Same   \n1         24  27.02.18 11:54      CET  7.0,7.0   Same,Same   \n2         24  03.05.18 07:53     CEST  2.0,2.0   Same,Same   \n3         27  06.02.18 21:45      CET  4.0,3.0  Worse,Same   \n\n                   phF                MF Sport  \n0        nan,Sometimes     nan,Sometimes  None  \n1          Often,Often       Often,Often  None  \n2  Sometimes,Sometimes       Never,Never  None  \n3          Often,Often  Regularly,Always  None  ",
      "text/html": "<div>\n<style scoped>\n    .dataframe tbody tr th:only-of-type {\n        vertical-align: middle;\n    }\n\n    .dataframe tbody tr th {\n        vertical-align: top;\n    }\n\n    .dataframe thead th {\n        text-align: right;\n    }\n</style>\n<table border=\"1\" class=\"dataframe\">\n  <thead>\n    <tr style=\"text-align: right;\">\n      <th></th>\n      <th>subjectID</th>\n      <th>timestamp</th>\n      <th>timezone</th>\n      <th>VAS</th>\n      <th>ReIP</th>\n      <th>phF</th>\n      <th>MF</th>\n      <th>Sport</th>\n    </tr>\n  </thead>\n  <tbody>\n    <tr>\n      <th>0</th>\n      <td>24</td>\n      <td>06.02.18 21:43</td>\n      <td>CET</td>\n      <td>1.0,5.0</td>\n      <td>nan,Same</td>\n      <td>nan,Sometimes</td>\n      <td>nan,Sometimes</td>\n      <td>None</td>\n    </tr>\n    <tr>\n      <th>1</th>\n      <td>24</td>\n      <td>27.02.18 11:54</td>\n      <td>CET</td>\n      <td>7.0,7.0</td>\n      <td>Same,Same</td>\n      <td>Often,Often</td>\n      <td>Often,Often</td>\n      <td>None</td>\n    </tr>\n    <tr>\n      <th>2</th>\n      <td>24</td>\n      <td>03.05.18 07:53</td>\n      <td>CEST</td>\n      <td>2.0,2.0</td>\n      <td>Same,Same</td>\n      <td>Sometimes,Sometimes</td>\n      <td>Never,Never</td>\n      <td>None</td>\n    </tr>\n    <tr>\n      <th>3</th>\n      <td>27</td>\n      <td>06.02.18 21:45</td>\n      <td>CET</td>\n      <td>4.0,3.0</td>\n      <td>Worse,Same</td>\n      <td>Often,Often</td>\n      <td>Regularly,Always</td>\n      <td>None</td>\n    </tr>\n  </tbody>\n</table>\n</div>"
     },
     "execution_count": 64,
     "metadata": {},
     "output_type": "execute_result"
    }
   ],
   "source": [
    "query = '''\n",
    "SELECT *\n",
    "FROM Y\n",
    "WHERE VAS LIKE '%,%' OR pHF LIKE '%,%' OR MF LIKE '%,%' OR Sport LIKE '%,%';\n",
    "'''\n",
    "sqldf(query)"
   ],
   "metadata": {
    "collapsed": false,
    "pycharm": {
     "name": "#%%\n"
    }
   }
  },
  {
   "cell_type": "markdown",
   "source": [
    "Multiple answers the same day"
   ],
   "metadata": {
    "collapsed": false
   }
  },
  {
   "cell_type": "code",
   "execution_count": 129,
   "outputs": [
    {
     "data": {
      "text/plain": "    subjectID      date                  VAS  \\\n0           4  30.03.19              3.0,2.0   \n1           5  04.04.19              6.0,2.0   \n2           5  07.04.19              9.0,3.0   \n3           6  05.04.19              2.0,3.0   \n4           8  09.06.19              2.0,1.0   \n5          10  06.05.19              2.0,2.0   \n6          10  08.05.19              2.0,1.0   \n7          10  10.05.19              3.0,2.0   \n8          15  07.06.19              1.0,7.0   \n9          15  09.06.19              1.0,1.0   \n10         15  14.06.19              1.0,1.0   \n11         16  27.05.19              2.0,2.0   \n12         18  29.05.19              1.0,1.0   \n13         18  30.05.19              1.0,1.0   \n14         22  28.05.19              3.0,2.0   \n15         23  06.02.18              4.0,2.0   \n16         23  11.02.18              3.0,3.0   \n17         23  19.02.18              2.0,1.0   \n18         24  06.02.18  5.0,5.0,1.0,5.0,2.0   \n19         24  07.02.18          4.0,3.0,5.0   \n20         24  14.05.18              3.0,4.0   \n21         25  11.02.18              2.0,2.0   \n22         25  20.02.18              1.0,2.0   \n23         25  25.02.18              2.0,2.0   \n24         26  03.08.18              5.0,6.0   \n25         26  05.08.18              6.0,6.0   \n26         26  10.08.18              2.0,8.0   \n27         26  17.02.18              4.0,6.0   \n28         26  21.02.18              6.0,8.0   \n29         26  24.07.18              8.0,6.0   \n30         26  25.02.18              6.0,1.0   \n31         26  26.07.18              7.0,4.0   \n32         26  31.07.18              3.0,3.0   \n33         27  03.03.18              1.0,1.0   \n34         27  09.09.18              3.0,3.0   \n35         27  13.08.18              1.0,1.0   \n36         27  16.08.18              1.0,1.0   \n37         27  22.08.18              1.0,2.0   \n38         27  24.02.18              2.0,1.0   \n39         27  24.08.18              3.0,1.0   \n40         27  27.02.18              3.0,2.0   \n41         28  16.08.18              5.0,4.0   \n\n                                            phF  \\\n0                                   Never,Never   \n1                               Sometimes,Never   \n2                           Sometimes,Sometimes   \n3                           Sometimes,Sometimes   \n4                               Sometimes,Never   \n5                           Sometimes,Sometimes   \n6                               Sometimes,Never   \n7                               Sometimes,Never   \n8                           Sometimes,Sometimes   \n9                                 Sometimes,nan   \n10                              Sometimes,Never   \n11                              Sometimes,Never   \n12                                  Never,Never   \n13                                  Never,Never   \n14                              Never,Sometimes   \n15                          Regularly,Sometimes   \n16                          Sometimes,Sometimes   \n17                                  Never,Never   \n18  Regularly,Regularly,nan,Sometimes,Sometimes   \n19                    Sometimes,Never,Regularly   \n20                          Sometimes,Sometimes   \n21                                  Never,Never   \n22                                  Often,Often   \n23                          Sometimes,Sometimes   \n24                          Sometimes,Regularly   \n25                              Often,Regularly   \n26                             Sometimes,Always   \n27                          Sometimes,Regularly   \n28                              Regularly,Often   \n29                          Sometimes,Sometimes   \n30                              Regularly,Never   \n31                          Regularly,Sometimes   \n32                          Sometimes,Sometimes   \n33                          Sometimes,Sometimes   \n34                          Sometimes,Regularly   \n35                                  Never,Never   \n36                                  Never,Never   \n37                              Never,Sometimes   \n38                          Sometimes,Sometimes   \n39                              Sometimes,Never   \n40                          Regularly,Regularly   \n41                              Sometimes,Never   \n\n                                             MF                      ReIP  \\\n0                                   Never,Never             Better,Better   \n1                               Sometimes,Never             Better,Better   \n2                               Sometimes,Never             Better,Better   \n3                           Sometimes,Sometimes               Better,Same   \n4                                   Never,Never             Better,Better   \n5                                   Never,Never               Better,Same   \n6                                   Never,Never             Better,Better   \n7                               Sometimes,Never              Worse,Better   \n8                                   Never,Never                 Same,Same   \n9                                     Never,nan                 Worse,nan   \n10                              Sometimes,Never                Worse,Same   \n11                          Sometimes,Sometimes                 Same,Same   \n12                                  Never,Never             Better,Better   \n13                                  Never,Never                 Same,Same   \n14                          Sometimes,Sometimes               Better,Same   \n15                              Sometimes,Never             Better,Better   \n16                                  Never,Never                Worse,Same   \n17                                  Never,Never              Worse,Better   \n18  Sometimes,Sometimes,nan,Sometimes,Sometimes  Same,Same,nan,Same,Worse   \n19                    Sometimes,Never,Sometimes           Same,Same,Worse   \n20                          Sometimes,Sometimes               Worse,Worse   \n21                              Never,Sometimes               Better,Same   \n22                                  Never,Never                 Same,Same   \n23                              Never,Sometimes               Better,Same   \n24                          Regularly,Regularly                Same,Worse   \n25                          Sometimes,Sometimes                Worse,Same   \n26                              Sometimes,Often              Better,Worse   \n27                          Regularly,Regularly              Better,Worse   \n28                              Regularly,Often                Same,Worse   \n29                              Often,Sometimes             Better,Better   \n30                          Sometimes,Sometimes               Same,Better   \n31                          Sometimes,Regularly              Worse,Better   \n32                          Sometimes,Sometimes               Better,Same   \n33                                  Never,Never                 Same,Same   \n34                              Never,Sometimes                Same,Worse   \n35                                  Never,Never                 Same,Same   \n36                                  Never,Never                 Same,Same   \n37                              Never,Sometimes                Same,Worse   \n38                              Sometimes,Never              Worse,Better   \n39                              Sometimes,Never              Worse,Better   \n40                                  Never,Never                Worse,Same   \n41                          Sometimes,Sometimes             Better,Better   \n\n      Sport  \n0    No,nan  \n1     No,No  \n2   Yes,Yes  \n3     No,No  \n4     No,No  \n5     No,No  \n6     No,No  \n7     No,No  \n8   Yes,Yes  \n9   Yes,nan  \n10   No,Yes  \n11  Yes,Yes  \n12    No,No  \n13  Yes,Yes  \n14   Yes,No  \n15     None  \n16     None  \n17     None  \n18     None  \n19     None  \n20     None  \n21     None  \n22     None  \n23     None  \n24     None  \n25     None  \n26     None  \n27     None  \n28     None  \n29     None  \n30     None  \n31     None  \n32     None  \n33     None  \n34     None  \n35     None  \n36     None  \n37     None  \n38     None  \n39     None  \n40     None  \n41     None  ",
      "text/html": "<div>\n<style scoped>\n    .dataframe tbody tr th:only-of-type {\n        vertical-align: middle;\n    }\n\n    .dataframe tbody tr th {\n        vertical-align: top;\n    }\n\n    .dataframe thead th {\n        text-align: right;\n    }\n</style>\n<table border=\"1\" class=\"dataframe\">\n  <thead>\n    <tr style=\"text-align: right;\">\n      <th></th>\n      <th>subjectID</th>\n      <th>date</th>\n      <th>VAS</th>\n      <th>phF</th>\n      <th>MF</th>\n      <th>ReIP</th>\n      <th>Sport</th>\n    </tr>\n  </thead>\n  <tbody>\n    <tr>\n      <th>0</th>\n      <td>4</td>\n      <td>30.03.19</td>\n      <td>3.0,2.0</td>\n      <td>Never,Never</td>\n      <td>Never,Never</td>\n      <td>Better,Better</td>\n      <td>No,nan</td>\n    </tr>\n    <tr>\n      <th>1</th>\n      <td>5</td>\n      <td>04.04.19</td>\n      <td>6.0,2.0</td>\n      <td>Sometimes,Never</td>\n      <td>Sometimes,Never</td>\n      <td>Better,Better</td>\n      <td>No,No</td>\n    </tr>\n    <tr>\n      <th>2</th>\n      <td>5</td>\n      <td>07.04.19</td>\n      <td>9.0,3.0</td>\n      <td>Sometimes,Sometimes</td>\n      <td>Sometimes,Never</td>\n      <td>Better,Better</td>\n      <td>Yes,Yes</td>\n    </tr>\n    <tr>\n      <th>3</th>\n      <td>6</td>\n      <td>05.04.19</td>\n      <td>2.0,3.0</td>\n      <td>Sometimes,Sometimes</td>\n      <td>Sometimes,Sometimes</td>\n      <td>Better,Same</td>\n      <td>No,No</td>\n    </tr>\n    <tr>\n      <th>4</th>\n      <td>8</td>\n      <td>09.06.19</td>\n      <td>2.0,1.0</td>\n      <td>Sometimes,Never</td>\n      <td>Never,Never</td>\n      <td>Better,Better</td>\n      <td>No,No</td>\n    </tr>\n    <tr>\n      <th>5</th>\n      <td>10</td>\n      <td>06.05.19</td>\n      <td>2.0,2.0</td>\n      <td>Sometimes,Sometimes</td>\n      <td>Never,Never</td>\n      <td>Better,Same</td>\n      <td>No,No</td>\n    </tr>\n    <tr>\n      <th>6</th>\n      <td>10</td>\n      <td>08.05.19</td>\n      <td>2.0,1.0</td>\n      <td>Sometimes,Never</td>\n      <td>Never,Never</td>\n      <td>Better,Better</td>\n      <td>No,No</td>\n    </tr>\n    <tr>\n      <th>7</th>\n      <td>10</td>\n      <td>10.05.19</td>\n      <td>3.0,2.0</td>\n      <td>Sometimes,Never</td>\n      <td>Sometimes,Never</td>\n      <td>Worse,Better</td>\n      <td>No,No</td>\n    </tr>\n    <tr>\n      <th>8</th>\n      <td>15</td>\n      <td>07.06.19</td>\n      <td>1.0,7.0</td>\n      <td>Sometimes,Sometimes</td>\n      <td>Never,Never</td>\n      <td>Same,Same</td>\n      <td>Yes,Yes</td>\n    </tr>\n    <tr>\n      <th>9</th>\n      <td>15</td>\n      <td>09.06.19</td>\n      <td>1.0,1.0</td>\n      <td>Sometimes,nan</td>\n      <td>Never,nan</td>\n      <td>Worse,nan</td>\n      <td>Yes,nan</td>\n    </tr>\n    <tr>\n      <th>10</th>\n      <td>15</td>\n      <td>14.06.19</td>\n      <td>1.0,1.0</td>\n      <td>Sometimes,Never</td>\n      <td>Sometimes,Never</td>\n      <td>Worse,Same</td>\n      <td>No,Yes</td>\n    </tr>\n    <tr>\n      <th>11</th>\n      <td>16</td>\n      <td>27.05.19</td>\n      <td>2.0,2.0</td>\n      <td>Sometimes,Never</td>\n      <td>Sometimes,Sometimes</td>\n      <td>Same,Same</td>\n      <td>Yes,Yes</td>\n    </tr>\n    <tr>\n      <th>12</th>\n      <td>18</td>\n      <td>29.05.19</td>\n      <td>1.0,1.0</td>\n      <td>Never,Never</td>\n      <td>Never,Never</td>\n      <td>Better,Better</td>\n      <td>No,No</td>\n    </tr>\n    <tr>\n      <th>13</th>\n      <td>18</td>\n      <td>30.05.19</td>\n      <td>1.0,1.0</td>\n      <td>Never,Never</td>\n      <td>Never,Never</td>\n      <td>Same,Same</td>\n      <td>Yes,Yes</td>\n    </tr>\n    <tr>\n      <th>14</th>\n      <td>22</td>\n      <td>28.05.19</td>\n      <td>3.0,2.0</td>\n      <td>Never,Sometimes</td>\n      <td>Sometimes,Sometimes</td>\n      <td>Better,Same</td>\n      <td>Yes,No</td>\n    </tr>\n    <tr>\n      <th>15</th>\n      <td>23</td>\n      <td>06.02.18</td>\n      <td>4.0,2.0</td>\n      <td>Regularly,Sometimes</td>\n      <td>Sometimes,Never</td>\n      <td>Better,Better</td>\n      <td>None</td>\n    </tr>\n    <tr>\n      <th>16</th>\n      <td>23</td>\n      <td>11.02.18</td>\n      <td>3.0,3.0</td>\n      <td>Sometimes,Sometimes</td>\n      <td>Never,Never</td>\n      <td>Worse,Same</td>\n      <td>None</td>\n    </tr>\n    <tr>\n      <th>17</th>\n      <td>23</td>\n      <td>19.02.18</td>\n      <td>2.0,1.0</td>\n      <td>Never,Never</td>\n      <td>Never,Never</td>\n      <td>Worse,Better</td>\n      <td>None</td>\n    </tr>\n    <tr>\n      <th>18</th>\n      <td>24</td>\n      <td>06.02.18</td>\n      <td>5.0,5.0,1.0,5.0,2.0</td>\n      <td>Regularly,Regularly,nan,Sometimes,Sometimes</td>\n      <td>Sometimes,Sometimes,nan,Sometimes,Sometimes</td>\n      <td>Same,Same,nan,Same,Worse</td>\n      <td>None</td>\n    </tr>\n    <tr>\n      <th>19</th>\n      <td>24</td>\n      <td>07.02.18</td>\n      <td>4.0,3.0,5.0</td>\n      <td>Sometimes,Never,Regularly</td>\n      <td>Sometimes,Never,Sometimes</td>\n      <td>Same,Same,Worse</td>\n      <td>None</td>\n    </tr>\n    <tr>\n      <th>20</th>\n      <td>24</td>\n      <td>14.05.18</td>\n      <td>3.0,4.0</td>\n      <td>Sometimes,Sometimes</td>\n      <td>Sometimes,Sometimes</td>\n      <td>Worse,Worse</td>\n      <td>None</td>\n    </tr>\n    <tr>\n      <th>21</th>\n      <td>25</td>\n      <td>11.02.18</td>\n      <td>2.0,2.0</td>\n      <td>Never,Never</td>\n      <td>Never,Sometimes</td>\n      <td>Better,Same</td>\n      <td>None</td>\n    </tr>\n    <tr>\n      <th>22</th>\n      <td>25</td>\n      <td>20.02.18</td>\n      <td>1.0,2.0</td>\n      <td>Often,Often</td>\n      <td>Never,Never</td>\n      <td>Same,Same</td>\n      <td>None</td>\n    </tr>\n    <tr>\n      <th>23</th>\n      <td>25</td>\n      <td>25.02.18</td>\n      <td>2.0,2.0</td>\n      <td>Sometimes,Sometimes</td>\n      <td>Never,Sometimes</td>\n      <td>Better,Same</td>\n      <td>None</td>\n    </tr>\n    <tr>\n      <th>24</th>\n      <td>26</td>\n      <td>03.08.18</td>\n      <td>5.0,6.0</td>\n      <td>Sometimes,Regularly</td>\n      <td>Regularly,Regularly</td>\n      <td>Same,Worse</td>\n      <td>None</td>\n    </tr>\n    <tr>\n      <th>25</th>\n      <td>26</td>\n      <td>05.08.18</td>\n      <td>6.0,6.0</td>\n      <td>Often,Regularly</td>\n      <td>Sometimes,Sometimes</td>\n      <td>Worse,Same</td>\n      <td>None</td>\n    </tr>\n    <tr>\n      <th>26</th>\n      <td>26</td>\n      <td>10.08.18</td>\n      <td>2.0,8.0</td>\n      <td>Sometimes,Always</td>\n      <td>Sometimes,Often</td>\n      <td>Better,Worse</td>\n      <td>None</td>\n    </tr>\n    <tr>\n      <th>27</th>\n      <td>26</td>\n      <td>17.02.18</td>\n      <td>4.0,6.0</td>\n      <td>Sometimes,Regularly</td>\n      <td>Regularly,Regularly</td>\n      <td>Better,Worse</td>\n      <td>None</td>\n    </tr>\n    <tr>\n      <th>28</th>\n      <td>26</td>\n      <td>21.02.18</td>\n      <td>6.0,8.0</td>\n      <td>Regularly,Often</td>\n      <td>Regularly,Often</td>\n      <td>Same,Worse</td>\n      <td>None</td>\n    </tr>\n    <tr>\n      <th>29</th>\n      <td>26</td>\n      <td>24.07.18</td>\n      <td>8.0,6.0</td>\n      <td>Sometimes,Sometimes</td>\n      <td>Often,Sometimes</td>\n      <td>Better,Better</td>\n      <td>None</td>\n    </tr>\n    <tr>\n      <th>30</th>\n      <td>26</td>\n      <td>25.02.18</td>\n      <td>6.0,1.0</td>\n      <td>Regularly,Never</td>\n      <td>Sometimes,Sometimes</td>\n      <td>Same,Better</td>\n      <td>None</td>\n    </tr>\n    <tr>\n      <th>31</th>\n      <td>26</td>\n      <td>26.07.18</td>\n      <td>7.0,4.0</td>\n      <td>Regularly,Sometimes</td>\n      <td>Sometimes,Regularly</td>\n      <td>Worse,Better</td>\n      <td>None</td>\n    </tr>\n    <tr>\n      <th>32</th>\n      <td>26</td>\n      <td>31.07.18</td>\n      <td>3.0,3.0</td>\n      <td>Sometimes,Sometimes</td>\n      <td>Sometimes,Sometimes</td>\n      <td>Better,Same</td>\n      <td>None</td>\n    </tr>\n    <tr>\n      <th>33</th>\n      <td>27</td>\n      <td>03.03.18</td>\n      <td>1.0,1.0</td>\n      <td>Sometimes,Sometimes</td>\n      <td>Never,Never</td>\n      <td>Same,Same</td>\n      <td>None</td>\n    </tr>\n    <tr>\n      <th>34</th>\n      <td>27</td>\n      <td>09.09.18</td>\n      <td>3.0,3.0</td>\n      <td>Sometimes,Regularly</td>\n      <td>Never,Sometimes</td>\n      <td>Same,Worse</td>\n      <td>None</td>\n    </tr>\n    <tr>\n      <th>35</th>\n      <td>27</td>\n      <td>13.08.18</td>\n      <td>1.0,1.0</td>\n      <td>Never,Never</td>\n      <td>Never,Never</td>\n      <td>Same,Same</td>\n      <td>None</td>\n    </tr>\n    <tr>\n      <th>36</th>\n      <td>27</td>\n      <td>16.08.18</td>\n      <td>1.0,1.0</td>\n      <td>Never,Never</td>\n      <td>Never,Never</td>\n      <td>Same,Same</td>\n      <td>None</td>\n    </tr>\n    <tr>\n      <th>37</th>\n      <td>27</td>\n      <td>22.08.18</td>\n      <td>1.0,2.0</td>\n      <td>Never,Sometimes</td>\n      <td>Never,Sometimes</td>\n      <td>Same,Worse</td>\n      <td>None</td>\n    </tr>\n    <tr>\n      <th>38</th>\n      <td>27</td>\n      <td>24.02.18</td>\n      <td>2.0,1.0</td>\n      <td>Sometimes,Sometimes</td>\n      <td>Sometimes,Never</td>\n      <td>Worse,Better</td>\n      <td>None</td>\n    </tr>\n    <tr>\n      <th>39</th>\n      <td>27</td>\n      <td>24.08.18</td>\n      <td>3.0,1.0</td>\n      <td>Sometimes,Never</td>\n      <td>Sometimes,Never</td>\n      <td>Worse,Better</td>\n      <td>None</td>\n    </tr>\n    <tr>\n      <th>40</th>\n      <td>27</td>\n      <td>27.02.18</td>\n      <td>3.0,2.0</td>\n      <td>Regularly,Regularly</td>\n      <td>Never,Never</td>\n      <td>Worse,Same</td>\n      <td>None</td>\n    </tr>\n    <tr>\n      <th>41</th>\n      <td>28</td>\n      <td>16.08.18</td>\n      <td>5.0,4.0</td>\n      <td>Sometimes,Never</td>\n      <td>Sometimes,Sometimes</td>\n      <td>Better,Better</td>\n      <td>None</td>\n    </tr>\n  </tbody>\n</table>\n</div>"
     },
     "execution_count": 129,
     "metadata": {},
     "output_type": "execute_result"
    }
   ],
   "source": [
    "query = '''\n",
    "SELECT subjectID, SUBSTRING(timestamp, 1, 8) AS date, GROUP_CONCAT(VAS) AS VAS, GROUP_CONCAT(phF) AS phF, GROUP_CONCAT(MF) AS MF, GROUP_CONCAT(ReIP) AS ReIP, GROUP_CONCAT(Sport) AS Sport\n",
    "FROM Y\n",
    "GROUP BY subjectID, date\n",
    "HAVING COUNT(*) > 1;'''\n",
    "sqldf(query)"
   ],
   "metadata": {
    "collapsed": false,
    "pycharm": {
     "name": "#%%\n"
    }
   }
  },
  {
   "cell_type": "markdown",
   "source": [
    "# Join data"
   ],
   "metadata": {
    "collapsed": false
   }
  },
  {
   "cell_type": "markdown",
   "source": [
    "Physiological data"
   ],
   "metadata": {
    "collapsed": false
   }
  },
  {
   "cell_type": "code",
   "execution_count": 82,
   "outputs": [],
   "source": [
    "physio = physio.fillna(value='NaN') # otherwise SQL will ignore None values"
   ],
   "metadata": {
    "collapsed": false,
    "pycharm": {
     "name": "#%%\n"
    }
   }
  },
  {
   "cell_type": "code",
   "execution_count": 88,
   "outputs": [],
   "source": [
    "query = '''\n",
    "SELECT SubjectID AS subjectID, SUBSTRING(Timestamp, 1, 8) AS date, GROUP_CONCAT(ActivityCounts) AS ActivityCounts, GROUP_CONCAT(Barometer) AS Barometer, GROUP_CONCAT(BloodPerfusion) AS BloodPerfusion, GROUP_CONCAT(BloodPulseWave) AS BloodPulseWave, GROUP_CONCAT(EnergyExpenditure) AS EnergyExpenditure, GROUP_CONCAT(GalvanicSkinResponse) AS GalvanicSkinResponse, GROUP_CONCAT(HR) AS HR, GROUP_CONCAT(HRV) AS HRV, GROUP_CONCAT(RESP) AS RESP, GROUP_CONCAT(Steps) AS Steps, GROUP_CONCAT(SkinTemperature) AS SkinTemperature, GROUP_CONCAT(ActivityClass) AS ActivityClass\n",
    "FROM physio\n",
    "GROUP BY subjectID, date;'''\n",
    "X = sqldf(query)"
   ],
   "metadata": {
    "collapsed": false,
    "pycharm": {
     "name": "#%%\n"
    }
   }
  },
  {
   "cell_type": "code",
   "execution_count": 89,
   "outputs": [
    {
     "data": {
      "text/plain": "   subjectID      date                                     ActivityCounts  \\\n0          1  14.03.19  0.784313725,1.176470588,2.352941176,1.17647058...   \n1          1  15.03.19  0.784313725,0.784313725,0.784313725,0.78431372...   \n2          1  16.03.19  0.784313725,1.176470588,5.098039216,0.78431372...   \n3          1  17.03.19  0.784313725,0.784313725,0.784313725,0.78431372...   \n4          1  18.03.19  0.784313725,1.176470588,0.784313725,0.78431372...   \n5          1  19.03.19  0.784313725,0.784313725,0.784313725,0.78431372...   \n6          1  20.03.19  0.784313725,0.784313725,0.784313725,0.78431372...   \n7          1  21.03.19  0.784313725,0.784313725,0.784313725,0.78431372...   \n8          2  16.04.19  1.176470588,1.176470588,0.784313725,3.52941176...   \n9          3  21.03.19  1.176470588,1.176470588,1.176470588,1.17647058...   \n\n                                           Barometer  \\\n0  981.25,981.2,981.2,981.1,981.2,981.3,981.2,981...   \n1  984.4,984.5,984.3,984.4,984.3,984.4,984.3,984....   \n2  990.7,990.6,990.7,990.7,990.8,990.75,990.8,990...   \n3  982.15,982.05,982.0,982.0,982.0,982.0,982.0,98...   \n4  988.5,988.6,988.7,988.65,988.5,988.5,988.5,988...   \n5  995.5,995.5,995.5,995.5,995.5,995.5,995.4,995....   \n6  1002.0,1001.9,1001.95,1002.0,1002.0,1002.0,100...   \n7  1003.5,1003.5,1003.5,1003.6,1003.6,1003.6,1003...   \n8  986.8,986.6,986.8,986.7,986.7,986.7,986.7,986....   \n9  997.9,997.9,998.0,998.0,998.0,998.0,998.0,NaN,...   \n\n                                      BloodPerfusion  \\\n0  0.0,0.175,0.19,0.11,0.1,0.09,NaN,NaN,NaN,NaN,N...   \n1  0.875,0.825,0.975,0.98,1.0,0.985,0.96,0.93,0.9...   \n2  1.045,0.79,0.84,0.585,0.415,0.74,0.835,0.835,0...   \n3  1.42,1.47,1.48,1.46,1.49,1.475,1.47,1.46,1.45,...   \n4  1.48,1.49,1.155,1.525,1.38,1.45,1.555,1.41,1.6...   \n5  0.92,0.97,0.97,0.99,0.995,0.975,0.855,0.83,0.9...   \n6  1.27,1.55,1.49,1.515,1.5,1.48,1.485,1.46,1.45,...   \n7  0.78,0.785,0.8,0.8,0.81,0.82,0.82,0.81,0.83,0....   \n8  0.44,0.46,0.71,0.7,0.745,0.78,0.88,0.735,0.81,...   \n9  NaN,0.05,0.07,0.07,0.05,0.04,0.04,NaN,NaN,NaN,...   \n\n                                      BloodPulseWave  \\\n0  0.0,1.9,1.82,1.94,1.68,1.09,NaN,NaN,NaN,NaN,Na...   \n1  2.27,2.18,2.19,2.18,2.02,2.27,2.27,2.49,2.17,2...   \n2  2.32,2.22,2.44,2.18,2.45,2.44,2.24,2.28,2.18,2...   \n3  2.86,2.7,2.73,2.72,2.68,2.9,2.96,3.02,3.08,3.3...   \n4  1.54,1.61,2.18,2.01,1.76,1.76,1.78,1.81,1.5,1....   \n5  1.6,1.55,1.66,1.42,1.53,1.65,1.81,2.23,2.11,2....   \n6  2.0,1.87,1.96,1.92,1.9,1.84,1.9,1.99,1.96,1.89...   \n7  2.54,2.51,2.54,2.54,2.44,2.6,2.62,2.4,2.5,2.51...   \n8  3.0,2.96,2.97,3.24,2.54,2.64,2.62,3.15,3.5,3.1...   \n9  NaN,1.8,1.44,1.45,1.58,1.73,1.72,NaN,NaN,NaN,N...   \n\n                                   EnergyExpenditure  \\\n0  753.6365662,1256.060944,1256.060944,1256.06094...   \n1  1311.85318,1311.85318,1311.85318,1311.85318,13...   \n2  1311.85318,1311.85318,1311.85318,1311.85318,13...   \n3  1311.85318,1311.85318,1311.85318,1311.85318,13...   \n4  1289.98896,1311.85318,1311.85318,1311.85318,13...   \n5  1311.85318,1311.85318,1311.85318,1311.85318,13...   \n6  1311.85318,1311.85318,1311.85318,1311.85318,13...   \n7  1311.85318,1311.85318,1311.85318,1311.85318,13...   \n8  776.4142323,1330.995827,1330.995827,1330.99582...   \n9  88.73305511,1330.995827,1330.995827,1330.99582...   \n\n                                GalvanicSkinResponse  \\\n0  NaN,NaN,NaN,NaN,NaN,NaN,NaN,NaN,NaN,NaN,NaN,Na...   \n1  2.471338889,2.46735,2.466372222,2.4621,2.45465...   \n2  1.172788889,1.171305556,1.061122222,3.09794444...   \n3  2.573777778,2.567694444,2.560622222,2.55622222...   \n4  2.632423729,2.630555556,2.626594444,2.62318333...   \n5  2.708977778,2.695766667,2.687044444,2.67635,2....   \n6  NaN,NaN,NaN,NaN,NaN,NaN,NaN,NaN,NaN,NaN,NaN,Na...   \n7  NaN,NaN,4.994809524,4.985632653,4.950655556,4....   \n8  NaN,NaN,NaN,NaN,NaN,NaN,NaN,NaN,NaN,NaN,NaN,Na...   \n9  NaN,NaN,NaN,NaN,NaN,NaN,NaN,NaN,NaN,NaN,NaN,Na...   \n\n                                                  HR  \\\n0  83.0,75.40363269,69.11265332,69.78116438,72.30...   \n1  67.54923531,57.26287697,55.2253739,58.43175416...   \n2  64.65655738,63.83929024,63.86047157,62.6129328...   \n3  69.66641006,70.49757838,70.17700916,69.3862999...   \n4  57.42528736,59.38585964,65.7858185,58.39290306...   \n5  56.14445575,56.35464231,57.19795658,54.9835939...   \n6  52.63032548,53.35165125,50.74380601,50.8068331...   \n7  65.28477491,65.71710526,65.48634294,65.2672392...   \n8  65.2020202,68.51652893,65.31147541,71.66792672...   \n9  NaN,78.40410418,78.07865169,74.62928055,79.711...   \n\n                                                 HRV  \\\n0  NaN,NaN,NaN,NaN,NaN,NaN,NaN,NaN,NaN,NaN,NaN,Na...   \n1  44.92312073,51.26666667,57.7,58.01666667,57.41...   \n2  31.3815721,34.48333333,36.25,39.48333333,41.9,...   \n3  23.08598131,22.81666667,20.41666667,20.5166666...   \n4  33.69491525,34.18333333,37.91988636,46.85,52.9...   \n5  46.43976494,46.36666667,47.43333333,44.6333333...   \n6  64.95,65.5,67.45484509,66.46666667,60.66617575...   \n7  21.6,22.0,22.0,22.1,22.0,21.38333333,20.55,20....   \n8  NaN,NaN,55.60869565,56.63333333,54.81666667,54...   \n9  NaN,NaN,NaN,NaN,NaN,NaN,NaN,NaN,NaN,NaN,NaN,Na...   \n\n                                                RESP  \\\n0  NaN,NaN,14.5625,12.17552786,12.531234,14.69469...   \n1  14.34420472,14.21430416,12.45540139,14.6309642...   \n2  15.03026316,15.03544724,12.88235294,12.5884458...   \n3  14.23136959,13.68923699,16.7,16.6549496,13.494...   \n4  15.35642063,14.75081392,14.21644803,10.5670285...   \n5  13.76580566,14.66740631,14.63070847,15.0659286...   \n6  12.61840121,13.39650074,13.60103118,14.1496332...   \n7  16.19938493,14.53333333,15.303368,16.1539437,1...   \n8  16.0,15.41666667,13.57201965,11.98377388,15.46...   \n9  NaN,23.76666667,15.9504668,11.81666667,14.5336...   \n\n                                               Steps  \\\n0  0.0,0.0,0.0,0.0,0.0,0.0,0.0,0.0,0.0,0.0,NaN,0....   \n1  0.0,0.0,0.0,0.0,0.0,0.0,0.0,0.0,0.0,0.0,0.0,0....   \n2  0.0,0.0,0.0,0.0,0.0,0.0,0.0,0.0,0.0,0.0,0.0,0....   \n3  0.0,0.0,0.0,0.0,0.0,0.0,0.0,0.0,0.0,0.0,0.0,0....   \n4  0.0,0.0,0.0,0.0,0.0,0.0,0.0,0.0,0.0,0.0,0.0,0....   \n5  0.0,0.0,0.0,0.0,0.0,0.0,0.0,0.0,0.0,0.0,0.0,0....   \n6  0.0,0.0,0.0,0.0,0.0,0.0,0.0,0.0,0.0,0.0,0.0,0....   \n7  0.0,0.0,0.0,0.0,0.0,0.0,0.0,0.0,0.0,0.0,0.0,0....   \n8  0.0,0.0,0.0,0.0,0.0,0.0,0.0,11.0,0.0,0.0,49.0,...   \n9  0.0,0.0,0.0,0.0,0.0,0.0,0.0,NaN,NaN,NaN,0.0,0....   \n\n                                     SkinTemperature  \\\n0  28.28,29.44,30.41,31.0,31.455,31.795,32.22,31....   \n1  36.13,36.19,36.25,36.31,36.44,36.5,36.59,36.69...   \n2  34.34,34.38,34.38,34.455,34.16,34.06,34.19,34....   \n3  35.63,35.63,35.44,35.41,35.38,35.38,35.38,35.3...   \n4  36.94,36.97,36.97,36.69,36.53,36.34,36.19,35.9...   \n5  33.91,33.84,33.81,33.81,33.78,33.78,33.72,33.9...   \n6  35.72,35.56,35.36,35.19,35.0,34.84,34.75,34.59...   \n7  36.59,36.69,36.75,36.81,36.91,36.97,37.03,37.0...   \n8  33.34,33.19,33.09,33.03,32.97,32.97,33.0,33.03...   \n9  31.205,31.455,32.31,32.75,33.19,33.425,33.56,N...   \n\n                                       ActivityClass  \n0  NaN,NaN,NaN,NaN,NaN,NaN,NaN,NaN,NaN,NaN,NaN,Na...  \n1  NaN,NaN,NaN,NaN,NaN,NaN,NaN,NaN,NaN,NaN,NaN,Na...  \n2  NaN,NaN,NaN,NaN,NaN,NaN,NaN,NaN,NaN,NaN,NaN,Na...  \n3  NaN,NaN,NaN,NaN,NaN,NaN,NaN,NaN,NaN,NaN,NaN,Na...  \n4  NaN,NaN,NaN,NaN,NaN,NaN,NaN,NaN,NaN,NaN,NaN,Na...  \n5  NaN,NaN,NaN,NaN,NaN,NaN,NaN,NaN,NaN,NaN,NaN,Na...  \n6  NaN,NaN,NaN,NaN,NaN,NaN,NaN,NaN,NaN,NaN,NaN,Na...  \n7  NaN,NaN,NaN,NaN,NaN,NaN,NaN,NaN,NaN,NaN,NaN,Na...  \n8  NaN,NaN,NaN,NaN,NaN,NaN,NaN,NaN,NaN,NaN,NaN,Na...  \n9  NaN,NaN,NaN,NaN,NaN,NaN,NaN,NaN,NaN,NaN,NaN,Na...  ",
      "text/html": "<div>\n<style scoped>\n    .dataframe tbody tr th:only-of-type {\n        vertical-align: middle;\n    }\n\n    .dataframe tbody tr th {\n        vertical-align: top;\n    }\n\n    .dataframe thead th {\n        text-align: right;\n    }\n</style>\n<table border=\"1\" class=\"dataframe\">\n  <thead>\n    <tr style=\"text-align: right;\">\n      <th></th>\n      <th>subjectID</th>\n      <th>date</th>\n      <th>ActivityCounts</th>\n      <th>Barometer</th>\n      <th>BloodPerfusion</th>\n      <th>BloodPulseWave</th>\n      <th>EnergyExpenditure</th>\n      <th>GalvanicSkinResponse</th>\n      <th>HR</th>\n      <th>HRV</th>\n      <th>RESP</th>\n      <th>Steps</th>\n      <th>SkinTemperature</th>\n      <th>ActivityClass</th>\n    </tr>\n  </thead>\n  <tbody>\n    <tr>\n      <th>0</th>\n      <td>1</td>\n      <td>14.03.19</td>\n      <td>0.784313725,1.176470588,2.352941176,1.17647058...</td>\n      <td>981.25,981.2,981.2,981.1,981.2,981.3,981.2,981...</td>\n      <td>0.0,0.175,0.19,0.11,0.1,0.09,NaN,NaN,NaN,NaN,N...</td>\n      <td>0.0,1.9,1.82,1.94,1.68,1.09,NaN,NaN,NaN,NaN,Na...</td>\n      <td>753.6365662,1256.060944,1256.060944,1256.06094...</td>\n      <td>NaN,NaN,NaN,NaN,NaN,NaN,NaN,NaN,NaN,NaN,NaN,Na...</td>\n      <td>83.0,75.40363269,69.11265332,69.78116438,72.30...</td>\n      <td>NaN,NaN,NaN,NaN,NaN,NaN,NaN,NaN,NaN,NaN,NaN,Na...</td>\n      <td>NaN,NaN,14.5625,12.17552786,12.531234,14.69469...</td>\n      <td>0.0,0.0,0.0,0.0,0.0,0.0,0.0,0.0,0.0,0.0,NaN,0....</td>\n      <td>28.28,29.44,30.41,31.0,31.455,31.795,32.22,31....</td>\n      <td>NaN,NaN,NaN,NaN,NaN,NaN,NaN,NaN,NaN,NaN,NaN,Na...</td>\n    </tr>\n    <tr>\n      <th>1</th>\n      <td>1</td>\n      <td>15.03.19</td>\n      <td>0.784313725,0.784313725,0.784313725,0.78431372...</td>\n      <td>984.4,984.5,984.3,984.4,984.3,984.4,984.3,984....</td>\n      <td>0.875,0.825,0.975,0.98,1.0,0.985,0.96,0.93,0.9...</td>\n      <td>2.27,2.18,2.19,2.18,2.02,2.27,2.27,2.49,2.17,2...</td>\n      <td>1311.85318,1311.85318,1311.85318,1311.85318,13...</td>\n      <td>2.471338889,2.46735,2.466372222,2.4621,2.45465...</td>\n      <td>67.54923531,57.26287697,55.2253739,58.43175416...</td>\n      <td>44.92312073,51.26666667,57.7,58.01666667,57.41...</td>\n      <td>14.34420472,14.21430416,12.45540139,14.6309642...</td>\n      <td>0.0,0.0,0.0,0.0,0.0,0.0,0.0,0.0,0.0,0.0,0.0,0....</td>\n      <td>36.13,36.19,36.25,36.31,36.44,36.5,36.59,36.69...</td>\n      <td>NaN,NaN,NaN,NaN,NaN,NaN,NaN,NaN,NaN,NaN,NaN,Na...</td>\n    </tr>\n    <tr>\n      <th>2</th>\n      <td>1</td>\n      <td>16.03.19</td>\n      <td>0.784313725,1.176470588,5.098039216,0.78431372...</td>\n      <td>990.7,990.6,990.7,990.7,990.8,990.75,990.8,990...</td>\n      <td>1.045,0.79,0.84,0.585,0.415,0.74,0.835,0.835,0...</td>\n      <td>2.32,2.22,2.44,2.18,2.45,2.44,2.24,2.28,2.18,2...</td>\n      <td>1311.85318,1311.85318,1311.85318,1311.85318,13...</td>\n      <td>1.172788889,1.171305556,1.061122222,3.09794444...</td>\n      <td>64.65655738,63.83929024,63.86047157,62.6129328...</td>\n      <td>31.3815721,34.48333333,36.25,39.48333333,41.9,...</td>\n      <td>15.03026316,15.03544724,12.88235294,12.5884458...</td>\n      <td>0.0,0.0,0.0,0.0,0.0,0.0,0.0,0.0,0.0,0.0,0.0,0....</td>\n      <td>34.34,34.38,34.38,34.455,34.16,34.06,34.19,34....</td>\n      <td>NaN,NaN,NaN,NaN,NaN,NaN,NaN,NaN,NaN,NaN,NaN,Na...</td>\n    </tr>\n    <tr>\n      <th>3</th>\n      <td>1</td>\n      <td>17.03.19</td>\n      <td>0.784313725,0.784313725,0.784313725,0.78431372...</td>\n      <td>982.15,982.05,982.0,982.0,982.0,982.0,982.0,98...</td>\n      <td>1.42,1.47,1.48,1.46,1.49,1.475,1.47,1.46,1.45,...</td>\n      <td>2.86,2.7,2.73,2.72,2.68,2.9,2.96,3.02,3.08,3.3...</td>\n      <td>1311.85318,1311.85318,1311.85318,1311.85318,13...</td>\n      <td>2.573777778,2.567694444,2.560622222,2.55622222...</td>\n      <td>69.66641006,70.49757838,70.17700916,69.3862999...</td>\n      <td>23.08598131,22.81666667,20.41666667,20.5166666...</td>\n      <td>14.23136959,13.68923699,16.7,16.6549496,13.494...</td>\n      <td>0.0,0.0,0.0,0.0,0.0,0.0,0.0,0.0,0.0,0.0,0.0,0....</td>\n      <td>35.63,35.63,35.44,35.41,35.38,35.38,35.38,35.3...</td>\n      <td>NaN,NaN,NaN,NaN,NaN,NaN,NaN,NaN,NaN,NaN,NaN,Na...</td>\n    </tr>\n    <tr>\n      <th>4</th>\n      <td>1</td>\n      <td>18.03.19</td>\n      <td>0.784313725,1.176470588,0.784313725,0.78431372...</td>\n      <td>988.5,988.6,988.7,988.65,988.5,988.5,988.5,988...</td>\n      <td>1.48,1.49,1.155,1.525,1.38,1.45,1.555,1.41,1.6...</td>\n      <td>1.54,1.61,2.18,2.01,1.76,1.76,1.78,1.81,1.5,1....</td>\n      <td>1289.98896,1311.85318,1311.85318,1311.85318,13...</td>\n      <td>2.632423729,2.630555556,2.626594444,2.62318333...</td>\n      <td>57.42528736,59.38585964,65.7858185,58.39290306...</td>\n      <td>33.69491525,34.18333333,37.91988636,46.85,52.9...</td>\n      <td>15.35642063,14.75081392,14.21644803,10.5670285...</td>\n      <td>0.0,0.0,0.0,0.0,0.0,0.0,0.0,0.0,0.0,0.0,0.0,0....</td>\n      <td>36.94,36.97,36.97,36.69,36.53,36.34,36.19,35.9...</td>\n      <td>NaN,NaN,NaN,NaN,NaN,NaN,NaN,NaN,NaN,NaN,NaN,Na...</td>\n    </tr>\n    <tr>\n      <th>5</th>\n      <td>1</td>\n      <td>19.03.19</td>\n      <td>0.784313725,0.784313725,0.784313725,0.78431372...</td>\n      <td>995.5,995.5,995.5,995.5,995.5,995.5,995.4,995....</td>\n      <td>0.92,0.97,0.97,0.99,0.995,0.975,0.855,0.83,0.9...</td>\n      <td>1.6,1.55,1.66,1.42,1.53,1.65,1.81,2.23,2.11,2....</td>\n      <td>1311.85318,1311.85318,1311.85318,1311.85318,13...</td>\n      <td>2.708977778,2.695766667,2.687044444,2.67635,2....</td>\n      <td>56.14445575,56.35464231,57.19795658,54.9835939...</td>\n      <td>46.43976494,46.36666667,47.43333333,44.6333333...</td>\n      <td>13.76580566,14.66740631,14.63070847,15.0659286...</td>\n      <td>0.0,0.0,0.0,0.0,0.0,0.0,0.0,0.0,0.0,0.0,0.0,0....</td>\n      <td>33.91,33.84,33.81,33.81,33.78,33.78,33.72,33.9...</td>\n      <td>NaN,NaN,NaN,NaN,NaN,NaN,NaN,NaN,NaN,NaN,NaN,Na...</td>\n    </tr>\n    <tr>\n      <th>6</th>\n      <td>1</td>\n      <td>20.03.19</td>\n      <td>0.784313725,0.784313725,0.784313725,0.78431372...</td>\n      <td>1002.0,1001.9,1001.95,1002.0,1002.0,1002.0,100...</td>\n      <td>1.27,1.55,1.49,1.515,1.5,1.48,1.485,1.46,1.45,...</td>\n      <td>2.0,1.87,1.96,1.92,1.9,1.84,1.9,1.99,1.96,1.89...</td>\n      <td>1311.85318,1311.85318,1311.85318,1311.85318,13...</td>\n      <td>NaN,NaN,NaN,NaN,NaN,NaN,NaN,NaN,NaN,NaN,NaN,Na...</td>\n      <td>52.63032548,53.35165125,50.74380601,50.8068331...</td>\n      <td>64.95,65.5,67.45484509,66.46666667,60.66617575...</td>\n      <td>12.61840121,13.39650074,13.60103118,14.1496332...</td>\n      <td>0.0,0.0,0.0,0.0,0.0,0.0,0.0,0.0,0.0,0.0,0.0,0....</td>\n      <td>35.72,35.56,35.36,35.19,35.0,34.84,34.75,34.59...</td>\n      <td>NaN,NaN,NaN,NaN,NaN,NaN,NaN,NaN,NaN,NaN,NaN,Na...</td>\n    </tr>\n    <tr>\n      <th>7</th>\n      <td>1</td>\n      <td>21.03.19</td>\n      <td>0.784313725,0.784313725,0.784313725,0.78431372...</td>\n      <td>1003.5,1003.5,1003.5,1003.6,1003.6,1003.6,1003...</td>\n      <td>0.78,0.785,0.8,0.8,0.81,0.82,0.82,0.81,0.83,0....</td>\n      <td>2.54,2.51,2.54,2.54,2.44,2.6,2.62,2.4,2.5,2.51...</td>\n      <td>1311.85318,1311.85318,1311.85318,1311.85318,13...</td>\n      <td>NaN,NaN,4.994809524,4.985632653,4.950655556,4....</td>\n      <td>65.28477491,65.71710526,65.48634294,65.2672392...</td>\n      <td>21.6,22.0,22.0,22.1,22.0,21.38333333,20.55,20....</td>\n      <td>16.19938493,14.53333333,15.303368,16.1539437,1...</td>\n      <td>0.0,0.0,0.0,0.0,0.0,0.0,0.0,0.0,0.0,0.0,0.0,0....</td>\n      <td>36.59,36.69,36.75,36.81,36.91,36.97,37.03,37.0...</td>\n      <td>NaN,NaN,NaN,NaN,NaN,NaN,NaN,NaN,NaN,NaN,NaN,Na...</td>\n    </tr>\n    <tr>\n      <th>8</th>\n      <td>2</td>\n      <td>16.04.19</td>\n      <td>1.176470588,1.176470588,0.784313725,3.52941176...</td>\n      <td>986.8,986.6,986.8,986.7,986.7,986.7,986.7,986....</td>\n      <td>0.44,0.46,0.71,0.7,0.745,0.78,0.88,0.735,0.81,...</td>\n      <td>3.0,2.96,2.97,3.24,2.54,2.64,2.62,3.15,3.5,3.1...</td>\n      <td>776.4142323,1330.995827,1330.995827,1330.99582...</td>\n      <td>NaN,NaN,NaN,NaN,NaN,NaN,NaN,NaN,NaN,NaN,NaN,Na...</td>\n      <td>65.2020202,68.51652893,65.31147541,71.66792672...</td>\n      <td>NaN,NaN,55.60869565,56.63333333,54.81666667,54...</td>\n      <td>16.0,15.41666667,13.57201965,11.98377388,15.46...</td>\n      <td>0.0,0.0,0.0,0.0,0.0,0.0,0.0,11.0,0.0,0.0,49.0,...</td>\n      <td>33.34,33.19,33.09,33.03,32.97,32.97,33.0,33.03...</td>\n      <td>NaN,NaN,NaN,NaN,NaN,NaN,NaN,NaN,NaN,NaN,NaN,Na...</td>\n    </tr>\n    <tr>\n      <th>9</th>\n      <td>3</td>\n      <td>21.03.19</td>\n      <td>1.176470588,1.176470588,1.176470588,1.17647058...</td>\n      <td>997.9,997.9,998.0,998.0,998.0,998.0,998.0,NaN,...</td>\n      <td>NaN,0.05,0.07,0.07,0.05,0.04,0.04,NaN,NaN,NaN,...</td>\n      <td>NaN,1.8,1.44,1.45,1.58,1.73,1.72,NaN,NaN,NaN,N...</td>\n      <td>88.73305511,1330.995827,1330.995827,1330.99582...</td>\n      <td>NaN,NaN,NaN,NaN,NaN,NaN,NaN,NaN,NaN,NaN,NaN,Na...</td>\n      <td>NaN,78.40410418,78.07865169,74.62928055,79.711...</td>\n      <td>NaN,NaN,NaN,NaN,NaN,NaN,NaN,NaN,NaN,NaN,NaN,Na...</td>\n      <td>NaN,23.76666667,15.9504668,11.81666667,14.5336...</td>\n      <td>0.0,0.0,0.0,0.0,0.0,0.0,0.0,NaN,NaN,NaN,0.0,0....</td>\n      <td>31.205,31.455,32.31,32.75,33.19,33.425,33.56,N...</td>\n      <td>NaN,NaN,NaN,NaN,NaN,NaN,NaN,NaN,NaN,NaN,NaN,Na...</td>\n    </tr>\n  </tbody>\n</table>\n</div>"
     },
     "execution_count": 89,
     "metadata": {},
     "output_type": "execute_result"
    }
   ],
   "source": [
    "query = '''\n",
    "SELECT *\n",
    "FROM X\n",
    "LIMIT 10;'''\n",
    "sqldf(query)"
   ],
   "metadata": {
    "collapsed": false,
    "pycharm": {
     "name": "#%%\n"
    }
   }
  },
  {
   "cell_type": "markdown",
   "source": [
    "Fatigue (PROs) data"
   ],
   "metadata": {
    "collapsed": false
   }
  },
  {
   "cell_type": "code",
   "execution_count": 148,
   "outputs": [],
   "source": [
    "Y = Y.fillna(value='NaN') # otherwise SQL will ignore None values"
   ],
   "metadata": {
    "collapsed": false,
    "pycharm": {
     "name": "#%%\n"
    }
   }
  },
  {
   "cell_type": "code",
   "execution_count": 106,
   "outputs": [
    {
     "data": {
      "text/plain": "   subjectID       timestamp timezone  VAS    ReIP        phF         MF Sport\n0          1  14.03.19 20:01      UTC  2.0   Worse      Never  Sometimes    No\n1          1  15.03.19 20:01      UTC  2.0  Better  Sometimes  Sometimes   Yes\n2          1  16.03.19 20:47      UTC  1.0    Same      Never      Never    No\n3          1  17.03.19 20:01      UTC  1.0    Same  Sometimes      Never   Yes\n4          1  18.03.19 20:13      UTC  2.0   Worse  Sometimes      Never   Yes\n5          1  20.03.19 20:21      UTC  3.0   Worse  Sometimes  Sometimes   Yes\n6          1  21.03.19 13:05      UTC  1.0  Better      Never      Never    No\n7          2  16.04.19 20:03      UTC  3.0  Better      Never      Never    No\n8          2  17.04.19 21:00      UTC  3.0    Same      Never  Sometimes    No\n9          2  18.04.19 20:33      UTC  4.0    Same  Sometimes      Never   Yes",
      "text/html": "<div>\n<style scoped>\n    .dataframe tbody tr th:only-of-type {\n        vertical-align: middle;\n    }\n\n    .dataframe tbody tr th {\n        vertical-align: top;\n    }\n\n    .dataframe thead th {\n        text-align: right;\n    }\n</style>\n<table border=\"1\" class=\"dataframe\">\n  <thead>\n    <tr style=\"text-align: right;\">\n      <th></th>\n      <th>subjectID</th>\n      <th>timestamp</th>\n      <th>timezone</th>\n      <th>VAS</th>\n      <th>ReIP</th>\n      <th>phF</th>\n      <th>MF</th>\n      <th>Sport</th>\n    </tr>\n  </thead>\n  <tbody>\n    <tr>\n      <th>0</th>\n      <td>1</td>\n      <td>14.03.19 20:01</td>\n      <td>UTC</td>\n      <td>2.0</td>\n      <td>Worse</td>\n      <td>Never</td>\n      <td>Sometimes</td>\n      <td>No</td>\n    </tr>\n    <tr>\n      <th>1</th>\n      <td>1</td>\n      <td>15.03.19 20:01</td>\n      <td>UTC</td>\n      <td>2.0</td>\n      <td>Better</td>\n      <td>Sometimes</td>\n      <td>Sometimes</td>\n      <td>Yes</td>\n    </tr>\n    <tr>\n      <th>2</th>\n      <td>1</td>\n      <td>16.03.19 20:47</td>\n      <td>UTC</td>\n      <td>1.0</td>\n      <td>Same</td>\n      <td>Never</td>\n      <td>Never</td>\n      <td>No</td>\n    </tr>\n    <tr>\n      <th>3</th>\n      <td>1</td>\n      <td>17.03.19 20:01</td>\n      <td>UTC</td>\n      <td>1.0</td>\n      <td>Same</td>\n      <td>Sometimes</td>\n      <td>Never</td>\n      <td>Yes</td>\n    </tr>\n    <tr>\n      <th>4</th>\n      <td>1</td>\n      <td>18.03.19 20:13</td>\n      <td>UTC</td>\n      <td>2.0</td>\n      <td>Worse</td>\n      <td>Sometimes</td>\n      <td>Never</td>\n      <td>Yes</td>\n    </tr>\n    <tr>\n      <th>5</th>\n      <td>1</td>\n      <td>20.03.19 20:21</td>\n      <td>UTC</td>\n      <td>3.0</td>\n      <td>Worse</td>\n      <td>Sometimes</td>\n      <td>Sometimes</td>\n      <td>Yes</td>\n    </tr>\n    <tr>\n      <th>6</th>\n      <td>1</td>\n      <td>21.03.19 13:05</td>\n      <td>UTC</td>\n      <td>1.0</td>\n      <td>Better</td>\n      <td>Never</td>\n      <td>Never</td>\n      <td>No</td>\n    </tr>\n    <tr>\n      <th>7</th>\n      <td>2</td>\n      <td>16.04.19 20:03</td>\n      <td>UTC</td>\n      <td>3.0</td>\n      <td>Better</td>\n      <td>Never</td>\n      <td>Never</td>\n      <td>No</td>\n    </tr>\n    <tr>\n      <th>8</th>\n      <td>2</td>\n      <td>17.04.19 21:00</td>\n      <td>UTC</td>\n      <td>3.0</td>\n      <td>Same</td>\n      <td>Never</td>\n      <td>Sometimes</td>\n      <td>No</td>\n    </tr>\n    <tr>\n      <th>9</th>\n      <td>2</td>\n      <td>18.04.19 20:33</td>\n      <td>UTC</td>\n      <td>4.0</td>\n      <td>Same</td>\n      <td>Sometimes</td>\n      <td>Never</td>\n      <td>Yes</td>\n    </tr>\n  </tbody>\n</table>\n</div>"
     },
     "execution_count": 106,
     "metadata": {},
     "output_type": "execute_result"
    }
   ],
   "source": [
    "query = '''\n",
    "SELECT *\n",
    "FROM Y\n",
    "LIMIT 10;\n",
    "'''\n",
    "sqldf(query)"
   ],
   "metadata": {
    "collapsed": false,
    "pycharm": {
     "name": "#%%\n"
    }
   }
  },
  {
   "cell_type": "code",
   "execution_count": 111,
   "outputs": [
    {
     "data": {
      "text/plain": "   subjectID       timestamp timezone      VAS        ReIP  \\\n0         24  06.02.18 21:43      CET  1.0,5.0    nan,Same   \n1         24  27.02.18 11:54      CET  7.0,7.0   Same,Same   \n2         24  03.05.18 07:53     CEST  2.0,2.0   Same,Same   \n3         27  06.02.18 21:45      CET  4.0,3.0  Worse,Same   \n\n                   phF                MF Sport  \n0        nan,Sometimes     nan,Sometimes  None  \n1          Often,Often       Often,Often  None  \n2  Sometimes,Sometimes       Never,Never  None  \n3          Often,Often  Regularly,Always  None  ",
      "text/html": "<div>\n<style scoped>\n    .dataframe tbody tr th:only-of-type {\n        vertical-align: middle;\n    }\n\n    .dataframe tbody tr th {\n        vertical-align: top;\n    }\n\n    .dataframe thead th {\n        text-align: right;\n    }\n</style>\n<table border=\"1\" class=\"dataframe\">\n  <thead>\n    <tr style=\"text-align: right;\">\n      <th></th>\n      <th>subjectID</th>\n      <th>timestamp</th>\n      <th>timezone</th>\n      <th>VAS</th>\n      <th>ReIP</th>\n      <th>phF</th>\n      <th>MF</th>\n      <th>Sport</th>\n    </tr>\n  </thead>\n  <tbody>\n    <tr>\n      <th>0</th>\n      <td>24</td>\n      <td>06.02.18 21:43</td>\n      <td>CET</td>\n      <td>1.0,5.0</td>\n      <td>nan,Same</td>\n      <td>nan,Sometimes</td>\n      <td>nan,Sometimes</td>\n      <td>None</td>\n    </tr>\n    <tr>\n      <th>1</th>\n      <td>24</td>\n      <td>27.02.18 11:54</td>\n      <td>CET</td>\n      <td>7.0,7.0</td>\n      <td>Same,Same</td>\n      <td>Often,Often</td>\n      <td>Often,Often</td>\n      <td>None</td>\n    </tr>\n    <tr>\n      <th>2</th>\n      <td>24</td>\n      <td>03.05.18 07:53</td>\n      <td>CEST</td>\n      <td>2.0,2.0</td>\n      <td>Same,Same</td>\n      <td>Sometimes,Sometimes</td>\n      <td>Never,Never</td>\n      <td>None</td>\n    </tr>\n    <tr>\n      <th>3</th>\n      <td>27</td>\n      <td>06.02.18 21:45</td>\n      <td>CET</td>\n      <td>4.0,3.0</td>\n      <td>Worse,Same</td>\n      <td>Often,Often</td>\n      <td>Regularly,Always</td>\n      <td>None</td>\n    </tr>\n  </tbody>\n</table>\n</div>"
     },
     "execution_count": 111,
     "metadata": {},
     "output_type": "execute_result"
    }
   ],
   "source": [
    "query = '''\n",
    "SELECT *\n",
    "FROM Y\n",
    "WHERE VAS LIKE '%,%' OR pHF LIKE '%,%' OR MF LIKE '%,%' OR Sport LIKE '%,%';\n",
    "'''\n",
    "sqldf(query)"
   ],
   "metadata": {
    "collapsed": false,
    "pycharm": {
     "name": "#%%\n"
    }
   }
  },
  {
   "cell_type": "code",
   "execution_count": null,
   "outputs": [],
   "source": [],
   "metadata": {
    "collapsed": false,
    "pycharm": {
     "name": "#%%\n"
    }
   }
  },
  {
   "cell_type": "code",
   "execution_count": null,
   "outputs": [],
   "source": [],
   "metadata": {
    "collapsed": false,
    "pycharm": {
     "name": "#%%\n"
    }
   }
  },
  {
   "cell_type": "code",
   "execution_count": null,
   "outputs": [],
   "source": [],
   "metadata": {
    "collapsed": false,
    "pycharm": {
     "name": "#%%\n"
    }
   }
  },
  {
   "cell_type": "code",
   "execution_count": null,
   "outputs": [],
   "source": [],
   "metadata": {
    "collapsed": false,
    "pycharm": {
     "name": "#%%\n"
    }
   }
  },
  {
   "cell_type": "code",
   "execution_count": null,
   "outputs": [],
   "source": [],
   "metadata": {
    "collapsed": false,
    "pycharm": {
     "name": "#%%\n"
    }
   }
  },
  {
   "cell_type": "code",
   "execution_count": null,
   "outputs": [],
   "source": [],
   "metadata": {
    "collapsed": false,
    "pycharm": {
     "name": "#%%\n"
    }
   }
  },
  {
   "cell_type": "code",
   "execution_count": null,
   "outputs": [],
   "source": [],
   "metadata": {
    "collapsed": false,
    "pycharm": {
     "name": "#%%\n"
    }
   }
  },
  {
   "cell_type": "code",
   "execution_count": null,
   "outputs": [],
   "source": [],
   "metadata": {
    "collapsed": false,
    "pycharm": {
     "name": "#%%\n"
    }
   }
  },
  {
   "cell_type": "code",
   "execution_count": null,
   "outputs": [],
   "source": [],
   "metadata": {
    "collapsed": false,
    "pycharm": {
     "name": "#%%\n"
    }
   }
  },
  {
   "cell_type": "code",
   "execution_count": null,
   "outputs": [],
   "source": [],
   "metadata": {
    "collapsed": false,
    "pycharm": {
     "name": "#%%\n"
    }
   }
  },
  {
   "cell_type": "code",
   "execution_count": null,
   "outputs": [],
   "source": [],
   "metadata": {
    "collapsed": false,
    "pycharm": {
     "name": "#%%\n"
    }
   }
  },
  {
   "cell_type": "code",
   "execution_count": null,
   "outputs": [],
   "source": [],
   "metadata": {
    "collapsed": false,
    "pycharm": {
     "name": "#%%\n"
    }
   }
  },
  {
   "cell_type": "code",
   "execution_count": null,
   "outputs": [],
   "source": [],
   "metadata": {
    "collapsed": false,
    "pycharm": {
     "name": "#%%\n"
    }
   }
  },
  {
   "cell_type": "code",
   "execution_count": null,
   "outputs": [],
   "source": [],
   "metadata": {
    "collapsed": false,
    "pycharm": {
     "name": "#%%\n"
    }
   }
  },
  {
   "cell_type": "markdown",
   "source": [
    "Combine same day data"
   ],
   "metadata": {
    "collapsed": false
   }
  },
  {
   "cell_type": "code",
   "execution_count": 167,
   "outputs": [
    {
     "data": {
      "text/plain": "     subjectID      date timezone                  VAS                  ReIP  \\\n0           24  06.02.18      CET  5.0,5.0,1.0,5.0,2.0  Same,Same,Same,Worse   \n1           24  07.02.18      CET          4.0,3.0,5.0       Same,Same,Worse   \n2            4  30.03.19      UTC              3.0,2.0         Better,Better   \n3            5  04.04.19      UTC              6.0,2.0         Better,Better   \n4            5  07.04.19      UTC              9.0,3.0         Better,Better   \n..         ...       ...      ...                  ...                   ...   \n472         27  31.08.18     CEST                  3.0                 Worse   \n473         28  09.08.18     CEST                  5.0                  Same   \n474         28  10.08.18     CEST                  4.0                  Same   \n475         28  13.08.18     CEST                  4.0                  Same   \n476         28  14.08.18     CEST                  6.0                 Worse   \n\n                                         phF  \\\n0    Regularly,Regularly,Sometimes,Sometimes   \n1                  Sometimes,Never,Regularly   \n2                                Never,Never   \n3                            Sometimes,Never   \n4                        Sometimes,Sometimes   \n..                                       ...   \n472                                Sometimes   \n473                                    Never   \n474                                    Never   \n475                                Sometimes   \n476                                    Never   \n\n                                          MF    Sport  n_answers  \n0    Sometimes,Sometimes,Sometimes,Sometimes     None         20  \n1                  Sometimes,Never,Sometimes     None         12  \n2                                Never,Never       No         10  \n3                            Sometimes,Never    No,No         10  \n4                            Sometimes,Never  Yes,Yes         10  \n..                                       ...      ...        ...  \n472                                Sometimes     None          4  \n473                                    Never     None          4  \n474                                Sometimes     None          4  \n475                                Regularly     None          4  \n476                                Sometimes     None          4  \n\n[477 rows x 9 columns]",
      "text/html": "<div>\n<style scoped>\n    .dataframe tbody tr th:only-of-type {\n        vertical-align: middle;\n    }\n\n    .dataframe tbody tr th {\n        vertical-align: top;\n    }\n\n    .dataframe thead th {\n        text-align: right;\n    }\n</style>\n<table border=\"1\" class=\"dataframe\">\n  <thead>\n    <tr style=\"text-align: right;\">\n      <th></th>\n      <th>subjectID</th>\n      <th>date</th>\n      <th>timezone</th>\n      <th>VAS</th>\n      <th>ReIP</th>\n      <th>phF</th>\n      <th>MF</th>\n      <th>Sport</th>\n      <th>n_answers</th>\n    </tr>\n  </thead>\n  <tbody>\n    <tr>\n      <th>0</th>\n      <td>24</td>\n      <td>06.02.18</td>\n      <td>CET</td>\n      <td>5.0,5.0,1.0,5.0,2.0</td>\n      <td>Same,Same,Same,Worse</td>\n      <td>Regularly,Regularly,Sometimes,Sometimes</td>\n      <td>Sometimes,Sometimes,Sometimes,Sometimes</td>\n      <td>None</td>\n      <td>20</td>\n    </tr>\n    <tr>\n      <th>1</th>\n      <td>24</td>\n      <td>07.02.18</td>\n      <td>CET</td>\n      <td>4.0,3.0,5.0</td>\n      <td>Same,Same,Worse</td>\n      <td>Sometimes,Never,Regularly</td>\n      <td>Sometimes,Never,Sometimes</td>\n      <td>None</td>\n      <td>12</td>\n    </tr>\n    <tr>\n      <th>2</th>\n      <td>4</td>\n      <td>30.03.19</td>\n      <td>UTC</td>\n      <td>3.0,2.0</td>\n      <td>Better,Better</td>\n      <td>Never,Never</td>\n      <td>Never,Never</td>\n      <td>No</td>\n      <td>10</td>\n    </tr>\n    <tr>\n      <th>3</th>\n      <td>5</td>\n      <td>04.04.19</td>\n      <td>UTC</td>\n      <td>6.0,2.0</td>\n      <td>Better,Better</td>\n      <td>Sometimes,Never</td>\n      <td>Sometimes,Never</td>\n      <td>No,No</td>\n      <td>10</td>\n    </tr>\n    <tr>\n      <th>4</th>\n      <td>5</td>\n      <td>07.04.19</td>\n      <td>UTC</td>\n      <td>9.0,3.0</td>\n      <td>Better,Better</td>\n      <td>Sometimes,Sometimes</td>\n      <td>Sometimes,Never</td>\n      <td>Yes,Yes</td>\n      <td>10</td>\n    </tr>\n    <tr>\n      <th>...</th>\n      <td>...</td>\n      <td>...</td>\n      <td>...</td>\n      <td>...</td>\n      <td>...</td>\n      <td>...</td>\n      <td>...</td>\n      <td>...</td>\n      <td>...</td>\n    </tr>\n    <tr>\n      <th>472</th>\n      <td>27</td>\n      <td>31.08.18</td>\n      <td>CEST</td>\n      <td>3.0</td>\n      <td>Worse</td>\n      <td>Sometimes</td>\n      <td>Sometimes</td>\n      <td>None</td>\n      <td>4</td>\n    </tr>\n    <tr>\n      <th>473</th>\n      <td>28</td>\n      <td>09.08.18</td>\n      <td>CEST</td>\n      <td>5.0</td>\n      <td>Same</td>\n      <td>Never</td>\n      <td>Never</td>\n      <td>None</td>\n      <td>4</td>\n    </tr>\n    <tr>\n      <th>474</th>\n      <td>28</td>\n      <td>10.08.18</td>\n      <td>CEST</td>\n      <td>4.0</td>\n      <td>Same</td>\n      <td>Never</td>\n      <td>Sometimes</td>\n      <td>None</td>\n      <td>4</td>\n    </tr>\n    <tr>\n      <th>475</th>\n      <td>28</td>\n      <td>13.08.18</td>\n      <td>CEST</td>\n      <td>4.0</td>\n      <td>Same</td>\n      <td>Sometimes</td>\n      <td>Regularly</td>\n      <td>None</td>\n      <td>4</td>\n    </tr>\n    <tr>\n      <th>476</th>\n      <td>28</td>\n      <td>14.08.18</td>\n      <td>CEST</td>\n      <td>6.0</td>\n      <td>Worse</td>\n      <td>Never</td>\n      <td>Sometimes</td>\n      <td>None</td>\n      <td>4</td>\n    </tr>\n  </tbody>\n</table>\n<p>477 rows × 9 columns</p>\n</div>"
     },
     "execution_count": 167,
     "metadata": {},
     "output_type": "execute_result"
    }
   ],
   "source": [
    "query = '''\n",
    "SELECT subjectID, SUBSTRING(Timestamp, 1, 8) AS date, GROUP_CONCAT(DISTINCT timezone) AS timezone, GROUP_CONCAT(VAS) AS VAS, GROUP_CONCAT(ReIP) AS ReIP, GROUP_CONCAT(phF) AS phF, GROUP_CONCAT(MF) AS MF, GROUP_CONCAT(Sport) AS Sport, COUNT(*) AS n_answers\n",
    "FROM (\n",
    "    SELECT SubjectID as subjectID, DateTime AS timestamp, Timezone AS timezone,\n",
    "        CASE\n",
    "            WHEN PROquestion LIKE 'Describe fatigue on a scale of 1 to 10, where 1 means you don’t feel tired at all and 10 means the worst tiredness you can imagine' THEN PROanswer_value\n",
    "        END AS 'VAS',\n",
    "        CASE\n",
    "            WHEN PROquestion LIKE 'Physically, today how often did you feel exhausted?' THEN PROanswer_choice\n",
    "        END AS 'phF',\n",
    "        CASE\n",
    "            WHEN PROquestion LIKE 'Mentally, today how often did you feel exhausted?' THEN PROanswer_choice\n",
    "        END AS 'MF',\n",
    "        CASE\n",
    "            WHEN PROquestion LIKE 'Are you feeling better, worse or the same as yesterday?' THEN PROanswer_choice\n",
    "        END AS 'ReIP',\n",
    "        CASE\n",
    "            WHEN PROquestion LIKE 'Did you do sport today?' THEN PROanswer_choice\n",
    "        END AS 'sport'\n",
    "    FROM fatigue\n",
    ")\n",
    "GROUP BY subjectID, date\n",
    "ORDER BY n_answers DESC;\n",
    "'''\n",
    "Y_daily = sqldf(query)\n",
    "Y_daily"
   ],
   "metadata": {
    "collapsed": false,
    "pycharm": {
     "name": "#%%\n"
    }
   }
  },
  {
   "cell_type": "markdown",
   "source": [
    "Combine same day data and convert to numerical classes"
   ],
   "metadata": {
    "collapsed": false
   }
  },
  {
   "cell_type": "code",
   "execution_count": 181,
   "outputs": [
    {
     "data": {
      "text/plain": "     subjectID      date timezone        VAS      ReIP      phF       MF  \\\n0           24  06.02.18      CET  1,1,0,1,0  0,0,0,-1  1,1,1,1  1,1,1,1   \n1           24  07.02.18      CET      0,0,1    0,0,-1    1,0,1    1,0,1   \n2            4  30.03.19      UTC        0,0       1,1      0,0      0,0   \n3            5  04.04.19      UTC        1,0       1,1      1,0      1,0   \n4            5  07.04.19      UTC        1,0       1,1      1,1      1,0   \n..         ...       ...      ...        ...       ...      ...      ...   \n472         27  31.08.18     CEST          0        -1        1        1   \n473         28  09.08.18     CEST          1         0        0        0   \n474         28  10.08.18     CEST          0         0        0        1   \n475         28  13.08.18     CEST          0         0        1        1   \n476         28  14.08.18     CEST          1        -1        0        1   \n\n    sport  n_answers  \n0    None         20  \n1    None         12  \n2       0         10  \n3     0,0         10  \n4     1,1         10  \n..    ...        ...  \n472  None          4  \n473  None          4  \n474  None          4  \n475  None          4  \n476  None          4  \n\n[477 rows x 9 columns]",
      "text/html": "<div>\n<style scoped>\n    .dataframe tbody tr th:only-of-type {\n        vertical-align: middle;\n    }\n\n    .dataframe tbody tr th {\n        vertical-align: top;\n    }\n\n    .dataframe thead th {\n        text-align: right;\n    }\n</style>\n<table border=\"1\" class=\"dataframe\">\n  <thead>\n    <tr style=\"text-align: right;\">\n      <th></th>\n      <th>subjectID</th>\n      <th>date</th>\n      <th>timezone</th>\n      <th>VAS</th>\n      <th>ReIP</th>\n      <th>phF</th>\n      <th>MF</th>\n      <th>sport</th>\n      <th>n_answers</th>\n    </tr>\n  </thead>\n  <tbody>\n    <tr>\n      <th>0</th>\n      <td>24</td>\n      <td>06.02.18</td>\n      <td>CET</td>\n      <td>1,1,0,1,0</td>\n      <td>0,0,0,-1</td>\n      <td>1,1,1,1</td>\n      <td>1,1,1,1</td>\n      <td>None</td>\n      <td>20</td>\n    </tr>\n    <tr>\n      <th>1</th>\n      <td>24</td>\n      <td>07.02.18</td>\n      <td>CET</td>\n      <td>0,0,1</td>\n      <td>0,0,-1</td>\n      <td>1,0,1</td>\n      <td>1,0,1</td>\n      <td>None</td>\n      <td>12</td>\n    </tr>\n    <tr>\n      <th>2</th>\n      <td>4</td>\n      <td>30.03.19</td>\n      <td>UTC</td>\n      <td>0,0</td>\n      <td>1,1</td>\n      <td>0,0</td>\n      <td>0,0</td>\n      <td>0</td>\n      <td>10</td>\n    </tr>\n    <tr>\n      <th>3</th>\n      <td>5</td>\n      <td>04.04.19</td>\n      <td>UTC</td>\n      <td>1,0</td>\n      <td>1,1</td>\n      <td>1,0</td>\n      <td>1,0</td>\n      <td>0,0</td>\n      <td>10</td>\n    </tr>\n    <tr>\n      <th>4</th>\n      <td>5</td>\n      <td>07.04.19</td>\n      <td>UTC</td>\n      <td>1,0</td>\n      <td>1,1</td>\n      <td>1,1</td>\n      <td>1,0</td>\n      <td>1,1</td>\n      <td>10</td>\n    </tr>\n    <tr>\n      <th>...</th>\n      <td>...</td>\n      <td>...</td>\n      <td>...</td>\n      <td>...</td>\n      <td>...</td>\n      <td>...</td>\n      <td>...</td>\n      <td>...</td>\n      <td>...</td>\n    </tr>\n    <tr>\n      <th>472</th>\n      <td>27</td>\n      <td>31.08.18</td>\n      <td>CEST</td>\n      <td>0</td>\n      <td>-1</td>\n      <td>1</td>\n      <td>1</td>\n      <td>None</td>\n      <td>4</td>\n    </tr>\n    <tr>\n      <th>473</th>\n      <td>28</td>\n      <td>09.08.18</td>\n      <td>CEST</td>\n      <td>1</td>\n      <td>0</td>\n      <td>0</td>\n      <td>0</td>\n      <td>None</td>\n      <td>4</td>\n    </tr>\n    <tr>\n      <th>474</th>\n      <td>28</td>\n      <td>10.08.18</td>\n      <td>CEST</td>\n      <td>0</td>\n      <td>0</td>\n      <td>0</td>\n      <td>1</td>\n      <td>None</td>\n      <td>4</td>\n    </tr>\n    <tr>\n      <th>475</th>\n      <td>28</td>\n      <td>13.08.18</td>\n      <td>CEST</td>\n      <td>0</td>\n      <td>0</td>\n      <td>1</td>\n      <td>1</td>\n      <td>None</td>\n      <td>4</td>\n    </tr>\n    <tr>\n      <th>476</th>\n      <td>28</td>\n      <td>14.08.18</td>\n      <td>CEST</td>\n      <td>1</td>\n      <td>-1</td>\n      <td>0</td>\n      <td>1</td>\n      <td>None</td>\n      <td>4</td>\n    </tr>\n  </tbody>\n</table>\n<p>477 rows × 9 columns</p>\n</div>"
     },
     "execution_count": 181,
     "metadata": {},
     "output_type": "execute_result"
    }
   ],
   "source": [
    "query = '''\n",
    "WITH fatigue_scores AS (\n",
    "    SELECT SubjectID as subjectID, DateTime AS timestamp, Timezone AS timezone,\n",
    "    CASE\n",
    "        WHEN PROquestion LIKE 'Describe fatigue on a scale of 1 to 10, where 1 means you don’t feel tired at all and 10 means the worst tiredness you can imagine' THEN PROanswer_value\n",
    "    END AS 'VAS',\n",
    "    CASE\n",
    "        WHEN PROquestion LIKE 'Physically, today how often did you feel exhausted?' THEN PROanswer_choice\n",
    "    END AS 'phF',\n",
    "    CASE\n",
    "        WHEN PROquestion LIKE 'Mentally, today how often did you feel exhausted?' THEN PROanswer_choice\n",
    "    END AS 'MF',\n",
    "    CASE\n",
    "        WHEN PROquestion LIKE 'Are you feeling better, worse or the same as yesterday?' THEN PROanswer_choice\n",
    "    END AS 'ReIP',\n",
    "    CASE\n",
    "        WHEN PROquestion LIKE 'Did you do sport today?' THEN PROanswer_choice\n",
    "    END AS 'sport'\n",
    "    FROM fatigue\n",
    "),\n",
    "fatigue_classes AS (\n",
    "    SELECT subjectID, timestamp, timezone,\n",
    "    CASE\n",
    "        WHEN VAS BETWEEN 1 AND 4 THEN 0\n",
    "        WHEN VAS BETWEEN 5 AND 10 THEN 1\n",
    "    END AS 'VAS',\n",
    "    CASE\n",
    "        WHEN phF LIKE 'never' THEN 0\n",
    "        WHEN phF LIKE 'sometimes' OR phF LIKE 'regularly' OR phF LIKE 'often' OR phF LIKE 'always' THEN 1\n",
    "    END AS 'phF',\n",
    "    CASE\n",
    "        WHEN MF LIKE 'never' THEN 0\n",
    "        WHEN MF LIKE 'sometimes' OR MF LIKE 'regularly' OR MF LIKE 'often' OR MF LIKE 'always' THEN 1\n",
    "    END AS 'MF',\n",
    "    CASE\n",
    "        WHEN ReIP LIKE 'worse' THEN -1\n",
    "        WHEN ReIP LIKE 'same' THEN 0\n",
    "        WHEN ReIP LIKE 'better' THEN 1\n",
    "    END AS 'ReIP',\n",
    "    CASE\n",
    "        WHEN sport LIKE 'No' THEN 0\n",
    "        WHEN sport LIKE 'Yes' THEN 1\n",
    "    END AS 'sport'\n",
    "    FROM fatigue_scores\n",
    ")\n",
    "SELECT subjectID, SUBSTRING(Timestamp, 1, 8) AS date, GROUP_CONCAT(DISTINCT timezone) AS timezone, GROUP_CONCAT(VAS) AS VAS, GROUP_CONCAT(ReIP) AS ReIP, GROUP_CONCAT(phF) AS phF, GROUP_CONCAT(MF) AS MF, GROUP_CONCAT(sport) AS sport, COUNT(*) AS n_answers\n",
    "FROM fatigue_classes\n",
    "GROUP BY subjectID, date\n",
    "ORDER BY n_answers DESC;\n",
    "'''\n",
    "Y_daily_classes = sqldf(query)\n",
    "Y_daily_classes"
   ],
   "metadata": {
    "collapsed": false,
    "pycharm": {
     "name": "#%%\n"
    }
   }
  },
  {
   "cell_type": "code",
   "execution_count": 180,
   "outputs": [
    {
     "data": {
      "text/plain": "      SubjectID        DateTime Timezone  \\\n0             1  14.03.19 20:01      UTC   \n1             1  14.03.19 20:01      UTC   \n2             1  14.03.19 20:01      UTC   \n3             1  14.03.19 20:01      UTC   \n4             1  14.03.19 20:01      UTC   \n...         ...             ...      ...   \n2266         28  16.08.18 00:51     CEST   \n2267         28  16.08.18 00:52     CEST   \n2268         28  16.08.18 00:52     CEST   \n2269         28  16.08.18 00:52     CEST   \n2270         28  16.08.18 00:52     CEST   \n\n                                            PROquestion  PROanswer_value  \\\n0     Describe fatigue on a scale of 1 to 10, where ...              2.0   \n1     Are you feeling better, worse or the same as y...              NaN   \n2     Physically, today how often did you feel exhau...              NaN   \n3     Mentally, today how often did you feel exhausted?              NaN   \n4                               Did you do sport today?              NaN   \n...                                                 ...              ...   \n2266  Mentally, today how often did you feel exhausted?              NaN   \n2267  Describe fatigue on a scale of 1 to 10, where ...              4.0   \n2268  Are you feeling better, worse or the same as y...              NaN   \n2269  Physically, today how often did you feel exhau...              NaN   \n2270  Mentally, today how often did you feel exhausted?              NaN   \n\n     PROanswer_choice  \n0                 NaN  \n1               Worse  \n2               Never  \n3           Sometimes  \n4                  No  \n...               ...  \n2266        Sometimes  \n2267              NaN  \n2268           Better  \n2269            Never  \n2270        Sometimes  \n\n[2271 rows x 6 columns]",
      "text/html": "<div>\n<style scoped>\n    .dataframe tbody tr th:only-of-type {\n        vertical-align: middle;\n    }\n\n    .dataframe tbody tr th {\n        vertical-align: top;\n    }\n\n    .dataframe thead th {\n        text-align: right;\n    }\n</style>\n<table border=\"1\" class=\"dataframe\">\n  <thead>\n    <tr style=\"text-align: right;\">\n      <th></th>\n      <th>SubjectID</th>\n      <th>DateTime</th>\n      <th>Timezone</th>\n      <th>PROquestion</th>\n      <th>PROanswer_value</th>\n      <th>PROanswer_choice</th>\n    </tr>\n  </thead>\n  <tbody>\n    <tr>\n      <th>0</th>\n      <td>1</td>\n      <td>14.03.19 20:01</td>\n      <td>UTC</td>\n      <td>Describe fatigue on a scale of 1 to 10, where ...</td>\n      <td>2.0</td>\n      <td>NaN</td>\n    </tr>\n    <tr>\n      <th>1</th>\n      <td>1</td>\n      <td>14.03.19 20:01</td>\n      <td>UTC</td>\n      <td>Are you feeling better, worse or the same as y...</td>\n      <td>NaN</td>\n      <td>Worse</td>\n    </tr>\n    <tr>\n      <th>2</th>\n      <td>1</td>\n      <td>14.03.19 20:01</td>\n      <td>UTC</td>\n      <td>Physically, today how often did you feel exhau...</td>\n      <td>NaN</td>\n      <td>Never</td>\n    </tr>\n    <tr>\n      <th>3</th>\n      <td>1</td>\n      <td>14.03.19 20:01</td>\n      <td>UTC</td>\n      <td>Mentally, today how often did you feel exhausted?</td>\n      <td>NaN</td>\n      <td>Sometimes</td>\n    </tr>\n    <tr>\n      <th>4</th>\n      <td>1</td>\n      <td>14.03.19 20:01</td>\n      <td>UTC</td>\n      <td>Did you do sport today?</td>\n      <td>NaN</td>\n      <td>No</td>\n    </tr>\n    <tr>\n      <th>...</th>\n      <td>...</td>\n      <td>...</td>\n      <td>...</td>\n      <td>...</td>\n      <td>...</td>\n      <td>...</td>\n    </tr>\n    <tr>\n      <th>2266</th>\n      <td>28</td>\n      <td>16.08.18 00:51</td>\n      <td>CEST</td>\n      <td>Mentally, today how often did you feel exhausted?</td>\n      <td>NaN</td>\n      <td>Sometimes</td>\n    </tr>\n    <tr>\n      <th>2267</th>\n      <td>28</td>\n      <td>16.08.18 00:52</td>\n      <td>CEST</td>\n      <td>Describe fatigue on a scale of 1 to 10, where ...</td>\n      <td>4.0</td>\n      <td>NaN</td>\n    </tr>\n    <tr>\n      <th>2268</th>\n      <td>28</td>\n      <td>16.08.18 00:52</td>\n      <td>CEST</td>\n      <td>Are you feeling better, worse or the same as y...</td>\n      <td>NaN</td>\n      <td>Better</td>\n    </tr>\n    <tr>\n      <th>2269</th>\n      <td>28</td>\n      <td>16.08.18 00:52</td>\n      <td>CEST</td>\n      <td>Physically, today how often did you feel exhau...</td>\n      <td>NaN</td>\n      <td>Never</td>\n    </tr>\n    <tr>\n      <th>2270</th>\n      <td>28</td>\n      <td>16.08.18 00:52</td>\n      <td>CEST</td>\n      <td>Mentally, today how often did you feel exhausted?</td>\n      <td>NaN</td>\n      <td>Sometimes</td>\n    </tr>\n  </tbody>\n</table>\n<p>2271 rows × 6 columns</p>\n</div>"
     },
     "execution_count": 180,
     "metadata": {},
     "output_type": "execute_result"
    }
   ],
   "source": [
    "fatigue"
   ],
   "metadata": {
    "collapsed": false,
    "pycharm": {
     "name": "#%%\n"
    }
   }
  },
  {
   "cell_type": "code",
   "execution_count": 182,
   "outputs": [
    {
     "data": {
      "text/plain": "      subjectID       timestamp timezone  VAS    phF         MF    ReIP sport\n0             1  14.03.19 20:01      UTC  2.0   None       None    None  None\n1             1  14.03.19 20:01      UTC  NaN   None       None   Worse  None\n2             1  14.03.19 20:01      UTC  NaN  Never       None    None  None\n3             1  14.03.19 20:01      UTC  NaN   None  Sometimes    None  None\n4             1  14.03.19 20:01      UTC  NaN   None       None    None    No\n...         ...             ...      ...  ...    ...        ...     ...   ...\n2266         28  16.08.18 00:51     CEST  NaN   None  Sometimes    None  None\n2267         28  16.08.18 00:52     CEST  4.0   None       None    None  None\n2268         28  16.08.18 00:52     CEST  NaN   None       None  Better  None\n2269         28  16.08.18 00:52     CEST  NaN  Never       None    None  None\n2270         28  16.08.18 00:52     CEST  NaN   None  Sometimes    None  None\n\n[2271 rows x 8 columns]",
      "text/html": "<div>\n<style scoped>\n    .dataframe tbody tr th:only-of-type {\n        vertical-align: middle;\n    }\n\n    .dataframe tbody tr th {\n        vertical-align: top;\n    }\n\n    .dataframe thead th {\n        text-align: right;\n    }\n</style>\n<table border=\"1\" class=\"dataframe\">\n  <thead>\n    <tr style=\"text-align: right;\">\n      <th></th>\n      <th>subjectID</th>\n      <th>timestamp</th>\n      <th>timezone</th>\n      <th>VAS</th>\n      <th>phF</th>\n      <th>MF</th>\n      <th>ReIP</th>\n      <th>sport</th>\n    </tr>\n  </thead>\n  <tbody>\n    <tr>\n      <th>0</th>\n      <td>1</td>\n      <td>14.03.19 20:01</td>\n      <td>UTC</td>\n      <td>2.0</td>\n      <td>None</td>\n      <td>None</td>\n      <td>None</td>\n      <td>None</td>\n    </tr>\n    <tr>\n      <th>1</th>\n      <td>1</td>\n      <td>14.03.19 20:01</td>\n      <td>UTC</td>\n      <td>NaN</td>\n      <td>None</td>\n      <td>None</td>\n      <td>Worse</td>\n      <td>None</td>\n    </tr>\n    <tr>\n      <th>2</th>\n      <td>1</td>\n      <td>14.03.19 20:01</td>\n      <td>UTC</td>\n      <td>NaN</td>\n      <td>Never</td>\n      <td>None</td>\n      <td>None</td>\n      <td>None</td>\n    </tr>\n    <tr>\n      <th>3</th>\n      <td>1</td>\n      <td>14.03.19 20:01</td>\n      <td>UTC</td>\n      <td>NaN</td>\n      <td>None</td>\n      <td>Sometimes</td>\n      <td>None</td>\n      <td>None</td>\n    </tr>\n    <tr>\n      <th>4</th>\n      <td>1</td>\n      <td>14.03.19 20:01</td>\n      <td>UTC</td>\n      <td>NaN</td>\n      <td>None</td>\n      <td>None</td>\n      <td>None</td>\n      <td>No</td>\n    </tr>\n    <tr>\n      <th>...</th>\n      <td>...</td>\n      <td>...</td>\n      <td>...</td>\n      <td>...</td>\n      <td>...</td>\n      <td>...</td>\n      <td>...</td>\n      <td>...</td>\n    </tr>\n    <tr>\n      <th>2266</th>\n      <td>28</td>\n      <td>16.08.18 00:51</td>\n      <td>CEST</td>\n      <td>NaN</td>\n      <td>None</td>\n      <td>Sometimes</td>\n      <td>None</td>\n      <td>None</td>\n    </tr>\n    <tr>\n      <th>2267</th>\n      <td>28</td>\n      <td>16.08.18 00:52</td>\n      <td>CEST</td>\n      <td>4.0</td>\n      <td>None</td>\n      <td>None</td>\n      <td>None</td>\n      <td>None</td>\n    </tr>\n    <tr>\n      <th>2268</th>\n      <td>28</td>\n      <td>16.08.18 00:52</td>\n      <td>CEST</td>\n      <td>NaN</td>\n      <td>None</td>\n      <td>None</td>\n      <td>Better</td>\n      <td>None</td>\n    </tr>\n    <tr>\n      <th>2269</th>\n      <td>28</td>\n      <td>16.08.18 00:52</td>\n      <td>CEST</td>\n      <td>NaN</td>\n      <td>Never</td>\n      <td>None</td>\n      <td>None</td>\n      <td>None</td>\n    </tr>\n    <tr>\n      <th>2270</th>\n      <td>28</td>\n      <td>16.08.18 00:52</td>\n      <td>CEST</td>\n      <td>NaN</td>\n      <td>None</td>\n      <td>Sometimes</td>\n      <td>None</td>\n      <td>None</td>\n    </tr>\n  </tbody>\n</table>\n<p>2271 rows × 8 columns</p>\n</div>"
     },
     "execution_count": 182,
     "metadata": {},
     "output_type": "execute_result"
    }
   ],
   "source": [
    "query = '''\n",
    "WITH fatigue_scores AS (\n",
    "    SELECT SubjectID as subjectID, DateTime AS timestamp, Timezone AS timezone,\n",
    "    CASE\n",
    "        WHEN PROquestion LIKE 'Describe fatigue on a scale of 1 to 10, where 1 means you don’t feel tired at all and 10 means the worst tiredness you can imagine' THEN PROanswer_value\n",
    "    END AS 'VAS',\n",
    "    CASE\n",
    "        WHEN PROquestion LIKE 'Physically, today how often did you feel exhausted?' THEN PROanswer_choice\n",
    "    END AS 'phF',\n",
    "    CASE\n",
    "        WHEN PROquestion LIKE 'Mentally, today how often did you feel exhausted?' THEN PROanswer_choice\n",
    "    END AS 'MF',\n",
    "    CASE\n",
    "        WHEN PROquestion LIKE 'Are you feeling better, worse or the same as yesterday?' THEN PROanswer_choice\n",
    "    END AS 'ReIP',\n",
    "    CASE\n",
    "        WHEN PROquestion LIKE 'Did you do sport today?' THEN PROanswer_choice\n",
    "    END AS 'sport'\n",
    "    FROM fatigue\n",
    "),\n",
    "fatigue_classes AS (\n",
    "    SELECT subjectID, timestamp, timezone,\n",
    "    CASE\n",
    "        WHEN VAS BETWEEN 1 AND 4 THEN 0\n",
    "        WHEN VAS BETWEEN 5 AND 10 THEN 1\n",
    "    END AS 'VAS',\n",
    "    CASE\n",
    "        WHEN phF LIKE 'never' THEN 0\n",
    "        WHEN phF LIKE 'sometimes' OR phF LIKE 'regularly' OR phF LIKE 'often' OR phF LIKE 'always' THEN 1\n",
    "    END AS 'phF',\n",
    "    CASE\n",
    "        WHEN MF LIKE 'never' THEN 0\n",
    "        WHEN MF LIKE 'sometimes' OR MF LIKE 'regularly' OR MF LIKE 'often' OR MF LIKE 'always' THEN 1\n",
    "    END AS 'MF',\n",
    "    CASE\n",
    "        WHEN ReIP LIKE 'worse' THEN -1\n",
    "        WHEN ReIP LIKE 'same' THEN 0\n",
    "        WHEN ReIP LIKE 'better' THEN 1\n",
    "    END AS 'ReIP',\n",
    "    CASE\n",
    "        WHEN sport LIKE 'No' THEN 0\n",
    "        WHEN sport LIKE 'Yes' THEN 1\n",
    "    END AS 'sport'\n",
    "    FROM fatigue_scores\n",
    ")\n",
    "SELECT *\n",
    "FROM fatigue_scores;\n",
    "'''\n",
    "sqldf(query)"
   ],
   "metadata": {
    "collapsed": false,
    "pycharm": {
     "name": "#%%\n"
    }
   }
  },
  {
   "cell_type": "code",
   "execution_count": null,
   "outputs": [],
   "source": [],
   "metadata": {
    "collapsed": false,
    "pycharm": {
     "name": "#%%\n"
    }
   }
  },
  {
   "cell_type": "code",
   "execution_count": null,
   "outputs": [],
   "source": [],
   "metadata": {
    "collapsed": false,
    "pycharm": {
     "name": "#%%\n"
    }
   }
  },
  {
   "cell_type": "code",
   "execution_count": null,
   "outputs": [],
   "source": [],
   "metadata": {
    "collapsed": false,
    "pycharm": {
     "name": "#%%\n"
    }
   }
  },
  {
   "cell_type": "code",
   "execution_count": 210,
   "outputs": [
    {
     "data": {
      "text/plain": "     subjectID       timestamp timezone          VAS              ReIP  \\\n0           23  01.01.18 21:00      CET      2.0,4.0      Better,Worse   \n1           23  01.02.18 21:00      CET  6.0,5.0,7.0  Better,Same,Same   \n2           24  01.03.18 13:28      CET          4.0            Better   \n3           25  01.03.18 20:43      CET          2.0            Better   \n4           27  01.03.18 21:51      CET          1.0            Better   \n..         ...             ...      ...          ...               ...   \n474         22  31.05.19 22:39      UTC          2.0              Same   \n475         26  31.07.18 01:38     CEST          3.0            Better   \n476         26  31.07.18 20:57     CEST          3.0              Same   \n477         27  31.08.18 20:24     CEST          3.0             Worse   \n478         23  31.12.17 21:00      CET      2.0,3.0         Same,Same   \n\n                               phF                             MF sport  \\\n0                  Never,Regularly                Never,Regularly  None   \n1    Regularly,Sometimes,Sometimes  Sometimes,Sometimes,Regularly  None   \n2                        Regularly                      Regularly  None   \n3                        Sometimes                          Never  None   \n4                        Sometimes                          Never  None   \n..                             ...                            ...   ...   \n474                      Sometimes                          Never    No   \n475                      Sometimes                      Sometimes  None   \n476                      Sometimes                      Sometimes  None   \n477                      Sometimes                      Sometimes  None   \n478                Never,Sometimes                    Never,Never  None   \n\n     n_answers  \n0            8  \n1           12  \n2            4  \n3            4  \n4            4  \n..         ...  \n474          5  \n475          4  \n476          4  \n477          4  \n478          8  \n\n[479 rows x 9 columns]",
      "text/html": "<div>\n<style scoped>\n    .dataframe tbody tr th:only-of-type {\n        vertical-align: middle;\n    }\n\n    .dataframe tbody tr th {\n        vertical-align: top;\n    }\n\n    .dataframe thead th {\n        text-align: right;\n    }\n</style>\n<table border=\"1\" class=\"dataframe\">\n  <thead>\n    <tr style=\"text-align: right;\">\n      <th></th>\n      <th>subjectID</th>\n      <th>timestamp</th>\n      <th>timezone</th>\n      <th>VAS</th>\n      <th>ReIP</th>\n      <th>phF</th>\n      <th>MF</th>\n      <th>sport</th>\n      <th>n_answers</th>\n    </tr>\n  </thead>\n  <tbody>\n    <tr>\n      <th>0</th>\n      <td>23</td>\n      <td>01.01.18 21:00</td>\n      <td>CET</td>\n      <td>2.0,4.0</td>\n      <td>Better,Worse</td>\n      <td>Never,Regularly</td>\n      <td>Never,Regularly</td>\n      <td>None</td>\n      <td>8</td>\n    </tr>\n    <tr>\n      <th>1</th>\n      <td>23</td>\n      <td>01.02.18 21:00</td>\n      <td>CET</td>\n      <td>6.0,5.0,7.0</td>\n      <td>Better,Same,Same</td>\n      <td>Regularly,Sometimes,Sometimes</td>\n      <td>Sometimes,Sometimes,Regularly</td>\n      <td>None</td>\n      <td>12</td>\n    </tr>\n    <tr>\n      <th>2</th>\n      <td>24</td>\n      <td>01.03.18 13:28</td>\n      <td>CET</td>\n      <td>4.0</td>\n      <td>Better</td>\n      <td>Regularly</td>\n      <td>Regularly</td>\n      <td>None</td>\n      <td>4</td>\n    </tr>\n    <tr>\n      <th>3</th>\n      <td>25</td>\n      <td>01.03.18 20:43</td>\n      <td>CET</td>\n      <td>2.0</td>\n      <td>Better</td>\n      <td>Sometimes</td>\n      <td>Never</td>\n      <td>None</td>\n      <td>4</td>\n    </tr>\n    <tr>\n      <th>4</th>\n      <td>27</td>\n      <td>01.03.18 21:51</td>\n      <td>CET</td>\n      <td>1.0</td>\n      <td>Better</td>\n      <td>Sometimes</td>\n      <td>Never</td>\n      <td>None</td>\n      <td>4</td>\n    </tr>\n    <tr>\n      <th>...</th>\n      <td>...</td>\n      <td>...</td>\n      <td>...</td>\n      <td>...</td>\n      <td>...</td>\n      <td>...</td>\n      <td>...</td>\n      <td>...</td>\n      <td>...</td>\n    </tr>\n    <tr>\n      <th>474</th>\n      <td>22</td>\n      <td>31.05.19 22:39</td>\n      <td>UTC</td>\n      <td>2.0</td>\n      <td>Same</td>\n      <td>Sometimes</td>\n      <td>Never</td>\n      <td>No</td>\n      <td>5</td>\n    </tr>\n    <tr>\n      <th>475</th>\n      <td>26</td>\n      <td>31.07.18 01:38</td>\n      <td>CEST</td>\n      <td>3.0</td>\n      <td>Better</td>\n      <td>Sometimes</td>\n      <td>Sometimes</td>\n      <td>None</td>\n      <td>4</td>\n    </tr>\n    <tr>\n      <th>476</th>\n      <td>26</td>\n      <td>31.07.18 20:57</td>\n      <td>CEST</td>\n      <td>3.0</td>\n      <td>Same</td>\n      <td>Sometimes</td>\n      <td>Sometimes</td>\n      <td>None</td>\n      <td>4</td>\n    </tr>\n    <tr>\n      <th>477</th>\n      <td>27</td>\n      <td>31.08.18 20:24</td>\n      <td>CEST</td>\n      <td>3.0</td>\n      <td>Worse</td>\n      <td>Sometimes</td>\n      <td>Sometimes</td>\n      <td>None</td>\n      <td>4</td>\n    </tr>\n    <tr>\n      <th>478</th>\n      <td>23</td>\n      <td>31.12.17 21:00</td>\n      <td>CET</td>\n      <td>2.0,3.0</td>\n      <td>Same,Same</td>\n      <td>Never,Sometimes</td>\n      <td>Never,Never</td>\n      <td>None</td>\n      <td>8</td>\n    </tr>\n  </tbody>\n</table>\n<p>479 rows × 9 columns</p>\n</div>"
     },
     "execution_count": 210,
     "metadata": {},
     "output_type": "execute_result"
    }
   ],
   "source": [
    "query = '''\n",
    "WITH fatigue_scores AS (\n",
    "    SELECT SubjectID as subjectID, DateTime AS timestamp, Timezone AS timezone,\n",
    "    CASE\n",
    "        WHEN PROquestion LIKE 'Describe fatigue on a scale of 1 to 10, where 1 means you don’t feel tired at all and 10 means the worst tiredness you can imagine' THEN PROanswer_value\n",
    "    END AS 'VAS',\n",
    "    CASE\n",
    "        WHEN PROquestion LIKE 'Physically, today how often did you feel exhausted?' THEN PROanswer_choice\n",
    "    END AS 'phF',\n",
    "    CASE\n",
    "        WHEN PROquestion LIKE 'Mentally, today how often did you feel exhausted?' THEN PROanswer_choice\n",
    "    END AS 'MF',\n",
    "    CASE\n",
    "        WHEN PROquestion LIKE 'Are you feeling better, worse or the same as yesterday?' THEN PROanswer_choice\n",
    "    END AS 'ReIP',\n",
    "    CASE\n",
    "        WHEN PROquestion LIKE 'Did you do sport today?' THEN PROanswer_choice\n",
    "    END AS 'sport'\n",
    "    FROM fatigue\n",
    "),\n",
    "fatigue_by_timestamp AS (\n",
    "    SELECT subjectID, timestamp, GROUP_CONCAT(DISTINCT timezone) AS timezone, GROUP_CONCAT(VAS) AS VAS, GROUP_CONCAT(ReIP) AS ReIP, GROUP_CONCAT(phF) AS phF, GROUP_CONCAT(MF) AS MF, GROUP_CONCAT(sport) AS sport, COUNT(*) AS n_answers\n",
    "    FROM fatigue_scores\n",
    "    GROUP BY timestamp\n",
    ")\n",
    "SELECT *\n",
    "FROM fatigue_by_timestamp\n",
    "'''\n",
    "sqldf(query)"
   ],
   "metadata": {
    "collapsed": false,
    "pycharm": {
     "name": "#%%\n"
    }
   }
  },
  {
   "cell_type": "code",
   "execution_count": null,
   "outputs": [],
   "source": [],
   "metadata": {
    "collapsed": false,
    "pycharm": {
     "name": "#%%\n"
    }
   }
  },
  {
   "cell_type": "code",
   "execution_count": null,
   "outputs": [],
   "source": [],
   "metadata": {
    "collapsed": false,
    "pycharm": {
     "name": "#%%\n"
    }
   }
  },
  {
   "cell_type": "code",
   "execution_count": null,
   "outputs": [],
   "source": [],
   "metadata": {
    "collapsed": false,
    "pycharm": {
     "name": "#%%\n"
    }
   }
  },
  {
   "cell_type": "code",
   "execution_count": null,
   "outputs": [],
   "source": [],
   "metadata": {
    "collapsed": false,
    "pycharm": {
     "name": "#%%\n"
    }
   }
  },
  {
   "cell_type": "code",
   "execution_count": null,
   "outputs": [],
   "source": [],
   "metadata": {
    "collapsed": false,
    "pycharm": {
     "name": "#%%\n"
    }
   }
  },
  {
   "cell_type": "code",
   "execution_count": null,
   "outputs": [],
   "source": [],
   "metadata": {
    "collapsed": false,
    "pycharm": {
     "name": "#%%\n"
    }
   }
  },
  {
   "cell_type": "code",
   "execution_count": null,
   "outputs": [],
   "source": [],
   "metadata": {
    "collapsed": false,
    "pycharm": {
     "name": "#%%\n"
    }
   }
  },
  {
   "cell_type": "code",
   "execution_count": null,
   "outputs": [],
   "source": [],
   "metadata": {
    "collapsed": false,
    "pycharm": {
     "name": "#%%\n"
    }
   }
  },
  {
   "cell_type": "code",
   "execution_count": null,
   "outputs": [],
   "source": [],
   "metadata": {
    "collapsed": false,
    "pycharm": {
     "name": "#%%\n"
    }
   }
  },
  {
   "cell_type": "code",
   "execution_count": null,
   "outputs": [],
   "source": [],
   "metadata": {
    "collapsed": false,
    "pycharm": {
     "name": "#%%\n"
    }
   }
  },
  {
   "cell_type": "code",
   "execution_count": null,
   "outputs": [],
   "source": [],
   "metadata": {
    "collapsed": false,
    "pycharm": {
     "name": "#%%\n"
    }
   }
  },
  {
   "cell_type": "code",
   "execution_count": null,
   "outputs": [],
   "source": [],
   "metadata": {
    "collapsed": false,
    "pycharm": {
     "name": "#%%\n"
    }
   }
  },
  {
   "cell_type": "code",
   "execution_count": null,
   "outputs": [],
   "source": [],
   "metadata": {
    "collapsed": false,
    "pycharm": {
     "name": "#%%\n"
    }
   }
  },
  {
   "cell_type": "code",
   "execution_count": null,
   "outputs": [],
   "source": [],
   "metadata": {
    "collapsed": false,
    "pycharm": {
     "name": "#%%\n"
    }
   }
  },
  {
   "cell_type": "code",
   "execution_count": null,
   "outputs": [],
   "source": [],
   "metadata": {
    "collapsed": false,
    "pycharm": {
     "name": "#%%\n"
    }
   }
  },
  {
   "cell_type": "code",
   "execution_count": null,
   "outputs": [],
   "source": [],
   "metadata": {
    "collapsed": false,
    "pycharm": {
     "name": "#%%\n"
    }
   }
  },
  {
   "cell_type": "code",
   "execution_count": null,
   "outputs": [],
   "source": [],
   "metadata": {
    "collapsed": false,
    "pycharm": {
     "name": "#%%\n"
    }
   }
  },
  {
   "cell_type": "markdown",
   "source": [
    "Same day questionnaires aggregation"
   ],
   "metadata": {
    "collapsed": false
   }
  },
  {
   "cell_type": "code",
   "execution_count": 153,
   "outputs": [
    {
     "data": {
      "text/plain": "     subjectID      date         timezone                  VAS  \\\n0           24  06.02.18  CET,CET,CET,CET  5.0,5.0,1.0,5.0,2.0   \n1           24  07.02.18      CET,CET,CET          4.0,3.0,5.0   \n2            4  30.03.19          UTC,UTC              3.0,2.0   \n3            5  04.04.19          UTC,UTC              6.0,2.0   \n4            5  07.04.19          UTC,UTC              9.0,3.0   \n..         ...       ...              ...                  ...   \n472         27  31.08.18             CEST                  3.0   \n473         28  09.08.18             CEST                  5.0   \n474         28  10.08.18             CEST                  4.0   \n475         28  13.08.18             CEST                  4.0   \n476         28  14.08.18             CEST                  6.0   \n\n                         ReIP                                          phF  \\\n0    Same,Same,nan,Same,Worse  Regularly,Regularly,nan,Sometimes,Sometimes   \n1             Same,Same,Worse                    Sometimes,Never,Regularly   \n2               Better,Better                                  Never,Never   \n3               Better,Better                              Sometimes,Never   \n4               Better,Better                          Sometimes,Sometimes   \n..                        ...                                          ...   \n472                     Worse                                    Sometimes   \n473                      Same                                        Never   \n474                      Same                                        Never   \n475                      Same                                    Sometimes   \n476                     Worse                                        Never   \n\n                                              MF            Sport  n_answers  \n0    Sometimes,Sometimes,nan,Sometimes,Sometimes  NaN,NaN,NaN,NaN          4  \n1                      Sometimes,Never,Sometimes      NaN,NaN,NaN          3  \n2                                    Never,Never           No,nan          2  \n3                                Sometimes,Never            No,No          2  \n4                                Sometimes,Never          Yes,Yes          2  \n..                                           ...              ...        ...  \n472                                    Sometimes              NaN          1  \n473                                        Never              NaN          1  \n474                                    Sometimes              NaN          1  \n475                                    Regularly              NaN          1  \n476                                    Sometimes              NaN          1  \n\n[477 rows x 9 columns]",
      "text/html": "<div>\n<style scoped>\n    .dataframe tbody tr th:only-of-type {\n        vertical-align: middle;\n    }\n\n    .dataframe tbody tr th {\n        vertical-align: top;\n    }\n\n    .dataframe thead th {\n        text-align: right;\n    }\n</style>\n<table border=\"1\" class=\"dataframe\">\n  <thead>\n    <tr style=\"text-align: right;\">\n      <th></th>\n      <th>subjectID</th>\n      <th>date</th>\n      <th>timezone</th>\n      <th>VAS</th>\n      <th>ReIP</th>\n      <th>phF</th>\n      <th>MF</th>\n      <th>Sport</th>\n      <th>n_answers</th>\n    </tr>\n  </thead>\n  <tbody>\n    <tr>\n      <th>0</th>\n      <td>24</td>\n      <td>06.02.18</td>\n      <td>CET,CET,CET,CET</td>\n      <td>5.0,5.0,1.0,5.0,2.0</td>\n      <td>Same,Same,nan,Same,Worse</td>\n      <td>Regularly,Regularly,nan,Sometimes,Sometimes</td>\n      <td>Sometimes,Sometimes,nan,Sometimes,Sometimes</td>\n      <td>NaN,NaN,NaN,NaN</td>\n      <td>4</td>\n    </tr>\n    <tr>\n      <th>1</th>\n      <td>24</td>\n      <td>07.02.18</td>\n      <td>CET,CET,CET</td>\n      <td>4.0,3.0,5.0</td>\n      <td>Same,Same,Worse</td>\n      <td>Sometimes,Never,Regularly</td>\n      <td>Sometimes,Never,Sometimes</td>\n      <td>NaN,NaN,NaN</td>\n      <td>3</td>\n    </tr>\n    <tr>\n      <th>2</th>\n      <td>4</td>\n      <td>30.03.19</td>\n      <td>UTC,UTC</td>\n      <td>3.0,2.0</td>\n      <td>Better,Better</td>\n      <td>Never,Never</td>\n      <td>Never,Never</td>\n      <td>No,nan</td>\n      <td>2</td>\n    </tr>\n    <tr>\n      <th>3</th>\n      <td>5</td>\n      <td>04.04.19</td>\n      <td>UTC,UTC</td>\n      <td>6.0,2.0</td>\n      <td>Better,Better</td>\n      <td>Sometimes,Never</td>\n      <td>Sometimes,Never</td>\n      <td>No,No</td>\n      <td>2</td>\n    </tr>\n    <tr>\n      <th>4</th>\n      <td>5</td>\n      <td>07.04.19</td>\n      <td>UTC,UTC</td>\n      <td>9.0,3.0</td>\n      <td>Better,Better</td>\n      <td>Sometimes,Sometimes</td>\n      <td>Sometimes,Never</td>\n      <td>Yes,Yes</td>\n      <td>2</td>\n    </tr>\n    <tr>\n      <th>...</th>\n      <td>...</td>\n      <td>...</td>\n      <td>...</td>\n      <td>...</td>\n      <td>...</td>\n      <td>...</td>\n      <td>...</td>\n      <td>...</td>\n      <td>...</td>\n    </tr>\n    <tr>\n      <th>472</th>\n      <td>27</td>\n      <td>31.08.18</td>\n      <td>CEST</td>\n      <td>3.0</td>\n      <td>Worse</td>\n      <td>Sometimes</td>\n      <td>Sometimes</td>\n      <td>NaN</td>\n      <td>1</td>\n    </tr>\n    <tr>\n      <th>473</th>\n      <td>28</td>\n      <td>09.08.18</td>\n      <td>CEST</td>\n      <td>5.0</td>\n      <td>Same</td>\n      <td>Never</td>\n      <td>Never</td>\n      <td>NaN</td>\n      <td>1</td>\n    </tr>\n    <tr>\n      <th>474</th>\n      <td>28</td>\n      <td>10.08.18</td>\n      <td>CEST</td>\n      <td>4.0</td>\n      <td>Same</td>\n      <td>Never</td>\n      <td>Sometimes</td>\n      <td>NaN</td>\n      <td>1</td>\n    </tr>\n    <tr>\n      <th>475</th>\n      <td>28</td>\n      <td>13.08.18</td>\n      <td>CEST</td>\n      <td>4.0</td>\n      <td>Same</td>\n      <td>Sometimes</td>\n      <td>Regularly</td>\n      <td>NaN</td>\n      <td>1</td>\n    </tr>\n    <tr>\n      <th>476</th>\n      <td>28</td>\n      <td>14.08.18</td>\n      <td>CEST</td>\n      <td>6.0</td>\n      <td>Worse</td>\n      <td>Never</td>\n      <td>Sometimes</td>\n      <td>NaN</td>\n      <td>1</td>\n    </tr>\n  </tbody>\n</table>\n<p>477 rows × 9 columns</p>\n</div>"
     },
     "execution_count": 153,
     "metadata": {},
     "output_type": "execute_result"
    }
   ],
   "source": [
    "query = '''\n",
    "SELECT subjectID, SUBSTRING(Timestamp, 1, 8) AS date, GROUP_CONCAT(timezone) AS timezone, GROUP_CONCAT(VAS) AS VAS, GROUP_CONCAT(ReIP) AS ReIP, GROUP_CONCAT(phF) AS phF, GROUP_CONCAT(MF) AS MF, GROUP_CONCAT(Sport) AS Sport, COUNT(*) AS n_answers\n",
    "FROM Y\n",
    "GROUP BY subjectID, date\n",
    "ORDER BY n_answers DESC;\n",
    "'''\n",
    "Y_daily = sqldf(query)\n",
    "Y_daily"
   ],
   "metadata": {
    "collapsed": false,
    "pycharm": {
     "name": "#%%\n"
    }
   }
  },
  {
   "cell_type": "markdown",
   "source": [
    "Convert to numerical classes"
   ],
   "metadata": {
    "collapsed": false
   }
  },
  {
   "cell_type": "code",
   "execution_count": 155,
   "outputs": [
    {
     "data": {
      "text/plain": "     subjectID       timestamp timezone  VAS phF MF ReIP Sport\n0            1  14.03.19 20:01      UTC    0   0  1   -1     0\n1            1  15.03.19 20:01      UTC    0   1  1    1     1\n2            1  16.03.19 20:47      UTC    0   0  0    0     0\n3            1  17.03.19 20:01      UTC    0   1  0    0     1\n4            1  18.03.19 20:13      UTC    0   1  0   -1     1\n..         ...             ...      ...  ...  .. ..  ...   ...\n513         28  10.08.18 23:13     CEST  NaN   0  1    0   NaN\n514         28  13.08.18 21:39     CEST  NaN   1  1    0   NaN\n515         28  14.08.18 23:27     CEST  NaN   0  1   -1   NaN\n516         28  16.08.18 00:51     CEST  NaN   1  1    1   NaN\n517         28  16.08.18 00:52     CEST  NaN   0  1    1   NaN\n\n[518 rows x 8 columns]",
      "text/html": "<div>\n<style scoped>\n    .dataframe tbody tr th:only-of-type {\n        vertical-align: middle;\n    }\n\n    .dataframe tbody tr th {\n        vertical-align: top;\n    }\n\n    .dataframe thead th {\n        text-align: right;\n    }\n</style>\n<table border=\"1\" class=\"dataframe\">\n  <thead>\n    <tr style=\"text-align: right;\">\n      <th></th>\n      <th>subjectID</th>\n      <th>timestamp</th>\n      <th>timezone</th>\n      <th>VAS</th>\n      <th>phF</th>\n      <th>MF</th>\n      <th>ReIP</th>\n      <th>Sport</th>\n    </tr>\n  </thead>\n  <tbody>\n    <tr>\n      <th>0</th>\n      <td>1</td>\n      <td>14.03.19 20:01</td>\n      <td>UTC</td>\n      <td>0</td>\n      <td>0</td>\n      <td>1</td>\n      <td>-1</td>\n      <td>0</td>\n    </tr>\n    <tr>\n      <th>1</th>\n      <td>1</td>\n      <td>15.03.19 20:01</td>\n      <td>UTC</td>\n      <td>0</td>\n      <td>1</td>\n      <td>1</td>\n      <td>1</td>\n      <td>1</td>\n    </tr>\n    <tr>\n      <th>2</th>\n      <td>1</td>\n      <td>16.03.19 20:47</td>\n      <td>UTC</td>\n      <td>0</td>\n      <td>0</td>\n      <td>0</td>\n      <td>0</td>\n      <td>0</td>\n    </tr>\n    <tr>\n      <th>3</th>\n      <td>1</td>\n      <td>17.03.19 20:01</td>\n      <td>UTC</td>\n      <td>0</td>\n      <td>1</td>\n      <td>0</td>\n      <td>0</td>\n      <td>1</td>\n    </tr>\n    <tr>\n      <th>4</th>\n      <td>1</td>\n      <td>18.03.19 20:13</td>\n      <td>UTC</td>\n      <td>0</td>\n      <td>1</td>\n      <td>0</td>\n      <td>-1</td>\n      <td>1</td>\n    </tr>\n    <tr>\n      <th>...</th>\n      <td>...</td>\n      <td>...</td>\n      <td>...</td>\n      <td>...</td>\n      <td>...</td>\n      <td>...</td>\n      <td>...</td>\n      <td>...</td>\n    </tr>\n    <tr>\n      <th>513</th>\n      <td>28</td>\n      <td>10.08.18 23:13</td>\n      <td>CEST</td>\n      <td>NaN</td>\n      <td>0</td>\n      <td>1</td>\n      <td>0</td>\n      <td>NaN</td>\n    </tr>\n    <tr>\n      <th>514</th>\n      <td>28</td>\n      <td>13.08.18 21:39</td>\n      <td>CEST</td>\n      <td>NaN</td>\n      <td>1</td>\n      <td>1</td>\n      <td>0</td>\n      <td>NaN</td>\n    </tr>\n    <tr>\n      <th>515</th>\n      <td>28</td>\n      <td>14.08.18 23:27</td>\n      <td>CEST</td>\n      <td>NaN</td>\n      <td>0</td>\n      <td>1</td>\n      <td>-1</td>\n      <td>NaN</td>\n    </tr>\n    <tr>\n      <th>516</th>\n      <td>28</td>\n      <td>16.08.18 00:51</td>\n      <td>CEST</td>\n      <td>NaN</td>\n      <td>1</td>\n      <td>1</td>\n      <td>1</td>\n      <td>NaN</td>\n    </tr>\n    <tr>\n      <th>517</th>\n      <td>28</td>\n      <td>16.08.18 00:52</td>\n      <td>CEST</td>\n      <td>NaN</td>\n      <td>0</td>\n      <td>1</td>\n      <td>1</td>\n      <td>NaN</td>\n    </tr>\n  </tbody>\n</table>\n<p>518 rows × 8 columns</p>\n</div>"
     },
     "execution_count": 155,
     "metadata": {},
     "output_type": "execute_result"
    }
   ],
   "source": [
    "query = '''\n",
    "WITH multiple_answers AS (\n",
    "    SELECT *\n",
    "    FROM Y\n",
    "    WHERE VAS LIKE '%,%' OR pHF LIKE '%,%' OR MF LIKE '%,%' OR Sport LIKE '%,%'\n",
    "),\n",
    "single_answers AS (\n",
    "    SELECT *\n",
    "    FROM Y EXCEPT SELECT * FROM multiple_answers\n",
    ")\n",
    "SELECT subjectID, timestamp, timezone,\n",
    "    CASE\n",
    "        WHEN VAS BETWEEN 1 AND 4 THEN 0\n",
    "        WHEN VAS BETWEEN 5 AND 10 THEN 1\n",
    "        ELSE 'NaN'\n",
    "    END AS 'VAS',\n",
    "    CASE\n",
    "        WHEN phF LIKE 'never' THEN 0\n",
    "        WHEN phF LIKE 'sometimes' OR phF LIKE 'regularly' OR phF LIKE 'often' OR phF LIKE 'always' THEN 1\n",
    "        ELSE 'NaN'\n",
    "    END AS 'phF',\n",
    "    CASE\n",
    "        WHEN MF LIKE 'never' THEN 0\n",
    "        WHEN MF LIKE 'sometimes' OR MF LIKE 'regularly' OR MF LIKE 'often' OR MF LIKE 'always' THEN 1\n",
    "        ELSE 'NaN'\n",
    "    END AS 'MF',\n",
    "    CASE\n",
    "        WHEN ReIP LIKE 'worse' THEN -1\n",
    "        WHEN ReIP LIKE 'same' THEN 0\n",
    "        WHEN ReIP LIKE 'better' THEN 1\n",
    "        ELSE 'NaN'\n",
    "    END AS 'ReIP',\n",
    "    CASE\n",
    "        WHEN Sport LIKE 'No' THEN 0\n",
    "        WHEN Sport LIKE 'Yes' THEN 1\n",
    "        ELSE 'NaN'\n",
    "    END AS 'Sport'\n",
    "FROM single_answers;\n",
    "'''\n",
    "Y_classes = sqldf(query)\n",
    "Y_classes"
   ],
   "metadata": {
    "collapsed": false,
    "pycharm": {
     "name": "#%%\n"
    }
   }
  },
  {
   "cell_type": "code",
   "execution_count": 157,
   "outputs": [
    {
     "data": {
      "text/plain": "     subjectID      date        VAS    phF     MF    ReIP        Sport  \\\n0           24  06.02.18  NaN,NaN,0  1,1,1  1,1,1  0,0,-1  NaN,NaN,NaN   \n1           24  07.02.18  NaN,0,NaN  1,0,1  1,0,1  0,0,-1  NaN,NaN,NaN   \n2            4  30.03.19        0,0    0,0    0,0     1,1        0,NaN   \n3            5  04.04.19      NaN,0    1,0    1,0     1,1          0,0   \n4            5  07.04.19      NaN,0    1,1    1,0     1,1          1,1   \n..         ...       ...        ...    ...    ...     ...          ...   \n469         27  31.08.18          0      1      1      -1          NaN   \n470         28  09.08.18        NaN      0      0       0          NaN   \n471         28  10.08.18        NaN      0      1       0          NaN   \n472         28  13.08.18        NaN      1      1       0          NaN   \n473         28  14.08.18        NaN      0      1      -1          NaN   \n\n     n_answers  \n0            3  \n1            3  \n2            2  \n3            2  \n4            2  \n..         ...  \n469          1  \n470          1  \n471          1  \n472          1  \n473          1  \n\n[474 rows x 8 columns]",
      "text/html": "<div>\n<style scoped>\n    .dataframe tbody tr th:only-of-type {\n        vertical-align: middle;\n    }\n\n    .dataframe tbody tr th {\n        vertical-align: top;\n    }\n\n    .dataframe thead th {\n        text-align: right;\n    }\n</style>\n<table border=\"1\" class=\"dataframe\">\n  <thead>\n    <tr style=\"text-align: right;\">\n      <th></th>\n      <th>subjectID</th>\n      <th>date</th>\n      <th>VAS</th>\n      <th>phF</th>\n      <th>MF</th>\n      <th>ReIP</th>\n      <th>Sport</th>\n      <th>n_answers</th>\n    </tr>\n  </thead>\n  <tbody>\n    <tr>\n      <th>0</th>\n      <td>24</td>\n      <td>06.02.18</td>\n      <td>NaN,NaN,0</td>\n      <td>1,1,1</td>\n      <td>1,1,1</td>\n      <td>0,0,-1</td>\n      <td>NaN,NaN,NaN</td>\n      <td>3</td>\n    </tr>\n    <tr>\n      <th>1</th>\n      <td>24</td>\n      <td>07.02.18</td>\n      <td>NaN,0,NaN</td>\n      <td>1,0,1</td>\n      <td>1,0,1</td>\n      <td>0,0,-1</td>\n      <td>NaN,NaN,NaN</td>\n      <td>3</td>\n    </tr>\n    <tr>\n      <th>2</th>\n      <td>4</td>\n      <td>30.03.19</td>\n      <td>0,0</td>\n      <td>0,0</td>\n      <td>0,0</td>\n      <td>1,1</td>\n      <td>0,NaN</td>\n      <td>2</td>\n    </tr>\n    <tr>\n      <th>3</th>\n      <td>5</td>\n      <td>04.04.19</td>\n      <td>NaN,0</td>\n      <td>1,0</td>\n      <td>1,0</td>\n      <td>1,1</td>\n      <td>0,0</td>\n      <td>2</td>\n    </tr>\n    <tr>\n      <th>4</th>\n      <td>5</td>\n      <td>07.04.19</td>\n      <td>NaN,0</td>\n      <td>1,1</td>\n      <td>1,0</td>\n      <td>1,1</td>\n      <td>1,1</td>\n      <td>2</td>\n    </tr>\n    <tr>\n      <th>...</th>\n      <td>...</td>\n      <td>...</td>\n      <td>...</td>\n      <td>...</td>\n      <td>...</td>\n      <td>...</td>\n      <td>...</td>\n      <td>...</td>\n    </tr>\n    <tr>\n      <th>469</th>\n      <td>27</td>\n      <td>31.08.18</td>\n      <td>0</td>\n      <td>1</td>\n      <td>1</td>\n      <td>-1</td>\n      <td>NaN</td>\n      <td>1</td>\n    </tr>\n    <tr>\n      <th>470</th>\n      <td>28</td>\n      <td>09.08.18</td>\n      <td>NaN</td>\n      <td>0</td>\n      <td>0</td>\n      <td>0</td>\n      <td>NaN</td>\n      <td>1</td>\n    </tr>\n    <tr>\n      <th>471</th>\n      <td>28</td>\n      <td>10.08.18</td>\n      <td>NaN</td>\n      <td>0</td>\n      <td>1</td>\n      <td>0</td>\n      <td>NaN</td>\n      <td>1</td>\n    </tr>\n    <tr>\n      <th>472</th>\n      <td>28</td>\n      <td>13.08.18</td>\n      <td>NaN</td>\n      <td>1</td>\n      <td>1</td>\n      <td>0</td>\n      <td>NaN</td>\n      <td>1</td>\n    </tr>\n    <tr>\n      <th>473</th>\n      <td>28</td>\n      <td>14.08.18</td>\n      <td>NaN</td>\n      <td>0</td>\n      <td>1</td>\n      <td>-1</td>\n      <td>NaN</td>\n      <td>1</td>\n    </tr>\n  </tbody>\n</table>\n<p>474 rows × 8 columns</p>\n</div>"
     },
     "execution_count": 157,
     "metadata": {},
     "output_type": "execute_result"
    }
   ],
   "source": [
    "query = '''\n",
    "SELECT subjectID, SUBSTRING(timestamp, 1, 8) AS date, GROUP_CONCAT(VAS) AS VAS, GROUP_CONCAT(phF) AS phF, GROUP_CONCAT(MF) AS MF, GROUP_CONCAT(ReIP) AS ReIP, GROUP_CONCAT(Sport) AS Sport, COUNT(*) AS n_answers\n",
    "FROM Y_classes\n",
    "GROUP BY subjectID, date\n",
    "ORDER BY n_answers DESC;'''\n",
    "sqldf(query)"
   ],
   "metadata": {
    "collapsed": false,
    "pycharm": {
     "name": "#%%\n"
    }
   }
  },
  {
   "cell_type": "code",
   "execution_count": null,
   "outputs": [],
   "source": [],
   "metadata": {
    "collapsed": false,
    "pycharm": {
     "name": "#%%\n"
    }
   }
  },
  {
   "cell_type": "code",
   "execution_count": null,
   "outputs": [],
   "source": [],
   "metadata": {
    "collapsed": false,
    "pycharm": {
     "name": "#%%\n"
    }
   }
  },
  {
   "cell_type": "code",
   "execution_count": null,
   "outputs": [],
   "source": [],
   "metadata": {
    "collapsed": false,
    "pycharm": {
     "name": "#%%\n"
    }
   }
  },
  {
   "cell_type": "code",
   "execution_count": null,
   "outputs": [],
   "source": [],
   "metadata": {
    "collapsed": false,
    "pycharm": {
     "name": "#%%\n"
    }
   }
  },
  {
   "cell_type": "code",
   "execution_count": null,
   "outputs": [],
   "source": [],
   "metadata": {
    "collapsed": false,
    "pycharm": {
     "name": "#%%\n"
    }
   }
  }
 ],
 "metadata": {
  "kernelspec": {
   "display_name": "Python 3",
   "language": "python",
   "name": "python3"
  },
  "language_info": {
   "codemirror_mode": {
    "name": "ipython",
    "version": 2
   },
   "file_extension": ".py",
   "mimetype": "text/x-python",
   "name": "python",
   "nbconvert_exporter": "python",
   "pygments_lexer": "ipython2",
   "version": "2.7.6"
  }
 },
 "nbformat": 4,
 "nbformat_minor": 0
}