{
 "cells": [
  {
   "cell_type": "code",
   "execution_count": 26,
   "metadata": {},
   "outputs": [],
   "source": [
    "import numpy as np\n",
    "import matplotlib.pyplot as plt\n",
    "from tqdm import tqdm\n",
    "import json\n",
    "from sklearn.preprocessing import StandardScaler\n",
    "from sklearn.model_selection import StratifiedKFold, LeaveOneGroupOut, StratifiedGroupKFold\n",
    "from sklearn.metrics import accuracy_score, balanced_accuracy_score, f1_score, precision_score, recall_score, confusion_matrix, ConfusionMatrixDisplay\n",
    "import xgboost as xgb\n",
    "import warnings\n",
    "import os"
   ]
  },
  {
   "cell_type": "code",
   "execution_count": 27,
   "outputs": [],
   "source": [
    "def evaluator(y_pred, y_test, verbose=False):\n",
    "    \"\"\"Returns evaluation metric scores\"\"\"\n",
    "    accuracy = accuracy_score(y_pred=y_pred, y_true=y_test)\n",
    "    balanced_accuracy = balanced_accuracy_score(y_pred=y_pred, y_true=y_test)\n",
    "    f1 = f1_score(y_pred=y_pred, y_true=y_test, average='weighted')\n",
    "    recall = recall_score(y_pred=y_pred, y_true=y_test, average='weighted')\n",
    "    precision = precision_score(y_pred=y_pred, y_true=y_test, average='weighted')\n",
    "    confusion = confusion_matrix(y_pred=y_pred, y_true=y_test)\n",
    "\n",
    "    # display scores\n",
    "    if verbose:\n",
    "        ConfusionMatrixDisplay(confusion_matrix=confusion, display_labels=[False, True]).plot(cmap=plt.cm.Blues)\n",
    "        plt.title('Physical fatigue')\n",
    "\n",
    "        print(f'accuracy: {accuracy}\\n'\n",
    "              f'balanced accuracy: {balanced_accuracy}\\n'\n",
    "              f'f1 (weighted): {f1}\\n'\n",
    "              f'recall (weighted): {recall}\\n'\n",
    "              f'precision (weighted): {precision}')\n",
    "\n",
    "    return {'accuracy': accuracy,\n",
    "            'balanced_accuracy': balanced_accuracy,\n",
    "            'f1': f1,\n",
    "            'recall': recall,\n",
    "            'precision': precision,\n",
    "            'confusion': confusion}"
   ],
   "metadata": {
    "collapsed": false
   }
  },
  {
   "cell_type": "code",
   "execution_count": 28,
   "outputs": [],
   "source": [
    "VARIABLES = ['ActivityCounts', 'Barometer', 'BloodPerfusion',\n",
    "             'BloodPulseWave', 'EnergyExpenditure', 'GalvanicSkinResponse', 'HR',\n",
    "             'HRV', 'RESP', 'Steps', 'SkinTemperature', 'ActivityClass']"
   ],
   "metadata": {
    "collapsed": false
   }
  },
  {
   "cell_type": "code",
   "execution_count": 29,
   "outputs": [],
   "source": [
    "NORMALIZE_TRAIN = True # whether to normalize data acc. to training data\n",
    "SHUFFLE = True # whether to shuffle data before applying CV"
   ],
   "metadata": {
    "collapsed": false
   }
  },
  {
   "cell_type": "code",
   "execution_count": 30,
   "outputs": [],
   "source": [
    "# for reproducability\n",
    "SEED = 42"
   ],
   "metadata": {
    "collapsed": false
   }
  },
  {
   "cell_type": "markdown",
   "source": [
    "# Import data"
   ],
   "metadata": {
    "collapsed": false
   }
  },
  {
   "cell_type": "code",
   "execution_count": 31,
   "outputs": [],
   "source": [
    "# file path to data folder\n",
    "path = './Output'"
   ],
   "metadata": {
    "collapsed": false
   }
  },
  {
   "cell_type": "code",
   "execution_count": 32,
   "outputs": [
    {
     "name": "stdout",
     "output_type": "stream",
     "text": [
      "datapoints: 317, features: 284\n"
     ]
    }
   ],
   "source": [
    "N, FEATURES = sum([1 for p in os.listdir(path) if p[:19] == 'feature_vector_stat']), \\\n",
    "              *np.load(path + '/feature_vector_stat0.npy').shape\n",
    "print(f'datapoints: {N}, features: {FEATURES}')"
   ],
   "metadata": {
    "collapsed": false
   }
  },
  {
   "cell_type": "markdown",
   "source": [
    "Feature vector, labels"
   ],
   "metadata": {
    "collapsed": false
   }
  },
  {
   "cell_type": "code",
   "execution_count": 48,
   "outputs": [],
   "source": [
    "# init\n",
    "X = np.empty((N, FEATURES))\n",
    "y = np.empty((N, 2))\n",
    "\n",
    "# load individual datapoints\n",
    "for i in range(N):\n",
    "    X[i, ] = np.load(path + f'/feature_vector_stat{i}.npy', allow_pickle=True)\n",
    "    y[i, ] = np.load(path + f'/labels_stat{i}.npy', allow_pickle=True)"
   ],
   "metadata": {
    "collapsed": false
   }
  },
  {
   "cell_type": "markdown",
   "source": [
    "Metadata (subjectID etc.)"
   ],
   "metadata": {
    "collapsed": false
   }
  },
  {
   "cell_type": "code",
   "execution_count": 34,
   "outputs": [],
   "source": [
    "with open(path + '/metadata_stat.txt') as f:\n",
    "    metadata = f.read()\n",
    "\n",
    "metadata = json.loads(metadata.replace('\\'', '\\\"').replace('False', 'false').replace('True', 'true')) # doesn't accept other chars"
   ],
   "metadata": {
    "collapsed": false
   }
  },
  {
   "cell_type": "markdown",
   "source": [
    "# XGBoost"
   ],
   "metadata": {
    "collapsed": false
   }
  },
  {
   "cell_type": "code",
   "execution_count": null,
   "outputs": [],
   "source": [
    "subjects = [meta['subjectID'] for meta in metadata]"
   ],
   "metadata": {
    "collapsed": false,
    "pycharm": {
     "name": "#%%\n"
    }
   }
  },
  {
   "cell_type": "markdown",
   "source": [
    "### 5-fold stratified CV"
   ],
   "metadata": {
    "collapsed": false
   }
  },
  {
   "cell_type": "code",
   "execution_count": 46,
   "outputs": [],
   "source": [
    "# separate label prediction\n",
    "subj = 23\n",
    "X = X[[subject == subj for subject in subjects], :]\n",
    "y = y[[subject == subj for subject in subjects], :]\n",
    "\n",
    "y_phf, y_mf = y[:, 0], y[:, 1]\n",
    "\n",
    "y_phf, y_mf = y[:, 0], y[:, 1]"
   ],
   "metadata": {
    "collapsed": false,
    "pycharm": {
     "name": "#%%\n"
    }
   }
  },
  {
   "cell_type": "code",
   "execution_count": 47,
   "outputs": [
    {
     "name": "stdout",
     "output_type": "stream",
     "text": [
      "Starting cross-validation for Physical fatigue\n"
     ]
    },
    {
     "name": "stderr",
     "output_type": "stream",
     "text": [
      " Fold 5 F1: 0.7868131868131868: 100%|██████████| 5/5 [00:00<00:00, 18.83it/s]\n"
     ]
    },
    {
     "name": "stdout",
     "output_type": "stream",
     "text": [
      "Performance model:\n",
      " accuracy: 0.614 +- 0.086 \n",
      "\n",
      " balanced_accuracy: 0.612 +- 0.091 \n",
      "\n",
      " f1: 0.607 +- 0.09 \n",
      "\n",
      " recall: 0.614 +- 0.086 \n",
      "\n",
      " precision: 0.621 +- 0.088 \n",
      "\n",
      "Starting cross-validation for Mental fatigue\n"
     ]
    },
    {
     "name": "stderr",
     "output_type": "stream",
     "text": [
      " Fold 5 F1: 0.7142857142857143: 100%|██████████| 5/5 [00:00<00:00, 18.12it/s]"
     ]
    },
    {
     "name": "stdout",
     "output_type": "stream",
     "text": [
      "Performance model:\n",
      " accuracy: 0.629 +- 0.105 \n",
      "\n",
      " balanced_accuracy: 0.612 +- 0.112 \n",
      "\n",
      " f1: 0.62 +- 0.113 \n",
      "\n",
      " recall: 0.629 +- 0.105 \n",
      "\n",
      " precision: 0.624 +- 0.12 \n",
      "\n",
      "CPU times: total: 5.02 s\n",
      "Wall time: 548 ms\n"
     ]
    },
    {
     "name": "stderr",
     "output_type": "stream",
     "text": [
      "\n"
     ]
    }
   ],
   "source": [
    "%%time\n",
    "# nested CV\n",
    "folds = 5\n",
    "\n",
    "with warnings.catch_warnings():\n",
    "    # ignore sklearn warning\n",
    "    warnings.filterwarnings('ignore')\n",
    "\n",
    "    for fatigue in ('Physical fatigue', 'Mental fatigue'):\n",
    "        # load labels\n",
    "        print(f'Starting cross-validation for {fatigue}')\n",
    "        y_ = {'Physical fatigue': y_phf, 'Mental fatigue': y_mf}[fatigue] # pick phF or MF\n",
    "\n",
    "        # CV: performance evaluation\n",
    "        cv = StratifiedKFold(n_splits=folds, shuffle=True, random_state=SEED) if SHUFFLE \\\n",
    "            else StratifiedKFold(n_splits=folds)\n",
    "        scores_cv = []\n",
    "        with tqdm(total=folds) as pbar:\n",
    "            for i, (train_outer_index, test_outer_index) in enumerate(cv.split(X, y_)):\n",
    "                # train/test split\n",
    "                X_train, X_test = X[train_outer_index], X[test_outer_index]\n",
    "                y_train, y_test = y_[train_outer_index], y_[test_outer_index]\n",
    "\n",
    "                # normalize features (acc.to train set)\n",
    "                if NORMALIZE_TRAIN:\n",
    "                    scaler = StandardScaler()\n",
    "                    scaler.fit(X_train)\n",
    "                    X_train = scaler.transform(X_train, copy=True)\n",
    "                    X_test = scaler.transform(X_test, copy=True)\n",
    "\n",
    "                # model\n",
    "                model = xgb.XGBClassifier(random_state=SEED, verbosity=0)\n",
    "\n",
    "                # training\n",
    "                model.fit(X_train, y_train)\n",
    "\n",
    "                # evaluate\n",
    "                y_pred = model.predict(X_test)\n",
    "                scores = evaluator(y_pred, y_test, verbose=False)\n",
    "                scores_cv.append(scores)\n",
    "\n",
    "                # for progress bar\n",
    "                pbar.update(1)\n",
    "                pbar.set_description(f' Fold {i+1} F1: {scores[\"f1\"]}')\n",
    "\n",
    "        # final evaluation\n",
    "        print('Performance model:')\n",
    "        metrics = scores_cv[0].keys()\n",
    "        for metric in metrics:\n",
    "            # ignore confusion_matrix\n",
    "            if metric == 'confusion':\n",
    "                continue\n",
    "            mean = np.mean([scores_cv_i[metric] for scores_cv_i in scores_cv])\n",
    "            std = np.std([scores_cv_i[metric] for scores_cv_i in scores_cv])\n",
    "            print(f' {metric}: {round(mean, 3)} +- {round(std, 3)} \\n')"
   ],
   "metadata": {
    "collapsed": false,
    "pycharm": {
     "name": "#%%\n"
    }
   }
  },
  {
   "cell_type": "code",
   "execution_count": 41,
   "outputs": [
    {
     "data": {
      "text/plain": "[{'accuracy': 0.6428571428571429,\n  'balanced_accuracy': 0.625,\n  'f1': 0.6371275783040489,\n  'recall': 0.6428571428571429,\n  'precision': 0.6380952380952382,\n  'confusion': array([[3, 3],\n         [2, 6]], dtype=int64)},\n {'accuracy': 0.6428571428571429,\n  'balanced_accuracy': 0.6458333333333333,\n  'f1': 0.6446886446886447,\n  'recall': 0.6428571428571429,\n  'precision': 0.6530612244897959,\n  'confusion': array([[4, 2],\n         [3, 5]], dtype=int64)},\n {'accuracy': 0.42857142857142855,\n  'balanced_accuracy': 0.3958333333333333,\n  'f1': 0.4031746031746032,\n  'recall': 0.42857142857142855,\n  'precision': 0.39285714285714285,\n  'confusion': array([[1, 5],\n         [3, 5]], dtype=int64)},\n {'accuracy': 0.7142857142857143,\n  'balanced_accuracy': 0.6875,\n  'f1': 0.7015873015873015,\n  'recall': 0.7142857142857143,\n  'precision': 0.7214285714285714,\n  'confusion': array([[3, 3],\n         [1, 7]], dtype=int64)},\n {'accuracy': 0.7142857142857143,\n  'balanced_accuracy': 0.7083333333333333,\n  'f1': 0.7142857142857143,\n  'recall': 0.7142857142857143,\n  'precision': 0.7142857142857143,\n  'confusion': array([[4, 2],\n         [2, 6]], dtype=int64)}]"
     },
     "execution_count": 41,
     "metadata": {},
     "output_type": "execute_result"
    }
   ],
   "source": [
    "scores_cv"
   ],
   "metadata": {
    "collapsed": false,
    "pycharm": {
     "name": "#%%\n"
    }
   }
  },
  {
   "cell_type": "code",
   "execution_count": null,
   "outputs": [],
   "source": [],
   "metadata": {
    "collapsed": false,
    "pycharm": {
     "name": "#%%\n"
    }
   }
  },
  {
   "cell_type": "code",
   "execution_count": 43,
   "outputs": [],
   "source": [
    "# separate label prediction\n",
    "subj = 24\n",
    "X = X[[subject == subj for subject in subjects], :]\n",
    "y = y[[subject == subj for subject in subjects], :]\n",
    "\n",
    "y_phf, y_mf = y[:, 0], y[:, 1]"
   ],
   "metadata": {
    "collapsed": false,
    "pycharm": {
     "name": "#%%\n"
    }
   }
  },
  {
   "cell_type": "code",
   "execution_count": 44,
   "outputs": [
    {
     "name": "stdout",
     "output_type": "stream",
     "text": [
      "Starting cross-validation for Physical fatigue\n"
     ]
    },
    {
     "name": "stderr",
     "output_type": "stream",
     "text": [
      " Fold 5 F1: 0.9217638691322904: 100%|██████████| 5/5 [00:00<00:00, 20.70it/s]\n"
     ]
    },
    {
     "name": "stdout",
     "output_type": "stream",
     "text": [
      "Performance model:\n",
      " accuracy: 0.947 +- 0.033 \n",
      "\n",
      " balanced_accuracy: 0.594 +- 0.203 \n",
      "\n",
      " f1: 0.932 +- 0.036 \n",
      "\n",
      " recall: 0.947 +- 0.033 \n",
      "\n",
      " precision: 0.917 +- 0.041 \n",
      "\n",
      "Starting cross-validation for Mental fatigue\n"
     ]
    },
    {
     "name": "stderr",
     "output_type": "stream",
     "text": [
      " Fold 5 F1: 0.7430340557275542: 100%|██████████| 5/5 [00:00<00:00, 18.80it/s]"
     ]
    },
    {
     "name": "stdout",
     "output_type": "stream",
     "text": [
      "Performance model:\n",
      " accuracy: 0.821 +- 0.054 \n",
      "\n",
      " balanced_accuracy: 0.481 +- 0.025 \n",
      "\n",
      " f1: 0.768 +- 0.043 \n",
      "\n",
      " recall: 0.821 +- 0.054 \n",
      "\n",
      " precision: 0.723 +- 0.039 \n",
      "\n",
      "CPU times: total: 4.78 s\n",
      "Wall time: 514 ms\n"
     ]
    },
    {
     "name": "stderr",
     "output_type": "stream",
     "text": [
      "\n"
     ]
    }
   ],
   "source": [
    "%%time\n",
    "# nested CV\n",
    "folds = 5\n",
    "\n",
    "with warnings.catch_warnings():\n",
    "    # ignore sklearn warning\n",
    "    warnings.filterwarnings('ignore')\n",
    "\n",
    "    for fatigue in ('Physical fatigue', 'Mental fatigue'):\n",
    "        # load labels\n",
    "        print(f'Starting cross-validation for {fatigue}')\n",
    "        y_ = {'Physical fatigue': y_phf, 'Mental fatigue': y_mf}[fatigue] # pick phF or MF\n",
    "\n",
    "        # CV: performance evaluation\n",
    "        cv = StratifiedKFold(n_splits=folds, shuffle=True, random_state=SEED) if SHUFFLE \\\n",
    "            else StratifiedKFold(n_splits=folds)\n",
    "        scores_cv = []\n",
    "        with tqdm(total=folds) as pbar:\n",
    "            for i, (train_outer_index, test_outer_index) in enumerate(cv.split(X, y_)):\n",
    "                # train/test split\n",
    "                X_train, X_test = X[train_outer_index], X[test_outer_index]\n",
    "                y_train, y_test = y_[train_outer_index], y_[test_outer_index]\n",
    "\n",
    "                # normalize features (acc.to train set)\n",
    "                if NORMALIZE_TRAIN:\n",
    "                    scaler = StandardScaler()\n",
    "                    scaler.fit(X_train)\n",
    "                    X_train = scaler.transform(X_train, copy=True)\n",
    "                    X_test = scaler.transform(X_test, copy=True)\n",
    "\n",
    "                # model\n",
    "                model = xgb.XGBClassifier(random_state=SEED, verbosity=0)\n",
    "\n",
    "                # training\n",
    "                model.fit(X_train, y_train)\n",
    "\n",
    "                # evaluate\n",
    "                y_pred = model.predict(X_test)\n",
    "                scores = evaluator(y_pred, y_test, verbose=False)\n",
    "                scores_cv.append(scores)\n",
    "\n",
    "                # for progress bar\n",
    "                pbar.update(1)\n",
    "                pbar.set_description(f' Fold {i+1} F1: {scores[\"f1\"]}')\n",
    "\n",
    "        # final evaluation\n",
    "        print('Performance model:')\n",
    "        metrics = scores_cv[0].keys()\n",
    "        for metric in metrics:\n",
    "            # ignore confusion_matrix\n",
    "            if metric == 'confusion':\n",
    "                continue\n",
    "            mean = np.mean([scores_cv_i[metric] for scores_cv_i in scores_cv])\n",
    "            std = np.std([scores_cv_i[metric] for scores_cv_i in scores_cv])\n",
    "            print(f' {metric}: {round(mean, 3)} +- {round(std, 3)} \\n')"
   ],
   "metadata": {
    "collapsed": false,
    "pycharm": {
     "name": "#%%\n"
    }
   }
  },
  {
   "cell_type": "code",
   "execution_count": null,
   "outputs": [],
   "source": [],
   "metadata": {
    "collapsed": false,
    "pycharm": {
     "name": "#%%\n"
    }
   }
  },
  {
   "cell_type": "code",
   "execution_count": 49,
   "outputs": [],
   "source": [
    "# separate label prediction\n",
    "subj = 26\n",
    "X = X[[subject == subj for subject in subjects], :]\n",
    "y = y[[subject == subj for subject in subjects], :]\n",
    "\n",
    "y_phf, y_mf = y[:, 0], y[:, 1]"
   ],
   "metadata": {
    "collapsed": false,
    "pycharm": {
     "name": "#%%\n"
    }
   }
  },
  {
   "cell_type": "code",
   "execution_count": 50,
   "outputs": [
    {
     "name": "stdout",
     "output_type": "stream",
     "text": [
      "Starting cross-validation for Physical fatigue\n"
     ]
    },
    {
     "name": "stderr",
     "output_type": "stream",
     "text": [
      " Fold 5 F1: 1.0: 100%|██████████| 5/5 [00:00<00:00, 20.20it/s]               \n"
     ]
    },
    {
     "name": "stdout",
     "output_type": "stream",
     "text": [
      "Performance model:\n",
      " accuracy: 0.98 +- 0.04 \n",
      "\n",
      " balanced_accuracy: 0.9 +- 0.2 \n",
      "\n",
      " f1: 0.971 +- 0.059 \n",
      "\n",
      " recall: 0.98 +- 0.04 \n",
      "\n",
      " precision: 0.962 +- 0.076 \n",
      "\n",
      "Starting cross-validation for Mental fatigue\n"
     ]
    },
    {
     "name": "stderr",
     "output_type": "stream",
     "text": [
      " Fold 5 F1: 0.8366013071895425: 100%|██████████| 5/5 [00:00<00:00, 20.28it/s]"
     ]
    },
    {
     "name": "stdout",
     "output_type": "stream",
     "text": [
      "Performance model:\n",
      " accuracy: 0.938 +- 0.051 \n",
      "\n",
      " balanced_accuracy: 0.7 +- 0.245 \n",
      "\n",
      " f1: 0.908 +- 0.075 \n",
      "\n",
      " recall: 0.938 +- 0.051 \n",
      "\n",
      " precision: 0.882 +- 0.097 \n",
      "\n",
      "CPU times: total: 4.11 s\n",
      "Wall time: 502 ms\n"
     ]
    },
    {
     "name": "stderr",
     "output_type": "stream",
     "text": [
      "\n"
     ]
    }
   ],
   "source": [
    "%%time\n",
    "# nested CV\n",
    "folds = 5\n",
    "\n",
    "with warnings.catch_warnings():\n",
    "    # ignore sklearn warning\n",
    "    warnings.filterwarnings('ignore')\n",
    "\n",
    "    for fatigue in ('Physical fatigue', 'Mental fatigue'):\n",
    "        # load labels\n",
    "        print(f'Starting cross-validation for {fatigue}')\n",
    "        y_ = {'Physical fatigue': y_phf, 'Mental fatigue': y_mf}[fatigue] # pick phF or MF\n",
    "\n",
    "        # CV: performance evaluation\n",
    "        cv = StratifiedKFold(n_splits=folds, shuffle=True, random_state=SEED) if SHUFFLE \\\n",
    "            else StratifiedKFold(n_splits=folds)\n",
    "        scores_cv = []\n",
    "        with tqdm(total=folds) as pbar:\n",
    "            for i, (train_outer_index, test_outer_index) in enumerate(cv.split(X, y_)):\n",
    "                # train/test split\n",
    "                X_train, X_test = X[train_outer_index], X[test_outer_index]\n",
    "                y_train, y_test = y_[train_outer_index], y_[test_outer_index]\n",
    "\n",
    "                # normalize features (acc.to train set)\n",
    "                if NORMALIZE_TRAIN:\n",
    "                    scaler = StandardScaler()\n",
    "                    scaler.fit(X_train)\n",
    "                    X_train = scaler.transform(X_train, copy=True)\n",
    "                    X_test = scaler.transform(X_test, copy=True)\n",
    "\n",
    "                # model\n",
    "                model = xgb.XGBClassifier(random_state=SEED, verbosity=0)\n",
    "\n",
    "                # training\n",
    "                model.fit(X_train, y_train)\n",
    "\n",
    "                # evaluate\n",
    "                y_pred = model.predict(X_test)\n",
    "                scores = evaluator(y_pred, y_test, verbose=False)\n",
    "                scores_cv.append(scores)\n",
    "\n",
    "                # for progress bar\n",
    "                pbar.update(1)\n",
    "                pbar.set_description(f' Fold {i+1} F1: {scores[\"f1\"]}')\n",
    "\n",
    "        # final evaluation\n",
    "        print('Performance model:')\n",
    "        metrics = scores_cv[0].keys()\n",
    "        for metric in metrics:\n",
    "            # ignore confusion_matrix\n",
    "            if metric == 'confusion':\n",
    "                continue\n",
    "            mean = np.mean([scores_cv_i[metric] for scores_cv_i in scores_cv])\n",
    "            std = np.std([scores_cv_i[metric] for scores_cv_i in scores_cv])\n",
    "            print(f' {metric}: {round(mean, 3)} +- {round(std, 3)} \\n')"
   ],
   "metadata": {
    "collapsed": false,
    "pycharm": {
     "name": "#%%\n"
    }
   }
  },
  {
   "cell_type": "code",
   "execution_count": null,
   "outputs": [],
   "source": [],
   "metadata": {
    "collapsed": false,
    "pycharm": {
     "name": "#%%\n"
    }
   }
  }
 ],
 "metadata": {
  "kernelspec": {
   "display_name": "Python 3 (ipykernel)",
   "language": "python",
   "name": "python3"
  },
  "language_info": {
   "codemirror_mode": {
    "name": "ipython",
    "version": 3
   },
   "file_extension": ".py",
   "mimetype": "text/x-python",
   "name": "python",
   "nbconvert_exporter": "python",
   "pygments_lexer": "ipython3",
   "version": "3.10.6"
  }
 },
 "nbformat": 4,
 "nbformat_minor": 1
}