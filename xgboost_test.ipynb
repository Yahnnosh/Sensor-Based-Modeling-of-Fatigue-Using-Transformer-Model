{
 "cells": [
  {
   "cell_type": "markdown",
   "source": [
    "# note that we are using sensor-wise normalization"
   ],
   "metadata": {
    "collapsed": false
   }
  },
  {
   "cell_type": "code",
   "execution_count": 2,
   "metadata": {},
   "outputs": [],
   "source": [
    "import numpy as np\n",
    "import matplotlib.pyplot as plt\n",
    "from tqdm import tqdm\n",
    "import json\n",
    "from sklearn.preprocessing import StandardScaler\n",
    "from sklearn.model_selection import StratifiedKFold, LeaveOneGroupOut, StratifiedGroupKFold\n",
    "from sklearn.metrics import accuracy_score, balanced_accuracy_score, f1_score, precision_score, recall_score, confusion_matrix, ConfusionMatrixDisplay\n",
    "import xgboost as xgb\n",
    "import warnings\n",
    "import os"
   ]
  },
  {
   "cell_type": "code",
   "execution_count": 3,
   "outputs": [],
   "source": [
    "def evaluator(y_pred, y_test, verbose=False):\n",
    "    \"\"\"Returns evaluation metric scores\"\"\"\n",
    "    accuracy = accuracy_score(y_pred=y_pred, y_true=y_test)\n",
    "    balanced_accuracy = balanced_accuracy_score(y_pred=y_pred, y_true=y_test)\n",
    "    f1 = f1_score(y_pred=y_pred, y_true=y_test, average='weighted')\n",
    "    recall = recall_score(y_pred=y_pred, y_true=y_test, average='weighted')\n",
    "    precision = precision_score(y_pred=y_pred, y_true=y_test, average='weighted')\n",
    "    confusion = confusion_matrix(y_pred=y_pred, y_true=y_test)\n",
    "\n",
    "    # display scores\n",
    "    if verbose:\n",
    "        ConfusionMatrixDisplay(confusion_matrix=confusion, display_labels=[False, True]).plot(cmap=plt.cm.Blues)\n",
    "        plt.title('Physical fatigue')\n",
    "\n",
    "        print(f'accuracy: {accuracy}\\n'\n",
    "              f'balanced accuracy: {balanced_accuracy}\\n'\n",
    "              f'f1 (weighted): {f1}\\n'\n",
    "              f'recall (weighted): {recall}\\n'\n",
    "              f'precision (weighted): {precision}')\n",
    "\n",
    "    return {'accuracy': accuracy,\n",
    "            'balanced_accuracy': balanced_accuracy,\n",
    "            'f1': f1,\n",
    "            'recall': recall,\n",
    "            'precision': precision,\n",
    "            'confusion': confusion}"
   ],
   "metadata": {
    "collapsed": false
   }
  },
  {
   "cell_type": "code",
   "execution_count": 4,
   "outputs": [],
   "source": [
    "VARIABLES = ['ActivityCounts', 'Barometer', 'BloodPerfusion',\n",
    "             'BloodPulseWave', 'EnergyExpenditure', 'GalvanicSkinResponse', 'HR',\n",
    "             'HRV', 'RESP', 'Steps', 'SkinTemperature', 'ActivityClass']"
   ],
   "metadata": {
    "collapsed": false
   }
  },
  {
   "cell_type": "code",
   "execution_count": 5,
   "outputs": [],
   "source": [
    "NORMALIZE_TRAIN = True # whether to normalize data acc. to training data\n",
    "SHUFFLE = True # whether to shuffle data before applying CV"
   ],
   "metadata": {
    "collapsed": false
   }
  },
  {
   "cell_type": "code",
   "execution_count": 6,
   "outputs": [],
   "source": [
    "# for reproducability\n",
    "SEED = 42"
   ],
   "metadata": {
    "collapsed": false
   }
  },
  {
   "cell_type": "markdown",
   "source": [
    "# Import data"
   ],
   "metadata": {
    "collapsed": false
   }
  },
  {
   "cell_type": "code",
   "execution_count": 7,
   "outputs": [],
   "source": [
    "# file path to data folder\n",
    "path = './Output'"
   ],
   "metadata": {
    "collapsed": false
   }
  },
  {
   "cell_type": "code",
   "execution_count": 8,
   "outputs": [
    {
     "name": "stdout",
     "output_type": "stream",
     "text": [
      "datapoints: 317, features: 284\n"
     ]
    }
   ],
   "source": [
    "N, FEATURES = sum([1 for p in os.listdir(path) if p[:19] == 'feature_vector_stat']), \\\n",
    "              *np.load(path + '/feature_vector_stat0.npy').shape\n",
    "print(f'datapoints: {N}, features: {FEATURES}')"
   ],
   "metadata": {
    "collapsed": false
   }
  },
  {
   "cell_type": "markdown",
   "source": [
    "Feature vector, labels"
   ],
   "metadata": {
    "collapsed": false
   }
  },
  {
   "cell_type": "code",
   "execution_count": 9,
   "outputs": [],
   "source": [
    "# init\n",
    "X = np.empty((N, FEATURES))\n",
    "y = np.empty((N, 2))\n",
    "\n",
    "# load individual datapoints\n",
    "for i in range(N):\n",
    "    X[i, ] = np.load(path + f'/feature_vector_stat{i}.npy', allow_pickle=True)\n",
    "    y[i, ] = np.load(path + f'/labels_stat{i}.npy', allow_pickle=True)"
   ],
   "metadata": {
    "collapsed": false
   }
  },
  {
   "cell_type": "markdown",
   "source": [
    "Metadata (subjectID etc.)"
   ],
   "metadata": {
    "collapsed": false
   }
  },
  {
   "cell_type": "code",
   "execution_count": 10,
   "outputs": [],
   "source": [
    "with open(path + '/metadata_stat.txt') as f:\n",
    "    metadata = f.read()\n",
    "\n",
    "metadata = json.loads(metadata.replace('\\'', '\\\"').replace('False', 'false').replace('True', 'true')) # doesn't accept other chars"
   ],
   "metadata": {
    "collapsed": false
   }
  },
  {
   "cell_type": "markdown",
   "source": [
    "# XGBoost"
   ],
   "metadata": {
    "collapsed": false
   }
  },
  {
   "cell_type": "markdown",
   "source": [
    "### test whether main difficulty subj.-variability or classification"
   ],
   "metadata": {
    "collapsed": false
   }
  },
  {
   "cell_type": "markdown",
   "source": [
    "1) give model subject information"
   ],
   "metadata": {
    "collapsed": false
   }
  },
  {
   "cell_type": "code",
   "execution_count": 13,
   "outputs": [],
   "source": [
    "subjects = [meta['subjectID'] for meta in metadata]\n",
    "y_phf, y_mf = y[:, 0], y[:, 1]"
   ],
   "metadata": {
    "collapsed": false
   }
  },
  {
   "cell_type": "code",
   "execution_count": 12,
   "outputs": [],
   "source": [
    "X_mod = np.append(X, np.array(subjects).reshape(-1, 1), axis=1)"
   ],
   "metadata": {
    "collapsed": false
   }
  },
  {
   "cell_type": "code",
   "execution_count": 14,
   "outputs": [
    {
     "name": "stdout",
     "output_type": "stream",
     "text": [
      "Starting cross-validation for Physical fatigue\n"
     ]
    },
    {
     "name": "stderr",
     "output_type": "stream",
     "text": [
      " Fold 5 F1: 0.7210884353741497: 100%|██████████| 5/5 [00:00<00:00,  9.21it/s]\n"
     ]
    },
    {
     "name": "stdout",
     "output_type": "stream",
     "text": [
      "Performance model:\n",
      " accuracy: 0.789 +- 0.033 \n",
      "\n",
      " balanced_accuracy: 0.64 +- 0.051 \n",
      "\n",
      " f1: 0.765 +- 0.038 \n",
      "\n",
      " recall: 0.789 +- 0.033 \n",
      "\n",
      " precision: 0.771 +- 0.046 \n",
      "\n",
      "Starting cross-validation for Mental fatigue\n"
     ]
    },
    {
     "name": "stderr",
     "output_type": "stream",
     "text": [
      " Fold 5 F1: 0.6413129598189022: 100%|██████████| 5/5 [00:00<00:00, 11.39it/s]"
     ]
    },
    {
     "name": "stdout",
     "output_type": "stream",
     "text": [
      "Performance model:\n",
      " accuracy: 0.691 +- 0.049 \n",
      "\n",
      " balanced_accuracy: 0.578 +- 0.061 \n",
      "\n",
      " f1: 0.662 +- 0.055 \n",
      "\n",
      " recall: 0.691 +- 0.049 \n",
      "\n",
      " precision: 0.661 +- 0.069 \n",
      "\n",
      "CPU times: user 5.82 s, sys: 653 ms, total: 6.47 s\n",
      "Wall time: 1.01 s\n"
     ]
    },
    {
     "name": "stderr",
     "output_type": "stream",
     "text": [
      "\n"
     ]
    }
   ],
   "source": [
    "%%time\n",
    "# nested CV\n",
    "folds = 5\n",
    "\n",
    "with warnings.catch_warnings():\n",
    "    # ignore sklearn warning\n",
    "    warnings.filterwarnings('ignore')\n",
    "\n",
    "    for fatigue in ('Physical fatigue', 'Mental fatigue'):\n",
    "        # load labels\n",
    "        print(f'Starting cross-validation for {fatigue}')\n",
    "        y_ = {'Physical fatigue': y_phf, 'Mental fatigue': y_mf}[fatigue] # pick phF or MF\n",
    "\n",
    "        # CV: performance evaluation\n",
    "        cv = StratifiedKFold(n_splits=folds, shuffle=True, random_state=SEED) if SHUFFLE \\\n",
    "            else StratifiedKFold(n_splits=folds)\n",
    "        scores_cv = []\n",
    "        with tqdm(total=folds) as pbar:\n",
    "            for i, (train_outer_index, test_outer_index) in enumerate(cv.split(X_mod, y_)):\n",
    "                # train/test split\n",
    "                X_train, X_test = X_mod[train_outer_index], X_mod[test_outer_index]\n",
    "                y_train, y_test = y_[train_outer_index], y_[test_outer_index]\n",
    "\n",
    "                # normalize features (acc.to train set)\n",
    "                if NORMALIZE_TRAIN:\n",
    "                    scaler = StandardScaler()\n",
    "                    scaler.fit(X_train)\n",
    "                    X_train = scaler.transform(X_train, copy=True)\n",
    "                    X_test = scaler.transform(X_test, copy=True)\n",
    "\n",
    "                # model\n",
    "                model = xgb.XGBClassifier(random_state=SEED, verbosity=0)\n",
    "\n",
    "                # training\n",
    "                model.fit(X_train, y_train)\n",
    "\n",
    "                # evaluate\n",
    "                y_pred = model.predict(X_test)\n",
    "                scores = evaluator(y_pred, y_test, verbose=False)\n",
    "                scores_cv.append(scores)\n",
    "\n",
    "                # for progress bar\n",
    "                pbar.update(1)\n",
    "                pbar.set_description(f' Fold {i+1} F1: {scores[\"f1\"]}')\n",
    "\n",
    "        # final evaluation\n",
    "        print('Performance model:')\n",
    "        metrics = scores_cv[0].keys()\n",
    "        for metric in metrics:\n",
    "            # ignore confusion_matrix\n",
    "            if metric == 'confusion':\n",
    "                continue\n",
    "            mean = np.mean([scores_cv_i[metric] for scores_cv_i in scores_cv])\n",
    "            std = np.std([scores_cv_i[metric] for scores_cv_i in scores_cv])\n",
    "            print(f' {metric}: {round(mean, 3)} +- {round(std, 3)} \\n')"
   ],
   "metadata": {
    "collapsed": false
   }
  },
  {
   "cell_type": "markdown",
   "source": [
    "2) only use one subject as dataset"
   ],
   "metadata": {
    "collapsed": false
   }
  },
  {
   "cell_type": "code",
   "execution_count": 24,
   "outputs": [
    {
     "name": "stdout",
     "output_type": "stream",
     "text": [
      "(subject 23) Starting cross-validation for Physical fatigue\n",
      "Performance model:\n",
      " accuracy: 0.586 +- 0.139 \n",
      "\n",
      " balanced_accuracy: 0.585 +- 0.137 \n",
      "\n",
      " f1: 0.586 +- 0.138 \n",
      "\n",
      " recall: 0.586 +- 0.139 \n",
      "\n",
      " precision: 0.59 +- 0.136 \n",
      "\n",
      "(subject 23) Starting cross-validation for Mental fatigue\n",
      "Performance model:\n",
      " accuracy: 0.614 +- 0.097 \n",
      "\n",
      " balanced_accuracy: 0.596 +- 0.105 \n",
      "\n",
      " f1: 0.606 +- 0.106 \n",
      "\n",
      " recall: 0.614 +- 0.097 \n",
      "\n",
      " precision: 0.604 +- 0.11 \n",
      "\n",
      "(subject 24) Starting cross-validation for Physical fatigue\n",
      "Performance model:\n",
      " accuracy: 0.947 +- 0.033 \n",
      "\n",
      " balanced_accuracy: 0.594 +- 0.203 \n",
      "\n",
      " f1: 0.932 +- 0.036 \n",
      "\n",
      " recall: 0.947 +- 0.033 \n",
      "\n",
      " precision: 0.917 +- 0.041 \n",
      "\n",
      "(subject 24) Starting cross-validation for Mental fatigue\n",
      "Performance model:\n",
      " accuracy: 0.832 +- 0.039 \n",
      "\n",
      " balanced_accuracy: 0.488 +- 0.015 \n",
      "\n",
      " f1: 0.774 +- 0.037 \n",
      "\n",
      " recall: 0.832 +- 0.039 \n",
      "\n",
      " precision: 0.724 +- 0.038 \n",
      "\n",
      "(subject 25) Starting cross-validation for Physical fatigue\n",
      "Performance model:\n",
      " accuracy: 0.3 +- 0.267 \n",
      "\n",
      " balanced_accuracy: 0.25 +- 0.224 \n",
      "\n",
      " f1: 0.273 +- 0.233 \n",
      "\n",
      " recall: 0.3 +- 0.267 \n",
      "\n",
      " precision: 0.256 +- 0.215 \n",
      "\n",
      "(subject 25) Starting cross-validation for Mental fatigue\n",
      "Performance model:\n",
      " accuracy: 0.45 +- 0.163 \n",
      "\n",
      " balanced_accuracy: 0.45 +- 0.187 \n",
      "\n",
      " f1: 0.38 +- 0.188 \n",
      "\n",
      " recall: 0.45 +- 0.163 \n",
      "\n",
      " precision: 0.372 +- 0.244 \n",
      "\n",
      "(subject 27) Starting cross-validation for Physical fatigue\n",
      "Performance model:\n",
      " accuracy: 0.7 +- 0.245 \n",
      "\n",
      " balanced_accuracy: 0.7 +- 0.245 \n",
      "\n",
      " f1: 0.6 +- 0.327 \n",
      "\n",
      " recall: 0.7 +- 0.245 \n",
      "\n",
      " precision: 0.55 +- 0.367 \n",
      "\n",
      "(subject 27) Starting cross-validation for Mental fatigue\n"
     ]
    },
    {
     "ename": "ValueError",
     "evalue": "n_splits=5 cannot be greater than the number of members in each class.",
     "output_type": "error",
     "traceback": [
      "\u001B[0;31m---------------------------------------------------------------------------\u001B[0m",
      "\u001B[0;31mValueError\u001B[0m                                Traceback (most recent call last)",
      "Input \u001B[0;32mIn [24]\u001B[0m, in \u001B[0;36m<cell line: 1>\u001B[0;34m()\u001B[0m\n\u001B[1;32m     19\u001B[0m cv \u001B[38;5;241m=\u001B[39m StratifiedKFold(n_splits\u001B[38;5;241m=\u001B[39mfolds, shuffle\u001B[38;5;241m=\u001B[39m\u001B[38;5;28;01mTrue\u001B[39;00m, random_state\u001B[38;5;241m=\u001B[39mSEED) \u001B[38;5;28;01mif\u001B[39;00m SHUFFLE \\\n\u001B[1;32m     20\u001B[0m     \u001B[38;5;28;01melse\u001B[39;00m StratifiedKFold(n_splits\u001B[38;5;241m=\u001B[39mfolds)\n\u001B[1;32m     21\u001B[0m scores_cv \u001B[38;5;241m=\u001B[39m []\n\u001B[0;32m---> 22\u001B[0m \u001B[38;5;28;01mfor\u001B[39;00m i, (train_outer_index, test_outer_index) \u001B[38;5;129;01min\u001B[39;00m \u001B[38;5;28menumerate\u001B[39m(cv\u001B[38;5;241m.\u001B[39msplit(X_subj, y_)):\n\u001B[1;32m     23\u001B[0m     \u001B[38;5;66;03m# train/test split\u001B[39;00m\n\u001B[1;32m     24\u001B[0m     X_train, X_test \u001B[38;5;241m=\u001B[39m X_subj[train_outer_index], X_subj[test_outer_index]\n\u001B[1;32m     25\u001B[0m     y_train, y_test \u001B[38;5;241m=\u001B[39m y_[train_outer_index], y_[test_outer_index]\n",
      "File \u001B[0;32m~/opt/anaconda3/envs/ai/lib/python3.10/site-packages/sklearn/model_selection/_split.py:340\u001B[0m, in \u001B[0;36m_BaseKFold.split\u001B[0;34m(self, X, y, groups)\u001B[0m\n\u001B[1;32m    332\u001B[0m \u001B[38;5;28;01mif\u001B[39;00m \u001B[38;5;28mself\u001B[39m\u001B[38;5;241m.\u001B[39mn_splits \u001B[38;5;241m>\u001B[39m n_samples:\n\u001B[1;32m    333\u001B[0m     \u001B[38;5;28;01mraise\u001B[39;00m \u001B[38;5;167;01mValueError\u001B[39;00m(\n\u001B[1;32m    334\u001B[0m         (\n\u001B[1;32m    335\u001B[0m             \u001B[38;5;124m\"\u001B[39m\u001B[38;5;124mCannot have number of splits n_splits=\u001B[39m\u001B[38;5;132;01m{0}\u001B[39;00m\u001B[38;5;124m greater\u001B[39m\u001B[38;5;124m\"\u001B[39m\n\u001B[1;32m    336\u001B[0m             \u001B[38;5;124m\"\u001B[39m\u001B[38;5;124m than the number of samples: n_samples=\u001B[39m\u001B[38;5;132;01m{1}\u001B[39;00m\u001B[38;5;124m.\u001B[39m\u001B[38;5;124m\"\u001B[39m\n\u001B[1;32m    337\u001B[0m         )\u001B[38;5;241m.\u001B[39mformat(\u001B[38;5;28mself\u001B[39m\u001B[38;5;241m.\u001B[39mn_splits, n_samples)\n\u001B[1;32m    338\u001B[0m     )\n\u001B[0;32m--> 340\u001B[0m \u001B[38;5;28;01mfor\u001B[39;00m train, test \u001B[38;5;129;01min\u001B[39;00m \u001B[38;5;28msuper\u001B[39m()\u001B[38;5;241m.\u001B[39msplit(X, y, groups):\n\u001B[1;32m    341\u001B[0m     \u001B[38;5;28;01myield\u001B[39;00m train, test\n",
      "File \u001B[0;32m~/opt/anaconda3/envs/ai/lib/python3.10/site-packages/sklearn/model_selection/_split.py:86\u001B[0m, in \u001B[0;36mBaseCrossValidator.split\u001B[0;34m(self, X, y, groups)\u001B[0m\n\u001B[1;32m     84\u001B[0m X, y, groups \u001B[38;5;241m=\u001B[39m indexable(X, y, groups)\n\u001B[1;32m     85\u001B[0m indices \u001B[38;5;241m=\u001B[39m np\u001B[38;5;241m.\u001B[39marange(_num_samples(X))\n\u001B[0;32m---> 86\u001B[0m \u001B[38;5;28;01mfor\u001B[39;00m test_index \u001B[38;5;129;01min\u001B[39;00m \u001B[38;5;28mself\u001B[39m\u001B[38;5;241m.\u001B[39m_iter_test_masks(X, y, groups):\n\u001B[1;32m     87\u001B[0m     train_index \u001B[38;5;241m=\u001B[39m indices[np\u001B[38;5;241m.\u001B[39mlogical_not(test_index)]\n\u001B[1;32m     88\u001B[0m     test_index \u001B[38;5;241m=\u001B[39m indices[test_index]\n",
      "File \u001B[0;32m~/opt/anaconda3/envs/ai/lib/python3.10/site-packages/sklearn/model_selection/_split.py:717\u001B[0m, in \u001B[0;36mStratifiedKFold._iter_test_masks\u001B[0;34m(self, X, y, groups)\u001B[0m\n\u001B[1;32m    716\u001B[0m \u001B[38;5;28;01mdef\u001B[39;00m \u001B[38;5;21m_iter_test_masks\u001B[39m(\u001B[38;5;28mself\u001B[39m, X, y\u001B[38;5;241m=\u001B[39m\u001B[38;5;28;01mNone\u001B[39;00m, groups\u001B[38;5;241m=\u001B[39m\u001B[38;5;28;01mNone\u001B[39;00m):\n\u001B[0;32m--> 717\u001B[0m     test_folds \u001B[38;5;241m=\u001B[39m \u001B[38;5;28;43mself\u001B[39;49m\u001B[38;5;241;43m.\u001B[39;49m\u001B[43m_make_test_folds\u001B[49m\u001B[43m(\u001B[49m\u001B[43mX\u001B[49m\u001B[43m,\u001B[49m\u001B[43m \u001B[49m\u001B[43my\u001B[49m\u001B[43m)\u001B[49m\n\u001B[1;32m    718\u001B[0m     \u001B[38;5;28;01mfor\u001B[39;00m i \u001B[38;5;129;01min\u001B[39;00m \u001B[38;5;28mrange\u001B[39m(\u001B[38;5;28mself\u001B[39m\u001B[38;5;241m.\u001B[39mn_splits):\n\u001B[1;32m    719\u001B[0m         \u001B[38;5;28;01myield\u001B[39;00m test_folds \u001B[38;5;241m==\u001B[39m i\n",
      "File \u001B[0;32m~/opt/anaconda3/envs/ai/lib/python3.10/site-packages/sklearn/model_selection/_split.py:679\u001B[0m, in \u001B[0;36mStratifiedKFold._make_test_folds\u001B[0;34m(self, X, y)\u001B[0m\n\u001B[1;32m    677\u001B[0m min_groups \u001B[38;5;241m=\u001B[39m np\u001B[38;5;241m.\u001B[39mmin(y_counts)\n\u001B[1;32m    678\u001B[0m \u001B[38;5;28;01mif\u001B[39;00m np\u001B[38;5;241m.\u001B[39mall(\u001B[38;5;28mself\u001B[39m\u001B[38;5;241m.\u001B[39mn_splits \u001B[38;5;241m>\u001B[39m y_counts):\n\u001B[0;32m--> 679\u001B[0m     \u001B[38;5;28;01mraise\u001B[39;00m \u001B[38;5;167;01mValueError\u001B[39;00m(\n\u001B[1;32m    680\u001B[0m         \u001B[38;5;124m\"\u001B[39m\u001B[38;5;124mn_splits=\u001B[39m\u001B[38;5;132;01m%d\u001B[39;00m\u001B[38;5;124m cannot be greater than the\u001B[39m\u001B[38;5;124m\"\u001B[39m\n\u001B[1;32m    681\u001B[0m         \u001B[38;5;124m\"\u001B[39m\u001B[38;5;124m number of members in each class.\u001B[39m\u001B[38;5;124m\"\u001B[39m \u001B[38;5;241m%\u001B[39m (\u001B[38;5;28mself\u001B[39m\u001B[38;5;241m.\u001B[39mn_splits)\n\u001B[1;32m    682\u001B[0m     )\n\u001B[1;32m    683\u001B[0m \u001B[38;5;28;01mif\u001B[39;00m \u001B[38;5;28mself\u001B[39m\u001B[38;5;241m.\u001B[39mn_splits \u001B[38;5;241m>\u001B[39m min_groups:\n\u001B[1;32m    684\u001B[0m     warnings\u001B[38;5;241m.\u001B[39mwarn(\n\u001B[1;32m    685\u001B[0m         \u001B[38;5;124m\"\u001B[39m\u001B[38;5;124mThe least populated class in y has only \u001B[39m\u001B[38;5;132;01m%d\u001B[39;00m\u001B[38;5;124m\"\u001B[39m\n\u001B[1;32m    686\u001B[0m         \u001B[38;5;124m\"\u001B[39m\u001B[38;5;124m members, which is less than n_splits=\u001B[39m\u001B[38;5;132;01m%d\u001B[39;00m\u001B[38;5;124m.\u001B[39m\u001B[38;5;124m\"\u001B[39m\n\u001B[1;32m    687\u001B[0m         \u001B[38;5;241m%\u001B[39m (min_groups, \u001B[38;5;28mself\u001B[39m\u001B[38;5;241m.\u001B[39mn_splits),\n\u001B[1;32m    688\u001B[0m         \u001B[38;5;167;01mUserWarning\u001B[39;00m,\n\u001B[1;32m    689\u001B[0m     )\n",
      "\u001B[0;31mValueError\u001B[0m: n_splits=5 cannot be greater than the number of members in each class."
     ]
    }
   ],
   "source": [
    "for subj in (23, 24, 25, 27):\n",
    "    X_subj = X[[subject == subj for subject in subjects], :]\n",
    "    y_subj = y[[subject == subj for subject in subjects], :]\n",
    "    y_phf_subj, y_mf_subj = y_subj[:, 0], y_subj[:, 1]\n",
    "\n",
    "    # nested CV\n",
    "    folds = 5\n",
    "\n",
    "    with warnings.catch_warnings():\n",
    "        # ignore sklearn warning\n",
    "        warnings.filterwarnings('ignore')\n",
    "\n",
    "        for fatigue in ('Physical fatigue', 'Mental fatigue'):\n",
    "            # load labels\n",
    "            print(f'(subject {subj}) Starting cross-validation for {fatigue}')\n",
    "            y_ = {'Physical fatigue': y_phf_subj, 'Mental fatigue': y_mf_subj}[fatigue] # pick phF or MF\n",
    "\n",
    "            # CV: performance evaluation\n",
    "            cv = StratifiedKFold(n_splits=folds, shuffle=True, random_state=SEED) if SHUFFLE \\\n",
    "                else StratifiedKFold(n_splits=folds)\n",
    "            scores_cv = []\n",
    "            for i, (train_outer_index, test_outer_index) in enumerate(cv.split(X_subj, y_)):\n",
    "                # train/test split\n",
    "                X_train, X_test = X_subj[train_outer_index], X_subj[test_outer_index]\n",
    "                y_train, y_test = y_[train_outer_index], y_[test_outer_index]\n",
    "\n",
    "                # normalize features (acc.to train set)\n",
    "                if NORMALIZE_TRAIN:\n",
    "                    scaler = StandardScaler()\n",
    "                    scaler.fit(X_train)\n",
    "                    X_train = scaler.transform(X_train, copy=True)\n",
    "                    X_test = scaler.transform(X_test, copy=True)\n",
    "\n",
    "                # model\n",
    "                model = xgb.XGBClassifier(random_state=SEED, verbosity=0)\n",
    "\n",
    "                # training\n",
    "                model.fit(X_train, y_train)\n",
    "\n",
    "                # evaluate\n",
    "                y_pred = model.predict(X_test)\n",
    "                scores = evaluator(y_pred, y_test, verbose=False)\n",
    "                scores_cv.append(scores)\n",
    "\n",
    "            # final evaluation\n",
    "            print('Performance model:')\n",
    "            metrics = scores_cv[0].keys()\n",
    "            for metric in metrics:\n",
    "                # ignore confusion_matrix\n",
    "                if metric == 'confusion':\n",
    "                    continue\n",
    "                mean = np.mean([scores_cv_i[metric] for scores_cv_i in scores_cv])\n",
    "                std = np.std([scores_cv_i[metric] for scores_cv_i in scores_cv])\n",
    "                print(f' {metric}: {round(mean, 3)} +- {round(std, 3)} \\n')"
   ],
   "metadata": {
    "collapsed": false
   }
  },
  {
   "cell_type": "markdown",
   "source": [
    "# PCA"
   ],
   "metadata": {
    "collapsed": false
   }
  },
  {
   "cell_type": "code",
   "execution_count": 58,
   "outputs": [],
   "source": [
    "import pandas as pd\n",
    "import copy"
   ],
   "metadata": {
    "collapsed": false
   }
  },
  {
   "cell_type": "code",
   "execution_count": 59,
   "outputs": [
    {
     "data": {
      "text/plain": "<Figure size 800x800 with 1 Axes>",
      "image/png": "[encoded data removed]"
     },
     "metadata": {},
     "output_type": "display_data"
    }
   ],
   "source": [
    "# copy\n",
    "X_temp = copy.deepcopy(X)\n",
    "y_temp = copy.deepcopy(y_phf)\n",
    "\n",
    "# normalize\n",
    "scaler_temp = StandardScaler()\n",
    "X_temp = scaler_temp.fit_transform(X_temp)\n",
    "\n",
    "# PCA\n",
    "from sklearn.decomposition import PCA\n",
    "pca = PCA(n_components=2)\n",
    "principalComponents = pca.fit_transform(X_temp)\n",
    "principalDf = pd.DataFrame(data = principalComponents, columns = ['principal component 1', 'principal component 2'])\n",
    "\n",
    "# concat labels\n",
    "labels_temp = pd.DataFrame(data = y_temp, columns = ['target'])\n",
    "finalDf = pd.concat([principalDf, labels_temp[['target']]], axis = 1)\n",
    "\n",
    "# plot\n",
    "fig = plt.figure(figsize = (8,8))\n",
    "ax = fig.add_subplot(1,1,1)\n",
    "ax.set_xlabel('Principal Component 1', fontsize = 15)\n",
    "ax.set_ylabel('Principal Component 2', fontsize = 15)\n",
    "ax.set_title('2 component PCA', fontsize = 20)\n",
    "targets = [1, 0]\n",
    "colors = ['r', 'g']\n",
    "for target, color in zip(targets,colors):\n",
    "    indicesToKeep = finalDf['target'] == target\n",
    "    ax.scatter(finalDf.loc[indicesToKeep, 'principal component 1']\n",
    "               , finalDf.loc[indicesToKeep, 'principal component 2']\n",
    "               , c = color\n",
    "               , s = 50)\n",
    "ax.legend(targets)\n",
    "ax.grid()"
   ],
   "metadata": {
    "collapsed": false
   }
  },
  {
   "cell_type": "code",
   "execution_count": 71,
   "outputs": [
    {
     "data": {
      "text/plain": "<Figure size 800x800 with 1 Axes>",
      "image/png": "[encoded data removed]"
     },
     "metadata": {},
     "output_type": "display_data"
    }
   ],
   "source": [
    "# copy\n",
    "subj = 23\n",
    "X_temp = X[[subject == subj for subject in subjects], :]\n",
    "y_temp = y[[subject == subj for subject in subjects], :][:, 0]\n",
    "\n",
    "# normalize\n",
    "scaler_temp = StandardScaler()\n",
    "X_temp = scaler_temp.fit_transform(X_temp)\n",
    "\n",
    "# PCA\n",
    "from sklearn.decomposition import PCA\n",
    "pca = PCA(n_components=2)\n",
    "principalComponents = pca.fit_transform(X_temp)\n",
    "principalDf = pd.DataFrame(data = principalComponents, columns = ['principal component 1', 'principal component 2'])\n",
    "\n",
    "# concat labels\n",
    "labels_temp = pd.DataFrame(data = y_temp, columns = ['target'])\n",
    "finalDf = pd.concat([principalDf, labels_temp[['target']]], axis = 1)\n",
    "\n",
    "# plot\n",
    "fig = plt.figure(figsize = (8,8))\n",
    "ax = fig.add_subplot(1,1,1)\n",
    "ax.set_xlabel('Principal Component 1', fontsize = 15)\n",
    "ax.set_ylabel('Principal Component 2', fontsize = 15)\n",
    "ax.set_title('2 component PCA', fontsize = 20)\n",
    "targets = [1, 0]\n",
    "colors = ['r', 'g']\n",
    "for target, color in zip(targets,colors):\n",
    "    indicesToKeep = finalDf['target'] == target\n",
    "    ax.scatter(finalDf.loc[indicesToKeep, 'principal component 1']\n",
    "               , finalDf.loc[indicesToKeep, 'principal component 2']\n",
    "               , c = color\n",
    "               , s = 50)\n",
    "ax.legend(targets)\n",
    "ax.grid()"
   ],
   "metadata": {
    "collapsed": false
   }
  },
  {
   "cell_type": "code",
   "execution_count": null,
   "outputs": [],
   "source": [],
   "metadata": {
    "collapsed": false
   }
  }
 ],
 "metadata": {
  "kernelspec": {
   "display_name": "Python 3 (ipykernel)",
   "language": "python",
   "name": "python3"
  },
  "language_info": {
   "codemirror_mode": {
    "name": "ipython",
    "version": 3
   },
   "file_extension": ".py",
   "mimetype": "text/x-python",
   "name": "python",
   "nbconvert_exporter": "python",
   "pygments_lexer": "ipython3",
   "version": "3.10.6"
  }
 },
 "nbformat": 4,
 "nbformat_minor": 1
}